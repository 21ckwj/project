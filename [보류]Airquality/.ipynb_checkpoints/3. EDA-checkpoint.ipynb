{
 "cells": [
  {
   "cell_type": "code",
   "execution_count": 1,
   "id": "93b72968",
   "metadata": {
    "ExecuteTime": {
     "end_time": "2023-03-11T05:51:11.825419Z",
     "start_time": "2023-03-11T05:51:06.643638Z"
    }
   },
   "outputs": [],
   "source": [
    "import pandas as pd\n",
    "import numpy as np\n",
    "import matplotlib.pyplot as plt\n",
    "import seaborn as sns"
   ]
  },
  {
   "cell_type": "code",
   "execution_count": 2,
   "id": "87884b8d",
   "metadata": {
    "ExecuteTime": {
     "end_time": "2023-03-11T05:51:12.016915Z",
     "start_time": "2023-03-11T05:51:11.847195Z"
    }
   },
   "outputs": [
    {
     "data": {
      "text/html": [
       "<div>\n",
       "<style scoped>\n",
       "    .dataframe tbody tr th:only-of-type {\n",
       "        vertical-align: middle;\n",
       "    }\n",
       "\n",
       "    .dataframe tbody tr th {\n",
       "        vertical-align: top;\n",
       "    }\n",
       "\n",
       "    .dataframe thead th {\n",
       "        text-align: right;\n",
       "    }\n",
       "</style>\n",
       "<table border=\"1\" class=\"dataframe\">\n",
       "  <thead>\n",
       "    <tr style=\"text-align: right;\">\n",
       "      <th></th>\n",
       "      <th>CO_true</th>\n",
       "      <th>CO_sensor</th>\n",
       "      <th>NMHC_true</th>\n",
       "      <th>C6H6_true</th>\n",
       "      <th>NMHC_sensor</th>\n",
       "      <th>NOx_true</th>\n",
       "      <th>NOx_sensor</th>\n",
       "      <th>NO2_true</th>\n",
       "      <th>NO2_sensor</th>\n",
       "      <th>O3_sensor</th>\n",
       "      <th>T</th>\n",
       "      <th>RH</th>\n",
       "      <th>AH</th>\n",
       "    </tr>\n",
       "    <tr>\n",
       "      <th>date</th>\n",
       "      <th></th>\n",
       "      <th></th>\n",
       "      <th></th>\n",
       "      <th></th>\n",
       "      <th></th>\n",
       "      <th></th>\n",
       "      <th></th>\n",
       "      <th></th>\n",
       "      <th></th>\n",
       "      <th></th>\n",
       "      <th></th>\n",
       "      <th></th>\n",
       "      <th></th>\n",
       "    </tr>\n",
       "  </thead>\n",
       "  <tbody>\n",
       "    <tr>\n",
       "      <th>2004-03-04 00:00:00</th>\n",
       "      <td>1.6</td>\n",
       "      <td>1254.0</td>\n",
       "      <td>139.0</td>\n",
       "      <td>9.0</td>\n",
       "      <td>941.0</td>\n",
       "      <td>98.0</td>\n",
       "      <td>828.0</td>\n",
       "      <td>106.0</td>\n",
       "      <td>1566.0</td>\n",
       "      <td>1270.0</td>\n",
       "      <td>17.1</td>\n",
       "      <td>51.8</td>\n",
       "      <td>0.9990</td>\n",
       "    </tr>\n",
       "    <tr>\n",
       "      <th>2004-03-04 01:00:00</th>\n",
       "      <td>1.3</td>\n",
       "      <td>1141.0</td>\n",
       "      <td>98.0</td>\n",
       "      <td>6.3</td>\n",
       "      <td>827.0</td>\n",
       "      <td>73.0</td>\n",
       "      <td>936.0</td>\n",
       "      <td>88.0</td>\n",
       "      <td>1488.0</td>\n",
       "      <td>1110.0</td>\n",
       "      <td>16.2</td>\n",
       "      <td>54.2</td>\n",
       "      <td>0.9933</td>\n",
       "    </tr>\n",
       "    <tr>\n",
       "      <th>2004-03-04 02:00:00</th>\n",
       "      <td>1.2</td>\n",
       "      <td>1141.0</td>\n",
       "      <td>88.0</td>\n",
       "      <td>5.3</td>\n",
       "      <td>777.0</td>\n",
       "      <td>69.0</td>\n",
       "      <td>986.0</td>\n",
       "      <td>83.0</td>\n",
       "      <td>1455.0</td>\n",
       "      <td>1060.0</td>\n",
       "      <td>15.1</td>\n",
       "      <td>58.2</td>\n",
       "      <td>0.9886</td>\n",
       "    </tr>\n",
       "    <tr>\n",
       "      <th>2004-03-04 03:00:00</th>\n",
       "      <td>0.9</td>\n",
       "      <td>1042.0</td>\n",
       "      <td>66.0</td>\n",
       "      <td>3.8</td>\n",
       "      <td>697.0</td>\n",
       "      <td>-200.0</td>\n",
       "      <td>1056.0</td>\n",
       "      <td>-200.0</td>\n",
       "      <td>1410.0</td>\n",
       "      <td>965.0</td>\n",
       "      <td>15.1</td>\n",
       "      <td>57.6</td>\n",
       "      <td>0.9796</td>\n",
       "    </tr>\n",
       "    <tr>\n",
       "      <th>2004-03-04 04:00:00</th>\n",
       "      <td>0.8</td>\n",
       "      <td>986.0</td>\n",
       "      <td>57.0</td>\n",
       "      <td>3.0</td>\n",
       "      <td>651.0</td>\n",
       "      <td>60.0</td>\n",
       "      <td>1145.0</td>\n",
       "      <td>74.0</td>\n",
       "      <td>1380.0</td>\n",
       "      <td>891.0</td>\n",
       "      <td>14.5</td>\n",
       "      <td>58.0</td>\n",
       "      <td>0.9488</td>\n",
       "    </tr>\n",
       "  </tbody>\n",
       "</table>\n",
       "</div>"
      ],
      "text/plain": [
       "                     CO_true  CO_sensor  NMHC_true  C6H6_true  NMHC_sensor  \\\n",
       "date                                                                         \n",
       "2004-03-04 00:00:00      1.6     1254.0      139.0        9.0        941.0   \n",
       "2004-03-04 01:00:00      1.3     1141.0       98.0        6.3        827.0   \n",
       "2004-03-04 02:00:00      1.2     1141.0       88.0        5.3        777.0   \n",
       "2004-03-04 03:00:00      0.9     1042.0       66.0        3.8        697.0   \n",
       "2004-03-04 04:00:00      0.8      986.0       57.0        3.0        651.0   \n",
       "\n",
       "                     NOx_true  NOx_sensor  NO2_true  NO2_sensor  O3_sensor  \\\n",
       "date                                                                         \n",
       "2004-03-04 00:00:00      98.0       828.0     106.0      1566.0     1270.0   \n",
       "2004-03-04 01:00:00      73.0       936.0      88.0      1488.0     1110.0   \n",
       "2004-03-04 02:00:00      69.0       986.0      83.0      1455.0     1060.0   \n",
       "2004-03-04 03:00:00    -200.0      1056.0    -200.0      1410.0      965.0   \n",
       "2004-03-04 04:00:00      60.0      1145.0      74.0      1380.0      891.0   \n",
       "\n",
       "                        T    RH      AH  \n",
       "date                                     \n",
       "2004-03-04 00:00:00  17.1  51.8  0.9990  \n",
       "2004-03-04 01:00:00  16.2  54.2  0.9933  \n",
       "2004-03-04 02:00:00  15.1  58.2  0.9886  \n",
       "2004-03-04 03:00:00  15.1  57.6  0.9796  \n",
       "2004-03-04 04:00:00  14.5  58.0  0.9488  "
      ]
     },
     "execution_count": 2,
     "metadata": {},
     "output_type": "execute_result"
    }
   ],
   "source": [
    "data = pd.read_csv('./data/AirQaulity_ffill.csv',parse_dates=True, index_col=0)\n",
    "data.head()"
   ]
  },
  {
   "cell_type": "code",
   "execution_count": 3,
   "id": "3878fccc",
   "metadata": {
    "ExecuteTime": {
     "end_time": "2023-03-11T05:51:12.111486Z",
     "start_time": "2023-03-11T05:51:12.084598Z"
    }
   },
   "outputs": [],
   "source": [
    "# 1,2, 전처리 내용을 합한 함수\n",
    "def load_data():\n",
    "    df = pd.read_csv('./data/AirQualityUCI/AirQualityUCI.csv',delimiter=';')\n",
    "    \n",
    "    # 비어있는 열 제거\n",
    "    df = df.drop(columns=['Unnamed: 15','Unnamed: 16'])\n",
    "    \n",
    "    # 날짜 시간 합친 인덱스 설정\n",
    "    df['Time'] = df['Time'].str.replace(\".\",\":\")\n",
    "    df['date'] = pd.to_datetime(df['Date'] +\" \"+ df['Time'])\n",
    "    df = df.drop(columns=['Date','Time'])\n",
    "    \n",
    "    df = df.sort_values('date')\n",
    "    df = df.set_index('date')\n",
    "    \n",
    "    # object -> float\n",
    "    for col in df.select_dtypes('object').columns:\n",
    "        df[col] = df[col].str.replace(\",\",\".\")\n",
    "        df[col] = pd.to_numeric(df[col])\n",
    "        \n",
    "    # 컬럼 이름 변경\n",
    "    new_cols = ['CO_true','CO_sensor',\n",
    "            'NMHC_true','C6H6_true',\n",
    "            'NMHC_sensor','NOx_true',\n",
    "           'NOx_sensor','NO2_true',\n",
    "           'NO2_sensor','O3_sensor',\n",
    "           'T','RH','AH']\n",
    "    \n",
    "    df.columns = new_cols\n",
    "    \n",
    "    # 기간 설정\n",
    "    df = data.loc[\"2004-03-04\":\"2005-03-04\"].copy()\n",
    "    \n",
    "    # 음수값 제거\n",
    "    df = df[df['CO_sensor']>0]\n",
    "    \n",
    "    # 1시간 간격으로 맞추기 + 채우기\n",
    "    df_ = df.asfreq(\"1H\")\n",
    "    df_ = df_.fillna(method='ffill')\n",
    "    \n",
    "    return df_"
   ]
  },
  {
   "cell_type": "code",
   "execution_count": 4,
   "id": "f309f838",
   "metadata": {
    "ExecuteTime": {
     "end_time": "2023-03-11T05:51:18.333453Z",
     "start_time": "2023-03-11T05:51:12.230179Z"
    }
   },
   "outputs": [
    {
     "name": "stderr",
     "output_type": "stream",
     "text": [
      "C:\\Users\\21ckw\\AppData\\Local\\Temp/ipykernel_22888/524538656.py:9: FutureWarning: The default value of regex will change from True to False in a future version. In addition, single character regular expressions will *not* be treated as literal strings when regex=True.\n",
      "  df['Time'] = df['Time'].str.replace(\".\",\":\")\n"
     ]
    },
    {
     "data": {
      "text/html": [
       "<div>\n",
       "<style scoped>\n",
       "    .dataframe tbody tr th:only-of-type {\n",
       "        vertical-align: middle;\n",
       "    }\n",
       "\n",
       "    .dataframe tbody tr th {\n",
       "        vertical-align: top;\n",
       "    }\n",
       "\n",
       "    .dataframe thead th {\n",
       "        text-align: right;\n",
       "    }\n",
       "</style>\n",
       "<table border=\"1\" class=\"dataframe\">\n",
       "  <thead>\n",
       "    <tr style=\"text-align: right;\">\n",
       "      <th></th>\n",
       "      <th>CO_true</th>\n",
       "      <th>CO_sensor</th>\n",
       "      <th>NMHC_true</th>\n",
       "      <th>C6H6_true</th>\n",
       "      <th>NMHC_sensor</th>\n",
       "      <th>NOx_true</th>\n",
       "      <th>NOx_sensor</th>\n",
       "      <th>NO2_true</th>\n",
       "      <th>NO2_sensor</th>\n",
       "      <th>O3_sensor</th>\n",
       "      <th>T</th>\n",
       "      <th>RH</th>\n",
       "      <th>AH</th>\n",
       "    </tr>\n",
       "    <tr>\n",
       "      <th>date</th>\n",
       "      <th></th>\n",
       "      <th></th>\n",
       "      <th></th>\n",
       "      <th></th>\n",
       "      <th></th>\n",
       "      <th></th>\n",
       "      <th></th>\n",
       "      <th></th>\n",
       "      <th></th>\n",
       "      <th></th>\n",
       "      <th></th>\n",
       "      <th></th>\n",
       "      <th></th>\n",
       "    </tr>\n",
       "  </thead>\n",
       "  <tbody>\n",
       "    <tr>\n",
       "      <th>2004-03-04 00:00:00</th>\n",
       "      <td>1.6</td>\n",
       "      <td>1254.0</td>\n",
       "      <td>139.0</td>\n",
       "      <td>9.0</td>\n",
       "      <td>941.0</td>\n",
       "      <td>98.0</td>\n",
       "      <td>828.0</td>\n",
       "      <td>106.0</td>\n",
       "      <td>1566.0</td>\n",
       "      <td>1270.0</td>\n",
       "      <td>17.1</td>\n",
       "      <td>51.8</td>\n",
       "      <td>0.9990</td>\n",
       "    </tr>\n",
       "    <tr>\n",
       "      <th>2004-03-04 01:00:00</th>\n",
       "      <td>1.3</td>\n",
       "      <td>1141.0</td>\n",
       "      <td>98.0</td>\n",
       "      <td>6.3</td>\n",
       "      <td>827.0</td>\n",
       "      <td>73.0</td>\n",
       "      <td>936.0</td>\n",
       "      <td>88.0</td>\n",
       "      <td>1488.0</td>\n",
       "      <td>1110.0</td>\n",
       "      <td>16.2</td>\n",
       "      <td>54.2</td>\n",
       "      <td>0.9933</td>\n",
       "    </tr>\n",
       "    <tr>\n",
       "      <th>2004-03-04 02:00:00</th>\n",
       "      <td>1.2</td>\n",
       "      <td>1141.0</td>\n",
       "      <td>88.0</td>\n",
       "      <td>5.3</td>\n",
       "      <td>777.0</td>\n",
       "      <td>69.0</td>\n",
       "      <td>986.0</td>\n",
       "      <td>83.0</td>\n",
       "      <td>1455.0</td>\n",
       "      <td>1060.0</td>\n",
       "      <td>15.1</td>\n",
       "      <td>58.2</td>\n",
       "      <td>0.9886</td>\n",
       "    </tr>\n",
       "    <tr>\n",
       "      <th>2004-03-04 03:00:00</th>\n",
       "      <td>0.9</td>\n",
       "      <td>1042.0</td>\n",
       "      <td>66.0</td>\n",
       "      <td>3.8</td>\n",
       "      <td>697.0</td>\n",
       "      <td>-200.0</td>\n",
       "      <td>1056.0</td>\n",
       "      <td>-200.0</td>\n",
       "      <td>1410.0</td>\n",
       "      <td>965.0</td>\n",
       "      <td>15.1</td>\n",
       "      <td>57.6</td>\n",
       "      <td>0.9796</td>\n",
       "    </tr>\n",
       "    <tr>\n",
       "      <th>2004-03-04 04:00:00</th>\n",
       "      <td>0.8</td>\n",
       "      <td>986.0</td>\n",
       "      <td>57.0</td>\n",
       "      <td>3.0</td>\n",
       "      <td>651.0</td>\n",
       "      <td>60.0</td>\n",
       "      <td>1145.0</td>\n",
       "      <td>74.0</td>\n",
       "      <td>1380.0</td>\n",
       "      <td>891.0</td>\n",
       "      <td>14.5</td>\n",
       "      <td>58.0</td>\n",
       "      <td>0.9488</td>\n",
       "    </tr>\n",
       "  </tbody>\n",
       "</table>\n",
       "</div>"
      ],
      "text/plain": [
       "                     CO_true  CO_sensor  NMHC_true  C6H6_true  NMHC_sensor  \\\n",
       "date                                                                         \n",
       "2004-03-04 00:00:00      1.6     1254.0      139.0        9.0        941.0   \n",
       "2004-03-04 01:00:00      1.3     1141.0       98.0        6.3        827.0   \n",
       "2004-03-04 02:00:00      1.2     1141.0       88.0        5.3        777.0   \n",
       "2004-03-04 03:00:00      0.9     1042.0       66.0        3.8        697.0   \n",
       "2004-03-04 04:00:00      0.8      986.0       57.0        3.0        651.0   \n",
       "\n",
       "                     NOx_true  NOx_sensor  NO2_true  NO2_sensor  O3_sensor  \\\n",
       "date                                                                         \n",
       "2004-03-04 00:00:00      98.0       828.0     106.0      1566.0     1270.0   \n",
       "2004-03-04 01:00:00      73.0       936.0      88.0      1488.0     1110.0   \n",
       "2004-03-04 02:00:00      69.0       986.0      83.0      1455.0     1060.0   \n",
       "2004-03-04 03:00:00    -200.0      1056.0    -200.0      1410.0      965.0   \n",
       "2004-03-04 04:00:00      60.0      1145.0      74.0      1380.0      891.0   \n",
       "\n",
       "                        T    RH      AH  \n",
       "date                                     \n",
       "2004-03-04 00:00:00  17.1  51.8  0.9990  \n",
       "2004-03-04 01:00:00  16.2  54.2  0.9933  \n",
       "2004-03-04 02:00:00  15.1  58.2  0.9886  \n",
       "2004-03-04 03:00:00  15.1  57.6  0.9796  \n",
       "2004-03-04 04:00:00  14.5  58.0  0.9488  "
      ]
     },
     "execution_count": 4,
     "metadata": {},
     "output_type": "execute_result"
    }
   ],
   "source": [
    "df = load_data()\n",
    "df.head()"
   ]
  },
  {
   "cell_type": "code",
   "execution_count": 5,
   "id": "2a904b08",
   "metadata": {
    "ExecuteTime": {
     "end_time": "2023-03-11T05:51:18.442988Z",
     "start_time": "2023-03-11T05:51:18.431020Z"
    }
   },
   "outputs": [
    {
     "data": {
      "text/plain": [
       "8784"
      ]
     },
     "execution_count": 5,
     "metadata": {},
     "output_type": "execute_result"
    }
   ],
   "source": [
    "len(df)"
   ]
  },
  {
   "cell_type": "code",
   "execution_count": 6,
   "id": "07dba514",
   "metadata": {
    "ExecuteTime": {
     "end_time": "2023-03-11T05:51:19.822857Z",
     "start_time": "2023-03-11T05:51:18.525767Z"
    }
   },
   "outputs": [
    {
     "data": {
      "text/plain": [
       "<AxesSubplot:xlabel='date'>"
      ]
     },
     "execution_count": 6,
     "metadata": {},
     "output_type": "execute_result"
    },
    {
     "data": {
      "image/png": "[encoded data removed]",
      "text/plain": [
       "<Figure size 720x360 with 1 Axes>"
      ]
     },
     "metadata": {
      "needs_background": "light"
     },
     "output_type": "display_data"
    }
   ],
   "source": [
    "# 시각화로 확인\n",
    "fig, axs = plt.subplots(figsize=(10,5), constrained_layout=True)\n",
    "df['CO_sensor'].plot(ax=axs)"
   ]
  },
  {
   "cell_type": "markdown",
   "id": "3f1a5b53",
   "metadata": {},
   "source": [
    "# EDA"
   ]
  },
  {
   "cell_type": "markdown",
   "id": "910ef567",
   "metadata": {
    "ExecuteTime": {
     "end_time": "2023-02-20T15:03:07.338151Z",
     "start_time": "2023-02-20T15:03:07.321182Z"
    }
   },
   "source": [
    "* 2005년 2월 한달 동안의 CO_sensor 의 수치를 예측\n",
    "* 아쉽게 2005년 데이터에 Nan값이 많아 가능하다면 보간법으로 채워줄 예정"
   ]
  },
  {
   "cell_type": "markdown",
   "id": "a8cada9d",
   "metadata": {},
   "source": [
    "## date feature"
   ]
  },
  {
   "cell_type": "code",
   "execution_count": 7,
   "id": "678bdb9e",
   "metadata": {
    "ExecuteTime": {
     "end_time": "2023-03-11T05:51:19.946628Z",
     "start_time": "2023-03-11T05:51:19.904639Z"
    }
   },
   "outputs": [],
   "source": [
    "df['year'] = df.index.year\n",
    "df['month'] = df.index.month\n",
    "df['day'] = df.index.day\n",
    "df['day_of_week'] = df.index.day_of_week\n",
    "df['hour'] = df.index.hour\n",
    "\n",
    "# 주말여부\n",
    "df['is_weekend'] = np.where(df['day_of_week']>4,1,0)"
   ]
  },
  {
   "cell_type": "code",
   "execution_count": 8,
   "id": "d2a87fec",
   "metadata": {
    "ExecuteTime": {
     "end_time": "2023-03-11T05:51:20.133112Z",
     "start_time": "2023-03-11T05:51:20.044267Z"
    },
    "scrolled": true
   },
   "outputs": [
    {
     "data": {
      "text/html": [
       "<div>\n",
       "<style scoped>\n",
       "    .dataframe tbody tr th:only-of-type {\n",
       "        vertical-align: middle;\n",
       "    }\n",
       "\n",
       "    .dataframe tbody tr th {\n",
       "        vertical-align: top;\n",
       "    }\n",
       "\n",
       "    .dataframe thead th {\n",
       "        text-align: right;\n",
       "    }\n",
       "</style>\n",
       "<table border=\"1\" class=\"dataframe\">\n",
       "  <thead>\n",
       "    <tr style=\"text-align: right;\">\n",
       "      <th></th>\n",
       "      <th>CO_true</th>\n",
       "      <th>CO_sensor</th>\n",
       "      <th>NMHC_true</th>\n",
       "      <th>C6H6_true</th>\n",
       "      <th>NMHC_sensor</th>\n",
       "      <th>NOx_true</th>\n",
       "      <th>NOx_sensor</th>\n",
       "      <th>NO2_true</th>\n",
       "      <th>NO2_sensor</th>\n",
       "      <th>O3_sensor</th>\n",
       "      <th>T</th>\n",
       "      <th>RH</th>\n",
       "      <th>AH</th>\n",
       "      <th>year</th>\n",
       "      <th>month</th>\n",
       "      <th>day</th>\n",
       "      <th>day_of_week</th>\n",
       "      <th>hour</th>\n",
       "      <th>is_weekend</th>\n",
       "    </tr>\n",
       "    <tr>\n",
       "      <th>date</th>\n",
       "      <th></th>\n",
       "      <th></th>\n",
       "      <th></th>\n",
       "      <th></th>\n",
       "      <th></th>\n",
       "      <th></th>\n",
       "      <th></th>\n",
       "      <th></th>\n",
       "      <th></th>\n",
       "      <th></th>\n",
       "      <th></th>\n",
       "      <th></th>\n",
       "      <th></th>\n",
       "      <th></th>\n",
       "      <th></th>\n",
       "      <th></th>\n",
       "      <th></th>\n",
       "      <th></th>\n",
       "      <th></th>\n",
       "    </tr>\n",
       "  </thead>\n",
       "  <tbody>\n",
       "    <tr>\n",
       "      <th>2004-03-04 00:00:00</th>\n",
       "      <td>1.6</td>\n",
       "      <td>1254.0</td>\n",
       "      <td>139.0</td>\n",
       "      <td>9.0</td>\n",
       "      <td>941.0</td>\n",
       "      <td>98.0</td>\n",
       "      <td>828.0</td>\n",
       "      <td>106.0</td>\n",
       "      <td>1566.0</td>\n",
       "      <td>1270.0</td>\n",
       "      <td>17.1</td>\n",
       "      <td>51.8</td>\n",
       "      <td>0.9990</td>\n",
       "      <td>2004</td>\n",
       "      <td>3</td>\n",
       "      <td>4</td>\n",
       "      <td>3</td>\n",
       "      <td>0</td>\n",
       "      <td>0</td>\n",
       "    </tr>\n",
       "    <tr>\n",
       "      <th>2004-03-04 01:00:00</th>\n",
       "      <td>1.3</td>\n",
       "      <td>1141.0</td>\n",
       "      <td>98.0</td>\n",
       "      <td>6.3</td>\n",
       "      <td>827.0</td>\n",
       "      <td>73.0</td>\n",
       "      <td>936.0</td>\n",
       "      <td>88.0</td>\n",
       "      <td>1488.0</td>\n",
       "      <td>1110.0</td>\n",
       "      <td>16.2</td>\n",
       "      <td>54.2</td>\n",
       "      <td>0.9933</td>\n",
       "      <td>2004</td>\n",
       "      <td>3</td>\n",
       "      <td>4</td>\n",
       "      <td>3</td>\n",
       "      <td>1</td>\n",
       "      <td>0</td>\n",
       "    </tr>\n",
       "    <tr>\n",
       "      <th>2004-03-04 02:00:00</th>\n",
       "      <td>1.2</td>\n",
       "      <td>1141.0</td>\n",
       "      <td>88.0</td>\n",
       "      <td>5.3</td>\n",
       "      <td>777.0</td>\n",
       "      <td>69.0</td>\n",
       "      <td>986.0</td>\n",
       "      <td>83.0</td>\n",
       "      <td>1455.0</td>\n",
       "      <td>1060.0</td>\n",
       "      <td>15.1</td>\n",
       "      <td>58.2</td>\n",
       "      <td>0.9886</td>\n",
       "      <td>2004</td>\n",
       "      <td>3</td>\n",
       "      <td>4</td>\n",
       "      <td>3</td>\n",
       "      <td>2</td>\n",
       "      <td>0</td>\n",
       "    </tr>\n",
       "    <tr>\n",
       "      <th>2004-03-04 03:00:00</th>\n",
       "      <td>0.9</td>\n",
       "      <td>1042.0</td>\n",
       "      <td>66.0</td>\n",
       "      <td>3.8</td>\n",
       "      <td>697.0</td>\n",
       "      <td>-200.0</td>\n",
       "      <td>1056.0</td>\n",
       "      <td>-200.0</td>\n",
       "      <td>1410.0</td>\n",
       "      <td>965.0</td>\n",
       "      <td>15.1</td>\n",
       "      <td>57.6</td>\n",
       "      <td>0.9796</td>\n",
       "      <td>2004</td>\n",
       "      <td>3</td>\n",
       "      <td>4</td>\n",
       "      <td>3</td>\n",
       "      <td>3</td>\n",
       "      <td>0</td>\n",
       "    </tr>\n",
       "    <tr>\n",
       "      <th>2004-03-04 04:00:00</th>\n",
       "      <td>0.8</td>\n",
       "      <td>986.0</td>\n",
       "      <td>57.0</td>\n",
       "      <td>3.0</td>\n",
       "      <td>651.0</td>\n",
       "      <td>60.0</td>\n",
       "      <td>1145.0</td>\n",
       "      <td>74.0</td>\n",
       "      <td>1380.0</td>\n",
       "      <td>891.0</td>\n",
       "      <td>14.5</td>\n",
       "      <td>58.0</td>\n",
       "      <td>0.9488</td>\n",
       "      <td>2004</td>\n",
       "      <td>3</td>\n",
       "      <td>4</td>\n",
       "      <td>3</td>\n",
       "      <td>4</td>\n",
       "      <td>0</td>\n",
       "    </tr>\n",
       "  </tbody>\n",
       "</table>\n",
       "</div>"
      ],
      "text/plain": [
       "                     CO_true  CO_sensor  NMHC_true  C6H6_true  NMHC_sensor  \\\n",
       "date                                                                         \n",
       "2004-03-04 00:00:00      1.6     1254.0      139.0        9.0        941.0   \n",
       "2004-03-04 01:00:00      1.3     1141.0       98.0        6.3        827.0   \n",
       "2004-03-04 02:00:00      1.2     1141.0       88.0        5.3        777.0   \n",
       "2004-03-04 03:00:00      0.9     1042.0       66.0        3.8        697.0   \n",
       "2004-03-04 04:00:00      0.8      986.0       57.0        3.0        651.0   \n",
       "\n",
       "                     NOx_true  NOx_sensor  NO2_true  NO2_sensor  O3_sensor  \\\n",
       "date                                                                         \n",
       "2004-03-04 00:00:00      98.0       828.0     106.0      1566.0     1270.0   \n",
       "2004-03-04 01:00:00      73.0       936.0      88.0      1488.0     1110.0   \n",
       "2004-03-04 02:00:00      69.0       986.0      83.0      1455.0     1060.0   \n",
       "2004-03-04 03:00:00    -200.0      1056.0    -200.0      1410.0      965.0   \n",
       "2004-03-04 04:00:00      60.0      1145.0      74.0      1380.0      891.0   \n",
       "\n",
       "                        T    RH      AH  year  month  day  day_of_week  hour  \\\n",
       "date                                                                           \n",
       "2004-03-04 00:00:00  17.1  51.8  0.9990  2004      3    4            3     0   \n",
       "2004-03-04 01:00:00  16.2  54.2  0.9933  2004      3    4            3     1   \n",
       "2004-03-04 02:00:00  15.1  58.2  0.9886  2004      3    4            3     2   \n",
       "2004-03-04 03:00:00  15.1  57.6  0.9796  2004      3    4            3     3   \n",
       "2004-03-04 04:00:00  14.5  58.0  0.9488  2004      3    4            3     4   \n",
       "\n",
       "                     is_weekend  \n",
       "date                             \n",
       "2004-03-04 00:00:00           0  \n",
       "2004-03-04 01:00:00           0  \n",
       "2004-03-04 02:00:00           0  \n",
       "2004-03-04 03:00:00           0  \n",
       "2004-03-04 04:00:00           0  "
      ]
     },
     "execution_count": 8,
     "metadata": {},
     "output_type": "execute_result"
    }
   ],
   "source": [
    "df.head()"
   ]
  },
  {
   "cell_type": "code",
   "execution_count": 9,
   "id": "9c0087aa",
   "metadata": {
    "ExecuteTime": {
     "end_time": "2023-03-11T05:51:21.803562Z",
     "start_time": "2023-03-11T05:51:20.232762Z"
    }
   },
   "outputs": [
    {
     "data": {
      "text/plain": [
       "<AxesSubplot:xlabel='month', ylabel='CO_sensor'>"
      ]
     },
     "execution_count": 9,
     "metadata": {},
     "output_type": "execute_result"
    },
    {
     "data": {
      "image/png": "[encoded data removed]",
      "text/plain": [
       "<Figure size 576x360 with 1 Axes>"
      ]
     },
     "metadata": {
      "needs_background": "light"
     },
     "output_type": "display_data"
    }
   ],
   "source": [
    "# 월별\n",
    "plt.figure(figsize=(8,5))\n",
    "sns.barplot(data=df, x='month', y='CO_sensor')"
   ]
  },
  {
   "cell_type": "code",
   "execution_count": 10,
   "id": "2b9704f3",
   "metadata": {
    "ExecuteTime": {
     "end_time": "2023-03-11T05:51:23.082248Z",
     "start_time": "2023-03-11T05:51:21.885407Z"
    }
   },
   "outputs": [
    {
     "data": {
      "text/plain": [
       "<AxesSubplot:xlabel='day_of_week', ylabel='CO_sensor'>"
      ]
     },
     "execution_count": 10,
     "metadata": {},
     "output_type": "execute_result"
    },
    {
     "data": {
      "image/png": "[encoded data removed]",
      "text/plain": [
       "<Figure size 576x360 with 1 Axes>"
      ]
     },
     "metadata": {
      "needs_background": "light"
     },
     "output_type": "display_data"
    }
   ],
   "source": [
    "# 요일별\n",
    "# 주말에 적을 것이라 생각했지만 별 차이 없음\n",
    "plt.figure(figsize=(8,5))\n",
    "sns.barplot(data=df, x='day_of_week', y='CO_sensor')"
   ]
  },
  {
   "cell_type": "code",
   "execution_count": 11,
   "id": "f4195d29",
   "metadata": {
    "ExecuteTime": {
     "end_time": "2023-03-11T05:51:26.751332Z",
     "start_time": "2023-03-11T05:51:23.178884Z"
    }
   },
   "outputs": [
    {
     "data": {
      "text/plain": [
       "<AxesSubplot:xlabel='hour', ylabel='CO_sensor'>"
      ]
     },
     "execution_count": 11,
     "metadata": {},
     "output_type": "execute_result"
    },
    {
     "data": {
      "image/png": "[encoded data removed]",
      "text/plain": [
       "<Figure size 576x360 with 1 Axes>"
      ]
     },
     "metadata": {
      "needs_background": "light"
     },
     "output_type": "display_data"
    }
   ],
   "source": [
    "# 시간별\n",
    "# 새벽에 적고 출퇴근 시간에 많아짐\n",
    "plt.figure(figsize=(8,5))\n",
    "sns.barplot(data=df, x='hour', y='CO_sensor')"
   ]
  },
  {
   "cell_type": "code",
   "execution_count": null,
   "id": "6bfd975f",
   "metadata": {},
   "outputs": [],
   "source": [
    "# barplot 으로 잘 나타나지 않음"
   ]
  },
  {
   "cell_type": "code",
   "execution_count": null,
   "id": "9fc8e1c7",
   "metadata": {},
   "outputs": [],
   "source": []
  },
  {
   "cell_type": "code",
   "execution_count": null,
   "id": "a06b8c18",
   "metadata": {},
   "outputs": [],
   "source": []
  },
  {
   "cell_type": "code",
   "execution_count": null,
   "id": "85eaa465",
   "metadata": {},
   "outputs": [],
   "source": []
  },
  {
   "cell_type": "code",
   "execution_count": null,
   "id": "5224f8df",
   "metadata": {},
   "outputs": [],
   "source": []
  },
  {
   "cell_type": "code",
   "execution_count": null,
   "id": "a9a5997c",
   "metadata": {},
   "outputs": [],
   "source": []
  },
  {
   "cell_type": "code",
   "execution_count": null,
   "id": "e5f58df5",
   "metadata": {},
   "outputs": [],
   "source": []
  },
  {
   "cell_type": "code",
   "execution_count": null,
   "id": "6f626ba7",
   "metadata": {},
   "outputs": [],
   "source": []
  },
  {
   "cell_type": "code",
   "execution_count": null,
   "id": "45784d5c",
   "metadata": {},
   "outputs": [],
   "source": []
  },
  {
   "cell_type": "code",
   "execution_count": null,
   "id": "66370a19",
   "metadata": {},
   "outputs": [],
   "source": []
  },
  {
   "cell_type": "code",
   "execution_count": null,
   "id": "94ce78bd",
   "metadata": {},
   "outputs": [],
   "source": []
  },
  {
   "cell_type": "code",
   "execution_count": null,
   "id": "e29f2afb",
   "metadata": {},
   "outputs": [],
   "source": []
  },
  {
   "cell_type": "code",
   "execution_count": null,
   "id": "5ad42e27",
   "metadata": {},
   "outputs": [],
   "source": []
  },
  {
   "cell_type": "code",
   "execution_count": null,
   "id": "3587a356",
   "metadata": {},
   "outputs": [],
   "source": []
  },
  {
   "cell_type": "code",
   "execution_count": null,
   "id": "da984d8f",
   "metadata": {},
   "outputs": [],
   "source": []
  },
  {
   "cell_type": "code",
   "execution_count": null,
   "id": "4e4cb41d",
   "metadata": {},
   "outputs": [],
   "source": []
  },
  {
   "cell_type": "code",
   "execution_count": null,
   "id": "f24627ba",
   "metadata": {},
   "outputs": [],
   "source": []
  },
  {
   "cell_type": "code",
   "execution_count": null,
   "id": "ff441225",
   "metadata": {},
   "outputs": [],
   "source": []
  }
 ],
 "metadata": {
  "kernelspec": {
   "display_name": "Python 3 (ipykernel)",
   "language": "python",
   "name": "python3"
  },
  "language_info": {
   "codemirror_mode": {
    "name": "ipython",
    "version": 3
   },
   "file_extension": ".py",
   "mimetype": "text/x-python",
   "name": "python",
   "nbconvert_exporter": "python",
   "pygments_lexer": "ipython3",
   "version": "3.9.7"
  },
  "toc": {
   "base_numbering": 1,
   "nav_menu": {},
   "number_sections": true,
   "sideBar": true,
   "skip_h1_title": false,
   "title_cell": "Table of Contents",
   "title_sidebar": "Contents",
   "toc_cell": false,
   "toc_position": {},
   "toc_section_display": true,
   "toc_window_display": true
  },
  "varInspector": {
   "cols": {
    "lenName": 16,
    "lenType": 16,
    "lenVar": 40
   },
   "kernels_config": {
    "python": {
     "delete_cmd_postfix": "",
     "delete_cmd_prefix": "del ",
     "library": "var_list.py",
     "varRefreshCmd": "print(var_dic_list())"
    },
    "r": {
     "delete_cmd_postfix": ") ",
     "delete_cmd_prefix": "rm(",
     "library": "var_list.r",
     "varRefreshCmd": "cat(var_dic_list()) "
    }
   },
   "types_to_exclude": [
    "module",
    "function",
    "builtin_function_or_method",
    "instance",
    "_Feature"
   ],
   "window_display": false
  }
 },
 "nbformat": 4,
 "nbformat_minor": 5
}
