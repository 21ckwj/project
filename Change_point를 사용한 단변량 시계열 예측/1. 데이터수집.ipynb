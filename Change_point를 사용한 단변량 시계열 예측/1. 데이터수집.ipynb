{
 "cells": [
  {
   "cell_type": "code",
   "execution_count": 7,
   "id": "cd20432e",
   "metadata": {
    "ExecuteTime": {
     "end_time": "2023-03-23T13:27:57.863210Z",
     "start_time": "2023-03-23T13:27:57.856227Z"
    }
   },
   "outputs": [],
   "source": [
    "import pandas as pd\n",
    "import numpy as np\n",
    "\n",
    "from selenium import webdriver\n",
    "from selenium.webdriver.common.by import By\n",
    "from selenium.webdriver.chrome.service import Service\n",
    "from webdriver_manager.chrome import ChromeDriverManager\n",
    "\n",
    "options = webdriver.ChromeOptions()\n",
    "# options.add_argument(\"headless\")\n",
    "options.add_experimental_option(\"excludeSwitches\", [\"enable-logging\"])"
   ]
  },
  {
   "cell_type": "markdown",
   "id": "1d384762",
   "metadata": {},
   "source": [
    "# Data Crawling"
   ]
  },
  {
   "cell_type": "code",
   "execution_count": 8,
   "id": "9cdda020",
   "metadata": {
    "ExecuteTime": {
     "end_time": "2023-03-23T13:27:58.020540Z",
     "start_time": "2023-03-23T13:27:58.016548Z"
    }
   },
   "outputs": [],
   "source": [
    "url = 'https://en.portshanghai.com.cn/FactsFigures/index.jhtml'"
   ]
  },
  {
   "cell_type": "code",
   "execution_count": 9,
   "id": "2c1cc4f9",
   "metadata": {
    "ExecuteTime": {
     "end_time": "2023-03-23T13:28:06.426216Z",
     "start_time": "2023-03-23T13:27:58.312387Z"
    }
   },
   "outputs": [],
   "source": [
    "driver = webdriver.Chrome(options = options, service=Service(ChromeDriverManager().install()))\n",
    "driver.get(url)"
   ]
  },
  {
   "cell_type": "markdown",
   "id": "a7eab8c4",
   "metadata": {},
   "source": [
    "## year"
   ]
  },
  {
   "cell_type": "code",
   "execution_count": null,
   "id": "446a9a12",
   "metadata": {},
   "outputs": [],
   "source": [
    "divs = driver.find"
   ]
  },
  {
   "cell_type": "markdown",
   "id": "d800aa73",
   "metadata": {},
   "source": [
    "## Container& Cargo"
   ]
  },
  {
   "cell_type": "code",
   "execution_count": 17,
   "id": "1c228b07",
   "metadata": {
    "ExecuteTime": {
     "end_time": "2023-03-23T13:57:47.375721Z",
     "start_time": "2023-03-23T13:57:47.349242Z"
    }
   },
   "outputs": [
    {
     "data": {
      "text/plain": [
       "34"
      ]
     },
     "execution_count": 17,
     "metadata": {},
     "output_type": "execute_result"
    }
   ],
   "source": [
    "divs = driver.find_elements(By.CSS_SELECTOR, '#sgDataTable > div > ul')\n",
    "len(divs)"
   ]
  },
  {
   "cell_type": "code",
   "execution_count": 20,
   "id": "860685c8",
   "metadata": {
    "ExecuteTime": {
     "end_time": "2023-03-23T13:58:36.099834Z",
     "start_time": "2023-03-23T13:58:36.066101Z"
    }
   },
   "outputs": [
    {
     "data": {
      "text/plain": [
       "'2828.2\\n2512.5\\n2850.2\\n3027.7\\n3139.4\\n2938.4\\n3062.2\\n3029\\n2909.9\\n2918.6\\n2964.1\\n3098.5\\n35278.9'"
      ]
     },
     "execution_count": 20,
     "metadata": {},
     "output_type": "execute_result"
    }
   ],
   "source": [
    "divs[-1].text"
   ]
  },
  {
   "cell_type": "code",
   "execution_count": 27,
   "id": "ed6247a6",
   "metadata": {
    "ExecuteTime": {
     "end_time": "2023-03-23T14:02:33.907775Z",
     "start_time": "2023-03-23T14:02:33.884462Z"
    }
   },
   "outputs": [
    {
     "data": {
      "text/plain": [
       "[2828.2,\n",
       " 2512.5,\n",
       " 2850.2,\n",
       " 3027.7,\n",
       " 3139.4,\n",
       " 2938.4,\n",
       " 3062.2,\n",
       " 3029.0,\n",
       " 2909.9,\n",
       " 2918.6,\n",
       " 2964.1,\n",
       " 3098.5,\n",
       " 35278.9]"
      ]
     },
     "execution_count": 27,
     "metadata": {},
     "output_type": "execute_result"
    }
   ],
   "source": [
    "list(map(float,divs[-1].text.split('\\n')))"
   ]
  },
  {
   "cell_type": "code",
   "execution_count": 31,
   "id": "a8b5856f",
   "metadata": {
    "ExecuteTime": {
     "end_time": "2023-03-23T14:16:29.378481Z",
     "start_time": "2023-03-23T14:16:28.755007Z"
    },
    "scrolled": true
   },
   "outputs": [],
   "source": [
    "divs = driver.find_elements(By.CSS_SELECTOR, '#sgDataTable > div > ul')\n",
    "cargo_list = []\n",
    "container_list = []\n",
    "\n",
    "for i,div in enumerate(divs[::-1]):\n",
    "    \n",
    "    data = list(map(float,div.text.split('\\n')))\n",
    "    \n",
    "    # Cargo: 짝수 컬럼\n",
    "    if i%2 ==0:\n",
    "        if len(data) == 13:\n",
    "            cargo_list.extend(data[:12])\n",
    "        else:\n",
    "            cargo_list.extend(data)\n",
    "    \n",
    "    # Container 홀수 컬럼\n",
    "    else:\n",
    "        if len(data) == 13:\n",
    "            container_list.extend(data[:12])\n",
    "        else:\n",
    "            container_list.extend(data)"
   ]
  },
  {
   "cell_type": "code",
   "execution_count": 32,
   "id": "76dcc7b2",
   "metadata": {
    "ExecuteTime": {
     "end_time": "2023-03-23T14:16:29.425858Z",
     "start_time": "2023-03-23T14:16:29.412396Z"
    }
   },
   "outputs": [
    {
     "data": {
      "text/plain": [
       "[2828.2,\n",
       " 2512.5,\n",
       " 2850.2,\n",
       " 3027.7,\n",
       " 3139.4,\n",
       " 2938.4,\n",
       " 3062.2,\n",
       " 3029.0,\n",
       " 2909.9,\n",
       " 2918.6,\n",
       " 2964.1,\n",
       " 3098.5,\n",
       " 3017.4,\n",
       " 2592.2,\n",
       " 3335.0,\n",
       " 3319.4,\n",
       " 3438.6,\n",
       " 3301.8,\n",
       " 3273.8,\n",
       " 3364.5,\n",
       " 3144.0,\n",
       " 3040.0,\n",
       " 2577.6,\n",
       " 2509.3,\n",
       " 2324.2,\n",
       " 2157.0,\n",
       " 3076.2,\n",
       " 3022.6,\n",
       " 3279.3,\n",
       " 3093.6,\n",
       " 3223.6,\n",
       " 3115.8,\n",
       " 3327.5,\n",
       " 3117.2,\n",
       " 3068.9,\n",
       " 3695.6,\n",
       " 3703.8,\n",
       " 2786.0,\n",
       " 3722.1,\n",
       " 3553.0,\n",
       " 3784.5,\n",
       " 3597.1,\n",
       " 3518.1,\n",
       " 3573.2,\n",
       " 3439.3,\n",
       " 3354.9,\n",
       " 4072.1,\n",
       " 3730.9,\n",
       " 4163.2,\n",
       " 2953.2,\n",
       " 4027.6,\n",
       " 4021.9,\n",
       " 4351.8,\n",
       " 4095.5,\n",
       " 4530.9,\n",
       " 4020.5,\n",
       " 4034.4,\n",
       " 4063.4,\n",
       " 4050.0,\n",
       " 4130.0,\n",
       " 4054.7,\n",
       " 3560.8,\n",
       " 4478.9,\n",
       " 4299.2,\n",
       " 4462.3,\n",
       " 4243.5,\n",
       " 4233.5,\n",
       " 3961.7,\n",
       " 4441.7,\n",
       " 4168.2,\n",
       " 4221.1,\n",
       " 4111.8,\n",
       " 4836.4,\n",
       " 3434.3,\n",
       " 4763.2,\n",
       " 4565.7,\n",
       " 4824.5,\n",
       " 4406.7,\n",
       " 4682.6,\n",
       " 4519.9,\n",
       " 4546.4,\n",
       " 4406.6,\n",
       " 4706.1,\n",
       " 4610.0,\n",
       " 4846.6,\n",
       " 3567.0,\n",
       " 4914.4,\n",
       " 4809.5,\n",
       " 4638.9,\n",
       " 4507.3,\n",
       " 4461.6,\n",
       " 4618.9,\n",
       " 4440.3,\n",
       " 4400.9,\n",
       " 4324.9,\n",
       " 4332.2,\n",
       " 4643.6,\n",
       " 3634.4,\n",
       " 4219.1,\n",
       " 4432.0,\n",
       " 4277.8,\n",
       " 4322.6,\n",
       " 4447.1,\n",
       " 4484.0,\n",
       " 4254.0,\n",
       " 4098.0,\n",
       " 4110.9,\n",
       " 4409.2,\n",
       " 4116.2,\n",
       " 3514.6,\n",
       " 4329.8,\n",
       " 4380.6,\n",
       " 4365.2,\n",
       " 4154.5,\n",
       " 4477.6,\n",
       " 4482.3,\n",
       " 4201.7,\n",
       " 4446.3,\n",
       " 4472.9,\n",
       " 4465.1,\n",
       " 4587.9,\n",
       " 3763.0,\n",
       " 4995.9,\n",
       " 4782.6,\n",
       " 5029.5,\n",
       " 4787.2,\n",
       " 4707.4,\n",
       " 4994.7,\n",
       " 4624.2,\n",
       " 4581.6,\n",
       " 4783.9,\n",
       " 4449.3,\n",
       " 4669.6,\n",
       " 3776.6,\n",
       " 4512.9,\n",
       " 4896.2,\n",
       " 5032.8,\n",
       " 4881.5,\n",
       " 4761.4,\n",
       " 4754.4,\n",
       " 4910.0,\n",
       " 4808.7,\n",
       " 4499.0,\n",
       " 4626.2,\n",
       " 4810.7,\n",
       " 3472.1,\n",
       " 4938.6,\n",
       " 4637.8,\n",
       " 4732.4,\n",
       " 4637.3,\n",
       " 4567.8,\n",
       " 4409.9,\n",
       " 4452.3,\n",
       " 4648.1,\n",
       " 4418.5,\n",
       " 4106.1,\n",
       " 4175.0,\n",
       " 2631.9,\n",
       " 4025.6,\n",
       " 4115.0,\n",
       " 4309.6,\n",
       " 4291.6,\n",
       " 4662.2,\n",
       " 4533.3,\n",
       " 4545.4,\n",
       " 4828.0,\n",
       " 4591.4,\n",
       " 4310.3,\n",
       " 4540.8,\n",
       " 3644.3,\n",
       " 4556.2,\n",
       " 4688.2,\n",
       " 4724.7,\n",
       " 4836.1,\n",
       " 4230.3,\n",
       " 4985.8,\n",
       " 4303.8,\n",
       " 4617.2,\n",
       " 4420.3,\n",
       " 4373.0,\n",
       " 4773.4,\n",
       " 4062.6,\n",
       " 4556.8,\n",
       " 3216.5,\n",
       " 3683.4,\n",
       " 4017.0,\n",
       " 4810.2,\n",
       " 4566.3,\n",
       " 4194.7,\n",
       " 4394.4,\n",
       " 4529.5,\n",
       " 4566.1,\n",
       " 4304.7,\n",
       " 4195.5]"
      ]
     },
     "execution_count": 32,
     "metadata": {},
     "output_type": "execute_result"
    }
   ],
   "source": [
    "cargo_list"
   ]
  },
  {
   "cell_type": "code",
   "execution_count": 34,
   "id": "6a4e01a6",
   "metadata": {
    "ExecuteTime": {
     "end_time": "2023-03-23T14:22:57.524292Z",
     "start_time": "2023-03-23T14:22:57.497623Z"
    }
   },
   "outputs": [
    {
     "data": {
      "text/html": [
       "<div>\n",
       "<style scoped>\n",
       "    .dataframe tbody tr th:only-of-type {\n",
       "        vertical-align: middle;\n",
       "    }\n",
       "\n",
       "    .dataframe tbody tr th {\n",
       "        vertical-align: top;\n",
       "    }\n",
       "\n",
       "    .dataframe thead th {\n",
       "        text-align: right;\n",
       "    }\n",
       "</style>\n",
       "<table border=\"1\" class=\"dataframe\">\n",
       "  <thead>\n",
       "    <tr style=\"text-align: right;\">\n",
       "      <th></th>\n",
       "      <th>cargo</th>\n",
       "      <th>container</th>\n",
       "    </tr>\n",
       "  </thead>\n",
       "  <tbody>\n",
       "    <tr>\n",
       "      <th>2007-01-31</th>\n",
       "      <td>2828.2</td>\n",
       "      <td>204.7</td>\n",
       "    </tr>\n",
       "    <tr>\n",
       "      <th>2007-02-28</th>\n",
       "      <td>2512.5</td>\n",
       "      <td>181.0</td>\n",
       "    </tr>\n",
       "    <tr>\n",
       "      <th>2007-03-31</th>\n",
       "      <td>2850.2</td>\n",
       "      <td>202.8</td>\n",
       "    </tr>\n",
       "    <tr>\n",
       "      <th>2007-04-30</th>\n",
       "      <td>3027.7</td>\n",
       "      <td>220.1</td>\n",
       "    </tr>\n",
       "    <tr>\n",
       "      <th>2007-05-31</th>\n",
       "      <td>3139.4</td>\n",
       "      <td>220.8</td>\n",
       "    </tr>\n",
       "    <tr>\n",
       "      <th>...</th>\n",
       "      <td>...</td>\n",
       "      <td>...</td>\n",
       "    </tr>\n",
       "    <tr>\n",
       "      <th>2022-10-31</th>\n",
       "      <td>4394.4</td>\n",
       "      <td>419.4</td>\n",
       "    </tr>\n",
       "    <tr>\n",
       "      <th>2022-11-30</th>\n",
       "      <td>4529.5</td>\n",
       "      <td>411.0</td>\n",
       "    </tr>\n",
       "    <tr>\n",
       "      <th>2022-12-31</th>\n",
       "      <td>4566.1</td>\n",
       "      <td>410.9</td>\n",
       "    </tr>\n",
       "    <tr>\n",
       "      <th>2023-01-31</th>\n",
       "      <td>4304.7</td>\n",
       "      <td>380.3</td>\n",
       "    </tr>\n",
       "    <tr>\n",
       "      <th>2023-02-28</th>\n",
       "      <td>4195.5</td>\n",
       "      <td>365.4</td>\n",
       "    </tr>\n",
       "  </tbody>\n",
       "</table>\n",
       "<p>194 rows × 2 columns</p>\n",
       "</div>"
      ],
      "text/plain": [
       "             cargo  container\n",
       "2007-01-31  2828.2      204.7\n",
       "2007-02-28  2512.5      181.0\n",
       "2007-03-31  2850.2      202.8\n",
       "2007-04-30  3027.7      220.1\n",
       "2007-05-31  3139.4      220.8\n",
       "...            ...        ...\n",
       "2022-10-31  4394.4      419.4\n",
       "2022-11-30  4529.5      411.0\n",
       "2022-12-31  4566.1      410.9\n",
       "2023-01-31  4304.7      380.3\n",
       "2023-02-28  4195.5      365.4\n",
       "\n",
       "[194 rows x 2 columns]"
      ]
     },
     "execution_count": 34,
     "metadata": {},
     "output_type": "execute_result"
    }
   ],
   "source": [
    "date = pd.date_range(start='2007', end =None, periods=len(cargo_list), freq='M')\n",
    "df = pd.DataFrame({\"cargo\":cargo_list, \"container\":container_list}, index=date)\n",
    "df"
   ]
  },
  {
   "cell_type": "code",
   "execution_count": 35,
   "id": "c99baaac",
   "metadata": {
    "ExecuteTime": {
     "end_time": "2023-03-23T14:24:17.930102Z",
     "start_time": "2023-03-23T14:24:17.915142Z"
    }
   },
   "outputs": [],
   "source": [
    " df.to_csv('SIGP_freight_data.csv')"
   ]
  }
 ],
 "metadata": {
  "kernelspec": {
   "display_name": "Python 3 (ipykernel)",
   "language": "python",
   "name": "python3"
  },
  "language_info": {
   "codemirror_mode": {
    "name": "ipython",
    "version": 3
   },
   "file_extension": ".py",
   "mimetype": "text/x-python",
   "name": "python",
   "nbconvert_exporter": "python",
   "pygments_lexer": "ipython3",
   "version": "3.9.7"
  },
  "toc": {
   "base_numbering": 1,
   "nav_menu": {},
   "number_sections": true,
   "sideBar": true,
   "skip_h1_title": false,
   "title_cell": "Table of Contents",
   "title_sidebar": "Contents",
   "toc_cell": false,
   "toc_position": {},
   "toc_section_display": true,
   "toc_window_display": false
  },
  "varInspector": {
   "cols": {
    "lenName": 16,
    "lenType": 16,
    "lenVar": 40
   },
   "kernels_config": {
    "python": {
     "delete_cmd_postfix": "",
     "delete_cmd_prefix": "del ",
     "library": "var_list.py",
     "varRefreshCmd": "print(var_dic_list())"
    },
    "r": {
     "delete_cmd_postfix": ") ",
     "delete_cmd_prefix": "rm(",
     "library": "var_list.r",
     "varRefreshCmd": "cat(var_dic_list()) "
    }
   },
   "types_to_exclude": [
    "module",
    "function",
    "builtin_function_or_method",
    "instance",
    "_Feature"
   ],
   "window_display": false
  }
 },
 "nbformat": 4,
 "nbformat_minor": 5
}
