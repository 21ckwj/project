{
 "cells": [
  {
   "cell_type": "code",
   "execution_count": 1,
   "id": "e1500c00",
   "metadata": {
    "ExecuteTime": {
     "end_time": "2023-03-23T14:25:08.180699Z",
     "start_time": "2023-03-23T14:25:06.368722Z"
    }
   },
   "outputs": [],
   "source": [
    "import pandas as pd\n",
    "import numpy as np\n",
    "import matplotlib.pyplot as plt\n",
    "import seaborn as sns"
   ]
  },
  {
   "cell_type": "code",
   "execution_count": 4,
   "id": "f4f0a922",
   "metadata": {
    "ExecuteTime": {
     "end_time": "2023-03-23T14:25:50.710929Z",
     "start_time": "2023-03-23T14:25:50.693928Z"
    }
   },
   "outputs": [
    {
     "data": {
      "text/html": [
       "<div>\n",
       "<style scoped>\n",
       "    .dataframe tbody tr th:only-of-type {\n",
       "        vertical-align: middle;\n",
       "    }\n",
       "\n",
       "    .dataframe tbody tr th {\n",
       "        vertical-align: top;\n",
       "    }\n",
       "\n",
       "    .dataframe thead th {\n",
       "        text-align: right;\n",
       "    }\n",
       "</style>\n",
       "<table border=\"1\" class=\"dataframe\">\n",
       "  <thead>\n",
       "    <tr style=\"text-align: right;\">\n",
       "      <th></th>\n",
       "      <th>cargo</th>\n",
       "      <th>container</th>\n",
       "    </tr>\n",
       "  </thead>\n",
       "  <tbody>\n",
       "    <tr>\n",
       "      <th>2007-01-31</th>\n",
       "      <td>2828.2</td>\n",
       "      <td>204.7</td>\n",
       "    </tr>\n",
       "    <tr>\n",
       "      <th>2007-02-28</th>\n",
       "      <td>2512.5</td>\n",
       "      <td>181.0</td>\n",
       "    </tr>\n",
       "    <tr>\n",
       "      <th>2007-03-31</th>\n",
       "      <td>2850.2</td>\n",
       "      <td>202.8</td>\n",
       "    </tr>\n",
       "    <tr>\n",
       "      <th>2007-04-30</th>\n",
       "      <td>3027.7</td>\n",
       "      <td>220.1</td>\n",
       "    </tr>\n",
       "    <tr>\n",
       "      <th>2007-05-31</th>\n",
       "      <td>3139.4</td>\n",
       "      <td>220.8</td>\n",
       "    </tr>\n",
       "    <tr>\n",
       "      <th>...</th>\n",
       "      <td>...</td>\n",
       "      <td>...</td>\n",
       "    </tr>\n",
       "    <tr>\n",
       "      <th>2022-10-31</th>\n",
       "      <td>4394.4</td>\n",
       "      <td>419.4</td>\n",
       "    </tr>\n",
       "    <tr>\n",
       "      <th>2022-11-30</th>\n",
       "      <td>4529.5</td>\n",
       "      <td>411.0</td>\n",
       "    </tr>\n",
       "    <tr>\n",
       "      <th>2022-12-31</th>\n",
       "      <td>4566.1</td>\n",
       "      <td>410.9</td>\n",
       "    </tr>\n",
       "    <tr>\n",
       "      <th>2023-01-31</th>\n",
       "      <td>4304.7</td>\n",
       "      <td>380.3</td>\n",
       "    </tr>\n",
       "    <tr>\n",
       "      <th>2023-02-28</th>\n",
       "      <td>4195.5</td>\n",
       "      <td>365.4</td>\n",
       "    </tr>\n",
       "  </tbody>\n",
       "</table>\n",
       "<p>194 rows × 2 columns</p>\n",
       "</div>"
      ],
      "text/plain": [
       "             cargo  container\n",
       "2007-01-31  2828.2      204.7\n",
       "2007-02-28  2512.5      181.0\n",
       "2007-03-31  2850.2      202.8\n",
       "2007-04-30  3027.7      220.1\n",
       "2007-05-31  3139.4      220.8\n",
       "...            ...        ...\n",
       "2022-10-31  4394.4      419.4\n",
       "2022-11-30  4529.5      411.0\n",
       "2022-12-31  4566.1      410.9\n",
       "2023-01-31  4304.7      380.3\n",
       "2023-02-28  4195.5      365.4\n",
       "\n",
       "[194 rows x 2 columns]"
      ]
     },
     "execution_count": 4,
     "metadata": {},
     "output_type": "execute_result"
    }
   ],
   "source": [
    "df = pd.read_csv('SIGP_freight_data.csv',index_col=0, parse_dates=True)\n",
    "df"
   ]
  },
  {
   "cell_type": "code",
   "execution_count": 5,
   "id": "6ad01377",
   "metadata": {
    "ExecuteTime": {
     "end_time": "2023-03-23T14:25:50.962668Z",
     "start_time": "2023-03-23T14:25:50.939695Z"
    }
   },
   "outputs": [
    {
     "name": "stdout",
     "output_type": "stream",
     "text": [
      "<class 'pandas.core.frame.DataFrame'>\n",
      "DatetimeIndex: 194 entries, 2007-01-31 to 2023-02-28\n",
      "Data columns (total 2 columns):\n",
      " #   Column     Non-Null Count  Dtype  \n",
      "---  ------     --------------  -----  \n",
      " 0   cargo      194 non-null    float64\n",
      " 1   container  194 non-null    float64\n",
      "dtypes: float64(2)\n",
      "memory usage: 4.5 KB\n"
     ]
    }
   ],
   "source": [
    "df.info()"
   ]
  },
  {
   "cell_type": "code",
   "execution_count": null,
   "id": "00bb06ce",
   "metadata": {},
   "outputs": [],
   "source": [
    " "
   ]
  }
 ],
 "metadata": {
  "kernelspec": {
   "display_name": "Python 3 (ipykernel)",
   "language": "python",
   "name": "python3"
  },
  "language_info": {
   "codemirror_mode": {
    "name": "ipython",
    "version": 3
   },
   "file_extension": ".py",
   "mimetype": "text/x-python",
   "name": "python",
   "nbconvert_exporter": "python",
   "pygments_lexer": "ipython3",
   "version": "3.9.7"
  },
  "toc": {
   "base_numbering": 1,
   "nav_menu": {},
   "number_sections": true,
   "sideBar": true,
   "skip_h1_title": false,
   "title_cell": "Table of Contents",
   "title_sidebar": "Contents",
   "toc_cell": false,
   "toc_position": {},
   "toc_section_display": true,
   "toc_window_display": false
  },
  "varInspector": {
   "cols": {
    "lenName": 16,
    "lenType": 16,
    "lenVar": 40
   },
   "kernels_config": {
    "python": {
     "delete_cmd_postfix": "",
     "delete_cmd_prefix": "del ",
     "library": "var_list.py",
     "varRefreshCmd": "print(var_dic_list())"
    },
    "r": {
     "delete_cmd_postfix": ") ",
     "delete_cmd_prefix": "rm(",
     "library": "var_list.r",
     "varRefreshCmd": "cat(var_dic_list()) "
    }
   },
   "types_to_exclude": [
    "module",
    "function",
    "builtin_function_or_method",
    "instance",
    "_Feature"
   ],
   "window_display": false
  }
 },
 "nbformat": 4,
 "nbformat_minor": 5
}
