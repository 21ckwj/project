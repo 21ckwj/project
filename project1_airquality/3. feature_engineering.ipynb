{
 "cells": [
  {
   "cell_type": "code",
   "execution_count": 1,
   "id": "8edddba2",
   "metadata": {
    "ExecuteTime": {
     "end_time": "2023-02-19T14:51:35.982491Z",
     "start_time": "2023-02-19T14:51:34.418952Z"
    }
   },
   "outputs": [],
   "source": [
    "import pandas as pd\n",
    "import numpy as np\n",
    "import matplotlib.pyplot as plt\n",
    "import seaborn as sns"
   ]
  },
  {
   "cell_type": "code",
   "execution_count": 2,
   "id": "6aa6d380",
   "metadata": {
    "ExecuteTime": {
     "end_time": "2023-02-19T14:52:03.952571Z",
     "start_time": "2023-02-19T14:52:03.892504Z"
    }
   },
   "outputs": [
    {
     "data": {
      "text/html": [
       "<div>\n",
       "<style scoped>\n",
       "    .dataframe tbody tr th:only-of-type {\n",
       "        vertical-align: middle;\n",
       "    }\n",
       "\n",
       "    .dataframe tbody tr th {\n",
       "        vertical-align: top;\n",
       "    }\n",
       "\n",
       "    .dataframe thead th {\n",
       "        text-align: right;\n",
       "    }\n",
       "</style>\n",
       "<table border=\"1\" class=\"dataframe\">\n",
       "  <thead>\n",
       "    <tr style=\"text-align: right;\">\n",
       "      <th></th>\n",
       "      <th>CO_true</th>\n",
       "      <th>CO_sensor</th>\n",
       "      <th>NMHC_true</th>\n",
       "      <th>C6H6_true</th>\n",
       "      <th>NMHC_sensor</th>\n",
       "      <th>NOx_true</th>\n",
       "      <th>NOx_sensor</th>\n",
       "      <th>NO2_true</th>\n",
       "      <th>NO2_sensor</th>\n",
       "      <th>O3_sensor</th>\n",
       "      <th>T</th>\n",
       "      <th>RH</th>\n",
       "      <th>AH</th>\n",
       "    </tr>\n",
       "    <tr>\n",
       "      <th>date</th>\n",
       "      <th></th>\n",
       "      <th></th>\n",
       "      <th></th>\n",
       "      <th></th>\n",
       "      <th></th>\n",
       "      <th></th>\n",
       "      <th></th>\n",
       "      <th></th>\n",
       "      <th></th>\n",
       "      <th></th>\n",
       "      <th></th>\n",
       "      <th></th>\n",
       "      <th></th>\n",
       "    </tr>\n",
       "  </thead>\n",
       "  <tbody>\n",
       "    <tr>\n",
       "      <th>2004-03-04 00:00:00</th>\n",
       "      <td>1.6</td>\n",
       "      <td>1254.0</td>\n",
       "      <td>139.0</td>\n",
       "      <td>9.0</td>\n",
       "      <td>941.0</td>\n",
       "      <td>98.0</td>\n",
       "      <td>828.0</td>\n",
       "      <td>106.0</td>\n",
       "      <td>1566.0</td>\n",
       "      <td>1270.0</td>\n",
       "      <td>17.1</td>\n",
       "      <td>51.8</td>\n",
       "      <td>0.9990</td>\n",
       "    </tr>\n",
       "    <tr>\n",
       "      <th>2004-03-04 01:00:00</th>\n",
       "      <td>1.3</td>\n",
       "      <td>1141.0</td>\n",
       "      <td>98.0</td>\n",
       "      <td>6.3</td>\n",
       "      <td>827.0</td>\n",
       "      <td>73.0</td>\n",
       "      <td>936.0</td>\n",
       "      <td>88.0</td>\n",
       "      <td>1488.0</td>\n",
       "      <td>1110.0</td>\n",
       "      <td>16.2</td>\n",
       "      <td>54.2</td>\n",
       "      <td>0.9933</td>\n",
       "    </tr>\n",
       "    <tr>\n",
       "      <th>2004-03-04 02:00:00</th>\n",
       "      <td>1.2</td>\n",
       "      <td>1141.0</td>\n",
       "      <td>88.0</td>\n",
       "      <td>5.3</td>\n",
       "      <td>777.0</td>\n",
       "      <td>69.0</td>\n",
       "      <td>986.0</td>\n",
       "      <td>83.0</td>\n",
       "      <td>1455.0</td>\n",
       "      <td>1060.0</td>\n",
       "      <td>15.1</td>\n",
       "      <td>58.2</td>\n",
       "      <td>0.9886</td>\n",
       "    </tr>\n",
       "    <tr>\n",
       "      <th>2004-03-04 03:00:00</th>\n",
       "      <td>0.9</td>\n",
       "      <td>1042.0</td>\n",
       "      <td>66.0</td>\n",
       "      <td>3.8</td>\n",
       "      <td>697.0</td>\n",
       "      <td>-200.0</td>\n",
       "      <td>1056.0</td>\n",
       "      <td>-200.0</td>\n",
       "      <td>1410.0</td>\n",
       "      <td>965.0</td>\n",
       "      <td>15.1</td>\n",
       "      <td>57.6</td>\n",
       "      <td>0.9796</td>\n",
       "    </tr>\n",
       "    <tr>\n",
       "      <th>2004-03-04 04:00:00</th>\n",
       "      <td>0.8</td>\n",
       "      <td>986.0</td>\n",
       "      <td>57.0</td>\n",
       "      <td>3.0</td>\n",
       "      <td>651.0</td>\n",
       "      <td>60.0</td>\n",
       "      <td>1145.0</td>\n",
       "      <td>74.0</td>\n",
       "      <td>1380.0</td>\n",
       "      <td>891.0</td>\n",
       "      <td>14.5</td>\n",
       "      <td>58.0</td>\n",
       "      <td>0.9488</td>\n",
       "    </tr>\n",
       "  </tbody>\n",
       "</table>\n",
       "</div>"
      ],
      "text/plain": [
       "                     CO_true  CO_sensor  NMHC_true  C6H6_true  NMHC_sensor  \\\n",
       "date                                                                         \n",
       "2004-03-04 00:00:00      1.6     1254.0      139.0        9.0        941.0   \n",
       "2004-03-04 01:00:00      1.3     1141.0       98.0        6.3        827.0   \n",
       "2004-03-04 02:00:00      1.2     1141.0       88.0        5.3        777.0   \n",
       "2004-03-04 03:00:00      0.9     1042.0       66.0        3.8        697.0   \n",
       "2004-03-04 04:00:00      0.8      986.0       57.0        3.0        651.0   \n",
       "\n",
       "                     NOx_true  NOx_sensor  NO2_true  NO2_sensor  O3_sensor  \\\n",
       "date                                                                         \n",
       "2004-03-04 00:00:00      98.0       828.0     106.0      1566.0     1270.0   \n",
       "2004-03-04 01:00:00      73.0       936.0      88.0      1488.0     1110.0   \n",
       "2004-03-04 02:00:00      69.0       986.0      83.0      1455.0     1060.0   \n",
       "2004-03-04 03:00:00    -200.0      1056.0    -200.0      1410.0      965.0   \n",
       "2004-03-04 04:00:00      60.0      1145.0      74.0      1380.0      891.0   \n",
       "\n",
       "                        T    RH      AH  \n",
       "date                                     \n",
       "2004-03-04 00:00:00  17.1  51.8  0.9990  \n",
       "2004-03-04 01:00:00  16.2  54.2  0.9933  \n",
       "2004-03-04 02:00:00  15.1  58.2  0.9886  \n",
       "2004-03-04 03:00:00  15.1  57.6  0.9796  \n",
       "2004-03-04 04:00:00  14.5  58.0  0.9488  "
      ]
     },
     "execution_count": 2,
     "metadata": {},
     "output_type": "execute_result"
    }
   ],
   "source": [
    "data = pd.read_csv('./data/AirQaulity_ffill.csv',parse_dates=True, index_col=0)\n",
    "data.head()"
   ]
  },
  {
   "cell_type": "code",
   "execution_count": null,
   "id": "5468f8cf",
   "metadata": {},
   "outputs": [],
   "source": []
  }
 ],
 "metadata": {
  "kernelspec": {
   "display_name": "Python 3 (ipykernel)",
   "language": "python",
   "name": "python3"
  },
  "language_info": {
   "codemirror_mode": {
    "name": "ipython",
    "version": 3
   },
   "file_extension": ".py",
   "mimetype": "text/x-python",
   "name": "python",
   "nbconvert_exporter": "python",
   "pygments_lexer": "ipython3",
   "version": "3.9.7"
  },
  "toc": {
   "base_numbering": 1,
   "nav_menu": {},
   "number_sections": true,
   "sideBar": true,
   "skip_h1_title": false,
   "title_cell": "Table of Contents",
   "title_sidebar": "Contents",
   "toc_cell": false,
   "toc_position": {},
   "toc_section_display": true,
   "toc_window_display": false
  },
  "varInspector": {
   "cols": {
    "lenName": 16,
    "lenType": 16,
    "lenVar": 40
   },
   "kernels_config": {
    "python": {
     "delete_cmd_postfix": "",
     "delete_cmd_prefix": "del ",
     "library": "var_list.py",
     "varRefreshCmd": "print(var_dic_list())"
    },
    "r": {
     "delete_cmd_postfix": ") ",
     "delete_cmd_prefix": "rm(",
     "library": "var_list.r",
     "varRefreshCmd": "cat(var_dic_list()) "
    }
   },
   "types_to_exclude": [
    "module",
    "function",
    "builtin_function_or_method",
    "instance",
    "_Feature"
   ],
   "window_display": false
  }
 },
 "nbformat": 4,
 "nbformat_minor": 5
}
