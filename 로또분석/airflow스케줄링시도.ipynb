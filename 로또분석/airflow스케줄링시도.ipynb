{
 "cells": [
  {
   "cell_type": "markdown",
   "id": "9bd3dc7e-6fd0-4315-bfbe-22356a4462c1",
   "metadata": {},
   "source": [
    "# Airflow 스케줄링을 통한 로또당첨번호 수집"
   ]
  },
  {
   "cell_type": "markdown",
   "id": "47de9cd5-e1e7-4535-a653-7af2a24dbe19",
   "metadata": {},
   "source": [
    "airflow를 실행하기 위해 Docker설치가 필요"
   ]
  },
  {
   "cell_type": "code",
   "execution_count": null,
   "id": "a5818bfa-ad7a-441e-90ff-6fa3b10eaff6",
   "metadata": {},
   "outputs": [],
   "source": [
    "url = 'https://dhlottery.co.kr/gameResult.do?method=byWin'"
   ]
  }
 ],
 "metadata": {
  "kernelspec": {
   "display_name": "Python 3 (ipykernel)",
   "language": "python",
   "name": "python3"
  },
  "language_info": {
   "codemirror_mode": {
    "name": "ipython",
    "version": 3
   },
   "file_extension": ".py",
   "mimetype": "text/x-python",
   "name": "python",
   "nbconvert_exporter": "python",
   "pygments_lexer": "ipython3",
   "version": "3.12.7"
  }
 },
 "nbformat": 4,
 "nbformat_minor": 5
}
