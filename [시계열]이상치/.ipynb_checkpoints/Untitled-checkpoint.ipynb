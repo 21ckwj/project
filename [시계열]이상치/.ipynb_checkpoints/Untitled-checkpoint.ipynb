{
 "cells": [
  {
   "cell_type": "code",
   "execution_count": 117,
   "id": "0575d176",
   "metadata": {
    "ExecuteTime": {
     "end_time": "2023-07-04T14:20:12.822095Z",
     "start_time": "2023-07-04T14:20:12.807128Z"
    }
   },
   "outputs": [],
   "source": [
    "import pandas as pd\n",
    "import numpy as np\n",
    "import matplotlib.pyplot as plt\n",
    "import seaborn as sns"
   ]
  },
  {
   "cell_type": "markdown",
   "id": "42ae3bc0",
   "metadata": {},
   "source": [
    "# 논문 데이터 셋"
   ]
  },
  {
   "cell_type": "code",
   "execution_count": 118,
   "id": "a5edff36",
   "metadata": {
    "ExecuteTime": {
     "end_time": "2023-07-04T14:20:13.334282Z",
     "start_time": "2023-07-04T14:20:13.305125Z"
    }
   },
   "outputs": [],
   "source": [
    "k=2\n",
    "num_timestep = 10000\n",
    "y = np.zeros(num_timestep)\n",
    "y[0]=1\n",
    "y[1]=-2\n",
    "np.random.seed(0)\n",
    "\n",
    "time_range = np.arange(num_timestep)\n",
    "coef = [0.6,-0.5]\n",
    "\n",
    "change_size = 0\n",
    "for t in range(2,num_timestep):\n",
    "    noise = np.random.randn()   \n",
    "    if t % 1000 ==0: # 1000의 배수마다 change point 설정\n",
    "        change = t//1000\n",
    "        change_size += change\n",
    "    \n",
    "    # AR 모델 + change point를 고려\n",
    "    y[t] = coef[0]* y[t-1] + coef[1]*y[t-2] + noise + change_size"
   ]
  },
  {
   "cell_type": "code",
   "execution_count": 119,
   "id": "35597447",
   "metadata": {
    "ExecuteTime": {
     "end_time": "2023-07-04T14:20:13.767045Z",
     "start_time": "2023-07-04T14:20:13.569651Z"
    }
   },
   "outputs": [
    {
     "data": {
      "text/plain": [
       "[<matplotlib.lines.Line2D at 0x1b6a931a200>]"
      ]
     },
     "execution_count": 119,
     "metadata": {},
     "output_type": "execute_result"
    },
    {
     "data": {
      "image/png": "[encoded data removed]",
      "text/plain": [
       "<Figure size 720x360 with 1 Axes>"
      ]
     },
     "metadata": {
      "needs_background": "light"
     },
     "output_type": "display_data"
    }
   ],
   "source": [
    "fig, axs = plt.subplots(figsize=(10,5))\n",
    "plt.plot(time_range, y)"
   ]
  },
  {
   "cell_type": "markdown",
   "id": "fde79756",
   "metadata": {},
   "source": [
    "# initial parameter"
   ]
  },
  {
   "cell_type": "code",
   "execution_count": 170,
   "id": "d914ad0b",
   "metadata": {
    "ExecuteTime": {
     "end_time": "2023-07-04T15:14:37.619327Z",
     "start_time": "2023-07-04T15:14:37.599405Z"
    }
   },
   "outputs": [
    {
     "data": {
      "text/plain": [
       "array([ 1.        , -2.        ,  0.06405235,  1.43858862,  1.80986498,\n",
       "        2.60751788,  2.52713623, -0.76475508, -0.77233275, -0.23237931])"
      ]
     },
     "execution_count": 170,
     "metadata": {},
     "output_type": "execute_result"
    }
   ],
   "source": [
    "start_point = 10\n",
    "series = y[:start_point]\n",
    "series"
   ]
  },
  {
   "cell_type": "code",
   "execution_count": 171,
   "id": "5f1e4553",
   "metadata": {
    "ExecuteTime": {
     "end_time": "2023-07-04T15:14:39.976839Z",
     "start_time": "2023-07-04T15:14:39.966615Z"
    }
   },
   "outputs": [
    {
     "data": {
      "text/plain": [
       "-0.5023560302873018"
      ]
     },
     "execution_count": 171,
     "metadata": {},
     "output_type": "execute_result"
    }
   ],
   "source": [
    "k=2\n",
    "mean= np.mean(series[-k:])\n",
    "mean"
   ]
  },
  {
   "cell_type": "code",
   "execution_count": 172,
   "id": "48cd8b31",
   "metadata": {
    "ExecuteTime": {
     "end_time": "2023-07-04T15:14:40.198278Z",
     "start_time": "2023-07-04T15:14:40.186310Z"
    }
   },
   "outputs": [
    {
     "data": {
      "text/plain": [
       "[3.5622772206757087, 2.5692569057513266, 1.3237438920912479]"
      ]
     },
     "execution_count": 172,
     "metadata": {},
     "output_type": "execute_result"
    }
   ],
   "source": [
    "autocovariance = []\n",
    "for lag in range(k + 1):\n",
    "    n = len(series)\n",
    "    acov = np.mean((series[k:n] - mean) * (series[k-lag:n-lag] - mean))\n",
    "    autocovariance.append(acov)\n",
    "    \n",
    "autocovariance"
   ]
  },
  {
   "cell_type": "code",
   "execution_count": 173,
   "id": "d8105328",
   "metadata": {
    "ExecuteTime": {
     "end_time": "2023-07-04T15:14:40.399575Z",
     "start_time": "2023-07-04T15:14:40.385611Z"
    }
   },
   "outputs": [
    {
     "data": {
      "text/plain": [
       "[2.5692569057513266, 1.3237438920912479]"
      ]
     },
     "execution_count": 173,
     "metadata": {},
     "output_type": "execute_result"
    }
   ],
   "source": [
    "# Calculate the autocovariance: [C1,C2,C3..Ck]\n",
    "# k=2 : [C1,C2]\n",
    "\n",
    "autocovariance_1 = []\n",
    "for lag in range(1,k + 1):\n",
    "    n = len(series)\n",
    "    acov = np.mean((series[k:n] - mean) * (series[k-lag:n-lag] - mean))\n",
    "    autocovariance_1.append(acov)\n",
    "    \n",
    "autocovariance_1"
   ]
  },
  {
   "cell_type": "code",
   "execution_count": 174,
   "id": "30bba3bb",
   "metadata": {
    "ExecuteTime": {
     "end_time": "2023-07-04T15:14:40.631833Z",
     "start_time": "2023-07-04T15:14:40.612883Z"
    }
   },
   "outputs": [
    {
     "data": {
      "text/plain": [
       "[3.5622772206757087, 2.5692569057513266]"
      ]
     },
     "execution_count": 174,
     "metadata": {},
     "output_type": "execute_result"
    }
   ],
   "source": [
    "autocovariance_0 = []\n",
    "for lag in range(k):\n",
    "    n = len(series)\n",
    "    acov = np.mean((series[k:n] - mean) * (series[k-lag:n-lag] - mean))\n",
    "    autocovariance_0.append(acov)\n",
    "\n",
    "autocovariance_0"
   ]
  },
  {
   "cell_type": "code",
   "execution_count": 175,
   "id": "6af072fa",
   "metadata": {
    "ExecuteTime": {
     "end_time": "2023-07-04T15:14:40.833197Z",
     "start_time": "2023-07-04T15:14:40.811255Z"
    }
   },
   "outputs": [
    {
     "data": {
      "text/plain": [
       "array([[2.56925691, 1.32374389],\n",
       "       [1.32374389, 2.56925691]])"
      ]
     },
     "execution_count": 175,
     "metadata": {},
     "output_type": "execute_result"
    }
   ],
   "source": [
    "# covariance_matrix\n",
    "cov_matrix = np.zeros((k,k))\n",
    "for i in range(k):\n",
    "    for j in range(k):\n",
    "        cov_matrix[i][j] = autocovariance_1[np.abs(i-j)]\n",
    "cov_matrix"
   ]
  },
  {
   "cell_type": "code",
   "execution_count": 176,
   "id": "fbd61b65",
   "metadata": {
    "ExecuteTime": {
     "end_time": "2023-07-04T15:14:41.035225Z",
     "start_time": "2023-07-04T15:14:41.026211Z"
    }
   },
   "outputs": [
    {
     "data": {
      "text/plain": [
       "array([[3.56227722, 0.        ],\n",
       "       [2.56925691, 3.56227722]])"
      ]
     },
     "execution_count": 176,
     "metadata": {},
     "output_type": "execute_result"
    }
   ],
   "source": [
    "# w1, w2, w3 다시 구해보기\n",
    "# Construct matrix\n",
    "\n",
    "equation_matrix = np.zeros((k, k))\n",
    "for i in range(k):\n",
    "    for j in range(k):\n",
    "        if j <= i:\n",
    "            equation_matrix[i, j] = autocovariance_0[i-j]\n",
    "        else:\n",
    "            equation_matrix[i,j] = 0\n",
    "        \n",
    "equation_matrix"
   ]
  },
  {
   "cell_type": "code",
   "execution_count": 177,
   "id": "5a6f9c5b",
   "metadata": {
    "ExecuteTime": {
     "end_time": "2023-07-04T15:14:41.529940Z",
     "start_time": "2023-07-04T15:14:41.514979Z"
    }
   },
   "outputs": [
    {
     "data": {
      "text/plain": [
       "array([ 0.72124002, -0.1485867 ])"
      ]
     },
     "execution_count": 177,
     "metadata": {},
     "output_type": "execute_result"
    }
   ],
   "source": [
    "ar_coefficients = np.linalg.solve(equation_matrix, autocovariance_1)\n",
    "ar_coefficients"
   ]
  },
  {
   "cell_type": "code",
   "execution_count": 178,
   "id": "9738dac8",
   "metadata": {
    "ExecuteTime": {
     "end_time": "2023-07-04T15:14:41.842033Z",
     "start_time": "2023-07-04T15:14:41.821055Z"
    }
   },
   "outputs": [
    {
     "data": {
      "text/plain": [
       "array([-0.23237931, -0.77233275])"
      ]
     },
     "execution_count": 178,
     "metadata": {},
     "output_type": "execute_result"
    }
   ],
   "source": [
    "# Xt-1, Xt-2\n",
    "series[-k:][::-1]"
   ]
  },
  {
   "cell_type": "code",
   "execution_count": 179,
   "id": "90011e72",
   "metadata": {
    "ExecuteTime": {
     "end_time": "2023-07-04T15:14:42.322358Z",
     "start_time": "2023-07-04T15:14:42.301759Z"
    }
   },
   "outputs": [
    {
     "data": {
      "text/plain": [
       "array([-0.30763802, -0.46224108])"
      ]
     },
     "execution_count": 179,
     "metadata": {},
     "output_type": "execute_result"
    }
   ],
   "source": [
    "# w\n",
    "w= ar_coefficients * (series[-k:][::-1]-mean) + mean\n",
    "w"
   ]
  },
  {
   "cell_type": "code",
   "execution_count": 180,
   "id": "4f1151d1",
   "metadata": {
    "ExecuteTime": {
     "end_time": "2023-07-04T15:14:42.588917Z",
     "start_time": "2023-07-04T15:14:42.578884Z"
    }
   },
   "outputs": [],
   "source": [
    "from scipy.stats import multivariate_normal\n",
    "\n",
    "class MultivariateARModel:\n",
    "    def __init__(self, order, mean_vector, covariance_matrix):\n",
    "        \"\"\"\n",
    "        Initialize the MultivariateARModel class.\n",
    "\n",
    "        Parameters:\n",
    "            order (int): The order of the AR model.\n",
    "            mean_vector (numpy array): The mean vector of the AR model.\n",
    "            covariance_matrix (numpy array): The covariance matrix of the AR model.\n",
    "        \"\"\"\n",
    "        self.order = order\n",
    "        self.mean_vector = mean_vector\n",
    "        self.covariance_matrix = covariance_matrix\n",
    "\n",
    "    def multivariate_pdf(self, data):\n",
    "        \"\"\"\n",
    "        Calculate the multivariate probability density function (PDF) in the AR model.\n",
    "\n",
    "        Parameters:\n",
    "            data (numpy array): The input data containing observations.\n",
    "\n",
    "        Returns:\n",
    "            numpy array: The PDF values for each observation.\n",
    "        \"\"\"\n",
    "#         pdf_values = np.zeros(data.shape[0])\n",
    "\n",
    "        observation = data[-self.order:][::-1]\n",
    "        pdf_values = multivariate_normal.pdf(observation, mean=self.mean_vector, cov=self.covariance_matrix)\n",
    "\n",
    "        return pdf_values"
   ]
  },
  {
   "cell_type": "code",
   "execution_count": 181,
   "id": "7a485256",
   "metadata": {
    "ExecuteTime": {
     "end_time": "2023-07-04T15:15:03.232118Z",
     "start_time": "2023-07-04T15:15:03.218785Z"
    }
   },
   "outputs": [
    {
     "data": {
      "text/plain": [
       "0.06990708213880728"
      ]
     },
     "execution_count": 181,
     "metadata": {},
     "output_type": "execute_result"
    }
   ],
   "source": [
    "multi_armodel = MultivariateARModel(k, mean_vector=w, covariance_matrix=cov_matrix)\n",
    "multi_armodel.multivariate_pdf(series)"
   ]
  },
  {
   "cell_type": "markdown",
   "id": "4988c2ea",
   "metadata": {},
   "source": [
    "# update parameter"
   ]
  },
  {
   "cell_type": "code",
   "execution_count": 157,
   "id": "4c0a4974",
   "metadata": {
    "ExecuteTime": {
     "end_time": "2023-07-04T14:23:23.492101Z",
     "start_time": "2023-07-04T14:23:23.478114Z"
    }
   },
   "outputs": [
    {
     "name": "stdout",
     "output_type": "stream",
     "text": [
      "새로 추가된 데이터: [ 1.         -2.          0.06405235  1.43858862  1.80986498  2.60751788\n",
      "  2.52713623]\n"
     ]
    }
   ],
   "source": [
    "# discount factor\n",
    "r = 0.005\n",
    "t = t+1\n",
    "series = y[:t]\n",
    "print(\"새로 추가된 데이터:\", series)"
   ]
  },
  {
   "cell_type": "code",
   "execution_count": 158,
   "id": "2c0fa03b",
   "metadata": {
    "ExecuteTime": {
     "end_time": "2023-07-04T14:23:24.276007Z",
     "start_time": "2023-07-04T14:23:24.261048Z"
    }
   },
   "outputs": [],
   "source": [
    "# update mean\n",
    "mean = (1-r) * mean + r * series[-1]"
   ]
  },
  {
   "cell_type": "code",
   "execution_count": 159,
   "id": "24edb86b",
   "metadata": {
    "ExecuteTime": {
     "end_time": "2023-07-04T14:23:24.461898Z",
     "start_time": "2023-07-04T14:23:24.443946Z"
    }
   },
   "outputs": [
    {
     "data": {
      "text/plain": [
       "[2.5788254182795676, 1.362556545394369]"
      ]
     },
     "execution_count": 159,
     "metadata": {},
     "output_type": "execute_result"
    }
   ],
   "source": [
    "# update covariance\n",
    "new_autocovariance_1 = []\n",
    "for lag,acov in enumerate(autocovariance_1):\n",
    "    new_acov = (1-r) * acov + r * (series[-1]-mean) * (series[-lag]-mean) \n",
    "    new_autocovariance_1.append(new_acov)\n",
    "    \n",
    "new_autocovariance_1"
   ]
  },
  {
   "cell_type": "code",
   "execution_count": 160,
   "id": "feb8e1ab",
   "metadata": {
    "ExecuteTime": {
     "end_time": "2023-07-04T14:23:24.663359Z",
     "start_time": "2023-07-04T14:23:24.641419Z"
    }
   },
   "outputs": [
    {
     "data": {
      "text/plain": [
       "[3.566880631629328, 2.6018419939861475]"
      ]
     },
     "execution_count": 160,
     "metadata": {},
     "output_type": "execute_result"
    }
   ],
   "source": [
    "# update covariance\n",
    "new_autocovariance_0 = []\n",
    "for lag,acov in enumerate(autocovariance_0):\n",
    "    new_acov = (1-r) * acov + r * (series[-1]-mean) * (series[-lag]-mean)\n",
    "    new_autocovariance_0.append(new_acov)\n",
    "    \n",
    "new_autocovariance_0"
   ]
  },
  {
   "cell_type": "code",
   "execution_count": 161,
   "id": "e5a64cb5",
   "metadata": {
    "ExecuteTime": {
     "end_time": "2023-07-04T14:23:24.817945Z",
     "start_time": "2023-07-04T14:23:24.802986Z"
    }
   },
   "outputs": [
    {
     "data": {
      "text/plain": [
       "array([[2.57882542, 1.36255655],\n",
       "       [1.36255655, 2.57882542]])"
      ]
     },
     "execution_count": 161,
     "metadata": {},
     "output_type": "execute_result"
    }
   ],
   "source": [
    "# covariance_matrix\n",
    "cov_matrix = np.zeros((k,k))\n",
    "for i in range(k):\n",
    "    for j in range(k):\n",
    "        cov_matrix[i][j] = new_autocovariance_1[np.abs(i-j)]\n",
    "cov_matrix"
   ]
  },
  {
   "cell_type": "code",
   "execution_count": 162,
   "id": "5208dbb8",
   "metadata": {
    "ExecuteTime": {
     "end_time": "2023-07-04T14:23:25.064987Z",
     "start_time": "2023-07-04T14:23:25.049329Z"
    }
   },
   "outputs": [
    {
     "data": {
      "text/plain": [
       "array([[3.56688063, 0.        ],\n",
       "       [2.60184199, 3.56688063]])"
      ]
     },
     "execution_count": 162,
     "metadata": {},
     "output_type": "execute_result"
    }
   ],
   "source": [
    "# update w1, w2, w3 \n",
    "# Construct matrix\n",
    "\n",
    "equation_matrix = np.zeros((k, k))\n",
    "for i in range(k):\n",
    "    for j in range(k):\n",
    "        if j <= i:\n",
    "            equation_matrix[i, j] = new_autocovariance_0[i-j]\n",
    "        else:\n",
    "            equation_matrix[i,j] = 0\n",
    "        \n",
    "equation_matrix"
   ]
  },
  {
   "cell_type": "code",
   "execution_count": 163,
   "id": "bbbb63db",
   "metadata": {
    "ExecuteTime": {
     "end_time": "2023-07-04T14:23:25.344241Z",
     "start_time": "2023-07-04T14:23:25.330278Z"
    }
   },
   "outputs": [
    {
     "data": {
      "text/plain": [
       "array([ 0.72299179, -0.14538021])"
      ]
     },
     "execution_count": 163,
     "metadata": {},
     "output_type": "execute_result"
    }
   ],
   "source": [
    "# update result\n",
    "ar_coefficients = np.linalg.solve(equation_matrix, new_autocovariance_1)\n",
    "ar_coefficients"
   ]
  },
  {
   "cell_type": "code",
   "execution_count": 164,
   "id": "b4f7f807",
   "metadata": {
    "ExecuteTime": {
     "end_time": "2023-07-04T14:23:25.668416Z",
     "start_time": "2023-07-04T14:23:25.652459Z"
    }
   },
   "outputs": [
    {
     "data": {
      "text/plain": [
       "array([ 1.69213798, -0.93712055])"
      ]
     },
     "execution_count": 164,
     "metadata": {},
     "output_type": "execute_result"
    }
   ],
   "source": [
    "# update w\n",
    "w= ar_coefficients * (series[-2:][::-1]-mean) + mean\n",
    "w"
   ]
  },
  {
   "cell_type": "code",
   "execution_count": 165,
   "id": "df4217b0",
   "metadata": {
    "ExecuteTime": {
     "end_time": "2023-07-04T14:23:25.981229Z",
     "start_time": "2023-07-04T14:23:25.969262Z"
    }
   },
   "outputs": [
    {
     "data": {
      "text/plain": [
       "0.004760766198971033"
      ]
     },
     "execution_count": 165,
     "metadata": {},
     "output_type": "execute_result"
    }
   ],
   "source": [
    "multi_armodel = MultivariateARModel(k, mean_vector=w, covariance_matrix=cov_matrix)\n",
    "multi_armodel.multivariate_pdf(series)"
   ]
  },
  {
   "cell_type": "code",
   "execution_count": null,
   "id": "ee3c5ee6",
   "metadata": {},
   "outputs": [],
   "source": []
  },
  {
   "cell_type": "markdown",
   "id": "0665ac2f",
   "metadata": {},
   "source": [
    "# 함수화"
   ]
  },
  {
   "cell_type": "code",
   "execution_count": 166,
   "id": "c8b580bd",
   "metadata": {
    "ExecuteTime": {
     "end_time": "2023-07-04T14:23:27.457380Z",
     "start_time": "2023-07-04T14:23:27.445333Z"
    }
   },
   "outputs": [],
   "source": [
    "def update_mean(series,mean,r):\n",
    "    mean = (1-r) * mean + r * series[-1]\n",
    "    return mean\n",
    "\n",
    "def update_covariance(series,autocovariance,r):\n",
    "    new_autocovariance = []\n",
    "    for lag,acov in enumerate(autocovariance):\n",
    "        new_acov = (1-r) * acov + r * (series[-1]-mean) * (series[-lag]-mean) \n",
    "        new_autocovariance.append(new_acov)\n",
    "        \n",
    "    return new_autocovariance\n",
    "\n",
    "def make_cov_matrix(autocovariance,order):\n",
    "    \n",
    "    autocovariance_1 = autocovariance[1:]\n",
    "    \n",
    "    cov_matrix = np.zeros((order,order))\n",
    "    for i in range(k):\n",
    "        for j in range(k):\n",
    "            cov_matrix[i][j] = new_autocovariance_1[np.abs(i-j)]\n",
    "            \n",
    "    return cov_matrix\n",
    "\n",
    "def get_AR_coefficients(autocovariance, k):\n",
    "    \n",
    "    autocovariance_0 = autocovariance[:-1]\n",
    "    autocovariance_1 = autocovariance[1:]\n",
    "    \n",
    "    equation_matrix = np.zeros((k, k))\n",
    "    for i in range(k):\n",
    "        for j in range(k):\n",
    "            if j <= i:\n",
    "                equation_matrix[i, j] = autocovariance_0[i-j]\n",
    "            else:\n",
    "                equation_matrix[i,j] = 0\n",
    "    \n",
    "    ar_coefficients = np.linalg.solve(equation_matrix, autocovariance_1)\n",
    "    \n",
    "    return ar_coefficients\n",
    "\n",
    "def get_mean_vector(ar_coefficients, order, mean):\n",
    "    \n",
    "    w= ar_coefficients * (series[-order:][::-1]-mean) + mean\n",
    "    \n",
    "    return w\n",
    "    "
   ]
  },
  {
   "cell_type": "code",
   "execution_count": 167,
   "id": "d46e35ef",
   "metadata": {
    "ExecuteTime": {
     "end_time": "2023-07-04T14:23:27.954756Z",
     "start_time": "2023-07-04T14:23:27.934300Z"
    }
   },
   "outputs": [],
   "source": [
    "class SDAR_Model:\n",
    "    def __init__(self,series, order, mean_vector,covariance_matrix):\n",
    "        \"\"\"\n",
    "        Initialize the MultivariateARModel class.\n",
    "\n",
    "        Parameters:\n",
    "            order (int): The order of the AR model.\n",
    "            mean_vector (numpy array): The mean vector of the AR model.\n",
    "            covariance_matrix (numpy array): The covariance matrix of the AR model.\n",
    "        \"\"\"\n",
    "        self.series = series\n",
    "        self.order = order\n",
    "        self.mean_vector = mean_vector\n",
    "        self.covariance_matrix = covariance_matrix\n",
    "\n",
    "    def gaussian_normal_pdf(self):\n",
    "        \"\"\"\n",
    "        Calculate the multivariate probability density function (PDF) in the AR model.\n",
    "\n",
    "        Returns:\n",
    "            numpy array: The PDF values for each observation.\n",
    "        \"\"\"\n",
    "#         pdf_values = np.zeros(data.shape[0])\n",
    "\n",
    "        observation = series[-self.order:][::-1]\n",
    "        pdf_values = multivariate_normal.pdf(observation, mean=self.mean_vector, cov=self.covariance_matrix)\n",
    "\n",
    "        return pdf_values"
   ]
  },
  {
   "cell_type": "code",
   "execution_count": null,
   "id": "14294ba9",
   "metadata": {},
   "outputs": [],
   "source": []
  },
  {
   "cell_type": "code",
   "execution_count": 110,
   "id": "005a5f79",
   "metadata": {
    "ExecuteTime": {
     "end_time": "2023-07-02T15:22:34.504610Z",
     "start_time": "2023-07-02T15:22:34.472101Z"
    }
   },
   "outputs": [
    {
     "data": {
      "text/plain": [
       "0.1522813760406271"
      ]
     },
     "execution_count": 110,
     "metadata": {},
     "output_type": "execute_result"
    }
   ],
   "source": [
    "series = y[:20]\n",
    "order = 2\n",
    "\n",
    "# initial parameter\n",
    "\n",
    "mean= np.mean(series[-order:])\n",
    "\n",
    "autocovariance = []\n",
    "for lag in range(order + 1):\n",
    "    n = len(series)\n",
    "    acov = np.mean((series[order:n] - mean) * (series[order-lag:n-lag] - mean))\n",
    "    autocovariance.append(acov)\n",
    "    \n",
    "autocovariance_1 = autocovariance[1:]\n",
    "autocovariance_0 = autocovariance[:-1]\n",
    "\n",
    "# covariance_matrix\n",
    "cov_matrix = np.zeros((order,order))\n",
    "for i in range(order):\n",
    "    for j in range(order):\n",
    "        cov_matrix[i][j] = autocovariance_1[np.abs(i-j)]\n",
    "        \n",
    "# get ar coefficients\n",
    "\n",
    "equation_matrix = np.zeros((order, order))\n",
    "for i in range(order):\n",
    "    for j in range(order):\n",
    "        if j <= i:\n",
    "            equation_matrix[i, j] = autocovariance_0[i-j]\n",
    "        else:\n",
    "            equation_matrix[i,j] = 0\n",
    "            \n",
    "ar_coefficients = np.linalg.solve(equation_matrix, autocovariance_1)\n",
    "\n",
    "# mean_vector(w)\n",
    "w= ar_coefficients * (series[-order:][::-1]-mean) + mean\n",
    "\n",
    "sdar_model = SDAR_Model(series, order, mean_vector=w, covariance_matrix=cov_matrix)\n",
    "pdf_value = sdar_model.gaussian_normal_pdf()\n",
    "pdf_value"
   ]
  },
  {
   "cell_type": "code",
   "execution_count": 111,
   "id": "327bce61",
   "metadata": {
    "ExecuteTime": {
     "end_time": "2023-07-02T15:22:37.446948Z",
     "start_time": "2023-07-02T15:22:35.827141Z"
    }
   },
   "outputs": [],
   "source": [
    "# # 데이터 하나씩 업데이트\n",
    "# r = 0.005\n",
    "\n",
    "# probability_list = []\n",
    "\n",
    "# for t in range(20+1,5100):\n",
    "#     series = y[:t]\n",
    "    \n",
    "#     mean = update_mean(series, mean, r)\n",
    "#     autocovariance = update_covariance(series,autocovariance,r)\n",
    "    \n",
    "#     cov_matrix =  make_cov_matrix(autocovariance,order)\n",
    "    \n",
    "#     ar_coefficients = get_AR_coefficients(autocovariance, order)\n",
    "    \n",
    "#     w = get_mean_vector(ar_coefficients, order, mean)\n",
    "    \n",
    "#     sdar_model = SDAR_Model(series, order, mean_vector=w, covariance_matrix=cov_matrix)\n",
    "#     pdf_value = sdar_model.gaussian_normal_pdf()\n",
    "#     probability_list.append(pdf_value)"
   ]
  },
  {
   "cell_type": "code",
   "execution_count": 112,
   "id": "241967b8",
   "metadata": {
    "ExecuteTime": {
     "end_time": "2023-07-02T15:23:41.305053Z",
     "start_time": "2023-07-02T15:23:40.937778Z"
    }
   },
   "outputs": [
    {
     "data": {
      "text/plain": [
       "[<matplotlib.lines.Line2D at 0x1b6a98b10f0>]"
      ]
     },
     "execution_count": 112,
     "metadata": {},
     "output_type": "execute_result"
    },
    {
     "data": {
      "image/png": "[encoded data removed]",
      "text/plain": [
       "<Figure size 720x360 with 1 Axes>"
      ]
     },
     "metadata": {
      "needs_background": "light"
     },
     "output_type": "display_data"
    }
   ],
   "source": [
    "# time_range = np.arange(21,5100)\n",
    "# fig, axs = plt.subplots(figsize=(10,5))\n",
    "# plt.plot(time_range, probability_list)"
   ]
  },
  {
   "cell_type": "code",
   "execution_count": 182,
   "id": "8aa65b74",
   "metadata": {
    "ExecuteTime": {
     "end_time": "2023-07-04T15:15:11.169256Z",
     "start_time": "2023-07-04T15:15:09.298634Z"
    }
   },
   "outputs": [
    {
     "data": {
      "text/plain": [
       "[<matplotlib.lines.Line2D at 0x1b6aad9ece0>]"
      ]
     },
     "execution_count": 182,
     "metadata": {},
     "output_type": "execute_result"
    },
    {
     "data": {
      "image/png": "[encoded data removed]",
      "text/plain": [
       "<Figure size 720x360 with 1 Axes>"
      ]
     },
     "metadata": {
      "needs_background": "light"
     },
     "output_type": "display_data"
    }
   ],
   "source": [
    "# 데이터 하나씩 업데이트\n",
    "r = 0.005\n",
    "\n",
    "probability_list = []\n",
    "\n",
    "for t in range(start_point+1,10000):\n",
    "    series = y[:t-1]\n",
    "    \n",
    "    mean = update_mean(series, mean, r)\n",
    "    autocovariance = update_covariance(series,autocovariance,r)\n",
    "    \n",
    "    cov_matrix =  make_cov_matrix(autocovariance,order)\n",
    "    \n",
    "    ar_coefficients = get_AR_coefficients(autocovariance, order)\n",
    "    \n",
    "    w = get_mean_vector(ar_coefficients, order, mean)\n",
    "    \n",
    "    new_series = y[:t]\n",
    "    sdar_model = SDAR_Model(series, order, mean_vector=w, covariance_matrix=cov_matrix)\n",
    "    pdf_value = sdar_model.gaussian_normal_pdf()\n",
    "    probability_list.append(pdf_value)\n",
    "    \n",
    "time_range = np.arange(start_point+1,10000)\n",
    "fig, axs = plt.subplots(figsize=(10,5))\n",
    "plt.plot(time_range, probability_list)"
   ]
  },
  {
   "cell_type": "markdown",
   "id": "fbee8673",
   "metadata": {},
   "source": [
    "# Scoring"
   ]
  },
  {
   "cell_type": "code",
   "execution_count": 185,
   "id": "b656ebb9",
   "metadata": {
    "ExecuteTime": {
     "end_time": "2023-07-04T15:18:33.435350Z",
     "start_time": "2023-07-04T15:18:33.411414Z"
    }
   },
   "outputs": [],
   "source": [
    "start_point = 10\n",
    "series = y[:start_point]\n",
    "\n",
    "k=2\n",
    "mean= np.mean(series[-k:])\n",
    "\n",
    "autocovariance = []\n",
    "for lag in range(k + 1):\n",
    "    n = len(series)\n",
    "    acov = np.mean((series[k:n] - mean) * (series[k-lag:n-lag] - mean))\n",
    "    autocovariance.append(acov)\n",
    "    \n",
    "autocovariance_1 = []\n",
    "for lag in range(1,k + 1):\n",
    "    n = len(series)\n",
    "    acov = np.mean((series[k:n] - mean) * (series[k-lag:n-lag] - mean))\n",
    "    autocovariance_1.append(acov)\n",
    "    \n",
    "autocovariance_0 = []\n",
    "for lag in range(k):\n",
    "    n = len(series)\n",
    "    acov = np.mean((series[k:n] - mean) * (series[k-lag:n-lag] - mean))\n",
    "    autocovariance_0.append(acov)\n",
    "    \n",
    "# covariance_matrix\n",
    "cov_matrix = np.zeros((k,k))\n",
    "for i in range(k):\n",
    "    for j in range(k):\n",
    "        cov_matrix[i][j] = autocovariance_1[np.abs(i-j)]\n",
    "        \n",
    "equation_matrix = np.zeros((k, k))\n",
    "for i in range(k):\n",
    "    for j in range(k):\n",
    "        if j <= i:\n",
    "            equation_matrix[i, j] = autocovariance_0[i-j]\n",
    "        else:\n",
    "            equation_matrix[i,j] = 0\n",
    "            \n",
    "ar_coefficients = np.linalg.solve(equation_matrix, autocovariance_1)\n",
    "\n",
    "w= ar_coefficients * (series[-k:][::-1]-mean) + mean"
   ]
  },
  {
   "cell_type": "code",
   "execution_count": 186,
   "id": "96fe63df",
   "metadata": {
    "ExecuteTime": {
     "end_time": "2023-07-04T15:18:37.677187Z",
     "start_time": "2023-07-04T15:18:34.259126Z"
    }
   },
   "outputs": [
    {
     "name": "stderr",
     "output_type": "stream",
     "text": [
      "C:\\Users\\21ckw\\AppData\\Local\\Temp\\ipykernel_8592\\3749261527.py:17: RuntimeWarning: divide by zero encountered in log\n",
      "  outlier_score = -np.log(pdf_value)\n"
     ]
    },
    {
     "data": {
      "text/plain": [
       "[<matplotlib.lines.Line2D at 0x1b6abe806d0>]"
      ]
     },
     "execution_count": 186,
     "metadata": {},
     "output_type": "execute_result"
    },
    {
     "data": {
      "image/png": "[encoded data removed]",
      "text/plain": [
       "<Figure size 720x360 with 1 Axes>"
      ]
     },
     "metadata": {
      "needs_background": "light"
     },
     "output_type": "display_data"
    }
   ],
   "source": [
    "# 데이터 하나씩 업데이트\n",
    "r = 0.005\n",
    "T = 5\n",
    "T_ = 5\n",
    "\n",
    "probability_list = []\n",
    "outlier_score_list = []\n",
    "cp_list = [] \n",
    "cp_score_list = []\n",
    "\n",
    "for t in range(start_point+1,10000):\n",
    "    \n",
    "    # 기존 파라미터로 확률 추정\n",
    "    series = y[:t-1]\n",
    "    sdar_model = SDAR_Model(series, order, mean_vector=w, covariance_matrix=cov_matrix)\n",
    "    pdf_value = sdar_model.gaussian_normal_pdf()\n",
    "    \n",
    "    # 이상치 score\n",
    "    outlier_score = -np.log(pdf_value)\n",
    "    outlier_score_list.append(outlier_score)\n",
    "    \n",
    "    if len(outlier_score_list)>T:\n",
    "        cp = np.mean(outlier_score_list[t-T+1: t+1])\n",
    "        cp_list.append(cp)\n",
    "    else:\n",
    "        cp_list.append(1)\n",
    "    \n",
    "    # 파라미터 업그레이드\n",
    "    \n",
    "    mean = update_mean(series, mean, r)\n",
    "    autocovariance = update_covariance(series,autocovariance,r)\n",
    "    \n",
    "    cov_matrix =  make_cov_matrix(autocovariance,order)\n",
    "    \n",
    "    ar_coefficients = get_AR_coefficients(autocovariance, order)\n",
    "    \n",
    "    w = get_mean_vector(ar_coefficients, order, mean)\n",
    "    \n",
    "    new_series = y[:t]\n",
    "    sdar_model = SDAR_Model(series, order, mean_vector=w, covariance_matrix=cov_matrix)\n",
    "    pdf_value = sdar_model.gaussian_normal_pdf()\n",
    "      \n",
    "    \n",
    "time_range = np.arange(start_point+1,10000)\n",
    "fig, axs = plt.subplots(figsize=(10,5))\n",
    "plt.plot(time_range, outlier_score_list)"
   ]
  },
  {
   "cell_type": "code",
   "execution_count": null,
   "id": "94d16a4b",
   "metadata": {},
   "outputs": [],
   "source": [
    "# chage point\n",
    "T = 5\n",
    "T_ = 5\n",
    "\n",
    "cp_list = [] \n",
    "for t in range(start_point+1,10000):\n",
    "    cp = np.mean(outlier_score_list[t-T+1: t+1])\n",
    "    cp_list.append(cp)\n",
    "    \n"
   ]
  },
  {
   "cell_type": "code",
   "execution_count": null,
   "id": "7f66e6a2",
   "metadata": {},
   "outputs": [],
   "source": []
  }
 ],
 "metadata": {
  "kernelspec": {
   "display_name": "Python 3 (ipykernel)",
   "language": "python",
   "name": "python3"
  },
  "language_info": {
   "codemirror_mode": {
    "name": "ipython",
    "version": 3
   },
   "file_extension": ".py",
   "mimetype": "text/x-python",
   "name": "python",
   "nbconvert_exporter": "python",
   "pygments_lexer": "ipython3",
   "version": "3.10.11"
  },
  "toc": {
   "base_numbering": 1,
   "nav_menu": {},
   "number_sections": true,
   "sideBar": true,
   "skip_h1_title": false,
   "title_cell": "Table of Contents",
   "title_sidebar": "Contents",
   "toc_cell": false,
   "toc_position": {},
   "toc_section_display": true,
   "toc_window_display": true
  },
  "varInspector": {
   "cols": {
    "lenName": 16,
    "lenType": 16,
    "lenVar": 40
   },
   "kernels_config": {
    "python": {
     "delete_cmd_postfix": "",
     "delete_cmd_prefix": "del ",
     "library": "var_list.py",
     "varRefreshCmd": "print(var_dic_list())"
    },
    "r": {
     "delete_cmd_postfix": ") ",
     "delete_cmd_prefix": "rm(",
     "library": "var_list.r",
     "varRefreshCmd": "cat(var_dic_list()) "
    }
   },
   "types_to_exclude": [
    "module",
    "function",
    "builtin_function_or_method",
    "instance",
    "_Feature"
   ],
   "window_display": false
  }
 },
 "nbformat": 4,
 "nbformat_minor": 5
}
