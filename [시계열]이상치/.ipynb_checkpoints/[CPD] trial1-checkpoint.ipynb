{
 "cells": [
  {
   "cell_type": "markdown",
   "id": "2d3773f8",
   "metadata": {},
   "source": [
    "# [CPD] Non-stationary "
   ]
  },
  {
   "cell_type": "code",
   "execution_count": 27,
   "id": "eeba5bcb",
   "metadata": {
    "ExecuteTime": {
     "end_time": "2023-06-18T13:34:06.299979Z",
     "start_time": "2023-06-18T13:34:00.954924Z"
    }
   },
   "outputs": [],
   "source": [
    "import numpy as np\n",
    "import pandas as pd\n",
    "import matplotlib.pyplot as plt\n",
    "import seaborn as sns\n",
    "import FinanceDataReader as fdr"
   ]
  },
  {
   "cell_type": "markdown",
   "id": "dac58838",
   "metadata": {},
   "source": [
    "## make AR dataset"
   ]
  },
  {
   "cell_type": "code",
   "execution_count": 28,
   "id": "a7fa7ea6",
   "metadata": {
    "ExecuteTime": {
     "end_time": "2023-06-18T13:34:06.378832Z",
     "start_time": "2023-06-18T13:34:06.357671Z"
    }
   },
   "outputs": [
    {
     "data": {
      "text/plain": [
       "[array([7, 9, 3]), array([4, 7, 9]), array([5, 4, 7])]"
      ]
     },
     "execution_count": 28,
     "metadata": {},
     "output_type": "execute_result"
    }
   ],
   "source": [
    "import numpy as np\n",
    "\n",
    "# Example AR time series data\n",
    "data = np.array([1, 4, 2, 5, 4, 7, 9, 3])\n",
    "\n",
    "# Create lagged variables\n",
    "\n",
    "k = 3 # ar_model order\n",
    "\n",
    "[np.roll(data, i)[-k:] for i in range(k)]"
   ]
  },
  {
   "cell_type": "code",
   "execution_count": 29,
   "id": "379c45b6",
   "metadata": {
    "ExecuteTime": {
     "end_time": "2023-06-18T13:34:06.472581Z",
     "start_time": "2023-06-18T13:34:06.447433Z"
    }
   },
   "outputs": [
    {
     "name": "stdout",
     "output_type": "stream",
     "text": [
      "[[7 4 5]\n",
      " [9 7 4]\n",
      " [3 9 7]]\n"
     ]
    }
   ],
   "source": [
    "lagged_data = np.column_stack([np.roll(data, i)[-k:] for i in range(k)]) # lag 0,1,2\n",
    "print(lagged_data)"
   ]
  },
  {
   "cell_type": "code",
   "execution_count": 30,
   "id": "736a38e4",
   "metadata": {
    "ExecuteTime": {
     "end_time": "2023-06-18T13:34:10.817748Z",
     "start_time": "2023-06-18T13:34:10.802717Z"
    }
   },
   "outputs": [
    {
     "name": "stdout",
     "output_type": "stream",
     "text": [
      "Covariance Matrix:\n",
      "[[ 9.33333333 -4.33333333 -4.66666667]\n",
      " [-4.33333333  6.33333333  2.16666667]\n",
      " [-4.66666667  2.16666667  2.33333333]]\n"
     ]
    }
   ],
   "source": [
    "# Compute the covariance matrix\n",
    "covariance_matrix = np.cov(lagged_data, rowvar=False)\n",
    "\n",
    "print(\"Covariance Matrix:\")\n",
    "print(covariance_matrix)"
   ]
  },
  {
   "cell_type": "code",
   "execution_count": 15,
   "id": "5f53e5ab",
   "metadata": {
    "ExecuteTime": {
     "end_time": "2023-06-18T13:12:33.586054Z",
     "start_time": "2023-06-18T13:12:33.569925Z"
    }
   },
   "outputs": [
    {
     "name": "stdout",
     "output_type": "stream",
     "text": [
      "t-k ~ t-1 데이터 평균: 6.333333333333333\n",
      "t-k ~ t-1 데이터 공분산: 9.333333333333334\n"
     ]
    }
   ],
   "source": [
    "# 기존 공분산 \n",
    "cov_matrix = np.cov(data[-k:])\n",
    "print(f\"t-k ~ t-1 데이터 공분산: {cov_matrix}\")"
   ]
  },
  {
   "cell_type": "code",
   "execution_count": null,
   "id": "8be0a718",
   "metadata": {},
   "outputs": [],
   "source": []
  },
  {
   "cell_type": "code",
   "execution_count": null,
   "id": "fc6464c8",
   "metadata": {},
   "outputs": [],
   "source": []
  },
  {
   "cell_type": "code",
   "execution_count": 35,
   "id": "8c462140",
   "metadata": {
    "ExecuteTime": {
     "end_time": "2023-06-18T14:41:15.765170Z",
     "start_time": "2023-06-18T14:41:15.731180Z"
    }
   },
   "outputs": [
    {
     "name": "stdout",
     "output_type": "stream",
     "text": [
      "t-k ~ t-1 데이터 평균: 6.333333333333333\n",
      "j=1\n",
      "0.07407407407407321\n",
      "j=2\n",
      "1.2962962962962943\n",
      "j=3\n",
      "4.629629629629627\n"
     ]
    },
    {
     "data": {
      "text/plain": [
       "[0.07407407407407321, 1.2962962962962943, 4.629629629629627]"
      ]
     },
     "execution_count": 35,
     "metadata": {},
     "output_type": "execute_result"
    }
   ],
   "source": [
    "# Example AR time series data\n",
    "data = np.array([1, 4, 2, 5, 4, 7, 9, 3])\n",
    "\n",
    "k=3\n",
    "\n",
    "# 새로운 Xt 가 들어왔을 때\n",
    "# 기존 데이터\n",
    "\n",
    "# 기존(t-k ~ t-1) 평균\n",
    "mean = np.mean(data[-k:])\n",
    "print(f\"t-k ~ t-1 데이터 평균: {mean}\")\n",
    "\n",
    "# covariance funtion of x1, x2...xt\n",
    "cov_list = []\n",
    "for j in range(1,k+1):\n",
    "    print(f\"j={j}\")\n",
    "    cov = 0 \n",
    "    for i in range(k+1, len(data)+1):\n",
    "        var = (data[i-1]-mean) * (data[i-j-1]-mean)\n",
    "        cov += var\n",
    "    cov = 1/len(data[-k:]) * cov\n",
    "    print(cov)\n",
    "    cov_list.append(cov)\n",
    "    \n",
    "cov_list"
   ]
  },
  {
   "cell_type": "markdown",
   "id": "2e240599",
   "metadata": {},
   "source": [
    "## when read new Xt : Parameter Upgrading"
   ]
  },
  {
   "cell_type": "code",
   "execution_count": 24,
   "id": "3c164d54",
   "metadata": {
    "ExecuteTime": {
     "end_time": "2023-06-18T13:29:14.832177Z",
     "start_time": "2023-06-18T13:29:14.812579Z"
    }
   },
   "outputs": [
    {
     "data": {
      "text/plain": [
       "array([ 1,  4,  2,  5,  4,  7,  9,  3, 10])"
      ]
     },
     "execution_count": 24,
     "metadata": {},
     "output_type": "execute_result"
    }
   ],
   "source": [
    "# discounting factor\n",
    "r = 0.3\n",
    "new_x = 10\n",
    "\n",
    "data = np.concatenate([data,np.array([new_x])])\n",
    "data"
   ]
  },
  {
   "cell_type": "code",
   "execution_count": 25,
   "id": "69830e2e",
   "metadata": {
    "ExecuteTime": {
     "end_time": "2023-06-18T13:32:11.178146Z",
     "start_time": "2023-06-18T13:32:11.155051Z"
    }
   },
   "outputs": [
    {
     "data": {
      "text/plain": [
       "10"
      ]
     },
     "execution_count": 25,
     "metadata": {},
     "output_type": "execute_result"
    }
   ],
   "source": [
    "data[-1]"
   ]
  },
  {
   "cell_type": "code",
   "execution_count": 26,
   "id": "1a2417eb",
   "metadata": {
    "ExecuteTime": {
     "end_time": "2023-06-18T13:33:30.456625Z",
     "start_time": "2023-06-18T13:33:30.394311Z"
    }
   },
   "outputs": [
    {
     "ename": "NameError",
     "evalue": "name 'c' is not defined",
     "output_type": "error",
     "traceback": [
      "\u001b[1;31m---------------------------------------------------------------------------\u001b[0m",
      "\u001b[1;31mNameError\u001b[0m                                 Traceback (most recent call last)",
      "Cell \u001b[1;32mIn[26], line 5\u001b[0m\n\u001b[0;32m      3\u001b[0m c_list \u001b[38;5;241m=\u001b[39m []\n\u001b[0;32m      4\u001b[0m \u001b[38;5;28;01mfor\u001b[39;00m j \u001b[38;5;129;01min\u001b[39;00m \u001b[38;5;28mrange\u001b[39m(\u001b[38;5;241m1\u001b[39m,k\u001b[38;5;241m+\u001b[39m\u001b[38;5;241m1\u001b[39m):\n\u001b[1;32m----> 5\u001b[0m     c \u001b[38;5;241m=\u001b[39m (\u001b[38;5;241m1\u001b[39m\u001b[38;5;241m-\u001b[39mr) \u001b[38;5;241m*\u001b[39m \u001b[43mc\u001b[49m \u001b[38;5;241m+\u001b[39m r\u001b[38;5;241m*\u001b[39m(data[\u001b[38;5;241m-\u001b[39m\u001b[38;5;241m1\u001b[39m] \u001b[38;5;241m-\u001b[39m mean)\u001b[38;5;241m*\u001b[39m(data[\u001b[38;5;241m-\u001b[39mj]\u001b[38;5;241m-\u001b[39m mean)\u001b[38;5;241m.\u001b[39mT\n\u001b[0;32m      6\u001b[0m     c_list\u001b[38;5;241m.\u001b[39mappend(c)\n\u001b[0;32m      7\u001b[0m c_list\n",
      "\u001b[1;31mNameError\u001b[0m: name 'c' is not defined"
     ]
    }
   ],
   "source": [
    "mean = (1-r) + r*new_x\n",
    "\n",
    "c_list = []\n",
    "for j in range(1,k+1):\n",
    "    c = (1-r) * c + r*(data[-1] - mean)*(data[-j]- mean).T\n",
    "    c_list.append(c)\n",
    "c_list"
   ]
  },
  {
   "cell_type": "code",
   "execution_count": null,
   "id": "56d94ff7",
   "metadata": {},
   "outputs": [],
   "source": []
  },
  {
   "cell_type": "code",
   "execution_count": null,
   "id": "ba2ea930",
   "metadata": {},
   "outputs": [],
   "source": []
  },
  {
   "cell_type": "code",
   "execution_count": 75,
   "id": "18414d48",
   "metadata": {
    "ExecuteTime": {
     "end_time": "2023-06-18T09:08:01.180086Z",
     "start_time": "2023-06-18T09:08:01.144361Z"
    }
   },
   "outputs": [
    {
     "name": "stdout",
     "output_type": "stream",
     "text": [
      "Multivariate Normal Distribution:\n",
      "Mean Vector: [2. 5. 8.]\n",
      "Covariance Matrix:\n",
      "[[1. 1. 1.]\n",
      " [1. 1. 1.]\n",
      " [1. 1. 1.]]\n",
      "Probability Density at Point: 0.23032943298089034\n"
     ]
    }
   ],
   "source": [
    "import numpy as np\n",
    "from scipy.stats import multivariate_normal\n",
    "\n",
    "time_series = [1, 4, 7, 9, 3, 6, 12, 15]\n",
    "\n",
    "data = \n",
    "\n",
    "# 새로운 데이터\n",
    "new_x = 8\n",
    "time_series.append(new_x)\n",
    "\n",
    "# Example time series data with three variables over time\n",
    "data = np.array([[1, 4, 7],\n",
    "                 [2, 5, 8],\n",
    "                 [3, 6, 9]])\n",
    "\n",
    "# Calculate the mean vector\n",
    "mean_vector = np.mean(data, axis=0)\n",
    "\n",
    "# Calculate the covariance matrix\n",
    "covariance_matrix = np.cov(data, rowvar=False)\n",
    "\n",
    "# covariance_matrix = np.cov(data, rowvar=True)\n",
    "\n",
    "# Create a multivariate normal distribution object\n",
    "mv_normal = multivariate_normal(mean=mean_vector, cov=covariance_matrix, allow_singular=True)\n",
    "\n",
    "# Calculate the probability density at a given point\n",
    "point = [2, 5, 8]\n",
    "pdf_value = mv_normal.pdf(point)\n",
    "\n",
    "print(\"Multivariate Normal Distribution:\")\n",
    "print(\"Mean Vector:\", mean_vector)\n",
    "print(\"Covariance Matrix:\")\n",
    "print(covariance_matrix)\n",
    "print(\"Probability Density at Point:\", pdf_value)\n"
   ]
  },
  {
   "cell_type": "code",
   "execution_count": 81,
   "id": "fc41f1bd",
   "metadata": {
    "ExecuteTime": {
     "end_time": "2023-06-18T09:10:36.872405Z",
     "start_time": "2023-06-18T09:10:36.854295Z"
    }
   },
   "outputs": [
    {
     "data": {
      "text/plain": [
       "9.0"
      ]
     },
     "execution_count": 81,
     "metadata": {},
     "output_type": "execute_result"
    }
   ],
   "source": [
    "covariance_matrix = np.cov(data, rowvar=True)\n",
    "covariance_matrix"
   ]
  },
  {
   "cell_type": "markdown",
   "id": "f1e87eaf",
   "metadata": {},
   "source": [
    "# AR Model"
   ]
  },
  {
   "cell_type": "markdown",
   "id": "b1738370",
   "metadata": {},
   "source": [
    "## k=1"
   ]
  },
  {
   "cell_type": "code",
   "execution_count": 44,
   "id": "d21348d6",
   "metadata": {
    "ExecuteTime": {
     "end_time": "2023-06-14T15:16:14.761391Z",
     "start_time": "2023-06-14T15:16:14.742440Z"
    }
   },
   "outputs": [
    {
     "data": {
      "text/plain": [
       "array([ 0.        , -0.87533509,  0.03268783,  0.26228063,  0.8156365 ,\n",
       "       -0.68748444, -1.24763847,  0.57286639,  0.02255292,  0.10900532,\n",
       "        0.26131038,  0.94383258, -1.52123368, -0.94921927, -0.97740678,\n",
       "        0.05103445, -1.04226963, -1.2994118 ,  0.40576696,  1.19784483,\n",
       "       -1.14836772,  0.44511267,  2.08120177,  0.40800797, -0.90495468,\n",
       "       -1.95354376,  0.1415241 ,  0.30427719, -0.24189764,  0.12571669,\n",
       "        0.11599859, -1.49377964,  1.90953602,  0.38679864, -0.31501073,\n",
       "        0.37236298, -1.06541527, -0.128785  , -0.24254419, -0.0944655 ,\n",
       "       -0.19426864,  0.74788143,  0.99502238, -1.10332024,  0.7839643 ,\n",
       "       -1.28715768,  0.5827958 ,  0.21653051, -1.63524333, -0.36277269,\n",
       "        0.03761762,  0.63293708, -0.34276541, -0.43469319,  0.69944307,\n",
       "       -0.97125072, -0.58155507, -0.19647043, -0.42758708, -1.64966211,\n",
       "       -0.1414025 ,  0.39265539, -0.08518854, -0.79691391,  1.22403949,\n",
       "        1.49041699,  1.09285785,  0.82841913,  0.47321244, -0.01378733,\n",
       "       -0.5749622 ,  1.23804264,  0.38768569,  0.11332373, -0.03649823,\n",
       "        0.42697267, -1.0685686 ,  0.31872431, -1.3572785 ,  1.95283626,\n",
       "        0.86234102,  0.49664451,  0.8235593 ,  0.37178681,  0.80748986,\n",
       "       -0.59433875, -0.19285932,  0.32023174, -1.9474616 ,  0.21258012,\n",
       "        0.11901129,  0.31359043,  0.36701267, -0.81973949,  1.12591405,\n",
       "        0.55702469,  1.15576974, -0.35828923, -0.01157422,  0.592027  ])"
      ]
     },
     "execution_count": 44,
     "metadata": {},
     "output_type": "execute_result"
    }
   ],
   "source": [
    "k = 1\n",
    "num_timestep = 100\n",
    "time_range = np.arange(num_timestep)\n",
    "phi = 0.3\n",
    "y = np.zeros(num_timestep)\n",
    "\n",
    "for t in range(k,num_timestep):\n",
    "    e = np.random.randn()\n",
    "    y[t] = phi * y[t-1] + e\n",
    "y"
   ]
  },
  {
   "cell_type": "code",
   "execution_count": 45,
   "id": "356d8371",
   "metadata": {
    "ExecuteTime": {
     "end_time": "2023-06-14T15:16:15.533068Z",
     "start_time": "2023-06-14T15:16:15.404493Z"
    }
   },
   "outputs": [
    {
     "data": {
      "text/plain": [
       "[<matplotlib.lines.Line2D at 0x2da6494b550>]"
      ]
     },
     "execution_count": 45,
     "metadata": {},
     "output_type": "execute_result"
    },
    {
     "data": {
      "image/png": "[encoded data removed]",
      "text/plain": [
       "<Figure size 800x400 with 1 Axes>"
      ]
     },
     "metadata": {},
     "output_type": "display_data"
    }
   ],
   "source": [
    "fig, axs = plt.subplots(figsize=(8,4))\n",
    "plt.plot(time_range,y)"
   ]
  },
  {
   "cell_type": "markdown",
   "id": "ebd32099",
   "metadata": {},
   "source": [
    "## k=2"
   ]
  },
  {
   "cell_type": "code",
   "execution_count": null,
   "id": "43d15c90",
   "metadata": {},
   "outputs": [],
   "source": [
    "k = 2\n",
    "coef = [0.6,-0.5]\n"
   ]
  },
  {
   "cell_type": "code",
   "execution_count": null,
   "id": "6a1c634a",
   "metadata": {},
   "outputs": [],
   "source": []
  },
  {
   "cell_type": "markdown",
   "id": "bb8a49d8",
   "metadata": {},
   "source": [
    "# 개요\n",
    "* {Xt: t= 1,2,3...k}: data sequence,\n",
    "* {Pt: t= 1,2,3...k}: sequence of probability density function\n",
    "* {X^t: t= 1,2,3...k}: should be calculated on the basis of {Pt} and {Xt}, a data Xt is input<br>\n",
    "* P(Xt|Xt-k~Xt-1:θ)(Xt시계열 Xt-k ~ Xt-1 의 분포가 주어졌을 때 Xt의 확률밀도함수<br>\n",
    "\n",
    "* Xt를 input으로 받았을 때 Parameter upgrading 진행<br>\n",
    "-> new_m = (1-r) * m + r * Xt<br>\n",
    "-> new_Cj = (1-r) * C + r(Xt - m)(Xt-j - m) <br>\n",
    "\n"
   ]
  },
  {
   "cell_type": "markdown",
   "id": "2dbb98d3",
   "metadata": {},
   "source": [
    "## 삼성전자 데이터"
   ]
  },
  {
   "cell_type": "code",
   "execution_count": 24,
   "id": "d697bae2",
   "metadata": {
    "ExecuteTime": {
     "end_time": "2023-06-14T14:16:51.287689Z",
     "start_time": "2023-06-14T14:16:51.007129Z"
    }
   },
   "outputs": [
    {
     "data": {
      "text/plain": [
       "<AxesSubplot:xlabel='Date'>"
      ]
     },
     "execution_count": 24,
     "metadata": {},
     "output_type": "execute_result"
    },
    {
     "data": {
      "image/png": "[encoded data removed]",
      "text/plain": [
       "<Figure size 640x480 with 1 Axes>"
      ]
     },
     "metadata": {},
     "output_type": "display_data"
    }
   ],
   "source": [
    "df = fdr.DataReader('005930', '2017')\n",
    "df['Close'].plot()"
   ]
  },
  {
   "cell_type": "markdown",
   "id": "4e1d6038",
   "metadata": {},
   "source": [
    "## Initialization"
   ]
  },
  {
   "cell_type": "code",
   "execution_count": null,
   "id": "661b6658",
   "metadata": {},
   "outputs": [],
   "source": [
    "# discount factor\n",
    "r = 0.005\n",
    "\n",
    "m= 0 # 평균\n",
    "c = 0 #분산 공분산\n",
    "w =  # AR 계수\n",
    "e = # random variable mean=0, covariance matrix를 통해 만들어지는 오차 (정규분포 N~(0,))\n"
   ]
  },
  {
   "cell_type": "markdown",
   "id": "01195bca",
   "metadata": {},
   "source": [
    "## parameter updating"
   ]
  },
  {
   "cell_type": "code",
   "execution_count": null,
   "id": "a86e0a9b",
   "metadata": {},
   "outputs": [],
   "source": [
    "m = (1-r)* m + r*x"
   ]
  },
  {
   "cell_type": "code",
   "execution_count": null,
   "id": "fd4bd2fd",
   "metadata": {},
   "outputs": [],
   "source": []
  },
  {
   "cell_type": "code",
   "execution_count": 57,
   "id": "58283401",
   "metadata": {
    "ExecuteTime": {
     "end_time": "2023-06-17T15:16:08.650772Z",
     "start_time": "2023-06-17T15:16:08.622778Z"
    }
   },
   "outputs": [
    {
     "name": "stdout",
     "output_type": "stream",
     "text": [
      "3.75\n",
      "4.6875\n",
      "2.165063509461097\n"
     ]
    },
    {
     "data": {
      "text/plain": [
       "array(6.25)"
      ]
     },
     "execution_count": 57,
     "metadata": {},
     "output_type": "execute_result"
    }
   ],
   "source": [
    "data = np.array([1, 4, 7, 3])\n",
    "\n",
    "print(data.mean())\n",
    "\n",
    "print(data.var())\n",
    "\n",
    "print(data.std())\n",
    "\n",
    "# Calculate the covariance matrix\n",
    "covariance_matrix = np.cov(data, rowvar=False)\n",
    "covariance_matrix"
   ]
  },
  {
   "cell_type": "code",
   "execution_count": 51,
   "id": "70c0c5a1",
   "metadata": {
    "ExecuteTime": {
     "end_time": "2023-06-17T15:13:22.887921Z",
     "start_time": "2023-06-17T15:13:22.867505Z"
    }
   },
   "outputs": [
    {
     "data": {
      "text/plain": [
       "1.0"
      ]
     },
     "execution_count": 51,
     "metadata": {},
     "output_type": "execute_result"
    }
   ],
   "source": [
    "covariance_matrix[0][2]"
   ]
  },
  {
   "cell_type": "code",
   "execution_count": null,
   "id": "6fc61f93",
   "metadata": {},
   "outputs": [],
   "source": []
  },
  {
   "cell_type": "code",
   "execution_count": null,
   "id": "dda325d8",
   "metadata": {},
   "outputs": [],
   "source": []
  },
  {
   "cell_type": "code",
   "execution_count": null,
   "id": "6f29d78f",
   "metadata": {},
   "outputs": [],
   "source": []
  }
 ],
 "metadata": {
  "kernelspec": {
   "display_name": "python3.8_tensorflow2.5",
   "language": "python",
   "name": "tf2.5_py3.8"
  },
  "language_info": {
   "codemirror_mode": {
    "name": "ipython",
    "version": 3
   },
   "file_extension": ".py",
   "mimetype": "text/x-python",
   "name": "python",
   "nbconvert_exporter": "python",
   "pygments_lexer": "ipython3",
   "version": "3.8.16"
  },
  "toc": {
   "base_numbering": 1,
   "nav_menu": {},
   "number_sections": true,
   "sideBar": true,
   "skip_h1_title": false,
   "title_cell": "Table of Contents",
   "title_sidebar": "Contents",
   "toc_cell": false,
   "toc_position": {},
   "toc_section_display": true,
   "toc_window_display": true
  },
  "varInspector": {
   "cols": {
    "lenName": 16,
    "lenType": 16,
    "lenVar": 40
   },
   "kernels_config": {
    "python": {
     "delete_cmd_postfix": "",
     "delete_cmd_prefix": "del ",
     "library": "var_list.py",
     "varRefreshCmd": "print(var_dic_list())"
    },
    "r": {
     "delete_cmd_postfix": ") ",
     "delete_cmd_prefix": "rm(",
     "library": "var_list.r",
     "varRefreshCmd": "cat(var_dic_list()) "
    }
   },
   "types_to_exclude": [
    "module",
    "function",
    "builtin_function_or_method",
    "instance",
    "_Feature"
   ],
   "window_display": false
  }
 },
 "nbformat": 4,
 "nbformat_minor": 5
}
