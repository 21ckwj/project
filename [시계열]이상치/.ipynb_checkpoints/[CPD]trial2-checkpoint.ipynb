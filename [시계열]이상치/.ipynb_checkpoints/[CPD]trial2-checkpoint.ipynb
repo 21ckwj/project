{
 "cells": [
  {
   "cell_type": "markdown",
   "id": "f667b753",
   "metadata": {},
   "source": [
    "# CPD - Nonstationary"
   ]
  },
  {
   "cell_type": "code",
   "execution_count": 3,
   "id": "2b2a9abb",
   "metadata": {
    "ExecuteTime": {
     "end_time": "2023-06-20T13:22:14.996410Z",
     "start_time": "2023-06-20T13:22:09.098952Z"
    }
   },
   "outputs": [],
   "source": [
    "import pandas as pd\n",
    "import numpy as np\n",
    "import matplotlib.pyplot as plt\n",
    "import seaborn as sns"
   ]
  },
  {
   "cell_type": "markdown",
   "id": "af65309e",
   "metadata": {},
   "source": [
    "# 변수\n",
    "* k : AR model 의 최대 차수(max_lag)\n",
    "* Xt: t 시점의 AR model 시계열\n",
    "* w : AR model의 계수\n",
    "* m : Xt의 평균\n",
    "* Cj : j차수 공분산\n",
    "* ∑: 공분산 행렬(covariance matrix)\n",
    "* e : 오차\n",
    "* r : discounting factor"
   ]
  },
  {
   "cell_type": "markdown",
   "id": "10e9acf3",
   "metadata": {},
   "source": [
    "# 논문 시뮬레이션 데이터셋\n",
    "* Xt := 0.6 * Xt-1 - 0.5 * Xt-2 + e\n",
    "* change points occur at time x * 1000(x=1,2,3..9)\n",
    "* change size : x (Δx = x)"
   ]
  },
  {
   "cell_type": "code",
   "execution_count": 97,
   "id": "c9a4a485",
   "metadata": {
    "ExecuteTime": {
     "end_time": "2023-06-22T14:56:19.514728Z",
     "start_time": "2023-06-22T14:56:19.455128Z"
    }
   },
   "outputs": [],
   "source": [
    "k=2\n",
    "num_timestep = 10000\n",
    "y = np.zeros(num_timestep)\n",
    "y[0]=1\n",
    "y[1]=-2\n",
    "\n",
    "time_range = np.arange(num_timestep)\n",
    "coef = [0.6,-0.5]\n",
    "\n",
    "for t in range(2,num_timestep):\n",
    "    noise = np.random.randn()\n",
    "    \n",
    "    if t % 1000 ==0:\n",
    "        change_size = t//1000\n",
    "        y[t] = coef[0]* y[t-1] + coef[1]*y[t-2] + noise + change_size\n",
    "    else:\n",
    "        y[t] = coef[0]* y[t-1] + coef[1]*y[t-2] + noise"
   ]
  },
  {
   "cell_type": "code",
   "execution_count": 98,
   "id": "88af5f9f",
   "metadata": {
    "ExecuteTime": {
     "end_time": "2023-06-22T14:56:20.079527Z",
     "start_time": "2023-06-22T14:56:20.067639Z"
    }
   },
   "outputs": [
    {
     "data": {
      "text/plain": [
       "10000"
      ]
     },
     "execution_count": 98,
     "metadata": {},
     "output_type": "execute_result"
    }
   ],
   "source": [
    "len(y)"
   ]
  },
  {
   "cell_type": "code",
   "execution_count": 99,
   "id": "1194f69b",
   "metadata": {
    "ExecuteTime": {
     "end_time": "2023-06-22T14:56:20.974882Z",
     "start_time": "2023-06-22T14:56:20.611958Z"
    }
   },
   "outputs": [
    {
     "data": {
      "text/plain": [
       "[<matplotlib.lines.Line2D at 0x1e22e5d1c00>]"
      ]
     },
     "execution_count": 99,
     "metadata": {},
     "output_type": "execute_result"
    },
    {
     "data": {
      "image/png": "[encoded data removed]",
      "text/plain": [
       "<Figure size 720x360 with 1 Axes>"
      ]
     },
     "metadata": {
      "needs_background": "light"
     },
     "output_type": "display_data"
    }
   ],
   "source": [
    "fig, axs = plt.subplots(figsize=(10,5))\n",
    "plt.plot(time_range, y)"
   ]
  },
  {
   "cell_type": "code",
   "execution_count": 81,
   "id": "a94c047d",
   "metadata": {
    "ExecuteTime": {
     "end_time": "2023-06-22T14:25:41.796649Z",
     "start_time": "2023-06-22T14:25:41.772163Z"
    }
   },
   "outputs": [
    {
     "data": {
      "text/plain": [
       "array([112, 118, 132, 129, 121, 135, 148, 148, 136, 119, 104, 118, 115,\n",
       "       126, 141, 135, 125, 149, 170, 170, 158, 133, 114, 140, 145, 150,\n",
       "       178, 163, 172, 178, 199, 199, 184, 162, 146, 166, 171, 180, 193,\n",
       "       181, 183, 218, 230, 242, 209, 191, 172, 194, 196, 196, 236, 235,\n",
       "       229, 243, 264, 272, 237, 211, 180, 201, 204, 188, 235, 227, 234,\n",
       "       264, 302, 293, 259, 229, 203, 229, 242, 233, 267, 269, 270, 315,\n",
       "       364, 347, 312, 274, 237, 278, 284, 277, 317, 313, 318, 374, 413,\n",
       "       405, 355, 306, 271, 306, 315, 301, 356, 348, 355, 422, 465, 467,\n",
       "       404, 347, 305, 336, 340, 318, 362, 348, 363, 435, 491, 505, 404,\n",
       "       359, 310, 337, 360, 342, 406, 396, 420, 472, 548, 559, 463, 407,\n",
       "       362, 405, 417, 391, 419, 461, 472, 535, 622, 606, 508, 461, 390,\n",
       "       432], dtype=int64)"
      ]
     },
     "execution_count": 81,
     "metadata": {},
     "output_type": "execute_result"
    }
   ],
   "source": [
    "# # 가정\n",
    "# k= 4\n",
    "\n",
    "# df = sns.load_dataset(\"flights\")\n",
    "# data = np.array(df['passengers'])\n",
    "# data"
   ]
  },
  {
   "cell_type": "markdown",
   "id": "27761bee",
   "metadata": {},
   "source": [
    "# 기존 데이터\n",
    ":논문 example AR model data를 구현하여 사용"
   ]
  },
  {
   "cell_type": "code",
   "execution_count": 82,
   "id": "89b6a3f6",
   "metadata": {
    "ExecuteTime": {
     "end_time": "2023-06-22T14:25:43.706440Z",
     "start_time": "2023-06-22T14:25:43.696194Z"
    }
   },
   "outputs": [
    {
     "name": "stdout",
     "output_type": "stream",
     "text": [
      "시작데이터: [112 118 132 129 121 135 148 148 136 119 104 118 115 126 141 135 125 149\n",
      " 170 170]\n"
     ]
    }
   ],
   "source": [
    "# 처음 10개 데이터로 시작\n",
    "t = 20\n",
    "series = data[:t]\n",
    "print(\"시작데이터:\", series)"
   ]
  },
  {
   "cell_type": "code",
   "execution_count": 83,
   "id": "91cb3213",
   "metadata": {
    "ExecuteTime": {
     "end_time": "2023-06-22T14:25:44.176357Z",
     "start_time": "2023-06-22T14:25:44.156480Z"
    }
   },
   "outputs": [
    {
     "data": {
      "text/plain": [
       "132.55"
      ]
     },
     "execution_count": 83,
     "metadata": {},
     "output_type": "execute_result"
    }
   ],
   "source": [
    "# 평균\n",
    "mean = np.mean(series)\n",
    "mean"
   ]
  },
  {
   "cell_type": "code",
   "execution_count": 84,
   "id": "98746300",
   "metadata": {
    "ExecuteTime": {
     "end_time": "2023-06-22T14:25:44.393662Z",
     "start_time": "2023-06-22T14:25:44.372223Z"
    }
   },
   "outputs": [
    {
     "data": {
      "text/plain": [
       "[35491.01928321678, 34591.58911971831, 33642.56952127659, 32851.67964285714]"
      ]
     },
     "execution_count": 84,
     "metadata": {},
     "output_type": "execute_result"
    }
   ],
   "source": [
    "# Calculate the sample autocovariance\n",
    "autocovariance = []\n",
    "for lag in range(1, k + 1):\n",
    "    acov = np.mean((data[lag:] - mean) * (data[:-lag] - mean))\n",
    "    autocovariance.append(acov)\n",
    "    \n",
    "autocovariance"
   ]
  },
  {
   "cell_type": "code",
   "execution_count": 85,
   "id": "1750f175",
   "metadata": {
    "ExecuteTime": {
     "end_time": "2023-06-22T14:25:44.565318Z",
     "start_time": "2023-06-22T14:25:44.552508Z"
    }
   },
   "outputs": [
    {
     "data": {
      "text/plain": [
       "array([[35491.01928322, 34591.58911972, 33642.56952128, 32851.67964286],\n",
       "       [34591.58911972, 35491.01928322, 34591.58911972, 33642.56952128],\n",
       "       [33642.56952128, 34591.58911972, 35491.01928322, 34591.58911972],\n",
       "       [32851.67964286, 33642.56952128, 34591.58911972, 35491.01928322]])"
      ]
     },
     "execution_count": 85,
     "metadata": {},
     "output_type": "execute_result"
    }
   ],
   "source": [
    "# Construct the autocovariance matrix\n",
    "autocov_matrix = np.zeros((k, k))\n",
    "for i in range(k):\n",
    "    for j in range(k):\n",
    "        autocov_matrix[i, j] = autocovariance[np.abs(i - j)]\n",
    "autocov_matrix"
   ]
  },
  {
   "cell_type": "code",
   "execution_count": 86,
   "id": "d7dbfa9d",
   "metadata": {
    "ExecuteTime": {
     "end_time": "2023-06-22T14:25:45.284110Z",
     "start_time": "2023-06-22T14:25:45.268841Z"
    }
   },
   "outputs": [
    {
     "data": {
      "text/plain": [
       "array([ 1.,  0., -0.,  0.])"
      ]
     },
     "execution_count": 86,
     "metadata": {},
     "output_type": "execute_result"
    }
   ],
   "source": [
    "# Solve the system of equations to obtain AR coefficients\n",
    "# w1,w2,w3.... \n",
    "ar_coefficients = np.linalg.solve(autocov_matrix, autocovariance)\n",
    "ar_coefficients"
   ]
  },
  {
   "cell_type": "code",
   "execution_count": 87,
   "id": "425ff1a9",
   "metadata": {
    "ExecuteTime": {
     "end_time": "2023-06-22T14:25:45.931244Z",
     "start_time": "2023-06-22T14:25:45.917182Z"
    }
   },
   "outputs": [
    {
     "data": {
      "text/plain": [
       "0.0"
      ]
     },
     "execution_count": 87,
     "metadata": {},
     "output_type": "execute_result"
    }
   ],
   "source": [
    "ar_coefficients[3]"
   ]
  },
  {
   "cell_type": "code",
   "execution_count": 88,
   "id": "f7038d44",
   "metadata": {
    "ExecuteTime": {
     "end_time": "2023-06-22T14:25:48.864726Z",
     "start_time": "2023-06-22T14:25:48.843256Z"
    }
   },
   "outputs": [
    {
     "name": "stdout",
     "output_type": "stream",
     "text": [
      "Estimated AR Coefficients: [ 1.00000000e+00 -1.63952484e-18  1.67240949e-17  1.61317246e-17]\n"
     ]
    }
   ],
   "source": [
    "import numpy as np\n",
    "\n",
    "def estimate_ar_parameters(data, p):\n",
    "    # Calculate the sample mean\n",
    "    mean = np.mean(data)\n",
    "\n",
    "    # Calculate the sample autocovariance\n",
    "    autocovariance = []\n",
    "    for lag in range(1, p + 1):\n",
    "        acov = np.mean((data[lag:] - mean) * (data[:-lag] - mean))\n",
    "        autocovariance.append(acov)\n",
    "\n",
    "    # Construct the autocovariance matrix\n",
    "    autocov_matrix = np.zeros((p, p))\n",
    "    for i in range(p):\n",
    "        for j in range(p):\n",
    "            autocov_matrix[i, j] = autocovariance[np.abs(i - j)]\n",
    "\n",
    "    # Solve the system of equations to obtain AR coefficients\n",
    "    ar_coefficients = np.linalg.solve(autocov_matrix, autocovariance)\n",
    "\n",
    "    return ar_coefficients\n",
    "\n",
    "# Example usage\n",
    "# data = np.array([1, 2, 3, 4, 5, 6, 7, 8, 9])\n",
    "order = 4\n",
    "\n",
    "ar_params = estimate_ar_parameters(series, order)\n",
    "print(\"Estimated AR Coefficients:\", ar_params)\n"
   ]
  },
  {
   "cell_type": "code",
   "execution_count": 89,
   "id": "c77d4577",
   "metadata": {
    "ExecuteTime": {
     "end_time": "2023-06-22T14:25:51.261631Z",
     "start_time": "2023-06-22T14:25:51.249250Z"
    }
   },
   "outputs": [
    {
     "data": {
      "text/plain": [
       "1.6724094915909455e-17"
      ]
     },
     "execution_count": 89,
     "metadata": {},
     "output_type": "execute_result"
    }
   ],
   "source": [
    "ar_params[2]"
   ]
  },
  {
   "cell_type": "code",
   "execution_count": null,
   "id": "376f8f61",
   "metadata": {},
   "outputs": [],
   "source": [
    "# estimate Covariance Matrix\n",
    "# C0 : lag 0\n",
    "C0 = np.mean((data[lag:]-mean)*(data[:lag]-mean))\n"
   ]
  },
  {
   "cell_type": "markdown",
   "id": "6d779591",
   "metadata": {},
   "source": [
    "# Parameter update"
   ]
  },
  {
   "cell_type": "code",
   "execution_count": null,
   "id": "9b97bcda",
   "metadata": {},
   "outputs": [],
   "source": [
    "new_x = data[t+1]\n",
    "# update mean\n",
    "r = 0.3 \n",
    "mean = (1-r)*mean + r* new_x"
   ]
  },
  {
   "cell_type": "code",
   "execution_count": null,
   "id": "3e5118d2",
   "metadata": {},
   "outputs": [],
   "source": [
    "# update autocovariance\n",
    "new_autocovariance = []\n",
    "for lag in range(1,k+1):\n",
    "    \n",
    "autocovariance = (1-r) * autocovariance + "
   ]
  },
  {
   "cell_type": "code",
   "execution_count": null,
   "id": "1f7c2832",
   "metadata": {},
   "outputs": [],
   "source": [
    "# 현재 확률밀도함수\n",
    "# Create a multivariate normal distribution object\n",
    "mv_normal = multivariate_normal(mean=mean_vector, cov=covariance_matrix, allow_singular=True)"
   ]
  }
 ],
 "metadata": {
  "kernelspec": {
   "display_name": "Python 3 (ipykernel)",
   "language": "python",
   "name": "python3"
  },
  "language_info": {
   "codemirror_mode": {
    "name": "ipython",
    "version": 3
   },
   "file_extension": ".py",
   "mimetype": "text/x-python",
   "name": "python",
   "nbconvert_exporter": "python",
   "pygments_lexer": "ipython3",
   "version": "3.10.11"
  },
  "toc": {
   "base_numbering": 1,
   "nav_menu": {},
   "number_sections": true,
   "sideBar": true,
   "skip_h1_title": false,
   "title_cell": "Table of Contents",
   "title_sidebar": "Contents",
   "toc_cell": false,
   "toc_position": {
    "height": "calc(100% - 180px)",
    "left": "10px",
    "top": "150px",
    "width": "244.225px"
   },
   "toc_section_display": true,
   "toc_window_display": true
  },
  "varInspector": {
   "cols": {
    "lenName": 16,
    "lenType": 16,
    "lenVar": 40
   },
   "kernels_config": {
    "python": {
     "delete_cmd_postfix": "",
     "delete_cmd_prefix": "del ",
     "library": "var_list.py",
     "varRefreshCmd": "print(var_dic_list())"
    },
    "r": {
     "delete_cmd_postfix": ") ",
     "delete_cmd_prefix": "rm(",
     "library": "var_list.r",
     "varRefreshCmd": "cat(var_dic_list()) "
    }
   },
   "types_to_exclude": [
    "module",
    "function",
    "builtin_function_or_method",
    "instance",
    "_Feature"
   ],
   "window_display": false
  }
 },
 "nbformat": 4,
 "nbformat_minor": 5
}
