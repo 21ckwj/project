{
 "cells": [
  {
   "cell_type": "markdown",
   "id": "3f7de1c1",
   "metadata": {},
   "source": [
    "# CPD - Nonstationary"
   ]
  },
  {
   "cell_type": "code",
   "execution_count": 3,
   "id": "56f83d2f",
   "metadata": {
    "ExecuteTime": {
     "end_time": "2023-06-20T13:22:14.996410Z",
     "start_time": "2023-06-20T13:22:09.098952Z"
    }
   },
   "outputs": [],
   "source": [
    "import pandas as pd\n",
    "import numpy as np\n",
    "import matplotlib.pyplot as plt\n",
    "import seaborn as sns"
   ]
  },
  {
   "cell_type": "markdown",
   "id": "d30a9f0b",
   "metadata": {},
   "source": [
    "# 변수\n",
    "* k : AR model 의 최대 차수(max_lag)\n",
    "* Xt: t 시점의 AR model 시계열\n",
    "* w : AR model의 계수\n",
    "* m : Xt의 평균\n",
    "* Cj : j차수 공분산\n",
    "* ∑: 공분산 행렬(covariance matrix)\n",
    "* e : 오차\n",
    "* r : discounting factor"
   ]
  },
  {
   "cell_type": "markdown",
   "id": "17aeb8f4",
   "metadata": {},
   "source": [
    "# 논문 시뮬레이션 데이터셋\n",
    "* Xt := 0.6 * Xt-1 - 0.5 * Xt-2 + e\n",
    "* change points occur at time x * 1000(x=1,2,3..9)\n",
    "* change size : x (Δx = x)"
   ]
  },
  {
   "cell_type": "code",
   "execution_count": 147,
   "id": "b98ea480",
   "metadata": {
    "ExecuteTime": {
     "end_time": "2023-06-24T02:21:36.888169Z",
     "start_time": "2023-06-24T02:21:36.838847Z"
    }
   },
   "outputs": [],
   "source": [
    "k=2\n",
    "num_timestep = 10000\n",
    "y = np.zeros(num_timestep)\n",
    "y[0]=1\n",
    "y[1]=-2\n",
    "\n",
    "time_range = np.arange(num_timestep)\n",
    "coef = [0.6,-0.5]\n",
    "\n",
    "change_size = 0\n",
    "for t in range(2,num_timestep):\n",
    "    noise = np.random.randn()   \n",
    "    if t % 1000 ==0: # 1000의 배수마다 change point 설정\n",
    "        change = t//1000\n",
    "        change_size += change\n",
    "    \n",
    "    # AR 모델 + change point를 고려\n",
    "    y[t] = coef[0]* y[t-1] + coef[1]*y[t-2] + noise + change_size\n"
   ]
  },
  {
   "cell_type": "code",
   "execution_count": 148,
   "id": "2a37aa0d",
   "metadata": {
    "ExecuteTime": {
     "end_time": "2023-06-24T02:21:37.456806Z",
     "start_time": "2023-06-24T02:21:37.156452Z"
    }
   },
   "outputs": [
    {
     "data": {
      "text/plain": [
       "[<matplotlib.lines.Line2D at 0x1e22e1cefb0>]"
      ]
     },
     "execution_count": 148,
     "metadata": {},
     "output_type": "execute_result"
    },
    {
     "data": {
      "image/png": "[encoded data removed]",
      "text/plain": [
       "<Figure size 720x360 with 1 Axes>"
      ]
     },
     "metadata": {
      "needs_background": "light"
     },
     "output_type": "display_data"
    }
   ],
   "source": [
    "fig, axs = plt.subplots(figsize=(10,5))\n",
    "plt.plot(time_range, y)"
   ]
  },
  {
   "cell_type": "markdown",
   "id": "a5faf39c",
   "metadata": {},
   "source": [
    "# 기존 데이터의 통계적 분포\n",
    ":새로운 데이터가 들어가기 전 평균(m), 공분산(C0,C1..Ck),AR계수(w1,w2,w3...), 추정 공분산 행렬(Σ^)"
   ]
  },
  {
   "cell_type": "code",
   "execution_count": 149,
   "id": "22c8c6e9",
   "metadata": {
    "ExecuteTime": {
     "end_time": "2023-06-24T02:21:38.334703Z",
     "start_time": "2023-06-24T02:21:38.322947Z"
    }
   },
   "outputs": [
    {
     "name": "stdout",
     "output_type": "stream",
     "text": [
      "시작데이터: [ 1.         -2.         -1.81638465 -0.0996158  -0.34338815  0.97433696\n",
      "  0.65631534  0.08116702 -0.5160925  -1.58383651 -1.48367102 -1.84003428\n",
      " -1.50210128  0.81928     1.98490344 -0.29103217 -1.37565374 -0.0072949\n",
      "  0.50116311 -0.83019468]\n"
     ]
    }
   ],
   "source": [
    "# 처음 20개 데이터로 시작\n",
    "t = 20\n",
    "series = y[:t]\n",
    "print(\"시작데이터:\", series)"
   ]
  },
  {
   "cell_type": "markdown",
   "id": "fa7a8c5f",
   "metadata": {},
   "source": [
    "## 평균"
   ]
  },
  {
   "cell_type": "code",
   "execution_count": 150,
   "id": "8ee1b803",
   "metadata": {
    "ExecuteTime": {
     "end_time": "2023-06-24T02:21:39.142067Z",
     "start_time": "2023-06-24T02:21:39.127646Z"
    }
   },
   "outputs": [
    {
     "data": {
      "text/plain": [
       "-0.3706741022466524"
      ]
     },
     "execution_count": 150,
     "metadata": {},
     "output_type": "execute_result"
    }
   ],
   "source": [
    "# 평균\n",
    "mean = np.mean(series[k:])\n",
    "mean"
   ]
  },
  {
   "cell_type": "markdown",
   "id": "fd33a950",
   "metadata": {},
   "source": [
    "## 공분산\n",
    ": 공분산을 통해 AR Model의 추청 계수(coefficients)를 구할 수 있음"
   ]
  },
  {
   "cell_type": "code",
   "execution_count": 151,
   "id": "5deaf52b",
   "metadata": {
    "ExecuteTime": {
     "end_time": "2023-06-24T02:21:40.021404Z",
     "start_time": "2023-06-24T02:21:40.003442Z"
    }
   },
   "outputs": [],
   "source": [
    "# Solve the system of equations to obtain AR coefficients\n",
    "# ex. max_lag= 4\n",
    "# C4 = w1*C3 + w2*C2 + w3*C1 + w4*C0\n",
    "# C3 = w1*C2 + w2*C1 + w3*C0\n",
    "# C2 = w1*C1 + w2*C0\n",
    "# C1 = W1*C0\n",
    "\n",
    "# autocovariance = [C1,C2,C3,C4]\n",
    "# autocovariance_ = [C0,C1,C2,C3]"
   ]
  },
  {
   "cell_type": "code",
   "execution_count": 152,
   "id": "b764d4e7",
   "metadata": {
    "ExecuteTime": {
     "end_time": "2023-06-24T02:21:40.397862Z",
     "start_time": "2023-06-24T02:21:40.370359Z"
    }
   },
   "outputs": [
    {
     "data": {
      "text/plain": [
       "[0.5403982329375913, -0.3698084101656501]"
      ]
     },
     "execution_count": 152,
     "metadata": {},
     "output_type": "execute_result"
    }
   ],
   "source": [
    "# Calculate the autocovariance: [C1,C2,C3..Ck]\n",
    "# k=2 : [C1,C2]\n",
    "autocovariance = []\n",
    "for lag in range(1, k + 1):\n",
    "    acov = np.mean((series[k:] - mean) * (series[k-lag:-lag] - mean))\n",
    "    autocovariance.append(acov)\n",
    "    \n",
    "autocovariance"
   ]
  },
  {
   "cell_type": "code",
   "execution_count": 155,
   "id": "e41b7121",
   "metadata": {
    "ExecuteTime": {
     "end_time": "2023-06-24T02:25:59.734596Z",
     "start_time": "2023-06-24T02:25:59.710149Z"
    }
   },
   "outputs": [
    {
     "data": {
      "text/plain": [
       "[1.1381891121824386, 0.5403982329375913]"
      ]
     },
     "execution_count": 155,
     "metadata": {},
     "output_type": "execute_result"
    }
   ],
   "source": [
    "# Calculate the autocovariance: [C0,C1,...Ck-1]\n",
    "# k=2 : [C0,C1]\n",
    "autocovariance_ = []\n",
    "for lag in range(0, k):\n",
    "    if lag != 0: \n",
    "        acov = np.mean((series[k:] - mean) * (series[k-lag : -lag] - mean))\n",
    "    else:\n",
    "        acov = np.mean((series[k:] - mean) * (series[k:] - mean))\n",
    "    autocovariance_.append(acov)\n",
    "autocovariance_"
   ]
  },
  {
   "cell_type": "code",
   "execution_count": 156,
   "id": "2be77269",
   "metadata": {
    "ExecuteTime": {
     "end_time": "2023-06-24T02:27:01.453837Z",
     "start_time": "2023-06-24T02:27:01.434459Z"
    }
   },
   "outputs": [
    {
     "data": {
      "text/plain": [
       "array([[1.13818911, 0.54039823],\n",
       "       [0.54039823, 1.13818911]])"
      ]
     },
     "execution_count": 156,
     "metadata": {},
     "output_type": "execute_result"
    }
   ],
   "source": [
    "# Construct the autocovariance matrix\n",
    "autocov_matrix = np.zeros((k, k))\n",
    "for i in range(k):\n",
    "    for j in range(k):\n",
    "        autocov_matrix[i, j] = autocovariance_[np.abs(i - j)]\n",
    "autocov_matrix"
   ]
  },
  {
   "cell_type": "code",
   "execution_count": 159,
   "id": "454d0cdc",
   "metadata": {
    "ExecuteTime": {
     "end_time": "2023-06-24T02:27:29.224473Z",
     "start_time": "2023-06-24T02:27:29.208253Z"
    }
   },
   "outputs": [
    {
     "data": {
      "text/plain": [
       "array([ 0.81212208, -0.71049507])"
      ]
     },
     "execution_count": 159,
     "metadata": {},
     "output_type": "execute_result"
    }
   ],
   "source": [
    "# Solve the system of equations to obtain AR coefficients\n",
    "# w1,w2,w3.... \n",
    "ar_coefficients = np.linalg.solve(autocov_matrix, autocovariance)\n",
    "ar_coefficients"
   ]
  },
  {
   "cell_type": "code",
   "execution_count": 161,
   "id": "46930971",
   "metadata": {
    "ExecuteTime": {
     "end_time": "2023-06-24T02:30:16.331553Z",
     "start_time": "2023-06-24T02:30:16.304550Z"
    }
   },
   "outputs": [
    {
     "data": {
      "text/plain": [
       "array([0.69931977, 0.87544206])"
      ]
     },
     "execution_count": 161,
     "metadata": {},
     "output_type": "execute_result"
    }
   ],
   "source": [
    "# find estimate of covariance matrix\n",
    "# Σ^ = C0 - (w1^ *C1 + w2^ *C2 + ...wk^*Ck)\n",
    "\n",
    "estimate_cov_matrix = autocovariance_[0] - (ar_coefficients * autocovariance)\n",
    "estimate_cov_matrix"
   ]
  },
  {
   "cell_type": "markdown",
   "id": "da83d3c5",
   "metadata": {},
   "source": [
    "## 이상해서 다시 시도"
   ]
  },
  {
   "cell_type": "code",
   "execution_count": 167,
   "id": "c4d76274",
   "metadata": {
    "ExecuteTime": {
     "end_time": "2023-06-24T07:21:05.751269Z",
     "start_time": "2023-06-24T07:21:05.729702Z"
    }
   },
   "outputs": [
    {
     "data": {
      "text/plain": [
       "array([[1.13818911, 0.        ],\n",
       "       [0.54039823, 1.13818911]])"
      ]
     },
     "execution_count": 167,
     "metadata": {},
     "output_type": "execute_result"
    }
   ],
   "source": [
    "# w1, w2, w3 다시 구해보기\n",
    "# Construct matrix\n",
    "# \n",
    "equation_matrix = np.zeros((k, k))\n",
    "for i in range(k):\n",
    "    for j in range(k):\n",
    "        if j <= i:\n",
    "            equation_matrix[i, j] = autocovariance_[i-j]\n",
    "        else:\n",
    "            equation_matrix[i,j] = 0\n",
    "        \n",
    "equation_matrix"
   ]
  },
  {
   "cell_type": "code",
   "execution_count": 169,
   "id": "08789f9d",
   "metadata": {
    "ExecuteTime": {
     "end_time": "2023-06-24T07:23:23.867327Z",
     "start_time": "2023-06-24T07:23:23.845174Z"
    }
   },
   "outputs": [
    {
     "data": {
      "text/plain": [
       "array([ 0.47478774, -0.55033286])"
      ]
     },
     "execution_count": 169,
     "metadata": {},
     "output_type": "execute_result"
    }
   ],
   "source": [
    "ar_coefficients_ = np.linalg.solve(equation_matrix, autocovariance)\n",
    "ar_coefficients_"
   ]
  },
  {
   "cell_type": "code",
   "execution_count": 170,
   "id": "50390202",
   "metadata": {
    "ExecuteTime": {
     "end_time": "2023-06-24T07:31:10.248074Z",
     "start_time": "2023-06-24T07:31:10.235066Z"
    }
   },
   "outputs": [
    {
     "data": {
      "text/plain": [
       "array([0.88161466, 0.93467139])"
      ]
     },
     "execution_count": 170,
     "metadata": {},
     "output_type": "execute_result"
    }
   ],
   "source": [
    "# find estimate of covariance matrix\n",
    "# Σ^ = C0 - (w1^ *C1 + w2^ *C2 + ...wk^*Ck)\n",
    "\n",
    "estimate_cov_matrix = autocovariance_[0] - (ar_coefficients_ * autocovariance)\n",
    "estimate_cov_matrix"
   ]
  },
  {
   "cell_type": "code",
   "execution_count": null,
   "id": "3ae832b9",
   "metadata": {},
   "outputs": [],
   "source": []
  },
  {
   "cell_type": "markdown",
   "id": "e4e28c8e",
   "metadata": {},
   "source": [
    "## 함수화"
   ]
  },
  {
   "cell_type": "code",
   "execution_count": 146,
   "id": "5a71b881",
   "metadata": {
    "ExecuteTime": {
     "end_time": "2023-06-24T02:00:07.387427Z",
     "start_time": "2023-06-24T02:00:07.369475Z"
    }
   },
   "outputs": [
    {
     "name": "stdout",
     "output_type": "stream",
     "text": [
      "Estimated AR Coefficients: [ 0.87582321 -0.62345281]\n"
     ]
    }
   ],
   "source": [
    "import numpy as np\n",
    "\n",
    "def estimate_ar_parameters(data, max_lag):\n",
    "    # max_lag = 논문의 k\n",
    "    \n",
    "    # Calculate the sample mean\n",
    "    mean = np.mean(data[max_lag:])\n",
    "    \n",
    "     # Solve the system of equations to obtain AR coefficients\n",
    "    # ex. max_lag= 4\n",
    "    # C4 = w1*C3 + w2*C2 + w3*C1 + w4*C0\n",
    "    # C3 = w1*C2 + w2*C1 + w3*C0\n",
    "    # C2 = w1*C1 + w2*C0\n",
    "    # C1 = W1*C0\n",
    "\n",
    "    # Calculate the sample autocovariance\n",
    "    # C1,C2,...Ck\n",
    "    autocovariance = []\n",
    "    for lag in range(1, max_lag + 1):\n",
    "        acov = np.mean((data[max_lag:] - mean) * (data[max_lag-lag:-lag] - mean))\n",
    "        autocovariance.append(acov)\n",
    "        \n",
    "    # C0,C1,...Ck-1\n",
    "    autocovariance_ = []\n",
    "    for lag in range(0, max_lag):\n",
    "        if lag != 0: \n",
    "            acov = np.mean((data[max_lag:] - mean) * (data[max_lag-lag : -lag] - mean))\n",
    "        else:\n",
    "            acov = np.mean((data[max_lag:] - mean) * (data[max_lag:] - mean))\n",
    "        autocovariance_.append(acov)\n",
    "    \n",
    "    # Construct the autocovariance matrix\n",
    "    autocov_matrix = np.zeros((max_lag, max_lag))\n",
    "    for i in range(max_lag):\n",
    "        for j in range(max_lag):\n",
    "            autocov_matrix[i, j] = autocovariance_[np.abs(i - j)]\n",
    "    \n",
    "    # get w1, w2, ... coefficents\n",
    "    ar_coefficients = np.linalg.solve(autocov_matrix, autocovariance)\n",
    "\n",
    "    return ar_coefficients\n",
    "\n",
    "ar_params = estimate_ar_parameters(series, k)\n",
    "print(\"Estimated AR Coefficients:\", ar_params)\n"
   ]
  },
  {
   "cell_type": "markdown",
   "id": "ef4c1027",
   "metadata": {},
   "source": [
    "# Parameter update using SDAR algorithm\n",
    "논문 예시에 r = 0.005 를 사용"
   ]
  },
  {
   "cell_type": "code",
   "execution_count": 162,
   "id": "100708c0",
   "metadata": {
    "ExecuteTime": {
     "end_time": "2023-06-24T03:09:26.707960Z",
     "start_time": "2023-06-24T03:09:26.696499Z"
    }
   },
   "outputs": [
    {
     "name": "stdout",
     "output_type": "stream",
     "text": [
      "새로 추가된 데이터: [ 1.         -2.         -1.81638465 -0.0996158  -0.34338815  0.97433696\n",
      "  0.65631534  0.08116702 -0.5160925  -1.58383651 -1.48367102 -1.84003428\n",
      " -1.50210128  0.81928     1.98490344 -0.29103217 -1.37565374 -0.0072949\n",
      "  0.50116311 -0.83019468 -0.39088045]\n"
     ]
    }
   ],
   "source": [
    "# discount factor\n",
    "r = 0.005\n",
    "t = t+1\n",
    "series = y[:t]\n",
    "print(\"새로 추가된 데이터:\", series)"
   ]
  },
  {
   "cell_type": "markdown",
   "id": "16b6a3d6",
   "metadata": {},
   "source": [
    "## 평균"
   ]
  },
  {
   "cell_type": "code",
   "execution_count": 164,
   "id": "f16e2e0c",
   "metadata": {
    "ExecuteTime": {
     "end_time": "2023-06-24T03:10:44.444824Z",
     "start_time": "2023-06-24T03:10:44.434956Z"
    }
   },
   "outputs": [
    {
     "name": "stdout",
     "output_type": "stream",
     "text": [
      "기존 평균: -0.3706741022466524\n",
      "업데이트 평균: -0.3707751339802112\n"
     ]
    }
   ],
   "source": [
    "update_mean = (1-r) * mean + r* series[-1]\n",
    "print(\"기존 평균:\",mean)\n",
    "print(\"업데이트 평균:\",update_mean)"
   ]
  },
  {
   "cell_type": "markdown",
   "id": "8822c822",
   "metadata": {},
   "source": [
    "## 공분산"
   ]
  },
  {
   "cell_type": "code",
   "execution_count": 165,
   "id": "fe28aaff",
   "metadata": {
    "ExecuteTime": {
     "end_time": "2023-06-24T03:13:24.699003Z",
     "start_time": "2023-06-24T03:13:24.688957Z"
    }
   },
   "outputs": [
    {
     "data": {
      "text/plain": [
       "[0.5403982329375913, -0.3698084101656501]"
      ]
     },
     "execution_count": 165,
     "metadata": {},
     "output_type": "execute_result"
    }
   ],
   "source": [
    "# new: [C0,C1,C2..Ck-1]\n",
    "# k=2 : [C0,C1]\n",
    "new_autocovariance = []\n",
    "for lag in range(1,k+1):\n",
    "    acov = (1-r)*autocovariance_ + r*(series[-1]-update_mean)*(series[-lag]-update_mean)\n",
    "    new_autocovariance.append(acov)"
   ]
  },
  {
   "cell_type": "code",
   "execution_count": null,
   "id": "27d2358f",
   "metadata": {},
   "outputs": [],
   "source": [
    "# [C1,C2...Ck]\n",
    "# k=2 : [C1,C2]\n",
    "\n"
   ]
  },
  {
   "cell_type": "code",
   "execution_count": null,
   "id": "a0dbc2f5",
   "metadata": {},
   "outputs": [],
   "source": [
    "new_ar_coefficentes = np.linalg.solve(new_autocovariance, )"
   ]
  },
  {
   "cell_type": "code",
   "execution_count": null,
   "id": "50b0ac11",
   "metadata": {},
   "outputs": [],
   "source": []
  },
  {
   "cell_type": "code",
   "execution_count": null,
   "id": "6b4df85b",
   "metadata": {},
   "outputs": [],
   "source": []
  }
 ],
 "metadata": {
  "kernelspec": {
   "display_name": "Python 3 (ipykernel)",
   "language": "python",
   "name": "python3"
  },
  "language_info": {
   "codemirror_mode": {
    "name": "ipython",
    "version": 3
   },
   "file_extension": ".py",
   "mimetype": "text/x-python",
   "name": "python",
   "nbconvert_exporter": "python",
   "pygments_lexer": "ipython3",
   "version": "3.10.11"
  },
  "toc": {
   "base_numbering": 1,
   "nav_menu": {},
   "number_sections": true,
   "sideBar": true,
   "skip_h1_title": false,
   "title_cell": "Table of Contents",
   "title_sidebar": "Contents",
   "toc_cell": false,
   "toc_position": {
    "height": "calc(100% - 180px)",
    "left": "10px",
    "top": "150px",
    "width": "244.225px"
   },
   "toc_section_display": true,
   "toc_window_display": true
  },
  "varInspector": {
   "cols": {
    "lenName": 16,
    "lenType": 16,
    "lenVar": 40
   },
   "kernels_config": {
    "python": {
     "delete_cmd_postfix": "",
     "delete_cmd_prefix": "del ",
     "library": "var_list.py",
     "varRefreshCmd": "print(var_dic_list())"
    },
    "r": {
     "delete_cmd_postfix": ") ",
     "delete_cmd_prefix": "rm(",
     "library": "var_list.r",
     "varRefreshCmd": "cat(var_dic_list()) "
    }
   },
   "types_to_exclude": [
    "module",
    "function",
    "builtin_function_or_method",
    "instance",
    "_Feature"
   ],
   "window_display": false
  }
 },
 "nbformat": 4,
 "nbformat_minor": 5
}
