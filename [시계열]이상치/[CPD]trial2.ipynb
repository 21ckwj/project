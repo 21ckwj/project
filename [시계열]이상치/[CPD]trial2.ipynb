{
 "cells": [
  {
   "cell_type": "markdown",
   "id": "cd36da75",
   "metadata": {},
   "source": [
    "# CPD - Nonstationary"
   ]
  },
  {
   "cell_type": "code",
   "execution_count": 3,
   "id": "4570683c",
   "metadata": {
    "ExecuteTime": {
     "end_time": "2023-06-20T13:22:14.996410Z",
     "start_time": "2023-06-20T13:22:09.098952Z"
    }
   },
   "outputs": [],
   "source": [
    "import pandas as pd\n",
    "import numpy as np\n",
    "import matplotlib.pyplot as plt\n",
    "import seaborn as sns"
   ]
  },
  {
   "cell_type": "markdown",
   "id": "5fbcf967",
   "metadata": {},
   "source": [
    "# 변수\n",
    "* k : AR model 의 최대 차수(max_lag)\n",
    "* Xt: t 시점의 AR model 시계열\n",
    "* w : AR model의 계수\n",
    "* m : Xt의 평균\n",
    "* Cj : j차수 공분산\n",
    "* ∑: 공분산 행렬(covariance matrix)\n",
    "* e : 오차\n",
    "* r : discounting factor"
   ]
  },
  {
   "cell_type": "markdown",
   "id": "2641f008",
   "metadata": {},
   "source": [
    "# 기존 데이터 평균, 분산 구하기"
   ]
  },
  {
   "cell_type": "code",
   "execution_count": 9,
   "id": "0edc78ed",
   "metadata": {
    "ExecuteTime": {
     "end_time": "2023-06-20T13:33:50.116173Z",
     "start_time": "2023-06-20T13:33:49.312412Z"
    }
   },
   "outputs": [
    {
     "name": "stdout",
     "output_type": "stream",
     "text": [
      "['anagrams', 'anscombe', 'attention', 'brain_networks', 'car_crashes', 'diamonds', 'dots', 'dowjones', 'exercise', 'flights', 'fmri', 'geyser', 'glue', 'healthexp', 'iris', 'mpg', 'penguins', 'planets', 'seaice', 'taxis', 'tips', 'titanic']\n"
     ]
    },
    {
     "data": {
      "text/plain": [
       "array([112, 118, 132, 129, 121, 135, 148, 148, 136, 119, 104, 118, 115,\n",
       "       126, 141, 135, 125, 149, 170, 170, 158, 133, 114, 140, 145, 150,\n",
       "       178, 163, 172, 178, 199, 199, 184, 162, 146, 166, 171, 180, 193,\n",
       "       181, 183, 218, 230, 242, 209, 191, 172, 194, 196, 196, 236, 235,\n",
       "       229, 243, 264, 272, 237, 211, 180, 201, 204, 188, 235, 227, 234,\n",
       "       264, 302, 293, 259, 229, 203, 229, 242, 233, 267, 269, 270, 315,\n",
       "       364, 347, 312, 274, 237, 278, 284, 277, 317, 313, 318, 374, 413,\n",
       "       405, 355, 306, 271, 306, 315, 301, 356, 348, 355, 422, 465, 467,\n",
       "       404, 347, 305, 336, 340, 318, 362, 348, 363, 435, 491, 505, 404,\n",
       "       359, 310, 337, 360, 342, 406, 396, 420, 472, 548, 559, 463, 407,\n",
       "       362, 405, 417, 391, 419, 461, 472, 535, 622, 606, 508, 461, 390,\n",
       "       432], dtype=int64)"
      ]
     },
     "execution_count": 9,
     "metadata": {},
     "output_type": "execute_result"
    }
   ],
   "source": [
    "# 가정\n",
    "k= 4\n",
    "r = 0.3\n",
    "df = sns.load_dataset(\"flights\")\n",
    "data = np.array(df['passengers'])\n",
    "data"
   ]
  },
  {
   "cell_type": "code",
   "execution_count": 13,
   "id": "a1bd80e3",
   "metadata": {
    "ExecuteTime": {
     "end_time": "2023-06-20T14:21:39.614573Z",
     "start_time": "2023-06-20T14:21:39.598404Z"
    }
   },
   "outputs": [
    {
     "data": {
      "text/plain": [
       "6.5"
      ]
     },
     "execution_count": 13,
     "metadata": {},
     "output_type": "execute_result"
    }
   ],
   "source": [
    "t = 10\n",
    "series = data[:t]\n",
    "\n",
    "# 평균\n",
    "total = 0\n",
    "for i in range(k,t):\n",
    "    total += i\n",
    "m = 1/(t-k) * total\n",
    "m"
   ]
  },
  {
   "cell_type": "code",
   "execution_count": 14,
   "id": "b680ff7e",
   "metadata": {
    "ExecuteTime": {
     "end_time": "2023-06-20T14:21:40.384086Z",
     "start_time": "2023-06-20T14:21:40.370198Z"
    }
   },
   "outputs": [
    {
     "data": {
      "text/plain": [
       "[16515.583333333332,\n",
       " 16639.583333333332,\n",
       " 16456.416666666664,\n",
       " 15831.416666666666]"
      ]
     },
     "execution_count": 14,
     "metadata": {},
     "output_type": "execute_result"
    }
   ],
   "source": [
    "# 공분산(j=0,1,2,..k-1)\n",
    "covariance_list = []\n",
    "for j in range(k):\n",
    "    total = 0\n",
    "    for i in range(k,t):\n",
    "        total += (series[i]-m)*(series[i-j]-m)\n",
    "    c = 1/(t-k) * total\n",
    "    covariance_list.append(c)\n",
    "    \n",
    "covariance_list"
   ]
  },
  {
   "cell_type": "code",
   "execution_count": null,
   "id": "ce911011",
   "metadata": {},
   "outputs": [],
   "source": [
    "# 현재 확률밀도함수\n",
    "# Create a multivariate normal distribution object\n",
    "mv_normal = multivariate_normal(mean=mean_vector, cov=covariance_matrix, allow_singular=True)"
   ]
  },
  {
   "cell_type": "markdown",
   "id": "89a0dd9c",
   "metadata": {},
   "source": [
    "# Parameter update"
   ]
  },
  {
   "cell_type": "code",
   "execution_count": null,
   "id": "fb0ed7cb",
   "metadata": {},
   "outputs": [],
   "source": [
    "m = (1-r)*m + r*"
   ]
  }
 ],
 "metadata": {
  "kernelspec": {
   "display_name": "Python 3 (ipykernel)",
   "language": "python",
   "name": "python3"
  },
  "language_info": {
   "codemirror_mode": {
    "name": "ipython",
    "version": 3
   },
   "file_extension": ".py",
   "mimetype": "text/x-python",
   "name": "python",
   "nbconvert_exporter": "python",
   "pygments_lexer": "ipython3",
   "version": "3.10.11"
  },
  "toc": {
   "base_numbering": 1,
   "nav_menu": {},
   "number_sections": true,
   "sideBar": true,
   "skip_h1_title": false,
   "title_cell": "Table of Contents",
   "title_sidebar": "Contents",
   "toc_cell": false,
   "toc_position": {},
   "toc_section_display": true,
   "toc_window_display": false
  },
  "varInspector": {
   "cols": {
    "lenName": 16,
    "lenType": 16,
    "lenVar": 40
   },
   "kernels_config": {
    "python": {
     "delete_cmd_postfix": "",
     "delete_cmd_prefix": "del ",
     "library": "var_list.py",
     "varRefreshCmd": "print(var_dic_list())"
    },
    "r": {
     "delete_cmd_postfix": ") ",
     "delete_cmd_prefix": "rm(",
     "library": "var_list.r",
     "varRefreshCmd": "cat(var_dic_list()) "
    }
   },
   "types_to_exclude": [
    "module",
    "function",
    "builtin_function_or_method",
    "instance",
    "_Feature"
   ],
   "window_display": false
  }
 },
 "nbformat": 4,
 "nbformat_minor": 5
}
