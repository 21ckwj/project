{
 "cells": [
  {
   "cell_type": "markdown",
   "id": "b731cfcd",
   "metadata": {},
   "source": [
    "# CPD - Nonstationary"
   ]
  },
  {
   "cell_type": "code",
   "execution_count": 238,
   "id": "19dbfac8",
   "metadata": {
    "ExecuteTime": {
     "end_time": "2023-06-26T13:00:48.629823Z",
     "start_time": "2023-06-26T13:00:48.616636Z"
    }
   },
   "outputs": [],
   "source": [
    "import pandas as pd\n",
    "import numpy as np\n",
    "import matplotlib.pyplot as plt\n",
    "import seaborn as sns"
   ]
  },
  {
   "cell_type": "markdown",
   "id": "48fbd4e8",
   "metadata": {},
   "source": [
    "# 변수\n",
    "* k : AR model 의 최대 차수(max_lag)\n",
    "* Xt: t 시점의 AR model 시계열\n",
    "* w : AR model의 계수\n",
    "* m : Xt의 평균\n",
    "* Cj : j차수 공분산\n",
    "* ∑: 공분산 행렬(covariance matrix)\n",
    "* e : 오차\n",
    "* r : discounting factor"
   ]
  },
  {
   "cell_type": "markdown",
   "id": "3432b2ef",
   "metadata": {},
   "source": [
    "# 논문 시뮬레이션 데이터셋\n",
    "* Xt := 0.6 * Xt-1 - 0.5 * Xt-2 + e\n",
    "* change points occur at time x * 1000(x=1,2,3..9)\n",
    "* change size : x (Δx = x)"
   ]
  },
  {
   "cell_type": "code",
   "execution_count": 239,
   "id": "d749970e",
   "metadata": {
    "ExecuteTime": {
     "end_time": "2023-06-26T13:00:49.203473Z",
     "start_time": "2023-06-26T13:00:49.143216Z"
    }
   },
   "outputs": [],
   "source": [
    "k=2\n",
    "num_timestep = 10000\n",
    "y = np.zeros(num_timestep)\n",
    "y[0]=1\n",
    "y[1]=-2\n",
    "np.random.seed(0)\n",
    "\n",
    "time_range = np.arange(num_timestep)\n",
    "coef = [0.6,-0.5]\n",
    "\n",
    "change_size = 0\n",
    "for t in range(2,num_timestep):\n",
    "    noise = np.random.randn()   \n",
    "    if t % 1000 ==0: # 1000의 배수마다 change point 설정\n",
    "        change = t//1000\n",
    "        change_size += change\n",
    "    \n",
    "    # AR 모델 + change point를 고려\n",
    "    y[t] = coef[0]* y[t-1] + coef[1]*y[t-2] + noise + change_size\n"
   ]
  },
  {
   "cell_type": "code",
   "execution_count": 240,
   "id": "41ad3a20",
   "metadata": {
    "ExecuteTime": {
     "end_time": "2023-06-26T13:00:49.977050Z",
     "start_time": "2023-06-26T13:00:49.544494Z"
    }
   },
   "outputs": [
    {
     "data": {
      "text/plain": [
       "[<matplotlib.lines.Line2D at 0x1e22ec492a0>]"
      ]
     },
     "execution_count": 240,
     "metadata": {},
     "output_type": "execute_result"
    },
    {
     "data": {
      "image/png": "[encoded data removed]",
      "text/plain": [
       "<Figure size 720x360 with 1 Axes>"
      ]
     },
     "metadata": {
      "needs_background": "light"
     },
     "output_type": "display_data"
    }
   ],
   "source": [
    "fig, axs = plt.subplots(figsize=(10,5))\n",
    "plt.plot(time_range, y)"
   ]
  },
  {
   "cell_type": "markdown",
   "id": "2b8c2e71",
   "metadata": {},
   "source": [
    "# 기존 데이터의 통계적 분포\n",
    ":새로운 데이터가 들어가기 전 평균(m), 공분산(C0,C1..Ck),AR계수(w1,w2,w3...), 추정 공분산 행렬(Σ^)"
   ]
  },
  {
   "cell_type": "code",
   "execution_count": 241,
   "id": "a35607cc",
   "metadata": {
    "ExecuteTime": {
     "end_time": "2023-06-26T13:00:50.288712Z",
     "start_time": "2023-06-26T13:00:50.267586Z"
    }
   },
   "outputs": [
    {
     "name": "stdout",
     "output_type": "stream",
     "text": [
      "시작데이터: [ 1.         -2.          0.06405235  1.43858862  1.80986498  2.60751788\n",
      "  2.52713623 -0.76475508 -0.77233275 -0.23237931  0.14351993  0.61290012\n",
      "  0.44002368  1.41183765  1.38812848  0.24863328 -0.10102104  0.14874506\n",
      "  1.63383663  0.70077118]\n"
     ]
    }
   ],
   "source": [
    "# 처음 20개 데이터로 시작\n",
    "t = 20\n",
    "series = y[:t]\n",
    "print(\"시작데이터:\", series)"
   ]
  },
  {
   "cell_type": "markdown",
   "id": "1c12ffaf",
   "metadata": {},
   "source": [
    "## 평균"
   ]
  },
  {
   "cell_type": "code",
   "execution_count": 242,
   "id": "7b3a4082",
   "metadata": {
    "ExecuteTime": {
     "end_time": "2023-06-26T13:00:50.707032Z",
     "start_time": "2023-06-26T13:00:50.697186Z"
    }
   },
   "outputs": [
    {
     "data": {
      "text/plain": [
       "0.7391704379176063"
      ]
     },
     "execution_count": 242,
     "metadata": {},
     "output_type": "execute_result"
    }
   ],
   "source": [
    "# 평균\n",
    "mean = np.mean(series[k:])\n",
    "mean"
   ]
  },
  {
   "cell_type": "markdown",
   "id": "48fb6996",
   "metadata": {},
   "source": [
    "## 공분산\n",
    ": 공분산을 통해 AR Model의 추청 계수(coefficients)를 구할 수 있음"
   ]
  },
  {
   "cell_type": "code",
   "execution_count": 243,
   "id": "b08c00f3",
   "metadata": {
    "ExecuteTime": {
     "end_time": "2023-06-26T13:00:51.654893Z",
     "start_time": "2023-06-26T13:00:51.649859Z"
    }
   },
   "outputs": [],
   "source": [
    "# Solve the system of equations to obtain AR coefficients\n",
    "# ex. max_lag= 4\n",
    "# C4 = w1*C3 + w2*C2 + w3*C1 + w4*C0\n",
    "# C3 = w1*C2 + w2*C1 + w3*C0\n",
    "# C2 = w1*C1 + w2*C0\n",
    "# C1 = W1*C0\n",
    "\n",
    "# Ax = b 형태로 만들어 x = [w1,w2,w3,w4] 를 구할 예정\n",
    "\n",
    "# autocovariance = [C1,C2,C3,C4]\n",
    "# autocovariance_ = [C0,C1,C2,C3]"
   ]
  },
  {
   "cell_type": "code",
   "execution_count": 244,
   "id": "35f7669a",
   "metadata": {
    "ExecuteTime": {
     "end_time": "2023-06-26T13:00:52.012668Z",
     "start_time": "2023-06-26T13:00:51.990334Z"
    }
   },
   "outputs": [
    {
     "data": {
      "text/plain": [
       "[0.5263286294049465, -0.22429794504091977]"
      ]
     },
     "execution_count": 244,
     "metadata": {},
     "output_type": "execute_result"
    }
   ],
   "source": [
    "# Calculate the autocovariance: [C1,C2,C3..Ck]\n",
    "# k=2 : [C1,C2]\n",
    "autocovariance = []\n",
    "for lag in range(1, k + 1):\n",
    "    acov = np.mean((series[k:] - mean) * (series[k-lag:-lag] - mean))\n",
    "    autocovariance.append(acov)\n",
    "    \n",
    "autocovariance"
   ]
  },
  {
   "cell_type": "code",
   "execution_count": 245,
   "id": "0c6e733a",
   "metadata": {
    "ExecuteTime": {
     "end_time": "2023-06-26T13:00:52.677449Z",
     "start_time": "2023-06-26T13:00:52.661547Z"
    }
   },
   "outputs": [
    {
     "data": {
      "text/plain": [
       "[0.9833420278718725, 0.5263286294049465]"
      ]
     },
     "execution_count": 245,
     "metadata": {},
     "output_type": "execute_result"
    }
   ],
   "source": [
    "# Calculate the autocovariance: [C0,C1,...Ck-1]\n",
    "# k=2 : [C0,C1]\n",
    "autocovariance_ = []\n",
    "for lag in range(0, k):\n",
    "    if lag != 0: \n",
    "        acov = np.mean((series[k:] - mean) * (series[k-lag : -lag] - mean))\n",
    "    else:\n",
    "        acov = np.mean((series[k:] - mean) * (series[k:] - mean))\n",
    "    autocovariance_.append(acov)\n",
    "    \n",
    "autocovariance_"
   ]
  },
  {
   "cell_type": "markdown",
   "id": "aba10982",
   "metadata": {},
   "source": [
    "## AR coefficients(w1,w2..)"
   ]
  },
  {
   "cell_type": "code",
   "execution_count": 246,
   "id": "4db5812e",
   "metadata": {
    "ExecuteTime": {
     "end_time": "2023-06-26T13:00:55.822690Z",
     "start_time": "2023-06-26T13:00:55.802223Z"
    }
   },
   "outputs": [
    {
     "data": {
      "text/plain": [
       "array([[0.98334203, 0.        ],\n",
       "       [0.52632863, 0.98334203]])"
      ]
     },
     "execution_count": 246,
     "metadata": {},
     "output_type": "execute_result"
    }
   ],
   "source": [
    "# w1, w2, w3 다시 구해보기\n",
    "# Construct matrix\n",
    "\n",
    "equation_matrix = np.zeros((k, k))\n",
    "for i in range(k):\n",
    "    for j in range(k):\n",
    "        if j <= i:\n",
    "            equation_matrix[i, j] = autocovariance_[i-j]\n",
    "        else:\n",
    "            equation_matrix[i,j] = 0\n",
    "        \n",
    "equation_matrix"
   ]
  },
  {
   "cell_type": "code",
   "execution_count": 247,
   "id": "f80fe9a7",
   "metadata": {
    "ExecuteTime": {
     "end_time": "2023-06-26T13:00:56.553247Z",
     "start_time": "2023-06-26T13:00:56.532651Z"
    }
   },
   "outputs": [
    {
     "data": {
      "text/plain": [
       "array([ 0.53524472, -0.5145845 ])"
      ]
     },
     "execution_count": 247,
     "metadata": {},
     "output_type": "execute_result"
    }
   ],
   "source": [
    "ar_coefficients_ = np.linalg.solve(equation_matrix, autocovariance)\n",
    "ar_coefficients_"
   ]
  },
  {
   "cell_type": "code",
   "execution_count": 248,
   "id": "a535d2cc",
   "metadata": {
    "ExecuteTime": {
     "end_time": "2023-06-26T13:00:57.017144Z",
     "start_time": "2023-06-26T13:00:56.992197Z"
    }
   },
   "outputs": [
    {
     "data": {
      "text/plain": [
       "array([0.70162741, 0.86792178])"
      ]
     },
     "execution_count": 248,
     "metadata": {},
     "output_type": "execute_result"
    }
   ],
   "source": [
    "# find estimate of covariance matrix\n",
    "# Σ^ = C0 - (w1^ *C1 + w2^ *C2 + ...wk^*Ck)\n",
    "\n",
    "estimate_cov = autocovariance_[0] - (ar_coefficients_ * autocovariance)\n",
    "estimate_cov"
   ]
  },
  {
   "cell_type": "code",
   "execution_count": 249,
   "id": "39ddb8ff",
   "metadata": {
    "ExecuteTime": {
     "end_time": "2023-06-26T13:00:57.557295Z",
     "start_time": "2023-06-26T13:00:57.537581Z"
    }
   },
   "outputs": [
    {
     "data": {
      "text/plain": [
       "array([[0.70162741, 0.86792178],\n",
       "       [0.86792178, 0.70162741]])"
      ]
     },
     "execution_count": 249,
     "metadata": {},
     "output_type": "execute_result"
    }
   ],
   "source": [
    "estimate_cov_matrix = np.zeros((k,k))\n",
    "for i in range(k):\n",
    "    for j in range(k):\n",
    "        estimate_cov_matrix[i][j] = estimate_cov[np.abs(i-j)]\n",
    "estimate_cov_matrix"
   ]
  },
  {
   "cell_type": "markdown",
   "id": "1a460c2e",
   "metadata": {},
   "source": [
    "# Parameter update using SDAR algorithm\n",
    "논문 예시에 r = 0.005 를 사용"
   ]
  },
  {
   "cell_type": "code",
   "execution_count": 250,
   "id": "df10691f",
   "metadata": {
    "ExecuteTime": {
     "end_time": "2023-06-26T13:00:59.225596Z",
     "start_time": "2023-06-26T13:00:59.206016Z"
    }
   },
   "outputs": [
    {
     "name": "stdout",
     "output_type": "stream",
     "text": [
      "새로 추가된 데이터: [ 1.         -2.          0.06405235  1.43858862  1.80986498  2.60751788\n",
      "  2.52713623 -0.76475508 -0.77233275 -0.23237931  0.14351993  0.61290012\n",
      "  0.44002368  1.41183765  1.38812848  0.24863328 -0.10102104  0.14874506\n",
      "  1.63383663  0.70077118 -0.0833879 ]\n"
     ]
    }
   ],
   "source": [
    "# discount factor\n",
    "r = 0.005\n",
    "t = t+1\n",
    "series = y[:t]\n",
    "print(\"새로 추가된 데이터:\", series)"
   ]
  },
  {
   "cell_type": "markdown",
   "id": "41a211aa",
   "metadata": {},
   "source": [
    "## 평균"
   ]
  },
  {
   "cell_type": "code",
   "execution_count": 251,
   "id": "ea0f1020",
   "metadata": {
    "ExecuteTime": {
     "end_time": "2023-06-26T13:01:00.219719Z",
     "start_time": "2023-06-26T13:01:00.206576Z"
    }
   },
   "outputs": [
    {
     "name": "stdout",
     "output_type": "stream",
     "text": [
      "기존 평균: 0.7391704379176063\n",
      "업데이트 평균: 0.7350576462058179\n"
     ]
    }
   ],
   "source": [
    "# m = (1-r)*m + r*Xt\n",
    "update_mean = (1-r) * mean + r* series[-1]\n",
    "print(\"기존 평균:\",mean)\n",
    "print(\"업데이트 평균:\",update_mean)"
   ]
  },
  {
   "cell_type": "markdown",
   "id": "d99cb036",
   "metadata": {},
   "source": [
    "## 공분산"
   ]
  },
  {
   "cell_type": "code",
   "execution_count": 252,
   "id": "d7f96e3f",
   "metadata": {
    "ExecuteTime": {
     "end_time": "2023-06-26T13:01:01.235243Z",
     "start_time": "2023-06-26T13:01:01.213987Z"
    }
   },
   "outputs": [],
   "source": [
    "# new: [C1,C2,C3..Ck]\n",
    "# k=2 : [C1,C2]\n",
    "new_autocovariance = []\n",
    "for i,lag in enumerate(range(1,k+1)):\n",
    "    acov = (1-r)*autocovariance[i] + r*(series[-1]-update_mean)*(series[-lag]-update_mean)\n",
    "    new_autocovariance.append(acov)"
   ]
  },
  {
   "cell_type": "code",
   "execution_count": 253,
   "id": "305923d4",
   "metadata": {
    "ExecuteTime": {
     "end_time": "2023-06-26T13:01:03.962668Z",
     "start_time": "2023-06-26T13:01:03.948479Z"
    }
   },
   "outputs": [
    {
     "data": {
      "text/plain": [
       "[0.527046251854782, -0.22303614730033056]"
      ]
     },
     "execution_count": 253,
     "metadata": {},
     "output_type": "execute_result"
    }
   ],
   "source": [
    "new_autocovariance"
   ]
  },
  {
   "cell_type": "markdown",
   "id": "9e284a6b",
   "metadata": {},
   "source": [
    "## AR coefficients: w1,w2..."
   ]
  },
  {
   "cell_type": "code",
   "execution_count": 254,
   "id": "1b79badb",
   "metadata": {
    "ExecuteTime": {
     "end_time": "2023-06-26T13:01:08.030405Z",
     "start_time": "2023-06-26T13:01:08.004893Z"
    }
   },
   "outputs": [
    {
     "data": {
      "text/plain": [
       "array([[ 0.52632863,  0.        ],\n",
       "       [-0.22429795,  0.52632863]])"
      ]
     },
     "execution_count": 254,
     "metadata": {},
     "output_type": "execute_result"
    }
   ],
   "source": [
    "# 기존 [C1,C2...Ck]: autocovariance\n",
    "# k=2 : [C1,C2]\n",
    "\n",
    "equation_matrix = np.zeros((k, k))\n",
    "for i in range(k):\n",
    "    for j in range(k):\n",
    "        if j <= i:\n",
    "            equation_matrix[i, j] = autocovariance[i-j]\n",
    "        else:\n",
    "            equation_matrix[i,j] = 0\n",
    "equation_matrix"
   ]
  },
  {
   "cell_type": "code",
   "execution_count": 255,
   "id": "3a11f6ed",
   "metadata": {
    "ExecuteTime": {
     "end_time": "2023-06-26T13:01:09.041387Z",
     "start_time": "2023-06-26T13:01:09.030416Z"
    }
   },
   "outputs": [
    {
     "data": {
      "text/plain": [
       "array([1.00136345, 0.0029784 ])"
      ]
     },
     "execution_count": 255,
     "metadata": {},
     "output_type": "execute_result"
    }
   ],
   "source": [
    "new_ar_coefficentes = np.linalg.solve(equation_matrix,new_autocovariance)\n",
    "new_ar_coefficentes"
   ]
  },
  {
   "cell_type": "markdown",
   "id": "b0574c6d",
   "metadata": {},
   "source": [
    "## estimate Xt"
   ]
  },
  {
   "cell_type": "code",
   "execution_count": 282,
   "id": "cedf4e9d",
   "metadata": {
    "ExecuteTime": {
     "end_time": "2023-06-26T14:31:13.477342Z",
     "start_time": "2023-06-26T14:31:13.462917Z"
    }
   },
   "outputs": [
    {
     "data": {
      "text/plain": [
       "-0.08338790444006572"
      ]
     },
     "execution_count": 282,
     "metadata": {},
     "output_type": "execute_result"
    }
   ],
   "source": [
    "# Xt^ = w1 * Xt-1 + w2 * Xt-2 ...\n",
    "series[-1]"
   ]
  },
  {
   "cell_type": "code",
   "execution_count": 283,
   "id": "1a7acded",
   "metadata": {
    "ExecuteTime": {
     "end_time": "2023-06-26T14:31:14.050443Z",
     "start_time": "2023-06-26T14:31:14.035459Z"
    }
   },
   "outputs": [
    {
     "data": {
      "text/plain": [
       "array([1.63383663, 0.70077118])"
      ]
     },
     "execution_count": 283,
     "metadata": {},
     "output_type": "execute_result"
    }
   ],
   "source": [
    "series[-1-k:-1]"
   ]
  },
  {
   "cell_type": "code",
   "execution_count": 284,
   "id": "791bc841",
   "metadata": {
    "ExecuteTime": {
     "end_time": "2023-06-26T14:31:14.716054Z",
     "start_time": "2023-06-26T14:31:14.694352Z"
    }
   },
   "outputs": [
    {
     "data": {
      "text/plain": [
       "1.6349599529442607"
      ]
     },
     "execution_count": 284,
     "metadata": {},
     "output_type": "execute_result"
    }
   ],
   "source": [
    "estimate_xt = np.dot(new_ar_coefficentes, (series[-1-k:-1] - update_mean)) + update_mean\n",
    "estimate_xt"
   ]
  },
  {
   "cell_type": "code",
   "execution_count": 285,
   "id": "30b09090",
   "metadata": {
    "ExecuteTime": {
     "end_time": "2023-06-26T14:31:15.210167Z",
     "start_time": "2023-06-26T14:31:15.186876Z"
    }
   },
   "outputs": [
    {
     "data": {
      "text/plain": [
       "array([ 9.00004426e-01, -1.02118765e-04])"
      ]
     },
     "execution_count": 285,
     "metadata": {},
     "output_type": "execute_result"
    }
   ],
   "source": [
    "# 그냥 곱셈시 벡터 반환\n",
    "new_ar_coefficentes * (series[-1-k:-1] - update_mean)"
   ]
  },
  {
   "cell_type": "markdown",
   "id": "598e4d6d",
   "metadata": {},
   "source": [
    "## estimate Covariance matrix(Σ^)"
   ]
  },
  {
   "cell_type": "code",
   "execution_count": 286,
   "id": "32d9b348",
   "metadata": {
    "ExecuteTime": {
     "end_time": "2023-06-26T14:31:21.035976Z",
     "start_time": "2023-06-26T14:31:21.015218Z"
    }
   },
   "outputs": [
    {
     "data": {
      "text/plain": [
       "array([[0.71288287, 0.87834577],\n",
       "       [0.87834577, 0.71288287]])"
      ]
     },
     "execution_count": 286,
     "metadata": {},
     "output_type": "execute_result"
    }
   ],
   "source": [
    "# 새로운 공분산 행렬\n",
    "new_estimate_cov_matrix = (1-r) * estimate_cov_matrix + r * np.dot((series[-1]-estimate_xt),(series[-1]-estimate_xt))\n",
    "new_estimate_cov_matrix"
   ]
  },
  {
   "cell_type": "code",
   "execution_count": null,
   "id": "6c6b4565",
   "metadata": {},
   "outputs": [],
   "source": []
  },
  {
   "cell_type": "markdown",
   "id": "15428965",
   "metadata": {},
   "source": [
    "## probability density function by update parameter"
   ]
  },
  {
   "cell_type": "code",
   "execution_count": 287,
   "id": "c87646b8",
   "metadata": {
    "ExecuteTime": {
     "end_time": "2023-06-26T14:31:22.877368Z",
     "start_time": "2023-06-26T14:31:22.870255Z"
    }
   },
   "outputs": [],
   "source": [
    "# 일반적인 다변량 가우시안 분포 사용불가\n",
    "\n",
    "from scipy.stats import multivariate_normal\n",
    "\n",
    "# multi_normal_pdf = multivariate_normal(mean=xt_estimate ,cov= new_estimate_cov_matrix )"
   ]
  },
  {
   "cell_type": "code",
   "execution_count": 292,
   "id": "dd6fb28c",
   "metadata": {
    "ExecuteTime": {
     "end_time": "2023-06-26T14:49:35.713088Z",
     "start_time": "2023-06-26T14:49:35.691206Z"
    }
   },
   "outputs": [
    {
     "ename": "NameError",
     "evalue": "name 'dimension' is not defined",
     "output_type": "error",
     "traceback": [
      "\u001b[1;31m---------------------------------------------------------------------------\u001b[0m",
      "\u001b[1;31mNameError\u001b[0m                                 Traceback (most recent call last)",
      "\u001b[1;32m~\\AppData\\Local\\Temp\\ipykernel_15160\\608260069.py\u001b[0m in \u001b[0;36m<module>\u001b[1;34m\u001b[0m\n\u001b[0;32m      1\u001b[0m \u001b[1;31m# 직접 구현해야함\u001b[0m\u001b[1;33m\u001b[0m\u001b[1;33m\u001b[0m\u001b[0m\n\u001b[1;32m----> 2\u001b[1;33m \u001b[1;32mclass\u001b[0m \u001b[0mmultivariate_AR_model\u001b[0m\u001b[1;33m(\u001b[0m\u001b[0mdimension\u001b[0m\u001b[1;33m,\u001b[0m \u001b[0mestimate_xt\u001b[0m\u001b[1;33m,\u001b[0m \u001b[0mestimate_cov_matrix\u001b[0m\u001b[1;33m)\u001b[0m\u001b[1;33m:\u001b[0m\u001b[1;33m\u001b[0m\u001b[1;33m\u001b[0m\u001b[0m\n\u001b[0m\u001b[0;32m      3\u001b[0m     \u001b[0mdimension\u001b[0m \u001b[1;33m=\u001b[0m \u001b[0mself\u001b[0m\u001b[1;33m.\u001b[0m\u001b[0mdimension\u001b[0m\u001b[1;33m\u001b[0m\u001b[1;33m\u001b[0m\u001b[0m\n\u001b[0;32m      4\u001b[0m     \u001b[0mestimate_xt\u001b[0m \u001b[1;33m=\u001b[0m \u001b[0mself\u001b[0m\u001b[1;33m.\u001b[0m\u001b[0mestimate_xt\u001b[0m\u001b[1;33m\u001b[0m\u001b[1;33m\u001b[0m\u001b[0m\n\u001b[0;32m      5\u001b[0m     \u001b[0mestimate_cov_matrix\u001b[0m \u001b[1;33m=\u001b[0m \u001b[0mself\u001b[0m\u001b[1;33m.\u001b[0m\u001b[0mestimate_cov_matrix\u001b[0m\u001b[1;33m\u001b[0m\u001b[1;33m\u001b[0m\u001b[0m\n",
      "\u001b[1;31mNameError\u001b[0m: name 'dimension' is not defined"
     ]
    }
   ],
   "source": [
    "# 직접 구현해야함\n",
    "class multivariate_AR_model():\n",
    "    \"\"\"\n",
    "    Parameters\n",
    "    dimension(int): 시계열\"\"\"\n",
    "    def __init__(self, dimension, estimate_xt, estimate_cov_matrix):\n",
    "        dimension = self.dimension\n",
    "        estimate_xt = self.estimate_xt\n",
    "        estimate_cov_matrix = self.estimate_cov_matrix\n",
    "    \n",
    "    def normal_pdf(self, xt):\n",
    "        pdf = (1/ ((2*np.pi)**(self.dimension/2) * np.sqrt(np.linalg.norm(self.estimate_cov_matrix))) \\\n",
    "               * np.exp(-1/2* np.dot((xt-self.estimate_xt).T ,np.linalg.inv(self.estimate_cov_matrix), (xt-self.estimate_xt))))\n",
    "    \n",
    "        return pdf"
   ]
  },
  {
   "cell_type": "code",
   "execution_count": 289,
   "id": "cb7b42ed",
   "metadata": {
    "ExecuteTime": {
     "end_time": "2023-06-26T14:31:43.319317Z",
     "start_time": "2023-06-26T14:31:43.282692Z"
    }
   },
   "outputs": [
    {
     "ename": "NameError",
     "evalue": "name 'xt' is not defined",
     "output_type": "error",
     "traceback": [
      "\u001b[1;31m---------------------------------------------------------------------------\u001b[0m",
      "\u001b[1;31mNameError\u001b[0m                                 Traceback (most recent call last)",
      "\u001b[1;32m~\\AppData\\Local\\Temp\\ipykernel_15160\\3029838313.py\u001b[0m in \u001b[0;36m<module>\u001b[1;34m\u001b[0m\n\u001b[1;32m----> 1\u001b[1;33m \u001b[0mmultivariate_AR_model_normal_pdf\u001b[0m\u001b[1;33m(\u001b[0m\u001b[0mdimension\u001b[0m\u001b[1;33m=\u001b[0m\u001b[1;36m2\u001b[0m\u001b[1;33m,\u001b[0m\u001b[0mestimate_xt\u001b[0m\u001b[1;33m=\u001b[0m\u001b[0mestimate_xt\u001b[0m\u001b[1;33m,\u001b[0m \u001b[0mestimate_cov_matrix\u001b[0m\u001b[1;33m=\u001b[0m\u001b[0mestimate_cov_matrix\u001b[0m\u001b[1;33m)\u001b[0m\u001b[1;33m\u001b[0m\u001b[1;33m\u001b[0m\u001b[0m\n\u001b[0m",
      "\u001b[1;32m~\\AppData\\Local\\Temp\\ipykernel_15160\\1381169135.py\u001b[0m in \u001b[0;36mmultivariate_AR_model_normal_pdf\u001b[1;34m(dimension, estimate_xt, estimate_cov_matrix)\u001b[0m\n\u001b[0;32m      3\u001b[0m \u001b[1;33m\u001b[0m\u001b[0m\n\u001b[0;32m      4\u001b[0m     pdf = (1/ ((2*np.pi)**(dimension/2) * np.sqrt(np.linalg.norm(estimate_cov_matrix))) \\\n\u001b[1;32m----> 5\u001b[1;33m            * np.exp(-1/2* np.dot((xt-estimate_xt).T ,np.linalg.inv(estimate_cov_matrix), (xt-estimate_xt))))\n\u001b[0m\u001b[0;32m      6\u001b[0m \u001b[1;33m\u001b[0m\u001b[0m\n\u001b[0;32m      7\u001b[0m     \u001b[1;32mreturn\u001b[0m \u001b[0mpdf\u001b[0m\u001b[1;33m\u001b[0m\u001b[1;33m\u001b[0m\u001b[0m\n",
      "\u001b[1;31mNameError\u001b[0m: name 'xt' is not defined"
     ]
    }
   ],
   "source": [
    "multi_AR_model = multi(dimension=2,estimate_xt=estimate_xt, estimate_cov_matrix=estimate_cov_matrix)"
   ]
  },
  {
   "cell_type": "code",
   "execution_count": null,
   "id": "41fe854c",
   "metadata": {},
   "outputs": [],
   "source": [
    "f(x_t | x_{t-1}, x_{t-2}, ..., x_{t-p}) = \n",
    "(1 / sqrt((2 * pi)^k * det(Sigma))) * exp(-0.5 * (x_t - mu)' * inv(Sigma) * (x_t - mu))\n"
   ]
  },
  {
   "cell_type": "code",
   "execution_count": null,
   "id": "bd4ca42e",
   "metadata": {},
   "outputs": [],
   "source": []
  },
  {
   "cell_type": "code",
   "execution_count": 275,
   "id": "279f757d",
   "metadata": {
    "ExecuteTime": {
     "end_time": "2023-06-26T13:59:28.822811Z",
     "start_time": "2023-06-26T13:59:28.799771Z"
    }
   },
   "outputs": [
    {
     "data": {
      "text/plain": [
       "15.749609945722419"
      ]
     },
     "execution_count": 275,
     "metadata": {},
     "output_type": "execute_result"
    }
   ],
   "source": [
    "(2*np.pi)**(dimension/2) * np.sqrt(np.linalg.norm(estimate_cov_matrix))"
   ]
  },
  {
   "cell_type": "code",
   "execution_count": 277,
   "id": "6a5c6a18",
   "metadata": {
    "ExecuteTime": {
     "end_time": "2023-06-26T14:11:37.627610Z",
     "start_time": "2023-06-26T14:11:37.611652Z"
    }
   },
   "outputs": [
    {
     "data": {
      "text/plain": [
       "2.718281828459045"
      ]
     },
     "execution_count": 277,
     "metadata": {},
     "output_type": "execute_result"
    }
   ],
   "source": [
    "np.exp(1)"
   ]
  },
  {
   "cell_type": "code",
   "execution_count": null,
   "id": "a8618532",
   "metadata": {},
   "outputs": [],
   "source": []
  },
  {
   "cell_type": "code",
   "execution_count": 156,
   "id": "6972eb30",
   "metadata": {
    "ExecuteTime": {
     "end_time": "2023-06-24T02:27:01.453837Z",
     "start_time": "2023-06-24T02:27:01.434459Z"
    }
   },
   "outputs": [
    {
     "data": {
      "text/plain": [
       "array([[1.13818911, 0.54039823],\n",
       "       [0.54039823, 1.13818911]])"
      ]
     },
     "execution_count": 156,
     "metadata": {},
     "output_type": "execute_result"
    }
   ],
   "source": [
    "# Construct the autocovariance matrix\n",
    "autocov_matrix = np.zeros((k, k))\n",
    "for i in range(k):\n",
    "    for j in range(k):\n",
    "        autocov_matrix[i, j] = autocovariance_[np.abs(i - j)]\n",
    "autocov_matrix\n",
    "\n",
    "# Solve the system of equations to obtain AR coefficients\n",
    "# w1,w2,w3.... \n",
    "ar_coefficients = np.linalg.solve(autocov_matrix, autocovariance)\n",
    "ar_coefficients\n",
    "\n",
    "# find estimate of covariance matrix\n",
    "# Σ^ = C0 - (w1^ *C1 + w2^ *C2 + ...wk^*Ck)\n",
    "\n",
    "estimate_cov_matrix = autocovariance_[0] - (ar_coefficients * autocovariance)\n",
    "estimate_cov_matrix"
   ]
  },
  {
   "cell_type": "code",
   "execution_count": 146,
   "id": "200fe1e5",
   "metadata": {
    "ExecuteTime": {
     "end_time": "2023-06-24T02:00:07.387427Z",
     "start_time": "2023-06-24T02:00:07.369475Z"
    }
   },
   "outputs": [
    {
     "name": "stdout",
     "output_type": "stream",
     "text": [
      "Estimated AR Coefficients: [ 0.87582321 -0.62345281]\n"
     ]
    }
   ],
   "source": [
    "# import numpy as np\n",
    "\n",
    "# def estimate_ar_parameters(data, max_lag):\n",
    "#     # max_lag = 논문의 k\n",
    "    \n",
    "#     # Calculate the sample mean\n",
    "#     mean = np.mean(data[max_lag:])\n",
    "    \n",
    "#      # Solve the system of equations to obtain AR coefficients\n",
    "#     # ex. max_lag= 4\n",
    "#     # C4 = w1*C3 + w2*C2 + w3*C1 + w4*C0\n",
    "#     # C3 = w1*C2 + w2*C1 + w3*C0\n",
    "#     # C2 = w1*C1 + w2*C0\n",
    "#     # C1 = W1*C0\n",
    "\n",
    "#     # Calculate the sample autocovariance\n",
    "#     # C1,C2,...Ck\n",
    "#     autocovariance = []\n",
    "#     for lag in range(1, max_lag + 1):\n",
    "#         acov = np.mean((data[max_lag:] - mean) * (data[max_lag-lag:-lag] - mean))\n",
    "#         autocovariance.append(acov)\n",
    "        \n",
    "#     # C0,C1,...Ck-1\n",
    "#     autocovariance_ = []\n",
    "#     for lag in range(0, max_lag):\n",
    "#         if lag != 0: \n",
    "#             acov = np.mean((data[max_lag:] - mean) * (data[max_lag-lag : -lag] - mean))\n",
    "#         else:\n",
    "#             acov = np.mean((data[max_lag:] - mean) * (data[max_lag:] - mean))\n",
    "#         autocovariance_.append(acov)\n",
    "    \n",
    "#     # Construct the autocovariance matrix\n",
    "#     autocov_matrix = np.zeros((max_lag, max_lag))\n",
    "#     for i in range(max_lag):\n",
    "#         for j in range(max_lag):\n",
    "#             autocov_matrix[i, j] = autocovariance_[np.abs(i - j)]\n",
    "    \n",
    "#     # get w1, w2, ... coefficents\n",
    "#     ar_coefficients = np.linalg.solve(autocov_matrix, autocovariance)\n",
    "\n",
    "#     return ar_coefficients\n",
    "\n",
    "# ar_params = estimate_ar_parameters(series, k)\n",
    "# print(\"Estimated AR Coefficients:\", ar_params)\n"
   ]
  }
 ],
 "metadata": {
  "kernelspec": {
   "display_name": "Python 3 (ipykernel)",
   "language": "python",
   "name": "python3"
  },
  "language_info": {
   "codemirror_mode": {
    "name": "ipython",
    "version": 3
   },
   "file_extension": ".py",
   "mimetype": "text/x-python",
   "name": "python",
   "nbconvert_exporter": "python",
   "pygments_lexer": "ipython3",
   "version": "3.10.11"
  },
  "toc": {
   "base_numbering": 1,
   "nav_menu": {},
   "number_sections": true,
   "sideBar": true,
   "skip_h1_title": false,
   "title_cell": "Table of Contents",
   "title_sidebar": "Contents",
   "toc_cell": false,
   "toc_position": {
    "height": "calc(100% - 180px)",
    "left": "10px",
    "top": "150px",
    "width": "244.225px"
   },
   "toc_section_display": true,
   "toc_window_display": true
  },
  "varInspector": {
   "cols": {
    "lenName": 16,
    "lenType": 16,
    "lenVar": 40
   },
   "kernels_config": {
    "python": {
     "delete_cmd_postfix": "",
     "delete_cmd_prefix": "del ",
     "library": "var_list.py",
     "varRefreshCmd": "print(var_dic_list())"
    },
    "r": {
     "delete_cmd_postfix": ") ",
     "delete_cmd_prefix": "rm(",
     "library": "var_list.r",
     "varRefreshCmd": "cat(var_dic_list()) "
    }
   },
   "types_to_exclude": [
    "module",
    "function",
    "builtin_function_or_method",
    "instance",
    "_Feature"
   ],
   "window_display": false
  }
 },
 "nbformat": 4,
 "nbformat_minor": 5
}
