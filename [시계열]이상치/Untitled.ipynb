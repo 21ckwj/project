{
 "cells": [
  {
   "cell_type": "code",
   "execution_count": 70,
   "id": "6129ab00",
   "metadata": {
    "ExecuteTime": {
     "end_time": "2023-07-02T12:23:55.578504Z",
     "start_time": "2023-07-02T12:23:55.566536Z"
    }
   },
   "outputs": [],
   "source": [
    "import pandas as pd\n",
    "import numpy as np\n",
    "import matplotlib.pyplot as plt\n",
    "import seaborn as sns"
   ]
  },
  {
   "cell_type": "markdown",
   "id": "a1162d75",
   "metadata": {},
   "source": [
    "# 논문 데이터 셋"
   ]
  },
  {
   "cell_type": "code",
   "execution_count": 71,
   "id": "c093b6d0",
   "metadata": {
    "ExecuteTime": {
     "end_time": "2023-07-02T12:23:55.830745Z",
     "start_time": "2023-07-02T12:23:55.790968Z"
    }
   },
   "outputs": [],
   "source": [
    "k=2\n",
    "num_timestep = 10000\n",
    "y = np.zeros(num_timestep)\n",
    "y[0]=1\n",
    "y[1]=-2\n",
    "np.random.seed(0)\n",
    "\n",
    "time_range = np.arange(num_timestep)\n",
    "coef = [0.6,-0.5]\n",
    "\n",
    "change_size = 0\n",
    "for t in range(2,num_timestep):\n",
    "    noise = np.random.randn()   \n",
    "    if t % 1000 ==0: # 1000의 배수마다 change point 설정\n",
    "        change = t//1000\n",
    "        change_size += change\n",
    "    \n",
    "    # AR 모델 + change point를 고려\n",
    "    y[t] = coef[0]* y[t-1] + coef[1]*y[t-2] + noise + change_size"
   ]
  },
  {
   "cell_type": "code",
   "execution_count": 72,
   "id": "be3d6c1a",
   "metadata": {
    "ExecuteTime": {
     "end_time": "2023-07-02T12:23:56.205112Z",
     "start_time": "2023-07-02T12:23:56.028524Z"
    }
   },
   "outputs": [
    {
     "data": {
      "text/plain": [
       "[<matplotlib.lines.Line2D at 0x1b6a8b79690>]"
      ]
     },
     "execution_count": 72,
     "metadata": {},
     "output_type": "execute_result"
    },
    {
     "data": {
      "image/png": "[encoded data removed]",
      "text/plain": [
       "<Figure size 720x360 with 1 Axes>"
      ]
     },
     "metadata": {
      "needs_background": "light"
     },
     "output_type": "display_data"
    }
   ],
   "source": [
    "fig, axs = plt.subplots(figsize=(10,5))\n",
    "plt.plot(time_range, y)"
   ]
  },
  {
   "cell_type": "markdown",
   "id": "690fcdea",
   "metadata": {},
   "source": [
    "# initial parameter"
   ]
  },
  {
   "cell_type": "code",
   "execution_count": 74,
   "id": "38b61fc2",
   "metadata": {
    "ExecuteTime": {
     "end_time": "2023-07-02T12:23:56.797837Z",
     "start_time": "2023-07-02T12:23:56.774437Z"
    }
   },
   "outputs": [
    {
     "data": {
      "text/plain": [
       "array([ 1.        , -2.        ,  0.06405235,  1.43858862,  1.80986498,\n",
       "        2.60751788,  2.52713623, -0.76475508, -0.77233275, -0.23237931,\n",
       "        0.14351993,  0.61290012,  0.44002368,  1.41183765,  1.38812848,\n",
       "        0.24863328, -0.10102104,  0.14874506,  1.63383663,  0.70077118])"
      ]
     },
     "execution_count": 74,
     "metadata": {},
     "output_type": "execute_result"
    }
   ],
   "source": [
    "t = 20\n",
    "series = y[:t]\n",
    "series"
   ]
  },
  {
   "cell_type": "code",
   "execution_count": 75,
   "id": "c2308db5",
   "metadata": {
    "ExecuteTime": {
     "end_time": "2023-07-02T12:24:00.920988Z",
     "start_time": "2023-07-02T12:24:00.909019Z"
    }
   },
   "outputs": [
    {
     "data": {
      "text/plain": [
       "1.167303907634587"
      ]
     },
     "execution_count": 75,
     "metadata": {},
     "output_type": "execute_result"
    }
   ],
   "source": [
    "mean= np.mean(series[-k:])\n",
    "mean"
   ]
  },
  {
   "cell_type": "code",
   "execution_count": 76,
   "id": "489e9d8c",
   "metadata": {
    "ExecuteTime": {
     "end_time": "2023-07-02T12:24:01.596866Z",
     "start_time": "2023-07-02T12:24:01.586893Z"
    }
   },
   "outputs": [
    {
     "data": {
      "text/plain": [
       "[1.1666402957637734, 0.773865260495972, 0.038314612523011785]"
      ]
     },
     "execution_count": 76,
     "metadata": {},
     "output_type": "execute_result"
    }
   ],
   "source": [
    "k=2\n",
    "autocovariance = []\n",
    "for lag in range(k + 1):\n",
    "    n = len(series)\n",
    "    acov = np.mean((series[k:n] - mean) * (series[k-lag:n-lag] - mean))\n",
    "    autocovariance.append(acov)\n",
    "    \n",
    "autocovariance"
   ]
  },
  {
   "cell_type": "code",
   "execution_count": 77,
   "id": "9dffc3f3",
   "metadata": {
    "ExecuteTime": {
     "end_time": "2023-07-02T12:24:02.204382Z",
     "start_time": "2023-07-02T12:24:02.195405Z"
    }
   },
   "outputs": [
    {
     "data": {
      "text/plain": [
       "[0.773865260495972, 0.038314612523011785]"
      ]
     },
     "execution_count": 77,
     "metadata": {},
     "output_type": "execute_result"
    }
   ],
   "source": [
    "# Calculate the autocovariance: [C1,C2,C3..Ck]\n",
    "# k=2 : [C1,C2]\n",
    "\n",
    "autocovariance_1 = []\n",
    "for lag in range(1,k + 1):\n",
    "    n = len(series)\n",
    "    acov = np.mean((series[k:n] - mean) * (series[k-lag:n-lag] - mean))\n",
    "    autocovariance_1.append(acov)\n",
    "    \n",
    "autocovariance_1"
   ]
  },
  {
   "cell_type": "code",
   "execution_count": 78,
   "id": "74a2a830",
   "metadata": {
    "ExecuteTime": {
     "end_time": "2023-07-02T12:24:06.309605Z",
     "start_time": "2023-07-02T12:24:06.298633Z"
    }
   },
   "outputs": [
    {
     "data": {
      "text/plain": [
       "[1.1666402957637734, 0.773865260495972]"
      ]
     },
     "execution_count": 78,
     "metadata": {},
     "output_type": "execute_result"
    }
   ],
   "source": [
    "autocovariance_0 = []\n",
    "for lag in range(k):\n",
    "    n = len(series)\n",
    "    acov = np.mean((series[k:n] - mean) * (series[k-lag:n-lag] - mean))\n",
    "    autocovariance_0.append(acov)\n",
    "\n",
    "autocovariance_0"
   ]
  },
  {
   "cell_type": "code",
   "execution_count": 79,
   "id": "434bb5e4",
   "metadata": {
    "ExecuteTime": {
     "end_time": "2023-07-02T12:24:07.432348Z",
     "start_time": "2023-07-02T12:24:07.413399Z"
    }
   },
   "outputs": [
    {
     "data": {
      "text/plain": [
       "array([[0.77386526, 0.03831461],\n",
       "       [0.03831461, 0.77386526]])"
      ]
     },
     "execution_count": 79,
     "metadata": {},
     "output_type": "execute_result"
    }
   ],
   "source": [
    "# covariance_matrix\n",
    "cov_matrix = np.zeros((k,k))\n",
    "for i in range(k):\n",
    "    for j in range(k):\n",
    "        cov_matrix[i][j] = autocovariance_1[np.abs(i-j)]\n",
    "cov_matrix"
   ]
  },
  {
   "cell_type": "code",
   "execution_count": 80,
   "id": "bbd4921c",
   "metadata": {
    "ExecuteTime": {
     "end_time": "2023-07-02T12:26:22.944721Z",
     "start_time": "2023-07-02T12:26:22.933784Z"
    }
   },
   "outputs": [
    {
     "data": {
      "text/plain": [
       "array([[1.1666403 , 0.        ],\n",
       "       [0.77386526, 1.1666403 ]])"
      ]
     },
     "execution_count": 80,
     "metadata": {},
     "output_type": "execute_result"
    }
   ],
   "source": [
    "# w1, w2, w3 다시 구해보기\n",
    "# Construct matrix\n",
    "\n",
    "equation_matrix = np.zeros((k, k))\n",
    "for i in range(k):\n",
    "    for j in range(k):\n",
    "        if j <= i:\n",
    "            equation_matrix[i, j] = autocovariance_0[i-j]\n",
    "        else:\n",
    "            equation_matrix[i,j] = 0\n",
    "        \n",
    "equation_matrix"
   ]
  },
  {
   "cell_type": "code",
   "execution_count": 81,
   "id": "809433b1",
   "metadata": {
    "ExecuteTime": {
     "end_time": "2023-07-02T12:26:24.598953Z",
     "start_time": "2023-07-02T12:26:24.578768Z"
    }
   },
   "outputs": [
    {
     "data": {
      "text/plain": [
       "array([ 0.66332807, -0.4071623 ])"
      ]
     },
     "execution_count": 81,
     "metadata": {},
     "output_type": "execute_result"
    }
   ],
   "source": [
    "ar_coefficients = np.linalg.solve(equation_matrix, autocovariance_1)\n",
    "ar_coefficients"
   ]
  },
  {
   "cell_type": "code",
   "execution_count": 82,
   "id": "42a3b221",
   "metadata": {
    "ExecuteTime": {
     "end_time": "2023-07-02T12:26:40.290751Z",
     "start_time": "2023-07-02T12:26:40.270805Z"
    }
   },
   "outputs": [
    {
     "data": {
      "text/plain": [
       "array([0.70077118, 1.63383663])"
      ]
     },
     "execution_count": 82,
     "metadata": {},
     "output_type": "execute_result"
    }
   ],
   "source": [
    "# Xt-1, Xt-2\n",
    "series[-k:][::-1]"
   ]
  },
  {
   "cell_type": "code",
   "execution_count": 83,
   "id": "3c8d82b7",
   "metadata": {
    "ExecuteTime": {
     "end_time": "2023-07-02T12:26:42.100126Z",
     "start_time": "2023-07-02T12:26:42.086620Z"
    }
   },
   "outputs": [
    {
     "data": {
      "text/plain": [
       "array([0.85783965, 0.97734937])"
      ]
     },
     "execution_count": 83,
     "metadata": {},
     "output_type": "execute_result"
    }
   ],
   "source": [
    "# w\n",
    "w= ar_coefficients * (series[-k:][::-1]-mean) + mean\n",
    "w"
   ]
  },
  {
   "cell_type": "code",
   "execution_count": 85,
   "id": "3e418e68",
   "metadata": {
    "ExecuteTime": {
     "end_time": "2023-07-02T12:26:44.185018Z",
     "start_time": "2023-07-02T12:26:44.166069Z"
    }
   },
   "outputs": [],
   "source": [
    "from scipy.stats import multivariate_normal\n",
    "\n",
    "class MultivariateARModel:\n",
    "    def __init__(self, order, mean_vector, covariance_matrix):\n",
    "        \"\"\"\n",
    "        Initialize the MultivariateARModel class.\n",
    "\n",
    "        Parameters:\n",
    "            order (int): The order of the AR model.\n",
    "            mean_vector (numpy array): The mean vector of the AR model.\n",
    "            covariance_matrix (numpy array): The covariance matrix of the AR model.\n",
    "        \"\"\"\n",
    "        self.order = order\n",
    "        self.mean_vector = mean_vector\n",
    "        self.covariance_matrix = covariance_matrix\n",
    "\n",
    "    def multivariate_pdf(self, data):\n",
    "        \"\"\"\n",
    "        Calculate the multivariate probability density function (PDF) in the AR model.\n",
    "\n",
    "        Parameters:\n",
    "            data (numpy array): The input data containing observations.\n",
    "\n",
    "        Returns:\n",
    "            numpy array: The PDF values for each observation.\n",
    "        \"\"\"\n",
    "#         pdf_values = np.zeros(data.shape[0])\n",
    "\n",
    "        observation = data[-self.order:][::-1]\n",
    "        pdf_values = multivariate_normal.pdf(observation, mean=self.mean_vector, cov=self.covariance_matrix)\n",
    "\n",
    "        return pdf_values"
   ]
  },
  {
   "cell_type": "code",
   "execution_count": 86,
   "id": "57162a82",
   "metadata": {
    "ExecuteTime": {
     "end_time": "2023-07-02T12:26:44.855494Z",
     "start_time": "2023-07-02T12:26:44.845657Z"
    }
   },
   "outputs": [
    {
     "data": {
      "text/plain": [
       "0.1522813760406271"
      ]
     },
     "execution_count": 86,
     "metadata": {},
     "output_type": "execute_result"
    }
   ],
   "source": [
    "multi_armodel = MultivariateARModel(k, mean_vector=w, covariance_matrix=cov_matrix)\n",
    "multi_armodel.multivariate_pdf(series)"
   ]
  },
  {
   "cell_type": "markdown",
   "id": "a0617129",
   "metadata": {},
   "source": [
    "# update parameter"
   ]
  },
  {
   "cell_type": "code",
   "execution_count": 87,
   "id": "c7fe8666",
   "metadata": {
    "ExecuteTime": {
     "end_time": "2023-07-02T12:26:46.864249Z",
     "start_time": "2023-07-02T12:26:46.845299Z"
    }
   },
   "outputs": [
    {
     "name": "stdout",
     "output_type": "stream",
     "text": [
      "새로 추가된 데이터: [ 1.         -2.          0.06405235  1.43858862  1.80986498  2.60751788\n",
      "  2.52713623 -0.76475508 -0.77233275 -0.23237931  0.14351993  0.61290012\n",
      "  0.44002368  1.41183765  1.38812848  0.24863328 -0.10102104  0.14874506\n",
      "  1.63383663  0.70077118 -0.0833879 ]\n"
     ]
    }
   ],
   "source": [
    "# discount factor\n",
    "r = 0.005\n",
    "t = t+1\n",
    "series = y[:t]\n",
    "print(\"새로 추가된 데이터:\", series)"
   ]
  },
  {
   "cell_type": "code",
   "execution_count": 88,
   "id": "e7ec265f",
   "metadata": {
    "ExecuteTime": {
     "end_time": "2023-07-02T12:26:47.699040Z",
     "start_time": "2023-07-02T12:26:47.685078Z"
    }
   },
   "outputs": [],
   "source": [
    "# update mean\n",
    "mean = (1-r) * mean + r * series[-1]"
   ]
  },
  {
   "cell_type": "code",
   "execution_count": 89,
   "id": "6e7ccad7",
   "metadata": {
    "ExecuteTime": {
     "end_time": "2023-07-02T12:26:52.504754Z",
     "start_time": "2023-07-02T12:26:52.483810Z"
    }
   },
   "outputs": [
    {
     "data": {
      "text/plain": [
       "[0.7709980209683718, 0.04586617353266119]"
      ]
     },
     "execution_count": 89,
     "metadata": {},
     "output_type": "execute_result"
    }
   ],
   "source": [
    "# update covariance\n",
    "new_autocovariance_1 = []\n",
    "for lag,acov in enumerate(autocovariance_1):\n",
    "    new_acov = (1-r) * acov + r * (series[-1]-mean) * (series[-lag]-mean) \n",
    "    new_autocovariance_1.append(new_acov)\n",
    "    \n",
    "new_autocovariance_1"
   ]
  },
  {
   "cell_type": "code",
   "execution_count": 91,
   "id": "477e7bdb",
   "metadata": {
    "ExecuteTime": {
     "end_time": "2023-07-02T12:29:00.163154Z",
     "start_time": "2023-07-02T12:29:00.151188Z"
    }
   },
   "outputs": [
    {
     "data": {
      "text/plain": [
       "[1.1618091810598339, 0.7777390682657567]"
      ]
     },
     "execution_count": 91,
     "metadata": {},
     "output_type": "execute_result"
    }
   ],
   "source": [
    "# update covariance\n",
    "new_autocovariance_0 = []\n",
    "for lag,acov in enumerate(autocovariance_0):\n",
    "    new_acov = (1-r) * acov + r * (series[-1]-mean) * (series[-lag]-mean)\n",
    "    new_autocovariance_0.append(new_acov)\n",
    "    \n",
    "new_autocovariance_0"
   ]
  },
  {
   "cell_type": "code",
   "execution_count": 92,
   "id": "27d0826e",
   "metadata": {
    "ExecuteTime": {
     "end_time": "2023-07-02T12:29:06.825308Z",
     "start_time": "2023-07-02T12:29:06.804300Z"
    }
   },
   "outputs": [
    {
     "data": {
      "text/plain": [
       "array([[0.77099802, 0.04586617],\n",
       "       [0.04586617, 0.77099802]])"
      ]
     },
     "execution_count": 92,
     "metadata": {},
     "output_type": "execute_result"
    }
   ],
   "source": [
    "# covariance_matrix\n",
    "cov_matrix = np.zeros((k,k))\n",
    "for i in range(k):\n",
    "    for j in range(k):\n",
    "        cov_matrix[i][j] = new_autocovariance_1[np.abs(i-j)]\n",
    "cov_matrix"
   ]
  },
  {
   "cell_type": "code",
   "execution_count": 93,
   "id": "14d09540",
   "metadata": {
    "ExecuteTime": {
     "end_time": "2023-07-02T12:30:20.566523Z",
     "start_time": "2023-07-02T12:30:20.554553Z"
    }
   },
   "outputs": [
    {
     "data": {
      "text/plain": [
       "array([[1.16180918, 0.        ],\n",
       "       [0.77773907, 1.16180918]])"
      ]
     },
     "execution_count": 93,
     "metadata": {},
     "output_type": "execute_result"
    }
   ],
   "source": [
    "# update w1, w2, w3 \n",
    "# Construct matrix\n",
    "\n",
    "equation_matrix = np.zeros((k, k))\n",
    "for i in range(k):\n",
    "    for j in range(k):\n",
    "        if j <= i:\n",
    "            equation_matrix[i, j] = new_autocovariance_0[i-j]\n",
    "        else:\n",
    "            equation_matrix[i,j] = 0\n",
    "        \n",
    "equation_matrix"
   ]
  },
  {
   "cell_type": "code",
   "execution_count": 94,
   "id": "36639b59",
   "metadata": {
    "ExecuteTime": {
     "end_time": "2023-07-02T12:30:57.630185Z",
     "start_time": "2023-07-02T12:30:57.610159Z"
    }
   },
   "outputs": [
    {
     "data": {
      "text/plain": [
       "array([ 0.66361846, -0.40476168])"
      ]
     },
     "execution_count": 94,
     "metadata": {},
     "output_type": "execute_result"
    }
   ],
   "source": [
    "# update result\n",
    "ar_coefficients = np.linalg.solve(equation_matrix, new_autocovariance_1)\n",
    "ar_coefficients"
   ]
  },
  {
   "cell_type": "code",
   "execution_count": 95,
   "id": "f1e2cea1",
   "metadata": {
    "ExecuteTime": {
     "end_time": "2023-07-02T12:30:59.153182Z",
     "start_time": "2023-07-02T12:30:59.137225Z"
    }
   },
   "outputs": [
    {
     "data": {
      "text/plain": [
       "array([0.33521818, 1.34735385])"
      ]
     },
     "execution_count": 95,
     "metadata": {},
     "output_type": "execute_result"
    }
   ],
   "source": [
    "# update w\n",
    "w= ar_coefficients * (series[-2:][::-1]-mean) + mean\n",
    "w"
   ]
  },
  {
   "cell_type": "code",
   "execution_count": 96,
   "id": "3e099d7c",
   "metadata": {
    "ExecuteTime": {
     "end_time": "2023-07-02T12:31:00.710912Z",
     "start_time": "2023-07-02T12:31:00.702234Z"
    }
   },
   "outputs": [
    {
     "data": {
      "text/plain": [
       "0.14353098040708218"
      ]
     },
     "execution_count": 96,
     "metadata": {},
     "output_type": "execute_result"
    }
   ],
   "source": [
    "multi_armodel = MultivariateARModel(k, mean_vector=w, covariance_matrix=cov_matrix)\n",
    "multi_armodel.multivariate_pdf(series)"
   ]
  },
  {
   "cell_type": "code",
   "execution_count": null,
   "id": "8f026049",
   "metadata": {},
   "outputs": [],
   "source": []
  },
  {
   "cell_type": "markdown",
   "id": "047fcd44",
   "metadata": {},
   "source": [
    "# 함수화"
   ]
  },
  {
   "cell_type": "code",
   "execution_count": 108,
   "id": "0bddfdff",
   "metadata": {
    "ExecuteTime": {
     "end_time": "2023-07-02T15:22:30.683282Z",
     "start_time": "2023-07-02T15:22:30.657347Z"
    }
   },
   "outputs": [],
   "source": [
    "def update_mean(series,mean,r):\n",
    "    mean = (1-r) * mean + r * series[-1]\n",
    "    return mean\n",
    "\n",
    "def update_covariance(series,autocovariance,r):\n",
    "    new_autocovariance = []\n",
    "    for lag,acov in enumerate(autocovariance):\n",
    "        new_acov = (1-r) * acov + r * (series[-1]-mean) * (series[-lag]-mean) \n",
    "        new_autocovariance.append(new_acov)\n",
    "        \n",
    "    return new_autocovariance\n",
    "\n",
    "def make_cov_matrix(autocovariance,order):\n",
    "    \n",
    "    autocovariance_1 = autocovariance[1:]\n",
    "    \n",
    "    cov_matrix = np.zeros((order,order))\n",
    "    for i in range(k):\n",
    "        for j in range(k):\n",
    "            cov_matrix[i][j] = new_autocovariance_1[np.abs(i-j)]\n",
    "            \n",
    "    return cov_matrix\n",
    "\n",
    "def get_AR_coefficients(autocovariance, k):\n",
    "    \n",
    "    autocovariance_0 = autocovariance[:-1]\n",
    "    autocovariance_1 = autocovariance[1:]\n",
    "    \n",
    "    equation_matrix = np.zeros((k, k))\n",
    "    for i in range(k):\n",
    "        for j in range(k):\n",
    "            if j <= i:\n",
    "                equation_matrix[i, j] = autocovariance_0[i-j]\n",
    "            else:\n",
    "                equation_matrix[i,j] = 0\n",
    "    \n",
    "    ar_coefficients = np.linalg.solve(equation_matrix, autocovariance_1)\n",
    "    \n",
    "    return ar_coefficients\n",
    "\n",
    "def get_mean_vector(ar_coefficients, order, mean):\n",
    "    \n",
    "    w= ar_coefficients * (series[-order:][::-1]-mean) + mean\n",
    "    \n",
    "    return w\n",
    "    "
   ]
  },
  {
   "cell_type": "code",
   "execution_count": 109,
   "id": "830756d5",
   "metadata": {
    "ExecuteTime": {
     "end_time": "2023-07-02T15:22:33.957731Z",
     "start_time": "2023-07-02T15:22:33.944681Z"
    }
   },
   "outputs": [],
   "source": [
    "class SDAR_Model:\n",
    "    def __init__(self,series, order, mean_vector,covariance_matrix):\n",
    "        \"\"\"\n",
    "        Initialize the MultivariateARModel class.\n",
    "\n",
    "        Parameters:\n",
    "            order (int): The order of the AR model.\n",
    "            mean_vector (numpy array): The mean vector of the AR model.\n",
    "            covariance_matrix (numpy array): The covariance matrix of the AR model.\n",
    "        \"\"\"\n",
    "        self.series = series\n",
    "        self.order = order\n",
    "        self.mean_vector = mean_vector\n",
    "        self.covariance_matrix = covariance_matrix\n",
    "\n",
    "    def gaussian_normal_pdf(self):\n",
    "        \"\"\"\n",
    "        Calculate the multivariate probability density function (PDF) in the AR model.\n",
    "\n",
    "        Returns:\n",
    "            numpy array: The PDF values for each observation.\n",
    "        \"\"\"\n",
    "#         pdf_values = np.zeros(data.shape[0])\n",
    "\n",
    "        observation = series[-self.order:][::-1]\n",
    "        pdf_values = multivariate_normal.pdf(observation, mean=self.mean_vector, cov=self.covariance_matrix)\n",
    "\n",
    "        return pdf_values"
   ]
  },
  {
   "cell_type": "code",
   "execution_count": null,
   "id": "dc729791",
   "metadata": {},
   "outputs": [],
   "source": []
  },
  {
   "cell_type": "code",
   "execution_count": 110,
   "id": "8661c28a",
   "metadata": {
    "ExecuteTime": {
     "end_time": "2023-07-02T15:22:34.504610Z",
     "start_time": "2023-07-02T15:22:34.472101Z"
    }
   },
   "outputs": [
    {
     "data": {
      "text/plain": [
       "0.1522813760406271"
      ]
     },
     "execution_count": 110,
     "metadata": {},
     "output_type": "execute_result"
    }
   ],
   "source": [
    "series = y[:20]\n",
    "order = 2\n",
    "\n",
    "# initial parameter\n",
    "\n",
    "mean= np.mean(series[-order:])\n",
    "\n",
    "autocovariance = []\n",
    "for lag in range(order + 1):\n",
    "    n = len(series)\n",
    "    acov = np.mean((series[order:n] - mean) * (series[order-lag:n-lag] - mean))\n",
    "    autocovariance.append(acov)\n",
    "    \n",
    "autocovariance_1 = autocovariance[1:]\n",
    "autocovariance_0 = autocovariance[:-1]\n",
    "\n",
    "# covariance_matrix\n",
    "cov_matrix = np.zeros((order,order))\n",
    "for i in range(order):\n",
    "    for j in range(order):\n",
    "        cov_matrix[i][j] = autocovariance_1[np.abs(i-j)]\n",
    "        \n",
    "# get ar coefficients\n",
    "\n",
    "equation_matrix = np.zeros((order, order))\n",
    "for i in range(order):\n",
    "    for j in range(order):\n",
    "        if j <= i:\n",
    "            equation_matrix[i, j] = autocovariance_0[i-j]\n",
    "        else:\n",
    "            equation_matrix[i,j] = 0\n",
    "            \n",
    "ar_coefficients = np.linalg.solve(equation_matrix, autocovariance_1)\n",
    "\n",
    "# mean_vector(w)\n",
    "w= ar_coefficients * (series[-order:][::-1]-mean) + mean\n",
    "\n",
    "sdar_model = SDAR_Model(series, order, mean_vector=w, covariance_matrix=cov_matrix)\n",
    "pdf_value = sdar_model.gaussian_normal_pdf()\n",
    "pdf_value"
   ]
  },
  {
   "cell_type": "code",
   "execution_count": 111,
   "id": "eae54dd6",
   "metadata": {
    "ExecuteTime": {
     "end_time": "2023-07-02T15:22:37.446948Z",
     "start_time": "2023-07-02T15:22:35.827141Z"
    }
   },
   "outputs": [],
   "source": [
    "# 데이터 하나씩 업데이트\n",
    "r = 0.005\n",
    "\n",
    "probability_list = []\n",
    "\n",
    "for t in range(20+1,5100):\n",
    "    series = y[:t]\n",
    "    \n",
    "    mean = update_mean(series, mean, r)\n",
    "    autocovariance = update_covariance(series,autocovariance,r)\n",
    "    \n",
    "    cov_matrix =  make_cov_matrix(autocovariance,order)\n",
    "    \n",
    "    ar_coefficients = get_AR_coefficients(autocovariance, order)\n",
    "    \n",
    "    w = get_mean_vector(ar_coefficients, order, mean)\n",
    "    \n",
    "    sdar_model = SDAR_Model(series, order, mean_vector=w, covariance_matrix=cov_matrix)\n",
    "    pdf_value = sdar_model.gaussian_normal_pdf()\n",
    "    probability_list.append(pdf_value)"
   ]
  },
  {
   "cell_type": "code",
   "execution_count": 112,
   "id": "ea48cd24",
   "metadata": {
    "ExecuteTime": {
     "end_time": "2023-07-02T15:23:41.305053Z",
     "start_time": "2023-07-02T15:23:40.937778Z"
    }
   },
   "outputs": [
    {
     "data": {
      "text/plain": [
       "[<matplotlib.lines.Line2D at 0x1b6a98b10f0>]"
      ]
     },
     "execution_count": 112,
     "metadata": {},
     "output_type": "execute_result"
    },
    {
     "data": {
      "image/png": "[encoded data removed]",
      "text/plain": [
       "<Figure size 720x360 with 1 Axes>"
      ]
     },
     "metadata": {
      "needs_background": "light"
     },
     "output_type": "display_data"
    }
   ],
   "source": [
    "time_range = np.arange(21,5100)\n",
    "fig, axs = plt.subplots(figsize=(10,5))\n",
    "plt.plot(time_range, probability_list)"
   ]
  },
  {
   "cell_type": "markdown",
   "id": "07f8d70d",
   "metadata": {},
   "source": [
    "# 시각화"
   ]
  },
  {
   "cell_type": "code",
   "execution_count": null,
   "id": "99176a98",
   "metadata": {},
   "outputs": [],
   "source": []
  },
  {
   "cell_type": "code",
   "execution_count": null,
   "id": "6d9ccbec",
   "metadata": {},
   "outputs": [],
   "source": []
  },
  {
   "cell_type": "code",
   "execution_count": null,
   "id": "575e5af4",
   "metadata": {},
   "outputs": [],
   "source": []
  },
  {
   "cell_type": "code",
   "execution_count": null,
   "id": "f3bb9432",
   "metadata": {},
   "outputs": [],
   "source": []
  }
 ],
 "metadata": {
  "kernelspec": {
   "display_name": "Python 3 (ipykernel)",
   "language": "python",
   "name": "python3"
  },
  "language_info": {
   "codemirror_mode": {
    "name": "ipython",
    "version": 3
   },
   "file_extension": ".py",
   "mimetype": "text/x-python",
   "name": "python",
   "nbconvert_exporter": "python",
   "pygments_lexer": "ipython3",
   "version": "3.10.11"
  },
  "toc": {
   "base_numbering": 1,
   "nav_menu": {},
   "number_sections": true,
   "sideBar": true,
   "skip_h1_title": false,
   "title_cell": "Table of Contents",
   "title_sidebar": "Contents",
   "toc_cell": false,
   "toc_position": {},
   "toc_section_display": true,
   "toc_window_display": true
  },
  "varInspector": {
   "cols": {
    "lenName": 16,
    "lenType": 16,
    "lenVar": 40
   },
   "kernels_config": {
    "python": {
     "delete_cmd_postfix": "",
     "delete_cmd_prefix": "del ",
     "library": "var_list.py",
     "varRefreshCmd": "print(var_dic_list())"
    },
    "r": {
     "delete_cmd_postfix": ") ",
     "delete_cmd_prefix": "rm(",
     "library": "var_list.r",
     "varRefreshCmd": "cat(var_dic_list()) "
    }
   },
   "types_to_exclude": [
    "module",
    "function",
    "builtin_function_or_method",
    "instance",
    "_Feature"
   ],
   "window_display": false
  }
 },
 "nbformat": 4,
 "nbformat_minor": 5
}
