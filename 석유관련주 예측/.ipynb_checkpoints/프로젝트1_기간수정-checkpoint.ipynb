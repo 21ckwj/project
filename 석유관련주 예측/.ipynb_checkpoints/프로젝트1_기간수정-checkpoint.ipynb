{
 "cells": [
  {
   "cell_type": "markdown",
   "id": "496e245c",
   "metadata": {
    "ExecuteTime": {
     "end_time": "2023-05-21T08:22:02.592540Z",
     "start_time": "2023-05-21T08:22:02.571232Z"
    }
   },
   "source": [
    "# 프로젝트 의의:\n",
    "제무제표는 후행지표이기 때문에 선행성을 가진 주가를 예측하는데 사용하기 힘든 부분이 있음<br>\n",
    "제무제표를 확인하여 투자할 수 있는 방법은 고정비가 많이 ~"
   ]
  },
  {
   "cell_type": "markdown",
   "id": "a529a4e9",
   "metadata": {
    "ExecuteTime": {
     "end_time": "2023-05-21T08:24:51.081668Z",
     "start_time": "2023-05-21T08:24:51.067285Z"
    }
   },
   "source": [
    "# 프로젝트 목표:\n",
    "* 상품의 원재료(석유) 비중이 70% 이상인 기업의 주가들을 하나의 지수로 만들어 선행지표인 석유가격을 활용하여<br>\n",
    "딥러닝을 통해 석유지수를 예측해보려함<br>\n",
    "* 주가는 대표적인 비정상시계열이므로 단변량으로 추세 예측 불가능. 따라서 석유가격을 사용한 Multivaraible 모델을 <br>\n",
    "사용할 계획\n",
    "* 이를 통해 매일매일 수익률을 확인할 수 있는 프로그램 배포까지 진행할 예정"
   ]
  },
  {
   "cell_type": "markdown",
   "id": "c3c9ef7e",
   "metadata": {},
   "source": [
    "# 활용 데이터\n",
    "* 기간: 현재로부터 최근 5년 \n",
    "* 종류: 석유 관련 기업 주가 데이터, 두바이유 선물"
   ]
  },
  {
   "cell_type": "code",
   "execution_count": 1,
   "id": "9bc85ea2",
   "metadata": {
    "ExecuteTime": {
     "end_time": "2023-06-11T11:22:52.026647Z",
     "start_time": "2023-06-11T11:22:52.012648Z"
    }
   },
   "outputs": [],
   "source": [
    "# 지수 구하기\n",
    "# 해야할것 \n",
    "# 날짜별 비교시점 시가총액합/ 기준시점시가총액 합\n",
    "# 정유주 별 지수\n",
    "# 윤활유주 지수\n",
    "# 석유화학주 지수\n",
    "# 전체지수"
   ]
  },
  {
   "cell_type": "markdown",
   "id": "c3b2ed00",
   "metadata": {},
   "source": [
    "# Version "
   ]
  },
  {
   "cell_type": "code",
   "execution_count": 2,
   "id": "0db21d3c",
   "metadata": {
    "ExecuteTime": {
     "end_time": "2023-06-11T11:23:04.008606Z",
     "start_time": "2023-06-11T11:22:53.881510Z"
    }
   },
   "outputs": [
    {
     "name": "stdout",
     "output_type": "stream",
     "text": [
      "python:  3.8.16 (default, Mar  2 2023, 03:18:16) [MSC v.1916 64 bit (AMD64)]\n",
      "pandas:  1.3.0\n",
      "numpy:  1.19.5\n",
      "matplotlib:  3.4.0\n",
      "seaborn:  0.12.2\n",
      "sklearn:  1.2.2\n",
      "tensorflow:  2.5.0\n",
      "tensorflow_probability:  0.12.2\n"
     ]
    }
   ],
   "source": [
    "import numpy as np # 2021년 6월\n",
    "import pandas as pd\n",
    "import matplotlib.pyplot as plt\n",
    "import seaborn as sns\n",
    "import matplotlib\n",
    "import sklearn\n",
    "import tensorflow as tf\n",
    "import tensorflow_probability as tfp\n",
    "import sys\n",
    "import warnings\n",
    "warnings.filterwarnings('ignore')\n",
    "\n",
    "print(\"python: \", sys.version)\n",
    "print(\"pandas: \", pd.__version__)\n",
    "print(\"numpy: \", np.__version__)\n",
    "print(\"matplotlib: \", matplotlib.__version__)\n",
    "print(\"seaborn: \", sns.__version__)\n",
    "print(\"sklearn: \", sklearn.__version__)\n",
    "print(\"tensorflow: \", tf.__version__)\n",
    "print(\"tensorflow_probability: \", tfp.__version__)"
   ]
  },
  {
   "cell_type": "markdown",
   "id": "f816a6b4",
   "metadata": {},
   "source": [
    "# 석유 관련주 지수화(index)\n",
    "finance datareader 모듈을 사용하여 석유 관련주 종목코드를 수집하여<br>\n",
    "네이버 주식에 발행주식수, 유동비율, 액면가 등을 고려하여 하나의 지수를 만들 예정"
   ]
  },
  {
   "cell_type": "code",
   "execution_count": 3,
   "id": "09607907",
   "metadata": {
    "ExecuteTime": {
     "end_time": "2023-06-11T11:23:05.875021Z",
     "start_time": "2023-06-11T11:23:05.590764Z"
    }
   },
   "outputs": [],
   "source": [
    "import FinanceDataReader as fdr\n",
    "from selenium import webdriver\n",
    "from selenium.webdriver.common.keys import Keys\n",
    "import time"
   ]
  },
  {
   "cell_type": "code",
   "execution_count": 4,
   "id": "e525b33a",
   "metadata": {
    "ExecuteTime": {
     "end_time": "2023-06-11T11:23:06.913881Z",
     "start_time": "2023-06-11T11:23:05.893013Z"
    }
   },
   "outputs": [
    {
     "data": {
      "text/html": [
       "<div>\n",
       "<style scoped>\n",
       "    .dataframe tbody tr th:only-of-type {\n",
       "        vertical-align: middle;\n",
       "    }\n",
       "\n",
       "    .dataframe tbody tr th {\n",
       "        vertical-align: top;\n",
       "    }\n",
       "\n",
       "    .dataframe thead th {\n",
       "        text-align: right;\n",
       "    }\n",
       "</style>\n",
       "<table border=\"1\" class=\"dataframe\">\n",
       "  <thead>\n",
       "    <tr style=\"text-align: right;\">\n",
       "      <th></th>\n",
       "      <th>Code</th>\n",
       "      <th>ISU_CD</th>\n",
       "      <th>Name</th>\n",
       "      <th>Market</th>\n",
       "      <th>Dept</th>\n",
       "      <th>Close</th>\n",
       "      <th>ChangeCode</th>\n",
       "      <th>Changes</th>\n",
       "      <th>ChagesRatio</th>\n",
       "      <th>Open</th>\n",
       "      <th>High</th>\n",
       "      <th>Low</th>\n",
       "      <th>Volume</th>\n",
       "      <th>Amount</th>\n",
       "      <th>Marcap</th>\n",
       "      <th>Stocks</th>\n",
       "      <th>MarketId</th>\n",
       "    </tr>\n",
       "  </thead>\n",
       "  <tbody>\n",
       "    <tr>\n",
       "      <th>0</th>\n",
       "      <td>005930</td>\n",
       "      <td>KR7005930003</td>\n",
       "      <td>삼성전자</td>\n",
       "      <td>KOSPI</td>\n",
       "      <td></td>\n",
       "      <td>72000</td>\n",
       "      <td>1</td>\n",
       "      <td>1100</td>\n",
       "      <td>1.55</td>\n",
       "      <td>71100</td>\n",
       "      <td>72300</td>\n",
       "      <td>70800</td>\n",
       "      <td>15050209</td>\n",
       "      <td>1080650065800</td>\n",
       "      <td>429824343600000</td>\n",
       "      <td>5969782550</td>\n",
       "      <td>STK</td>\n",
       "    </tr>\n",
       "    <tr>\n",
       "      <th>1</th>\n",
       "      <td>373220</td>\n",
       "      <td>KR7373220003</td>\n",
       "      <td>LG에너지솔루션</td>\n",
       "      <td>KOSPI</td>\n",
       "      <td></td>\n",
       "      <td>609000</td>\n",
       "      <td>1</td>\n",
       "      <td>18000</td>\n",
       "      <td>3.05</td>\n",
       "      <td>597000</td>\n",
       "      <td>610000</td>\n",
       "      <td>597000</td>\n",
       "      <td>449434</td>\n",
       "      <td>271926546000</td>\n",
       "      <td>142506000000000</td>\n",
       "      <td>234000000</td>\n",
       "      <td>STK</td>\n",
       "    </tr>\n",
       "    <tr>\n",
       "      <th>2</th>\n",
       "      <td>000660</td>\n",
       "      <td>KR7000660001</td>\n",
       "      <td>SK하이닉스</td>\n",
       "      <td>KOSPI</td>\n",
       "      <td></td>\n",
       "      <td>115400</td>\n",
       "      <td>1</td>\n",
       "      <td>5700</td>\n",
       "      <td>5.20</td>\n",
       "      <td>110300</td>\n",
       "      <td>115600</td>\n",
       "      <td>108300</td>\n",
       "      <td>7950947</td>\n",
       "      <td>897664429420</td>\n",
       "      <td>84011472921000</td>\n",
       "      <td>728002365</td>\n",
       "      <td>STK</td>\n",
       "    </tr>\n",
       "  </tbody>\n",
       "</table>\n",
       "</div>"
      ],
      "text/plain": [
       "     Code        ISU_CD      Name Market Dept   Close ChangeCode  Changes  \\\n",
       "0  005930  KR7005930003      삼성전자  KOSPI        72000          1     1100   \n",
       "1  373220  KR7373220003  LG에너지솔루션  KOSPI       609000          1    18000   \n",
       "2  000660  KR7000660001    SK하이닉스  KOSPI       115400          1     5700   \n",
       "\n",
       "   ChagesRatio    Open    High     Low    Volume         Amount  \\\n",
       "0         1.55   71100   72300   70800  15050209  1080650065800   \n",
       "1         3.05  597000  610000  597000    449434   271926546000   \n",
       "2         5.20  110300  115600  108300   7950947   897664429420   \n",
       "\n",
       "            Marcap      Stocks MarketId  \n",
       "0  429824343600000  5969782550      STK  \n",
       "1  142506000000000   234000000      STK  \n",
       "2   84011472921000   728002365      STK  "
      ]
     },
     "execution_count": 4,
     "metadata": {},
     "output_type": "execute_result"
    }
   ],
   "source": [
    "krx_lst = fdr.StockListing('KRX')  # krx_lst = 한국 전체 주식\n",
    "krx_lst.head(3)"
   ]
  },
  {
   "cell_type": "markdown",
   "id": "93454a7d",
   "metadata": {},
   "source": [
    "## 석유 관련 회사 리스트"
   ]
  },
  {
   "cell_type": "code",
   "execution_count": 5,
   "id": "a4864184",
   "metadata": {
    "ExecuteTime": {
     "end_time": "2023-06-11T11:23:06.961753Z",
     "start_time": "2023-06-11T11:23:06.947791Z"
    }
   },
   "outputs": [
    {
     "data": {
      "text/plain": [
       "['S-Oil',\n",
       " 'GS',\n",
       " 'SK이노베이션',\n",
       " '중앙에너비스',\n",
       " '흥구석유',\n",
       " '극동유화',\n",
       " '한국쉘석유',\n",
       " '미창석유',\n",
       " '롯데케미칼',\n",
       " '이수화학',\n",
       " '한국석유',\n",
       " '코프라',\n",
       " 'KPX케미칼',\n",
       " '애경케미칼']"
      ]
     },
     "execution_count": 5,
     "metadata": {},
     "output_type": "execute_result"
    }
   ],
   "source": [
    "company_lst = [\n",
    "# 정유주\n",
    "    'S-Oil',\n",
    "    'GS',\n",
    "    'SK이노베이션',\n",
    "    '중앙에너비스',\n",
    "    '흥구석유',\n",
    "    \n",
    "# 석유주(윤활유 비중 높은회사)\n",
    "    '극동유화',\n",
    "    '한국쉘석유',\n",
    "    '미창석유',\n",
    "\n",
    "# # 석유화학주\n",
    "    '롯데케미칼',\n",
    "    '이수화학',\n",
    "    '한국석유',\n",
    "    '코프라', # BGF에코머티리얼스\n",
    "    'KPX케미칼',\n",
    "    '애경케미칼'\n",
    "]\n",
    "company_lst"
   ]
  },
  {
   "cell_type": "code",
   "execution_count": 6,
   "id": "07dddec2",
   "metadata": {
    "ExecuteTime": {
     "end_time": "2023-06-11T11:23:08.235128Z",
     "start_time": "2023-06-11T11:23:08.222163Z"
    }
   },
   "outputs": [
    {
     "name": "stdout",
     "output_type": "stream",
     "text": [
      "회사 개수:  14\n",
      "결과값 개수:  13\n",
      "['096770', '010950', '011170', '078930', '161000', '005950', '002960', '025000', '004090', '014530', '003650', '000440', '024060']\n"
     ]
    }
   ],
   "source": [
    "# 회사 코드가 반환되지 않는 회사가 존재\n",
    "codes = krx_lst[krx_lst['Name'].apply(lambda stock: stock in company_lst)]['Code'].to_list()\n",
    "print(\"회사 개수: \", len(company_lst))\n",
    "print(\"결과값 개수: \",len(codes))\n",
    "print(codes)"
   ]
  },
  {
   "cell_type": "code",
   "execution_count": 7,
   "id": "710a33da",
   "metadata": {
    "ExecuteTime": {
     "end_time": "2023-06-11T11:23:09.851705Z",
     "start_time": "2023-06-11T11:23:09.830122Z"
    }
   },
   "outputs": [
    {
     "data": {
      "text/html": [
       "<div>\n",
       "<style scoped>\n",
       "    .dataframe tbody tr th:only-of-type {\n",
       "        vertical-align: middle;\n",
       "    }\n",
       "\n",
       "    .dataframe tbody tr th {\n",
       "        vertical-align: top;\n",
       "    }\n",
       "\n",
       "    .dataframe thead th {\n",
       "        text-align: right;\n",
       "    }\n",
       "</style>\n",
       "<table border=\"1\" class=\"dataframe\">\n",
       "  <thead>\n",
       "    <tr style=\"text-align: right;\">\n",
       "      <th></th>\n",
       "      <th>Code</th>\n",
       "    </tr>\n",
       "  </thead>\n",
       "  <tbody>\n",
       "    <tr>\n",
       "      <th>43</th>\n",
       "      <td>010950</td>\n",
       "    </tr>\n",
       "  </tbody>\n",
       "</table>\n",
       "</div>"
      ],
      "text/plain": [
       "      Code\n",
       "43  010950"
      ]
     },
     "execution_count": 7,
     "metadata": {},
     "output_type": "execute_result"
    }
   ],
   "source": [
    "krx_lst[krx_lst['Name']=='S-Oil'][['Code']]"
   ]
  },
  {
   "cell_type": "code",
   "execution_count": 8,
   "id": "7bc891de",
   "metadata": {
    "ExecuteTime": {
     "end_time": "2023-06-11T11:23:10.813733Z",
     "start_time": "2023-06-11T11:23:10.787776Z"
    }
   },
   "outputs": [
    {
     "name": "stdout",
     "output_type": "stream",
     "text": [
      "코프라\n"
     ]
    }
   ],
   "source": [
    "# 코드 반환 안되는 회사 찾기\n",
    "for company in company_lst:\n",
    "    code = krx_lst[krx_lst['Name']==company][['Code']]\n",
    "    if len(code)==0:\n",
    "        print(company)"
   ]
  },
  {
   "cell_type": "code",
   "execution_count": 9,
   "id": "939c133e",
   "metadata": {
    "ExecuteTime": {
     "end_time": "2023-06-11T11:23:15.178071Z",
     "start_time": "2023-06-11T11:23:15.141140Z"
    },
    "scrolled": false
   },
   "outputs": [
    {
     "name": "stdout",
     "output_type": "stream",
     "text": [
      "코드 검색이 안된 회사가 있습니다.\n",
      "코프라 회사명을 확인해보세요\n",
      "['096770', '010950', '011170', '078930', '161000', '005950', '002960', '025000', '004090', '014530', '003650', '000440', '024060']\n"
     ]
    }
   ],
   "source": [
    "def company_name_to_code(krx_list, company_list):\n",
    "    \"\"\"\n",
    "    회사명 리스트를 넣었을 때 \n",
    "    회사 코드를 반환해주는 함수\n",
    "    \"\"\"\n",
    "    codes = krx_list[krx_list['Name'].apply(lambda stock: stock in company_lst)]['Code'].to_list()\n",
    "\n",
    "    # 코드 반환 안되는 회사 찾기\n",
    "    if len(codes) != len(company_list):\n",
    "        print(\"코드 검색이 안된 회사가 있습니다.\")\n",
    "        for company in company_lst:\n",
    "            code = krx_list[krx_list['Name']==company][['Code']]\n",
    "            if len(code)==0:\n",
    "                print(f\"{company} 회사명을 확인해보세요\")\n",
    "            \n",
    "    return codes\n",
    "\n",
    "codes = company_name_to_code(krx_lst , company_lst)\n",
    "print(codes)"
   ]
  },
  {
   "cell_type": "markdown",
   "id": "b03f8d95",
   "metadata": {},
   "source": [
    "## 시가총액 구하기"
   ]
  },
  {
   "cell_type": "code",
   "execution_count": 10,
   "id": "53f2031c",
   "metadata": {
    "ExecuteTime": {
     "end_time": "2023-06-11T11:23:35.868803Z",
     "start_time": "2023-06-11T11:23:18.347972Z"
    }
   },
   "outputs": [
    {
     "name": "stdout",
     "output_type": "stream",
     "text": [
      "--------------------------------------------------\n",
      "회사이름:  SK이노베이션\n",
      "발행 주식수:  92465564.0\n",
      "유동비율:  0.5917\n",
      "액면가:  5000\n",
      "시가총액:  8042645510163.6\n",
      "--------------------------------------------------\n",
      "회사이름:  S-Oil\n",
      "발행 주식수:  112582792.0\n",
      "유동비율:  0.36560000000000004\n",
      "액면가:  2500\n",
      "시가총액:  3482158736689.9204\n",
      "--------------------------------------------------\n",
      "회사이름:  롯데케미칼\n",
      "발행 주식수:  42775419.0\n",
      "유동비율:  0.4479\n",
      "액면가:  5000\n",
      "시가총액:  6998554717595.148\n",
      "--------------------------------------------------\n",
      "회사이름:  GS\n",
      "발행 주식수:  92915378.0\n",
      "유동비율:  0.4769\n",
      "액면가:  5000\n",
      "시가총액:  2406105966613.26\n",
      "--------------------------------------------------\n",
      "회사이름:  애경케미칼\n",
      "발행 주식수:  48648709.0\n",
      "유동비율:  0.3272\n",
      "액면가:  500\n",
      "시가총액:  203748577085.44\n",
      "--------------------------------------------------\n",
      "회사이름:  이수화학\n",
      "발행 주식수:  22450795.0\n",
      "유동비율:  0.6848000000000001\n",
      "액면가:  5000\n",
      "시가총액:  116660221908.60802\n",
      "--------------------------------------------------\n",
      "회사이름:  한국쉘석유\n",
      "발행 주식수:  1300000.0\n",
      "유동비율:  0.4615\n",
      "액면가:  5000\n",
      "시가총액:  262178150000.0\n",
      "--------------------------------------------------\n",
      "회사이름:  KPX케미칼\n",
      "발행 주식수:  4840000.0\n",
      "유동비율:  0.3385\n",
      "액면가:  5000\n",
      "시가총액:  98628068000.0\n",
      "--------------------------------------------------\n",
      "회사이름:  한국석유\n",
      "발행 주식수:  12694120.0\n",
      "유동비율:  0.46049999999999996\n",
      "액면가:  500\n",
      "시가총액:  30870836775.059998\n",
      "--------------------------------------------------\n",
      "회사이름:  극동유화\n",
      "발행 주식수:  34869420.0\n",
      "유동비율:  0.5574\n",
      "액면가:  500\n",
      "시가총액:  62487430286.22\n",
      "--------------------------------------------------\n",
      "회사이름:  미창석유\n",
      "발행 주식수:  1739672.0\n",
      "유동비율:  0.4673\n",
      "액면가:  5000\n",
      "시가총액:  76010705843.6\n",
      "--------------------------------------------------\n",
      "회사이름:  중앙에너비스\n",
      "발행 주식수:  6227130.0\n",
      "유동비율:  0.2132\n",
      "액면가:  500\n",
      "시가총액:  8098507107.6\n",
      "--------------------------------------------------\n",
      "회사이름:  흥구석유\n",
      "발행 주식수:  15000000.0\n",
      "유동비율:  0.6272\n",
      "액면가:  100\n",
      "시가총액:  32551680000.0\n"
     ]
    }
   ],
   "source": [
    "# 회사별 정보 모으기\n",
    "\n",
    "driver = webdriver.Chrome()\n",
    "start_date =  \"2017-01-02\" \n",
    "end_date = \"2023-01-02\" \n",
    "\n",
    "for code in codes:\n",
    "    df = fdr.DataReader(code,start_date,end_date)\n",
    "    \n",
    "    company_name = krx_lst[krx_lst['Code']==code]['Name'].iloc[0]\n",
    "    print(\"-\"*50)\n",
    "    print(\"회사이름: \", company_name)\n",
    "    #기준시점 시가 총액\n",
    "    price1 = df.loc[start_date]['Close']\n",
    "    \n",
    "    url1 = 'https://navercomp.wisereport.co.kr/v2/company/c1010001.aspx?cmp_cd={}'.format(code)\n",
    "    driver.get(url1)\n",
    "    time.sleep(0.5)\n",
    "    html1 = driver.page_source\n",
    "    df1 = pd.read_html(html1)[1]\n",
    "   \n",
    "    # 발행 주식수\n",
    "    outstanding = df1.iloc[6][1].split('/')[0]\n",
    "    outstanding = outstanding.replace('주','') # 1,231,000주 -> 1,231,000\n",
    "    outstanding = outstanding.replace(',', '') # 1,231,000 -> 1231000\n",
    "    outstanding =  float(outstanding)\n",
    "    print(\"발행 주식수: \",outstanding)\n",
    "    \n",
    "    # 유동비율 \n",
    "    floating = df1.iloc[6][1].split('/')[1]\n",
    "    floating = floating.replace('%', '')  # %기호 없애주기\n",
    "    floating = float(floating) * 0.01\n",
    "    print(\"유동비율: \",floating)\n",
    "    \n",
    "     #액면가\n",
    "    price_f = df1.iloc[2][1]\n",
    "    price_f = price_f.replace('원', '') # 5,000원 -> 5,000\n",
    "    price_f = price_f.replace(',', '') # 5,000 -> 5000\n",
    "    price_f = int(price_f)\n",
    "    print(\"액면가: \", price_f)\n",
    "\n",
    "    # 기준시점 시가총액( 기준시점주가 * 발행주식수 * 유동비율)\n",
    "    marketcap_1 = price1 * outstanding * floating \n",
    "\n",
    "    print(\"시가총액: \",marketcap_1)\n",
    "    "
   ]
  },
  {
   "cell_type": "code",
   "execution_count": 11,
   "id": "e2c11037",
   "metadata": {
    "ExecuteTime": {
     "end_time": "2023-06-11T11:23:36.011821Z",
     "start_time": "2023-06-11T11:23:35.903677Z"
    },
    "scrolled": true
   },
   "outputs": [
    {
     "data": {
      "text/html": [
       "<div>\n",
       "<style scoped>\n",
       "    .dataframe tbody tr th:only-of-type {\n",
       "        vertical-align: middle;\n",
       "    }\n",
       "\n",
       "    .dataframe tbody tr th {\n",
       "        vertical-align: top;\n",
       "    }\n",
       "\n",
       "    .dataframe thead th {\n",
       "        text-align: right;\n",
       "    }\n",
       "</style>\n",
       "<table border=\"1\" class=\"dataframe\">\n",
       "  <thead>\n",
       "    <tr style=\"text-align: right;\">\n",
       "      <th></th>\n",
       "      <th>Open</th>\n",
       "      <th>High</th>\n",
       "      <th>Low</th>\n",
       "      <th>Close</th>\n",
       "      <th>Volume</th>\n",
       "      <th>Change</th>\n",
       "    </tr>\n",
       "    <tr>\n",
       "      <th>Date</th>\n",
       "      <th></th>\n",
       "      <th></th>\n",
       "      <th></th>\n",
       "      <th></th>\n",
       "      <th></th>\n",
       "      <th></th>\n",
       "    </tr>\n",
       "  </thead>\n",
       "  <tbody>\n",
       "    <tr>\n",
       "      <th>2017-02-10</th>\n",
       "      <td>51500</td>\n",
       "      <td>54000</td>\n",
       "      <td>51400</td>\n",
       "      <td>53800</td>\n",
       "      <td>400745</td>\n",
       "      <td>0.056974</td>\n",
       "    </tr>\n",
       "    <tr>\n",
       "      <th>2017-02-13</th>\n",
       "      <td>54000</td>\n",
       "      <td>54800</td>\n",
       "      <td>53800</td>\n",
       "      <td>54200</td>\n",
       "      <td>211255</td>\n",
       "      <td>0.007435</td>\n",
       "    </tr>\n",
       "    <tr>\n",
       "      <th>2017-02-14</th>\n",
       "      <td>54500</td>\n",
       "      <td>54900</td>\n",
       "      <td>53500</td>\n",
       "      <td>54900</td>\n",
       "      <td>222260</td>\n",
       "      <td>0.012915</td>\n",
       "    </tr>\n",
       "    <tr>\n",
       "      <th>2017-02-15</th>\n",
       "      <td>54900</td>\n",
       "      <td>55700</td>\n",
       "      <td>54800</td>\n",
       "      <td>55700</td>\n",
       "      <td>245667</td>\n",
       "      <td>0.014572</td>\n",
       "    </tr>\n",
       "    <tr>\n",
       "      <th>2017-02-16</th>\n",
       "      <td>55700</td>\n",
       "      <td>55700</td>\n",
       "      <td>54900</td>\n",
       "      <td>55000</td>\n",
       "      <td>118048</td>\n",
       "      <td>-0.012567</td>\n",
       "    </tr>\n",
       "    <tr>\n",
       "      <th>...</th>\n",
       "      <td>...</td>\n",
       "      <td>...</td>\n",
       "      <td>...</td>\n",
       "      <td>...</td>\n",
       "      <td>...</td>\n",
       "      <td>...</td>\n",
       "    </tr>\n",
       "    <tr>\n",
       "      <th>2022-02-04</th>\n",
       "      <td>39500</td>\n",
       "      <td>40150</td>\n",
       "      <td>39500</td>\n",
       "      <td>39950</td>\n",
       "      <td>147872</td>\n",
       "      <td>0.015248</td>\n",
       "    </tr>\n",
       "    <tr>\n",
       "      <th>2022-02-07</th>\n",
       "      <td>39950</td>\n",
       "      <td>40100</td>\n",
       "      <td>39400</td>\n",
       "      <td>39950</td>\n",
       "      <td>152386</td>\n",
       "      <td>0.000000</td>\n",
       "    </tr>\n",
       "    <tr>\n",
       "      <th>2022-02-08</th>\n",
       "      <td>40350</td>\n",
       "      <td>40550</td>\n",
       "      <td>40000</td>\n",
       "      <td>40350</td>\n",
       "      <td>157222</td>\n",
       "      <td>0.010013</td>\n",
       "    </tr>\n",
       "    <tr>\n",
       "      <th>2022-02-09</th>\n",
       "      <td>40500</td>\n",
       "      <td>40900</td>\n",
       "      <td>40300</td>\n",
       "      <td>40900</td>\n",
       "      <td>213298</td>\n",
       "      <td>0.013631</td>\n",
       "    </tr>\n",
       "    <tr>\n",
       "      <th>2022-02-10</th>\n",
       "      <td>40900</td>\n",
       "      <td>41350</td>\n",
       "      <td>40650</td>\n",
       "      <td>41000</td>\n",
       "      <td>283013</td>\n",
       "      <td>0.002445</td>\n",
       "    </tr>\n",
       "  </tbody>\n",
       "</table>\n",
       "<p>1228 rows × 6 columns</p>\n",
       "</div>"
      ],
      "text/plain": [
       "             Open   High    Low  Close  Volume    Change\n",
       "Date                                                    \n",
       "2017-02-10  51500  54000  51400  53800  400745  0.056974\n",
       "2017-02-13  54000  54800  53800  54200  211255  0.007435\n",
       "2017-02-14  54500  54900  53500  54900  222260  0.012915\n",
       "2017-02-15  54900  55700  54800  55700  245667  0.014572\n",
       "2017-02-16  55700  55700  54900  55000  118048 -0.012567\n",
       "...           ...    ...    ...    ...     ...       ...\n",
       "2022-02-04  39500  40150  39500  39950  147872  0.015248\n",
       "2022-02-07  39950  40100  39400  39950  152386  0.000000\n",
       "2022-02-08  40350  40550  40000  40350  157222  0.010013\n",
       "2022-02-09  40500  40900  40300  40900  213298  0.013631\n",
       "2022-02-10  40900  41350  40650  41000  283013  0.002445\n",
       "\n",
       "[1228 rows x 6 columns]"
      ]
     },
     "execution_count": 11,
     "metadata": {},
     "output_type": "execute_result"
    }
   ],
   "source": [
    "# 하나의 기업 주가 데이터\n",
    "code = '078930'\n",
    "df = fdr.DataReader(code,'2017-02-10', '2022-02-10')\n",
    "df"
   ]
  },
  {
   "cell_type": "code",
   "execution_count": 12,
   "id": "2d381b09",
   "metadata": {
    "ExecuteTime": {
     "end_time": "2023-06-11T11:23:38.499490Z",
     "start_time": "2023-06-11T11:23:36.045329Z"
    }
   },
   "outputs": [
    {
     "data": {
      "text/html": [
       "<div>\n",
       "<style scoped>\n",
       "    .dataframe tbody tr th:only-of-type {\n",
       "        vertical-align: middle;\n",
       "    }\n",
       "\n",
       "    .dataframe tbody tr th {\n",
       "        vertical-align: top;\n",
       "    }\n",
       "\n",
       "    .dataframe thead th {\n",
       "        text-align: right;\n",
       "    }\n",
       "</style>\n",
       "<table border=\"1\" class=\"dataframe\">\n",
       "  <thead>\n",
       "    <tr style=\"text-align: right;\">\n",
       "      <th></th>\n",
       "      <th>096770</th>\n",
       "      <th>010950</th>\n",
       "      <th>011170</th>\n",
       "      <th>078930</th>\n",
       "      <th>161000</th>\n",
       "      <th>005950</th>\n",
       "      <th>002960</th>\n",
       "      <th>025000</th>\n",
       "      <th>004090</th>\n",
       "      <th>014530</th>\n",
       "      <th>003650</th>\n",
       "      <th>000440</th>\n",
       "      <th>024060</th>\n",
       "    </tr>\n",
       "    <tr>\n",
       "      <th>Date</th>\n",
       "      <th></th>\n",
       "      <th></th>\n",
       "      <th></th>\n",
       "      <th></th>\n",
       "      <th></th>\n",
       "      <th></th>\n",
       "      <th></th>\n",
       "      <th></th>\n",
       "      <th></th>\n",
       "      <th></th>\n",
       "      <th></th>\n",
       "      <th></th>\n",
       "      <th></th>\n",
       "    </tr>\n",
       "  </thead>\n",
       "  <tbody>\n",
       "    <tr>\n",
       "      <th>2017-02-10</th>\n",
       "      <td>156000</td>\n",
       "      <td>84000</td>\n",
       "      <td>387670</td>\n",
       "      <td>53800</td>\n",
       "      <td>11200</td>\n",
       "      <td>7837</td>\n",
       "      <td>424500</td>\n",
       "      <td>63900</td>\n",
       "      <td>5592</td>\n",
       "      <td>3420</td>\n",
       "      <td>90800</td>\n",
       "      <td>6390</td>\n",
       "      <td>3105</td>\n",
       "    </tr>\n",
       "    <tr>\n",
       "      <th>2017-02-13</th>\n",
       "      <td>157500</td>\n",
       "      <td>85900</td>\n",
       "      <td>385765</td>\n",
       "      <td>54200</td>\n",
       "      <td>11500</td>\n",
       "      <td>8019</td>\n",
       "      <td>427000</td>\n",
       "      <td>64800</td>\n",
       "      <td>5540</td>\n",
       "      <td>3385</td>\n",
       "      <td>91000</td>\n",
       "      <td>6330</td>\n",
       "      <td>3095</td>\n",
       "    </tr>\n",
       "    <tr>\n",
       "      <th>2017-02-14</th>\n",
       "      <td>155500</td>\n",
       "      <td>86300</td>\n",
       "      <td>379098</td>\n",
       "      <td>54900</td>\n",
       "      <td>11600</td>\n",
       "      <td>8041</td>\n",
       "      <td>426500</td>\n",
       "      <td>64600</td>\n",
       "      <td>5644</td>\n",
       "      <td>3465</td>\n",
       "      <td>91000</td>\n",
       "      <td>6380</td>\n",
       "      <td>3090</td>\n",
       "    </tr>\n",
       "    <tr>\n",
       "      <th>2017-02-15</th>\n",
       "      <td>157000</td>\n",
       "      <td>87100</td>\n",
       "      <td>378621</td>\n",
       "      <td>55700</td>\n",
       "      <td>11350</td>\n",
       "      <td>7996</td>\n",
       "      <td>423500</td>\n",
       "      <td>65300</td>\n",
       "      <td>5773</td>\n",
       "      <td>3525</td>\n",
       "      <td>90300</td>\n",
       "      <td>6280</td>\n",
       "      <td>3130</td>\n",
       "    </tr>\n",
       "    <tr>\n",
       "      <th>2017-02-16</th>\n",
       "      <td>158000</td>\n",
       "      <td>87000</td>\n",
       "      <td>372430</td>\n",
       "      <td>55000</td>\n",
       "      <td>11900</td>\n",
       "      <td>7973</td>\n",
       "      <td>420500</td>\n",
       "      <td>65300</td>\n",
       "      <td>5851</td>\n",
       "      <td>3475</td>\n",
       "      <td>90200</td>\n",
       "      <td>6400</td>\n",
       "      <td>3130</td>\n",
       "    </tr>\n",
       "    <tr>\n",
       "      <th>...</th>\n",
       "      <td>...</td>\n",
       "      <td>...</td>\n",
       "      <td>...</td>\n",
       "      <td>...</td>\n",
       "      <td>...</td>\n",
       "      <td>...</td>\n",
       "      <td>...</td>\n",
       "      <td>...</td>\n",
       "      <td>...</td>\n",
       "      <td>...</td>\n",
       "      <td>...</td>\n",
       "      <td>...</td>\n",
       "      <td>...</td>\n",
       "    </tr>\n",
       "    <tr>\n",
       "      <th>2022-02-04</th>\n",
       "      <td>228000</td>\n",
       "      <td>92500</td>\n",
       "      <td>190501</td>\n",
       "      <td>39950</td>\n",
       "      <td>9950</td>\n",
       "      <td>6525</td>\n",
       "      <td>249500</td>\n",
       "      <td>51400</td>\n",
       "      <td>17750</td>\n",
       "      <td>4045</td>\n",
       "      <td>74100</td>\n",
       "      <td>20300</td>\n",
       "      <td>8050</td>\n",
       "    </tr>\n",
       "    <tr>\n",
       "      <th>2022-02-07</th>\n",
       "      <td>226500</td>\n",
       "      <td>90900</td>\n",
       "      <td>193835</td>\n",
       "      <td>39950</td>\n",
       "      <td>9820</td>\n",
       "      <td>6450</td>\n",
       "      <td>247500</td>\n",
       "      <td>51700</td>\n",
       "      <td>18350</td>\n",
       "      <td>4120</td>\n",
       "      <td>74600</td>\n",
       "      <td>22150</td>\n",
       "      <td>8150</td>\n",
       "    </tr>\n",
       "    <tr>\n",
       "      <th>2022-02-08</th>\n",
       "      <td>213500</td>\n",
       "      <td>89000</td>\n",
       "      <td>200026</td>\n",
       "      <td>40350</td>\n",
       "      <td>9730</td>\n",
       "      <td>6350</td>\n",
       "      <td>245000</td>\n",
       "      <td>51900</td>\n",
       "      <td>17800</td>\n",
       "      <td>4030</td>\n",
       "      <td>74900</td>\n",
       "      <td>22150</td>\n",
       "      <td>7910</td>\n",
       "    </tr>\n",
       "    <tr>\n",
       "      <th>2022-02-09</th>\n",
       "      <td>215500</td>\n",
       "      <td>88000</td>\n",
       "      <td>208123</td>\n",
       "      <td>40900</td>\n",
       "      <td>10300</td>\n",
       "      <td>6725</td>\n",
       "      <td>247000</td>\n",
       "      <td>52200</td>\n",
       "      <td>16400</td>\n",
       "      <td>3970</td>\n",
       "      <td>76000</td>\n",
       "      <td>20300</td>\n",
       "      <td>7510</td>\n",
       "    </tr>\n",
       "    <tr>\n",
       "      <th>2022-02-10</th>\n",
       "      <td>209500</td>\n",
       "      <td>88500</td>\n",
       "      <td>208123</td>\n",
       "      <td>41000</td>\n",
       "      <td>10250</td>\n",
       "      <td>6675</td>\n",
       "      <td>248000</td>\n",
       "      <td>52200</td>\n",
       "      <td>15900</td>\n",
       "      <td>3925</td>\n",
       "      <td>75700</td>\n",
       "      <td>19900</td>\n",
       "      <td>7440</td>\n",
       "    </tr>\n",
       "  </tbody>\n",
       "</table>\n",
       "<p>1228 rows × 13 columns</p>\n",
       "</div>"
      ],
      "text/plain": [
       "            096770  010950  011170  078930  161000  005950  002960  025000  \\\n",
       "Date                                                                         \n",
       "2017-02-10  156000   84000  387670   53800   11200    7837  424500   63900   \n",
       "2017-02-13  157500   85900  385765   54200   11500    8019  427000   64800   \n",
       "2017-02-14  155500   86300  379098   54900   11600    8041  426500   64600   \n",
       "2017-02-15  157000   87100  378621   55700   11350    7996  423500   65300   \n",
       "2017-02-16  158000   87000  372430   55000   11900    7973  420500   65300   \n",
       "...            ...     ...     ...     ...     ...     ...     ...     ...   \n",
       "2022-02-04  228000   92500  190501   39950    9950    6525  249500   51400   \n",
       "2022-02-07  226500   90900  193835   39950    9820    6450  247500   51700   \n",
       "2022-02-08  213500   89000  200026   40350    9730    6350  245000   51900   \n",
       "2022-02-09  215500   88000  208123   40900   10300    6725  247000   52200   \n",
       "2022-02-10  209500   88500  208123   41000   10250    6675  248000   52200   \n",
       "\n",
       "            004090  014530  003650  000440  024060  \n",
       "Date                                                \n",
       "2017-02-10    5592    3420   90800    6390    3105  \n",
       "2017-02-13    5540    3385   91000    6330    3095  \n",
       "2017-02-14    5644    3465   91000    6380    3090  \n",
       "2017-02-15    5773    3525   90300    6280    3130  \n",
       "2017-02-16    5851    3475   90200    6400    3130  \n",
       "...            ...     ...     ...     ...     ...  \n",
       "2022-02-04   17750    4045   74100   20300    8050  \n",
       "2022-02-07   18350    4120   74600   22150    8150  \n",
       "2022-02-08   17800    4030   74900   22150    7910  \n",
       "2022-02-09   16400    3970   76000   20300    7510  \n",
       "2022-02-10   15900    3925   75700   19900    7440  \n",
       "\n",
       "[1228 rows x 13 columns]"
      ]
     },
     "execution_count": 12,
     "metadata": {},
     "output_type": "execute_result"
    }
   ],
   "source": [
    "#주가 딕셔너리에 넣기-> 유가,개별 주식간 비교에 사용\n",
    "\n",
    "price_history = dict()\n",
    "\n",
    "for code in codes:\n",
    "    df = fdr.DataReader(code,'2017-02-10', '2022-02-10')\n",
    "    price_history[code]= df['Close']   # 회사코드: [과거주가 리스트] \n",
    "\n",
    "df_history = pd.DataFrame(price_history)\n",
    "df_history\n"
   ]
  },
  {
   "cell_type": "markdown",
   "id": "da26c919",
   "metadata": {},
   "source": [
    "## Oil index 함수"
   ]
  },
  {
   "cell_type": "code",
   "execution_count": 13,
   "id": "75a8618a",
   "metadata": {
    "ExecuteTime": {
     "end_time": "2023-06-11T11:23:56.283985Z",
     "start_time": "2023-06-11T11:23:38.549360Z"
    }
   },
   "outputs": [
    {
     "name": "stdout",
     "output_type": "stream",
     "text": [
      "SK이노베이션 096770\n",
      "발행 주식수:  92465564.0\n",
      "유동비율:  0.5917\n",
      "액면가:  5000\n",
      "--------------------------------------------------\n",
      "S-Oil 010950\n",
      "발행 주식수:  112582792.0\n",
      "유동비율:  0.36560000000000004\n",
      "액면가:  2500\n",
      "--------------------------------------------------\n",
      "롯데케미칼 011170\n",
      "발행 주식수:  42775419.0\n",
      "유동비율:  0.4479\n",
      "액면가:  5000\n",
      "--------------------------------------------------\n",
      "GS 078930\n",
      "발행 주식수:  92915378.0\n",
      "유동비율:  0.4769\n",
      "액면가:  5000\n",
      "--------------------------------------------------\n",
      "애경케미칼 161000\n",
      "발행 주식수:  48648709.0\n",
      "유동비율:  0.3272\n",
      "액면가:  500\n",
      "--------------------------------------------------\n",
      "이수화학 005950\n",
      "발행 주식수:  22450795.0\n",
      "유동비율:  0.6848000000000001\n",
      "액면가:  5000\n",
      "--------------------------------------------------\n",
      "한국쉘석유 002960\n",
      "발행 주식수:  1300000.0\n",
      "유동비율:  0.4615\n",
      "액면가:  5000\n",
      "--------------------------------------------------\n",
      "KPX케미칼 025000\n",
      "발행 주식수:  4840000.0\n",
      "유동비율:  0.3385\n",
      "액면가:  5000\n",
      "--------------------------------------------------\n",
      "한국석유 004090\n",
      "발행 주식수:  12694120.0\n",
      "유동비율:  0.46049999999999996\n",
      "액면가:  500\n",
      "--------------------------------------------------\n",
      "극동유화 014530\n",
      "발행 주식수:  34869420.0\n",
      "유동비율:  0.5574\n",
      "액면가:  500\n",
      "--------------------------------------------------\n",
      "미창석유 003650\n",
      "발행 주식수:  1739672.0\n",
      "유동비율:  0.4673\n",
      "액면가:  5000\n",
      "--------------------------------------------------\n",
      "중앙에너비스 000440\n",
      "발행 주식수:  6227130.0\n",
      "유동비율:  0.2132\n",
      "액면가:  500\n",
      "--------------------------------------------------\n",
      "흥구석유 024060\n",
      "발행 주식수:  15000000.0\n",
      "유동비율:  0.6272\n",
      "액면가:  100\n",
      "--------------------------------------------------\n"
     ]
    },
    {
     "data": {
      "text/html": [
       "<div>\n",
       "<style scoped>\n",
       "    .dataframe tbody tr th:only-of-type {\n",
       "        vertical-align: middle;\n",
       "    }\n",
       "\n",
       "    .dataframe tbody tr th {\n",
       "        vertical-align: top;\n",
       "    }\n",
       "\n",
       "    .dataframe thead th {\n",
       "        text-align: right;\n",
       "    }\n",
       "</style>\n",
       "<table border=\"1\" class=\"dataframe\">\n",
       "  <thead>\n",
       "    <tr style=\"text-align: right;\">\n",
       "      <th></th>\n",
       "      <th>096770</th>\n",
       "      <th>010950</th>\n",
       "      <th>011170</th>\n",
       "      <th>078930</th>\n",
       "      <th>161000</th>\n",
       "      <th>005950</th>\n",
       "      <th>002960</th>\n",
       "      <th>025000</th>\n",
       "      <th>004090</th>\n",
       "      <th>014530</th>\n",
       "      <th>003650</th>\n",
       "      <th>000440</th>\n",
       "      <th>024060</th>\n",
       "      <th>total</th>\n",
       "      <th>Oil_index</th>\n",
       "    </tr>\n",
       "    <tr>\n",
       "      <th>Date</th>\n",
       "      <th></th>\n",
       "      <th></th>\n",
       "      <th></th>\n",
       "      <th></th>\n",
       "      <th></th>\n",
       "      <th></th>\n",
       "      <th></th>\n",
       "      <th></th>\n",
       "      <th></th>\n",
       "      <th></th>\n",
       "      <th></th>\n",
       "      <th></th>\n",
       "      <th></th>\n",
       "      <th></th>\n",
       "      <th></th>\n",
       "    </tr>\n",
       "  </thead>\n",
       "  <tbody>\n",
       "    <tr>\n",
       "      <th>2017-01-02</th>\n",
       "      <td>8.042646e+12</td>\n",
       "      <td>1.741079e+12</td>\n",
       "      <td>6.998555e+12</td>\n",
       "      <td>2.406106e+12</td>\n",
       "      <td>2.037486e+10</td>\n",
       "      <td>1.166602e+11</td>\n",
       "      <td>2.621782e+11</td>\n",
       "      <td>9.862807e+10</td>\n",
       "      <td>3.087084e+09</td>\n",
       "      <td>6.248743e+09</td>\n",
       "      <td>7.601071e+10</td>\n",
       "      <td>8.098507e+08</td>\n",
       "      <td>6.510336e+08</td>\n",
       "      <td>1.977303e+13</td>\n",
       "      <td>100.000000</td>\n",
       "    </tr>\n",
       "    <tr>\n",
       "      <th>2017-01-03</th>\n",
       "      <td>8.480341e+12</td>\n",
       "      <td>1.790472e+12</td>\n",
       "      <td>7.035053e+12</td>\n",
       "      <td>2.419399e+12</td>\n",
       "      <td>1.981773e+10</td>\n",
       "      <td>1.159684e+11</td>\n",
       "      <td>2.618782e+11</td>\n",
       "      <td>1.020686e+11</td>\n",
       "      <td>3.132680e+09</td>\n",
       "      <td>6.190434e+09</td>\n",
       "      <td>7.519776e+10</td>\n",
       "      <td>8.045402e+08</td>\n",
       "      <td>6.312768e+08</td>\n",
       "      <td>2.031095e+13</td>\n",
       "      <td>102.720471</td>\n",
       "    </tr>\n",
       "    <tr>\n",
       "      <th>2017-01-04</th>\n",
       "      <td>8.535052e+12</td>\n",
       "      <td>1.788414e+12</td>\n",
       "      <td>6.816064e+12</td>\n",
       "      <td>2.375088e+12</td>\n",
       "      <td>2.069321e+10</td>\n",
       "      <td>1.159684e+11</td>\n",
       "      <td>2.594784e+11</td>\n",
       "      <td>1.032154e+11</td>\n",
       "      <td>3.132680e+09</td>\n",
       "      <td>6.073817e+09</td>\n",
       "      <td>7.527905e+10</td>\n",
       "      <td>7.992297e+08</td>\n",
       "      <td>6.312768e+08</td>\n",
       "      <td>2.009989e+13</td>\n",
       "      <td>101.653036</td>\n",
       "    </tr>\n",
       "    <tr>\n",
       "      <th>2017-01-05</th>\n",
       "      <td>8.425629e+12</td>\n",
       "      <td>1.774008e+12</td>\n",
       "      <td>6.788686e+12</td>\n",
       "      <td>2.357363e+12</td>\n",
       "      <td>2.061363e+10</td>\n",
       "      <td>1.145693e+11</td>\n",
       "      <td>2.594784e+11</td>\n",
       "      <td>1.035431e+11</td>\n",
       "      <td>3.102282e+09</td>\n",
       "      <td>6.102971e+09</td>\n",
       "      <td>7.527905e+10</td>\n",
       "      <td>8.164888e+08</td>\n",
       "      <td>6.265728e+08</td>\n",
       "      <td>1.992982e+13</td>\n",
       "      <td>100.792913</td>\n",
       "    </tr>\n",
       "    <tr>\n",
       "      <th>2017-01-06</th>\n",
       "      <td>8.589764e+12</td>\n",
       "      <td>1.790472e+12</td>\n",
       "      <td>6.743068e+12</td>\n",
       "      <td>2.383950e+12</td>\n",
       "      <td>2.061363e+10</td>\n",
       "      <td>1.124784e+11</td>\n",
       "      <td>2.597784e+11</td>\n",
       "      <td>1.056729e+11</td>\n",
       "      <td>3.087084e+09</td>\n",
       "      <td>6.112690e+09</td>\n",
       "      <td>7.495387e+10</td>\n",
       "      <td>7.979021e+08</td>\n",
       "      <td>6.350400e+08</td>\n",
       "      <td>2.009138e+13</td>\n",
       "      <td>101.610020</td>\n",
       "    </tr>\n",
       "    <tr>\n",
       "      <th>...</th>\n",
       "      <td>...</td>\n",
       "      <td>...</td>\n",
       "      <td>...</td>\n",
       "      <td>...</td>\n",
       "      <td>...</td>\n",
       "      <td>...</td>\n",
       "      <td>...</td>\n",
       "      <td>...</td>\n",
       "      <td>...</td>\n",
       "      <td>...</td>\n",
       "      <td>...</td>\n",
       "      <td>...</td>\n",
       "      <td>...</td>\n",
       "      <td>...</td>\n",
       "      <td>...</td>\n",
       "    </tr>\n",
       "    <tr>\n",
       "      <th>2021-12-24</th>\n",
       "      <td>1.222810e+13</td>\n",
       "      <td>1.825458e+12</td>\n",
       "      <td>4.169942e+12</td>\n",
       "      <td>1.823412e+12</td>\n",
       "      <td>1.806677e+10</td>\n",
       "      <td>1.118481e+11</td>\n",
       "      <td>1.649862e+11</td>\n",
       "      <td>8.994487e+10</td>\n",
       "      <td>6.722489e+09</td>\n",
       "      <td>7.813358e+09</td>\n",
       "      <td>6.495460e+10</td>\n",
       "      <td>2.396362e+09</td>\n",
       "      <td>1.420608e+09</td>\n",
       "      <td>2.051507e+13</td>\n",
       "      <td>103.752761</td>\n",
       "    </tr>\n",
       "    <tr>\n",
       "      <th>2021-12-27</th>\n",
       "      <td>1.225546e+13</td>\n",
       "      <td>1.798704e+12</td>\n",
       "      <td>4.188181e+12</td>\n",
       "      <td>1.810118e+12</td>\n",
       "      <td>1.822595e+10</td>\n",
       "      <td>1.110793e+11</td>\n",
       "      <td>1.640863e+11</td>\n",
       "      <td>8.961720e+10</td>\n",
       "      <td>6.605576e+09</td>\n",
       "      <td>7.803640e+09</td>\n",
       "      <td>6.511719e+10</td>\n",
       "      <td>2.223770e+09</td>\n",
       "      <td>1.313357e+09</td>\n",
       "      <td>2.051854e+13</td>\n",
       "      <td>103.770294</td>\n",
       "    </tr>\n",
       "    <tr>\n",
       "      <th>2021-12-28</th>\n",
       "      <td>1.236488e+13</td>\n",
       "      <td>1.835748e+12</td>\n",
       "      <td>4.179062e+12</td>\n",
       "      <td>1.838921e+12</td>\n",
       "      <td>1.822595e+10</td>\n",
       "      <td>1.114637e+11</td>\n",
       "      <td>1.652862e+11</td>\n",
       "      <td>9.027253e+10</td>\n",
       "      <td>6.664032e+09</td>\n",
       "      <td>7.988284e+09</td>\n",
       "      <td>6.495460e+10</td>\n",
       "      <td>2.316704e+09</td>\n",
       "      <td>1.347226e+09</td>\n",
       "      <td>2.068713e+13</td>\n",
       "      <td>104.622958</td>\n",
       "    </tr>\n",
       "    <tr>\n",
       "      <th>2021-12-29</th>\n",
       "      <td>1.307614e+13</td>\n",
       "      <td>1.806936e+12</td>\n",
       "      <td>4.060448e+12</td>\n",
       "      <td>1.750298e+12</td>\n",
       "      <td>1.774841e+10</td>\n",
       "      <td>1.145386e+11</td>\n",
       "      <td>1.565870e+11</td>\n",
       "      <td>8.797886e+10</td>\n",
       "      <td>6.664032e+09</td>\n",
       "      <td>7.813358e+09</td>\n",
       "      <td>6.462942e+10</td>\n",
       "      <td>2.389723e+09</td>\n",
       "      <td>1.360397e+09</td>\n",
       "      <td>2.115353e+13</td>\n",
       "      <td>106.981705</td>\n",
       "    </tr>\n",
       "    <tr>\n",
       "      <th>2021-12-30</th>\n",
       "      <td>1.304878e+13</td>\n",
       "      <td>1.763718e+12</td>\n",
       "      <td>3.960073e+12</td>\n",
       "      <td>1.732574e+12</td>\n",
       "      <td>1.727088e+10</td>\n",
       "      <td>1.118481e+11</td>\n",
       "      <td>1.544871e+11</td>\n",
       "      <td>8.781502e+10</td>\n",
       "      <td>6.605576e+09</td>\n",
       "      <td>7.677305e+09</td>\n",
       "      <td>6.422295e+10</td>\n",
       "      <td>2.329980e+09</td>\n",
       "      <td>1.347226e+09</td>\n",
       "      <td>2.095875e+13</td>\n",
       "      <td>105.996632</td>\n",
       "    </tr>\n",
       "  </tbody>\n",
       "</table>\n",
       "<p>1229 rows × 15 columns</p>\n",
       "</div>"
      ],
      "text/plain": [
       "                  096770        010950        011170        078930  \\\n",
       "Date                                                                 \n",
       "2017-01-02  8.042646e+12  1.741079e+12  6.998555e+12  2.406106e+12   \n",
       "2017-01-03  8.480341e+12  1.790472e+12  7.035053e+12  2.419399e+12   \n",
       "2017-01-04  8.535052e+12  1.788414e+12  6.816064e+12  2.375088e+12   \n",
       "2017-01-05  8.425629e+12  1.774008e+12  6.788686e+12  2.357363e+12   \n",
       "2017-01-06  8.589764e+12  1.790472e+12  6.743068e+12  2.383950e+12   \n",
       "...                  ...           ...           ...           ...   \n",
       "2021-12-24  1.222810e+13  1.825458e+12  4.169942e+12  1.823412e+12   \n",
       "2021-12-27  1.225546e+13  1.798704e+12  4.188181e+12  1.810118e+12   \n",
       "2021-12-28  1.236488e+13  1.835748e+12  4.179062e+12  1.838921e+12   \n",
       "2021-12-29  1.307614e+13  1.806936e+12  4.060448e+12  1.750298e+12   \n",
       "2021-12-30  1.304878e+13  1.763718e+12  3.960073e+12  1.732574e+12   \n",
       "\n",
       "                  161000        005950        002960        025000  \\\n",
       "Date                                                                 \n",
       "2017-01-02  2.037486e+10  1.166602e+11  2.621782e+11  9.862807e+10   \n",
       "2017-01-03  1.981773e+10  1.159684e+11  2.618782e+11  1.020686e+11   \n",
       "2017-01-04  2.069321e+10  1.159684e+11  2.594784e+11  1.032154e+11   \n",
       "2017-01-05  2.061363e+10  1.145693e+11  2.594784e+11  1.035431e+11   \n",
       "2017-01-06  2.061363e+10  1.124784e+11  2.597784e+11  1.056729e+11   \n",
       "...                  ...           ...           ...           ...   \n",
       "2021-12-24  1.806677e+10  1.118481e+11  1.649862e+11  8.994487e+10   \n",
       "2021-12-27  1.822595e+10  1.110793e+11  1.640863e+11  8.961720e+10   \n",
       "2021-12-28  1.822595e+10  1.114637e+11  1.652862e+11  9.027253e+10   \n",
       "2021-12-29  1.774841e+10  1.145386e+11  1.565870e+11  8.797886e+10   \n",
       "2021-12-30  1.727088e+10  1.118481e+11  1.544871e+11  8.781502e+10   \n",
       "\n",
       "                  004090        014530        003650        000440  \\\n",
       "Date                                                                 \n",
       "2017-01-02  3.087084e+09  6.248743e+09  7.601071e+10  8.098507e+08   \n",
       "2017-01-03  3.132680e+09  6.190434e+09  7.519776e+10  8.045402e+08   \n",
       "2017-01-04  3.132680e+09  6.073817e+09  7.527905e+10  7.992297e+08   \n",
       "2017-01-05  3.102282e+09  6.102971e+09  7.527905e+10  8.164888e+08   \n",
       "2017-01-06  3.087084e+09  6.112690e+09  7.495387e+10  7.979021e+08   \n",
       "...                  ...           ...           ...           ...   \n",
       "2021-12-24  6.722489e+09  7.813358e+09  6.495460e+10  2.396362e+09   \n",
       "2021-12-27  6.605576e+09  7.803640e+09  6.511719e+10  2.223770e+09   \n",
       "2021-12-28  6.664032e+09  7.988284e+09  6.495460e+10  2.316704e+09   \n",
       "2021-12-29  6.664032e+09  7.813358e+09  6.462942e+10  2.389723e+09   \n",
       "2021-12-30  6.605576e+09  7.677305e+09  6.422295e+10  2.329980e+09   \n",
       "\n",
       "                  024060         total   Oil_index  \n",
       "Date                                                \n",
       "2017-01-02  6.510336e+08  1.977303e+13  100.000000  \n",
       "2017-01-03  6.312768e+08  2.031095e+13  102.720471  \n",
       "2017-01-04  6.312768e+08  2.009989e+13  101.653036  \n",
       "2017-01-05  6.265728e+08  1.992982e+13  100.792913  \n",
       "2017-01-06  6.350400e+08  2.009138e+13  101.610020  \n",
       "...                  ...           ...         ...  \n",
       "2021-12-24  1.420608e+09  2.051507e+13  103.752761  \n",
       "2021-12-27  1.313357e+09  2.051854e+13  103.770294  \n",
       "2021-12-28  1.347226e+09  2.068713e+13  104.622958  \n",
       "2021-12-29  1.360397e+09  2.115353e+13  106.981705  \n",
       "2021-12-30  1.347226e+09  2.095875e+13  105.996632  \n",
       "\n",
       "[1229 rows x 15 columns]"
      ]
     },
     "execution_count": 13,
     "metadata": {},
     "output_type": "execute_result"
    }
   ],
   "source": [
    "# Oil 지수 구하기 \n",
    "\n",
    "start_date =  \"2017-01-02\" \n",
    "end_date = \"2022-01-02\" \n",
    "\n",
    "driver = webdriver.Chrome()\n",
    "marketcap = dict()\n",
    "\n",
    "for code in codes:\n",
    "    \n",
    "    df = fdr.DataReader(code,start_date, end_date)\n",
    "    company_name = krx_lst[krx_lst['Code']==code]['Name'].iloc[0]\n",
    "    print(company_name, code)\n",
    "    \n",
    "    #기준시점 시가 총액\n",
    "    price1 = df.loc[start_date]['Close']\n",
    "    \n",
    "    url1 = 'https://navercomp.wisereport.co.kr/v2/company/c1010001.aspx?cmp_cd={}'.format(code)\n",
    "    driver.get(url1)\n",
    "    time.sleep(0.5)\n",
    "    html1 = driver.page_source\n",
    "    df1 = pd.read_html(html1)[1]\n",
    "   \n",
    "    # 발행 주식수\n",
    "    outstanding = df1.iloc[6][1].split('/')[0]\n",
    "    outstanding = outstanding.replace('주','') # 1,231,000주 -> 1,231,000\n",
    "    outstanding = outstanding.replace(',', '') # 1,231,000 -> 1231000\n",
    "    outstanding =  float(outstanding)\n",
    "    print(\"발행 주식수: \",outstanding)\n",
    "    \n",
    "    # 유동비율 \n",
    "    floating = df1.iloc[6][1].split('/')[1]\n",
    "    floating = floating.replace('%', '')  # %기호 없애주기\n",
    "    floating = float(floating)*0.01\n",
    "    print(\"유동비율: \",floating)\n",
    "    \n",
    "     #액면가\n",
    "    price_f = df1.iloc[2][1]\n",
    "    price_f = price_f.replace('원', '') # 5,000원 -> 5,000\n",
    "    price_f = price_f.replace(',', '') # 5,000 -> 5000\n",
    "    price_f = int(price_f)\n",
    "    print(\"액면가: \", price_f)\n",
    "    print('-'* 50)\n",
    "    \n",
    "    ## 지수 구하기\n",
    "    \n",
    "    # 기업들의 주가 데이터프레임: df_p\n",
    "    df_p = df.copy()\n",
    "    \n",
    "    #비교시점의 시가총액(비교시점주가 * 발행주식수 * 유동비율)\n",
    "    \n",
    "    if price_f == 5000:     #액면금액이 5000원\n",
    "        pass\n",
    "    elif price_f == 2500:   #액면금액이 2500원\n",
    "        df_p['Close'] = df_p['Close']/2\n",
    "        \n",
    "    elif price_f == 500:    #액면금액이 500원\n",
    "        df_p['Close'] = df_p['Close']/10\n",
    "        \n",
    "    elif price_f == 100:    #액면금액이 100원\n",
    "        df_p['Close'] = df_p['Close']/50\n",
    "        \n",
    "   \n",
    "    marketcap[code] = df_p['Close'] * outstanding * floating   # 딕셔너리에 추가\n",
    "\n",
    "    \n",
    "df_marketcap = pd.DataFrame(marketcap)\n",
    "df_marketcap['total'] = df_marketcap.sum(axis=1)\n",
    "\n",
    "# 기준시점(시작일) 시가총액( 기준시점주가 * 발행주식수 * 유동비율)\n",
    "\n",
    "marketcap_initial = df_marketcap['total'].iloc[0]\n",
    "\n",
    "# 지수 = (각기업시가총액합 / 시작일의 각 기업시가총액합) * 100\n",
    "df_marketcap['Oil_index'] = (df_marketcap['total']/ marketcap_initial) * 100\n",
    "\n",
    "df_marketcap"
   ]
  },
  {
   "cell_type": "markdown",
   "id": "259e0383",
   "metadata": {},
   "source": [
    "## 시각화"
   ]
  },
  {
   "cell_type": "code",
   "execution_count": 14,
   "id": "b5278eda",
   "metadata": {
    "ExecuteTime": {
     "end_time": "2023-06-11T11:23:56.392694Z",
     "start_time": "2023-06-11T11:23:56.378730Z"
    }
   },
   "outputs": [],
   "source": [
    "import warnings\n",
    "warnings.filterwarnings('ignore')"
   ]
  },
  {
   "cell_type": "code",
   "execution_count": 15,
   "id": "66a6d553",
   "metadata": {
    "ExecuteTime": {
     "end_time": "2023-06-11T11:23:56.644135Z",
     "start_time": "2023-06-11T11:23:56.472306Z"
    }
   },
   "outputs": [
    {
     "data": {
      "text/plain": [
       "<AxesSubplot:xlabel='Date', ylabel='Oil_index'>"
      ]
     },
     "execution_count": 15,
     "metadata": {},
     "output_type": "execute_result"
    },
    {
     "data": {
      "image/png": "[encoded data removed]",
      "text/plain": [
       "<Figure size 640x480 with 1 Axes>"
      ]
     },
     "metadata": {},
     "output_type": "display_data"
    }
   ],
   "source": [
    "# x축 index값 못 읽음: reset_index 사용\n",
    "df1_marketcap = df_marketcap.reset_index()\n",
    "sns.lineplot(df1_marketcap, x='Date', y='Oil_index')"
   ]
  },
  {
   "cell_type": "markdown",
   "id": "1d7e347f",
   "metadata": {},
   "source": [
    "# 두바이유\n",
    "selenium을 써서 investing.com 데이터를 가져올 수도 있으나 추후 모델 배포시 <br>\n",
    "selenium이 작동 안할 가능성 높은 관계로 request 사용하여 시도"
   ]
  },
  {
   "cell_type": "code",
   "execution_count": 16,
   "id": "dcf4ff87",
   "metadata": {
    "ExecuteTime": {
     "end_time": "2023-06-11T11:23:56.817913Z",
     "start_time": "2023-06-11T11:23:56.746289Z"
    }
   },
   "outputs": [
    {
     "data": {
      "text/plain": [
       "<Response [403]>"
      ]
     },
     "execution_count": 16,
     "metadata": {},
     "output_type": "execute_result"
    }
   ],
   "source": [
    "# investing.com 두바이유\n",
    "# selenium 사용안하고 페이지 수를 넘길 수 없으므로 불가\n",
    "import requests\n",
    "url = \"https://kr.investing.com/commodities/dubai-crude-oil-platts-futures-historical-data\"\n",
    "requests.get(url)"
   ]
  },
  {
   "cell_type": "code",
   "execution_count": 17,
   "id": "cdcf2666",
   "metadata": {
    "ExecuteTime": {
     "end_time": "2023-06-11T11:23:57.022860Z",
     "start_time": "2023-06-11T11:23:56.903860Z"
    }
   },
   "outputs": [
    {
     "data": {
      "text/html": [
       "<div>\n",
       "<style scoped>\n",
       "    .dataframe tbody tr th:only-of-type {\n",
       "        vertical-align: middle;\n",
       "    }\n",
       "\n",
       "    .dataframe tbody tr th {\n",
       "        vertical-align: top;\n",
       "    }\n",
       "\n",
       "    .dataframe thead th {\n",
       "        text-align: right;\n",
       "    }\n",
       "</style>\n",
       "<table border=\"1\" class=\"dataframe\">\n",
       "  <thead>\n",
       "    <tr style=\"text-align: right;\">\n",
       "      <th></th>\n",
       "      <th>날짜</th>\n",
       "      <th>파실 때</th>\n",
       "      <th>보내실 때</th>\n",
       "      <th>받으실 때</th>\n",
       "    </tr>\n",
       "  </thead>\n",
       "  <tbody>\n",
       "    <tr>\n",
       "      <th>0</th>\n",
       "      <td>2023.06.09</td>\n",
       "      <td>74.38</td>\n",
       "      <td>0.82</td>\n",
       "      <td>-1.08%</td>\n",
       "    </tr>\n",
       "    <tr>\n",
       "      <th>1</th>\n",
       "      <td>2023.06.08</td>\n",
       "      <td>75.20</td>\n",
       "      <td>0.64</td>\n",
       "      <td>-0.83%</td>\n",
       "    </tr>\n",
       "    <tr>\n",
       "      <th>2</th>\n",
       "      <td>2023.06.07</td>\n",
       "      <td>75.83</td>\n",
       "      <td>0.34</td>\n",
       "      <td>+0.44%</td>\n",
       "    </tr>\n",
       "    <tr>\n",
       "      <th>3</th>\n",
       "      <td>2023.06.06</td>\n",
       "      <td>75.50</td>\n",
       "      <td>0.36</td>\n",
       "      <td>+0.47%</td>\n",
       "    </tr>\n",
       "    <tr>\n",
       "      <th>4</th>\n",
       "      <td>2023.06.05</td>\n",
       "      <td>75.14</td>\n",
       "      <td>0.73</td>\n",
       "      <td>+0.98%</td>\n",
       "    </tr>\n",
       "    <tr>\n",
       "      <th>5</th>\n",
       "      <td>2023.06.02</td>\n",
       "      <td>74.41</td>\n",
       "      <td>1.65</td>\n",
       "      <td>+2.27%</td>\n",
       "    </tr>\n",
       "    <tr>\n",
       "      <th>6</th>\n",
       "      <td>2023.06.01</td>\n",
       "      <td>72.75</td>\n",
       "      <td>1.81</td>\n",
       "      <td>+2.55%</td>\n",
       "    </tr>\n",
       "  </tbody>\n",
       "</table>\n",
       "</div>"
      ],
      "text/plain": [
       "           날짜   파실 때  보내실 때   받으실 때\n",
       "0  2023.06.09  74.38   0.82  -1.08%\n",
       "1  2023.06.08  75.20   0.64  -0.83%\n",
       "2  2023.06.07  75.83   0.34  +0.44%\n",
       "3  2023.06.06  75.50   0.36  +0.47%\n",
       "4  2023.06.05  75.14   0.73  +0.98%\n",
       "5  2023.06.02  74.41   1.65  +2.27%\n",
       "6  2023.06.01  72.75   1.81  +2.55%"
      ]
     },
     "execution_count": 17,
     "metadata": {},
     "output_type": "execute_result"
    }
   ],
   "source": [
    "import urllib.request\n",
    "url_naver = \"https://finance.naver.com/marketindex/worldDailyQuote.naver?marketindexCd=OIL_DU&fdtc=2&page=1\"\n",
    "response = urllib.request.urlopen(url_naver)\n",
    "html = response.read()\n",
    "df_dubai = pd.read_html(html)[0]\n",
    "df_dubai"
   ]
  },
  {
   "cell_type": "markdown",
   "id": "39aecd27",
   "metadata": {},
   "source": [
    "## 데이터 수집\n",
    "2017년 1월 1일 데이터까지 수집"
   ]
  },
  {
   "cell_type": "code",
   "execution_count": 18,
   "id": "88bb99e1",
   "metadata": {
    "ExecuteTime": {
     "end_time": "2023-06-11T11:24:11.367773Z",
     "start_time": "2023-06-11T11:23:57.118727Z"
    },
    "scrolled": true
   },
   "outputs": [
    {
     "name": "stdout",
     "output_type": "stream",
     "text": [
      "페이지수:  40 테이블 시작 날짜:  2022-05-10\n",
      "페이지수:  41 테이블 시작 날짜:  2022-04-29\n",
      "페이지수:  42 테이블 시작 날짜:  2022-04-20\n",
      "페이지수:  43 테이블 시작 날짜:  2022-04-08\n",
      "페이지수:  44 테이블 시작 날짜:  2022-03-30\n",
      "페이지수:  45 테이블 시작 날짜:  2022-03-21\n",
      "페이지수:  46 테이블 시작 날짜:  2022-03-10\n",
      "페이지수:  47 테이블 시작 날짜:  2022-03-01\n",
      "페이지수:  48 테이블 시작 날짜:  2022-02-17\n",
      "페이지수:  49 테이블 시작 날짜:  2022-02-08\n",
      "페이지수:  50 테이블 시작 날짜:  2022-01-28\n",
      "페이지수:  51 테이블 시작 날짜:  2022-01-19\n",
      "페이지수:  52 테이블 시작 날짜:  2022-01-07\n",
      "페이지수:  53 테이블 시작 날짜:  2021-12-29\n",
      "페이지수:  54 테이블 시작 날짜:  2021-12-17\n",
      "페이지수:  55 테이블 시작 날짜:  2021-12-08\n",
      "페이지수:  56 테이블 시작 날짜:  2021-11-29\n",
      "페이지수:  57 테이블 시작 날짜:  2021-11-17\n",
      "페이지수:  58 테이블 시작 날짜:  2021-11-08\n",
      "페이지수:  59 테이블 시작 날짜:  2021-10-28\n",
      "페이지수:  60 테이블 시작 날짜:  2021-10-19\n",
      "페이지수:  61 테이블 시작 날짜:  2021-10-08\n",
      "페이지수:  62 테이블 시작 날짜:  2021-09-29\n",
      "페이지수:  63 테이블 시작 날짜:  2021-09-20\n",
      "페이지수:  64 테이블 시작 날짜:  2021-09-09\n",
      "페이지수:  65 테이블 시작 날짜:  2021-08-30\n",
      "페이지수:  66 테이블 시작 날짜:  2021-08-19\n",
      "페이지수:  67 테이블 시작 날짜:  2021-08-10\n",
      "페이지수:  68 테이블 시작 날짜:  2021-07-30\n",
      "페이지수:  69 테이블 시작 날짜:  2021-07-21\n",
      "페이지수:  70 테이블 시작 날짜:  2021-07-12\n",
      "페이지수:  71 테이블 시작 날짜:  2021-06-30\n",
      "페이지수:  72 테이블 시작 날짜:  2021-06-21\n",
      "페이지수:  73 테이블 시작 날짜:  2021-06-10\n",
      "페이지수:  74 테이블 시작 날짜:  2021-06-01\n",
      "페이지수:  75 테이블 시작 날짜:  2021-05-20\n",
      "페이지수:  76 테이블 시작 날짜:  2021-05-11\n",
      "페이지수:  77 테이블 시작 날짜:  2021-04-30\n",
      "페이지수:  78 테이블 시작 날짜:  2021-04-21\n",
      "페이지수:  79 테이블 시작 날짜:  2021-04-12\n",
      "페이지수:  80 테이블 시작 날짜:  2021-03-31\n",
      "페이지수:  81 테이블 시작 날짜:  2021-03-22\n",
      "페이지수:  82 테이블 시작 날짜:  2021-03-11\n",
      "페이지수:  83 테이블 시작 날짜:  2021-03-02\n",
      "페이지수:  84 테이블 시작 날짜:  2021-02-19\n",
      "페이지수:  85 테이블 시작 날짜:  2021-02-09\n",
      "페이지수:  86 테이블 시작 날짜:  2021-01-29\n",
      "페이지수:  87 테이블 시작 날짜:  2021-01-20\n",
      "페이지수:  88 테이블 시작 날짜:  2021-01-08\n",
      "페이지수:  89 테이블 시작 날짜:  2020-12-29\n",
      "페이지수:  90 테이블 시작 날짜:  2020-12-17\n",
      "페이지수:  91 테이블 시작 날짜:  2020-12-08\n",
      "페이지수:  92 테이블 시작 날짜:  2020-11-27\n",
      "페이지수:  93 테이블 시작 날짜:  2020-11-17\n",
      "페이지수:  94 테이블 시작 날짜:  2020-11-06\n",
      "페이지수:  95 테이블 시작 날짜:  2020-10-28\n",
      "페이지수:  96 테이블 시작 날짜:  2020-10-19\n",
      "페이지수:  97 테이블 시작 날짜:  2020-10-08\n",
      "페이지수:  98 테이블 시작 날짜:  2020-09-29\n",
      "페이지수:  99 테이블 시작 날짜:  2020-09-18\n",
      "페이지수:  100 테이블 시작 날짜:  2020-09-09\n",
      "페이지수:  101 테이블 시작 날짜:  2020-08-28\n",
      "페이지수:  102 테이블 시작 날짜:  2020-08-19\n",
      "페이지수:  103 테이블 시작 날짜:  2020-08-10\n",
      "페이지수:  104 테이블 시작 날짜:  2020-07-30\n",
      "페이지수:  105 테이블 시작 날짜:  2020-07-21\n",
      "페이지수:  106 테이블 시작 날짜:  2020-07-10\n",
      "페이지수:  107 테이블 시작 날짜:  2020-06-30\n",
      "페이지수:  108 테이블 시작 날짜:  2020-06-19\n",
      "페이지수:  109 테이블 시작 날짜:  2020-06-10\n",
      "페이지수:  110 테이블 시작 날짜:  2020-06-01\n",
      "페이지수:  111 테이블 시작 날짜:  2020-05-20\n",
      "페이지수:  112 테이블 시작 날짜:  2020-05-11\n",
      "페이지수:  113 테이블 시작 날짜:  2020-04-30\n",
      "페이지수:  114 테이블 시작 날짜:  2020-04-21\n",
      "페이지수:  115 테이블 시작 날짜:  2020-04-09\n",
      "페이지수:  116 테이블 시작 날짜:  2020-03-31\n",
      "페이지수:  117 테이블 시작 날짜:  2020-03-20\n",
      "페이지수:  118 테이블 시작 날짜:  2020-03-11\n",
      "페이지수:  119 테이블 시작 날짜:  2020-03-02\n",
      "페이지수:  120 테이블 시작 날짜:  2020-02-20\n",
      "페이지수:  121 테이블 시작 날짜:  2020-02-10\n",
      "페이지수:  122 테이블 시작 날짜:  2020-01-30\n",
      "페이지수:  123 테이블 시작 날짜:  2020-01-21\n",
      "페이지수:  124 테이블 시작 날짜:  2020-01-09\n",
      "페이지수:  125 테이블 시작 날짜:  2019-12-30\n",
      "페이지수:  126 테이블 시작 날짜:  2019-12-18\n",
      "페이지수:  127 테이블 시작 날짜:  2019-12-09\n",
      "페이지수:  128 테이블 시작 날짜:  2019-11-27\n",
      "페이지수:  129 테이블 시작 날짜:  2019-11-18\n",
      "페이지수:  130 테이블 시작 날짜:  2019-11-07\n",
      "페이지수:  131 테이블 시작 날짜:  2019-10-29\n",
      "페이지수:  132 테이블 시작 날짜:  2019-10-18\n",
      "페이지수:  133 테이블 시작 날짜:  2019-10-09\n",
      "페이지수:  134 테이블 시작 날짜:  2019-09-30\n",
      "페이지수:  135 테이블 시작 날짜:  2019-09-19\n",
      "페이지수:  136 테이블 시작 날짜:  2019-09-10\n",
      "페이지수:  137 테이블 시작 날짜:  2019-08-29\n",
      "페이지수:  138 테이블 시작 날짜:  2019-08-20\n",
      "페이지수:  139 테이블 시작 날짜:  2019-08-09\n",
      "페이지수:  140 테이블 시작 날짜:  2019-07-31\n",
      "페이지수:  141 테이블 시작 날짜:  2019-07-22\n",
      "페이지수:  142 테이블 시작 날짜:  2019-07-11\n",
      "페이지수:  143 테이블 시작 날짜:  2019-07-01\n",
      "페이지수:  144 테이블 시작 날짜:  2019-06-20\n",
      "페이지수:  145 테이블 시작 날짜:  2019-06-11\n",
      "페이지수:  146 테이블 시작 날짜:  2019-05-31\n",
      "페이지수:  147 테이블 시작 날짜:  2019-05-21\n",
      "페이지수:  148 테이블 시작 날짜:  2019-05-10\n",
      "페이지수:  149 테이블 시작 날짜:  2019-05-01\n",
      "페이지수:  150 테이블 시작 날짜:  2019-04-22\n",
      "페이지수:  151 테이블 시작 날짜:  2019-04-10\n",
      "페이지수:  152 테이블 시작 날짜:  2019-04-01\n",
      "페이지수:  153 테이블 시작 날짜:  2019-03-21\n",
      "페이지수:  154 테이블 시작 날짜:  2019-03-12\n",
      "페이지수:  155 테이블 시작 날짜:  2019-03-01\n",
      "페이지수:  156 테이블 시작 날짜:  2019-02-20\n",
      "페이지수:  157 테이블 시작 날짜:  2019-02-08\n",
      "페이지수:  158 테이블 시작 날짜:  2019-01-30\n",
      "페이지수:  159 테이블 시작 날짜:  2019-01-18\n",
      "페이지수:  160 테이블 시작 날짜:  2019-01-09\n",
      "페이지수:  161 테이블 시작 날짜:  2018-12-27\n",
      "페이지수:  162 테이블 시작 날짜:  2018-12-17\n",
      "페이지수:  163 테이블 시작 날짜:  2018-12-06\n",
      "페이지수:  164 테이블 시작 날짜:  2018-11-27\n",
      "페이지수:  165 테이블 시작 날짜:  2018-11-15\n",
      "페이지수:  166 테이블 시작 날짜:  2018-11-06\n",
      "페이지수:  167 테이블 시작 날짜:  2018-10-26\n",
      "페이지수:  168 테이블 시작 날짜:  2018-10-17\n",
      "페이지수:  169 테이블 시작 날짜:  2018-10-08\n",
      "페이지수:  170 테이블 시작 날짜:  2018-09-27\n",
      "페이지수:  171 테이블 시작 날짜:  2018-09-18\n",
      "페이지수:  172 테이블 시작 날짜:  2018-09-07\n",
      "페이지수:  173 테이블 시작 날짜:  2018-08-28\n",
      "페이지수:  174 테이블 시작 날짜:  2018-08-17\n",
      "페이지수:  175 테이블 시작 날짜:  2018-08-08\n",
      "페이지수:  176 테이블 시작 날짜:  2018-07-30\n",
      "페이지수:  177 테이블 시작 날짜:  2018-07-19\n",
      "페이지수:  178 테이블 시작 날짜:  2018-07-10\n",
      "페이지수:  179 테이블 시작 날짜:  2018-06-28\n",
      "페이지수:  180 테이블 시작 날짜:  2018-06-19\n",
      "페이지수:  181 테이블 시작 날짜:  2018-06-08\n",
      "페이지수:  182 테이블 시작 날짜:  2018-05-30\n",
      "페이지수:  183 테이블 시작 날짜:  2018-05-18\n",
      "페이지수:  184 테이블 시작 날짜:  2018-05-09\n",
      "페이지수:  185 테이블 시작 날짜:  2018-04-30\n",
      "페이지수:  186 테이블 시작 날짜:  2018-04-19\n",
      "페이지수:  187 테이블 시작 날짜:  2018-04-10\n",
      "페이지수:  188 테이블 시작 날짜:  2018-03-29\n",
      "페이지수:  189 테이블 시작 날짜:  2018-03-20\n",
      "페이지수:  190 테이블 시작 날짜:  2018-03-09\n",
      "페이지수:  191 테이블 시작 날짜:  2018-02-28\n",
      "페이지수:  192 테이블 시작 날짜:  2018-02-16\n",
      "페이지수:  193 테이블 시작 날짜:  2018-02-07\n",
      "페이지수:  194 테이블 시작 날짜:  2018-01-29\n",
      "페이지수:  195 테이블 시작 날짜:  2018-01-18\n",
      "페이지수:  196 테이블 시작 날짜:  2018-01-08\n",
      "페이지수:  197 테이블 시작 날짜:  2017-12-27\n",
      "페이지수:  198 테이블 시작 날짜:  2017-12-15\n",
      "페이지수:  199 테이블 시작 날짜:  2017-12-06\n",
      "페이지수:  200 테이블 시작 날짜:  2017-11-27\n",
      "페이지수:  201 테이블 시작 날짜:  2017-11-15\n",
      "페이지수:  202 테이블 시작 날짜:  2017-11-06\n",
      "페이지수:  203 테이블 시작 날짜:  2017-10-26\n",
      "페이지수:  204 테이블 시작 날짜:  2017-10-17\n",
      "페이지수:  205 테이블 시작 날짜:  2017-10-06\n",
      "페이지수:  206 테이블 시작 날짜:  2017-09-27\n",
      "페이지수:  207 테이블 시작 날짜:  2017-09-18\n",
      "페이지수:  208 테이블 시작 날짜:  2017-09-07\n",
      "페이지수:  209 테이블 시작 날짜:  2017-08-29\n",
      "페이지수:  210 테이블 시작 날짜:  2017-08-18\n",
      "페이지수:  211 테이블 시작 날짜:  2017-08-09\n",
      "페이지수:  212 테이블 시작 날짜:  2017-07-31\n",
      "페이지수:  213 테이블 시작 날짜:  2017-07-20\n",
      "페이지수:  214 테이블 시작 날짜:  2017-07-11\n",
      "페이지수:  215 테이블 시작 날짜:  2017-06-30\n",
      "페이지수:  216 테이블 시작 날짜:  2017-06-21\n",
      "페이지수:  217 테이블 시작 날짜:  2017-06-09\n",
      "페이지수:  218 테이블 시작 날짜:  2017-05-31\n",
      "페이지수:  219 테이블 시작 날짜:  2017-05-22\n",
      "페이지수:  220 테이블 시작 날짜:  2017-05-11\n",
      "페이지수:  221 테이블 시작 날짜:  2017-05-02\n",
      "페이지수:  222 테이블 시작 날짜:  2017-04-21\n",
      "페이지수:  223 테이블 시작 날짜:  2017-04-11\n",
      "페이지수:  224 테이블 시작 날짜:  2017-03-31\n",
      "페이지수:  225 테이블 시작 날짜:  2017-03-22\n",
      "페이지수:  226 테이블 시작 날짜:  2017-03-13\n",
      "페이지수:  227 테이블 시작 날짜:  2017-03-02\n",
      "페이지수:  228 테이블 시작 날짜:  2017-02-21\n",
      "페이지수:  229 테이블 시작 날짜:  2017-02-09\n",
      "페이지수:  230 테이블 시작 날짜:  2017-01-31\n",
      "페이지수:  231 테이블 시작 날짜:  2017-01-20\n",
      "페이지수:  232 테이블 시작 날짜:  2017-01-10\n"
     ]
    },
    {
     "data": {
      "text/html": [
       "<div>\n",
       "<style scoped>\n",
       "    .dataframe tbody tr th:only-of-type {\n",
       "        vertical-align: middle;\n",
       "    }\n",
       "\n",
       "    .dataframe tbody tr th {\n",
       "        vertical-align: top;\n",
       "    }\n",
       "\n",
       "    .dataframe thead th {\n",
       "        text-align: right;\n",
       "    }\n",
       "</style>\n",
       "<table border=\"1\" class=\"dataframe\">\n",
       "  <thead>\n",
       "    <tr style=\"text-align: right;\">\n",
       "      <th></th>\n",
       "      <th>날짜</th>\n",
       "      <th>파실 때</th>\n",
       "      <th>보내실 때</th>\n",
       "      <th>받으실 때</th>\n",
       "    </tr>\n",
       "  </thead>\n",
       "  <tbody>\n",
       "    <tr>\n",
       "      <th>0</th>\n",
       "      <td>2022-05-10</td>\n",
       "      <td>100.43</td>\n",
       "      <td>2.37</td>\n",
       "      <td>-2.30%</td>\n",
       "    </tr>\n",
       "    <tr>\n",
       "      <th>1</th>\n",
       "      <td>2022-05-09</td>\n",
       "      <td>102.79</td>\n",
       "      <td>4.78</td>\n",
       "      <td>-4.44%</td>\n",
       "    </tr>\n",
       "    <tr>\n",
       "      <th>2</th>\n",
       "      <td>2022-05-06</td>\n",
       "      <td>107.57</td>\n",
       "      <td>1.17</td>\n",
       "      <td>+1.09%</td>\n",
       "    </tr>\n",
       "    <tr>\n",
       "      <th>3</th>\n",
       "      <td>2022-05-05</td>\n",
       "      <td>106.40</td>\n",
       "      <td>0.43</td>\n",
       "      <td>+0.40%</td>\n",
       "    </tr>\n",
       "    <tr>\n",
       "      <th>4</th>\n",
       "      <td>2022-05-04</td>\n",
       "      <td>105.97</td>\n",
       "      <td>2.58</td>\n",
       "      <td>+2.49%</td>\n",
       "    </tr>\n",
       "    <tr>\n",
       "      <th>...</th>\n",
       "      <td>...</td>\n",
       "      <td>...</td>\n",
       "      <td>...</td>\n",
       "      <td>...</td>\n",
       "    </tr>\n",
       "    <tr>\n",
       "      <th>2</th>\n",
       "      <td>2017-01-06</td>\n",
       "      <td>54.81</td>\n",
       "      <td>0.05</td>\n",
       "      <td>+0.09%</td>\n",
       "    </tr>\n",
       "    <tr>\n",
       "      <th>3</th>\n",
       "      <td>2017-01-05</td>\n",
       "      <td>54.76</td>\n",
       "      <td>0.44</td>\n",
       "      <td>+0.81%</td>\n",
       "    </tr>\n",
       "    <tr>\n",
       "      <th>4</th>\n",
       "      <td>2016-12-30</td>\n",
       "      <td>52.09</td>\n",
       "      <td>0.03</td>\n",
       "      <td>-0.06%</td>\n",
       "    </tr>\n",
       "    <tr>\n",
       "      <th>5</th>\n",
       "      <td>2016-12-29</td>\n",
       "      <td>52.12</td>\n",
       "      <td>0.01</td>\n",
       "      <td>-0.02%</td>\n",
       "    </tr>\n",
       "    <tr>\n",
       "      <th>6</th>\n",
       "      <td>2016-12-28</td>\n",
       "      <td>52.09</td>\n",
       "      <td>0.00</td>\n",
       "      <td>0.00%</td>\n",
       "    </tr>\n",
       "  </tbody>\n",
       "</table>\n",
       "<p>1351 rows × 4 columns</p>\n",
       "</div>"
      ],
      "text/plain": [
       "            날짜    파실 때  보내실 때   받으실 때\n",
       "0   2022-05-10  100.43   2.37  -2.30%\n",
       "1   2022-05-09  102.79   4.78  -4.44%\n",
       "2   2022-05-06  107.57   1.17  +1.09%\n",
       "3   2022-05-05  106.40   0.43  +0.40%\n",
       "4   2022-05-04  105.97   2.58  +2.49%\n",
       "..         ...     ...    ...     ...\n",
       "2   2017-01-06   54.81   0.05  +0.09%\n",
       "3   2017-01-05   54.76   0.44  +0.81%\n",
       "4   2016-12-30   52.09   0.03  -0.06%\n",
       "5   2016-12-29   52.12   0.01  -0.02%\n",
       "6   2016-12-28   52.09   0.00   0.00%\n",
       "\n",
       "[1351 rows x 4 columns]"
      ]
     },
     "execution_count": 18,
     "metadata": {},
     "output_type": "execute_result"
    }
   ],
   "source": [
    "import urllib.request\n",
    "from dateutil import relativedelta \n",
    "\n",
    "df_dubai = pd.DataFrame()\n",
    "# 시작 날짜는 직접 확인해야함(없는 날짜 존재)\n",
    "oil_start_date = \"2017-01-05\"\n",
    "page = 40\n",
    "while True:\n",
    "    print(\"페이지수: \",page, end=\" \")\n",
    "    url_naver = f\"https://finance.naver.com/marketindex/worldDailyQuote.naver?marketindexCd=OIL_DU&fdtc=2&page={page}\"\n",
    "    response = urllib.request.urlopen(url_naver)\n",
    "    html = response.read()\n",
    "    df_tmp = pd.read_html(html)[0]\n",
    "    df_tmp['날짜'] = pd.to_datetime(df_tmp['날짜']).dt.date\n",
    "    print(\"테이블 시작 날짜: \",df_tmp['날짜'].iloc[0])\n",
    "    \n",
    "    df_dubai = pd.concat([df_dubai,df_tmp],axis=0)\n",
    "    \n",
    "    # 원하는 날짜 들어있다면 break\n",
    "    oil_start_date = pd.to_datetime(oil_start_date).date()\n",
    "    \n",
    "    if oil_start_date in df_tmp['날짜'].to_list():\n",
    "        break\n",
    "        \n",
    "    # 페이지 넘기기\n",
    "    page +=1\n",
    "    \n",
    "df_dubai"
   ]
  },
  {
   "cell_type": "code",
   "execution_count": 19,
   "id": "4dc35296",
   "metadata": {
    "ExecuteTime": {
     "end_time": "2023-06-11T11:24:11.479436Z",
     "start_time": "2023-06-11T11:24:11.466470Z"
    }
   },
   "outputs": [
    {
     "data": {
      "text/html": [
       "<div>\n",
       "<style scoped>\n",
       "    .dataframe tbody tr th:only-of-type {\n",
       "        vertical-align: middle;\n",
       "    }\n",
       "\n",
       "    .dataframe tbody tr th {\n",
       "        vertical-align: top;\n",
       "    }\n",
       "\n",
       "    .dataframe thead th {\n",
       "        text-align: right;\n",
       "    }\n",
       "</style>\n",
       "<table border=\"1\" class=\"dataframe\">\n",
       "  <thead>\n",
       "    <tr style=\"text-align: right;\">\n",
       "      <th></th>\n",
       "      <th>Date</th>\n",
       "      <th>Oil_price</th>\n",
       "    </tr>\n",
       "  </thead>\n",
       "  <tbody>\n",
       "    <tr>\n",
       "      <th>0</th>\n",
       "      <td>2022-05-10</td>\n",
       "      <td>100.43</td>\n",
       "    </tr>\n",
       "    <tr>\n",
       "      <th>1</th>\n",
       "      <td>2022-05-09</td>\n",
       "      <td>102.79</td>\n",
       "    </tr>\n",
       "    <tr>\n",
       "      <th>2</th>\n",
       "      <td>2022-05-06</td>\n",
       "      <td>107.57</td>\n",
       "    </tr>\n",
       "    <tr>\n",
       "      <th>3</th>\n",
       "      <td>2022-05-05</td>\n",
       "      <td>106.40</td>\n",
       "    </tr>\n",
       "    <tr>\n",
       "      <th>4</th>\n",
       "      <td>2022-05-04</td>\n",
       "      <td>105.97</td>\n",
       "    </tr>\n",
       "    <tr>\n",
       "      <th>...</th>\n",
       "      <td>...</td>\n",
       "      <td>...</td>\n",
       "    </tr>\n",
       "    <tr>\n",
       "      <th>2</th>\n",
       "      <td>2017-01-06</td>\n",
       "      <td>54.81</td>\n",
       "    </tr>\n",
       "    <tr>\n",
       "      <th>3</th>\n",
       "      <td>2017-01-05</td>\n",
       "      <td>54.76</td>\n",
       "    </tr>\n",
       "    <tr>\n",
       "      <th>4</th>\n",
       "      <td>2016-12-30</td>\n",
       "      <td>52.09</td>\n",
       "    </tr>\n",
       "    <tr>\n",
       "      <th>5</th>\n",
       "      <td>2016-12-29</td>\n",
       "      <td>52.12</td>\n",
       "    </tr>\n",
       "    <tr>\n",
       "      <th>6</th>\n",
       "      <td>2016-12-28</td>\n",
       "      <td>52.09</td>\n",
       "    </tr>\n",
       "  </tbody>\n",
       "</table>\n",
       "<p>1351 rows × 2 columns</p>\n",
       "</div>"
      ],
      "text/plain": [
       "          Date  Oil_price\n",
       "0   2022-05-10     100.43\n",
       "1   2022-05-09     102.79\n",
       "2   2022-05-06     107.57\n",
       "3   2022-05-05     106.40\n",
       "4   2022-05-04     105.97\n",
       "..         ...        ...\n",
       "2   2017-01-06      54.81\n",
       "3   2017-01-05      54.76\n",
       "4   2016-12-30      52.09\n",
       "5   2016-12-29      52.12\n",
       "6   2016-12-28      52.09\n",
       "\n",
       "[1351 rows x 2 columns]"
      ]
     },
     "execution_count": 19,
     "metadata": {},
     "output_type": "execute_result"
    }
   ],
   "source": [
    "df_dubai = df_dubai[['날짜','파실 때']]\n",
    "df_dubai.columns = ['Date','Oil_price']\n",
    "df_dubai"
   ]
  },
  {
   "cell_type": "code",
   "execution_count": 20,
   "id": "255ed769",
   "metadata": {
    "ExecuteTime": {
     "end_time": "2023-06-11T11:24:11.606096Z",
     "start_time": "2023-06-11T11:24:11.577174Z"
    }
   },
   "outputs": [
    {
     "data": {
      "text/html": [
       "<div>\n",
       "<style scoped>\n",
       "    .dataframe tbody tr th:only-of-type {\n",
       "        vertical-align: middle;\n",
       "    }\n",
       "\n",
       "    .dataframe tbody tr th {\n",
       "        vertical-align: top;\n",
       "    }\n",
       "\n",
       "    .dataframe thead th {\n",
       "        text-align: right;\n",
       "    }\n",
       "</style>\n",
       "<table border=\"1\" class=\"dataframe\">\n",
       "  <thead>\n",
       "    <tr style=\"text-align: right;\">\n",
       "      <th></th>\n",
       "      <th>Oil_price</th>\n",
       "    </tr>\n",
       "    <tr>\n",
       "      <th>Date</th>\n",
       "      <th></th>\n",
       "    </tr>\n",
       "  </thead>\n",
       "  <tbody>\n",
       "    <tr>\n",
       "      <th>2016-12-28</th>\n",
       "      <td>52.09</td>\n",
       "    </tr>\n",
       "    <tr>\n",
       "      <th>2016-12-29</th>\n",
       "      <td>52.12</td>\n",
       "    </tr>\n",
       "    <tr>\n",
       "      <th>2016-12-30</th>\n",
       "      <td>52.09</td>\n",
       "    </tr>\n",
       "    <tr>\n",
       "      <th>2017-01-05</th>\n",
       "      <td>54.76</td>\n",
       "    </tr>\n",
       "    <tr>\n",
       "      <th>2017-01-06</th>\n",
       "      <td>54.81</td>\n",
       "    </tr>\n",
       "    <tr>\n",
       "      <th>...</th>\n",
       "      <td>...</td>\n",
       "    </tr>\n",
       "    <tr>\n",
       "      <th>2022-05-04</th>\n",
       "      <td>105.97</td>\n",
       "    </tr>\n",
       "    <tr>\n",
       "      <th>2022-05-05</th>\n",
       "      <td>106.40</td>\n",
       "    </tr>\n",
       "    <tr>\n",
       "      <th>2022-05-06</th>\n",
       "      <td>107.57</td>\n",
       "    </tr>\n",
       "    <tr>\n",
       "      <th>2022-05-09</th>\n",
       "      <td>102.79</td>\n",
       "    </tr>\n",
       "    <tr>\n",
       "      <th>2022-05-10</th>\n",
       "      <td>100.43</td>\n",
       "    </tr>\n",
       "  </tbody>\n",
       "</table>\n",
       "<p>1351 rows × 1 columns</p>\n",
       "</div>"
      ],
      "text/plain": [
       "            Oil_price\n",
       "Date                 \n",
       "2016-12-28      52.09\n",
       "2016-12-29      52.12\n",
       "2016-12-30      52.09\n",
       "2017-01-05      54.76\n",
       "2017-01-06      54.81\n",
       "...               ...\n",
       "2022-05-04     105.97\n",
       "2022-05-05     106.40\n",
       "2022-05-06     107.57\n",
       "2022-05-09     102.79\n",
       "2022-05-10     100.43\n",
       "\n",
       "[1351 rows x 1 columns]"
      ]
     },
     "execution_count": 20,
     "metadata": {},
     "output_type": "execute_result"
    }
   ],
   "source": [
    "df_dubai['Date'] = pd.to_datetime(df_dubai['Date'])\n",
    "df_dubai = df_dubai.set_index('Date')\n",
    "df_dubai = df_dubai.sort_index()\n",
    "df_dubai"
   ]
  },
  {
   "cell_type": "code",
   "execution_count": 21,
   "id": "6a54c517",
   "metadata": {
    "ExecuteTime": {
     "end_time": "2023-06-11T11:24:11.730917Z",
     "start_time": "2023-06-11T11:24:11.718914Z"
    }
   },
   "outputs": [],
   "source": [
    "# df_dubai.to_csv(\"duabi_naver_2017.csv\")"
   ]
  },
  {
   "cell_type": "markdown",
   "id": "61d4533d",
   "metadata": {},
   "source": [
    "# Oil index 와 석유 가격 데이터프레임"
   ]
  },
  {
   "cell_type": "code",
   "execution_count": 22,
   "id": "fa8eaca9",
   "metadata": {
    "ExecuteTime": {
     "end_time": "2023-06-11T11:24:11.856104Z",
     "start_time": "2023-06-11T11:24:11.828178Z"
    }
   },
   "outputs": [
    {
     "data": {
      "text/html": [
       "<div>\n",
       "<style scoped>\n",
       "    .dataframe tbody tr th:only-of-type {\n",
       "        vertical-align: middle;\n",
       "    }\n",
       "\n",
       "    .dataframe tbody tr th {\n",
       "        vertical-align: top;\n",
       "    }\n",
       "\n",
       "    .dataframe thead th {\n",
       "        text-align: right;\n",
       "    }\n",
       "</style>\n",
       "<table border=\"1\" class=\"dataframe\">\n",
       "  <thead>\n",
       "    <tr style=\"text-align: right;\">\n",
       "      <th></th>\n",
       "      <th>096770</th>\n",
       "      <th>010950</th>\n",
       "      <th>011170</th>\n",
       "      <th>078930</th>\n",
       "      <th>161000</th>\n",
       "      <th>005950</th>\n",
       "      <th>002960</th>\n",
       "      <th>025000</th>\n",
       "      <th>004090</th>\n",
       "      <th>014530</th>\n",
       "      <th>003650</th>\n",
       "      <th>000440</th>\n",
       "      <th>024060</th>\n",
       "      <th>total</th>\n",
       "      <th>Oil_index</th>\n",
       "    </tr>\n",
       "    <tr>\n",
       "      <th>Date</th>\n",
       "      <th></th>\n",
       "      <th></th>\n",
       "      <th></th>\n",
       "      <th></th>\n",
       "      <th></th>\n",
       "      <th></th>\n",
       "      <th></th>\n",
       "      <th></th>\n",
       "      <th></th>\n",
       "      <th></th>\n",
       "      <th></th>\n",
       "      <th></th>\n",
       "      <th></th>\n",
       "      <th></th>\n",
       "      <th></th>\n",
       "    </tr>\n",
       "  </thead>\n",
       "  <tbody>\n",
       "    <tr>\n",
       "      <th>2017-01-02</th>\n",
       "      <td>8.042646e+12</td>\n",
       "      <td>1.741079e+12</td>\n",
       "      <td>6.998555e+12</td>\n",
       "      <td>2.406106e+12</td>\n",
       "      <td>2.037486e+10</td>\n",
       "      <td>1.166602e+11</td>\n",
       "      <td>2.621782e+11</td>\n",
       "      <td>9.862807e+10</td>\n",
       "      <td>3.087084e+09</td>\n",
       "      <td>6.248743e+09</td>\n",
       "      <td>7.601071e+10</td>\n",
       "      <td>8.098507e+08</td>\n",
       "      <td>651033600.0</td>\n",
       "      <td>1.977303e+13</td>\n",
       "      <td>100.000000</td>\n",
       "    </tr>\n",
       "    <tr>\n",
       "      <th>2017-01-03</th>\n",
       "      <td>8.480341e+12</td>\n",
       "      <td>1.790472e+12</td>\n",
       "      <td>7.035053e+12</td>\n",
       "      <td>2.419399e+12</td>\n",
       "      <td>1.981773e+10</td>\n",
       "      <td>1.159684e+11</td>\n",
       "      <td>2.618782e+11</td>\n",
       "      <td>1.020686e+11</td>\n",
       "      <td>3.132680e+09</td>\n",
       "      <td>6.190434e+09</td>\n",
       "      <td>7.519776e+10</td>\n",
       "      <td>8.045402e+08</td>\n",
       "      <td>631276800.0</td>\n",
       "      <td>2.031095e+13</td>\n",
       "      <td>102.720471</td>\n",
       "    </tr>\n",
       "    <tr>\n",
       "      <th>2017-01-04</th>\n",
       "      <td>8.535052e+12</td>\n",
       "      <td>1.788414e+12</td>\n",
       "      <td>6.816064e+12</td>\n",
       "      <td>2.375088e+12</td>\n",
       "      <td>2.069321e+10</td>\n",
       "      <td>1.159684e+11</td>\n",
       "      <td>2.594784e+11</td>\n",
       "      <td>1.032154e+11</td>\n",
       "      <td>3.132680e+09</td>\n",
       "      <td>6.073817e+09</td>\n",
       "      <td>7.527905e+10</td>\n",
       "      <td>7.992297e+08</td>\n",
       "      <td>631276800.0</td>\n",
       "      <td>2.009989e+13</td>\n",
       "      <td>101.653036</td>\n",
       "    </tr>\n",
       "    <tr>\n",
       "      <th>2017-01-05</th>\n",
       "      <td>8.425629e+12</td>\n",
       "      <td>1.774008e+12</td>\n",
       "      <td>6.788686e+12</td>\n",
       "      <td>2.357363e+12</td>\n",
       "      <td>2.061363e+10</td>\n",
       "      <td>1.145693e+11</td>\n",
       "      <td>2.594784e+11</td>\n",
       "      <td>1.035431e+11</td>\n",
       "      <td>3.102282e+09</td>\n",
       "      <td>6.102971e+09</td>\n",
       "      <td>7.527905e+10</td>\n",
       "      <td>8.164888e+08</td>\n",
       "      <td>626572800.0</td>\n",
       "      <td>1.992982e+13</td>\n",
       "      <td>100.792913</td>\n",
       "    </tr>\n",
       "    <tr>\n",
       "      <th>2017-01-06</th>\n",
       "      <td>8.589764e+12</td>\n",
       "      <td>1.790472e+12</td>\n",
       "      <td>6.743068e+12</td>\n",
       "      <td>2.383950e+12</td>\n",
       "      <td>2.061363e+10</td>\n",
       "      <td>1.124784e+11</td>\n",
       "      <td>2.597784e+11</td>\n",
       "      <td>1.056729e+11</td>\n",
       "      <td>3.087084e+09</td>\n",
       "      <td>6.112690e+09</td>\n",
       "      <td>7.495387e+10</td>\n",
       "      <td>7.979021e+08</td>\n",
       "      <td>635040000.0</td>\n",
       "      <td>2.009138e+13</td>\n",
       "      <td>101.610020</td>\n",
       "    </tr>\n",
       "  </tbody>\n",
       "</table>\n",
       "</div>"
      ],
      "text/plain": [
       "                  096770        010950        011170        078930  \\\n",
       "Date                                                                 \n",
       "2017-01-02  8.042646e+12  1.741079e+12  6.998555e+12  2.406106e+12   \n",
       "2017-01-03  8.480341e+12  1.790472e+12  7.035053e+12  2.419399e+12   \n",
       "2017-01-04  8.535052e+12  1.788414e+12  6.816064e+12  2.375088e+12   \n",
       "2017-01-05  8.425629e+12  1.774008e+12  6.788686e+12  2.357363e+12   \n",
       "2017-01-06  8.589764e+12  1.790472e+12  6.743068e+12  2.383950e+12   \n",
       "\n",
       "                  161000        005950        002960        025000  \\\n",
       "Date                                                                 \n",
       "2017-01-02  2.037486e+10  1.166602e+11  2.621782e+11  9.862807e+10   \n",
       "2017-01-03  1.981773e+10  1.159684e+11  2.618782e+11  1.020686e+11   \n",
       "2017-01-04  2.069321e+10  1.159684e+11  2.594784e+11  1.032154e+11   \n",
       "2017-01-05  2.061363e+10  1.145693e+11  2.594784e+11  1.035431e+11   \n",
       "2017-01-06  2.061363e+10  1.124784e+11  2.597784e+11  1.056729e+11   \n",
       "\n",
       "                  004090        014530        003650        000440  \\\n",
       "Date                                                                 \n",
       "2017-01-02  3.087084e+09  6.248743e+09  7.601071e+10  8.098507e+08   \n",
       "2017-01-03  3.132680e+09  6.190434e+09  7.519776e+10  8.045402e+08   \n",
       "2017-01-04  3.132680e+09  6.073817e+09  7.527905e+10  7.992297e+08   \n",
       "2017-01-05  3.102282e+09  6.102971e+09  7.527905e+10  8.164888e+08   \n",
       "2017-01-06  3.087084e+09  6.112690e+09  7.495387e+10  7.979021e+08   \n",
       "\n",
       "                 024060         total   Oil_index  \n",
       "Date                                               \n",
       "2017-01-02  651033600.0  1.977303e+13  100.000000  \n",
       "2017-01-03  631276800.0  2.031095e+13  102.720471  \n",
       "2017-01-04  631276800.0  2.009989e+13  101.653036  \n",
       "2017-01-05  626572800.0  1.992982e+13  100.792913  \n",
       "2017-01-06  635040000.0  2.009138e+13  101.610020  "
      ]
     },
     "execution_count": 22,
     "metadata": {},
     "output_type": "execute_result"
    }
   ],
   "source": [
    "df_marketcap.head()"
   ]
  },
  {
   "cell_type": "code",
   "execution_count": 23,
   "id": "e4ccd409",
   "metadata": {
    "ExecuteTime": {
     "end_time": "2023-06-11T11:24:11.965525Z",
     "start_time": "2023-06-11T11:24:11.952523Z"
    }
   },
   "outputs": [
    {
     "data": {
      "text/html": [
       "<div>\n",
       "<style scoped>\n",
       "    .dataframe tbody tr th:only-of-type {\n",
       "        vertical-align: middle;\n",
       "    }\n",
       "\n",
       "    .dataframe tbody tr th {\n",
       "        vertical-align: top;\n",
       "    }\n",
       "\n",
       "    .dataframe thead th {\n",
       "        text-align: right;\n",
       "    }\n",
       "</style>\n",
       "<table border=\"1\" class=\"dataframe\">\n",
       "  <thead>\n",
       "    <tr style=\"text-align: right;\">\n",
       "      <th></th>\n",
       "      <th>Oil_price</th>\n",
       "    </tr>\n",
       "    <tr>\n",
       "      <th>Date</th>\n",
       "      <th></th>\n",
       "    </tr>\n",
       "  </thead>\n",
       "  <tbody>\n",
       "    <tr>\n",
       "      <th>2016-12-28</th>\n",
       "      <td>52.09</td>\n",
       "    </tr>\n",
       "    <tr>\n",
       "      <th>2016-12-29</th>\n",
       "      <td>52.12</td>\n",
       "    </tr>\n",
       "    <tr>\n",
       "      <th>2016-12-30</th>\n",
       "      <td>52.09</td>\n",
       "    </tr>\n",
       "    <tr>\n",
       "      <th>2017-01-05</th>\n",
       "      <td>54.76</td>\n",
       "    </tr>\n",
       "    <tr>\n",
       "      <th>2017-01-06</th>\n",
       "      <td>54.81</td>\n",
       "    </tr>\n",
       "  </tbody>\n",
       "</table>\n",
       "</div>"
      ],
      "text/plain": [
       "            Oil_price\n",
       "Date                 \n",
       "2016-12-28      52.09\n",
       "2016-12-29      52.12\n",
       "2016-12-30      52.09\n",
       "2017-01-05      54.76\n",
       "2017-01-06      54.81"
      ]
     },
     "execution_count": 23,
     "metadata": {},
     "output_type": "execute_result"
    }
   ],
   "source": [
    "df_dubai.head()"
   ]
  },
  {
   "cell_type": "markdown",
   "id": "0da77bc6",
   "metadata": {
    "ExecuteTime": {
     "end_time": "2023-05-31T14:01:48.128713Z",
     "start_time": "2023-05-31T14:01:48.103486Z"
    }
   },
   "source": [
    "## index + oil_price 데이터프레임\n",
    "* 문제상황: 석유가격은 매일매일 나오지 않을때도 있으며 주말에도 가격이 변하지만 주가의 경우 영업일(Businessday)에만 변화\n",
    "* 해결: 일일 데이터를 만들고 영업일(Businessday)기준으로 "
   ]
  },
  {
   "cell_type": "code",
   "execution_count": 24,
   "id": "20a8e18d",
   "metadata": {
    "ExecuteTime": {
     "end_time": "2023-06-11T11:24:12.076418Z",
     "start_time": "2023-06-11T11:24:12.063453Z"
    }
   },
   "outputs": [
    {
     "data": {
      "text/plain": [
       "DatetimeIndex(['2017-01-02', '2017-01-03', '2017-01-04', '2017-01-05',\n",
       "               '2017-01-06', '2017-01-09', '2017-01-10', '2017-01-11',\n",
       "               '2017-01-12', '2017-01-13',\n",
       "               ...\n",
       "               '2021-12-17', '2021-12-20', '2021-12-21', '2021-12-22',\n",
       "               '2021-12-23', '2021-12-24', '2021-12-27', '2021-12-28',\n",
       "               '2021-12-29', '2021-12-30'],\n",
       "              dtype='datetime64[ns]', name='Date', length=1229, freq=None)"
      ]
     },
     "execution_count": 24,
     "metadata": {},
     "output_type": "execute_result"
    }
   ],
   "source": [
    "df_marketcap.index"
   ]
  },
  {
   "cell_type": "code",
   "execution_count": 25,
   "id": "8bfc3058",
   "metadata": {
    "ExecuteTime": {
     "end_time": "2023-06-11T11:24:12.186984Z",
     "start_time": "2023-06-11T11:24:12.173631Z"
    }
   },
   "outputs": [
    {
     "data": {
      "text/plain": [
       "DatetimeIndex(['2016-12-28', '2016-12-29', '2016-12-30', '2017-01-05',\n",
       "               '2017-01-06', '2017-01-09', '2017-01-10', '2017-01-11',\n",
       "               '2017-01-12', '2017-01-13',\n",
       "               ...\n",
       "               '2022-04-27', '2022-04-28', '2022-04-29', '2022-05-02',\n",
       "               '2022-05-03', '2022-05-04', '2022-05-05', '2022-05-06',\n",
       "               '2022-05-09', '2022-05-10'],\n",
       "              dtype='datetime64[ns]', name='Date', length=1351, freq=None)"
      ]
     },
     "execution_count": 25,
     "metadata": {},
     "output_type": "execute_result"
    }
   ],
   "source": [
    "df_dubai.index"
   ]
  },
  {
   "cell_type": "markdown",
   "id": "f244ba99",
   "metadata": {},
   "source": [
    "## 시작날(start_date) ~ 마지막날(end_date) index 인덱스 설정 "
   ]
  },
  {
   "cell_type": "code",
   "execution_count": 26,
   "id": "0c16dff1",
   "metadata": {
    "ExecuteTime": {
     "end_time": "2023-06-11T11:24:12.297026Z",
     "start_time": "2023-06-11T11:24:12.283030Z"
    }
   },
   "outputs": [
    {
     "data": {
      "text/html": [
       "<div>\n",
       "<style scoped>\n",
       "    .dataframe tbody tr th:only-of-type {\n",
       "        vertical-align: middle;\n",
       "    }\n",
       "\n",
       "    .dataframe tbody tr th {\n",
       "        vertical-align: top;\n",
       "    }\n",
       "\n",
       "    .dataframe thead th {\n",
       "        text-align: right;\n",
       "    }\n",
       "</style>\n",
       "<table border=\"1\" class=\"dataframe\">\n",
       "  <thead>\n",
       "    <tr style=\"text-align: right;\">\n",
       "      <th></th>\n",
       "    </tr>\n",
       "  </thead>\n",
       "  <tbody>\n",
       "    <tr>\n",
       "      <th>2017-01-02</th>\n",
       "    </tr>\n",
       "    <tr>\n",
       "      <th>2017-01-03</th>\n",
       "    </tr>\n",
       "    <tr>\n",
       "      <th>2017-01-04</th>\n",
       "    </tr>\n",
       "    <tr>\n",
       "      <th>2017-01-05</th>\n",
       "    </tr>\n",
       "    <tr>\n",
       "      <th>2017-01-06</th>\n",
       "    </tr>\n",
       "    <tr>\n",
       "      <th>...</th>\n",
       "    </tr>\n",
       "    <tr>\n",
       "      <th>2021-12-29</th>\n",
       "    </tr>\n",
       "    <tr>\n",
       "      <th>2021-12-30</th>\n",
       "    </tr>\n",
       "    <tr>\n",
       "      <th>2021-12-31</th>\n",
       "    </tr>\n",
       "    <tr>\n",
       "      <th>2022-01-01</th>\n",
       "    </tr>\n",
       "    <tr>\n",
       "      <th>2022-01-02</th>\n",
       "    </tr>\n",
       "  </tbody>\n",
       "</table>\n",
       "<p>1827 rows × 0 columns</p>\n",
       "</div>"
      ],
      "text/plain": [
       "Empty DataFrame\n",
       "Columns: []\n",
       "Index: [2017-01-02 00:00:00, 2017-01-03 00:00:00, 2017-01-04 00:00:00, 2017-01-05 00:00:00, 2017-01-06 00:00:00, 2017-01-07 00:00:00, 2017-01-08 00:00:00, 2017-01-09 00:00:00, 2017-01-10 00:00:00, 2017-01-11 00:00:00, 2017-01-12 00:00:00, 2017-01-13 00:00:00, 2017-01-14 00:00:00, 2017-01-15 00:00:00, 2017-01-16 00:00:00, 2017-01-17 00:00:00, 2017-01-18 00:00:00, 2017-01-19 00:00:00, 2017-01-20 00:00:00, 2017-01-21 00:00:00, 2017-01-22 00:00:00, 2017-01-23 00:00:00, 2017-01-24 00:00:00, 2017-01-25 00:00:00, 2017-01-26 00:00:00, 2017-01-27 00:00:00, 2017-01-28 00:00:00, 2017-01-29 00:00:00, 2017-01-30 00:00:00, 2017-01-31 00:00:00, 2017-02-01 00:00:00, 2017-02-02 00:00:00, 2017-02-03 00:00:00, 2017-02-04 00:00:00, 2017-02-05 00:00:00, 2017-02-06 00:00:00, 2017-02-07 00:00:00, 2017-02-08 00:00:00, 2017-02-09 00:00:00, 2017-02-10 00:00:00, 2017-02-11 00:00:00, 2017-02-12 00:00:00, 2017-02-13 00:00:00, 2017-02-14 00:00:00, 2017-02-15 00:00:00, 2017-02-16 00:00:00, 2017-02-17 00:00:00, 2017-02-18 00:00:00, 2017-02-19 00:00:00, 2017-02-20 00:00:00, 2017-02-21 00:00:00, 2017-02-22 00:00:00, 2017-02-23 00:00:00, 2017-02-24 00:00:00, 2017-02-25 00:00:00, 2017-02-26 00:00:00, 2017-02-27 00:00:00, 2017-02-28 00:00:00, 2017-03-01 00:00:00, 2017-03-02 00:00:00, 2017-03-03 00:00:00, 2017-03-04 00:00:00, 2017-03-05 00:00:00, 2017-03-06 00:00:00, 2017-03-07 00:00:00, 2017-03-08 00:00:00, 2017-03-09 00:00:00, 2017-03-10 00:00:00, 2017-03-11 00:00:00, 2017-03-12 00:00:00, 2017-03-13 00:00:00, 2017-03-14 00:00:00, 2017-03-15 00:00:00, 2017-03-16 00:00:00, 2017-03-17 00:00:00, 2017-03-18 00:00:00, 2017-03-19 00:00:00, 2017-03-20 00:00:00, 2017-03-21 00:00:00, 2017-03-22 00:00:00, 2017-03-23 00:00:00, 2017-03-24 00:00:00, 2017-03-25 00:00:00, 2017-03-26 00:00:00, 2017-03-27 00:00:00, 2017-03-28 00:00:00, 2017-03-29 00:00:00, 2017-03-30 00:00:00, 2017-03-31 00:00:00, 2017-04-01 00:00:00, 2017-04-02 00:00:00, 2017-04-03 00:00:00, 2017-04-04 00:00:00, 2017-04-05 00:00:00, 2017-04-06 00:00:00, 2017-04-07 00:00:00, 2017-04-08 00:00:00, 2017-04-09 00:00:00, 2017-04-10 00:00:00, 2017-04-11 00:00:00, ...]\n",
       "\n",
       "[1827 rows x 0 columns]"
      ]
     },
     "execution_count": 26,
     "metadata": {},
     "output_type": "execute_result"
    }
   ],
   "source": [
    "df_daily = pd.DataFrame(index=pd.date_range(start=start_date,end=end_date))\n",
    "df_daily"
   ]
  },
  {
   "cell_type": "markdown",
   "id": "4035445d",
   "metadata": {
    "ExecuteTime": {
     "end_time": "2023-05-31T15:01:52.230901Z",
     "start_time": "2023-05-31T15:01:52.220564Z"
    }
   },
   "source": [
    "## Oil_index,두바이유(Oil_price) 합치기"
   ]
  },
  {
   "cell_type": "code",
   "execution_count": 27,
   "id": "64a47170",
   "metadata": {
    "ExecuteTime": {
     "end_time": "2023-06-11T11:24:12.423588Z",
     "start_time": "2023-06-11T11:24:12.394728Z"
    }
   },
   "outputs": [
    {
     "data": {
      "text/html": [
       "<div>\n",
       "<style scoped>\n",
       "    .dataframe tbody tr th:only-of-type {\n",
       "        vertical-align: middle;\n",
       "    }\n",
       "\n",
       "    .dataframe tbody tr th {\n",
       "        vertical-align: top;\n",
       "    }\n",
       "\n",
       "    .dataframe thead th {\n",
       "        text-align: right;\n",
       "    }\n",
       "</style>\n",
       "<table border=\"1\" class=\"dataframe\">\n",
       "  <thead>\n",
       "    <tr style=\"text-align: right;\">\n",
       "      <th></th>\n",
       "      <th>Oil_index</th>\n",
       "      <th>Oil_price</th>\n",
       "    </tr>\n",
       "  </thead>\n",
       "  <tbody>\n",
       "    <tr>\n",
       "      <th>2017-01-02</th>\n",
       "      <td>100.000000</td>\n",
       "      <td>NaN</td>\n",
       "    </tr>\n",
       "    <tr>\n",
       "      <th>2017-01-03</th>\n",
       "      <td>102.720471</td>\n",
       "      <td>NaN</td>\n",
       "    </tr>\n",
       "    <tr>\n",
       "      <th>2017-01-04</th>\n",
       "      <td>101.653036</td>\n",
       "      <td>NaN</td>\n",
       "    </tr>\n",
       "    <tr>\n",
       "      <th>2017-01-05</th>\n",
       "      <td>100.792913</td>\n",
       "      <td>54.76</td>\n",
       "    </tr>\n",
       "    <tr>\n",
       "      <th>2017-01-06</th>\n",
       "      <td>101.610020</td>\n",
       "      <td>54.81</td>\n",
       "    </tr>\n",
       "    <tr>\n",
       "      <th>...</th>\n",
       "      <td>...</td>\n",
       "      <td>...</td>\n",
       "    </tr>\n",
       "    <tr>\n",
       "      <th>2021-12-29</th>\n",
       "      <td>106.981705</td>\n",
       "      <td>76.99</td>\n",
       "    </tr>\n",
       "    <tr>\n",
       "      <th>2021-12-30</th>\n",
       "      <td>105.996632</td>\n",
       "      <td>77.25</td>\n",
       "    </tr>\n",
       "    <tr>\n",
       "      <th>2021-12-31</th>\n",
       "      <td>NaN</td>\n",
       "      <td>75.66</td>\n",
       "    </tr>\n",
       "    <tr>\n",
       "      <th>2022-01-01</th>\n",
       "      <td>NaN</td>\n",
       "      <td>NaN</td>\n",
       "    </tr>\n",
       "    <tr>\n",
       "      <th>2022-01-02</th>\n",
       "      <td>NaN</td>\n",
       "      <td>NaN</td>\n",
       "    </tr>\n",
       "  </tbody>\n",
       "</table>\n",
       "<p>1827 rows × 2 columns</p>\n",
       "</div>"
      ],
      "text/plain": [
       "             Oil_index  Oil_price\n",
       "2017-01-02  100.000000        NaN\n",
       "2017-01-03  102.720471        NaN\n",
       "2017-01-04  101.653036        NaN\n",
       "2017-01-05  100.792913      54.76\n",
       "2017-01-06  101.610020      54.81\n",
       "...                ...        ...\n",
       "2021-12-29  106.981705      76.99\n",
       "2021-12-30  105.996632      77.25\n",
       "2021-12-31         NaN      75.66\n",
       "2022-01-01         NaN        NaN\n",
       "2022-01-02         NaN        NaN\n",
       "\n",
       "[1827 rows x 2 columns]"
      ]
     },
     "execution_count": 27,
     "metadata": {},
     "output_type": "execute_result"
    }
   ],
   "source": [
    "df_total = df_daily.merge(df_marketcap[['Oil_index']], right_index=True,left_index=True ,how='left')\n",
    "df_total = df_total.merge(df_dubai, right_index=True, left_index=True, how='left')\n",
    "df_total"
   ]
  },
  {
   "cell_type": "markdown",
   "id": "0d009775",
   "metadata": {},
   "source": [
    "## Nan값 채우기\n",
    "* 석유가격의 경우 불규칙한 일데이터, 주가의 경우 영업일 일데이터이기 때문에 시간 간격을 맞춰줘야 함\n",
    "* 시도1: 단순 fillna()함수를 이용한 전날가격으로 채워주기\n",
    "* 시도2: 예측할 데이터 기준으로 맞춰주기"
   ]
  },
  {
   "cell_type": "code",
   "execution_count": 28,
   "id": "c127a838",
   "metadata": {
    "ExecuteTime": {
     "end_time": "2023-06-11T11:24:12.533775Z",
     "start_time": "2023-06-11T11:24:12.519780Z"
    }
   },
   "outputs": [
    {
     "data": {
      "text/html": [
       "<div>\n",
       "<style scoped>\n",
       "    .dataframe tbody tr th:only-of-type {\n",
       "        vertical-align: middle;\n",
       "    }\n",
       "\n",
       "    .dataframe tbody tr th {\n",
       "        vertical-align: top;\n",
       "    }\n",
       "\n",
       "    .dataframe thead th {\n",
       "        text-align: right;\n",
       "    }\n",
       "</style>\n",
       "<table border=\"1\" class=\"dataframe\">\n",
       "  <thead>\n",
       "    <tr style=\"text-align: right;\">\n",
       "      <th></th>\n",
       "      <th>Oil_index</th>\n",
       "      <th>Oil_price</th>\n",
       "    </tr>\n",
       "  </thead>\n",
       "  <tbody>\n",
       "    <tr>\n",
       "      <th>2017-01-02</th>\n",
       "      <td>100.000000</td>\n",
       "      <td>54.76</td>\n",
       "    </tr>\n",
       "    <tr>\n",
       "      <th>2017-01-03</th>\n",
       "      <td>102.720471</td>\n",
       "      <td>54.76</td>\n",
       "    </tr>\n",
       "    <tr>\n",
       "      <th>2017-01-04</th>\n",
       "      <td>101.653036</td>\n",
       "      <td>54.76</td>\n",
       "    </tr>\n",
       "    <tr>\n",
       "      <th>2017-01-05</th>\n",
       "      <td>100.792913</td>\n",
       "      <td>54.76</td>\n",
       "    </tr>\n",
       "    <tr>\n",
       "      <th>2017-01-06</th>\n",
       "      <td>101.610020</td>\n",
       "      <td>54.81</td>\n",
       "    </tr>\n",
       "    <tr>\n",
       "      <th>...</th>\n",
       "      <td>...</td>\n",
       "      <td>...</td>\n",
       "    </tr>\n",
       "    <tr>\n",
       "      <th>2021-12-29</th>\n",
       "      <td>106.981705</td>\n",
       "      <td>76.99</td>\n",
       "    </tr>\n",
       "    <tr>\n",
       "      <th>2021-12-30</th>\n",
       "      <td>105.996632</td>\n",
       "      <td>77.25</td>\n",
       "    </tr>\n",
       "    <tr>\n",
       "      <th>2021-12-31</th>\n",
       "      <td>105.996632</td>\n",
       "      <td>75.66</td>\n",
       "    </tr>\n",
       "    <tr>\n",
       "      <th>2022-01-01</th>\n",
       "      <td>105.996632</td>\n",
       "      <td>75.66</td>\n",
       "    </tr>\n",
       "    <tr>\n",
       "      <th>2022-01-02</th>\n",
       "      <td>105.996632</td>\n",
       "      <td>75.66</td>\n",
       "    </tr>\n",
       "  </tbody>\n",
       "</table>\n",
       "<p>1827 rows × 2 columns</p>\n",
       "</div>"
      ],
      "text/plain": [
       "             Oil_index  Oil_price\n",
       "2017-01-02  100.000000      54.76\n",
       "2017-01-03  102.720471      54.76\n",
       "2017-01-04  101.653036      54.76\n",
       "2017-01-05  100.792913      54.76\n",
       "2017-01-06  101.610020      54.81\n",
       "...                ...        ...\n",
       "2021-12-29  106.981705      76.99\n",
       "2021-12-30  105.996632      77.25\n",
       "2021-12-31  105.996632      75.66\n",
       "2022-01-01  105.996632      75.66\n",
       "2022-01-02  105.996632      75.66\n",
       "\n",
       "[1827 rows x 2 columns]"
      ]
     },
     "execution_count": 28,
     "metadata": {},
     "output_type": "execute_result"
    }
   ],
   "source": [
    "# 첫번째 시도\n",
    "# 주말 공휴일 등 없는 날짜 전날 가격으로 채워주기 -> granger test에서 유의미한 결과가 나오지 않음(p-value 모두 0)\n",
    "df_preprocessed_1 = df_total.fillna(method='ffill')\n",
    "df_preprocessed_1 = df_preprocessed_1.fillna(method='bfill')\n",
    "df_preprocessed_1"
   ]
  },
  {
   "cell_type": "code",
   "execution_count": 29,
   "id": "1221ca2e",
   "metadata": {
    "ExecuteTime": {
     "end_time": "2023-06-11T11:24:12.865730Z",
     "start_time": "2023-06-11T11:24:12.650745Z"
    }
   },
   "outputs": [
    {
     "data": {
      "text/plain": [
       "<AxesSubplot:>"
      ]
     },
     "execution_count": 29,
     "metadata": {},
     "output_type": "execute_result"
    },
    {
     "data": {
      "image/png": "[encoded data removed]",
      "text/plain": [
       "<Figure size 640x480 with 1 Axes>"
      ]
     },
     "metadata": {},
     "output_type": "display_data"
    }
   ],
   "source": [
    "# 두번째 시도\n",
    "# 시각화 결과 석유지수가 유가선물을 선행\n",
    "# 유가 선물가격을 예측\n",
    "df_preprocessed_2 = df_total\n",
    "df_preprocessed_2.plot()"
   ]
  },
  {
   "cell_type": "markdown",
   "id": "0df5bbb0",
   "metadata": {},
   "source": [
    "# 시각화 및 transform"
   ]
  },
  {
   "cell_type": "markdown",
   "id": "f602838d",
   "metadata": {},
   "source": [
    "## 시각화"
   ]
  },
  {
   "cell_type": "code",
   "execution_count": 30,
   "id": "35122587",
   "metadata": {
    "ExecuteTime": {
     "end_time": "2023-06-11T11:24:13.262004Z",
     "start_time": "2023-06-11T11:24:12.979002Z"
    }
   },
   "outputs": [
    {
     "data": {
      "text/plain": [
       "<AxesSubplot:title={'center':'raw data'}>"
      ]
     },
     "execution_count": 30,
     "metadata": {},
     "output_type": "execute_result"
    },
    {
     "data": {
      "image/png": "[encoded data removed]",
      "text/plain": [
       "<Figure size 1000x500 with 1 Axes>"
      ]
     },
     "metadata": {},
     "output_type": "display_data"
    }
   ],
   "source": [
    "fig,ax = plt.subplots(figsize=(10,5))\n",
    "df_total.plot(ax=ax, title='raw data')"
   ]
  },
  {
   "cell_type": "code",
   "execution_count": 31,
   "id": "40fc9990",
   "metadata": {
    "ExecuteTime": {
     "end_time": "2023-06-11T11:24:13.592005Z",
     "start_time": "2023-06-11T11:24:13.374175Z"
    }
   },
   "outputs": [
    {
     "data": {
      "text/plain": [
       "<AxesSubplot:title={'center':'Oil index & Oil price'}>"
      ]
     },
     "execution_count": 31,
     "metadata": {},
     "output_type": "execute_result"
    },
    {
     "data": {
      "image/png": "[encoded data removed]",
      "text/plain": [
       "<Figure size 1000x500 with 1 Axes>"
      ]
     },
     "metadata": {},
     "output_type": "display_data"
    }
   ],
   "source": [
    "fig,ax = plt.subplots(figsize=(10,5))\n",
    "df_preprocessed_1.plot(ax=ax, title='Oil index & Oil price')"
   ]
  },
  {
   "cell_type": "markdown",
   "id": "7c584c96",
   "metadata": {},
   "source": [
    "## 정상 테스트(ADF test)"
   ]
  },
  {
   "cell_type": "code",
   "execution_count": 32,
   "id": "f766a61c",
   "metadata": {
    "ExecuteTime": {
     "end_time": "2023-06-11T11:24:13.875264Z",
     "start_time": "2023-06-11T11:24:13.706365Z"
    }
   },
   "outputs": [],
   "source": [
    "from statsmodels.tsa.stattools import adfuller\n",
    "def adfuller_test(series):\n",
    "    result = adfuller(series)\n",
    "    if result[1]>0.05:\n",
    "        res = \"Non-Stationary\"\n",
    "    else:\n",
    "        res = \"Stationary\"\n",
    "        \n",
    "    print(f\"ADF statistic: {result[0]}\")\n",
    "    print(f\"p-value: {result[1]}\")\n",
    "    print(f\"result: {res}\")"
   ]
  },
  {
   "cell_type": "code",
   "execution_count": 33,
   "id": "2e1509cc",
   "metadata": {
    "ExecuteTime": {
     "end_time": "2023-06-11T11:24:14.066025Z",
     "start_time": "2023-06-11T11:24:13.989666Z"
    }
   },
   "outputs": [
    {
     "name": "stdout",
     "output_type": "stream",
     "text": [
      "ADF statistic: -1.7280660718610694\n",
      "p-value: 0.4167130752581656\n",
      "result: Non-Stationary\n"
     ]
    }
   ],
   "source": [
    "# Oil_index\n",
    "adfuller_test(df_preprocessed_1['Oil_index'])"
   ]
  },
  {
   "cell_type": "code",
   "execution_count": 34,
   "id": "063fdffc",
   "metadata": {
    "ExecuteTime": {
     "end_time": "2023-06-11T11:24:14.399397Z",
     "start_time": "2023-06-11T11:24:14.178810Z"
    }
   },
   "outputs": [
    {
     "data": {
      "text/plain": [
       "<AxesSubplot:title={'center':'diff 50 Oil index & Oil price'}>"
      ]
     },
     "execution_count": 34,
     "metadata": {},
     "output_type": "execute_result"
    },
    {
     "data": {
      "image/png": "[encoded data removed]",
      "text/plain": [
       "<Figure size 1000x500 with 1 Axes>"
      ]
     },
     "metadata": {},
     "output_type": "display_data"
    }
   ],
   "source": [
    "# 차분\n",
    "diff_num = 50\n",
    "df_transformed = df_preprocessed_1.diff(diff_num).dropna()\n",
    "fig,ax = plt.subplots(figsize=(10,5))\n",
    "df_transformed.plot(ax=ax, title=f'diff {diff_num} Oil index & Oil price',)"
   ]
  },
  {
   "cell_type": "code",
   "execution_count": 35,
   "id": "85bd62f4",
   "metadata": {
    "ExecuteTime": {
     "end_time": "2023-06-11T11:24:14.588946Z",
     "start_time": "2023-06-11T11:24:14.511610Z"
    },
    "scrolled": true
   },
   "outputs": [
    {
     "name": "stdout",
     "output_type": "stream",
     "text": [
      "ADF statistic: -4.646283818686308\n",
      "p-value: 0.00010603996959788053\n",
      "result: Stationary\n"
     ]
    }
   ],
   "source": [
    "# 차분 시계열로 다시 정상 테스트\n",
    "adfuller_test(df_transformed['Oil_index'])"
   ]
  },
  {
   "cell_type": "code",
   "execution_count": 36,
   "id": "28fb630a",
   "metadata": {
    "ExecuteTime": {
     "end_time": "2023-06-11T11:24:14.810393Z",
     "start_time": "2023-06-11T11:24:14.717605Z"
    }
   },
   "outputs": [
    {
     "name": "stdout",
     "output_type": "stream",
     "text": [
      "ADF statistic: -5.003969436878804\n",
      "p-value: 2.179518681839847e-05\n",
      "result: Stationary\n"
     ]
    }
   ],
   "source": [
    "# Oil_price\n",
    "adfuller_test(df_transformed['Oil_price'])"
   ]
  },
  {
   "cell_type": "markdown",
   "id": "1083fdb3",
   "metadata": {},
   "source": [
    "## scaling"
   ]
  },
  {
   "cell_type": "code",
   "execution_count": 37,
   "id": "8637fc3e",
   "metadata": {
    "ExecuteTime": {
     "end_time": "2023-06-11T11:24:14.984702Z",
     "start_time": "2023-06-11T11:24:14.939015Z"
    }
   },
   "outputs": [],
   "source": [
    "from sklearn.preprocessing import MinMaxScaler\n",
    "scaler = MinMaxScaler(feature_range=(0,1))\n",
    "df_transformed[df_transformed.columns] = scaler.fit_transform(df_transformed)"
   ]
  },
  {
   "cell_type": "code",
   "execution_count": 38,
   "id": "db20413b",
   "metadata": {
    "ExecuteTime": {
     "end_time": "2023-06-11T11:24:15.684912Z",
     "start_time": "2023-06-11T11:24:15.114433Z"
    }
   },
   "outputs": [
    {
     "data": {
      "text/plain": [
       "<AxesSubplot:title={'center':'Transformed Series'}>"
      ]
     },
     "execution_count": 38,
     "metadata": {},
     "output_type": "execute_result"
    },
    {
     "data": {
      "image/png": "[encoded data removed]",
      "text/plain": [
       "<Figure size 1200x500 with 2 Axes>"
      ]
     },
     "metadata": {},
     "output_type": "display_data"
    }
   ],
   "source": [
    "fig, axs = plt.subplots(ncols=2, figsize=(12,5), constrained_layout=True)\n",
    "df_total.plot(ax=axs[0], title=\"Original Sereis\")\n",
    "df_transformed.plot(ax=axs[1], title='Transformed Series')"
   ]
  },
  {
   "cell_type": "code",
   "execution_count": 39,
   "id": "a0ab0153",
   "metadata": {
    "ExecuteTime": {
     "end_time": "2023-06-11T11:24:15.828398Z",
     "start_time": "2023-06-11T11:24:15.814568Z"
    }
   },
   "outputs": [
    {
     "data": {
      "text/html": [
       "<div>\n",
       "<style scoped>\n",
       "    .dataframe tbody tr th:only-of-type {\n",
       "        vertical-align: middle;\n",
       "    }\n",
       "\n",
       "    .dataframe tbody tr th {\n",
       "        vertical-align: top;\n",
       "    }\n",
       "\n",
       "    .dataframe thead th {\n",
       "        text-align: right;\n",
       "    }\n",
       "</style>\n",
       "<table border=\"1\" class=\"dataframe\">\n",
       "  <thead>\n",
       "    <tr style=\"text-align: right;\">\n",
       "      <th></th>\n",
       "      <th>Oil_index</th>\n",
       "      <th>Oil_price</th>\n",
       "    </tr>\n",
       "  </thead>\n",
       "  <tbody>\n",
       "  </tbody>\n",
       "</table>\n",
       "</div>"
      ],
      "text/plain": [
       "Empty DataFrame\n",
       "Columns: [Oil_index, Oil_price]\n",
       "Index: []"
      ]
     },
     "execution_count": 39,
     "metadata": {},
     "output_type": "execute_result"
    }
   ],
   "source": [
    "df_transformed[df_transformed[\"Oil_price\"].isnull()]"
   ]
  },
  {
   "cell_type": "markdown",
   "id": "818152df",
   "metadata": {},
   "source": [
    "# 선행성 판단\n",
    "* LSTM 계열의 딥러닝을 사용하기 위해선 두 변수의 선행관계가 분명해야함\n",
    "* 이를 입증하기 위해 grangercausality 테스트를 진행\n",
    "* 수행결과: 유가지수가 두바이유 선물가격을 선행하는 것으로 보여짐"
   ]
  },
  {
   "cell_type": "code",
   "execution_count": 40,
   "id": "dd6bbcfd",
   "metadata": {
    "ExecuteTime": {
     "end_time": "2023-06-11T11:24:16.206196Z",
     "start_time": "2023-06-11T11:24:15.957055Z"
    }
   },
   "outputs": [
    {
     "name": "stdout",
     "output_type": "stream",
     "text": [
      "\n",
      "Granger Causality\n",
      "number of lags (no zero) 1\n",
      "ssr based F test:         F=1.0839  , p=0.2980  , df_denom=1773, df_num=1\n",
      "ssr based chi2 test:   chi2=1.0857  , p=0.2974  , df=1\n",
      "likelihood ratio test: chi2=1.0854  , p=0.2975  , df=1\n",
      "parameter F test:         F=1.0839  , p=0.2980  , df_denom=1773, df_num=1\n",
      "\n",
      "Granger Causality\n",
      "number of lags (no zero) 2\n",
      "ssr based F test:         F=17.2894 , p=0.0000  , df_denom=1770, df_num=2\n",
      "ssr based chi2 test:   chi2=34.6765 , p=0.0000  , df=2\n",
      "likelihood ratio test: chi2=34.3421 , p=0.0000  , df=2\n",
      "parameter F test:         F=17.2894 , p=0.0000  , df_denom=1770, df_num=2\n",
      "\n",
      "Granger Causality\n",
      "number of lags (no zero) 3\n",
      "ssr based F test:         F=12.8222 , p=0.0000  , df_denom=1767, df_num=3\n",
      "ssr based chi2 test:   chi2=38.6191 , p=0.0000  , df=3\n",
      "likelihood ratio test: chi2=38.2047 , p=0.0000  , df=3\n",
      "parameter F test:         F=12.8222 , p=0.0000  , df_denom=1767, df_num=3\n",
      "\n",
      "Granger Causality\n",
      "number of lags (no zero) 4\n",
      "ssr based F test:         F=9.9600  , p=0.0000  , df_denom=1764, df_num=4\n",
      "ssr based chi2 test:   chi2=40.0433 , p=0.0000  , df=4\n",
      "likelihood ratio test: chi2=39.5978 , p=0.0000  , df=4\n",
      "parameter F test:         F=9.9600  , p=0.0000  , df_denom=1764, df_num=4\n",
      "\n",
      "Granger Causality\n",
      "number of lags (no zero) 5\n",
      "ssr based F test:         F=8.5361  , p=0.0000  , df_denom=1761, df_num=5\n",
      "ssr based chi2 test:   chi2=42.9470 , p=0.0000  , df=5\n",
      "likelihood ratio test: chi2=42.4348 , p=0.0000  , df=5\n",
      "parameter F test:         F=8.5361  , p=0.0000  , df_denom=1761, df_num=5\n",
      "\n",
      "Granger Causality\n",
      "number of lags (no zero) 6\n",
      "ssr based F test:         F=7.1160  , p=0.0000  , df_denom=1758, df_num=6\n",
      "ssr based chi2 test:   chi2=43.0120 , p=0.0000  , df=6\n",
      "likelihood ratio test: chi2=42.4980 , p=0.0000  , df=6\n",
      "parameter F test:         F=7.1160  , p=0.0000  , df_denom=1758, df_num=6\n",
      "\n",
      "Granger Causality\n",
      "number of lags (no zero) 7\n",
      "ssr based F test:         F=6.2511  , p=0.0000  , df_denom=1755, df_num=7\n",
      "ssr based chi2 test:   chi2=44.1317 , p=0.0000  , df=7\n",
      "likelihood ratio test: chi2=43.5905 , p=0.0000  , df=7\n",
      "parameter F test:         F=6.2511  , p=0.0000  , df_denom=1755, df_num=7\n",
      "\n",
      "Granger Causality\n",
      "number of lags (no zero) 8\n",
      "ssr based F test:         F=5.6599  , p=0.0000  , df_denom=1752, df_num=8\n",
      "ssr based chi2 test:   chi2=45.7185 , p=0.0000  , df=8\n",
      "likelihood ratio test: chi2=45.1377 , p=0.0000  , df=8\n",
      "parameter F test:         F=5.6599  , p=0.0000  , df_denom=1752, df_num=8\n",
      "\n",
      "Granger Causality\n",
      "number of lags (no zero) 9\n",
      "ssr based F test:         F=5.0129  , p=0.0000  , df_denom=1749, df_num=9\n",
      "ssr based chi2 test:   chi2=45.6066 , p=0.0000  , df=9\n",
      "likelihood ratio test: chi2=45.0283 , p=0.0000  , df=9\n",
      "parameter F test:         F=5.0129  , p=0.0000  , df_denom=1749, df_num=9\n",
      "\n",
      "Granger Causality\n",
      "number of lags (no zero) 10\n",
      "ssr based F test:         F=4.6974  , p=0.0000  , df_denom=1746, df_num=10\n",
      "ssr based chi2 test:   chi2=47.5390 , p=0.0000  , df=10\n",
      "likelihood ratio test: chi2=46.9108 , p=0.0000  , df=10\n",
      "parameter F test:         F=4.6974  , p=0.0000  , df_denom=1746, df_num=10\n",
      "\n",
      "Granger Causality\n",
      "number of lags (no zero) 11\n",
      "ssr based F test:         F=4.2499  , p=0.0000  , df_denom=1743, df_num=11\n",
      "ssr based chi2 test:   chi2=47.3658 , p=0.0000  , df=11\n",
      "likelihood ratio test: chi2=46.7417 , p=0.0000  , df=11\n",
      "parameter F test:         F=4.2499  , p=0.0000  , df_denom=1743, df_num=11\n",
      "\n",
      "Granger Causality\n",
      "number of lags (no zero) 12\n",
      "ssr based F test:         F=3.9034  , p=0.0000  , df_denom=1740, df_num=12\n",
      "ssr based chi2 test:   chi2=47.5140 , p=0.0000  , df=12\n",
      "likelihood ratio test: chi2=46.8857 , p=0.0000  , df=12\n",
      "parameter F test:         F=3.9034  , p=0.0000  , df_denom=1740, df_num=12\n",
      "\n",
      "Granger Causality\n",
      "number of lags (no zero) 13\n",
      "ssr based F test:         F=3.6324  , p=0.0000  , df_denom=1737, df_num=13\n",
      "ssr based chi2 test:   chi2=47.9547 , p=0.0000  , df=13\n",
      "likelihood ratio test: chi2=47.3144 , p=0.0000  , df=13\n",
      "parameter F test:         F=3.6324  , p=0.0000  , df_denom=1737, df_num=13\n",
      "\n",
      "Granger Causality\n",
      "number of lags (no zero) 14\n",
      "ssr based F test:         F=3.3162  , p=0.0000  , df_denom=1734, df_num=14\n",
      "ssr based chi2 test:   chi2=47.2029 , p=0.0000  , df=14\n",
      "likelihood ratio test: chi2=46.5821 , p=0.0000  , df=14\n",
      "parameter F test:         F=3.3162  , p=0.0000  , df_denom=1734, df_num=14\n",
      "\n",
      "Granger Causality\n",
      "number of lags (no zero) 15\n",
      "ssr based F test:         F=3.4470  , p=0.0000  , df_denom=1731, df_num=15\n",
      "ssr based chi2 test:   chi2=52.6317 , p=0.0000  , df=15\n",
      "likelihood ratio test: chi2=51.8609 , p=0.0000  , df=15\n",
      "parameter F test:         F=3.4470  , p=0.0000  , df_denom=1731, df_num=15\n",
      "\n",
      "Granger Causality\n",
      "number of lags (no zero) 16\n",
      "ssr based F test:         F=3.2700  , p=0.0000  , df_denom=1728, df_num=16\n",
      "ssr based chi2 test:   chi2=53.3187 , p=0.0000  , df=16\n",
      "likelihood ratio test: chi2=52.5274 , p=0.0000  , df=16\n",
      "parameter F test:         F=3.2700  , p=0.0000  , df_denom=1728, df_num=16\n",
      "\n",
      "Granger Causality\n",
      "number of lags (no zero) 17\n",
      "ssr based F test:         F=3.0766  , p=0.0000  , df_denom=1725, df_num=17\n",
      "ssr based chi2 test:   chi2=53.3628 , p=0.0000  , df=17\n",
      "likelihood ratio test: chi2=52.5698 , p=0.0000  , df=17\n",
      "parameter F test:         F=3.0766  , p=0.0000  , df_denom=1725, df_num=17\n",
      "\n",
      "Granger Causality\n",
      "number of lags (no zero) 18\n",
      "ssr based F test:         F=3.4225  , p=0.0000  , df_denom=1722, df_num=18\n",
      "ssr based chi2 test:   chi2=62.9291 , p=0.0000  , df=18\n",
      "likelihood ratio test: chi2=61.8296 , p=0.0000  , df=18\n",
      "parameter F test:         F=3.4225  , p=0.0000  , df_denom=1722, df_num=18\n",
      "\n",
      "Granger Causality\n",
      "number of lags (no zero) 19\n",
      "ssr based F test:         F=3.2395  , p=0.0000  , df_denom=1719, df_num=19\n",
      "ssr based chi2 test:   chi2=62.9465 , p=0.0000  , df=19\n",
      "likelihood ratio test: chi2=61.8458 , p=0.0000  , df=19\n",
      "parameter F test:         F=3.2395  , p=0.0000  , df_denom=1719, df_num=19\n",
      "\n",
      "Granger Causality\n",
      "number of lags (no zero) 20\n",
      "ssr based F test:         F=3.2734  , p=0.0000  , df_denom=1716, df_num=20\n",
      "ssr based chi2 test:   chi2=67.0326 , p=0.0000  , df=20\n",
      "likelihood ratio test: chi2=65.7855 , p=0.0000  , df=20\n",
      "parameter F test:         F=3.2734  , p=0.0000  , df_denom=1716, df_num=20\n"
     ]
    }
   ],
   "source": [
    "from statsmodels.tsa.stattools import grangercausalitytests\n",
    "result = grangercausalitytests(df_transformed[['Oil_index','Oil_price']], maxlag=20)"
   ]
  },
  {
   "cell_type": "code",
   "execution_count": 41,
   "id": "ae585d3f",
   "metadata": {
    "ExecuteTime": {
     "end_time": "2023-06-11T11:24:16.869191Z",
     "start_time": "2023-06-11T11:24:16.381848Z"
    }
   },
   "outputs": [
    {
     "name": "stdout",
     "output_type": "stream",
     "text": [
      "\n",
      "Granger Causality\n",
      "number of lags (no zero) 1\n",
      "ssr based F test:         F=21.2159 , p=0.0000  , df_denom=1773, df_num=1\n",
      "ssr based chi2 test:   chi2=21.2518 , p=0.0000  , df=1\n",
      "likelihood ratio test: chi2=21.1257 , p=0.0000  , df=1\n",
      "parameter F test:         F=21.2159 , p=0.0000  , df_denom=1773, df_num=1\n",
      "\n",
      "Granger Causality\n",
      "number of lags (no zero) 2\n",
      "ssr based F test:         F=11.3315 , p=0.0000  , df_denom=1770, df_num=2\n",
      "ssr based chi2 test:   chi2=22.7271 , p=0.0000  , df=2\n",
      "likelihood ratio test: chi2=22.5828 , p=0.0000  , df=2\n",
      "parameter F test:         F=11.3315 , p=0.0000  , df_denom=1770, df_num=2\n",
      "\n",
      "Granger Causality\n",
      "number of lags (no zero) 3\n",
      "ssr based F test:         F=9.0289  , p=0.0000  , df_denom=1767, df_num=3\n",
      "ssr based chi2 test:   chi2=27.1940 , p=0.0000  , df=3\n",
      "likelihood ratio test: chi2=26.9877 , p=0.0000  , df=3\n",
      "parameter F test:         F=9.0289  , p=0.0000  , df_denom=1767, df_num=3\n",
      "\n",
      "Granger Causality\n",
      "number of lags (no zero) 4\n",
      "ssr based F test:         F=6.6200  , p=0.0000  , df_denom=1764, df_num=4\n",
      "ssr based chi2 test:   chi2=26.6151 , p=0.0000  , df=4\n",
      "likelihood ratio test: chi2=26.4174 , p=0.0000  , df=4\n",
      "parameter F test:         F=6.6200  , p=0.0000  , df_denom=1764, df_num=4\n",
      "\n",
      "Granger Causality\n",
      "number of lags (no zero) 5\n",
      "ssr based F test:         F=5.8424  , p=0.0000  , df_denom=1761, df_num=5\n",
      "ssr based chi2 test:   chi2=29.3945 , p=0.0000  , df=5\n",
      "likelihood ratio test: chi2=29.1534 , p=0.0000  , df=5\n",
      "parameter F test:         F=5.8424  , p=0.0000  , df_denom=1761, df_num=5\n",
      "\n",
      "Granger Causality\n",
      "number of lags (no zero) 6\n",
      "ssr based F test:         F=4.7465  , p=0.0001  , df_denom=1758, df_num=6\n",
      "ssr based chi2 test:   chi2=28.6893 , p=0.0001  , df=6\n",
      "likelihood ratio test: chi2=28.4594 , p=0.0001  , df=6\n",
      "parameter F test:         F=4.7465  , p=0.0001  , df_denom=1758, df_num=6\n",
      "\n",
      "Granger Causality\n",
      "number of lags (no zero) 7\n",
      "ssr based F test:         F=4.4793  , p=0.0001  , df_denom=1755, df_num=7\n",
      "ssr based chi2 test:   chi2=31.6229 , p=0.0000  , df=7\n",
      "likelihood ratio test: chi2=31.3437 , p=0.0001  , df=7\n",
      "parameter F test:         F=4.4793  , p=0.0001  , df_denom=1755, df_num=7\n",
      "\n",
      "Granger Causality\n",
      "number of lags (no zero) 8\n",
      "ssr based F test:         F=3.9284  , p=0.0001  , df_denom=1752, df_num=8\n",
      "ssr based chi2 test:   chi2=31.7320 , p=0.0001  , df=8\n",
      "likelihood ratio test: chi2=31.4507 , p=0.0001  , df=8\n",
      "parameter F test:         F=3.9284  , p=0.0001  , df_denom=1752, df_num=8\n",
      "\n",
      "Granger Causality\n",
      "number of lags (no zero) 9\n",
      "ssr based F test:         F=3.5317  , p=0.0002  , df_denom=1749, df_num=9\n",
      "ssr based chi2 test:   chi2=32.1309 , p=0.0002  , df=9\n",
      "likelihood ratio test: chi2=31.8425 , p=0.0002  , df=9\n",
      "parameter F test:         F=3.5317  , p=0.0002  , df_denom=1749, df_num=9\n",
      "\n",
      "Granger Causality\n",
      "number of lags (no zero) 10\n",
      "ssr based F test:         F=3.0360  , p=0.0008  , df_denom=1746, df_num=10\n",
      "ssr based chi2 test:   chi2=30.7250 , p=0.0007  , df=10\n",
      "likelihood ratio test: chi2=30.4610 , p=0.0007  , df=10\n",
      "parameter F test:         F=3.0360  , p=0.0008  , df_denom=1746, df_num=10\n",
      "\n",
      "Granger Causality\n",
      "number of lags (no zero) 11\n",
      "ssr based F test:         F=2.8048  , p=0.0012  , df_denom=1743, df_num=11\n",
      "ssr based chi2 test:   chi2=31.2597 , p=0.0010  , df=11\n",
      "likelihood ratio test: chi2=30.9862 , p=0.0011  , df=11\n",
      "parameter F test:         F=2.8048  , p=0.0012  , df_denom=1743, df_num=11\n",
      "\n",
      "Granger Causality\n",
      "number of lags (no zero) 12\n",
      "ssr based F test:         F=2.6885  , p=0.0014  , df_denom=1740, df_num=12\n",
      "ssr based chi2 test:   chi2=32.7253 , p=0.0011  , df=12\n",
      "likelihood ratio test: chi2=32.4256 , p=0.0012  , df=12\n",
      "parameter F test:         F=2.6885  , p=0.0014  , df_denom=1740, df_num=12\n",
      "\n",
      "Granger Causality\n",
      "number of lags (no zero) 13\n",
      "ssr based F test:         F=2.4604  , p=0.0026  , df_denom=1737, df_num=13\n",
      "ssr based chi2 test:   chi2=32.4830 , p=0.0020  , df=13\n",
      "likelihood ratio test: chi2=32.1875 , p=0.0023  , df=13\n",
      "parameter F test:         F=2.4604  , p=0.0026  , df_denom=1737, df_num=13\n",
      "\n",
      "Granger Causality\n",
      "number of lags (no zero) 14\n",
      "ssr based F test:         F=2.2254  , p=0.0056  , df_denom=1734, df_num=14\n",
      "ssr based chi2 test:   chi2=31.6767 , p=0.0045  , df=14\n",
      "likelihood ratio test: chi2=31.3955 , p=0.0049  , df=14\n",
      "parameter F test:         F=2.2254  , p=0.0056  , df_denom=1734, df_num=14\n",
      "\n",
      "Granger Causality\n",
      "number of lags (no zero) 15\n",
      "ssr based F test:         F=2.0990  , p=0.0080  , df_denom=1731, df_num=15\n",
      "ssr based chi2 test:   chi2=32.0495 , p=0.0063  , df=15\n",
      "likelihood ratio test: chi2=31.7615 , p=0.0069  , df=15\n",
      "parameter F test:         F=2.0990  , p=0.0080  , df_denom=1731, df_num=15\n",
      "\n",
      "Granger Causality\n",
      "number of lags (no zero) 16\n",
      "ssr based F test:         F=1.9889  , p=0.0111  , df_denom=1728, df_num=16\n",
      "ssr based chi2 test:   chi2=32.4300 , p=0.0088  , df=16\n",
      "likelihood ratio test: chi2=32.1350 , p=0.0096  , df=16\n",
      "parameter F test:         F=1.9889  , p=0.0111  , df_denom=1728, df_num=16\n",
      "\n",
      "Granger Causality\n",
      "number of lags (no zero) 17\n",
      "ssr based F test:         F=2.1551  , p=0.0040  , df_denom=1725, df_num=17\n",
      "ssr based chi2 test:   chi2=37.3807 , p=0.0030  , df=17\n",
      "likelihood ratio test: chi2=36.9893 , p=0.0034  , df=17\n",
      "parameter F test:         F=2.1551  , p=0.0040  , df_denom=1725, df_num=17\n",
      "\n",
      "Granger Causality\n",
      "number of lags (no zero) 18\n",
      "ssr based F test:         F=2.0438  , p=0.0060  , df_denom=1722, df_num=18\n",
      "ssr based chi2 test:   chi2=37.5795 , p=0.0044  , df=18\n",
      "likelihood ratio test: chi2=37.1837 , p=0.0050  , df=18\n",
      "parameter F test:         F=2.0438  , p=0.0060  , df_denom=1722, df_num=18\n",
      "\n",
      "Granger Causality\n",
      "number of lags (no zero) 19\n",
      "ssr based F test:         F=2.0245  , p=0.0056  , df_denom=1719, df_num=19\n",
      "ssr based chi2 test:   chi2=39.3373 , p=0.0040  , df=19\n",
      "likelihood ratio test: chi2=38.9037 , p=0.0045  , df=19\n",
      "parameter F test:         F=2.0245  , p=0.0056  , df_denom=1719, df_num=19\n",
      "\n",
      "Granger Causality\n",
      "number of lags (no zero) 20\n",
      "ssr based F test:         F=1.9643  , p=0.0066  , df_denom=1716, df_num=20\n",
      "ssr based chi2 test:   chi2=40.2251 , p=0.0047  , df=20\n",
      "likelihood ratio test: chi2=39.7716 , p=0.0053  , df=20\n",
      "parameter F test:         F=1.9643  , p=0.0066  , df_denom=1716, df_num=20\n",
      "\n",
      "Granger Causality\n",
      "number of lags (no zero) 21\n",
      "ssr based F test:         F=1.7570  , p=0.0182  , df_denom=1713, df_num=21\n",
      "ssr based chi2 test:   chi2=37.8236 , p=0.0135  , df=21\n",
      "likelihood ratio test: chi2=37.4220 , p=0.0150  , df=21\n",
      "parameter F test:         F=1.7570  , p=0.0182  , df_denom=1713, df_num=21\n",
      "\n",
      "Granger Causality\n",
      "number of lags (no zero) 22\n",
      "ssr based F test:         F=2.0347  , p=0.0031  , df_denom=1710, df_num=22\n",
      "ssr based chi2 test:   chi2=45.9425 , p=0.0020  , df=22\n",
      "likelihood ratio test: chi2=45.3515 , p=0.0024  , df=22\n",
      "parameter F test:         F=2.0347  , p=0.0031  , df_denom=1710, df_num=22\n",
      "\n",
      "Granger Causality\n",
      "number of lags (no zero) 23\n",
      "ssr based F test:         F=1.9191  , p=0.0055  , df_denom=1707, df_num=23\n",
      "ssr based chi2 test:   chi2=45.3548 , p=0.0036  , df=23\n",
      "likelihood ratio test: chi2=44.7783 , p=0.0042  , df=23\n",
      "parameter F test:         F=1.9191  , p=0.0055  , df_denom=1707, df_num=23\n",
      "\n",
      "Granger Causality\n",
      "number of lags (no zero) 24\n",
      "ssr based F test:         F=1.8450  , p=0.0076  , df_denom=1704, df_num=24\n",
      "ssr based chi2 test:   chi2=45.5536 , p=0.0050  , df=24\n",
      "likelihood ratio test: chi2=44.9717 , p=0.0059  , df=24\n",
      "parameter F test:         F=1.8450  , p=0.0076  , df_denom=1704, df_num=24\n",
      "\n",
      "Granger Causality\n",
      "number of lags (no zero) 25\n",
      "ssr based F test:         F=1.7850  , p=0.0099  , df_denom=1701, df_num=25\n",
      "ssr based chi2 test:   chi2=45.9632 , p=0.0065  , df=25\n",
      "likelihood ratio test: chi2=45.3706 , p=0.0076  , df=25\n",
      "parameter F test:         F=1.7850  , p=0.0099  , df_denom=1701, df_num=25\n",
      "\n",
      "Granger Causality\n",
      "number of lags (no zero) 26\n",
      "ssr based F test:         F=1.7356  , p=0.0122  , df_denom=1698, df_num=26\n",
      "ssr based chi2 test:   chi2=46.5347 , p=0.0079  , df=26\n",
      "likelihood ratio test: chi2=45.9271 , p=0.0093  , df=26\n",
      "parameter F test:         F=1.7356  , p=0.0122  , df_denom=1698, df_num=26\n",
      "\n",
      "Granger Causality\n",
      "number of lags (no zero) 27\n",
      "ssr based F test:         F=1.7322  , p=0.0113  , df_denom=1695, df_num=27\n",
      "ssr based chi2 test:   chi2=48.2863 , p=0.0071  , df=27\n",
      "likelihood ratio test: chi2=47.6322 , p=0.0084  , df=27\n",
      "parameter F test:         F=1.7322  , p=0.0113  , df_denom=1695, df_num=27\n",
      "\n",
      "Granger Causality\n",
      "number of lags (no zero) 28\n",
      "ssr based F test:         F=1.6605  , p=0.0165  , df_denom=1692, df_num=28\n",
      "ssr based chi2 test:   chi2=48.0599 , p=0.0106  , df=28\n",
      "likelihood ratio test: chi2=47.4115 , p=0.0124  , df=28\n",
      "parameter F test:         F=1.6605  , p=0.0165  , df_denom=1692, df_num=28\n",
      "\n",
      "Granger Causality\n",
      "number of lags (no zero) 29\n"
     ]
    },
    {
     "name": "stdout",
     "output_type": "stream",
     "text": [
      "ssr based F test:         F=1.7292  , p=0.0095  , df_denom=1689, df_num=29\n",
      "ssr based chi2 test:   chi2=51.8992 , p=0.0056  , df=29\n",
      "likelihood ratio test: chi2=51.1437 , p=0.0068  , df=29\n",
      "parameter F test:         F=1.7292  , p=0.0095  , df_denom=1689, df_num=29\n",
      "\n",
      "Granger Causality\n",
      "number of lags (no zero) 30\n",
      "ssr based F test:         F=1.6221  , p=0.0182  , df_denom=1686, df_num=30\n",
      "ssr based chi2 test:   chi2=50.4237 , p=0.0112  , df=30\n",
      "likelihood ratio test: chi2=49.7097 , p=0.0133  , df=30\n",
      "parameter F test:         F=1.6221  , p=0.0182  , df_denom=1686, df_num=30\n"
     ]
    }
   ],
   "source": [
    "from statsmodels.tsa.stattools import grangercausalitytests\n",
    "result = grangercausalitytests(df_transformed[['Oil_price','Oil_index']], maxlag=30)"
   ]
  },
  {
   "cell_type": "code",
   "execution_count": 42,
   "id": "42571c7e",
   "metadata": {
    "ExecuteTime": {
     "end_time": "2023-06-11T11:24:17.075247Z",
     "start_time": "2023-06-11T11:24:17.062247Z"
    }
   },
   "outputs": [],
   "source": [
    "df_total_filled = df_total.fillna(method=\"ffill\")\n",
    "df_total_filled = df_total_filled.fillna(method='bfill')"
   ]
  },
  {
   "cell_type": "code",
   "execution_count": 43,
   "id": "f0fe63b8",
   "metadata": {
    "ExecuteTime": {
     "end_time": "2023-06-11T11:24:17.802328Z",
     "start_time": "2023-06-11T11:24:17.267697Z"
    }
   },
   "outputs": [
    {
     "name": "stdout",
     "output_type": "stream",
     "text": [
      "\n",
      "Granger Causality\n",
      "number of lags (no zero) 1\n",
      "ssr based F test:         F=20.0141 , p=0.0000  , df_denom=1823, df_num=1\n",
      "ssr based chi2 test:   chi2=20.0470 , p=0.0000  , df=1\n",
      "likelihood ratio test: chi2=19.9378 , p=0.0000  , df=1\n",
      "parameter F test:         F=20.0141 , p=0.0000  , df_denom=1823, df_num=1\n",
      "\n",
      "Granger Causality\n",
      "number of lags (no zero) 2\n",
      "ssr based F test:         F=10.0132 , p=0.0000  , df_denom=1820, df_num=2\n",
      "ssr based chi2 test:   chi2=20.0815 , p=0.0000  , df=2\n",
      "likelihood ratio test: chi2=19.9718 , p=0.0000  , df=2\n",
      "parameter F test:         F=10.0132 , p=0.0000  , df_denom=1820, df_num=2\n",
      "\n",
      "Granger Causality\n",
      "number of lags (no zero) 3\n",
      "ssr based F test:         F=7.6948  , p=0.0000  , df_denom=1817, df_num=3\n",
      "ssr based chi2 test:   chi2=23.1734 , p=0.0000  , df=3\n",
      "likelihood ratio test: chi2=23.0274 , p=0.0000  , df=3\n",
      "parameter F test:         F=7.6948  , p=0.0000  , df_denom=1817, df_num=3\n",
      "\n",
      "Granger Causality\n",
      "number of lags (no zero) 4\n",
      "ssr based F test:         F=6.3943  , p=0.0000  , df_denom=1814, df_num=4\n",
      "ssr based chi2 test:   chi2=25.7041 , p=0.0000  , df=4\n",
      "likelihood ratio test: chi2=25.5246 , p=0.0000  , df=4\n",
      "parameter F test:         F=6.3943  , p=0.0000  , df_denom=1814, df_num=4\n",
      "\n",
      "Granger Causality\n",
      "number of lags (no zero) 5\n",
      "ssr based F test:         F=5.4430  , p=0.0001  , df_denom=1811, df_num=5\n",
      "ssr based chi2 test:   chi2=27.3803 , p=0.0000  , df=5\n",
      "likelihood ratio test: chi2=27.1766 , p=0.0001  , df=5\n",
      "parameter F test:         F=5.4430  , p=0.0001  , df_denom=1811, df_num=5\n",
      "\n",
      "Granger Causality\n",
      "number of lags (no zero) 6\n",
      "ssr based F test:         F=4.5274  , p=0.0001  , df_denom=1808, df_num=6\n",
      "ssr based chi2 test:   chi2=27.3595 , p=0.0001  , df=6\n",
      "likelihood ratio test: chi2=27.1560 , p=0.0001  , df=6\n",
      "parameter F test:         F=4.5274  , p=0.0001  , df_denom=1808, df_num=6\n",
      "\n",
      "Granger Causality\n",
      "number of lags (no zero) 7\n",
      "ssr based F test:         F=3.8438  , p=0.0004  , df_denom=1805, df_num=7\n",
      "ssr based chi2 test:   chi2=27.1301 , p=0.0003  , df=7\n",
      "likelihood ratio test: chi2=26.9299 , p=0.0003  , df=7\n",
      "parameter F test:         F=3.8438  , p=0.0004  , df_denom=1805, df_num=7\n",
      "\n",
      "Granger Causality\n",
      "number of lags (no zero) 8\n",
      "ssr based F test:         F=3.3555  , p=0.0008  , df_denom=1802, df_num=8\n",
      "ssr based chi2 test:   chi2=27.0972 , p=0.0007  , df=8\n",
      "likelihood ratio test: chi2=26.8973 , p=0.0007  , df=8\n",
      "parameter F test:         F=3.3555  , p=0.0008  , df_denom=1802, df_num=8\n",
      "\n",
      "Granger Causality\n",
      "number of lags (no zero) 9\n",
      "ssr based F test:         F=3.0436  , p=0.0013  , df_denom=1799, df_num=9\n",
      "ssr based chi2 test:   chi2=27.6817 , p=0.0011  , df=9\n",
      "likelihood ratio test: chi2=27.4731 , p=0.0012  , df=9\n",
      "parameter F test:         F=3.0436  , p=0.0013  , df_denom=1799, df_num=9\n",
      "\n",
      "Granger Causality\n",
      "number of lags (no zero) 10\n",
      "ssr based F test:         F=2.6296  , p=0.0035  , df_denom=1796, df_num=10\n",
      "ssr based chi2 test:   chi2=26.6037 , p=0.0030  , df=10\n",
      "likelihood ratio test: chi2=26.4108 , p=0.0032  , df=10\n",
      "parameter F test:         F=2.6296  , p=0.0035  , df_denom=1796, df_num=10\n",
      "\n",
      "Granger Causality\n",
      "number of lags (no zero) 11\n",
      "ssr based F test:         F=2.4423  , p=0.0050  , df_denom=1793, df_num=11\n",
      "ssr based chi2 test:   chi2=27.2096 , p=0.0043  , df=11\n",
      "likelihood ratio test: chi2=27.0078 , p=0.0046  , df=11\n",
      "parameter F test:         F=2.4423  , p=0.0050  , df_denom=1793, df_num=11\n",
      "\n",
      "Granger Causality\n",
      "number of lags (no zero) 12\n",
      "ssr based F test:         F=2.3054  , p=0.0065  , df_denom=1790, df_num=12\n",
      "ssr based chi2 test:   chi2=28.0516 , p=0.0054  , df=12\n",
      "likelihood ratio test: chi2=27.8370 , p=0.0058  , df=12\n",
      "parameter F test:         F=2.3054  , p=0.0065  , df_denom=1790, df_num=12\n",
      "\n",
      "Granger Causality\n",
      "number of lags (no zero) 13\n",
      "ssr based F test:         F=2.1616  , p=0.0091  , df_denom=1787, df_num=13\n",
      "ssr based chi2 test:   chi2=28.5249 , p=0.0076  , df=13\n",
      "likelihood ratio test: chi2=28.3030 , p=0.0082  , df=13\n",
      "parameter F test:         F=2.1616  , p=0.0091  , df_denom=1787, df_num=13\n",
      "\n",
      "Granger Causality\n",
      "number of lags (no zero) 14\n",
      "ssr based F test:         F=1.9598  , p=0.0175  , df_denom=1784, df_num=14\n",
      "ssr based chi2 test:   chi2=27.8837 , p=0.0147  , df=14\n",
      "likelihood ratio test: chi2=27.6715 , p=0.0157  , df=14\n",
      "parameter F test:         F=1.9598  , p=0.0175  , df_denom=1784, df_num=14\n",
      "\n",
      "Granger Causality\n",
      "number of lags (no zero) 15\n",
      "ssr based F test:         F=1.8037  , p=0.0291  , df_denom=1781, df_num=15\n",
      "ssr based chi2 test:   chi2=27.5265 , p=0.0247  , df=15\n",
      "likelihood ratio test: chi2=27.3195 , p=0.0262  , df=15\n",
      "parameter F test:         F=1.8037  , p=0.0291  , df_denom=1781, df_num=15\n",
      "\n",
      "Granger Causality\n",
      "number of lags (no zero) 16\n",
      "ssr based F test:         F=1.7212  , p=0.0369  , df_denom=1778, df_num=16\n",
      "ssr based chi2 test:   chi2=28.0507 , p=0.0312  , df=16\n",
      "likelihood ratio test: chi2=27.8357 , p=0.0331  , df=16\n",
      "parameter F test:         F=1.7212  , p=0.0369  , df_denom=1778, df_num=16\n",
      "\n",
      "Granger Causality\n",
      "number of lags (no zero) 17\n",
      "ssr based F test:         F=1.6559  , p=0.0444  , df_denom=1775, df_num=17\n",
      "ssr based chi2 test:   chi2=28.7054 , p=0.0373  , df=17\n",
      "likelihood ratio test: chi2=28.4802 , p=0.0396  , df=17\n",
      "parameter F test:         F=1.6559  , p=0.0444  , df_denom=1775, df_num=17\n",
      "\n",
      "Granger Causality\n",
      "number of lags (no zero) 18\n",
      "ssr based F test:         F=1.5896  , p=0.0547  , df_denom=1772, df_num=18\n",
      "ssr based chi2 test:   chi2=29.2106 , p=0.0459  , df=18\n",
      "likelihood ratio test: chi2=28.9772 , p=0.0487  , df=18\n",
      "parameter F test:         F=1.5896  , p=0.0547  , df_denom=1772, df_num=18\n",
      "\n",
      "Granger Causality\n",
      "number of lags (no zero) 19\n",
      "ssr based F test:         F=1.5524  , p=0.0600  , df_denom=1769, df_num=19\n",
      "ssr based chi2 test:   chi2=30.1468 , p=0.0500  , df=19\n",
      "likelihood ratio test: chi2=29.8982 , p=0.0531  , df=19\n",
      "parameter F test:         F=1.5524  , p=0.0600  , df_denom=1769, df_num=19\n",
      "\n",
      "Granger Causality\n",
      "number of lags (no zero) 20\n",
      "ssr based F test:         F=1.5137  , p=0.0671  , df_denom=1766, df_num=20\n",
      "ssr based chi2 test:   chi2=30.9770 , p=0.0555  , df=20\n",
      "likelihood ratio test: chi2=30.7145 , p=0.0591  , df=20\n",
      "parameter F test:         F=1.5137  , p=0.0671  , df_denom=1766, df_num=20\n",
      "\n",
      "Granger Causality\n",
      "number of lags (no zero) 21\n",
      "ssr based F test:         F=1.4026  , p=0.1054  , df_denom=1763, df_num=21\n",
      "ssr based chi2 test:   chi2=30.1732 , p=0.0886  , df=21\n",
      "likelihood ratio test: chi2=29.9240 , p=0.0935  , df=21\n",
      "parameter F test:         F=1.4026  , p=0.1054  , df_denom=1763, df_num=21\n",
      "\n",
      "Granger Causality\n",
      "number of lags (no zero) 22\n",
      "ssr based F test:         F=1.5851  , p=0.0414  , df_denom=1760, df_num=22\n",
      "ssr based chi2 test:   chi2=35.7644 , p=0.0322  , df=22\n",
      "likelihood ratio test: chi2=35.4147 , p=0.0350  , df=22\n",
      "parameter F test:         F=1.5851  , p=0.0414  , df_denom=1760, df_num=22\n",
      "\n",
      "Granger Causality\n",
      "number of lags (no zero) 23\n",
      "ssr based F test:         F=1.4715  , p=0.0693  , df_denom=1757, df_num=23\n",
      "ssr based chi2 test:   chi2=34.7499 , p=0.0551  , df=23\n",
      "likelihood ratio test: chi2=34.4195 , p=0.0593  , df=23\n",
      "parameter F test:         F=1.4715  , p=0.0693  , df_denom=1757, df_num=23\n",
      "\n",
      "Granger Causality\n",
      "number of lags (no zero) 24\n",
      "ssr based F test:         F=1.4398  , p=0.0772  , df_denom=1754, df_num=24\n",
      "ssr based chi2 test:   chi2=35.5217 , p=0.0610  , df=24\n",
      "likelihood ratio test: chi2=35.1764 , p=0.0658  , df=24\n",
      "parameter F test:         F=1.4398  , p=0.0772  , df_denom=1754, df_num=24\n",
      "\n",
      "Granger Causality\n",
      "number of lags (no zero) 25\n",
      "ssr based F test:         F=1.3861  , p=0.0969  , df_denom=1751, df_num=25\n",
      "ssr based chi2 test:   chi2=35.6623 , p=0.0769  , df=25\n",
      "likelihood ratio test: chi2=35.3140 , p=0.0827  , df=25\n",
      "parameter F test:         F=1.3861  , p=0.0969  , df_denom=1751, df_num=25\n",
      "\n",
      "Granger Causality\n",
      "number of lags (no zero) 26\n",
      "ssr based F test:         F=1.3465  , p=0.1138  , df_denom=1748, df_num=26\n",
      "ssr based chi2 test:   chi2=36.0710 , p=0.0904  , df=26\n",
      "likelihood ratio test: chi2=35.7146 , p=0.0970  , df=26\n",
      "parameter F test:         F=1.3465  , p=0.1138  , df_denom=1748, df_num=26\n",
      "\n",
      "Granger Causality\n",
      "number of lags (no zero) 27\n",
      "ssr based F test:         F=1.3251  , p=0.1227  , df_denom=1745, df_num=27\n",
      "ssr based chi2 test:   chi2=36.9065 , p=0.0968  , df=27\n",
      "likelihood ratio test: chi2=36.5333 , p=0.1041  , df=27\n",
      "parameter F test:         F=1.3251  , p=0.1227  , df_denom=1745, df_num=27\n",
      "\n",
      "Granger Causality\n",
      "number of lags (no zero) 28\n",
      "ssr based F test:         F=1.2860  , p=0.1450  , df_denom=1742, df_num=28\n",
      "ssr based chi2 test:   chi2=37.1862 , p=0.1148  , df=28\n",
      "likelihood ratio test: chi2=36.8071 , p=0.1232  , df=28\n",
      "parameter F test:         F=1.2860  , p=0.1450  , df_denom=1742, df_num=28\n",
      "\n",
      "Granger Causality\n",
      "number of lags (no zero) 29\n",
      "ssr based F test:         F=1.2757  , p=0.1490  , df_denom=1739, df_num=29\n",
      "ssr based chi2 test:   chi2=38.2519 , p=0.1168  , df=29\n",
      "likelihood ratio test: chi2=37.8507 , p=0.1257  , df=29\n",
      "parameter F test:         F=1.2757  , p=0.1490  , df_denom=1739, df_num=29\n",
      "\n",
      "Granger Causality\n",
      "number of lags (no zero) 30\n",
      "ssr based F test:         F=1.2257  , p=0.1866  , df_denom=1736, df_num=30\n",
      "ssr based chi2 test:   chi2=38.0643 , p=0.1481  , df=30\n",
      "likelihood ratio test: chi2=37.6668 , p=0.1585  , df=30\n",
      "parameter F test:         F=1.2257  , p=0.1866  , df_denom=1736, df_num=30\n"
     ]
    }
   ],
   "source": [
    "result = grangercausalitytests(df_total_filled[['Oil_price','Oil_index']], maxlag=30)"
   ]
  },
  {
   "cell_type": "markdown",
   "id": "09e801f4",
   "metadata": {},
   "source": [
    "# 모델링"
   ]
  },
  {
   "cell_type": "code",
   "execution_count": 48,
   "id": "519d893c",
   "metadata": {
    "ExecuteTime": {
     "end_time": "2023-06-11T12:36:58.034939Z",
     "start_time": "2023-06-11T12:36:58.023968Z"
    }
   },
   "outputs": [],
   "source": [
    "import tensorflow as tf\n",
    "from tensorflow.keras.models import Sequential, Model\n",
    "from tensorflow.keras.layers import LSTM, Dense, Conv1D, Dropout, RepeatVector, TimeDistributed, MaxPooling1D,Flatten\n",
    "from tensorflow.keras.callbacks import ModelCheckpoint, EarlyStopping"
   ]
  },
  {
   "cell_type": "markdown",
   "id": "85de2c94",
   "metadata": {},
   "source": [
    "## CNN-LSTM(single step)\n",
    "기존 LSTM모델에 각 부분을 요약해주는 CNN 의 기능을 더해 시계열의 부분별 분포를 고려해 준 모델"
   ]
  },
  {
   "cell_type": "code",
   "execution_count": 49,
   "id": "5cd36c81",
   "metadata": {
    "ExecuteTime": {
     "end_time": "2023-06-11T12:36:58.617100Z",
     "start_time": "2023-06-11T12:36:58.604042Z"
    }
   },
   "outputs": [],
   "source": [
    "def create_rnn_data(data, window_size):\n",
    "    y = data[window_size:]\n",
    "    X = np.stack([data[i:i+window_size] for i in range(len(data)-window_size)])\n",
    "    return X,y"
   ]
  },
  {
   "cell_type": "code",
   "execution_count": 56,
   "id": "f6977947",
   "metadata": {
    "ExecuteTime": {
     "end_time": "2023-06-11T13:24:01.583422Z",
     "start_time": "2023-06-11T13:24:01.348703Z"
    },
    "scrolled": true
   },
   "outputs": [],
   "source": [
    "window_size = 10\n",
    "X,y = create_rnn_data(df_transformed, window_size=10)"
   ]
  },
  {
   "cell_type": "code",
   "execution_count": 57,
   "id": "ca1fc6a2",
   "metadata": {
    "ExecuteTime": {
     "end_time": "2023-06-11T13:24:01.789429Z",
     "start_time": "2023-06-11T13:24:01.778877Z"
    }
   },
   "outputs": [
    {
     "name": "stdout",
     "output_type": "stream",
     "text": [
      "(1767, 10, 2)\n",
      "(1767, 2)\n"
     ]
    }
   ],
   "source": [
    "print(X.shape)\n",
    "print(y.shape)"
   ]
  },
  {
   "cell_type": "code",
   "execution_count": 58,
   "id": "7b40239b",
   "metadata": {
    "ExecuteTime": {
     "end_time": "2023-06-11T13:24:02.163826Z",
     "start_time": "2023-06-11T13:24:02.157740Z"
    }
   },
   "outputs": [],
   "source": [
    "test_size = 30\n",
    "train_size = X.shape[0]-test_size"
   ]
  },
  {
   "cell_type": "code",
   "execution_count": 59,
   "id": "e0add0f8",
   "metadata": {
    "ExecuteTime": {
     "end_time": "2023-06-11T13:24:02.571874Z",
     "start_time": "2023-06-11T13:24:02.558367Z"
    }
   },
   "outputs": [],
   "source": [
    "X_train, y_train = X[:train_size], y[:train_size]\n",
    "X_test, y_test = X[train_size:], y[train_size:]"
   ]
  },
  {
   "cell_type": "code",
   "execution_count": 60,
   "id": "c50376d9",
   "metadata": {
    "ExecuteTime": {
     "end_time": "2023-06-11T13:24:03.057597Z",
     "start_time": "2023-06-11T13:24:03.044566Z"
    }
   },
   "outputs": [
    {
     "data": {
      "text/plain": [
       "((1737, 10, 2), (30, 10, 2))"
      ]
     },
     "execution_count": 60,
     "metadata": {},
     "output_type": "execute_result"
    }
   ],
   "source": [
    "X_train.shape, X_test.shape"
   ]
  },
  {
   "cell_type": "code",
   "execution_count": 61,
   "id": "ddc54b94",
   "metadata": {
    "ExecuteTime": {
     "end_time": "2023-06-11T13:24:03.843246Z",
     "start_time": "2023-06-11T13:24:03.829532Z"
    }
   },
   "outputs": [
    {
     "data": {
      "text/plain": [
       "((1737, 2), (30, 2))"
      ]
     },
     "execution_count": 61,
     "metadata": {},
     "output_type": "execute_result"
    }
   ],
   "source": [
    "y_train.shape, y_test.shape"
   ]
  },
  {
   "cell_type": "code",
   "execution_count": 62,
   "id": "2d0d1862",
   "metadata": {
    "ExecuteTime": {
     "end_time": "2023-06-11T13:24:05.116396Z",
     "start_time": "2023-06-11T13:24:05.103431Z"
    },
    "scrolled": true
   },
   "outputs": [
    {
     "data": {
      "text/html": [
       "<div>\n",
       "<style scoped>\n",
       "    .dataframe tbody tr th:only-of-type {\n",
       "        vertical-align: middle;\n",
       "    }\n",
       "\n",
       "    .dataframe tbody tr th {\n",
       "        vertical-align: top;\n",
       "    }\n",
       "\n",
       "    .dataframe thead th {\n",
       "        text-align: right;\n",
       "    }\n",
       "</style>\n",
       "<table border=\"1\" class=\"dataframe\">\n",
       "  <thead>\n",
       "    <tr style=\"text-align: right;\">\n",
       "      <th></th>\n",
       "      <th>Oil_index</th>\n",
       "      <th>Oil_price</th>\n",
       "    </tr>\n",
       "  </thead>\n",
       "  <tbody>\n",
       "    <tr>\n",
       "      <th>2021-12-04</th>\n",
       "      <td>0.160384</td>\n",
       "      <td>0.368810</td>\n",
       "    </tr>\n",
       "    <tr>\n",
       "      <th>2021-12-05</th>\n",
       "      <td>0.160384</td>\n",
       "      <td>0.368810</td>\n",
       "    </tr>\n",
       "    <tr>\n",
       "      <th>2021-12-06</th>\n",
       "      <td>0.176020</td>\n",
       "      <td>0.418152</td>\n",
       "    </tr>\n",
       "    <tr>\n",
       "      <th>2021-12-07</th>\n",
       "      <td>0.171940</td>\n",
       "      <td>0.455790</td>\n",
       "    </tr>\n",
       "    <tr>\n",
       "      <th>2021-12-08</th>\n",
       "      <td>0.188667</td>\n",
       "      <td>0.453088</td>\n",
       "    </tr>\n",
       "    <tr>\n",
       "      <th>2021-12-09</th>\n",
       "      <td>0.204056</td>\n",
       "      <td>0.432019</td>\n",
       "    </tr>\n",
       "    <tr>\n",
       "      <th>2021-12-10</th>\n",
       "      <td>0.238176</td>\n",
       "      <td>0.447146</td>\n",
       "    </tr>\n",
       "    <tr>\n",
       "      <th>2021-12-11</th>\n",
       "      <td>0.255199</td>\n",
       "      <td>0.444084</td>\n",
       "    </tr>\n",
       "    <tr>\n",
       "      <th>2021-12-12</th>\n",
       "      <td>0.255199</td>\n",
       "      <td>0.444084</td>\n",
       "    </tr>\n",
       "    <tr>\n",
       "      <th>2021-12-13</th>\n",
       "      <td>0.248367</td>\n",
       "      <td>0.435440</td>\n",
       "    </tr>\n",
       "    <tr>\n",
       "      <th>2021-12-14</th>\n",
       "      <td>0.223157</td>\n",
       "      <td>0.406627</td>\n",
       "    </tr>\n",
       "    <tr>\n",
       "      <th>2021-12-15</th>\n",
       "      <td>0.210894</td>\n",
       "      <td>0.400324</td>\n",
       "    </tr>\n",
       "    <tr>\n",
       "      <th>2021-12-16</th>\n",
       "      <td>0.313565</td>\n",
       "      <td>0.444084</td>\n",
       "    </tr>\n",
       "    <tr>\n",
       "      <th>2021-12-17</th>\n",
       "      <td>0.375937</td>\n",
       "      <td>0.436521</td>\n",
       "    </tr>\n",
       "    <tr>\n",
       "      <th>2021-12-18</th>\n",
       "      <td>0.385742</td>\n",
       "      <td>0.434720</td>\n",
       "    </tr>\n",
       "    <tr>\n",
       "      <th>2021-12-19</th>\n",
       "      <td>0.385742</td>\n",
       "      <td>0.434720</td>\n",
       "    </tr>\n",
       "    <tr>\n",
       "      <th>2021-12-20</th>\n",
       "      <td>0.327723</td>\n",
       "      <td>0.420854</td>\n",
       "    </tr>\n",
       "    <tr>\n",
       "      <th>2021-12-21</th>\n",
       "      <td>0.326510</td>\n",
       "      <td>0.416352</td>\n",
       "    </tr>\n",
       "    <tr>\n",
       "      <th>2021-12-22</th>\n",
       "      <td>0.269492</td>\n",
       "      <td>0.418693</td>\n",
       "    </tr>\n",
       "    <tr>\n",
       "      <th>2021-12-23</th>\n",
       "      <td>0.315009</td>\n",
       "      <td>0.466595</td>\n",
       "    </tr>\n",
       "    <tr>\n",
       "      <th>2021-12-24</th>\n",
       "      <td>0.362492</td>\n",
       "      <td>0.488385</td>\n",
       "    </tr>\n",
       "    <tr>\n",
       "      <th>2021-12-25</th>\n",
       "      <td>0.397638</td>\n",
       "      <td>0.452548</td>\n",
       "    </tr>\n",
       "    <tr>\n",
       "      <th>2021-12-26</th>\n",
       "      <td>0.397638</td>\n",
       "      <td>0.452548</td>\n",
       "    </tr>\n",
       "    <tr>\n",
       "      <th>2021-12-27</th>\n",
       "      <td>0.397881</td>\n",
       "      <td>0.509995</td>\n",
       "    </tr>\n",
       "    <tr>\n",
       "      <th>2021-12-28</th>\n",
       "      <td>0.408434</td>\n",
       "      <td>0.501711</td>\n",
       "    </tr>\n",
       "    <tr>\n",
       "      <th>2021-12-29</th>\n",
       "      <td>0.444129</td>\n",
       "      <td>0.495048</td>\n",
       "    </tr>\n",
       "    <tr>\n",
       "      <th>2021-12-30</th>\n",
       "      <td>0.476508</td>\n",
       "      <td>0.523321</td>\n",
       "    </tr>\n",
       "    <tr>\n",
       "      <th>2021-12-31</th>\n",
       "      <td>0.489042</td>\n",
       "      <td>0.487484</td>\n",
       "    </tr>\n",
       "    <tr>\n",
       "      <th>2022-01-01</th>\n",
       "      <td>0.464599</td>\n",
       "      <td>0.490906</td>\n",
       "    </tr>\n",
       "    <tr>\n",
       "      <th>2022-01-02</th>\n",
       "      <td>0.464599</td>\n",
       "      <td>0.490906</td>\n",
       "    </tr>\n",
       "  </tbody>\n",
       "</table>\n",
       "</div>"
      ],
      "text/plain": [
       "            Oil_index  Oil_price\n",
       "2021-12-04   0.160384   0.368810\n",
       "2021-12-05   0.160384   0.368810\n",
       "2021-12-06   0.176020   0.418152\n",
       "2021-12-07   0.171940   0.455790\n",
       "2021-12-08   0.188667   0.453088\n",
       "2021-12-09   0.204056   0.432019\n",
       "2021-12-10   0.238176   0.447146\n",
       "2021-12-11   0.255199   0.444084\n",
       "2021-12-12   0.255199   0.444084\n",
       "2021-12-13   0.248367   0.435440\n",
       "2021-12-14   0.223157   0.406627\n",
       "2021-12-15   0.210894   0.400324\n",
       "2021-12-16   0.313565   0.444084\n",
       "2021-12-17   0.375937   0.436521\n",
       "2021-12-18   0.385742   0.434720\n",
       "2021-12-19   0.385742   0.434720\n",
       "2021-12-20   0.327723   0.420854\n",
       "2021-12-21   0.326510   0.416352\n",
       "2021-12-22   0.269492   0.418693\n",
       "2021-12-23   0.315009   0.466595\n",
       "2021-12-24   0.362492   0.488385\n",
       "2021-12-25   0.397638   0.452548\n",
       "2021-12-26   0.397638   0.452548\n",
       "2021-12-27   0.397881   0.509995\n",
       "2021-12-28   0.408434   0.501711\n",
       "2021-12-29   0.444129   0.495048\n",
       "2021-12-30   0.476508   0.523321\n",
       "2021-12-31   0.489042   0.487484\n",
       "2022-01-01   0.464599   0.490906\n",
       "2022-01-02   0.464599   0.490906"
      ]
     },
     "execution_count": 62,
     "metadata": {},
     "output_type": "execute_result"
    }
   ],
   "source": [
    "y_test"
   ]
  },
  {
   "cell_type": "code",
   "execution_count": 68,
   "id": "f732f8b3",
   "metadata": {
    "ExecuteTime": {
     "end_time": "2023-06-11T13:27:25.980641Z",
     "start_time": "2023-06-11T13:27:25.966679Z"
    }
   },
   "outputs": [
    {
     "name": "stdout",
     "output_type": "stream",
     "text": [
      "input_shape: (10, 2)\n"
     ]
    }
   ],
   "source": [
    "# 딥러닝 input_shape\n",
    "print(f\"input_shape: ({X_train.shape[1]}, {X_train.shape[2]})\")\n",
    "n_feature = 2\n",
    "n_outputs = 2 "
   ]
  },
  {
   "cell_type": "code",
   "execution_count": 80,
   "id": "24cd12e7",
   "metadata": {
    "ExecuteTime": {
     "end_time": "2023-06-11T13:29:46.045091Z",
     "start_time": "2023-06-11T13:29:45.655044Z"
    }
   },
   "outputs": [
    {
     "name": "stdout",
     "output_type": "stream",
     "text": [
      "Model: \"sequential_1\"\n",
      "_________________________________________________________________\n",
      "Layer (type)                 Output Shape              Param #   \n",
      "=================================================================\n",
      "conv1d_1 (Conv1D)            (None, 10, 256)           1280      \n",
      "_________________________________________________________________\n",
      "max_pooling1d_1 (MaxPooling1 (None, 5, 256)            0         \n",
      "_________________________________________________________________\n",
      "flatten_1 (Flatten)          (None, 1280)              0         \n",
      "_________________________________________________________________\n",
      "repeat_vector_1 (RepeatVecto (None, 2, 1280)           0         \n",
      "_________________________________________________________________\n",
      "lstm_2 (LSTM)                (None, 2, 200)            1184800   \n",
      "_________________________________________________________________\n",
      "dropout_1 (Dropout)          (None, 2, 200)            0         \n",
      "_________________________________________________________________\n",
      "lstm_3 (LSTM)                (None, 200)               320800    \n",
      "_________________________________________________________________\n",
      "dense_2 (Dense)              (None, 100)               20100     \n",
      "_________________________________________________________________\n",
      "dense_3 (Dense)              (None, 2)                 202       \n",
      "=================================================================\n",
      "Total params: 1,527,182\n",
      "Trainable params: 1,527,182\n",
      "Non-trainable params: 0\n",
      "_________________________________________________________________\n"
     ]
    }
   ],
   "source": [
    "# CNN-LSTM\n",
    "rnn = Sequential([\n",
    "    Conv1D(filters=256, kernel_size=2, activation='relu',\n",
    "           input_shape=(window_size,n_feature), padding='same'),\n",
    "    MaxPooling1D(pool_size=2),\n",
    "    Flatten(),\n",
    "    RepeatVector(n_outputs),\n",
    "    LSTM(units=200,activation='tanh', return_sequences=True),\n",
    "    Dropout(0.3),\n",
    "    LSTM(units=200,activation='tanh', return_sequences=False),\n",
    "    Dense(100, activation='relu'),\n",
    "    Dense(n_outputs)\n",
    "])     \n",
    "\n",
    "rnn.compile(loss='mse', optimizer='adam')\n",
    "rnn.summary()"
   ]
  },
  {
   "cell_type": "code",
   "execution_count": 81,
   "id": "668b03b7",
   "metadata": {
    "ExecuteTime": {
     "end_time": "2023-06-11T13:29:47.669870Z",
     "start_time": "2023-06-11T13:29:47.655906Z"
    }
   },
   "outputs": [],
   "source": [
    "rnn.compile(loss=\"mse\", optimizer='adam')"
   ]
  },
  {
   "cell_type": "code",
   "execution_count": 82,
   "id": "6ff457d6",
   "metadata": {
    "ExecuteTime": {
     "end_time": "2023-06-11T13:29:47.982136Z",
     "start_time": "2023-06-11T13:29:47.971370Z"
    }
   },
   "outputs": [],
   "source": [
    "from pathlib import Path\n",
    "results_path = Path('results', 'cnn-lstm')\n",
    "if not results_path.exists():\n",
    "    results_path.mkdir(parents=True)"
   ]
  },
  {
   "cell_type": "code",
   "execution_count": 83,
   "id": "b0c5fa88",
   "metadata": {
    "ExecuteTime": {
     "end_time": "2023-06-11T13:29:48.231442Z",
     "start_time": "2023-06-11T13:29:48.218477Z"
    }
   },
   "outputs": [],
   "source": [
    "checkpointer = ModelCheckpoint(filepath=results_path,\n",
    "                              monitor='val_loss',\n",
    "                              verbose=1,\n",
    "                              save_best_only=True,\n",
    "                              mode='min')"
   ]
  },
  {
   "cell_type": "code",
   "execution_count": 84,
   "id": "a45a17f4",
   "metadata": {
    "ExecuteTime": {
     "end_time": "2023-06-11T13:29:48.468460Z",
     "start_time": "2023-06-11T13:29:48.461387Z"
    }
   },
   "outputs": [],
   "source": [
    "earlystopping = EarlyStopping(monitor='val_loss',\n",
    "                              patience=10,\n",
    "                              restore_best_weights=True\n",
    "                             )"
   ]
  },
  {
   "cell_type": "code",
   "execution_count": 85,
   "id": "1be0e16a",
   "metadata": {
    "ExecuteTime": {
     "end_time": "2023-06-11T13:31:06.968242Z",
     "start_time": "2023-06-11T13:29:48.643907Z"
    },
    "scrolled": true
   },
   "outputs": [
    {
     "name": "stdout",
     "output_type": "stream",
     "text": [
      "Epoch 1/100\n",
      "87/87 [==============================] - 4s 19ms/step - loss: 0.0215 - val_loss: 0.0078\n",
      "\n",
      "Epoch 00001: val_loss improved from inf to 0.00780, saving model to results\\cnn-lstm\n"
     ]
    },
    {
     "name": "stderr",
     "output_type": "stream",
     "text": [
      "WARNING:absl:Found untraced functions such as lstm_cell_2_layer_call_fn, lstm_cell_2_layer_call_and_return_conditional_losses, lstm_cell_3_layer_call_fn, lstm_cell_3_layer_call_and_return_conditional_losses, lstm_cell_2_layer_call_fn while saving (showing 5 of 10). These functions will not be directly callable after loading.\n"
     ]
    },
    {
     "name": "stdout",
     "output_type": "stream",
     "text": [
      "INFO:tensorflow:Assets written to: results\\cnn-lstm\\assets\n"
     ]
    },
    {
     "name": "stderr",
     "output_type": "stream",
     "text": [
      "INFO:tensorflow:Assets written to: results\\cnn-lstm\\assets\n"
     ]
    },
    {
     "name": "stdout",
     "output_type": "stream",
     "text": [
      "Epoch 2/100\n",
      "87/87 [==============================] - 1s 11ms/step - loss: 0.0093 - val_loss: 0.0041\n",
      "\n",
      "Epoch 00002: val_loss improved from 0.00780 to 0.00410, saving model to results\\cnn-lstm\n"
     ]
    },
    {
     "name": "stderr",
     "output_type": "stream",
     "text": [
      "WARNING:absl:Found untraced functions such as lstm_cell_2_layer_call_fn, lstm_cell_2_layer_call_and_return_conditional_losses, lstm_cell_3_layer_call_fn, lstm_cell_3_layer_call_and_return_conditional_losses, lstm_cell_2_layer_call_fn while saving (showing 5 of 10). These functions will not be directly callable after loading.\n"
     ]
    },
    {
     "name": "stdout",
     "output_type": "stream",
     "text": [
      "INFO:tensorflow:Assets written to: results\\cnn-lstm\\assets\n"
     ]
    },
    {
     "name": "stderr",
     "output_type": "stream",
     "text": [
      "INFO:tensorflow:Assets written to: results\\cnn-lstm\\assets\n"
     ]
    },
    {
     "name": "stdout",
     "output_type": "stream",
     "text": [
      "Epoch 3/100\n",
      "87/87 [==============================] - 1s 14ms/step - loss: 0.0075 - val_loss: 0.0030\n",
      "\n",
      "Epoch 00003: val_loss improved from 0.00410 to 0.00300, saving model to results\\cnn-lstm\n"
     ]
    },
    {
     "name": "stderr",
     "output_type": "stream",
     "text": [
      "WARNING:absl:Found untraced functions such as lstm_cell_2_layer_call_fn, lstm_cell_2_layer_call_and_return_conditional_losses, lstm_cell_3_layer_call_fn, lstm_cell_3_layer_call_and_return_conditional_losses, lstm_cell_2_layer_call_fn while saving (showing 5 of 10). These functions will not be directly callable after loading.\n"
     ]
    },
    {
     "name": "stdout",
     "output_type": "stream",
     "text": [
      "INFO:tensorflow:Assets written to: results\\cnn-lstm\\assets\n"
     ]
    },
    {
     "name": "stderr",
     "output_type": "stream",
     "text": [
      "INFO:tensorflow:Assets written to: results\\cnn-lstm\\assets\n"
     ]
    },
    {
     "name": "stdout",
     "output_type": "stream",
     "text": [
      "Epoch 4/100\n",
      "87/87 [==============================] - 2s 18ms/step - loss: 0.0082 - val_loss: 0.0057\n",
      "\n",
      "Epoch 00004: val_loss did not improve from 0.00300\n",
      "Epoch 5/100\n",
      "87/87 [==============================] - 1s 17ms/step - loss: 0.0058 - val_loss: 0.0048\n",
      "\n",
      "Epoch 00005: val_loss did not improve from 0.00300\n",
      "Epoch 6/100\n",
      "87/87 [==============================] - 2s 19ms/step - loss: 0.0057 - val_loss: 0.0022\n",
      "\n",
      "Epoch 00006: val_loss improved from 0.00300 to 0.00223, saving model to results\\cnn-lstm\n"
     ]
    },
    {
     "name": "stderr",
     "output_type": "stream",
     "text": [
      "WARNING:absl:Found untraced functions such as lstm_cell_2_layer_call_fn, lstm_cell_2_layer_call_and_return_conditional_losses, lstm_cell_3_layer_call_fn, lstm_cell_3_layer_call_and_return_conditional_losses, lstm_cell_2_layer_call_fn while saving (showing 5 of 10). These functions will not be directly callable after loading.\n"
     ]
    },
    {
     "name": "stdout",
     "output_type": "stream",
     "text": [
      "INFO:tensorflow:Assets written to: results\\cnn-lstm\\assets\n"
     ]
    },
    {
     "name": "stderr",
     "output_type": "stream",
     "text": [
      "INFO:tensorflow:Assets written to: results\\cnn-lstm\\assets\n"
     ]
    },
    {
     "name": "stdout",
     "output_type": "stream",
     "text": [
      "Epoch 7/100\n",
      "87/87 [==============================] - 1s 16ms/step - loss: 0.0040 - val_loss: 0.0036\n",
      "\n",
      "Epoch 00007: val_loss did not improve from 0.00223\n",
      "Epoch 8/100\n",
      "87/87 [==============================] - 2s 19ms/step - loss: 0.0068 - val_loss: 0.0043\n",
      "\n",
      "Epoch 00008: val_loss did not improve from 0.00223\n",
      "Epoch 9/100\n",
      "87/87 [==============================] - 1s 16ms/step - loss: 0.0046 - val_loss: 0.0058\n",
      "\n",
      "Epoch 00009: val_loss did not improve from 0.00223\n",
      "Epoch 10/100\n",
      "87/87 [==============================] - 1s 17ms/step - loss: 0.0042 - val_loss: 0.0015\n",
      "\n",
      "Epoch 00010: val_loss improved from 0.00223 to 0.00154, saving model to results\\cnn-lstm\n"
     ]
    },
    {
     "name": "stderr",
     "output_type": "stream",
     "text": [
      "WARNING:absl:Found untraced functions such as lstm_cell_2_layer_call_fn, lstm_cell_2_layer_call_and_return_conditional_losses, lstm_cell_3_layer_call_fn, lstm_cell_3_layer_call_and_return_conditional_losses, lstm_cell_2_layer_call_fn while saving (showing 5 of 10). These functions will not be directly callable after loading.\n"
     ]
    },
    {
     "name": "stdout",
     "output_type": "stream",
     "text": [
      "INFO:tensorflow:Assets written to: results\\cnn-lstm\\assets\n"
     ]
    },
    {
     "name": "stderr",
     "output_type": "stream",
     "text": [
      "INFO:tensorflow:Assets written to: results\\cnn-lstm\\assets\n"
     ]
    },
    {
     "name": "stdout",
     "output_type": "stream",
     "text": [
      "Epoch 11/100\n",
      "87/87 [==============================] - 1s 15ms/step - loss: 0.0024 - val_loss: 9.9415e-04\n",
      "\n",
      "Epoch 00011: val_loss improved from 0.00154 to 0.00099, saving model to results\\cnn-lstm\n"
     ]
    },
    {
     "name": "stderr",
     "output_type": "stream",
     "text": [
      "WARNING:absl:Found untraced functions such as lstm_cell_2_layer_call_fn, lstm_cell_2_layer_call_and_return_conditional_losses, lstm_cell_3_layer_call_fn, lstm_cell_3_layer_call_and_return_conditional_losses, lstm_cell_2_layer_call_fn while saving (showing 5 of 10). These functions will not be directly callable after loading.\n"
     ]
    },
    {
     "name": "stdout",
     "output_type": "stream",
     "text": [
      "INFO:tensorflow:Assets written to: results\\cnn-lstm\\assets\n"
     ]
    },
    {
     "name": "stderr",
     "output_type": "stream",
     "text": [
      "INFO:tensorflow:Assets written to: results\\cnn-lstm\\assets\n"
     ]
    },
    {
     "name": "stdout",
     "output_type": "stream",
     "text": [
      "Epoch 12/100\n",
      "87/87 [==============================] - 2s 19ms/step - loss: 0.0020 - val_loss: 9.0454e-04\n",
      "\n",
      "Epoch 00012: val_loss improved from 0.00099 to 0.00090, saving model to results\\cnn-lstm\n"
     ]
    },
    {
     "name": "stderr",
     "output_type": "stream",
     "text": [
      "WARNING:absl:Found untraced functions such as lstm_cell_2_layer_call_fn, lstm_cell_2_layer_call_and_return_conditional_losses, lstm_cell_3_layer_call_fn, lstm_cell_3_layer_call_and_return_conditional_losses, lstm_cell_2_layer_call_fn while saving (showing 5 of 10). These functions will not be directly callable after loading.\n"
     ]
    },
    {
     "name": "stdout",
     "output_type": "stream",
     "text": [
      "INFO:tensorflow:Assets written to: results\\cnn-lstm\\assets\n"
     ]
    },
    {
     "name": "stderr",
     "output_type": "stream",
     "text": [
      "INFO:tensorflow:Assets written to: results\\cnn-lstm\\assets\n"
     ]
    },
    {
     "name": "stdout",
     "output_type": "stream",
     "text": [
      "Epoch 13/100\n",
      "87/87 [==============================] - 1s 16ms/step - loss: 0.0018 - val_loss: 0.0011\n",
      "\n",
      "Epoch 00013: val_loss did not improve from 0.00090\n",
      "Epoch 14/100\n",
      "87/87 [==============================] - 1s 15ms/step - loss: 0.0019 - val_loss: 0.0014\n",
      "\n",
      "Epoch 00014: val_loss did not improve from 0.00090\n",
      "Epoch 15/100\n",
      "87/87 [==============================] - 1s 15ms/step - loss: 0.0020 - val_loss: 0.0010\n",
      "\n",
      "Epoch 00015: val_loss did not improve from 0.00090\n",
      "Epoch 16/100\n",
      "87/87 [==============================] - 2s 18ms/step - loss: 0.0020 - val_loss: 0.0017\n",
      "\n",
      "Epoch 00016: val_loss did not improve from 0.00090\n",
      "Epoch 17/100\n",
      "87/87 [==============================] - 1s 16ms/step - loss: 0.0025 - val_loss: 0.0013\n",
      "\n",
      "Epoch 00017: val_loss did not improve from 0.00090\n",
      "Epoch 18/100\n",
      "87/87 [==============================] - 1s 16ms/step - loss: 0.0021 - val_loss: 9.3785e-04\n",
      "\n",
      "Epoch 00018: val_loss did not improve from 0.00090\n",
      "Epoch 19/100\n",
      "87/87 [==============================] - 1s 15ms/step - loss: 0.0020 - val_loss: 0.0013\n",
      "\n",
      "Epoch 00019: val_loss did not improve from 0.00090\n",
      "Epoch 20/100\n",
      "87/87 [==============================] - 1s 16ms/step - loss: 0.0023 - val_loss: 9.6655e-04\n",
      "\n",
      "Epoch 00020: val_loss did not improve from 0.00090\n",
      "Epoch 21/100\n",
      "87/87 [==============================] - 2s 19ms/step - loss: 0.0023 - val_loss: 0.0010\n",
      "\n",
      "Epoch 00021: val_loss did not improve from 0.00090\n",
      "Epoch 22/100\n",
      "87/87 [==============================] - 1s 17ms/step - loss: 0.0028 - val_loss: 0.0014\n",
      "\n",
      "Epoch 00022: val_loss did not improve from 0.00090\n"
     ]
    }
   ],
   "source": [
    "# fit\n",
    "result = rnn.fit(X_train,\n",
    "                y_train,\n",
    "               epochs=100,\n",
    "               batch_size= 20,\n",
    "               shuffle=False,\n",
    "               validation_data=(X_test,y_test),\n",
    "               callbacks=[earlystopping,checkpointer],\n",
    "               verbose=1)"
   ]
  },
  {
   "cell_type": "code",
   "execution_count": 86,
   "id": "ab6ed0b3",
   "metadata": {
    "ExecuteTime": {
     "end_time": "2023-06-11T13:31:07.394397Z",
     "start_time": "2023-06-11T13:31:07.208603Z"
    }
   },
   "outputs": [
    {
     "data": {
      "text/plain": [
       "<AxesSubplot:>"
      ]
     },
     "execution_count": 86,
     "metadata": {},
     "output_type": "execute_result"
    },
    {
     "data": {
      "image/png": "[encoded data removed]",
      "text/plain": [
       "<Figure size 640x480 with 1 Axes>"
      ]
     },
     "metadata": {},
     "output_type": "display_data"
    }
   ],
   "source": [
    "pd.DataFrame(result.history).plot()"
   ]
  },
  {
   "cell_type": "code",
   "execution_count": 87,
   "id": "6e4abf50",
   "metadata": {
    "ExecuteTime": {
     "end_time": "2023-06-11T13:31:13.668599Z",
     "start_time": "2023-06-11T13:31:13.171674Z"
    }
   },
   "outputs": [],
   "source": [
    "pred = rnn.predict(X_test)"
   ]
  },
  {
   "cell_type": "code",
   "execution_count": 88,
   "id": "5e402723",
   "metadata": {
    "ExecuteTime": {
     "end_time": "2023-06-11T13:31:14.245390Z",
     "start_time": "2023-06-11T13:31:14.236414Z"
    },
    "scrolled": true
   },
   "outputs": [
    {
     "data": {
      "text/plain": [
       "(30, 2)"
      ]
     },
     "execution_count": 88,
     "metadata": {},
     "output_type": "execute_result"
    }
   ],
   "source": [
    "pred.shape"
   ]
  },
  {
   "cell_type": "code",
   "execution_count": 89,
   "id": "1cc06478",
   "metadata": {
    "ExecuteTime": {
     "end_time": "2023-06-11T13:31:15.519680Z",
     "start_time": "2023-06-11T13:31:15.503723Z"
    },
    "scrolled": true
   },
   "outputs": [
    {
     "data": {
      "text/html": [
       "<div>\n",
       "<style scoped>\n",
       "    .dataframe tbody tr th:only-of-type {\n",
       "        vertical-align: middle;\n",
       "    }\n",
       "\n",
       "    .dataframe tbody tr th {\n",
       "        vertical-align: top;\n",
       "    }\n",
       "\n",
       "    .dataframe thead th {\n",
       "        text-align: right;\n",
       "    }\n",
       "</style>\n",
       "<table border=\"1\" class=\"dataframe\">\n",
       "  <thead>\n",
       "    <tr style=\"text-align: right;\">\n",
       "      <th></th>\n",
       "      <th>Oil_index</th>\n",
       "      <th>Oil_price</th>\n",
       "    </tr>\n",
       "  </thead>\n",
       "  <tbody>\n",
       "    <tr>\n",
       "      <th>2021-12-04</th>\n",
       "      <td>0.157771</td>\n",
       "      <td>0.398465</td>\n",
       "    </tr>\n",
       "    <tr>\n",
       "      <th>2021-12-05</th>\n",
       "      <td>0.169442</td>\n",
       "      <td>0.388986</td>\n",
       "    </tr>\n",
       "    <tr>\n",
       "      <th>2021-12-06</th>\n",
       "      <td>0.183172</td>\n",
       "      <td>0.387887</td>\n",
       "    </tr>\n",
       "    <tr>\n",
       "      <th>2021-12-07</th>\n",
       "      <td>0.195029</td>\n",
       "      <td>0.414054</td>\n",
       "    </tr>\n",
       "    <tr>\n",
       "      <th>2021-12-08</th>\n",
       "      <td>0.201396</td>\n",
       "      <td>0.442684</td>\n",
       "    </tr>\n",
       "    <tr>\n",
       "      <th>2021-12-09</th>\n",
       "      <td>0.214339</td>\n",
       "      <td>0.452588</td>\n",
       "    </tr>\n",
       "    <tr>\n",
       "      <th>2021-12-10</th>\n",
       "      <td>0.223860</td>\n",
       "      <td>0.444471</td>\n",
       "    </tr>\n",
       "    <tr>\n",
       "      <th>2021-12-11</th>\n",
       "      <td>0.243821</td>\n",
       "      <td>0.454718</td>\n",
       "    </tr>\n",
       "    <tr>\n",
       "      <th>2021-12-12</th>\n",
       "      <td>0.259249</td>\n",
       "      <td>0.456133</td>\n",
       "    </tr>\n",
       "    <tr>\n",
       "      <th>2021-12-13</th>\n",
       "      <td>0.266899</td>\n",
       "      <td>0.460810</td>\n",
       "    </tr>\n",
       "    <tr>\n",
       "      <th>2021-12-14</th>\n",
       "      <td>0.264954</td>\n",
       "      <td>0.456573</td>\n",
       "    </tr>\n",
       "    <tr>\n",
       "      <th>2021-12-15</th>\n",
       "      <td>0.250728</td>\n",
       "      <td>0.441393</td>\n",
       "    </tr>\n",
       "    <tr>\n",
       "      <th>2021-12-16</th>\n",
       "      <td>0.240549</td>\n",
       "      <td>0.432891</td>\n",
       "    </tr>\n",
       "    <tr>\n",
       "      <th>2021-12-17</th>\n",
       "      <td>0.298400</td>\n",
       "      <td>0.448397</td>\n",
       "    </tr>\n",
       "    <tr>\n",
       "      <th>2021-12-18</th>\n",
       "      <td>0.353490</td>\n",
       "      <td>0.451784</td>\n",
       "    </tr>\n",
       "    <tr>\n",
       "      <th>2021-12-19</th>\n",
       "      <td>0.380084</td>\n",
       "      <td>0.453500</td>\n",
       "    </tr>\n",
       "    <tr>\n",
       "      <th>2021-12-20</th>\n",
       "      <td>0.390486</td>\n",
       "      <td>0.451896</td>\n",
       "    </tr>\n",
       "    <tr>\n",
       "      <th>2021-12-21</th>\n",
       "      <td>0.359445</td>\n",
       "      <td>0.446292</td>\n",
       "    </tr>\n",
       "    <tr>\n",
       "      <th>2021-12-22</th>\n",
       "      <td>0.352449</td>\n",
       "      <td>0.437381</td>\n",
       "    </tr>\n",
       "    <tr>\n",
       "      <th>2021-12-23</th>\n",
       "      <td>0.314444</td>\n",
       "      <td>0.439504</td>\n",
       "    </tr>\n",
       "    <tr>\n",
       "      <th>2021-12-24</th>\n",
       "      <td>0.330914</td>\n",
       "      <td>0.463624</td>\n",
       "    </tr>\n",
       "    <tr>\n",
       "      <th>2021-12-25</th>\n",
       "      <td>0.357553</td>\n",
       "      <td>0.485667</td>\n",
       "    </tr>\n",
       "    <tr>\n",
       "      <th>2021-12-26</th>\n",
       "      <td>0.384919</td>\n",
       "      <td>0.476879</td>\n",
       "    </tr>\n",
       "    <tr>\n",
       "      <th>2021-12-27</th>\n",
       "      <td>0.394978</td>\n",
       "      <td>0.475616</td>\n",
       "    </tr>\n",
       "    <tr>\n",
       "      <th>2021-12-28</th>\n",
       "      <td>0.406176</td>\n",
       "      <td>0.506961</td>\n",
       "    </tr>\n",
       "    <tr>\n",
       "      <th>2021-12-29</th>\n",
       "      <td>0.416471</td>\n",
       "      <td>0.509924</td>\n",
       "    </tr>\n",
       "    <tr>\n",
       "      <th>2021-12-30</th>\n",
       "      <td>0.444272</td>\n",
       "      <td>0.508008</td>\n",
       "    </tr>\n",
       "    <tr>\n",
       "      <th>2021-12-31</th>\n",
       "      <td>0.472471</td>\n",
       "      <td>0.524511</td>\n",
       "    </tr>\n",
       "    <tr>\n",
       "      <th>2022-01-01</th>\n",
       "      <td>0.485079</td>\n",
       "      <td>0.512051</td>\n",
       "    </tr>\n",
       "    <tr>\n",
       "      <th>2022-01-02</th>\n",
       "      <td>0.474425</td>\n",
       "      <td>0.510998</td>\n",
       "    </tr>\n",
       "  </tbody>\n",
       "</table>\n",
       "</div>"
      ],
      "text/plain": [
       "            Oil_index  Oil_price\n",
       "2021-12-04   0.157771   0.398465\n",
       "2021-12-05   0.169442   0.388986\n",
       "2021-12-06   0.183172   0.387887\n",
       "2021-12-07   0.195029   0.414054\n",
       "2021-12-08   0.201396   0.442684\n",
       "2021-12-09   0.214339   0.452588\n",
       "2021-12-10   0.223860   0.444471\n",
       "2021-12-11   0.243821   0.454718\n",
       "2021-12-12   0.259249   0.456133\n",
       "2021-12-13   0.266899   0.460810\n",
       "2021-12-14   0.264954   0.456573\n",
       "2021-12-15   0.250728   0.441393\n",
       "2021-12-16   0.240549   0.432891\n",
       "2021-12-17   0.298400   0.448397\n",
       "2021-12-18   0.353490   0.451784\n",
       "2021-12-19   0.380084   0.453500\n",
       "2021-12-20   0.390486   0.451896\n",
       "2021-12-21   0.359445   0.446292\n",
       "2021-12-22   0.352449   0.437381\n",
       "2021-12-23   0.314444   0.439504\n",
       "2021-12-24   0.330914   0.463624\n",
       "2021-12-25   0.357553   0.485667\n",
       "2021-12-26   0.384919   0.476879\n",
       "2021-12-27   0.394978   0.475616\n",
       "2021-12-28   0.406176   0.506961\n",
       "2021-12-29   0.416471   0.509924\n",
       "2021-12-30   0.444272   0.508008\n",
       "2021-12-31   0.472471   0.524511\n",
       "2022-01-01   0.485079   0.512051\n",
       "2022-01-02   0.474425   0.510998"
      ]
     },
     "execution_count": 89,
     "metadata": {},
     "output_type": "execute_result"
    }
   ],
   "source": [
    "y_pred = pd.DataFrame(pred,\n",
    "                     columns = ['Oil_index','Oil_price'],\n",
    "                     index = y_test.index)\n",
    "y_pred"
   ]
  },
  {
   "cell_type": "code",
   "execution_count": null,
   "id": "46dbb600",
   "metadata": {},
   "outputs": [],
   "source": []
  },
  {
   "cell_type": "code",
   "execution_count": null,
   "id": "413c4f5e",
   "metadata": {},
   "outputs": [],
   "source": []
  },
  {
   "cell_type": "code",
   "execution_count": 102,
   "id": "8c0cb44a",
   "metadata": {
    "ExecuteTime": {
     "end_time": "2023-06-11T13:45:41.340726Z",
     "start_time": "2023-06-11T13:45:40.925326Z"
    }
   },
   "outputs": [
    {
     "data": {
      "text/plain": [
       "<matplotlib.legend.Legend at 0x1f196006f10>"
      ]
     },
     "execution_count": 102,
     "metadata": {},
     "output_type": "execute_result"
    },
    {
     "data": {
      "image/png": "[encoded data removed]",
      "text/plain": [
       "<Figure size 1700x400 with 2 Axes>"
      ]
     },
     "metadata": {},
     "output_type": "display_data"
    }
   ],
   "source": [
    "fig, axes = plt.subplots(ncols=2, figsize=(17, 4))\n",
    "pd.DataFrame(result.history).rename(columns={'loss': 'Training',\n",
    "                                              'val_loss': 'Validation'}).plot(ax=axes[0], title='Train & Validiation Error')\n",
    "axes[0].set_xlabel('Epoch')\n",
    "axes[0].set_ylabel('MAE')\n",
    "\n",
    "for col in y_test.columns:\n",
    "    y_train.loc['2021-06':, col].plot(ax=axes[i], label='training', title=f\"{col}\")\n",
    "    y_test[col].plot(ax=axes[i], label='out-of-sample')\n",
    "    y_pred[col].plot(ax=axes[i], label='prediction')\n",
    "    axes[i].set_xlabel('')\n",
    "\n",
    "# axes[1].set_ylim(.5, .9)\n",
    "# axes[1].fill_between(x=y_test.index, y1=0.5, y2=0.9, color='grey', alpha=.5)\n",
    "\n",
    "# axes[2].set_ylim(.3, .9)\n",
    "# axes[2].fill_between(x=y_test.index, y1=0.3, y2=0.9, color='grey', alpha=.5)\n",
    "\n",
    "# axes[3].set_ylim(.3, .9)\n",
    "# axes[3].fill_between(x=y_test.index, y1=0.3, y2=0.9, color='grey', alpha=.5)\n",
    "\n",
    "plt.legend()\n",
    "# fig.suptitle('Multivariate Forecast - Results | Test MAE = {:.4f}'.format(test_mae), fontsize=14)\n",
    "# sns.despine()\n",
    "# fig.tight_layout()\n",
    "# fig.subplots_adjust(top=.85)\n",
    "# fig.savefig(results_path / 'multivariate_results', dpi=300);"
   ]
  },
  {
   "cell_type": "code",
   "execution_count": null,
   "id": "ff72d551",
   "metadata": {},
   "outputs": [],
   "source": []
  },
  {
   "cell_type": "code",
   "execution_count": null,
   "id": "f5392a08",
   "metadata": {},
   "outputs": [],
   "source": []
  },
  {
   "cell_type": "code",
   "execution_count": null,
   "id": "d955ef14",
   "metadata": {},
   "outputs": [],
   "source": []
  },
  {
   "cell_type": "code",
   "execution_count": null,
   "id": "f2661ed5",
   "metadata": {},
   "outputs": [],
   "source": []
  },
  {
   "cell_type": "code",
   "execution_count": null,
   "id": "2db340a2",
   "metadata": {},
   "outputs": [],
   "source": []
  },
  {
   "cell_type": "markdown",
   "id": "0bfb5bf4",
   "metadata": {},
   "source": [
    "## seq2seq(multistep)"
   ]
  },
  {
   "cell_type": "code",
   "execution_count": null,
   "id": "a4b9e5f9",
   "metadata": {},
   "outputs": [],
   "source": []
  },
  {
   "cell_type": "code",
   "execution_count": null,
   "id": "b220772c",
   "metadata": {},
   "outputs": [],
   "source": []
  },
  {
   "cell_type": "code",
   "execution_count": null,
   "id": "91b145f5",
   "metadata": {},
   "outputs": [],
   "source": []
  },
  {
   "cell_type": "code",
   "execution_count": null,
   "id": "c4ba5446",
   "metadata": {},
   "outputs": [],
   "source": []
  },
  {
   "cell_type": "code",
   "execution_count": null,
   "id": "ccce0f82",
   "metadata": {},
   "outputs": [],
   "source": []
  },
  {
   "cell_type": "code",
   "execution_count": null,
   "id": "b71c0981",
   "metadata": {},
   "outputs": [],
   "source": []
  },
  {
   "cell_type": "code",
   "execution_count": null,
   "id": "6dda8430",
   "metadata": {},
   "outputs": [],
   "source": []
  }
 ],
 "metadata": {
  "kernelspec": {
   "display_name": "python3.8_tensorflow2.5",
   "language": "python",
   "name": "tf2.5_py3.8"
  },
  "language_info": {
   "codemirror_mode": {
    "name": "ipython",
    "version": 3
   },
   "file_extension": ".py",
   "mimetype": "text/x-python",
   "name": "python",
   "nbconvert_exporter": "python",
   "pygments_lexer": "ipython3",
   "version": "3.8.16"
  },
  "toc": {
   "base_numbering": 1,
   "nav_menu": {},
   "number_sections": true,
   "sideBar": true,
   "skip_h1_title": false,
   "title_cell": "Table of Contents",
   "title_sidebar": "Contents",
   "toc_cell": false,
   "toc_position": {
    "height": "calc(100% - 180px)",
    "left": "10px",
    "top": "150px",
    "width": "333.625px"
   },
   "toc_section_display": true,
   "toc_window_display": true
  },
  "varInspector": {
   "cols": {
    "lenName": 16,
    "lenType": 16,
    "lenVar": 40
   },
   "kernels_config": {
    "python": {
     "delete_cmd_postfix": "",
     "delete_cmd_prefix": "del ",
     "library": "var_list.py",
     "varRefreshCmd": "print(var_dic_list())"
    },
    "r": {
     "delete_cmd_postfix": ") ",
     "delete_cmd_prefix": "rm(",
     "library": "var_list.r",
     "varRefreshCmd": "cat(var_dic_list()) "
    }
   },
   "types_to_exclude": [
    "module",
    "function",
    "builtin_function_or_method",
    "instance",
    "_Feature"
   ],
   "window_display": false
  }
 },
 "nbformat": 4,
 "nbformat_minor": 5
}
