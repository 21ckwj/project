{
 "cells": [
  {
   "cell_type": "code",
   "execution_count": 9,
   "id": "74766216",
   "metadata": {
    "ExecuteTime": {
     "end_time": "2023-05-21T07:57:11.173409Z",
     "start_time": "2023-05-21T07:57:11.158332Z"
    }
   },
   "outputs": [],
   "source": [
    "import numpy as np\n",
    "import pandas as pd\n",
    "import matplotlib.pyplot as plt\n",
    "import seaborn as sns\n",
    "import matplotlib\n",
    "# import pandas_datareader.data as web"
   ]
  },
  {
   "cell_type": "code",
   "execution_count": 12,
   "id": "23cea0bc",
   "metadata": {
    "ExecuteTime": {
     "end_time": "2023-05-21T08:04:37.256274Z",
     "start_time": "2023-05-21T08:04:37.235907Z"
    }
   },
   "outputs": [],
   "source": [
    "import sklearn\n",
    "from sklearn.metrics import mean_absolute_error\n",
    "from sklearn.preprocessing import minmax_scale"
   ]
  },
  {
   "cell_type": "code",
   "execution_count": 3,
   "id": "02911679",
   "metadata": {
    "ExecuteTime": {
     "end_time": "2023-05-21T07:49:54.273422Z",
     "start_time": "2023-05-21T07:49:44.501051Z"
    }
   },
   "outputs": [],
   "source": [
    "import tensorflow as tf\n",
    "from tensorflow.keras.callbacks import ModelCheckpoint, EarlyStopping\n",
    "from tensorflow.keras.models import Sequential, Model\n",
    "from tensorflow.keras.layers import Dense, LSTM, RepeatVector, TimeDistributed, Dropout, Concatenate, Reshape, Input, Conv1D, Flatten, MaxPooling1D\n",
    "import tensorflow.keras.backend as K"
   ]
  },
  {
   "cell_type": "code",
   "execution_count": 4,
   "id": "4c411b89",
   "metadata": {
    "ExecuteTime": {
     "end_time": "2023-05-21T07:50:02.713233Z",
     "start_time": "2023-05-21T07:50:02.686395Z"
    }
   },
   "outputs": [
    {
     "data": {
      "text/plain": [
       "'1.23.4'"
      ]
     },
     "execution_count": 4,
     "metadata": {},
     "output_type": "execute_result"
    }
   ],
   "source": [
    "np.__version__"
   ]
  },
  {
   "cell_type": "code",
   "execution_count": 7,
   "id": "26ab764c",
   "metadata": {
    "ExecuteTime": {
     "end_time": "2023-05-21T07:55:51.576887Z",
     "start_time": "2023-05-21T07:55:49.715207Z"
    }
   },
   "outputs": [],
   "source": [
    "import tensorflow_probability as tfp"
   ]
  },
  {
   "cell_type": "code",
   "execution_count": 17,
   "id": "9fcbd21b",
   "metadata": {
    "ExecuteTime": {
     "end_time": "2023-05-21T08:12:59.141440Z",
     "start_time": "2023-05-21T08:12:59.115322Z"
    }
   },
   "outputs": [
    {
     "name": "stdout",
     "output_type": "stream",
     "text": [
      "python:  3.8.16 (default, Mar  2 2023, 03:18:16) [MSC v.1916 64 bit (AMD64)]\n",
      "pandas:  2.0.1\n",
      "numpy:  1.23.4\n",
      "matplotlib:  3.7.1\n",
      "seaborn:  0.12.2\n",
      "sklearn:  1.2.2\n",
      "tensorflow:  2.5.0\n",
      "tensorflow_probability:  0.12.2\n"
     ]
    }
   ],
   "source": [
    "import numpy as np\n",
    "import pandas as pd\n",
    "import matplotlib.pyplot as plt\n",
    "import seaborn as sns\n",
    "import matplotlib\n",
    "import sklearn\n",
    "import tensorflow as tf\n",
    "import tensorflow_probability as tfp\n",
    "import sys\n",
    "print(\"python: \", sys.version)\n",
    "print(\"pandas: \", pd.__version__)\n",
    "print(\"numpy: \", np.__version__)\n",
    "print(\"matplotlib: \", matplotlib.__version__)\n",
    "print(\"seaborn: \", sns.__version__)\n",
    "print(\"sklearn: \", sklearn.__version__)\n",
    "print(\"tensorflow: \", tf.__version__)\n",
    "print(\"tensorflow_probability: \", tfp.__version__)"
   ]
  }
 ],
 "metadata": {
  "kernelspec": {
   "display_name": "python3.8_tensorflow2.5",
   "language": "python",
   "name": "tf2.5_py3.8"
  },
  "language_info": {
   "codemirror_mode": {
    "name": "ipython",
    "version": 3
   },
   "file_extension": ".py",
   "mimetype": "text/x-python",
   "name": "python",
   "nbconvert_exporter": "python",
   "pygments_lexer": "ipython3",
   "version": "3.8.16"
  },
  "toc": {
   "base_numbering": 1,
   "nav_menu": {},
   "number_sections": true,
   "sideBar": true,
   "skip_h1_title": false,
   "title_cell": "Table of Contents",
   "title_sidebar": "Contents",
   "toc_cell": false,
   "toc_position": {},
   "toc_section_display": true,
   "toc_window_display": false
  },
  "varInspector": {
   "cols": {
    "lenName": 16,
    "lenType": 16,
    "lenVar": 40
   },
   "kernels_config": {
    "python": {
     "delete_cmd_postfix": "",
     "delete_cmd_prefix": "del ",
     "library": "var_list.py",
     "varRefreshCmd": "print(var_dic_list())"
    },
    "r": {
     "delete_cmd_postfix": ") ",
     "delete_cmd_prefix": "rm(",
     "library": "var_list.r",
     "varRefreshCmd": "cat(var_dic_list()) "
    }
   },
   "types_to_exclude": [
    "module",
    "function",
    "builtin_function_or_method",
    "instance",
    "_Feature"
   ],
   "window_display": false
  }
 },
 "nbformat": 4,
 "nbformat_minor": 5
}
