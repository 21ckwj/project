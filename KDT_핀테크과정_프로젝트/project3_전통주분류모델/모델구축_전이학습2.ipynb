{
 "cells": [
  {
   "cell_type": "markdown",
   "id": "3ac97036",
   "metadata": {},
   "source": [
    "# Transfer learning : ResNet50 "
   ]
  },
  {
   "cell_type": "code",
   "execution_count": 5,
   "id": "b2e005e3",
   "metadata": {},
   "outputs": [],
   "source": [
    "import tensorflow as tf\n",
    "import pandas as pd \n",
    "import numpy as np\n",
    "import matplotlib.pyplot as plt\n"
   ]
  },
  {
   "cell_type": "code",
   "execution_count": null,
   "id": "bffa4772",
   "metadata": {},
   "outputs": [],
   "source": []
  },
  {
   "cell_type": "markdown",
   "id": "10118816",
   "metadata": {},
   "source": [
    "# transfer learning 사용하기"
   ]
  },
  {
   "cell_type": "code",
   "execution_count": 6,
   "id": "b5e62eb9",
   "metadata": {
    "ExecuteTime": {
     "end_time": "2022-03-31T09:59:29.388143Z",
     "start_time": "2022-03-31T09:59:29.371191Z"
    }
   },
   "outputs": [
    {
     "name": "stdout",
     "output_type": "stream",
     "text": [
      "[name: \"/device:CPU:0\"\n",
      "device_type: \"CPU\"\n",
      "memory_limit: 268435456\n",
      "locality {\n",
      "}\n",
      "incarnation: 15729524006965946137\n",
      "xla_global_id: -1\n",
      ", name: \"/device:GPU:0\"\n",
      "device_type: \"GPU\"\n",
      "memory_limit: 6259015680\n",
      "locality {\n",
      "  bus_id: 1\n",
      "  links {\n",
      "  }\n",
      "}\n",
      "incarnation: 3295296738150342701\n",
      "physical_device_desc: \"device: 0, name: NVIDIA GeForce RTX 2080, pci bus id: 0000:01:00.0, compute capability: 7.5\"\n",
      "xla_global_id: 416903419\n",
      "]\n"
     ]
    }
   ],
   "source": [
    "# GPU 작동확인\n",
    "from tensorflow.python.client import device_lib\n",
    "\n",
    "print(device_lib.list_local_devices())"
   ]
  },
  {
   "cell_type": "code",
   "execution_count": 7,
   "id": "f9d460af",
   "metadata": {
    "ExecuteTime": {
     "end_time": "2022-03-31T09:59:30.230069Z",
     "start_time": "2022-03-31T09:59:30.219070Z"
    }
   },
   "outputs": [],
   "source": [
    "# import os\n",
    "# import tensorflow as tf\n",
    "# os.environ['TF_CPP_MIN_LOG_LEVEL']= '2'"
   ]
  },
  {
   "cell_type": "code",
   "execution_count": 8,
   "id": "7ccd547a",
   "metadata": {
    "ExecuteTime": {
     "end_time": "2022-03-31T09:59:31.589787Z",
     "start_time": "2022-03-31T09:59:31.578798Z"
    }
   },
   "outputs": [
    {
     "data": {
      "text/plain": [
       "'/device:GPU:0'"
      ]
     },
     "execution_count": 8,
     "metadata": {},
     "output_type": "execute_result"
    }
   ],
   "source": [
    "import tensorflow as tf\n",
    "tf.test.gpu_device_name()"
   ]
  },
  {
   "cell_type": "code",
   "execution_count": 9,
   "id": "943d3075",
   "metadata": {
    "ExecuteTime": {
     "end_time": "2022-03-31T09:59:33.482612Z",
     "start_time": "2022-03-31T09:59:33.465657Z"
    }
   },
   "outputs": [],
   "source": [
    "# (224,224,3)"
   ]
  },
  {
   "cell_type": "code",
   "execution_count": 10,
   "id": "a4a06abf",
   "metadata": {
    "ExecuteTime": {
     "end_time": "2022-03-31T09:59:33.670647Z",
     "start_time": "2022-03-31T09:59:33.657654Z"
    }
   },
   "outputs": [],
   "source": [
    "import pandas as pd\n",
    "import numpy as np\n",
    "import matplotlib.pyplot as plt\n",
    "import os"
   ]
  },
  {
   "cell_type": "code",
   "execution_count": 11,
   "id": "88371f66",
   "metadata": {
    "ExecuteTime": {
     "end_time": "2022-03-31T09:59:34.513297Z",
     "start_time": "2022-03-31T09:59:34.506352Z"
    }
   },
   "outputs": [],
   "source": [
    "from tensorflow.keras.models import Model, Sequential\n",
    "from tensorflow.keras.layers import Dense, Flatten, Dropout\n",
    "from tensorflow.keras.preprocessing.image import ImageDataGenerator\n",
    "from tensorflow.keras.preprocessing import image_dataset_from_directory\n"
   ]
  },
  {
   "cell_type": "markdown",
   "id": "7b483fb4",
   "metadata": {},
   "source": [
    "## steps_per_epochs, validation_steps 설정\n",
    "n * e = b * s\n",
    "\n",
    "num of sample : 전체 학습할 데이터(training examples)의 개수<br>\n",
    "n = 1회 운동 당 벤치 프레스 목표 개수 (40개)\n",
    "\n",
    "e = epochs: 몇 번 반복할 것인가? 1회<br>\n",
    "<br>\n",
    "\n",
    "b = batch size: 1세트 당 회수. 8개\n",
    "\n",
    "s = steps: 몇 세트로 나누어 할 것인가. 5 세트\n",
    "\n",
    "* steps_per_epoch= train_generator.samples//train_generator.batch_size"
   ]
  },
  {
   "cell_type": "markdown",
   "id": "439690f0",
   "metadata": {},
   "source": [
    "## Resnet50"
   ]
  },
  {
   "cell_type": "code",
   "execution_count": 8,
   "id": "1e1207df",
   "metadata": {
    "ExecuteTime": {
     "end_time": "2022-03-31T07:07:19.301063Z",
     "start_time": "2022-03-31T07:07:19.292138Z"
    }
   },
   "outputs": [],
   "source": [
    "# train \n",
    "train_datagen = ImageDataGenerator(rescale=1./255.)"
   ]
  },
  {
   "cell_type": "code",
   "execution_count": 9,
   "id": "9a4a3556",
   "metadata": {
    "ExecuteTime": {
     "end_time": "2022-03-31T07:07:19.472121Z",
     "start_time": "2022-03-31T07:07:19.434813Z"
    }
   },
   "outputs": [
    {
     "name": "stdout",
     "output_type": "stream",
     "text": [
      "Found 18134 images belonging to 73 classes.\n"
     ]
    }
   ],
   "source": [
    "train_generator = train_datagen.flow_from_directory('./data/smallclass/train',\n",
    "                                      target_size = (224,224),\n",
    "                                      batch_size=20,\n",
    "                                      class_mode='categorical')"
   ]
  },
  {
   "cell_type": "code",
   "execution_count": 10,
   "id": "8d4611dd",
   "metadata": {},
   "outputs": [],
   "source": [
    "# validation\n",
    "val_datagen = ImageDataGenerator(rescale=1./255.)"
   ]
  },
  {
   "cell_type": "code",
   "execution_count": 11,
   "id": "ad3910d9",
   "metadata": {},
   "outputs": [
    {
     "name": "stdout",
     "output_type": "stream",
     "text": [
      "Found 6870 images belonging to 73 classes.\n"
     ]
    }
   ],
   "source": [
    "val_generator = val_datagen.flow_from_directory('./data/smallclass/val',\n",
    "                                      target_size = (224,224),\n",
    "                                      batch_size=20,\n",
    "                                      class_mode='categorical')"
   ]
  },
  {
   "cell_type": "code",
   "execution_count": 12,
   "id": "8763c989",
   "metadata": {
    "ExecuteTime": {
     "end_time": "2022-03-31T07:07:19.582980Z",
     "start_time": "2022-03-31T07:07:19.577983Z"
    }
   },
   "outputs": [],
   "source": [
    "# test\n",
    "test_datagen = ImageDataGenerator(rescale = 1./255)"
   ]
  },
  {
   "cell_type": "code",
   "execution_count": 13,
   "id": "96870935",
   "metadata": {
    "ExecuteTime": {
     "end_time": "2022-03-31T07:07:19.756027Z",
     "start_time": "2022-03-31T07:07:19.737106Z"
    }
   },
   "outputs": [
    {
     "name": "stdout",
     "output_type": "stream",
     "text": [
      "Found 6960 images belonging to 73 classes.\n"
     ]
    }
   ],
   "source": [
    "test_generator = test_datagen.flow_from_directory('./data/smallclass/test',\n",
    "                                       target_size = (224,224),\n",
    "                                       batch_size =20, \n",
    "                                       class_mode = 'categorical')"
   ]
  },
  {
   "cell_type": "code",
   "execution_count": 14,
   "id": "67362bda",
   "metadata": {
    "ExecuteTime": {
     "end_time": "2022-03-31T07:07:21.623233Z",
     "start_time": "2022-03-31T07:07:19.882880Z"
    }
   },
   "outputs": [],
   "source": [
    "from tensorflow.keras.applications import ResNet50\n",
    "with tf.device('/GPU:0'):\n",
    "    Res_model = ResNet50(include_top=False,\n",
    "                                        weights='imagenet',\n",
    "                                        input_shape=(224,224,3)\n",
    "                                         )\n",
    "\n",
    "Res_model.trainable = True"
   ]
  },
  {
   "cell_type": "code",
   "execution_count": 15,
   "id": "99957c95",
   "metadata": {
    "ExecuteTime": {
     "end_time": "2022-03-31T07:07:22.051130Z",
     "start_time": "2022-03-31T07:07:21.658186Z"
    }
   },
   "outputs": [
    {
     "name": "stdout",
     "output_type": "stream",
     "text": [
      "Model: \"resnet50\"\n",
      "__________________________________________________________________________________________________\n",
      " Layer (type)                   Output Shape         Param #     Connected to                     \n",
      "==================================================================================================\n",
      " input_1 (InputLayer)           [(None, 224, 224, 3  0           []                               \n",
      "                                )]                                                                \n",
      "                                                                                                  \n",
      " conv1_pad (ZeroPadding2D)      (None, 230, 230, 3)  0           ['input_1[0][0]']                \n",
      "                                                                                                  \n",
      " conv1_conv (Conv2D)            (None, 112, 112, 64  9472        ['conv1_pad[0][0]']              \n",
      "                                )                                                                 \n",
      "                                                                                                  \n",
      " conv1_bn (BatchNormalization)  (None, 112, 112, 64  256         ['conv1_conv[0][0]']             \n",
      "                                )                                                                 \n",
      "                                                                                                  \n",
      " conv1_relu (Activation)        (None, 112, 112, 64  0           ['conv1_bn[0][0]']               \n",
      "                                )                                                                 \n",
      "                                                                                                  \n",
      " pool1_pad (ZeroPadding2D)      (None, 114, 114, 64  0           ['conv1_relu[0][0]']             \n",
      "                                )                                                                 \n",
      "                                                                                                  \n",
      " pool1_pool (MaxPooling2D)      (None, 56, 56, 64)   0           ['pool1_pad[0][0]']              \n",
      "                                                                                                  \n",
      " conv2_block1_1_conv (Conv2D)   (None, 56, 56, 64)   4160        ['pool1_pool[0][0]']             \n",
      "                                                                                                  \n",
      " conv2_block1_1_bn (BatchNormal  (None, 56, 56, 64)  256         ['conv2_block1_1_conv[0][0]']    \n",
      " ization)                                                                                         \n",
      "                                                                                                  \n",
      " conv2_block1_1_relu (Activatio  (None, 56, 56, 64)  0           ['conv2_block1_1_bn[0][0]']      \n",
      " n)                                                                                               \n",
      "                                                                                                  \n",
      " conv2_block1_2_conv (Conv2D)   (None, 56, 56, 64)   36928       ['conv2_block1_1_relu[0][0]']    \n",
      "                                                                                                  \n",
      " conv2_block1_2_bn (BatchNormal  (None, 56, 56, 64)  256         ['conv2_block1_2_conv[0][0]']    \n",
      " ization)                                                                                         \n",
      "                                                                                                  \n",
      " conv2_block1_2_relu (Activatio  (None, 56, 56, 64)  0           ['conv2_block1_2_bn[0][0]']      \n",
      " n)                                                                                               \n",
      "                                                                                                  \n",
      " conv2_block1_0_conv (Conv2D)   (None, 56, 56, 256)  16640       ['pool1_pool[0][0]']             \n",
      "                                                                                                  \n",
      " conv2_block1_3_conv (Conv2D)   (None, 56, 56, 256)  16640       ['conv2_block1_2_relu[0][0]']    \n",
      "                                                                                                  \n",
      " conv2_block1_0_bn (BatchNormal  (None, 56, 56, 256)  1024       ['conv2_block1_0_conv[0][0]']    \n",
      " ization)                                                                                         \n",
      "                                                                                                  \n",
      " conv2_block1_3_bn (BatchNormal  (None, 56, 56, 256)  1024       ['conv2_block1_3_conv[0][0]']    \n",
      " ization)                                                                                         \n",
      "                                                                                                  \n",
      " conv2_block1_add (Add)         (None, 56, 56, 256)  0           ['conv2_block1_0_bn[0][0]',      \n",
      "                                                                  'conv2_block1_3_bn[0][0]']      \n",
      "                                                                                                  \n",
      " conv2_block1_out (Activation)  (None, 56, 56, 256)  0           ['conv2_block1_add[0][0]']       \n",
      "                                                                                                  \n",
      " conv2_block2_1_conv (Conv2D)   (None, 56, 56, 64)   16448       ['conv2_block1_out[0][0]']       \n",
      "                                                                                                  \n",
      " conv2_block2_1_bn (BatchNormal  (None, 56, 56, 64)  256         ['conv2_block2_1_conv[0][0]']    \n",
      " ization)                                                                                         \n",
      "                                                                                                  \n",
      " conv2_block2_1_relu (Activatio  (None, 56, 56, 64)  0           ['conv2_block2_1_bn[0][0]']      \n",
      " n)                                                                                               \n",
      "                                                                                                  \n",
      " conv2_block2_2_conv (Conv2D)   (None, 56, 56, 64)   36928       ['conv2_block2_1_relu[0][0]']    \n",
      "                                                                                                  \n",
      " conv2_block2_2_bn (BatchNormal  (None, 56, 56, 64)  256         ['conv2_block2_2_conv[0][0]']    \n",
      " ization)                                                                                         \n",
      "                                                                                                  \n",
      " conv2_block2_2_relu (Activatio  (None, 56, 56, 64)  0           ['conv2_block2_2_bn[0][0]']      \n",
      " n)                                                                                               \n",
      "                                                                                                  \n",
      " conv2_block2_3_conv (Conv2D)   (None, 56, 56, 256)  16640       ['conv2_block2_2_relu[0][0]']    \n",
      "                                                                                                  \n",
      " conv2_block2_3_bn (BatchNormal  (None, 56, 56, 256)  1024       ['conv2_block2_3_conv[0][0]']    \n",
      " ization)                                                                                         \n",
      "                                                                                                  \n",
      " conv2_block2_add (Add)         (None, 56, 56, 256)  0           ['conv2_block1_out[0][0]',       \n",
      "                                                                  'conv2_block2_3_bn[0][0]']      \n",
      "                                                                                                  \n",
      " conv2_block2_out (Activation)  (None, 56, 56, 256)  0           ['conv2_block2_add[0][0]']       \n",
      "                                                                                                  \n",
      " conv2_block3_1_conv (Conv2D)   (None, 56, 56, 64)   16448       ['conv2_block2_out[0][0]']       \n",
      "                                                                                                  \n",
      " conv2_block3_1_bn (BatchNormal  (None, 56, 56, 64)  256         ['conv2_block3_1_conv[0][0]']    \n",
      " ization)                                                                                         \n"
     ]
    },
    {
     "name": "stdout",
     "output_type": "stream",
     "text": [
      "                                                                                                  \n",
      " conv2_block3_1_relu (Activatio  (None, 56, 56, 64)  0           ['conv2_block3_1_bn[0][0]']      \n",
      " n)                                                                                               \n",
      "                                                                                                  \n",
      " conv2_block3_2_conv (Conv2D)   (None, 56, 56, 64)   36928       ['conv2_block3_1_relu[0][0]']    \n",
      "                                                                                                  \n",
      " conv2_block3_2_bn (BatchNormal  (None, 56, 56, 64)  256         ['conv2_block3_2_conv[0][0]']    \n",
      " ization)                                                                                         \n",
      "                                                                                                  \n",
      " conv2_block3_2_relu (Activatio  (None, 56, 56, 64)  0           ['conv2_block3_2_bn[0][0]']      \n",
      " n)                                                                                               \n",
      "                                                                                                  \n",
      " conv2_block3_3_conv (Conv2D)   (None, 56, 56, 256)  16640       ['conv2_block3_2_relu[0][0]']    \n",
      "                                                                                                  \n",
      " conv2_block3_3_bn (BatchNormal  (None, 56, 56, 256)  1024       ['conv2_block3_3_conv[0][0]']    \n",
      " ization)                                                                                         \n",
      "                                                                                                  \n",
      " conv2_block3_add (Add)         (None, 56, 56, 256)  0           ['conv2_block2_out[0][0]',       \n",
      "                                                                  'conv2_block3_3_bn[0][0]']      \n",
      "                                                                                                  \n",
      " conv2_block3_out (Activation)  (None, 56, 56, 256)  0           ['conv2_block3_add[0][0]']       \n",
      "                                                                                                  \n",
      " conv3_block1_1_conv (Conv2D)   (None, 28, 28, 128)  32896       ['conv2_block3_out[0][0]']       \n",
      "                                                                                                  \n",
      " conv3_block1_1_bn (BatchNormal  (None, 28, 28, 128)  512        ['conv3_block1_1_conv[0][0]']    \n",
      " ization)                                                                                         \n",
      "                                                                                                  \n",
      " conv3_block1_1_relu (Activatio  (None, 28, 28, 128)  0          ['conv3_block1_1_bn[0][0]']      \n",
      " n)                                                                                               \n",
      "                                                                                                  \n",
      " conv3_block1_2_conv (Conv2D)   (None, 28, 28, 128)  147584      ['conv3_block1_1_relu[0][0]']    \n",
      "                                                                                                  \n",
      " conv3_block1_2_bn (BatchNormal  (None, 28, 28, 128)  512        ['conv3_block1_2_conv[0][0]']    \n",
      " ization)                                                                                         \n",
      "                                                                                                  \n",
      " conv3_block1_2_relu (Activatio  (None, 28, 28, 128)  0          ['conv3_block1_2_bn[0][0]']      \n",
      " n)                                                                                               \n",
      "                                                                                                  \n",
      " conv3_block1_0_conv (Conv2D)   (None, 28, 28, 512)  131584      ['conv2_block3_out[0][0]']       \n",
      "                                                                                                  \n",
      " conv3_block1_3_conv (Conv2D)   (None, 28, 28, 512)  66048       ['conv3_block1_2_relu[0][0]']    \n",
      "                                                                                                  \n",
      " conv3_block1_0_bn (BatchNormal  (None, 28, 28, 512)  2048       ['conv3_block1_0_conv[0][0]']    \n",
      " ization)                                                                                         \n",
      "                                                                                                  \n",
      " conv3_block1_3_bn (BatchNormal  (None, 28, 28, 512)  2048       ['conv3_block1_3_conv[0][0]']    \n",
      " ization)                                                                                         \n",
      "                                                                                                  \n",
      " conv3_block1_add (Add)         (None, 28, 28, 512)  0           ['conv3_block1_0_bn[0][0]',      \n",
      "                                                                  'conv3_block1_3_bn[0][0]']      \n",
      "                                                                                                  \n",
      " conv3_block1_out (Activation)  (None, 28, 28, 512)  0           ['conv3_block1_add[0][0]']       \n",
      "                                                                                                  \n",
      " conv3_block2_1_conv (Conv2D)   (None, 28, 28, 128)  65664       ['conv3_block1_out[0][0]']       \n",
      "                                                                                                  \n",
      " conv3_block2_1_bn (BatchNormal  (None, 28, 28, 128)  512        ['conv3_block2_1_conv[0][0]']    \n",
      " ization)                                                                                         \n",
      "                                                                                                  \n",
      " conv3_block2_1_relu (Activatio  (None, 28, 28, 128)  0          ['conv3_block2_1_bn[0][0]']      \n",
      " n)                                                                                               \n",
      "                                                                                                  \n",
      " conv3_block2_2_conv (Conv2D)   (None, 28, 28, 128)  147584      ['conv3_block2_1_relu[0][0]']    \n",
      "                                                                                                  \n",
      " conv3_block2_2_bn (BatchNormal  (None, 28, 28, 128)  512        ['conv3_block2_2_conv[0][0]']    \n",
      " ization)                                                                                         \n",
      "                                                                                                  \n",
      " conv3_block2_2_relu (Activatio  (None, 28, 28, 128)  0          ['conv3_block2_2_bn[0][0]']      \n",
      " n)                                                                                               \n",
      "                                                                                                  \n",
      " conv3_block2_3_conv (Conv2D)   (None, 28, 28, 512)  66048       ['conv3_block2_2_relu[0][0]']    \n",
      "                                                                                                  \n",
      " conv3_block2_3_bn (BatchNormal  (None, 28, 28, 512)  2048       ['conv3_block2_3_conv[0][0]']    \n",
      " ization)                                                                                         \n",
      "                                                                                                  \n",
      " conv3_block2_add (Add)         (None, 28, 28, 512)  0           ['conv3_block1_out[0][0]',       \n",
      "                                                                  'conv3_block2_3_bn[0][0]']      \n",
      "                                                                                                  \n",
      " conv3_block2_out (Activation)  (None, 28, 28, 512)  0           ['conv3_block2_add[0][0]']       \n",
      "                                                                                                  \n",
      " conv3_block3_1_conv (Conv2D)   (None, 28, 28, 128)  65664       ['conv3_block2_out[0][0]']       \n",
      "                                                                                                  \n",
      " conv3_block3_1_bn (BatchNormal  (None, 28, 28, 128)  512        ['conv3_block3_1_conv[0][0]']    \n",
      " ization)                                                                                         \n"
     ]
    },
    {
     "name": "stdout",
     "output_type": "stream",
     "text": [
      "                                                                                                  \n",
      " conv3_block3_1_relu (Activatio  (None, 28, 28, 128)  0          ['conv3_block3_1_bn[0][0]']      \n",
      " n)                                                                                               \n",
      "                                                                                                  \n",
      " conv3_block3_2_conv (Conv2D)   (None, 28, 28, 128)  147584      ['conv3_block3_1_relu[0][0]']    \n",
      "                                                                                                  \n",
      " conv3_block3_2_bn (BatchNormal  (None, 28, 28, 128)  512        ['conv3_block3_2_conv[0][0]']    \n",
      " ization)                                                                                         \n",
      "                                                                                                  \n",
      " conv3_block3_2_relu (Activatio  (None, 28, 28, 128)  0          ['conv3_block3_2_bn[0][0]']      \n",
      " n)                                                                                               \n",
      "                                                                                                  \n",
      " conv3_block3_3_conv (Conv2D)   (None, 28, 28, 512)  66048       ['conv3_block3_2_relu[0][0]']    \n",
      "                                                                                                  \n",
      " conv3_block3_3_bn (BatchNormal  (None, 28, 28, 512)  2048       ['conv3_block3_3_conv[0][0]']    \n",
      " ization)                                                                                         \n",
      "                                                                                                  \n",
      " conv3_block3_add (Add)         (None, 28, 28, 512)  0           ['conv3_block2_out[0][0]',       \n",
      "                                                                  'conv3_block3_3_bn[0][0]']      \n",
      "                                                                                                  \n",
      " conv3_block3_out (Activation)  (None, 28, 28, 512)  0           ['conv3_block3_add[0][0]']       \n",
      "                                                                                                  \n",
      " conv3_block4_1_conv (Conv2D)   (None, 28, 28, 128)  65664       ['conv3_block3_out[0][0]']       \n",
      "                                                                                                  \n",
      " conv3_block4_1_bn (BatchNormal  (None, 28, 28, 128)  512        ['conv3_block4_1_conv[0][0]']    \n",
      " ization)                                                                                         \n",
      "                                                                                                  \n",
      " conv3_block4_1_relu (Activatio  (None, 28, 28, 128)  0          ['conv3_block4_1_bn[0][0]']      \n",
      " n)                                                                                               \n",
      "                                                                                                  \n",
      " conv3_block4_2_conv (Conv2D)   (None, 28, 28, 128)  147584      ['conv3_block4_1_relu[0][0]']    \n",
      "                                                                                                  \n",
      " conv3_block4_2_bn (BatchNormal  (None, 28, 28, 128)  512        ['conv3_block4_2_conv[0][0]']    \n",
      " ization)                                                                                         \n",
      "                                                                                                  \n",
      " conv3_block4_2_relu (Activatio  (None, 28, 28, 128)  0          ['conv3_block4_2_bn[0][0]']      \n",
      " n)                                                                                               \n",
      "                                                                                                  \n",
      " conv3_block4_3_conv (Conv2D)   (None, 28, 28, 512)  66048       ['conv3_block4_2_relu[0][0]']    \n",
      "                                                                                                  \n",
      " conv3_block4_3_bn (BatchNormal  (None, 28, 28, 512)  2048       ['conv3_block4_3_conv[0][0]']    \n",
      " ization)                                                                                         \n",
      "                                                                                                  \n",
      " conv3_block4_add (Add)         (None, 28, 28, 512)  0           ['conv3_block3_out[0][0]',       \n",
      "                                                                  'conv3_block4_3_bn[0][0]']      \n",
      "                                                                                                  \n",
      " conv3_block4_out (Activation)  (None, 28, 28, 512)  0           ['conv3_block4_add[0][0]']       \n",
      "                                                                                                  \n",
      " conv4_block1_1_conv (Conv2D)   (None, 14, 14, 256)  131328      ['conv3_block4_out[0][0]']       \n",
      "                                                                                                  \n",
      " conv4_block1_1_bn (BatchNormal  (None, 14, 14, 256)  1024       ['conv4_block1_1_conv[0][0]']    \n",
      " ization)                                                                                         \n",
      "                                                                                                  \n",
      " conv4_block1_1_relu (Activatio  (None, 14, 14, 256)  0          ['conv4_block1_1_bn[0][0]']      \n",
      " n)                                                                                               \n",
      "                                                                                                  \n",
      " conv4_block1_2_conv (Conv2D)   (None, 14, 14, 256)  590080      ['conv4_block1_1_relu[0][0]']    \n",
      "                                                                                                  \n",
      " conv4_block1_2_bn (BatchNormal  (None, 14, 14, 256)  1024       ['conv4_block1_2_conv[0][0]']    \n",
      " ization)                                                                                         \n",
      "                                                                                                  \n",
      " conv4_block1_2_relu (Activatio  (None, 14, 14, 256)  0          ['conv4_block1_2_bn[0][0]']      \n",
      " n)                                                                                               \n",
      "                                                                                                  \n",
      " conv4_block1_0_conv (Conv2D)   (None, 14, 14, 1024  525312      ['conv3_block4_out[0][0]']       \n",
      "                                )                                                                 \n",
      "                                                                                                  \n",
      " conv4_block1_3_conv (Conv2D)   (None, 14, 14, 1024  263168      ['conv4_block1_2_relu[0][0]']    \n",
      "                                )                                                                 \n",
      "                                                                                                  \n",
      " conv4_block1_0_bn (BatchNormal  (None, 14, 14, 1024  4096       ['conv4_block1_0_conv[0][0]']    \n",
      " ization)                       )                                                                 \n",
      "                                                                                                  \n",
      " conv4_block1_3_bn (BatchNormal  (None, 14, 14, 1024  4096       ['conv4_block1_3_conv[0][0]']    \n",
      " ization)                       )                                                                 \n",
      "                                                                                                  \n",
      " conv4_block1_add (Add)         (None, 14, 14, 1024  0           ['conv4_block1_0_bn[0][0]',      \n",
      "                                )                                 'conv4_block1_3_bn[0][0]']      \n",
      "                                                                                                  \n",
      " conv4_block1_out (Activation)  (None, 14, 14, 1024  0           ['conv4_block1_add[0][0]']       \n",
      "                                )                                                                 \n",
      "                                                                                                  \n",
      " conv4_block2_1_conv (Conv2D)   (None, 14, 14, 256)  262400      ['conv4_block1_out[0][0]']       \n"
     ]
    },
    {
     "name": "stdout",
     "output_type": "stream",
     "text": [
      "                                                                                                  \n",
      " conv4_block2_1_bn (BatchNormal  (None, 14, 14, 256)  1024       ['conv4_block2_1_conv[0][0]']    \n",
      " ization)                                                                                         \n",
      "                                                                                                  \n",
      " conv4_block2_1_relu (Activatio  (None, 14, 14, 256)  0          ['conv4_block2_1_bn[0][0]']      \n",
      " n)                                                                                               \n",
      "                                                                                                  \n",
      " conv4_block2_2_conv (Conv2D)   (None, 14, 14, 256)  590080      ['conv4_block2_1_relu[0][0]']    \n",
      "                                                                                                  \n",
      " conv4_block2_2_bn (BatchNormal  (None, 14, 14, 256)  1024       ['conv4_block2_2_conv[0][0]']    \n",
      " ization)                                                                                         \n",
      "                                                                                                  \n",
      " conv4_block2_2_relu (Activatio  (None, 14, 14, 256)  0          ['conv4_block2_2_bn[0][0]']      \n",
      " n)                                                                                               \n",
      "                                                                                                  \n",
      " conv4_block2_3_conv (Conv2D)   (None, 14, 14, 1024  263168      ['conv4_block2_2_relu[0][0]']    \n",
      "                                )                                                                 \n",
      "                                                                                                  \n",
      " conv4_block2_3_bn (BatchNormal  (None, 14, 14, 1024  4096       ['conv4_block2_3_conv[0][0]']    \n",
      " ization)                       )                                                                 \n",
      "                                                                                                  \n",
      " conv4_block2_add (Add)         (None, 14, 14, 1024  0           ['conv4_block1_out[0][0]',       \n",
      "                                )                                 'conv4_block2_3_bn[0][0]']      \n",
      "                                                                                                  \n",
      " conv4_block2_out (Activation)  (None, 14, 14, 1024  0           ['conv4_block2_add[0][0]']       \n",
      "                                )                                                                 \n",
      "                                                                                                  \n",
      " conv4_block3_1_conv (Conv2D)   (None, 14, 14, 256)  262400      ['conv4_block2_out[0][0]']       \n",
      "                                                                                                  \n",
      " conv4_block3_1_bn (BatchNormal  (None, 14, 14, 256)  1024       ['conv4_block3_1_conv[0][0]']    \n",
      " ization)                                                                                         \n",
      "                                                                                                  \n",
      " conv4_block3_1_relu (Activatio  (None, 14, 14, 256)  0          ['conv4_block3_1_bn[0][0]']      \n",
      " n)                                                                                               \n",
      "                                                                                                  \n",
      " conv4_block3_2_conv (Conv2D)   (None, 14, 14, 256)  590080      ['conv4_block3_1_relu[0][0]']    \n",
      "                                                                                                  \n",
      " conv4_block3_2_bn (BatchNormal  (None, 14, 14, 256)  1024       ['conv4_block3_2_conv[0][0]']    \n",
      " ization)                                                                                         \n",
      "                                                                                                  \n",
      " conv4_block3_2_relu (Activatio  (None, 14, 14, 256)  0          ['conv4_block3_2_bn[0][0]']      \n",
      " n)                                                                                               \n",
      "                                                                                                  \n",
      " conv4_block3_3_conv (Conv2D)   (None, 14, 14, 1024  263168      ['conv4_block3_2_relu[0][0]']    \n",
      "                                )                                                                 \n",
      "                                                                                                  \n",
      " conv4_block3_3_bn (BatchNormal  (None, 14, 14, 1024  4096       ['conv4_block3_3_conv[0][0]']    \n",
      " ization)                       )                                                                 \n",
      "                                                                                                  \n",
      " conv4_block3_add (Add)         (None, 14, 14, 1024  0           ['conv4_block2_out[0][0]',       \n",
      "                                )                                 'conv4_block3_3_bn[0][0]']      \n",
      "                                                                                                  \n",
      " conv4_block3_out (Activation)  (None, 14, 14, 1024  0           ['conv4_block3_add[0][0]']       \n",
      "                                )                                                                 \n",
      "                                                                                                  \n",
      " conv4_block4_1_conv (Conv2D)   (None, 14, 14, 256)  262400      ['conv4_block3_out[0][0]']       \n",
      "                                                                                                  \n",
      " conv4_block4_1_bn (BatchNormal  (None, 14, 14, 256)  1024       ['conv4_block4_1_conv[0][0]']    \n",
      " ization)                                                                                         \n",
      "                                                                                                  \n",
      " conv4_block4_1_relu (Activatio  (None, 14, 14, 256)  0          ['conv4_block4_1_bn[0][0]']      \n",
      " n)                                                                                               \n",
      "                                                                                                  \n",
      " conv4_block4_2_conv (Conv2D)   (None, 14, 14, 256)  590080      ['conv4_block4_1_relu[0][0]']    \n",
      "                                                                                                  \n",
      " conv4_block4_2_bn (BatchNormal  (None, 14, 14, 256)  1024       ['conv4_block4_2_conv[0][0]']    \n",
      " ization)                                                                                         \n",
      "                                                                                                  \n",
      " conv4_block4_2_relu (Activatio  (None, 14, 14, 256)  0          ['conv4_block4_2_bn[0][0]']      \n",
      " n)                                                                                               \n",
      "                                                                                                  \n",
      " conv4_block4_3_conv (Conv2D)   (None, 14, 14, 1024  263168      ['conv4_block4_2_relu[0][0]']    \n",
      "                                )                                                                 \n",
      "                                                                                                  \n",
      " conv4_block4_3_bn (BatchNormal  (None, 14, 14, 1024  4096       ['conv4_block4_3_conv[0][0]']    \n",
      " ization)                       )                                                                 \n",
      "                                                                                                  \n",
      " conv4_block4_add (Add)         (None, 14, 14, 1024  0           ['conv4_block3_out[0][0]',       \n",
      "                                )                                 'conv4_block4_3_bn[0][0]']      \n",
      "                                                                                                  \n",
      " conv4_block4_out (Activation)  (None, 14, 14, 1024  0           ['conv4_block4_add[0][0]']       \n",
      "                                )                                                                 \n",
      "                                                                                                  \n"
     ]
    },
    {
     "name": "stdout",
     "output_type": "stream",
     "text": [
      " conv4_block5_1_conv (Conv2D)   (None, 14, 14, 256)  262400      ['conv4_block4_out[0][0]']       \n",
      "                                                                                                  \n",
      " conv4_block5_1_bn (BatchNormal  (None, 14, 14, 256)  1024       ['conv4_block5_1_conv[0][0]']    \n",
      " ization)                                                                                         \n",
      "                                                                                                  \n",
      " conv4_block5_1_relu (Activatio  (None, 14, 14, 256)  0          ['conv4_block5_1_bn[0][0]']      \n",
      " n)                                                                                               \n",
      "                                                                                                  \n",
      " conv4_block5_2_conv (Conv2D)   (None, 14, 14, 256)  590080      ['conv4_block5_1_relu[0][0]']    \n",
      "                                                                                                  \n",
      " conv4_block5_2_bn (BatchNormal  (None, 14, 14, 256)  1024       ['conv4_block5_2_conv[0][0]']    \n",
      " ization)                                                                                         \n",
      "                                                                                                  \n",
      " conv4_block5_2_relu (Activatio  (None, 14, 14, 256)  0          ['conv4_block5_2_bn[0][0]']      \n",
      " n)                                                                                               \n",
      "                                                                                                  \n",
      " conv4_block5_3_conv (Conv2D)   (None, 14, 14, 1024  263168      ['conv4_block5_2_relu[0][0]']    \n",
      "                                )                                                                 \n",
      "                                                                                                  \n",
      " conv4_block5_3_bn (BatchNormal  (None, 14, 14, 1024  4096       ['conv4_block5_3_conv[0][0]']    \n",
      " ization)                       )                                                                 \n",
      "                                                                                                  \n",
      " conv4_block5_add (Add)         (None, 14, 14, 1024  0           ['conv4_block4_out[0][0]',       \n",
      "                                )                                 'conv4_block5_3_bn[0][0]']      \n",
      "                                                                                                  \n",
      " conv4_block5_out (Activation)  (None, 14, 14, 1024  0           ['conv4_block5_add[0][0]']       \n",
      "                                )                                                                 \n",
      "                                                                                                  \n",
      " conv4_block6_1_conv (Conv2D)   (None, 14, 14, 256)  262400      ['conv4_block5_out[0][0]']       \n",
      "                                                                                                  \n",
      " conv4_block6_1_bn (BatchNormal  (None, 14, 14, 256)  1024       ['conv4_block6_1_conv[0][0]']    \n",
      " ization)                                                                                         \n",
      "                                                                                                  \n",
      " conv4_block6_1_relu (Activatio  (None, 14, 14, 256)  0          ['conv4_block6_1_bn[0][0]']      \n",
      " n)                                                                                               \n",
      "                                                                                                  \n",
      " conv4_block6_2_conv (Conv2D)   (None, 14, 14, 256)  590080      ['conv4_block6_1_relu[0][0]']    \n",
      "                                                                                                  \n",
      " conv4_block6_2_bn (BatchNormal  (None, 14, 14, 256)  1024       ['conv4_block6_2_conv[0][0]']    \n",
      " ization)                                                                                         \n",
      "                                                                                                  \n",
      " conv4_block6_2_relu (Activatio  (None, 14, 14, 256)  0          ['conv4_block6_2_bn[0][0]']      \n",
      " n)                                                                                               \n",
      "                                                                                                  \n",
      " conv4_block6_3_conv (Conv2D)   (None, 14, 14, 1024  263168      ['conv4_block6_2_relu[0][0]']    \n",
      "                                )                                                                 \n",
      "                                                                                                  \n",
      " conv4_block6_3_bn (BatchNormal  (None, 14, 14, 1024  4096       ['conv4_block6_3_conv[0][0]']    \n",
      " ization)                       )                                                                 \n",
      "                                                                                                  \n",
      " conv4_block6_add (Add)         (None, 14, 14, 1024  0           ['conv4_block5_out[0][0]',       \n",
      "                                )                                 'conv4_block6_3_bn[0][0]']      \n",
      "                                                                                                  \n",
      " conv4_block6_out (Activation)  (None, 14, 14, 1024  0           ['conv4_block6_add[0][0]']       \n",
      "                                )                                                                 \n",
      "                                                                                                  \n",
      " conv5_block1_1_conv (Conv2D)   (None, 7, 7, 512)    524800      ['conv4_block6_out[0][0]']       \n",
      "                                                                                                  \n",
      " conv5_block1_1_bn (BatchNormal  (None, 7, 7, 512)   2048        ['conv5_block1_1_conv[0][0]']    \n",
      " ization)                                                                                         \n",
      "                                                                                                  \n",
      " conv5_block1_1_relu (Activatio  (None, 7, 7, 512)   0           ['conv5_block1_1_bn[0][0]']      \n",
      " n)                                                                                               \n",
      "                                                                                                  \n",
      " conv5_block1_2_conv (Conv2D)   (None, 7, 7, 512)    2359808     ['conv5_block1_1_relu[0][0]']    \n",
      "                                                                                                  \n",
      " conv5_block1_2_bn (BatchNormal  (None, 7, 7, 512)   2048        ['conv5_block1_2_conv[0][0]']    \n",
      " ization)                                                                                         \n",
      "                                                                                                  \n",
      " conv5_block1_2_relu (Activatio  (None, 7, 7, 512)   0           ['conv5_block1_2_bn[0][0]']      \n",
      " n)                                                                                               \n",
      "                                                                                                  \n",
      " conv5_block1_0_conv (Conv2D)   (None, 7, 7, 2048)   2099200     ['conv4_block6_out[0][0]']       \n",
      "                                                                                                  \n",
      " conv5_block1_3_conv (Conv2D)   (None, 7, 7, 2048)   1050624     ['conv5_block1_2_relu[0][0]']    \n",
      "                                                                                                  \n",
      " conv5_block1_0_bn (BatchNormal  (None, 7, 7, 2048)  8192        ['conv5_block1_0_conv[0][0]']    \n",
      " ization)                                                                                         \n",
      "                                                                                                  \n",
      " conv5_block1_3_bn (BatchNormal  (None, 7, 7, 2048)  8192        ['conv5_block1_3_conv[0][0]']    \n",
      " ization)                                                                                         \n",
      "                                                                                                  \n",
      " conv5_block1_add (Add)         (None, 7, 7, 2048)   0           ['conv5_block1_0_bn[0][0]',      \n"
     ]
    },
    {
     "name": "stdout",
     "output_type": "stream",
     "text": [
      "                                                                  'conv5_block1_3_bn[0][0]']      \n",
      "                                                                                                  \n",
      " conv5_block1_out (Activation)  (None, 7, 7, 2048)   0           ['conv5_block1_add[0][0]']       \n",
      "                                                                                                  \n",
      " conv5_block2_1_conv (Conv2D)   (None, 7, 7, 512)    1049088     ['conv5_block1_out[0][0]']       \n",
      "                                                                                                  \n",
      " conv5_block2_1_bn (BatchNormal  (None, 7, 7, 512)   2048        ['conv5_block2_1_conv[0][0]']    \n",
      " ization)                                                                                         \n",
      "                                                                                                  \n",
      " conv5_block2_1_relu (Activatio  (None, 7, 7, 512)   0           ['conv5_block2_1_bn[0][0]']      \n",
      " n)                                                                                               \n",
      "                                                                                                  \n",
      " conv5_block2_2_conv (Conv2D)   (None, 7, 7, 512)    2359808     ['conv5_block2_1_relu[0][0]']    \n",
      "                                                                                                  \n",
      " conv5_block2_2_bn (BatchNormal  (None, 7, 7, 512)   2048        ['conv5_block2_2_conv[0][0]']    \n",
      " ization)                                                                                         \n",
      "                                                                                                  \n",
      " conv5_block2_2_relu (Activatio  (None, 7, 7, 512)   0           ['conv5_block2_2_bn[0][0]']      \n",
      " n)                                                                                               \n",
      "                                                                                                  \n",
      " conv5_block2_3_conv (Conv2D)   (None, 7, 7, 2048)   1050624     ['conv5_block2_2_relu[0][0]']    \n",
      "                                                                                                  \n",
      " conv5_block2_3_bn (BatchNormal  (None, 7, 7, 2048)  8192        ['conv5_block2_3_conv[0][0]']    \n",
      " ization)                                                                                         \n",
      "                                                                                                  \n",
      " conv5_block2_add (Add)         (None, 7, 7, 2048)   0           ['conv5_block1_out[0][0]',       \n",
      "                                                                  'conv5_block2_3_bn[0][0]']      \n",
      "                                                                                                  \n",
      " conv5_block2_out (Activation)  (None, 7, 7, 2048)   0           ['conv5_block2_add[0][0]']       \n",
      "                                                                                                  \n",
      " conv5_block3_1_conv (Conv2D)   (None, 7, 7, 512)    1049088     ['conv5_block2_out[0][0]']       \n",
      "                                                                                                  \n",
      " conv5_block3_1_bn (BatchNormal  (None, 7, 7, 512)   2048        ['conv5_block3_1_conv[0][0]']    \n",
      " ization)                                                                                         \n",
      "                                                                                                  \n",
      " conv5_block3_1_relu (Activatio  (None, 7, 7, 512)   0           ['conv5_block3_1_bn[0][0]']      \n",
      " n)                                                                                               \n",
      "                                                                                                  \n",
      " conv5_block3_2_conv (Conv2D)   (None, 7, 7, 512)    2359808     ['conv5_block3_1_relu[0][0]']    \n",
      "                                                                                                  \n",
      " conv5_block3_2_bn (BatchNormal  (None, 7, 7, 512)   2048        ['conv5_block3_2_conv[0][0]']    \n",
      " ization)                                                                                         \n",
      "                                                                                                  \n",
      " conv5_block3_2_relu (Activatio  (None, 7, 7, 512)   0           ['conv5_block3_2_bn[0][0]']      \n",
      " n)                                                                                               \n",
      "                                                                                                  \n",
      " conv5_block3_3_conv (Conv2D)   (None, 7, 7, 2048)   1050624     ['conv5_block3_2_relu[0][0]']    \n",
      "                                                                                                  \n",
      " conv5_block3_3_bn (BatchNormal  (None, 7, 7, 2048)  8192        ['conv5_block3_3_conv[0][0]']    \n",
      " ization)                                                                                         \n",
      "                                                                                                  \n",
      " conv5_block3_add (Add)         (None, 7, 7, 2048)   0           ['conv5_block2_out[0][0]',       \n",
      "                                                                  'conv5_block3_3_bn[0][0]']      \n",
      "                                                                                                  \n",
      " conv5_block3_out (Activation)  (None, 7, 7, 2048)   0           ['conv5_block3_add[0][0]']       \n",
      "                                                                                                  \n",
      "==================================================================================================\n",
      "Total params: 23,587,712\n",
      "Trainable params: 23,534,592\n",
      "Non-trainable params: 53,120\n",
      "__________________________________________________________________________________________________\n"
     ]
    }
   ],
   "source": [
    "Res_model.summary()"
   ]
  },
  {
   "cell_type": "code",
   "execution_count": 16,
   "id": "b59c1e6c",
   "metadata": {
    "ExecuteTime": {
     "end_time": "2022-03-31T07:07:22.654087Z",
     "start_time": "2022-03-31T07:07:22.084042Z"
    }
   },
   "outputs": [
    {
     "name": "stdout",
     "output_type": "stream",
     "text": [
      "Model: \"sequential\"\n",
      "_________________________________________________________________\n",
      " Layer (type)                Output Shape              Param #   \n",
      "=================================================================\n",
      " resnet50 (Functional)       (None, 7, 7, 2048)        23587712  \n",
      "                                                                 \n",
      " flatten (Flatten)           (None, 100352)            0         \n",
      "                                                                 \n",
      " dense (Dense)               (None, 200)               20070600  \n",
      "                                                                 \n",
      " dense_1 (Dense)             (None, 100)               20100     \n",
      "                                                                 \n",
      " dense_2 (Dense)             (None, 73)                7373      \n",
      "                                                                 \n",
      "=================================================================\n",
      "Total params: 43,685,785\n",
      "Trainable params: 43,632,665\n",
      "Non-trainable params: 53,120\n",
      "_________________________________________________________________\n"
     ]
    }
   ],
   "source": [
    "res1_model = Sequential()\n",
    "res1_model.add(Res_model)\n",
    "res1_model.add(Flatten())\n",
    "res1_model.add(Dense(200, activation='relu'))\n",
    "res1_model.add(Dense(100, activation='relu'))\n",
    "res1_model.add(Dense(73, activation='softmax'))\n",
    "res1_model.summary()"
   ]
  },
  {
   "cell_type": "code",
   "execution_count": 17,
   "id": "e603936a",
   "metadata": {
    "ExecuteTime": {
     "end_time": "2022-03-31T07:07:22.700414Z",
     "start_time": "2022-03-31T07:07:22.686624Z"
    }
   },
   "outputs": [],
   "source": [
    "res1_model.compile(loss='categorical_crossentropy',metrics=['accuracy'],optimizer='adam')"
   ]
  },
  {
   "cell_type": "code",
   "execution_count": 18,
   "id": "88fb514f",
   "metadata": {
    "ExecuteTime": {
     "end_time": "2022-03-31T07:07:22.747213Z",
     "start_time": "2022-03-31T07:07:22.732293Z"
    }
   },
   "outputs": [],
   "source": [
    "# callback 생성하기\n",
    "import os\n",
    "import keras\n",
    "cur_dir = os.getcwd()\n",
    "ckpt_dir = 'checkpoints' # weight를 저장할 디렉토리\n",
    "file_name = 'res_smallclass_weights.ckpt'\n",
    "\n",
    "ckpt_path = os.path.join(cur_dir, 'callback_efficientnet')\n",
    "os.makedirs(ckpt_path, exist_ok=True)\n",
    "\n",
    "ckpt_filepath = os.path.join(ckpt_path, 'res1_smallclass_{epoch}' )\n",
    "\n",
    "ckpt_callback = keras.callbacks.ModelCheckpoint(filepath = ckpt_filepath, \n",
    "                                               save_weights_only=False) # True weight만 , False 모델까지\n",
    "# early stopping callback\n",
    "early_stop_callback = keras.callbacks.EarlyStopping(monitor='val_loss',patience=10)"
   ]
  },
  {
   "cell_type": "code",
   "execution_count": 19,
   "id": "06f4134e",
   "metadata": {},
   "outputs": [
    {
     "data": {
      "text/plain": [
       "18134"
      ]
     },
     "execution_count": 19,
     "metadata": {},
     "output_type": "execute_result"
    }
   ],
   "source": [
    "train_generator.samples"
   ]
  },
  {
   "cell_type": "code",
   "execution_count": 20,
   "id": "39dedbfc",
   "metadata": {},
   "outputs": [
    {
     "data": {
      "text/plain": [
       "20"
      ]
     },
     "execution_count": 20,
     "metadata": {},
     "output_type": "execute_result"
    }
   ],
   "source": [
    "train_generator.batch_size"
   ]
  },
  {
   "cell_type": "code",
   "execution_count": 21,
   "id": "ffabfead",
   "metadata": {},
   "outputs": [
    {
     "data": {
      "text/plain": [
       "<keras.preprocessing.image.DirectoryIterator at 0x2137afaf850>"
      ]
     },
     "execution_count": 21,
     "metadata": {},
     "output_type": "execute_result"
    }
   ],
   "source": [
    "train_generator"
   ]
  },
  {
   "cell_type": "code",
   "execution_count": 22,
   "id": "af1475ff",
   "metadata": {},
   "outputs": [],
   "source": [
    "from tensorflow.keras.preprocessing.image import load_img\n",
    "from tensorflow.keras.preprocessing.image import img_to_array\n",
    "from tensorflow.keras.preprocessing.image import ImageDataGenerator\n",
    "from tensorflow.keras.preprocessing import image_dataset_from_directory"
   ]
  },
  {
   "cell_type": "code",
   "execution_count": 23,
   "id": "3050d002",
   "metadata": {
    "ExecuteTime": {
     "end_time": "2022-03-31T07:07:22.793240Z",
     "start_time": "2022-03-31T07:07:22.778972Z"
    },
    "scrolled": true
   },
   "outputs": [
    {
     "name": "stdout",
     "output_type": "stream",
     "text": [
      "Epoch 1/100\n",
      "906/906 [==============================] - ETA: 0s - loss: 4.1830 - accuracy: 0.0505INFO:tensorflow:Assets written to: C:\\KDT\\dl\\callback_efficientnet\\res1_smallclass_1\\assets\n",
      "906/906 [==============================] - 207s 222ms/step - loss: 4.1830 - accuracy: 0.0505 - val_loss: 4.1665 - val_accuracy: 0.0547\n",
      "Epoch 2/100\n",
      "906/906 [==============================] - ETA: 0s - loss: 3.6346 - accuracy: 0.1137INFO:tensorflow:Assets written to: C:\\KDT\\dl\\callback_efficientnet\\res1_smallclass_2\\assets\n",
      "906/906 [==============================] - 173s 191ms/step - loss: 3.6346 - accuracy: 0.1137 - val_loss: 4.0939 - val_accuracy: 0.0727\n",
      "Epoch 3/100\n",
      "906/906 [==============================] - ETA: 0s - loss: 3.2681 - accuracy: 0.1802INFO:tensorflow:Assets written to: C:\\KDT\\dl\\callback_efficientnet\\res1_smallclass_3\\assets\n",
      "906/906 [==============================] - 174s 192ms/step - loss: 3.2681 - accuracy: 0.1802 - val_loss: 3.7566 - val_accuracy: 0.1448\n",
      "Epoch 4/100\n",
      "906/906 [==============================] - ETA: 0s - loss: 2.9470 - accuracy: 0.2408INFO:tensorflow:Assets written to: C:\\KDT\\dl\\callback_efficientnet\\res1_smallclass_4\\assets\n",
      "906/906 [==============================] - 183s 202ms/step - loss: 2.9470 - accuracy: 0.2408 - val_loss: 5.0416 - val_accuracy: 0.0389\n",
      "Epoch 5/100\n",
      "906/906 [==============================] - ETA: 0s - loss: 2.7615 - accuracy: 0.2809INFO:tensorflow:Assets written to: C:\\KDT\\dl\\callback_efficientnet\\res1_smallclass_5\\assets\n",
      "906/906 [==============================] - 175s 194ms/step - loss: 2.7615 - accuracy: 0.2809 - val_loss: 3.6812 - val_accuracy: 0.1423\n",
      "Epoch 6/100\n",
      "906/906 [==============================] - ETA: 0s - loss: 2.5218 - accuracy: 0.3395INFO:tensorflow:Assets written to: C:\\KDT\\dl\\callback_efficientnet\\res1_smallclass_6\\assets\n",
      "906/906 [==============================] - 175s 193ms/step - loss: 2.5218 - accuracy: 0.3395 - val_loss: 3.2633 - val_accuracy: 0.2450\n",
      "Epoch 7/100\n",
      "906/906 [==============================] - ETA: 0s - loss: 2.3270 - accuracy: 0.3898INFO:tensorflow:Assets written to: C:\\KDT\\dl\\callback_efficientnet\\res1_smallclass_7\\assets\n",
      "906/906 [==============================] - 172s 190ms/step - loss: 2.3270 - accuracy: 0.3898 - val_loss: 5.2844 - val_accuracy: 0.0977\n",
      "Epoch 8/100\n",
      "906/906 [==============================] - ETA: 0s - loss: 1.9716 - accuracy: 0.4742INFO:tensorflow:Assets written to: C:\\KDT\\dl\\callback_efficientnet\\res1_smallclass_8\\assets\n",
      "906/906 [==============================] - 175s 193ms/step - loss: 1.9716 - accuracy: 0.4742 - val_loss: 3.6515 - val_accuracy: 0.1825\n",
      "Epoch 9/100\n",
      "906/906 [==============================] - ETA: 0s - loss: 1.8012 - accuracy: 0.5141INFO:tensorflow:Assets written to: C:\\KDT\\dl\\callback_efficientnet\\res1_smallclass_9\\assets\n",
      "906/906 [==============================] - 175s 193ms/step - loss: 1.8012 - accuracy: 0.5141 - val_loss: 3.3606 - val_accuracy: 0.2548\n",
      "Epoch 10/100\n",
      "906/906 [==============================] - ETA: 0s - loss: 2.1642 - accuracy: 0.4414INFO:tensorflow:Assets written to: C:\\KDT\\dl\\callback_efficientnet\\res1_smallclass_10\\assets\n",
      "906/906 [==============================] - 174s 192ms/step - loss: 2.1642 - accuracy: 0.4414 - val_loss: 3.4071 - val_accuracy: 0.2369\n",
      "Epoch 11/100\n",
      "906/906 [==============================] - ETA: 0s - loss: 1.5185 - accuracy: 0.5842INFO:tensorflow:Assets written to: C:\\KDT\\dl\\callback_efficientnet\\res1_smallclass_11\\assets\n",
      "906/906 [==============================] - 173s 191ms/step - loss: 1.5185 - accuracy: 0.5842 - val_loss: 3.6140 - val_accuracy: 0.2603\n",
      "Epoch 12/100\n",
      "906/906 [==============================] - ETA: 0s - loss: 1.5299 - accuracy: 0.5833INFO:tensorflow:Assets written to: C:\\KDT\\dl\\callback_efficientnet\\res1_smallclass_12\\assets\n",
      "906/906 [==============================] - 172s 190ms/step - loss: 1.5299 - accuracy: 0.5833 - val_loss: 3.8388 - val_accuracy: 0.1956\n",
      "Epoch 13/100\n",
      "906/906 [==============================] - ETA: 0s - loss: 1.3366 - accuracy: 0.6350INFO:tensorflow:Assets written to: C:\\KDT\\dl\\callback_efficientnet\\res1_smallclass_13\\assets\n",
      "906/906 [==============================] - 177s 196ms/step - loss: 1.3366 - accuracy: 0.6350 - val_loss: 3.8233 - val_accuracy: 0.2340\n",
      "Epoch 14/100\n",
      "906/906 [==============================] - ETA: 0s - loss: 1.1897 - accuracy: 0.6742INFO:tensorflow:Assets written to: C:\\KDT\\dl\\callback_efficientnet\\res1_smallclass_14\\assets\n",
      "906/906 [==============================] - 175s 193ms/step - loss: 1.1897 - accuracy: 0.6742 - val_loss: 3.7421 - val_accuracy: 0.3063\n",
      "Epoch 15/100\n",
      "906/906 [==============================] - ETA: 0s - loss: 1.1970 - accuracy: 0.6783INFO:tensorflow:Assets written to: C:\\KDT\\dl\\callback_efficientnet\\res1_smallclass_15\\assets\n",
      "906/906 [==============================] - 199s 220ms/step - loss: 1.1970 - accuracy: 0.6783 - val_loss: 4.1699 - val_accuracy: 0.2592\n",
      "Epoch 16/100\n",
      "906/906 [==============================] - ETA: 0s - loss: 1.1505 - accuracy: 0.6939INFO:tensorflow:Assets written to: C:\\KDT\\dl\\callback_efficientnet\\res1_smallclass_16\\assets\n",
      "906/906 [==============================] - 176s 194ms/step - loss: 1.1505 - accuracy: 0.6939 - val_loss: 4.3669 - val_accuracy: 0.2032\n"
     ]
    }
   ],
   "source": [
    "res1_hist = res1_model.fit(train_generator,epochs=100,\n",
    "                            steps_per_epoch=train_generator.samples//train_generator.batch_size,\n",
    "                           validation_data=val_generator, validation_steps= val_generator.samples//val_generator.batch_size,\n",
    "                           callbacks=[ckpt_callback,early_stop_callback])"
   ]
  },
  {
   "cell_type": "code",
   "execution_count": 24,
   "id": "95a73da7",
   "metadata": {},
   "outputs": [
    {
     "data": {
      "text/plain": [
       "[<matplotlib.lines.Line2D at 0x21571dbd660>]"
      ]
     },
     "execution_count": 24,
     "metadata": {},
     "output_type": "execute_result"
    },
    {
     "data": {
      "image/png": "[encoded data removed]",
      "text/plain": [
       "<Figure size 432x288 with 1 Axes>"
      ]
     },
     "metadata": {
      "needs_background": "light"
     },
     "output_type": "display_data"
    }
   ],
   "source": [
    "plt.plot(res1_hist.history['loss'])\n",
    "plt.plot(res1_hist.history['val_loss'])"
   ]
  },
  {
   "cell_type": "code",
   "execution_count": 25,
   "id": "3ee37cb4",
   "metadata": {},
   "outputs": [
    {
     "data": {
      "text/plain": [
       "[<matplotlib.lines.Line2D at 0x21571d9f820>]"
      ]
     },
     "execution_count": 25,
     "metadata": {},
     "output_type": "execute_result"
    },
    {
     "data": {
      "image/png": "[encoded data removed]",
      "text/plain": [
       "<Figure size 432x288 with 1 Axes>"
      ]
     },
     "metadata": {
      "needs_background": "light"
     },
     "output_type": "display_data"
    }
   ],
   "source": [
    "plt.plot(res1_hist.history['accuracy'])\n",
    "plt.plot(res1_hist.history['val_accuracy'])"
   ]
  },
  {
   "cell_type": "code",
   "execution_count": 24,
   "id": "7ebb1be0",
   "metadata": {},
   "outputs": [
    {
     "name": "stdout",
     "output_type": "stream",
     "text": [
      "Collecting Scipy\n",
      "  Downloading scipy-1.8.0-cp310-cp310-win_amd64.whl (37.0 MB)\n",
      "     --------------------------------------- 37.0/37.0 MB 10.2 MB/s eta 0:00:00\n",
      "Requirement already satisfied: numpy<1.25.0,>=1.17.3 in c:\\users\\bitcamp\\appdata\\local\\programs\\python\\python310\\lib\\site-packages (from Scipy) (1.22.3)\n",
      "Installing collected packages: Scipy\n",
      "Successfully installed Scipy-1.8.0\n"
     ]
    },
    {
     "name": "stderr",
     "output_type": "stream",
     "text": [
      "WARNING: Ignoring invalid distribution -illow (c:\\users\\bitcamp\\appdata\\local\\programs\\python\\python310\\lib\\site-packages)\n",
      "WARNING: Ignoring invalid distribution -illow (c:\\users\\bitcamp\\appdata\\local\\programs\\python\\python310\\lib\\site-packages)\n",
      "WARNING: Ignoring invalid distribution -illow (c:\\users\\bitcamp\\appdata\\local\\programs\\python\\python310\\lib\\site-packages)\n",
      "WARNING: Ignoring invalid distribution -illow (c:\\users\\bitcamp\\appdata\\local\\programs\\python\\python310\\lib\\site-packages)\n",
      "WARNING: Ignoring invalid distribution -illow (c:\\users\\bitcamp\\appdata\\local\\programs\\python\\python310\\lib\\site-packages)\n",
      "WARNING: Ignoring invalid distribution -illow (c:\\users\\bitcamp\\appdata\\local\\programs\\python\\python310\\lib\\site-packages)\n"
     ]
    }
   ],
   "source": []
  },
  {
   "cell_type": "code",
   "execution_count": 51,
   "id": "2e1793b9",
   "metadata": {
    "ExecuteTime": {
     "end_time": "2022-03-31T07:10:43.329336Z",
     "start_time": "2022-03-31T07:07:22.825260Z"
    },
    "scrolled": true
   },
   "outputs": [
    {
     "name": "stdout",
     "output_type": "stream",
     "text": [
      "Epoch 1/50\n",
      "52/52 [==============================] - 9s 98ms/step - loss: 3.3597 - accuracy: 0.2432 - val_loss: 1.8116 - val_accuracy: 0.4231\n",
      "Epoch 2/50\n",
      "52/52 [==============================] - 4s 74ms/step - loss: 1.2538 - accuracy: 0.6381 - val_loss: 1.1507 - val_accuracy: 0.6692\n",
      "Epoch 3/50\n",
      "52/52 [==============================] - 4s 73ms/step - loss: 0.7973 - accuracy: 0.7665 - val_loss: 0.9626 - val_accuracy: 0.6846\n",
      "Epoch 4/50\n",
      "52/52 [==============================] - 4s 73ms/step - loss: 0.3787 - accuracy: 0.8911 - val_loss: 0.9766 - val_accuracy: 0.7077\n",
      "Epoch 5/50\n",
      "52/52 [==============================] - 4s 72ms/step - loss: 0.2036 - accuracy: 0.9494 - val_loss: 0.9112 - val_accuracy: 0.7000\n",
      "Epoch 6/50\n",
      "52/52 [==============================] - 4s 76ms/step - loss: 0.0975 - accuracy: 0.9728 - val_loss: 0.9650 - val_accuracy: 0.7462\n",
      "Epoch 7/50\n",
      "52/52 [==============================] - 4s 75ms/step - loss: 0.0564 - accuracy: 0.9922 - val_loss: 0.8285 - val_accuracy: 0.8077\n",
      "Epoch 8/50\n",
      "52/52 [==============================] - 4s 75ms/step - loss: 0.0307 - accuracy: 0.9942 - val_loss: 0.8079 - val_accuracy: 0.7769\n",
      "Epoch 9/50\n",
      "52/52 [==============================] - 4s 76ms/step - loss: 0.0201 - accuracy: 0.9942 - val_loss: 0.7011 - val_accuracy: 0.8231\n",
      "Epoch 10/50\n",
      "52/52 [==============================] - 4s 72ms/step - loss: 0.0173 - accuracy: 0.9961 - val_loss: 0.7841 - val_accuracy: 0.7462\n",
      "Epoch 11/50\n",
      "52/52 [==============================] - 4s 75ms/step - loss: 0.0125 - accuracy: 0.9981 - val_loss: 0.7738 - val_accuracy: 0.7846\n",
      "Epoch 12/50\n",
      "52/52 [==============================] - 4s 75ms/step - loss: 0.0121 - accuracy: 0.9961 - val_loss: 0.7565 - val_accuracy: 0.7692\n",
      "Epoch 13/50\n",
      "52/52 [==============================] - 4s 74ms/step - loss: 0.0103 - accuracy: 0.9981 - val_loss: 0.8410 - val_accuracy: 0.7846\n",
      "Epoch 14/50\n",
      "52/52 [==============================] - 4s 73ms/step - loss: 0.0125 - accuracy: 0.9961 - val_loss: 0.7952 - val_accuracy: 0.7692\n",
      "Epoch 15/50\n",
      "52/52 [==============================] - 4s 74ms/step - loss: 0.0106 - accuracy: 0.9961 - val_loss: 0.7515 - val_accuracy: 0.7692\n",
      "Epoch 16/50\n",
      "52/52 [==============================] - 4s 74ms/step - loss: 0.0101 - accuracy: 0.9961 - val_loss: 0.8413 - val_accuracy: 0.7538\n",
      "Epoch 17/50\n",
      "52/52 [==============================] - 4s 76ms/step - loss: 0.0092 - accuracy: 0.9981 - val_loss: 0.8594 - val_accuracy: 0.7769\n",
      "Epoch 18/50\n",
      "52/52 [==============================] - 4s 76ms/step - loss: 0.0164 - accuracy: 0.9942 - val_loss: 0.8170 - val_accuracy: 0.7769\n",
      "Epoch 19/50\n",
      "52/52 [==============================] - 4s 76ms/step - loss: 0.0497 - accuracy: 0.9922 - val_loss: 1.3934 - val_accuracy: 0.6538\n",
      "Epoch 20/50\n",
      "52/52 [==============================] - 4s 76ms/step - loss: 0.0584 - accuracy: 0.9786 - val_loss: 1.4329 - val_accuracy: 0.7000\n",
      "Epoch 21/50\n",
      "52/52 [==============================] - 4s 74ms/step - loss: 0.1449 - accuracy: 0.9553 - val_loss: 1.6652 - val_accuracy: 0.6615\n",
      "Epoch 22/50\n",
      "52/52 [==============================] - 4s 75ms/step - loss: 0.4651 - accuracy: 0.8813 - val_loss: 1.4808 - val_accuracy: 0.7231\n",
      "Epoch 23/50\n",
      "52/52 [==============================] - 4s 74ms/step - loss: 0.2958 - accuracy: 0.9066 - val_loss: 1.7369 - val_accuracy: 0.6923\n",
      "Epoch 24/50\n",
      "52/52 [==============================] - 4s 75ms/step - loss: 0.4561 - accuracy: 0.8794 - val_loss: 1.9653 - val_accuracy: 0.6769\n",
      "Epoch 25/50\n",
      "52/52 [==============================] - 4s 74ms/step - loss: 0.2207 - accuracy: 0.9494 - val_loss: 2.0942 - val_accuracy: 0.6692\n",
      "Epoch 26/50\n",
      "52/52 [==============================] - 4s 72ms/step - loss: 0.0984 - accuracy: 0.9611 - val_loss: 1.9123 - val_accuracy: 0.7154\n",
      "Epoch 27/50\n",
      "52/52 [==============================] - 4s 74ms/step - loss: 0.0273 - accuracy: 0.9903 - val_loss: 1.2715 - val_accuracy: 0.7923\n",
      "Epoch 28/50\n",
      "52/52 [==============================] - 4s 73ms/step - loss: 0.0147 - accuracy: 0.9961 - val_loss: 1.1026 - val_accuracy: 0.8000\n",
      "Epoch 29/50\n",
      "52/52 [==============================] - 4s 75ms/step - loss: 0.0135 - accuracy: 0.9961 - val_loss: 1.0583 - val_accuracy: 0.8077\n",
      "Epoch 30/50\n",
      "52/52 [==============================] - 4s 72ms/step - loss: 0.0066 - accuracy: 0.9981 - val_loss: 1.0668 - val_accuracy: 0.8231\n",
      "Epoch 31/50\n",
      "52/52 [==============================] - 4s 75ms/step - loss: 0.0092 - accuracy: 0.9961 - val_loss: 1.0783 - val_accuracy: 0.8154\n",
      "Epoch 32/50\n",
      "52/52 [==============================] - 4s 75ms/step - loss: 0.0088 - accuracy: 0.9961 - val_loss: 1.1634 - val_accuracy: 0.8154\n",
      "Epoch 33/50\n",
      "52/52 [==============================] - 4s 74ms/step - loss: 0.0138 - accuracy: 0.9942 - val_loss: 1.1605 - val_accuracy: 0.8154\n",
      "Epoch 34/50\n",
      "52/52 [==============================] - 4s 75ms/step - loss: 0.0083 - accuracy: 0.9981 - val_loss: 1.2496 - val_accuracy: 0.7769\n",
      "Epoch 35/50\n",
      "52/52 [==============================] - 4s 77ms/step - loss: 0.0144 - accuracy: 0.9961 - val_loss: 1.1341 - val_accuracy: 0.8077\n",
      "Epoch 36/50\n",
      "52/52 [==============================] - 4s 75ms/step - loss: 0.0102 - accuracy: 0.9961 - val_loss: 1.1519 - val_accuracy: 0.8077\n",
      "Epoch 37/50\n",
      "52/52 [==============================] - 4s 75ms/step - loss: 0.0084 - accuracy: 0.9961 - val_loss: 1.1005 - val_accuracy: 0.8077\n",
      "Epoch 38/50\n",
      "52/52 [==============================] - 4s 75ms/step - loss: 0.0064 - accuracy: 0.9981 - val_loss: 1.1065 - val_accuracy: 0.8231\n",
      "Epoch 39/50\n",
      "52/52 [==============================] - 4s 76ms/step - loss: 0.0121 - accuracy: 0.9961 - val_loss: 1.2550 - val_accuracy: 0.8154\n",
      "Epoch 40/50\n",
      "52/52 [==============================] - 4s 79ms/step - loss: 0.0764 - accuracy: 0.9786 - val_loss: 1.4173 - val_accuracy: 0.8077\n",
      "Epoch 41/50\n",
      "52/52 [==============================] - 4s 77ms/step - loss: 0.0585 - accuracy: 0.9825 - val_loss: 2.2746 - val_accuracy: 0.7846\n",
      "Epoch 42/50\n",
      "52/52 [==============================] - 4s 76ms/step - loss: 0.0583 - accuracy: 0.9805 - val_loss: 2.0329 - val_accuracy: 0.7769\n",
      "Epoch 43/50\n",
      "52/52 [==============================] - 4s 77ms/step - loss: 0.0672 - accuracy: 0.9864 - val_loss: 1.4104 - val_accuracy: 0.8385\n",
      "Epoch 44/50\n",
      "52/52 [==============================] - 4s 77ms/step - loss: 0.0343 - accuracy: 0.9864 - val_loss: 1.8778 - val_accuracy: 0.8077\n",
      "Epoch 45/50\n",
      "52/52 [==============================] - 4s 75ms/step - loss: 0.0588 - accuracy: 0.9825 - val_loss: 1.9505 - val_accuracy: 0.8000\n",
      "Epoch 46/50\n",
      "52/52 [==============================] - 4s 75ms/step - loss: 0.0097 - accuracy: 0.9961 - val_loss: 1.5732 - val_accuracy: 0.8000\n",
      "Epoch 47/50\n",
      "52/52 [==============================] - 4s 75ms/step - loss: 0.0583 - accuracy: 0.9805 - val_loss: 2.3276 - val_accuracy: 0.7231\n",
      "Epoch 48/50\n",
      "52/52 [==============================] - 4s 74ms/step - loss: 0.0933 - accuracy: 0.9769 - val_loss: 1.5414 - val_accuracy: 0.7692\n",
      "Epoch 49/50\n",
      "52/52 [==============================] - 4s 73ms/step - loss: 0.0385 - accuracy: 0.9883 - val_loss: 1.9692 - val_accuracy: 0.7385\n",
      "Epoch 50/50\n",
      "52/52 [==============================] - 4s 75ms/step - loss: 0.0750 - accuracy: 0.9825 - val_loss: 2.0778 - val_accuracy: 0.7615\n"
     ]
    }
   ],
   "source": [
    "hist = finetune_model.fit(\n",
    "    train_generator,\n",
    "    epochs = 100,\n",
    "    steps_per_epoch= train_generator.samples//train_generator.batch_size,\n",
    "    validation_data= val_generator,\n",
    "    validation_steps= val_generator.samples//test_generator.batch_size\n",
    ")"
   ]
  },
  {
   "cell_type": "code",
   "execution_count": 52,
   "id": "c88b238c",
   "metadata": {
    "ExecuteTime": {
     "end_time": "2022-03-31T07:11:06.265503Z",
     "start_time": "2022-03-31T07:11:06.042848Z"
    }
   },
   "outputs": [
    {
     "data": {
      "image/png": "[encoded data removed]",
      "text/plain": [
       "<Figure size 432x288 with 1 Axes>"
      ]
     },
     "metadata": {
      "needs_background": "light"
     },
     "output_type": "display_data"
    }
   ],
   "source": [
    "acc = hist.history['accuracy']\n",
    "val_acc = hist.history['val_accuracy']\n",
    "\n",
    "loss = hist.history['loss']\n",
    "val_loss = hist.history['val_loss']\n",
    "\n",
    "x_len = np.arange(len(loss))\n",
    "plt.plot(x_len, acc, marker='.', c='red', label='Train_Acc')\n",
    "plt.plot(x_len, val_acc, marker='.', c='lightcoral', label='Testset_Acc')\n",
    "plt.plot(x_len, loss, marker='.', c='cornflowerblue', label='Train_Loss')\n",
    "plt.plot(x_len, val_loss, marker='.', c='blue', label='Test_Loss')\n",
    "\n",
    "plt.legend()\n",
    "plt.grid()\n",
    "plt.show()"
   ]
  },
  {
   "cell_type": "code",
   "execution_count": null,
   "id": "0cb2baa5",
   "metadata": {
    "ExecuteTime": {
     "end_time": "2022-03-30T15:35:38.340155Z",
     "start_time": "2022-03-30T15:35:38.328160Z"
    }
   },
   "outputs": [],
   "source": [
    "# 모델 평가\n",
    "model.evaluate(test_generator)"
   ]
  },
  {
   "cell_type": "markdown",
   "id": "8c95a6fc",
   "metadata": {},
   "source": [
    "## Mobilenet_1"
   ]
  },
  {
   "cell_type": "code",
   "execution_count": 12,
   "id": "d3bd05c3",
   "metadata": {
    "ExecuteTime": {
     "end_time": "2022-03-31T11:21:33.557900Z",
     "start_time": "2022-03-31T11:21:32.449732Z"
    }
   },
   "outputs": [
    {
     "name": "stdout",
     "output_type": "stream",
     "text": [
      "Found 18134 images belonging to 73 classes.\n",
      "Found 6870 images belonging to 73 classes.\n",
      "Found 6960 images belonging to 73 classes.\n"
     ]
    }
   ],
   "source": [
    "# train \n",
    "train_datagen = ImageDataGenerator(rescale=1./255.)\n",
    "train_generator = train_datagen.flow_from_directory('./data/smallclass/train',\n",
    "                                      target_size = (224,224),\n",
    "                                      batch_size=20,\n",
    "                                      class_mode='categorical')\n",
    "# validation\n",
    "val_datagen = ImageDataGenerator(rescale=1./255.)\n",
    "val_generator = val_datagen.flow_from_directory('./data/smallclass/val',\n",
    "                                      target_size = (224,224),\n",
    "                                      batch_size=20,\n",
    "                                      class_mode='categorical')\n",
    "# test\n",
    "test_datagen = ImageDataGenerator(rescale = 1./255)\n",
    "test_generator = test_datagen.flow_from_directory('./data/smallclass/test',\n",
    "                                       target_size = (224,224),\n",
    "                                       batch_size =20, \n",
    "                                       class_mode = 'categorical')"
   ]
  },
  {
   "cell_type": "code",
   "execution_count": 13,
   "id": "17e6dc0d",
   "metadata": {
    "ExecuteTime": {
     "end_time": "2022-03-31T11:21:43.739948Z",
     "start_time": "2022-03-31T11:21:40.385240Z"
    }
   },
   "outputs": [],
   "source": [
    "#nasnetmobile\n",
    "\n",
    "from tensorflow.keras.applications import mobilenet\n",
    "with tf.device('/GPU:0'):\n",
    "    mob_model = tf.keras.applications.mobilenet.MobileNet(\n",
    "                                                        input_shape=(224,224,3),\n",
    "                                                        include_top=False,\n",
    "                                                        weights='imagenet'\n",
    "                                                        )\n",
    "mob_model.trainable = True"
   ]
  },
  {
   "cell_type": "code",
   "execution_count": 14,
   "id": "f663d824",
   "metadata": {
    "ExecuteTime": {
     "end_time": "2022-03-31T11:21:45.458958Z",
     "start_time": "2022-03-31T11:21:44.656132Z"
    }
   },
   "outputs": [
    {
     "name": "stdout",
     "output_type": "stream",
     "text": [
      "Model: \"mobilenet_1.00_224\"\n",
      "_________________________________________________________________\n",
      " Layer (type)                Output Shape              Param #   \n",
      "=================================================================\n",
      " input_1 (InputLayer)        [(None, 224, 224, 3)]     0         \n",
      "                                                                 \n",
      " conv1 (Conv2D)              (None, 112, 112, 32)      864       \n",
      "                                                                 \n",
      " conv1_bn (BatchNormalizatio  (None, 112, 112, 32)     128       \n",
      " n)                                                              \n",
      "                                                                 \n",
      " conv1_relu (ReLU)           (None, 112, 112, 32)      0         \n",
      "                                                                 \n",
      " conv_dw_1 (DepthwiseConv2D)  (None, 112, 112, 32)     288       \n",
      "                                                                 \n",
      " conv_dw_1_bn (BatchNormaliz  (None, 112, 112, 32)     128       \n",
      " ation)                                                          \n",
      "                                                                 \n",
      " conv_dw_1_relu (ReLU)       (None, 112, 112, 32)      0         \n",
      "                                                                 \n",
      " conv_pw_1 (Conv2D)          (None, 112, 112, 64)      2048      \n",
      "                                                                 \n",
      " conv_pw_1_bn (BatchNormaliz  (None, 112, 112, 64)     256       \n",
      " ation)                                                          \n",
      "                                                                 \n",
      " conv_pw_1_relu (ReLU)       (None, 112, 112, 64)      0         \n",
      "                                                                 \n",
      " conv_pad_2 (ZeroPadding2D)  (None, 113, 113, 64)      0         \n",
      "                                                                 \n",
      " conv_dw_2 (DepthwiseConv2D)  (None, 56, 56, 64)       576       \n",
      "                                                                 \n",
      " conv_dw_2_bn (BatchNormaliz  (None, 56, 56, 64)       256       \n",
      " ation)                                                          \n",
      "                                                                 \n",
      " conv_dw_2_relu (ReLU)       (None, 56, 56, 64)        0         \n",
      "                                                                 \n",
      " conv_pw_2 (Conv2D)          (None, 56, 56, 128)       8192      \n",
      "                                                                 \n",
      " conv_pw_2_bn (BatchNormaliz  (None, 56, 56, 128)      512       \n",
      " ation)                                                          \n",
      "                                                                 \n",
      " conv_pw_2_relu (ReLU)       (None, 56, 56, 128)       0         \n",
      "                                                                 \n",
      " conv_dw_3 (DepthwiseConv2D)  (None, 56, 56, 128)      1152      \n",
      "                                                                 \n",
      " conv_dw_3_bn (BatchNormaliz  (None, 56, 56, 128)      512       \n",
      " ation)                                                          \n",
      "                                                                 \n",
      " conv_dw_3_relu (ReLU)       (None, 56, 56, 128)       0         \n",
      "                                                                 \n",
      " conv_pw_3 (Conv2D)          (None, 56, 56, 128)       16384     \n",
      "                                                                 \n",
      " conv_pw_3_bn (BatchNormaliz  (None, 56, 56, 128)      512       \n",
      " ation)                                                          \n",
      "                                                                 \n",
      " conv_pw_3_relu (ReLU)       (None, 56, 56, 128)       0         \n",
      "                                                                 \n",
      " conv_pad_4 (ZeroPadding2D)  (None, 57, 57, 128)       0         \n",
      "                                                                 \n",
      " conv_dw_4 (DepthwiseConv2D)  (None, 28, 28, 128)      1152      \n",
      "                                                                 \n",
      " conv_dw_4_bn (BatchNormaliz  (None, 28, 28, 128)      512       \n",
      " ation)                                                          \n",
      "                                                                 \n",
      " conv_dw_4_relu (ReLU)       (None, 28, 28, 128)       0         \n",
      "                                                                 \n",
      " conv_pw_4 (Conv2D)          (None, 28, 28, 256)       32768     \n",
      "                                                                 \n",
      " conv_pw_4_bn (BatchNormaliz  (None, 28, 28, 256)      1024      \n",
      " ation)                                                          \n",
      "                                                                 \n",
      " conv_pw_4_relu (ReLU)       (None, 28, 28, 256)       0         \n",
      "                                                                 \n",
      " conv_dw_5 (DepthwiseConv2D)  (None, 28, 28, 256)      2304      \n",
      "                                                                 \n",
      " conv_dw_5_bn (BatchNormaliz  (None, 28, 28, 256)      1024      \n",
      " ation)                                                          \n",
      "                                                                 \n",
      " conv_dw_5_relu (ReLU)       (None, 28, 28, 256)       0         \n",
      "                                                                 \n",
      " conv_pw_5 (Conv2D)          (None, 28, 28, 256)       65536     \n",
      "                                                                 \n",
      " conv_pw_5_bn (BatchNormaliz  (None, 28, 28, 256)      1024      \n",
      " ation)                                                          \n",
      "                                                                 \n",
      " conv_pw_5_relu (ReLU)       (None, 28, 28, 256)       0         \n",
      "                                                                 \n",
      " conv_pad_6 (ZeroPadding2D)  (None, 29, 29, 256)       0         \n",
      "                                                                 \n",
      " conv_dw_6 (DepthwiseConv2D)  (None, 14, 14, 256)      2304      \n",
      "                                                                 \n",
      " conv_dw_6_bn (BatchNormaliz  (None, 14, 14, 256)      1024      \n",
      " ation)                                                          \n",
      "                                                                 \n",
      " conv_dw_6_relu (ReLU)       (None, 14, 14, 256)       0         \n",
      "                                                                 \n",
      " conv_pw_6 (Conv2D)          (None, 14, 14, 512)       131072    \n",
      "                                                                 \n",
      " conv_pw_6_bn (BatchNormaliz  (None, 14, 14, 512)      2048      \n",
      " ation)                                                          \n",
      "                                                                 \n",
      " conv_pw_6_relu (ReLU)       (None, 14, 14, 512)       0         \n",
      "                                                                 \n",
      " conv_dw_7 (DepthwiseConv2D)  (None, 14, 14, 512)      4608      \n",
      "                                                                 \n",
      " conv_dw_7_bn (BatchNormaliz  (None, 14, 14, 512)      2048      \n",
      " ation)                                                          \n",
      "                                                                 \n",
      " conv_dw_7_relu (ReLU)       (None, 14, 14, 512)       0         \n",
      "                                                                 \n",
      " conv_pw_7 (Conv2D)          (None, 14, 14, 512)       262144    \n",
      "                                                                 \n",
      " conv_pw_7_bn (BatchNormaliz  (None, 14, 14, 512)      2048      \n",
      " ation)                                                          \n",
      "                                                                 \n",
      " conv_pw_7_relu (ReLU)       (None, 14, 14, 512)       0         \n",
      "                                                                 \n",
      " conv_dw_8 (DepthwiseConv2D)  (None, 14, 14, 512)      4608      \n",
      "                                                                 \n",
      " conv_dw_8_bn (BatchNormaliz  (None, 14, 14, 512)      2048      \n",
      " ation)                                                          \n",
      "                                                                 \n",
      " conv_dw_8_relu (ReLU)       (None, 14, 14, 512)       0         \n",
      "                                                                 \n",
      " conv_pw_8 (Conv2D)          (None, 14, 14, 512)       262144    \n"
     ]
    },
    {
     "name": "stdout",
     "output_type": "stream",
     "text": [
      "                                                                 \n",
      " conv_pw_8_bn (BatchNormaliz  (None, 14, 14, 512)      2048      \n",
      " ation)                                                          \n",
      "                                                                 \n",
      " conv_pw_8_relu (ReLU)       (None, 14, 14, 512)       0         \n",
      "                                                                 \n",
      " conv_dw_9 (DepthwiseConv2D)  (None, 14, 14, 512)      4608      \n",
      "                                                                 \n",
      " conv_dw_9_bn (BatchNormaliz  (None, 14, 14, 512)      2048      \n",
      " ation)                                                          \n",
      "                                                                 \n",
      " conv_dw_9_relu (ReLU)       (None, 14, 14, 512)       0         \n",
      "                                                                 \n",
      " conv_pw_9 (Conv2D)          (None, 14, 14, 512)       262144    \n",
      "                                                                 \n",
      " conv_pw_9_bn (BatchNormaliz  (None, 14, 14, 512)      2048      \n",
      " ation)                                                          \n",
      "                                                                 \n",
      " conv_pw_9_relu (ReLU)       (None, 14, 14, 512)       0         \n",
      "                                                                 \n",
      " conv_dw_10 (DepthwiseConv2D  (None, 14, 14, 512)      4608      \n",
      " )                                                               \n",
      "                                                                 \n",
      " conv_dw_10_bn (BatchNormali  (None, 14, 14, 512)      2048      \n",
      " zation)                                                         \n",
      "                                                                 \n",
      " conv_dw_10_relu (ReLU)      (None, 14, 14, 512)       0         \n",
      "                                                                 \n",
      " conv_pw_10 (Conv2D)         (None, 14, 14, 512)       262144    \n",
      "                                                                 \n",
      " conv_pw_10_bn (BatchNormali  (None, 14, 14, 512)      2048      \n",
      " zation)                                                         \n",
      "                                                                 \n",
      " conv_pw_10_relu (ReLU)      (None, 14, 14, 512)       0         \n",
      "                                                                 \n",
      " conv_dw_11 (DepthwiseConv2D  (None, 14, 14, 512)      4608      \n",
      " )                                                               \n",
      "                                                                 \n",
      " conv_dw_11_bn (BatchNormali  (None, 14, 14, 512)      2048      \n",
      " zation)                                                         \n",
      "                                                                 \n",
      " conv_dw_11_relu (ReLU)      (None, 14, 14, 512)       0         \n",
      "                                                                 \n",
      " conv_pw_11 (Conv2D)         (None, 14, 14, 512)       262144    \n",
      "                                                                 \n",
      " conv_pw_11_bn (BatchNormali  (None, 14, 14, 512)      2048      \n",
      " zation)                                                         \n",
      "                                                                 \n",
      " conv_pw_11_relu (ReLU)      (None, 14, 14, 512)       0         \n",
      "                                                                 \n",
      " conv_pad_12 (ZeroPadding2D)  (None, 15, 15, 512)      0         \n",
      "                                                                 \n",
      " conv_dw_12 (DepthwiseConv2D  (None, 7, 7, 512)        4608      \n",
      " )                                                               \n",
      "                                                                 \n",
      " conv_dw_12_bn (BatchNormali  (None, 7, 7, 512)        2048      \n",
      " zation)                                                         \n",
      "                                                                 \n",
      " conv_dw_12_relu (ReLU)      (None, 7, 7, 512)         0         \n",
      "                                                                 \n",
      " conv_pw_12 (Conv2D)         (None, 7, 7, 1024)        524288    \n",
      "                                                                 \n",
      " conv_pw_12_bn (BatchNormali  (None, 7, 7, 1024)       4096      \n",
      " zation)                                                         \n",
      "                                                                 \n",
      " conv_pw_12_relu (ReLU)      (None, 7, 7, 1024)        0         \n",
      "                                                                 \n",
      " conv_dw_13 (DepthwiseConv2D  (None, 7, 7, 1024)       9216      \n",
      " )                                                               \n",
      "                                                                 \n",
      " conv_dw_13_bn (BatchNormali  (None, 7, 7, 1024)       4096      \n",
      " zation)                                                         \n",
      "                                                                 \n",
      " conv_dw_13_relu (ReLU)      (None, 7, 7, 1024)        0         \n",
      "                                                                 \n",
      " conv_pw_13 (Conv2D)         (None, 7, 7, 1024)        1048576   \n",
      "                                                                 \n",
      " conv_pw_13_bn (BatchNormali  (None, 7, 7, 1024)       4096      \n",
      " zation)                                                         \n",
      "                                                                 \n",
      " conv_pw_13_relu (ReLU)      (None, 7, 7, 1024)        0         \n",
      "                                                                 \n",
      "=================================================================\n",
      "Total params: 3,228,864\n",
      "Trainable params: 3,206,976\n",
      "Non-trainable params: 21,888\n",
      "_________________________________________________________________\n"
     ]
    }
   ],
   "source": [
    "mob_model.summary()"
   ]
  },
  {
   "cell_type": "code",
   "execution_count": 15,
   "id": "fba5c1aa",
   "metadata": {
    "ExecuteTime": {
     "end_time": "2022-03-31T11:21:47.288918Z",
     "start_time": "2022-03-31T11:21:46.226122Z"
    }
   },
   "outputs": [],
   "source": [
    "Mb_model1 = Sequential()\n",
    "Mb_model1.add(mob_model)\n",
    "Mb_model1.add(Flatten())\n",
    "Mb_model1.add(Dense(200,activation='relu'))\n",
    "Mb_model1.add(Dense(100,activation='relu'))\n",
    "Mb_model1.add(Dense(73,activation='softmax'))"
   ]
  },
  {
   "cell_type": "code",
   "execution_count": 16,
   "id": "4f370899",
   "metadata": {
    "ExecuteTime": {
     "end_time": "2022-03-31T11:21:48.430281Z",
     "start_time": "2022-03-31T11:21:48.401330Z"
    }
   },
   "outputs": [],
   "source": [
    "Mb_model1.compile(loss ='categorical_crossentropy',metrics=['accuracy'], optimizer='adam')"
   ]
  },
  {
   "cell_type": "code",
   "execution_count": 17,
   "id": "5136a6dc",
   "metadata": {},
   "outputs": [],
   "source": [
    "# # callback 생성하기\n",
    "# import os\n",
    "# import keras\n",
    "# cur_dir = os.getcwd()\n",
    "# ckpt_dir = 'checkpoints' # weight를 저장할 디렉토리\n",
    "# file_name = 'mob_smallclass_weights.ckpt'\n",
    "\n",
    "# ckpt_path = os.path.join(cur_dir, 'callback_mobilenet')\n",
    "# os.makedirs(ckpt_path, exist_ok=True)\n",
    "\n",
    "# ckpt_filepath = os.path.join(ckpt_path, 'mob1_smallclass_{epoch}' )\n",
    "\n",
    "# ckpt_callback = keras.callbacks.ModelCheckpoint(filepath = ckpt_filepath, \n",
    "#                                                save_weights_only=True) # True weight만 , False 모델까지\n",
    "# # early stopping callback\n",
    "# early_stop_callback = keras.callbacks.EarlyStopping(monitor='val_loss',patience=10)"
   ]
  },
  {
   "cell_type": "code",
   "execution_count": 18,
   "id": "bb9e79af",
   "metadata": {
    "ExecuteTime": {
     "end_time": "2022-03-31T18:26:45.638002Z",
     "start_time": "2022-03-31T11:21:51.985990Z"
    },
    "scrolled": true
   },
   "outputs": [
    {
     "name": "stdout",
     "output_type": "stream",
     "text": [
      "Epoch 1/100\n",
      "906/906 [==============================] - 166s 161ms/step - loss: 3.4222 - accuracy: 0.1870 - val_loss: 2.9092 - val_accuracy: 0.2787\n",
      "Epoch 2/100\n",
      "906/906 [==============================] - 99s 109ms/step - loss: 1.6550 - accuracy: 0.5364 - val_loss: 2.1315 - val_accuracy: 0.4789\n",
      "Epoch 3/100\n",
      "906/906 [==============================] - 100s 110ms/step - loss: 0.9359 - accuracy: 0.7252 - val_loss: 1.6112 - val_accuracy: 0.5862\n",
      "Epoch 4/100\n",
      "906/906 [==============================] - 99s 109ms/step - loss: 0.6320 - accuracy: 0.8098 - val_loss: 1.4189 - val_accuracy: 0.6579\n",
      "Epoch 5/100\n",
      "906/906 [==============================] - 99s 109ms/step - loss: 0.4830 - accuracy: 0.8528 - val_loss: 1.5357 - val_accuracy: 0.6762\n",
      "Epoch 6/100\n",
      "906/906 [==============================] - 99s 109ms/step - loss: 0.3890 - accuracy: 0.8838 - val_loss: 1.1024 - val_accuracy: 0.7388\n",
      "Epoch 7/100\n",
      "906/906 [==============================] - 99s 110ms/step - loss: 0.3272 - accuracy: 0.8989 - val_loss: 1.5026 - val_accuracy: 0.6825\n",
      "Epoch 8/100\n",
      "906/906 [==============================] - 99s 109ms/step - loss: 0.3001 - accuracy: 0.9081 - val_loss: 1.1936 - val_accuracy: 0.7315\n",
      "Epoch 9/100\n",
      "906/906 [==============================] - 99s 110ms/step - loss: 0.2760 - accuracy: 0.9144 - val_loss: 1.4275 - val_accuracy: 0.7194\n",
      "Epoch 10/100\n",
      "906/906 [==============================] - 99s 109ms/step - loss: 0.2115 - accuracy: 0.9320 - val_loss: 1.0459 - val_accuracy: 0.7749\n",
      "Epoch 11/100\n",
      "906/906 [==============================] - 99s 110ms/step - loss: 0.2108 - accuracy: 0.9351 - val_loss: 1.3946 - val_accuracy: 0.7185\n",
      "Epoch 12/100\n",
      "906/906 [==============================] - 99s 109ms/step - loss: 0.1937 - accuracy: 0.9421 - val_loss: 1.2431 - val_accuracy: 0.7493\n",
      "Epoch 13/100\n",
      "906/906 [==============================] - 99s 109ms/step - loss: 0.1722 - accuracy: 0.9488 - val_loss: 1.2644 - val_accuracy: 0.7421\n",
      "Epoch 14/100\n",
      "906/906 [==============================] - 99s 109ms/step - loss: 0.1579 - accuracy: 0.9518 - val_loss: 1.1465 - val_accuracy: 0.7647\n",
      "Epoch 15/100\n",
      "906/906 [==============================] - 99s 109ms/step - loss: 0.1526 - accuracy: 0.9564 - val_loss: 1.0819 - val_accuracy: 0.7598\n",
      "Epoch 16/100\n",
      "906/906 [==============================] - 99s 109ms/step - loss: 0.1262 - accuracy: 0.9618 - val_loss: 1.2277 - val_accuracy: 0.7605\n",
      "Epoch 17/100\n",
      "906/906 [==============================] - 99s 109ms/step - loss: 0.1448 - accuracy: 0.9574 - val_loss: 1.1114 - val_accuracy: 0.7787\n",
      "Epoch 18/100\n",
      "906/906 [==============================] - 99s 109ms/step - loss: 0.1225 - accuracy: 0.9629 - val_loss: 1.5427 - val_accuracy: 0.7456\n",
      "Epoch 19/100\n",
      "906/906 [==============================] - 99s 110ms/step - loss: 0.1220 - accuracy: 0.9660 - val_loss: 1.2714 - val_accuracy: 0.7571\n",
      "Epoch 20/100\n",
      "906/906 [==============================] - 99s 109ms/step - loss: 0.1349 - accuracy: 0.9644 - val_loss: 1.4516 - val_accuracy: 0.7455\n",
      "Epoch 21/100\n",
      "906/906 [==============================] - 99s 109ms/step - loss: 0.1083 - accuracy: 0.9704 - val_loss: 1.3298 - val_accuracy: 0.7698\n",
      "Epoch 22/100\n",
      "906/906 [==============================] - 99s 109ms/step - loss: 0.1226 - accuracy: 0.9654 - val_loss: 1.1871 - val_accuracy: 0.7824\n",
      "Epoch 23/100\n",
      "906/906 [==============================] - 99s 109ms/step - loss: 0.1055 - accuracy: 0.9718 - val_loss: 1.2614 - val_accuracy: 0.7730\n",
      "Epoch 24/100\n",
      "906/906 [==============================] - 98s 109ms/step - loss: 0.0867 - accuracy: 0.9762 - val_loss: 1.2320 - val_accuracy: 0.7809\n",
      "Epoch 25/100\n",
      "906/906 [==============================] - 99s 109ms/step - loss: 0.1066 - accuracy: 0.9712 - val_loss: 1.2677 - val_accuracy: 0.7742\n",
      "Epoch 26/100\n",
      "906/906 [==============================] - 99s 109ms/step - loss: 0.1022 - accuracy: 0.9731 - val_loss: 1.7551 - val_accuracy: 0.7294\n",
      "Epoch 27/100\n",
      "906/906 [==============================] - 99s 109ms/step - loss: 0.0990 - accuracy: 0.9712 - val_loss: 1.3725 - val_accuracy: 0.7563\n",
      "Epoch 28/100\n",
      "906/906 [==============================] - 98s 109ms/step - loss: 0.0796 - accuracy: 0.9781 - val_loss: 1.1888 - val_accuracy: 0.7920\n",
      "Epoch 29/100\n",
      "906/906 [==============================] - 99s 109ms/step - loss: 0.0906 - accuracy: 0.9759 - val_loss: 1.1287 - val_accuracy: 0.7974\n",
      "Epoch 30/100\n",
      "906/906 [==============================] - 99s 109ms/step - loss: 0.0883 - accuracy: 0.9772 - val_loss: 1.3860 - val_accuracy: 0.7869\n",
      "Epoch 31/100\n",
      "906/906 [==============================] - 99s 109ms/step - loss: 0.0984 - accuracy: 0.9749 - val_loss: 1.2164 - val_accuracy: 0.7905\n",
      "Epoch 32/100\n",
      "906/906 [==============================] - 99s 109ms/step - loss: 0.0594 - accuracy: 0.9834 - val_loss: 1.4009 - val_accuracy: 0.7904\n",
      "Epoch 33/100\n",
      "906/906 [==============================] - 99s 109ms/step - loss: 0.1002 - accuracy: 0.9736 - val_loss: 1.1888 - val_accuracy: 0.7931\n",
      "Epoch 34/100\n",
      "906/906 [==============================] - 99s 109ms/step - loss: 0.0714 - accuracy: 0.9824 - val_loss: 1.3096 - val_accuracy: 0.7812\n",
      "Epoch 35/100\n",
      "906/906 [==============================] - 99s 109ms/step - loss: 0.0836 - accuracy: 0.9779 - val_loss: 1.2489 - val_accuracy: 0.7832\n",
      "Epoch 36/100\n",
      "906/906 [==============================] - 99s 109ms/step - loss: 0.0896 - accuracy: 0.9774 - val_loss: 1.4789 - val_accuracy: 0.7752\n",
      "Epoch 37/100\n",
      "906/906 [==============================] - 99s 109ms/step - loss: 0.0782 - accuracy: 0.9801 - val_loss: 1.3789 - val_accuracy: 0.7864\n",
      "Epoch 38/100\n",
      "906/906 [==============================] - 99s 109ms/step - loss: 0.0787 - accuracy: 0.9804 - val_loss: 1.3357 - val_accuracy: 0.7889\n",
      "Epoch 39/100\n",
      "906/906 [==============================] - 99s 109ms/step - loss: 0.0621 - accuracy: 0.9849 - val_loss: 1.4108 - val_accuracy: 0.7913\n",
      "Epoch 40/100\n",
      "906/906 [==============================] - 98s 109ms/step - loss: 0.0735 - accuracy: 0.9822 - val_loss: 1.3732 - val_accuracy: 0.7851\n",
      "Epoch 41/100\n",
      "906/906 [==============================] - 99s 109ms/step - loss: 0.0675 - accuracy: 0.9827 - val_loss: 1.2908 - val_accuracy: 0.7778\n",
      "Epoch 42/100\n",
      "906/906 [==============================] - 99s 109ms/step - loss: 0.0744 - accuracy: 0.9818 - val_loss: 1.4242 - val_accuracy: 0.7818\n",
      "Epoch 43/100\n",
      "906/906 [==============================] - 99s 110ms/step - loss: 0.0773 - accuracy: 0.9828 - val_loss: 1.7112 - val_accuracy: 0.7477\n",
      "Epoch 44/100\n",
      "906/906 [==============================] - 99s 109ms/step - loss: 0.0706 - accuracy: 0.9812 - val_loss: 1.3286 - val_accuracy: 0.7921\n",
      "Epoch 45/100\n",
      "906/906 [==============================] - 98s 109ms/step - loss: 0.0489 - accuracy: 0.9864 - val_loss: 1.6312 - val_accuracy: 0.7797\n",
      "Epoch 46/100\n",
      "906/906 [==============================] - 99s 109ms/step - loss: 0.0763 - accuracy: 0.9808 - val_loss: 1.4192 - val_accuracy: 0.7778\n",
      "Epoch 47/100\n",
      "906/906 [==============================] - 99s 109ms/step - loss: 0.0778 - accuracy: 0.9809 - val_loss: 1.6423 - val_accuracy: 0.7743\n",
      "Epoch 48/100\n",
      "906/906 [==============================] - 99s 109ms/step - loss: 0.0512 - accuracy: 0.9868 - val_loss: 1.3102 - val_accuracy: 0.8039\n",
      "Epoch 49/100\n",
      "906/906 [==============================] - 103s 113ms/step - loss: 0.0591 - accuracy: 0.9865 - val_loss: 1.3368 - val_accuracy: 0.7857\n",
      "Epoch 50/100\n",
      "906/906 [==============================] - 99s 109ms/step - loss: 0.0611 - accuracy: 0.9858 - val_loss: 1.6873 - val_accuracy: 0.7739\n",
      "Epoch 51/100\n",
      "906/906 [==============================] - 99s 109ms/step - loss: 0.0825 - accuracy: 0.9813 - val_loss: 1.5234 - val_accuracy: 0.7875\n",
      "Epoch 52/100\n",
      "906/906 [==============================] - 99s 109ms/step - loss: 0.0538 - accuracy: 0.9877 - val_loss: 1.6253 - val_accuracy: 0.7793\n",
      "Epoch 53/100\n",
      "906/906 [==============================] - 99s 109ms/step - loss: 0.0615 - accuracy: 0.9851 - val_loss: 1.7036 - val_accuracy: 0.7675\n",
      "Epoch 54/100\n",
      "906/906 [==============================] - 98s 108ms/step - loss: 0.0789 - accuracy: 0.9814 - val_loss: 1.7216 - val_accuracy: 0.7729\n",
      "Epoch 55/100\n",
      "906/906 [==============================] - 98s 109ms/step - loss: 0.0468 - accuracy: 0.9884 - val_loss: 1.3409 - val_accuracy: 0.7945\n",
      "Epoch 56/100\n",
      "906/906 [==============================] - 98s 109ms/step - loss: 0.0548 - accuracy: 0.9878 - val_loss: 1.6843 - val_accuracy: 0.7720\n"
     ]
    },
    {
     "name": "stdout",
     "output_type": "stream",
     "text": [
      "Epoch 57/100\n",
      "906/906 [==============================] - 99s 109ms/step - loss: 0.0812 - accuracy: 0.9816 - val_loss: 1.5552 - val_accuracy: 0.7761\n",
      "Epoch 58/100\n",
      "906/906 [==============================] - 99s 109ms/step - loss: 0.0536 - accuracy: 0.9871 - val_loss: 1.8002 - val_accuracy: 0.7649\n",
      "Epoch 59/100\n",
      "906/906 [==============================] - 99s 110ms/step - loss: 0.0614 - accuracy: 0.9861 - val_loss: 1.7957 - val_accuracy: 0.7545\n",
      "Epoch 60/100\n",
      "906/906 [==============================] - 99s 109ms/step - loss: 0.0753 - accuracy: 0.9833 - val_loss: 1.6110 - val_accuracy: 0.7937\n",
      "Epoch 61/100\n",
      "906/906 [==============================] - 99s 109ms/step - loss: 0.0476 - accuracy: 0.9890 - val_loss: 1.5455 - val_accuracy: 0.7904\n",
      "Epoch 62/100\n",
      "906/906 [==============================] - 98s 109ms/step - loss: 0.0476 - accuracy: 0.9893 - val_loss: 1.5198 - val_accuracy: 0.7866\n",
      "Epoch 63/100\n",
      "906/906 [==============================] - 99s 109ms/step - loss: 0.0421 - accuracy: 0.9901 - val_loss: 1.6580 - val_accuracy: 0.7966\n",
      "Epoch 64/100\n",
      "906/906 [==============================] - 98s 108ms/step - loss: 0.0468 - accuracy: 0.9889 - val_loss: 1.4469 - val_accuracy: 0.7886\n",
      "Epoch 65/100\n",
      "906/906 [==============================] - 99s 109ms/step - loss: 0.0793 - accuracy: 0.9826 - val_loss: 1.5903 - val_accuracy: 0.7980\n",
      "Epoch 66/100\n",
      "906/906 [==============================] - 99s 109ms/step - loss: 0.0548 - accuracy: 0.9876 - val_loss: 1.7554 - val_accuracy: 0.7708\n",
      "Epoch 67/100\n",
      "906/906 [==============================] - 99s 109ms/step - loss: 0.0697 - accuracy: 0.9848 - val_loss: 1.7273 - val_accuracy: 0.7719\n",
      "Epoch 68/100\n",
      "906/906 [==============================] - 99s 109ms/step - loss: 0.0565 - accuracy: 0.9885 - val_loss: 1.9013 - val_accuracy: 0.7703\n",
      "Epoch 69/100\n",
      "906/906 [==============================] - 99s 109ms/step - loss: 0.0537 - accuracy: 0.9883 - val_loss: 1.6641 - val_accuracy: 0.7765\n",
      "Epoch 70/100\n",
      "906/906 [==============================] - 99s 110ms/step - loss: 0.0516 - accuracy: 0.9892 - val_loss: 1.8500 - val_accuracy: 0.7762\n",
      "Epoch 71/100\n",
      "906/906 [==============================] - 103s 114ms/step - loss: 0.0692 - accuracy: 0.9854 - val_loss: 1.6533 - val_accuracy: 0.7822\n",
      "Epoch 72/100\n",
      "906/906 [==============================] - 99s 109ms/step - loss: 0.0553 - accuracy: 0.9884 - val_loss: 1.8725 - val_accuracy: 0.7824\n",
      "Epoch 73/100\n",
      "906/906 [==============================] - 99s 109ms/step - loss: 0.0375 - accuracy: 0.9915 - val_loss: 1.6696 - val_accuracy: 0.7802\n",
      "Epoch 74/100\n",
      "906/906 [==============================] - 99s 109ms/step - loss: 0.0445 - accuracy: 0.9898 - val_loss: 1.7671 - val_accuracy: 0.7939\n",
      "Epoch 75/100\n",
      "906/906 [==============================] - 99s 109ms/step - loss: 0.0591 - accuracy: 0.9861 - val_loss: 1.6887 - val_accuracy: 0.7816\n",
      "Epoch 76/100\n",
      "906/906 [==============================] - 99s 109ms/step - loss: 0.0539 - accuracy: 0.9876 - val_loss: 1.7389 - val_accuracy: 0.7614\n",
      "Epoch 77/100\n",
      "906/906 [==============================] - 99s 109ms/step - loss: 0.0507 - accuracy: 0.9882 - val_loss: 1.9600 - val_accuracy: 0.7889\n",
      "Epoch 78/100\n",
      "906/906 [==============================] - 99s 109ms/step - loss: 0.0637 - accuracy: 0.9872 - val_loss: 1.4924 - val_accuracy: 0.7854\n",
      "Epoch 79/100\n",
      "906/906 [==============================] - 100s 110ms/step - loss: 0.0446 - accuracy: 0.9901 - val_loss: 2.0554 - val_accuracy: 0.7835\n",
      "Epoch 80/100\n",
      "906/906 [==============================] - 100s 110ms/step - loss: 0.0446 - accuracy: 0.9903 - val_loss: 1.8274 - val_accuracy: 0.7596\n",
      "Epoch 81/100\n",
      "906/906 [==============================] - 99s 109ms/step - loss: 0.0446 - accuracy: 0.9898 - val_loss: 1.7673 - val_accuracy: 0.8001\n",
      "Epoch 82/100\n",
      "906/906 [==============================] - 99s 109ms/step - loss: 0.0596 - accuracy: 0.9883 - val_loss: 1.8663 - val_accuracy: 0.7751\n",
      "Epoch 83/100\n",
      "906/906 [==============================] - 99s 109ms/step - loss: 0.0582 - accuracy: 0.9896 - val_loss: 1.7055 - val_accuracy: 0.7943\n",
      "Epoch 84/100\n",
      "906/906 [==============================] - 99s 109ms/step - loss: 0.0529 - accuracy: 0.9890 - val_loss: 1.6721 - val_accuracy: 0.7857\n",
      "Epoch 85/100\n",
      "906/906 [==============================] - 98s 109ms/step - loss: 0.0215 - accuracy: 0.9937 - val_loss: 1.8106 - val_accuracy: 0.7905\n",
      "Epoch 86/100\n",
      "906/906 [==============================] - 99s 109ms/step - loss: 0.0447 - accuracy: 0.9903 - val_loss: 2.1246 - val_accuracy: 0.7695\n",
      "Epoch 87/100\n",
      "906/906 [==============================] - 99s 109ms/step - loss: 0.0488 - accuracy: 0.9882 - val_loss: 1.7346 - val_accuracy: 0.7743\n",
      "Epoch 88/100\n",
      "906/906 [==============================] - 99s 109ms/step - loss: 0.0594 - accuracy: 0.9877 - val_loss: 2.0458 - val_accuracy: 0.7720\n",
      "Epoch 89/100\n",
      "906/906 [==============================] - 99s 109ms/step - loss: 0.0498 - accuracy: 0.9906 - val_loss: 1.7998 - val_accuracy: 0.7828\n",
      "Epoch 90/100\n",
      "906/906 [==============================] - 99s 109ms/step - loss: 0.0606 - accuracy: 0.9890 - val_loss: 1.9995 - val_accuracy: 0.7659\n",
      "Epoch 91/100\n",
      "906/906 [==============================] - 99s 109ms/step - loss: 0.0568 - accuracy: 0.9885 - val_loss: 1.8223 - val_accuracy: 0.7851\n",
      "Epoch 92/100\n",
      "906/906 [==============================] - 98s 109ms/step - loss: 0.0432 - accuracy: 0.9912 - val_loss: 1.9039 - val_accuracy: 0.7780\n",
      "Epoch 93/100\n",
      "906/906 [==============================] - 99s 109ms/step - loss: 0.0450 - accuracy: 0.9904 - val_loss: 1.7305 - val_accuracy: 0.8000\n",
      "Epoch 94/100\n",
      "906/906 [==============================] - 99s 109ms/step - loss: 0.0485 - accuracy: 0.9903 - val_loss: 2.1191 - val_accuracy: 0.7764\n",
      "Epoch 95/100\n",
      "906/906 [==============================] - 99s 109ms/step - loss: 0.0458 - accuracy: 0.9899 - val_loss: 1.9666 - val_accuracy: 0.7733\n",
      "Epoch 96/100\n",
      "906/906 [==============================] - 99s 109ms/step - loss: 0.0520 - accuracy: 0.9883 - val_loss: 1.6992 - val_accuracy: 0.7762\n",
      "Epoch 97/100\n",
      "906/906 [==============================] - 98s 109ms/step - loss: 0.0484 - accuracy: 0.9898 - val_loss: 1.5871 - val_accuracy: 0.7937\n",
      "Epoch 98/100\n",
      "906/906 [==============================] - 99s 109ms/step - loss: 0.0376 - accuracy: 0.9922 - val_loss: 1.6561 - val_accuracy: 0.7894\n",
      "Epoch 99/100\n",
      "906/906 [==============================] - 99s 109ms/step - loss: 0.0444 - accuracy: 0.9918 - val_loss: 1.5656 - val_accuracy: 0.7945\n",
      "Epoch 100/100\n",
      "906/906 [==============================] - 99s 109ms/step - loss: 0.0404 - accuracy: 0.9927 - val_loss: 2.1592 - val_accuracy: 0.7611\n"
     ]
    }
   ],
   "source": [
    "Mb_hist1 = Mb_model1.fit(train_generator,\n",
    "                           epochs=100,\n",
    "                           steps_per_epoch = train_generator.samples//train_generator.batch_size,\n",
    "                           validation_data= val_generator,\n",
    "                            validation_steps= val_generator.samples//val_generator.batch_size)"
   ]
  },
  {
   "cell_type": "code",
   "execution_count": 43,
   "id": "2fce58a8",
   "metadata": {},
   "outputs": [
    {
     "name": "stdout",
     "output_type": "stream",
     "text": [
      "348/348 [==============================] - 43s 124ms/step - loss: 1.5709 - accuracy: 0.7593\n"
     ]
    },
    {
     "data": {
      "text/plain": [
       "[1.5709151029586792, 0.7593390941619873]"
      ]
     },
     "execution_count": 43,
     "metadata": {},
     "output_type": "execute_result"
    }
   ],
   "source": [
    "Mb_model1.evaluate(test_generator)"
   ]
  },
  {
   "cell_type": "code",
   "execution_count": 24,
   "id": "a07a287f",
   "metadata": {
    "scrolled": true
   },
   "outputs": [
    {
     "name": "stderr",
     "output_type": "stream",
     "text": [
      "C:\\Users\\bitcamp\\AppData\\Local\\Temp\\ipykernel_3216\\11328641.py:1: UserWarning: `Model.evaluate_generator` is deprecated and will be removed in a future version. Please use `Model.evaluate`, which supports generators.\n",
      "  Mb_model1.evaluate_generator(test_generator)\n"
     ]
    },
    {
     "data": {
      "text/plain": [
       "[2.1942508220672607, 0.7727011442184448]"
      ]
     },
     "execution_count": 24,
     "metadata": {},
     "output_type": "execute_result"
    }
   ],
   "source": [
    "Mb_model1.evaluate_generator(test_generator)"
   ]
  },
  {
   "cell_type": "code",
   "execution_count": 19,
   "id": "1d4e29ea",
   "metadata": {
    "ExecuteTime": {
     "end_time": "2022-04-01T02:49:06.256493Z",
     "start_time": "2022-04-01T02:49:06.149136Z"
    }
   },
   "outputs": [
    {
     "data": {
      "text/plain": [
       "[<matplotlib.lines.Line2D at 0x16d61422590>]"
      ]
     },
     "execution_count": 19,
     "metadata": {},
     "output_type": "execute_result"
    },
    {
     "data": {
      "image/png": "[encoded data removed]",
      "text/plain": [
       "<Figure size 432x288 with 1 Axes>"
      ]
     },
     "metadata": {
      "needs_background": "light"
     },
     "output_type": "display_data"
    }
   ],
   "source": [
    "plt.plot(Mb_hist1.history['loss'],color='green')\n",
    "plt.plot(Mb_hist1.history['val_loss'],color='blue')"
   ]
  },
  {
   "cell_type": "code",
   "execution_count": 20,
   "id": "92eda0ea",
   "metadata": {
    "ExecuteTime": {
     "end_time": "2022-04-01T02:49:12.795341Z",
     "start_time": "2022-04-01T02:49:12.707545Z"
    }
   },
   "outputs": [
    {
     "data": {
      "text/plain": [
       "[<matplotlib.lines.Line2D at 0x16d614ca680>]"
      ]
     },
     "execution_count": 20,
     "metadata": {},
     "output_type": "execute_result"
    },
    {
     "data": {
      "image/png": "[encoded data removed]",
      "text/plain": [
       "<Figure size 432x288 with 1 Axes>"
      ]
     },
     "metadata": {
      "needs_background": "light"
     },
     "output_type": "display_data"
    }
   ],
   "source": [
    "plt.plot(Mb_hist1.history['accuracy'],color='green')\n",
    "plt.plot(Mb_hist1.history['val_accuracy'],color='blue')"
   ]
  },
  {
   "cell_type": "code",
   "execution_count": 21,
   "id": "60b1a70a",
   "metadata": {},
   "outputs": [
    {
     "name": "stderr",
     "output_type": "stream",
     "text": [
      "WARNING:absl:Function `_wrapped_model` contains input name(s) mobilenet_1.00_224_input with unsupported characters which will be renamed to mobilenet_1_00_224_input in the SavedModel.\n"
     ]
    },
    {
     "name": "stdout",
     "output_type": "stream",
     "text": [
      "INFO:tensorflow:Assets written to: ./data/model_result/mobilenet1\\assets\n"
     ]
    },
    {
     "name": "stderr",
     "output_type": "stream",
     "text": [
      "INFO:tensorflow:Assets written to: ./data/model_result/mobilenet1\\assets\n"
     ]
    }
   ],
   "source": []
  },
  {
   "cell_type": "code",
   "execution_count": 23,
   "id": "92b419ab",
   "metadata": {},
   "outputs": [],
   "source": [
    "Mb_model1.save('./data/model_result/Mb1.h5')"
   ]
  },
  {
   "cell_type": "markdown",
   "id": "bac2828a",
   "metadata": {},
   "source": [
    "## MobileNet_2 :  Dense layer 추가"
   ]
  },
  {
   "cell_type": "code",
   "execution_count": 120,
   "id": "571bf15c",
   "metadata": {
    "ExecuteTime": {
     "end_time": "2022-04-01T01:55:56.155382Z",
     "start_time": "2022-04-01T01:55:56.143386Z"
    }
   },
   "outputs": [],
   "source": [
    "# https://keras.io/examples/vision/image_classification_efficientnet_fine_tuning/"
   ]
  },
  {
   "cell_type": "code",
   "execution_count": 25,
   "id": "e5f0dc21",
   "metadata": {
    "ExecuteTime": {
     "end_time": "2022-04-01T01:58:57.946752Z",
     "start_time": "2022-04-01T01:58:56.847709Z"
    }
   },
   "outputs": [
    {
     "name": "stdout",
     "output_type": "stream",
     "text": [
      "Found 18134 images belonging to 73 classes.\n",
      "Found 6870 images belonging to 73 classes.\n",
      "Found 6960 images belonging to 73 classes.\n"
     ]
    }
   ],
   "source": [
    "# train \n",
    "train_datagen = ImageDataGenerator(rescale=1./255.)\n",
    "train_generator = train_datagen.flow_from_directory('./data/smallclass/train',\n",
    "                                      target_size = (224,224),\n",
    "                                      batch_size=20,\n",
    "                                      class_mode='categorical')\n",
    "# validation\n",
    "val_datagen = ImageDataGenerator(rescale=1./255.)\n",
    "val_generator = val_datagen.flow_from_directory('./data/smallclass/val',\n",
    "                                      target_size = (224,224),\n",
    "                                      batch_size=20,\n",
    "                                      class_mode='categorical')\n",
    "# test\n",
    "test_datagen = ImageDataGenerator(rescale = 1./255)\n",
    "test_generator = test_datagen.flow_from_directory('./data/smallclass/test',\n",
    "                                       target_size = (224,224),\n",
    "                                       batch_size =20, \n",
    "                                       class_mode = 'categorical')"
   ]
  },
  {
   "cell_type": "code",
   "execution_count": 26,
   "id": "a3986036",
   "metadata": {
    "ExecuteTime": {
     "end_time": "2022-04-01T01:58:59.241583Z",
     "start_time": "2022-04-01T01:58:57.979970Z"
    }
   },
   "outputs": [],
   "source": [
    "from tensorflow.keras.applications import mobilenet\n",
    "with tf.device('/GPU:0'):\n",
    "    mob_model2 = tf.keras.applications.mobilenet.MobileNet(weights='imagenet',\n",
    "                                                             include_top= False,\n",
    "                                                              input_shape=(224,224,3),\n",
    "                                                              classifier_activation=\"softmax\"\n",
    "                                                                )\n",
    "mob_model2.trainable = True"
   ]
  },
  {
   "cell_type": "code",
   "execution_count": 27,
   "id": "a0003d1f",
   "metadata": {
    "ExecuteTime": {
     "end_time": "2022-04-01T01:58:59.521014Z",
     "start_time": "2022-04-01T01:58:59.287667Z"
    }
   },
   "outputs": [
    {
     "name": "stdout",
     "output_type": "stream",
     "text": [
      "Model: \"mobilenet_1.00_224\"\n",
      "_________________________________________________________________\n",
      " Layer (type)                Output Shape              Param #   \n",
      "=================================================================\n",
      " input_2 (InputLayer)        [(None, 224, 224, 3)]     0         \n",
      "                                                                 \n",
      " conv1 (Conv2D)              (None, 112, 112, 32)      864       \n",
      "                                                                 \n",
      " conv1_bn (BatchNormalizatio  (None, 112, 112, 32)     128       \n",
      " n)                                                              \n",
      "                                                                 \n",
      " conv1_relu (ReLU)           (None, 112, 112, 32)      0         \n",
      "                                                                 \n",
      " conv_dw_1 (DepthwiseConv2D)  (None, 112, 112, 32)     288       \n",
      "                                                                 \n",
      " conv_dw_1_bn (BatchNormaliz  (None, 112, 112, 32)     128       \n",
      " ation)                                                          \n",
      "                                                                 \n",
      " conv_dw_1_relu (ReLU)       (None, 112, 112, 32)      0         \n",
      "                                                                 \n",
      " conv_pw_1 (Conv2D)          (None, 112, 112, 64)      2048      \n",
      "                                                                 \n",
      " conv_pw_1_bn (BatchNormaliz  (None, 112, 112, 64)     256       \n",
      " ation)                                                          \n",
      "                                                                 \n",
      " conv_pw_1_relu (ReLU)       (None, 112, 112, 64)      0         \n",
      "                                                                 \n",
      " conv_pad_2 (ZeroPadding2D)  (None, 113, 113, 64)      0         \n",
      "                                                                 \n",
      " conv_dw_2 (DepthwiseConv2D)  (None, 56, 56, 64)       576       \n",
      "                                                                 \n",
      " conv_dw_2_bn (BatchNormaliz  (None, 56, 56, 64)       256       \n",
      " ation)                                                          \n",
      "                                                                 \n",
      " conv_dw_2_relu (ReLU)       (None, 56, 56, 64)        0         \n",
      "                                                                 \n",
      " conv_pw_2 (Conv2D)          (None, 56, 56, 128)       8192      \n",
      "                                                                 \n",
      " conv_pw_2_bn (BatchNormaliz  (None, 56, 56, 128)      512       \n",
      " ation)                                                          \n",
      "                                                                 \n",
      " conv_pw_2_relu (ReLU)       (None, 56, 56, 128)       0         \n",
      "                                                                 \n",
      " conv_dw_3 (DepthwiseConv2D)  (None, 56, 56, 128)      1152      \n",
      "                                                                 \n",
      " conv_dw_3_bn (BatchNormaliz  (None, 56, 56, 128)      512       \n",
      " ation)                                                          \n",
      "                                                                 \n",
      " conv_dw_3_relu (ReLU)       (None, 56, 56, 128)       0         \n",
      "                                                                 \n",
      " conv_pw_3 (Conv2D)          (None, 56, 56, 128)       16384     \n",
      "                                                                 \n",
      " conv_pw_3_bn (BatchNormaliz  (None, 56, 56, 128)      512       \n",
      " ation)                                                          \n",
      "                                                                 \n",
      " conv_pw_3_relu (ReLU)       (None, 56, 56, 128)       0         \n",
      "                                                                 \n",
      " conv_pad_4 (ZeroPadding2D)  (None, 57, 57, 128)       0         \n",
      "                                                                 \n",
      " conv_dw_4 (DepthwiseConv2D)  (None, 28, 28, 128)      1152      \n",
      "                                                                 \n",
      " conv_dw_4_bn (BatchNormaliz  (None, 28, 28, 128)      512       \n",
      " ation)                                                          \n",
      "                                                                 \n",
      " conv_dw_4_relu (ReLU)       (None, 28, 28, 128)       0         \n",
      "                                                                 \n",
      " conv_pw_4 (Conv2D)          (None, 28, 28, 256)       32768     \n",
      "                                                                 \n",
      " conv_pw_4_bn (BatchNormaliz  (None, 28, 28, 256)      1024      \n",
      " ation)                                                          \n",
      "                                                                 \n",
      " conv_pw_4_relu (ReLU)       (None, 28, 28, 256)       0         \n",
      "                                                                 \n",
      " conv_dw_5 (DepthwiseConv2D)  (None, 28, 28, 256)      2304      \n",
      "                                                                 \n",
      " conv_dw_5_bn (BatchNormaliz  (None, 28, 28, 256)      1024      \n",
      " ation)                                                          \n",
      "                                                                 \n",
      " conv_dw_5_relu (ReLU)       (None, 28, 28, 256)       0         \n",
      "                                                                 \n",
      " conv_pw_5 (Conv2D)          (None, 28, 28, 256)       65536     \n",
      "                                                                 \n",
      " conv_pw_5_bn (BatchNormaliz  (None, 28, 28, 256)      1024      \n",
      " ation)                                                          \n",
      "                                                                 \n",
      " conv_pw_5_relu (ReLU)       (None, 28, 28, 256)       0         \n",
      "                                                                 \n",
      " conv_pad_6 (ZeroPadding2D)  (None, 29, 29, 256)       0         \n",
      "                                                                 \n",
      " conv_dw_6 (DepthwiseConv2D)  (None, 14, 14, 256)      2304      \n",
      "                                                                 \n",
      " conv_dw_6_bn (BatchNormaliz  (None, 14, 14, 256)      1024      \n",
      " ation)                                                          \n",
      "                                                                 \n",
      " conv_dw_6_relu (ReLU)       (None, 14, 14, 256)       0         \n",
      "                                                                 \n",
      " conv_pw_6 (Conv2D)          (None, 14, 14, 512)       131072    \n",
      "                                                                 \n",
      " conv_pw_6_bn (BatchNormaliz  (None, 14, 14, 512)      2048      \n",
      " ation)                                                          \n",
      "                                                                 \n",
      " conv_pw_6_relu (ReLU)       (None, 14, 14, 512)       0         \n",
      "                                                                 \n",
      " conv_dw_7 (DepthwiseConv2D)  (None, 14, 14, 512)      4608      \n",
      "                                                                 \n",
      " conv_dw_7_bn (BatchNormaliz  (None, 14, 14, 512)      2048      \n",
      " ation)                                                          \n",
      "                                                                 \n",
      " conv_dw_7_relu (ReLU)       (None, 14, 14, 512)       0         \n",
      "                                                                 \n",
      " conv_pw_7 (Conv2D)          (None, 14, 14, 512)       262144    \n",
      "                                                                 \n",
      " conv_pw_7_bn (BatchNormaliz  (None, 14, 14, 512)      2048      \n",
      " ation)                                                          \n",
      "                                                                 \n",
      " conv_pw_7_relu (ReLU)       (None, 14, 14, 512)       0         \n",
      "                                                                 \n",
      " conv_dw_8 (DepthwiseConv2D)  (None, 14, 14, 512)      4608      \n",
      "                                                                 \n",
      " conv_dw_8_bn (BatchNormaliz  (None, 14, 14, 512)      2048      \n",
      " ation)                                                          \n",
      "                                                                 \n",
      " conv_dw_8_relu (ReLU)       (None, 14, 14, 512)       0         \n",
      "                                                                 \n",
      " conv_pw_8 (Conv2D)          (None, 14, 14, 512)       262144    \n"
     ]
    },
    {
     "name": "stdout",
     "output_type": "stream",
     "text": [
      "                                                                 \n",
      " conv_pw_8_bn (BatchNormaliz  (None, 14, 14, 512)      2048      \n",
      " ation)                                                          \n",
      "                                                                 \n",
      " conv_pw_8_relu (ReLU)       (None, 14, 14, 512)       0         \n",
      "                                                                 \n",
      " conv_dw_9 (DepthwiseConv2D)  (None, 14, 14, 512)      4608      \n",
      "                                                                 \n",
      " conv_dw_9_bn (BatchNormaliz  (None, 14, 14, 512)      2048      \n",
      " ation)                                                          \n",
      "                                                                 \n",
      " conv_dw_9_relu (ReLU)       (None, 14, 14, 512)       0         \n",
      "                                                                 \n",
      " conv_pw_9 (Conv2D)          (None, 14, 14, 512)       262144    \n",
      "                                                                 \n",
      " conv_pw_9_bn (BatchNormaliz  (None, 14, 14, 512)      2048      \n",
      " ation)                                                          \n",
      "                                                                 \n",
      " conv_pw_9_relu (ReLU)       (None, 14, 14, 512)       0         \n",
      "                                                                 \n",
      " conv_dw_10 (DepthwiseConv2D  (None, 14, 14, 512)      4608      \n",
      " )                                                               \n",
      "                                                                 \n",
      " conv_dw_10_bn (BatchNormali  (None, 14, 14, 512)      2048      \n",
      " zation)                                                         \n",
      "                                                                 \n",
      " conv_dw_10_relu (ReLU)      (None, 14, 14, 512)       0         \n",
      "                                                                 \n",
      " conv_pw_10 (Conv2D)         (None, 14, 14, 512)       262144    \n",
      "                                                                 \n",
      " conv_pw_10_bn (BatchNormali  (None, 14, 14, 512)      2048      \n",
      " zation)                                                         \n",
      "                                                                 \n",
      " conv_pw_10_relu (ReLU)      (None, 14, 14, 512)       0         \n",
      "                                                                 \n",
      " conv_dw_11 (DepthwiseConv2D  (None, 14, 14, 512)      4608      \n",
      " )                                                               \n",
      "                                                                 \n",
      " conv_dw_11_bn (BatchNormali  (None, 14, 14, 512)      2048      \n",
      " zation)                                                         \n",
      "                                                                 \n",
      " conv_dw_11_relu (ReLU)      (None, 14, 14, 512)       0         \n",
      "                                                                 \n",
      " conv_pw_11 (Conv2D)         (None, 14, 14, 512)       262144    \n",
      "                                                                 \n",
      " conv_pw_11_bn (BatchNormali  (None, 14, 14, 512)      2048      \n",
      " zation)                                                         \n",
      "                                                                 \n",
      " conv_pw_11_relu (ReLU)      (None, 14, 14, 512)       0         \n",
      "                                                                 \n",
      " conv_pad_12 (ZeroPadding2D)  (None, 15, 15, 512)      0         \n",
      "                                                                 \n",
      " conv_dw_12 (DepthwiseConv2D  (None, 7, 7, 512)        4608      \n",
      " )                                                               \n",
      "                                                                 \n",
      " conv_dw_12_bn (BatchNormali  (None, 7, 7, 512)        2048      \n",
      " zation)                                                         \n",
      "                                                                 \n",
      " conv_dw_12_relu (ReLU)      (None, 7, 7, 512)         0         \n",
      "                                                                 \n",
      " conv_pw_12 (Conv2D)         (None, 7, 7, 1024)        524288    \n",
      "                                                                 \n",
      " conv_pw_12_bn (BatchNormali  (None, 7, 7, 1024)       4096      \n",
      " zation)                                                         \n",
      "                                                                 \n",
      " conv_pw_12_relu (ReLU)      (None, 7, 7, 1024)        0         \n",
      "                                                                 \n",
      " conv_dw_13 (DepthwiseConv2D  (None, 7, 7, 1024)       9216      \n",
      " )                                                               \n",
      "                                                                 \n",
      " conv_dw_13_bn (BatchNormali  (None, 7, 7, 1024)       4096      \n",
      " zation)                                                         \n",
      "                                                                 \n",
      " conv_dw_13_relu (ReLU)      (None, 7, 7, 1024)        0         \n",
      "                                                                 \n",
      " conv_pw_13 (Conv2D)         (None, 7, 7, 1024)        1048576   \n",
      "                                                                 \n",
      " conv_pw_13_bn (BatchNormali  (None, 7, 7, 1024)       4096      \n",
      " zation)                                                         \n",
      "                                                                 \n",
      " conv_pw_13_relu (ReLU)      (None, 7, 7, 1024)        0         \n",
      "                                                                 \n",
      "=================================================================\n",
      "Total params: 3,228,864\n",
      "Trainable params: 3,206,976\n",
      "Non-trainable params: 21,888\n",
      "_________________________________________________________________\n"
     ]
    }
   ],
   "source": [
    "mob_model2.summary()"
   ]
  },
  {
   "cell_type": "code",
   "execution_count": 28,
   "id": "28c8884e",
   "metadata": {
    "ExecuteTime": {
     "end_time": "2022-04-01T01:59:03.669232Z",
     "start_time": "2022-04-01T01:59:03.216024Z"
    }
   },
   "outputs": [],
   "source": [
    "Mb_model2 = Sequential()\n",
    "Mb_model2.add(mob_model2)\n",
    "\n",
    "Mb_model2.add(Flatten())\n",
    "\n",
    "Mb_model2.add(Dense(1024,activation='relu'))\n",
    "Mb_model2.add(Dense(512,activation='relu'))\n",
    "Mb_model2.add(Dense(256,activation='relu'))\n",
    "Mb_model2.add(Dense(128,activation='relu'))\n",
    "Mb_model2.add(Dense(100,activation='relu'))\n",
    "\n",
    "Mb_model2.add(Dense(73,activation='softmax'))"
   ]
  },
  {
   "cell_type": "code",
   "execution_count": 29,
   "id": "196d4b98",
   "metadata": {
    "ExecuteTime": {
     "end_time": "2022-04-01T01:59:06.410680Z",
     "start_time": "2022-04-01T01:59:06.398685Z"
    }
   },
   "outputs": [],
   "source": [
    "Mb_model2.compile(loss='categorical_crossentropy', metrics=['accuracy'], optimizer='adam')"
   ]
  },
  {
   "cell_type": "code",
   "execution_count": null,
   "id": "4c069f52",
   "metadata": {
    "ExecuteTime": {
     "end_time": "2022-04-01T02:46:30.825592Z",
     "start_time": "2022-04-01T02:00:40.385498Z"
    },
    "scrolled": true
   },
   "outputs": [
    {
     "name": "stdout",
     "output_type": "stream",
     "text": [
      "Epoch 1/100\n",
      "906/906 [==============================] - 106s 116ms/step - loss: 3.7354 - accuracy: 0.0938 - val_loss: 3.1879 - val_accuracy: 0.1483\n",
      "Epoch 2/100\n",
      "906/906 [==============================] - 105s 116ms/step - loss: 2.7337 - accuracy: 0.2395 - val_loss: 2.7355 - val_accuracy: 0.2724\n",
      "Epoch 3/100\n",
      "906/906 [==============================] - 105s 116ms/step - loss: 2.0263 - accuracy: 0.4108 - val_loss: 2.1319 - val_accuracy: 0.4251\n",
      "Epoch 4/100\n",
      "906/906 [==============================] - 105s 116ms/step - loss: 1.5084 - accuracy: 0.5529 - val_loss: 2.1099 - val_accuracy: 0.4787\n",
      "Epoch 5/100\n",
      "906/906 [==============================] - 105s 116ms/step - loss: 1.0834 - accuracy: 0.6774 - val_loss: 1.4809 - val_accuracy: 0.6117\n",
      "Epoch 6/100\n",
      "906/906 [==============================] - 105s 116ms/step - loss: 0.8348 - accuracy: 0.7551 - val_loss: 1.5637 - val_accuracy: 0.6080\n",
      "Epoch 7/100\n",
      "906/906 [==============================] - 105s 116ms/step - loss: 0.6706 - accuracy: 0.8057 - val_loss: 1.8481 - val_accuracy: 0.5856\n",
      "Epoch 8/100\n",
      "906/906 [==============================] - 105s 116ms/step - loss: 0.5662 - accuracy: 0.8366 - val_loss: 1.3778 - val_accuracy: 0.6787\n",
      "Epoch 9/100\n",
      "906/906 [==============================] - 105s 116ms/step - loss: 0.4869 - accuracy: 0.8613 - val_loss: 1.3313 - val_accuracy: 0.6879\n",
      "Epoch 10/100\n",
      "906/906 [==============================] - 105s 116ms/step - loss: 0.4155 - accuracy: 0.8793 - val_loss: 1.5761 - val_accuracy: 0.6673\n",
      "Epoch 11/100\n",
      "906/906 [==============================] - 105s 115ms/step - loss: 0.3570 - accuracy: 0.9009 - val_loss: 1.2765 - val_accuracy: 0.7127\n",
      "Epoch 12/100\n",
      "906/906 [==============================] - 105s 116ms/step - loss: 0.3611 - accuracy: 0.9003 - val_loss: 1.4887 - val_accuracy: 0.6867\n",
      "Epoch 13/100\n",
      "906/906 [==============================] - 105s 116ms/step - loss: 0.3465 - accuracy: 0.9073 - val_loss: 1.5158 - val_accuracy: 0.6671\n",
      "Epoch 14/100\n",
      "906/906 [==============================] - 105s 116ms/step - loss: 0.2855 - accuracy: 0.9210 - val_loss: 1.4049 - val_accuracy: 0.7015\n",
      "Epoch 15/100\n",
      "906/906 [==============================] - 105s 116ms/step - loss: 0.3090 - accuracy: 0.9182 - val_loss: 1.2866 - val_accuracy: 0.7232\n",
      "Epoch 16/100\n",
      "906/906 [==============================] - 105s 116ms/step - loss: 0.2520 - accuracy: 0.9314 - val_loss: 1.4170 - val_accuracy: 0.7079\n",
      "Epoch 17/100\n",
      "906/906 [==============================] - 105s 116ms/step - loss: 0.2739 - accuracy: 0.9307 - val_loss: 1.4666 - val_accuracy: 0.7204\n",
      "Epoch 18/100\n",
      "906/906 [==============================] - 105s 115ms/step - loss: 0.2388 - accuracy: 0.9381 - val_loss: 1.4297 - val_accuracy: 0.7261\n",
      "Epoch 19/100\n",
      "906/906 [==============================] - 105s 115ms/step - loss: 0.2054 - accuracy: 0.9469 - val_loss: 1.6062 - val_accuracy: 0.6866\n",
      "Epoch 20/100\n",
      "906/906 [==============================] - 106s 117ms/step - loss: 0.2094 - accuracy: 0.9488 - val_loss: 1.8839 - val_accuracy: 0.6503\n",
      "Epoch 21/100\n",
      "906/906 [==============================] - 105s 116ms/step - loss: 0.2355 - accuracy: 0.9441 - val_loss: 2.4199 - val_accuracy: 0.6366\n",
      "Epoch 22/100\n",
      "906/906 [==============================] - 105s 116ms/step - loss: 0.2525 - accuracy: 0.9413 - val_loss: 1.7699 - val_accuracy: 0.6652\n",
      "Epoch 23/100\n",
      "906/906 [==============================] - 105s 116ms/step - loss: 0.2070 - accuracy: 0.9495 - val_loss: 1.5007 - val_accuracy: 0.7160\n",
      "Epoch 24/100\n",
      "906/906 [==============================] - 105s 116ms/step - loss: 0.1893 - accuracy: 0.9557 - val_loss: 1.4827 - val_accuracy: 0.7249\n",
      "Epoch 25/100\n",
      "906/906 [==============================] - 106s 117ms/step - loss: 0.1635 - accuracy: 0.9613 - val_loss: 1.5646 - val_accuracy: 0.7265\n",
      "Epoch 26/100\n",
      "906/906 [==============================] - 105s 116ms/step - loss: 0.2042 - accuracy: 0.9535 - val_loss: 1.5573 - val_accuracy: 0.7271\n",
      "Epoch 27/100\n",
      "906/906 [==============================] - 106s 117ms/step - loss: 0.1824 - accuracy: 0.9570 - val_loss: 1.5443 - val_accuracy: 0.7201\n",
      "Epoch 28/100\n",
      "906/906 [==============================] - 105s 116ms/step - loss: 0.1986 - accuracy: 0.9562 - val_loss: 1.8070 - val_accuracy: 0.6878\n",
      "Epoch 29/100\n",
      "906/906 [==============================] - 104s 115ms/step - loss: 0.1712 - accuracy: 0.9636 - val_loss: 1.6948 - val_accuracy: 0.7201\n",
      "Epoch 30/100\n",
      "348/906 [==========>...................] - ETA: 52s - loss: 0.1218 - accuracy: 0.9737"
     ]
    }
   ],
   "source": [
    "Mb_hist2 = Mb_model2.fit(train_generator,epochs=100,\n",
    "                            steps_per_epoch=train_generator.samples//train_generator.batch_size,\n",
    "                           validation_data=val_generator, validation_steps= val_generator.samples//val_generator.batch_size)"
   ]
  },
  {
   "cell_type": "code",
   "execution_count": 55,
   "id": "cf76eaf0",
   "metadata": {},
   "outputs": [
    {
     "name": "stderr",
     "output_type": "stream",
     "text": [
      "C:\\Users\\bitcamp\\AppData\\Local\\Temp\\ipykernel_8960\\562647914.py:1: UserWarning: `Model.evaluate_generator` is deprecated and will be removed in a future version. Please use `Model.evaluate`, which supports generators.\n",
      "  Mb_model2.evaluate_generator(test_generator)\n"
     ]
    },
    {
     "data": {
      "text/plain": [
       "[1.3207881450653076, 0.7681034207344055]"
      ]
     },
     "execution_count": 55,
     "metadata": {},
     "output_type": "execute_result"
    }
   ],
   "source": [
    "Mb_model2.evaluate_generator(test_generator)"
   ]
  },
  {
   "cell_type": "code",
   "execution_count": 73,
   "id": "3651a366",
   "metadata": {},
   "outputs": [
    {
     "data": {
      "text/plain": [
       "[<matplotlib.lines.Line2D at 0x2155cc8a9b0>]"
      ]
     },
     "execution_count": 73,
     "metadata": {},
     "output_type": "execute_result"
    },
    {
     "data": {
      "image/png": "[encoded data removed]",
      "text/plain": [
       "<Figure size 432x288 with 1 Axes>"
      ]
     },
     "metadata": {
      "needs_background": "light"
     },
     "output_type": "display_data"
    }
   ],
   "source": [
    "plt.plot(Mb_hist2.history['loss'])\n",
    "plt.plot(Mb_hist2.history['val_loss'])"
   ]
  },
  {
   "cell_type": "code",
   "execution_count": 74,
   "id": "9a942a8b",
   "metadata": {},
   "outputs": [
    {
     "data": {
      "text/plain": [
       "[<matplotlib.lines.Line2D at 0x2155c8d6080>]"
      ]
     },
     "execution_count": 74,
     "metadata": {},
     "output_type": "execute_result"
    },
    {
     "data": {
      "image/png": "[encoded data removed]",
      "text/plain": [
       "<Figure size 432x288 with 1 Axes>"
      ]
     },
     "metadata": {
      "needs_background": "light"
     },
     "output_type": "display_data"
    }
   ],
   "source": [
    "plt.plot(Mb_hist2.history['accuracy'])\n",
    "plt.plot(Mb_hist2.history['val_accuracy'])"
   ]
  },
  {
   "cell_type": "code",
   "execution_count": 58,
   "id": "ae8e8f39",
   "metadata": {},
   "outputs": [
    {
     "name": "stderr",
     "output_type": "stream",
     "text": [
      "WARNING:absl:Function `_wrapped_model` contains input name(s) mobilenet_1.00_224_input with unsupported characters which will be renamed to mobilenet_1_00_224_input in the SavedModel.\n"
     ]
    },
    {
     "name": "stdout",
     "output_type": "stream",
     "text": [
      "INFO:tensorflow:Assets written to: ./data/model_result/mobilenet2\\assets\n"
     ]
    },
    {
     "name": "stderr",
     "output_type": "stream",
     "text": [
      "INFO:tensorflow:Assets written to: ./data/model_result/mobilenet2\\assets\n"
     ]
    }
   ],
   "source": [
    "Mb_model2.save('./data/model_result/mobilenet2.h5')"
   ]
  },
  {
   "cell_type": "code",
   "execution_count": null,
   "id": "21a69cc2",
   "metadata": {},
   "outputs": [],
   "source": []
  },
  {
   "cell_type": "markdown",
   "id": "33ca0741",
   "metadata": {},
   "source": [
    "## MobileNet_3 : dropout  "
   ]
  },
  {
   "cell_type": "code",
   "execution_count": 64,
   "id": "3a8c825c",
   "metadata": {},
   "outputs": [
    {
     "name": "stdout",
     "output_type": "stream",
     "text": [
      "Found 18134 images belonging to 73 classes.\n",
      "Found 6870 images belonging to 73 classes.\n",
      "Found 6960 images belonging to 73 classes.\n"
     ]
    }
   ],
   "source": [
    "# train \n",
    "train_datagen = ImageDataGenerator(rescale=1./255.)\n",
    "train_generator = train_datagen.flow_from_directory('./data/smallclass/train',\n",
    "                                      target_size = (224,224),\n",
    "                                      batch_size=20,\n",
    "                                      class_mode='categorical')\n",
    "# validation\n",
    "val_datagen = ImageDataGenerator(rescale=1./255.)\n",
    "val_generator = val_datagen.flow_from_directory('./data/smallclass/val',\n",
    "                                      target_size = (224,224),\n",
    "                                      batch_size=20,\n",
    "                                      class_mode='categorical')\n",
    "# test\n",
    "test_datagen = ImageDataGenerator(rescale = 1./255)\n",
    "test_generator = test_datagen.flow_from_directory('./data/smallclass/test',\n",
    "                                       target_size = (224,224),\n",
    "                                       batch_size =20, \n",
    "                                       class_mode = 'categorical')"
   ]
  },
  {
   "cell_type": "code",
   "execution_count": 65,
   "id": "6c328bb7",
   "metadata": {},
   "outputs": [],
   "source": [
    "from tensorflow.keras.applications import mobilenet\n",
    "with tf.device('/GPU:0'):\n",
    "    mob_model3 = tf.keras.applications.mobilenet.MobileNet(weights='imagenet',\n",
    "                                                             include_top= False,\n",
    "                                                              input_shape=(224,224,3),\n",
    "                                                              classifier_activation=\"softmax\"\n",
    "                                                                )\n",
    "mob_model3.trainable = True"
   ]
  },
  {
   "cell_type": "code",
   "execution_count": 66,
   "id": "73b20fb3",
   "metadata": {},
   "outputs": [],
   "source": [
    "Mb_model3 = Sequential()\n",
    "Mb_model3.add(mob_model3)\n",
    "\n",
    "Mb_model3.add(Flatten())\n",
    "\n",
    "Mb_model3.add(Dense(1024,activation='relu'))\n",
    "Mb_model3.add(Dense(512,activation='relu'))\n",
    "Mb_model3.add(Dropout(0.1))\n",
    "Mb_model3.add(Dense(256,activation='relu'))\n",
    "Mb_model3.add(Dense(128,activation='relu'))\n",
    "Mb_model3.add(Dropout(0.1))\n",
    "Mb_model3.add(Dense(100,activation='relu'))\n",
    "\n",
    "Mb_model3.add(Dense(73,activation='softmax'))"
   ]
  },
  {
   "cell_type": "code",
   "execution_count": 67,
   "id": "25150b83",
   "metadata": {},
   "outputs": [],
   "source": [
    "Mb_model3.compile(loss='categorical_crossentropy', metrics=['accuracy'], optimizer='adam')"
   ]
  },
  {
   "cell_type": "code",
   "execution_count": 68,
   "id": "b20213bc",
   "metadata": {},
   "outputs": [
    {
     "name": "stdout",
     "output_type": "stream",
     "text": [
      "Epoch 1/100\n",
      "906/906 [==============================] - 106s 115ms/step - loss: 3.7940 - accuracy: 0.0954 - val_loss: 3.2383 - val_accuracy: 0.1783\n",
      "Epoch 2/100\n",
      "906/906 [==============================] - 104s 114ms/step - loss: 2.5108 - accuracy: 0.2991 - val_loss: 2.6759 - val_accuracy: 0.3203\n",
      "Epoch 3/100\n",
      "906/906 [==============================] - 104s 115ms/step - loss: 1.6645 - accuracy: 0.5088 - val_loss: 1.8832 - val_accuracy: 0.4910\n",
      "Epoch 4/100\n",
      "906/906 [==============================] - 104s 115ms/step - loss: 1.1317 - accuracy: 0.6626 - val_loss: 1.8961 - val_accuracy: 0.5259\n",
      "Epoch 5/100\n",
      "906/906 [==============================] - 107s 118ms/step - loss: 0.7980 - accuracy: 0.7606 - val_loss: 1.6895 - val_accuracy: 0.5777\n",
      "Epoch 6/100\n",
      "906/906 [==============================] - 106s 117ms/step - loss: 0.6178 - accuracy: 0.8138 - val_loss: 1.6465 - val_accuracy: 0.6064\n",
      "Epoch 7/100\n",
      "906/906 [==============================] - 105s 116ms/step - loss: 0.4923 - accuracy: 0.8528 - val_loss: 1.3136 - val_accuracy: 0.6762\n",
      "Epoch 8/100\n",
      "906/906 [==============================] - 104s 114ms/step - loss: 0.4126 - accuracy: 0.8742 - val_loss: 1.5090 - val_accuracy: 0.6611\n",
      "Epoch 9/100\n",
      "906/906 [==============================] - 103s 114ms/step - loss: 0.3702 - accuracy: 0.8896 - val_loss: 1.4339 - val_accuracy: 0.6886\n",
      "Epoch 10/100\n",
      "906/906 [==============================] - 103s 114ms/step - loss: 0.3137 - accuracy: 0.9049 - val_loss: 1.3185 - val_accuracy: 0.7032\n",
      "Epoch 11/100\n",
      "906/906 [==============================] - 103s 114ms/step - loss: 0.2911 - accuracy: 0.9113 - val_loss: 1.2731 - val_accuracy: 0.7265\n",
      "Epoch 12/100\n",
      "906/906 [==============================] - 104s 114ms/step - loss: 0.2725 - accuracy: 0.9174 - val_loss: 1.4876 - val_accuracy: 0.7063\n",
      "Epoch 13/100\n",
      "906/906 [==============================] - 103s 114ms/step - loss: 0.2473 - accuracy: 0.9255 - val_loss: 1.2312 - val_accuracy: 0.7306\n",
      "Epoch 14/100\n",
      "906/906 [==============================] - 104s 114ms/step - loss: 0.2278 - accuracy: 0.9336 - val_loss: 1.4794 - val_accuracy: 0.7111\n",
      "Epoch 15/100\n",
      "906/906 [==============================] - 104s 114ms/step - loss: 0.2285 - accuracy: 0.9334 - val_loss: 1.4260 - val_accuracy: 0.7045\n",
      "Epoch 16/100\n",
      "906/906 [==============================] - 104s 114ms/step - loss: 0.2301 - accuracy: 0.9360 - val_loss: 1.3735 - val_accuracy: 0.7297\n",
      "Epoch 17/100\n",
      "906/906 [==============================] - 103s 114ms/step - loss: 0.1991 - accuracy: 0.9446 - val_loss: 1.4518 - val_accuracy: 0.7157\n",
      "Epoch 18/100\n",
      "906/906 [==============================] - 104s 114ms/step - loss: 0.1928 - accuracy: 0.9478 - val_loss: 1.3043 - val_accuracy: 0.7369\n",
      "Epoch 19/100\n",
      "906/906 [==============================] - 103s 114ms/step - loss: 0.1884 - accuracy: 0.9495 - val_loss: 1.2972 - val_accuracy: 0.7405\n",
      "Epoch 20/100\n",
      "906/906 [==============================] - 104s 114ms/step - loss: 0.1462 - accuracy: 0.9575 - val_loss: 1.5492 - val_accuracy: 0.7090\n",
      "Epoch 21/100\n",
      "906/906 [==============================] - 104s 115ms/step - loss: 0.1945 - accuracy: 0.9501 - val_loss: 1.7141 - val_accuracy: 0.6952\n",
      "Epoch 22/100\n",
      "906/906 [==============================] - 104s 115ms/step - loss: 0.1512 - accuracy: 0.9583 - val_loss: 1.5213 - val_accuracy: 0.7417\n",
      "Epoch 23/100\n",
      "906/906 [==============================] - 104s 114ms/step - loss: 0.1665 - accuracy: 0.9574 - val_loss: 1.5005 - val_accuracy: 0.7150\n",
      "Epoch 24/100\n",
      "906/906 [==============================] - 103s 114ms/step - loss: 0.1391 - accuracy: 0.9646 - val_loss: 1.4364 - val_accuracy: 0.7259\n",
      "Epoch 25/100\n",
      "906/906 [==============================] - 103s 114ms/step - loss: 0.1339 - accuracy: 0.9643 - val_loss: 1.5250 - val_accuracy: 0.7265\n",
      "Epoch 26/100\n",
      "906/906 [==============================] - 105s 115ms/step - loss: 0.1694 - accuracy: 0.9579 - val_loss: 1.7590 - val_accuracy: 0.7048\n",
      "Epoch 27/100\n",
      "906/906 [==============================] - 104s 114ms/step - loss: 0.1363 - accuracy: 0.9660 - val_loss: 1.3590 - val_accuracy: 0.7501\n",
      "Epoch 28/100\n",
      "906/906 [==============================] - 104s 115ms/step - loss: 0.1409 - accuracy: 0.9658 - val_loss: 1.3782 - val_accuracy: 0.7587\n",
      "Epoch 29/100\n",
      "906/906 [==============================] - 103s 114ms/step - loss: 0.1196 - accuracy: 0.9678 - val_loss: 1.5873 - val_accuracy: 0.7401\n",
      "Epoch 30/100\n",
      "906/906 [==============================] - 104s 115ms/step - loss: 0.1358 - accuracy: 0.9684 - val_loss: 1.8222 - val_accuracy: 0.7513\n",
      "Epoch 31/100\n",
      "906/906 [==============================] - 103s 114ms/step - loss: 0.1218 - accuracy: 0.9717 - val_loss: 1.6617 - val_accuracy: 0.7415\n",
      "Epoch 32/100\n",
      "906/906 [==============================] - 104s 114ms/step - loss: 0.1341 - accuracy: 0.9662 - val_loss: 1.5478 - val_accuracy: 0.7415\n",
      "Epoch 33/100\n",
      "906/906 [==============================] - 104s 114ms/step - loss: 0.1533 - accuracy: 0.9651 - val_loss: 1.7561 - val_accuracy: 0.7230\n",
      "Epoch 34/100\n",
      "906/906 [==============================] - 104s 115ms/step - loss: 0.1145 - accuracy: 0.9733 - val_loss: 1.8230 - val_accuracy: 0.6975\n",
      "Epoch 35/100\n",
      "906/906 [==============================] - 104s 115ms/step - loss: 0.1370 - accuracy: 0.9684 - val_loss: 1.6205 - val_accuracy: 0.7376\n",
      "Epoch 36/100\n",
      "906/906 [==============================] - 103s 114ms/step - loss: 0.0962 - accuracy: 0.9780 - val_loss: 1.5000 - val_accuracy: 0.7569\n",
      "Epoch 37/100\n",
      "906/906 [==============================] - 103s 114ms/step - loss: 0.1223 - accuracy: 0.9732 - val_loss: 1.6848 - val_accuracy: 0.7232\n",
      "Epoch 38/100\n",
      "906/906 [==============================] - 104s 115ms/step - loss: 0.1350 - accuracy: 0.9698 - val_loss: 1.7277 - val_accuracy: 0.7450\n",
      "Epoch 39/100\n",
      "906/906 [==============================] - 104s 114ms/step - loss: 0.1178 - accuracy: 0.9736 - val_loss: 1.9248 - val_accuracy: 0.7197\n",
      "Epoch 40/100\n",
      "906/906 [==============================] - 104s 114ms/step - loss: 0.1065 - accuracy: 0.9776 - val_loss: 1.6330 - val_accuracy: 0.7536\n",
      "Epoch 41/100\n",
      "906/906 [==============================] - 104s 115ms/step - loss: 0.1374 - accuracy: 0.9723 - val_loss: 1.7124 - val_accuracy: 0.7509\n",
      "Epoch 42/100\n",
      "906/906 [==============================] - 103s 114ms/step - loss: 0.1435 - accuracy: 0.9707 - val_loss: 1.7772 - val_accuracy: 0.7156\n",
      "Epoch 43/100\n",
      "906/906 [==============================] - 103s 114ms/step - loss: 0.1195 - accuracy: 0.9746 - val_loss: 1.5130 - val_accuracy: 0.7544\n",
      "Epoch 44/100\n",
      "906/906 [==============================] - 104s 115ms/step - loss: 0.0815 - accuracy: 0.9819 - val_loss: 2.0153 - val_accuracy: 0.6882\n",
      "Epoch 45/100\n",
      "906/906 [==============================] - 104s 115ms/step - loss: 0.1337 - accuracy: 0.9718 - val_loss: 1.9760 - val_accuracy: 0.7338\n",
      "Epoch 46/100\n",
      "906/906 [==============================] - 104s 114ms/step - loss: 0.1067 - accuracy: 0.9773 - val_loss: 2.6252 - val_accuracy: 0.6372\n",
      "Epoch 47/100\n",
      "906/906 [==============================] - 104s 114ms/step - loss: 0.1006 - accuracy: 0.9781 - val_loss: 1.8931 - val_accuracy: 0.7370\n",
      "Epoch 48/100\n",
      "906/906 [==============================] - 104s 115ms/step - loss: 0.0941 - accuracy: 0.9792 - val_loss: 1.8892 - val_accuracy: 0.7379\n",
      "Epoch 49/100\n",
      "906/906 [==============================] - 104s 114ms/step - loss: 0.1099 - accuracy: 0.9769 - val_loss: 1.7375 - val_accuracy: 0.7147\n",
      "Epoch 50/100\n",
      "906/906 [==============================] - 103s 114ms/step - loss: 0.1052 - accuracy: 0.9778 - val_loss: 2.0903 - val_accuracy: 0.7265\n",
      "Epoch 51/100\n",
      "906/906 [==============================] - 104s 115ms/step - loss: 0.0956 - accuracy: 0.9816 - val_loss: 2.0815 - val_accuracy: 0.7415\n",
      "Epoch 52/100\n",
      "906/906 [==============================] - 105s 115ms/step - loss: 0.1194 - accuracy: 0.9767 - val_loss: 1.8093 - val_accuracy: 0.7506\n",
      "Epoch 53/100\n",
      "906/906 [==============================] - 104s 114ms/step - loss: 0.1034 - accuracy: 0.9817 - val_loss: 1.8998 - val_accuracy: 0.7331\n",
      "Epoch 54/100\n",
      "906/906 [==============================] - 104s 115ms/step - loss: 0.1007 - accuracy: 0.9797 - val_loss: 2.0366 - val_accuracy: 0.7372\n",
      "Epoch 55/100\n",
      "906/906 [==============================] - 103s 114ms/step - loss: 0.0966 - accuracy: 0.9800 - val_loss: 1.8646 - val_accuracy: 0.7461\n",
      "Epoch 56/100\n",
      "906/906 [==============================] - 103s 114ms/step - loss: 0.0953 - accuracy: 0.9800 - val_loss: 2.1612 - val_accuracy: 0.7408\n",
      "Epoch 57/100\n",
      "906/906 [==============================] - 104s 114ms/step - loss: 0.1189 - accuracy: 0.9784 - val_loss: 1.9446 - val_accuracy: 0.7343\n",
      "Epoch 58/100\n",
      "906/906 [==============================] - 103s 114ms/step - loss: 0.0739 - accuracy: 0.9834 - val_loss: 2.0590 - val_accuracy: 0.7433\n",
      "Epoch 59/100\n",
      "906/906 [==============================] - 103s 114ms/step - loss: 0.1780 - accuracy: 0.9676 - val_loss: 1.9828 - val_accuracy: 0.7087\n",
      "Epoch 60/100\n",
      "906/906 [==============================] - 104s 115ms/step - loss: 0.0825 - accuracy: 0.9835 - val_loss: 1.7780 - val_accuracy: 0.7475\n",
      "Epoch 61/100\n",
      "906/906 [==============================] - 104s 114ms/step - loss: 0.0524 - accuracy: 0.9877 - val_loss: 2.2036 - val_accuracy: 0.7344\n",
      "Epoch 62/100\n",
      "906/906 [==============================] - 104s 114ms/step - loss: 0.1457 - accuracy: 0.9736 - val_loss: 1.7551 - val_accuracy: 0.7379\n",
      "Epoch 63/100\n",
      "906/906 [==============================] - 104s 115ms/step - loss: 0.0762 - accuracy: 0.9848 - val_loss: 1.9455 - val_accuracy: 0.7576\n",
      "Epoch 64/100\n",
      "906/906 [==============================] - 104s 115ms/step - loss: 0.1520 - accuracy: 0.9734 - val_loss: 2.0297 - val_accuracy: 0.7421\n",
      "Epoch 65/100\n",
      "906/906 [==============================] - 104s 114ms/step - loss: 0.1100 - accuracy: 0.9811 - val_loss: 1.8115 - val_accuracy: 0.7382\n",
      "Epoch 66/100\n",
      "906/906 [==============================] - 103s 114ms/step - loss: 0.0830 - accuracy: 0.9845 - val_loss: 1.8994 - val_accuracy: 0.7571\n",
      "Epoch 67/100\n",
      "906/906 [==============================] - 104s 115ms/step - loss: 0.0634 - accuracy: 0.9881 - val_loss: 2.7064 - val_accuracy: 0.7074\n",
      "Epoch 68/100\n",
      "906/906 [==============================] - 104s 114ms/step - loss: 0.0898 - accuracy: 0.9835 - val_loss: 2.2511 - val_accuracy: 0.7353\n",
      "Epoch 69/100\n",
      "906/906 [==============================] - 104s 114ms/step - loss: 0.0711 - accuracy: 0.9850 - val_loss: 2.3908 - val_accuracy: 0.7273\n",
      "Epoch 70/100\n",
      "906/906 [==============================] - 103s 114ms/step - loss: 0.1204 - accuracy: 0.9774 - val_loss: 2.0086 - val_accuracy: 0.7343\n",
      "Epoch 71/100\n",
      "906/906 [==============================] - 103s 114ms/step - loss: 0.1158 - accuracy: 0.9800 - val_loss: 2.2791 - val_accuracy: 0.7162\n",
      "Epoch 72/100\n",
      "906/906 [==============================] - 104s 115ms/step - loss: 0.1120 - accuracy: 0.9798 - val_loss: 2.4343 - val_accuracy: 0.7286\n",
      "Epoch 73/100\n",
      "906/906 [==============================] - 104s 114ms/step - loss: 0.1117 - accuracy: 0.9819 - val_loss: 1.9638 - val_accuracy: 0.7281\n",
      "Epoch 74/100\n",
      "906/906 [==============================] - 104s 114ms/step - loss: 0.1040 - accuracy: 0.9810 - val_loss: 2.1849 - val_accuracy: 0.7203\n",
      "Epoch 75/100\n",
      "906/906 [==============================] - 104s 114ms/step - loss: 0.0729 - accuracy: 0.9861 - val_loss: 2.3516 - val_accuracy: 0.7155\n",
      "Epoch 76/100\n",
      "906/906 [==============================] - 104s 115ms/step - loss: 0.1276 - accuracy: 0.9784 - val_loss: 2.5190 - val_accuracy: 0.7074\n",
      "Epoch 77/100\n",
      "906/906 [==============================] - 103s 114ms/step - loss: 0.1252 - accuracy: 0.9792 - val_loss: 2.1079 - val_accuracy: 0.7383\n",
      "Epoch 78/100\n",
      "906/906 [==============================] - 104s 115ms/step - loss: 0.0738 - accuracy: 0.9871 - val_loss: 2.3477 - val_accuracy: 0.7370\n",
      "Epoch 79/100\n",
      "906/906 [==============================] - 104s 114ms/step - loss: 0.0932 - accuracy: 0.9843 - val_loss: 2.5437 - val_accuracy: 0.7388\n",
      "Epoch 80/100\n",
      "906/906 [==============================] - 104s 114ms/step - loss: 0.0867 - accuracy: 0.9835 - val_loss: 2.3764 - val_accuracy: 0.7226\n",
      "Epoch 81/100\n",
      "906/906 [==============================] - 104s 115ms/step - loss: 0.1165 - accuracy: 0.9813 - val_loss: 2.1846 - val_accuracy: 0.7127\n",
      "Epoch 82/100\n",
      "906/906 [==============================] - 104s 115ms/step - loss: 0.1198 - accuracy: 0.9801 - val_loss: 2.5854 - val_accuracy: 0.7133\n",
      "Epoch 83/100\n",
      "906/906 [==============================] - 103s 114ms/step - loss: 0.0844 - accuracy: 0.9853 - val_loss: 2.2923 - val_accuracy: 0.7418\n",
      "Epoch 84/100\n",
      "906/906 [==============================] - 104s 114ms/step - loss: 0.1283 - accuracy: 0.9769 - val_loss: 2.6414 - val_accuracy: 0.7144\n",
      "Epoch 85/100\n",
      "906/906 [==============================] - 104s 114ms/step - loss: 0.1237 - accuracy: 0.9804 - val_loss: 2.1388 - val_accuracy: 0.7219\n",
      "Epoch 86/100\n",
      "906/906 [==============================] - 104s 114ms/step - loss: 0.0584 - accuracy: 0.9875 - val_loss: 2.4536 - val_accuracy: 0.7424\n",
      "Epoch 87/100\n",
      "906/906 [==============================] - 103s 114ms/step - loss: 0.0974 - accuracy: 0.9832 - val_loss: 2.3668 - val_accuracy: 0.7134\n",
      "Epoch 88/100\n",
      "906/906 [==============================] - 104s 114ms/step - loss: 0.0669 - accuracy: 0.9870 - val_loss: 2.4184 - val_accuracy: 0.7411\n",
      "Epoch 89/100\n",
      "906/906 [==============================] - 104s 114ms/step - loss: 0.1081 - accuracy: 0.9816 - val_loss: 2.9502 - val_accuracy: 0.6829\n",
      "Epoch 90/100\n",
      "906/906 [==============================] - 104s 115ms/step - loss: 0.1186 - accuracy: 0.9786 - val_loss: 2.6790 - val_accuracy: 0.7542\n",
      "Epoch 91/100\n",
      "906/906 [==============================] - 104s 115ms/step - loss: 0.1728 - accuracy: 0.9741 - val_loss: 2.5183 - val_accuracy: 0.7184\n",
      "Epoch 92/100\n",
      "906/906 [==============================] - 104s 115ms/step - loss: 0.0888 - accuracy: 0.9848 - val_loss: 2.3056 - val_accuracy: 0.7459\n",
      "Epoch 93/100\n",
      "906/906 [==============================] - 104s 114ms/step - loss: 0.1255 - accuracy: 0.9811 - val_loss: 2.4617 - val_accuracy: 0.7207\n",
      "Epoch 94/100\n",
      "906/906 [==============================] - 104s 115ms/step - loss: 0.0944 - accuracy: 0.9860 - val_loss: 2.1778 - val_accuracy: 0.7430\n",
      "Epoch 95/100\n",
      "906/906 [==============================] - 104s 114ms/step - loss: 0.0806 - accuracy: 0.9853 - val_loss: 2.7887 - val_accuracy: 0.7466\n",
      "Epoch 96/100\n",
      "906/906 [==============================] - 104s 114ms/step - loss: 0.1670 - accuracy: 0.9729 - val_loss: 2.6353 - val_accuracy: 0.7458\n",
      "Epoch 97/100\n",
      "906/906 [==============================] - 104s 115ms/step - loss: 0.1031 - accuracy: 0.9855 - val_loss: 2.2241 - val_accuracy: 0.7378\n",
      "Epoch 98/100\n",
      "906/906 [==============================] - 104s 115ms/step - loss: 0.0878 - accuracy: 0.9851 - val_loss: 2.2161 - val_accuracy: 0.7283\n",
      "Epoch 99/100\n",
      "906/906 [==============================] - 104s 115ms/step - loss: 0.1022 - accuracy: 0.9838 - val_loss: 3.0377 - val_accuracy: 0.6800\n",
      "Epoch 100/100\n",
      "906/906 [==============================] - 104s 114ms/step - loss: 0.0968 - accuracy: 0.9855 - val_loss: 2.7871 - val_accuracy: 0.7369\n"
     ]
    }
   ],
   "source": [
    "Mb_hist3 = Mb_model3.fit(train_generator,epochs=100,\n",
    "                            steps_per_epoch=train_generator.samples//train_generator.batch_size,\n",
    "                           validation_data=val_generator, validation_steps= val_generator.samples//val_generator.batch_size)"
   ]
  },
  {
   "cell_type": "code",
   "execution_count": 69,
   "id": "db438879",
   "metadata": {
    "scrolled": true
   },
   "outputs": [
    {
     "name": "stderr",
     "output_type": "stream",
     "text": [
      "C:\\Users\\bitcamp\\AppData\\Local\\Temp\\ipykernel_8960\\2322731749.py:2: UserWarning: `Model.evaluate_generator` is deprecated and will be removed in a future version. Please use `Model.evaluate`, which supports generators.\n",
      "  Mb_model3.evaluate_generator(test_generator)\n"
     ]
    },
    {
     "data": {
      "text/plain": [
       "[2.9990580081939697, 0.7227011322975159]"
      ]
     },
     "execution_count": 69,
     "metadata": {},
     "output_type": "execute_result"
    }
   ],
   "source": [
    "# 결과확인\n",
    "Mb_model3.evaluate_generator(test_generator)"
   ]
  },
  {
   "cell_type": "code",
   "execution_count": null,
   "id": "d2895ee2",
   "metadata": {},
   "outputs": [],
   "source": [
    "# 시각화"
   ]
  },
  {
   "cell_type": "code",
   "execution_count": 76,
   "id": "3a9dd727",
   "metadata": {},
   "outputs": [
    {
     "data": {
      "text/plain": [
       "[<matplotlib.lines.Line2D at 0x2155a805720>]"
      ]
     },
     "execution_count": 76,
     "metadata": {},
     "output_type": "execute_result"
    },
    {
     "data": {
      "image/png": "[encoded data removed]",
      "text/plain": [
       "<Figure size 432x288 with 1 Axes>"
      ]
     },
     "metadata": {
      "needs_background": "light"
     },
     "output_type": "display_data"
    }
   ],
   "source": [
    "plt.plot(Mb_hist3.history['loss'])\n",
    "plt.plot(Mb_hist3.history['val_loss'])"
   ]
  },
  {
   "cell_type": "code",
   "execution_count": 77,
   "id": "f4d88c7c",
   "metadata": {},
   "outputs": [
    {
     "data": {
      "text/plain": [
       "[<matplotlib.lines.Line2D at 0x2155d372350>]"
      ]
     },
     "execution_count": 77,
     "metadata": {},
     "output_type": "execute_result"
    },
    {
     "data": {
      "image/png": "[encoded data removed]",
      "text/plain": [
       "<Figure size 432x288 with 1 Axes>"
      ]
     },
     "metadata": {
      "needs_background": "light"
     },
     "output_type": "display_data"
    }
   ],
   "source": [
    "plt.plot(Mb_hist3.history['accuracy'])\n",
    "plt.plot(Mb_hist3.history['val_accuracy'])"
   ]
  },
  {
   "cell_type": "code",
   "execution_count": null,
   "id": "d236b2c0",
   "metadata": {
    "ExecuteTime": {
     "end_time": "2022-03-30T07:41:50.661963Z",
     "start_time": "2022-03-30T07:41:50.478455Z"
    }
   },
   "outputs": [],
   "source": []
  },
  {
   "cell_type": "code",
   "execution_count": null,
   "id": "7fe4ceb6",
   "metadata": {},
   "outputs": [],
   "source": []
  }
 ],
 "metadata": {
  "kernelspec": {
   "display_name": "Python 3 (ipykernel)",
   "language": "python",
   "name": "python3"
  },
  "language_info": {
   "codemirror_mode": {
    "name": "ipython",
    "version": 3
   },
   "file_extension": ".py",
   "mimetype": "text/x-python",
   "name": "python",
   "nbconvert_exporter": "python",
   "pygments_lexer": "ipython3",
   "version": "3.9.7"
  },
  "toc": {
   "base_numbering": 1,
   "nav_menu": {},
   "number_sections": true,
   "sideBar": true,
   "skip_h1_title": false,
   "title_cell": "Table of Contents",
   "title_sidebar": "Contents",
   "toc_cell": false,
   "toc_position": {
    "height": "calc(100% - 180px)",
    "left": "10px",
    "top": "150px",
    "width": "304.469px"
   },
   "toc_section_display": true,
   "toc_window_display": true
  },
  "varInspector": {
   "cols": {
    "lenName": 16,
    "lenType": 16,
    "lenVar": 40
   },
   "kernels_config": {
    "python": {
     "delete_cmd_postfix": "",
     "delete_cmd_prefix": "del ",
     "library": "var_list.py",
     "varRefreshCmd": "print(var_dic_list())"
    },
    "r": {
     "delete_cmd_postfix": ") ",
     "delete_cmd_prefix": "rm(",
     "library": "var_list.r",
     "varRefreshCmd": "cat(var_dic_list()) "
    }
   },
   "types_to_exclude": [
    "module",
    "function",
    "builtin_function_or_method",
    "instance",
    "_Feature"
   ],
   "window_display": false
  }
 },
 "nbformat": 4,
 "nbformat_minor": 5
}
