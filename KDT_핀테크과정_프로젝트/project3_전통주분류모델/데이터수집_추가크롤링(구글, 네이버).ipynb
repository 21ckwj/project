{
 "cells": [
  {
   "cell_type": "code",
   "execution_count": 2,
   "metadata": {
    "ExecuteTime": {
     "end_time": "2022-03-28T05:10:22.539385Z",
     "start_time": "2022-03-28T05:10:22.114564Z"
    }
   },
   "outputs": [],
   "source": [
    "# 구글 부터 해봅세다\n",
    "import pandas as pd\n",
    "import numpy as np\n",
    "import requests\n",
    "\n",
    "from selenium import webdriver\n",
    "from selenium.webdriver.common.keys import Keys\n",
    "\n",
    "import urllib\n",
    "import os, shutil, base64,re\n",
    "import time"
   ]
  },
  {
   "cell_type": "code",
   "execution_count": 2,
   "metadata": {
    "ExecuteTime": {
     "end_time": "2022-03-28T00:49:00.100820Z",
     "start_time": "2022-03-28T00:49:00.083889Z"
    },
    "scrolled": true
   },
   "outputs": [
    {
     "data": {
      "text/plain": [
       "['1932 새싹땅콩햅쌀흑미',\n",
       " 'G12 골디락스',\n",
       " '감악산 산머루주',\n",
       " '경기전',\n",
       " '계룡산 산삼주 금수강산 21',\n",
       " '계룡산 산삼주 금수강산 40',\n",
       " '과하주23',\n",
       " '김포별주',\n",
       " '김포특주',\n",
       " '꿀샘 16',\n",
       " '능이주',\n",
       " '다래와인 3004',\n",
       " '달홀진주25',\n",
       " '달홀진주40',\n",
       " '대윤 가야곡 왕주',\n",
       " '독산 53',\n",
       " '동강더덕주',\n",
       " '두레앙목통숙성주',\n",
       " '두륜탁주',\n",
       " '막시모 40',\n",
       " '모월 로',\n",
       " '모월 청',\n",
       " '모월로미니',\n",
       " '무주구천동산머루주',\n",
       " '문배술 헤리티지 25도',\n",
       " '문배술 헤리티지 40도',\n",
       " '미담',\n",
       " '미인탁주',\n",
       " '밤꽃향기',\n",
       " '사미인주',\n",
       " '산막생대덕주',\n",
       " '삼양춘 생약주',\n",
       " '샤토미소 랑',\n",
       " '샹스프랑보아즈',\n",
       " '석로주',\n",
       " '세종 알밤주',\n",
       " '소여강 25',\n",
       " '소호',\n",
       " '술샘19',\n",
       " '술아 국화주',\n",
       " '술아 매화주',\n",
       " '술아 순곡주',\n",
       " '술아 연화주',\n",
       " '시인의마을',\n",
       " '신선주',\n",
       " '아띠',\n",
       " '아우내',\n",
       " '안동소주 일품 21도',\n",
       " '얼떨결에',\n",
       " '여민락주',\n",
       " '역전주',\n",
       " '연천 아주',\n",
       " '영탁막걸리',\n",
       " '예천주 사월24',\n",
       " '예천주 사월365',\n",
       " '예천주복 만월24',\n",
       " '오드린 베베마루 아내를 위한',\n",
       " '오목대',\n",
       " '우곡생주',\n",
       " '우곡주',\n",
       " '유기농이도 14',\n",
       " '이담',\n",
       " '이도 22',\n",
       " '제주몬순커피주',\n",
       " '죽향41',\n",
       " '지란지교',\n",
       " '지리산 정담 생쌀 막걸리',\n",
       " '참동이 허브잎술',\n",
       " '청주신선주탁주',\n",
       " '추성주',\n",
       " '포항불로주',\n",
       " '풍정사계 동(冬)',\n",
       " '풍정사계 춘(春)',\n",
       " '해남진양주',\n",
       " '해방주',\n",
       " '해창 막걸리 9도',\n",
       " '혼디주',\n",
       " '희양산 막걸리 15도',\n",
       " '희양산 막걸리 9도']"
      ]
     },
     "execution_count": 2,
     "metadata": {},
     "output_type": "execute_result"
    }
   ],
   "source": [
    "origin_path = './recrawl/'\n",
    "dirlist = os.listdir(origin_path)\n",
    "dirlist"
   ]
  },
  {
   "cell_type": "code",
   "execution_count": 3,
   "metadata": {
    "ExecuteTime": {
     "end_time": "2022-03-28T00:49:02.999048Z",
     "start_time": "2022-03-28T00:49:01.940839Z"
    }
   },
   "outputs": [],
   "source": [
    "driver = webdriver.Chrome()"
   ]
  },
  {
   "cell_type": "code",
   "execution_count": 4,
   "metadata": {
    "ExecuteTime": {
     "end_time": "2022-03-28T01:37:41.587441Z",
     "start_time": "2022-03-28T00:49:06.253996Z"
    }
   },
   "outputs": [
    {
     "name": "stderr",
     "output_type": "stream",
     "text": [
      "C:\\Users\\bitcamp\\AppData\\Local\\Temp/ipykernel_1068/1474762267.py:10: DeprecationWarning: find_elements_by_* commands are deprecated. Please use find_elements() instead\n",
      "  images = driver.find_elements_by_css_selector('#islrg > div.islrc > div> a.wXeWr.islib.nfEiy')\n",
      "C:\\Users\\bitcamp\\AppData\\Local\\Temp/ipykernel_1068/1474762267.py:17: DeprecationWarning: find_element_by_* commands are deprecated. Please use find_element() instead\n",
      "  ImgUrl = driver.find_element_by_xpath('//*[@id=\"Sva75c\"]/div/div/div[3]/div[2]/c-wiz/div/div[1]/div[1]/div[2]/div/a/img').get_attribute('src')\n"
     ]
    }
   ],
   "source": [
    "for key in dirlist[57:]:\n",
    "    keyword = key+' 전통주'\n",
    "    driver.get(f'https://www.google.com/search?q={keyword}&source=lnms&tbm=isch')\n",
    "    time.sleep(2)\n",
    "    SCROLL_PAUSE_TIME = 1\n",
    "    for _ in range(2):\n",
    "        last_height = driver.execute_script(\"return document.body.scrollHeight\")\n",
    "        driver.execute_script('window.scrollTo(0, document.body.scrollHeight);')\n",
    "        time.sleep(SCROLL_PAUSE_TIME)\n",
    "    images = driver.find_elements_by_css_selector('#islrg > div.islrc > div> a.wXeWr.islib.nfEiy')\n",
    "    maxcnt = min(len(images),80)\n",
    "    for ind,img in enumerate(images):\n",
    "        if ind>maxcnt:\n",
    "            break\n",
    "        img.click()\n",
    "        time.sleep(0.5)\n",
    "        ImgUrl = driver.find_element_by_xpath('//*[@id=\"Sva75c\"]/div/div/div[3]/div[2]/c-wiz/div/div[1]/div[1]/div[2]/div/a/img').get_attribute('src')\n",
    "        time.sleep(1)\n",
    "        if ImgUrl[:23] == 'data:image/jpeg;base64,':\n",
    "            with open(origin_path+key+f'/{key}_{ind+1}.jpg','wb') as f:\n",
    "                f.write(base64.b64decode(ImgUrl[23:]))\n",
    "        else:\n",
    "            try:\n",
    "                urllib.request.urlretrieve(ImgUrl, origin_path+key+f'/{key}_{ind+1}.jpg')\n",
    "            except:\n",
    "                pass\n",
    "\n"
   ]
  },
  {
   "cell_type": "code",
   "execution_count": 5,
   "metadata": {
    "ExecuteTime": {
     "end_time": "2022-03-28T00:42:19.601721Z",
     "start_time": "2022-03-28T00:42:19.596763Z"
    }
   },
   "outputs": [
    {
     "data": {
      "text/plain": [
       "57"
      ]
     },
     "execution_count": 5,
     "metadata": {},
     "output_type": "execute_result"
    }
   ],
   "source": [
    "# 오매락\n",
    "dirlist.index('오목대')"
   ]
  },
  {
   "cell_type": "code",
   "execution_count": null,
   "metadata": {
    "ExecuteTime": {
     "end_time": "2022-03-28T02:23:33.518989Z",
     "start_time": "2022-03-28T02:23:33.509016Z"
    },
    "scrolled": true
   },
   "outputs": [],
   "source": []
  },
  {
   "cell_type": "code",
   "execution_count": 58,
   "metadata": {
    "ExecuteTime": {
     "end_time": "2022-03-28T03:45:28.176844Z",
     "start_time": "2022-03-28T03:45:28.157307Z"
    }
   },
   "outputs": [],
   "source": [
    "worker = 'yeon'\n",
    "# 특이사항\n",
    "# 우도땅콩막걸리, 여포의 꿈 레드 - 합침\n",
    "# 오매락은 아직분류전\n",
    "# 장수홍삼주\n",
    "# 정고집 나주배 약주 9,15\n",
    "# 진도홍주아라리 이름바꿈\n",
    "# 하향주 분리\n",
    "df = pd.read_csv('중간상황갯수_yeon.csv',index_col=0)"
   ]
  },
  {
   "cell_type": "code",
   "execution_count": 59,
   "metadata": {
    "ExecuteTime": {
     "end_time": "2022-03-28T03:45:29.020832Z",
     "start_time": "2022-03-28T03:45:28.995512Z"
    }
   },
   "outputs": [],
   "source": [
    "refill = df[df['이미지갯수']<=20]['술이름'].values\n",
    "if not os.path.exists('./refill/'+ worker):\n",
    "    os.mkdir('./refill/'+ worker)\n",
    "for dr in refill:\n",
    "    os.mkdir('./refill/'+ worker+'/'+dr)"
   ]
  },
  {
   "cell_type": "markdown",
   "metadata": {
    "ExecuteTime": {
     "end_time": "2022-03-28T01:40:45.904388Z",
     "start_time": "2022-03-28T01:40:44.913078Z"
    }
   },
   "source": [
    "# 네이버"
   ]
  },
  {
   "cell_type": "code",
   "execution_count": 13,
   "metadata": {
    "ExecuteTime": {
     "end_time": "2022-03-28T05:52:05.489667Z",
     "start_time": "2022-03-28T05:52:05.476704Z"
    }
   },
   "outputs": [],
   "source": [
    "import pandas as pd\n",
    "import numpy as np\n",
    "import requests\n",
    "\n",
    "from selenium import webdriver\n",
    "from selenium.webdriver.common.keys import Keys\n",
    "\n",
    "import urllib\n",
    "import os, shutil, base64,re\n",
    "import time"
   ]
  },
  {
   "cell_type": "code",
   "execution_count": 14,
   "metadata": {
    "ExecuteTime": {
     "end_time": "2022-03-28T05:52:10.021495Z",
     "start_time": "2022-03-28T05:52:10.005567Z"
    }
   },
   "outputs": [],
   "source": [
    "# 폴더 만드는 함수\n",
    "def createFolder(directory):\n",
    "    try:\n",
    "        if not os.path.exists(directory):\n",
    "            os.makedirs(directory)  # 해당 directory가 없으면 파일 생성\n",
    "    except OSError:\n",
    "            print(\"Error: Failed to create the directory.\")"
   ]
  },
  {
   "cell_type": "code",
   "execution_count": null,
   "metadata": {
    "ExecuteTime": {
     "end_time": "2022-03-28T05:33:32.666213Z",
     "start_time": "2022-03-28T05:33:32.532884Z"
    }
   },
   "outputs": [],
   "source": [
    "df = pd.read_csv('./data/더술_전통주리스트.csv')\n",
    "drinks = df['전통주이름'].tolist()\n",
    "folder_path = './drinks_n/'\n",
    "for d in drinks:\n",
    "    directory = folder_path+ d\n",
    "#     createFolder(directory)"
   ]
  },
  {
   "cell_type": "code",
   "execution_count": 15,
   "metadata": {
    "ExecuteTime": {
     "end_time": "2022-03-28T05:52:13.726889Z",
     "start_time": "2022-03-28T05:52:13.716916Z"
    }
   },
   "outputs": [
    {
     "data": {
      "text/plain": [
       "700"
      ]
     },
     "execution_count": 15,
     "metadata": {},
     "output_type": "execute_result"
    }
   ],
   "source": [
    "len(os.listdir(folder_path))"
   ]
  },
  {
   "cell_type": "code",
   "execution_count": 29,
   "metadata": {
    "ExecuteTime": {
     "end_time": "2022-03-28T06:34:26.620708Z",
     "start_time": "2022-03-28T06:34:26.601008Z"
    }
   },
   "outputs": [
    {
     "data": {
      "text/plain": [
       "['1000억 유산균 막걸리',\n",
       " '1932 새싹땅콩+햅쌀',\n",
       " '2017년 햅쌀로 빚은 첫술',\n",
       " '52C',\n",
       " 'DOK막걸리',\n",
       " 'G12 골디락스',\n",
       " 'SSOA-포도',\n",
       " 'The 찾을수록',\n",
       " '가야 프리미엄 막걸리',\n",
       " '가야곡왕주',\n",
       " '가평 잣 생막걸리',\n",
       " '각시탈',\n",
       " '감그린 레귤러',\n",
       " '감그린 스페셜',\n",
       " '감그린 아이스와인',\n",
       " '감사',\n",
       " '감사블루',\n",
       " '감아락 25',\n",
       " '감악산 산머루주',\n",
       " '감이슬',\n",
       " '감자술 13%',\n",
       " '강소주',\n",
       " '걍즐겨',\n",
       " '겨울소주 25',\n",
       " '경기전',\n",
       " '경산대추약주 추',\n",
       " '경성과하주',\n",
       " '경주교동법주',\n",
       " '계룡백일주 40%',\n",
       " '계룡산 산삼주 금수강산 21%',\n",
       " '계룡산 산삼주 금수강산 40%',\n",
       " '고도리 레드와인 스위트',\n",
       " '고도리 로제와인',\n",
       " '고도리 복숭아와인',\n",
       " '고도리 샤인머스캣 화이트와인',\n",
       " '고도리 아이스와인(아이스 375)',\n",
       " '고도리 징기스칸 브랜디',\n",
       " '고도리 청수 와인',\n",
       " '고도리 화이트와인 드라이',\n",
       " '고도리 화이트와인 스위트',\n",
       " '고소리술',\n",
       " '고운달 백자',\n",
       " '고운달 오크',\n",
       " '고창선운산 땡큐복분자주',\n",
       " '고창선운산 땡큐블루베리주',\n",
       " '고창선운산 복분자주 특1호',\n",
       " '고향생막걸리',\n",
       " '고향인삼막걸리',\n",
       " '고흥유자주 봄에디션',\n",
       " '곤드레생막걸리',\n",
       " '공주알밤 왕밤주',\n",
       " '공주애 오디와인',\n",
       " '과천미주',\n",
       " '과하주23',\n",
       " '관악산생막걸리',\n",
       " '광양 생 막걸리',\n",
       " '광양 생 막걸리 골드',\n",
       " '괴산 세종 찰옥수수 전통주',\n",
       " '구기홍주 14',\n",
       " '구름을 벗삼아',\n",
       " '구암대추막걸리',\n",
       " '국순당 생막걸리 대박',\n",
       " '국순당 이화주',\n",
       " '귀감',\n",
       " '그랑꼬또 M56',\n",
       " '그랑꼬또 레드와인',\n",
       " '그랑꼬또 로제와인',\n",
       " '그랑꼬또 청수',\n",
       " '그랑티그르 CE2002',\n",
       " '그랑티그르 M1988',\n",
       " '그리움',\n",
       " '금과 명주',\n",
       " '금산인삼백주',\n",
       " '금산인삼주 12.5%',\n",
       " '금산인삼주 수삼 500',\n",
       " '금설',\n",
       " '금정산성막걸리',\n",
       " '금풍양조',\n",
       " '금휘',\n",
       " '기다림 16',\n",
       " '기다림 25',\n",
       " '기다림 34',\n",
       " '기다림 맑은술',\n",
       " '김수한무',\n",
       " '김포 막걸리',\n",
       " '김포별주',\n",
       " '김포약주',\n",
       " '김포예주',\n",
       " '김포예주 프리미엄',\n",
       " '김포특주',\n",
       " '까메오 막걸리',\n",
       " '꽃 와인',\n",
       " '꿀막걸리',\n",
       " '꿀샘 16',\n",
       " '끌로너와 스위트와인',\n",
       " '나 와인',\n",
       " '나루 생 막걸리 11.5도',\n",
       " '나루 생 막걸리 6도',\n",
       " '남산애 레드와인',\n",
       " '남산애 포트와인',\n",
       " '남한산성소주',\n",
       " '내장산 복분자주 지통1호',\n",
       " '냥이탁주 9도',\n",
       " '냥이탁주 fresh',\n",
       " '너와머루와인',\n",
       " '노미',\n",
       " '녹고의 눈물',\n",
       " '녹천 소곡화주 480ml',\n",
       " '녹천 소곡화주 500ml',\n",
       " '녹파주',\n",
       " '느낌 19.8',\n",
       " '느낌 30',\n",
       " '느린마을 막걸리',\n",
       " '느린마을 약주',\n",
       " '느린마을 증류주',\n",
       " '느린마을소주21',\n",
       " '능이주',\n",
       " '니모메',\n",
       " '님 그리다',\n",
       " '다래와인 3004',\n",
       " '다래와인 7004D',\n",
       " '다래와인 7004S',\n",
       " '다랭이팜 생막걸리',\n",
       " '다랭이팜 유자 막걸리',\n",
       " '달 1614 스위트와인',\n",
       " '달홀진주25',\n",
       " '달홀진주40',\n",
       " '담솔',\n",
       " '담양 죽력고',\n",
       " '담은',\n",
       " '당당하리',\n",
       " '대관람차',\n",
       " '대관령 복분자주',\n",
       " '대대포 막걸리',\n",
       " '대윤 가야곡 왕주',\n",
       " '대잎술',\n",
       " '대장부23',\n",
       " '대통대잎술',\n",
       " '대통주',\n",
       " '도구막걸리',\n",
       " '도깨비술 11',\n",
       " '도깨비술 7',\n",
       " '도깨비술 9',\n",
       " '도로시 머루주',\n",
       " '도문대작 생막걸리',\n",
       " '도원결의',\n",
       " '독산 53',\n",
       " '동강더덕주',\n",
       " '동래아들',\n",
       " '동몽',\n",
       " '동백꽃, 제주',\n",
       " '동백우리쌀생막걸리',\n",
       " '동정춘',\n",
       " '동짓달 기나긴 밤',\n",
       " '동학 1957',\n",
       " '동해동동주']"
      ]
     },
     "execution_count": 29,
     "metadata": {},
     "output_type": "execute_result"
    }
   ],
   "source": [
    "os.listdir(folder_path)[:156]"
   ]
  },
  {
   "cell_type": "code",
   "execution_count": 30,
   "metadata": {
    "ExecuteTime": {
     "end_time": "2022-03-28T06:47:39.667270Z",
     "start_time": "2022-03-28T06:34:33.513846Z"
    }
   },
   "outputs": [
    {
     "name": "stderr",
     "output_type": "stream",
     "text": [
      "C:\\Users\\bitcamp\\AppData\\Local\\Temp/ipykernel_13036/2216384656.py:17: DeprecationWarning: find_elements_by_* commands are deprecated. Please use find_elements() instead\n",
      "  for image in driver.find_elements_by_css_selector(path):\n",
      "C:\\Users\\bitcamp\\AppData\\Local\\Temp/ipykernel_13036/2216384656.py:19: DeprecationWarning: find_elements_by_* commands are deprecated. Please use find_elements() instead\n",
      "  imgurl = driver.find_elements_by_css_selector('div.image._imageBox > img')[0].get_attribute('src')\n",
      "C:\\Users\\bitcamp\\AppData\\Local\\Temp/ipykernel_13036/2216384656.py:25: DeprecationWarning: find_elements_by_* commands are deprecated. Please use find_elements() instead\n",
      "  if len(driver.find_elements_by_css_selector(path)) < 20:\n",
      "C:\\Users\\bitcamp\\AppData\\Local\\Temp/ipykernel_13036/2216384656.py:36: DeprecationWarning: find_elements_by_* commands are deprecated. Please use find_elements() instead\n",
      "  for image in driver.find_elements_by_css_selector(path):\n",
      "C:\\Users\\bitcamp\\AppData\\Local\\Temp/ipykernel_13036/2216384656.py:38: DeprecationWarning: find_elements_by_* commands are deprecated. Please use find_elements() instead\n",
      "  imgurl = driver.find_elements_by_css_selector('div.image._imageBox > img')[0].get_attribute('src')\n"
     ]
    }
   ],
   "source": [
    "driver = webdriver.Chrome()\n",
    "num = 50\n",
    "\n",
    "for dr in os.listdir(folder_path)[]:\n",
    "\n",
    "    keyword = re.sub('%', '', dr)+' 전통주'\n",
    "    url = f'https://search.naver.com/search.naver?where=image&query={keyword}&res_fr=786432'\n",
    "    driver.get(url)\n",
    "    time.sleep(2)\n",
    "    SCROLL_PAUSE_TIME = 1\n",
    "    for _ in range(2):\n",
    "        last_height = driver.execute_script(\"return document.body.scrollHeight\")\n",
    "        driver.execute_script('window.scrollTo(0, document.body.scrollHeight);')\n",
    "        time.sleep(SCROLL_PAUSE_TIME)\n",
    "    path = '#main_pack > section.sc_new.sp_nimage._prs_img._imageSearchPC > div > div.photo_group._listGrid > div.photo_tile._grid > div > div > div.thumb > a > img'\n",
    "    cnt = 1\n",
    "    for image in driver.find_elements_by_css_selector(path):\n",
    "        image.click()\n",
    "        imgurl = driver.find_elements_by_css_selector('div.image._imageBox > img')[0].get_attribute('src')\n",
    "\n",
    "        urllib.request.urlretrieve(imgurl, '/'.join([folder_path, dr,f'{dr}_{cnt}.jpg']))\n",
    "        cnt+=1\n",
    "        if cnt > num:\n",
    "            break\n",
    "        \n",
    "    if len(driver.find_elements_by_css_selector(path)) < 20:\n",
    "        keyword = re.sub('%', '', dr)\n",
    "        url = f'https://search.naver.com/search.naver?where=image&query={keyword}&res_fr=786432'\n",
    "        driver.get(url)\n",
    "        time.sleep(2)\n",
    "        SCROLL_PAUSE_TIME = 1\n",
    "        for _ in range(2):\n",
    "            last_height = driver.execute_script(\"return document.body.scrollHeight\")\n",
    "            driver.execute_script('window.scrollTo(0, document.body.scrollHeight);')\n",
    "            time.sleep(SCROLL_PAUSE_TIME)\n",
    "        path = '#main_pack > section.sc_new.sp_nimage._prs_img._imageSearchPC > div > div.photo_group._listGrid > div.photo_tile._grid > div > div > div.thumb > a > img'\n",
    "        for image in driver.find_elements_by_css_selector(path):\n",
    "            image.click()\n",
    "            imgurl = driver.find_elements_by_css_selector('div.image._imageBox > img')[0].get_attribute('src')\n",
    "            urllib.request.urlretrieve(imgurl, '/'.join([folder_path, dr,f'{dr}_{cnt}.jpg']))\n",
    "            cnt+=1\n",
    "            if cnt > num:\n",
    "                break\n",
    "        "
   ]
  },
  {
   "cell_type": "code",
   "execution_count": null,
   "metadata": {},
   "outputs": [],
   "source": []
  },
  {
   "cell_type": "markdown",
   "metadata": {},
   "source": [
    "# 하나씩 검색하기"
   ]
  },
  {
   "cell_type": "code",
   "execution_count": 203,
   "metadata": {
    "ExecuteTime": {
     "end_time": "2022-03-29T16:28:18.224296Z",
     "start_time": "2022-03-29T16:28:18.209430Z"
    }
   },
   "outputs": [],
   "source": [
    "#junk 파일만들기\n",
    "junk_path = './drinks/JUNK'\n",
    "createFolder(junk_path)"
   ]
  },
  {
   "cell_type": "code",
   "execution_count": 41,
   "metadata": {
    "ExecuteTime": {
     "end_time": "2022-03-28T16:20:31.276998Z",
     "start_time": "2022-03-28T16:20:31.260089Z"
    }
   },
   "outputs": [
    {
     "data": {
      "text/plain": [
       "'고창선운산 땡큐복분자주'"
      ]
     },
     "execution_count": 41,
     "metadata": {},
     "output_type": "execute_result"
    }
   ],
   "source": [
    "os.listdir(folder_path)[43]"
   ]
  },
  {
   "cell_type": "code",
   "execution_count": 204,
   "metadata": {
    "ExecuteTime": {
     "end_time": "2022-03-29T16:28:54.563027Z",
     "start_time": "2022-03-29T16:28:35.801288Z"
    },
    "scrolled": false
   },
   "outputs": [
    {
     "name": "stderr",
     "output_type": "stream",
     "text": [
      "C:\\Users\\bitcamp\\AppData\\Local\\Temp/ipykernel_13036/3397696096.py:20: DeprecationWarning: find_elements_by_* commands are deprecated. Please use find_elements() instead\n",
      "  images = driver.find_elements_by_css_selector(path)\n",
      "C:\\Users\\bitcamp\\AppData\\Local\\Temp/ipykernel_13036/3397696096.py:24: DeprecationWarning: find_elements_by_* commands are deprecated. Please use find_elements() instead\n",
      "  imgurl = driver.find_elements_by_css_selector('div.image._imageBox > img')[0].get_attribute('src')\n"
     ]
    }
   ],
   "source": [
    "keyword = '모월 인'\n",
    "driver = webdriver.Chrome()\n",
    "num = 100\n",
    "\n",
    "url = f'https://search.naver.com/search.naver?where=image&query={keyword}&res_fr=786432'\n",
    "driver.get(url)\n",
    "time.sleep(2)\n",
    "SCROLL_PAUSE_TIME = 1\n",
    "\n",
    "for _ in range(2):\n",
    "    last_height = driver.execute_script(\n",
    "            \"return document.body.scrollHeight\")\n",
    "    driver.execute_script(\n",
    "            'window.scrollTo(0, document.body.scrollHeight);')\n",
    "    time.sleep(SCROLL_PAUSE_TIME)\n",
    "    path = '#main_pack > section.sc_new.sp_nimage._prs_img._imageSearchPC > div > div.photo_group._listGrid > div.photo_tile._grid > div > div > div.thumb > a > img'\n",
    "    \n",
    "    cnt = 1\n",
    "\n",
    "images = driver.find_elements_by_css_selector(path)\n",
    "    \n",
    "for i, image in enumerate(images):\n",
    "    image.click()\n",
    "    imgurl = driver.find_elements_by_css_selector('div.image._imageBox > img')[0].get_attribute('src')\n",
    "\n",
    "    urllib.request.urlretrieve(imgurl, junk_path+'/'+ keyword + str(i+100) + '.jpg' )\n",
    "    cnt += 1\n",
    "    if cnt > num:\n",
    "        break"
   ]
  },
  {
   "cell_type": "code",
   "execution_count": null,
   "metadata": {},
   "outputs": [],
   "source": []
  }
 ],
 "metadata": {
  "kernelspec": {
   "display_name": "Python 3 (ipykernel)",
   "language": "python",
   "name": "python3"
  },
  "language_info": {
   "codemirror_mode": {
    "name": "ipython",
    "version": 3
   },
   "file_extension": ".py",
   "mimetype": "text/x-python",
   "name": "python",
   "nbconvert_exporter": "python",
   "pygments_lexer": "ipython3",
   "version": "3.9.7"
  },
  "toc": {
   "base_numbering": 1,
   "nav_menu": {},
   "number_sections": true,
   "sideBar": true,
   "skip_h1_title": false,
   "title_cell": "Table of Contents",
   "title_sidebar": "Contents",
   "toc_cell": false,
   "toc_position": {},
   "toc_section_display": true,
   "toc_window_display": false
  },
  "varInspector": {
   "cols": {
    "lenName": 16,
    "lenType": 16,
    "lenVar": 40
   },
   "kernels_config": {
    "python": {
     "delete_cmd_postfix": "",
     "delete_cmd_prefix": "del ",
     "library": "var_list.py",
     "varRefreshCmd": "print(var_dic_list())"
    },
    "r": {
     "delete_cmd_postfix": ") ",
     "delete_cmd_prefix": "rm(",
     "library": "var_list.r",
     "varRefreshCmd": "cat(var_dic_list()) "
    }
   },
   "position": {
    "height": "144.844px",
    "left": "707.458px",
    "right": "20px",
    "top": "5px",
    "width": "350px"
   },
   "types_to_exclude": [
    "module",
    "function",
    "builtin_function_or_method",
    "instance",
    "_Feature"
   ],
   "window_display": false
  }
 },
 "nbformat": 4,
 "nbformat_minor": 4
}
