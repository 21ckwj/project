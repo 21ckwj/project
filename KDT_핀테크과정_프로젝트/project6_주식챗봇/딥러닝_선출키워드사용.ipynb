{
 "cells": [
  {
   "cell_type": "markdown",
   "id": "f17b26bf",
   "metadata": {},
   "source": [
    "# 딥러닝 사용해보기"
   ]
  },
  {
   "cell_type": "code",
   "execution_count": 36,
   "id": "066a2796",
   "metadata": {
    "ExecuteTime": {
     "end_time": "2022-06-13T05:17:24.900505Z",
     "start_time": "2022-06-13T05:17:24.868846Z"
    }
   },
   "outputs": [],
   "source": [
    "import pandas as pd\n",
    "import numpy as np\n",
    "import matplotlib.pyplot as plt\n",
    "import seaborn as sns\n",
    "\n",
    "# 한글 폰트 사용을 위해서 세팅\n",
    "from matplotlib import font_manager, rc\n",
    "font_path = \"C:/Windows/Fonts/malgun.ttf\"\n",
    "font = font_manager.FontProperties(fname=font_path).get_name()\n",
    "rc('font', family=font)\n",
    "\n",
    "import warnings \n",
    "warnings.filterwarnings('ignore')\n",
    "import os \n",
    "import re\n",
    "import FinanceDataReader as fdr\n",
    "import joblib"
   ]
  },
  {
   "cell_type": "code",
   "execution_count": 37,
   "id": "c6065b53",
   "metadata": {
    "ExecuteTime": {
     "end_time": "2022-06-13T05:17:24.964308Z",
     "start_time": "2022-06-13T05:17:24.952340Z"
    }
   },
   "outputs": [],
   "source": [
    "from sklearn.neighbors import KNeighborsClassifier\n",
    "from sklearn.ensemble import RandomForestClassifier\n",
    "from xgboost import XGBClassifier\n",
    "from catboost import CatBoostClassifier\n",
    "from sklearn.metrics import classification_report, f1_score, roc_auc_score ,accuracy_score, precision_score, recall_score, confusion_matrix\n",
    "import joblib \n",
    "\n",
    "rfc = RandomForestClassifier()\n",
    "xgb = XGBClassifier()\n",
    "cat = CatBoostClassifier()\n",
    "models = [rfc,xgb,cat]"
   ]
  },
  {
   "cell_type": "code",
   "execution_count": 38,
   "id": "b3ef866e",
   "metadata": {
    "ExecuteTime": {
     "end_time": "2022-06-13T05:17:25.027305Z",
     "start_time": "2022-06-13T05:17:25.012179Z"
    }
   },
   "outputs": [],
   "source": [
    "from tensorflow.keras.models import Sequential\n",
    "from tensorflow.keras.layers import Dense, LSTM\n",
    "import tensorflow as tf"
   ]
  },
  {
   "cell_type": "code",
   "execution_count": 39,
   "id": "2496d4c1",
   "metadata": {
    "ExecuteTime": {
     "end_time": "2022-06-13T05:17:25.633777Z",
     "start_time": "2022-06-13T05:17:25.622807Z"
    }
   },
   "outputs": [],
   "source": [
    "df_kospi = pd.read_csv('./data/recent_kospi_list.csv',index_col=0)\n",
    "# 코드 반환\n",
    "def corp_code(corp_name):\n",
    "    code = df_kospi[df_kospi['Name']==corp_name]['Symbol'].iloc[0]\n",
    "    code = str(code).zfill(6)\n",
    "    return code"
   ]
  },
  {
   "cell_type": "code",
   "execution_count": 40,
   "id": "d1c7ace9",
   "metadata": {
    "ExecuteTime": {
     "end_time": "2022-06-13T05:17:26.087822Z",
     "start_time": "2022-06-13T05:17:26.069871Z"
    }
   },
   "outputs": [],
   "source": [
    "# 주가데이터\n",
    "def stock_price(code,bgn_date= '2016-01-01',end_date= '2022-03-31'):\n",
    "\n",
    "    df_p = fdr.DataReader(code,bgn_date,end_date)\n",
    "    df_p = df_p.reset_index()\n",
    "    df_p = df_p.rename(columns = {'Date': '날짜'})\n",
    "    df_p = df_p.set_index('날짜',drop=True)\n",
    "    \n",
    "    return df_p"
   ]
  },
  {
   "cell_type": "code",
   "execution_count": 41,
   "id": "f93ac57e",
   "metadata": {
    "ExecuteTime": {
     "end_time": "2022-06-13T05:17:26.557437Z",
     "start_time": "2022-06-13T05:17:26.550456Z"
    }
   },
   "outputs": [],
   "source": [
    "from sklearn.preprocessing import MinMaxScaler\n",
    "\n",
    "def mscaler(df):\n",
    "\n",
    "    df.index = pd.DatetimeIndex(df.index)\n",
    "    col_list = df.columns\n",
    "    scaler = MinMaxScaler()\n",
    "    df_scaled = df.copy()\n",
    "    df_scaled[col_list] = scaler.fit_transform(df[col_list])\n",
    "    \n",
    "    return df_scaled"
   ]
  },
  {
   "cell_type": "code",
   "execution_count": 42,
   "id": "86b7cfb6",
   "metadata": {
    "ExecuteTime": {
     "end_time": "2022-06-13T05:17:26.873825Z",
     "start_time": "2022-06-13T05:17:26.870830Z"
    }
   },
   "outputs": [],
   "source": [
    "# merge\n",
    "def merge(df_count, df_scaled):\n",
    "    df_merge = pd.merge(df_count,df_p_scaled['Close_scaled'],left_index=True,right_index=True, how='right')\n",
    "    df_merge = pd.merge(df_merge,df_p['Close'],left_index=True,right_index=True, how='right')\n",
    "    return df_merge\n"
   ]
  },
  {
   "cell_type": "code",
   "execution_count": 43,
   "id": "23029ba1",
   "metadata": {
    "ExecuteTime": {
     "end_time": "2022-06-13T05:17:27.298164Z",
     "start_time": "2022-06-13T05:17:27.286167Z"
    }
   },
   "outputs": [],
   "source": [
    "def add_target(df_merge,window_size, period_rate):\n",
    "\n",
    "    earning_lst = []\n",
    "    for i in range(len(df_merge)-window_size):\n",
    "        \n",
    "        earning_rate = (df_merge.iloc[i+window_size,-1]- df_merge.iloc[i,-1])/df_merge.iloc[i,-1]\n",
    "\n",
    "        if earning_rate >= period_rate:\n",
    "            earning_lst.append(1)\n",
    "        else:\n",
    "            earning_lst.append(0)\n",
    "\n",
    "    df_model = df_merge.iloc[:-window_size,:]\n",
    "    df_model['target'] = earning_lst\n",
    "    \n",
    "    return df_model"
   ]
  },
  {
   "cell_type": "code",
   "execution_count": 44,
   "id": "783e567c",
   "metadata": {
    "ExecuteTime": {
     "end_time": "2022-06-13T05:17:27.942205Z",
     "start_time": "2022-06-13T05:17:27.926555Z"
    }
   },
   "outputs": [],
   "source": [
    "def lstm_xy(df_merge,window_size, target_size, period_rate):\n",
    "    \n",
    "    X=[]\n",
    "    Y=[]\n",
    "    for i in range(len(df_merge) -window_size- target_size):\n",
    "        # Feature\n",
    "        X.append([df_merge.iloc[i+j,:-1] for j in range(window_size)])\n",
    "                 \n",
    "        # i+window_size일 이후 target_size 이후의 수익률\n",
    "        earning_rate = (df_merge.iloc[i+window_size,-1]- df_merge.iloc[i+window_size+target_size,-1])/df_merge.iloc[i+window_size,-1]\n",
    "        \n",
    "        if earning_rate >= period_rate:\n",
    "            Y.append(1)\n",
    "        else:\n",
    "            Y.append(0)\n",
    "                 \n",
    "    X = np.array(X).astype(float)\n",
    "    Y = np.array(Y).astype(float)\n",
    "        \n",
    "    return X,Y"
   ]
  },
  {
   "cell_type": "code",
   "execution_count": 45,
   "id": "71f7d22a",
   "metadata": {
    "ExecuteTime": {
     "end_time": "2022-06-13T05:17:28.786204Z",
     "start_time": "2022-06-13T05:17:28.775206Z"
    }
   },
   "outputs": [],
   "source": [
    "def get_clf_eval(y_test, pred, proba):\n",
    "#     confusion = confusion_matrix(y_test, pred)\n",
    "    accuracy = accuracy_score(y_test, pred)\n",
    "    precision = precision_score(y_test, pred)\n",
    "    recall = recall_score(y_test, pred)\n",
    "    try:\n",
    "        roc_auc = roc_auc_score(y_test, proba)\n",
    "    except:\n",
    "        roc_auc = 0\n",
    "\n",
    "    print('accuracy:{0:.4f}, precision:{1:.4f}, recall:{2:.4f}, roc_auc:{3:.4f}'.format(accuracy,precision,recall,roc_auc))"
   ]
  },
  {
   "cell_type": "code",
   "execution_count": 46,
   "id": "08c7c60b",
   "metadata": {
    "ExecuteTime": {
     "end_time": "2022-06-13T05:17:29.369320Z",
     "start_time": "2022-06-13T05:17:29.351400Z"
    }
   },
   "outputs": [],
   "source": [
    "def feature20(model):\n",
    "\n",
    "    # 배열형태로 반환\n",
    "    ft_importance_values = model.feature_importances_\n",
    "\n",
    "    # 정렬과 시각화를 쉽게 하기 위해 series 전환\n",
    "    ft_series = pd.Series(ft_importance_values, index = x_train.columns)\n",
    "    ft_top20 = ft_series.sort_values(ascending=False)[:20]\n",
    "\n",
    "    # 시각화\n",
    "    plt.figure(figsize=(8,6))\n",
    "    plt.title('Feature Importance Top 20')\n",
    "    sns.barplot(x=ft_top20, y=ft_top20.index)\n",
    "    plt.show()"
   ]
  },
  {
   "cell_type": "markdown",
   "id": "7004686b",
   "metadata": {},
   "source": [
    "# 딥러닝(LSTM) 사용하기"
   ]
  },
  {
   "cell_type": "code",
   "execution_count": 26,
   "id": "dc959a88",
   "metadata": {
    "ExecuteTime": {
     "end_time": "2022-06-13T04:08:49.290799Z",
     "start_time": "2022-06-13T04:08:49.107169Z"
    }
   },
   "outputs": [
    {
     "data": {
      "text/html": [
       "<div>\n",
       "<style scoped>\n",
       "    .dataframe tbody tr th:only-of-type {\n",
       "        vertical-align: middle;\n",
       "    }\n",
       "\n",
       "    .dataframe tbody tr th {\n",
       "        vertical-align: top;\n",
       "    }\n",
       "\n",
       "    .dataframe thead th {\n",
       "        text-align: right;\n",
       "    }\n",
       "</style>\n",
       "<table border=\"1\" class=\"dataframe\">\n",
       "  <thead>\n",
       "    <tr style=\"text-align: right;\">\n",
       "      <th></th>\n",
       "      <th>시세보</th>\n",
       "      <th>일오늘의증시</th>\n",
       "      <th>변화</th>\n",
       "      <th>현저한</th>\n",
       "      <th>처분</th>\n",
       "      <th>주가종목</th>\n",
       "      <th>형성</th>\n",
       "      <th>최고치</th>\n",
       "      <th>자기주식</th>\n",
       "      <th>지분변동</th>\n",
       "      <th>...</th>\n",
       "      <th>경신</th>\n",
       "      <th>철강</th>\n",
       "      <th>스틸주가</th>\n",
       "      <th>형지엘리트</th>\n",
       "      <th>신송홀딩스</th>\n",
       "      <th>상승</th>\n",
       "      <th>코스피</th>\n",
       "      <th>스틸</th>\n",
       "      <th>Close_scaled</th>\n",
       "      <th>Close</th>\n",
       "    </tr>\n",
       "    <tr>\n",
       "      <th>날짜</th>\n",
       "      <th></th>\n",
       "      <th></th>\n",
       "      <th></th>\n",
       "      <th></th>\n",
       "      <th></th>\n",
       "      <th></th>\n",
       "      <th></th>\n",
       "      <th></th>\n",
       "      <th></th>\n",
       "      <th></th>\n",
       "      <th></th>\n",
       "      <th></th>\n",
       "      <th></th>\n",
       "      <th></th>\n",
       "      <th></th>\n",
       "      <th></th>\n",
       "      <th></th>\n",
       "      <th></th>\n",
       "      <th></th>\n",
       "      <th></th>\n",
       "      <th></th>\n",
       "    </tr>\n",
       "  </thead>\n",
       "  <tbody>\n",
       "    <tr>\n",
       "      <th>2016-01-04</th>\n",
       "      <td>0.0</td>\n",
       "      <td>0.0</td>\n",
       "      <td>0.0</td>\n",
       "      <td>0.0</td>\n",
       "      <td>0.0</td>\n",
       "      <td>0.0</td>\n",
       "      <td>0.0</td>\n",
       "      <td>0.0</td>\n",
       "      <td>0.0</td>\n",
       "      <td>0.0</td>\n",
       "      <td>...</td>\n",
       "      <td>0.0</td>\n",
       "      <td>0.0</td>\n",
       "      <td>0.0</td>\n",
       "      <td>0.0</td>\n",
       "      <td>0.0</td>\n",
       "      <td>0.0</td>\n",
       "      <td>0.0</td>\n",
       "      <td>0.0</td>\n",
       "      <td>0.082275</td>\n",
       "      <td>2041</td>\n",
       "    </tr>\n",
       "    <tr>\n",
       "      <th>2016-01-05</th>\n",
       "      <td>0.0</td>\n",
       "      <td>0.0</td>\n",
       "      <td>0.0</td>\n",
       "      <td>0.0</td>\n",
       "      <td>0.0</td>\n",
       "      <td>0.0</td>\n",
       "      <td>0.0</td>\n",
       "      <td>0.0</td>\n",
       "      <td>0.0</td>\n",
       "      <td>0.0</td>\n",
       "      <td>...</td>\n",
       "      <td>0.0</td>\n",
       "      <td>0.0</td>\n",
       "      <td>0.0</td>\n",
       "      <td>0.0</td>\n",
       "      <td>0.0</td>\n",
       "      <td>0.0</td>\n",
       "      <td>0.0</td>\n",
       "      <td>0.0</td>\n",
       "      <td>0.081433</td>\n",
       "      <td>2031</td>\n",
       "    </tr>\n",
       "    <tr>\n",
       "      <th>2016-01-06</th>\n",
       "      <td>0.0</td>\n",
       "      <td>0.0</td>\n",
       "      <td>0.0</td>\n",
       "      <td>0.0</td>\n",
       "      <td>0.0</td>\n",
       "      <td>0.0</td>\n",
       "      <td>0.0</td>\n",
       "      <td>0.0</td>\n",
       "      <td>0.0</td>\n",
       "      <td>0.0</td>\n",
       "      <td>...</td>\n",
       "      <td>0.0</td>\n",
       "      <td>0.0</td>\n",
       "      <td>0.0</td>\n",
       "      <td>0.0</td>\n",
       "      <td>0.0</td>\n",
       "      <td>0.0</td>\n",
       "      <td>0.0</td>\n",
       "      <td>0.0</td>\n",
       "      <td>0.078237</td>\n",
       "      <td>1993</td>\n",
       "    </tr>\n",
       "    <tr>\n",
       "      <th>2016-01-07</th>\n",
       "      <td>0.0</td>\n",
       "      <td>0.0</td>\n",
       "      <td>0.0</td>\n",
       "      <td>0.0</td>\n",
       "      <td>0.0</td>\n",
       "      <td>0.0</td>\n",
       "      <td>0.0</td>\n",
       "      <td>0.0</td>\n",
       "      <td>0.0</td>\n",
       "      <td>0.0</td>\n",
       "      <td>...</td>\n",
       "      <td>0.0</td>\n",
       "      <td>0.0</td>\n",
       "      <td>0.0</td>\n",
       "      <td>0.0</td>\n",
       "      <td>0.0</td>\n",
       "      <td>0.0</td>\n",
       "      <td>0.0</td>\n",
       "      <td>0.0</td>\n",
       "      <td>0.074619</td>\n",
       "      <td>1950</td>\n",
       "    </tr>\n",
       "    <tr>\n",
       "      <th>2016-01-08</th>\n",
       "      <td>0.0</td>\n",
       "      <td>0.0</td>\n",
       "      <td>0.0</td>\n",
       "      <td>0.0</td>\n",
       "      <td>0.0</td>\n",
       "      <td>0.0</td>\n",
       "      <td>0.0</td>\n",
       "      <td>0.0</td>\n",
       "      <td>0.0</td>\n",
       "      <td>0.0</td>\n",
       "      <td>...</td>\n",
       "      <td>0.0</td>\n",
       "      <td>0.0</td>\n",
       "      <td>0.0</td>\n",
       "      <td>0.0</td>\n",
       "      <td>0.0</td>\n",
       "      <td>0.0</td>\n",
       "      <td>0.0</td>\n",
       "      <td>0.0</td>\n",
       "      <td>0.072180</td>\n",
       "      <td>1921</td>\n",
       "    </tr>\n",
       "    <tr>\n",
       "      <th>...</th>\n",
       "      <td>...</td>\n",
       "      <td>...</td>\n",
       "      <td>...</td>\n",
       "      <td>...</td>\n",
       "      <td>...</td>\n",
       "      <td>...</td>\n",
       "      <td>...</td>\n",
       "      <td>...</td>\n",
       "      <td>...</td>\n",
       "      <td>...</td>\n",
       "      <td>...</td>\n",
       "      <td>...</td>\n",
       "      <td>...</td>\n",
       "      <td>...</td>\n",
       "      <td>...</td>\n",
       "      <td>...</td>\n",
       "      <td>...</td>\n",
       "      <td>...</td>\n",
       "      <td>...</td>\n",
       "      <td>...</td>\n",
       "      <td>...</td>\n",
       "    </tr>\n",
       "    <tr>\n",
       "      <th>2022-03-25</th>\n",
       "      <td>0.0</td>\n",
       "      <td>0.0</td>\n",
       "      <td>0.0</td>\n",
       "      <td>0.0</td>\n",
       "      <td>0.0</td>\n",
       "      <td>0.0</td>\n",
       "      <td>0.0</td>\n",
       "      <td>0.0</td>\n",
       "      <td>0.0</td>\n",
       "      <td>0.0</td>\n",
       "      <td>...</td>\n",
       "      <td>0.0</td>\n",
       "      <td>0.0</td>\n",
       "      <td>0.0</td>\n",
       "      <td>0.0</td>\n",
       "      <td>0.0</td>\n",
       "      <td>0.0</td>\n",
       "      <td>0.0</td>\n",
       "      <td>0.0</td>\n",
       "      <td>0.793892</td>\n",
       "      <td>10500</td>\n",
       "    </tr>\n",
       "    <tr>\n",
       "      <th>2022-03-28</th>\n",
       "      <td>0.0</td>\n",
       "      <td>0.0</td>\n",
       "      <td>0.0</td>\n",
       "      <td>0.0</td>\n",
       "      <td>0.0</td>\n",
       "      <td>0.0</td>\n",
       "      <td>0.0</td>\n",
       "      <td>0.0</td>\n",
       "      <td>0.0</td>\n",
       "      <td>0.0</td>\n",
       "      <td>...</td>\n",
       "      <td>0.0</td>\n",
       "      <td>0.0</td>\n",
       "      <td>0.0</td>\n",
       "      <td>0.0</td>\n",
       "      <td>0.0</td>\n",
       "      <td>0.0</td>\n",
       "      <td>0.0</td>\n",
       "      <td>0.0</td>\n",
       "      <td>0.827543</td>\n",
       "      <td>10900</td>\n",
       "    </tr>\n",
       "    <tr>\n",
       "      <th>2022-03-29</th>\n",
       "      <td>0.0</td>\n",
       "      <td>0.0</td>\n",
       "      <td>0.0</td>\n",
       "      <td>0.0</td>\n",
       "      <td>0.0</td>\n",
       "      <td>0.0</td>\n",
       "      <td>0.0</td>\n",
       "      <td>0.0</td>\n",
       "      <td>0.0</td>\n",
       "      <td>0.0</td>\n",
       "      <td>...</td>\n",
       "      <td>0.0</td>\n",
       "      <td>0.0</td>\n",
       "      <td>0.0</td>\n",
       "      <td>0.0</td>\n",
       "      <td>0.0</td>\n",
       "      <td>0.0</td>\n",
       "      <td>0.0</td>\n",
       "      <td>0.0</td>\n",
       "      <td>0.819130</td>\n",
       "      <td>10800</td>\n",
       "    </tr>\n",
       "    <tr>\n",
       "      <th>2022-03-30</th>\n",
       "      <td>0.0</td>\n",
       "      <td>0.0</td>\n",
       "      <td>0.0</td>\n",
       "      <td>0.0</td>\n",
       "      <td>0.0</td>\n",
       "      <td>0.0</td>\n",
       "      <td>0.0</td>\n",
       "      <td>0.0</td>\n",
       "      <td>0.0</td>\n",
       "      <td>0.0</td>\n",
       "      <td>...</td>\n",
       "      <td>0.0</td>\n",
       "      <td>0.0</td>\n",
       "      <td>0.0</td>\n",
       "      <td>0.0</td>\n",
       "      <td>0.0</td>\n",
       "      <td>0.0</td>\n",
       "      <td>0.0</td>\n",
       "      <td>0.0</td>\n",
       "      <td>0.789686</td>\n",
       "      <td>10450</td>\n",
       "    </tr>\n",
       "    <tr>\n",
       "      <th>2022-03-31</th>\n",
       "      <td>0.0</td>\n",
       "      <td>0.0</td>\n",
       "      <td>0.0</td>\n",
       "      <td>0.0</td>\n",
       "      <td>0.0</td>\n",
       "      <td>0.0</td>\n",
       "      <td>0.0</td>\n",
       "      <td>0.0</td>\n",
       "      <td>0.0</td>\n",
       "      <td>0.0</td>\n",
       "      <td>...</td>\n",
       "      <td>0.0</td>\n",
       "      <td>0.0</td>\n",
       "      <td>0.0</td>\n",
       "      <td>0.0</td>\n",
       "      <td>0.0</td>\n",
       "      <td>0.0</td>\n",
       "      <td>0.0</td>\n",
       "      <td>0.0</td>\n",
       "      <td>0.823336</td>\n",
       "      <td>10850</td>\n",
       "    </tr>\n",
       "  </tbody>\n",
       "</table>\n",
       "<p>1534 rows × 43 columns</p>\n",
       "</div>"
      ],
      "text/plain": [
       "            시세보  일오늘의증시   변화  현저한   처분  주가종목   형성  최고치  자기주식  지분변동  ...   경신  \\\n",
       "날짜                                                                  ...        \n",
       "2016-01-04  0.0     0.0  0.0  0.0  0.0   0.0  0.0  0.0   0.0   0.0  ...  0.0   \n",
       "2016-01-05  0.0     0.0  0.0  0.0  0.0   0.0  0.0  0.0   0.0   0.0  ...  0.0   \n",
       "2016-01-06  0.0     0.0  0.0  0.0  0.0   0.0  0.0  0.0   0.0   0.0  ...  0.0   \n",
       "2016-01-07  0.0     0.0  0.0  0.0  0.0   0.0  0.0  0.0   0.0   0.0  ...  0.0   \n",
       "2016-01-08  0.0     0.0  0.0  0.0  0.0   0.0  0.0  0.0   0.0   0.0  ...  0.0   \n",
       "...         ...     ...  ...  ...  ...   ...  ...  ...   ...   ...  ...  ...   \n",
       "2022-03-25  0.0     0.0  0.0  0.0  0.0   0.0  0.0  0.0   0.0   0.0  ...  0.0   \n",
       "2022-03-28  0.0     0.0  0.0  0.0  0.0   0.0  0.0  0.0   0.0   0.0  ...  0.0   \n",
       "2022-03-29  0.0     0.0  0.0  0.0  0.0   0.0  0.0  0.0   0.0   0.0  ...  0.0   \n",
       "2022-03-30  0.0     0.0  0.0  0.0  0.0   0.0  0.0  0.0   0.0   0.0  ...  0.0   \n",
       "2022-03-31  0.0     0.0  0.0  0.0  0.0   0.0  0.0  0.0   0.0   0.0  ...  0.0   \n",
       "\n",
       "             철강  스틸주가  형지엘리트  신송홀딩스   상승  코스피   스틸  Close_scaled  Close  \n",
       "날짜                                                                       \n",
       "2016-01-04  0.0   0.0    0.0    0.0  0.0  0.0  0.0      0.082275   2041  \n",
       "2016-01-05  0.0   0.0    0.0    0.0  0.0  0.0  0.0      0.081433   2031  \n",
       "2016-01-06  0.0   0.0    0.0    0.0  0.0  0.0  0.0      0.078237   1993  \n",
       "2016-01-07  0.0   0.0    0.0    0.0  0.0  0.0  0.0      0.074619   1950  \n",
       "2016-01-08  0.0   0.0    0.0    0.0  0.0  0.0  0.0      0.072180   1921  \n",
       "...         ...   ...    ...    ...  ...  ...  ...           ...    ...  \n",
       "2022-03-25  0.0   0.0    0.0    0.0  0.0  0.0  0.0      0.793892  10500  \n",
       "2022-03-28  0.0   0.0    0.0    0.0  0.0  0.0  0.0      0.827543  10900  \n",
       "2022-03-29  0.0   0.0    0.0    0.0  0.0  0.0  0.0      0.819130  10800  \n",
       "2022-03-30  0.0   0.0    0.0    0.0  0.0  0.0  0.0      0.789686  10450  \n",
       "2022-03-31  0.0   0.0    0.0    0.0  0.0  0.0  0.0      0.823336  10850  \n",
       "\n",
       "[1534 rows x 43 columns]"
      ]
     },
     "execution_count": 26,
     "metadata": {},
     "output_type": "execute_result"
    }
   ],
   "source": [
    "path = './data/데이터_뉴스키워드빈도/'\n",
    "\n",
    "corp_name = 'TCC스틸'\n",
    "code = corp_code(corp_name)\n",
    "df_p = stock_price(code)\n",
    "df_p_scaled = mscaler(df_p)\n",
    "df_p_scaled.rename(columns = {'Close':'Close_scaled'},inplace=True)\n",
    "\n",
    "file_path = os.path.join(path,corp_name+'.csv')\n",
    "df_count = pd.read_csv(file_path,index_col=0)\n",
    "df_count.index = pd.DatetimeIndex(df_count.index)\n",
    "df_count\n",
    "df_count = mscaler(df_count)\n",
    "df_merge = merge(df_count,df_p_scaled)\n",
    "df_merge\n"
   ]
  },
  {
   "cell_type": "code",
   "execution_count": 27,
   "id": "e560fd2a",
   "metadata": {
    "ExecuteTime": {
     "end_time": "2022-06-13T04:09:08.137894Z",
     "start_time": "2022-06-13T04:08:50.618517Z"
    }
   },
   "outputs": [],
   "source": [
    "X,Y =lstm_xy(df_merge,60,30,0.1)"
   ]
  },
  {
   "cell_type": "code",
   "execution_count": 28,
   "id": "0ac905a5",
   "metadata": {
    "ExecuteTime": {
     "end_time": "2022-06-13T04:09:08.528547Z",
     "start_time": "2022-06-13T04:09:08.522593Z"
    }
   },
   "outputs": [
    {
     "data": {
      "text/plain": [
       "array([[0.        , 0.        , 0.        , ..., 0.        , 0.        ,\n",
       "        0.08227475],\n",
       "       [0.        , 0.        , 0.        , ..., 0.        , 0.        ,\n",
       "        0.0814335 ],\n",
       "       [0.        , 0.        , 0.        , ..., 0.        , 0.        ,\n",
       "        0.07823673],\n",
       "       ...,\n",
       "       [0.        , 0.        , 0.        , ..., 0.        , 0.        ,\n",
       "        0.08420964],\n",
       "       [0.        , 0.        , 0.        , ..., 0.        , 0.        ,\n",
       "        0.07865736],\n",
       "       [0.        , 0.        , 0.        , ..., 0.        , 0.        ,\n",
       "        0.08261126]])"
      ]
     },
     "execution_count": 28,
     "metadata": {},
     "output_type": "execute_result"
    }
   ],
   "source": [
    "X[0]"
   ]
  },
  {
   "cell_type": "code",
   "execution_count": 29,
   "id": "ea184bf6",
   "metadata": {
    "ExecuteTime": {
     "end_time": "2022-06-13T04:09:13.587410Z",
     "start_time": "2022-06-13T04:09:13.578458Z"
    }
   },
   "outputs": [
    {
     "data": {
      "text/plain": [
       "(1444, 60, 42)"
      ]
     },
     "execution_count": 29,
     "metadata": {},
     "output_type": "execute_result"
    }
   ],
   "source": [
    "X.shape"
   ]
  },
  {
   "cell_type": "code",
   "execution_count": 16,
   "id": "ea83e749",
   "metadata": {
    "ExecuteTime": {
     "end_time": "2022-06-13T03:59:07.152096Z",
     "start_time": "2022-06-13T03:59:07.146113Z"
    }
   },
   "outputs": [
    {
     "data": {
      "text/plain": [
       "(1444,)"
      ]
     },
     "execution_count": 16,
     "metadata": {},
     "output_type": "execute_result"
    }
   ],
   "source": [
    "Y.shape"
   ]
  },
  {
   "cell_type": "code",
   "execution_count": 30,
   "id": "aef4075f",
   "metadata": {
    "ExecuteTime": {
     "end_time": "2022-06-13T04:09:19.032725Z",
     "start_time": "2022-06-13T04:09:19.018762Z"
    }
   },
   "outputs": [],
   "source": [
    "train_test_split = 1100\n",
    "\n",
    "x_train = X[:1100]\n",
    "y_train = Y[:1100]\n",
    "\n",
    "x_test = X[1100:]\n",
    "y_test = Y[1100:]"
   ]
  },
  {
   "cell_type": "code",
   "execution_count": 31,
   "id": "eb93bf5b",
   "metadata": {
    "ExecuteTime": {
     "end_time": "2022-06-13T04:09:21.203288Z",
     "start_time": "2022-06-13T04:09:21.114208Z"
    }
   },
   "outputs": [
    {
     "name": "stdout",
     "output_type": "stream",
     "text": [
      "WARNING:tensorflow:Layer lstm_1 will not use cuDNN kernels since it doesn't meet the criteria. It will use a generic GPU kernel as fallback when running on GPU.\n",
      "Model: \"sequential_1\"\n",
      "_________________________________________________________________\n",
      "Layer (type)                 Output Shape              Param #   \n",
      "=================================================================\n",
      "lstm_1 (LSTM)                (None, 50)                18600     \n",
      "_________________________________________________________________\n",
      "dense_1 (Dense)              (None, 1)                 51        \n",
      "=================================================================\n",
      "Total params: 18,651\n",
      "Trainable params: 18,651\n",
      "Non-trainable params: 0\n",
      "_________________________________________________________________\n"
     ]
    }
   ],
   "source": [
    "with tf.device('/GPU:0'):\n",
    "    model= Sequential()\n",
    "    model.add(LSTM(50,input_shape=(60,42),activation='relu'))\n",
    "    model.add(Dense(1,activation='sigmoid'))\n",
    "    model.summary()"
   ]
  },
  {
   "cell_type": "code",
   "execution_count": 32,
   "id": "c89bf4bb",
   "metadata": {
    "ExecuteTime": {
     "end_time": "2022-06-13T04:09:23.304639Z",
     "start_time": "2022-06-13T04:09:23.290646Z"
    }
   },
   "outputs": [],
   "source": [
    "model.compile(loss='binary_crossentropy',metrics=['accuracy'], optimizer='adam')"
   ]
  },
  {
   "cell_type": "code",
   "execution_count": 33,
   "id": "4347d5e8",
   "metadata": {
    "ExecuteTime": {
     "end_time": "2022-06-13T04:13:27.105734Z",
     "start_time": "2022-06-13T04:09:29.051461Z"
    },
    "scrolled": true
   },
   "outputs": [
    {
     "name": "stdout",
     "output_type": "stream",
     "text": [
      "Epoch 1/30\n",
      "110/110 [==============================] - 8s 72ms/step - loss: 1.5753 - accuracy: 0.8673 - val_loss: 6669.1201 - val_accuracy: 0.8198\n",
      "Epoch 2/30\n",
      "110/110 [==============================] - 8s 69ms/step - loss: 0.4431 - accuracy: 0.8927 - val_loss: 108094.6406 - val_accuracy: 0.8198\n",
      "Epoch 3/30\n",
      "110/110 [==============================] - 8s 72ms/step - loss: 0.4113 - accuracy: 0.8936 - val_loss: 118436.0000 - val_accuracy: 0.8198\n",
      "Epoch 4/30\n",
      "110/110 [==============================] - 8s 71ms/step - loss: 0.3852 - accuracy: 0.8945 - val_loss: 255488.4375 - val_accuracy: 0.8198\n",
      "Epoch 5/30\n",
      "110/110 [==============================] - 8s 74ms/step - loss: 0.3649 - accuracy: 0.8945 - val_loss: 277001.7812 - val_accuracy: 0.8198\n",
      "Epoch 6/30\n",
      "110/110 [==============================] - 8s 74ms/step - loss: 3.0723 - accuracy: 0.8855 - val_loss: 0.5178 - val_accuracy: 0.8198\n",
      "Epoch 7/30\n",
      "110/110 [==============================] - 8s 72ms/step - loss: 8.3525 - accuracy: 0.8855 - val_loss: 14.6507 - val_accuracy: 0.8198\n",
      "Epoch 8/30\n",
      "110/110 [==============================] - 8s 71ms/step - loss: 7.5366 - accuracy: 0.8855 - val_loss: 7104.7261 - val_accuracy: 0.8198loss: 8.0945 \n",
      "Epoch 9/30\n",
      "110/110 [==============================] - 8s 71ms/step - loss: 2.3858 - accuracy: 0.8845 - val_loss: 12225.6465 - val_accuracy: 0.8198- loss: 2.1229 - accuracy: 0. - ETA: 0s - loss: 2\n",
      "Epoch 10/30\n",
      "110/110 [==============================] - 8s 72ms/step - loss: 1.6899 - accuracy: 0.8855 - val_loss: 13364.9531 - val_accuracy: 0.8198\n",
      "Epoch 11/30\n",
      "110/110 [==============================] - 8s 75ms/step - loss: 1.2013 - accuracy: 0.8855 - val_loss: 19179.1797 - val_accuracy: 0.8198\n",
      "Epoch 12/30\n",
      "110/110 [==============================] - 8s 69ms/step - loss: 0.9164 - accuracy: 0.8855 - val_loss: 29222.8281 - val_accuracy: 0.8198\n",
      "Epoch 13/30\n",
      "110/110 [==============================] - 8s 72ms/step - loss: 0.7633 - accuracy: 0.8864 - val_loss: 73.4799 - val_accuracy: 0.8198\n",
      "Epoch 14/30\n",
      "110/110 [==============================] - 7s 63ms/step - loss: 0.8373 - accuracy: 0.8855 - val_loss: 480.1086 - val_accuracy: 0.8198\n",
      "Epoch 15/30\n",
      "110/110 [==============================] - 8s 72ms/step - loss: 0.7938 - accuracy: 0.8882 - val_loss: 516.5784 - val_accuracy: 0.8198ss: 0.818\n",
      "Epoch 16/30\n",
      "110/110 [==============================] - 8s 74ms/step - loss: 0.6440 - accuracy: 0.8855 - val_loss: 345.3887 - val_accuracy: 0.8198loss: 0.5919 - accuracy - ETA: 1s - loss: 0.5 - ETA: 0s - loss: 0.6597 - accu\n",
      "Epoch 17/30\n",
      "110/110 [==============================] - 8s 73ms/step - loss: 0.5492 - accuracy: 0.8864 - val_loss: 417.4414 - val_accuracy: 0.8198\n",
      "Epoch 18/30\n",
      "110/110 [==============================] - 8s 71ms/step - loss: 0.3651 - accuracy: 0.8873 - val_loss: 443.8534 - val_accuracy: 0.8198\n",
      "Epoch 19/30\n",
      "110/110 [==============================] - 8s 74ms/step - loss: 0.3291 - accuracy: 0.8891 - val_loss: 450.4964 - val_accuracy: 0.8169\n",
      "Epoch 20/30\n",
      "110/110 [==============================] - 8s 74ms/step - loss: 0.3253 - accuracy: 0.8936 - val_loss: 474.8568 - val_accuracy: 0.8169\n",
      "Epoch 21/30\n",
      "110/110 [==============================] - 8s 74ms/step - loss: 0.3216 - accuracy: 0.8973 - val_loss: 527.2895 - val_accuracy: 0.81693234 - accuracy: \n",
      "Epoch 22/30\n",
      "110/110 [==============================] - 8s 72ms/step - loss: 0.3185 - accuracy: 0.8973 - val_loss: 718.3082 - val_accuracy: 0.8169\n",
      "Epoch 23/30\n",
      "110/110 [==============================] - 8s 71ms/step - loss: 0.3151 - accuracy: 0.8982 - val_loss: 777.8046 - val_accuracy: 0.8169\n",
      "Epoch 24/30\n",
      "110/110 [==============================] - 8s 72ms/step - loss: 0.3122 - accuracy: 0.8982 - val_loss: 1014.2005 - val_accuracy: 0.8169\n",
      "Epoch 25/30\n",
      "110/110 [==============================] - 8s 74ms/step - loss: 0.3097 - accuracy: 0.8982 - val_loss: 924.9814 - val_accuracy: 0.8169\n",
      "Epoch 26/30\n",
      "110/110 [==============================] - 8s 75ms/step - loss: 0.3078 - accuracy: 0.8982 - val_loss: 34717.8906 - val_accuracy: 0.8169\n",
      "Epoch 27/30\n",
      "110/110 [==============================] - 8s 73ms/step - loss: 0.3059 - accuracy: 0.8982 - val_loss: 36773.5312 - val_accuracy: 0.8169\n",
      "Epoch 28/30\n",
      "110/110 [==============================] - 8s 74ms/step - loss: 0.3032 - accuracy: 0.9009 - val_loss: 33443.4375 - val_accuracy: 0.8169\n",
      "Epoch 29/30\n",
      "110/110 [==============================] - 8s 72ms/step - loss: 0.3022 - accuracy: 0.9000 - val_loss: 38533.3125 - val_accuracy: 0.8169\n",
      "Epoch 30/30\n",
      "110/110 [==============================] - 8s 71ms/step - loss: 0.3003 - accuracy: 0.8991 - val_loss: 70461.9453 - val_accuracy: 0.8169\n"
     ]
    }
   ],
   "source": [
    "history = model.fit(x_train,y_train,epochs=30,batch_size=10, validation_data=(x_test,y_test))"
   ]
  },
  {
   "cell_type": "code",
   "execution_count": null,
   "id": "429f3f0a",
   "metadata": {},
   "outputs": [],
   "source": []
  },
  {
   "cell_type": "code",
   "execution_count": null,
   "id": "fee1264a",
   "metadata": {},
   "outputs": [],
   "source": []
  },
  {
   "cell_type": "code",
   "execution_count": null,
   "id": "3245fe58",
   "metadata": {},
   "outputs": [],
   "source": []
  },
  {
   "cell_type": "code",
   "execution_count": 48,
   "id": "bc433fd6",
   "metadata": {
    "ExecuteTime": {
     "end_time": "2022-06-13T05:18:17.309188Z",
     "start_time": "2022-06-13T05:18:08.199982Z"
    }
   },
   "outputs": [
    {
     "name": "stdout",
     "output_type": "stream",
     "text": [
      "회사이름:  AJ네트웍스\n",
      "[14:18:08] WARNING: C:/Users/Administrator/workspace/xgboost-win64_release_1.5.1/src/learner.cc:1115: Starting in XGBoost 1.3.0, the default evaluation metric used with the objective 'binary:logistic' was changed from 'error' to 'logloss'. Explicitly set eval_metric if you'd like to restore the old behavior.\n",
      "==================================================\n",
      "회사이름:  AK홀딩스\n",
      "[14:18:10] WARNING: C:/Users/Administrator/workspace/xgboost-win64_release_1.5.1/src/learner.cc:1115: Starting in XGBoost 1.3.0, the default evaluation metric used with the objective 'binary:logistic' was changed from 'error' to 'logloss'. Explicitly set eval_metric if you'd like to restore the old behavior.\n",
      "출현 단어 5개 미만 종목\n",
      "==================================================\n",
      "회사이름:  BGF\n",
      "[14:18:12] WARNING: C:/Users/Administrator/workspace/xgboost-win64_release_1.5.1/src/learner.cc:1115: Starting in XGBoost 1.3.0, the default evaluation metric used with the objective 'binary:logistic' was changed from 'error' to 'logloss'. Explicitly set eval_metric if you'd like to restore the old behavior.\n"
     ]
    },
    {
     "name": "stderr",
     "output_type": "stream",
     "text": [
      "Custom logger is already specified. Specify more than one logger at same time is not thread safe."
     ]
    },
    {
     "name": "stdout",
     "output_type": "stream",
     "text": [
      "==================================================\n",
      "회사이름:  BYC\n",
      "[14:18:14] WARNING: C:/Users/Administrator/workspace/xgboost-win64_release_1.5.1/src/learner.cc:1115: Starting in XGBoost 1.3.0, the default evaluation metric used with the objective 'binary:logistic' was changed from 'error' to 'logloss'. Explicitly set eval_metric if you'd like to restore the old behavior.\n",
      "==================================================\n",
      "회사이름:  CJ CGV\n",
      "[14:18:16] WARNING: C:/Users/Administrator/workspace/xgboost-win64_release_1.5.1/src/learner.cc:1115: Starting in XGBoost 1.3.0, the default evaluation metric used with the objective 'binary:logistic' was changed from 'error' to 'logloss'. Explicitly set eval_metric if you'd like to restore the old behavior.\n",
      "출현 단어 5개 미만 종목\n",
      "==================================================\n",
      "회사이름:  CJ\n"
     ]
    },
    {
     "ename": "KeyboardInterrupt",
     "evalue": "",
     "output_type": "error",
     "traceback": [
      "\u001b[1;31m---------------------------------------------------------------------------\u001b[0m",
      "\u001b[1;31mKeyboardInterrupt\u001b[0m                         Traceback (most recent call last)",
      "\u001b[1;32m~\\AppData\\Local\\Temp/ipykernel_16248/4193831912.py\u001b[0m in \u001b[0;36m<module>\u001b[1;34m\u001b[0m\n\u001b[0;32m     10\u001b[0m     \u001b[0mprint\u001b[0m\u001b[1;33m(\u001b[0m\u001b[1;34m'회사이름: '\u001b[0m\u001b[1;33m,\u001b[0m\u001b[0mcorp_name\u001b[0m\u001b[1;33m)\u001b[0m\u001b[1;33m\u001b[0m\u001b[1;33m\u001b[0m\u001b[0m\n\u001b[0;32m     11\u001b[0m     \u001b[0mcode\u001b[0m \u001b[1;33m=\u001b[0m \u001b[0mcorp_code\u001b[0m\u001b[1;33m(\u001b[0m\u001b[0mcorp_name\u001b[0m\u001b[1;33m)\u001b[0m\u001b[1;33m\u001b[0m\u001b[1;33m\u001b[0m\u001b[0m\n\u001b[1;32m---> 12\u001b[1;33m     \u001b[0mdf_p\u001b[0m \u001b[1;33m=\u001b[0m \u001b[0mstock_price\u001b[0m\u001b[1;33m(\u001b[0m\u001b[0mcode\u001b[0m\u001b[1;33m)\u001b[0m\u001b[1;33m\u001b[0m\u001b[1;33m\u001b[0m\u001b[0m\n\u001b[0m\u001b[0;32m     13\u001b[0m     \u001b[0mdf_p_scaled\u001b[0m \u001b[1;33m=\u001b[0m \u001b[0mmscaler\u001b[0m\u001b[1;33m(\u001b[0m\u001b[0mdf_p\u001b[0m\u001b[1;33m)\u001b[0m\u001b[1;33m\u001b[0m\u001b[1;33m\u001b[0m\u001b[0m\n\u001b[0;32m     14\u001b[0m     \u001b[0mdf_p_scaled\u001b[0m\u001b[1;33m.\u001b[0m\u001b[0mrename\u001b[0m\u001b[1;33m(\u001b[0m\u001b[0mcolumns\u001b[0m \u001b[1;33m=\u001b[0m \u001b[1;33m{\u001b[0m\u001b[1;34m'Close'\u001b[0m\u001b[1;33m:\u001b[0m\u001b[1;34m'Close_scaled'\u001b[0m\u001b[1;33m}\u001b[0m\u001b[1;33m,\u001b[0m\u001b[0minplace\u001b[0m\u001b[1;33m=\u001b[0m\u001b[1;32mTrue\u001b[0m\u001b[1;33m)\u001b[0m\u001b[1;33m\u001b[0m\u001b[1;33m\u001b[0m\u001b[0m\n",
      "\u001b[1;32m~\\AppData\\Local\\Temp/ipykernel_16248/1994059541.py\u001b[0m in \u001b[0;36mstock_price\u001b[1;34m(code, bgn_date, end_date)\u001b[0m\n\u001b[0;32m      2\u001b[0m \u001b[1;32mdef\u001b[0m \u001b[0mstock_price\u001b[0m\u001b[1;33m(\u001b[0m\u001b[0mcode\u001b[0m\u001b[1;33m,\u001b[0m\u001b[0mbgn_date\u001b[0m\u001b[1;33m=\u001b[0m \u001b[1;34m'2016-01-01'\u001b[0m\u001b[1;33m,\u001b[0m\u001b[0mend_date\u001b[0m\u001b[1;33m=\u001b[0m \u001b[1;34m'2022-03-31'\u001b[0m\u001b[1;33m)\u001b[0m\u001b[1;33m:\u001b[0m\u001b[1;33m\u001b[0m\u001b[1;33m\u001b[0m\u001b[0m\n\u001b[0;32m      3\u001b[0m \u001b[1;33m\u001b[0m\u001b[0m\n\u001b[1;32m----> 4\u001b[1;33m     \u001b[0mdf_p\u001b[0m \u001b[1;33m=\u001b[0m \u001b[0mfdr\u001b[0m\u001b[1;33m.\u001b[0m\u001b[0mDataReader\u001b[0m\u001b[1;33m(\u001b[0m\u001b[0mcode\u001b[0m\u001b[1;33m,\u001b[0m\u001b[0mbgn_date\u001b[0m\u001b[1;33m,\u001b[0m\u001b[0mend_date\u001b[0m\u001b[1;33m)\u001b[0m\u001b[1;33m\u001b[0m\u001b[1;33m\u001b[0m\u001b[0m\n\u001b[0m\u001b[0;32m      5\u001b[0m     \u001b[0mdf_p\u001b[0m \u001b[1;33m=\u001b[0m \u001b[0mdf_p\u001b[0m\u001b[1;33m.\u001b[0m\u001b[0mreset_index\u001b[0m\u001b[1;33m(\u001b[0m\u001b[1;33m)\u001b[0m\u001b[1;33m\u001b[0m\u001b[1;33m\u001b[0m\u001b[0m\n\u001b[0;32m      6\u001b[0m     \u001b[0mdf_p\u001b[0m \u001b[1;33m=\u001b[0m \u001b[0mdf_p\u001b[0m\u001b[1;33m.\u001b[0m\u001b[0mrename\u001b[0m\u001b[1;33m(\u001b[0m\u001b[0mcolumns\u001b[0m \u001b[1;33m=\u001b[0m \u001b[1;33m{\u001b[0m\u001b[1;34m'Date'\u001b[0m\u001b[1;33m:\u001b[0m \u001b[1;34m'날짜'\u001b[0m\u001b[1;33m}\u001b[0m\u001b[1;33m)\u001b[0m\u001b[1;33m\u001b[0m\u001b[1;33m\u001b[0m\u001b[0m\n",
      "\u001b[1;32m~\\anaconda3\\lib\\site-packages\\FinanceDataReader\\data.py\u001b[0m in \u001b[0;36mDataReader\u001b[1;34m(symbol, start, end, exchange, data_source)\u001b[0m\n\u001b[0;32m     31\u001b[0m     \u001b[1;32mif\u001b[0m \u001b[1;33m(\u001b[0m\u001b[0msymbol\u001b[0m\u001b[1;33m[\u001b[0m\u001b[1;33m:\u001b[0m\u001b[1;36m5\u001b[0m\u001b[1;33m]\u001b[0m\u001b[1;33m.\u001b[0m\u001b[0misdigit\u001b[0m\u001b[1;33m(\u001b[0m\u001b[1;33m)\u001b[0m \u001b[1;32mand\u001b[0m \u001b[0mexchange\u001b[0m\u001b[1;33m==\u001b[0m\u001b[1;32mNone\u001b[0m\u001b[1;33m)\u001b[0m \u001b[1;32mor\u001b[0m\u001b[0;31m \u001b[0m\u001b[0;31m\\\u001b[0m\u001b[1;33m\u001b[0m\u001b[1;33m\u001b[0m\u001b[0m\n\u001b[0;32m     32\u001b[0m        \u001b[1;33m(\u001b[0m\u001b[0msymbol\u001b[0m\u001b[1;33m[\u001b[0m\u001b[1;33m:\u001b[0m\u001b[1;36m5\u001b[0m\u001b[1;33m]\u001b[0m\u001b[1;33m.\u001b[0m\u001b[0misdigit\u001b[0m\u001b[1;33m(\u001b[0m\u001b[1;33m)\u001b[0m \u001b[1;32mand\u001b[0m \u001b[0mexchange\u001b[0m \u001b[1;32mand\u001b[0m \u001b[0mexchange\u001b[0m\u001b[1;33m.\u001b[0m\u001b[0mupper\u001b[0m\u001b[1;33m(\u001b[0m\u001b[1;33m)\u001b[0m \u001b[1;32min\u001b[0m \u001b[1;33m[\u001b[0m\u001b[1;34m'KRX'\u001b[0m\u001b[1;33m,\u001b[0m \u001b[1;34m'한국거래소'\u001b[0m\u001b[1;33m]\u001b[0m\u001b[1;33m)\u001b[0m\u001b[1;33m:\u001b[0m\u001b[1;33m\u001b[0m\u001b[1;33m\u001b[0m\u001b[0m\n\u001b[1;32m---> 33\u001b[1;33m         \u001b[1;32mreturn\u001b[0m \u001b[0mNaverDailyReader\u001b[0m\u001b[1;33m(\u001b[0m\u001b[0msymbol\u001b[0m\u001b[1;33m,\u001b[0m \u001b[0mstart\u001b[0m\u001b[1;33m,\u001b[0m \u001b[0mend\u001b[0m\u001b[1;33m,\u001b[0m \u001b[0mexchange\u001b[0m\u001b[1;33m,\u001b[0m \u001b[0mdata_source\u001b[0m\u001b[1;33m)\u001b[0m\u001b[1;33m.\u001b[0m\u001b[0mread\u001b[0m\u001b[1;33m(\u001b[0m\u001b[1;33m)\u001b[0m\u001b[1;33m\u001b[0m\u001b[1;33m\u001b[0m\u001b[0m\n\u001b[0m\u001b[0;32m     34\u001b[0m \u001b[1;33m\u001b[0m\u001b[0m\n\u001b[0;32m     35\u001b[0m     \u001b[1;31m# KRX-DELISTING\u001b[0m\u001b[1;33m\u001b[0m\u001b[1;33m\u001b[0m\u001b[0m\n",
      "\u001b[1;32m~\\anaconda3\\lib\\site-packages\\FinanceDataReader\\naver\\data.py\u001b[0m in \u001b[0;36mread\u001b[1;34m(self)\u001b[0m\n\u001b[0;32m     25\u001b[0m         \u001b[0mdf\u001b[0m\u001b[1;33m.\u001b[0m\u001b[0mset_index\u001b[0m\u001b[1;33m(\u001b[0m\u001b[1;34m'Date'\u001b[0m\u001b[1;33m,\u001b[0m \u001b[0minplace\u001b[0m\u001b[1;33m=\u001b[0m\u001b[1;32mTrue\u001b[0m\u001b[1;33m)\u001b[0m\u001b[1;33m\u001b[0m\u001b[1;33m\u001b[0m\u001b[0m\n\u001b[0;32m     26\u001b[0m         \u001b[0mdf\u001b[0m\u001b[1;33m.\u001b[0m\u001b[0msort_index\u001b[0m\u001b[1;33m(\u001b[0m\u001b[0minplace\u001b[0m\u001b[1;33m=\u001b[0m\u001b[1;32mTrue\u001b[0m\u001b[1;33m)\u001b[0m\u001b[1;33m\u001b[0m\u001b[1;33m\u001b[0m\u001b[0m\n\u001b[1;32m---> 27\u001b[1;33m         \u001b[0mdf\u001b[0m\u001b[1;33m[\u001b[0m\u001b[1;34m'Change'\u001b[0m\u001b[1;33m]\u001b[0m \u001b[1;33m=\u001b[0m \u001b[0mdf\u001b[0m\u001b[1;33m[\u001b[0m\u001b[1;34m'Close'\u001b[0m\u001b[1;33m]\u001b[0m\u001b[1;33m.\u001b[0m\u001b[0mpct_change\u001b[0m\u001b[1;33m(\u001b[0m\u001b[1;33m)\u001b[0m\u001b[1;33m\u001b[0m\u001b[1;33m\u001b[0m\u001b[0m\n\u001b[0m\u001b[0;32m     28\u001b[0m \u001b[1;33m\u001b[0m\u001b[0m\n\u001b[0;32m     29\u001b[0m         \u001b[1;32mreturn\u001b[0m \u001b[0mdf\u001b[0m\u001b[1;33m.\u001b[0m\u001b[0mquery\u001b[0m\u001b[1;33m(\u001b[0m\u001b[1;34m'index>=%r and index<=%r'\u001b[0m \u001b[1;33m%\u001b[0m \u001b[1;33m(\u001b[0m\u001b[0mself\u001b[0m\u001b[1;33m.\u001b[0m\u001b[0mstart\u001b[0m\u001b[1;33m,\u001b[0m \u001b[0mself\u001b[0m\u001b[1;33m.\u001b[0m\u001b[0mend\u001b[0m\u001b[1;33m)\u001b[0m\u001b[1;33m)\u001b[0m\u001b[1;33m\u001b[0m\u001b[1;33m\u001b[0m\u001b[0m\n",
      "\u001b[1;32m~\\anaconda3\\lib\\site-packages\\pandas\\core\\generic.py\u001b[0m in \u001b[0;36mpct_change\u001b[1;34m(self, periods, fill_method, limit, freq, **kwargs)\u001b[0m\n\u001b[0;32m  10157\u001b[0m             \u001b[0mdata\u001b[0m \u001b[1;33m=\u001b[0m \u001b[0mself\u001b[0m\u001b[1;33m\u001b[0m\u001b[1;33m\u001b[0m\u001b[0m\n\u001b[0;32m  10158\u001b[0m         \u001b[1;32melse\u001b[0m\u001b[1;33m:\u001b[0m\u001b[1;33m\u001b[0m\u001b[1;33m\u001b[0m\u001b[0m\n\u001b[1;32m> 10159\u001b[1;33m             \u001b[0m_data\u001b[0m \u001b[1;33m=\u001b[0m \u001b[0mself\u001b[0m\u001b[1;33m.\u001b[0m\u001b[0mfillna\u001b[0m\u001b[1;33m(\u001b[0m\u001b[0mmethod\u001b[0m\u001b[1;33m=\u001b[0m\u001b[0mfill_method\u001b[0m\u001b[1;33m,\u001b[0m \u001b[0maxis\u001b[0m\u001b[1;33m=\u001b[0m\u001b[0maxis\u001b[0m\u001b[1;33m,\u001b[0m \u001b[0mlimit\u001b[0m\u001b[1;33m=\u001b[0m\u001b[0mlimit\u001b[0m\u001b[1;33m)\u001b[0m\u001b[1;33m\u001b[0m\u001b[1;33m\u001b[0m\u001b[0m\n\u001b[0m\u001b[0;32m  10160\u001b[0m             \u001b[1;32massert\u001b[0m \u001b[0m_data\u001b[0m \u001b[1;32mis\u001b[0m \u001b[1;32mnot\u001b[0m \u001b[1;32mNone\u001b[0m  \u001b[1;31m# needed for mypy\u001b[0m\u001b[1;33m\u001b[0m\u001b[1;33m\u001b[0m\u001b[0m\n\u001b[0;32m  10161\u001b[0m             \u001b[0mdata\u001b[0m \u001b[1;33m=\u001b[0m \u001b[0m_data\u001b[0m\u001b[1;33m\u001b[0m\u001b[1;33m\u001b[0m\u001b[0m\n",
      "\u001b[1;32m~\\anaconda3\\lib\\site-packages\\pandas\\util\\_decorators.py\u001b[0m in \u001b[0;36mwrapper\u001b[1;34m(*args, **kwargs)\u001b[0m\n\u001b[0;32m    309\u001b[0m                     \u001b[0mstacklevel\u001b[0m\u001b[1;33m=\u001b[0m\u001b[0mstacklevel\u001b[0m\u001b[1;33m,\u001b[0m\u001b[1;33m\u001b[0m\u001b[1;33m\u001b[0m\u001b[0m\n\u001b[0;32m    310\u001b[0m                 )\n\u001b[1;32m--> 311\u001b[1;33m             \u001b[1;32mreturn\u001b[0m \u001b[0mfunc\u001b[0m\u001b[1;33m(\u001b[0m\u001b[1;33m*\u001b[0m\u001b[0margs\u001b[0m\u001b[1;33m,\u001b[0m \u001b[1;33m**\u001b[0m\u001b[0mkwargs\u001b[0m\u001b[1;33m)\u001b[0m\u001b[1;33m\u001b[0m\u001b[1;33m\u001b[0m\u001b[0m\n\u001b[0m\u001b[0;32m    312\u001b[0m \u001b[1;33m\u001b[0m\u001b[0m\n\u001b[0;32m    313\u001b[0m         \u001b[1;32mreturn\u001b[0m \u001b[0mwrapper\u001b[0m\u001b[1;33m\u001b[0m\u001b[1;33m\u001b[0m\u001b[0m\n",
      "\u001b[1;32m~\\anaconda3\\lib\\site-packages\\pandas\\core\\series.py\u001b[0m in \u001b[0;36mfillna\u001b[1;34m(self, value, method, axis, inplace, limit, downcast)\u001b[0m\n\u001b[0;32m   4814\u001b[0m         \u001b[0mdowncast\u001b[0m\u001b[1;33m=\u001b[0m\u001b[1;32mNone\u001b[0m\u001b[1;33m,\u001b[0m\u001b[1;33m\u001b[0m\u001b[1;33m\u001b[0m\u001b[0m\n\u001b[0;32m   4815\u001b[0m     ) -> Series | None:\n\u001b[1;32m-> 4816\u001b[1;33m         return super().fillna(\n\u001b[0m\u001b[0;32m   4817\u001b[0m             \u001b[0mvalue\u001b[0m\u001b[1;33m=\u001b[0m\u001b[0mvalue\u001b[0m\u001b[1;33m,\u001b[0m\u001b[1;33m\u001b[0m\u001b[1;33m\u001b[0m\u001b[0m\n\u001b[0;32m   4818\u001b[0m             \u001b[0mmethod\u001b[0m\u001b[1;33m=\u001b[0m\u001b[0mmethod\u001b[0m\u001b[1;33m,\u001b[0m\u001b[1;33m\u001b[0m\u001b[1;33m\u001b[0m\u001b[0m\n",
      "\u001b[1;32m~\\anaconda3\\lib\\site-packages\\pandas\\core\\generic.py\u001b[0m in \u001b[0;36mfillna\u001b[1;34m(self, value, method, axis, inplace, limit, downcast)\u001b[0m\n\u001b[0;32m   6332\u001b[0m                 \u001b[1;32mreturn\u001b[0m \u001b[0mresult\u001b[0m\u001b[1;33m\u001b[0m\u001b[1;33m\u001b[0m\u001b[0m\n\u001b[0;32m   6333\u001b[0m \u001b[1;33m\u001b[0m\u001b[0m\n\u001b[1;32m-> 6334\u001b[1;33m             new_data = self._mgr.interpolate(\n\u001b[0m\u001b[0;32m   6335\u001b[0m                 \u001b[0mmethod\u001b[0m\u001b[1;33m=\u001b[0m\u001b[0mmethod\u001b[0m\u001b[1;33m,\u001b[0m\u001b[1;33m\u001b[0m\u001b[1;33m\u001b[0m\u001b[0m\n\u001b[0;32m   6336\u001b[0m                 \u001b[0maxis\u001b[0m\u001b[1;33m=\u001b[0m\u001b[0maxis\u001b[0m\u001b[1;33m,\u001b[0m\u001b[1;33m\u001b[0m\u001b[1;33m\u001b[0m\u001b[0m\n",
      "\u001b[1;32m~\\anaconda3\\lib\\site-packages\\pandas\\core\\internals\\managers.py\u001b[0m in \u001b[0;36minterpolate\u001b[1;34m(self, **kwargs)\u001b[0m\n\u001b[0;32m    375\u001b[0m \u001b[1;33m\u001b[0m\u001b[0m\n\u001b[0;32m    376\u001b[0m     \u001b[1;32mdef\u001b[0m \u001b[0minterpolate\u001b[0m\u001b[1;33m(\u001b[0m\u001b[0mself\u001b[0m\u001b[1;33m:\u001b[0m \u001b[0mT\u001b[0m\u001b[1;33m,\u001b[0m \u001b[1;33m**\u001b[0m\u001b[0mkwargs\u001b[0m\u001b[1;33m)\u001b[0m \u001b[1;33m->\u001b[0m \u001b[0mT\u001b[0m\u001b[1;33m:\u001b[0m\u001b[1;33m\u001b[0m\u001b[1;33m\u001b[0m\u001b[0m\n\u001b[1;32m--> 377\u001b[1;33m         \u001b[1;32mreturn\u001b[0m \u001b[0mself\u001b[0m\u001b[1;33m.\u001b[0m\u001b[0mapply\u001b[0m\u001b[1;33m(\u001b[0m\u001b[1;34m\"interpolate\"\u001b[0m\u001b[1;33m,\u001b[0m \u001b[1;33m**\u001b[0m\u001b[0mkwargs\u001b[0m\u001b[1;33m)\u001b[0m\u001b[1;33m\u001b[0m\u001b[1;33m\u001b[0m\u001b[0m\n\u001b[0m\u001b[0;32m    378\u001b[0m \u001b[1;33m\u001b[0m\u001b[0m\n\u001b[0;32m    379\u001b[0m     \u001b[1;32mdef\u001b[0m \u001b[0mshift\u001b[0m\u001b[1;33m(\u001b[0m\u001b[0mself\u001b[0m\u001b[1;33m:\u001b[0m \u001b[0mT\u001b[0m\u001b[1;33m,\u001b[0m \u001b[0mperiods\u001b[0m\u001b[1;33m:\u001b[0m \u001b[0mint\u001b[0m\u001b[1;33m,\u001b[0m \u001b[0maxis\u001b[0m\u001b[1;33m:\u001b[0m \u001b[0mint\u001b[0m\u001b[1;33m,\u001b[0m \u001b[0mfill_value\u001b[0m\u001b[1;33m)\u001b[0m \u001b[1;33m->\u001b[0m \u001b[0mT\u001b[0m\u001b[1;33m:\u001b[0m\u001b[1;33m\u001b[0m\u001b[1;33m\u001b[0m\u001b[0m\n",
      "\u001b[1;32m~\\anaconda3\\lib\\site-packages\\pandas\\core\\internals\\managers.py\u001b[0m in \u001b[0;36mapply\u001b[1;34m(self, f, align_keys, ignore_failures, **kwargs)\u001b[0m\n\u001b[0;32m    325\u001b[0m                     \u001b[0mapplied\u001b[0m \u001b[1;33m=\u001b[0m \u001b[0mb\u001b[0m\u001b[1;33m.\u001b[0m\u001b[0mapply\u001b[0m\u001b[1;33m(\u001b[0m\u001b[0mf\u001b[0m\u001b[1;33m,\u001b[0m \u001b[1;33m**\u001b[0m\u001b[0mkwargs\u001b[0m\u001b[1;33m)\u001b[0m\u001b[1;33m\u001b[0m\u001b[1;33m\u001b[0m\u001b[0m\n\u001b[0;32m    326\u001b[0m                 \u001b[1;32melse\u001b[0m\u001b[1;33m:\u001b[0m\u001b[1;33m\u001b[0m\u001b[1;33m\u001b[0m\u001b[0m\n\u001b[1;32m--> 327\u001b[1;33m                     \u001b[0mapplied\u001b[0m \u001b[1;33m=\u001b[0m \u001b[0mgetattr\u001b[0m\u001b[1;33m(\u001b[0m\u001b[0mb\u001b[0m\u001b[1;33m,\u001b[0m \u001b[0mf\u001b[0m\u001b[1;33m)\u001b[0m\u001b[1;33m(\u001b[0m\u001b[1;33m**\u001b[0m\u001b[0mkwargs\u001b[0m\u001b[1;33m)\u001b[0m\u001b[1;33m\u001b[0m\u001b[1;33m\u001b[0m\u001b[0m\n\u001b[0m\u001b[0;32m    328\u001b[0m             \u001b[1;32mexcept\u001b[0m \u001b[1;33m(\u001b[0m\u001b[0mTypeError\u001b[0m\u001b[1;33m,\u001b[0m \u001b[0mNotImplementedError\u001b[0m\u001b[1;33m)\u001b[0m\u001b[1;33m:\u001b[0m\u001b[1;33m\u001b[0m\u001b[1;33m\u001b[0m\u001b[0m\n\u001b[0;32m    329\u001b[0m                 \u001b[1;32mif\u001b[0m \u001b[1;32mnot\u001b[0m \u001b[0mignore_failures\u001b[0m\u001b[1;33m:\u001b[0m\u001b[1;33m\u001b[0m\u001b[1;33m\u001b[0m\u001b[0m\n",
      "\u001b[1;32m~\\anaconda3\\lib\\site-packages\\pandas\\core\\internals\\blocks.py\u001b[0m in \u001b[0;36minterpolate\u001b[1;34m(self, method, axis, index, inplace, limit, limit_direction, limit_area, fill_value, coerce, downcast, **kwargs)\u001b[0m\n\u001b[0;32m   1088\u001b[0m         \u001b[1;32mif\u001b[0m \u001b[1;32mnot\u001b[0m \u001b[0mself\u001b[0m\u001b[1;33m.\u001b[0m\u001b[0m_can_hold_na\u001b[0m\u001b[1;33m:\u001b[0m\u001b[1;33m\u001b[0m\u001b[1;33m\u001b[0m\u001b[0m\n\u001b[0;32m   1089\u001b[0m             \u001b[1;31m# If there are no NAs, then interpolate is a no-op\u001b[0m\u001b[1;33m\u001b[0m\u001b[1;33m\u001b[0m\u001b[0m\n\u001b[1;32m-> 1090\u001b[1;33m             \u001b[1;32mreturn\u001b[0m \u001b[1;33m[\u001b[0m\u001b[0mself\u001b[0m\u001b[1;33m]\u001b[0m \u001b[1;32mif\u001b[0m \u001b[0minplace\u001b[0m \u001b[1;32melse\u001b[0m \u001b[1;33m[\u001b[0m\u001b[0mself\u001b[0m\u001b[1;33m.\u001b[0m\u001b[0mcopy\u001b[0m\u001b[1;33m(\u001b[0m\u001b[1;33m)\u001b[0m\u001b[1;33m]\u001b[0m\u001b[1;33m\u001b[0m\u001b[1;33m\u001b[0m\u001b[0m\n\u001b[0m\u001b[0;32m   1091\u001b[0m \u001b[1;33m\u001b[0m\u001b[0m\n\u001b[0;32m   1092\u001b[0m         \u001b[1;32mtry\u001b[0m\u001b[1;33m:\u001b[0m\u001b[1;33m\u001b[0m\u001b[1;33m\u001b[0m\u001b[0m\n",
      "\u001b[1;32m~\\anaconda3\\lib\\site-packages\\pandas\\core\\internals\\blocks.py\u001b[0m in \u001b[0;36mcopy\u001b[1;34m(self, deep)\u001b[0m\n\u001b[0;32m    648\u001b[0m         \u001b[0mvalues\u001b[0m \u001b[1;33m=\u001b[0m \u001b[0mself\u001b[0m\u001b[1;33m.\u001b[0m\u001b[0mvalues\u001b[0m\u001b[1;33m\u001b[0m\u001b[1;33m\u001b[0m\u001b[0m\n\u001b[0;32m    649\u001b[0m         \u001b[1;32mif\u001b[0m \u001b[0mdeep\u001b[0m\u001b[1;33m:\u001b[0m\u001b[1;33m\u001b[0m\u001b[1;33m\u001b[0m\u001b[0m\n\u001b[1;32m--> 650\u001b[1;33m             \u001b[0mvalues\u001b[0m \u001b[1;33m=\u001b[0m \u001b[0mvalues\u001b[0m\u001b[1;33m.\u001b[0m\u001b[0mcopy\u001b[0m\u001b[1;33m(\u001b[0m\u001b[1;33m)\u001b[0m\u001b[1;33m\u001b[0m\u001b[1;33m\u001b[0m\u001b[0m\n\u001b[0m\u001b[0;32m    651\u001b[0m         \u001b[1;32mreturn\u001b[0m \u001b[0mself\u001b[0m\u001b[1;33m.\u001b[0m\u001b[0mmake_block_same_class\u001b[0m\u001b[1;33m(\u001b[0m\u001b[0mvalues\u001b[0m\u001b[1;33m)\u001b[0m\u001b[1;33m\u001b[0m\u001b[1;33m\u001b[0m\u001b[0m\n\u001b[0;32m    652\u001b[0m \u001b[1;33m\u001b[0m\u001b[0m\n",
      "\u001b[1;31mKeyboardInterrupt\u001b[0m: "
     ]
    }
   ],
   "source": [
    "observ_size= 60\n",
    "window_size = 30\n",
    "period_rate= 0.1\n",
    "\n",
    "path = './data/데이터_뉴스키워드빈도/'\n",
    "file_list = os.listdir(path)\n",
    "\n",
    "for file in file_list[:] :\n",
    "    corp_name = file[:-4]\n",
    "    print('회사이름: ',corp_name)\n",
    "    code = corp_code(corp_name)\n",
    "    df_p = stock_price(code)\n",
    "    df_p_scaled = mscaler(df_p)\n",
    "    df_p_scaled.rename(columns = {'Close':'Close_scaled'},inplace=True)\n",
    "    \n",
    "    file_path = os.path.join(path,file)\n",
    "    df_count = pd.read_csv(file_path,index_col=0)\n",
    "    df_count.index = pd.DatetimeIndex(df_count.index)\n",
    "    \n",
    "    # 5개 미만 단어 아예없는경우는 생략\n",
    "    try:\n",
    "        df_count = mscaler(df_count)\n",
    "\n",
    "        df_merge = merge(df_count,df_p_scaled)\n",
    "\n",
    "        df_model = add_target(df_merge,window_size=window_size, period_rate= period_rate)\n",
    "\n",
    "        x_train = df_model.loc[:'2021-10-01',:'Close_scaled']\n",
    "        y_train = df_model.loc[:'2021-10-01','target']\n",
    "\n",
    "        x_test = df_model.loc['2021-10-01':,:'Close_scaled']\n",
    "        y_test = df_model.loc['2021-10-01':,'target']\n",
    "\n",
    "        for model in models :\n",
    "            model_name = model.__class__.__name__\n",
    "\n",
    "            if model_name == 'CatBoostClassifier':\n",
    "                model.fit(x_train,y_train, silent=True)\n",
    "            else:\n",
    "                model.fit(x_train,y_train)\n",
    "\n",
    "            pred = model.predict(x_test)\n",
    "            proba = model.predict_proba(x_test)[:,1]\n",
    "            precision = precision_score(y_test, pred)\n",
    "            recall = recall_score(y_test, pred)\n",
    "\n",
    "            if (precision > 0.6) & (recall > 0.4) & (precision!=1):\n",
    "\n",
    "                print('회사이름: ',corp_name)\n",
    "                print('모델이름: ',model_name)\n",
    "                save_path = f'./data/machine_model_30일_10/{corp_name}_{model_name}.pkl'\n",
    "                joblib.dump(model, save_path)\n",
    "                get_clf_eval(y_test,pred, proba)\n",
    "                print(save_path)\n",
    "                print('-'*50)\n",
    "    except:\n",
    "        print('출현 단어 5개 미만 종목')\n",
    "        \n",
    "    print('='* 50)"
   ]
  },
  {
   "cell_type": "code",
   "execution_count": null,
   "id": "0469a9de",
   "metadata": {},
   "outputs": [],
   "source": []
  },
  {
   "cell_type": "code",
   "execution_count": null,
   "id": "284c8951",
   "metadata": {},
   "outputs": [],
   "source": []
  },
  {
   "cell_type": "code",
   "execution_count": null,
   "id": "fad616d4",
   "metadata": {},
   "outputs": [],
   "source": []
  },
  {
   "cell_type": "code",
   "execution_count": null,
   "id": "c76d4d6a",
   "metadata": {},
   "outputs": [],
   "source": []
  },
  {
   "cell_type": "code",
   "execution_count": null,
   "id": "d11c465b",
   "metadata": {},
   "outputs": [],
   "source": []
  },
  {
   "cell_type": "markdown",
   "id": "40b11152",
   "metadata": {},
   "source": [
    "# 머신러닝 모델 불러오기"
   ]
  },
  {
   "cell_type": "code",
   "execution_count": 52,
   "id": "73277071",
   "metadata": {
    "ExecuteTime": {
     "end_time": "2022-06-13T06:03:56.649261Z",
     "start_time": "2022-06-13T06:03:56.235083Z"
    }
   },
   "outputs": [
    {
     "name": "stdout",
     "output_type": "stream",
     "text": [
      "              precision    recall  f1-score   support\n",
      "\n",
      "           0       0.85      0.97      0.90        68\n",
      "           1       0.86      0.50      0.63        24\n",
      "\n",
      "    accuracy                           0.85        92\n",
      "   macro avg       0.85      0.74      0.77        92\n",
      "weighted avg       0.85      0.85      0.83        92\n",
      "\n"
     ]
    },
    {
     "data": {
      "image/png": "[encoded data removed]",
      "text/plain": [
       "<Figure size 576x432 with 1 Axes>"
      ]
     },
     "metadata": {
      "needs_background": "light"
     },
     "output_type": "display_data"
    }
   ],
   "source": [
    "corp_name = '한미반도체'\n",
    "window_size = 30\n",
    "period_rate = 0.1\n",
    "\n",
    "code = corp_code(corp_name)\n",
    "df_p = stock_price(code)\n",
    "df_p_scaled = mscaler(df_p)\n",
    "df_p_scaled.rename(columns = {'Close':'Close_scaled'},inplace=True)\n",
    "\n",
    "path = './data/데이터_뉴스키워드빈도/'\n",
    "file_path = os.path.join(path,corp_name+'.csv')\n",
    "df_count = pd.read_csv(file_path,index_col=0)\n",
    "df_count.index = pd.DatetimeIndex(df_count.index)\n",
    "\n",
    "df_merge = merge(df_count,df_p_scaled)\n",
    "\n",
    "df_model = add_target(df_merge,window_size=window_size, period_rate= period_rate)\n",
    "\n",
    "x_train = df_model.loc[:'2021-10-01',:'Close_scaled']\n",
    "y_train = df_model.loc[:'2021-10-01','target']\n",
    "\n",
    "x_test = df_model.loc['2021-10-01':,:'Close_scaled']\n",
    "y_test = df_model.loc['2021-10-01':,'target']\n",
    "\n",
    "# featurn importance\n",
    "model_name = './data/machine_model_30일_10/한미반도체_XGBClassifier.pkl'\n",
    "model = joblib.load(model_name)\n",
    "pred = model.predict(x_test)\n",
    "\n",
    "print(classification_report(y_test,pred))\n",
    "\n",
    "# 시각화\n",
    "ft_importance_values = model.feature_importances_\n",
    "\n",
    "# 정렬과 시각화를 쉽게 하기 위해 series 전환\n",
    "ft_series = pd.Series(ft_importance_values, index = x_train.columns)\n",
    "ft_top20 = ft_series.sort_values(ascending=False)[:20]\n",
    "\n",
    "# 시각화\n",
    "plt.figure(figsize=(8,6))\n",
    "plt.title('Feature Importance Top 20')\n",
    "sns.barplot(x=ft_top20, y=ft_top20.index)\n",
    "plt.show()"
   ]
  },
  {
   "cell_type": "code",
   "execution_count": 69,
   "id": "7e2debf4",
   "metadata": {
    "ExecuteTime": {
     "end_time": "2022-06-13T06:13:11.033993Z",
     "start_time": "2022-06-13T06:13:11.016017Z"
    }
   },
   "outputs": [
    {
     "data": {
      "text/plain": [
       "['매출액대비',\n",
       " '신청내역일',\n",
       " '만주',\n",
       " '매출비',\n",
       " '인천',\n",
       " '종목동정',\n",
       " '공매',\n",
       " '지분변동',\n",
       " '계약체결',\n",
       " '특징주',\n",
       " '부회장',\n",
       " '분석',\n",
       " '매출액',\n",
       " '상승',\n",
       " '출시',\n",
       " '투자',\n",
       " '수주',\n",
       " '코스피',\n",
       " '변화',\n",
       " 'Close_scaled',\n",
       " 'Close']"
      ]
     },
     "execution_count": 69,
     "metadata": {},
     "output_type": "execute_result"
    }
   ],
   "source": [
    "word_list = ft_top20.index.tolist()\n",
    "word_list.remove('Close_scaled')\n",
    "word_list.extend(['Close_scaled','Close'])\n",
    "word_list"
   ]
  },
  {
   "cell_type": "markdown",
   "id": "0f92c6f6",
   "metadata": {},
   "source": [
    "## 선출된 단어만 사용해보기"
   ]
  },
  {
   "cell_type": "code",
   "execution_count": 70,
   "id": "8bbdb830",
   "metadata": {
    "ExecuteTime": {
     "end_time": "2022-06-13T06:13:35.588839Z",
     "start_time": "2022-06-13T06:13:35.375279Z"
    }
   },
   "outputs": [
    {
     "data": {
      "text/html": [
       "<div>\n",
       "<style scoped>\n",
       "    .dataframe tbody tr th:only-of-type {\n",
       "        vertical-align: middle;\n",
       "    }\n",
       "\n",
       "    .dataframe tbody tr th {\n",
       "        vertical-align: top;\n",
       "    }\n",
       "\n",
       "    .dataframe thead th {\n",
       "        text-align: right;\n",
       "    }\n",
       "</style>\n",
       "<table border=\"1\" class=\"dataframe\">\n",
       "  <thead>\n",
       "    <tr style=\"text-align: right;\">\n",
       "      <th></th>\n",
       "      <th>매출액대비</th>\n",
       "      <th>신청내역일</th>\n",
       "      <th>만주</th>\n",
       "      <th>매출비</th>\n",
       "      <th>인천</th>\n",
       "      <th>종목동정</th>\n",
       "      <th>공매</th>\n",
       "      <th>지분변동</th>\n",
       "      <th>계약체결</th>\n",
       "      <th>특징주</th>\n",
       "      <th>...</th>\n",
       "      <th>분석</th>\n",
       "      <th>매출액</th>\n",
       "      <th>상승</th>\n",
       "      <th>출시</th>\n",
       "      <th>투자</th>\n",
       "      <th>수주</th>\n",
       "      <th>코스피</th>\n",
       "      <th>변화</th>\n",
       "      <th>Close_scaled</th>\n",
       "      <th>Close</th>\n",
       "    </tr>\n",
       "    <tr>\n",
       "      <th>날짜</th>\n",
       "      <th></th>\n",
       "      <th></th>\n",
       "      <th></th>\n",
       "      <th></th>\n",
       "      <th></th>\n",
       "      <th></th>\n",
       "      <th></th>\n",
       "      <th></th>\n",
       "      <th></th>\n",
       "      <th></th>\n",
       "      <th></th>\n",
       "      <th></th>\n",
       "      <th></th>\n",
       "      <th></th>\n",
       "      <th></th>\n",
       "      <th></th>\n",
       "      <th></th>\n",
       "      <th></th>\n",
       "      <th></th>\n",
       "      <th></th>\n",
       "      <th></th>\n",
       "    </tr>\n",
       "  </thead>\n",
       "  <tbody>\n",
       "    <tr>\n",
       "      <th>2016-01-04</th>\n",
       "      <td>0.0</td>\n",
       "      <td>0.0</td>\n",
       "      <td>0.0</td>\n",
       "      <td>0.0</td>\n",
       "      <td>0.0</td>\n",
       "      <td>0.0</td>\n",
       "      <td>0.0</td>\n",
       "      <td>0.0</td>\n",
       "      <td>0.0</td>\n",
       "      <td>0.0</td>\n",
       "      <td>...</td>\n",
       "      <td>0.0</td>\n",
       "      <td>0.0</td>\n",
       "      <td>0.0</td>\n",
       "      <td>0.0</td>\n",
       "      <td>0.0</td>\n",
       "      <td>0.0</td>\n",
       "      <td>0.0</td>\n",
       "      <td>0.0</td>\n",
       "      <td>0.006745</td>\n",
       "      <td>2480</td>\n",
       "    </tr>\n",
       "    <tr>\n",
       "      <th>2016-01-05</th>\n",
       "      <td>0.0</td>\n",
       "      <td>0.0</td>\n",
       "      <td>0.0</td>\n",
       "      <td>0.0</td>\n",
       "      <td>0.0</td>\n",
       "      <td>0.0</td>\n",
       "      <td>0.0</td>\n",
       "      <td>0.0</td>\n",
       "      <td>0.0</td>\n",
       "      <td>0.0</td>\n",
       "      <td>...</td>\n",
       "      <td>0.0</td>\n",
       "      <td>0.0</td>\n",
       "      <td>0.0</td>\n",
       "      <td>0.0</td>\n",
       "      <td>0.0</td>\n",
       "      <td>0.0</td>\n",
       "      <td>0.0</td>\n",
       "      <td>0.0</td>\n",
       "      <td>0.005621</td>\n",
       "      <td>2460</td>\n",
       "    </tr>\n",
       "    <tr>\n",
       "      <th>2016-01-06</th>\n",
       "      <td>0.0</td>\n",
       "      <td>0.0</td>\n",
       "      <td>0.0</td>\n",
       "      <td>0.0</td>\n",
       "      <td>0.0</td>\n",
       "      <td>0.0</td>\n",
       "      <td>0.0</td>\n",
       "      <td>0.0</td>\n",
       "      <td>0.0</td>\n",
       "      <td>0.0</td>\n",
       "      <td>...</td>\n",
       "      <td>0.0</td>\n",
       "      <td>0.0</td>\n",
       "      <td>0.0</td>\n",
       "      <td>0.0</td>\n",
       "      <td>0.0</td>\n",
       "      <td>0.0</td>\n",
       "      <td>0.0</td>\n",
       "      <td>0.0</td>\n",
       "      <td>0.011804</td>\n",
       "      <td>2570</td>\n",
       "    </tr>\n",
       "    <tr>\n",
       "      <th>2016-01-07</th>\n",
       "      <td>0.0</td>\n",
       "      <td>0.0</td>\n",
       "      <td>0.0</td>\n",
       "      <td>0.0</td>\n",
       "      <td>0.0</td>\n",
       "      <td>0.0</td>\n",
       "      <td>0.0</td>\n",
       "      <td>0.0</td>\n",
       "      <td>0.0</td>\n",
       "      <td>0.0</td>\n",
       "      <td>...</td>\n",
       "      <td>0.0</td>\n",
       "      <td>0.0</td>\n",
       "      <td>0.0</td>\n",
       "      <td>0.0</td>\n",
       "      <td>0.0</td>\n",
       "      <td>0.0</td>\n",
       "      <td>0.0</td>\n",
       "      <td>0.0</td>\n",
       "      <td>0.004497</td>\n",
       "      <td>2440</td>\n",
       "    </tr>\n",
       "    <tr>\n",
       "      <th>2016-01-08</th>\n",
       "      <td>0.0</td>\n",
       "      <td>0.0</td>\n",
       "      <td>0.0</td>\n",
       "      <td>0.0</td>\n",
       "      <td>0.0</td>\n",
       "      <td>0.0</td>\n",
       "      <td>0.0</td>\n",
       "      <td>0.0</td>\n",
       "      <td>0.0</td>\n",
       "      <td>0.0</td>\n",
       "      <td>...</td>\n",
       "      <td>0.0</td>\n",
       "      <td>0.0</td>\n",
       "      <td>0.0</td>\n",
       "      <td>0.0</td>\n",
       "      <td>0.0</td>\n",
       "      <td>0.0</td>\n",
       "      <td>0.0</td>\n",
       "      <td>0.0</td>\n",
       "      <td>0.005621</td>\n",
       "      <td>2460</td>\n",
       "    </tr>\n",
       "    <tr>\n",
       "      <th>...</th>\n",
       "      <td>...</td>\n",
       "      <td>...</td>\n",
       "      <td>...</td>\n",
       "      <td>...</td>\n",
       "      <td>...</td>\n",
       "      <td>...</td>\n",
       "      <td>...</td>\n",
       "      <td>...</td>\n",
       "      <td>...</td>\n",
       "      <td>...</td>\n",
       "      <td>...</td>\n",
       "      <td>...</td>\n",
       "      <td>...</td>\n",
       "      <td>...</td>\n",
       "      <td>...</td>\n",
       "      <td>...</td>\n",
       "      <td>...</td>\n",
       "      <td>...</td>\n",
       "      <td>...</td>\n",
       "      <td>...</td>\n",
       "      <td>...</td>\n",
       "    </tr>\n",
       "    <tr>\n",
       "      <th>2022-03-25</th>\n",
       "      <td>0.0</td>\n",
       "      <td>0.0</td>\n",
       "      <td>0.0</td>\n",
       "      <td>0.0</td>\n",
       "      <td>0.0</td>\n",
       "      <td>0.0</td>\n",
       "      <td>0.0</td>\n",
       "      <td>0.0</td>\n",
       "      <td>0.0</td>\n",
       "      <td>0.0</td>\n",
       "      <td>...</td>\n",
       "      <td>0.0</td>\n",
       "      <td>0.0</td>\n",
       "      <td>0.0</td>\n",
       "      <td>0.0</td>\n",
       "      <td>0.0</td>\n",
       "      <td>0.0</td>\n",
       "      <td>0.0</td>\n",
       "      <td>0.0</td>\n",
       "      <td>0.832771</td>\n",
       "      <td>17175</td>\n",
       "    </tr>\n",
       "    <tr>\n",
       "      <th>2022-03-28</th>\n",
       "      <td>0.0</td>\n",
       "      <td>0.0</td>\n",
       "      <td>0.0</td>\n",
       "      <td>0.0</td>\n",
       "      <td>0.0</td>\n",
       "      <td>0.0</td>\n",
       "      <td>0.0</td>\n",
       "      <td>0.0</td>\n",
       "      <td>0.0</td>\n",
       "      <td>0.0</td>\n",
       "      <td>...</td>\n",
       "      <td>0.0</td>\n",
       "      <td>0.0</td>\n",
       "      <td>0.0</td>\n",
       "      <td>0.0</td>\n",
       "      <td>0.0</td>\n",
       "      <td>0.0</td>\n",
       "      <td>0.0</td>\n",
       "      <td>0.0</td>\n",
       "      <td>0.835582</td>\n",
       "      <td>17225</td>\n",
       "    </tr>\n",
       "    <tr>\n",
       "      <th>2022-03-29</th>\n",
       "      <td>0.0</td>\n",
       "      <td>0.0</td>\n",
       "      <td>0.0</td>\n",
       "      <td>0.0</td>\n",
       "      <td>0.0</td>\n",
       "      <td>0.0</td>\n",
       "      <td>0.0</td>\n",
       "      <td>0.0</td>\n",
       "      <td>0.0</td>\n",
       "      <td>0.0</td>\n",
       "      <td>...</td>\n",
       "      <td>0.0</td>\n",
       "      <td>0.0</td>\n",
       "      <td>0.0</td>\n",
       "      <td>0.0</td>\n",
       "      <td>0.0</td>\n",
       "      <td>0.0</td>\n",
       "      <td>0.0</td>\n",
       "      <td>0.0</td>\n",
       "      <td>0.855256</td>\n",
       "      <td>17575</td>\n",
       "    </tr>\n",
       "    <tr>\n",
       "      <th>2022-03-30</th>\n",
       "      <td>0.0</td>\n",
       "      <td>0.0</td>\n",
       "      <td>0.0</td>\n",
       "      <td>0.0</td>\n",
       "      <td>0.0</td>\n",
       "      <td>0.0</td>\n",
       "      <td>0.0</td>\n",
       "      <td>0.0</td>\n",
       "      <td>0.0</td>\n",
       "      <td>0.0</td>\n",
       "      <td>...</td>\n",
       "      <td>0.0</td>\n",
       "      <td>0.0</td>\n",
       "      <td>0.0</td>\n",
       "      <td>0.0</td>\n",
       "      <td>0.0</td>\n",
       "      <td>0.0</td>\n",
       "      <td>0.0</td>\n",
       "      <td>0.0</td>\n",
       "      <td>0.842608</td>\n",
       "      <td>17350</td>\n",
       "    </tr>\n",
       "    <tr>\n",
       "      <th>2022-03-31</th>\n",
       "      <td>0.0</td>\n",
       "      <td>0.0</td>\n",
       "      <td>0.0</td>\n",
       "      <td>0.0</td>\n",
       "      <td>0.0</td>\n",
       "      <td>0.0</td>\n",
       "      <td>0.0</td>\n",
       "      <td>0.0</td>\n",
       "      <td>0.0</td>\n",
       "      <td>0.0</td>\n",
       "      <td>...</td>\n",
       "      <td>0.0</td>\n",
       "      <td>0.0</td>\n",
       "      <td>0.0</td>\n",
       "      <td>0.0</td>\n",
       "      <td>0.0</td>\n",
       "      <td>0.0</td>\n",
       "      <td>0.0</td>\n",
       "      <td>0.0</td>\n",
       "      <td>0.851040</td>\n",
       "      <td>17500</td>\n",
       "    </tr>\n",
       "  </tbody>\n",
       "</table>\n",
       "<p>1534 rows × 21 columns</p>\n",
       "</div>"
      ],
      "text/plain": [
       "            매출액대비  신청내역일   만주  매출비   인천  종목동정   공매  지분변동  계약체결  특징주  ...   분석  \\\n",
       "날짜                                                                   ...        \n",
       "2016-01-04    0.0    0.0  0.0  0.0  0.0   0.0  0.0   0.0   0.0  0.0  ...  0.0   \n",
       "2016-01-05    0.0    0.0  0.0  0.0  0.0   0.0  0.0   0.0   0.0  0.0  ...  0.0   \n",
       "2016-01-06    0.0    0.0  0.0  0.0  0.0   0.0  0.0   0.0   0.0  0.0  ...  0.0   \n",
       "2016-01-07    0.0    0.0  0.0  0.0  0.0   0.0  0.0   0.0   0.0  0.0  ...  0.0   \n",
       "2016-01-08    0.0    0.0  0.0  0.0  0.0   0.0  0.0   0.0   0.0  0.0  ...  0.0   \n",
       "...           ...    ...  ...  ...  ...   ...  ...   ...   ...  ...  ...  ...   \n",
       "2022-03-25    0.0    0.0  0.0  0.0  0.0   0.0  0.0   0.0   0.0  0.0  ...  0.0   \n",
       "2022-03-28    0.0    0.0  0.0  0.0  0.0   0.0  0.0   0.0   0.0  0.0  ...  0.0   \n",
       "2022-03-29    0.0    0.0  0.0  0.0  0.0   0.0  0.0   0.0   0.0  0.0  ...  0.0   \n",
       "2022-03-30    0.0    0.0  0.0  0.0  0.0   0.0  0.0   0.0   0.0  0.0  ...  0.0   \n",
       "2022-03-31    0.0    0.0  0.0  0.0  0.0   0.0  0.0   0.0   0.0  0.0  ...  0.0   \n",
       "\n",
       "            매출액   상승   출시   투자   수주  코스피   변화  Close_scaled  Close  \n",
       "날짜                                                                  \n",
       "2016-01-04  0.0  0.0  0.0  0.0  0.0  0.0  0.0      0.006745   2480  \n",
       "2016-01-05  0.0  0.0  0.0  0.0  0.0  0.0  0.0      0.005621   2460  \n",
       "2016-01-06  0.0  0.0  0.0  0.0  0.0  0.0  0.0      0.011804   2570  \n",
       "2016-01-07  0.0  0.0  0.0  0.0  0.0  0.0  0.0      0.004497   2440  \n",
       "2016-01-08  0.0  0.0  0.0  0.0  0.0  0.0  0.0      0.005621   2460  \n",
       "...         ...  ...  ...  ...  ...  ...  ...           ...    ...  \n",
       "2022-03-25  0.0  0.0  0.0  0.0  0.0  0.0  0.0      0.832771  17175  \n",
       "2022-03-28  0.0  0.0  0.0  0.0  0.0  0.0  0.0      0.835582  17225  \n",
       "2022-03-29  0.0  0.0  0.0  0.0  0.0  0.0  0.0      0.855256  17575  \n",
       "2022-03-30  0.0  0.0  0.0  0.0  0.0  0.0  0.0      0.842608  17350  \n",
       "2022-03-31  0.0  0.0  0.0  0.0  0.0  0.0  0.0      0.851040  17500  \n",
       "\n",
       "[1534 rows x 21 columns]"
      ]
     },
     "execution_count": 70,
     "metadata": {},
     "output_type": "execute_result"
    }
   ],
   "source": [
    "path = './data/데이터_뉴스키워드빈도/'\n",
    "\n",
    "corp_name = '한미반도체'\n",
    "code = corp_code(corp_name)\n",
    "df_p = stock_price(code)\n",
    "df_p_scaled = mscaler(df_p)\n",
    "df_p_scaled.rename(columns = {'Close':'Close_scaled'},inplace=True)\n",
    "\n",
    "file_path = os.path.join(path,corp_name+'.csv')\n",
    "df_count = pd.read_csv(file_path,index_col=0)\n",
    "df_count.index = pd.DatetimeIndex(df_count.index)\n",
    "df_count\n",
    "df_count = mscaler(df_count)\n",
    "df_merge = merge(df_count,df_p_scaled)\n",
    "\n",
    "df_merge = df_merge[word_list]\n",
    "df_merge\n"
   ]
  },
  {
   "cell_type": "code",
   "execution_count": 71,
   "id": "2a8dafeb",
   "metadata": {
    "ExecuteTime": {
     "end_time": "2022-06-13T06:16:32.348288Z",
     "start_time": "2022-06-13T06:16:19.304447Z"
    }
   },
   "outputs": [],
   "source": [
    "X,Y =lstm_xy(df_merge,60,30,0.1)"
   ]
  },
  {
   "cell_type": "code",
   "execution_count": 80,
   "id": "d488cb64",
   "metadata": {
    "ExecuteTime": {
     "end_time": "2022-06-13T06:19:59.087500Z",
     "start_time": "2022-06-13T06:19:59.072052Z"
    }
   },
   "outputs": [
    {
     "data": {
      "text/plain": [
       "(1444, 60, 20)"
      ]
     },
     "execution_count": 80,
     "metadata": {},
     "output_type": "execute_result"
    }
   ],
   "source": [
    "X.shape"
   ]
  },
  {
   "cell_type": "code",
   "execution_count": 81,
   "id": "90278d3d",
   "metadata": {
    "ExecuteTime": {
     "end_time": "2022-06-13T06:19:59.308099Z",
     "start_time": "2022-06-13T06:19:59.304138Z"
    }
   },
   "outputs": [],
   "source": [
    "train_test_split = 1100\n",
    "\n",
    "x_train = X[:1100]\n",
    "y_train = Y[:1100]\n",
    "\n",
    "x_test = X[1100:]\n",
    "y_test = Y[1100:]"
   ]
  },
  {
   "cell_type": "code",
   "execution_count": 82,
   "id": "60924b56",
   "metadata": {
    "ExecuteTime": {
     "end_time": "2022-06-13T06:19:59.623126Z",
     "start_time": "2022-06-13T06:19:59.559678Z"
    }
   },
   "outputs": [
    {
     "name": "stdout",
     "output_type": "stream",
     "text": [
      "WARNING:tensorflow:Layer lstm_3 will not use cuDNN kernels since it doesn't meet the criteria. It will use a generic GPU kernel as fallback when running on GPU.\n",
      "Model: \"sequential_3\"\n",
      "_________________________________________________________________\n",
      "Layer (type)                 Output Shape              Param #   \n",
      "=================================================================\n",
      "lstm_3 (LSTM)                (None, 50)                14200     \n",
      "_________________________________________________________________\n",
      "dense_3 (Dense)              (None, 1)                 51        \n",
      "=================================================================\n",
      "Total params: 14,251\n",
      "Trainable params: 14,251\n",
      "Non-trainable params: 0\n",
      "_________________________________________________________________\n"
     ]
    }
   ],
   "source": [
    "with tf.device('/GPU:0'):\n",
    "    model= Sequential()\n",
    "    model.add(LSTM(50,input_shape=(60,20),activation='relu'))\n",
    "    model.add(Dense(1,activation='sigmoid'))\n",
    "    model.summary()"
   ]
  },
  {
   "cell_type": "code",
   "execution_count": 83,
   "id": "c03768ab",
   "metadata": {
    "ExecuteTime": {
     "end_time": "2022-06-13T06:19:59.793606Z",
     "start_time": "2022-06-13T06:19:59.783603Z"
    }
   },
   "outputs": [],
   "source": [
    "Adam = tf.keras.optimizers.Adam(learning_rate=0.0001)"
   ]
  },
  {
   "cell_type": "code",
   "execution_count": 84,
   "id": "b33c0589",
   "metadata": {
    "ExecuteTime": {
     "end_time": "2022-06-13T06:20:00.047354Z",
     "start_time": "2022-06-13T06:20:00.038410Z"
    }
   },
   "outputs": [],
   "source": [
    "model.compile(loss='binary_crossentropy',metrics=['accuracy'], optimizer=Adam)"
   ]
  },
  {
   "cell_type": "code",
   "execution_count": 85,
   "id": "99357631",
   "metadata": {
    "ExecuteTime": {
     "end_time": "2022-06-13T06:23:54.812605Z",
     "start_time": "2022-06-13T06:20:00.920396Z"
    },
    "scrolled": true
   },
   "outputs": [
    {
     "name": "stdout",
     "output_type": "stream",
     "text": [
      "Epoch 1/30\n",
      "110/110 [==============================] - 8s 71ms/step - loss: 0.6857 - accuracy: 0.7127 - val_loss: 0.6391 - val_accuracy: 0.8866\n",
      "Epoch 2/30\n",
      "110/110 [==============================] - 7s 61ms/step - loss: 0.6218 - accuracy: 0.7718 - val_loss: 54.8573 - val_accuracy: 0.8866\n",
      "Epoch 3/30\n",
      "110/110 [==============================] - 8s 72ms/step - loss: 0.5527 - accuracy: 0.7718 - val_loss: 3.0172 - val_accuracy: 0.8866\n",
      "Epoch 4/30\n",
      "110/110 [==============================] - 8s 72ms/step - loss: 0.5381 - accuracy: 0.7718 - val_loss: 0.4367 - val_accuracy: 0.8866 3s - loss: 0.5530 - accuracy: 0.76 - ETA: 3s - ETA:  - ETA: 1s -\n",
      "Epoch 5/30\n",
      "110/110 [==============================] - 8s 72ms/step - loss: 0.5245 - accuracy: 0.7718 - val_loss: 0.3725 - val_accuracy: 0.8866- loss: - ETA: 1s - los - ETA: 0s - loss:\n",
      "Epoch 6/30\n",
      "110/110 [==============================] - 8s 72ms/step - loss: 0.5076 - accuracy: 0.7718 - val_loss: 0.4084 - val_accuracy: 0.8866\n",
      "Epoch 7/30\n",
      "110/110 [==============================] - 8s 74ms/step - loss: 0.4911 - accuracy: 0.7718 - val_loss: 0.4785 - val_accuracy: 0.8866\n",
      "Epoch 8/30\n",
      "110/110 [==============================] - 8s 72ms/step - loss: 0.4752 - accuracy: 0.7718 - val_loss: 0.5322 - val_accuracy: 0.8866\n",
      "Epoch 9/30\n",
      "110/110 [==============================] - 8s 71ms/step - loss: 0.4697 - accuracy: 0.7718 - val_loss: 0.5512 - val_accuracy: 0.8866s - loss: 0.4708 -  - ETA: 2s - loss: 0.4620 - accura - ETA: 2s - l - ETA: 0s - loss: 0.4705 - accuracy: 0.\n",
      "Epoch 10/30\n",
      "110/110 [==============================] - 8s 70ms/step - loss: 0.4693 - accuracy: 0.7718 - val_loss: 0.5901 - val_accuracy: 0.8866\n",
      "Epoch 11/30\n",
      "110/110 [==============================] - 8s 74ms/step - loss: 0.4708 - accuracy: 0.7718 - val_loss: 0.5509 - val_accuracy: 0.8866\n",
      "Epoch 12/30\n",
      "110/110 [==============================] - 8s 72ms/step - loss: 0.4574 - accuracy: 0.7718 - val_loss: 0.5515 - val_accuracy: 0.8866\n",
      "Epoch 13/30\n",
      "110/110 [==============================] - 8s 74ms/step - loss: 0.4523 - accuracy: 0.7718 - val_loss: 0.5551 - val_accuracy: 0.8866\n",
      "Epoch 14/30\n",
      "110/110 [==============================] - 8s 71ms/step - loss: 0.4559 - accuracy: 0.7727 - val_loss: 0.5529 - val_accuracy: 0.8866s - loss: 0.4556  - ETA: 3s - loss: 0.4390 - accuracy - ETA: 3s - loss: 0.4352 - \n",
      "Epoch 15/30\n",
      "110/110 [==============================] - 8s 71ms/step - loss: 0.4402 - accuracy: 0.7718 - val_loss: 0.5873 - val_accuracy: 0.8866\n",
      "Epoch 16/30\n",
      "110/110 [==============================] - 8s 71ms/step - loss: 0.4392 - accuracy: 0.7736 - val_loss: 0.5834 - val_accuracy: 0.8866-\n",
      "Epoch 17/30\n",
      "110/110 [==============================] - 8s 71ms/step - loss: 0.4428 - accuracy: 0.7800 - val_loss: 0.6176 - val_accuracy: 0.7936\n",
      "Epoch 18/30\n",
      "110/110 [==============================] - 8s 71ms/step - loss: 0.4483 - accuracy: 0.7782 - val_loss: 0.5892 - val_accuracy: 0.8227c - ETA: 3s - los - ETA: 1s - loss: 0.4463 - accuracy:  - ETA: 1s\n",
      "Epoch 19/30\n",
      "110/110 [==============================] - 8s 71ms/step - loss: 0.4404 - accuracy: 0.7818 - val_loss: 0.6318 - val_accuracy: 0.7122ccura - ETA: 2s - loss: - ETA: 2s - loss: 0.4348 - accuracy - ETA: 1s - loss: 0.4339 - accuracy: 0. - ETA:  - ETA: 0s - loss: 0.4384 \n",
      "Epoch 20/30\n",
      "110/110 [==============================] - 8s 71ms/step - loss: 0.4402 - accuracy: 0.7809 - val_loss: 0.6212 - val_accuracy: 0.7064\n",
      "Epoch 21/30\n",
      "110/110 [==============================] - 7s 62ms/step - loss: 0.4302 - accuracy: 0.7836 - val_loss: 0.5967 - val_accuracy: 0.6453\n",
      "Epoch 22/30\n",
      "110/110 [==============================] - 8s 69ms/step - loss: 0.4271 - accuracy: 0.7836 - val_loss: 0.7220 - val_accuracy: 0.3459\n",
      "Epoch 23/30\n",
      "110/110 [==============================] - 8s 70ms/step - loss: 0.4439 - accuracy: 0.7882 - val_loss: 0.6334 - val_accuracy: 0.5349\n",
      "Epoch 24/30\n",
      "110/110 [==============================] - 8s 71ms/step - loss: 0.4203 - accuracy: 0.7900 - val_loss: 0.6581 - val_accuracy: 0.4564\n",
      "Epoch 25/30\n",
      "110/110 [==============================] - 8s 71ms/step - loss: 0.4243 - accuracy: 0.7955 - val_loss: 0.6874 - val_accuracy: 0.4128- loss: 0 - ETA: 0s - loss: 0.4281 - accu\n",
      "Epoch 26/30\n",
      "110/110 [==============================] - 8s 72ms/step - loss: 0.4296 - accuracy: 0.7973 - val_loss: 0.6923 - val_accuracy: 0.404195 - accuracy:  - E\n",
      "Epoch 27/30\n",
      "110/110 [==============================] - 8s 69ms/step - loss: 0.4152 - accuracy: 0.7964 - val_loss: 0.8773 - val_accuracy: 0.3198\n",
      "Epoch 28/30\n",
      "110/110 [==============================] - 8s 74ms/step - loss: 0.4240 - accuracy: 0.8036 - val_loss: 0.7043 - val_accuracy: 0.4099: 0.4326 - ac\n",
      "Epoch 29/30\n",
      "110/110 [==============================] - 8s 72ms/step - loss: 0.4133 - accuracy: 0.8045 - val_loss: 0.9176 - val_accuracy: 0.3634\n",
      "Epoch 30/30\n",
      "110/110 [==============================] - 8s 68ms/step - loss: 0.4045 - accuracy: 0.8118 - val_loss: 4.1928 - val_accuracy: 0.3488ss: 0.4047 - accuracy: \n"
     ]
    }
   ],
   "source": [
    "history = model.fit(x_train,y_train,epochs=30,batch_size=10, validation_data=(x_test,y_test))"
   ]
  },
  {
   "cell_type": "code",
   "execution_count": 92,
   "id": "f09a3ed0",
   "metadata": {
    "ExecuteTime": {
     "end_time": "2022-06-14T03:13:48.902889Z",
     "start_time": "2022-06-14T03:13:48.803999Z"
    }
   },
   "outputs": [
    {
     "data": {
      "text/plain": [
       "[<matplotlib.lines.Line2D at 0x2ae3c7e8ee0>]"
      ]
     },
     "execution_count": 92,
     "metadata": {},
     "output_type": "execute_result"
    },
    {
     "data": {
      "image/png": "[encoded data removed]",
      "text/plain": [
       "<Figure size 432x288 with 1 Axes>"
      ]
     },
     "metadata": {
      "needs_background": "light"
     },
     "output_type": "display_data"
    }
   ],
   "source": [
    "plt.plot(history.history['val_accuracy'])"
   ]
  },
  {
   "cell_type": "code",
   "execution_count": 90,
   "id": "027aba62",
   "metadata": {
    "ExecuteTime": {
     "end_time": "2022-06-14T03:13:26.574917Z",
     "start_time": "2022-06-14T03:13:26.484616Z"
    }
   },
   "outputs": [
    {
     "data": {
      "text/plain": [
       "[<matplotlib.lines.Line2D at 0x2ae3c768910>]"
      ]
     },
     "execution_count": 90,
     "metadata": {},
     "output_type": "execute_result"
    },
    {
     "data": {
      "image/png": "[encoded data removed]",
      "text/plain": [
       "<Figure size 432x288 with 1 Axes>"
      ]
     },
     "metadata": {
      "needs_background": "light"
     },
     "output_type": "display_data"
    }
   ],
   "source": [
    "plt.plot(history.history['val_loss'])"
   ]
  },
  {
   "cell_type": "code",
   "execution_count": null,
   "id": "9fe2b965",
   "metadata": {},
   "outputs": [],
   "source": []
  },
  {
   "cell_type": "code",
   "execution_count": null,
   "id": "1c9a4339",
   "metadata": {},
   "outputs": [],
   "source": []
  },
  {
   "cell_type": "code",
   "execution_count": null,
   "id": "81e17f8a",
   "metadata": {},
   "outputs": [],
   "source": []
  },
  {
   "cell_type": "code",
   "execution_count": null,
   "id": "0b1809bc",
   "metadata": {},
   "outputs": [],
   "source": []
  },
  {
   "cell_type": "code",
   "execution_count": null,
   "id": "60c9261b",
   "metadata": {},
   "outputs": [],
   "source": []
  },
  {
   "cell_type": "code",
   "execution_count": null,
   "id": "72f776c4",
   "metadata": {},
   "outputs": [],
   "source": []
  },
  {
   "cell_type": "code",
   "execution_count": null,
   "id": "5bb758ec",
   "metadata": {},
   "outputs": [],
   "source": []
  },
  {
   "cell_type": "code",
   "execution_count": null,
   "id": "3bc3e63f",
   "metadata": {},
   "outputs": [],
   "source": []
  },
  {
   "cell_type": "code",
   "execution_count": null,
   "id": "a76db38c",
   "metadata": {},
   "outputs": [],
   "source": []
  },
  {
   "cell_type": "code",
   "execution_count": null,
   "id": "d9e48f36",
   "metadata": {},
   "outputs": [],
   "source": []
  }
 ],
 "metadata": {
  "kernelspec": {
   "display_name": "Python 3 (ipykernel)",
   "language": "python",
   "name": "python3"
  },
  "language_info": {
   "codemirror_mode": {
    "name": "ipython",
    "version": 3
   },
   "file_extension": ".py",
   "mimetype": "text/x-python",
   "name": "python",
   "nbconvert_exporter": "python",
   "pygments_lexer": "ipython3",
   "version": "3.9.7"
  },
  "toc": {
   "base_numbering": 1,
   "nav_menu": {},
   "number_sections": true,
   "sideBar": true,
   "skip_h1_title": false,
   "title_cell": "Table of Contents",
   "title_sidebar": "Contents",
   "toc_cell": false,
   "toc_position": {},
   "toc_section_display": true,
   "toc_window_display": true
  },
  "varInspector": {
   "cols": {
    "lenName": 16,
    "lenType": 16,
    "lenVar": 40
   },
   "kernels_config": {
    "python": {
     "delete_cmd_postfix": "",
     "delete_cmd_prefix": "del ",
     "library": "var_list.py",
     "varRefreshCmd": "print(var_dic_list())"
    },
    "r": {
     "delete_cmd_postfix": ") ",
     "delete_cmd_prefix": "rm(",
     "library": "var_list.r",
     "varRefreshCmd": "cat(var_dic_list()) "
    }
   },
   "types_to_exclude": [
    "module",
    "function",
    "builtin_function_or_method",
    "instance",
    "_Feature"
   ],
   "window_display": false
  }
 },
 "nbformat": 4,
 "nbformat_minor": 5
}
