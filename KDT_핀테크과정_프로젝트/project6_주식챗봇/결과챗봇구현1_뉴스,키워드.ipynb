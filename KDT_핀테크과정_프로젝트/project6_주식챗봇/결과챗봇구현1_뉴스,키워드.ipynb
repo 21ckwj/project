{
 "cells": [
  {
   "cell_type": "markdown",
   "id": "ddfd7c23",
   "metadata": {},
   "source": [
    "# 챗봇에 넣을 결과 만들기"
   ]
  },
  {
   "cell_type": "code",
   "execution_count": 27,
   "id": "8f4018bf",
   "metadata": {
    "ExecuteTime": {
     "end_time": "2022-06-24T10:19:41.388831Z",
     "start_time": "2022-06-24T10:19:41.368799Z"
    }
   },
   "outputs": [],
   "source": [
    "import pandas as pd\n",
    "import numpy as np\n",
    "import matplotlib.pyplot as plt\n",
    "import seaborn as sns\n",
    "\n",
    "# 한글 폰트 사용을 위해서 세팅\n",
    "from matplotlib import font_manager, rc\n",
    "font_path = \"C:/Windows/Fonts/malgun.ttf\"\n",
    "font = font_manager.FontProperties(fname=font_path).get_name()\n",
    "rc('font', family=font)\n",
    "\n",
    "from bs4 import BeautifulSoup\n",
    "import requests\n",
    "\n",
    "from selenium import webdriver\n",
    "import os \n",
    "import re\n",
    "pd.set_option('display.max.colwidth', 70)"
   ]
  },
  {
   "cell_type": "markdown",
   "id": "99c24ce2",
   "metadata": {},
   "source": [
    "## 뉴스: 삼성전자 무슨일 있어?"
   ]
  },
  {
   "cell_type": "markdown",
   "id": "38b1629a",
   "metadata": {},
   "source": [
    "### 크롤링"
   ]
  },
  {
   "cell_type": "code",
   "execution_count": 28,
   "id": "cbe24cdb",
   "metadata": {
    "ExecuteTime": {
     "end_time": "2022-06-24T10:19:46.766243Z",
     "start_time": "2022-06-24T10:19:46.457063Z"
    },
    "scrolled": true
   },
   "outputs": [
    {
     "name": "stdout",
     "output_type": "stream",
     "text": [
      "회사이름 : 삼성전자\n",
      "날짜:  2022.03.30.\n",
      "날짜:  2022.03.30.\n",
      "날짜:  2022.03.30.\n",
      "날짜:  2022.03.30.\n",
      "날짜:  2022.03.29.\n",
      "날짜:  2022.03.30.\n",
      "날짜:  2022.03.30.\n",
      "날짜:  2022.03.30.\n",
      "날짜:  2022.03.30.\n",
      "날짜:  2022.03.30.\n"
     ]
    }
   ],
   "source": [
    "bgn_date1 = '2022.03.01'\n",
    "bgn_date2 = '20220301'\n",
    "end_date1 = '2022.03.30'\n",
    "end_date2 = '20220330'\n",
    "page = 1\n",
    "corp = '삼성전자'\n",
    "\n",
    "\n",
    "print('회사이름 :', corp)\n",
    "title_lst = []\n",
    "summary_lst = []\n",
    "path_lst = []\n",
    "date_lst = []\n",
    "\n",
    "for pg in range(1,page+1):\n",
    "\n",
    "    page_num = pg *10 - 9\n",
    "\n",
    "    url = f'https://search.naver.com/search.naver?where=news&sm=tab_pge&query={corp}&sort=0&photo=0&field=0&pd=3&ds={bgn_date1}&de={end_date1}&cluster_rank=24&mynews=0&office_type=0&office_section_code=0&news_office_checked=&nso=so:r,p:from{bgn_date2}to{end_date2},a:all&start={page_num}'\n",
    "    res = requests.get(url)\n",
    "    soup = BeautifulSoup(res.text , 'html.parser')\n",
    "    lis = soup.select('#main_pack > section > div > div.group_news > ul>li')\n",
    "\n",
    "    for li in lis:\n",
    "        #제목\n",
    "        title = li.select('div.news_wrap.api_ani_send > div > a')[0].text\n",
    "\n",
    "        title_lst.append(title)\n",
    "\n",
    "        #요약\n",
    "        summary = li.select('div.news_dsc > div > a')[0].text\n",
    "        summary_lst.append(summary)\n",
    "        \n",
    "        # url\n",
    "        url_path = li.select('div.news_wrap.api_ani_send > div > a')[0]['href']\n",
    "        path_lst.append(url_path)\n",
    "\n",
    "        #날짜\n",
    "\n",
    "        if len(li.select('div.news_info > div.info_group > span'))==1:\n",
    "            date = li.select('div.news_info > div.info_group > span')[0].text\n",
    "            date_lst.append(date)\n",
    "            print('날짜: ',date)\n",
    "\n",
    "\n",
    "        if len(li.select('div.news_info > div.info_group > span'))==2:\n",
    "            date = li.select('div.news_info > div.info_group > span')[1].text\n",
    "            date_lst.append(date)\n",
    "            print('날짜: ',date)\n",
    "\n",
    "df= pd.DataFrame({'날짜': date_lst, '제목': title_lst, '요약': summary_lst, 'url':url_path})\n"
   ]
  },
  {
   "cell_type": "code",
   "execution_count": 29,
   "id": "9ccfb7d9",
   "metadata": {
    "ExecuteTime": {
     "end_time": "2022-06-24T10:19:48.908781Z",
     "start_time": "2022-06-24T10:19:48.904781Z"
    }
   },
   "outputs": [
    {
     "data": {
      "text/plain": [
       "'20220301'"
      ]
     },
     "execution_count": 29,
     "metadata": {},
     "output_type": "execute_result"
    }
   ],
   "source": [
    "bgn_date = '2022.03.01'\n",
    "bgn_date2 = bgn_date.replace('.','')\n",
    "bgn_date2"
   ]
  },
  {
   "cell_type": "markdown",
   "id": "badfa3ef",
   "metadata": {},
   "source": [
    "### 크롤링 함수화: crawl_news()"
   ]
  },
  {
   "cell_type": "code",
   "execution_count": 30,
   "id": "c32eba67",
   "metadata": {
    "ExecuteTime": {
     "end_time": "2022-06-24T10:19:49.816657Z",
     "start_time": "2022-06-24T10:19:49.814627Z"
    }
   },
   "outputs": [],
   "source": [
    "bgn_date1 = '2022.03.01'\n",
    "bgn_date2 = '20220301'\n",
    "end_date1 = '2022.03.30'\n",
    "end_date2 = '20220330'\n",
    "page = 1\n",
    "corp = '삼성전자'"
   ]
  },
  {
   "cell_type": "code",
   "execution_count": 31,
   "id": "fbb14668",
   "metadata": {
    "ExecuteTime": {
     "end_time": "2022-06-24T10:19:50.581901Z",
     "start_time": "2022-06-24T10:19:50.569911Z"
    }
   },
   "outputs": [],
   "source": [
    "def crawl_news(corp,page=1,bgn_date='2022.03.01',end_date='2022.03.30'):\n",
    "    \n",
    "    bgn_date1 = bgn_date\n",
    "    bgn_date2 = bgn_date.replace('.','')\n",
    "    end_date1 = end_date\n",
    "    end_date2 = end_date.replace('.','')\n",
    "    \n",
    "    title_lst = []\n",
    "    summary_lst = []\n",
    "    url_lst = []\n",
    "    date_lst = []\n",
    "\n",
    "    for pg in range(1,page+1):\n",
    "\n",
    "        page_num = pg *10 - 9\n",
    "\n",
    "        url = f'https://search.naver.com/search.naver?where=news&sm=tab_pge&query={corp}&sort=0&photo=0&field=0&pd=3&ds={bgn_date1}&de={end_date1}&cluster_rank=24&mynews=0&office_type=0&office_section_code=0&news_office_checked=&nso=so:r,p:from{bgn_date2}to{end_date2},a:all&start={page_num}'\n",
    "        res = requests.get(url)\n",
    "        soup = BeautifulSoup(res.text , 'html.parser')\n",
    "        lis = soup.select('#main_pack > section > div > div.group_news > ul>li')\n",
    "\n",
    "        for li in lis:\n",
    "            #제목\n",
    "            title = li.select('div.news_wrap.api_ani_send > div > a')[0].text\n",
    "\n",
    "            title_lst.append(title)\n",
    "\n",
    "            #요약\n",
    "            summary = li.select('div.news_dsc > div > a')[0].text\n",
    "            summary_lst.append(summary)\n",
    "\n",
    "            # url\n",
    "            url_path = li.select('div.news_wrap.api_ani_send > div > a')[0]['href']\n",
    "            url_lst.append(url_path)\n",
    "\n",
    "            #날짜\n",
    "\n",
    "            if len(li.select('div.news_info > div.info_group > span'))==1:\n",
    "                date = li.select('div.news_info > div.info_group > span')[0].text\n",
    "                date_lst.append(date)\n",
    "\n",
    "\n",
    "            if len(li.select('div.news_info > div.info_group > span'))==2:\n",
    "                date = li.select('div.news_info > div.info_group > span')[1].text\n",
    "                date_lst.append(date)\n",
    "    \n",
    "    df = pd.DataFrame({'날짜':date_lst,'뉴스제목':title_lst,'url':url_lst})\n",
    "    \n",
    "    return df"
   ]
  },
  {
   "cell_type": "code",
   "execution_count": 32,
   "id": "f267c93f",
   "metadata": {
    "ExecuteTime": {
     "end_time": "2022-06-24T10:19:51.438618Z",
     "start_time": "2022-06-24T10:19:51.296997Z"
    }
   },
   "outputs": [
    {
     "data": {
      "text/html": [
       "<div>\n",
       "<style scoped>\n",
       "    .dataframe tbody tr th:only-of-type {\n",
       "        vertical-align: middle;\n",
       "    }\n",
       "\n",
       "    .dataframe tbody tr th {\n",
       "        vertical-align: top;\n",
       "    }\n",
       "\n",
       "    .dataframe thead th {\n",
       "        text-align: right;\n",
       "    }\n",
       "</style>\n",
       "<table border=\"1\" class=\"dataframe\">\n",
       "  <thead>\n",
       "    <tr style=\"text-align: right;\">\n",
       "      <th></th>\n",
       "      <th>날짜</th>\n",
       "      <th>뉴스제목</th>\n",
       "      <th>url</th>\n",
       "    </tr>\n",
       "  </thead>\n",
       "  <tbody>\n",
       "    <tr>\n",
       "      <th>0</th>\n",
       "      <td>2022.03.30.</td>\n",
       "      <td>SSD 1위 삼성전자, 2위 WD와 MOU 체결…\"기술 평준화 위한 협력\"</td>\n",
       "      <td>http://www.newsis.com/view/?id=NISX20220330_0001813003&amp;cID=13001&amp;p...</td>\n",
       "    </tr>\n",
       "    <tr>\n",
       "      <th>1</th>\n",
       "      <td>2022.03.30.</td>\n",
       "      <td>알아서 척척 '캄테크' 강조한 한종희…삼성 TV 신제품 공개</td>\n",
       "      <td>https://www.hankyung.com/economy/article/202203301924g</td>\n",
       "    </tr>\n",
       "    <tr>\n",
       "      <th>2</th>\n",
       "      <td>2022.03.30.</td>\n",
       "      <td>현대重·삼성전자 헬스케어 '맞손'..입는 의료기기 협력한다</td>\n",
       "      <td>http://news.mt.co.kr/mtview.php?no=2022033010060122966</td>\n",
       "    </tr>\n",
       "    <tr>\n",
       "      <th>3</th>\n",
       "      <td>2022.03.30.</td>\n",
       "      <td>신보, 삼성전자 냉장가전 협력사에 181억원 보증지원</td>\n",
       "      <td>http://yna.kr/AKR20220330048700002?did=1195m</td>\n",
       "    </tr>\n",
       "    <tr>\n",
       "      <th>4</th>\n",
       "      <td>2022.03.29.</td>\n",
       "      <td>삼성전자, 태국에 초대형 마이크로 LED ‘더 월’ 설치</td>\n",
       "      <td>https://biz.chosun.com/it-science/ict/2022/03/29/ZL3KVAX2OZBMBPWBG...</td>\n",
       "    </tr>\n",
       "    <tr>\n",
       "      <th>5</th>\n",
       "      <td>2022.03.30.</td>\n",
       "      <td>[단독]검찰, 삼성웰스토리·삼성전자 본사 3일째 연달아 압수수색</td>\n",
       "      <td>https://www.seoul.co.kr/news/newsView.php?id=20220330500036&amp;wlog_t...</td>\n",
       "    </tr>\n",
       "    <tr>\n",
       "      <th>6</th>\n",
       "      <td>2022.03.30.</td>\n",
       "      <td>현대重-삼성전자, 모바일 헬스케어사업 맞손</td>\n",
       "      <td>https://www.nocutnews.co.kr/news/5731610</td>\n",
       "    </tr>\n",
       "    <tr>\n",
       "      <th>7</th>\n",
       "      <td>2022.03.30.</td>\n",
       "      <td>\"가전은 역시 LG?\"…삼성, 숨겨놓은 신무기 공개했다</td>\n",
       "      <td>https://www.sedaily.com/NewsView/263MCPH1Y0</td>\n",
       "    </tr>\n",
       "    <tr>\n",
       "      <th>8</th>\n",
       "      <td>2022.03.30.</td>\n",
       "      <td>삼성전자, 웨스턴디지털과 차세대 스토리지 분야 힘 합친다</td>\n",
       "      <td>https://www.news1.kr/articles/?4631599</td>\n",
       "    </tr>\n",
       "    <tr>\n",
       "      <th>9</th>\n",
       "      <td>2022.03.30.</td>\n",
       "      <td>삼성전자 \"보는 TV에서 즐기는 TV로 진화\"</td>\n",
       "      <td>https://hankookilbo.com/News/Read/A2022033014570001593?did=NA</td>\n",
       "    </tr>\n",
       "  </tbody>\n",
       "</table>\n",
       "</div>"
      ],
      "text/plain": [
       "            날짜                                       뉴스제목  \\\n",
       "0  2022.03.30.  SSD 1위 삼성전자, 2위 WD와 MOU 체결…\"기술 평준화 위한 협력\"   \n",
       "1  2022.03.30.          알아서 척척 '캄테크' 강조한 한종희…삼성 TV 신제품 공개   \n",
       "2  2022.03.30.           현대重·삼성전자 헬스케어 '맞손'..입는 의료기기 협력한다   \n",
       "3  2022.03.30.              신보, 삼성전자 냉장가전 협력사에 181억원 보증지원   \n",
       "4  2022.03.29.            삼성전자, 태국에 초대형 마이크로 LED ‘더 월’ 설치   \n",
       "5  2022.03.30.        [단독]검찰, 삼성웰스토리·삼성전자 본사 3일째 연달아 압수수색   \n",
       "6  2022.03.30.                    현대重-삼성전자, 모바일 헬스케어사업 맞손   \n",
       "7  2022.03.30.             \"가전은 역시 LG?\"…삼성, 숨겨놓은 신무기 공개했다   \n",
       "8  2022.03.30.            삼성전자, 웨스턴디지털과 차세대 스토리지 분야 힘 합친다   \n",
       "9  2022.03.30.                  삼성전자 \"보는 TV에서 즐기는 TV로 진화\"   \n",
       "\n",
       "                                                                     url  \n",
       "0  http://www.newsis.com/view/?id=NISX20220330_0001813003&cID=13001&p...  \n",
       "1                 https://www.hankyung.com/economy/article/202203301924g  \n",
       "2                 http://news.mt.co.kr/mtview.php?no=2022033010060122966  \n",
       "3                           http://yna.kr/AKR20220330048700002?did=1195m  \n",
       "4  https://biz.chosun.com/it-science/ict/2022/03/29/ZL3KVAX2OZBMBPWBG...  \n",
       "5  https://www.seoul.co.kr/news/newsView.php?id=20220330500036&wlog_t...  \n",
       "6                               https://www.nocutnews.co.kr/news/5731610  \n",
       "7                            https://www.sedaily.com/NewsView/263MCPH1Y0  \n",
       "8                                 https://www.news1.kr/articles/?4631599  \n",
       "9          https://hankookilbo.com/News/Read/A2022033014570001593?did=NA  "
      ]
     },
     "execution_count": 32,
     "metadata": {},
     "output_type": "execute_result"
    }
   ],
   "source": [
    "df = crawl_news('삼성전자')\n",
    "df"
   ]
  },
  {
   "cell_type": "code",
   "execution_count": 33,
   "id": "cd66ff03",
   "metadata": {
    "ExecuteTime": {
     "end_time": "2022-06-24T10:19:53.470013Z",
     "start_time": "2022-06-24T10:19:53.449012Z"
    },
    "scrolled": true
   },
   "outputs": [
    {
     "data": {
      "text/html": [
       "<div>\n",
       "<style scoped>\n",
       "    .dataframe tbody tr th:only-of-type {\n",
       "        vertical-align: middle;\n",
       "    }\n",
       "\n",
       "    .dataframe tbody tr th {\n",
       "        vertical-align: top;\n",
       "    }\n",
       "\n",
       "    .dataframe thead th {\n",
       "        text-align: right;\n",
       "    }\n",
       "</style>\n",
       "<table border=\"1\" class=\"dataframe\">\n",
       "  <thead>\n",
       "    <tr style=\"text-align: right;\">\n",
       "      <th></th>\n",
       "      <th>날짜</th>\n",
       "      <th>뉴스제목</th>\n",
       "      <th>url</th>\n",
       "    </tr>\n",
       "  </thead>\n",
       "  <tbody>\n",
       "    <tr>\n",
       "      <th>0</th>\n",
       "      <td>2022.03.30.</td>\n",
       "      <td>SSD 1위 삼성전자, 2위 WD와 MOU 체결…\"기술 평준화 위한 협력\"</td>\n",
       "      <td>http://www.newsis.com/view/?id=NISX20220330_0001813003&amp;cID=13001&amp;p...</td>\n",
       "    </tr>\n",
       "    <tr>\n",
       "      <th>1</th>\n",
       "      <td>2022.03.30.</td>\n",
       "      <td>알아서 척척 '캄테크' 강조한 한종희…삼성 TV 신제품 공개</td>\n",
       "      <td>https://www.hankyung.com/economy/article/202203301924g</td>\n",
       "    </tr>\n",
       "    <tr>\n",
       "      <th>2</th>\n",
       "      <td>2022.03.30.</td>\n",
       "      <td>현대重·삼성전자 헬스케어 '맞손'..입는 의료기기 협력한다</td>\n",
       "      <td>http://news.mt.co.kr/mtview.php?no=2022033010060122966</td>\n",
       "    </tr>\n",
       "    <tr>\n",
       "      <th>3</th>\n",
       "      <td>2022.03.30.</td>\n",
       "      <td>신보, 삼성전자 냉장가전 협력사에 181억원 보증지원</td>\n",
       "      <td>http://yna.kr/AKR20220330048700002?did=1195m</td>\n",
       "    </tr>\n",
       "    <tr>\n",
       "      <th>4</th>\n",
       "      <td>2022.03.29.</td>\n",
       "      <td>삼성전자, 태국에 초대형 마이크로 LED ‘더 월’ 설치</td>\n",
       "      <td>https://biz.chosun.com/it-science/ict/2022/03/29/ZL3KVAX2OZBMBPWBG...</td>\n",
       "    </tr>\n",
       "    <tr>\n",
       "      <th>5</th>\n",
       "      <td>2022.03.30.</td>\n",
       "      <td>[단독]검찰, 삼성웰스토리·삼성전자 본사 3일째 연달아 압수수색</td>\n",
       "      <td>https://www.seoul.co.kr/news/newsView.php?id=20220330500036&amp;wlog_t...</td>\n",
       "    </tr>\n",
       "    <tr>\n",
       "      <th>6</th>\n",
       "      <td>2022.03.30.</td>\n",
       "      <td>현대重-삼성전자, 모바일 헬스케어사업 맞손</td>\n",
       "      <td>https://www.nocutnews.co.kr/news/5731610</td>\n",
       "    </tr>\n",
       "    <tr>\n",
       "      <th>7</th>\n",
       "      <td>2022.03.30.</td>\n",
       "      <td>\"가전은 역시 LG?\"…삼성, 숨겨놓은 신무기 공개했다</td>\n",
       "      <td>https://www.sedaily.com/NewsView/263MCPH1Y0</td>\n",
       "    </tr>\n",
       "    <tr>\n",
       "      <th>8</th>\n",
       "      <td>2022.03.30.</td>\n",
       "      <td>삼성전자, 웨스턴디지털과 차세대 스토리지 분야 힘 합친다</td>\n",
       "      <td>https://www.news1.kr/articles/?4631599</td>\n",
       "    </tr>\n",
       "    <tr>\n",
       "      <th>9</th>\n",
       "      <td>2022.03.30.</td>\n",
       "      <td>삼성전자 \"보는 TV에서 즐기는 TV로 진화\"</td>\n",
       "      <td>https://hankookilbo.com/News/Read/A2022033014570001593?did=NA</td>\n",
       "    </tr>\n",
       "  </tbody>\n",
       "</table>\n",
       "</div>"
      ],
      "text/plain": [
       "            날짜                                       뉴스제목  \\\n",
       "0  2022.03.30.  SSD 1위 삼성전자, 2위 WD와 MOU 체결…\"기술 평준화 위한 협력\"   \n",
       "1  2022.03.30.          알아서 척척 '캄테크' 강조한 한종희…삼성 TV 신제품 공개   \n",
       "2  2022.03.30.           현대重·삼성전자 헬스케어 '맞손'..입는 의료기기 협력한다   \n",
       "3  2022.03.30.              신보, 삼성전자 냉장가전 협력사에 181억원 보증지원   \n",
       "4  2022.03.29.            삼성전자, 태국에 초대형 마이크로 LED ‘더 월’ 설치   \n",
       "5  2022.03.30.        [단독]검찰, 삼성웰스토리·삼성전자 본사 3일째 연달아 압수수색   \n",
       "6  2022.03.30.                    현대重-삼성전자, 모바일 헬스케어사업 맞손   \n",
       "7  2022.03.30.             \"가전은 역시 LG?\"…삼성, 숨겨놓은 신무기 공개했다   \n",
       "8  2022.03.30.            삼성전자, 웨스턴디지털과 차세대 스토리지 분야 힘 합친다   \n",
       "9  2022.03.30.                  삼성전자 \"보는 TV에서 즐기는 TV로 진화\"   \n",
       "\n",
       "                                                                     url  \n",
       "0  http://www.newsis.com/view/?id=NISX20220330_0001813003&cID=13001&p...  \n",
       "1                 https://www.hankyung.com/economy/article/202203301924g  \n",
       "2                 http://news.mt.co.kr/mtview.php?no=2022033010060122966  \n",
       "3                           http://yna.kr/AKR20220330048700002?did=1195m  \n",
       "4  https://biz.chosun.com/it-science/ict/2022/03/29/ZL3KVAX2OZBMBPWBG...  \n",
       "5  https://www.seoul.co.kr/news/newsView.php?id=20220330500036&wlog_t...  \n",
       "6                               https://www.nocutnews.co.kr/news/5731610  \n",
       "7                            https://www.sedaily.com/NewsView/263MCPH1Y0  \n",
       "8                                 https://www.news1.kr/articles/?4631599  \n",
       "9          https://hankookilbo.com/News/Read/A2022033014570001593?did=NA  "
      ]
     },
     "execution_count": 33,
     "metadata": {},
     "output_type": "execute_result"
    }
   ],
   "source": [
    "df"
   ]
  },
  {
   "cell_type": "code",
   "execution_count": 34,
   "id": "5ab7ba66",
   "metadata": {
    "ExecuteTime": {
     "end_time": "2022-06-24T10:19:57.308010Z",
     "start_time": "2022-06-24T10:19:57.288983Z"
    },
    "scrolled": true
   },
   "outputs": [],
   "source": [
    "kospi_list = pd.read_csv('./data/recent_kospi_list.csv')\n",
    "corp_list = kospi_list['Name']\n",
    "content_lst = ['최신뉴스','최근뉴스']"
   ]
  },
  {
   "cell_type": "code",
   "execution_count": 35,
   "id": "5ea71214",
   "metadata": {
    "ExecuteTime": {
     "end_time": "2022-06-24T10:20:05.959962Z",
     "start_time": "2022-06-24T10:19:58.376304Z"
    }
   },
   "outputs": [
    {
     "name": "stdout",
     "output_type": "stream",
     "text": [
      "user>최신뉴스 알려줘\n",
      "종목명 포함x\n"
     ]
    }
   ],
   "source": [
    "user_input1 = input('user>')\n",
    "user_words = user_input1.split()\n",
    "for word in user_words:\n",
    "    # 종목명을 포함한다면\n",
    "    if word in corp_list.tolist():\n",
    "        corp = [w for w in user_words if w in corp_list.tolist()]\n",
    "        \n",
    "        # 최신뉴스,최근뉴스를 포함한다면\n",
    "        \n",
    "        if word in content_lst:\n",
    "            df = crawl_news(corp)\n",
    "            news_title = df['뉴스제목'].tolist()\n",
    "            chatbot_output1 = '\\n'.join(news_title)\n",
    "        else:\n",
    "            print('최신뉴스 포함x')\n",
    "            break\n",
    "    else:\n",
    "        print('종목명 포함x')\n",
    "        break"
   ]
  },
  {
   "cell_type": "code",
   "execution_count": null,
   "id": "51ef2654",
   "metadata": {},
   "outputs": [],
   "source": [
    "corp_list"
   ]
  },
  {
   "cell_type": "code",
   "execution_count": 71,
   "id": "d7683497",
   "metadata": {
    "ExecuteTime": {
     "end_time": "2022-06-17T09:46:03.689896Z",
     "start_time": "2022-06-17T09:46:03.683885Z"
    }
   },
   "outputs": [
    {
     "data": {
      "text/plain": [
       "['삼성전자', '최신뉴스', '알려줘']"
      ]
     },
     "execution_count": 71,
     "metadata": {},
     "output_type": "execute_result"
    }
   ],
   "source": [
    "user_words"
   ]
  },
  {
   "cell_type": "code",
   "execution_count": 72,
   "id": "0025c9df",
   "metadata": {
    "ExecuteTime": {
     "end_time": "2022-06-17T09:46:11.070009Z",
     "start_time": "2022-06-17T09:46:11.059052Z"
    }
   },
   "outputs": [
    {
     "data": {
      "text/plain": [
       "['삼성전자']"
      ]
     },
     "execution_count": 72,
     "metadata": {},
     "output_type": "execute_result"
    }
   ],
   "source": [
    "corp"
   ]
  },
  {
   "cell_type": "code",
   "execution_count": 73,
   "id": "0752034e",
   "metadata": {
    "ExecuteTime": {
     "end_time": "2022-06-17T09:46:18.917883Z",
     "start_time": "2022-06-17T09:46:18.899932Z"
    }
   },
   "outputs": [
    {
     "data": {
      "text/plain": [
       "['최신뉴스', '최근뉴스']"
      ]
     },
     "execution_count": 73,
     "metadata": {},
     "output_type": "execute_result"
    }
   ],
   "source": [
    "content_lst"
   ]
  },
  {
   "cell_type": "code",
   "execution_count": 36,
   "id": "fd9e5ca7",
   "metadata": {
    "ExecuteTime": {
     "end_time": "2022-06-24T10:20:22.723698Z",
     "start_time": "2022-06-24T10:20:16.791996Z"
    },
    "scrolled": true
   },
   "outputs": [
    {
     "name": "stdout",
     "output_type": "stream",
     "text": [
      "user>삼성전자 최신뉴스 알려줘\n",
      "삼성전자\n",
      "SSD 1위 삼성전자, 2위 WD와 MOU 체결…\"기술 평준화 위한 협력\"\n",
      "한종희 삼성전자 부회장, 사용자 경험 혁신 강조…\"알아서 맞추는 캄테크 필요...\n",
      "현대重·삼성전자 헬스케어 '맞손'..입는 의료기기 협력한다\n",
      "신보, 삼성전자 냉장가전 협력사에 181억원 보증지원\n",
      "삼성전자, 태국에 초대형 마이크로 LED ‘더 월’ 설치\n",
      "현대重-삼성전자, 모바일 헬스케어사업 맞손\n",
      "[단독]검찰, 삼성웰스토리·삼성전자 본사 3일째 연달아 압수수색\n",
      "삼성전자 해킹한 랩서스, 공격기법은 뭘까?…임직원 계정 악용\n",
      "삼성전자, 웨스턴디지털과 차세대 스토리지 분야 힘 합친다\n",
      "삼성전자도 뛰어든 저장장치 '존 스토리지'\n",
      "종목명 포함x\n"
     ]
    }
   ],
   "source": [
    "user_input1 = input('user>')\n",
    "user_words = user_input1.split()\n",
    "for word in user_words:\n",
    "    # 종목명을 포함한다면\n",
    "    if word in corp_list.tolist():\n",
    "        corp = [w for w in user_words if w in corp_list.tolist()]\n",
    "        user_words.remove(corp[0])\n",
    "        print(corp[0])\n",
    "        #corp = '삼성전자'\n",
    "        # 최신뉴스,최근뉴스를 포함한다면\n",
    "        for word1 in user_words:\n",
    "            if word1 in content_lst:\n",
    "                df = crawl_news(corp)\n",
    "                news_title = df['뉴스제목'].tolist()\n",
    "                chatbot_output1 = '\\n'.join(news_title)\n",
    "                print(chatbot_output1)\n",
    "                \n",
    "    else:\n",
    "        print('종목명 포함x')\n",
    "        break\n",
    "\n",
    "# 삼성전자 최신뉴스 알려줘"
   ]
  },
  {
   "cell_type": "code",
   "execution_count": 92,
   "id": "ed0adda9",
   "metadata": {
    "ExecuteTime": {
     "end_time": "2022-06-17T10:08:05.170218Z",
     "start_time": "2022-06-17T10:08:05.156256Z"
    }
   },
   "outputs": [
    {
     "data": {
      "text/plain": [
       "'삼성전자'"
      ]
     },
     "execution_count": 92,
     "metadata": {},
     "output_type": "execute_result"
    }
   ],
   "source": [
    "corp[0]"
   ]
  },
  {
   "cell_type": "code",
   "execution_count": 81,
   "id": "2141de93",
   "metadata": {
    "ExecuteTime": {
     "end_time": "2022-06-17T10:01:17.901053Z",
     "start_time": "2022-06-17T10:01:17.886094Z"
    }
   },
   "outputs": [],
   "source": [
    "user_words.remove('삼성전자')"
   ]
  },
  {
   "cell_type": "code",
   "execution_count": 88,
   "id": "fd5cc7b5",
   "metadata": {
    "ExecuteTime": {
     "end_time": "2022-06-17T10:04:13.458180Z",
     "start_time": "2022-06-17T10:04:13.444193Z"
    }
   },
   "outputs": [
    {
     "data": {
      "text/plain": [
       "True"
      ]
     },
     "execution_count": 88,
     "metadata": {},
     "output_type": "execute_result"
    }
   ],
   "source": [
    "any([True if text in con_li else False for text in user_text.split()])"
   ]
  },
  {
   "cell_type": "code",
   "execution_count": 86,
   "id": "1848dafd",
   "metadata": {
    "ExecuteTime": {
     "end_time": "2022-06-17T10:03:38.878713Z",
     "start_time": "2022-06-17T10:03:38.868740Z"
    }
   },
   "outputs": [
    {
     "data": {
      "text/plain": [
       "True"
      ]
     },
     "execution_count": 86,
     "metadata": {},
     "output_type": "execute_result"
    }
   ],
   "source": [
    "any([True if text in cor_li else False for text in user_text.split()])"
   ]
  },
  {
   "cell_type": "code",
   "execution_count": null,
   "id": "b8b4d59f",
   "metadata": {},
   "outputs": [],
   "source": [
    "if any([True if text in cor_li else False for text in user_text.split()]) and any([True if text in con_li else False for text in user_text.split()]):\n",
    "    print(True)\n",
    "else:\n",
    "    print(False)"
   ]
  },
  {
   "cell_type": "code",
   "execution_count": null,
   "id": "232e05ba",
   "metadata": {},
   "outputs": [],
   "source": []
  },
  {
   "cell_type": "code",
   "execution_count": null,
   "id": "34c61d48",
   "metadata": {},
   "outputs": [],
   "source": []
  },
  {
   "cell_type": "markdown",
   "id": "b29e4cb3",
   "metadata": {},
   "source": [
    "## 삼성전자 뭐랑 관련있어?(키워드 보여주기)"
   ]
  },
  {
   "cell_type": "code",
   "execution_count": 37,
   "id": "9fec773a",
   "metadata": {
    "ExecuteTime": {
     "end_time": "2022-06-24T10:20:27.192517Z",
     "start_time": "2022-06-24T10:20:27.143517Z"
    }
   },
   "outputs": [
    {
     "data": {
      "text/html": [
       "<div>\n",
       "<style scoped>\n",
       "    .dataframe tbody tr th:only-of-type {\n",
       "        vertical-align: middle;\n",
       "    }\n",
       "\n",
       "    .dataframe tbody tr th {\n",
       "        vertical-align: top;\n",
       "    }\n",
       "\n",
       "    .dataframe thead th {\n",
       "        text-align: right;\n",
       "    }\n",
       "</style>\n",
       "<table border=\"1\" class=\"dataframe\">\n",
       "  <thead>\n",
       "    <tr style=\"text-align: right;\">\n",
       "      <th></th>\n",
       "      <th>뉴스제목</th>\n",
       "      <th>뉴스</th>\n",
       "    </tr>\n",
       "  </thead>\n",
       "  <tbody>\n",
       "    <tr>\n",
       "      <th>2016-01-01</th>\n",
       "      <td>NaN</td>\n",
       "      <td>[]</td>\n",
       "    </tr>\n",
       "    <tr>\n",
       "      <th>2016-01-02</th>\n",
       "      <td>NaN</td>\n",
       "      <td>[]</td>\n",
       "    </tr>\n",
       "    <tr>\n",
       "      <th>2016-01-03</th>\n",
       "      <td>NaN</td>\n",
       "      <td>[]</td>\n",
       "    </tr>\n",
       "    <tr>\n",
       "      <th>2016-01-04</th>\n",
       "      <td>AJ네트웍스, SKB 등에업고 '고리사채급 위약금 폭탄'</td>\n",
       "      <td>[AJ네트웍스, 등에업, 고리사채급, 위약금, 폭탄]</td>\n",
       "    </tr>\n",
       "    <tr>\n",
       "      <th>2016-01-05</th>\n",
       "      <td>AJ네트웍스, 스마트폰, 태블릿PC 렌탈사업 시작</td>\n",
       "      <td>[AJ네트웍스, 스마트폰, 태블릿PC, 렌탈사업, 시작]</td>\n",
       "    </tr>\n",
       "  </tbody>\n",
       "</table>\n",
       "</div>"
      ],
      "text/plain": [
       "                                       뉴스제목                               뉴스\n",
       "2016-01-01                              NaN                               []\n",
       "2016-01-02                              NaN                               []\n",
       "2016-01-03                              NaN                               []\n",
       "2016-01-04  AJ네트웍스, SKB 등에업고 '고리사채급 위약금 폭탄'    [AJ네트웍스, 등에업, 고리사채급, 위약금, 폭탄]\n",
       "2016-01-05      AJ네트웍스, 스마트폰, 태블릿PC 렌탈사업 시작  [AJ네트웍스, 스마트폰, 태블릿PC, 렌탈사업, 시작]"
      ]
     },
     "execution_count": 37,
     "metadata": {},
     "output_type": "execute_result"
    }
   ],
   "source": [
    "df_n = pd.read_csv('./data/개별기업뉴스_자연어처리/AJ네트웍스.csv',index_col=0)\n",
    "df_n.index = pd.to_datetime(df_n.index)\n",
    "df_n['뉴스'] = df_n['뉴스'].apply(lambda x : eval(x))\n",
    "df_n.head()"
   ]
  },
  {
   "cell_type": "code",
   "execution_count": 38,
   "id": "afecfac7",
   "metadata": {
    "ExecuteTime": {
     "end_time": "2022-06-24T10:20:35.412641Z",
     "start_time": "2022-06-24T10:20:35.399608Z"
    }
   },
   "outputs": [
    {
     "data": {
      "text/html": [
       "<div>\n",
       "<style scoped>\n",
       "    .dataframe tbody tr th:only-of-type {\n",
       "        vertical-align: middle;\n",
       "    }\n",
       "\n",
       "    .dataframe tbody tr th {\n",
       "        vertical-align: top;\n",
       "    }\n",
       "\n",
       "    .dataframe thead th {\n",
       "        text-align: right;\n",
       "    }\n",
       "</style>\n",
       "<table border=\"1\" class=\"dataframe\">\n",
       "  <thead>\n",
       "    <tr style=\"text-align: right;\">\n",
       "      <th></th>\n",
       "      <th>불용어</th>\n",
       "    </tr>\n",
       "  </thead>\n",
       "  <tbody>\n",
       "    <tr>\n",
       "      <th>NaN</th>\n",
       "      <td>주식그래프</td>\n",
       "    </tr>\n",
       "    <tr>\n",
       "      <th>NaN</th>\n",
       "      <td>주가차트</td>\n",
       "    </tr>\n",
       "    <tr>\n",
       "      <th>NaN</th>\n",
       "      <td>작년</td>\n",
       "    </tr>\n",
       "    <tr>\n",
       "      <th>NaN</th>\n",
       "      <td>연간</td>\n",
       "    </tr>\n",
       "    <tr>\n",
       "      <th>NaN</th>\n",
       "      <td>연결</td>\n",
       "    </tr>\n",
       "  </tbody>\n",
       "</table>\n",
       "</div>"
      ],
      "text/plain": [
       "       불용어\n",
       "NaN  주식그래프\n",
       "NaN   주가차트\n",
       "NaN     작년\n",
       "NaN     연간\n",
       "NaN     연결"
      ]
     },
     "execution_count": 38,
     "metadata": {},
     "output_type": "execute_result"
    }
   ],
   "source": [
    "df_stw = pd.read_csv('./data/뉴스불용어2.csv',index_col=1)\n",
    "df_stw.head()"
   ]
  },
  {
   "cell_type": "code",
   "execution_count": 39,
   "id": "acfdd3ee",
   "metadata": {
    "ExecuteTime": {
     "end_time": "2022-06-24T10:20:41.964897Z",
     "start_time": "2022-06-24T10:20:41.944899Z"
    }
   },
   "outputs": [
    {
     "data": {
      "text/plain": [
       "{'등에업': 1,\n",
       " '고리사채급': 1,\n",
       " '위약금': 1,\n",
       " '폭탄': 1,\n",
       " '렌탈사업': 1,\n",
       " '사업': 1,\n",
       " '파렛트및': 1,\n",
       " '고소장비': 1,\n",
       " '신규': 1,\n",
       " '서비스': 1,\n",
       " '브랜드': 1,\n",
       " '런칭': 1,\n",
       " '대상AJ네트웍스': 1,\n",
       " '우량채': 1,\n",
       " '발행': 1,\n",
       " '성공': 1,\n",
       " '스마트폰': 2,\n",
       " '태블릿PC': 2,\n",
       " '시작': 2,\n",
       " '렌탈': 2,\n",
       " 'AJ네트웍스': 4}"
      ]
     },
     "execution_count": 39,
     "metadata": {},
     "output_type": "execute_result"
    }
   ],
   "source": [
    "df_stw = pd.read_csv('./data/뉴스불용어2.csv',index_col=1)\n",
    "stw_lst = df_stw['불용어'].tolist()\n",
    "kw_dict = dict()\n",
    "\n",
    "# 2016-01-01 ~ 2016-02-01 가정\n",
    "bgn_date = '2016-01-01'\n",
    "end_date = '2016-02-01'\n",
    "\n",
    "token_lst = df_n['뉴스'].loc[bgn_date:end_date]\n",
    "token_lst = [w for w in token_lst if w not in stw_lst]\n",
    "# toekn_lst.remove(corp_name)\n",
    "\n",
    "for tokens in token_lst:\n",
    "\n",
    "    for word in tokens:\n",
    "        if not word in kw_dict.keys():\n",
    "            kw_dict[word] = 1\n",
    "        else:\n",
    "            kw_dict[word] += 1\n",
    "\n",
    "kw_dict = dict(sorted(kw_dict.items(), key = lambda x: x[1]))\n",
    "\n",
    "kw_dict"
   ]
  },
  {
   "cell_type": "code",
   "execution_count": 49,
   "id": "3eae9eca",
   "metadata": {
    "ExecuteTime": {
     "end_time": "2022-06-24T10:24:36.035753Z",
     "start_time": "2022-06-24T10:24:35.848724Z"
    }
   },
   "outputs": [
    {
     "data": {
      "image/png": "[encoded data removed]",
      "text/plain": [
       "<Figure size 720x576 with 1 Axes>"
      ]
     },
     "metadata": {
      "needs_background": "light"
     },
     "output_type": "display_data"
    }
   ],
   "source": [
    "plt.figure(figsize=(10,8))\n",
    "\n",
    "keyword_list = list(kw_dict.keys())\n",
    "keyword_count = list(kw_dict.values())\n",
    "sns.barplot(x=keyword_count, y=keyword_list)\n",
    "plt.gca().invert_yaxis()\n",
    "plt.rc('ytick', labelsize=15)  # y축 눈금 폰트 크기\n",
    "plt.show()"
   ]
  },
  {
   "cell_type": "code",
   "execution_count": 52,
   "id": "372ae05c",
   "metadata": {
    "ExecuteTime": {
     "end_time": "2022-06-24T10:25:52.330732Z",
     "start_time": "2022-06-24T10:25:52.199734Z"
    }
   },
   "outputs": [
    {
     "data": {
      "image/png": "[encoded data removed]",
      "text/plain": [
       "<Figure size 720x576 with 1 Axes>"
      ]
     },
     "metadata": {
      "needs_background": "light"
     },
     "output_type": "display_data"
    }
   ],
   "source": [
    "plt.figure(figsize=(10,8))\n",
    "keyword_list = list(kw_dict.keys())[10:]\n",
    "keyword_count = list(kw_dict.values())[10:]\n",
    "plt.barh(keyword_list,keyword_count)\n",
    "plt.show()"
   ]
  },
  {
   "cell_type": "code",
   "execution_count": 20,
   "id": "26794255",
   "metadata": {
    "ExecuteTime": {
     "end_time": "2022-06-24T10:16:39.417629Z",
     "start_time": "2022-06-24T10:16:39.401630Z"
    }
   },
   "outputs": [
    {
     "data": {
      "text/plain": [
       "['주식그래프',\n",
       " '주가차트',\n",
       " '작년',\n",
       " '연간',\n",
       " '연결',\n",
       " '주식주가',\n",
       " '투자주식',\n",
       " '일마감주가정보',\n",
       " '실시간',\n",
       " '금일증시',\n",
       " '기준일마감증시',\n",
       " '증권주식',\n",
       " '보합세천일',\n",
       " '마감증시',\n",
       " '실시간증시',\n",
       " '오늘주식',\n",
       " '주식정보',\n",
       " '증시동향월',\n",
       " '년새',\n",
       " '관련',\n",
       " '동반',\n",
       " '최대',\n",
       " '비교해서',\n",
       " '현재주가',\n",
       " '집중',\n",
       " '전일',\n",
       " '장중',\n",
       " '오늘주식장',\n",
       " '오늘증권시세',\n",
       " '주식증권',\n",
       " '주요',\n",
       " '일마감증시',\n",
       " '일주가마감정보',\n",
       " '주식인사이드',\n",
       " '주요종목',\n",
       " '전년동기',\n",
       " '목표주가',\n",
       " '매수',\n",
       " '주식',\n",
       " '체결',\n",
       " '돌파',\n",
       " '비중',\n",
       " '주식종목',\n",
       " '증시정보',\n",
       " '지난해',\n",
       " '주식종목시',\n",
       " '주식현황',\n",
       " '유가증권시장',\n",
       " '변동해',\n",
       " '주당',\n",
       " '최고',\n",
       " '하반기',\n",
       " '상반기',\n",
       " '거래비중',\n",
       " '분기',\n",
       " '지속',\n",
       " '시장',\n",
       " '적정',\n",
       " '부문',\n",
       " '기업',\n",
       " '상회',\n",
       " '주식종목검색',\n",
       " '주식실시간',\n",
       " '오늘주식시장',\n",
       " '주가증권투자정보',\n",
       " '주체별',\n",
       " '종목관련',\n",
       " '동향정보',\n",
       " '주가오늘시',\n",
       " '전일대비',\n",
       " '억전년비',\n",
       " '증시동향',\n",
       " '증권정보',\n",
       " '동시',\n",
       " '증권',\n",
       " '증권그래프',\n",
       " '증가',\n",
       " '주가및',\n",
       " '스타주식인사이드',\n",
       " '적정수준',\n",
       " '변동',\n",
       " '주차',\n",
       " '천일',\n",
       " '오늘',\n",
       " '가격',\n",
       " '주가증권그래프',\n",
       " '주간',\n",
       " '리포트',\n",
       " '오늘거래',\n",
       " '상승폭',\n",
       " '정보',\n",
       " '연속',\n",
       " '발동',\n",
       " '억원',\n",
       " '그래프',\n",
       " '증권시세',\n",
       " '주가정보',\n",
       " '확대',\n",
       " '증권투자정보',\n",
       " '거래',\n",
       " '오전',\n",
       " '이평',\n",
       " '순매수',\n",
       " '주가',\n",
       " '원월',\n",
       " '기준',\n",
       " '주식시황',\n",
       " '오후',\n",
       " '이상',\n",
       " '거래량',\n",
       " '대비',\n",
       " '마감',\n",
       " '현재',\n",
       " '시황',\n",
       " '상위',\n",
       " '종목',\n",
       " '업종',\n",
       " '한경로보뉴스',\n",
       " '결정',\n",
       " '내용',\n",
       " '인간',\n",
       " '평생',\n",
       " '일단',\n",
       " '상당',\n",
       " '사흘',\n",
       " '그룹',\n",
       " '그룹주',\n",
       " '특징주',\n",
       " '년형',\n",
       " '외국',\n",
       " '기관',\n",
       " '월요일',\n",
       " '화요일',\n",
       " '수요일',\n",
       " '목요일',\n",
       " '금요일',\n",
       " '토요일',\n",
       " '일요일',\n",
       " '출시삼성전자',\n",
       " '이유',\n",
       " '경험',\n",
       " '삼성LG',\n",
       " '삼성웰스토리삼성전자']"
      ]
     },
     "execution_count": 20,
     "metadata": {},
     "output_type": "execute_result"
    }
   ],
   "source": [
    "df_stw = pd.read_csv('./data/뉴스불용어2.csv',index_col=1)\n",
    "stw_lst = df_stw['불용어'].tolist()\n",
    "stw_lst"
   ]
  },
  {
   "cell_type": "markdown",
   "id": "8807402e",
   "metadata": {},
   "source": [
    "### 키워드 함수: kw_news()"
   ]
  },
  {
   "cell_type": "code",
   "execution_count": 191,
   "id": "e7440899",
   "metadata": {
    "ExecuteTime": {
     "end_time": "2022-06-19T07:06:34.709627Z",
     "start_time": "2022-06-19T07:06:34.700682Z"
    }
   },
   "outputs": [],
   "source": [
    "def kw_news(corp,bgn_date='2022-03-01',end_date='2022-03-30' ):\n",
    "    df_n = pd.read_csv(f'./data/개별기업뉴스_자연어처리/{corp}.csv',index_col=0)\n",
    "    df_n.index = pd.to_datetime(df_n.index)\n",
    "    df_n['뉴스'] = df_n['뉴스'].apply(lambda x : eval(x))\n",
    "    df_stw = pd.read_csv('./data/뉴스불용어2.csv',index_col=1)\n",
    "    stw_lst = df_stw['불용어'].tolist()\n",
    "    kw_dict = dict()\n",
    "\n",
    "    token_lst = df_n['뉴스'].loc[bgn_date:end_date]\n",
    "            \n",
    "    for tokens in token_lst:\n",
    "        for word in tokens:\n",
    "                \n",
    "            if not word in kw_dict.keys():\n",
    "                kw_dict[word] = 1\n",
    "            else:\n",
    "                kw_dict[word] += 1\n",
    "\n",
    "    kw_dict = dict(sorted(kw_dict.items(), key = lambda x: x[1],reverse=True))\n",
    "    keys = pd.Series(kw_dict.keys()).tolist()\n",
    "    for key in keys:\n",
    "        if (key in stw_lst) | (key == corp):\n",
    "            del kw_dict[key]\n",
    "            \n",
    "    return kw_dict"
   ]
  },
  {
   "cell_type": "code",
   "execution_count": 278,
   "id": "9cbf4290",
   "metadata": {
    "ExecuteTime": {
     "end_time": "2022-06-19T15:37:50.906280Z",
     "start_time": "2022-06-19T15:37:50.811848Z"
    }
   },
   "outputs": [],
   "source": [
    "ss_dict = kw_news('삼성전자')\n",
    "# ss_dict"
   ]
  },
  {
   "cell_type": "markdown",
   "id": "72cf3447",
   "metadata": {},
   "source": [
    "### 크롤링 함수사용: 전처리함수+ kw_crawl_news()"
   ]
  },
  {
   "cell_type": "code",
   "execution_count": 4,
   "id": "22071a52",
   "metadata": {
    "ExecuteTime": {
     "end_time": "2022-06-21T08:29:15.298155Z",
     "start_time": "2022-06-21T08:29:15.146116Z"
    }
   },
   "outputs": [
    {
     "data": {
      "text/html": [
       "<div>\n",
       "<style scoped>\n",
       "    .dataframe tbody tr th:only-of-type {\n",
       "        vertical-align: middle;\n",
       "    }\n",
       "\n",
       "    .dataframe tbody tr th {\n",
       "        vertical-align: top;\n",
       "    }\n",
       "\n",
       "    .dataframe thead th {\n",
       "        text-align: right;\n",
       "    }\n",
       "</style>\n",
       "<table border=\"1\" class=\"dataframe\">\n",
       "  <thead>\n",
       "    <tr style=\"text-align: right;\">\n",
       "      <th></th>\n",
       "      <th>날짜</th>\n",
       "      <th>뉴스제목</th>\n",
       "      <th>url</th>\n",
       "    </tr>\n",
       "  </thead>\n",
       "  <tbody>\n",
       "    <tr>\n",
       "      <th>0</th>\n",
       "      <td>2022.03.30.</td>\n",
       "      <td>SSD 1위 삼성전자, 2위 WD와 MOU 체결…\"기술 평준화 위한 협력\"</td>\n",
       "      <td>http://www.newsis.com/view/?id=NISX20220330_0001813003&amp;cID=13001&amp;p...</td>\n",
       "    </tr>\n",
       "    <tr>\n",
       "      <th>1</th>\n",
       "      <td>2022.03.30.</td>\n",
       "      <td>알아서 척척 '캄테크' 강조한 한종희…삼성 TV 신제품 공개</td>\n",
       "      <td>https://www.hankyung.com/economy/article/202203301924g</td>\n",
       "    </tr>\n",
       "    <tr>\n",
       "      <th>2</th>\n",
       "      <td>2022.03.30.</td>\n",
       "      <td>현대重·삼성전자 헬스케어 '맞손'..입는 의료기기 협력한다</td>\n",
       "      <td>http://news.mt.co.kr/mtview.php?no=2022033010060122966</td>\n",
       "    </tr>\n",
       "    <tr>\n",
       "      <th>3</th>\n",
       "      <td>2022.03.30.</td>\n",
       "      <td>신보, 삼성전자 냉장가전 협력사에 181억원 보증지원</td>\n",
       "      <td>http://yna.kr/AKR20220330048700002?did=1195m</td>\n",
       "    </tr>\n",
       "    <tr>\n",
       "      <th>4</th>\n",
       "      <td>2022.03.29.</td>\n",
       "      <td>삼성전자, 태국에 초대형 마이크로 LED ‘더 월’ 설치</td>\n",
       "      <td>https://biz.chosun.com/it-science/ict/2022/03/29/ZL3KVAX2OZBMBPWBG...</td>\n",
       "    </tr>\n",
       "  </tbody>\n",
       "</table>\n",
       "</div>"
      ],
      "text/plain": [
       "            날짜                                       뉴스제목  \\\n",
       "0  2022.03.30.  SSD 1위 삼성전자, 2위 WD와 MOU 체결…\"기술 평준화 위한 협력\"   \n",
       "1  2022.03.30.          알아서 척척 '캄테크' 강조한 한종희…삼성 TV 신제품 공개   \n",
       "2  2022.03.30.           현대重·삼성전자 헬스케어 '맞손'..입는 의료기기 협력한다   \n",
       "3  2022.03.30.              신보, 삼성전자 냉장가전 협력사에 181억원 보증지원   \n",
       "4  2022.03.29.            삼성전자, 태국에 초대형 마이크로 LED ‘더 월’ 설치   \n",
       "\n",
       "                                                                     url  \n",
       "0  http://www.newsis.com/view/?id=NISX20220330_0001813003&cID=13001&p...  \n",
       "1                 https://www.hankyung.com/economy/article/202203301924g  \n",
       "2                 http://news.mt.co.kr/mtview.php?no=2022033010060122966  \n",
       "3                           http://yna.kr/AKR20220330048700002?did=1195m  \n",
       "4  https://biz.chosun.com/it-science/ict/2022/03/29/ZL3KVAX2OZBMBPWBG...  "
      ]
     },
     "execution_count": 4,
     "metadata": {},
     "output_type": "execute_result"
    }
   ],
   "source": [
    "df_n = crawl_news('삼성전자')\n",
    "df_n.head()"
   ]
  },
  {
   "cell_type": "code",
   "execution_count": 21,
   "id": "d54c6b64",
   "metadata": {
    "ExecuteTime": {
     "end_time": "2022-06-24T10:16:44.359745Z",
     "start_time": "2022-06-24T10:16:44.345714Z"
    }
   },
   "outputs": [],
   "source": [
    "from konlpy.tag import Hannanum\n",
    "# 한글,영어만 남기기\n",
    "def clean_text(docs):\n",
    "    docs = re.sub('[^가-힣A-Za-z ]', '', str(docs))\n",
    "    docs = re.sub('\\s+', ' ', docs)\n",
    "    docs = '' if docs== ' ' else docs\n",
    "    return docs\n",
    "\n",
    "# 명사 추출\n",
    "def han_noun(docs):\n",
    "    han = Hannanum()\n",
    "    docs = han.nouns(docs)\n",
    "    return docs\n",
    "\n",
    "# 불용어 제거+ 한글자 이상만 남기기\n",
    "stw_list = pd.read_csv('./data/stopwords-ko.txt')\n",
    "def remove_stwords(docs):\n",
    "    docs = [w for w in docs if not w in stw_list]\n",
    "    docs = '' if docs== ' ' else docs\n",
    "    docs = [w for w in docs if len(w)>1]\n",
    "    return docs"
   ]
  },
  {
   "cell_type": "code",
   "execution_count": 6,
   "id": "8fab2193",
   "metadata": {
    "ExecuteTime": {
     "end_time": "2022-06-21T08:29:20.018734Z",
     "start_time": "2022-06-21T08:29:16.313770Z"
    }
   },
   "outputs": [
    {
     "data": {
      "text/html": [
       "<div>\n",
       "<style scoped>\n",
       "    .dataframe tbody tr th:only-of-type {\n",
       "        vertical-align: middle;\n",
       "    }\n",
       "\n",
       "    .dataframe tbody tr th {\n",
       "        vertical-align: top;\n",
       "    }\n",
       "\n",
       "    .dataframe thead th {\n",
       "        text-align: right;\n",
       "    }\n",
       "</style>\n",
       "<table border=\"1\" class=\"dataframe\">\n",
       "  <thead>\n",
       "    <tr style=\"text-align: right;\">\n",
       "      <th></th>\n",
       "      <th>날짜</th>\n",
       "      <th>뉴스제목</th>\n",
       "      <th>url</th>\n",
       "      <th>뉴스</th>\n",
       "    </tr>\n",
       "  </thead>\n",
       "  <tbody>\n",
       "    <tr>\n",
       "      <th>0</th>\n",
       "      <td>2022.03.30.</td>\n",
       "      <td>SSD 1위 삼성전자, 2위 WD와 MOU 체결…\"기술 평준화 위한 협력\"</td>\n",
       "      <td>http://www.newsis.com/view/?id=NISX20220330_0001813003&amp;cID=13001&amp;p...</td>\n",
       "      <td>[삼성전자, 체결기술, 평준화, 협력]</td>\n",
       "    </tr>\n",
       "    <tr>\n",
       "      <th>1</th>\n",
       "      <td>2022.03.30.</td>\n",
       "      <td>알아서 척척 '캄테크' 강조한 한종희…삼성 TV 신제품 공개</td>\n",
       "      <td>https://www.hankyung.com/economy/article/202203301924g</td>\n",
       "      <td>[캄테크, 강조, 한종희삼성, 신제품, 공개]</td>\n",
       "    </tr>\n",
       "    <tr>\n",
       "      <th>2</th>\n",
       "      <td>2022.03.30.</td>\n",
       "      <td>현대重·삼성전자 헬스케어 '맞손'..입는 의료기기 협력한다</td>\n",
       "      <td>http://news.mt.co.kr/mtview.php?no=2022033010060122966</td>\n",
       "      <td>[현대삼성전자, 헬스케어, 맞손입, 의료기, 협력]</td>\n",
       "    </tr>\n",
       "    <tr>\n",
       "      <th>3</th>\n",
       "      <td>2022.03.30.</td>\n",
       "      <td>신보, 삼성전자 냉장가전 협력사에 181억원 보증지원</td>\n",
       "      <td>http://yna.kr/AKR20220330048700002?did=1195m</td>\n",
       "      <td>[삼성전자, 냉장가전, 협력사, 억원, 보증지원]</td>\n",
       "    </tr>\n",
       "    <tr>\n",
       "      <th>4</th>\n",
       "      <td>2022.03.29.</td>\n",
       "      <td>삼성전자, 태국에 초대형 마이크로 LED ‘더 월’ 설치</td>\n",
       "      <td>https://biz.chosun.com/it-science/ict/2022/03/29/ZL3KVAX2OZBMBPWBG...</td>\n",
       "      <td>[삼성전자, 태국, 초대형, 마이크, 설치]</td>\n",
       "    </tr>\n",
       "    <tr>\n",
       "      <th>5</th>\n",
       "      <td>2022.03.30.</td>\n",
       "      <td>[단독]검찰, 삼성웰스토리·삼성전자 본사 3일째 연달아 압수수색</td>\n",
       "      <td>https://www.seoul.co.kr/news/newsView.php?id=20220330500036&amp;wlog_t...</td>\n",
       "      <td>[단독검찰, 삼성웰스토리삼성전자, 본사, 압수수색]</td>\n",
       "    </tr>\n",
       "    <tr>\n",
       "      <th>6</th>\n",
       "      <td>2022.03.30.</td>\n",
       "      <td>현대重-삼성전자, 모바일 헬스케어사업 맞손</td>\n",
       "      <td>https://www.nocutnews.co.kr/news/5731610</td>\n",
       "      <td>[현대삼성전자, 모바, 헬스케어사업, 맞손]</td>\n",
       "    </tr>\n",
       "    <tr>\n",
       "      <th>7</th>\n",
       "      <td>2022.03.30.</td>\n",
       "      <td>\"가전은 역시 LG?\"…삼성, 숨겨놓은 신무기 공개했다</td>\n",
       "      <td>https://www.sedaily.com/NewsView/263MCPH1Y0</td>\n",
       "      <td>[가전, 삼성, 신무기, 공개]</td>\n",
       "    </tr>\n",
       "    <tr>\n",
       "      <th>8</th>\n",
       "      <td>2022.03.30.</td>\n",
       "      <td>삼성전자, 웨스턴디지털과 차세대 스토리지 분야 힘 합친다</td>\n",
       "      <td>https://www.news1.kr/articles/?4631599</td>\n",
       "      <td>[삼성전자, 웨스턴디지털, 차세대, 스토리, 분야]</td>\n",
       "    </tr>\n",
       "    <tr>\n",
       "      <th>9</th>\n",
       "      <td>2022.03.30.</td>\n",
       "      <td>삼성전자 \"보는 TV에서 즐기는 TV로 진화\"</td>\n",
       "      <td>https://hankookilbo.com/News/Read/A2022033014570001593?did=NA</td>\n",
       "      <td>[삼성전자, 진화]</td>\n",
       "    </tr>\n",
       "  </tbody>\n",
       "</table>\n",
       "</div>"
      ],
      "text/plain": [
       "            날짜                                       뉴스제목  \\\n",
       "0  2022.03.30.  SSD 1위 삼성전자, 2위 WD와 MOU 체결…\"기술 평준화 위한 협력\"   \n",
       "1  2022.03.30.          알아서 척척 '캄테크' 강조한 한종희…삼성 TV 신제품 공개   \n",
       "2  2022.03.30.           현대重·삼성전자 헬스케어 '맞손'..입는 의료기기 협력한다   \n",
       "3  2022.03.30.              신보, 삼성전자 냉장가전 협력사에 181억원 보증지원   \n",
       "4  2022.03.29.            삼성전자, 태국에 초대형 마이크로 LED ‘더 월’ 설치   \n",
       "5  2022.03.30.        [단독]검찰, 삼성웰스토리·삼성전자 본사 3일째 연달아 압수수색   \n",
       "6  2022.03.30.                    현대重-삼성전자, 모바일 헬스케어사업 맞손   \n",
       "7  2022.03.30.             \"가전은 역시 LG?\"…삼성, 숨겨놓은 신무기 공개했다   \n",
       "8  2022.03.30.            삼성전자, 웨스턴디지털과 차세대 스토리지 분야 힘 합친다   \n",
       "9  2022.03.30.                  삼성전자 \"보는 TV에서 즐기는 TV로 진화\"   \n",
       "\n",
       "                                                                     url  \\\n",
       "0  http://www.newsis.com/view/?id=NISX20220330_0001813003&cID=13001&p...   \n",
       "1                 https://www.hankyung.com/economy/article/202203301924g   \n",
       "2                 http://news.mt.co.kr/mtview.php?no=2022033010060122966   \n",
       "3                           http://yna.kr/AKR20220330048700002?did=1195m   \n",
       "4  https://biz.chosun.com/it-science/ict/2022/03/29/ZL3KVAX2OZBMBPWBG...   \n",
       "5  https://www.seoul.co.kr/news/newsView.php?id=20220330500036&wlog_t...   \n",
       "6                               https://www.nocutnews.co.kr/news/5731610   \n",
       "7                            https://www.sedaily.com/NewsView/263MCPH1Y0   \n",
       "8                                 https://www.news1.kr/articles/?4631599   \n",
       "9          https://hankookilbo.com/News/Read/A2022033014570001593?did=NA   \n",
       "\n",
       "                             뉴스  \n",
       "0         [삼성전자, 체결기술, 평준화, 협력]  \n",
       "1     [캄테크, 강조, 한종희삼성, 신제품, 공개]  \n",
       "2  [현대삼성전자, 헬스케어, 맞손입, 의료기, 협력]  \n",
       "3   [삼성전자, 냉장가전, 협력사, 억원, 보증지원]  \n",
       "4      [삼성전자, 태국, 초대형, 마이크, 설치]  \n",
       "5  [단독검찰, 삼성웰스토리삼성전자, 본사, 압수수색]  \n",
       "6      [현대삼성전자, 모바, 헬스케어사업, 맞손]  \n",
       "7             [가전, 삼성, 신무기, 공개]  \n",
       "8  [삼성전자, 웨스턴디지털, 차세대, 스토리, 분야]  \n",
       "9                    [삼성전자, 진화]  "
      ]
     },
     "execution_count": 6,
     "metadata": {},
     "output_type": "execute_result"
    }
   ],
   "source": [
    "df_n['뉴스'] = df_n['뉴스제목'].apply(clean_text)\n",
    "df_n['뉴스'] = df_n['뉴스'].apply(han_noun)\n",
    "df_n['뉴스'] =  df_n['뉴스'].apply(remove_stwords)\n",
    "df_n"
   ]
  },
  {
   "cell_type": "code",
   "execution_count": 22,
   "id": "3cacdbf6",
   "metadata": {
    "ExecuteTime": {
     "end_time": "2022-06-24T10:16:47.868602Z",
     "start_time": "2022-06-24T10:16:47.849602Z"
    }
   },
   "outputs": [],
   "source": [
    "def kw_crawl_news(corp,bgn_date='2022-03-01',end_date='2022-03-30'):\n",
    "    df_n = crawl_news(corp,10)\n",
    "    df_n = df_n.set_index('날짜')\n",
    "    df_n.index = pd.to_datetime(df_n.index)\n",
    "    df_n['뉴스'] = df_n['뉴스제목'].apply(clean_text)\n",
    "    df_n['뉴스'] = df_n['뉴스'].apply(han_noun)\n",
    "    df_n['뉴스'] =  df_n['뉴스'].apply(remove_stwords)\n",
    "    df_stw = pd.read_csv('./data/뉴스불용어2.csv',index_col=1)\n",
    "    stw_lst = df_stw['불용어'].tolist()\n",
    "    kw_dict = dict()\n",
    "\n",
    "    token_lst = df_n['뉴스'].loc[bgn_date:end_date]\n",
    "            \n",
    "    for tokens in token_lst:\n",
    "        for word in tokens:\n",
    "                \n",
    "            if not word in kw_dict.keys():\n",
    "                kw_dict[word] = 1\n",
    "            else:\n",
    "                kw_dict[word] += 1\n",
    "\n",
    "    kw_dict = dict(sorted(kw_dict.items(), key = lambda x: x[1],reverse=True))\n",
    "    keys = pd.Series(kw_dict.keys()).tolist()\n",
    "    for key in keys:\n",
    "        if (key in stw_lst) | (key == corp):\n",
    "            del kw_dict[key]\n",
    "            \n",
    "    return kw_dict"
   ]
  },
  {
   "cell_type": "code",
   "execution_count": 8,
   "id": "50f6061b",
   "metadata": {
    "ExecuteTime": {
     "end_time": "2022-06-21T08:29:55.342651Z",
     "start_time": "2022-06-21T08:29:26.153148Z"
    }
   },
   "outputs": [
    {
     "name": "stdout",
     "output_type": "stream",
     "text": [
      "Wall time: 29.2 s\n"
     ]
    },
    {
     "name": "stderr",
     "output_type": "stream",
     "text": [
      "C:\\Users\\bitcamp\\AppData\\Local\\Temp/ipykernel_16756/1648602204.py:12: FutureWarning: Value based partial slicing on non-monotonic DatetimeIndexes with non-existing keys is deprecated and will raise a KeyError in a future Version.\n",
      "  token_lst = df_n['뉴스'].loc[bgn_date:end_date]\n"
     ]
    },
    {
     "data": {
      "text/plain": [
       "{'압수수색': 20,\n",
       " '검찰': 18,\n",
       " '삼성': 16,\n",
       " '스토리': 16,\n",
       " '협력': 13,\n",
       " '의혹': 12,\n",
       " '삼성전자웰스토리': 12,\n",
       " '차세대': 11,\n",
       " '부당지원': 11,\n",
       " '분야': 10,\n",
       " '웨스턴디지털': 9,\n",
       " '기술': 9,\n",
       " '웰스토리': 6,\n",
       " '지원': 6,\n",
       " '헬스케어': 5,\n",
       " '모바': 5,\n",
       " '맞손': 5,\n",
       " '홍라희': 5,\n",
       " '이틀째': 5,\n",
       " '본사': 4,\n",
       " '삼성전자웨스턴디지털': 4,\n",
       " '정부': 4,\n",
       " '협력기업': 4,\n",
       " '보증': 4,\n",
       " '캄테크': 3,\n",
       " '공개': 3,\n",
       " '조원': 3,\n",
       " '언박스': 3,\n",
       " '삼성전자삼성웰스토리': 3,\n",
       " '노조': 3,\n",
       " '매출': 3,\n",
       " '인텔': 3,\n",
       " '반도체': 3,\n",
       " '동등': 3,\n",
       " '프로젝트': 3,\n",
       " '강조': 2,\n",
       " '현대삼성전자': 2,\n",
       " '태국': 2,\n",
       " '초대형': 2,\n",
       " '마이크': 2,\n",
       " '설치': 2,\n",
       " '전략': 2,\n",
       " '부회장': 2,\n",
       " '사용자': 2,\n",
       " '승계': 2,\n",
       " '방콕': 2,\n",
       " '디스커버': 2,\n",
       " '지원해': 2,\n",
       " '제품': 2,\n",
       " '수준': 2,\n",
       " '삼성SK하이닉스': 2,\n",
       " '역대': 2,\n",
       " '실적': 2,\n",
       " '급식': 2,\n",
       " '출범': 2,\n",
       " '메디플러스솔루션': 2,\n",
       " '사업': 2,\n",
       " '표준화': 2,\n",
       " '공동': 2,\n",
       " '한종희': 2,\n",
       " '현대그룹': 2,\n",
       " '수원': 2,\n",
       " '고객': 2,\n",
       " '처분상속세': 2,\n",
       " '전망': 2,\n",
       " '체결기술': 1,\n",
       " '평준화': 1,\n",
       " '한종희삼성': 1,\n",
       " '신제품': 1,\n",
       " '맞손입': 1,\n",
       " '의료기': 1,\n",
       " '냉장가전': 1,\n",
       " '협력사': 1,\n",
       " '보증지원': 1,\n",
       " '단독검찰': 1,\n",
       " '헬스케어사업': 1,\n",
       " '가전': 1,\n",
       " '신무기': 1,\n",
       " '진화': 1,\n",
       " '저장장치': 1,\n",
       " '빅딜': 1,\n",
       " '임박협상': 1,\n",
       " '진행중': 1,\n",
       " '완제품': 1,\n",
       " '상속세': 1,\n",
       " '여사': 1,\n",
       " '직원': 1,\n",
       " '혐의': 1,\n",
       " '이슈체크': 1,\n",
       " '반도체주': 1,\n",
       " '호재만발인데삼성전자': 1,\n",
       " '부진': 1,\n",
       " '춘래불사춘': 1,\n",
       " '삼성한꺼번': 1,\n",
       " '중고': 1,\n",
       " '먹구름': 1,\n",
       " '개인': 1,\n",
       " '최적화': 1,\n",
       " '서비스한종희': 1,\n",
       " '압수수색이재용': 1,\n",
       " '사법': 1,\n",
       " '리스크까지조': 1,\n",
       " '발목': 1,\n",
       " '해킹한': 1,\n",
       " '랩서스': 1,\n",
       " '공격기법': 1,\n",
       " '뭘까임직원': 1,\n",
       " '계정': 1,\n",
       " '악용': 1,\n",
       " '상공': 1,\n",
       " '금탑산업훈장': 1,\n",
       " '최윤호': 1,\n",
       " '삼성SDI': 1,\n",
       " '사장': 1,\n",
       " '수상': 1,\n",
       " '마이크로LED': 1,\n",
       " '온라인': 1,\n",
       " '행사': 1,\n",
       " '공장': 1,\n",
       " '보조금삼성': 1,\n",
       " '감탄중국': 1,\n",
       " '이것': 1,\n",
       " '정체': 1,\n",
       " '수습': 1,\n",
       " '삼성전자중저가폰': 1,\n",
       " '선택권': 1,\n",
       " '업데이트': 1,\n",
       " '삼성LG전자': 1,\n",
       " '로봇': 1,\n",
       " '사업통신사': 1,\n",
       " '노사협의회삼성': 1,\n",
       " '노무관리': 1,\n",
       " '빼닮': 1,\n",
       " '윤석열': 1,\n",
       " '노동공약': 1,\n",
       " '단독인수위': 1,\n",
       " '검토': 1,\n",
       " '단독': 1,\n",
       " '압수수색그룹사': 1,\n",
       " '업황': 1,\n",
       " '개선월': 1,\n",
       " '시간': 1,\n",
       " '일감몰아주': 1,\n",
       " '압수수색종합보': 1,\n",
       " '압수수색경영권': 1,\n",
       " '전에부당지원': 1,\n",
       " '긴장': 1,\n",
       " '압색': 1,\n",
       " '패러다임': 1,\n",
       " '제시': 1,\n",
       " '협력차세대': 1,\n",
       " '메모리': 1,\n",
       " '주도': 1,\n",
       " '억개': 1,\n",
       " '픽셀': 1,\n",
       " '블록딜': 1,\n",
       " '처분할인율': 1,\n",
       " '사업장': 1,\n",
       " '순회': 1,\n",
       " '투쟁': 1,\n",
       " '돌입파업': 1,\n",
       " '긴장감': 1,\n",
       " '고조': 1,\n",
       " '부동산': 1,\n",
       " '개발': 1,\n",
       " '기술개발': 1,\n",
       " '지원해달라': 1,\n",
       " '현대': 1,\n",
       " '메디플러스솔루션삼성전자': 1,\n",
       " '기술협력존': 1,\n",
       " '기술기반': 1,\n",
       " '만명': 1,\n",
       " '동학개미': 1,\n",
       " '서비스': 1,\n",
       " '제공해': 1,\n",
       " '코아시아': 1,\n",
       " '인수위': 1,\n",
       " '키파운드리': 1,\n",
       " '승인': 1,\n",
       " '삼성전자SK하이닉스': 1,\n",
       " '사상최대': 1,\n",
       " '눈앞': 1,\n",
       " '혁신': 1,\n",
       " '출발삶': 1,\n",
       " '향상': 1,\n",
       " '신용보증기금': 1,\n",
       " '압수수색종합': 1,\n",
       " '삼성TSMC': 1,\n",
       " '기업들': 1,\n",
       " '스마트': 1,\n",
       " '모니터': 1,\n",
       " '핑크': 1,\n",
       " '신규색상': 1,\n",
       " '존림': 1,\n",
       " '삼성바이오로직스': 1,\n",
       " '대표': 1,\n",
       " '주주': 1,\n",
       " '선언': 1,\n",
       " '조억': 1,\n",
       " '추진': 1,\n",
       " '이미지센서': 1,\n",
       " '샤오미': 1,\n",
       " '잃나소니': 1,\n",
       " '채택설': 1,\n",
       " '규모': 1,\n",
       " '납부': 1,\n",
       " '목적': 1,\n",
       " '칼빼든': 1,\n",
       " '검찰삼성전자웰스토리': 1,\n",
       " '행사사용자': 1,\n",
       " '중심': 1,\n",
       " '비전': 1,\n",
       " '우크라': 1,\n",
       " '침공': 1,\n",
       " 'TV판매': 1,\n",
       " '만대': 1,\n",
       " '감소': 1,\n",
       " '동시다발': 1,\n",
       " '압수수색종': 1,\n",
       " '관장': 1,\n",
       " '만여': 1,\n",
       " '처분': 1,\n",
       " '사정': 1,\n",
       " '신호탄': 1,\n",
       " '정권': 1,\n",
       " '교체': 1,\n",
       " '압수수색삼성': 1,\n",
       " '부당지원산자부': 1,\n",
       " '블랙리스트': 1,\n",
       " '조준종합보': 1}"
      ]
     },
     "execution_count": 8,
     "metadata": {},
     "output_type": "execute_result"
    }
   ],
   "source": [
    "%%time\n",
    "ss_dict1 = kw_crawl_news('삼성전자')\n",
    "ss_dict1"
   ]
  },
  {
   "cell_type": "code",
   "execution_count": 62,
   "id": "80d32863",
   "metadata": {
    "ExecuteTime": {
     "end_time": "2022-06-20T06:54:08.762580Z",
     "start_time": "2022-06-20T06:54:08.746623Z"
    }
   },
   "outputs": [
    {
     "data": {
      "text/plain": [
       "['압수수색', '검찰', '삼성', '스토리', '협력', '의혹', '부당지원', '삼성전자웰스토리', '차세대', '분야']"
      ]
     },
     "execution_count": 62,
     "metadata": {},
     "output_type": "execute_result"
    }
   ],
   "source": [
    "keyword_list = list(ss_dict1.keys())[:10]\n",
    "keyword_list"
   ]
  },
  {
   "cell_type": "markdown",
   "id": "b3162880",
   "metadata": {
    "ExecuteTime": {
     "end_time": "2022-06-19T05:33:49.271939Z",
     "start_time": "2022-06-19T05:33:49.262960Z"
    }
   },
   "source": [
    "### 키워드 그래프 함수: show_kw()"
   ]
  },
  {
   "cell_type": "code",
   "execution_count": 31,
   "id": "ae69ed66",
   "metadata": {
    "ExecuteTime": {
     "end_time": "2022-06-21T10:53:55.174733Z",
     "start_time": "2022-06-21T10:53:55.164729Z"
    }
   },
   "outputs": [],
   "source": [
    "# def show_kw(kw_dict,num=10):\n",
    "#     plt.figure(figsize=(15,10))\n",
    "#     keyword_list = list(kw_dict.keys())[:num]\n",
    "#     keyword_count = list(kw_dict.values())[:num]\n",
    "#     plt.barh(keyword_list,keyword_count)\n",
    "#     plt.gca().invert_yaxis()\n",
    "#     plt.rc('ytick', labelsize=10)  # y축 눈금 폰트 크기\n",
    "#     plt.show()"
   ]
  },
  {
   "cell_type": "code",
   "execution_count": 30,
   "id": "3291e7d7",
   "metadata": {
    "ExecuteTime": {
     "end_time": "2022-06-21T10:50:42.010052Z",
     "start_time": "2022-06-21T10:50:41.997086Z"
    }
   },
   "outputs": [],
   "source": [
    "import matplotlib.colors as mcolors\n",
    "from matplotlib import cm"
   ]
  },
  {
   "cell_type": "code",
   "execution_count": 23,
   "id": "1ef150e1",
   "metadata": {
    "ExecuteTime": {
     "end_time": "2022-06-24T10:16:53.410296Z",
     "start_time": "2022-06-24T10:16:53.401297Z"
    }
   },
   "outputs": [],
   "source": [
    "def show_kw(kw_dict,num=10):\n",
    "    plt.figure(figsize=(10,8))\n",
    "    \n",
    "    keyword_list = list(kw_dict.keys())[:num]\n",
    "    keyword_list.reverse()\n",
    "    keyword_count = list(kw_dict.values())[:num]\n",
    "    keyword_count.reverse()\n",
    "    sns.barplot(x=keyword_count, y=keyword_list)\n",
    "    plt.gca().invert_yaxis()\n",
    "    plt.rc('ytick', labelsize=15)  # y축 눈금 폰트 크기\n",
    "    plt.show()"
   ]
  },
  {
   "cell_type": "code",
   "execution_count": 57,
   "id": "912c64d9",
   "metadata": {
    "ExecuteTime": {
     "end_time": "2022-06-21T11:10:24.380183Z",
     "start_time": "2022-06-21T11:10:24.234919Z"
    }
   },
   "outputs": [
    {
     "data": {
      "image/png": "[encoded data removed]",
      "text/plain": [
       "<Figure size 720x576 with 1 Axes>"
      ]
     },
     "metadata": {
      "needs_background": "light"
     },
     "output_type": "display_data"
    }
   ],
   "source": [
    "show_kw(ss_dict1,15)"
   ]
  },
  {
   "cell_type": "markdown",
   "id": "bfa8e940",
   "metadata": {},
   "source": [
    "## 삼성전자 호재있어??: "
   ]
  },
  {
   "cell_type": "markdown",
   "id": "534ef7d8",
   "metadata": {},
   "source": [
    "### call_model(), text_data(), clsfy_news()"
   ]
  },
  {
   "cell_type": "code",
   "execution_count": 51,
   "id": "cb27d9d8",
   "metadata": {
    "ExecuteTime": {
     "end_time": "2022-06-20T06:34:07.954092Z",
     "start_time": "2022-06-20T06:34:07.949107Z"
    }
   },
   "outputs": [],
   "source": [
    "import tensorflow_addons as tfa\n",
    "import tensorflow as tf\n",
    "from tqdm import tqdm\n",
    "from transformers import BertTokenizer, TFBertForSequenceClassification\n",
    "from sklearn.model_selection import train_test_split\n",
    "from sklearn.metrics import accuracy_score, f1_score, precision_score, recall_score, \\\n",
    "                            roc_auc_score, confusion_matrix, classification_report, \\\n",
    "                            matthews_corrcoef, cohen_kappa_score, log_loss"
   ]
  },
  {
   "cell_type": "code",
   "execution_count": 8,
   "id": "041d2657",
   "metadata": {
    "ExecuteTime": {
     "end_time": "2022-06-20T00:18:39.094729Z",
     "start_time": "2022-06-20T00:18:39.076779Z"
    }
   },
   "outputs": [],
   "source": [
    "# 최고 성능의 모델 불러오기\n",
    "def call_model():\n",
    "    BEST_MODEL_NAME = './data/model/best_model.h5'\n",
    "    sentiment_model_best = tf.keras.models.load_model(BEST_MODEL_NAME,\n",
    "                                                      custom_objects={'TFBertForSequenceClassification': TFBertForSequenceClassification})\n",
    "    MODEL_NAME = \"klue/bert-base\"\n",
    "    model = TFBertForSequenceClassification.from_pretrained(MODEL_NAME, num_labels=3, from_pt=True)\n",
    "    tokenizer = BertTokenizer.from_pretrained(MODEL_NAME)\n",
    "    return sentiment_model_best, tokenizer"
   ]
  },
  {
   "cell_type": "code",
   "execution_count": 9,
   "id": "1cbb045a",
   "metadata": {
    "ExecuteTime": {
     "end_time": "2022-06-20T00:18:40.358232Z",
     "start_time": "2022-06-20T00:18:40.340280Z"
    }
   },
   "outputs": [],
   "source": [
    "def text_data(X_data,tokenizer,MAX_SEQ_LEN=64):\n",
    "    # BERT 입력으로 들어가는 token, mask, segment, target 저장용 리스트\n",
    "    tokens, masks, segments, targets = [], [], [], []\n",
    "    \n",
    "    for X in tqdm(X_data):\n",
    "        # token: 입력 문장 토큰화\n",
    "        token = tokenizer.encode(X, truncation = True, padding = 'max_length', max_length = MAX_SEQ_LEN)\n",
    "        \n",
    "        # Mask: 토큰화한 문장 내 패딩이 아닌 경우 1, 패딩인 경우 0으로 초기화\n",
    "        num_zeros = token.count(0)\n",
    "        mask = [1] * (MAX_SEQ_LEN - num_zeros) + [0] * num_zeros\n",
    "        \n",
    "        # segment: 문장 전후관계 구분: 오직 한 문장이므로 모두 0으로 초기화\n",
    "        segment = [0]*MAX_SEQ_LEN\n",
    "\n",
    "        tokens.append(token)\n",
    "        masks.append(mask)\n",
    "        segments.append(segment)\n",
    "\n",
    "\n",
    "    # numpy array로 저장\n",
    "    tokens = np.array(tokens)\n",
    "    masks = np.array(masks)\n",
    "    segments = np.array(segments)\n",
    "\n",
    "\n",
    "    return [tokens, masks, segments]"
   ]
  },
  {
   "cell_type": "code",
   "execution_count": 12,
   "id": "3dce8a6e",
   "metadata": {
    "ExecuteTime": {
     "end_time": "2022-06-20T00:20:32.746019Z",
     "start_time": "2022-06-20T00:20:32.726075Z"
    }
   },
   "outputs": [],
   "source": [
    "def clsfy_news(corp,senti_model,tokenizer,senti=1,num=10): #1 2 0 긍정 부정 중립\n",
    "    df_n = pd.read_csv(f'./data/개별기업뉴스_전처리/{corp}.csv',index_col=0)\n",
    "    df_n = df_n.set_index('날짜')\n",
    "    df_n.index = pd.DatetimeIndex(df_n.index)\n",
    "    news_data = df_n['뉴스제목']\n",
    "    news_x = text_data(news_data,tokenizer)\n",
    "    predicted_value = senti_model.predict(news_x)\n",
    "    predicted_label = np.argmax(predicted_value, axis = 1)\n",
    "    idx = np.where(predicted_label== senti)[::-1]\n",
    "    df_senti = df_n.iloc[idx][:'2022-03-30'].sort_index(ascending=False)\n",
    "    return df_senti[:num]  "
   ]
  },
  {
   "cell_type": "code",
   "execution_count": 13,
   "id": "440a8039",
   "metadata": {
    "ExecuteTime": {
     "end_time": "2022-06-20T00:21:17.319638Z",
     "start_time": "2022-06-20T00:20:33.827930Z"
    },
    "scrolled": true
   },
   "outputs": [
    {
     "name": "stderr",
     "output_type": "stream",
     "text": [
      "Some weights of the PyTorch model were not used when initializing the TF 2.0 model TFBertForSequenceClassification: ['bert.embeddings.position_ids']\n",
      "- This IS expected if you are initializing TFBertForSequenceClassification from a PyTorch model trained on another task or with another architecture (e.g. initializing a TFBertForSequenceClassification model from a BertForPreTraining model).\n",
      "- This IS NOT expected if you are initializing TFBertForSequenceClassification from a PyTorch model that you expect to be exactly identical (e.g. initializing a TFBertForSequenceClassification model from a BertForSequenceClassification model).\n",
      "Some weights or buffers of the TF 2.0 model TFBertForSequenceClassification were not initialized from the PyTorch model and are newly initialized: ['classifier.weight', 'classifier.bias']\n",
      "You should probably TRAIN this model on a down-stream task to be able to use it for predictions and inference.\n",
      "100%|████████████████████████████████████████████████████████████████████████████| 9676/9676 [00:01<00:00, 5440.99it/s]\n"
     ]
    },
    {
     "data": {
      "text/html": [
       "<div>\n",
       "<style scoped>\n",
       "    .dataframe tbody tr th:only-of-type {\n",
       "        vertical-align: middle;\n",
       "    }\n",
       "\n",
       "    .dataframe tbody tr th {\n",
       "        vertical-align: top;\n",
       "    }\n",
       "\n",
       "    .dataframe thead th {\n",
       "        text-align: right;\n",
       "    }\n",
       "</style>\n",
       "<table border=\"1\" class=\"dataframe\">\n",
       "  <thead>\n",
       "    <tr style=\"text-align: right;\">\n",
       "      <th></th>\n",
       "      <th>뉴스제목</th>\n",
       "      <th>뉴스요약</th>\n",
       "    </tr>\n",
       "    <tr>\n",
       "      <th>날짜</th>\n",
       "      <th></th>\n",
       "      <th></th>\n",
       "    </tr>\n",
       "  </thead>\n",
       "  <tbody>\n",
       "    <tr>\n",
       "      <th>2022-05-31</th>\n",
       "      <td>삼성전자, 당분간 박스권 움직임에서 횡보</td>\n",
       "      <td>삼성전자가 대규모 투자계획에도 불구하고 각종 악재가 연이어 불거지며 주가는 6만원대에서 벗어나지 못하고 있다. 여기에 ...</td>\n",
       "    </tr>\n",
       "    <tr>\n",
       "      <th>2022-05-31</th>\n",
       "      <td>중국언론 \"삼성전자 5대 매출처, 제조와 공급 측면의 장점 모두 과시\"</td>\n",
       "      <td>삼성전자의 5대 매출처 분포가 부품 제조능력과 제품 공급망 관리 능력 측면의 경쟁력을 모두 보여주고 있다는 중국 IT전...</td>\n",
       "    </tr>\n",
       "    <tr>\n",
       "      <th>2022-05-31</th>\n",
       "      <td>코스피 1%대 상승…外人·기관 '쌍끌이' 삼성전자 6만7700원·네이버 4% 올라</td>\n",
       "      <td>삼성전자는 전날보다 1.80% 오른 6만7700원에 마감했고, SK하이닉스도 0.94% 상승한 10만7000원에 장을 ...</td>\n",
       "    </tr>\n",
       "    <tr>\n",
       "      <th>2022-05-31</th>\n",
       "      <td>삼성전자·LG, 자사주 매입으로 주주가치↑...“주가 방어 전력”</td>\n",
       "      <td>삼성전자와 LG 등 주요 상장사들이 자사주 매입으로 주주가치 제고와 함께 주가 하락 방어에 나서고 있다. 약세장에서도 ...</td>\n",
       "    </tr>\n",
       "    <tr>\n",
       "      <th>2022-05-31</th>\n",
       "      <td>에릭슨엘지가 이음5G 시장서 노키아·삼성전자와 차별화하는 법</td>\n",
       "      <td>화웨이·노키아·삼성전자 등과 통신장비 시장에서 경쟁을 펼치고 있는 에릭슨엘지는 30일 서울 중구 더플라자에서 'Imag...</td>\n",
       "    </tr>\n",
       "    <tr>\n",
       "      <th>2022-05-31</th>\n",
       "      <td>삼성전자, 새 AP로 자존심 회복 나선다…'엑시노스' 신제품 개발</td>\n",
       "      <td>사진=삼성전자 제공  삼성전자가 모바일용 애플리케이션프로세서(AP) '엑시노스2200'의 후속 제품을 개발하고 있는 것...</td>\n",
       "    </tr>\n",
       "    <tr>\n",
       "      <th>2022-05-31</th>\n",
       "      <td>삼성전자 LG엔솔 SK하이닉스 훨훨... 스푸트니크V주 연내 승인 가능성에 주목</td>\n",
       "      <td>대장주 삼성전자는 전 거래일 대비 1200원(1.80%) 오른 6만7700원에 거래를 마쳤다. LG에너지솔루션(2.09...</td>\n",
       "    </tr>\n",
       "    <tr>\n",
       "      <th>2022-05-31</th>\n",
       "      <td>애플 아이폰14에 LPDDR5 D램 최초 적용, 삼성전자 SK하이닉스 수혜</td>\n",
       "      <td>삼성전자와 SK하이닉스 등 애플의 메모리반도체 협력사에서 기존 D램보다 단가가 높은 LPDDR5 D램 공급을 담당하며 ...</td>\n",
       "    </tr>\n",
       "    <tr>\n",
       "      <th>2022-05-31</th>\n",
       "      <td>[증시 돋보기] 외국인 2달 만에 3일 연속 순매수, 삼성전자 대거 사들여</td>\n",
       "      <td>외국인투자자는 이날 삼성전자와 LG에너지솔루션 등 시가총액 상위 종목을 크게 순매수했다. 한국거래소 정보데이터시스템에 ...</td>\n",
       "    </tr>\n",
       "    <tr>\n",
       "      <th>2022-05-30</th>\n",
       "      <td>[리포트 브리핑]삼성전자, '6만원 중반대이면 분할 매수 가능' 목표가 77,000...</td>\n",
       "      <td>로보뉴스 = 상상인증권에서 30일 삼성전자(005930)에 대해 '6만원 중반대이면 분할 매수 가능'이라며 투자의견 '...</td>\n",
       "    </tr>\n",
       "  </tbody>\n",
       "</table>\n",
       "</div>"
      ],
      "text/plain": [
       "                                                         뉴스제목  \\\n",
       "날짜                                                              \n",
       "2022-05-31                            삼성전자, 당분간 박스권 움직임에서 횡보    \n",
       "2022-05-31            중국언론 \"삼성전자 5대 매출처, 제조와 공급 측면의 장점 모두 과시\"   \n",
       "2022-05-31      코스피 1%대 상승…外人·기관 '쌍끌이' 삼성전자 6만7700원·네이버 4% 올라   \n",
       "2022-05-31               삼성전자·LG, 자사주 매입으로 주주가치↑...“주가 방어 전력”   \n",
       "2022-05-31                  에릭슨엘지가 이음5G 시장서 노키아·삼성전자와 차별화하는 법   \n",
       "2022-05-31               삼성전자, 새 AP로 자존심 회복 나선다…'엑시노스' 신제품 개발   \n",
       "2022-05-31       삼성전자 LG엔솔 SK하이닉스 훨훨... 스푸트니크V주 연내 승인 가능성에 주목   \n",
       "2022-05-31          애플 아이폰14에 LPDDR5 D램 최초 적용, 삼성전자 SK하이닉스 수혜   \n",
       "2022-05-31          [증시 돋보기] 외국인 2달 만에 3일 연속 순매수, 삼성전자 대거 사들여   \n",
       "2022-05-30  [리포트 브리핑]삼성전자, '6만원 중반대이면 분할 매수 가능' 목표가 77,000...   \n",
       "\n",
       "                                                                             뉴스요약  \n",
       "날짜                                                                                 \n",
       "2022-05-31  삼성전자가 대규모 투자계획에도 불구하고 각종 악재가 연이어 불거지며 주가는 6만원대에서 벗어나지 못하고 있다. 여기에 ...  \n",
       "2022-05-31  삼성전자의 5대 매출처 분포가 부품 제조능력과 제품 공급망 관리 능력 측면의 경쟁력을 모두 보여주고 있다는 중국 IT전...  \n",
       "2022-05-31  삼성전자는 전날보다 1.80% 오른 6만7700원에 마감했고, SK하이닉스도 0.94% 상승한 10만7000원에 장을 ...  \n",
       "2022-05-31  삼성전자와 LG 등 주요 상장사들이 자사주 매입으로 주주가치 제고와 함께 주가 하락 방어에 나서고 있다. 약세장에서도 ...  \n",
       "2022-05-31  화웨이·노키아·삼성전자 등과 통신장비 시장에서 경쟁을 펼치고 있는 에릭슨엘지는 30일 서울 중구 더플라자에서 'Imag...  \n",
       "2022-05-31  사진=삼성전자 제공  삼성전자가 모바일용 애플리케이션프로세서(AP) '엑시노스2200'의 후속 제품을 개발하고 있는 것...  \n",
       "2022-05-31  대장주 삼성전자는 전 거래일 대비 1200원(1.80%) 오른 6만7700원에 거래를 마쳤다. LG에너지솔루션(2.09...  \n",
       "2022-05-31  삼성전자와 SK하이닉스 등 애플의 메모리반도체 협력사에서 기존 D램보다 단가가 높은 LPDDR5 D램 공급을 담당하며 ...  \n",
       "2022-05-31  외국인투자자는 이날 삼성전자와 LG에너지솔루션 등 시가총액 상위 종목을 크게 순매수했다. 한국거래소 정보데이터시스템에 ...  \n",
       "2022-05-30  로보뉴스 = 상상인증권에서 30일 삼성전자(005930)에 대해 '6만원 중반대이면 분할 매수 가능'이라며 투자의견 '...  "
      ]
     },
     "execution_count": 13,
     "metadata": {},
     "output_type": "execute_result"
    }
   ],
   "source": [
    "model, tokenizer = call_model()\n",
    "clsfy_news('삼성전자',senti_model=model,tokenizer=tokenizer)"
   ]
  },
  {
   "cell_type": "code",
   "execution_count": null,
   "id": "acfb4cd4",
   "metadata": {},
   "outputs": [],
   "source": []
  },
  {
   "cell_type": "code",
   "execution_count": null,
   "id": "e8351c38",
   "metadata": {
    "ExecuteTime": {
     "start_time": "2022-06-20T00:25:28.996Z"
    }
   },
   "outputs": [],
   "source": [
    "BEST_MODEL_NAME = './data/model/best_model.h5'\n",
    "sentiment_model_best = tf.keras.models.load_model(BEST_MODEL_NAME,\n",
    "                                                      custom_objects={'TFBertForSequenceClassification': TFBertForSequenceClassification})"
   ]
  },
  {
   "cell_type": "code",
   "execution_count": 20,
   "id": "b0cf61b0",
   "metadata": {
    "ExecuteTime": {
     "end_time": "2022-06-20T00:27:11.061746Z",
     "start_time": "2022-06-20T00:26:38.710183Z"
    }
   },
   "outputs": [
    {
     "name": "stderr",
     "output_type": "stream",
     "text": [
      "100%|████████████████████████████████████████████████████████████████████████████| 9676/9676 [00:01<00:00, 5396.16it/s]\n"
     ]
    },
    {
     "data": {
      "text/html": [
       "<div>\n",
       "<style scoped>\n",
       "    .dataframe tbody tr th:only-of-type {\n",
       "        vertical-align: middle;\n",
       "    }\n",
       "\n",
       "    .dataframe tbody tr th {\n",
       "        vertical-align: top;\n",
       "    }\n",
       "\n",
       "    .dataframe thead th {\n",
       "        text-align: right;\n",
       "    }\n",
       "</style>\n",
       "<table border=\"1\" class=\"dataframe\">\n",
       "  <thead>\n",
       "    <tr style=\"text-align: right;\">\n",
       "      <th></th>\n",
       "      <th>뉴스제목</th>\n",
       "      <th>뉴스요약</th>\n",
       "    </tr>\n",
       "    <tr>\n",
       "      <th>날짜</th>\n",
       "      <th></th>\n",
       "      <th></th>\n",
       "    </tr>\n",
       "  </thead>\n",
       "  <tbody>\n",
       "    <tr>\n",
       "      <th>2022-03-30</th>\n",
       "      <td>삼성전자, WD와 차세대 스토리지 기술 협력</td>\n",
       "      <td>삼성전자가 웨스턴디지털(WD)과 손잡고 차세대 스토리지 기술 표준화와 제품 개발에 나선다. 삼성전자는 WD와 '존 스토...</td>\n",
       "    </tr>\n",
       "    <tr>\n",
       "      <th>2022-03-30</th>\n",
       "      <td>반도체 업황 개선…\"6월부터 삼성전자의 시간\"</td>\n",
       "      <td>메모리 반도체 업황의 나침반인 미국 마이크론이 호실적과 장밋빛 전망을 발표했지만 삼성전자(005930)의 주가가 여전히...</td>\n",
       "    </tr>\n",
       "    <tr>\n",
       "      <th>2022-03-30</th>\n",
       "      <td>삼성전자, 웨스턴디지털과 차세대 스토리지 분야 기술 협력</td>\n",
       "      <td>삼성전자가 스토리지 전문 기업인 미국 웨스턴디지털과 존 스토리지 기술 협력을 위한 양해각서(MOU)를 체결했다고 30일...</td>\n",
       "    </tr>\n",
       "    <tr>\n",
       "      <th>2022-03-30</th>\n",
       "      <td>한종희 부회장 \"삼성전자만의 캄테크로 삶의질 높일 것\"</td>\n",
       "      <td>한종희 삼성전자 DX부문장(부회장)이 고객의 다양한 요구와 삶의 질을 실질적으로 향상시키는 '캄 테크'의 중요성을 강조...</td>\n",
       "    </tr>\n",
       "    <tr>\n",
       "      <th>2022-03-30</th>\n",
       "      <td>삼성전자·메디플러스 “웨어러블 헬스케어 협력”</td>\n",
       "      <td>현대중공업그룹의 모바일 헬스케어 솔루션 기업 메디플러스솔루션이 삼성전자와 웨어러블 기기 기반의 헬스케어 사업을 확대한다...</td>\n",
       "    </tr>\n",
       "    <tr>\n",
       "      <th>...</th>\n",
       "      <td>...</td>\n",
       "      <td>...</td>\n",
       "    </tr>\n",
       "    <tr>\n",
       "      <th>2016-01-21</th>\n",
       "      <td>삼성전자 S 아카데미, 스낵클립 영상 300만뷰 돌파</td>\n",
       "      <td>삼성 S아카데미 스낵클립 영상 스틸컷 (사진제공: 삼성전자) 서울--(뉴스와이어) 삼성전자가 ‘S 아카데미’ 캠페인의 ...</td>\n",
       "    </tr>\n",
       "    <tr>\n",
       "      <th>2016-01-17</th>\n",
       "      <td>삼성전자 S 아카데미 행사 10일만에 ‘노트북 9’ 시리즈 판매량 1만대 돌파</td>\n",
       "      <td>삼성전자가 지난 6일 시작된 아카데미 행사 열흘 만에 노트북 9 시리즈 국내 판매 1만대를 돌파했다. 삼성전자는 뛰어난...</td>\n",
       "    </tr>\n",
       "    <tr>\n",
       "      <th>2016-01-13</th>\n",
       "      <td>삼성전자 대형 TV, 큰 폭의 판매 성장을 기록</td>\n",
       "      <td>삼성 SUHD TV 65JS9500 (사진제공: 삼성전자) 서울--(뉴스와이어) 삼성전자 대형 TV가 지난해 국내에서 ...</td>\n",
       "    </tr>\n",
       "    <tr>\n",
       "      <th>2016-01-10</th>\n",
       "      <td>삼성전자, CES 2016에서 주요부문 수상 석권</td>\n",
       "      <td>삼성 패밀리 허브 냉장고 (사진제공: 삼성전자) 서울--(뉴스와이어) 삼성전자가 세계 최대 규모 가전 전시회 CES 2...</td>\n",
       "    </tr>\n",
       "    <tr>\n",
       "      <th>2016-01-04</th>\n",
       "      <td>삼성전자, 편의성 한층 강화된 ‘스마트 허브’ 공개</td>\n",
       "      <td>서울--(뉴스와이어) 삼성전자가 메뉴, 영상, 게임 등 스마트 TV 콘텐츠 간의 장벽을 없앤 새로운 개념의 스마트 TV...</td>\n",
       "    </tr>\n",
       "  </tbody>\n",
       "</table>\n",
       "<p>1467 rows × 2 columns</p>\n",
       "</div>"
      ],
      "text/plain": [
       "                                                   뉴스제목  \\\n",
       "날짜                                                        \n",
       "2022-03-30                     삼성전자, WD와 차세대 스토리지 기술 협력   \n",
       "2022-03-30                    반도체 업황 개선…\"6월부터 삼성전자의 시간\"   \n",
       "2022-03-30              삼성전자, 웨스턴디지털과 차세대 스토리지 분야 기술 협력   \n",
       "2022-03-30               한종희 부회장 \"삼성전자만의 캄테크로 삶의질 높일 것\"   \n",
       "2022-03-30                    삼성전자·메디플러스 “웨어러블 헬스케어 협력”   \n",
       "...                                                 ...   \n",
       "2016-01-21                삼성전자 S 아카데미, 스낵클립 영상 300만뷰 돌파   \n",
       "2016-01-17  삼성전자 S 아카데미 행사 10일만에 ‘노트북 9’ 시리즈 판매량 1만대 돌파   \n",
       "2016-01-13                   삼성전자 대형 TV, 큰 폭의 판매 성장을 기록   \n",
       "2016-01-10                  삼성전자, CES 2016에서 주요부문 수상 석권   \n",
       "2016-01-04                 삼성전자, 편의성 한층 강화된 ‘스마트 허브’ 공개   \n",
       "\n",
       "                                                                             뉴스요약  \n",
       "날짜                                                                                 \n",
       "2022-03-30  삼성전자가 웨스턴디지털(WD)과 손잡고 차세대 스토리지 기술 표준화와 제품 개발에 나선다. 삼성전자는 WD와 '존 스토...  \n",
       "2022-03-30  메모리 반도체 업황의 나침반인 미국 마이크론이 호실적과 장밋빛 전망을 발표했지만 삼성전자(005930)의 주가가 여전히...  \n",
       "2022-03-30  삼성전자가 스토리지 전문 기업인 미국 웨스턴디지털과 존 스토리지 기술 협력을 위한 양해각서(MOU)를 체결했다고 30일...  \n",
       "2022-03-30  한종희 삼성전자 DX부문장(부회장)이 고객의 다양한 요구와 삶의 질을 실질적으로 향상시키는 '캄 테크'의 중요성을 강조...  \n",
       "2022-03-30  현대중공업그룹의 모바일 헬스케어 솔루션 기업 메디플러스솔루션이 삼성전자와 웨어러블 기기 기반의 헬스케어 사업을 확대한다...  \n",
       "...                                                                           ...  \n",
       "2016-01-21  삼성 S아카데미 스낵클립 영상 스틸컷 (사진제공: 삼성전자) 서울--(뉴스와이어) 삼성전자가 ‘S 아카데미’ 캠페인의 ...  \n",
       "2016-01-17  삼성전자가 지난 6일 시작된 아카데미 행사 열흘 만에 노트북 9 시리즈 국내 판매 1만대를 돌파했다. 삼성전자는 뛰어난...  \n",
       "2016-01-13  삼성 SUHD TV 65JS9500 (사진제공: 삼성전자) 서울--(뉴스와이어) 삼성전자 대형 TV가 지난해 국내에서 ...  \n",
       "2016-01-10  삼성 패밀리 허브 냉장고 (사진제공: 삼성전자) 서울--(뉴스와이어) 삼성전자가 세계 최대 규모 가전 전시회 CES 2...  \n",
       "2016-01-04  서울--(뉴스와이어) 삼성전자가 메뉴, 영상, 게임 등 스마트 TV 콘텐츠 간의 장벽을 없앤 새로운 개념의 스마트 TV...  \n",
       "\n",
       "[1467 rows x 2 columns]"
      ]
     },
     "execution_count": 20,
     "metadata": {},
     "output_type": "execute_result"
    }
   ],
   "source": [
    "df_n = pd.read_csv(f'./data/개별기업뉴스_전처리/삼성전자.csv',index_col=0)\n",
    "df_n = df_n.set_index('날짜')\n",
    "df_n.index = pd.DatetimeIndex(df_n.index)\n",
    "news_data = df_n['뉴스제목']\n",
    "news_x = text_data(news_data,tokenizer)\n",
    "predicted_value = sentiment_model_best.predict(news_x)\n",
    "predicted_label = np.argmax(predicted_value, axis = 1)\n",
    "idx = np.where(predicted_label== 1)\n",
    "df_senti = df_n.iloc[idx][:'2022-03-30'].sort_index(ascending=False)\n",
    "df_senti"
   ]
  },
  {
   "cell_type": "code",
   "execution_count": null,
   "id": "b463acf9",
   "metadata": {},
   "outputs": [],
   "source": []
  },
  {
   "cell_type": "markdown",
   "id": "d9cefe95",
   "metadata": {},
   "source": [
    "### 크롤링 데이터 사용: clsfy_crawl_news()"
   ]
  },
  {
   "cell_type": "code",
   "execution_count": 53,
   "id": "275a7cbf",
   "metadata": {
    "ExecuteTime": {
     "end_time": "2022-06-20T06:44:04.769792Z",
     "start_time": "2022-06-20T06:44:04.755798Z"
    }
   },
   "outputs": [],
   "source": [
    "def clsfy_news(corp,senti_model,tokenizer,senti=1,page=10,num=10): #1 2 0 긍정 부정 중립\n",
    "    df_n = crawl_news(corp,page)\n",
    "    df_n = df_n.set_index('날짜')\n",
    "    df_n.index = pd.to_datetime(df_n.index)\n",
    "    news_data = df_n['뉴스제목']\n",
    "    news_x = text_data(news_data,tokenizer)\n",
    "    predicted_value = senti_model.predict(news_x)\n",
    "    predicted_label = np.argmax(predicted_value, axis = 1)\n",
    "    idx = np.where(predicted_label== senti)[::-1]\n",
    "    df_senti = df_n.iloc[idx][:'2022-03-30'].sort_index(ascending=False)\n",
    "    return df_senti[:num]  "
   ]
  },
  {
   "cell_type": "code",
   "execution_count": 54,
   "id": "e4a78736",
   "metadata": {
    "ExecuteTime": {
     "end_time": "2022-06-20T06:44:26.903056Z",
     "start_time": "2022-06-20T06:44:11.836325Z"
    }
   },
   "outputs": [
    {
     "name": "stderr",
     "output_type": "stream",
     "text": [
      "Some weights of the PyTorch model were not used when initializing the TF 2.0 model TFBertForSequenceClassification: ['bert.embeddings.position_ids']\n",
      "- This IS expected if you are initializing TFBertForSequenceClassification from a PyTorch model trained on another task or with another architecture (e.g. initializing a TFBertForSequenceClassification model from a BertForPreTraining model).\n",
      "- This IS NOT expected if you are initializing TFBertForSequenceClassification from a PyTorch model that you expect to be exactly identical (e.g. initializing a TFBertForSequenceClassification model from a BertForSequenceClassification model).\n",
      "Some weights or buffers of the TF 2.0 model TFBertForSequenceClassification were not initialized from the PyTorch model and are newly initialized: ['classifier.weight', 'classifier.bias']\n",
      "You should probably TRAIN this model on a down-stream task to be able to use it for predictions and inference.\n",
      "100%|██████████████████████████████████████████████████████████████████████████████| 100/100 [00:00<00:00, 4774.72it/s]\n"
     ]
    },
    {
     "data": {
      "text/html": [
       "<div>\n",
       "<style scoped>\n",
       "    .dataframe tbody tr th:only-of-type {\n",
       "        vertical-align: middle;\n",
       "    }\n",
       "\n",
       "    .dataframe tbody tr th {\n",
       "        vertical-align: top;\n",
       "    }\n",
       "\n",
       "    .dataframe thead th {\n",
       "        text-align: right;\n",
       "    }\n",
       "</style>\n",
       "<table border=\"1\" class=\"dataframe\">\n",
       "  <thead>\n",
       "    <tr style=\"text-align: right;\">\n",
       "      <th></th>\n",
       "      <th>뉴스제목</th>\n",
       "      <th>url</th>\n",
       "    </tr>\n",
       "    <tr>\n",
       "      <th>날짜</th>\n",
       "      <th></th>\n",
       "      <th></th>\n",
       "    </tr>\n",
       "  </thead>\n",
       "  <tbody>\n",
       "    <tr>\n",
       "      <th>2022-03-30</th>\n",
       "      <td>SSD 1위 삼성전자, 2위 WD와 MOU 체결…\"기술 평준화 위한 협력\"</td>\n",
       "      <td>http://www.newsis.com/view/?id=NISX20220330_0001813003&amp;cID=13001&amp;p...</td>\n",
       "    </tr>\n",
       "    <tr>\n",
       "      <th>2022-03-30</th>\n",
       "      <td>현대重·삼성전자 헬스케어 '맞손'..입는 의료기기 협력한다</td>\n",
       "      <td>http://news.mt.co.kr/mtview.php?no=2022033010060122966</td>\n",
       "    </tr>\n",
       "    <tr>\n",
       "      <th>2022-03-30</th>\n",
       "      <td>삼성전자, 웨스턴디지털과 차세대 스토리지 분야 기술 협력 MOU 체결</td>\n",
       "      <td>https://www.ngetnews.com/news/articleView.html?idxno=407218</td>\n",
       "    </tr>\n",
       "    <tr>\n",
       "      <th>2022-03-30</th>\n",
       "      <td>삼성전자, 美 웨스턴디지털과 차세대 스토리지 분야 기술 협력</td>\n",
       "      <td>http://www.dizzotv.com/site/data/html_dir/2022/03/30/2022033080017...</td>\n",
       "    </tr>\n",
       "    <tr>\n",
       "      <th>2022-03-30</th>\n",
       "      <td>삼성전자, 웨스턴디지털과 차세대 스토리지 분야 기술 협력 추진</td>\n",
       "      <td>http://www.bizwnews.com/news/articleView.html?idxno=34376</td>\n",
       "    </tr>\n",
       "    <tr>\n",
       "      <th>2022-03-30</th>\n",
       "      <td>한종희 부회장 \"삼성 혁신은 고객 경험에서 출발…삶의 질 향상시켜 나갈 것\"</td>\n",
       "      <td>http://www.dizzotv.com/site/data/html_dir/2022/03/30/2022033080194...</td>\n",
       "    </tr>\n",
       "    <tr>\n",
       "      <th>2022-03-30</th>\n",
       "      <td>삼성전자-웨스턴디지털, '존 스토리지' 분야 기술 협력</td>\n",
       "      <td>http://www.newscape.co.kr/news/articleView.html?idxno=81464</td>\n",
       "    </tr>\n",
       "    <tr>\n",
       "      <th>2022-03-30</th>\n",
       "      <td>삼성전자, 美 웨스턴디지털과 ‘존 스토리지’ 기술 표준화 협력</td>\n",
       "      <td>http://www.fntimes.com/html/view.php?ud=202203301033557482645ffc97...</td>\n",
       "    </tr>\n",
       "    <tr>\n",
       "      <th>2022-03-30</th>\n",
       "      <td>삼성전자, 웨스턴디지털과 '맞손'… 차세대 스토리지 분야 기술 협력</td>\n",
       "      <td>http://www.getnews.co.kr/news/articleView.html?idxno=578460</td>\n",
       "    </tr>\n",
       "    <tr>\n",
       "      <th>2022-03-30</th>\n",
       "      <td>메디플러스솔루션, 삼성전자와 모바일 헬스케어 사업 MOU 체결</td>\n",
       "      <td>http://www.gvalley.co.kr/news/articleView.html?idxno=602635</td>\n",
       "    </tr>\n",
       "  </tbody>\n",
       "</table>\n",
       "</div>"
      ],
      "text/plain": [
       "                                                  뉴스제목  \\\n",
       "날짜                                                       \n",
       "2022-03-30   SSD 1위 삼성전자, 2위 WD와 MOU 체결…\"기술 평준화 위한 협력\"   \n",
       "2022-03-30            현대重·삼성전자 헬스케어 '맞손'..입는 의료기기 협력한다   \n",
       "2022-03-30      삼성전자, 웨스턴디지털과 차세대 스토리지 분야 기술 협력 MOU 체결   \n",
       "2022-03-30           삼성전자, 美 웨스턴디지털과 차세대 스토리지 분야 기술 협력   \n",
       "2022-03-30          삼성전자, 웨스턴디지털과 차세대 스토리지 분야 기술 협력 추진   \n",
       "2022-03-30  한종희 부회장 \"삼성 혁신은 고객 경험에서 출발…삶의 질 향상시켜 나갈 것\"   \n",
       "2022-03-30              삼성전자-웨스턴디지털, '존 스토리지' 분야 기술 협력   \n",
       "2022-03-30          삼성전자, 美 웨스턴디지털과 ‘존 스토리지’ 기술 표준화 협력   \n",
       "2022-03-30       삼성전자, 웨스턴디지털과 '맞손'… 차세대 스토리지 분야 기술 협력   \n",
       "2022-03-30          메디플러스솔루션, 삼성전자와 모바일 헬스케어 사업 MOU 체결   \n",
       "\n",
       "                                                                              url  \n",
       "날짜                                                                                 \n",
       "2022-03-30  http://www.newsis.com/view/?id=NISX20220330_0001813003&cID=13001&p...  \n",
       "2022-03-30                 http://news.mt.co.kr/mtview.php?no=2022033010060122966  \n",
       "2022-03-30            https://www.ngetnews.com/news/articleView.html?idxno=407218  \n",
       "2022-03-30  http://www.dizzotv.com/site/data/html_dir/2022/03/30/2022033080017...  \n",
       "2022-03-30              http://www.bizwnews.com/news/articleView.html?idxno=34376  \n",
       "2022-03-30  http://www.dizzotv.com/site/data/html_dir/2022/03/30/2022033080194...  \n",
       "2022-03-30            http://www.newscape.co.kr/news/articleView.html?idxno=81464  \n",
       "2022-03-30  http://www.fntimes.com/html/view.php?ud=202203301033557482645ffc97...  \n",
       "2022-03-30            http://www.getnews.co.kr/news/articleView.html?idxno=578460  \n",
       "2022-03-30            http://www.gvalley.co.kr/news/articleView.html?idxno=602635  "
      ]
     },
     "execution_count": 54,
     "metadata": {},
     "output_type": "execute_result"
    }
   ],
   "source": [
    "model, tokenizer = call_model()\n",
    "# 긍정뉴스\n",
    "clsfy_news('삼성전자',senti_model=model,tokenizer=tokenizer)"
   ]
  },
  {
   "cell_type": "code",
   "execution_count": 56,
   "id": "b730896a",
   "metadata": {
    "ExecuteTime": {
     "end_time": "2022-06-20T06:45:36.089054Z",
     "start_time": "2022-06-20T06:45:32.900102Z"
    }
   },
   "outputs": [
    {
     "name": "stderr",
     "output_type": "stream",
     "text": [
      "100%|██████████████████████████████████████████████████████████████████████████████| 100/100 [00:00<00:00, 5569.24it/s]\n"
     ]
    },
    {
     "data": {
      "text/html": [
       "<div>\n",
       "<style scoped>\n",
       "    .dataframe tbody tr th:only-of-type {\n",
       "        vertical-align: middle;\n",
       "    }\n",
       "\n",
       "    .dataframe tbody tr th {\n",
       "        vertical-align: top;\n",
       "    }\n",
       "\n",
       "    .dataframe thead th {\n",
       "        text-align: right;\n",
       "    }\n",
       "</style>\n",
       "<table border=\"1\" class=\"dataframe\">\n",
       "  <thead>\n",
       "    <tr style=\"text-align: right;\">\n",
       "      <th></th>\n",
       "      <th>뉴스제목</th>\n",
       "      <th>url</th>\n",
       "    </tr>\n",
       "    <tr>\n",
       "      <th>날짜</th>\n",
       "      <th></th>\n",
       "      <th></th>\n",
       "    </tr>\n",
       "  </thead>\n",
       "  <tbody>\n",
       "    <tr>\n",
       "      <th>2022-03-30</th>\n",
       "      <td>[이슈체크] 반도체주 호재만발인데…삼성전자 부진한 이유</td>\n",
       "      <td>https://biz.sbs.co.kr/article_hub/20000056437?division=NAVER</td>\n",
       "    </tr>\n",
       "    <tr>\n",
       "      <th>2022-03-30</th>\n",
       "      <td>'춘래불사춘' 삼성...한꺼번에 몰려온 '3중고 먹구름'</td>\n",
       "      <td>https://www.ytn.co.kr/_ln/0102_202203300510101326</td>\n",
       "    </tr>\n",
       "    <tr>\n",
       "      <th>2022-03-30</th>\n",
       "      <td>삼성, GOS·노조 이어 '사법 리스크'까지…'300조 매출' 발목 잡히나</td>\n",
       "      <td>http://www.newsis.com/view/?id=NISX20220330_0001813774&amp;cID=13001&amp;p...</td>\n",
       "    </tr>\n",
       "    <tr>\n",
       "      <th>2022-03-30</th>\n",
       "      <td>\"러 우크라 침공에…\" 삼성·LG 등 TV판매 460만대 감소 전망</td>\n",
       "      <td>http://daily.hankooki.com/news/articleView.html?idxno=806278</td>\n",
       "    </tr>\n",
       "  </tbody>\n",
       "</table>\n",
       "</div>"
      ],
      "text/plain": [
       "                                                 뉴스제목  \\\n",
       "날짜                                                      \n",
       "2022-03-30             [이슈체크] 반도체주 호재만발인데…삼성전자 부진한 이유   \n",
       "2022-03-30            '춘래불사춘' 삼성...한꺼번에 몰려온 '3중고 먹구름'   \n",
       "2022-03-30  삼성, GOS·노조 이어 '사법 리스크'까지…'300조 매출' 발목 잡히나   \n",
       "2022-03-30      \"러 우크라 침공에…\" 삼성·LG 등 TV판매 460만대 감소 전망   \n",
       "\n",
       "                                                                              url  \n",
       "날짜                                                                                 \n",
       "2022-03-30           https://biz.sbs.co.kr/article_hub/20000056437?division=NAVER  \n",
       "2022-03-30                      https://www.ytn.co.kr/_ln/0102_202203300510101326  \n",
       "2022-03-30  http://www.newsis.com/view/?id=NISX20220330_0001813774&cID=13001&p...  \n",
       "2022-03-30           http://daily.hankooki.com/news/articleView.html?idxno=806278  "
      ]
     },
     "execution_count": 56,
     "metadata": {},
     "output_type": "execute_result"
    }
   ],
   "source": [
    "# 부정뉴스\n",
    "clsfy_news('삼성전자',senti_model=model,tokenizer=tokenizer,senti=2)"
   ]
  },
  {
   "cell_type": "code",
   "execution_count": null,
   "id": "29339f22",
   "metadata": {},
   "outputs": [],
   "source": []
  },
  {
   "cell_type": "code",
   "execution_count": null,
   "id": "ee1eb0b9",
   "metadata": {},
   "outputs": [],
   "source": []
  },
  {
   "cell_type": "code",
   "execution_count": null,
   "id": "21947855",
   "metadata": {},
   "outputs": [],
   "source": []
  },
  {
   "cell_type": "code",
   "execution_count": 26,
   "id": "6d52c451",
   "metadata": {
    "ExecuteTime": {
     "end_time": "2022-06-24T10:19:15.021109Z",
     "start_time": "2022-06-24T10:19:08.297156Z"
    },
    "scrolled": true
   },
   "outputs": [
    {
     "name": "stderr",
     "output_type": "stream",
     "text": [
      "C:\\Users\\bitcamp\\AppData\\Local\\Temp/ipykernel_14864/1648602204.py:12: FutureWarning: Value based partial slicing on non-monotonic DatetimeIndexes with non-existing keys is deprecated and will raise a KeyError in a future Version.\n",
      "  token_lst = df_n['뉴스'].loc[bgn_date:end_date]\n",
      "C:\\Users\\bitcamp\\AppData\\Local\\Temp/ipykernel_14864/1648602204.py:23: DeprecationWarning: The default dtype for empty Series will be 'object' instead of 'float64' in a future version. Specify a dtype explicitly to silence this warning.\n",
      "  keys = pd.Series(kw_dict.keys()).tolist()\n"
     ]
    },
    {
     "data": {
      "text/plain": [
       "{}"
      ]
     },
     "execution_count": 26,
     "metadata": {},
     "output_type": "execute_result"
    }
   ],
   "source": [
    "AJ_dict = kw_crawl_news(corp='AJ네트웍스',bgn_date='2016-01-01',end_date='2016-03-31')\n",
    "AJ_dict"
   ]
  },
  {
   "cell_type": "code",
   "execution_count": 15,
   "id": "e54abcce",
   "metadata": {
    "ExecuteTime": {
     "end_time": "2022-06-24T10:15:37.772595Z",
     "start_time": "2022-06-24T10:15:37.767627Z"
    }
   },
   "outputs": [
    {
     "data": {
      "text/plain": [
       "{}"
      ]
     },
     "execution_count": 15,
     "metadata": {},
     "output_type": "execute_result"
    }
   ],
   "source": [
    "AJ_dict"
   ]
  },
  {
   "cell_type": "code",
   "execution_count": 7,
   "id": "d48c6083",
   "metadata": {
    "ExecuteTime": {
     "end_time": "2022-06-24T10:13:06.595171Z",
     "start_time": "2022-06-24T10:13:06.577208Z"
    }
   },
   "outputs": [
    {
     "data": {
      "text/plain": [
       "{}"
      ]
     },
     "execution_count": 7,
     "metadata": {},
     "output_type": "execute_result"
    }
   ],
   "source": [
    "show_kw(AJ_dict,15)"
   ]
  }
 ],
 "metadata": {
  "kernelspec": {
   "display_name": "Python 3 (ipykernel)",
   "language": "python",
   "name": "python3"
  },
  "language_info": {
   "codemirror_mode": {
    "name": "ipython",
    "version": 3
   },
   "file_extension": ".py",
   "mimetype": "text/x-python",
   "name": "python",
   "nbconvert_exporter": "python",
   "pygments_lexer": "ipython3",
   "version": "3.9.7"
  },
  "toc": {
   "base_numbering": 1,
   "nav_menu": {},
   "number_sections": true,
   "sideBar": true,
   "skip_h1_title": false,
   "title_cell": "Table of Contents",
   "title_sidebar": "Contents",
   "toc_cell": false,
   "toc_position": {
    "height": "calc(100% - 180px)",
    "left": "10px",
    "top": "150px",
    "width": "384px"
   },
   "toc_section_display": true,
   "toc_window_display": true
  },
  "varInspector": {
   "cols": {
    "lenName": 16,
    "lenType": 16,
    "lenVar": 40
   },
   "kernels_config": {
    "python": {
     "delete_cmd_postfix": "",
     "delete_cmd_prefix": "del ",
     "library": "var_list.py",
     "varRefreshCmd": "print(var_dic_list())"
    },
    "r": {
     "delete_cmd_postfix": ") ",
     "delete_cmd_prefix": "rm(",
     "library": "var_list.r",
     "varRefreshCmd": "cat(var_dic_list()) "
    }
   },
   "types_to_exclude": [
    "module",
    "function",
    "builtin_function_or_method",
    "instance",
    "_Feature"
   ],
   "window_display": false
  }
 },
 "nbformat": 4,
 "nbformat_minor": 5
}
