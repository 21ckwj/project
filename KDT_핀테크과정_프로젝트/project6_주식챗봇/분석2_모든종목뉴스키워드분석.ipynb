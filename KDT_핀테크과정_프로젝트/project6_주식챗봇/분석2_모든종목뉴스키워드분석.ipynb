{
 "cells": [
  {
   "cell_type": "code",
   "execution_count": 49,
   "id": "3915f96f",
   "metadata": {
    "ExecuteTime": {
     "end_time": "2022-06-10T05:29:13.353591Z",
     "start_time": "2022-06-10T05:29:13.338660Z"
    }
   },
   "outputs": [],
   "source": [
    "import pandas as pd\n",
    "import numpy as np\n",
    "import matplotlib.pyplot as plt\n",
    "import seaborn as sns\n",
    "import re\n",
    "import os\n",
    "\n",
    "# 한글 폰트 사용을 위해서 세팅\n",
    "from matplotlib import font_manager, rc\n",
    "font_path = \"C:/Windows/Fonts/malgun.ttf\"\n",
    "font = font_manager.FontProperties(fname=font_path).get_name()\n",
    "rc('font', family=font)\n",
    "\n",
    "import matplotlib.ticker as ticker"
   ]
  },
  {
   "cell_type": "markdown",
   "id": "9ed4429e",
   "metadata": {},
   "source": [
    "# 데이터 불러오기"
   ]
  },
  {
   "cell_type": "code",
   "execution_count": 46,
   "id": "393a2b4f",
   "metadata": {
    "ExecuteTime": {
     "end_time": "2022-06-09T14:49:07.435320Z",
     "start_time": "2022-06-09T14:49:07.402197Z"
    }
   },
   "outputs": [],
   "source": [
    "df_n = pd.read_csv('./data/개별기업뉴스_자연어처리/AJ네트웍스.csv',index_col=0)\n",
    "df_n['뉴스'] = df_n['뉴스'].apply(lambda x : eval(x))\n",
    "df_n.index = pd.to_datetime(df_n.index)"
   ]
  },
  {
   "cell_type": "markdown",
   "id": "8b969335",
   "metadata": {},
   "source": [
    "# 키워드 분석"
   ]
  },
  {
   "cell_type": "markdown",
   "id": "97f4aafa",
   "metadata": {},
   "source": [
    "## 특정구간"
   ]
  },
  {
   "cell_type": "code",
   "execution_count": null,
   "id": "6218befe",
   "metadata": {},
   "outputs": [],
   "source": [
    "# 특정구간 단어 빈도수 + 시각화\n",
    "kw_dict = dict()\n",
    "\n",
    "# 2016-01-01 ~ 2016-02-01 가정\n",
    "bgn_date = '2016-01-01'\n",
    "end_date = '2016-02-01'\n",
    "\n",
    "token_lst = df_n['뉴스'].loc[bgn_date:end_date]\n",
    "\n",
    "for tokens in token_lst:\n",
    "\n",
    "    for word in tokens:\n",
    "        if not word in kw_dict.keys():\n",
    "            kw_dict[word] = 1\n",
    "        else:\n",
    "            kw_dict[word] += 1\n",
    "\n",
    "kw_dict = dict(sorted(kw_dict.items(), key = lambda x: x[1]))\n",
    "\n",
    "plt.figure(figsize=(15,10))\n",
    "keyword_list = list(kw_dict.keys())\n",
    "keyword_count = list(kw_dict.values())\n",
    "plt.barh(keyword_list,keyword_count)\n",
    "plt.show()"
   ]
  },
  {
   "cell_type": "markdown",
   "id": "d3f3213b",
   "metadata": {},
   "source": [
    "## 특정구간: period_kw_count()"
   ]
  },
  {
   "cell_type": "code",
   "execution_count": 53,
   "id": "1b14ccc2",
   "metadata": {
    "ExecuteTime": {
     "end_time": "2022-06-10T06:46:49.813587Z",
     "start_time": "2022-06-10T06:46:49.802655Z"
    }
   },
   "outputs": [],
   "source": [
    "def period_kw_count(df, bgn_date,end_date):\n",
    "    kw_dict = dict()\n",
    "    token_lst = df_n['뉴스'].loc[bgn_date:end_date]\n",
    "\n",
    "    for tokens in token_lst:\n",
    "\n",
    "        for word in tokens:\n",
    "            if not word in kw_dict.keys():\n",
    "                kw_dict[word] = 1\n",
    "            else:\n",
    "                kw_dict[word] += 1\n",
    "\n",
    "    kw_dict = dict(sorted(kw_dict.items(), key = lambda x: x[1]))\n",
    "    \n",
    "    \n",
    "    plt.figure(figsize=(10,10))\n",
    "    # 축 눈금설정\n",
    "    ax = plt.axes()\n",
    "    ax.xaxis.set_major_locator(ticker.MultipleLocator(1))\n",
    "\n",
    "    keyword_list = list(kw_dict.keys())\n",
    "    keyword_count = list(kw_dict.values())\n",
    "    plt.xticks\n",
    "    plt.barh(keyword_list,keyword_count)\n",
    "    plt.show()\n",
    "    \n",
    "    return kw_dict\n"
   ]
  },
  {
   "cell_type": "code",
   "execution_count": 48,
   "id": "1096b478",
   "metadata": {
    "ExecuteTime": {
     "end_time": "2022-06-09T14:49:18.641831Z",
     "start_time": "2022-06-09T14:49:18.495328Z"
    }
   },
   "outputs": [
    {
     "data": {
      "image/png": "[encoded data removed]",
      "text/plain": [
       "<Figure size 720x720 with 1 Axes>"
      ]
     },
     "metadata": {
      "needs_background": "light"
     },
     "output_type": "display_data"
    },
    {
     "data": {
      "text/plain": [
       "{'등에업': 1,\n",
       " '고리사채급': 1,\n",
       " '위약금': 1,\n",
       " '폭탄': 1,\n",
       " '렌탈사업': 1,\n",
       " '사업': 1,\n",
       " '파렛트및': 1,\n",
       " '고소장비': 1,\n",
       " '신규': 1,\n",
       " '서비스': 1,\n",
       " '브랜드': 1,\n",
       " '런칭': 1,\n",
       " '대상AJ네트웍스': 1,\n",
       " '우량채': 1,\n",
       " '발행': 1,\n",
       " '성공': 1,\n",
       " '스마트폰': 2,\n",
       " '태블릿PC': 2,\n",
       " '시작': 2,\n",
       " '렌탈': 2,\n",
       " 'AJ네트웍스': 4}"
      ]
     },
     "execution_count": 48,
     "metadata": {},
     "output_type": "execute_result"
    }
   ],
   "source": [
    "period_kw_count(df_n,'2016-01-01','2016-02-01')"
   ]
  },
  {
   "cell_type": "code",
   "execution_count": null,
   "id": "325718b5",
   "metadata": {},
   "outputs": [],
   "source": []
  },
  {
   "cell_type": "markdown",
   "id": "4fde78eb",
   "metadata": {},
   "source": [
    "## 전체구간"
   ]
  },
  {
   "cell_type": "code",
   "execution_count": null,
   "id": "f8456fde",
   "metadata": {},
   "outputs": [],
   "source": [
    "kw_dict1 = dict()\n",
    "\n",
    "# 2016-01-01 ~ 2022-03-31\n",
    "bgn_date = '2016-01-01'\n",
    "end_date = '2022-03-31'\n",
    "\n",
    "token_lst = df_n['뉴스'].loc[bgn_date:end_date]\n",
    "\n",
    "for tokens in token_lst:\n",
    "\n",
    "    for word in tokens:\n",
    "        if not word in kw_dict1.keys():\n",
    "            kw_dict1[word] = 1\n",
    "        else:\n",
    "            kw_dict1[word] += 1\n",
    "\n",
    "kw_dict1 = dict(sorted(kw_dict1.items(), key = lambda x: x[1]))\n",
    "\n",
    "kw_dict1"
   ]
  },
  {
   "cell_type": "code",
   "execution_count": null,
   "id": "68400749",
   "metadata": {},
   "outputs": [],
   "source": [
    "# 1단어 제거\n",
    "for key,value in list(kw_dict2.items()):\n",
    "    if value ==1 :\n",
    "        del kw_dict2[key]"
   ]
  },
  {
   "cell_type": "code",
   "execution_count": null,
   "id": "0e4f55cd",
   "metadata": {},
   "outputs": [],
   "source": [
    "# 본인 회사이름 제거\n",
    "for key,value in list(kw_dict2.items()):\n",
    "    if 'AJ네트웍스' in key :\n",
    "        del kw_dict2[key]\n",
    "kw_dict2"
   ]
  },
  {
   "cell_type": "code",
   "execution_count": null,
   "id": "bb62ad1b",
   "metadata": {},
   "outputs": [],
   "source": [
    "# 뽑은 불용어 제거\n",
    "df_nsw = pd.read_csv('./data/뉴스불용어.csv',index_col=1)\n",
    "df_nsw.reset_index(drop=True, inplace=True)\n",
    "\n",
    "for key,value in list(kw_dict2.items()):\n",
    "    for word in df_nsw['불용어']:\n",
    "        if word == key :\n",
    "                del kw_dict2[key]\n"
   ]
  },
  {
   "cell_type": "code",
   "execution_count": null,
   "id": "a0f9b7b3",
   "metadata": {},
   "outputs": [],
   "source": []
  },
  {
   "cell_type": "markdown",
   "id": "19092871",
   "metadata": {},
   "source": [
    "## 전체구간 : total_kw_dict()"
   ]
  },
  {
   "cell_type": "code",
   "execution_count": 101,
   "id": "147f611b",
   "metadata": {
    "ExecuteTime": {
     "end_time": "2022-06-10T08:25:56.634309Z",
     "start_time": "2022-06-10T08:25:56.592508Z"
    }
   },
   "outputs": [],
   "source": [
    "# 전처리된 뉴스\n",
    "df_n = pd.read_csv('./data/개별기업뉴스_자연어처리/AJ네트웍스.csv',index_col=0)\n",
    "df_n['뉴스'] = df_n['뉴스'].apply(lambda x : eval(x))\n",
    "df_n.index = pd.to_datetime(df_n.index)\n",
    "\n",
    "# 불용어 모음파일\n",
    "df_nsw = pd.read_csv('./data/뉴스불용어.csv',index_col=1)\n",
    "df_nsw.reset_index(drop=True, inplace=True)\n",
    "\n",
    "def total_kw_dict(df_news,corp_name, bgn_date = '2016-01-01',end_date = '2022-03-31'):\n",
    "    kw_dict1 = dict()\n",
    "\n",
    "    # 2016-01-01 ~ 2022-03-31\n",
    "    bgn_date = '2016-01-01'\n",
    "    end_date = '2022-03-31'\n",
    "\n",
    "    token_lst = df_news['뉴스'].loc[bgn_date:end_date]\n",
    "\n",
    "    for tokens in token_lst:\n",
    "\n",
    "        for word in tokens:\n",
    "            if not word in kw_dict1.keys():\n",
    "                kw_dict1[word] = 1\n",
    "            else:\n",
    "                kw_dict1[word] += 1\n",
    "\n",
    "    kw_dict1 = dict(sorted(kw_dict1.items(), key = lambda x: x[1]))\n",
    "    \n",
    "    # 4번 이하 출현 단어 제거\n",
    "    for key,value in list(kw_dict1.items()):\n",
    "        if value < 5 :\n",
    "            del kw_dict1[key]\n",
    "            \n",
    "    # 본인 회사이름 제거\n",
    "    for key,value in list(kw_dict1.items()):\n",
    "        if corp_name in key :\n",
    "            del kw_dict1[key]\n",
    "    \n",
    "    # 불용어 제거\n",
    "    for key,value in list(kw_dict1.items()):\n",
    "        for word in df_nsw['불용어']:\n",
    "            if word == key :\n",
    "                del kw_dict1[key]\n",
    "            \n",
    "    return kw_dict1\n",
    "    "
   ]
  },
  {
   "cell_type": "code",
   "execution_count": 98,
   "id": "e08ebdf5",
   "metadata": {
    "ExecuteTime": {
     "end_time": "2022-06-10T08:24:38.043621Z",
     "start_time": "2022-06-10T08:24:38.015668Z"
    }
   },
   "outputs": [
    {
     "data": {
      "text/plain": [
       "{'렌탈사업': 5,\n",
       " '순매도한달누적': 5,\n",
       " '영업익': 5,\n",
       " '주가등락폭': 5,\n",
       " '영업이익': 5,\n",
       " '일일회전율': 5,\n",
       " '투자주체': 5,\n",
       " '상승세': 5,\n",
       " '분석': 5,\n",
       " '지분변동': 5,\n",
       " '레드도로와철도운송': 5,\n",
       " '규모': 5,\n",
       " '사업부': 5,\n",
       " '외국인기관': 5,\n",
       " '수요예측': 6,\n",
       " '수요': 6,\n",
       " '신고': 6,\n",
       " '파렛트': 6,\n",
       " '사장': 6,\n",
       " '특별관계': 6,\n",
       " '원도로와철도운송': 6,\n",
       " 'AJ셀카': 6,\n",
       " '순매수행진': 6,\n",
       " '박대현': 6,\n",
       " '발행': 7,\n",
       " '순매도': 7,\n",
       " '순매수한달누적': 7,\n",
       " '매출': 7,\n",
       " '동양': 7,\n",
       " '동양도로와철도운송': 7,\n",
       " '대표': 8,\n",
       " '윤규선': 8,\n",
       " '코스피': 8,\n",
       " '종목동정': 8,\n",
       " '공시': 8,\n",
       " '인적분할': 8,\n",
       " '개인': 9,\n",
       " '파크': 9,\n",
       " '대표이사': 9,\n",
       " '외국인': 10,\n",
       " '지주부문': 10,\n",
       " '정배열': 11,\n",
       " '경신': 12,\n",
       " '매각': 12,\n",
       " '지분': 12,\n",
       " '하락': 12,\n",
       " '사업': 13,\n",
       " '변동폭': 14,\n",
       " '렌터카': 14,\n",
       " '대량': 14,\n",
       " '장중수급포착': 14,\n",
       " '매매동향': 15,\n",
       " '렌탈': 16,\n",
       " '외국': 16,\n",
       " '단기중기': 16,\n",
       " '자회사': 18,\n",
       " '회사채': 19,\n",
       " '기관': 27,\n",
       " '도로와철도운송': 51,\n",
       " '상승': 71,\n",
       " '상승률': 89}"
      ]
     },
     "execution_count": 98,
     "metadata": {},
     "output_type": "execute_result"
    }
   ],
   "source": [
    "kw_dict1 = total_kw_dict(df_news=df_n, corp_name='AJ네트웍스')\n",
    "kw_dict1"
   ]
  },
  {
   "cell_type": "code",
   "execution_count": null,
   "id": "d1053cba",
   "metadata": {},
   "outputs": [],
   "source": []
  },
  {
   "cell_type": "code",
   "execution_count": 41,
   "id": "fc7a050f",
   "metadata": {
    "ExecuteTime": {
     "end_time": "2022-06-09T07:58:29.663682Z",
     "start_time": "2022-06-09T07:58:29.631349Z"
    }
   },
   "outputs": [],
   "source": [
    "# 전처리된 뉴스\n",
    "df_n = pd.read_csv('./data/개별기업뉴스_자연어처리/SPC삼립.csv',index_col=0)\n",
    "df_n['뉴스'] = df_n['뉴스'].apply(lambda x : eval(x))\n",
    "df_n.index = pd.to_datetime(df_n.index)"
   ]
  },
  {
   "cell_type": "code",
   "execution_count": 42,
   "id": "1c448207",
   "metadata": {
    "ExecuteTime": {
     "end_time": "2022-06-09T07:58:29.996794Z",
     "start_time": "2022-06-09T07:58:29.983865Z"
    }
   },
   "outputs": [
    {
     "data": {
      "text/plain": [
       "dict_keys(['매입', '샌드팜', '반등', '식음료', '빠오즈', '토종', '정통', '회장', '건강빵', '로만밀', '식사빵', '식단', '허영인', '인사SPC삼립', '세트', '불법파견', '신선편의식품', '도약', '획득', '이헌상', '선물SPC삼립', '그릭', '도전장SPC삼립', '마케팅', '송편', '만만원대', '계절', '신상품', '캐릭터', '잇츠', '빵값', '크래프트', '하인즈', '계약', '프리미엄', '푸드', '편의점', '불티', '변신', '몸집', '그릭슈바인빚', '추석선물세트', '누적판매', '수익성', '선봬', '저스트', '식물성', '인사', '황종현씨', '외SPC삼립', '펭수빵', '샌드위치', '대리점', '인상', '한국', '반영', '사람', '억원잠정실적SPC삼립', '모멘텀', '부재', '환경', '밀키트', '회복', '돼지', '식감', '시작', '외국인기관', '시즌', '공매', '종목SPC삼립', '추진', '풍부', '베이커리', '맷돌', '잠정실적SPC삼립', '순매수만주', '성장기', '육즙가득', '부어스트', '김박사', '선정', '진행', '출시모델', '전년비', '실적년', '달성영업익', '호조SPC삼립', '고공행진', '탄력', '선봬SPC삼립', '오늘일', '추천주', '전략', '프로모션', '품절', '대란', '강세SPC삼립', '인기에SPC삼립', '방긋SPC삼립', '재출시', '판매량', '대외변수', '부담', '오픈', '선택', '쫄깃한', '사업다각화', '종합식품기업', '바캉스', '디저트', '선임SPC삼립', '선임', '달성', '국고처', '육가공', '채용', '소식', '양산빵', '커리', '추억', '정성', '기대', '삼립', '제품', '개월', '건강', '샐러드', '식빵', '온라인', '명물', '분기누적', '이익', '강세', '하이투자증권', '외국', '전망', '신고가SPC삼립', '키움증권', '요거트', 'ESG경영', '유통', '스티커', '유재석', '경영', '조원', '호조', '황종현', '띠부씰', '파리바게뜨', '히트상품', '특집', '종목상담', '경제계', '성장', '목표SPC삼립', '인증', '카페스노우', '강화', '겨울', '이석환', '식품', '독점', '판매SPC삼립', '박차', '돌파SPC삼립', '기업사람', '쿠팡', '코스피', '매출액', '토픽', '음식료', '테마', '순매수행진', '대량', '증진', '체력', '신고', '라인업', '달성년', '영업익', '올해', '메뉴', '효과', '주목', '식자재유통', '통밀', '이명구', '사장', '선물', '베이커', 'FoodDiningSPC삼립', '먹거리', '대신증권', '부합', '초바니', '스프링', '밀박스', '열풍', '가정간편식', '신제품', '장중수급포착', '기대치', '스톤밀', '제빵왕', '간편식', '대표이사', '국내', '에그슬럿', '영업이익', '상승', '볼샐러드', '출시SPC삼립', '대표', '피그인더가든', '시티델리', '기관', '포켓몬', '일주일', '호빵', '경신', '사업', '선물세트', '론칭', '브랜드', '인기', '그릭슈바', '삼립호빵', '미각제빵소', '역대', '판매', '매출', '만개', '실적', '브리핑SPC삼립', '출시', '목표', '포켓몬빵', 'SPC삼립'])"
      ]
     },
     "execution_count": 42,
     "metadata": {},
     "output_type": "execute_result"
    }
   ],
   "source": [
    "kw_dict_cj = total_kw_dict(df_news=df_n)\n",
    "kw_dict_cj.keys()"
   ]
  },
  {
   "cell_type": "code",
   "execution_count": 43,
   "id": "092646b8",
   "metadata": {
    "ExecuteTime": {
     "end_time": "2022-06-09T08:03:16.505378Z",
     "start_time": "2022-06-09T08:03:16.496406Z"
    }
   },
   "outputs": [
    {
     "data": {
      "text/plain": [
       "238"
      ]
     },
     "execution_count": 43,
     "metadata": {},
     "output_type": "execute_result"
    }
   ],
   "source": [
    "len(kw_dict_cj.keys())"
   ]
  },
  {
   "cell_type": "markdown",
   "id": "e02b148f",
   "metadata": {},
   "source": [
    "# 전체구간 키워드 빈도 데이터: total_kw_count_data()"
   ]
  },
  {
   "cell_type": "code",
   "execution_count": 100,
   "id": "f2e4ac2f",
   "metadata": {
    "ExecuteTime": {
     "end_time": "2022-06-10T08:25:07.812653Z",
     "start_time": "2022-06-10T08:25:07.806670Z"
    }
   },
   "outputs": [],
   "source": [
    "df_keyword = pd.DataFrame()\n",
    "keyword_lst = list(kw_dict1.keys())\n",
    "\n",
    "for keyword in keyword_lst:\n",
    "    # 출현 날짜\n",
    "    rp_date = []\n",
    "    # 날짜당 출현 횟수\n",
    "    cnt_list = []\n",
    "\n",
    "    df_rp = df_n['뉴스'].loc[bgn_date:end_date]\n",
    "\n",
    "    for i in df_rp.index:\n",
    "        # 날짜\n",
    "        rp_date.append(i)\n",
    "        # 횟수\n",
    "        cnt = 0\n",
    "        tokens = df_n['뉴스'].loc[i]\n",
    "        for token in tokens:\n",
    "            if keyword in token:\n",
    "                cnt +=1\n",
    "\n",
    "        cnt_list.append(cnt)\n",
    "\n",
    "    df_rp = pd.DataFrame({'날짜':rp_date, '출현횟수':cnt_list})\n",
    "    df_rp = df_rp.set_index('날짜')\n",
    "    df_keyword = pd.concat([df_keyword,df_rp],axis=1)\n",
    "    \n",
    "df_keyword.columns = keyword_lst\n",
    "df_keyword"
   ]
  },
  {
   "cell_type": "code",
   "execution_count": 102,
   "id": "e26a38b3",
   "metadata": {
    "ExecuteTime": {
     "end_time": "2022-06-10T08:25:59.914763Z",
     "start_time": "2022-06-10T08:25:59.898592Z"
    }
   },
   "outputs": [],
   "source": [
    "def total_kw_count_data(kw_dict, df_news, bgn_date = '2016-01-01',end_date = '2022-03-31'):\n",
    "    \n",
    "    df_keyword = pd.DataFrame()\n",
    "    keyword_lst = list(kw_dict.keys())\n",
    "\n",
    "    for keyword in keyword_lst:\n",
    "        # 출현 날짜\n",
    "        rp_date = []\n",
    "        # 날짜당 출현 횟수\n",
    "        cnt_list = []\n",
    "\n",
    "        df_rp = df_news['뉴스'].loc[bgn_date:end_date]\n",
    "\n",
    "        for i in df_rp.index:\n",
    "            # 날짜\n",
    "            rp_date.append(i)\n",
    "            # 횟수\n",
    "            cnt = 0\n",
    "            tokens = df_n['뉴스'].loc[i]\n",
    "            for token in tokens:\n",
    "                if keyword in token:\n",
    "                    cnt +=1\n",
    "\n",
    "            cnt_list.append(cnt)\n",
    "\n",
    "        df_rp = pd.DataFrame({'날짜':rp_date, '출현횟수':cnt_list})\n",
    "        df_rp = df_rp.set_index('날짜')\n",
    "        df_keyword = pd.concat([df_keyword,df_rp],axis=1)\n",
    "    \n",
    "    df_keyword.columns = keyword_lst\n",
    "        \n",
    "    return df_keyword"
   ]
  },
  {
   "cell_type": "code",
   "execution_count": 37,
   "id": "ea6f5bd7",
   "metadata": {
    "ExecuteTime": {
     "end_time": "2022-06-09T07:52:25.616011Z",
     "start_time": "2022-06-09T07:52:15.767309Z"
    }
   },
   "outputs": [
    {
     "name": "stdout",
     "output_type": "stream",
     "text": [
      "Wall time: 9.82 s\n"
     ]
    },
    {
     "data": {
      "text/html": [
       "<div>\n",
       "<style scoped>\n",
       "    .dataframe tbody tr th:only-of-type {\n",
       "        vertical-align: middle;\n",
       "    }\n",
       "\n",
       "    .dataframe tbody tr th {\n",
       "        vertical-align: top;\n",
       "    }\n",
       "\n",
       "    .dataframe thead th {\n",
       "        text-align: right;\n",
       "    }\n",
       "</style>\n",
       "<table border=\"1\" class=\"dataframe\">\n",
       "  <thead>\n",
       "    <tr style=\"text-align: right;\">\n",
       "      <th></th>\n",
       "      <th>스마트폰</th>\n",
       "      <th>태블릿PC</th>\n",
       "      <th>시작</th>\n",
       "      <th>신규</th>\n",
       "      <th>성공</th>\n",
       "      <th>자존심</th>\n",
       "      <th>수익성</th>\n",
       "      <th>서비스업업종</th>\n",
       "      <th>통합</th>\n",
       "      <th>등락폭</th>\n",
       "      <th>...</th>\n",
       "      <th>매매동향</th>\n",
       "      <th>렌탈</th>\n",
       "      <th>외국</th>\n",
       "      <th>단기중기</th>\n",
       "      <th>자회사</th>\n",
       "      <th>회사채</th>\n",
       "      <th>기관</th>\n",
       "      <th>도로와철도운송</th>\n",
       "      <th>상승</th>\n",
       "      <th>상승률</th>\n",
       "    </tr>\n",
       "    <tr>\n",
       "      <th>날짜</th>\n",
       "      <th></th>\n",
       "      <th></th>\n",
       "      <th></th>\n",
       "      <th></th>\n",
       "      <th></th>\n",
       "      <th></th>\n",
       "      <th></th>\n",
       "      <th></th>\n",
       "      <th></th>\n",
       "      <th></th>\n",
       "      <th></th>\n",
       "      <th></th>\n",
       "      <th></th>\n",
       "      <th></th>\n",
       "      <th></th>\n",
       "      <th></th>\n",
       "      <th></th>\n",
       "      <th></th>\n",
       "      <th></th>\n",
       "      <th></th>\n",
       "      <th></th>\n",
       "    </tr>\n",
       "  </thead>\n",
       "  <tbody>\n",
       "    <tr>\n",
       "      <th>2016-01-01</th>\n",
       "      <td>0</td>\n",
       "      <td>0</td>\n",
       "      <td>0</td>\n",
       "      <td>0</td>\n",
       "      <td>0</td>\n",
       "      <td>0</td>\n",
       "      <td>0</td>\n",
       "      <td>0</td>\n",
       "      <td>0</td>\n",
       "      <td>0</td>\n",
       "      <td>...</td>\n",
       "      <td>0</td>\n",
       "      <td>0</td>\n",
       "      <td>0</td>\n",
       "      <td>0</td>\n",
       "      <td>0</td>\n",
       "      <td>0</td>\n",
       "      <td>0</td>\n",
       "      <td>0</td>\n",
       "      <td>0</td>\n",
       "      <td>0</td>\n",
       "    </tr>\n",
       "    <tr>\n",
       "      <th>2016-01-02</th>\n",
       "      <td>0</td>\n",
       "      <td>0</td>\n",
       "      <td>0</td>\n",
       "      <td>0</td>\n",
       "      <td>0</td>\n",
       "      <td>0</td>\n",
       "      <td>0</td>\n",
       "      <td>0</td>\n",
       "      <td>0</td>\n",
       "      <td>0</td>\n",
       "      <td>...</td>\n",
       "      <td>0</td>\n",
       "      <td>0</td>\n",
       "      <td>0</td>\n",
       "      <td>0</td>\n",
       "      <td>0</td>\n",
       "      <td>0</td>\n",
       "      <td>0</td>\n",
       "      <td>0</td>\n",
       "      <td>0</td>\n",
       "      <td>0</td>\n",
       "    </tr>\n",
       "    <tr>\n",
       "      <th>2016-01-03</th>\n",
       "      <td>0</td>\n",
       "      <td>0</td>\n",
       "      <td>0</td>\n",
       "      <td>0</td>\n",
       "      <td>0</td>\n",
       "      <td>0</td>\n",
       "      <td>0</td>\n",
       "      <td>0</td>\n",
       "      <td>0</td>\n",
       "      <td>0</td>\n",
       "      <td>...</td>\n",
       "      <td>0</td>\n",
       "      <td>0</td>\n",
       "      <td>0</td>\n",
       "      <td>0</td>\n",
       "      <td>0</td>\n",
       "      <td>0</td>\n",
       "      <td>0</td>\n",
       "      <td>0</td>\n",
       "      <td>0</td>\n",
       "      <td>0</td>\n",
       "    </tr>\n",
       "    <tr>\n",
       "      <th>2016-01-04</th>\n",
       "      <td>0</td>\n",
       "      <td>0</td>\n",
       "      <td>0</td>\n",
       "      <td>0</td>\n",
       "      <td>0</td>\n",
       "      <td>0</td>\n",
       "      <td>0</td>\n",
       "      <td>0</td>\n",
       "      <td>0</td>\n",
       "      <td>0</td>\n",
       "      <td>...</td>\n",
       "      <td>0</td>\n",
       "      <td>0</td>\n",
       "      <td>0</td>\n",
       "      <td>0</td>\n",
       "      <td>0</td>\n",
       "      <td>0</td>\n",
       "      <td>0</td>\n",
       "      <td>0</td>\n",
       "      <td>0</td>\n",
       "      <td>0</td>\n",
       "    </tr>\n",
       "    <tr>\n",
       "      <th>2016-01-05</th>\n",
       "      <td>1</td>\n",
       "      <td>1</td>\n",
       "      <td>1</td>\n",
       "      <td>0</td>\n",
       "      <td>0</td>\n",
       "      <td>0</td>\n",
       "      <td>0</td>\n",
       "      <td>0</td>\n",
       "      <td>0</td>\n",
       "      <td>0</td>\n",
       "      <td>...</td>\n",
       "      <td>0</td>\n",
       "      <td>1</td>\n",
       "      <td>0</td>\n",
       "      <td>0</td>\n",
       "      <td>0</td>\n",
       "      <td>0</td>\n",
       "      <td>0</td>\n",
       "      <td>0</td>\n",
       "      <td>0</td>\n",
       "      <td>0</td>\n",
       "    </tr>\n",
       "    <tr>\n",
       "      <th>...</th>\n",
       "      <td>...</td>\n",
       "      <td>...</td>\n",
       "      <td>...</td>\n",
       "      <td>...</td>\n",
       "      <td>...</td>\n",
       "      <td>...</td>\n",
       "      <td>...</td>\n",
       "      <td>...</td>\n",
       "      <td>...</td>\n",
       "      <td>...</td>\n",
       "      <td>...</td>\n",
       "      <td>...</td>\n",
       "      <td>...</td>\n",
       "      <td>...</td>\n",
       "      <td>...</td>\n",
       "      <td>...</td>\n",
       "      <td>...</td>\n",
       "      <td>...</td>\n",
       "      <td>...</td>\n",
       "      <td>...</td>\n",
       "      <td>...</td>\n",
       "    </tr>\n",
       "    <tr>\n",
       "      <th>2022-03-27</th>\n",
       "      <td>0</td>\n",
       "      <td>0</td>\n",
       "      <td>0</td>\n",
       "      <td>0</td>\n",
       "      <td>0</td>\n",
       "      <td>0</td>\n",
       "      <td>0</td>\n",
       "      <td>0</td>\n",
       "      <td>0</td>\n",
       "      <td>0</td>\n",
       "      <td>...</td>\n",
       "      <td>0</td>\n",
       "      <td>0</td>\n",
       "      <td>0</td>\n",
       "      <td>0</td>\n",
       "      <td>0</td>\n",
       "      <td>0</td>\n",
       "      <td>0</td>\n",
       "      <td>0</td>\n",
       "      <td>0</td>\n",
       "      <td>0</td>\n",
       "    </tr>\n",
       "    <tr>\n",
       "      <th>2022-03-28</th>\n",
       "      <td>0</td>\n",
       "      <td>0</td>\n",
       "      <td>0</td>\n",
       "      <td>0</td>\n",
       "      <td>0</td>\n",
       "      <td>0</td>\n",
       "      <td>0</td>\n",
       "      <td>0</td>\n",
       "      <td>0</td>\n",
       "      <td>0</td>\n",
       "      <td>...</td>\n",
       "      <td>0</td>\n",
       "      <td>0</td>\n",
       "      <td>0</td>\n",
       "      <td>0</td>\n",
       "      <td>0</td>\n",
       "      <td>0</td>\n",
       "      <td>0</td>\n",
       "      <td>0</td>\n",
       "      <td>0</td>\n",
       "      <td>0</td>\n",
       "    </tr>\n",
       "    <tr>\n",
       "      <th>2022-03-29</th>\n",
       "      <td>0</td>\n",
       "      <td>0</td>\n",
       "      <td>0</td>\n",
       "      <td>0</td>\n",
       "      <td>0</td>\n",
       "      <td>0</td>\n",
       "      <td>0</td>\n",
       "      <td>0</td>\n",
       "      <td>0</td>\n",
       "      <td>0</td>\n",
       "      <td>...</td>\n",
       "      <td>0</td>\n",
       "      <td>0</td>\n",
       "      <td>0</td>\n",
       "      <td>0</td>\n",
       "      <td>0</td>\n",
       "      <td>0</td>\n",
       "      <td>0</td>\n",
       "      <td>0</td>\n",
       "      <td>0</td>\n",
       "      <td>0</td>\n",
       "    </tr>\n",
       "    <tr>\n",
       "      <th>2022-03-30</th>\n",
       "      <td>0</td>\n",
       "      <td>0</td>\n",
       "      <td>0</td>\n",
       "      <td>0</td>\n",
       "      <td>0</td>\n",
       "      <td>0</td>\n",
       "      <td>0</td>\n",
       "      <td>0</td>\n",
       "      <td>0</td>\n",
       "      <td>0</td>\n",
       "      <td>...</td>\n",
       "      <td>0</td>\n",
       "      <td>0</td>\n",
       "      <td>0</td>\n",
       "      <td>0</td>\n",
       "      <td>0</td>\n",
       "      <td>0</td>\n",
       "      <td>0</td>\n",
       "      <td>0</td>\n",
       "      <td>0</td>\n",
       "      <td>0</td>\n",
       "    </tr>\n",
       "    <tr>\n",
       "      <th>2022-03-31</th>\n",
       "      <td>0</td>\n",
       "      <td>0</td>\n",
       "      <td>0</td>\n",
       "      <td>0</td>\n",
       "      <td>0</td>\n",
       "      <td>0</td>\n",
       "      <td>0</td>\n",
       "      <td>0</td>\n",
       "      <td>0</td>\n",
       "      <td>0</td>\n",
       "      <td>...</td>\n",
       "      <td>0</td>\n",
       "      <td>0</td>\n",
       "      <td>0</td>\n",
       "      <td>0</td>\n",
       "      <td>0</td>\n",
       "      <td>0</td>\n",
       "      <td>0</td>\n",
       "      <td>0</td>\n",
       "      <td>0</td>\n",
       "      <td>0</td>\n",
       "    </tr>\n",
       "  </tbody>\n",
       "</table>\n",
       "<p>2282 rows × 196 columns</p>\n",
       "</div>"
      ],
      "text/plain": [
       "            스마트폰  태블릿PC  시작  신규  성공  자존심  수익성  서비스업업종  통합  등락폭  ...  매매동향  렌탈  \\\n",
       "날짜                                                              ...             \n",
       "2016-01-01     0      0   0   0   0    0    0       0   0    0  ...     0   0   \n",
       "2016-01-02     0      0   0   0   0    0    0       0   0    0  ...     0   0   \n",
       "2016-01-03     0      0   0   0   0    0    0       0   0    0  ...     0   0   \n",
       "2016-01-04     0      0   0   0   0    0    0       0   0    0  ...     0   0   \n",
       "2016-01-05     1      1   1   0   0    0    0       0   0    0  ...     0   1   \n",
       "...          ...    ...  ..  ..  ..  ...  ...     ...  ..  ...  ...   ...  ..   \n",
       "2022-03-27     0      0   0   0   0    0    0       0   0    0  ...     0   0   \n",
       "2022-03-28     0      0   0   0   0    0    0       0   0    0  ...     0   0   \n",
       "2022-03-29     0      0   0   0   0    0    0       0   0    0  ...     0   0   \n",
       "2022-03-30     0      0   0   0   0    0    0       0   0    0  ...     0   0   \n",
       "2022-03-31     0      0   0   0   0    0    0       0   0    0  ...     0   0   \n",
       "\n",
       "            외국  단기중기  자회사  회사채  기관  도로와철도운송  상승  상승률  \n",
       "날짜                                                    \n",
       "2016-01-01   0     0    0    0   0        0   0    0  \n",
       "2016-01-02   0     0    0    0   0        0   0    0  \n",
       "2016-01-03   0     0    0    0   0        0   0    0  \n",
       "2016-01-04   0     0    0    0   0        0   0    0  \n",
       "2016-01-05   0     0    0    0   0        0   0    0  \n",
       "...         ..   ...  ...  ...  ..      ...  ..  ...  \n",
       "2022-03-27   0     0    0    0   0        0   0    0  \n",
       "2022-03-28   0     0    0    0   0        0   0    0  \n",
       "2022-03-29   0     0    0    0   0        0   0    0  \n",
       "2022-03-30   0     0    0    0   0        0   0    0  \n",
       "2022-03-31   0     0    0    0   0        0   0    0  \n",
       "\n",
       "[2282 rows x 196 columns]"
      ]
     },
     "execution_count": 37,
     "metadata": {},
     "output_type": "execute_result"
    }
   ],
   "source": [
    "%%time\n",
    "total_kw_count_data(kw_dict=kw_dict1,df_news=df_n)"
   ]
  },
  {
   "cell_type": "code",
   "execution_count": null,
   "id": "e415c24b",
   "metadata": {},
   "outputs": [],
   "source": []
  },
  {
   "cell_type": "markdown",
   "id": "a22240bb",
   "metadata": {},
   "source": [
    "# (완성) 모든파일 키워드 빈도데이터"
   ]
  },
  {
   "cell_type": "markdown",
   "id": "8f81ba25",
   "metadata": {},
   "source": [
    "## (1)뉴스"
   ]
  },
  {
   "cell_type": "code",
   "execution_count": 52,
   "id": "e486e62d",
   "metadata": {
    "ExecuteTime": {
     "end_time": "2022-06-10T05:33:29.818197Z",
     "start_time": "2022-06-10T05:33:29.807227Z"
    }
   },
   "outputs": [],
   "source": [
    "import pandas as pd\n",
    "import numpy as np\n",
    "import matplotlib.pyplot as plt\n",
    "import seaborn as sns\n",
    "import re\n",
    "import os\n",
    "\n",
    "# 한글 폰트 사용을 위해서 세팅\n",
    "from matplotlib import font_manager, rc\n",
    "font_path = \"C:/Windows/Fonts/malgun.ttf\"\n",
    "font = font_manager.FontProperties(fname=font_path).get_name()\n",
    "rc('font', family=font)\n",
    "\n",
    "import matplotlib.ticker as ticker"
   ]
  },
  {
   "cell_type": "code",
   "execution_count": 103,
   "id": "b9369a8e",
   "metadata": {
    "ExecuteTime": {
     "end_time": "2022-06-10T08:26:09.055016Z",
     "start_time": "2022-06-10T08:26:09.019117Z"
    }
   },
   "outputs": [
    {
     "data": {
      "text/html": [
       "<div>\n",
       "<style scoped>\n",
       "    .dataframe tbody tr th:only-of-type {\n",
       "        vertical-align: middle;\n",
       "    }\n",
       "\n",
       "    .dataframe tbody tr th {\n",
       "        vertical-align: top;\n",
       "    }\n",
       "\n",
       "    .dataframe thead th {\n",
       "        text-align: right;\n",
       "    }\n",
       "</style>\n",
       "<table border=\"1\" class=\"dataframe\">\n",
       "  <thead>\n",
       "    <tr style=\"text-align: right;\">\n",
       "      <th></th>\n",
       "      <th>뉴스제목</th>\n",
       "      <th>뉴스</th>\n",
       "    </tr>\n",
       "  </thead>\n",
       "  <tbody>\n",
       "    <tr>\n",
       "      <th>2016-01-01</th>\n",
       "      <td>NaN</td>\n",
       "      <td>[]</td>\n",
       "    </tr>\n",
       "    <tr>\n",
       "      <th>2016-01-02</th>\n",
       "      <td>NaN</td>\n",
       "      <td>[]</td>\n",
       "    </tr>\n",
       "    <tr>\n",
       "      <th>2016-01-03</th>\n",
       "      <td>NaN</td>\n",
       "      <td>[]</td>\n",
       "    </tr>\n",
       "    <tr>\n",
       "      <th>2016-01-04</th>\n",
       "      <td>AJ네트웍스, SKB 등에업고 '고리사채급 위약금 폭탄'</td>\n",
       "      <td>[AJ네트웍스, 등에업, 고리사채급, 위약금, 폭탄]</td>\n",
       "    </tr>\n",
       "    <tr>\n",
       "      <th>2016-01-05</th>\n",
       "      <td>AJ네트웍스, 스마트폰, 태블릿PC 렌탈사업 시작</td>\n",
       "      <td>[AJ네트웍스, 스마트폰, 태블릿PC, 렌탈사업, 시작]</td>\n",
       "    </tr>\n",
       "  </tbody>\n",
       "</table>\n",
       "</div>"
      ],
      "text/plain": [
       "                                       뉴스제목                               뉴스\n",
       "2016-01-01                              NaN                               []\n",
       "2016-01-02                              NaN                               []\n",
       "2016-01-03                              NaN                               []\n",
       "2016-01-04  AJ네트웍스, SKB 등에업고 '고리사채급 위약금 폭탄'    [AJ네트웍스, 등에업, 고리사채급, 위약금, 폭탄]\n",
       "2016-01-05      AJ네트웍스, 스마트폰, 태블릿PC 렌탈사업 시작  [AJ네트웍스, 스마트폰, 태블릿PC, 렌탈사업, 시작]"
      ]
     },
     "execution_count": 103,
     "metadata": {},
     "output_type": "execute_result"
    }
   ],
   "source": [
    "# 불용어 모음파일\n",
    "df_nsw = pd.read_csv('./data/뉴스불용어.csv',index_col=1)\n",
    "df_nsw.reset_index(drop=True, inplace=True)\n",
    "\n",
    "df_n = pd.read_csv('./data/개별기업뉴스_자연어처리/AJ네트웍스.csv',index_col=0)\n",
    "df_n['뉴스'] = df_n['뉴스'].apply(lambda x : eval(x))\n",
    "df_n.index = pd.to_datetime(df_n.index)\n",
    "df_n.head()"
   ]
  },
  {
   "cell_type": "markdown",
   "id": "458072ac",
   "metadata": {},
   "source": [
    "## (완성) 뉴스"
   ]
  },
  {
   "cell_type": "code",
   "execution_count": 105,
   "id": "6563ae42",
   "metadata": {
    "ExecuteTime": {
     "end_time": "2022-06-10T09:36:55.131284Z",
     "start_time": "2022-06-10T08:29:07.216733Z"
    }
   },
   "outputs": [],
   "source": [
    "# 불용어 모음파일\n",
    "df_nsw = pd.read_csv('./data/뉴스불용어.csv',index_col=1)\n",
    "df_nsw.reset_index(drop=True, inplace=True)\n",
    "\n",
    "path = './data/개별기업뉴스_자연어처리/'\n",
    "\n",
    "for file in file_list[:]:\n",
    "    corp_name = file[:-4]\n",
    "    file_path = os.path.join(path,file)\n",
    "    \n",
    "    df_n = pd.read_csv(file_path,index_col=0)\n",
    "    df_n['뉴스'] = df_n['뉴스'].apply(lambda x : eval(x))\n",
    "    df_n.index = pd.to_datetime(df_n.index)\n",
    "    \n",
    "    # 1.키워드 딕셔너리\n",
    "    kw_dict = total_kw_dict(df_news=df_n,corp_name=corp_name)\n",
    "    # 2.키워드 빈도수 데이터\n",
    "    df_count = total_kw_count_data(kw_dict= kw_dict, df_news=df_n)\n",
    "    \n",
    "    df_count.to_csv('./data/데이터_뉴스키워드빈도/{}.csv'.format(corp_name))\n",
    "    "
   ]
  },
  {
   "cell_type": "code",
   "execution_count": null,
   "id": "59214c32",
   "metadata": {},
   "outputs": [],
   "source": []
  }
 ],
 "metadata": {
  "kernelspec": {
   "display_name": "Python 3 (ipykernel)",
   "language": "python",
   "name": "python3"
  },
  "language_info": {
   "codemirror_mode": {
    "name": "ipython",
    "version": 3
   },
   "file_extension": ".py",
   "mimetype": "text/x-python",
   "name": "python",
   "nbconvert_exporter": "python",
   "pygments_lexer": "ipython3",
   "version": "3.9.7"
  },
  "toc": {
   "base_numbering": 1,
   "nav_menu": {},
   "number_sections": true,
   "sideBar": true,
   "skip_h1_title": false,
   "title_cell": "Table of Contents",
   "title_sidebar": "Contents",
   "toc_cell": false,
   "toc_position": {
    "height": "calc(100% - 180px)",
    "left": "10px",
    "top": "150px",
    "width": "384px"
   },
   "toc_section_display": true,
   "toc_window_display": true
  },
  "varInspector": {
   "cols": {
    "lenName": 16,
    "lenType": 16,
    "lenVar": 40
   },
   "kernels_config": {
    "python": {
     "delete_cmd_postfix": "",
     "delete_cmd_prefix": "del ",
     "library": "var_list.py",
     "varRefreshCmd": "print(var_dic_list())"
    },
    "r": {
     "delete_cmd_postfix": ") ",
     "delete_cmd_prefix": "rm(",
     "library": "var_list.r",
     "varRefreshCmd": "cat(var_dic_list()) "
    }
   },
   "types_to_exclude": [
    "module",
    "function",
    "builtin_function_or_method",
    "instance",
    "_Feature"
   ],
   "window_display": false
  }
 },
 "nbformat": 4,
 "nbformat_minor": 5
}
