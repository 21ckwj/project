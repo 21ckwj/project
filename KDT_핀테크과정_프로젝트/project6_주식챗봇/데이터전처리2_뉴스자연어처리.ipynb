{
 "cells": [
  {
   "cell_type": "markdown",
   "id": "1fe202bd",
   "metadata": {},
   "source": [
    "# 뉴스기사 전처리 후 저장하기"
   ]
  },
  {
   "cell_type": "code",
   "execution_count": 167,
   "id": "39999621",
   "metadata": {
    "ExecuteTime": {
     "end_time": "2022-06-09T22:23:46.055218Z",
     "start_time": "2022-06-09T22:23:46.033249Z"
    }
   },
   "outputs": [],
   "source": [
    "import pandas as pd\n",
    "import numpy as np\n",
    "import matplotlib.pyplot as plt\n",
    "import seaborn as sns\n",
    "import os\n",
    "\n",
    "# 한글 폰트 사용을 위해서 세팅\n",
    "from matplotlib import font_manager, rc\n",
    "font_path = \"C:/Windows/Fonts/malgun.ttf\"\n",
    "font = font_manager.FontProperties(fname=font_path).get_name()\n",
    "rc('font', family=font)"
   ]
  },
  {
   "cell_type": "code",
   "execution_count": 168,
   "id": "2d2ea82b",
   "metadata": {
    "ExecuteTime": {
     "end_time": "2022-06-09T22:23:46.322206Z",
     "start_time": "2022-06-09T22:23:46.316192Z"
    }
   },
   "outputs": [],
   "source": [
    "import re\n",
    "from pykospacing import Spacing\n",
    "from konlpy.tag import Hannanum,Kkma,Komoran,Okt"
   ]
  },
  {
   "cell_type": "code",
   "execution_count": 169,
   "id": "a0241738",
   "metadata": {
    "ExecuteTime": {
     "end_time": "2022-06-09T22:23:46.651641Z",
     "start_time": "2022-06-09T22:23:46.638676Z"
    }
   },
   "outputs": [],
   "source": [
    "import FinanceDataReader as fdr"
   ]
  },
  {
   "cell_type": "code",
   "execution_count": 170,
   "id": "6eda8bbe",
   "metadata": {
    "ExecuteTime": {
     "end_time": "2022-06-09T22:23:47.200837Z",
     "start_time": "2022-06-09T22:23:47.185860Z"
    }
   },
   "outputs": [],
   "source": [
    "# 모든 날짜 채워주기 (2016-01-01 ~ 2022-03-31)\n",
    "def fill_date(df):\n",
    "    \n",
    "    # 날짜로 묶기\n",
    "    df = df.groupby('날짜')['뉴스제목'].sum().to_frame()\n",
    "    \n",
    "    # 모든 날짜 채우기\n",
    "    idx = pd.date_range('2016-01-01','2022-03-31')\n",
    "    df.index = pd.DatetimeIndex(df.index)\n",
    "    df = df.reindex(idx, fill_value= '')\n",
    "    \n",
    "    return df"
   ]
  },
  {
   "cell_type": "code",
   "execution_count": 171,
   "id": "edc12dcd",
   "metadata": {
    "ExecuteTime": {
     "end_time": "2022-06-09T22:23:48.652421Z",
     "start_time": "2022-06-09T22:23:48.646409Z"
    }
   },
   "outputs": [],
   "source": [
    "# 한글,영어만 남기기\n",
    "def clean_text(docs):\n",
    "    docs = re.sub('[^가-힣A-Za-z ]', '', docs)\n",
    "    docs = re.sub('\\s+', ' ', docs)\n",
    "    docs = '' if docs== ' ' else docs\n",
    "    return docs"
   ]
  },
  {
   "cell_type": "code",
   "execution_count": 172,
   "id": "e83e331b",
   "metadata": {
    "ExecuteTime": {
     "end_time": "2022-06-09T22:23:49.460250Z",
     "start_time": "2022-06-09T22:23:49.454260Z"
    }
   },
   "outputs": [],
   "source": [
    "# 띄어쓰기\n",
    "def spacing_text(docs):\n",
    "    spacing = Spacing()\n",
    "    docs = spacing(docs)\n",
    "    return docs"
   ]
  },
  {
   "cell_type": "code",
   "execution_count": 173,
   "id": "f1ce6633",
   "metadata": {
    "ExecuteTime": {
     "end_time": "2022-06-09T22:23:50.553637Z",
     "start_time": "2022-06-09T22:23:50.544487Z"
    }
   },
   "outputs": [],
   "source": [
    "# 명사 추출\n",
    "def han_noun(docs):\n",
    "    han = Hannanum()\n",
    "    docs = han.nouns(docs)\n",
    "    return docs"
   ]
  },
  {
   "cell_type": "code",
   "execution_count": 174,
   "id": "844af659",
   "metadata": {
    "ExecuteTime": {
     "end_time": "2022-06-09T22:23:51.302100Z",
     "start_time": "2022-06-09T22:23:51.278090Z"
    }
   },
   "outputs": [],
   "source": [
    "# 불용어 제거+ 한글자 이상만 남기기\n",
    "stw_list = pd.read_csv('./data/stopwords-ko.txt')\n",
    "def remove_stwords(docs):\n",
    "    docs = [w for w in docs if not w in stw_list]\n",
    "    docs = '' if docs== ' ' else docs\n",
    "    docs = [w for w in docs if len(w)>1]\n",
    "    return docs"
   ]
  },
  {
   "cell_type": "code",
   "execution_count": null,
   "id": "119f1573",
   "metadata": {},
   "outputs": [],
   "source": []
  },
  {
   "cell_type": "code",
   "execution_count": 25,
   "id": "e7c2068b",
   "metadata": {
    "ExecuteTime": {
     "end_time": "2022-06-06T06:22:29.149575Z",
     "start_time": "2022-06-06T06:22:29.120890Z"
    }
   },
   "outputs": [
    {
     "name": "stdout",
     "output_type": "stream",
     "text": [
      "907\n"
     ]
    },
    {
     "data": {
      "text/html": [
       "<div>\n",
       "<style scoped>\n",
       "    .dataframe tbody tr th:only-of-type {\n",
       "        vertical-align: middle;\n",
       "    }\n",
       "\n",
       "    .dataframe tbody tr th {\n",
       "        vertical-align: top;\n",
       "    }\n",
       "\n",
       "    .dataframe thead th {\n",
       "        text-align: right;\n",
       "    }\n",
       "</style>\n",
       "<table border=\"1\" class=\"dataframe\">\n",
       "  <thead>\n",
       "    <tr style=\"text-align: right;\">\n",
       "      <th></th>\n",
       "      <th>날짜</th>\n",
       "      <th>뉴스제목</th>\n",
       "      <th>뉴스요약</th>\n",
       "    </tr>\n",
       "  </thead>\n",
       "  <tbody>\n",
       "    <tr>\n",
       "      <th>1313</th>\n",
       "      <td>2016-01-04</td>\n",
       "      <td>AJ네트웍스, SKB 등에업고 '고리사채급 위약금 폭탄'</td>\n",
       "      <td>AJ네트웍스가 SK브로드밴드를 통해 진행중인 '스마트렌탈'의 위약금 규정 및 취급상...</td>\n",
       "    </tr>\n",
       "    <tr>\n",
       "      <th>1312</th>\n",
       "      <td>2016-01-05</td>\n",
       "      <td>AJ네트웍스, 스마트폰, 태블릿PC 렌탈사업 시작</td>\n",
       "      <td>국내 IT기기 렌탈의 선두주자인 AJ네트웍스에서 Mobile Device(스마트폰,...</td>\n",
       "    </tr>\n",
       "    <tr>\n",
       "      <th>1311</th>\n",
       "      <td>2016-01-06</td>\n",
       "      <td>AJ네트웍스, 스마트폰, 태블릿PC 등 Mobile Device 렌탈 사업 시작</td>\n",
       "      <td>국내 IT기기 렌탈의 선두주자인 AJ네트웍스에서 Mobile Device(스마트폰,...</td>\n",
       "    </tr>\n",
       "    <tr>\n",
       "      <th>1332</th>\n",
       "      <td>2016-01-13</td>\n",
       "      <td>AJ네트웍스, 파렛트및 고소장비 렌탈 신규 서비스 브랜드 런칭</td>\n",
       "      <td>AJ네트웍스(사장 반채운)가 파렛트와 고소장비 렌탈 부문의 신규 서비스 브랜드를 런...</td>\n",
       "    </tr>\n",
       "    <tr>\n",
       "      <th>1335</th>\n",
       "      <td>2016-01-22</td>\n",
       "      <td>대상·AJ네트웍스 등 비우량채도 잇달아 발행 성공</td>\n",
       "      <td>신용등급이 BBB+인 AJ네트웍스도 회사채 발행을 위해 지난 20일 투자자들을 대상...</td>\n",
       "    </tr>\n",
       "  </tbody>\n",
       "</table>\n",
       "</div>"
      ],
      "text/plain": [
       "              날짜                                          뉴스제목  \\\n",
       "1313  2016-01-04               AJ네트웍스, SKB 등에업고 '고리사채급 위약금 폭탄'   \n",
       "1312  2016-01-05                   AJ네트웍스, 스마트폰, 태블릿PC 렌탈사업 시작   \n",
       "1311  2016-01-06  AJ네트웍스, 스마트폰, 태블릿PC 등 Mobile Device 렌탈 사업 시작   \n",
       "1332  2016-01-13            AJ네트웍스, 파렛트및 고소장비 렌탈 신규 서비스 브랜드 런칭   \n",
       "1335  2016-01-22                   대상·AJ네트웍스 등 비우량채도 잇달아 발행 성공   \n",
       "\n",
       "                                                   뉴스요약  \n",
       "1313  AJ네트웍스가 SK브로드밴드를 통해 진행중인 '스마트렌탈'의 위약금 규정 및 취급상...  \n",
       "1312  국내 IT기기 렌탈의 선두주자인 AJ네트웍스에서 Mobile Device(스마트폰,...  \n",
       "1311  국내 IT기기 렌탈의 선두주자인 AJ네트웍스에서 Mobile Device(스마트폰,...  \n",
       "1332  AJ네트웍스(사장 반채운)가 파렛트와 고소장비 렌탈 부문의 신규 서비스 브랜드를 런...  \n",
       "1335  신용등급이 BBB+인 AJ네트웍스도 회사채 발행을 위해 지난 20일 투자자들을 대상...  "
      ]
     },
     "execution_count": 25,
     "metadata": {},
     "output_type": "execute_result"
    }
   ],
   "source": [
    "df = pd.read_csv('./data/개별기업뉴스_전처리/AJ네트웍스.csv',index_col=0)\n",
    "print(len(df))\n",
    "df.head()"
   ]
  },
  {
   "cell_type": "code",
   "execution_count": 27,
   "id": "4bc507fa",
   "metadata": {
    "ExecuteTime": {
     "end_time": "2022-06-06T06:22:38.119432Z",
     "start_time": "2022-06-06T06:22:38.107493Z"
    }
   },
   "outputs": [
    {
     "data": {
      "text/html": [
       "<div>\n",
       "<style scoped>\n",
       "    .dataframe tbody tr th:only-of-type {\n",
       "        vertical-align: middle;\n",
       "    }\n",
       "\n",
       "    .dataframe tbody tr th {\n",
       "        vertical-align: top;\n",
       "    }\n",
       "\n",
       "    .dataframe thead th {\n",
       "        text-align: right;\n",
       "    }\n",
       "</style>\n",
       "<table border=\"1\" class=\"dataframe\">\n",
       "  <thead>\n",
       "    <tr style=\"text-align: right;\">\n",
       "      <th></th>\n",
       "      <th>뉴스제목</th>\n",
       "    </tr>\n",
       "  </thead>\n",
       "  <tbody>\n",
       "    <tr>\n",
       "      <th>2016-01-01</th>\n",
       "      <td></td>\n",
       "    </tr>\n",
       "    <tr>\n",
       "      <th>2016-01-02</th>\n",
       "      <td></td>\n",
       "    </tr>\n",
       "    <tr>\n",
       "      <th>2016-01-03</th>\n",
       "      <td></td>\n",
       "    </tr>\n",
       "    <tr>\n",
       "      <th>2016-01-04</th>\n",
       "      <td>AJ네트웍스, SKB 등에업고 '고리사채급 위약금 폭탄'</td>\n",
       "    </tr>\n",
       "    <tr>\n",
       "      <th>2016-01-05</th>\n",
       "      <td>AJ네트웍스, 스마트폰, 태블릿PC 렌탈사업 시작</td>\n",
       "    </tr>\n",
       "  </tbody>\n",
       "</table>\n",
       "</div>"
      ],
      "text/plain": [
       "                                       뉴스제목\n",
       "2016-01-01                                 \n",
       "2016-01-02                                 \n",
       "2016-01-03                                 \n",
       "2016-01-04  AJ네트웍스, SKB 등에업고 '고리사채급 위약금 폭탄'\n",
       "2016-01-05      AJ네트웍스, 스마트폰, 태블릿PC 렌탈사업 시작"
      ]
     },
     "execution_count": 27,
     "metadata": {},
     "output_type": "execute_result"
    }
   ],
   "source": [
    "df = fill_date(df)\n",
    "df.head()"
   ]
  },
  {
   "cell_type": "code",
   "execution_count": 4,
   "id": "07894d9c",
   "metadata": {
    "ExecuteTime": {
     "end_time": "2022-06-06T05:48:01.811397Z",
     "start_time": "2022-06-06T05:48:01.789457Z"
    }
   },
   "outputs": [],
   "source": [
    "df_n = df.groupby('날짜')['뉴스제목'].sum().to_frame()"
   ]
  },
  {
   "cell_type": "code",
   "execution_count": 11,
   "id": "c8cd0ba7",
   "metadata": {
    "ExecuteTime": {
     "end_time": "2022-06-06T05:48:23.243782Z",
     "start_time": "2022-06-06T05:48:23.227795Z"
    }
   },
   "outputs": [
    {
     "data": {
      "text/html": [
       "<div>\n",
       "<style scoped>\n",
       "    .dataframe tbody tr th:only-of-type {\n",
       "        vertical-align: middle;\n",
       "    }\n",
       "\n",
       "    .dataframe tbody tr th {\n",
       "        vertical-align: top;\n",
       "    }\n",
       "\n",
       "    .dataframe thead th {\n",
       "        text-align: right;\n",
       "    }\n",
       "</style>\n",
       "<table border=\"1\" class=\"dataframe\">\n",
       "  <thead>\n",
       "    <tr style=\"text-align: right;\">\n",
       "      <th></th>\n",
       "      <th>뉴스제목</th>\n",
       "      <th>뉴스</th>\n",
       "    </tr>\n",
       "    <tr>\n",
       "      <th>날짜</th>\n",
       "      <th></th>\n",
       "      <th></th>\n",
       "    </tr>\n",
       "  </thead>\n",
       "  <tbody>\n",
       "    <tr>\n",
       "      <th>2016-01-04</th>\n",
       "      <td>AJ네트웍스, SKB 등에업고 '고리사채급 위약금 폭탄'</td>\n",
       "      <td>AJ네트웍스 SKB 등에업고 고리사채급 위약금 폭탄</td>\n",
       "    </tr>\n",
       "    <tr>\n",
       "      <th>2016-01-05</th>\n",
       "      <td>AJ네트웍스, 스마트폰, 태블릿PC 렌탈사업 시작</td>\n",
       "      <td>AJ네트웍스 스마트폰 태블릿PC 렌탈사업 시작</td>\n",
       "    </tr>\n",
       "    <tr>\n",
       "      <th>2016-01-06</th>\n",
       "      <td>AJ네트웍스, 스마트폰, 태블릿PC 등 Mobile Device 렌탈 사업 시작</td>\n",
       "      <td>AJ네트웍스 스마트폰 태블릿PC 등 Mobile Device 렌탈 사업 시작</td>\n",
       "    </tr>\n",
       "    <tr>\n",
       "      <th>2016-01-13</th>\n",
       "      <td>AJ네트웍스, 파렛트및 고소장비 렌탈 신규 서비스 브랜드 런칭</td>\n",
       "      <td>AJ네트웍스 파렛트및 고소장비 렌탈 신규 서비스 브랜드 런칭</td>\n",
       "    </tr>\n",
       "    <tr>\n",
       "      <th>2016-01-22</th>\n",
       "      <td>대상·AJ네트웍스 등 비우량채도 잇달아 발행 성공</td>\n",
       "      <td>대상AJ네트웍스 등 비우량채도 잇달아 발행 성공</td>\n",
       "    </tr>\n",
       "  </tbody>\n",
       "</table>\n",
       "</div>"
      ],
      "text/plain": [
       "                                                    뉴스제목  \\\n",
       "날짜                                                         \n",
       "2016-01-04               AJ네트웍스, SKB 등에업고 '고리사채급 위약금 폭탄'   \n",
       "2016-01-05                   AJ네트웍스, 스마트폰, 태블릿PC 렌탈사업 시작   \n",
       "2016-01-06  AJ네트웍스, 스마트폰, 태블릿PC 등 Mobile Device 렌탈 사업 시작   \n",
       "2016-01-13            AJ네트웍스, 파렛트및 고소장비 렌탈 신규 서비스 브랜드 런칭   \n",
       "2016-01-22                   대상·AJ네트웍스 등 비우량채도 잇달아 발행 성공   \n",
       "\n",
       "                                                    뉴스  \n",
       "날짜                                                      \n",
       "2016-01-04                AJ네트웍스 SKB 등에업고 고리사채급 위약금 폭탄  \n",
       "2016-01-05                   AJ네트웍스 스마트폰 태블릿PC 렌탈사업 시작  \n",
       "2016-01-06  AJ네트웍스 스마트폰 태블릿PC 등 Mobile Device 렌탈 사업 시작  \n",
       "2016-01-13           AJ네트웍스 파렛트및 고소장비 렌탈 신규 서비스 브랜드 런칭  \n",
       "2016-01-22                  대상AJ네트웍스 등 비우량채도 잇달아 발행 성공  "
      ]
     },
     "execution_count": 11,
     "metadata": {},
     "output_type": "execute_result"
    }
   ],
   "source": [
    "df_n['뉴스'] = df_n['뉴스제목'].apply(clean_text)\n",
    "df_n.head()"
   ]
  },
  {
   "cell_type": "code",
   "execution_count": 13,
   "id": "27812162",
   "metadata": {
    "ExecuteTime": {
     "end_time": "2022-06-06T05:52:25.132969Z",
     "start_time": "2022-06-06T05:51:59.550338Z"
    }
   },
   "outputs": [
    {
     "data": {
      "text/plain": [
       "날짜\n",
       "2016-01-04                 AJ네트웍스 SKB 등에 업고 고리 사채급 위약금 폭탄\n",
       "2016-01-05                     AJ네트웍스 스마트폰 태블릿PC 렌탈 사업 시작\n",
       "2016-01-06    AJ네트웍스 스마트폰 태블릿PC 등 Mobile Dev ice 렌탈 사업 시작\n",
       "2016-01-13             AJ네트웍스 파렛트 및 고소장비 렌탈 신규 서비스 브랜드 런칭\n",
       "2016-01-22                    대상 AJ네트웍스 등 비우량채도 잇달아 발행 성공\n",
       "Name: 뉴스, dtype: object"
      ]
     },
     "execution_count": 13,
     "metadata": {},
     "output_type": "execute_result"
    }
   ],
   "source": [
    "df_n['뉴스'] = df_n['뉴스'].apply(spacing_text)\n",
    "df_n['뉴스'].head()"
   ]
  },
  {
   "cell_type": "code",
   "execution_count": 19,
   "id": "b726bb77",
   "metadata": {
    "ExecuteTime": {
     "end_time": "2022-06-06T06:02:01.966357Z",
     "start_time": "2022-06-06T05:57:45.090406Z"
    }
   },
   "outputs": [
    {
     "data": {
      "text/html": [
       "<div>\n",
       "<style scoped>\n",
       "    .dataframe tbody tr th:only-of-type {\n",
       "        vertical-align: middle;\n",
       "    }\n",
       "\n",
       "    .dataframe tbody tr th {\n",
       "        vertical-align: top;\n",
       "    }\n",
       "\n",
       "    .dataframe thead th {\n",
       "        text-align: right;\n",
       "    }\n",
       "</style>\n",
       "<table border=\"1\" class=\"dataframe\">\n",
       "  <thead>\n",
       "    <tr style=\"text-align: right;\">\n",
       "      <th></th>\n",
       "      <th>뉴스제목</th>\n",
       "      <th>뉴스</th>\n",
       "    </tr>\n",
       "    <tr>\n",
       "      <th>날짜</th>\n",
       "      <th></th>\n",
       "      <th></th>\n",
       "    </tr>\n",
       "  </thead>\n",
       "  <tbody>\n",
       "    <tr>\n",
       "      <th>2016-01-04</th>\n",
       "      <td>AJ네트웍스, SKB 등에업고 '고리사채급 위약금 폭탄'</td>\n",
       "      <td>[AJ네트웍스, 등, 사채급, 위약금, 폭탄]</td>\n",
       "    </tr>\n",
       "    <tr>\n",
       "      <th>2016-01-05</th>\n",
       "      <td>AJ네트웍스, 스마트폰, 태블릿PC 렌탈사업 시작</td>\n",
       "      <td>[AJ네트웍스, 스마트폰, 태블릿PC, 렌탈, 사업, 시작]</td>\n",
       "    </tr>\n",
       "    <tr>\n",
       "      <th>2016-01-06</th>\n",
       "      <td>AJ네트웍스, 스마트폰, 태블릿PC 등 Mobile Device 렌탈 사업 시작</td>\n",
       "      <td>[AJ네트웍스, 스마트폰, 태블릿PC, 등, 렌탈, 사업, 시작]</td>\n",
       "    </tr>\n",
       "    <tr>\n",
       "      <th>2016-01-13</th>\n",
       "      <td>AJ네트웍스, 파렛트및 고소장비 렌탈 신규 서비스 브랜드 런칭</td>\n",
       "      <td>[AJ네트웍스, 파렛트, 고소장비, 렌탈, 신규, 서비스, 브랜드, 런칭]</td>\n",
       "    </tr>\n",
       "    <tr>\n",
       "      <th>2016-01-22</th>\n",
       "      <td>대상·AJ네트웍스 등 비우량채도 잇달아 발행 성공</td>\n",
       "      <td>[대상, AJ네트웍스, 등, 우량채, 발행, 성공]</td>\n",
       "    </tr>\n",
       "  </tbody>\n",
       "</table>\n",
       "</div>"
      ],
      "text/plain": [
       "                                                    뉴스제목  \\\n",
       "날짜                                                         \n",
       "2016-01-04               AJ네트웍스, SKB 등에업고 '고리사채급 위약금 폭탄'   \n",
       "2016-01-05                   AJ네트웍스, 스마트폰, 태블릿PC 렌탈사업 시작   \n",
       "2016-01-06  AJ네트웍스, 스마트폰, 태블릿PC 등 Mobile Device 렌탈 사업 시작   \n",
       "2016-01-13            AJ네트웍스, 파렛트및 고소장비 렌탈 신규 서비스 브랜드 런칭   \n",
       "2016-01-22                   대상·AJ네트웍스 등 비우량채도 잇달아 발행 성공   \n",
       "\n",
       "                                                   뉴스  \n",
       "날짜                                                     \n",
       "2016-01-04                  [AJ네트웍스, 등, 사채급, 위약금, 폭탄]  \n",
       "2016-01-05          [AJ네트웍스, 스마트폰, 태블릿PC, 렌탈, 사업, 시작]  \n",
       "2016-01-06       [AJ네트웍스, 스마트폰, 태블릿PC, 등, 렌탈, 사업, 시작]  \n",
       "2016-01-13  [AJ네트웍스, 파렛트, 고소장비, 렌탈, 신규, 서비스, 브랜드, 런칭]  \n",
       "2016-01-22               [대상, AJ네트웍스, 등, 우량채, 발행, 성공]  "
      ]
     },
     "execution_count": 19,
     "metadata": {},
     "output_type": "execute_result"
    }
   ],
   "source": [
    "df_n['뉴스'] = df_n['뉴스'].apply(han_noun)\n",
    "df_n.head()"
   ]
  },
  {
   "cell_type": "code",
   "execution_count": 21,
   "id": "92a19006",
   "metadata": {
    "ExecuteTime": {
     "end_time": "2022-06-06T06:03:48.021543Z",
     "start_time": "2022-06-06T06:03:48.009546Z"
    }
   },
   "outputs": [
    {
     "data": {
      "text/html": [
       "<div>\n",
       "<style scoped>\n",
       "    .dataframe tbody tr th:only-of-type {\n",
       "        vertical-align: middle;\n",
       "    }\n",
       "\n",
       "    .dataframe tbody tr th {\n",
       "        vertical-align: top;\n",
       "    }\n",
       "\n",
       "    .dataframe thead th {\n",
       "        text-align: right;\n",
       "    }\n",
       "</style>\n",
       "<table border=\"1\" class=\"dataframe\">\n",
       "  <thead>\n",
       "    <tr style=\"text-align: right;\">\n",
       "      <th></th>\n",
       "      <th>뉴스제목</th>\n",
       "      <th>뉴스</th>\n",
       "    </tr>\n",
       "    <tr>\n",
       "      <th>날짜</th>\n",
       "      <th></th>\n",
       "      <th></th>\n",
       "    </tr>\n",
       "  </thead>\n",
       "  <tbody>\n",
       "    <tr>\n",
       "      <th>2016-01-04</th>\n",
       "      <td>AJ네트웍스, SKB 등에업고 '고리사채급 위약금 폭탄'</td>\n",
       "      <td>[AJ네트웍스, 사채급, 위약금, 폭탄]</td>\n",
       "    </tr>\n",
       "    <tr>\n",
       "      <th>2016-01-05</th>\n",
       "      <td>AJ네트웍스, 스마트폰, 태블릿PC 렌탈사업 시작</td>\n",
       "      <td>[AJ네트웍스, 스마트폰, 태블릿PC, 렌탈, 사업, 시작]</td>\n",
       "    </tr>\n",
       "    <tr>\n",
       "      <th>2016-01-06</th>\n",
       "      <td>AJ네트웍스, 스마트폰, 태블릿PC 등 Mobile Device 렌탈 사업 시작</td>\n",
       "      <td>[AJ네트웍스, 스마트폰, 태블릿PC, 렌탈, 사업, 시작]</td>\n",
       "    </tr>\n",
       "    <tr>\n",
       "      <th>2016-01-13</th>\n",
       "      <td>AJ네트웍스, 파렛트및 고소장비 렌탈 신규 서비스 브랜드 런칭</td>\n",
       "      <td>[AJ네트웍스, 파렛트, 고소장비, 렌탈, 신규, 서비스, 브랜드, 런칭]</td>\n",
       "    </tr>\n",
       "    <tr>\n",
       "      <th>2016-01-22</th>\n",
       "      <td>대상·AJ네트웍스 등 비우량채도 잇달아 발행 성공</td>\n",
       "      <td>[대상, AJ네트웍스, 우량채, 발행, 성공]</td>\n",
       "    </tr>\n",
       "  </tbody>\n",
       "</table>\n",
       "</div>"
      ],
      "text/plain": [
       "                                                    뉴스제목  \\\n",
       "날짜                                                         \n",
       "2016-01-04               AJ네트웍스, SKB 등에업고 '고리사채급 위약금 폭탄'   \n",
       "2016-01-05                   AJ네트웍스, 스마트폰, 태블릿PC 렌탈사업 시작   \n",
       "2016-01-06  AJ네트웍스, 스마트폰, 태블릿PC 등 Mobile Device 렌탈 사업 시작   \n",
       "2016-01-13            AJ네트웍스, 파렛트및 고소장비 렌탈 신규 서비스 브랜드 런칭   \n",
       "2016-01-22                   대상·AJ네트웍스 등 비우량채도 잇달아 발행 성공   \n",
       "\n",
       "                                                   뉴스  \n",
       "날짜                                                     \n",
       "2016-01-04                     [AJ네트웍스, 사채급, 위약금, 폭탄]  \n",
       "2016-01-05          [AJ네트웍스, 스마트폰, 태블릿PC, 렌탈, 사업, 시작]  \n",
       "2016-01-06          [AJ네트웍스, 스마트폰, 태블릿PC, 렌탈, 사업, 시작]  \n",
       "2016-01-13  [AJ네트웍스, 파렛트, 고소장비, 렌탈, 신규, 서비스, 브랜드, 런칭]  \n",
       "2016-01-22                  [대상, AJ네트웍스, 우량채, 발행, 성공]  "
      ]
     },
     "execution_count": 21,
     "metadata": {},
     "output_type": "execute_result"
    }
   ],
   "source": [
    "df_n['뉴스'] = df_n['뉴스'].apply(remove_stwords)\n",
    "df_n.head()"
   ]
  },
  {
   "cell_type": "code",
   "execution_count": null,
   "id": "09fbaf22",
   "metadata": {},
   "outputs": [],
   "source": []
  },
  {
   "cell_type": "code",
   "execution_count": 22,
   "id": "0631ad88",
   "metadata": {
    "ExecuteTime": {
     "end_time": "2022-06-06T06:20:42.111139Z",
     "start_time": "2022-06-06T06:20:42.102154Z"
    }
   },
   "outputs": [
    {
     "data": {
      "text/plain": [
       "날짜\n",
       "2016-01-04                       [AJ네트웍스, 사채급, 위약금, 폭탄]\n",
       "2016-01-05            [AJ네트웍스, 스마트폰, 태블릿PC, 렌탈, 사업, 시작]\n",
       "2016-01-06            [AJ네트웍스, 스마트폰, 태블릿PC, 렌탈, 사업, 시작]\n",
       "2016-01-13    [AJ네트웍스, 파렛트, 고소장비, 렌탈, 신규, 서비스, 브랜드, 런칭]\n",
       "2016-01-22                    [대상, AJ네트웍스, 우량채, 발행, 성공]\n",
       "Name: 뉴스, dtype: object"
      ]
     },
     "execution_count": 22,
     "metadata": {},
     "output_type": "execute_result"
    }
   ],
   "source": [
    "bgn_date = '2016-01-01'\n",
    "end_date = '2016-02-01'\n",
    "\n",
    "token_lst = df_n['뉴스'].loc[bgn_date:end_date]\n",
    "token_lst"
   ]
  },
  {
   "cell_type": "code",
   "execution_count": 24,
   "id": "bdb30ca9",
   "metadata": {
    "ExecuteTime": {
     "end_time": "2022-06-06T06:21:23.245358Z",
     "start_time": "2022-06-06T06:21:23.230400Z"
    }
   },
   "outputs": [
    {
     "data": {
      "text/plain": [
       "{'사채급': 1,\n",
       " '위약금': 1,\n",
       " '폭탄': 1,\n",
       " '파렛트': 1,\n",
       " '고소장비': 1,\n",
       " '신규': 1,\n",
       " '서비스': 1,\n",
       " '브랜드': 1,\n",
       " '런칭': 1,\n",
       " '대상': 1,\n",
       " '우량채': 1,\n",
       " '발행': 1,\n",
       " '성공': 1,\n",
       " '스마트폰': 2,\n",
       " '태블릿PC': 2,\n",
       " '사업': 2,\n",
       " '시작': 2,\n",
       " '렌탈': 3,\n",
       " 'AJ네트웍스': 5}"
      ]
     },
     "execution_count": 24,
     "metadata": {},
     "output_type": "execute_result"
    }
   ],
   "source": [
    "kw_dict = dict()\n",
    "for tokens in token_lst:\n",
    "\n",
    "    for word in tokens:\n",
    "        if not word in kw_dict.keys():\n",
    "            kw_dict[word] = 1\n",
    "        else:\n",
    "            kw_dict[word] += 1\n",
    "\n",
    "kw_dict = dict(sorted(kw_dict.items(), key = lambda x: x[1]))\n",
    "\n",
    "kw_dict"
   ]
  },
  {
   "cell_type": "code",
   "execution_count": null,
   "id": "0de34533",
   "metadata": {},
   "outputs": [],
   "source": []
  },
  {
   "cell_type": "markdown",
   "id": "5cf956be",
   "metadata": {},
   "source": [
    "# 합친코드"
   ]
  },
  {
   "cell_type": "code",
   "execution_count": 37,
   "id": "c1f09417",
   "metadata": {
    "ExecuteTime": {
     "end_time": "2022-06-06T06:40:32.329812Z",
     "start_time": "2022-06-06T06:40:32.310862Z"
    }
   },
   "outputs": [],
   "source": [
    "df = pd.read_csv('./data/개별기업뉴스_전처리/AJ네트웍스.csv',index_col=0)\n",
    "df = fill_date(df)"
   ]
  },
  {
   "cell_type": "code",
   "execution_count": 38,
   "id": "65bb6c16",
   "metadata": {
    "ExecuteTime": {
     "end_time": "2022-06-06T06:40:40.474122Z",
     "start_time": "2022-06-06T06:40:40.454042Z"
    }
   },
   "outputs": [
    {
     "data": {
      "text/html": [
       "<div>\n",
       "<style scoped>\n",
       "    .dataframe tbody tr th:only-of-type {\n",
       "        vertical-align: middle;\n",
       "    }\n",
       "\n",
       "    .dataframe tbody tr th {\n",
       "        vertical-align: top;\n",
       "    }\n",
       "\n",
       "    .dataframe thead th {\n",
       "        text-align: right;\n",
       "    }\n",
       "</style>\n",
       "<table border=\"1\" class=\"dataframe\">\n",
       "  <thead>\n",
       "    <tr style=\"text-align: right;\">\n",
       "      <th></th>\n",
       "      <th>뉴스제목</th>\n",
       "    </tr>\n",
       "  </thead>\n",
       "  <tbody>\n",
       "    <tr>\n",
       "      <th>2016-01-01</th>\n",
       "      <td></td>\n",
       "    </tr>\n",
       "    <tr>\n",
       "      <th>2016-01-02</th>\n",
       "      <td></td>\n",
       "    </tr>\n",
       "    <tr>\n",
       "      <th>2016-01-03</th>\n",
       "      <td></td>\n",
       "    </tr>\n",
       "    <tr>\n",
       "      <th>2016-01-04</th>\n",
       "      <td>AJ네트웍스, SKB 등에업고 '고리사채급 위약금 폭탄'</td>\n",
       "    </tr>\n",
       "    <tr>\n",
       "      <th>2016-01-05</th>\n",
       "      <td>AJ네트웍스, 스마트폰, 태블릿PC 렌탈사업 시작</td>\n",
       "    </tr>\n",
       "  </tbody>\n",
       "</table>\n",
       "</div>"
      ],
      "text/plain": [
       "                                       뉴스제목\n",
       "2016-01-01                                 \n",
       "2016-01-02                                 \n",
       "2016-01-03                                 \n",
       "2016-01-04  AJ네트웍스, SKB 등에업고 '고리사채급 위약금 폭탄'\n",
       "2016-01-05      AJ네트웍스, 스마트폰, 태블릿PC 렌탈사업 시작"
      ]
     },
     "execution_count": 38,
     "metadata": {},
     "output_type": "execute_result"
    }
   ],
   "source": [
    "df.head()"
   ]
  },
  {
   "cell_type": "code",
   "execution_count": 31,
   "id": "be556422",
   "metadata": {
    "ExecuteTime": {
     "end_time": "2022-06-06T06:35:38.715239Z",
     "start_time": "2022-06-06T06:35:38.704270Z"
    }
   },
   "outputs": [
    {
     "name": "stdout",
     "output_type": "stream",
     "text": [
      "AJ네트웍스\n",
      "AK홀딩스\n",
      "BGF\n"
     ]
    }
   ],
   "source": [
    "path = './data/개별기업뉴스_전처리/'\n",
    "file_list = os.listdir(path)\n",
    "for file in file_list[:3]:\n",
    "    corp_name = file[:-4]\n",
    "    print(corp_name)"
   ]
  },
  {
   "cell_type": "code",
   "execution_count": 53,
   "id": "df16ae38",
   "metadata": {
    "ExecuteTime": {
     "end_time": "2022-06-06T09:28:13.454366Z",
     "start_time": "2022-06-06T09:28:13.430428Z"
    }
   },
   "outputs": [
    {
     "data": {
      "text/html": [
       "<div>\n",
       "<style scoped>\n",
       "    .dataframe tbody tr th:only-of-type {\n",
       "        vertical-align: middle;\n",
       "    }\n",
       "\n",
       "    .dataframe tbody tr th {\n",
       "        vertical-align: top;\n",
       "    }\n",
       "\n",
       "    .dataframe thead th {\n",
       "        text-align: right;\n",
       "    }\n",
       "</style>\n",
       "<table border=\"1\" class=\"dataframe\">\n",
       "  <thead>\n",
       "    <tr style=\"text-align: right;\">\n",
       "      <th></th>\n",
       "      <th>stock_code</th>\n",
       "      <th>회사이름</th>\n",
       "    </tr>\n",
       "  </thead>\n",
       "  <tbody>\n",
       "    <tr>\n",
       "      <th>0</th>\n",
       "      <td>40</td>\n",
       "      <td>KR모터스</td>\n",
       "    </tr>\n",
       "    <tr>\n",
       "      <th>1</th>\n",
       "      <td>50</td>\n",
       "      <td>경방</td>\n",
       "    </tr>\n",
       "    <tr>\n",
       "      <th>2</th>\n",
       "      <td>80</td>\n",
       "      <td>하이트진로</td>\n",
       "    </tr>\n",
       "    <tr>\n",
       "      <th>3</th>\n",
       "      <td>100</td>\n",
       "      <td>유한양행</td>\n",
       "    </tr>\n",
       "    <tr>\n",
       "      <th>4</th>\n",
       "      <td>120</td>\n",
       "      <td>CJ대한통운</td>\n",
       "    </tr>\n",
       "  </tbody>\n",
       "</table>\n",
       "</div>"
      ],
      "text/plain": [
       "   stock_code    회사이름\n",
       "0          40   KR모터스\n",
       "1          50      경방\n",
       "2          80   하이트진로\n",
       "3         100    유한양행\n",
       "4         120  CJ대한통운"
      ]
     },
     "execution_count": 53,
     "metadata": {},
     "output_type": "execute_result"
    }
   ],
   "source": [
    "db_list = pd.read_csv('./data/개별기업명_511',index_col=0)\n",
    "db_list.head()"
   ]
  },
  {
   "cell_type": "markdown",
   "id": "ac376833",
   "metadata": {},
   "source": [
    "## 완성코드1"
   ]
  },
  {
   "cell_type": "code",
   "execution_count": 154,
   "id": "c2e5a924",
   "metadata": {
    "ExecuteTime": {
     "end_time": "2022-06-09T00:06:11.216241Z",
     "start_time": "2022-06-08T23:59:53.239689Z"
    },
    "scrolled": true
   },
   "outputs": [
    {
     "name": "stdout",
     "output_type": "stream",
     "text": [
      "AJ네트웍스\n"
     ]
    }
   ],
   "source": [
    "# 완성코드\n",
    "\n",
    "db_list = pd.read_csv('./data/개별기업명_511.csv',index_col=0)\n",
    "path = './data/개별기업뉴스_전처리/'\n",
    "file_list = os.listdir(path)\n",
    "\n",
    "for file in file_list[:1]:\n",
    "    corp_name = file[:-4]\n",
    "    print(corp_name)\n",
    "    if corp_name in db_list['회사이름'].values:\n",
    "        file_path = os.path.join(path,file)\n",
    "        df = pd.read_csv(file_path,index_col=0)\n",
    "        df = fill_date(df)\n",
    "        df['뉴스'] = df['뉴스제목'].apply(clean_text)\n",
    "#         df['뉴스'] = df['뉴스제목'].apply(spacing_text)\n",
    "        df['뉴스'] = df['뉴스'].apply(han_noun)\n",
    "        df['뉴스'] = df['뉴스'].apply(remove_stwords)\n",
    "        df.to_csv('./data/개별기업뉴스_자연어처리/{}.csv'.format(corp_name))"
   ]
  },
  {
   "cell_type": "markdown",
   "id": "06874731",
   "metadata": {},
   "source": [
    "## 완성코드 2: spacing 포함"
   ]
  },
  {
   "cell_type": "code",
   "execution_count": 166,
   "id": "90cea5df",
   "metadata": {
    "ExecuteTime": {
     "end_time": "2022-06-09T01:01:59.924234Z",
     "start_time": "2022-06-09T01:01:35.430969Z"
    }
   },
   "outputs": [
    {
     "name": "stdout",
     "output_type": "stream",
     "text": [
      "AJ네트웍스\n"
     ]
    },
    {
     "ename": "KeyboardInterrupt",
     "evalue": "",
     "output_type": "error",
     "traceback": [
      "\u001b[1;31m---------------------------------------------------------------------------\u001b[0m",
      "\u001b[1;31mKeyboardInterrupt\u001b[0m                         Traceback (most recent call last)",
      "\u001b[1;32m~\\AppData\\Local\\Temp/ipykernel_17204/4214123459.py\u001b[0m in \u001b[0;36m<module>\u001b[1;34m\u001b[0m\n\u001b[0;32m     13\u001b[0m         \u001b[0mdf\u001b[0m \u001b[1;33m=\u001b[0m \u001b[0mfill_date\u001b[0m\u001b[1;33m(\u001b[0m\u001b[0mdf\u001b[0m\u001b[1;33m)\u001b[0m\u001b[1;33m\u001b[0m\u001b[1;33m\u001b[0m\u001b[0m\n\u001b[0;32m     14\u001b[0m         \u001b[0mdf\u001b[0m\u001b[1;33m[\u001b[0m\u001b[1;34m'뉴스'\u001b[0m\u001b[1;33m]\u001b[0m \u001b[1;33m=\u001b[0m \u001b[0mdf\u001b[0m\u001b[1;33m[\u001b[0m\u001b[1;34m'뉴스제목'\u001b[0m\u001b[1;33m]\u001b[0m\u001b[1;33m.\u001b[0m\u001b[0mapply\u001b[0m\u001b[1;33m(\u001b[0m\u001b[0mclean_text\u001b[0m\u001b[1;33m)\u001b[0m\u001b[1;33m\u001b[0m\u001b[1;33m\u001b[0m\u001b[0m\n\u001b[1;32m---> 15\u001b[1;33m         \u001b[0mdf\u001b[0m\u001b[1;33m[\u001b[0m\u001b[1;34m'뉴스'\u001b[0m\u001b[1;33m]\u001b[0m \u001b[1;33m=\u001b[0m \u001b[0mdf\u001b[0m\u001b[1;33m[\u001b[0m\u001b[1;34m'뉴스'\u001b[0m\u001b[1;33m]\u001b[0m\u001b[1;33m.\u001b[0m\u001b[0mapply\u001b[0m\u001b[1;33m(\u001b[0m\u001b[0mspacing_text\u001b[0m\u001b[1;33m)\u001b[0m\u001b[1;33m\u001b[0m\u001b[1;33m\u001b[0m\u001b[0m\n\u001b[0m\u001b[0;32m     16\u001b[0m         \u001b[0mdf\u001b[0m\u001b[1;33m[\u001b[0m\u001b[1;34m'뉴스'\u001b[0m\u001b[1;33m]\u001b[0m \u001b[1;33m=\u001b[0m \u001b[0mdf\u001b[0m\u001b[1;33m[\u001b[0m\u001b[1;34m'뉴스'\u001b[0m\u001b[1;33m]\u001b[0m\u001b[1;33m.\u001b[0m\u001b[0mapply\u001b[0m\u001b[1;33m(\u001b[0m\u001b[0mhan_noun\u001b[0m\u001b[1;33m)\u001b[0m\u001b[1;33m\u001b[0m\u001b[1;33m\u001b[0m\u001b[0m\n\u001b[0;32m     17\u001b[0m         \u001b[0mdf\u001b[0m\u001b[1;33m[\u001b[0m\u001b[1;34m'뉴스'\u001b[0m\u001b[1;33m]\u001b[0m \u001b[1;33m=\u001b[0m \u001b[0mdf\u001b[0m\u001b[1;33m[\u001b[0m\u001b[1;34m'뉴스'\u001b[0m\u001b[1;33m]\u001b[0m\u001b[1;33m.\u001b[0m\u001b[0mapply\u001b[0m\u001b[1;33m(\u001b[0m\u001b[0mremove_stwords\u001b[0m\u001b[1;33m)\u001b[0m\u001b[1;33m\u001b[0m\u001b[1;33m\u001b[0m\u001b[0m\n",
      "\u001b[1;32m~\\anaconda3\\lib\\site-packages\\pandas\\core\\series.py\u001b[0m in \u001b[0;36mapply\u001b[1;34m(self, func, convert_dtype, args, **kwargs)\u001b[0m\n\u001b[0;32m   4355\u001b[0m         \u001b[0mdtype\u001b[0m\u001b[1;33m:\u001b[0m \u001b[0mfloat64\u001b[0m\u001b[1;33m\u001b[0m\u001b[1;33m\u001b[0m\u001b[0m\n\u001b[0;32m   4356\u001b[0m         \"\"\"\n\u001b[1;32m-> 4357\u001b[1;33m         \u001b[1;32mreturn\u001b[0m \u001b[0mSeriesApply\u001b[0m\u001b[1;33m(\u001b[0m\u001b[0mself\u001b[0m\u001b[1;33m,\u001b[0m \u001b[0mfunc\u001b[0m\u001b[1;33m,\u001b[0m \u001b[0mconvert_dtype\u001b[0m\u001b[1;33m,\u001b[0m \u001b[0margs\u001b[0m\u001b[1;33m,\u001b[0m \u001b[0mkwargs\u001b[0m\u001b[1;33m)\u001b[0m\u001b[1;33m.\u001b[0m\u001b[0mapply\u001b[0m\u001b[1;33m(\u001b[0m\u001b[1;33m)\u001b[0m\u001b[1;33m\u001b[0m\u001b[1;33m\u001b[0m\u001b[0m\n\u001b[0m\u001b[0;32m   4358\u001b[0m \u001b[1;33m\u001b[0m\u001b[0m\n\u001b[0;32m   4359\u001b[0m     def _reduce(\n",
      "\u001b[1;32m~\\anaconda3\\lib\\site-packages\\pandas\\core\\apply.py\u001b[0m in \u001b[0;36mapply\u001b[1;34m(self)\u001b[0m\n\u001b[0;32m   1041\u001b[0m             \u001b[1;32mreturn\u001b[0m \u001b[0mself\u001b[0m\u001b[1;33m.\u001b[0m\u001b[0mapply_str\u001b[0m\u001b[1;33m(\u001b[0m\u001b[1;33m)\u001b[0m\u001b[1;33m\u001b[0m\u001b[1;33m\u001b[0m\u001b[0m\n\u001b[0;32m   1042\u001b[0m \u001b[1;33m\u001b[0m\u001b[0m\n\u001b[1;32m-> 1043\u001b[1;33m         \u001b[1;32mreturn\u001b[0m \u001b[0mself\u001b[0m\u001b[1;33m.\u001b[0m\u001b[0mapply_standard\u001b[0m\u001b[1;33m(\u001b[0m\u001b[1;33m)\u001b[0m\u001b[1;33m\u001b[0m\u001b[1;33m\u001b[0m\u001b[0m\n\u001b[0m\u001b[0;32m   1044\u001b[0m \u001b[1;33m\u001b[0m\u001b[0m\n\u001b[0;32m   1045\u001b[0m     \u001b[1;32mdef\u001b[0m \u001b[0magg\u001b[0m\u001b[1;33m(\u001b[0m\u001b[0mself\u001b[0m\u001b[1;33m)\u001b[0m\u001b[1;33m:\u001b[0m\u001b[1;33m\u001b[0m\u001b[1;33m\u001b[0m\u001b[0m\n",
      "\u001b[1;32m~\\anaconda3\\lib\\site-packages\\pandas\\core\\apply.py\u001b[0m in \u001b[0;36mapply_standard\u001b[1;34m(self)\u001b[0m\n\u001b[0;32m   1096\u001b[0m                 \u001b[1;31m# List[Union[Callable[..., Any], str]]]]]\"; expected\u001b[0m\u001b[1;33m\u001b[0m\u001b[1;33m\u001b[0m\u001b[0m\n\u001b[0;32m   1097\u001b[0m                 \u001b[1;31m# \"Callable[[Any], Any]\"\u001b[0m\u001b[1;33m\u001b[0m\u001b[1;33m\u001b[0m\u001b[0m\n\u001b[1;32m-> 1098\u001b[1;33m                 mapped = lib.map_infer(\n\u001b[0m\u001b[0;32m   1099\u001b[0m                     \u001b[0mvalues\u001b[0m\u001b[1;33m,\u001b[0m\u001b[1;33m\u001b[0m\u001b[1;33m\u001b[0m\u001b[0m\n\u001b[0;32m   1100\u001b[0m                     \u001b[0mf\u001b[0m\u001b[1;33m,\u001b[0m  \u001b[1;31m# type: ignore[arg-type]\u001b[0m\u001b[1;33m\u001b[0m\u001b[1;33m\u001b[0m\u001b[0m\n",
      "\u001b[1;32m~\\anaconda3\\lib\\site-packages\\pandas\\_libs\\lib.pyx\u001b[0m in \u001b[0;36mpandas._libs.lib.map_infer\u001b[1;34m()\u001b[0m\n",
      "\u001b[1;32m~\\AppData\\Local\\Temp/ipykernel_17204/2261456420.py\u001b[0m in \u001b[0;36mspacing_text\u001b[1;34m(docs)\u001b[0m\n\u001b[0;32m      2\u001b[0m \u001b[1;32mdef\u001b[0m \u001b[0mspacing_text\u001b[0m\u001b[1;33m(\u001b[0m\u001b[0mdocs\u001b[0m\u001b[1;33m)\u001b[0m\u001b[1;33m:\u001b[0m\u001b[1;33m\u001b[0m\u001b[1;33m\u001b[0m\u001b[0m\n\u001b[0;32m      3\u001b[0m     \u001b[0mspacing\u001b[0m \u001b[1;33m=\u001b[0m \u001b[0mSpacing\u001b[0m\u001b[1;33m(\u001b[0m\u001b[1;33m)\u001b[0m\u001b[1;33m\u001b[0m\u001b[1;33m\u001b[0m\u001b[0m\n\u001b[1;32m----> 4\u001b[1;33m     \u001b[0mdocs\u001b[0m \u001b[1;33m=\u001b[0m \u001b[0mspacing\u001b[0m\u001b[1;33m(\u001b[0m\u001b[0mdocs\u001b[0m\u001b[1;33m)\u001b[0m\u001b[1;33m\u001b[0m\u001b[1;33m\u001b[0m\u001b[0m\n\u001b[0m\u001b[0;32m      5\u001b[0m     \u001b[1;32mreturn\u001b[0m \u001b[0mdocs\u001b[0m\u001b[1;33m\u001b[0m\u001b[1;33m\u001b[0m\u001b[0m\n",
      "\u001b[1;32m~\\anaconda3\\lib\\site-packages\\pykospacing\\kospacing.py\u001b[0m in \u001b[0;36m__call__\u001b[1;34m(self, sent)\u001b[0m\n\u001b[0;32m     95\u001b[0m                                 for ss in splitted_sent])\n\u001b[0;32m     96\u001b[0m         \u001b[1;32melse\u001b[0m\u001b[1;33m:\u001b[0m\u001b[1;33m\u001b[0m\u001b[1;33m\u001b[0m\u001b[0m\n\u001b[1;32m---> 97\u001b[1;33m             \u001b[0mspaced_sent\u001b[0m \u001b[1;33m=\u001b[0m \u001b[0mself\u001b[0m\u001b[1;33m.\u001b[0m\u001b[0mget_spaced_sent\u001b[0m\u001b[1;33m(\u001b[0m\u001b[0msent\u001b[0m\u001b[1;33m)\u001b[0m\u001b[1;33m\u001b[0m\u001b[1;33m\u001b[0m\u001b[0m\n\u001b[0m\u001b[0;32m     98\u001b[0m         \u001b[1;32mif\u001b[0m \u001b[0mlen\u001b[0m\u001b[1;33m(\u001b[0m\u001b[0mself\u001b[0m\u001b[1;33m.\u001b[0m\u001b[0mrules\u001b[0m\u001b[1;33m)\u001b[0m \u001b[1;33m>\u001b[0m \u001b[1;36m0\u001b[0m\u001b[1;33m:\u001b[0m\u001b[1;33m\u001b[0m\u001b[1;33m\u001b[0m\u001b[0m\n\u001b[0;32m     99\u001b[0m             \u001b[0mspaced_sent\u001b[0m \u001b[1;33m=\u001b[0m \u001b[0mself\u001b[0m\u001b[1;33m.\u001b[0m\u001b[0mapply_rules\u001b[0m\u001b[1;33m(\u001b[0m\u001b[0mspaced_sent\u001b[0m\u001b[1;33m)\u001b[0m\u001b[1;33m\u001b[0m\u001b[1;33m\u001b[0m\u001b[0m\n",
      "\u001b[1;32m~\\anaconda3\\lib\\site-packages\\pykospacing\\kospacing.py\u001b[0m in \u001b[0;36mget_spaced_sent\u001b[1;34m(self, raw_sent)\u001b[0m\n\u001b[0;32m     65\u001b[0m             \u001b[0mword2idx_dic\u001b[0m\u001b[1;33m=\u001b[0m\u001b[0mself\u001b[0m\u001b[1;33m.\u001b[0m\u001b[0m_w2idx\u001b[0m\u001b[1;33m,\u001b[0m \u001b[0msequences\u001b[0m\u001b[1;33m=\u001b[0m\u001b[0msents_in\u001b[0m\u001b[1;33m,\u001b[0m \u001b[0mmaxlen\u001b[0m\u001b[1;33m=\u001b[0m\u001b[1;36m200\u001b[0m\u001b[1;33m,\u001b[0m\u001b[1;33m\u001b[0m\u001b[1;33m\u001b[0m\u001b[0m\n\u001b[0;32m     66\u001b[0m             padding='post', truncating='post')\n\u001b[1;32m---> 67\u001b[1;33m         \u001b[0mresults\u001b[0m \u001b[1;33m=\u001b[0m \u001b[0mself\u001b[0m\u001b[1;33m.\u001b[0m\u001b[0m_model\u001b[0m\u001b[1;33m.\u001b[0m\u001b[0mpredict\u001b[0m\u001b[1;33m(\u001b[0m\u001b[0mmat_in\u001b[0m\u001b[1;33m)\u001b[0m\u001b[1;33m\u001b[0m\u001b[1;33m\u001b[0m\u001b[0m\n\u001b[0m\u001b[0;32m     68\u001b[0m         \u001b[0mmat_set\u001b[0m \u001b[1;33m=\u001b[0m \u001b[0mresults\u001b[0m\u001b[1;33m[\u001b[0m\u001b[1;36m0\u001b[0m\u001b[1;33m,\u001b[0m \u001b[1;33m]\u001b[0m\u001b[1;33m\u001b[0m\u001b[1;33m\u001b[0m\u001b[0m\n\u001b[0;32m     69\u001b[0m         preds = np.array(\n",
      "\u001b[1;32m~\\anaconda3\\lib\\site-packages\\keras\\engine\\training.py\u001b[0m in \u001b[0;36mpredict\u001b[1;34m(self, x, batch_size, verbose, steps, callbacks, max_queue_size, workers, use_multiprocessing)\u001b[0m\n\u001b[0;32m   1749\u001b[0m           \u001b[1;32mfor\u001b[0m \u001b[0mstep\u001b[0m \u001b[1;32min\u001b[0m \u001b[0mdata_handler\u001b[0m\u001b[1;33m.\u001b[0m\u001b[0msteps\u001b[0m\u001b[1;33m(\u001b[0m\u001b[1;33m)\u001b[0m\u001b[1;33m:\u001b[0m\u001b[1;33m\u001b[0m\u001b[1;33m\u001b[0m\u001b[0m\n\u001b[0;32m   1750\u001b[0m             \u001b[0mcallbacks\u001b[0m\u001b[1;33m.\u001b[0m\u001b[0mon_predict_batch_begin\u001b[0m\u001b[1;33m(\u001b[0m\u001b[0mstep\u001b[0m\u001b[1;33m)\u001b[0m\u001b[1;33m\u001b[0m\u001b[1;33m\u001b[0m\u001b[0m\n\u001b[1;32m-> 1751\u001b[1;33m             \u001b[0mtmp_batch_outputs\u001b[0m \u001b[1;33m=\u001b[0m \u001b[0mself\u001b[0m\u001b[1;33m.\u001b[0m\u001b[0mpredict_function\u001b[0m\u001b[1;33m(\u001b[0m\u001b[0miterator\u001b[0m\u001b[1;33m)\u001b[0m\u001b[1;33m\u001b[0m\u001b[1;33m\u001b[0m\u001b[0m\n\u001b[0m\u001b[0;32m   1752\u001b[0m             \u001b[1;32mif\u001b[0m \u001b[0mdata_handler\u001b[0m\u001b[1;33m.\u001b[0m\u001b[0mshould_sync\u001b[0m\u001b[1;33m:\u001b[0m\u001b[1;33m\u001b[0m\u001b[1;33m\u001b[0m\u001b[0m\n\u001b[0;32m   1753\u001b[0m               \u001b[0mcontext\u001b[0m\u001b[1;33m.\u001b[0m\u001b[0masync_wait\u001b[0m\u001b[1;33m(\u001b[0m\u001b[1;33m)\u001b[0m\u001b[1;33m\u001b[0m\u001b[1;33m\u001b[0m\u001b[0m\n",
      "\u001b[1;32m~\\anaconda3\\lib\\site-packages\\tensorflow\\python\\eager\\def_function.py\u001b[0m in \u001b[0;36m__call__\u001b[1;34m(self, *args, **kwds)\u001b[0m\n\u001b[0;32m    883\u001b[0m \u001b[1;33m\u001b[0m\u001b[0m\n\u001b[0;32m    884\u001b[0m       \u001b[1;32mwith\u001b[0m \u001b[0mOptionalXlaContext\u001b[0m\u001b[1;33m(\u001b[0m\u001b[0mself\u001b[0m\u001b[1;33m.\u001b[0m\u001b[0m_jit_compile\u001b[0m\u001b[1;33m)\u001b[0m\u001b[1;33m:\u001b[0m\u001b[1;33m\u001b[0m\u001b[1;33m\u001b[0m\u001b[0m\n\u001b[1;32m--> 885\u001b[1;33m         \u001b[0mresult\u001b[0m \u001b[1;33m=\u001b[0m \u001b[0mself\u001b[0m\u001b[1;33m.\u001b[0m\u001b[0m_call\u001b[0m\u001b[1;33m(\u001b[0m\u001b[1;33m*\u001b[0m\u001b[0margs\u001b[0m\u001b[1;33m,\u001b[0m \u001b[1;33m**\u001b[0m\u001b[0mkwds\u001b[0m\u001b[1;33m)\u001b[0m\u001b[1;33m\u001b[0m\u001b[1;33m\u001b[0m\u001b[0m\n\u001b[0m\u001b[0;32m    886\u001b[0m \u001b[1;33m\u001b[0m\u001b[0m\n\u001b[0;32m    887\u001b[0m       \u001b[0mnew_tracing_count\u001b[0m \u001b[1;33m=\u001b[0m \u001b[0mself\u001b[0m\u001b[1;33m.\u001b[0m\u001b[0mexperimental_get_tracing_count\u001b[0m\u001b[1;33m(\u001b[0m\u001b[1;33m)\u001b[0m\u001b[1;33m\u001b[0m\u001b[1;33m\u001b[0m\u001b[0m\n",
      "\u001b[1;32m~\\anaconda3\\lib\\site-packages\\tensorflow\\python\\eager\\def_function.py\u001b[0m in \u001b[0;36m_call\u001b[1;34m(self, *args, **kwds)\u001b[0m\n\u001b[0;32m    922\u001b[0m       \u001b[1;31m# In this case we have not created variables on the first call. So we can\u001b[0m\u001b[1;33m\u001b[0m\u001b[1;33m\u001b[0m\u001b[0m\n\u001b[0;32m    923\u001b[0m       \u001b[1;31m# run the first trace but we should fail if variables are created.\u001b[0m\u001b[1;33m\u001b[0m\u001b[1;33m\u001b[0m\u001b[0m\n\u001b[1;32m--> 924\u001b[1;33m       \u001b[0mresults\u001b[0m \u001b[1;33m=\u001b[0m \u001b[0mself\u001b[0m\u001b[1;33m.\u001b[0m\u001b[0m_stateful_fn\u001b[0m\u001b[1;33m(\u001b[0m\u001b[1;33m*\u001b[0m\u001b[0margs\u001b[0m\u001b[1;33m,\u001b[0m \u001b[1;33m**\u001b[0m\u001b[0mkwds\u001b[0m\u001b[1;33m)\u001b[0m\u001b[1;33m\u001b[0m\u001b[1;33m\u001b[0m\u001b[0m\n\u001b[0m\u001b[0;32m    925\u001b[0m       \u001b[1;32mif\u001b[0m \u001b[0mself\u001b[0m\u001b[1;33m.\u001b[0m\u001b[0m_created_variables\u001b[0m \u001b[1;32mand\u001b[0m \u001b[1;32mnot\u001b[0m \u001b[0mALLOW_DYNAMIC_VARIABLE_CREATION\u001b[0m\u001b[1;33m:\u001b[0m\u001b[1;33m\u001b[0m\u001b[1;33m\u001b[0m\u001b[0m\n\u001b[0;32m    926\u001b[0m         raise ValueError(\"Creating variables on a non-first call to a function\"\n",
      "\u001b[1;32m~\\anaconda3\\lib\\site-packages\\tensorflow\\python\\eager\\function.py\u001b[0m in \u001b[0;36m__call__\u001b[1;34m(self, *args, **kwargs)\u001b[0m\n\u001b[0;32m   3037\u001b[0m       (graph_function,\n\u001b[0;32m   3038\u001b[0m        filtered_flat_args) = self._maybe_define_function(args, kwargs)\n\u001b[1;32m-> 3039\u001b[1;33m     return graph_function._call_flat(\n\u001b[0m\u001b[0;32m   3040\u001b[0m         filtered_flat_args, captured_inputs=graph_function.captured_inputs)  # pylint: disable=protected-access\n\u001b[0;32m   3041\u001b[0m \u001b[1;33m\u001b[0m\u001b[0m\n",
      "\u001b[1;32m~\\anaconda3\\lib\\site-packages\\tensorflow\\python\\eager\\function.py\u001b[0m in \u001b[0;36m_call_flat\u001b[1;34m(self, args, captured_inputs, cancellation_manager)\u001b[0m\n\u001b[0;32m   1961\u001b[0m         and executing_eagerly):\n\u001b[0;32m   1962\u001b[0m       \u001b[1;31m# No tape is watching; skip to running the function.\u001b[0m\u001b[1;33m\u001b[0m\u001b[1;33m\u001b[0m\u001b[0m\n\u001b[1;32m-> 1963\u001b[1;33m       return self._build_call_outputs(self._inference_function.call(\n\u001b[0m\u001b[0;32m   1964\u001b[0m           ctx, args, cancellation_manager=cancellation_manager))\n\u001b[0;32m   1965\u001b[0m     forward_backward = self._select_forward_and_backward_functions(\n",
      "\u001b[1;32m~\\anaconda3\\lib\\site-packages\\tensorflow\\python\\eager\\function.py\u001b[0m in \u001b[0;36mcall\u001b[1;34m(self, ctx, args, cancellation_manager)\u001b[0m\n\u001b[0;32m    589\u001b[0m       \u001b[1;32mwith\u001b[0m \u001b[0m_InterpolateFunctionError\u001b[0m\u001b[1;33m(\u001b[0m\u001b[0mself\u001b[0m\u001b[1;33m)\u001b[0m\u001b[1;33m:\u001b[0m\u001b[1;33m\u001b[0m\u001b[1;33m\u001b[0m\u001b[0m\n\u001b[0;32m    590\u001b[0m         \u001b[1;32mif\u001b[0m \u001b[0mcancellation_manager\u001b[0m \u001b[1;32mis\u001b[0m \u001b[1;32mNone\u001b[0m\u001b[1;33m:\u001b[0m\u001b[1;33m\u001b[0m\u001b[1;33m\u001b[0m\u001b[0m\n\u001b[1;32m--> 591\u001b[1;33m           outputs = execute.execute(\n\u001b[0m\u001b[0;32m    592\u001b[0m               \u001b[0mstr\u001b[0m\u001b[1;33m(\u001b[0m\u001b[0mself\u001b[0m\u001b[1;33m.\u001b[0m\u001b[0msignature\u001b[0m\u001b[1;33m.\u001b[0m\u001b[0mname\u001b[0m\u001b[1;33m)\u001b[0m\u001b[1;33m,\u001b[0m\u001b[1;33m\u001b[0m\u001b[1;33m\u001b[0m\u001b[0m\n\u001b[0;32m    593\u001b[0m               \u001b[0mnum_outputs\u001b[0m\u001b[1;33m=\u001b[0m\u001b[0mself\u001b[0m\u001b[1;33m.\u001b[0m\u001b[0m_num_outputs\u001b[0m\u001b[1;33m,\u001b[0m\u001b[1;33m\u001b[0m\u001b[1;33m\u001b[0m\u001b[0m\n",
      "\u001b[1;32m~\\anaconda3\\lib\\site-packages\\tensorflow\\python\\eager\\execute.py\u001b[0m in \u001b[0;36mquick_execute\u001b[1;34m(op_name, num_outputs, inputs, attrs, ctx, name)\u001b[0m\n\u001b[0;32m     57\u001b[0m   \u001b[1;32mtry\u001b[0m\u001b[1;33m:\u001b[0m\u001b[1;33m\u001b[0m\u001b[1;33m\u001b[0m\u001b[0m\n\u001b[0;32m     58\u001b[0m     \u001b[0mctx\u001b[0m\u001b[1;33m.\u001b[0m\u001b[0mensure_initialized\u001b[0m\u001b[1;33m(\u001b[0m\u001b[1;33m)\u001b[0m\u001b[1;33m\u001b[0m\u001b[1;33m\u001b[0m\u001b[0m\n\u001b[1;32m---> 59\u001b[1;33m     tensors = pywrap_tfe.TFE_Py_Execute(ctx._handle, device_name, op_name,\n\u001b[0m\u001b[0;32m     60\u001b[0m                                         inputs, attrs, num_outputs)\n\u001b[0;32m     61\u001b[0m   \u001b[1;32mexcept\u001b[0m \u001b[0mcore\u001b[0m\u001b[1;33m.\u001b[0m\u001b[0m_NotOkStatusException\u001b[0m \u001b[1;32mas\u001b[0m \u001b[0me\u001b[0m\u001b[1;33m:\u001b[0m\u001b[1;33m\u001b[0m\u001b[1;33m\u001b[0m\u001b[0m\n",
      "\u001b[1;31mKeyboardInterrupt\u001b[0m: "
     ]
    }
   ],
   "source": [
    "# 완성코드\n",
    "\n",
    "db_list = pd.read_csv('./data/개별기업명_511.csv',index_col=0)\n",
    "path = './data/개별기업뉴스_전처리/'\n",
    "file_list = os.listdir(path)\n",
    "\n",
    "for file in file_list[:1]:\n",
    "    corp_name = file[:-4]\n",
    "    print(corp_name)\n",
    "    if corp_name in db_list['회사이름'].values:\n",
    "        file_path = os.path.join(path,file)\n",
    "        df = pd.read_csv(file_path,index_col=0)\n",
    "        df = fill_date(df)\n",
    "        df['뉴스'] = df['뉴스제목'].apply(clean_text)\n",
    "        df['뉴스'] = df['뉴스'].apply(spacing_text)\n",
    "        df['뉴스'] = df['뉴스'].apply(han_noun)\n",
    "        df['뉴스'] = df['뉴스'].apply(remove_stwords)\n",
    "        df.to_csv('./data/개별기업뉴스_자연어처리_2/{}.csv'.format(corp_name))"
   ]
  },
  {
   "cell_type": "code",
   "execution_count": null,
   "id": "b940ef0b",
   "metadata": {},
   "outputs": [],
   "source": []
  },
  {
   "cell_type": "markdown",
   "id": "f4e4bc9a",
   "metadata": {
    "ExecuteTime": {
     "end_time": "2022-06-08T01:25:41.046392Z",
     "start_time": "2022-06-08T01:24:06.168095Z"
    }
   },
   "source": [
    "## 완성코드: 누락파일"
   ]
  },
  {
   "cell_type": "code",
   "execution_count": 9,
   "id": "0b915b9c",
   "metadata": {
    "ExecuteTime": {
     "end_time": "2022-06-08T01:25:41.046392Z",
     "start_time": "2022-06-08T01:24:06.168095Z"
    }
   },
   "outputs": [
    {
     "name": "stdout",
     "output_type": "stream",
     "text": [
      "동원F&B\n",
      "무림P&P\n",
      "세이브존I&C\n"
     ]
    }
   ],
   "source": [
    "x_list = pd.read_csv('./data/누락기업40.csv',index_col=0)\n",
    "path = './data/개별기업뉴스_전처리/'\n",
    "file_list = os.listdir(path)\n",
    "\n",
    "for file in file_list[:]:\n",
    "    corp_name = file[:-4]\n",
    "    if corp_name in x_list['회사이름'].values:\n",
    "        print(corp_name)\n",
    "        \n",
    "        file_path = os.path.join(path,file)\n",
    "        df = pd.read_csv(file_path,index_col=0)\n",
    "        df = fill_date(df)\n",
    "        df['뉴스'] = df['뉴스제목'].apply(clean_text)\n",
    "        df['뉴스'] = df['뉴스'].apply(han_noun)\n",
    "        df['뉴스'] = df['뉴스'].apply(remove_stwords)\n",
    "        df.to_csv('./data/개별기업뉴스_자연어처리/{}.csv'.format(corp_name))"
   ]
  },
  {
   "cell_type": "markdown",
   "id": "b6753696",
   "metadata": {
    "ExecuteTime": {
     "end_time": "2022-06-09T22:32:29.002610Z",
     "start_time": "2022-06-09T22:32:28.989615Z"
    }
   },
   "source": [
    "## 37개 기업"
   ]
  },
  {
   "cell_type": "code",
   "execution_count": 180,
   "id": "62011f53",
   "metadata": {
    "ExecuteTime": {
     "end_time": "2022-06-10T00:31:24.172947Z",
     "start_time": "2022-06-10T00:31:24.164967Z"
    }
   },
   "outputs": [
    {
     "data": {
      "text/plain": [
       "37"
      ]
     },
     "execution_count": 180,
     "metadata": {},
     "output_type": "execute_result"
    }
   ],
   "source": [
    "path = './data/추가37_전처리/'\n",
    "file_list = os.listdir(path)\n",
    "len(file_list)"
   ]
  },
  {
   "cell_type": "code",
   "execution_count": 181,
   "id": "07844367",
   "metadata": {
    "ExecuteTime": {
     "end_time": "2022-06-10T02:42:57.929814Z",
     "start_time": "2022-06-10T00:31:28.986826Z"
    }
   },
   "outputs": [],
   "source": [
    "for file in file_list:\n",
    "    corp_name = file[:-4]\n",
    "    file_path = os.path.join(path,file)\n",
    "    df = pd.read_csv(file_path,index_col=0)\n",
    "    df.columns=['날짜','뉴스제목','뉴스요약']\n",
    "    df = fill_date(df)\n",
    "    df['뉴스'] = df['뉴스제목'].apply(clean_text)\n",
    "    df['뉴스'] = df['뉴스'].apply(han_noun)\n",
    "    df['뉴스'] = df['뉴스'].apply(remove_stwords)\n",
    "    df.to_csv('./data/추가37_자연어처리/{}.csv'.format(corp_name))"
   ]
  },
  {
   "cell_type": "code",
   "execution_count": null,
   "id": "e5c900ba",
   "metadata": {},
   "outputs": [],
   "source": []
  },
  {
   "cell_type": "markdown",
   "id": "b434accb",
   "metadata": {},
   "source": [
    "## 용량적은거"
   ]
  },
  {
   "cell_type": "code",
   "execution_count": null,
   "id": "8538138b",
   "metadata": {},
   "outputs": [],
   "source": [
    "path = './data/temp/'\n",
    "file_list = os.listdir(path)\n",
    "for file in file_list:\n",
    "    corp_name = file[:-4]\n",
    "    file_path = os.path.join(path,file)\n",
    "    df = pd.read_csv(file_path,index_col=0)\n",
    "    df.columns=['날짜','뉴스제목','뉴스요약']\n",
    "    df = fill_date(df)\n",
    "    df['뉴스'] = df['뉴스제목'].apply(clean_text)\n",
    "    df['뉴스'] = df['뉴스'].apply(han_noun)\n",
    "    df['뉴스'] = df['뉴스'].apply(remove_stwords)\n",
    "    df.to_csv('./data//{}.csv'.format(corp_name))"
   ]
  },
  {
   "cell_type": "code",
   "execution_count": null,
   "id": "31086ef6",
   "metadata": {},
   "outputs": [],
   "source": []
  },
  {
   "cell_type": "code",
   "execution_count": null,
   "id": "1f329dcf",
   "metadata": {},
   "outputs": [],
   "source": []
  },
  {
   "cell_type": "code",
   "execution_count": null,
   "id": "b0de3873",
   "metadata": {},
   "outputs": [],
   "source": []
  },
  {
   "cell_type": "code",
   "execution_count": null,
   "id": "6ac7726e",
   "metadata": {},
   "outputs": [],
   "source": []
  },
  {
   "cell_type": "code",
   "execution_count": 45,
   "id": "afd6fcf1",
   "metadata": {
    "ExecuteTime": {
     "end_time": "2022-06-06T09:04:19.976045Z",
     "start_time": "2022-06-06T09:04:19.959112Z"
    }
   },
   "outputs": [
    {
     "data": {
      "text/html": [
       "<div>\n",
       "<style scoped>\n",
       "    .dataframe tbody tr th:only-of-type {\n",
       "        vertical-align: middle;\n",
       "    }\n",
       "\n",
       "    .dataframe tbody tr th {\n",
       "        vertical-align: top;\n",
       "    }\n",
       "\n",
       "    .dataframe thead th {\n",
       "        text-align: right;\n",
       "    }\n",
       "</style>\n",
       "<table border=\"1\" class=\"dataframe\">\n",
       "  <thead>\n",
       "    <tr style=\"text-align: right;\">\n",
       "      <th></th>\n",
       "      <th>stock_code</th>\n",
       "    </tr>\n",
       "  </thead>\n",
       "  <tbody>\n",
       "    <tr>\n",
       "      <th>0</th>\n",
       "      <td>000040</td>\n",
       "    </tr>\n",
       "    <tr>\n",
       "      <th>1</th>\n",
       "      <td>000050</td>\n",
       "    </tr>\n",
       "    <tr>\n",
       "      <th>2</th>\n",
       "      <td>000080</td>\n",
       "    </tr>\n",
       "    <tr>\n",
       "      <th>3</th>\n",
       "      <td>000100</td>\n",
       "    </tr>\n",
       "    <tr>\n",
       "      <th>4</th>\n",
       "      <td>000120</td>\n",
       "    </tr>\n",
       "    <tr>\n",
       "      <th>...</th>\n",
       "      <td>...</td>\n",
       "    </tr>\n",
       "    <tr>\n",
       "      <th>506</th>\n",
       "      <td>214330</td>\n",
       "    </tr>\n",
       "    <tr>\n",
       "      <th>507</th>\n",
       "      <td>214420</td>\n",
       "    </tr>\n",
       "    <tr>\n",
       "      <th>508</th>\n",
       "      <td>226320</td>\n",
       "    </tr>\n",
       "    <tr>\n",
       "      <th>509</th>\n",
       "      <td>227840</td>\n",
       "    </tr>\n",
       "    <tr>\n",
       "      <th>510</th>\n",
       "      <td>900140</td>\n",
       "    </tr>\n",
       "  </tbody>\n",
       "</table>\n",
       "<p>511 rows × 1 columns</p>\n",
       "</div>"
      ],
      "text/plain": [
       "    stock_code\n",
       "0       000040\n",
       "1       000050\n",
       "2       000080\n",
       "3       000100\n",
       "4       000120\n",
       "..         ...\n",
       "506     214330\n",
       "507     214420\n",
       "508     226320\n",
       "509     227840\n",
       "510     900140\n",
       "\n",
       "[511 rows x 1 columns]"
      ]
     },
     "execution_count": 45,
     "metadata": {},
     "output_type": "execute_result"
    }
   ],
   "source": [
    "db_list = pd.read_csv('./data/DB_list_stock_code.csv',index_col=0)\n",
    "db_list['stock_code'] = db_list['stock_code'].apply(lambda x: str(x).zfill(6))\n",
    "db_list"
   ]
  },
  {
   "cell_type": "code",
   "execution_count": 50,
   "id": "9a9eeb2b",
   "metadata": {
    "ExecuteTime": {
     "end_time": "2022-06-06T09:08:02.278378Z",
     "start_time": "2022-06-06T09:08:02.265417Z"
    }
   },
   "outputs": [
    {
     "data": {
      "text/plain": [
       "511"
      ]
     },
     "execution_count": 50,
     "metadata": {},
     "output_type": "execute_result"
    }
   ],
   "source": [
    "len(corp_list)"
   ]
  },
  {
   "cell_type": "markdown",
   "id": "ddb56987",
   "metadata": {},
   "source": [
    "# 누락기업 자연어처리"
   ]
  },
  {
   "cell_type": "code",
   "execution_count": 11,
   "id": "847b8ca7",
   "metadata": {
    "ExecuteTime": {
     "end_time": "2022-06-08T10:12:25.763158Z",
     "start_time": "2022-06-08T10:12:25.752221Z"
    }
   },
   "outputs": [
    {
     "data": {
      "text/html": [
       "<div>\n",
       "<style scoped>\n",
       "    .dataframe tbody tr th:only-of-type {\n",
       "        vertical-align: middle;\n",
       "    }\n",
       "\n",
       "    .dataframe tbody tr th {\n",
       "        vertical-align: top;\n",
       "    }\n",
       "\n",
       "    .dataframe thead th {\n",
       "        text-align: right;\n",
       "    }\n",
       "</style>\n",
       "<table border=\"1\" class=\"dataframe\">\n",
       "  <thead>\n",
       "    <tr style=\"text-align: right;\">\n",
       "      <th></th>\n",
       "      <th>회사이름</th>\n",
       "    </tr>\n",
       "  </thead>\n",
       "  <tbody>\n",
       "    <tr>\n",
       "      <th>13</th>\n",
       "      <td>삼화페인트</td>\n",
       "    </tr>\n",
       "    <tr>\n",
       "      <th>50</th>\n",
       "      <td>DI동일</td>\n",
       "    </tr>\n",
       "    <tr>\n",
       "      <th>59</th>\n",
       "      <td>삼화콘덴서</td>\n",
       "    </tr>\n",
       "    <tr>\n",
       "      <th>68</th>\n",
       "      <td>한국수출포장</td>\n",
       "    </tr>\n",
       "    <tr>\n",
       "      <th>80</th>\n",
       "      <td>아모레G</td>\n",
       "    </tr>\n",
       "  </tbody>\n",
       "</table>\n",
       "</div>"
      ],
      "text/plain": [
       "      회사이름\n",
       "13   삼화페인트\n",
       "50    DI동일\n",
       "59   삼화콘덴서\n",
       "68  한국수출포장\n",
       "80    아모레G"
      ]
     },
     "execution_count": 11,
     "metadata": {},
     "output_type": "execute_result"
    }
   ],
   "source": [
    "df_x = pd.read_csv('./data/누락기업40.csv',index_col=0)\n",
    "df_x.head()"
   ]
  },
  {
   "cell_type": "code",
   "execution_count": 12,
   "id": "11afae2d",
   "metadata": {
    "ExecuteTime": {
     "end_time": "2022-06-08T10:13:38.473210Z",
     "start_time": "2022-06-08T10:13:38.447255Z"
    }
   },
   "outputs": [
    {
     "data": {
      "text/plain": [
       "['AJ네트웍스.csv',\n",
       " 'AK홀딩스.csv',\n",
       " 'BGF.csv',\n",
       " 'BGF리테일.csv',\n",
       " 'BNK금융지주.csv',\n",
       " 'BYC.csv',\n",
       " 'CJ CGV.csv',\n",
       " 'CJ.csv',\n",
       " 'CJ대한통운.csv',\n",
       " 'CJ씨푸드.csv',\n",
       " 'CJ제일제당.csv',\n",
       " 'CS홀딩스.csv',\n",
       " 'DB.csv',\n",
       " 'DB금융투자.csv',\n",
       " 'DB손해보험.csv',\n",
       " 'DB하이텍.csv',\n",
       " 'DGB금융지주.csv',\n",
       " 'DL.csv',\n",
       " 'DL건설.csv',\n",
       " 'DL이앤씨.csv',\n",
       " 'DRB동일.csv',\n",
       " 'DSR.csv',\n",
       " 'DSR제강.csv',\n",
       " 'E1.csv',\n",
       " 'ESR켄달스퀘어리츠.csv',\n",
       " 'F&F 홀딩스.csv',\n",
       " 'F&F.csv',\n",
       " 'GKL.csv',\n",
       " 'GS.csv',\n",
       " 'GS건설.csv',\n",
       " 'GS글로벌.csv',\n",
       " 'GS리테일.csv',\n",
       " 'HDC.csv',\n",
       " 'HDC랩스.csv',\n",
       " 'HDC현대EP.csv',\n",
       " 'HDC현대산업개발.csv',\n",
       " 'HD현대.csv',\n",
       " 'HJ중공업.csv',\n",
       " 'HLB글로벌.csv',\n",
       " 'HMM.csv',\n",
       " 'HSD엔진.csv',\n",
       " 'JB금융지주.csv',\n",
       " 'JW생명과학.csv',\n",
       " 'JW중외제약.csv',\n",
       " 'JW홀딩스.csv',\n",
       " 'KB금융.csv',\n",
       " 'KC그린홀딩스.csv',\n",
       " 'KC코트렐.csv',\n",
       " 'KEC.csv',\n",
       " 'KG스틸.csv',\n",
       " 'KG케미칼.csv',\n",
       " 'KH 필룩스.csv',\n",
       " 'KISCO홀딩스.csv',\n",
       " 'KPX케미칼.csv',\n",
       " 'KPX홀딩스.csv',\n",
       " 'KR모터스.csv',\n",
       " 'KSS해운.csv',\n",
       " 'KT.csv',\n",
       " 'KTis.csv',\n",
       " 'LF.csv',\n",
       " 'LG.csv',\n",
       " 'LG디스플레이.csv',\n",
       " 'LG생활건강.csv',\n",
       " 'LG에너지솔루션.csv',\n",
       " 'LG유플러스.csv',\n",
       " 'LG이노텍.csv',\n",
       " 'LG전자.csv',\n",
       " 'LG헬로비전.csv',\n",
       " 'LG화학.csv',\n",
       " 'LIG넥스원.csv',\n",
       " 'LS.csv',\n",
       " 'LS네트웍스.csv',\n",
       " 'LS전선아시아.csv',\n",
       " 'LX인터내셔널.csv',\n",
       " 'LX하우시스.csv',\n",
       " 'LX홀딩스.csv',\n",
       " 'MH에탄올.csv',\n",
       " 'NAVER.csv',\n",
       " 'NH올원리츠.csv',\n",
       " 'NH투자증권.csv',\n",
       " 'NH프라임리츠.csv',\n",
       " 'NICE.csv',\n",
       " 'NI스틸.csv',\n",
       " 'OCI.csv',\n",
       " 'PI첨단소재.csv',\n",
       " 'POSCO홀딩스.csv',\n",
       " 'S-Oil.csv',\n",
       " 'SBS.csv',\n",
       " 'SGC에너지.csv',\n",
       " 'SG글로벌.csv',\n",
       " 'SG세계물산.csv',\n",
       " 'SHD.csv',\n",
       " 'SH에너지화학.csv',\n",
       " 'SIMPAC.csv',\n",
       " 'SK.csv',\n",
       " 'SKC.csv',\n",
       " 'SK가스.csv',\n",
       " 'SK네트웍스.csv',\n",
       " 'SK디스커버리.csv',\n",
       " 'SK디앤디.csv',\n",
       " 'SK렌터카.csv',\n",
       " 'SK리츠.csv',\n",
       " 'SK바이오사이언스.csv',\n",
       " 'SK스퀘어.csv',\n",
       " 'SK아이이테크놀로지.csv',\n",
       " 'SK이노베이션.csv',\n",
       " 'SK증권.csv',\n",
       " 'SK케미칼.csv',\n",
       " 'SK텔레콤.csv',\n",
       " 'SK하이닉스.csv',\n",
       " 'SNT모티브.csv',\n",
       " 'SNT에너지.csv',\n",
       " 'SNT중공업.csv',\n",
       " 'SNT홀딩스.csv',\n",
       " 'SPC삼립.csv',\n",
       " 'STX.csv',\n",
       " 'STX엔진.csv',\n",
       " 'STX중공업.csv',\n",
       " 'SUN&L.csv',\n",
       " 'TCC스틸.csv',\n",
       " 'TYM.csv',\n",
       " 'WISCOM.csv',\n",
       " 'YG PLUS.csv',\n",
       " '가온전선.csv',\n",
       " '강남제비스코.csv',\n",
       " '강원랜드.csv',\n",
       " '갤럭시아에스엠.csv',\n",
       " '경농.csv',\n",
       " '경동나비엔.csv',\n",
       " '경동도시가스.csv',\n",
       " '경동인베스트.csv',\n",
       " '경방.csv',\n",
       " '경보제약.csv',\n",
       " '경인양행.csv',\n",
       " '경인전자.csv',\n",
       " '계룡건설산업.csv',\n",
       " '계양전기.csv',\n",
       " '고려산업.csv',\n",
       " '고려아연.csv',\n",
       " '고려제강.csv',\n",
       " '광동제약.csv',\n",
       " '광명전기.csv',\n",
       " '광전자.csv',\n",
       " '광주신세계.csv',\n",
       " '교보증권.csv',\n",
       " '교촌에프앤비.csv',\n",
       " '국도화학.csv',\n",
       " '국동.csv',\n",
       " '국보.csv',\n",
       " '국제약품.csv',\n",
       " '그린케미칼.csv',\n",
       " '극동유화.csv',\n",
       " '금강공업.csv',\n",
       " '금비.csv',\n",
       " '금양.csv',\n",
       " '금호건설.csv',\n",
       " '금호석유화학.csv',\n",
       " '금호에이치티.csv',\n",
       " '금호전기.csv',\n",
       " '금호타이어.csv',\n",
       " '기신정기.csv',\n",
       " '기아.csv',\n",
       " '기업은행.csv',\n",
       " '까뮤이앤씨.csv',\n",
       " '깨끗한나라.csv',\n",
       " '남광토건.csv',\n",
       " '남선알미늄.csv',\n",
       " '남성.csv',\n",
       " '남양유업.csv',\n",
       " '남해화학.csv',\n",
       " '넥센.csv',\n",
       " '넥센타이어.csv',\n",
       " '넷마블.csv',\n",
       " '노루페인트.csv',\n",
       " '노루홀딩스.csv',\n",
       " '녹십자.csv',\n",
       " '녹십자홀딩스.csv',\n",
       " '농심.csv',\n",
       " '농심홀딩스.csv',\n",
       " '다스코.csv',\n",
       " '다올투자증권.csv',\n",
       " '다우기술.csv',\n",
       " '다이나믹디자인.csv',\n",
       " '대교.csv',\n",
       " '대구백화점.csv',\n",
       " '대덕.csv',\n",
       " '대덕전자.csv',\n",
       " '대동.csv',\n",
       " '대동전자.csv',\n",
       " '대림비앤코.csv',\n",
       " '대림통상.csv',\n",
       " '대상.csv',\n",
       " '대상홀딩스.csv',\n",
       " '대성산업.csv',\n",
       " '대성에너지.csv',\n",
       " '대성홀딩스.csv',\n",
       " '대신증권.csv',\n",
       " '대양금속.csv',\n",
       " '대영포장.csv',\n",
       " '대우건설.csv',\n",
       " '대우부품.csv',\n",
       " '대우조선해양.csv',\n",
       " '대웅.csv',\n",
       " '대웅제약.csv',\n",
       " '대원강업.csv',\n",
       " '대원전선.csv',\n",
       " '대원제약.csv',\n",
       " '대원화성.csv',\n",
       " '대유에이텍.csv',\n",
       " '대유플러스.csv',\n",
       " '대창.csv',\n",
       " '대창단조.csv',\n",
       " '대한방직.csv',\n",
       " '대한유화.csv',\n",
       " '대한전선.csv',\n",
       " '대한제강.csv',\n",
       " '대한제당.csv',\n",
       " '대한제분.csv',\n",
       " '대한항공.csv',\n",
       " '대한해운.csv',\n",
       " '대한화섬.csv',\n",
       " '대현.csv',\n",
       " '대호에이엘.csv',\n",
       " '더블유게임즈.csv',\n",
       " '더존비즈온.csv',\n",
       " '덕성.csv',\n",
       " '덕양산업.csv',\n",
       " '덴티움.csv',\n",
       " '도화엔지니어링.csv',\n",
       " '동국제강.csv',\n",
       " '동남합성.csv',\n",
       " '동방.csv',\n",
       " '동방아그로.csv',\n",
       " '동부건설.csv',\n",
       " '동서.csv',\n",
       " '동성제약.csv',\n",
       " '동성케미컬.csv',\n",
       " '동아쏘시오홀딩스.csv',\n",
       " '동아에스티.csv',\n",
       " '동아지질.csv',\n",
       " '동아타이어.csv',\n",
       " '동양.csv',\n",
       " '동양고속.csv',\n",
       " '동양생명.csv',\n",
       " '동양철관.csv',\n",
       " '동양피스톤.csv',\n",
       " '동원F&B.csv',\n",
       " '동원금속.csv',\n",
       " '동원산업.csv',\n",
       " '동원수산.csv',\n",
       " '동원시스템즈.csv',\n",
       " '동일고무벨트.csv',\n",
       " '동일산업.csv',\n",
       " '동일제강.csv',\n",
       " '동화약품.csv',\n",
       " '두산.csv',\n",
       " '두산밥캣.csv',\n",
       " '두산에너빌리티.csv',\n",
       " '두산퓨얼셀.csv',\n",
       " '두올.csv',\n",
       " '드림텍.csv',\n",
       " '디씨엠.csv',\n",
       " '디아이.csv',\n",
       " '디아이동일.csv',\n",
       " '디아이씨.csv',\n",
       " '디앤디플랫폼리츠.csv',\n",
       " '디와이.csv',\n",
       " '디와이파워.csv',\n",
       " '디티알오토모티브.csv',\n",
       " '락앤락.csv',\n",
       " '롯데관광개발.csv',\n",
       " '롯데렌탈.csv',\n",
       " '롯데리츠.csv',\n",
       " '롯데손해보험.csv',\n",
       " '롯데쇼핑.csv',\n",
       " '롯데정밀화학.csv',\n",
       " '롯데정보통신.csv',\n",
       " '롯데제과.csv',\n",
       " '롯데지주.csv',\n",
       " '롯데칠성음료.csv',\n",
       " '롯데케미칼.csv',\n",
       " '롯데푸드.csv',\n",
       " '롯데하이마트.csv',\n",
       " '마니커.csv',\n",
       " '만도.csv',\n",
       " '만호제강.csv',\n",
       " '맥쿼리인프라.csv',\n",
       " '맵스리얼티1.csv',\n",
       " '메리츠금융지주.csv',\n",
       " '메리츠증권.csv',\n",
       " '메리츠화재.csv',\n",
       " '메타랩스.csv',\n",
       " '명문제약.csv',\n",
       " '명신산업.csv',\n",
       " '모나리자.csv',\n",
       " '모나미.csv',\n",
       " '모두투어리츠.csv',\n",
       " '모토닉.csv',\n",
       " '무림P&P.csv',\n",
       " '무림페이퍼.csv',\n",
       " '무학.csv',\n",
       " '문배철강.csv',\n",
       " '미래산업.csv',\n",
       " '미래아이앤지.csv',\n",
       " '미래에셋글로벌리츠.csv',\n",
       " '미래에셋맵스리츠.csv',\n",
       " '미래에셋생명.csv',\n",
       " '미래에셋증권.csv',\n",
       " '미원상사.csv',\n",
       " '미원에스씨.csv',\n",
       " '미원홀딩스.csv',\n",
       " '미원화학.csv',\n",
       " '미창석유공업.csv',\n",
       " '바다로19호.csv',\n",
       " '방림.csv',\n",
       " '백광산업.csv',\n",
       " '백산.csv',\n",
       " '범양건영.csv',\n",
       " '베트남개발1.csv',\n",
       " '벽산.csv',\n",
       " '보락.csv',\n",
       " '보령.csv',\n",
       " '보해양조.csv',\n",
       " '부광약품.csv',\n",
       " '부국증권.csv',\n",
       " '부국철강.csv',\n",
       " '부산산업.csv',\n",
       " '부산주공.csv',\n",
       " '비비안.csv',\n",
       " '비상교육.csv',\n",
       " '비케이탑스.csv',\n",
       " '빙그레.csv',\n",
       " '사조대림.csv',\n",
       " '사조동아원.csv',\n",
       " '사조산업.csv',\n",
       " '사조씨푸드.csv',\n",
       " '사조오양.csv',\n",
       " '삼부토건.csv',\n",
       " '삼성SDI.csv',\n",
       " '삼성공조.csv',\n",
       " '삼성물산.csv',\n",
       " '삼성바이오로직스.csv',\n",
       " '삼성생명.csv',\n",
       " '삼성에스디에스.csv',\n",
       " '삼성엔지니어링.csv',\n",
       " '삼성전기.csv',\n",
       " '삼성전자.csv',\n",
       " '삼성제약.csv',\n",
       " '삼성중공업.csv',\n",
       " '삼성증권.csv',\n",
       " '삼성출판사.csv',\n",
       " '삼성카드.csv',\n",
       " '삼성화재해상보험.csv',\n",
       " '삼아알미늄.csv',\n",
       " '삼양사.csv',\n",
       " '삼양식품.csv',\n",
       " '삼양통상.csv',\n",
       " '삼양패키징.csv',\n",
       " '삼양홀딩스.csv',\n",
       " '삼영무역.csv',\n",
       " '삼영전자공업.csv',\n",
       " '삼영화학공업.csv',\n",
       " '삼원강재.csv',\n",
       " '삼익THK.csv',\n",
       " '삼익악기.csv',\n",
       " '삼일씨엔에스.csv',\n",
       " '삼일제약.csv',\n",
       " '삼정펄프.csv',\n",
       " '삼진제약.csv',\n",
       " '삼천리.csv',\n",
       " '삼호개발.csv',\n",
       " '삼화왕관.csv',\n",
       " '삼화전기.csv',\n",
       " '삼화전자공업.csv',\n",
       " '삼화콘덴서공업.csv',\n",
       " '삼화페인트공업.csv',\n",
       " '상상인증권.csv',\n",
       " '상신브레이크.csv',\n",
       " '새론오토모티브.csv',\n",
       " '샘표.csv',\n",
       " '샘표식품.csv',\n",
       " '서연.csv',\n",
       " '서연이화.csv',\n",
       " '서울도시가스.csv',\n",
       " '서울식품공업.csv',\n",
       " '서원.csv',\n",
       " '서흥.csv',\n",
       " '선도전기.csv',\n",
       " '선진.csv',\n",
       " '성문전자.csv',\n",
       " '성보화학.csv',\n",
       " '성신양회.csv',\n",
       " '성안.csv',\n",
       " '성창기업지주.csv',\n",
       " '세기상사.csv',\n",
       " '세방.csv',\n",
       " '세방전지.csv',\n",
       " '세아베스틸지주.csv',\n",
       " '세아제강.csv',\n",
       " '세아제강지주.csv',\n",
       " '세아특수강.csv',\n",
       " '세아홀딩스.csv',\n",
       " '세우글로벌.csv',\n",
       " '세원이앤씨.csv',\n",
       " '세원정공.csv',\n",
       " '세이브존I&C.csv',\n",
       " '세종공업.csv',\n",
       " '세진중공업.csv',\n",
       " '세하.csv',\n",
       " '센트랄모텍.csv',\n",
       " '센트럴인사이트.csv',\n",
       " '셀트리온.csv',\n",
       " '솔루스첨단소재.csv',\n",
       " '솔루엠.csv',\n",
       " '송원산업.csv',\n",
       " '수산중공업.csv',\n",
       " '스틱인베스트먼트.csv',\n",
       " '시디즈.csv',\n",
       " '신대양제지.csv',\n",
       " '신도리코.csv',\n",
       " '신라교역.csv',\n",
       " '신성이엔지.csv',\n",
       " '신성통상.csv',\n",
       " '신세계.csv',\n",
       " '신세계I&C.csv',\n",
       " '신세계건설.csv',\n",
       " '신세계인터내셔날.csv',\n",
       " '신세계푸드.csv',\n",
       " '신송홀딩스.csv',\n",
       " '신영와코루.csv',\n",
       " '신영증권.csv',\n",
       " '신원.csv',\n",
       " '신일전자.csv',\n",
       " '신풍제약.csv',\n",
       " '신풍제지.csv',\n",
       " '신한서부티엔디리츠.csv',\n",
       " '신한알파리츠.csv',\n",
       " '신한지주.csv',\n",
       " '신흥.csv',\n",
       " '쌍방울.csv',\n",
       " '쌍용씨앤이.csv',\n",
       " '쌍용자동차.csv',\n",
       " '써니전자.csv',\n",
       " '쎌마테라퓨틱스.csv',\n",
       " '씨아이테크.csv',\n",
       " '씨에스윈드.csv',\n",
       " '아남전자.csv',\n",
       " '아모레퍼시픽.csv',\n",
       " '아모레퍼시픽그룹.csv',\n",
       " '아세아.csv',\n",
       " '아세아시멘트.csv',\n",
       " '아세아제지.csv',\n",
       " '아센디오.csv',\n",
       " '아시아나IDT.csv',\n",
       " '아시아나항공.csv',\n",
       " '아이마켓코리아.csv',\n",
       " '아이에스동서.csv',\n",
       " '아이에이치큐.csv',\n",
       " '아주스틸.csv',\n",
       " '알루코.csv',\n",
       " '애경산업.csv',\n",
       " '애경케미칼.csv',\n",
       " '에넥스.csv',\n",
       " '에스디바이오센서.csv',\n",
       " '에스엘.csv',\n",
       " '에스엠벡셀.csv',\n",
       " '에스원.csv',\n",
       " '에스제이엠.csv',\n",
       " '에스제이엠홀딩스.csv',\n",
       " '에스케이바이오팜.csv',\n",
       " '에쓰씨엔지니어링.csv',\n",
       " '에어부산.csv',\n",
       " '에이리츠.csv',\n",
       " '에이블씨엔씨.csv',\n",
       " '에이엔피.csv',\n",
       " '에이프로젠 MED.csv',\n",
       " '에이프로젠제약.csv',\n",
       " '에이플러스에셋.csv',\n",
       " '엔씨소프트.csv',\n",
       " '엔에이치스팩19호.csv',\n",
       " '엔에이치엔.csv',\n",
       " '엔케이.csv',\n",
       " '엔피씨.csv',\n",
       " '엘브이엠씨.csv',\n",
       " '엘에스일렉트릭.csv',\n",
       " '엠씨넥스.csv',\n",
       " '영보화학.csv',\n",
       " '영원무역.csv',\n",
       " '영원무역홀딩스.csv',\n",
       " '영진약품.csv',\n",
       " '영풍.csv',\n",
       " '영풍제지.csv',\n",
       " '영화금속.csv',\n",
       " '영흥.csv',\n",
       " '예스코홀딩스.csv',\n",
       " '오뚜기.csv',\n",
       " '오리엔트바이오.csv',\n",
       " '오리온.csv',\n",
       " '오리온홀딩스.csv',\n",
       " '와이투솔루션.csv',\n",
       " '용평리조트.csv',\n",
       " '우리금융지주.csv',\n",
       " '우리종금.csv',\n",
       " '우성.csv',\n",
       " '우신시스템.csv',\n",
       " '우진.csv',\n",
       " '우진아이엔에스.csv',\n",
       " '우진플라임.csv',\n",
       " '웅진.csv',\n",
       " '웅진씽크빅.csv',\n",
       " '원림.csv',\n",
       " '웰바이오텍.csv',\n",
       " '윌비스.csv',\n",
       " '유나이티드.csv',\n",
       " '유니드.csv',\n",
       " '유니온.csv',\n",
       " '유니온머티리얼.csv',\n",
       " '유니켐.csv',\n",
       " '유니퀘스트.csv',\n",
       " '유성기업.csv',\n",
       " '유수홀딩스.csv',\n",
       " '유안타증권.csv',\n",
       " '유엔젤.csv',\n",
       " '유유제약.csv',\n",
       " '유진증권.csv',\n",
       " '유한양행.csv',\n",
       " '유화증권.csv',\n",
       " '율촌화학.csv',\n",
       " '이건산업.csv',\n",
       " '이구산업.csv',\n",
       " '이노션.csv',\n",
       " '이리츠코크렙.csv',\n",
       " '이마트.csv',\n",
       " '이수페타시스.csv',\n",
       " '이수화학.csv',\n",
       " '이스타코.csv',\n",
       " '이아이디.csv',\n",
       " '이엔플러스.csv',\n",
       " '이연제약.csv',\n",
       " '이월드.csv',\n",
       " '이지스레지던스리츠.csv',\n",
       " '이지스밸류플러스리츠.csv',\n",
       " '이화산업.csv',\n",
       " '인디에프.csv',\n",
       " '인바이오젠.csv',\n",
       " '인스코비.csv',\n",
       " '인지컨트롤스.csv',\n",
       " '인천도시가스.csv',\n",
       " '인터지스.csv',\n",
       " '인팩.csv',\n",
       " '일동제약.csv',\n",
       " '일동홀딩스.csv',\n",
       " '일성건설.csv',\n",
       " '일성신약.csv',\n",
       " '일신방직.csv',\n",
       " '일신석재.csv',\n",
       " '일양약품.csv',\n",
       " '일정실업.csv',\n",
       " '일진다이아.csv',\n",
       " '일진디스플.csv',\n",
       " '일진머티리얼즈.csv',\n",
       " '일진전기.csv',\n",
       " '일진하이솔루스.csv',\n",
       " '일진홀딩스.csv',\n",
       " '잇츠한불.csv',\n",
       " '자이에스앤디.csv',\n",
       " '자화전자.csv',\n",
       " '전방.csv',\n",
       " '제이알글로벌리츠.csv',\n",
       " '제이에스코퍼레이션.csv',\n",
       " '제이준코스메틱.csv',\n",
       " '제일기획.csv',\n",
       " '제일약품.csv',\n",
       " '제일연마.csv',\n",
       " '제일파마홀딩스.csv',\n",
       " '제주은행.csv',\n",
       " '제주항공.csv',\n",
       " '조광페인트.csv',\n",
       " '조광피혁.csv',\n",
       " '조비.csv',\n",
       " '조선내화.csv',\n",
       " '조선선재.csv',\n",
       " '조일알미늄.csv',\n",
       " '조흥.csv',\n",
       " '종근당.csv',\n",
       " '종근당바이오.csv',\n",
       " '종근당홀딩스.csv',\n",
       " '주연테크.csv',\n",
       " '지누스.csv',\n",
       " '지엠비코리아.csv',\n",
       " '지역난방공사.csv',\n",
       " '지투알.csv',\n",
       " '진도.csv',\n",
       " '진양산업.csv',\n",
       " '진양폴리우레탄.csv',\n",
       " '진양홀딩스.csv',\n",
       " '진양화학.csv',\n",
       " '진에어.csv',\n",
       " '진원생명과학.csv',\n",
       " '진흥기업.csv',\n",
       " '참엔지니어링.csv',\n",
       " '천일고속.csv',\n",
       " '체시스.csv',\n",
       " '초록뱀헬스케어.csv',\n",
       " '카카오.csv',\n",
       " '카카오뱅크.csv',\n",
       " '카카오페이.csv',\n",
       " '카프로.csv',\n",
       " '컨버즈.csv',\n",
       " '케이비아이동국실업.csv',\n",
       " '케이씨.csv',\n",
       " '케이씨씨.csv',\n",
       " '케이씨씨글라스.csv',\n",
       " '케이씨텍.csv',\n",
       " '케이씨티시.csv',\n",
       " '케이카.csv',\n",
       " '케이탑리츠.csv',\n",
       " '케이티.csv',\n",
       " '케이티스카이라이프.csv',\n",
       " '케이티앤지.csv',\n",
       " '코람코더원리츠.csv',\n",
       " '코람코에너지리츠.csv',\n",
       " '코리아써키트.csv',\n",
       " '코리안리.csv',\n",
       " '코스맥스.csv',\n",
       " '코스맥스비티아이.csv',\n",
       " '코스모신소재.csv',\n",
       " '코스모화학.csv',\n",
       " '코아스.csv',\n",
       " '코오롱.csv',\n",
       " '코오롱글로벌.csv',\n",
       " '코오롱인더.csv',\n",
       " '코오롱플라스틱.csv',\n",
       " '코웨이.csv',\n",
       " '콘텐트리중앙.csv',\n",
       " '콤텍시스템.csv',\n",
       " '쿠쿠홀딩스.csv',\n",
       " '쿠쿠홈시스.csv',\n",
       " '큐로.csv',\n",
       " '크라운제과.csv',\n",
       " '크라운해태홀딩스.csv',\n",
       " '크래프톤.csv',\n",
       " '키다리스튜디오.csv',\n",
       " '키움증권.csv',\n",
       " '태경비케이.csv',\n",
       " '태경산업.csv',\n",
       " '태경케미컬.csv',\n",
       " '태광산업.csv',\n",
       " '태림포장.csv',\n",
       " '태양금속공업.csv',\n",
       " '태영건설.csv',\n",
       " '태원물산.csv',\n",
       " '태평양물산.csv',\n",
       " '테이팩스.csv',\n",
       " '텔코웨어.csv',\n",
       " '토니모리.csv',\n",
       " '티비에이치글로벌.csv',\n",
       " '티에이치엔.csv',\n",
       " '티와이홀딩스.csv',\n",
       " '티웨이항공.csv',\n",
       " '티웨이홀딩스.csv',\n",
       " '티케이지휴켐스.csv',\n",
       " '파미셀.csv',\n",
       " '팜스코.csv',\n",
       " '팜젠사이언스.csv',\n",
       " '팬오션.csv',\n",
       " '퍼스텍.csv',\n",
       " '퍼시스.csv',\n",
       " '페이퍼코리아.csv',\n",
       " '평화산업.csv',\n",
       " '평화홀딩스.csv',\n",
       " '포스코스틸리온.csv',\n",
       " '포스코인터내셔널.csv',\n",
       " '포스코케미칼.csv',\n",
       " '풀무원.csv',\n",
       " '풍산.csv',\n",
       " '풍산홀딩스.csv',\n",
       " '프레스티지바이오파마.csv',\n",
       " '플레이그램.csv',\n",
       " '하나금융지주.csv',\n",
       " '하나제약.csv',\n",
       " '하나투어.csv',\n",
       " '하이브.csv',\n",
       " '하이스틸.csv',\n",
       " '하이트론씨스템즈.csv',\n",
       " '하이트진로.csv',\n",
       " '하이트진로홀딩스.csv',\n",
       " '한국ANKOR유전.csv',\n",
       " '한국가스공사.csv',\n",
       " '한국공항.csv',\n",
       " '한국금융지주.csv',\n",
       " '한국내화.csv',\n",
       " '한국단자공업.csv',\n",
       " '한국석유공업.csv',\n",
       " '한국수출포장공업.csv',\n",
       " '한국쉘석유.csv',\n",
       " '한국앤컴퍼니.csv',\n",
       " '한국자산신탁.csv',\n",
       " '한국전력공사.csv',\n",
       " '한국전자홀딩스.csv',\n",
       " '한국조선해양.csv',\n",
       " '한국종합기술.csv',\n",
       " '한국주강.csv',\n",
       " '한국주철관공업.csv',\n",
       " '한국철강.csv',\n",
       " '한국카본.csv',\n",
       " '한국콜마.csv',\n",
       " '한국콜마홀딩스.csv',\n",
       " '한국타이어앤테크놀로지.csv',\n",
       " '한국토지신탁.csv',\n",
       " '한국특강.csv',\n",
       " '한국패러랠.csv',\n",
       " '한국프랜지공업.csv',\n",
       " '한국항공우주.csv',\n",
       " '한국화장품.csv',\n",
       " '한국화장품제조.csv',\n",
       " '한농화성.csv',\n",
       " '한독.csv',\n",
       " '한라.csv',\n",
       " '한라홀딩스.csv',\n",
       " '한미글로벌.csv',\n",
       " '한미반도체.csv',\n",
       " '한미사이언스.csv',\n",
       " '한미약품.csv',\n",
       " '한샘.csv',\n",
       " '한섬.csv',\n",
       " '한성기업.csv',\n",
       " '한세실업.csv',\n",
       " '한세엠케이.csv',\n",
       " '한세예스24홀딩스.csv',\n",
       " '한솔로지스틱스.csv',\n",
       " '한솔제지.csv',\n",
       " '한솔케미칼.csv',\n",
       " '한솔테크닉스.csv',\n",
       " '한솔피엔에스.csv',\n",
       " '한솔홀딩스.csv',\n",
       " '한솔홈데코.csv',\n",
       " '한신공영.csv',\n",
       " '한신기계공업.csv',\n",
       " '한양증권.csv',\n",
       " '한온시스템.csv',\n",
       " '한올바이오파마.csv',\n",
       " '한익스프레스.csv',\n",
       " '한일시멘트.csv',\n",
       " '한일철강.csv',\n",
       " '한일현대시멘트.csv',\n",
       " '한일홀딩스.csv',\n",
       " '한전KPS.csv',\n",
       " '한전기술.csv',\n",
       " '한전산업.csv',\n",
       " '한진.csv',\n",
       " '한진중공업홀딩스.csv',\n",
       " '한진칼.csv',\n",
       " '한창.csv',\n",
       " '한창제지.csv',\n",
       " '한컴라이프케어.csv',\n",
       " '한화.csv',\n",
       " '한화생명.csv',\n",
       " '한화손해보험.csv',\n",
       " '한화솔루션.csv',\n",
       " '한화시스템.csv',\n",
       " '한화에어로스페이스.csv',\n",
       " '한화투자증권.csv',\n",
       " '해성디에스.csv',\n",
       " '해태제과식품.csv',\n",
       " '핸즈코퍼레이션.csv',\n",
       " '현대건설.csv',\n",
       " '현대건설기계.csv',\n",
       " '현대그린푸드.csv',\n",
       " '현대글로비스.csv',\n",
       " '현대두산인프라코어.csv',\n",
       " '현대로템.csv',\n",
       " '현대리바트.csv',\n",
       " '현대모비스.csv',\n",
       " '현대미포조선.csv',\n",
       " '현대백화점.csv',\n",
       " '현대비앤지스틸.csv',\n",
       " '현대약품.csv',\n",
       " '현대에너지솔루션.csv',\n",
       " '현대엘리베이터.csv',\n",
       " '현대오토에버.csv',\n",
       " '현대위아.csv',\n",
       " '현대일렉트릭.csv',\n",
       " '현대자동차.csv',\n",
       " '현대제철.csv',\n",
       " '현대중공업.csv',\n",
       " '현대차증권.csv',\n",
       " '현대코퍼레이션.csv',\n",
       " '현대코퍼레이션홀딩스.csv',\n",
       " '현대퓨처넷.csv',\n",
       " '현대해상.csv',\n",
       " '현대홈쇼핑.csv',\n",
       " '형지엘리트.csv',\n",
       " '혜인.csv',\n",
       " '호전실업.csv',\n",
       " '호텔신라.csv',\n",
       " '화성산업.csv',\n",
       " '화승알앤에이.csv',\n",
       " '화승엔터프라이즈.csv',\n",
       " '화승인더스트리.csv',\n",
       " '화승코퍼레이션.csv',\n",
       " '화신.csv',\n",
       " '화인베스틸.csv',\n",
       " '화천기계.csv',\n",
       " '화천기공.csv',\n",
       " '환인제약.csv',\n",
       " '황금에스티.csv',\n",
       " '효성 ITX.csv',\n",
       " '효성.csv',\n",
       " '효성중공업.csv',\n",
       " '효성첨단소재.csv',\n",
       " '효성티앤씨.csv',\n",
       " '효성화학.csv',\n",
       " '후성.csv',\n",
       " '휠라홀딩스.csv',\n",
       " '휴니드테크놀러지스.csv',\n",
       " '휴비스.csv',\n",
       " '휴스틸.csv',\n",
       " '흥국화재.csv',\n",
       " '흥아해운.csv']"
      ]
     },
     "execution_count": 12,
     "metadata": {},
     "output_type": "execute_result"
    }
   ],
   "source": [
    "# 완성코드\n",
    "db_list = pd.read_csv('./data/개별기업명_511.csv',index_col=0)\n",
    "path = './data/개별기업뉴스_전처리/'\n",
    "file_list = os.listdir(path)\n",
    "file_list"
   ]
  },
  {
   "cell_type": "code",
   "execution_count": 21,
   "id": "267ed043",
   "metadata": {
    "ExecuteTime": {
     "end_time": "2022-06-08T10:23:28.056971Z",
     "start_time": "2022-06-08T10:23:28.046035Z"
    }
   },
   "outputs": [
    {
     "data": {
      "text/html": [
       "<div>\n",
       "<style scoped>\n",
       "    .dataframe tbody tr th:only-of-type {\n",
       "        vertical-align: middle;\n",
       "    }\n",
       "\n",
       "    .dataframe tbody tr th {\n",
       "        vertical-align: top;\n",
       "    }\n",
       "\n",
       "    .dataframe thead th {\n",
       "        text-align: right;\n",
       "    }\n",
       "</style>\n",
       "<table border=\"1\" class=\"dataframe\">\n",
       "  <thead>\n",
       "    <tr style=\"text-align: right;\">\n",
       "      <th></th>\n",
       "      <th>0</th>\n",
       "    </tr>\n",
       "  </thead>\n",
       "  <tbody>\n",
       "    <tr>\n",
       "      <th>0</th>\n",
       "      <td>AJ네트웍스.csv</td>\n",
       "    </tr>\n",
       "    <tr>\n",
       "      <th>1</th>\n",
       "      <td>AK홀딩스.csv</td>\n",
       "    </tr>\n",
       "    <tr>\n",
       "      <th>2</th>\n",
       "      <td>BGF.csv</td>\n",
       "    </tr>\n",
       "    <tr>\n",
       "      <th>3</th>\n",
       "      <td>BGF리테일.csv</td>\n",
       "    </tr>\n",
       "    <tr>\n",
       "      <th>4</th>\n",
       "      <td>BNK금융지주.csv</td>\n",
       "    </tr>\n",
       "  </tbody>\n",
       "</table>\n",
       "</div>"
      ],
      "text/plain": [
       "             0\n",
       "0   AJ네트웍스.csv\n",
       "1    AK홀딩스.csv\n",
       "2      BGF.csv\n",
       "3   BGF리테일.csv\n",
       "4  BNK금융지주.csv"
      ]
     },
     "execution_count": 21,
     "metadata": {},
     "output_type": "execute_result"
    }
   ],
   "source": [
    "df511 = pd.Series(file_list).to_frame()\n",
    "df511.head()"
   ]
  },
  {
   "cell_type": "code",
   "execution_count": 55,
   "id": "0f7f248d",
   "metadata": {
    "ExecuteTime": {
     "end_time": "2022-06-08T10:37:12.514003Z",
     "start_time": "2022-06-08T10:37:12.478101Z"
    },
    "collapsed": true
   },
   "outputs": [
    {
     "ename": "PermissionError",
     "evalue": "[Errno 13] Permission denied: './data/개별기업공시_전처리'",
     "output_type": "error",
     "traceback": [
      "\u001b[1;31m---------------------------------------------------------------------------\u001b[0m",
      "\u001b[1;31mPermissionError\u001b[0m                           Traceback (most recent call last)",
      "\u001b[1;32m~\\AppData\\Local\\Temp/ipykernel_17204/4167353689.py\u001b[0m in \u001b[0;36m<module>\u001b[1;34m\u001b[0m\n\u001b[0;32m      1\u001b[0m \u001b[1;31m# 완성코드\u001b[0m\u001b[1;33m\u001b[0m\u001b[1;33m\u001b[0m\u001b[0m\n\u001b[1;32m----> 2\u001b[1;33m \u001b[0mdf_820\u001b[0m \u001b[1;33m=\u001b[0m \u001b[0mpd\u001b[0m\u001b[1;33m.\u001b[0m\u001b[0mread_csv\u001b[0m\u001b[1;33m(\u001b[0m\u001b[1;34m'./data/개별기업공시_전처리'\u001b[0m\u001b[1;33m,\u001b[0m\u001b[0mindex_col\u001b[0m\u001b[1;33m=\u001b[0m\u001b[1;36m0\u001b[0m\u001b[1;33m)\u001b[0m\u001b[1;33m\u001b[0m\u001b[1;33m\u001b[0m\u001b[0m\n\u001b[0m\u001b[0;32m      3\u001b[0m \u001b[1;33m\u001b[0m\u001b[0m\n\u001b[0;32m      4\u001b[0m \u001b[1;31m# 누락40\u001b[0m\u001b[1;33m\u001b[0m\u001b[1;33m\u001b[0m\u001b[0m\n\u001b[0;32m      5\u001b[0m \u001b[0mx_list\u001b[0m \u001b[1;33m=\u001b[0m \u001b[0mpd\u001b[0m\u001b[1;33m.\u001b[0m\u001b[0mread_csv\u001b[0m\u001b[1;33m(\u001b[0m\u001b[1;34m'./data/누락기업40.csv'\u001b[0m\u001b[1;33m,\u001b[0m\u001b[0mindex_col\u001b[0m\u001b[1;33m=\u001b[0m\u001b[1;36m0\u001b[0m\u001b[1;33m)\u001b[0m\u001b[1;33m\u001b[0m\u001b[1;33m\u001b[0m\u001b[0m\n",
      "\u001b[1;32m~\\anaconda3\\lib\\site-packages\\pandas\\util\\_decorators.py\u001b[0m in \u001b[0;36mwrapper\u001b[1;34m(*args, **kwargs)\u001b[0m\n\u001b[0;32m    309\u001b[0m                     \u001b[0mstacklevel\u001b[0m\u001b[1;33m=\u001b[0m\u001b[0mstacklevel\u001b[0m\u001b[1;33m,\u001b[0m\u001b[1;33m\u001b[0m\u001b[1;33m\u001b[0m\u001b[0m\n\u001b[0;32m    310\u001b[0m                 )\n\u001b[1;32m--> 311\u001b[1;33m             \u001b[1;32mreturn\u001b[0m \u001b[0mfunc\u001b[0m\u001b[1;33m(\u001b[0m\u001b[1;33m*\u001b[0m\u001b[0margs\u001b[0m\u001b[1;33m,\u001b[0m \u001b[1;33m**\u001b[0m\u001b[0mkwargs\u001b[0m\u001b[1;33m)\u001b[0m\u001b[1;33m\u001b[0m\u001b[1;33m\u001b[0m\u001b[0m\n\u001b[0m\u001b[0;32m    312\u001b[0m \u001b[1;33m\u001b[0m\u001b[0m\n\u001b[0;32m    313\u001b[0m         \u001b[1;32mreturn\u001b[0m \u001b[0mwrapper\u001b[0m\u001b[1;33m\u001b[0m\u001b[1;33m\u001b[0m\u001b[0m\n",
      "\u001b[1;32m~\\anaconda3\\lib\\site-packages\\pandas\\io\\parsers\\readers.py\u001b[0m in \u001b[0;36mread_csv\u001b[1;34m(filepath_or_buffer, sep, delimiter, header, names, index_col, usecols, squeeze, prefix, mangle_dupe_cols, dtype, engine, converters, true_values, false_values, skipinitialspace, skiprows, skipfooter, nrows, na_values, keep_default_na, na_filter, verbose, skip_blank_lines, parse_dates, infer_datetime_format, keep_date_col, date_parser, dayfirst, cache_dates, iterator, chunksize, compression, thousands, decimal, lineterminator, quotechar, quoting, doublequote, escapechar, comment, encoding, encoding_errors, dialect, error_bad_lines, warn_bad_lines, on_bad_lines, delim_whitespace, low_memory, memory_map, float_precision, storage_options)\u001b[0m\n\u001b[0;32m    584\u001b[0m     \u001b[0mkwds\u001b[0m\u001b[1;33m.\u001b[0m\u001b[0mupdate\u001b[0m\u001b[1;33m(\u001b[0m\u001b[0mkwds_defaults\u001b[0m\u001b[1;33m)\u001b[0m\u001b[1;33m\u001b[0m\u001b[1;33m\u001b[0m\u001b[0m\n\u001b[0;32m    585\u001b[0m \u001b[1;33m\u001b[0m\u001b[0m\n\u001b[1;32m--> 586\u001b[1;33m     \u001b[1;32mreturn\u001b[0m \u001b[0m_read\u001b[0m\u001b[1;33m(\u001b[0m\u001b[0mfilepath_or_buffer\u001b[0m\u001b[1;33m,\u001b[0m \u001b[0mkwds\u001b[0m\u001b[1;33m)\u001b[0m\u001b[1;33m\u001b[0m\u001b[1;33m\u001b[0m\u001b[0m\n\u001b[0m\u001b[0;32m    587\u001b[0m \u001b[1;33m\u001b[0m\u001b[0m\n\u001b[0;32m    588\u001b[0m \u001b[1;33m\u001b[0m\u001b[0m\n",
      "\u001b[1;32m~\\anaconda3\\lib\\site-packages\\pandas\\io\\parsers\\readers.py\u001b[0m in \u001b[0;36m_read\u001b[1;34m(filepath_or_buffer, kwds)\u001b[0m\n\u001b[0;32m    480\u001b[0m \u001b[1;33m\u001b[0m\u001b[0m\n\u001b[0;32m    481\u001b[0m     \u001b[1;31m# Create the parser.\u001b[0m\u001b[1;33m\u001b[0m\u001b[1;33m\u001b[0m\u001b[0m\n\u001b[1;32m--> 482\u001b[1;33m     \u001b[0mparser\u001b[0m \u001b[1;33m=\u001b[0m \u001b[0mTextFileReader\u001b[0m\u001b[1;33m(\u001b[0m\u001b[0mfilepath_or_buffer\u001b[0m\u001b[1;33m,\u001b[0m \u001b[1;33m**\u001b[0m\u001b[0mkwds\u001b[0m\u001b[1;33m)\u001b[0m\u001b[1;33m\u001b[0m\u001b[1;33m\u001b[0m\u001b[0m\n\u001b[0m\u001b[0;32m    483\u001b[0m \u001b[1;33m\u001b[0m\u001b[0m\n\u001b[0;32m    484\u001b[0m     \u001b[1;32mif\u001b[0m \u001b[0mchunksize\u001b[0m \u001b[1;32mor\u001b[0m \u001b[0miterator\u001b[0m\u001b[1;33m:\u001b[0m\u001b[1;33m\u001b[0m\u001b[1;33m\u001b[0m\u001b[0m\n",
      "\u001b[1;32m~\\anaconda3\\lib\\site-packages\\pandas\\io\\parsers\\readers.py\u001b[0m in \u001b[0;36m__init__\u001b[1;34m(self, f, engine, **kwds)\u001b[0m\n\u001b[0;32m    809\u001b[0m             \u001b[0mself\u001b[0m\u001b[1;33m.\u001b[0m\u001b[0moptions\u001b[0m\u001b[1;33m[\u001b[0m\u001b[1;34m\"has_index_names\"\u001b[0m\u001b[1;33m]\u001b[0m \u001b[1;33m=\u001b[0m \u001b[0mkwds\u001b[0m\u001b[1;33m[\u001b[0m\u001b[1;34m\"has_index_names\"\u001b[0m\u001b[1;33m]\u001b[0m\u001b[1;33m\u001b[0m\u001b[1;33m\u001b[0m\u001b[0m\n\u001b[0;32m    810\u001b[0m \u001b[1;33m\u001b[0m\u001b[0m\n\u001b[1;32m--> 811\u001b[1;33m         \u001b[0mself\u001b[0m\u001b[1;33m.\u001b[0m\u001b[0m_engine\u001b[0m \u001b[1;33m=\u001b[0m \u001b[0mself\u001b[0m\u001b[1;33m.\u001b[0m\u001b[0m_make_engine\u001b[0m\u001b[1;33m(\u001b[0m\u001b[0mself\u001b[0m\u001b[1;33m.\u001b[0m\u001b[0mengine\u001b[0m\u001b[1;33m)\u001b[0m\u001b[1;33m\u001b[0m\u001b[1;33m\u001b[0m\u001b[0m\n\u001b[0m\u001b[0;32m    812\u001b[0m \u001b[1;33m\u001b[0m\u001b[0m\n\u001b[0;32m    813\u001b[0m     \u001b[1;32mdef\u001b[0m \u001b[0mclose\u001b[0m\u001b[1;33m(\u001b[0m\u001b[0mself\u001b[0m\u001b[1;33m)\u001b[0m\u001b[1;33m:\u001b[0m\u001b[1;33m\u001b[0m\u001b[1;33m\u001b[0m\u001b[0m\n",
      "\u001b[1;32m~\\anaconda3\\lib\\site-packages\\pandas\\io\\parsers\\readers.py\u001b[0m in \u001b[0;36m_make_engine\u001b[1;34m(self, engine)\u001b[0m\n\u001b[0;32m   1038\u001b[0m             )\n\u001b[0;32m   1039\u001b[0m         \u001b[1;31m# error: Too many arguments for \"ParserBase\"\u001b[0m\u001b[1;33m\u001b[0m\u001b[1;33m\u001b[0m\u001b[0m\n\u001b[1;32m-> 1040\u001b[1;33m         \u001b[1;32mreturn\u001b[0m \u001b[0mmapping\u001b[0m\u001b[1;33m[\u001b[0m\u001b[0mengine\u001b[0m\u001b[1;33m]\u001b[0m\u001b[1;33m(\u001b[0m\u001b[0mself\u001b[0m\u001b[1;33m.\u001b[0m\u001b[0mf\u001b[0m\u001b[1;33m,\u001b[0m \u001b[1;33m**\u001b[0m\u001b[0mself\u001b[0m\u001b[1;33m.\u001b[0m\u001b[0moptions\u001b[0m\u001b[1;33m)\u001b[0m  \u001b[1;31m# type: ignore[call-arg]\u001b[0m\u001b[1;33m\u001b[0m\u001b[1;33m\u001b[0m\u001b[0m\n\u001b[0m\u001b[0;32m   1041\u001b[0m \u001b[1;33m\u001b[0m\u001b[0m\n\u001b[0;32m   1042\u001b[0m     \u001b[1;32mdef\u001b[0m \u001b[0m_failover_to_python\u001b[0m\u001b[1;33m(\u001b[0m\u001b[0mself\u001b[0m\u001b[1;33m)\u001b[0m\u001b[1;33m:\u001b[0m\u001b[1;33m\u001b[0m\u001b[1;33m\u001b[0m\u001b[0m\n",
      "\u001b[1;32m~\\anaconda3\\lib\\site-packages\\pandas\\io\\parsers\\c_parser_wrapper.py\u001b[0m in \u001b[0;36m__init__\u001b[1;34m(self, src, **kwds)\u001b[0m\n\u001b[0;32m     49\u001b[0m \u001b[1;33m\u001b[0m\u001b[0m\n\u001b[0;32m     50\u001b[0m         \u001b[1;31m# open handles\u001b[0m\u001b[1;33m\u001b[0m\u001b[1;33m\u001b[0m\u001b[0m\n\u001b[1;32m---> 51\u001b[1;33m         \u001b[0mself\u001b[0m\u001b[1;33m.\u001b[0m\u001b[0m_open_handles\u001b[0m\u001b[1;33m(\u001b[0m\u001b[0msrc\u001b[0m\u001b[1;33m,\u001b[0m \u001b[0mkwds\u001b[0m\u001b[1;33m)\u001b[0m\u001b[1;33m\u001b[0m\u001b[1;33m\u001b[0m\u001b[0m\n\u001b[0m\u001b[0;32m     52\u001b[0m         \u001b[1;32massert\u001b[0m \u001b[0mself\u001b[0m\u001b[1;33m.\u001b[0m\u001b[0mhandles\u001b[0m \u001b[1;32mis\u001b[0m \u001b[1;32mnot\u001b[0m \u001b[1;32mNone\u001b[0m\u001b[1;33m\u001b[0m\u001b[1;33m\u001b[0m\u001b[0m\n\u001b[0;32m     53\u001b[0m \u001b[1;33m\u001b[0m\u001b[0m\n",
      "\u001b[1;32m~\\anaconda3\\lib\\site-packages\\pandas\\io\\parsers\\base_parser.py\u001b[0m in \u001b[0;36m_open_handles\u001b[1;34m(self, src, kwds)\u001b[0m\n\u001b[0;32m    220\u001b[0m         \u001b[0mLet\u001b[0m \u001b[0mthe\u001b[0m \u001b[0mreaders\u001b[0m \u001b[0mopen\u001b[0m \u001b[0mIOHandles\u001b[0m \u001b[0mafter\u001b[0m \u001b[0mthey\u001b[0m \u001b[0mare\u001b[0m \u001b[0mdone\u001b[0m \u001b[1;32mwith\u001b[0m \u001b[0mtheir\u001b[0m \u001b[0mpotential\u001b[0m \u001b[0mraises\u001b[0m\u001b[1;33m.\u001b[0m\u001b[1;33m\u001b[0m\u001b[1;33m\u001b[0m\u001b[0m\n\u001b[0;32m    221\u001b[0m         \"\"\"\n\u001b[1;32m--> 222\u001b[1;33m         self.handles = get_handle(\n\u001b[0m\u001b[0;32m    223\u001b[0m             \u001b[0msrc\u001b[0m\u001b[1;33m,\u001b[0m\u001b[1;33m\u001b[0m\u001b[1;33m\u001b[0m\u001b[0m\n\u001b[0;32m    224\u001b[0m             \u001b[1;34m\"r\"\u001b[0m\u001b[1;33m,\u001b[0m\u001b[1;33m\u001b[0m\u001b[1;33m\u001b[0m\u001b[0m\n",
      "\u001b[1;32m~\\anaconda3\\lib\\site-packages\\pandas\\io\\common.py\u001b[0m in \u001b[0;36mget_handle\u001b[1;34m(path_or_buf, mode, encoding, compression, memory_map, is_text, errors, storage_options)\u001b[0m\n\u001b[0;32m    700\u001b[0m         \u001b[1;32mif\u001b[0m \u001b[0mioargs\u001b[0m\u001b[1;33m.\u001b[0m\u001b[0mencoding\u001b[0m \u001b[1;32mand\u001b[0m \u001b[1;34m\"b\"\u001b[0m \u001b[1;32mnot\u001b[0m \u001b[1;32min\u001b[0m \u001b[0mioargs\u001b[0m\u001b[1;33m.\u001b[0m\u001b[0mmode\u001b[0m\u001b[1;33m:\u001b[0m\u001b[1;33m\u001b[0m\u001b[1;33m\u001b[0m\u001b[0m\n\u001b[0;32m    701\u001b[0m             \u001b[1;31m# Encoding\u001b[0m\u001b[1;33m\u001b[0m\u001b[1;33m\u001b[0m\u001b[0m\n\u001b[1;32m--> 702\u001b[1;33m             handle = open(\n\u001b[0m\u001b[0;32m    703\u001b[0m                 \u001b[0mhandle\u001b[0m\u001b[1;33m,\u001b[0m\u001b[1;33m\u001b[0m\u001b[1;33m\u001b[0m\u001b[0m\n\u001b[0;32m    704\u001b[0m                 \u001b[0mioargs\u001b[0m\u001b[1;33m.\u001b[0m\u001b[0mmode\u001b[0m\u001b[1;33m,\u001b[0m\u001b[1;33m\u001b[0m\u001b[1;33m\u001b[0m\u001b[0m\n",
      "\u001b[1;31mPermissionError\u001b[0m: [Errno 13] Permission denied: './data/개별기업공시_전처리'"
     ]
    }
   ],
   "source": [
    "# 완성코드\n",
    "df_820 = pd.read_csv('./data/개별기업공시_전처리',index_col=0)\n",
    "\n",
    "path = './data/개별기업공시_전처리/'\n",
    "file_list = os.listdir(path)\n",
    "file_list\n",
    "\n",
    "# 누락40\n",
    "x_list = pd.read_csv('./data/누락기업40.csv',index_col=0)\n",
    "\n",
    "df_x1 = pd.DataFrame()\n",
    "for file in file_list:\n",
    "    corp = file[:-4]\n",
    "    \n",
    "    for corp in x_list['회사이름'].tolist() :\n",
    "        \n",
    "        df_xx = df_820[df_820['회사이름'].str.contains(corp)]\n",
    "        df_x1 = pd.concat([df_x1,df_xx])\n",
    "df_x1"
   ]
  },
  {
   "cell_type": "code",
   "execution_count": 51,
   "id": "763ca2e6",
   "metadata": {
    "ExecuteTime": {
     "end_time": "2022-06-08T10:33:48.282768Z",
     "start_time": "2022-06-08T10:33:48.269833Z"
    }
   },
   "outputs": [
    {
     "data": {
      "text/plain": [
       "'삼화페인트'"
      ]
     },
     "execution_count": 51,
     "metadata": {},
     "output_type": "execute_result"
    }
   ],
   "source": [
    "x_list['회사이름'].tolist()[0]"
   ]
  },
  {
   "cell_type": "code",
   "execution_count": 69,
   "id": "d1b9485b",
   "metadata": {
    "ExecuteTime": {
     "end_time": "2022-06-08T10:48:14.796964Z",
     "start_time": "2022-06-08T10:48:14.782002Z"
    }
   },
   "outputs": [
    {
     "data": {
      "text/plain": [
       "440    쌍용씨앤이.csv\n",
       "441    쌍용자동차.csv\n",
       "dtype: object"
      ]
     },
     "execution_count": 69,
     "metadata": {},
     "output_type": "execute_result"
    }
   ],
   "source": [
    "pd.Series(file_list)[pd.Series(file_list).str.contains('쌍용')]"
   ]
  },
  {
   "cell_type": "code",
   "execution_count": null,
   "id": "5311a6ec",
   "metadata": {},
   "outputs": [],
   "source": []
  },
  {
   "cell_type": "code",
   "execution_count": 30,
   "id": "2d021212",
   "metadata": {
    "ExecuteTime": {
     "end_time": "2022-06-08T10:28:22.079036Z",
     "start_time": "2022-06-08T10:28:22.063080Z"
    },
    "scrolled": true
   },
   "outputs": [
    {
     "data": {
      "text/html": [
       "<div>\n",
       "<style scoped>\n",
       "    .dataframe tbody tr th:only-of-type {\n",
       "        vertical-align: middle;\n",
       "    }\n",
       "\n",
       "    .dataframe tbody tr th {\n",
       "        vertical-align: top;\n",
       "    }\n",
       "\n",
       "    .dataframe thead th {\n",
       "        text-align: right;\n",
       "    }\n",
       "</style>\n",
       "<table border=\"1\" class=\"dataframe\">\n",
       "  <thead>\n",
       "    <tr style=\"text-align: right;\">\n",
       "      <th></th>\n",
       "      <th>회사이름</th>\n",
       "    </tr>\n",
       "  </thead>\n",
       "  <tbody>\n",
       "    <tr>\n",
       "      <th>13</th>\n",
       "      <td>삼화페인트</td>\n",
       "    </tr>\n",
       "    <tr>\n",
       "      <th>50</th>\n",
       "      <td>DI동일</td>\n",
       "    </tr>\n",
       "    <tr>\n",
       "      <th>59</th>\n",
       "      <td>삼화콘덴서</td>\n",
       "    </tr>\n",
       "    <tr>\n",
       "      <th>68</th>\n",
       "      <td>한국수출포장</td>\n",
       "    </tr>\n",
       "    <tr>\n",
       "      <th>80</th>\n",
       "      <td>아모레G</td>\n",
       "    </tr>\n",
       "    <tr>\n",
       "      <th>101</th>\n",
       "      <td>쌍용C&amp;E</td>\n",
       "    </tr>\n",
       "    <tr>\n",
       "      <th>105</th>\n",
       "      <td>IHQ</td>\n",
       "    </tr>\n",
       "    <tr>\n",
       "      <th>107</th>\n",
       "      <td>쌍용차</td>\n",
       "    </tr>\n",
       "    <tr>\n",
       "      <th>109</th>\n",
       "      <td>삼영화학</td>\n",
       "    </tr>\n",
       "    <tr>\n",
       "      <th>118</th>\n",
       "      <td>한국석유</td>\n",
       "    </tr>\n",
       "    <tr>\n",
       "      <th>119</th>\n",
       "      <td>태양금속</td>\n",
       "    </tr>\n",
       "    <tr>\n",
       "      <th>123</th>\n",
       "      <td>NPC</td>\n",
       "    </tr>\n",
       "    <tr>\n",
       "      <th>148</th>\n",
       "      <td>롯데칠성</td>\n",
       "    </tr>\n",
       "    <tr>\n",
       "      <th>151</th>\n",
       "      <td>현대차</td>\n",
       "    </tr>\n",
       "    <tr>\n",
       "      <th>156</th>\n",
       "      <td>삼영전자</td>\n",
       "    </tr>\n",
       "    <tr>\n",
       "      <th>159</th>\n",
       "      <td>대림B&amp;Co</td>\n",
       "    </tr>\n",
       "    <tr>\n",
       "      <th>169</th>\n",
       "      <td>화승인더</td>\n",
       "    </tr>\n",
       "    <tr>\n",
       "      <th>198</th>\n",
       "      <td>F&amp;F홀딩스</td>\n",
       "    </tr>\n",
       "    <tr>\n",
       "      <th>209</th>\n",
       "      <td>KCTC</td>\n",
       "    </tr>\n",
       "    <tr>\n",
       "      <th>224</th>\n",
       "      <td>무림P&amp;P</td>\n",
       "    </tr>\n",
       "    <tr>\n",
       "      <th>230</th>\n",
       "      <td>한국프랜지</td>\n",
       "    </tr>\n",
       "    <tr>\n",
       "      <th>231</th>\n",
       "      <td>LS ELECTRIC</td>\n",
       "    </tr>\n",
       "    <tr>\n",
       "      <th>247</th>\n",
       "      <td>삼화전자</td>\n",
       "    </tr>\n",
       "    <tr>\n",
       "      <th>253</th>\n",
       "      <td>한신기계</td>\n",
       "    </tr>\n",
       "    <tr>\n",
       "      <th>255</th>\n",
       "      <td>금호석유</td>\n",
       "    </tr>\n",
       "    <tr>\n",
       "      <th>275</th>\n",
       "      <td>계룡건설</td>\n",
       "    </tr>\n",
       "    <tr>\n",
       "      <th>291</th>\n",
       "      <td>한국전력</td>\n",
       "    </tr>\n",
       "    <tr>\n",
       "      <th>301</th>\n",
       "      <td>서울가스</td>\n",
       "    </tr>\n",
       "    <tr>\n",
       "      <th>304</th>\n",
       "      <td>현대엘리베이</td>\n",
       "    </tr>\n",
       "    <tr>\n",
       "      <th>331</th>\n",
       "      <td>SJM홀딩스</td>\n",
       "    </tr>\n",
       "    <tr>\n",
       "      <th>332</th>\n",
       "      <td>한국단자</td>\n",
       "    </tr>\n",
       "    <tr>\n",
       "      <th>346</th>\n",
       "      <td>KT</td>\n",
       "    </tr>\n",
       "    <tr>\n",
       "      <th>358</th>\n",
       "      <td>KT&amp;G</td>\n",
       "    </tr>\n",
       "    <tr>\n",
       "      <th>389</th>\n",
       "      <td>동원F&amp;B</td>\n",
       "    </tr>\n",
       "    <tr>\n",
       "      <th>394</th>\n",
       "      <td>스카이라이프</td>\n",
       "    </tr>\n",
       "    <tr>\n",
       "      <th>405</th>\n",
       "      <td>세이브존I&amp;C</td>\n",
       "    </tr>\n",
       "    <tr>\n",
       "      <th>409</th>\n",
       "      <td>TKG휴켐스</td>\n",
       "    </tr>\n",
       "    <tr>\n",
       "      <th>450</th>\n",
       "      <td>효성ITX</td>\n",
       "    </tr>\n",
       "    <tr>\n",
       "      <th>476</th>\n",
       "      <td>SJM</td>\n",
       "    </tr>\n",
       "    <tr>\n",
       "      <th>510</th>\n",
       "      <td>엘브이엠씨홀딩스</td>\n",
       "    </tr>\n",
       "  </tbody>\n",
       "</table>\n",
       "</div>"
      ],
      "text/plain": [
       "            회사이름\n",
       "13         삼화페인트\n",
       "50          DI동일\n",
       "59         삼화콘덴서\n",
       "68        한국수출포장\n",
       "80          아모레G\n",
       "101        쌍용C&E\n",
       "105          IHQ\n",
       "107          쌍용차\n",
       "109         삼영화학\n",
       "118         한국석유\n",
       "119         태양금속\n",
       "123          NPC\n",
       "148         롯데칠성\n",
       "151          현대차\n",
       "156         삼영전자\n",
       "159       대림B&Co\n",
       "169         화승인더\n",
       "198       F&F홀딩스\n",
       "209         KCTC\n",
       "224        무림P&P\n",
       "230        한국프랜지\n",
       "231  LS ELECTRIC\n",
       "247         삼화전자\n",
       "253         한신기계\n",
       "255         금호석유\n",
       "275         계룡건설\n",
       "291         한국전력\n",
       "301         서울가스\n",
       "304       현대엘리베이\n",
       "331       SJM홀딩스\n",
       "332         한국단자\n",
       "346           KT\n",
       "358         KT&G\n",
       "389        동원F&B\n",
       "394       스카이라이프\n",
       "405      세이브존I&C\n",
       "409       TKG휴켐스\n",
       "450        효성ITX\n",
       "476          SJM\n",
       "510     엘브이엠씨홀딩스"
      ]
     },
     "execution_count": 30,
     "metadata": {},
     "output_type": "execute_result"
    }
   ],
   "source": [
    "# 완성코드: 누락파일\n",
    "x_list = pd.read_csv('./data/누락기업40.csv',index_col=0)\n",
    "x_list"
   ]
  },
  {
   "cell_type": "code",
   "execution_count": null,
   "id": "049c084e",
   "metadata": {},
   "outputs": [],
   "source": [
    "for file in file_list[:]:\n",
    "    corp_name = file[:-4]\n",
    "    if corp_name in x_list['회사이름'].values:\n",
    "        print(corp_name)\n",
    "        \n",
    "        file_path = os.path.join(path,file)\n",
    "        df = pd.read_csv(file_path,index_col=0)\n",
    "        df = fill_date(df)\n",
    "        df['뉴스'] = df['뉴스제목'].apply(clean_text)\n",
    "        df['뉴스'] = df['뉴스'].apply(han_noun)\n",
    "        df['뉴스'] = df['뉴스'].apply(remove_stwords)\n",
    "        df.to_csv('./data/개별기업뉴스_자연어처리/{}.csv'.format(corp_name))"
   ]
  },
  {
   "cell_type": "code",
   "execution_count": null,
   "id": "ccb8c05f",
   "metadata": {},
   "outputs": [],
   "source": []
  },
  {
   "cell_type": "code",
   "execution_count": 74,
   "id": "a56966d2",
   "metadata": {
    "ExecuteTime": {
     "end_time": "2022-06-08T11:03:30.773343Z",
     "start_time": "2022-06-08T11:03:30.765378Z"
    }
   },
   "outputs": [
    {
     "data": {
      "text/plain": [
       "29"
      ]
     },
     "execution_count": 74,
     "metadata": {},
     "output_type": "execute_result"
    }
   ],
   "source": [
    "df_c = pd.read_csv('./data/누락기업40수정.csv',index_col=0).dropna()\n",
    "len(df_c)"
   ]
  },
  {
   "cell_type": "code",
   "execution_count": null,
   "id": "62709f0f",
   "metadata": {},
   "outputs": [],
   "source": []
  },
  {
   "cell_type": "markdown",
   "id": "a62affd6",
   "metadata": {},
   "source": [
    "## 820개 기업이름"
   ]
  },
  {
   "cell_type": "markdown",
   "id": "a6610e16",
   "metadata": {
    "ExecuteTime": {
     "end_time": "2022-06-08T11:34:45.379860Z",
     "start_time": "2022-06-08T11:34:45.358916Z"
    }
   },
   "source": [
    "### 기존파일: df_kospi"
   ]
  },
  {
   "cell_type": "code",
   "execution_count": 104,
   "id": "05268495",
   "metadata": {
    "ExecuteTime": {
     "end_time": "2022-06-08T11:34:45.379860Z",
     "start_time": "2022-06-08T11:34:45.358916Z"
    }
   },
   "outputs": [],
   "source": [
    "df_kospi = pd.read_csv('./data/kospi_list.csv',index_col=0)\n",
    "ser11 = pd.Series(df_kospi['corp_name'])"
   ]
  },
  {
   "cell_type": "code",
   "execution_count": 111,
   "id": "d511e600",
   "metadata": {
    "ExecuteTime": {
     "end_time": "2022-06-08T11:37:40.075985Z",
     "start_time": "2022-06-08T11:37:40.064027Z"
    }
   },
   "outputs": [
    {
     "data": {
      "text/html": [
       "<div>\n",
       "<style scoped>\n",
       "    .dataframe tbody tr th:only-of-type {\n",
       "        vertical-align: middle;\n",
       "    }\n",
       "\n",
       "    .dataframe tbody tr th {\n",
       "        vertical-align: top;\n",
       "    }\n",
       "\n",
       "    .dataframe thead th {\n",
       "        text-align: right;\n",
       "    }\n",
       "</style>\n",
       "<table border=\"1\" class=\"dataframe\">\n",
       "  <thead>\n",
       "    <tr style=\"text-align: right;\">\n",
       "      <th></th>\n",
       "      <th>corp_code</th>\n",
       "      <th>corp_name</th>\n",
       "      <th>stock_code</th>\n",
       "      <th>modify_date</th>\n",
       "      <th>Symbol</th>\n",
       "      <th>Market</th>\n",
       "      <th>Name</th>\n",
       "      <th>Sector</th>\n",
       "      <th>Industry</th>\n",
       "      <th>ListingDate</th>\n",
       "      <th>SettleMonth</th>\n",
       "      <th>Representative</th>\n",
       "      <th>HomePage</th>\n",
       "      <th>Region</th>\n",
       "    </tr>\n",
       "  </thead>\n",
       "  <tbody>\n",
       "    <tr>\n",
       "      <th>748</th>\n",
       "      <td>129387</td>\n",
       "      <td>삼화페인트공업</td>\n",
       "      <td>390</td>\n",
       "      <td>20220512</td>\n",
       "      <td>390</td>\n",
       "      <td>KOSPI</td>\n",
       "      <td>삼화페인트</td>\n",
       "      <td>기타 화학제품 제조업</td>\n",
       "      <td>건축용페인트,공업용페인트,분체도료 등 제조</td>\n",
       "      <td>1993-09-10</td>\n",
       "      <td>12월</td>\n",
       "      <td>오진수,류기붕(각자대표)</td>\n",
       "      <td>http://www.samhwa.com</td>\n",
       "      <td>경기도</td>\n",
       "    </tr>\n",
       "  </tbody>\n",
       "</table>\n",
       "</div>"
      ],
      "text/plain": [
       "     corp_code corp_name  stock_code  modify_date  Symbol Market   Name  \\\n",
       "748     129387   삼화페인트공업         390     20220512     390  KOSPI  삼화페인트   \n",
       "\n",
       "          Sector                 Industry ListingDate SettleMonth  \\\n",
       "748  기타 화학제품 제조업  건축용페인트,공업용페인트,분체도료 등 제조  1993-09-10         12월   \n",
       "\n",
       "    Representative               HomePage Region  \n",
       "748  오진수,류기붕(각자대표)  http://www.samhwa.com    경기도  "
      ]
     },
     "execution_count": 111,
     "metadata": {},
     "output_type": "execute_result"
    }
   ],
   "source": [
    "df_kospi[df_kospi['Name']=='삼화페인트']"
   ]
  },
  {
   "cell_type": "code",
   "execution_count": 112,
   "id": "788c416c",
   "metadata": {
    "ExecuteTime": {
     "end_time": "2022-06-08T11:37:48.003971Z",
     "start_time": "2022-06-08T11:37:47.985990Z"
    }
   },
   "outputs": [
    {
     "data": {
      "text/html": [
       "<div>\n",
       "<style scoped>\n",
       "    .dataframe tbody tr th:only-of-type {\n",
       "        vertical-align: middle;\n",
       "    }\n",
       "\n",
       "    .dataframe tbody tr th {\n",
       "        vertical-align: top;\n",
       "    }\n",
       "\n",
       "    .dataframe thead th {\n",
       "        text-align: right;\n",
       "    }\n",
       "</style>\n",
       "<table border=\"1\" class=\"dataframe\">\n",
       "  <thead>\n",
       "    <tr style=\"text-align: right;\">\n",
       "      <th></th>\n",
       "      <th>corp_code</th>\n",
       "      <th>corp_name</th>\n",
       "      <th>stock_code</th>\n",
       "      <th>modify_date</th>\n",
       "      <th>Symbol</th>\n",
       "      <th>Market</th>\n",
       "      <th>Name</th>\n",
       "      <th>Sector</th>\n",
       "      <th>Industry</th>\n",
       "      <th>ListingDate</th>\n",
       "      <th>SettleMonth</th>\n",
       "      <th>Representative</th>\n",
       "      <th>HomePage</th>\n",
       "      <th>Region</th>\n",
       "    </tr>\n",
       "  </thead>\n",
       "  <tbody>\n",
       "  </tbody>\n",
       "</table>\n",
       "</div>"
      ],
      "text/plain": [
       "Empty DataFrame\n",
       "Columns: [corp_code, corp_name, stock_code, modify_date, Symbol, Market, Name, Sector, Industry, ListingDate, SettleMonth, Representative, HomePage, Region]\n",
       "Index: []"
      ]
     },
     "execution_count": 112,
     "metadata": {},
     "output_type": "execute_result"
    }
   ],
   "source": [
    "df_kospi[df_kospi['Name']=='삼화페인트공업']"
   ]
  },
  {
   "cell_type": "code",
   "execution_count": null,
   "id": "b1841a61",
   "metadata": {},
   "outputs": [],
   "source": []
  },
  {
   "cell_type": "markdown",
   "id": "622e4904",
   "metadata": {
    "ExecuteTime": {
     "end_time": "2022-06-08T11:21:54.505950Z",
     "start_time": "2022-06-08T11:21:48.879992Z"
    }
   },
   "source": [
    "### 현재 fdr: df_820"
   ]
  },
  {
   "cell_type": "code",
   "execution_count": 98,
   "id": "493de3db",
   "metadata": {
    "ExecuteTime": {
     "end_time": "2022-06-08T11:21:54.505950Z",
     "start_time": "2022-06-08T11:21:48.879992Z"
    }
   },
   "outputs": [
    {
     "data": {
      "text/html": [
       "<div>\n",
       "<style scoped>\n",
       "    .dataframe tbody tr th:only-of-type {\n",
       "        vertical-align: middle;\n",
       "    }\n",
       "\n",
       "    .dataframe tbody tr th {\n",
       "        vertical-align: top;\n",
       "    }\n",
       "\n",
       "    .dataframe thead th {\n",
       "        text-align: right;\n",
       "    }\n",
       "</style>\n",
       "<table border=\"1\" class=\"dataframe\">\n",
       "  <thead>\n",
       "    <tr style=\"text-align: right;\">\n",
       "      <th></th>\n",
       "      <th>Symbol</th>\n",
       "      <th>Market</th>\n",
       "      <th>Name</th>\n",
       "      <th>Sector</th>\n",
       "      <th>Industry</th>\n",
       "      <th>ListingDate</th>\n",
       "      <th>SettleMonth</th>\n",
       "      <th>Representative</th>\n",
       "      <th>HomePage</th>\n",
       "      <th>Region</th>\n",
       "    </tr>\n",
       "  </thead>\n",
       "  <tbody>\n",
       "    <tr>\n",
       "      <th>1</th>\n",
       "      <td>095570</td>\n",
       "      <td>KOSPI</td>\n",
       "      <td>AJ네트웍스</td>\n",
       "      <td>산업용 기계 및 장비 임대업</td>\n",
       "      <td>렌탈(파렛트, OA장비, 건설장비)</td>\n",
       "      <td>2015-08-21</td>\n",
       "      <td>12월</td>\n",
       "      <td>박대현, 손삼달</td>\n",
       "      <td>http://www.ajnet.co.kr</td>\n",
       "      <td>서울특별시</td>\n",
       "    </tr>\n",
       "    <tr>\n",
       "      <th>2</th>\n",
       "      <td>006840</td>\n",
       "      <td>KOSPI</td>\n",
       "      <td>AK홀딩스</td>\n",
       "      <td>기타 금융업</td>\n",
       "      <td>지주사업</td>\n",
       "      <td>1999-08-11</td>\n",
       "      <td>12월</td>\n",
       "      <td>채형석, 이석주(각자 대표이사)</td>\n",
       "      <td>http://www.aekyunggroup.co.kr</td>\n",
       "      <td>서울특별시</td>\n",
       "    </tr>\n",
       "    <tr>\n",
       "      <th>6</th>\n",
       "      <td>152100</td>\n",
       "      <td>KOSPI</td>\n",
       "      <td>ARIRANG 200</td>\n",
       "      <td>NaN</td>\n",
       "      <td>NaN</td>\n",
       "      <td>NaT</td>\n",
       "      <td>NaN</td>\n",
       "      <td>NaN</td>\n",
       "      <td>NaN</td>\n",
       "      <td>NaN</td>\n",
       "    </tr>\n",
       "    <tr>\n",
       "      <th>7</th>\n",
       "      <td>295820</td>\n",
       "      <td>KOSPI</td>\n",
       "      <td>ARIRANG 200동일가중</td>\n",
       "      <td>NaN</td>\n",
       "      <td>NaN</td>\n",
       "      <td>NaT</td>\n",
       "      <td>NaN</td>\n",
       "      <td>NaN</td>\n",
       "      <td>NaN</td>\n",
       "      <td>NaN</td>\n",
       "    </tr>\n",
       "    <tr>\n",
       "      <th>8</th>\n",
       "      <td>253150</td>\n",
       "      <td>KOSPI</td>\n",
       "      <td>ARIRANG 200선물레버리지</td>\n",
       "      <td>NaN</td>\n",
       "      <td>NaN</td>\n",
       "      <td>NaT</td>\n",
       "      <td>NaN</td>\n",
       "      <td>NaN</td>\n",
       "      <td>NaN</td>\n",
       "      <td>NaN</td>\n",
       "    </tr>\n",
       "    <tr>\n",
       "      <th>...</th>\n",
       "      <td>...</td>\n",
       "      <td>...</td>\n",
       "      <td>...</td>\n",
       "      <td>...</td>\n",
       "      <td>...</td>\n",
       "      <td>...</td>\n",
       "      <td>...</td>\n",
       "      <td>...</td>\n",
       "      <td>...</td>\n",
       "      <td>...</td>\n",
       "    </tr>\n",
       "    <tr>\n",
       "      <th>8240</th>\n",
       "      <td>000547</td>\n",
       "      <td>KOSPI</td>\n",
       "      <td>흥국화재2우B</td>\n",
       "      <td>NaN</td>\n",
       "      <td>NaN</td>\n",
       "      <td>NaT</td>\n",
       "      <td>NaN</td>\n",
       "      <td>NaN</td>\n",
       "      <td>NaN</td>\n",
       "      <td>NaN</td>\n",
       "    </tr>\n",
       "    <tr>\n",
       "      <th>8241</th>\n",
       "      <td>000545</td>\n",
       "      <td>KOSPI</td>\n",
       "      <td>흥국화재우</td>\n",
       "      <td>NaN</td>\n",
       "      <td>NaN</td>\n",
       "      <td>NaT</td>\n",
       "      <td>NaN</td>\n",
       "      <td>NaN</td>\n",
       "      <td>NaN</td>\n",
       "      <td>NaN</td>\n",
       "    </tr>\n",
       "    <tr>\n",
       "      <th>8242</th>\n",
       "      <td>003280</td>\n",
       "      <td>KOSPI</td>\n",
       "      <td>흥아해운</td>\n",
       "      <td>해상 운송업</td>\n",
       "      <td>외항화물운송업(케미컬탱커)</td>\n",
       "      <td>1976-06-29</td>\n",
       "      <td>12월</td>\n",
       "      <td>이환구</td>\n",
       "      <td>http://www.heung-a.com</td>\n",
       "      <td>서울특별시</td>\n",
       "    </tr>\n",
       "    <tr>\n",
       "      <th>8244</th>\n",
       "      <td>419890</td>\n",
       "      <td>KOSPI</td>\n",
       "      <td>히어로즈 단기채권ESG액티브</td>\n",
       "      <td>NaN</td>\n",
       "      <td>NaN</td>\n",
       "      <td>NaT</td>\n",
       "      <td>NaN</td>\n",
       "      <td>NaN</td>\n",
       "      <td>NaN</td>\n",
       "      <td>NaN</td>\n",
       "    </tr>\n",
       "    <tr>\n",
       "      <th>8245</th>\n",
       "      <td>429870</td>\n",
       "      <td>KOSPI</td>\n",
       "      <td>히어로즈 리츠이지스액티브</td>\n",
       "      <td>NaN</td>\n",
       "      <td>NaN</td>\n",
       "      <td>NaT</td>\n",
       "      <td>NaN</td>\n",
       "      <td>NaN</td>\n",
       "      <td>NaN</td>\n",
       "      <td>NaN</td>\n",
       "    </tr>\n",
       "  </tbody>\n",
       "</table>\n",
       "<p>6551 rows × 10 columns</p>\n",
       "</div>"
      ],
      "text/plain": [
       "      Symbol Market               Name           Sector             Industry  \\\n",
       "1     095570  KOSPI             AJ네트웍스  산업용 기계 및 장비 임대업  렌탈(파렛트, OA장비, 건설장비)   \n",
       "2     006840  KOSPI              AK홀딩스           기타 금융업                 지주사업   \n",
       "6     152100  KOSPI        ARIRANG 200              NaN                  NaN   \n",
       "7     295820  KOSPI    ARIRANG 200동일가중              NaN                  NaN   \n",
       "8     253150  KOSPI  ARIRANG 200선물레버리지              NaN                  NaN   \n",
       "...      ...    ...                ...              ...                  ...   \n",
       "8240  000547  KOSPI            흥국화재2우B              NaN                  NaN   \n",
       "8241  000545  KOSPI              흥국화재우              NaN                  NaN   \n",
       "8242  003280  KOSPI               흥아해운           해상 운송업       외항화물운송업(케미컬탱커)   \n",
       "8244  419890  KOSPI    히어로즈 단기채권ESG액티브              NaN                  NaN   \n",
       "8245  429870  KOSPI      히어로즈 리츠이지스액티브              NaN                  NaN   \n",
       "\n",
       "     ListingDate SettleMonth     Representative  \\\n",
       "1     2015-08-21         12월           박대현, 손삼달   \n",
       "2     1999-08-11         12월  채형석, 이석주(각자 대표이사)   \n",
       "6            NaT         NaN                NaN   \n",
       "7            NaT         NaN                NaN   \n",
       "8            NaT         NaN                NaN   \n",
       "...          ...         ...                ...   \n",
       "8240         NaT         NaN                NaN   \n",
       "8241         NaT         NaN                NaN   \n",
       "8242  1976-06-29         12월                이환구   \n",
       "8244         NaT         NaN                NaN   \n",
       "8245         NaT         NaN                NaN   \n",
       "\n",
       "                           HomePage Region  \n",
       "1            http://www.ajnet.co.kr  서울특별시  \n",
       "2     http://www.aekyunggroup.co.kr  서울특별시  \n",
       "6                               NaN    NaN  \n",
       "7                               NaN    NaN  \n",
       "8                               NaN    NaN  \n",
       "...                             ...    ...  \n",
       "8240                            NaN    NaN  \n",
       "8241                            NaN    NaN  \n",
       "8242         http://www.heung-a.com  서울특별시  \n",
       "8244                            NaN    NaN  \n",
       "8245                            NaN    NaN  \n",
       "\n",
       "[6551 rows x 10 columns]"
      ]
     },
     "execution_count": 98,
     "metadata": {},
     "output_type": "execute_result"
    }
   ],
   "source": [
    "df_krx = fdr.StockListing('KRX')\n",
    "df_kospi1 = df_krx[df_krx['Market']=='KOSPI']\n",
    "df_kospi1"
   ]
  },
  {
   "cell_type": "code",
   "execution_count": 117,
   "id": "946e44eb",
   "metadata": {
    "ExecuteTime": {
     "end_time": "2022-06-08T11:40:13.552247Z",
     "start_time": "2022-06-08T11:40:13.534318Z"
    }
   },
   "outputs": [
    {
     "data": {
      "text/html": [
       "<div>\n",
       "<style scoped>\n",
       "    .dataframe tbody tr th:only-of-type {\n",
       "        vertical-align: middle;\n",
       "    }\n",
       "\n",
       "    .dataframe tbody tr th {\n",
       "        vertical-align: top;\n",
       "    }\n",
       "\n",
       "    .dataframe thead th {\n",
       "        text-align: right;\n",
       "    }\n",
       "</style>\n",
       "<table border=\"1\" class=\"dataframe\">\n",
       "  <thead>\n",
       "    <tr style=\"text-align: right;\">\n",
       "      <th></th>\n",
       "      <th>Symbol</th>\n",
       "      <th>Market</th>\n",
       "      <th>Name</th>\n",
       "      <th>Sector</th>\n",
       "      <th>Industry</th>\n",
       "      <th>ListingDate</th>\n",
       "      <th>SettleMonth</th>\n",
       "      <th>Representative</th>\n",
       "      <th>HomePage</th>\n",
       "      <th>Region</th>\n",
       "    </tr>\n",
       "  </thead>\n",
       "  <tbody>\n",
       "    <tr>\n",
       "      <th>1</th>\n",
       "      <td>095570</td>\n",
       "      <td>KOSPI</td>\n",
       "      <td>AJ네트웍스</td>\n",
       "      <td>산업용 기계 및 장비 임대업</td>\n",
       "      <td>렌탈(파렛트, OA장비, 건설장비)</td>\n",
       "      <td>2015-08-21</td>\n",
       "      <td>12월</td>\n",
       "      <td>박대현, 손삼달</td>\n",
       "      <td>http://www.ajnet.co.kr</td>\n",
       "      <td>서울특별시</td>\n",
       "    </tr>\n",
       "    <tr>\n",
       "      <th>2</th>\n",
       "      <td>006840</td>\n",
       "      <td>KOSPI</td>\n",
       "      <td>AK홀딩스</td>\n",
       "      <td>기타 금융업</td>\n",
       "      <td>지주사업</td>\n",
       "      <td>1999-08-11</td>\n",
       "      <td>12월</td>\n",
       "      <td>채형석, 이석주(각자 대표이사)</td>\n",
       "      <td>http://www.aekyunggroup.co.kr</td>\n",
       "      <td>서울특별시</td>\n",
       "    </tr>\n",
       "    <tr>\n",
       "      <th>54</th>\n",
       "      <td>027410</td>\n",
       "      <td>KOSPI</td>\n",
       "      <td>BGF</td>\n",
       "      <td>기타 금융업</td>\n",
       "      <td>지주회사</td>\n",
       "      <td>2014-05-19</td>\n",
       "      <td>12월</td>\n",
       "      <td>홍정국</td>\n",
       "      <td>http://www.bgf.co.kr</td>\n",
       "      <td>서울특별시</td>\n",
       "    </tr>\n",
       "    <tr>\n",
       "      <th>55</th>\n",
       "      <td>282330</td>\n",
       "      <td>KOSPI</td>\n",
       "      <td>BGF리테일</td>\n",
       "      <td>종합 소매업</td>\n",
       "      <td>체인화 편의점</td>\n",
       "      <td>2017-12-08</td>\n",
       "      <td>12월</td>\n",
       "      <td>이건준</td>\n",
       "      <td>http://www.bgfretail.com</td>\n",
       "      <td>서울특별시</td>\n",
       "    </tr>\n",
       "    <tr>\n",
       "      <th>57</th>\n",
       "      <td>138930</td>\n",
       "      <td>KOSPI</td>\n",
       "      <td>BNK금융지주</td>\n",
       "      <td>기타 금융업</td>\n",
       "      <td>금융지주회사</td>\n",
       "      <td>2011-03-30</td>\n",
       "      <td>12월</td>\n",
       "      <td>김지완</td>\n",
       "      <td>http://www.bnkfg.com</td>\n",
       "      <td>부산광역시</td>\n",
       "    </tr>\n",
       "  </tbody>\n",
       "</table>\n",
       "</div>"
      ],
      "text/plain": [
       "    Symbol Market     Name           Sector             Industry ListingDate  \\\n",
       "1   095570  KOSPI   AJ네트웍스  산업용 기계 및 장비 임대업  렌탈(파렛트, OA장비, 건설장비)  2015-08-21   \n",
       "2   006840  KOSPI    AK홀딩스           기타 금융업                 지주사업  1999-08-11   \n",
       "54  027410  KOSPI      BGF           기타 금융업                 지주회사  2014-05-19   \n",
       "55  282330  KOSPI   BGF리테일           종합 소매업              체인화 편의점  2017-12-08   \n",
       "57  138930  KOSPI  BNK금융지주           기타 금융업               금융지주회사  2011-03-30   \n",
       "\n",
       "   SettleMonth     Representative                       HomePage Region  \n",
       "1          12월           박대현, 손삼달         http://www.ajnet.co.kr  서울특별시  \n",
       "2          12월  채형석, 이석주(각자 대표이사)  http://www.aekyunggroup.co.kr  서울특별시  \n",
       "54         12월                홍정국           http://www.bgf.co.kr  서울특별시  \n",
       "55         12월                이건준       http://www.bgfretail.com  서울특별시  \n",
       "57         12월                김지완           http://www.bnkfg.com  부산광역시  "
      ]
     },
     "execution_count": 117,
     "metadata": {},
     "output_type": "execute_result"
    }
   ],
   "source": [
    "df_820 = df_kospi1.dropna(subset=['Sector'])\n",
    "df_820.head()"
   ]
  },
  {
   "cell_type": "code",
   "execution_count": 113,
   "id": "8073230b",
   "metadata": {
    "ExecuteTime": {
     "end_time": "2022-06-08T11:37:55.550979Z",
     "start_time": "2022-06-08T11:37:55.527043Z"
    }
   },
   "outputs": [
    {
     "data": {
      "text/html": [
       "<div>\n",
       "<style scoped>\n",
       "    .dataframe tbody tr th:only-of-type {\n",
       "        vertical-align: middle;\n",
       "    }\n",
       "\n",
       "    .dataframe tbody tr th {\n",
       "        vertical-align: top;\n",
       "    }\n",
       "\n",
       "    .dataframe thead th {\n",
       "        text-align: right;\n",
       "    }\n",
       "</style>\n",
       "<table border=\"1\" class=\"dataframe\">\n",
       "  <thead>\n",
       "    <tr style=\"text-align: right;\">\n",
       "      <th></th>\n",
       "      <th>Symbol</th>\n",
       "      <th>Market</th>\n",
       "      <th>Name</th>\n",
       "      <th>Sector</th>\n",
       "      <th>Industry</th>\n",
       "      <th>ListingDate</th>\n",
       "      <th>SettleMonth</th>\n",
       "      <th>Representative</th>\n",
       "      <th>HomePage</th>\n",
       "      <th>Region</th>\n",
       "    </tr>\n",
       "  </thead>\n",
       "  <tbody>\n",
       "    <tr>\n",
       "      <th>4453</th>\n",
       "      <td>000390</td>\n",
       "      <td>KOSPI</td>\n",
       "      <td>삼화페인트</td>\n",
       "      <td>기타 화학제품 제조업</td>\n",
       "      <td>건축용페인트,공업용페인트,분체도료 등 제조</td>\n",
       "      <td>1993-09-10</td>\n",
       "      <td>12월</td>\n",
       "      <td>오진수,류기붕(각자대표)</td>\n",
       "      <td>http://www.samhwa.com</td>\n",
       "      <td>경기도</td>\n",
       "    </tr>\n",
       "  </tbody>\n",
       "</table>\n",
       "</div>"
      ],
      "text/plain": [
       "      Symbol Market   Name       Sector                 Industry ListingDate  \\\n",
       "4453  000390  KOSPI  삼화페인트  기타 화학제품 제조업  건축용페인트,공업용페인트,분체도료 등 제조  1993-09-10   \n",
       "\n",
       "     SettleMonth Representative               HomePage Region  \n",
       "4453         12월  오진수,류기붕(각자대표)  http://www.samhwa.com    경기도  "
      ]
     },
     "execution_count": 113,
     "metadata": {},
     "output_type": "execute_result"
    }
   ],
   "source": [
    "df_kospi1[df_kospi1['Name']=='삼화페인트']"
   ]
  },
  {
   "cell_type": "code",
   "execution_count": 118,
   "id": "2620114b",
   "metadata": {
    "ExecuteTime": {
     "end_time": "2022-06-08T11:41:10.281974Z",
     "start_time": "2022-06-08T11:41:10.271003Z"
    }
   },
   "outputs": [],
   "source": [
    "ser_r = pd.Series(df_820['Name'])"
   ]
  },
  {
   "cell_type": "markdown",
   "id": "4f4d3ec4",
   "metadata": {},
   "source": [
    "### 이름 다른 기업 모음 : df_ya"
   ]
  },
  {
   "cell_type": "code",
   "execution_count": 124,
   "id": "f005263a",
   "metadata": {
    "ExecuteTime": {
     "end_time": "2022-06-08T11:48:21.482971Z",
     "start_time": "2022-06-08T11:48:21.463028Z"
    },
    "scrolled": true
   },
   "outputs": [
    {
     "data": {
      "text/html": [
       "<div>\n",
       "<style scoped>\n",
       "    .dataframe tbody tr th:only-of-type {\n",
       "        vertical-align: middle;\n",
       "    }\n",
       "\n",
       "    .dataframe tbody tr th {\n",
       "        vertical-align: top;\n",
       "    }\n",
       "\n",
       "    .dataframe thead th {\n",
       "        text-align: right;\n",
       "    }\n",
       "</style>\n",
       "<table border=\"1\" class=\"dataframe\">\n",
       "  <thead>\n",
       "    <tr style=\"text-align: right;\">\n",
       "      <th></th>\n",
       "      <th>corp_name</th>\n",
       "    </tr>\n",
       "  </thead>\n",
       "  <tbody>\n",
       "    <tr>\n",
       "      <th>9</th>\n",
       "      <td>태양금속공업</td>\n",
       "    </tr>\n",
       "    <tr>\n",
       "      <th>41</th>\n",
       "      <td>진양폴리우레탄</td>\n",
       "    </tr>\n",
       "    <tr>\n",
       "      <th>48</th>\n",
       "      <td>효성 ITX</td>\n",
       "    </tr>\n",
       "    <tr>\n",
       "      <th>62</th>\n",
       "      <td>삼영화학공업</td>\n",
       "    </tr>\n",
       "    <tr>\n",
       "      <th>77</th>\n",
       "      <td>하이트론씨스템즈</td>\n",
       "    </tr>\n",
       "  </tbody>\n",
       "</table>\n",
       "</div>"
      ],
      "text/plain": [
       "   corp_name\n",
       "9     태양금속공업\n",
       "41   진양폴리우레탄\n",
       "48    효성 ITX\n",
       "62    삼영화학공업\n",
       "77  하이트론씨스템즈"
      ]
     },
     "execution_count": 124,
     "metadata": {},
     "output_type": "execute_result"
    }
   ],
   "source": [
    "df_ya = ser11[~ser11.isin(ser_r)].to_frame()\n",
    "df_ya.head()"
   ]
  },
  {
   "cell_type": "code",
   "execution_count": 125,
   "id": "2800eb63",
   "metadata": {
    "ExecuteTime": {
     "end_time": "2022-06-08T11:48:25.032590Z",
     "start_time": "2022-06-08T11:48:25.021650Z"
    }
   },
   "outputs": [
    {
     "data": {
      "text/plain": [
       "54"
      ]
     },
     "execution_count": 125,
     "metadata": {},
     "output_type": "execute_result"
    }
   ],
   "source": [
    "len(ser11[~ser11.isin(ser_r)]) "
   ]
  },
  {
   "cell_type": "code",
   "execution_count": 138,
   "id": "efe9c7d0",
   "metadata": {
    "ExecuteTime": {
     "end_time": "2022-06-08T11:56:31.158829Z",
     "start_time": "2022-06-08T11:56:31.118806Z"
    },
    "scrolled": true
   },
   "outputs": [
    {
     "data": {
      "text/plain": [
       "[4100,\n",
       " 10640,\n",
       " 94280,\n",
       " 3720,\n",
       " 19490,\n",
       " 1200,\n",
       " 3410,\n",
       " 11230,\n",
       " 970,\n",
       " 1820,\n",
       " 1530,\n",
       " 344820,\n",
       " 11780,\n",
       " 2200,\n",
       " 810,\n",
       " 4250,\n",
       " 5300,\n",
       " 33780,\n",
       " 33270,\n",
       " 25540,\n",
       " 326030,\n",
       " 3620,\n",
       " 5870,\n",
       " 17390,\n",
       " 7700,\n",
       " 4410,\n",
       " 6060,\n",
       " 84870,\n",
       " 900140,\n",
       " 5680,\n",
       " 3560,\n",
       " 123700,\n",
       " 5750,\n",
       " 10100,\n",
       " 13580,\n",
       " 25530,\n",
       " 11700,\n",
       " 3650,\n",
       " 10420,\n",
       " 181710,\n",
       " 30200,\n",
       " 17800,\n",
       " 53210,\n",
       " 334890,\n",
       " 2380,\n",
       " 5380,\n",
       " 69260,\n",
       " 4090,\n",
       " 10120,\n",
       " 9070,\n",
       " 390,\n",
       " 15760,\n",
       " 35510,\n",
       " 2790]"
      ]
     },
     "execution_count": 138,
     "metadata": {},
     "output_type": "execute_result"
    }
   ],
   "source": [
    "code_list = []\n",
    "for name in df_ya['corp_name'].tolist():\n",
    "    if name in df_kospi['corp_name'].tolist():\n",
    "        code = df_kospi[df_kospi['corp_name']==name]['Symbol'].iloc[0]\n",
    "        code_list.append(code)\n",
    "code_list "
   ]
  },
  {
   "cell_type": "code",
   "execution_count": 130,
   "id": "26b2303b",
   "metadata": {
    "ExecuteTime": {
     "end_time": "2022-06-08T11:49:30.890401Z",
     "start_time": "2022-06-08T11:49:30.878405Z"
    }
   },
   "outputs": [
    {
     "data": {
      "text/plain": [
       "'태양금속공업'"
      ]
     },
     "execution_count": 130,
     "metadata": {},
     "output_type": "execute_result"
    }
   ],
   "source": [
    "df_ya['corp_name'].tolist()[0]"
   ]
  },
  {
   "cell_type": "code",
   "execution_count": 139,
   "id": "b1500250",
   "metadata": {
    "ExecuteTime": {
     "end_time": "2022-06-08T11:56:39.783933Z",
     "start_time": "2022-06-08T11:56:39.775956Z"
    }
   },
   "outputs": [
    {
     "data": {
      "text/plain": [
       "54"
      ]
     },
     "execution_count": 139,
     "metadata": {},
     "output_type": "execute_result"
    }
   ],
   "source": [
    "len(code_list)"
   ]
  },
  {
   "cell_type": "code",
   "execution_count": 140,
   "id": "151867b7",
   "metadata": {
    "ExecuteTime": {
     "end_time": "2022-06-08T11:56:59.046955Z",
     "start_time": "2022-06-08T11:56:59.039976Z"
    }
   },
   "outputs": [],
   "source": [
    "df_ya['code'] = code_list"
   ]
  },
  {
   "cell_type": "code",
   "execution_count": 143,
   "id": "9fa18cd0",
   "metadata": {
    "ExecuteTime": {
     "end_time": "2022-06-08T11:58:13.877597Z",
     "start_time": "2022-06-08T11:58:13.870616Z"
    }
   },
   "outputs": [],
   "source": [
    "df_ya.to_csv('./data/수정해야할기업54.csv')"
   ]
  },
  {
   "cell_type": "code",
   "execution_count": null,
   "id": "2352704c",
   "metadata": {},
   "outputs": [],
   "source": []
  }
 ],
 "metadata": {
  "kernelspec": {
   "display_name": "Python 3 (ipykernel)",
   "language": "python",
   "name": "python3"
  },
  "language_info": {
   "codemirror_mode": {
    "name": "ipython",
    "version": 3
   },
   "file_extension": ".py",
   "mimetype": "text/x-python",
   "name": "python",
   "nbconvert_exporter": "python",
   "pygments_lexer": "ipython3",
   "version": "3.9.7"
  },
  "toc": {
   "base_numbering": 1,
   "nav_menu": {},
   "number_sections": true,
   "sideBar": true,
   "skip_h1_title": false,
   "title_cell": "Table of Contents",
   "title_sidebar": "Contents",
   "toc_cell": false,
   "toc_position": {
    "height": "calc(100% - 180px)",
    "left": "10px",
    "top": "150px",
    "width": "384px"
   },
   "toc_section_display": true,
   "toc_window_display": true
  },
  "varInspector": {
   "cols": {
    "lenName": 16,
    "lenType": 16,
    "lenVar": 40
   },
   "kernels_config": {
    "python": {
     "delete_cmd_postfix": "",
     "delete_cmd_prefix": "del ",
     "library": "var_list.py",
     "varRefreshCmd": "print(var_dic_list())"
    },
    "r": {
     "delete_cmd_postfix": ") ",
     "delete_cmd_prefix": "rm(",
     "library": "var_list.r",
     "varRefreshCmd": "cat(var_dic_list()) "
    }
   },
   "types_to_exclude": [
    "module",
    "function",
    "builtin_function_or_method",
    "instance",
    "_Feature"
   ],
   "window_display": false
  }
 },
 "nbformat": 4,
 "nbformat_minor": 5
}
