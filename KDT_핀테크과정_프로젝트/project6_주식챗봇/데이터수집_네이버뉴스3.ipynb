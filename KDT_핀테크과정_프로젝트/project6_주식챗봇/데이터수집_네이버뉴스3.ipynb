{
 "cells": [
  {
   "cell_type": "code",
   "execution_count": 3,
   "id": "4322ce66",
   "metadata": {
    "ExecuteTime": {
     "end_time": "2022-06-10T10:46:31.898987Z",
     "start_time": "2022-06-10T10:46:31.329879Z"
    }
   },
   "outputs": [],
   "source": [
    "import pandas as pd\n",
    "import numpy as np\n",
    "from bs4 import BeautifulSoup\n",
    "import requests\n",
    "\n",
    "from selenium import webdriver\n",
    "import os \n",
    "import re\n"
   ]
  },
  {
   "cell_type": "code",
   "execution_count": 3,
   "id": "ef2bad76",
   "metadata": {
    "ExecuteTime": {
     "end_time": "2022-06-02T00:03:03.516100Z",
     "start_time": "2022-06-02T00:03:03.491096Z"
    }
   },
   "outputs": [],
   "source": [
    "df_kospi = pd.read_csv('./data/kospi_list.csv')\n",
    "df_kospi['corp_name']\n",
    "corp_list = df_kospi['corp_name']"
   ]
  },
  {
   "cell_type": "code",
   "execution_count": 4,
   "id": "0c48a16a",
   "metadata": {
    "ExecuteTime": {
     "end_time": "2022-06-02T00:03:03.718098Z",
     "start_time": "2022-06-02T00:03:03.699120Z"
    }
   },
   "outputs": [
    {
     "data": {
      "text/plain": [
       "(array([740], dtype=int64),)"
      ]
     },
     "execution_count": 4,
     "metadata": {},
     "output_type": "execute_result"
    }
   ],
   "source": [
    "np.where(corp_list=='흥국화재')"
   ]
  },
  {
   "cell_type": "code",
   "execution_count": 5,
   "id": "0314effc",
   "metadata": {
    "ExecuteTime": {
     "end_time": "2022-06-02T00:03:03.874012Z",
     "start_time": "2022-06-02T00:03:03.859052Z"
    }
   },
   "outputs": [
    {
     "data": {
      "text/plain": [
       "'JW중외제약'"
      ]
     },
     "execution_count": 5,
     "metadata": {},
     "output_type": "execute_result"
    }
   ],
   "source": [
    "corp_list[640]"
   ]
  },
  {
   "cell_type": "code",
   "execution_count": 1,
   "id": "30f57157",
   "metadata": {
    "ExecuteTime": {
     "end_time": "2022-06-10T10:34:27.286740Z",
     "start_time": "2022-06-10T10:34:27.273744Z"
    }
   },
   "outputs": [],
   "source": [
    "# df_kospi = pd.read_csv('./data/kospi_list.csv')\n",
    "# df_kospi['corp_name']\n",
    "\n",
    "# corp_list = df_kospi['corp_name']\n",
    "# bgn_date1 = '2016.01.01'\n",
    "# bgn_date2 = '20160101'\n",
    "# end_date1 = '2022.05.30'\n",
    "# end_date2 = '20220530'\n",
    "# rpt_type = [1,2,3,4,5]\n",
    "# page = 10000000\n",
    "\n",
    "# for corp in corp_list[101:200]:\n",
    "#     print('회사이름 :', corp)\n",
    "#     title_lst = []\n",
    "#     summary_lst = []\n",
    "#     date_lst = []\n",
    "    \n",
    "#     for rpt in rpt_type:\n",
    "#         print('보고서 타입: ',rpt)\n",
    "#         title_c =[]\n",
    "#         title_c.append('빈텍스트')\n",
    "        \n",
    "#         for pg in range(1,page):\n",
    "            \n",
    "#             page_num = pg *10 - 9\n",
    "\n",
    "#             url = f'https://search.naver.com/search.naver?where=news&sm=tab_pge&query={corp}&sort=0&photo={rpt}&field=0&pd=3&ds={bgn_date1}&de={end_date1}&cluster_rank=24&mynews=0&office_type=0&office_section_code=0&news_office_checked=&nso=so:r,p:from{bgn_date2}to{end_date2},a:all&start={page_num}'\n",
    "#             res = requests.get(url)\n",
    "#             soup = BeautifulSoup(res.text , 'html.parser')\n",
    "#             lis = soup.select('#main_pack > section > div > div.group_news > ul>li')\n",
    "            \n",
    "#             for li in lis:\n",
    "#                 #제목\n",
    "#                 title = li.select('div.news_wrap.api_ani_send > div > a')[0].text\n",
    "                \n",
    "#                 title_lst.append(title)\n",
    "                \n",
    "#                 #요약\n",
    "#                 summary = li.select('div.news_dsc > div > a')[0].text\n",
    "#                 summary_lst.append(summary)\n",
    "                \n",
    "#                 #날짜\n",
    "                \n",
    "#                 if len(li.select('div.news_info > div.info_group > span'))==1:\n",
    "#                     date = li.select('div.news_info > div.info_group > span')[0].text\n",
    "#                     date_lst.append(date)\n",
    "#                     print('날짜: ',date)\n",
    "                \n",
    "                    \n",
    "#                 if len(li.select('div.news_info > div.info_group > span'))==2:\n",
    "#                     date = li.select('div.news_info > div.info_group > span')[1].text\n",
    "#                     date_lst.append(date)\n",
    "#                     print('날짜: ',date)\n",
    "                    \n",
    "                \n",
    "                    \n",
    "#             #각 페이지의 마지막 title        \n",
    "#             title_c.append(title)\n",
    "            \n",
    "#             # 각페이지의 마지막 title이 같으면 다음 리포트로\n",
    "#             if pg > 5:\n",
    "#                 if (title_c[-1] == title_c[-2])&(title_c[-2] == title_c[-3])&(title_c[-3] == title_c[-4])&(title_c[-4] == title_c[-5]):\n",
    "#                     break\n",
    "                    \n",
    "#                 else:\n",
    "#                     pass\n",
    "#             else:\n",
    "#                 pass\n",
    "\n",
    "#     df= pd.DataFrame({'날짜': date_lst, '제목': title_lst, '요약': summary_lst})\n",
    "#     df.to_csv(f'./data/개별기업뉴스_크롤링/{corp}.csv')\n",
    "#     print('-'*50)\n",
    "            \n",
    "            "
   ]
  },
  {
   "cell_type": "code",
   "execution_count": 1,
   "id": "29ebda2d",
   "metadata": {
    "ExecuteTime": {
     "end_time": "2022-06-09T09:05:07.363146Z",
     "start_time": "2022-06-09T09:05:07.344390Z"
    }
   },
   "outputs": [],
   "source": [
    "# 0:101\n",
    "# 101 : 200"
   ]
  },
  {
   "cell_type": "markdown",
   "id": "a51dfb0a",
   "metadata": {},
   "source": [
    "# 수정54개 크롤링"
   ]
  },
  {
   "cell_type": "code",
   "execution_count": 5,
   "id": "0bf5a057",
   "metadata": {
    "ExecuteTime": {
     "end_time": "2022-06-09T09:09:12.850823Z",
     "start_time": "2022-06-09T09:09:12.833586Z"
    }
   },
   "outputs": [
    {
     "data": {
      "text/html": [
       "<div>\n",
       "<style scoped>\n",
       "    .dataframe tbody tr th:only-of-type {\n",
       "        vertical-align: middle;\n",
       "    }\n",
       "\n",
       "    .dataframe tbody tr th {\n",
       "        vertical-align: top;\n",
       "    }\n",
       "\n",
       "    .dataframe thead th {\n",
       "        text-align: right;\n",
       "    }\n",
       "</style>\n",
       "<table border=\"1\" class=\"dataframe\">\n",
       "  <thead>\n",
       "    <tr style=\"text-align: right;\">\n",
       "      <th></th>\n",
       "      <th>corp_name</th>\n",
       "      <th>code</th>\n",
       "    </tr>\n",
       "  </thead>\n",
       "  <tbody>\n",
       "    <tr>\n",
       "      <th>9</th>\n",
       "      <td>태양금속공업</td>\n",
       "      <td>4100</td>\n",
       "    </tr>\n",
       "    <tr>\n",
       "      <th>41</th>\n",
       "      <td>진양폴리우레탄</td>\n",
       "      <td>10640</td>\n",
       "    </tr>\n",
       "    <tr>\n",
       "      <th>48</th>\n",
       "      <td>효성 ITX</td>\n",
       "      <td>94280</td>\n",
       "    </tr>\n",
       "    <tr>\n",
       "      <th>62</th>\n",
       "      <td>삼영화학공업</td>\n",
       "      <td>3720</td>\n",
       "    </tr>\n",
       "    <tr>\n",
       "      <th>77</th>\n",
       "      <td>하이트론씨스템즈</td>\n",
       "      <td>19490</td>\n",
       "    </tr>\n",
       "  </tbody>\n",
       "</table>\n",
       "</div>"
      ],
      "text/plain": [
       "   corp_name   code\n",
       "9     태양금속공업   4100\n",
       "41   진양폴리우레탄  10640\n",
       "48    효성 ITX  94280\n",
       "62    삼영화학공업   3720\n",
       "77  하이트론씨스템즈  19490"
      ]
     },
     "execution_count": 5,
     "metadata": {},
     "output_type": "execute_result"
    }
   ],
   "source": [
    "df54 = pd.read_csv('./data/수정해야할기업54.csv',index_col=0)\n",
    "df54.head()"
   ]
  },
  {
   "cell_type": "code",
   "execution_count": 6,
   "id": "38b1c2a0",
   "metadata": {
    "ExecuteTime": {
     "end_time": "2022-06-09T09:10:27.584974Z",
     "start_time": "2022-06-09T09:10:27.569353Z"
    }
   },
   "outputs": [
    {
     "data": {
      "text/html": [
       "<div>\n",
       "<style scoped>\n",
       "    .dataframe tbody tr th:only-of-type {\n",
       "        vertical-align: middle;\n",
       "    }\n",
       "\n",
       "    .dataframe tbody tr th {\n",
       "        vertical-align: top;\n",
       "    }\n",
       "\n",
       "    .dataframe thead th {\n",
       "        text-align: right;\n",
       "    }\n",
       "</style>\n",
       "<table border=\"1\" class=\"dataframe\">\n",
       "  <thead>\n",
       "    <tr style=\"text-align: right;\">\n",
       "      <th></th>\n",
       "      <th>stock_code</th>\n",
       "      <th>회사이름</th>\n",
       "    </tr>\n",
       "  </thead>\n",
       "  <tbody>\n",
       "    <tr>\n",
       "      <th>0</th>\n",
       "      <td>40</td>\n",
       "      <td>KR모터스</td>\n",
       "    </tr>\n",
       "    <tr>\n",
       "      <th>1</th>\n",
       "      <td>50</td>\n",
       "      <td>경방</td>\n",
       "    </tr>\n",
       "    <tr>\n",
       "      <th>2</th>\n",
       "      <td>80</td>\n",
       "      <td>하이트진로</td>\n",
       "    </tr>\n",
       "    <tr>\n",
       "      <th>3</th>\n",
       "      <td>100</td>\n",
       "      <td>유한양행</td>\n",
       "    </tr>\n",
       "    <tr>\n",
       "      <th>4</th>\n",
       "      <td>120</td>\n",
       "      <td>CJ대한통운</td>\n",
       "    </tr>\n",
       "  </tbody>\n",
       "</table>\n",
       "</div>"
      ],
      "text/plain": [
       "   stock_code    회사이름\n",
       "0          40   KR모터스\n",
       "1          50      경방\n",
       "2          80   하이트진로\n",
       "3         100    유한양행\n",
       "4         120  CJ대한통운"
      ]
     },
     "execution_count": 6,
     "metadata": {},
     "output_type": "execute_result"
    }
   ],
   "source": [
    "corp511 = pd.read_csv('./data/개별기업명_511.csv',index_col=0)\n",
    "corp511.head()"
   ]
  },
  {
   "cell_type": "code",
   "execution_count": 14,
   "id": "7f726b68",
   "metadata": {
    "ExecuteTime": {
     "end_time": "2022-06-09T10:01:20.305942Z",
     "start_time": "2022-06-09T10:01:20.281290Z"
    }
   },
   "outputs": [],
   "source": [
    "# 474개 파일\n",
    "file474 = os.listdir('./data/개별기업뉴스_자연어처리/')\n",
    "lst474 = []\n",
    "for file in file474:\n",
    "    corp = file[:-4]\n",
    "    lst474.append(corp)"
   ]
  },
  {
   "cell_type": "code",
   "execution_count": 15,
   "id": "a2f81a43",
   "metadata": {
    "ExecuteTime": {
     "end_time": "2022-06-09T10:01:43.675410Z",
     "start_time": "2022-06-09T10:01:43.664441Z"
    }
   },
   "outputs": [],
   "source": [
    "ser_511 = pd.Series(corp511['회사이름'])\n",
    "ser_474 = pd.Series(lst474)"
   ]
  },
  {
   "cell_type": "code",
   "execution_count": 18,
   "id": "af23cf17",
   "metadata": {
    "ExecuteTime": {
     "end_time": "2022-06-09T10:04:02.884220Z",
     "start_time": "2022-06-09T10:04:02.865901Z"
    }
   },
   "outputs": [
    {
     "data": {
      "text/plain": [
       "13     삼화페인트\n",
       "50      DI동일\n",
       "59     삼화콘덴서\n",
       "68    한국수출포장\n",
       "80      아모레G\n",
       "Name: 회사이름, dtype: object"
      ]
     },
     "execution_count": 18,
     "metadata": {},
     "output_type": "execute_result"
    }
   ],
   "source": [
    "corp_list = ser_511[~ser_511.isin(ser_474)]\n",
    "corp_list[:5]"
   ]
  },
  {
   "cell_type": "code",
   "execution_count": 17,
   "id": "837d4a95",
   "metadata": {
    "ExecuteTime": {
     "end_time": "2022-06-09T10:02:30.430752Z",
     "start_time": "2022-06-09T10:02:30.417916Z"
    }
   },
   "outputs": [
    {
     "data": {
      "text/plain": [
       "37"
      ]
     },
     "execution_count": 17,
     "metadata": {},
     "output_type": "execute_result"
    }
   ],
   "source": [
    "len(ser_511[~ser_511.isin(ser_474)])"
   ]
  },
  {
   "cell_type": "code",
   "execution_count": 21,
   "id": "0d534856",
   "metadata": {
    "ExecuteTime": {
     "end_time": "2022-06-09T13:30:19.730968Z",
     "start_time": "2022-06-09T13:30:19.724954Z"
    }
   },
   "outputs": [],
   "source": [
    "bgn_date1 = '2016.01.01'\n",
    "bgn_date2 = '20160101'\n",
    "end_date1 = '2022.05.30'\n",
    "end_date2 = '20220530'\n",
    "rpt_type = [1,2,3,4,5]\n",
    "page = 10000000\n",
    "\n",
    "for corp in corp_list[:]:\n",
    "    print('회사이름 :', corp)\n",
    "    title_lst = []\n",
    "    summary_lst = []\n",
    "    date_lst = []\n",
    "    \n",
    "    for rpt in rpt_type:\n",
    "        print('보고서 타입: ',rpt)\n",
    "        title_c =[]\n",
    "        title_c.append('빈텍스트')\n",
    "        \n",
    "        for pg in range(1,page):\n",
    "            \n",
    "            page_num = pg *10 - 9\n",
    "\n",
    "            url = f'https://search.naver.com/search.naver?where=news&sm=tab_pge&query={corp}&sort=0&photo={rpt}&field=0&pd=3&ds={bgn_date1}&de={end_date1}&cluster_rank=24&mynews=0&office_type=0&office_section_code=0&news_office_checked=&nso=so:r,p:from{bgn_date2}to{end_date2},a:all&start={page_num}'\n",
    "            res = requests.get(url)\n",
    "            soup = BeautifulSoup(res.text , 'html.parser')\n",
    "            lis = soup.select('#main_pack > section > div > div.group_news > ul>li')\n",
    "            \n",
    "            for li in lis:\n",
    "                #제목\n",
    "                title = li.select('div.news_wrap.api_ani_send > div > a')[0].text\n",
    "                \n",
    "                title_lst.append(title)\n",
    "                \n",
    "                #요약\n",
    "                summary = li.select('div.news_dsc > div > a')[0].text\n",
    "                summary_lst.append(summary)\n",
    "                \n",
    "                #날짜\n",
    "                \n",
    "                if len(li.select('div.news_info > div.info_group > span'))==1:\n",
    "                    date = li.select('div.news_info > div.info_group > span')[0].text\n",
    "                    date_lst.append(date)\n",
    "                    print('날짜: ',date)\n",
    "                \n",
    "                    \n",
    "                if len(li.select('div.news_info > div.info_group > span'))==2:\n",
    "                    date = li.select('div.news_info > div.info_group > span')[1].text\n",
    "                    date_lst.append(date)\n",
    "                    print('날짜: ',date)\n",
    "                    \n",
    "                \n",
    "                    \n",
    "            #각 페이지의 마지막 title        \n",
    "            title_c.append(title)\n",
    "            \n",
    "            # 각페이지의 마지막 title이 같으면 다음 리포트로\n",
    "            if pg > 5:\n",
    "                if (title_c[-1] == title_c[-2])&(title_c[-2] == title_c[-3])&(title_c[-3] == title_c[-4])&(title_c[-4] == title_c[-5]):\n",
    "                    break\n",
    "                    \n",
    "                else:\n",
    "                    pass\n",
    "            else:\n",
    "                pass\n",
    "\n",
    "    df= pd.DataFrame({'날짜': date_lst, '제목': title_lst, '요약': summary_lst})\n",
    "    df.to_csv(f'./data/추가크롤링37/{corp}.csv')\n",
    "    print('-'*50)\n",
    "            "
   ]
  },
  {
   "cell_type": "code",
   "execution_count": null,
   "id": "bbabdb76",
   "metadata": {},
   "outputs": [],
   "source": []
  },
  {
   "cell_type": "markdown",
   "id": "3c60d36d",
   "metadata": {},
   "source": [
    "# 용량 작은거 찾아서 크롤링"
   ]
  },
  {
   "cell_type": "code",
   "execution_count": 7,
   "id": "8dd845da",
   "metadata": {
    "ExecuteTime": {
     "end_time": "2022-06-10T15:06:02.624740Z",
     "start_time": "2022-06-10T15:03:24.684024Z"
    }
   },
   "outputs": [
    {
     "name": "stdout",
     "output_type": "stream",
     "text": [
      "회사이름 : KT&G\n",
      "--------------------------------------------------\n"
     ]
    }
   ],
   "source": [
    "bgn_date1 = '2022.01.01'\n",
    "bgn_date2 = '20220101'\n",
    "end_date1 = '2022.03.31'\n",
    "end_date2 = '20220331'\n",
    "rpt_type = [1,2,3,4,5]\n",
    "page = 10000000\n",
    "\n",
    "#크롤링 안된 기업\n",
    "# corp_list =['F&F','F&F홀딩스','KT&G','SHD','SK바이오팜','세이브존I&C','신세계 I&C',\n",
    "#             '에스엠벡셀','에이프로젠 MED','와이투솔루션','진양폴리','초록뱀헬스케어','태경비케이','한국주철관']\n",
    "\n",
    "corp_list=['KT&G']\n",
    "\n",
    "for corp in corp_list[:]:\n",
    "    print('회사이름 :', corp)\n",
    "    title_lst = []\n",
    "    summary_lst = []\n",
    "    date_lst = []\n",
    "    \n",
    "    for rpt in rpt_type:\n",
    "#         print('보고서 타입: ',rpt)\n",
    "        title_c =[]\n",
    "        title_c.append('빈텍스트')\n",
    "        \n",
    "        for pg in range(1,page):\n",
    "            \n",
    "            page_num = pg *10 - 9\n",
    "\n",
    "            url = f'https://search.naver.com/search.naver?where=news&sm=tab_pge&query={corp}&sort=0&photo={rpt}&field=0&pd=3&ds={bgn_date1}&de={end_date1}&cluster_rank=24&mynews=0&office_type=0&office_section_code=0&news_office_checked=&nso=so:r,p:from{bgn_date2}to{end_date2},a:all&start={page_num}'\n",
    "            res = requests.get(url)\n",
    "            soup = BeautifulSoup(res.text , 'html.parser')\n",
    "            lis = soup.select('#main_pack > section > div > div.group_news > ul>li')\n",
    "            \n",
    "            for li in lis:\n",
    "                #제목\n",
    "                title = li.select('div.news_wrap.api_ani_send > div > a')[0].text\n",
    "                \n",
    "                title_lst.append(title)\n",
    "                \n",
    "                #요약\n",
    "                summary = li.select('div.news_dsc > div > a')[0].text\n",
    "                summary_lst.append(summary)\n",
    "                \n",
    "                #날짜\n",
    "                \n",
    "                if len(li.select('div.news_info > div.info_group > span'))==1:\n",
    "                    date = li.select('div.news_info > div.info_group > span')[0].text\n",
    "                    date_lst.append(date)\n",
    "#                     print('날짜: ',date)\n",
    "                \n",
    "                    \n",
    "                if len(li.select('div.news_info > div.info_group > span'))==2:\n",
    "                    date = li.select('div.news_info > div.info_group > span')[1].text\n",
    "                    date_lst.append(date)\n",
    "#                     print('날짜: ',date)\n",
    "                    \n",
    "                \n",
    "                    \n",
    "            #각 페이지의 마지막 title        \n",
    "            title_c.append(title)\n",
    "            \n",
    "            # 각페이지의 마지막 title이 같으면 다음 리포트로\n",
    "            if pg > 5:\n",
    "                if (title_c[-1] == title_c[-2])&(title_c[-2] == title_c[-3])&(title_c[-3] == title_c[-4])&(title_c[-4] == title_c[-5]):\n",
    "                    break\n",
    "                    \n",
    "                else:\n",
    "                    pass\n",
    "            else:\n",
    "                pass\n",
    "\n",
    "    df= pd.DataFrame({'날짜': date_lst, '제목': title_lst, '요약': summary_lst})\n",
    "    df.to_csv(f'./data/temp1/{corp}.csv')\n",
    "    print('-'*50)"
   ]
  },
  {
   "cell_type": "code",
   "execution_count": 8,
   "id": "3813ad20",
   "metadata": {
    "ExecuteTime": {
     "end_time": "2022-06-10T15:06:57.981499Z",
     "start_time": "2022-06-10T15:06:57.972362Z"
    }
   },
   "outputs": [
    {
     "data": {
      "text/plain": [
       "'https://search.naver.com/search.naver?where=news&sm=tab_pge&query=KT&G&sort=0&photo=5&field=0&pd=3&ds=2022.01.01&de=2022.03.31&cluster_rank=24&mynews=0&office_type=0&office_section_code=0&news_office_checked=&nso=so:r,p:from20220101to20220331,a:all&start=101'"
      ]
     },
     "execution_count": 8,
     "metadata": {},
     "output_type": "execute_result"
    }
   ],
   "source": [
    "url"
   ]
  },
  {
   "cell_type": "code",
   "execution_count": null,
   "id": "7bd73475",
   "metadata": {},
   "outputs": [],
   "source": []
  },
  {
   "cell_type": "code",
   "execution_count": null,
   "id": "7ea2e0a4",
   "metadata": {},
   "outputs": [],
   "source": []
  },
  {
   "cell_type": "code",
   "execution_count": null,
   "id": "00e4c0ae",
   "metadata": {},
   "outputs": [],
   "source": []
  },
  {
   "cell_type": "code",
   "execution_count": null,
   "id": "0d5106ef",
   "metadata": {},
   "outputs": [],
   "source": []
  },
  {
   "cell_type": "code",
   "execution_count": null,
   "id": "32f78a54",
   "metadata": {},
   "outputs": [],
   "source": []
  },
  {
   "cell_type": "code",
   "execution_count": null,
   "id": "298d0d86",
   "metadata": {},
   "outputs": [],
   "source": []
  },
  {
   "cell_type": "code",
   "execution_count": null,
   "id": "08da01a4",
   "metadata": {},
   "outputs": [],
   "source": []
  },
  {
   "cell_type": "code",
   "execution_count": null,
   "id": "b906003e",
   "metadata": {},
   "outputs": [],
   "source": []
  },
  {
   "cell_type": "code",
   "execution_count": null,
   "id": "6df28b96",
   "metadata": {},
   "outputs": [],
   "source": []
  },
  {
   "cell_type": "code",
   "execution_count": null,
   "id": "51953c46",
   "metadata": {},
   "outputs": [],
   "source": []
  }
 ],
 "metadata": {
  "kernelspec": {
   "display_name": "Python 3 (ipykernel)",
   "language": "python",
   "name": "python3"
  },
  "language_info": {
   "codemirror_mode": {
    "name": "ipython",
    "version": 3
   },
   "file_extension": ".py",
   "mimetype": "text/x-python",
   "name": "python",
   "nbconvert_exporter": "python",
   "pygments_lexer": "ipython3",
   "version": "3.9.7"
  },
  "toc": {
   "base_numbering": 1,
   "nav_menu": {},
   "number_sections": true,
   "sideBar": true,
   "skip_h1_title": false,
   "title_cell": "Table of Contents",
   "title_sidebar": "Contents",
   "toc_cell": false,
   "toc_position": {},
   "toc_section_display": true,
   "toc_window_display": true
  },
  "varInspector": {
   "cols": {
    "lenName": 16,
    "lenType": 16,
    "lenVar": 40
   },
   "kernels_config": {
    "python": {
     "delete_cmd_postfix": "",
     "delete_cmd_prefix": "del ",
     "library": "var_list.py",
     "varRefreshCmd": "print(var_dic_list())"
    },
    "r": {
     "delete_cmd_postfix": ") ",
     "delete_cmd_prefix": "rm(",
     "library": "var_list.r",
     "varRefreshCmd": "cat(var_dic_list()) "
    }
   },
   "types_to_exclude": [
    "module",
    "function",
    "builtin_function_or_method",
    "instance",
    "_Feature"
   ],
   "window_display": false
  }
 },
 "nbformat": 4,
 "nbformat_minor": 5
}
