{
 "cells": [
  {
   "cell_type": "code",
   "execution_count": 1,
   "id": "d2e57a5a",
   "metadata": {
    "ExecuteTime": {
     "end_time": "2022-06-26T05:50:20.029811Z",
     "start_time": "2022-06-26T05:50:19.455672Z"
    }
   },
   "outputs": [],
   "source": [
    "import pandas as pd\n",
    "import numpy as np\n",
    "from bs4 import BeautifulSoup\n",
    "import requests\n",
    "\n",
    "from selenium import webdriver\n",
    "from datetime import datetime"
   ]
  },
  {
   "cell_type": "code",
   "execution_count": 8,
   "id": "73ca22bd",
   "metadata": {
    "ExecuteTime": {
     "end_time": "2022-06-26T05:52:21.009734Z",
     "start_time": "2022-06-26T05:52:19.812192Z"
    }
   },
   "outputs": [],
   "source": [
    "driver = webdriver.Chrome()"
   ]
  },
  {
   "cell_type": "code",
   "execution_count": 9,
   "id": "8d76d7ce",
   "metadata": {
    "ExecuteTime": {
     "end_time": "2022-06-26T05:52:21.056949Z",
     "start_time": "2022-06-26T05:52:21.042951Z"
    }
   },
   "outputs": [
    {
     "data": {
      "text/plain": [
       "'https://finance.naver.com/item/sise_day.naver?code=052260'"
      ]
     },
     "execution_count": 9,
     "metadata": {},
     "output_type": "execute_result"
    }
   ],
   "source": [
    "url = 'https://finance.naver.com/item/sise_day.naver?code=052260'\n",
    "url"
   ]
  },
  {
   "cell_type": "code",
   "execution_count": 10,
   "id": "a8645777",
   "metadata": {
    "ExecuteTime": {
     "end_time": "2022-06-26T05:52:21.212854Z",
     "start_time": "2022-06-26T05:52:21.089386Z"
    }
   },
   "outputs": [],
   "source": [
    "driver.get(url)"
   ]
  },
  {
   "cell_type": "code",
   "execution_count": 11,
   "id": "35c47114",
   "metadata": {
    "ExecuteTime": {
     "end_time": "2022-06-26T05:52:28.357513Z",
     "start_time": "2022-06-26T05:52:28.326592Z"
    }
   },
   "outputs": [
    {
     "data": {
      "text/html": [
       "<div>\n",
       "<style scoped>\n",
       "    .dataframe tbody tr th:only-of-type {\n",
       "        vertical-align: middle;\n",
       "    }\n",
       "\n",
       "    .dataframe tbody tr th {\n",
       "        vertical-align: top;\n",
       "    }\n",
       "\n",
       "    .dataframe thead th {\n",
       "        text-align: right;\n",
       "    }\n",
       "</style>\n",
       "<table border=\"1\" class=\"dataframe\">\n",
       "  <thead>\n",
       "    <tr style=\"text-align: right;\">\n",
       "      <th></th>\n",
       "      <th>날짜</th>\n",
       "      <th>종가</th>\n",
       "      <th>전일비</th>\n",
       "      <th>시가</th>\n",
       "      <th>고가</th>\n",
       "      <th>저가</th>\n",
       "      <th>거래량</th>\n",
       "    </tr>\n",
       "  </thead>\n",
       "  <tbody>\n",
       "    <tr>\n",
       "      <th>0</th>\n",
       "      <td>NaN</td>\n",
       "      <td>NaN</td>\n",
       "      <td>NaN</td>\n",
       "      <td>NaN</td>\n",
       "      <td>NaN</td>\n",
       "      <td>NaN</td>\n",
       "      <td>NaN</td>\n",
       "    </tr>\n",
       "    <tr>\n",
       "      <th>1</th>\n",
       "      <td>2022.06.24</td>\n",
       "      <td>11450.0</td>\n",
       "      <td>500.0</td>\n",
       "      <td>10800.0</td>\n",
       "      <td>11600.0</td>\n",
       "      <td>10750.0</td>\n",
       "      <td>54086.0</td>\n",
       "    </tr>\n",
       "    <tr>\n",
       "      <th>2</th>\n",
       "      <td>2022.06.23</td>\n",
       "      <td>10950.0</td>\n",
       "      <td>950.0</td>\n",
       "      <td>11750.0</td>\n",
       "      <td>12050.0</td>\n",
       "      <td>10850.0</td>\n",
       "      <td>98708.0</td>\n",
       "    </tr>\n",
       "    <tr>\n",
       "      <th>3</th>\n",
       "      <td>2022.06.22</td>\n",
       "      <td>11900.0</td>\n",
       "      <td>600.0</td>\n",
       "      <td>12400.0</td>\n",
       "      <td>12600.0</td>\n",
       "      <td>11750.0</td>\n",
       "      <td>42103.0</td>\n",
       "    </tr>\n",
       "    <tr>\n",
       "      <th>4</th>\n",
       "      <td>2022.06.21</td>\n",
       "      <td>12500.0</td>\n",
       "      <td>450.0</td>\n",
       "      <td>12100.0</td>\n",
       "      <td>12500.0</td>\n",
       "      <td>12000.0</td>\n",
       "      <td>46394.0</td>\n",
       "    </tr>\n",
       "    <tr>\n",
       "      <th>5</th>\n",
       "      <td>2022.06.20</td>\n",
       "      <td>12050.0</td>\n",
       "      <td>950.0</td>\n",
       "      <td>13000.0</td>\n",
       "      <td>13150.0</td>\n",
       "      <td>12050.0</td>\n",
       "      <td>73004.0</td>\n",
       "    </tr>\n",
       "    <tr>\n",
       "      <th>6</th>\n",
       "      <td>NaN</td>\n",
       "      <td>NaN</td>\n",
       "      <td>NaN</td>\n",
       "      <td>NaN</td>\n",
       "      <td>NaN</td>\n",
       "      <td>NaN</td>\n",
       "      <td>NaN</td>\n",
       "    </tr>\n",
       "    <tr>\n",
       "      <th>7</th>\n",
       "      <td>NaN</td>\n",
       "      <td>NaN</td>\n",
       "      <td>NaN</td>\n",
       "      <td>NaN</td>\n",
       "      <td>NaN</td>\n",
       "      <td>NaN</td>\n",
       "      <td>NaN</td>\n",
       "    </tr>\n",
       "    <tr>\n",
       "      <th>8</th>\n",
       "      <td>NaN</td>\n",
       "      <td>NaN</td>\n",
       "      <td>NaN</td>\n",
       "      <td>NaN</td>\n",
       "      <td>NaN</td>\n",
       "      <td>NaN</td>\n",
       "      <td>NaN</td>\n",
       "    </tr>\n",
       "    <tr>\n",
       "      <th>9</th>\n",
       "      <td>2022.06.17</td>\n",
       "      <td>13000.0</td>\n",
       "      <td>150.0</td>\n",
       "      <td>12950.0</td>\n",
       "      <td>13100.0</td>\n",
       "      <td>12650.0</td>\n",
       "      <td>37597.0</td>\n",
       "    </tr>\n",
       "    <tr>\n",
       "      <th>10</th>\n",
       "      <td>2022.06.16</td>\n",
       "      <td>13150.0</td>\n",
       "      <td>0.0</td>\n",
       "      <td>13400.0</td>\n",
       "      <td>13750.0</td>\n",
       "      <td>13150.0</td>\n",
       "      <td>28854.0</td>\n",
       "    </tr>\n",
       "    <tr>\n",
       "      <th>11</th>\n",
       "      <td>2022.06.15</td>\n",
       "      <td>13150.0</td>\n",
       "      <td>750.0</td>\n",
       "      <td>13700.0</td>\n",
       "      <td>14000.0</td>\n",
       "      <td>13150.0</td>\n",
       "      <td>47847.0</td>\n",
       "    </tr>\n",
       "    <tr>\n",
       "      <th>12</th>\n",
       "      <td>2022.06.14</td>\n",
       "      <td>13900.0</td>\n",
       "      <td>450.0</td>\n",
       "      <td>14200.0</td>\n",
       "      <td>14300.0</td>\n",
       "      <td>13800.0</td>\n",
       "      <td>54830.0</td>\n",
       "    </tr>\n",
       "    <tr>\n",
       "      <th>13</th>\n",
       "      <td>2022.06.13</td>\n",
       "      <td>14350.0</td>\n",
       "      <td>900.0</td>\n",
       "      <td>15100.0</td>\n",
       "      <td>15150.0</td>\n",
       "      <td>14250.0</td>\n",
       "      <td>44919.0</td>\n",
       "    </tr>\n",
       "    <tr>\n",
       "      <th>14</th>\n",
       "      <td>NaN</td>\n",
       "      <td>NaN</td>\n",
       "      <td>NaN</td>\n",
       "      <td>NaN</td>\n",
       "      <td>NaN</td>\n",
       "      <td>NaN</td>\n",
       "      <td>NaN</td>\n",
       "    </tr>\n",
       "  </tbody>\n",
       "</table>\n",
       "</div>"
      ],
      "text/plain": [
       "            날짜       종가    전일비       시가       고가       저가      거래량\n",
       "0          NaN      NaN    NaN      NaN      NaN      NaN      NaN\n",
       "1   2022.06.24  11450.0  500.0  10800.0  11600.0  10750.0  54086.0\n",
       "2   2022.06.23  10950.0  950.0  11750.0  12050.0  10850.0  98708.0\n",
       "3   2022.06.22  11900.0  600.0  12400.0  12600.0  11750.0  42103.0\n",
       "4   2022.06.21  12500.0  450.0  12100.0  12500.0  12000.0  46394.0\n",
       "5   2022.06.20  12050.0  950.0  13000.0  13150.0  12050.0  73004.0\n",
       "6          NaN      NaN    NaN      NaN      NaN      NaN      NaN\n",
       "7          NaN      NaN    NaN      NaN      NaN      NaN      NaN\n",
       "8          NaN      NaN    NaN      NaN      NaN      NaN      NaN\n",
       "9   2022.06.17  13000.0  150.0  12950.0  13100.0  12650.0  37597.0\n",
       "10  2022.06.16  13150.0    0.0  13400.0  13750.0  13150.0  28854.0\n",
       "11  2022.06.15  13150.0  750.0  13700.0  14000.0  13150.0  47847.0\n",
       "12  2022.06.14  13900.0  450.0  14200.0  14300.0  13800.0  54830.0\n",
       "13  2022.06.13  14350.0  900.0  15100.0  15150.0  14250.0  44919.0\n",
       "14         NaN      NaN    NaN      NaN      NaN      NaN      NaN"
      ]
     },
     "execution_count": 11,
     "metadata": {},
     "output_type": "execute_result"
    }
   ],
   "source": [
    "html = driver.page_source\n",
    "df = pd.read_html(html)[0]\n",
    "df"
   ]
  },
  {
   "cell_type": "code",
   "execution_count": 112,
   "id": "d0a1f84c",
   "metadata": {
    "ExecuteTime": {
     "end_time": "2022-06-23T08:52:11.615346Z",
     "start_time": "2022-06-23T08:52:11.597084Z"
    }
   },
   "outputs": [],
   "source": [
    "now = datetime.now()"
   ]
  },
  {
   "cell_type": "code",
   "execution_count": 113,
   "id": "f0b2d0e2",
   "metadata": {
    "ExecuteTime": {
     "end_time": "2022-06-23T08:52:11.788155Z",
     "start_time": "2022-06-23T08:52:11.772209Z"
    }
   },
   "outputs": [
    {
     "data": {
      "text/plain": [
       "'17:52'"
      ]
     },
     "execution_count": 113,
     "metadata": {},
     "output_type": "execute_result"
    }
   ],
   "source": [
    "time = now.strftime('%H:%M')\n",
    "time"
   ]
  },
  {
   "cell_type": "code",
   "execution_count": 114,
   "id": "8e1c1a17",
   "metadata": {
    "ExecuteTime": {
     "end_time": "2022-06-23T08:52:11.957429Z",
     "start_time": "2022-06-23T08:52:11.948453Z"
    }
   },
   "outputs": [
    {
     "data": {
      "text/plain": [
       "'2022.06.23'"
      ]
     },
     "execution_count": 114,
     "metadata": {},
     "output_type": "execute_result"
    }
   ],
   "source": [
    "date = now.strftime('%Y.%m.%d')\n",
    "date"
   ]
  },
  {
   "cell_type": "code",
   "execution_count": 115,
   "id": "ea226194",
   "metadata": {
    "ExecuteTime": {
     "end_time": "2022-06-23T08:52:12.143708Z",
     "start_time": "2022-06-23T08:52:12.124727Z"
    }
   },
   "outputs": [
    {
     "data": {
      "text/plain": [
       "'2022.06.22'"
      ]
     },
     "execution_count": 115,
     "metadata": {},
     "output_type": "execute_result"
    }
   ],
   "source": [
    "date_y = pd.to_datetime(date)-pd.to_timedelta(1,unit='D')\n",
    "date_y = date_y.strftime('%Y.%m.%d')\n",
    "date_y"
   ]
  },
  {
   "cell_type": "code",
   "execution_count": 116,
   "id": "3e73abe1",
   "metadata": {
    "ExecuteTime": {
     "end_time": "2022-06-23T08:52:12.332862Z",
     "start_time": "2022-06-23T08:52:12.316802Z"
    },
    "scrolled": true
   },
   "outputs": [],
   "source": [
    "now_p = df[df['날짜']==date].iloc[0,1]\n",
    "diff = df[df['날짜']==date].iloc[0,1] - df[df['날짜']==date_y].iloc[0,1]\n",
    "st_p = df[df['날짜']==date].iloc[0,3]\n",
    "high_p = df[df['날짜']==date].iloc[0,4]\n",
    "low_p = df[df['날짜']==date].iloc[0,5]\n",
    "volume = df[df['날짜']==date].iloc[0,6]"
   ]
  },
  {
   "cell_type": "code",
   "execution_count": 118,
   "id": "86f1ff0f",
   "metadata": {
    "ExecuteTime": {
     "end_time": "2022-06-23T08:52:20.236248Z",
     "start_time": "2022-06-23T08:52:20.220506Z"
    }
   },
   "outputs": [
    {
     "data": {
      "text/plain": [
       "10950.0"
      ]
     },
     "execution_count": 118,
     "metadata": {},
     "output_type": "execute_result"
    }
   ],
   "source": [
    "now_p"
   ]
  },
  {
   "cell_type": "code",
   "execution_count": 125,
   "id": "f0778685",
   "metadata": {
    "ExecuteTime": {
     "end_time": "2022-06-23T08:54:42.632315Z",
     "start_time": "2022-06-23T08:54:42.619951Z"
    }
   },
   "outputs": [],
   "source": [
    "df.dropna(inplace=True)\n",
    "# df[df['날짜']==date].iloc[0,1]"
   ]
  },
  {
   "cell_type": "code",
   "execution_count": 127,
   "id": "1a85936c",
   "metadata": {
    "ExecuteTime": {
     "end_time": "2022-06-23T08:54:53.958166Z",
     "start_time": "2022-06-23T08:54:53.949224Z"
    }
   },
   "outputs": [
    {
     "data": {
      "text/plain": [
       "10950.0"
      ]
     },
     "execution_count": 127,
     "metadata": {},
     "output_type": "execute_result"
    }
   ],
   "source": [
    "df[df['날짜']==date].iloc[0,1]"
   ]
  },
  {
   "cell_type": "markdown",
   "id": "40024c79",
   "metadata": {},
   "source": [
    "# 합친 코드"
   ]
  },
  {
   "cell_type": "code",
   "execution_count": 130,
   "id": "b528f2b5",
   "metadata": {
    "ExecuteTime": {
     "end_time": "2022-06-23T09:02:07.805680Z",
     "start_time": "2022-06-23T09:02:07.787666Z"
    }
   },
   "outputs": [],
   "source": [
    "import pandas as pd\n",
    "import numpy as np\n",
    "\n",
    "from selenium import webdriver\n",
    "from datetime import datetime\n",
    "\n",
    "df_kospi = pd.read_csv('./data/recent_kospi_list.csv',index_col=0)\n",
    "# 코드 반환\n",
    "def corp_code(corp_name):\n",
    "    code = df_kospi[df_kospi['Name']==corp_name]['Symbol'].iloc[0]\n",
    "    code = str(code).zfill(6)\n",
    "    return code\n",
    "\n",
    "def stock_now(corp_name):\n",
    "    code = corp_code(corp_name)\n",
    "    url = f'https://finance.naver.com/item/sise_day.naver?code={code}'\n",
    "    driver = webdriver.Chrome()\n",
    "    driver.get(url)\n",
    "    html = driver.page_source\n",
    "    df = pd.read_html(html)[0]\n",
    "    df.dropna(inplace=True)\n",
    "    now = datetime.now()\n",
    "\n",
    "    time = now.strftime('%H:%M')\n",
    "    date = now.strftime('%Y.%m.%d')\n",
    "    date_y = pd.to_datetime(date)-pd.to_timedelta(1,unit='D')\n",
    "    date_y = date_y.strftime('%Y.%m.%d')\n",
    "\n",
    "    now_p = df[df['날짜']==date].iloc[0,1]\n",
    "    diff = df[df['날짜']==date].iloc[0,1] - df[df['날짜']==date_y].iloc[0,1]\n",
    "    st_p = df[df['날짜']==date].iloc[0,3]\n",
    "    high_p = df[df['날짜']==date].iloc[0,4]\n",
    "    low_p = df[df['날짜']==date].iloc[0,5]\n",
    "    volume = df[df['날짜']==date].iloc[0,6]\n",
    "    \n",
    "    text1 = f'현재시각 {time}'\n",
    "    text2 = f'{corp_name}의 실시간 주가는 {now_p}원이며 전일대비 {diff}원 변화가 있었습니다.'\n",
    "    text3 = f'{corp_name}의 시가는 {st_p}원,'\n",
    "    text4 = f'저가는 {low_p}원, 고가는 {high_p}원 이며'\n",
    "    text5 = f'현재 총거래량은 {volume} 입니다.'\n",
    "    \n",
    "    return text1 + '\\n' + text2 +'\\n' + text3 + '\\n' + text4 + '\\n' + text5\n",
    "    \n",
    "    "
   ]
  },
  {
   "cell_type": "code",
   "execution_count": 131,
   "id": "57f45238",
   "metadata": {
    "ExecuteTime": {
     "end_time": "2022-06-23T09:02:11.759790Z",
     "start_time": "2022-06-23T09:02:08.429235Z"
    }
   },
   "outputs": [
    {
     "data": {
      "text/plain": [
       "'현재시각 18:02\\n삼성전자의 실시간 주가는 57400.0원이며 전일대비 -200.0원 변화가 있었습니다.\\n삼성전자의 시가는 57700.0원,\\n저가는 56800.0원, 고가는 58000.0원 이며\\n현재 총거래량은 28024896.0 입니다.'"
      ]
     },
     "execution_count": 131,
     "metadata": {},
     "output_type": "execute_result"
    }
   ],
   "source": [
    "stock_now('삼성전자')"
   ]
  },
  {
   "cell_type": "code",
   "execution_count": null,
   "id": "e17eef25",
   "metadata": {},
   "outputs": [],
   "source": []
  },
  {
   "cell_type": "code",
   "execution_count": 12,
   "id": "112c4ba3",
   "metadata": {
    "ExecuteTime": {
     "end_time": "2022-06-26T05:55:18.012485Z",
     "start_time": "2022-06-26T05:55:17.983518Z"
    }
   },
   "outputs": [],
   "source": [
    "import pandas as pd\n",
    "import numpy as np\n",
    "\n",
    "from selenium import webdriver\n",
    "from datetime import datetime\n",
    "\n",
    "df_kospi = pd.read_csv('./data/recent_kospi_list.csv',index_col=0)\n",
    "# 코드 반환\n",
    "def corp_code(corp_name):\n",
    "    code = df_kospi[df_kospi['Name']==corp_name]['Symbol'].iloc[0]\n",
    "    code = str(code).zfill(6)\n",
    "    return code\n",
    "\n",
    "def stock_now(corp_name):\n",
    "    code = corp_code(corp_name)\n",
    "    url = f'https://finance.naver.com/item/sise_day.naver?code={code}'\n",
    "    driver = webdriver.Chrome()\n",
    "    driver.get(url)\n",
    "    html = driver.page_source\n",
    "    df = pd.read_html(html)[0]\n",
    "    df.dropna(inplace=True)\n",
    "    now = datetime.now()\n",
    "\n",
    "    time = now.strftime('%H:%M')\n",
    "    date = now.strftime('%Y.%m.%d')\n",
    "    date_y = pd.to_datetime(date)-pd.to_timedelta(1,unit='D')\n",
    "    date_y = date_y.strftime('%Y.%m.%d')\n",
    "\n",
    "    now_p = df.iloc[0,1]\n",
    "    diff = df.iloc[0,1] - df.iloc[1,1]\n",
    "    st_p = df.iloc[0,3]\n",
    "    high_p = df.iloc[0,4]\n",
    "    low_p = df.iloc[0,5]\n",
    "    volume = df.iloc[0,6]\n",
    "    \n",
    "    text1 = f'현재시각 {time}'\n",
    "    text2 = f'{corp_name}의 실시간 주가는 {now_p}원이며 전일대비 {diff}원 변화가 있었습니다.'\n",
    "    text3 = f'{corp_name}의 시가는 {st_p}원,'\n",
    "    text4 = f'저가는 {low_p}원, 고가는 {high_p}원 이며'\n",
    "    text5 = f'현재 총거래량은 {volume} 입니다.'\n",
    "    \n",
    "    return text1 + '\\n' + text2 + '\\n' + text5\n",
    "    \n",
    "    "
   ]
  },
  {
   "cell_type": "code",
   "execution_count": 13,
   "id": "e29531f2",
   "metadata": {
    "ExecuteTime": {
     "end_time": "2022-06-26T05:55:35.193235Z",
     "start_time": "2022-06-26T05:55:31.823620Z"
    }
   },
   "outputs": [
    {
     "data": {
      "text/plain": [
       "'현재시각 14:55\\n흥아해운의 실시간 주가는 2070.0원이며 전일대비 80.0원 변화가 있었습니다.\\n흥아해운의 시가는 1900.0원,\\n저가는 1900.0원, 고가는 2080.0원 이며\\n현재 총거래량은 227982.0 입니다.'"
      ]
     },
     "execution_count": 13,
     "metadata": {},
     "output_type": "execute_result"
    }
   ],
   "source": [
    "stock_now('흥아해운')"
   ]
  },
  {
   "cell_type": "code",
   "execution_count": null,
   "id": "f74498f4",
   "metadata": {},
   "outputs": [],
   "source": []
  }
 ],
 "metadata": {
  "kernelspec": {
   "display_name": "Python 3 (ipykernel)",
   "language": "python",
   "name": "python3"
  },
  "language_info": {
   "codemirror_mode": {
    "name": "ipython",
    "version": 3
   },
   "file_extension": ".py",
   "mimetype": "text/x-python",
   "name": "python",
   "nbconvert_exporter": "python",
   "pygments_lexer": "ipython3",
   "version": "3.9.7"
  },
  "toc": {
   "base_numbering": 1,
   "nav_menu": {},
   "number_sections": true,
   "sideBar": true,
   "skip_h1_title": false,
   "title_cell": "Table of Contents",
   "title_sidebar": "Contents",
   "toc_cell": false,
   "toc_position": {},
   "toc_section_display": true,
   "toc_window_display": false
  },
  "varInspector": {
   "cols": {
    "lenName": 16,
    "lenType": 16,
    "lenVar": 40
   },
   "kernels_config": {
    "python": {
     "delete_cmd_postfix": "",
     "delete_cmd_prefix": "del ",
     "library": "var_list.py",
     "varRefreshCmd": "print(var_dic_list())"
    },
    "r": {
     "delete_cmd_postfix": ") ",
     "delete_cmd_prefix": "rm(",
     "library": "var_list.r",
     "varRefreshCmd": "cat(var_dic_list()) "
    }
   },
   "types_to_exclude": [
    "module",
    "function",
    "builtin_function_or_method",
    "instance",
    "_Feature"
   ],
   "window_display": false
  }
 },
 "nbformat": 4,
 "nbformat_minor": 5
}
