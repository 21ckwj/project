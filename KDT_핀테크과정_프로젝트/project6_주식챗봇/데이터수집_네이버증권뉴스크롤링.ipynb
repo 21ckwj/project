{
 "cells": [
  {
   "cell_type": "code",
   "execution_count": 5,
   "id": "168e9c22",
   "metadata": {
    "ExecuteTime": {
     "end_time": "2022-06-08T05:18:19.814371Z",
     "start_time": "2022-06-08T05:18:19.800852Z"
    }
   },
   "outputs": [],
   "source": [
    "import pandas as pd\n",
    "import numpy as np\n",
    "from bs4 import BeautifulSoup\n",
    "import requests\n",
    "\n",
    "from selenium import webdriver\n",
    "from selenium.webdriver.common.keys import Keys\n",
    "import os \n",
    "import re"
   ]
  },
  {
   "cell_type": "code",
   "execution_count": 7,
   "id": "00cc5d29",
   "metadata": {
    "ExecuteTime": {
     "end_time": "2022-06-08T05:21:56.190367Z",
     "start_time": "2022-06-08T05:21:52.873974Z"
    }
   },
   "outputs": [],
   "source": [
    "driver = webdriver.Chrome()\n",
    "url = 'https://finance.naver.com/item/news_news.naver?code=004270&page=&sm=title_entity_id.basic&clusterId='\n",
    "driver.get(url)\n",
    "html = driver.page_source\n",
    "df = pd.read_html(html)[0]"
   ]
  },
  {
   "cell_type": "code",
   "execution_count": 9,
   "id": "5022b314",
   "metadata": {
    "ExecuteTime": {
     "end_time": "2022-06-08T05:22:03.481484Z",
     "start_time": "2022-06-08T05:22:03.473504Z"
    }
   },
   "outputs": [
    {
     "data": {
      "text/html": [
       "<div>\n",
       "<style scoped>\n",
       "    .dataframe tbody tr th:only-of-type {\n",
       "        vertical-align: middle;\n",
       "    }\n",
       "\n",
       "    .dataframe tbody tr th {\n",
       "        vertical-align: top;\n",
       "    }\n",
       "\n",
       "    .dataframe thead th {\n",
       "        text-align: right;\n",
       "    }\n",
       "</style>\n",
       "<table border=\"1\" class=\"dataframe\">\n",
       "  <thead>\n",
       "    <tr style=\"text-align: right;\">\n",
       "      <th></th>\n",
       "      <th>제목</th>\n",
       "      <th>정보제공</th>\n",
       "      <th>날짜</th>\n",
       "    </tr>\n",
       "  </thead>\n",
       "  <tbody>\n",
       "    <tr>\n",
       "      <th>0</th>\n",
       "      <td>남성, 주당 25원 현금 결산배당 결정</td>\n",
       "      <td>이데일리</td>\n",
       "      <td>2022.02.28 17:45</td>\n",
       "    </tr>\n",
       "    <tr>\n",
       "      <th>1</th>\n",
       "      <td>[특징주] 남성, 애플 전기차 2025년 완전 자율주행 추진 소식에↑</td>\n",
       "      <td>파이낸셜뉴스</td>\n",
       "      <td>2021.11.19 09:17</td>\n",
       "    </tr>\n",
       "    <tr>\n",
       "      <th>2</th>\n",
       "      <td>[특징주]남성, 넷플릭스 아마존 알렉사 연동…세계 최초 알렉사 탑재 인...</td>\n",
       "      <td>파이낸셜뉴스</td>\n",
       "      <td>2021.11.16 10:27</td>\n",
       "    </tr>\n",
       "    <tr>\n",
       "      <th>3</th>\n",
       "      <td>[특징주] 남성, 리비안 AI 음성인식 기반 '알렉사' 탑재...인포테...</td>\n",
       "      <td>파이낸셜뉴스</td>\n",
       "      <td>2021.10.18 10:10</td>\n",
       "    </tr>\n",
       "    <tr>\n",
       "      <th>4</th>\n",
       "      <td>[특징주] 남성, 홍준표 오차범위 밖 지지율 1위에 관련 주로 부각</td>\n",
       "      <td>헤럴드경제</td>\n",
       "      <td>2021.09.09 14:13</td>\n",
       "    </tr>\n",
       "    <tr>\n",
       "      <th>5</th>\n",
       "      <td>[특징주] 남성, 아마존-KT 음성AI 알렉사오토 공동개발 추진..아마...</td>\n",
       "      <td>파이낸셜뉴스</td>\n",
       "      <td>2021.09.06 10:46</td>\n",
       "    </tr>\n",
       "    <tr>\n",
       "      <th>6</th>\n",
       "      <td>던필드그룹 남성 크로커다일, 2021 F/W 전속 모델로 배우 현빈 계...</td>\n",
       "      <td>매일경제</td>\n",
       "      <td>2021.07.28 16:43</td>\n",
       "    </tr>\n",
       "    <tr>\n",
       "      <th>7</th>\n",
       "      <td>남성, 양재택 사외이사 일신상의 이유로 자진사임</td>\n",
       "      <td>이데일리</td>\n",
       "      <td>2021.06.30 18:15</td>\n",
       "    </tr>\n",
       "  </tbody>\n",
       "</table>\n",
       "</div>"
      ],
      "text/plain": [
       "                                           제목    정보제공                날짜\n",
       "0                       남성, 주당 25원 현금 결산배당 결정    이데일리  2022.02.28 17:45\n",
       "1      [특징주] 남성, 애플 전기차 2025년 완전 자율주행 추진 소식에↑  파이낸셜뉴스  2021.11.19 09:17\n",
       "2  [특징주]남성, 넷플릭스 아마존 알렉사 연동…세계 최초 알렉사 탑재 인...  파이낸셜뉴스  2021.11.16 10:27\n",
       "3  [특징주] 남성, 리비안 AI 음성인식 기반 '알렉사' 탑재...인포테...  파이낸셜뉴스  2021.10.18 10:10\n",
       "4       [특징주] 남성, 홍준표 오차범위 밖 지지율 1위에 관련 주로 부각   헤럴드경제  2021.09.09 14:13\n",
       "5  [특징주] 남성, 아마존-KT 음성AI 알렉사오토 공동개발 추진..아마...  파이낸셜뉴스  2021.09.06 10:46\n",
       "6  던필드그룹 남성 크로커다일, 2021 F/W 전속 모델로 배우 현빈 계...    매일경제  2021.07.28 16:43\n",
       "7                  남성, 양재택 사외이사 일신상의 이유로 자진사임    이데일리  2021.06.30 18:15"
      ]
     },
     "execution_count": 9,
     "metadata": {},
     "output_type": "execute_result"
    }
   ],
   "source": [
    "df[0]"
   ]
  },
  {
   "cell_type": "code",
   "execution_count": null,
   "id": "56871d1b",
   "metadata": {},
   "outputs": [],
   "source": [
    "# https://finance.naver.com/item/news_news.naver?code=012800&page=&sm=title_entity_id.basic&clusterId="
   ]
  }
 ],
 "metadata": {
  "kernelspec": {
   "display_name": "Python 3 (ipykernel)",
   "language": "python",
   "name": "python3"
  },
  "language_info": {
   "codemirror_mode": {
    "name": "ipython",
    "version": 3
   },
   "file_extension": ".py",
   "mimetype": "text/x-python",
   "name": "python",
   "nbconvert_exporter": "python",
   "pygments_lexer": "ipython3",
   "version": "3.9.7"
  },
  "toc": {
   "base_numbering": 1,
   "nav_menu": {},
   "number_sections": true,
   "sideBar": true,
   "skip_h1_title": false,
   "title_cell": "Table of Contents",
   "title_sidebar": "Contents",
   "toc_cell": false,
   "toc_position": {},
   "toc_section_display": true,
   "toc_window_display": false
  },
  "varInspector": {
   "cols": {
    "lenName": 16,
    "lenType": 16,
    "lenVar": 40
   },
   "kernels_config": {
    "python": {
     "delete_cmd_postfix": "",
     "delete_cmd_prefix": "del ",
     "library": "var_list.py",
     "varRefreshCmd": "print(var_dic_list())"
    },
    "r": {
     "delete_cmd_postfix": ") ",
     "delete_cmd_prefix": "rm(",
     "library": "var_list.r",
     "varRefreshCmd": "cat(var_dic_list()) "
    }
   },
   "types_to_exclude": [
    "module",
    "function",
    "builtin_function_or_method",
    "instance",
    "_Feature"
   ],
   "window_display": false
  }
 },
 "nbformat": 4,
 "nbformat_minor": 5
}
