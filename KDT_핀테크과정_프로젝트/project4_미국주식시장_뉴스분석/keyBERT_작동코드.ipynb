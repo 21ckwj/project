{
 "cells": [
  {
   "cell_type": "code",
   "execution_count": 11,
   "id": "628fc297",
   "metadata": {
    "ExecuteTime": {
     "end_time": "2022-04-19T11:53:25.146495Z",
     "start_time": "2022-04-19T11:21:28.474976Z"
    }
   },
   "outputs": [],
   "source": [
    "# 작동코드\n",
    "\n",
    "import pandas as pd\n",
    "import numpy as np\n",
    "import os\n",
    "from keybert import KeyBERT\n",
    "\n",
    "topics = ['stock-market-news', 'commodities-news', 'forex-news', 'economy', 'economic-indicators','politics','world-news']\n",
    "# 데이터 경로\n",
    "path = './investing_crawl/'\n",
    "for topic in topics[5:6]:\n",
    "    path_topic = os.path.join(path,topic)\n",
    "    file_list = os.listdir(path_topic)\n",
    "    file_num = len(os.listdir(path_topic))\n",
    "    \n",
    "    topic_kw_list = []\n",
    "    date_list = []\n",
    "    for i in range(0,2):  # 원래는 file_num\n",
    "        df = pd.read_csv(path_topic + '/' + file_list[i])\n",
    "        date_list.append(df.date)\n",
    "        \n",
    "        kw_model = KeyBERT()\n",
    "        \n",
    "        kw_list = []\n",
    "        for n in range(len(df.content)):\n",
    "            keywords = kw_model.extract_keywords(df['content'][n], keyphrase_ngram_range=(10,10),\n",
    "                                             use_mmr=True,diversity=0.5, nr_candidates=20, top_n=5)\n",
    "            kw_list.append(keywords)\n",
    "        topic_kw_list.append(kw_list)\n",
    "        \n",
    "    df_kw = pd.DataFrame({'Date':date_list, 'keywords': topic_kw_list})\n",
    "    df_kw.to_csv()"
   ]
  },
  {
   "cell_type": "code",
   "execution_count": 7,
   "id": "47b99736",
   "metadata": {
    "ExecuteTime": {
     "end_time": "2022-04-19T08:14:41.326503Z",
     "start_time": "2022-04-19T08:14:41.316530Z"
    }
   },
   "outputs": [
    {
     "data": {
      "text/plain": [
       "'./investing_crawl/politics'"
      ]
     },
     "execution_count": 7,
     "metadata": {},
     "output_type": "execute_result"
    }
   ],
   "source": [
    "import os\n",
    "\n",
    "os.getcwd()\n",
    "path_topic"
   ]
  },
  {
   "cell_type": "code",
   "execution_count": 12,
   "id": "34bbaa9e",
   "metadata": {
    "ExecuteTime": {
     "end_time": "2022-04-19T11:53:47.927564Z",
     "start_time": "2022-04-19T11:53:47.913601Z"
    }
   },
   "outputs": [
    {
     "data": {
      "text/plain": [
       "'C:\\\\KDT4\\\\학원'"
      ]
     },
     "execution_count": 12,
     "metadata": {},
     "output_type": "execute_result"
    }
   ],
   "source": [
    "pwd"
   ]
  },
  {
   "cell_type": "code",
   "execution_count": null,
   "id": "95d06d09",
   "metadata": {},
   "outputs": [],
   "source": []
  }
 ],
 "metadata": {
  "kernelspec": {
   "display_name": "Python 3 (ipykernel)",
   "language": "python",
   "name": "python3"
  },
  "language_info": {
   "codemirror_mode": {
    "name": "ipython",
    "version": 3
   },
   "file_extension": ".py",
   "mimetype": "text/x-python",
   "name": "python",
   "nbconvert_exporter": "python",
   "pygments_lexer": "ipython3",
   "version": "3.9.7"
  },
  "toc": {
   "base_numbering": 1,
   "nav_menu": {},
   "number_sections": true,
   "sideBar": true,
   "skip_h1_title": false,
   "title_cell": "Table of Contents",
   "title_sidebar": "Contents",
   "toc_cell": false,
   "toc_position": {},
   "toc_section_display": true,
   "toc_window_display": false
  },
  "varInspector": {
   "cols": {
    "lenName": 16,
    "lenType": 16,
    "lenVar": 40
   },
   "kernels_config": {
    "python": {
     "delete_cmd_postfix": "",
     "delete_cmd_prefix": "del ",
     "library": "var_list.py",
     "varRefreshCmd": "print(var_dic_list())"
    },
    "r": {
     "delete_cmd_postfix": ") ",
     "delete_cmd_prefix": "rm(",
     "library": "var_list.r",
     "varRefreshCmd": "cat(var_dic_list()) "
    }
   },
   "types_to_exclude": [
    "module",
    "function",
    "builtin_function_or_method",
    "instance",
    "_Feature"
   ],
   "window_display": false
  }
 },
 "nbformat": 4,
 "nbformat_minor": 5
}
