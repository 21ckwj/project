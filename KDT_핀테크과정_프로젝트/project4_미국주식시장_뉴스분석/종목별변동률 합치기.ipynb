{
 "cells": [
  {
   "cell_type": "markdown",
   "id": "56388e2a",
   "metadata": {},
   "source": [
    "# 종목별 변동률 합친 데이터 만들기"
   ]
  },
  {
   "cell_type": "code",
   "execution_count": 70,
   "id": "851d31a4",
   "metadata": {
    "ExecuteTime": {
     "end_time": "2022-04-21T02:00:25.256588Z",
     "start_time": "2022-04-21T02:00:25.248610Z"
    }
   },
   "outputs": [],
   "source": [
    "import pandas as pd\n",
    "import numpy as np\n",
    "import matplotlib.pyplot as plt\n",
    "import os "
   ]
  },
  {
   "cell_type": "code",
   "execution_count": 51,
   "id": "f5356ffc",
   "metadata": {
    "ExecuteTime": {
     "end_time": "2022-04-21T01:15:34.544179Z",
     "start_time": "2022-04-21T01:15:34.530210Z"
    }
   },
   "outputs": [
    {
     "name": "stdout",
     "output_type": "stream",
     "text": [
      "C:\\KDT4\\ML,DL\\프로젝트4\n",
      "C:\\KDT4\\ML,DL\\프로젝트4\\data\\변동률\n",
      "['광고_지수.csv', '반도체와반도체장비_지수.csv', '석유와가스_지수.csv', '조선_지수.csv', '철강_지수.csv']\n"
     ]
    }
   ],
   "source": [
    "path = os.getcwd()\n",
    "print(path)\n",
    "data_path = os.path.join(path,'data','변동률')\n",
    "print(data_path)\n",
    "\n",
    "data_list = os.listdir(data_path)\n",
    "print(data_list)"
   ]
  },
  {
   "cell_type": "code",
   "execution_count": 52,
   "id": "d52699e9",
   "metadata": {
    "ExecuteTime": {
     "end_time": "2022-04-21T01:15:34.746602Z",
     "start_time": "2022-04-21T01:15:34.737626Z"
    }
   },
   "outputs": [
    {
     "data": {
      "text/plain": [
       "'C:\\\\KDT4\\\\ML,DL\\\\프로젝트4\\\\data\\\\변동률\\\\철강_지수.csv'"
      ]
     },
     "execution_count": 52,
     "metadata": {},
     "output_type": "execute_result"
    }
   ],
   "source": [
    "df_path = os.path.join(data_path,data)\n",
    "df_path"
   ]
  },
  {
   "cell_type": "code",
   "execution_count": 53,
   "id": "7e41198d",
   "metadata": {
    "ExecuteTime": {
     "end_time": "2022-04-21T01:15:35.230308Z",
     "start_time": "2022-04-21T01:15:35.218340Z"
    }
   },
   "outputs": [
    {
     "data": {
      "text/html": [
       "<div>\n",
       "<style scoped>\n",
       "    .dataframe tbody tr th:only-of-type {\n",
       "        vertical-align: middle;\n",
       "    }\n",
       "\n",
       "    .dataframe tbody tr th {\n",
       "        vertical-align: top;\n",
       "    }\n",
       "\n",
       "    .dataframe thead th {\n",
       "        text-align: right;\n",
       "    }\n",
       "</style>\n",
       "<table border=\"1\" class=\"dataframe\">\n",
       "  <thead>\n",
       "    <tr style=\"text-align: right;\">\n",
       "      <th></th>\n",
       "    </tr>\n",
       "  </thead>\n",
       "  <tbody>\n",
       "  </tbody>\n",
       "</table>\n",
       "</div>"
      ],
      "text/plain": [
       "Empty DataFrame\n",
       "Columns: []\n",
       "Index: []"
      ]
     },
     "execution_count": 53,
     "metadata": {},
     "output_type": "execute_result"
    }
   ],
   "source": [
    "df_total = pd.DataFrame()\n",
    "df_total"
   ]
  },
  {
   "cell_type": "code",
   "execution_count": 62,
   "id": "c2bef176",
   "metadata": {
    "ExecuteTime": {
     "end_time": "2022-04-21T01:26:57.891170Z",
     "start_time": "2022-04-21T01:26:57.874216Z"
    }
   },
   "outputs": [
    {
     "data": {
      "text/html": [
       "<div>\n",
       "<style scoped>\n",
       "    .dataframe tbody tr th:only-of-type {\n",
       "        vertical-align: middle;\n",
       "    }\n",
       "\n",
       "    .dataframe tbody tr th {\n",
       "        vertical-align: top;\n",
       "    }\n",
       "\n",
       "    .dataframe thead th {\n",
       "        text-align: right;\n",
       "    }\n",
       "</style>\n",
       "<table border=\"1\" class=\"dataframe\">\n",
       "  <thead>\n",
       "    <tr style=\"text-align: right;\">\n",
       "      <th></th>\n",
       "      <th>Date</th>\n",
       "    </tr>\n",
       "  </thead>\n",
       "  <tbody>\n",
       "    <tr>\n",
       "      <th>0</th>\n",
       "      <td>2008-01-02</td>\n",
       "    </tr>\n",
       "    <tr>\n",
       "      <th>1</th>\n",
       "      <td>2008-01-03</td>\n",
       "    </tr>\n",
       "    <tr>\n",
       "      <th>2</th>\n",
       "      <td>2008-01-04</td>\n",
       "    </tr>\n",
       "    <tr>\n",
       "      <th>3</th>\n",
       "      <td>2008-01-07</td>\n",
       "    </tr>\n",
       "    <tr>\n",
       "      <th>4</th>\n",
       "      <td>2008-01-08</td>\n",
       "    </tr>\n",
       "    <tr>\n",
       "      <th>...</th>\n",
       "      <td>...</td>\n",
       "    </tr>\n",
       "    <tr>\n",
       "      <th>3530</th>\n",
       "      <td>2022-04-13</td>\n",
       "    </tr>\n",
       "    <tr>\n",
       "      <th>3531</th>\n",
       "      <td>2022-04-14</td>\n",
       "    </tr>\n",
       "    <tr>\n",
       "      <th>3532</th>\n",
       "      <td>2022-04-15</td>\n",
       "    </tr>\n",
       "    <tr>\n",
       "      <th>3533</th>\n",
       "      <td>2022-04-18</td>\n",
       "    </tr>\n",
       "    <tr>\n",
       "      <th>3534</th>\n",
       "      <td>2022-04-19</td>\n",
       "    </tr>\n",
       "  </tbody>\n",
       "</table>\n",
       "<p>3535 rows × 1 columns</p>\n",
       "</div>"
      ],
      "text/plain": [
       "            Date\n",
       "0     2008-01-02\n",
       "1     2008-01-03\n",
       "2     2008-01-04\n",
       "3     2008-01-07\n",
       "4     2008-01-08\n",
       "...          ...\n",
       "3530  2022-04-13\n",
       "3531  2022-04-14\n",
       "3532  2022-04-15\n",
       "3533  2022-04-18\n",
       "3534  2022-04-19\n",
       "\n",
       "[3535 rows x 1 columns]"
      ]
     },
     "execution_count": 62,
     "metadata": {},
     "output_type": "execute_result"
    }
   ],
   "source": [
    "# 불러올 데이터 저장파일 경로 \n",
    "path = os.getcwd()\n",
    "data_path = os.path.join(path,'data','변동률')\n",
    "\n",
    "data_list = os.listdir(data_path)\n",
    "data1 = os.path.join(data_path,data_list[0])\n",
    "\n",
    "# 날짜만 있는 데이터프레임 생성\n",
    "df_total = pd.read_csv(data1,usecols=['Date'])\n",
    "df_total"
   ]
  },
  {
   "cell_type": "code",
   "execution_count": 64,
   "id": "32f3a1cc",
   "metadata": {
    "ExecuteTime": {
     "end_time": "2022-04-21T01:27:09.397395Z",
     "start_time": "2022-04-21T01:27:09.313620Z"
    }
   },
   "outputs": [
    {
     "name": "stdout",
     "output_type": "stream",
     "text": [
      "광고_지수.csv\n",
      "반도체와반도체장비_지수.csv\n",
      "석유와가스_지수.csv\n",
      "조선_지수.csv\n",
      "철강_지수.csv\n"
     ]
    },
    {
     "data": {
      "text/html": [
       "<div>\n",
       "<style scoped>\n",
       "    .dataframe tbody tr th:only-of-type {\n",
       "        vertical-align: middle;\n",
       "    }\n",
       "\n",
       "    .dataframe tbody tr th {\n",
       "        vertical-align: top;\n",
       "    }\n",
       "\n",
       "    .dataframe thead th {\n",
       "        text-align: right;\n",
       "    }\n",
       "</style>\n",
       "<table border=\"1\" class=\"dataframe\">\n",
       "  <thead>\n",
       "    <tr style=\"text-align: right;\">\n",
       "      <th></th>\n",
       "      <th>Date</th>\n",
       "      <th>전일비</th>\n",
       "      <th>전일비</th>\n",
       "      <th>전일비</th>\n",
       "      <th>전일비</th>\n",
       "      <th>전일비</th>\n",
       "    </tr>\n",
       "  </thead>\n",
       "  <tbody>\n",
       "    <tr>\n",
       "      <th>0</th>\n",
       "      <td>2008-01-02</td>\n",
       "      <td>NaN</td>\n",
       "      <td>NaN</td>\n",
       "      <td>NaN</td>\n",
       "      <td>NaN</td>\n",
       "      <td>NaN</td>\n",
       "    </tr>\n",
       "    <tr>\n",
       "      <th>1</th>\n",
       "      <td>2008-01-03</td>\n",
       "      <td>0.726546</td>\n",
       "      <td>-0.757189</td>\n",
       "      <td>-3.766741</td>\n",
       "      <td>-0.548956</td>\n",
       "      <td>-0.036182</td>\n",
       "    </tr>\n",
       "    <tr>\n",
       "      <th>2</th>\n",
       "      <td>2008-01-04</td>\n",
       "      <td>2.910419</td>\n",
       "      <td>-0.793798</td>\n",
       "      <td>-1.656255</td>\n",
       "      <td>0.160027</td>\n",
       "      <td>1.025414</td>\n",
       "    </tr>\n",
       "    <tr>\n",
       "      <th>3</th>\n",
       "      <td>2008-01-07</td>\n",
       "      <td>-0.329278</td>\n",
       "      <td>-3.217779</td>\n",
       "      <td>-3.177211</td>\n",
       "      <td>-2.559750</td>\n",
       "      <td>-3.317116</td>\n",
       "    </tr>\n",
       "    <tr>\n",
       "      <th>4</th>\n",
       "      <td>2008-01-08</td>\n",
       "      <td>0.684115</td>\n",
       "      <td>-1.850255</td>\n",
       "      <td>3.295744</td>\n",
       "      <td>-2.012674</td>\n",
       "      <td>-3.591288</td>\n",
       "    </tr>\n",
       "    <tr>\n",
       "      <th>...</th>\n",
       "      <td>...</td>\n",
       "      <td>...</td>\n",
       "      <td>...</td>\n",
       "      <td>...</td>\n",
       "      <td>...</td>\n",
       "      <td>...</td>\n",
       "    </tr>\n",
       "    <tr>\n",
       "      <th>3530</th>\n",
       "      <td>2022-04-13</td>\n",
       "      <td>0.641774</td>\n",
       "      <td>8.750711</td>\n",
       "      <td>2.430165</td>\n",
       "      <td>1.503007</td>\n",
       "      <td>0.253377</td>\n",
       "    </tr>\n",
       "    <tr>\n",
       "      <th>3531</th>\n",
       "      <td>2022-04-14</td>\n",
       "      <td>-1.899826</td>\n",
       "      <td>-11.009476</td>\n",
       "      <td>1.103000</td>\n",
       "      <td>0.293864</td>\n",
       "      <td>0.077784</td>\n",
       "    </tr>\n",
       "    <tr>\n",
       "      <th>3532</th>\n",
       "      <td>2022-04-15</td>\n",
       "      <td>-1.464645</td>\n",
       "      <td>-8.099469</td>\n",
       "      <td>-0.340995</td>\n",
       "      <td>0.896195</td>\n",
       "      <td>-0.118257</td>\n",
       "    </tr>\n",
       "    <tr>\n",
       "      <th>3533</th>\n",
       "      <td>2022-04-18</td>\n",
       "      <td>-0.509093</td>\n",
       "      <td>3.612096</td>\n",
       "      <td>2.586396</td>\n",
       "      <td>-0.469818</td>\n",
       "      <td>-0.010848</td>\n",
       "    </tr>\n",
       "    <tr>\n",
       "      <th>3534</th>\n",
       "      <td>2022-04-19</td>\n",
       "      <td>-1.646955</td>\n",
       "      <td>13.620827</td>\n",
       "      <td>0.203439</td>\n",
       "      <td>0.571404</td>\n",
       "      <td>0.334725</td>\n",
       "    </tr>\n",
       "  </tbody>\n",
       "</table>\n",
       "<p>3535 rows × 6 columns</p>\n",
       "</div>"
      ],
      "text/plain": [
       "            Date       전일비        전일비       전일비       전일비       전일비\n",
       "0     2008-01-02       NaN        NaN       NaN       NaN       NaN\n",
       "1     2008-01-03  0.726546  -0.757189 -3.766741 -0.548956 -0.036182\n",
       "2     2008-01-04  2.910419  -0.793798 -1.656255  0.160027  1.025414\n",
       "3     2008-01-07 -0.329278  -3.217779 -3.177211 -2.559750 -3.317116\n",
       "4     2008-01-08  0.684115  -1.850255  3.295744 -2.012674 -3.591288\n",
       "...          ...       ...        ...       ...       ...       ...\n",
       "3530  2022-04-13  0.641774   8.750711  2.430165  1.503007  0.253377\n",
       "3531  2022-04-14 -1.899826 -11.009476  1.103000  0.293864  0.077784\n",
       "3532  2022-04-15 -1.464645  -8.099469 -0.340995  0.896195 -0.118257\n",
       "3533  2022-04-18 -0.509093   3.612096  2.586396 -0.469818 -0.010848\n",
       "3534  2022-04-19 -1.646955  13.620827  0.203439  0.571404  0.334725\n",
       "\n",
       "[3535 rows x 6 columns]"
      ]
     },
     "execution_count": 64,
     "metadata": {},
     "output_type": "execute_result"
    }
   ],
   "source": [
    "# df_total(날짜)에 파일별 변동률 합치기\n",
    "for data in data_list:\n",
    "    print(data)\n",
    "    df_path = os.path.join(data_path,data)\n",
    "    df = pd.read_csv(df_path, usecols=['전일비'])\n",
    "    df_total = pd.concat([df_total,df], axis=1)\n",
    "df_total"
   ]
  },
  {
   "cell_type": "code",
   "execution_count": 65,
   "id": "9d1908a5",
   "metadata": {
    "ExecuteTime": {
     "end_time": "2022-04-21T01:28:16.979635Z",
     "start_time": "2022-04-21T01:28:16.961683Z"
    }
   },
   "outputs": [
    {
     "data": {
      "text/html": [
       "<div>\n",
       "<style scoped>\n",
       "    .dataframe tbody tr th:only-of-type {\n",
       "        vertical-align: middle;\n",
       "    }\n",
       "\n",
       "    .dataframe tbody tr th {\n",
       "        vertical-align: top;\n",
       "    }\n",
       "\n",
       "    .dataframe thead th {\n",
       "        text-align: right;\n",
       "    }\n",
       "</style>\n",
       "<table border=\"1\" class=\"dataframe\">\n",
       "  <thead>\n",
       "    <tr style=\"text-align: right;\">\n",
       "      <th></th>\n",
       "      <th>date</th>\n",
       "      <th>광고주_변동률</th>\n",
       "      <th>반도체주_변동률</th>\n",
       "      <th>석유주_변동률</th>\n",
       "      <th>조선주_변동률</th>\n",
       "      <th>철강주_변동률</th>\n",
       "    </tr>\n",
       "  </thead>\n",
       "  <tbody>\n",
       "    <tr>\n",
       "      <th>0</th>\n",
       "      <td>2008-01-02</td>\n",
       "      <td>NaN</td>\n",
       "      <td>NaN</td>\n",
       "      <td>NaN</td>\n",
       "      <td>NaN</td>\n",
       "      <td>NaN</td>\n",
       "    </tr>\n",
       "    <tr>\n",
       "      <th>1</th>\n",
       "      <td>2008-01-03</td>\n",
       "      <td>0.726546</td>\n",
       "      <td>-0.757189</td>\n",
       "      <td>-3.766741</td>\n",
       "      <td>-0.548956</td>\n",
       "      <td>-0.036182</td>\n",
       "    </tr>\n",
       "    <tr>\n",
       "      <th>2</th>\n",
       "      <td>2008-01-04</td>\n",
       "      <td>2.910419</td>\n",
       "      <td>-0.793798</td>\n",
       "      <td>-1.656255</td>\n",
       "      <td>0.160027</td>\n",
       "      <td>1.025414</td>\n",
       "    </tr>\n",
       "    <tr>\n",
       "      <th>3</th>\n",
       "      <td>2008-01-07</td>\n",
       "      <td>-0.329278</td>\n",
       "      <td>-3.217779</td>\n",
       "      <td>-3.177211</td>\n",
       "      <td>-2.559750</td>\n",
       "      <td>-3.317116</td>\n",
       "    </tr>\n",
       "    <tr>\n",
       "      <th>4</th>\n",
       "      <td>2008-01-08</td>\n",
       "      <td>0.684115</td>\n",
       "      <td>-1.850255</td>\n",
       "      <td>3.295744</td>\n",
       "      <td>-2.012674</td>\n",
       "      <td>-3.591288</td>\n",
       "    </tr>\n",
       "    <tr>\n",
       "      <th>...</th>\n",
       "      <td>...</td>\n",
       "      <td>...</td>\n",
       "      <td>...</td>\n",
       "      <td>...</td>\n",
       "      <td>...</td>\n",
       "      <td>...</td>\n",
       "    </tr>\n",
       "    <tr>\n",
       "      <th>3530</th>\n",
       "      <td>2022-04-13</td>\n",
       "      <td>0.641774</td>\n",
       "      <td>8.750711</td>\n",
       "      <td>2.430165</td>\n",
       "      <td>1.503007</td>\n",
       "      <td>0.253377</td>\n",
       "    </tr>\n",
       "    <tr>\n",
       "      <th>3531</th>\n",
       "      <td>2022-04-14</td>\n",
       "      <td>-1.899826</td>\n",
       "      <td>-11.009476</td>\n",
       "      <td>1.103000</td>\n",
       "      <td>0.293864</td>\n",
       "      <td>0.077784</td>\n",
       "    </tr>\n",
       "    <tr>\n",
       "      <th>3532</th>\n",
       "      <td>2022-04-15</td>\n",
       "      <td>-1.464645</td>\n",
       "      <td>-8.099469</td>\n",
       "      <td>-0.340995</td>\n",
       "      <td>0.896195</td>\n",
       "      <td>-0.118257</td>\n",
       "    </tr>\n",
       "    <tr>\n",
       "      <th>3533</th>\n",
       "      <td>2022-04-18</td>\n",
       "      <td>-0.509093</td>\n",
       "      <td>3.612096</td>\n",
       "      <td>2.586396</td>\n",
       "      <td>-0.469818</td>\n",
       "      <td>-0.010848</td>\n",
       "    </tr>\n",
       "    <tr>\n",
       "      <th>3534</th>\n",
       "      <td>2022-04-19</td>\n",
       "      <td>-1.646955</td>\n",
       "      <td>13.620827</td>\n",
       "      <td>0.203439</td>\n",
       "      <td>0.571404</td>\n",
       "      <td>0.334725</td>\n",
       "    </tr>\n",
       "  </tbody>\n",
       "</table>\n",
       "<p>3535 rows × 6 columns</p>\n",
       "</div>"
      ],
      "text/plain": [
       "            date   광고주_변동률   반도체주_변동률   석유주_변동률   조선주_변동률   철강주_변동률\n",
       "0     2008-01-02       NaN        NaN       NaN       NaN       NaN\n",
       "1     2008-01-03  0.726546  -0.757189 -3.766741 -0.548956 -0.036182\n",
       "2     2008-01-04  2.910419  -0.793798 -1.656255  0.160027  1.025414\n",
       "3     2008-01-07 -0.329278  -3.217779 -3.177211 -2.559750 -3.317116\n",
       "4     2008-01-08  0.684115  -1.850255  3.295744 -2.012674 -3.591288\n",
       "...          ...       ...        ...       ...       ...       ...\n",
       "3530  2022-04-13  0.641774   8.750711  2.430165  1.503007  0.253377\n",
       "3531  2022-04-14 -1.899826 -11.009476  1.103000  0.293864  0.077784\n",
       "3532  2022-04-15 -1.464645  -8.099469 -0.340995  0.896195 -0.118257\n",
       "3533  2022-04-18 -0.509093   3.612096  2.586396 -0.469818 -0.010848\n",
       "3534  2022-04-19 -1.646955  13.620827  0.203439  0.571404  0.334725\n",
       "\n",
       "[3535 rows x 6 columns]"
      ]
     },
     "execution_count": 65,
     "metadata": {},
     "output_type": "execute_result"
    }
   ],
   "source": [
    "# 칼럼이름 바꾸기\n",
    "df_total.columns = ['date','광고주_변동률','반도체주_변동률','석유주_변동률','조선주_변동률','철강주_변동률']\n",
    "df_total"
   ]
  },
  {
   "cell_type": "code",
   "execution_count": 69,
   "id": "dabb3c8f",
   "metadata": {
    "ExecuteTime": {
     "end_time": "2022-04-21T01:36:42.167421Z",
     "start_time": "2022-04-21T01:36:42.033779Z"
    }
   },
   "outputs": [
    {
     "name": "stdout",
     "output_type": "stream",
     "text": [
      "광고_지수.csv\n",
      "반도체와반도체장비_지수.csv\n",
      "석유와가스_지수.csv\n",
      "조선_지수.csv\n",
      "철강_지수.csv\n",
      "            date   광고주_변동률   반도체주_변동률   석유주_변동률   조선주_변동률   철강주_변동률\n",
      "0     2008-01-02       NaN        NaN       NaN       NaN       NaN\n",
      "1     2008-01-03  0.726546  -0.757189 -3.766741 -0.548956 -0.036182\n",
      "2     2008-01-04  2.910419  -0.793798 -1.656255  0.160027  1.025414\n",
      "3     2008-01-07 -0.329278  -3.217779 -3.177211 -2.559750 -3.317116\n",
      "4     2008-01-08  0.684115  -1.850255  3.295744 -2.012674 -3.591288\n",
      "...          ...       ...        ...       ...       ...       ...\n",
      "3530  2022-04-13  0.641774   8.750711  2.430165  1.503007  0.253377\n",
      "3531  2022-04-14 -1.899826 -11.009476  1.103000  0.293864  0.077784\n",
      "3532  2022-04-15 -1.464645  -8.099469 -0.340995  0.896195 -0.118257\n",
      "3533  2022-04-18 -0.509093   3.612096  2.586396 -0.469818 -0.010848\n",
      "3534  2022-04-19 -1.646955  13.620827  0.203439  0.571404  0.334725\n",
      "\n",
      "[3535 rows x 6 columns]\n"
     ]
    }
   ],
   "source": [
    "# 완성코드\n",
    "\n",
    "import pandas as pd\n",
    "import numpy as np\n",
    "import matplotlib.pyplot as plt\n",
    "\n",
    "import os \n",
    "\n",
    "# 불러올 데이터 저장파일 경로 \n",
    "path = os.getcwd()\n",
    "data_path = os.path.join(path,'data','변동률')\n",
    "\n",
    "data_list = os.listdir(data_path)\n",
    "data1 = os.path.join(data_path,data_list[0])\n",
    "\n",
    "# 날짜만 있는 데이터프레임 생성\n",
    "df_total = pd.read_csv(data1,usecols=['Date'])\n",
    "\n",
    "for data in data_list:\n",
    "    print(data)\n",
    "    df_path = os.path.join(data_path,data)\n",
    "    df = pd.read_csv(df_path, usecols=['전일비'])\n",
    "    df_total = pd.concat([df_total,df], axis=1)\n",
    "\n",
    "df_total.columns = ['date','광고주_변동률','반도체주_변동률','석유주_변동률','조선주_변동률','철강주_변동률']\n",
    "print(df_total)\n",
    "\n",
    "save_path = os.path.join(path,'data')\n",
    "df_total.to_csv(save_path + '/종목_변동률.csv')"
   ]
  },
  {
   "cell_type": "code",
   "execution_count": null,
   "id": "29558cf7",
   "metadata": {},
   "outputs": [],
   "source": []
  }
 ],
 "metadata": {
  "kernelspec": {
   "display_name": "Python 3 (ipykernel)",
   "language": "python",
   "name": "python3"
  },
  "language_info": {
   "codemirror_mode": {
    "name": "ipython",
    "version": 3
   },
   "file_extension": ".py",
   "mimetype": "text/x-python",
   "name": "python",
   "nbconvert_exporter": "python",
   "pygments_lexer": "ipython3",
   "version": "3.9.7"
  },
  "toc": {
   "base_numbering": 1,
   "nav_menu": {},
   "number_sections": true,
   "sideBar": true,
   "skip_h1_title": false,
   "title_cell": "Table of Contents",
   "title_sidebar": "Contents",
   "toc_cell": false,
   "toc_position": {},
   "toc_section_display": true,
   "toc_window_display": true
  },
  "varInspector": {
   "cols": {
    "lenName": 16,
    "lenType": 16,
    "lenVar": 40
   },
   "kernels_config": {
    "python": {
     "delete_cmd_postfix": "",
     "delete_cmd_prefix": "del ",
     "library": "var_list.py",
     "varRefreshCmd": "print(var_dic_list())"
    },
    "r": {
     "delete_cmd_postfix": ") ",
     "delete_cmd_prefix": "rm(",
     "library": "var_list.r",
     "varRefreshCmd": "cat(var_dic_list()) "
    }
   },
   "types_to_exclude": [
    "module",
    "function",
    "builtin_function_or_method",
    "instance",
    "_Feature"
   ],
   "window_display": false
  }
 },
 "nbformat": 4,
 "nbformat_minor": 5
}
