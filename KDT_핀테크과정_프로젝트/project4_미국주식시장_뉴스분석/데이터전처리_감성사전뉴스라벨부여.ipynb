{
 "cells": [
  {
   "cell_type": "markdown",
   "id": "3d6dbf0c",
   "metadata": {},
   "source": [
    "# 카테고리별 기사에 라벨부여하기"
   ]
  },
  {
   "cell_type": "code",
   "execution_count": 2,
   "id": "db5def38",
   "metadata": {
    "ExecuteTime": {
     "end_time": "2022-04-25T07:46:26.335853Z",
     "start_time": "2022-04-25T07:46:26.078570Z"
    }
   },
   "outputs": [],
   "source": [
    "import pandas as pd\n",
    "import numpy as np\n",
    "import os\n",
    "import re"
   ]
  },
  {
   "cell_type": "markdown",
   "id": "1c67d952",
   "metadata": {},
   "source": [
    "# 연습"
   ]
  },
  {
   "cell_type": "code",
   "execution_count": 6,
   "id": "018e7299",
   "metadata": {
    "ExecuteTime": {
     "end_time": "2022-04-25T07:47:03.495496Z",
     "start_time": "2022-04-25T07:47:03.487518Z"
    }
   },
   "outputs": [
    {
     "data": {
      "text/plain": [
       "['labeled_news_oil_0_100_oil_price.csv.csv']"
      ]
     },
     "execution_count": 6,
     "metadata": {},
     "output_type": "execute_result"
    }
   ],
   "source": [
    "path = './data/CNBC뉴스분류/'\n",
    "file_list = os.listdir(path)\n",
    "file_list"
   ]
  },
  {
   "cell_type": "code",
   "execution_count": 5,
   "id": "5713c615",
   "metadata": {
    "ExecuteTime": {
     "end_time": "2022-04-25T07:46:35.854435Z",
     "start_time": "2022-04-25T07:46:35.838445Z"
    }
   },
   "outputs": [
    {
     "name": "stdout",
     "output_type": "stream",
     "text": [
      "labeled_news_oil_0_100_oil_price.csv.csv\n"
     ]
    },
    {
     "ename": "NotADirectoryError",
     "evalue": "[WinError 267] 디렉터리 이름이 올바르지 않습니다: './data/CNBC뉴스분류/labeled_news_oil_0_100_oil_price.csv.csv'",
     "output_type": "error",
     "traceback": [
      "\u001b[1;31m---------------------------------------------------------------------------\u001b[0m",
      "\u001b[1;31mNotADirectoryError\u001b[0m                        Traceback (most recent call last)",
      "\u001b[1;32m~\\AppData\\Local\\Temp/ipykernel_888/2208749800.py\u001b[0m in \u001b[0;36m<module>\u001b[1;34m\u001b[0m\n\u001b[0;32m      5\u001b[0m     \u001b[0mprint\u001b[0m\u001b[1;33m(\u001b[0m\u001b[0mcate\u001b[0m\u001b[1;33m)\u001b[0m\u001b[1;33m\u001b[0m\u001b[1;33m\u001b[0m\u001b[0m\n\u001b[0;32m      6\u001b[0m     \u001b[0mfile_path\u001b[0m \u001b[1;33m=\u001b[0m \u001b[0mos\u001b[0m\u001b[1;33m.\u001b[0m\u001b[0mpath\u001b[0m\u001b[1;33m.\u001b[0m\u001b[0mjoin\u001b[0m\u001b[1;33m(\u001b[0m\u001b[0mpath\u001b[0m\u001b[1;33m,\u001b[0m \u001b[0mcate\u001b[0m\u001b[1;33m)\u001b[0m\u001b[1;33m\u001b[0m\u001b[1;33m\u001b[0m\u001b[0m\n\u001b[1;32m----> 7\u001b[1;33m     \u001b[0mfile_list\u001b[0m \u001b[1;33m=\u001b[0m \u001b[0mos\u001b[0m\u001b[1;33m.\u001b[0m\u001b[0mlistdir\u001b[0m\u001b[1;33m(\u001b[0m\u001b[0mfile_path\u001b[0m\u001b[1;33m)\u001b[0m\u001b[1;33m\u001b[0m\u001b[1;33m\u001b[0m\u001b[0m\n\u001b[0m\u001b[0;32m      8\u001b[0m \u001b[1;33m\u001b[0m\u001b[0m\n\u001b[0;32m      9\u001b[0m     \u001b[1;32mfor\u001b[0m \u001b[0mfile\u001b[0m \u001b[1;32min\u001b[0m \u001b[0mfile_list\u001b[0m\u001b[1;33m:\u001b[0m\u001b[1;33m\u001b[0m\u001b[1;33m\u001b[0m\u001b[0m\n",
      "\u001b[1;31mNotADirectoryError\u001b[0m: [WinError 267] 디렉터리 이름이 올바르지 않습니다: './data/CNBC뉴스분류/labeled_news_oil_0_100_oil_price.csv.csv'"
     ]
    }
   ],
   "source": [
    "# 파일리스트\n",
    "path = './data/CNBC뉴스분류/'\n",
    "cate_list = os.listdir(path)\n",
    "for cate in cate_list:\n",
    "    print(cate)\n",
    "    file_path = os.path.join(path, cate)\n",
    "    file_list = os.listdir(file_path)\n",
    "    \n",
    "    for file in file_list:\n",
    "        print(file)        "
   ]
  },
  {
   "cell_type": "code",
   "execution_count": 30,
   "id": "c3a74186",
   "metadata": {
    "ExecuteTime": {
     "end_time": "2022-04-24T09:14:17.335115Z",
     "start_time": "2022-04-24T09:14:17.321065Z"
    }
   },
   "outputs": [
    {
     "data": {
      "text/plain": [
       "235"
      ]
     },
     "execution_count": 30,
     "metadata": {},
     "output_type": "execute_result"
    }
   ],
   "source": [
    "len(df)"
   ]
  },
  {
   "cell_type": "code",
   "execution_count": 68,
   "id": "52a05638",
   "metadata": {
    "ExecuteTime": {
     "end_time": "2022-04-25T03:50:12.506197Z",
     "start_time": "2022-04-25T03:50:12.292682Z"
    }
   },
   "outputs": [
    {
     "name": "stdout",
     "output_type": "stream",
     "text": [
      "광고_지수.csv\n",
      "반도체와반도체장비_지수.csv\n",
      "석유와가스_지수.csv\n",
      "자동차_지수.csv\n",
      "조선_지수.csv\n",
      "철강_지수.csv\n"
     ]
    }
   ],
   "source": [
    "# 지수 데이터\n",
    "stock_path = './data/변동률/'\n",
    "stock_list = os.listdir(stock_path)\n",
    "\n",
    "for sto in stock_list:\n",
    "    print(sto)\n",
    "    data_concat = pd.DataFrame()\n",
    "    stock = pd.read_csv(stock_path+sto,index_col=0)\n",
    "    stock['label'] = stock['전일비'].apply(lambda x : 1 if x > 1 else (0 if x >= -1 else -1))"
   ]
  },
  {
   "cell_type": "markdown",
   "id": "10a5aa22",
   "metadata": {},
   "source": [
    "# 작동코드"
   ]
  },
  {
   "cell_type": "code",
   "execution_count": 7,
   "id": "279445dc",
   "metadata": {
    "ExecuteTime": {
     "end_time": "2022-04-25T07:47:24.240058Z",
     "start_time": "2022-04-25T07:47:24.207148Z"
    }
   },
   "outputs": [
    {
     "data": {
      "text/html": [
       "<div>\n",
       "<style scoped>\n",
       "    .dataframe tbody tr th:only-of-type {\n",
       "        vertical-align: middle;\n",
       "    }\n",
       "\n",
       "    .dataframe tbody tr th {\n",
       "        vertical-align: top;\n",
       "    }\n",
       "\n",
       "    .dataframe thead th {\n",
       "        text-align: right;\n",
       "    }\n",
       "</style>\n",
       "<table border=\"1\" class=\"dataframe\">\n",
       "  <thead>\n",
       "    <tr style=\"text-align: right;\">\n",
       "      <th></th>\n",
       "      <th>date</th>\n",
       "      <th>content</th>\n",
       "      <th>label</th>\n",
       "    </tr>\n",
       "  </thead>\n",
       "  <tbody>\n",
       "    <tr>\n",
       "      <th>0</th>\n",
       "      <td>2022-04-21T12:13:01+0000</td>\n",
       "      <td>['As the oil market tightens, RBC Capital Mark...</td>\n",
       "      <td>3</td>\n",
       "    </tr>\n",
       "    <tr>\n",
       "      <th>1</th>\n",
       "      <td>2022-04-11T12:52:02+0000</td>\n",
       "      <td>['U.S. stock futures were slightly lower Monda...</td>\n",
       "      <td>100</td>\n",
       "    </tr>\n",
       "    <tr>\n",
       "      <th>2</th>\n",
       "      <td>2022-04-01T17:43:47+0000</td>\n",
       "      <td>['President Joe Biden on Thursday announced a ...</td>\n",
       "      <td>-1</td>\n",
       "    </tr>\n",
       "    <tr>\n",
       "      <th>3</th>\n",
       "      <td>2022-04-01T16:44:15+0000</td>\n",
       "      <td>['President Joe Biden’s top economic advisor s...</td>\n",
       "      <td>100</td>\n",
       "    </tr>\n",
       "    <tr>\n",
       "      <th>4</th>\n",
       "      <td>2022-03-31T04:48:37+0000</td>\n",
       "      <td>['Oil prices were lower on Thursday as the Whi...</td>\n",
       "      <td>-1</td>\n",
       "    </tr>\n",
       "  </tbody>\n",
       "</table>\n",
       "</div>"
      ],
      "text/plain": [
       "                       date  \\\n",
       "0  2022-04-21T12:13:01+0000   \n",
       "1  2022-04-11T12:52:02+0000   \n",
       "2  2022-04-01T17:43:47+0000   \n",
       "3  2022-04-01T16:44:15+0000   \n",
       "4  2022-03-31T04:48:37+0000   \n",
       "\n",
       "                                             content  label  \n",
       "0  ['As the oil market tightens, RBC Capital Mark...      3  \n",
       "1  ['U.S. stock futures were slightly lower Monda...    100  \n",
       "2  ['President Joe Biden on Thursday announced a ...     -1  \n",
       "3  ['President Joe Biden’s top economic advisor s...    100  \n",
       "4  ['Oil prices were lower on Thursday as the Whi...     -1  "
      ]
     },
     "execution_count": 7,
     "metadata": {},
     "output_type": "execute_result"
    }
   ],
   "source": [
    "pd.read_csv('./data/CNBC뉴스분류/labeled_news_oil_0_100_oil_price.csv.csv',index_col=0).head()"
   ]
  },
  {
   "cell_type": "code",
   "execution_count": 60,
   "id": "667b0e29",
   "metadata": {
    "ExecuteTime": {
     "end_time": "2022-04-24T09:43:41.268207Z",
     "start_time": "2022-04-24T09:43:40.178954Z"
    },
    "scrolled": true
   },
   "outputs": [
    {
     "name": "stdout",
     "output_type": "stream",
     "text": [
      "철강_지수.csv\n",
      "commodities\n",
      "뉴스분류_commodities_news_commodities_1_1.csv.csv\n",
      "뉴스분류_commodities_news_commodities_1_2.csv.csv\n",
      "뉴스분류_commodities_news_commodities_2_1.csv.csv\n",
      "뉴스분류_commodities_news_commodities_2_2.csv.csv\n",
      "economic_indicator\n",
      "뉴스분류_economic_indicators_news_economy_indicators_1_1.csv.csv\n",
      "뉴스분류_economic_indicators_news_economy_indicators_1_2.csv.csv\n",
      "뉴스분류_economic_indicators_news_economy_indicators_2_1.csv.csv\n",
      "뉴스분류_economic_indicators_news_economy_indicators_2_2.csv.csv\n",
      "economy\n",
      "뉴스분류_economy_news_economy_1_1.csv.csv\n",
      "뉴스분류_economy_news_economy_1_2.csv.csv\n",
      "뉴스분류_economy_news_economy_2_1.csv.csv\n",
      "뉴스분류_economy_news_economy_2_2.csv.csv\n",
      "forex\n",
      "뉴스분류_forex-news_news_forex_1_1.csv.csv\n",
      "뉴스분류_forex-news_news_forex_1_2.csv.csv\n",
      "뉴스분류_forex-news_news_forex_2_1.csv.csv\n",
      "뉴스분류_forex-news_news_forex_2_2.csv.csv\n",
      "politics\n",
      "뉴스분류_politics_news_politics_1_1.csv.csv\n",
      "뉴스분류_politics_news_politics_1_2.csv.csv\n",
      "뉴스분류_politics_news_politics_2_1.csv.csv\n",
      "뉴스분류_politics_news_politics_2_2.csv.csv\n",
      "stock-market\n",
      "뉴스분류_stock-market-news_news_stock-market_1_1.csv.csv\n",
      "뉴스분류_stock-market-news_news_stock-market_1_2.csv.csv\n",
      "뉴스분류_stock-market-news_news_stock-market_2_1.csv.csv\n",
      "뉴스분류_stock-market-news_news_stock-market_2_2.csv.csv\n",
      "world-news\n",
      "뉴스분류_world-news_news_world_1_1.csv.csv\n",
      "뉴스분류_world-news_news_world_1_2.csv.csv\n",
      "뉴스분류_world-news_news_world_2_1.csv.csv\n",
      "뉴스분류_world-news_news_world_2_2.csv.csv\n"
     ]
    }
   ],
   "source": [
    "# stock_list , df 칼럼 설정해줘야함\n",
    "\n",
    "# 파일리스트\n",
    "path = './data/1차뉴스분류/'\n",
    "cate_list = os.listdir(path)\n",
    "\n",
    "# 지수 데이터\n",
    "stock_path = './data/변동률/'\n",
    "stock_list = os.listdir(stock_path)\n",
    "\n",
    "# 광고_지수.csv 반도체와반도체장비_지수.csv 석유와가스_지수.csv 자동차_지수.csv 조선_지수.csv 철강_지수.csv\n",
    "\n",
    "# 지수데이터 1% 이상 +1, -1% 이하 -1, 0\n",
    "\n",
    "for sto in stock_list[5:6]:  # 바꿔줘야함\n",
    "    print(sto)\n",
    "    data_concat = pd.DataFrame()\n",
    "    stock = pd.read_csv(stock_path+sto,index_col=0)\n",
    "    stock['label'] = stock['전일비'].apply(lambda x : 1 if x > 1 else (0 if x >= -1 else -1))\n",
    "    \n",
    "    # 분류된뉴스\n",
    "    \n",
    "    for cate in cate_list:\n",
    "        print(cate)\n",
    "        file_path = os.path.join(path, cate)\n",
    "        file_list = os.listdir(file_path)\n",
    "\n",
    "        for file in file_list:\n",
    "            print(file)\n",
    "            df = pd.read_csv(file_path+'/'+file, index_col=0)\n",
    "            df = df[['date','news_steel']]  # 바꿔줘야함\n",
    "            df.dropna(inplace=True)\n",
    "            df['date'] = df['date'].astype(str).str.strip('<span>').str.strip('</span>')\n",
    "            df['date'] = df['date'].str.replace('\\n','').str.replace('—','')\n",
    "            df['date'] = df['date'].apply(lambda x: re.findall('\\(([^)]+)',x)[0] if re.findall('\\(([^)]+)',x) else x )\n",
    "            df['date'] = pd.to_datetime(df['date'].astype(str),utc=True)#.astype(str).apply(lambda x: x[:10]).astype('datetime64')\n",
    "            df['labeldate'] = (df['date'] + np.timedelta64(13,'h')).apply(lambda x : x+ np.timedelta64(1,'D') if x.hour >= 7 else x).apply(lambda x:str(x)[:10])\n",
    "\n",
    "            temp = pd.merge(df, stock[['Date','label']], how = 'left', left_on = 'labeldate', right_on = 'Date')\n",
    "\n",
    "            temp.dropna(inplace=True)\n",
    "            data_concat = pd.concat([data_concat,temp], ignore_index=True)\n",
    "            \n",
    "    data_concat.drop_duplicates(inplace=True)\n",
    "    data_concat.sort_values(by='Date',inplace=True)\n",
    "    data_concat.reset_index(drop=True,inplace=True)\n",
    "    data_concat.to_csv('./data/라벨데이터_final/'+sto)\n",
    "        "
   ]
  },
  {
   "cell_type": "markdown",
   "id": "9590eca6",
   "metadata": {
    "ExecuteTime": {
     "end_time": "2022-04-24T07:50:20.756880Z",
     "start_time": "2022-04-24T07:50:20.623484Z"
    }
   },
   "source": [
    "# 결과 확인"
   ]
  },
  {
   "cell_type": "markdown",
   "id": "69219a64",
   "metadata": {
    "ExecuteTime": {
     "end_time": "2022-04-24T09:33:19.610555Z",
     "start_time": "2022-04-24T09:33:19.600608Z"
    }
   },
   "source": [
    "## 기타"
   ]
  },
  {
   "cell_type": "code",
   "execution_count": 8,
   "id": "737b1916",
   "metadata": {
    "ExecuteTime": {
     "end_time": "2022-04-25T07:48:09.481064Z",
     "start_time": "2022-04-25T07:48:09.423219Z"
    }
   },
   "outputs": [
    {
     "name": "stdout",
     "output_type": "stream",
     "text": [
      "1546\n"
     ]
    },
    {
     "data": {
      "text/html": [
       "<div>\n",
       "<style scoped>\n",
       "    .dataframe tbody tr th:only-of-type {\n",
       "        vertical-align: middle;\n",
       "    }\n",
       "\n",
       "    .dataframe tbody tr th {\n",
       "        vertical-align: top;\n",
       "    }\n",
       "\n",
       "    .dataframe thead th {\n",
       "        text-align: right;\n",
       "    }\n",
       "</style>\n",
       "<table border=\"1\" class=\"dataframe\">\n",
       "  <thead>\n",
       "    <tr style=\"text-align: right;\">\n",
       "      <th></th>\n",
       "      <th>date</th>\n",
       "      <th>news_oil</th>\n",
       "      <th>labeldate</th>\n",
       "      <th>Date</th>\n",
       "      <th>label</th>\n",
       "    </tr>\n",
       "  </thead>\n",
       "  <tbody>\n",
       "    <tr>\n",
       "      <th>0</th>\n",
       "      <td>2022-04-17 03:32:00+00:00</td>\n",
       "      <td>By Barani Krishnan\\nInvesting.com -- Will they...</td>\n",
       "      <td>2022-04-18</td>\n",
       "      <td>2022-04-18</td>\n",
       "      <td>0.0</td>\n",
       "    </tr>\n",
       "    <tr>\n",
       "      <th>1</th>\n",
       "      <td>2022-04-17 00:41:00+00:00</td>\n",
       "      <td>MEXICO CITY (Reuters) -Mexican state oil compa...</td>\n",
       "      <td>2022-04-18</td>\n",
       "      <td>2022-04-18</td>\n",
       "      <td>0.0</td>\n",
       "    </tr>\n",
       "    <tr>\n",
       "      <th>2</th>\n",
       "      <td>2022-04-14 17:31:00+00:00</td>\n",
       "      <td>By Jarrett Renshaw and Jeff Mason\\n(Reuters) -...</td>\n",
       "      <td>2022-04-15</td>\n",
       "      <td>2022-04-15</td>\n",
       "      <td>0.0</td>\n",
       "    </tr>\n",
       "    <tr>\n",
       "      <th>3</th>\n",
       "      <td>2022-04-14 15:24:00+00:00</td>\n",
       "      <td>By Barani Krishnan\\nInvesting.com -- Any sello...</td>\n",
       "      <td>2022-04-15</td>\n",
       "      <td>2022-04-15</td>\n",
       "      <td>0.0</td>\n",
       "    </tr>\n",
       "    <tr>\n",
       "      <th>4</th>\n",
       "      <td>2022-04-14 15:21:00+00:00</td>\n",
       "      <td>By Arathy Somasekhar\\nHOUSTON -Oil prices sett...</td>\n",
       "      <td>2022-04-15</td>\n",
       "      <td>2022-04-15</td>\n",
       "      <td>0.0</td>\n",
       "    </tr>\n",
       "  </tbody>\n",
       "</table>\n",
       "</div>"
      ],
      "text/plain": [
       "                        date  \\\n",
       "0  2022-04-17 03:32:00+00:00   \n",
       "1  2022-04-17 00:41:00+00:00   \n",
       "2  2022-04-14 17:31:00+00:00   \n",
       "3  2022-04-14 15:24:00+00:00   \n",
       "4  2022-04-14 15:21:00+00:00   \n",
       "\n",
       "                                            news_oil   labeldate        Date  \\\n",
       "0  By Barani Krishnan\\nInvesting.com -- Will they...  2022-04-18  2022-04-18   \n",
       "1  MEXICO CITY (Reuters) -Mexican state oil compa...  2022-04-18  2022-04-18   \n",
       "2  By Jarrett Renshaw and Jeff Mason\\n(Reuters) -...  2022-04-15  2022-04-15   \n",
       "3  By Barani Krishnan\\nInvesting.com -- Any sello...  2022-04-15  2022-04-15   \n",
       "4  By Arathy Somasekhar\\nHOUSTON -Oil prices sett...  2022-04-15  2022-04-15   \n",
       "\n",
       "   label  \n",
       "0    0.0  \n",
       "1    0.0  \n",
       "2    0.0  \n",
       "3    0.0  \n",
       "4    0.0  "
      ]
     },
     "execution_count": 8,
     "metadata": {},
     "output_type": "execute_result"
    }
   ],
   "source": [
    "temp1 = pd.read_csv('./data/라벨데이터_final/광고_지수.csv',index_col=0)\n",
    "print(len(temp1))\n",
    "temp1.head()"
   ]
  },
  {
   "cell_type": "markdown",
   "id": "441d56e3",
   "metadata": {},
   "source": [
    "## 반도체"
   ]
  },
  {
   "cell_type": "code",
   "execution_count": 50,
   "id": "22aac39c",
   "metadata": {
    "ExecuteTime": {
     "end_time": "2022-04-24T09:36:00.992050Z",
     "start_time": "2022-04-24T09:36:00.967478Z"
    }
   },
   "outputs": [
    {
     "name": "stdout",
     "output_type": "stream",
     "text": [
      "99\n"
     ]
    },
    {
     "data": {
      "text/html": [
       "<div>\n",
       "<style scoped>\n",
       "    .dataframe tbody tr th:only-of-type {\n",
       "        vertical-align: middle;\n",
       "    }\n",
       "\n",
       "    .dataframe tbody tr th {\n",
       "        vertical-align: top;\n",
       "    }\n",
       "\n",
       "    .dataframe thead th {\n",
       "        text-align: right;\n",
       "    }\n",
       "</style>\n",
       "<table border=\"1\" class=\"dataframe\">\n",
       "  <thead>\n",
       "    <tr style=\"text-align: right;\">\n",
       "      <th></th>\n",
       "      <th>date</th>\n",
       "      <th>news_sc</th>\n",
       "      <th>labeldate</th>\n",
       "      <th>Date</th>\n",
       "      <th>label</th>\n",
       "    </tr>\n",
       "  </thead>\n",
       "  <tbody>\n",
       "    <tr>\n",
       "      <th>0</th>\n",
       "      <td>2020-09-08 04:50:00+00:00</td>\n",
       "      <td>LONDON (Reuters) - The number of merger and ac...</td>\n",
       "      <td>2020-09-09</td>\n",
       "      <td>2020-09-09</td>\n",
       "      <td>-1.0</td>\n",
       "    </tr>\n",
       "    <tr>\n",
       "      <th>1</th>\n",
       "      <td>2020-09-24 00:36:00+00:00</td>\n",
       "      <td>(Bloomberg) -- Euro-zone banks are gearing up ...</td>\n",
       "      <td>2020-09-25</td>\n",
       "      <td>2020-09-25</td>\n",
       "      <td>-1.0</td>\n",
       "    </tr>\n",
       "    <tr>\n",
       "      <th>2</th>\n",
       "      <td>2021-04-21 20:10:00+00:00</td>\n",
       "      <td>By Diane Bartz, Stephen Nellis and Paresh Dave...</td>\n",
       "      <td>2021-04-23</td>\n",
       "      <td>2021-04-23</td>\n",
       "      <td>0.0</td>\n",
       "    </tr>\n",
       "    <tr>\n",
       "      <th>3</th>\n",
       "      <td>2021-07-08 11:11:00+00:00</td>\n",
       "      <td>By Fabian Cambero\\nSANTIAGO (Reuters) - The ec...</td>\n",
       "      <td>2021-07-09</td>\n",
       "      <td>2021-07-09</td>\n",
       "      <td>-1.0</td>\n",
       "    </tr>\n",
       "    <tr>\n",
       "      <th>4</th>\n",
       "      <td>2021-08-17 16:45:00+00:00</td>\n",
       "      <td>By Jonathan Stempel\\nNEW YORK (Reuters) - The ...</td>\n",
       "      <td>2021-08-18</td>\n",
       "      <td>2021-08-18</td>\n",
       "      <td>1.0</td>\n",
       "    </tr>\n",
       "    <tr>\n",
       "      <th>...</th>\n",
       "      <td>...</td>\n",
       "      <td>...</td>\n",
       "      <td>...</td>\n",
       "      <td>...</td>\n",
       "      <td>...</td>\n",
       "    </tr>\n",
       "    <tr>\n",
       "      <th>94</th>\n",
       "      <td>2022-04-13 15:46:00+00:00</td>\n",
       "      <td>By Sam Boughedda\\nInvesting.com -- Nvidia Corp...</td>\n",
       "      <td>2022-04-14</td>\n",
       "      <td>2022-04-14</td>\n",
       "      <td>-1.0</td>\n",
       "    </tr>\n",
       "    <tr>\n",
       "      <th>95</th>\n",
       "      <td>2022-04-13 16:27:00+00:00</td>\n",
       "      <td>By Yasin Ebrahim\\nInvesting.com -- The Dow clo...</td>\n",
       "      <td>2022-04-14</td>\n",
       "      <td>2022-04-14</td>\n",
       "      <td>-1.0</td>\n",
       "    </tr>\n",
       "    <tr>\n",
       "      <th>96</th>\n",
       "      <td>2022-04-13 13:02:00+00:00</td>\n",
       "      <td>LONDON (Reuters) - Crypto lender Nexo said it ...</td>\n",
       "      <td>2022-04-14</td>\n",
       "      <td>2022-04-14</td>\n",
       "      <td>-1.0</td>\n",
       "    </tr>\n",
       "    <tr>\n",
       "      <th>97</th>\n",
       "      <td>2022-04-14 09:50:00+00:00</td>\n",
       "      <td>By Francesca Landini and Valentina Za\\nMILAN (...</td>\n",
       "      <td>2022-04-15</td>\n",
       "      <td>2022-04-15</td>\n",
       "      <td>-1.0</td>\n",
       "    </tr>\n",
       "    <tr>\n",
       "      <th>98</th>\n",
       "      <td>2022-04-14 14:27:00+00:00</td>\n",
       "      <td>GDANSK (Reuters) - A board member of Polish vi...</td>\n",
       "      <td>2022-04-15</td>\n",
       "      <td>2022-04-15</td>\n",
       "      <td>-1.0</td>\n",
       "    </tr>\n",
       "  </tbody>\n",
       "</table>\n",
       "<p>99 rows × 5 columns</p>\n",
       "</div>"
      ],
      "text/plain": [
       "                         date  \\\n",
       "0   2020-09-08 04:50:00+00:00   \n",
       "1   2020-09-24 00:36:00+00:00   \n",
       "2   2021-04-21 20:10:00+00:00   \n",
       "3   2021-07-08 11:11:00+00:00   \n",
       "4   2021-08-17 16:45:00+00:00   \n",
       "..                        ...   \n",
       "94  2022-04-13 15:46:00+00:00   \n",
       "95  2022-04-13 16:27:00+00:00   \n",
       "96  2022-04-13 13:02:00+00:00   \n",
       "97  2022-04-14 09:50:00+00:00   \n",
       "98  2022-04-14 14:27:00+00:00   \n",
       "\n",
       "                                              news_sc   labeldate        Date  \\\n",
       "0   LONDON (Reuters) - The number of merger and ac...  2020-09-09  2020-09-09   \n",
       "1   (Bloomberg) -- Euro-zone banks are gearing up ...  2020-09-25  2020-09-25   \n",
       "2   By Diane Bartz, Stephen Nellis and Paresh Dave...  2021-04-23  2021-04-23   \n",
       "3   By Fabian Cambero\\nSANTIAGO (Reuters) - The ec...  2021-07-09  2021-07-09   \n",
       "4   By Jonathan Stempel\\nNEW YORK (Reuters) - The ...  2021-08-18  2021-08-18   \n",
       "..                                                ...         ...         ...   \n",
       "94  By Sam Boughedda\\nInvesting.com -- Nvidia Corp...  2022-04-14  2022-04-14   \n",
       "95  By Yasin Ebrahim\\nInvesting.com -- The Dow clo...  2022-04-14  2022-04-14   \n",
       "96  LONDON (Reuters) - Crypto lender Nexo said it ...  2022-04-14  2022-04-14   \n",
       "97  By Francesca Landini and Valentina Za\\nMILAN (...  2022-04-15  2022-04-15   \n",
       "98  GDANSK (Reuters) - A board member of Polish vi...  2022-04-15  2022-04-15   \n",
       "\n",
       "    label  \n",
       "0    -1.0  \n",
       "1    -1.0  \n",
       "2     0.0  \n",
       "3    -1.0  \n",
       "4     1.0  \n",
       "..    ...  \n",
       "94   -1.0  \n",
       "95   -1.0  \n",
       "96   -1.0  \n",
       "97   -1.0  \n",
       "98   -1.0  \n",
       "\n",
       "[99 rows x 5 columns]"
      ]
     },
     "execution_count": 50,
     "metadata": {},
     "output_type": "execute_result"
    }
   ],
   "source": [
    "temp2 = pd.read_csv('./data/라벨데이터_final/반도체와반도체장비_지수.csv',index_col=0)\n",
    "print(len(temp2))\n",
    "temp2"
   ]
  },
  {
   "cell_type": "code",
   "execution_count": 22,
   "id": "d1cfd6ae",
   "metadata": {
    "ExecuteTime": {
     "end_time": "2022-04-24T07:54:19.053627Z",
     "start_time": "2022-04-24T07:54:19.043655Z"
    }
   },
   "outputs": [
    {
     "data": {
      "text/plain": [
       "3453    2021-10-28 07:00:00+00:00\n",
       "3454    2021-10-28 04:31:00+00:00\n",
       "3455    2021-10-27 18:18:00+00:00\n",
       "3456    2021-10-27 11:46:00+00:00\n",
       "3457    2021-10-27 08:46:00+00:00\n",
       "Name: date, dtype: object"
      ]
     },
     "execution_count": 22,
     "metadata": {},
     "output_type": "execute_result"
    }
   ],
   "source": [
    "temp2['date'][-5:]"
   ]
  },
  {
   "cell_type": "markdown",
   "id": "61fbe451",
   "metadata": {},
   "source": [
    "## 석유와가스"
   ]
  },
  {
   "cell_type": "code",
   "execution_count": 53,
   "id": "aae1f363",
   "metadata": {
    "ExecuteTime": {
     "end_time": "2022-04-24T09:37:01.510949Z",
     "start_time": "2022-04-24T09:37:01.394299Z"
    }
   },
   "outputs": [
    {
     "data": {
      "text/html": [
       "<div>\n",
       "<style scoped>\n",
       "    .dataframe tbody tr th:only-of-type {\n",
       "        vertical-align: middle;\n",
       "    }\n",
       "\n",
       "    .dataframe tbody tr th {\n",
       "        vertical-align: top;\n",
       "    }\n",
       "\n",
       "    .dataframe thead th {\n",
       "        text-align: right;\n",
       "    }\n",
       "</style>\n",
       "<table border=\"1\" class=\"dataframe\">\n",
       "  <thead>\n",
       "    <tr style=\"text-align: right;\">\n",
       "      <th></th>\n",
       "      <th>date</th>\n",
       "      <th>news_oil</th>\n",
       "      <th>labeldate</th>\n",
       "      <th>Date</th>\n",
       "      <th>label</th>\n",
       "    </tr>\n",
       "  </thead>\n",
       "  <tbody>\n",
       "    <tr>\n",
       "      <th>0</th>\n",
       "      <td>2019-10-17 14:21:00+00:00</td>\n",
       "      <td>Investing.com – Turkish assets rose Thursday a...</td>\n",
       "      <td>2019-10-18</td>\n",
       "      <td>2019-10-18</td>\n",
       "      <td>0.0</td>\n",
       "    </tr>\n",
       "    <tr>\n",
       "      <th>1</th>\n",
       "      <td>2019-10-21 15:36:00+00:00</td>\n",
       "      <td>(Bloomberg) -- Explore what’s moving the globa...</td>\n",
       "      <td>2019-10-22</td>\n",
       "      <td>2019-10-22</td>\n",
       "      <td>0.0</td>\n",
       "    </tr>\n",
       "    <tr>\n",
       "      <th>2</th>\n",
       "      <td>2019-10-28 15:08:00+00:00</td>\n",
       "      <td>Investing.com - U.K. Prime Minister Boris John...</td>\n",
       "      <td>2019-10-29</td>\n",
       "      <td>2019-10-29</td>\n",
       "      <td>0.0</td>\n",
       "    </tr>\n",
       "    <tr>\n",
       "      <th>3</th>\n",
       "      <td>2019-11-04 00:24:00+00:00</td>\n",
       "      <td>Investing.com - The British Pound was little c...</td>\n",
       "      <td>2019-11-05</td>\n",
       "      <td>2019-11-05</td>\n",
       "      <td>0.0</td>\n",
       "    </tr>\n",
       "    <tr>\n",
       "      <th>4</th>\n",
       "      <td>2019-11-06 20:16:00+00:00</td>\n",
       "      <td>By Jonathan Cable\\nLONDON (Reuters) - Sterling...</td>\n",
       "      <td>2019-11-08</td>\n",
       "      <td>2019-11-08</td>\n",
       "      <td>0.0</td>\n",
       "    </tr>\n",
       "    <tr>\n",
       "      <th>...</th>\n",
       "      <td>...</td>\n",
       "      <td>...</td>\n",
       "      <td>...</td>\n",
       "      <td>...</td>\n",
       "      <td>...</td>\n",
       "    </tr>\n",
       "    <tr>\n",
       "      <th>2780</th>\n",
       "      <td>2022-04-16 18:05:00+00:00</td>\n",
       "      <td>FRANKFURT (Reuters) - The European Union's for...</td>\n",
       "      <td>2022-04-18</td>\n",
       "      <td>2022-04-18</td>\n",
       "      <td>0.0</td>\n",
       "    </tr>\n",
       "    <tr>\n",
       "      <th>2781</th>\n",
       "      <td>2022-04-17 11:25:00+00:00</td>\n",
       "      <td>By Kanishka Singh\\nWASHINGTON (Reuters) -Ukrai...</td>\n",
       "      <td>2022-04-18</td>\n",
       "      <td>2022-04-18</td>\n",
       "      <td>0.0</td>\n",
       "    </tr>\n",
       "    <tr>\n",
       "      <th>2782</th>\n",
       "      <td>2022-04-17 06:05:00+00:00</td>\n",
       "      <td>By Panu Wongcha-um\\nBANGKOK (Reuters) - Ramada...</td>\n",
       "      <td>2022-04-18</td>\n",
       "      <td>2022-04-18</td>\n",
       "      <td>0.0</td>\n",
       "    </tr>\n",
       "    <tr>\n",
       "      <th>2783</th>\n",
       "      <td>2022-04-17 20:21:00+00:00</td>\n",
       "      <td>(Reuters) - Ukraine has completed a questionna...</td>\n",
       "      <td>2022-04-19</td>\n",
       "      <td>2022-04-19</td>\n",
       "      <td>0.0</td>\n",
       "    </tr>\n",
       "    <tr>\n",
       "      <th>2784</th>\n",
       "      <td>2022-04-17 21:18:00+00:00</td>\n",
       "      <td>By Oleksandr Kozhukhar and Alessandra Prentice...</td>\n",
       "      <td>2022-04-19</td>\n",
       "      <td>2022-04-19</td>\n",
       "      <td>0.0</td>\n",
       "    </tr>\n",
       "  </tbody>\n",
       "</table>\n",
       "<p>2785 rows × 5 columns</p>\n",
       "</div>"
      ],
      "text/plain": [
       "                           date  \\\n",
       "0     2019-10-17 14:21:00+00:00   \n",
       "1     2019-10-21 15:36:00+00:00   \n",
       "2     2019-10-28 15:08:00+00:00   \n",
       "3     2019-11-04 00:24:00+00:00   \n",
       "4     2019-11-06 20:16:00+00:00   \n",
       "...                         ...   \n",
       "2780  2022-04-16 18:05:00+00:00   \n",
       "2781  2022-04-17 11:25:00+00:00   \n",
       "2782  2022-04-17 06:05:00+00:00   \n",
       "2783  2022-04-17 20:21:00+00:00   \n",
       "2784  2022-04-17 21:18:00+00:00   \n",
       "\n",
       "                                               news_oil   labeldate  \\\n",
       "0     Investing.com – Turkish assets rose Thursday a...  2019-10-18   \n",
       "1     (Bloomberg) -- Explore what’s moving the globa...  2019-10-22   \n",
       "2     Investing.com - U.K. Prime Minister Boris John...  2019-10-29   \n",
       "3     Investing.com - The British Pound was little c...  2019-11-05   \n",
       "4     By Jonathan Cable\\nLONDON (Reuters) - Sterling...  2019-11-08   \n",
       "...                                                 ...         ...   \n",
       "2780  FRANKFURT (Reuters) - The European Union's for...  2022-04-18   \n",
       "2781  By Kanishka Singh\\nWASHINGTON (Reuters) -Ukrai...  2022-04-18   \n",
       "2782  By Panu Wongcha-um\\nBANGKOK (Reuters) - Ramada...  2022-04-18   \n",
       "2783  (Reuters) - Ukraine has completed a questionna...  2022-04-19   \n",
       "2784  By Oleksandr Kozhukhar and Alessandra Prentice...  2022-04-19   \n",
       "\n",
       "            Date  label  \n",
       "0     2019-10-18    0.0  \n",
       "1     2019-10-22    0.0  \n",
       "2     2019-10-29    0.0  \n",
       "3     2019-11-05    0.0  \n",
       "4     2019-11-08    0.0  \n",
       "...          ...    ...  \n",
       "2780  2022-04-18    0.0  \n",
       "2781  2022-04-18    0.0  \n",
       "2782  2022-04-18    0.0  \n",
       "2783  2022-04-19    0.0  \n",
       "2784  2022-04-19    0.0  \n",
       "\n",
       "[2785 rows x 5 columns]"
      ]
     },
     "execution_count": 53,
     "metadata": {},
     "output_type": "execute_result"
    }
   ],
   "source": [
    "temp3 = pd.read_csv('./data/라벨데이터_final/석유와가스_지수.csv',index_col=0)\n",
    "temp3"
   ]
  },
  {
   "cell_type": "markdown",
   "id": "c55a8a75",
   "metadata": {},
   "source": [
    "## 자동차"
   ]
  },
  {
   "cell_type": "code",
   "execution_count": 55,
   "id": "3de956f1",
   "metadata": {
    "ExecuteTime": {
     "end_time": "2022-04-24T09:38:23.433578Z",
     "start_time": "2022-04-24T09:38:23.398779Z"
    }
   },
   "outputs": [
    {
     "data": {
      "text/html": [
       "<div>\n",
       "<style scoped>\n",
       "    .dataframe tbody tr th:only-of-type {\n",
       "        vertical-align: middle;\n",
       "    }\n",
       "\n",
       "    .dataframe tbody tr th {\n",
       "        vertical-align: top;\n",
       "    }\n",
       "\n",
       "    .dataframe thead th {\n",
       "        text-align: right;\n",
       "    }\n",
       "</style>\n",
       "<table border=\"1\" class=\"dataframe\">\n",
       "  <thead>\n",
       "    <tr style=\"text-align: right;\">\n",
       "      <th></th>\n",
       "      <th>date</th>\n",
       "      <th>news_vh</th>\n",
       "      <th>labeldate</th>\n",
       "      <th>Date</th>\n",
       "      <th>label</th>\n",
       "    </tr>\n",
       "  </thead>\n",
       "  <tbody>\n",
       "    <tr>\n",
       "      <th>0</th>\n",
       "      <td>2020-08-26 08:36:00+00:00</td>\n",
       "      <td>(Bloomberg) -- U.S. orders for durable goods r...</td>\n",
       "      <td>2020-08-27</td>\n",
       "      <td>2020-08-27</td>\n",
       "      <td>-1.0</td>\n",
       "    </tr>\n",
       "    <tr>\n",
       "      <th>1</th>\n",
       "      <td>2020-09-10 04:00:00+00:00</td>\n",
       "      <td>By Yilei Sun and Brenda Goh\\nBEIJING (Reuters)...</td>\n",
       "      <td>2020-09-11</td>\n",
       "      <td>2020-09-11</td>\n",
       "      <td>0.0</td>\n",
       "    </tr>\n",
       "    <tr>\n",
       "      <th>2</th>\n",
       "      <td>2020-09-16 10:30:00+00:00</td>\n",
       "      <td>WASHINGTON (Reuters) - U.S. business inventori...</td>\n",
       "      <td>2020-09-17</td>\n",
       "      <td>2020-09-17</td>\n",
       "      <td>1.0</td>\n",
       "    </tr>\n",
       "    <tr>\n",
       "      <th>3</th>\n",
       "      <td>2020-09-16 08:40:00+00:00</td>\n",
       "      <td>By Geoffrey Smith \\nInvesting.com -- U.S. reta...</td>\n",
       "      <td>2020-09-17</td>\n",
       "      <td>2020-09-17</td>\n",
       "      <td>1.0</td>\n",
       "    </tr>\n",
       "    <tr>\n",
       "      <th>4</th>\n",
       "      <td>2020-09-17 02:10:00+00:00</td>\n",
       "      <td>BERLIN (Reuters) - European car registrations ...</td>\n",
       "      <td>2020-09-18</td>\n",
       "      <td>2020-09-18</td>\n",
       "      <td>-1.0</td>\n",
       "    </tr>\n",
       "    <tr>\n",
       "      <th>...</th>\n",
       "      <td>...</td>\n",
       "      <td>...</td>\n",
       "      <td>...</td>\n",
       "      <td>...</td>\n",
       "      <td>...</td>\n",
       "    </tr>\n",
       "    <tr>\n",
       "      <th>291</th>\n",
       "      <td>2022-04-13 18:35:00+00:00</td>\n",
       "      <td>BERLIN (Reuters) - Mercedes-Benz aims to produ...</td>\n",
       "      <td>2022-04-15</td>\n",
       "      <td>2022-04-15</td>\n",
       "      <td>0.0</td>\n",
       "    </tr>\n",
       "    <tr>\n",
       "      <th>292</th>\n",
       "      <td>2022-04-14 11:25:00+00:00</td>\n",
       "      <td>By James Oliphant\\nWASHINGTON (Reuters) - Elon...</td>\n",
       "      <td>2022-04-15</td>\n",
       "      <td>2022-04-15</td>\n",
       "      <td>0.0</td>\n",
       "    </tr>\n",
       "    <tr>\n",
       "      <th>293</th>\n",
       "      <td>2022-04-14 10:25:00+00:00</td>\n",
       "      <td>WASHINGTON (Reuters) - U.S. business inventori...</td>\n",
       "      <td>2022-04-15</td>\n",
       "      <td>2022-04-15</td>\n",
       "      <td>0.0</td>\n",
       "    </tr>\n",
       "    <tr>\n",
       "      <th>294</th>\n",
       "      <td>2022-04-16 21:47:15+00:00</td>\n",
       "      <td>In a court filing out late Friday, shareholder...</td>\n",
       "      <td>2022-04-18</td>\n",
       "      <td>2022-04-18</td>\n",
       "      <td>1.0</td>\n",
       "    </tr>\n",
       "    <tr>\n",
       "      <th>295</th>\n",
       "      <td>2022-04-16 19:10:00+00:00</td>\n",
       "      <td>By Hyunjoo Jin\\nSAN FRANCISCO (Reuters) - A fe...</td>\n",
       "      <td>2022-04-18</td>\n",
       "      <td>2022-04-18</td>\n",
       "      <td>1.0</td>\n",
       "    </tr>\n",
       "  </tbody>\n",
       "</table>\n",
       "<p>296 rows × 5 columns</p>\n",
       "</div>"
      ],
      "text/plain": [
       "                          date  \\\n",
       "0    2020-08-26 08:36:00+00:00   \n",
       "1    2020-09-10 04:00:00+00:00   \n",
       "2    2020-09-16 10:30:00+00:00   \n",
       "3    2020-09-16 08:40:00+00:00   \n",
       "4    2020-09-17 02:10:00+00:00   \n",
       "..                         ...   \n",
       "291  2022-04-13 18:35:00+00:00   \n",
       "292  2022-04-14 11:25:00+00:00   \n",
       "293  2022-04-14 10:25:00+00:00   \n",
       "294  2022-04-16 21:47:15+00:00   \n",
       "295  2022-04-16 19:10:00+00:00   \n",
       "\n",
       "                                               news_vh   labeldate  \\\n",
       "0    (Bloomberg) -- U.S. orders for durable goods r...  2020-08-27   \n",
       "1    By Yilei Sun and Brenda Goh\\nBEIJING (Reuters)...  2020-09-11   \n",
       "2    WASHINGTON (Reuters) - U.S. business inventori...  2020-09-17   \n",
       "3    By Geoffrey Smith \\nInvesting.com -- U.S. reta...  2020-09-17   \n",
       "4    BERLIN (Reuters) - European car registrations ...  2020-09-18   \n",
       "..                                                 ...         ...   \n",
       "291  BERLIN (Reuters) - Mercedes-Benz aims to produ...  2022-04-15   \n",
       "292  By James Oliphant\\nWASHINGTON (Reuters) - Elon...  2022-04-15   \n",
       "293  WASHINGTON (Reuters) - U.S. business inventori...  2022-04-15   \n",
       "294  In a court filing out late Friday, shareholder...  2022-04-18   \n",
       "295  By Hyunjoo Jin\\nSAN FRANCISCO (Reuters) - A fe...  2022-04-18   \n",
       "\n",
       "           Date  label  \n",
       "0    2020-08-27   -1.0  \n",
       "1    2020-09-11    0.0  \n",
       "2    2020-09-17    1.0  \n",
       "3    2020-09-17    1.0  \n",
       "4    2020-09-18   -1.0  \n",
       "..          ...    ...  \n",
       "291  2022-04-15    0.0  \n",
       "292  2022-04-15    0.0  \n",
       "293  2022-04-15    0.0  \n",
       "294  2022-04-18    1.0  \n",
       "295  2022-04-18    1.0  \n",
       "\n",
       "[296 rows x 5 columns]"
      ]
     },
     "execution_count": 55,
     "metadata": {},
     "output_type": "execute_result"
    }
   ],
   "source": [
    "temp4 = pd.read_csv('./data/라벨데이터_final/자동차_지수.csv',index_col=0)\n",
    "temp4"
   ]
  },
  {
   "cell_type": "code",
   "execution_count": null,
   "id": "497e839a",
   "metadata": {},
   "outputs": [],
   "source": []
  },
  {
   "cell_type": "markdown",
   "id": "91b96d5a",
   "metadata": {},
   "source": [
    "## 조선"
   ]
  },
  {
   "cell_type": "code",
   "execution_count": 57,
   "id": "704bbeae",
   "metadata": {
    "ExecuteTime": {
     "end_time": "2022-04-24T09:39:28.706379Z",
     "start_time": "2022-04-24T09:39:28.682432Z"
    }
   },
   "outputs": [
    {
     "data": {
      "text/html": [
       "<div>\n",
       "<style scoped>\n",
       "    .dataframe tbody tr th:only-of-type {\n",
       "        vertical-align: middle;\n",
       "    }\n",
       "\n",
       "    .dataframe tbody tr th {\n",
       "        vertical-align: top;\n",
       "    }\n",
       "\n",
       "    .dataframe thead th {\n",
       "        text-align: right;\n",
       "    }\n",
       "</style>\n",
       "<table border=\"1\" class=\"dataframe\">\n",
       "  <thead>\n",
       "    <tr style=\"text-align: right;\">\n",
       "      <th></th>\n",
       "      <th>date</th>\n",
       "      <th>news_ship</th>\n",
       "      <th>labeldate</th>\n",
       "      <th>Date</th>\n",
       "      <th>label</th>\n",
       "    </tr>\n",
       "  </thead>\n",
       "  <tbody>\n",
       "    <tr>\n",
       "      <th>0</th>\n",
       "      <td>2021-10-13 20:00:00+00:00</td>\n",
       "      <td>WASHINGTON (Reuters) - U.S. lawmakers on Wedne...</td>\n",
       "      <td>2021-10-15</td>\n",
       "      <td>2021-10-15</td>\n",
       "      <td>0</td>\n",
       "    </tr>\n",
       "    <tr>\n",
       "      <th>1</th>\n",
       "      <td>2021-11-24 00:20:00+00:00</td>\n",
       "      <td>By Guy Faulconbridge\\nLONDON (Reuters) - Barba...</td>\n",
       "      <td>2021-11-25</td>\n",
       "      <td>2021-11-25</td>\n",
       "      <td>0</td>\n",
       "    </tr>\n",
       "    <tr>\n",
       "      <th>2</th>\n",
       "      <td>2021-11-30 12:01:00+00:00</td>\n",
       "      <td>By Mike Stone\\nWASHINGTON (Reuters) - U.S. Pre...</td>\n",
       "      <td>2021-12-01</td>\n",
       "      <td>2021-12-01</td>\n",
       "      <td>0</td>\n",
       "    </tr>\n",
       "    <tr>\n",
       "      <th>3</th>\n",
       "      <td>2022-02-14 18:01:00+00:00</td>\n",
       "      <td>(Reuters) - The U.S. Coast Guard was searching...</td>\n",
       "      <td>2022-02-16</td>\n",
       "      <td>2022-02-16</td>\n",
       "      <td>0</td>\n",
       "    </tr>\n",
       "    <tr>\n",
       "      <th>4</th>\n",
       "      <td>2022-03-14 12:06:00+00:00</td>\n",
       "      <td>BERLIN (Reuters) -Germany will buy 35 U.S. F-3...</td>\n",
       "      <td>2022-03-15</td>\n",
       "      <td>2022-03-15</td>\n",
       "      <td>0</td>\n",
       "    </tr>\n",
       "    <tr>\n",
       "      <th>5</th>\n",
       "      <td>2022-03-16 11:02:00+00:00</td>\n",
       "      <td>(Reuters) -The Pentagon will request 61 F-35 s...</td>\n",
       "      <td>2022-03-17</td>\n",
       "      <td>2022-03-17</td>\n",
       "      <td>0</td>\n",
       "    </tr>\n",
       "    <tr>\n",
       "      <th>6</th>\n",
       "      <td>2022-03-24 07:56:00+00:00</td>\n",
       "      <td>MILAN (Reuters) - As Europe steps up its milit...</td>\n",
       "      <td>2022-03-25</td>\n",
       "      <td>2022-03-25</td>\n",
       "      <td>0</td>\n",
       "    </tr>\n",
       "    <tr>\n",
       "      <th>7</th>\n",
       "      <td>2022-04-05 16:50:00+00:00</td>\n",
       "      <td>WASHINGTON (Reuters) - U.S. President Joe Bide...</td>\n",
       "      <td>2022-04-06</td>\n",
       "      <td>2022-04-06</td>\n",
       "      <td>0</td>\n",
       "    </tr>\n",
       "  </tbody>\n",
       "</table>\n",
       "</div>"
      ],
      "text/plain": [
       "                        date  \\\n",
       "0  2021-10-13 20:00:00+00:00   \n",
       "1  2021-11-24 00:20:00+00:00   \n",
       "2  2021-11-30 12:01:00+00:00   \n",
       "3  2022-02-14 18:01:00+00:00   \n",
       "4  2022-03-14 12:06:00+00:00   \n",
       "5  2022-03-16 11:02:00+00:00   \n",
       "6  2022-03-24 07:56:00+00:00   \n",
       "7  2022-04-05 16:50:00+00:00   \n",
       "\n",
       "                                           news_ship   labeldate        Date  \\\n",
       "0  WASHINGTON (Reuters) - U.S. lawmakers on Wedne...  2021-10-15  2021-10-15   \n",
       "1  By Guy Faulconbridge\\nLONDON (Reuters) - Barba...  2021-11-25  2021-11-25   \n",
       "2  By Mike Stone\\nWASHINGTON (Reuters) - U.S. Pre...  2021-12-01  2021-12-01   \n",
       "3  (Reuters) - The U.S. Coast Guard was searching...  2022-02-16  2022-02-16   \n",
       "4  BERLIN (Reuters) -Germany will buy 35 U.S. F-3...  2022-03-15  2022-03-15   \n",
       "5  (Reuters) -The Pentagon will request 61 F-35 s...  2022-03-17  2022-03-17   \n",
       "6  MILAN (Reuters) - As Europe steps up its milit...  2022-03-25  2022-03-25   \n",
       "7  WASHINGTON (Reuters) - U.S. President Joe Bide...  2022-04-06  2022-04-06   \n",
       "\n",
       "   label  \n",
       "0      0  \n",
       "1      0  \n",
       "2      0  \n",
       "3      0  \n",
       "4      0  \n",
       "5      0  \n",
       "6      0  \n",
       "7      0  "
      ]
     },
     "execution_count": 57,
     "metadata": {},
     "output_type": "execute_result"
    }
   ],
   "source": [
    "temp5 = pd.read_csv('./data/라벨데이터_final/조선_지수.csv',index_col=0)\n",
    "temp5"
   ]
  },
  {
   "cell_type": "code",
   "execution_count": null,
   "id": "084b7312",
   "metadata": {},
   "outputs": [],
   "source": []
  },
  {
   "cell_type": "markdown",
   "id": "ba9bad66",
   "metadata": {},
   "source": [
    "## 철강"
   ]
  },
  {
   "cell_type": "code",
   "execution_count": 61,
   "id": "25d57b56",
   "metadata": {
    "ExecuteTime": {
     "end_time": "2022-04-24T09:43:46.851241Z",
     "start_time": "2022-04-24T09:43:46.837277Z"
    }
   },
   "outputs": [
    {
     "data": {
      "text/html": [
       "<div>\n",
       "<style scoped>\n",
       "    .dataframe tbody tr th:only-of-type {\n",
       "        vertical-align: middle;\n",
       "    }\n",
       "\n",
       "    .dataframe tbody tr th {\n",
       "        vertical-align: top;\n",
       "    }\n",
       "\n",
       "    .dataframe thead th {\n",
       "        text-align: right;\n",
       "    }\n",
       "</style>\n",
       "<table border=\"1\" class=\"dataframe\">\n",
       "  <thead>\n",
       "    <tr style=\"text-align: right;\">\n",
       "      <th></th>\n",
       "      <th>date</th>\n",
       "      <th>news_steel</th>\n",
       "      <th>labeldate</th>\n",
       "      <th>Date</th>\n",
       "      <th>label</th>\n",
       "    </tr>\n",
       "  </thead>\n",
       "  <tbody>\n",
       "  </tbody>\n",
       "</table>\n",
       "</div>"
      ],
      "text/plain": [
       "Empty DataFrame\n",
       "Columns: [date, news_steel, labeldate, Date, label]\n",
       "Index: []"
      ]
     },
     "execution_count": 61,
     "metadata": {},
     "output_type": "execute_result"
    }
   ],
   "source": [
    "temp6 = pd.read_csv('./data/라벨데이터_final/철강_지수.csv',index_col=0)\n",
    "temp6"
   ]
  },
  {
   "cell_type": "code",
   "execution_count": null,
   "id": "3d078a30",
   "metadata": {},
   "outputs": [],
   "source": []
  }
 ],
 "metadata": {
  "kernelspec": {
   "display_name": "Python 3 (ipykernel)",
   "language": "python",
   "name": "python3"
  },
  "language_info": {
   "codemirror_mode": {
    "name": "ipython",
    "version": 3
   },
   "file_extension": ".py",
   "mimetype": "text/x-python",
   "name": "python",
   "nbconvert_exporter": "python",
   "pygments_lexer": "ipython3",
   "version": "3.9.7"
  },
  "toc": {
   "base_numbering": 1,
   "nav_menu": {},
   "number_sections": true,
   "sideBar": true,
   "skip_h1_title": false,
   "title_cell": "Table of Contents",
   "title_sidebar": "Contents",
   "toc_cell": false,
   "toc_position": {
    "height": "calc(100% - 180px)",
    "left": "10px",
    "top": "150px",
    "width": "240.273px"
   },
   "toc_section_display": true,
   "toc_window_display": true
  },
  "varInspector": {
   "cols": {
    "lenName": 16,
    "lenType": 16,
    "lenVar": 40
   },
   "kernels_config": {
    "python": {
     "delete_cmd_postfix": "",
     "delete_cmd_prefix": "del ",
     "library": "var_list.py",
     "varRefreshCmd": "print(var_dic_list())"
    },
    "r": {
     "delete_cmd_postfix": ") ",
     "delete_cmd_prefix": "rm(",
     "library": "var_list.r",
     "varRefreshCmd": "cat(var_dic_list()) "
    }
   },
   "types_to_exclude": [
    "module",
    "function",
    "builtin_function_or_method",
    "instance",
    "_Feature"
   ],
   "window_display": false
  }
 },
 "nbformat": 4,
 "nbformat_minor": 5
}
