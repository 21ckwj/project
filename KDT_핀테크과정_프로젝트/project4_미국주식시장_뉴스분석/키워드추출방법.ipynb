{
 "cells": [
  {
   "cell_type": "markdown",
   "id": "38650d6d",
   "metadata": {},
   "source": [
    "# KeyWord Extraction "
   ]
  },
  {
   "cell_type": "code",
   "execution_count": 18,
   "id": "ef8283b7",
   "metadata": {
    "ExecuteTime": {
     "end_time": "2022-04-20T02:57:23.572550Z",
     "start_time": "2022-04-20T02:57:23.562577Z"
    }
   },
   "outputs": [],
   "source": [
    "#문자 전처리 \n",
    "\n",
    "from bs4 import BeautifulSoup\n",
    "from nltk.stem import PorterStemmer\n",
    "from nltk.corpus import stopwords\n",
    "import re\n",
    "\n",
    "def preprocessing(news):\n",
    "    \n",
    "    # HTML 태그 제거\n",
    "    news_text = BeautifulSoup(news, \"html5lib\").get_text()\n",
    "    \n",
    "    # 영어가 아닌 특수문자를 공백(\" \")으로 바꾸기\n",
    "    news_text = re.sub(\"[^a-zA-Z]\",\" \", news_text)\n",
    "    \n",
    "    # 대문자를 소문자로 바꾸고 공백 단위로 텍스트를 나누어 리스트화\n",
    "    words = news_text.lower().split()\n",
    "    \n",
    "    # 어원화\n",
    "    stemmer = PorterStemmer()\n",
    "    words = [stemmer.stem(w) for w in words]\n",
    "    \n",
    "    # 불용어 제거하기\n",
    "    stop_words = stopwords.words('english')\n",
    "    words = [w for w in words if not w in stop_words]\n",
    "    \n",
    "    # 한글자 없애기\n",
    "    words = [w for w in words if len(w)>1]\n",
    "    \n",
    "    clean_news = ' '.join(words)\n",
    "        \n",
    "    clean_list = clean_news.split()\n",
    "    clean_list.extend(' ')\n",
    "    \n",
    "    return clean_list"
   ]
  },
  {
   "cell_type": "markdown",
   "id": "aac78559",
   "metadata": {},
   "source": [
    "## 테스트문서"
   ]
  },
  {
   "cell_type": "code",
   "execution_count": 19,
   "id": "dfec895c",
   "metadata": {
    "ExecuteTime": {
     "end_time": "2022-04-20T02:57:25.638025Z",
     "start_time": "2022-04-20T02:57:25.626057Z"
    }
   },
   "outputs": [],
   "source": [
    "title1 = 'Consumer prices rose 8.5% in March, slightly hotter than expected and the highest since 1981'\n",
    "doc1 = \"\"\"\n",
    "Prices that consumers pay for everyday items surged in March to their highest levels since the early days of the Reagan administration, according to Labor Department data released Tuesday.\n",
    "\n",
    "The consumer price index, which measures a wide-ranging basket of goods and services, jumped 8.5% from a year ago on an unadjusted basis, above even the already elevated Dow Jones estimate for 8.4%.\n",
    "\n",
    "Excluding food and energy, so-called core CPI increased 6.5% on a 12-month basis, in line with the expectation. However, there were signs that core inflation appeared to be ebbing, as it rose just 0.3% for the month, less than the 0.5% estimate. That in turn sparked some hope that inflation overall was easing and that March might represent the peak.\n",
    "\n",
    "Markets reacted positively to the report as stocks rose and government bond yields declined.\n",
    "\n",
    "“The big news in the March report was that core price pressures finally appear to be moderating,” wrote Andrew Hunter, senior U.S. economist at Capital Economics. Hunter said he thinks the March increase will “mark the peak” for inflation as year-over-year comparisons drive the numbers lower and energy prices subside.\n",
    "\n",
    "Federal Reserve Governor Lael Brainard said the slowing increase in core CPI is a “welcome” development in the effort to bring down inflation.\n",
    "\n",
    "″“I’ll be looking to see whether we continue to see moderation in the months ahead,” Brainard told the Wall Street Journal.\n",
    "\n",
    "The data reflected price rises not seen in the U.S. since the stagflation days of the late 1970s and early ’80s. March’s headline reading in fact was the highest since December 1981. Core inflation was the hottest since August 1982.\n",
    "\n",
    "Due to the surge in inflation, worker wages, despite rising 5.6% from a year ago, weren’t keeping pace with the cost of living. Real average hourly earnings posted a seasonally adjusted 0.8% decline for the month, according to a separate Bureau of Labor Statistics report.\n",
    "\n",
    "The inability of wages to keep up with costs could add to inflation pressures.\n",
    "\n",
    "WATCH NOW\n",
    "VIDEO02:20\n",
    "Morning Meeting sneak peek: Jim Cramer breaks down today’s inflation report\n",
    "The Atlanta Federal Reserve wage tracker for March indicated gains of another 6% which is “symptomatic of inflation pressures continuing to broaden,” said Brian Coulton, chief economist at Fitch Ratings. Coulton pointed out that the core inflation deceleration was due largely to a drop in auto prices, while other prices continued to show increases.\n",
    "\n",
    "Shelter costs, which make up about one-third of the CPI weighting, increased another 0.5% on the month, making the 12-month gain a blistering 5%, the highest since May 1991.\n",
    "\n",
    "To combat inflation, the Fed has begun raising interest rates and is expected to continue doing so through the remainder of the year and into 2023. The last time prices were this high, the Fed raised its benchmark rate to nearly 20%, pulling the economy into a recession that finally defeated inflation.\n",
    "\n",
    "Economists generally don’t expect a recession this time around, though many on Wall Street are raising the probability of a downturn.\n",
    "\n",
    "“Overall, this report is encouraging, at the margin, though it is far too soon to be sure that the next few core prints will be as low; much depends on the path of used vehicle prices, which is very hard to forecast with confidence,” wrote Ian Shepherdson, chief economist at Pantheon Macroeconomics. “We’re sure they will fall, but the speed of the decline is what matters.”\n",
    "\n",
    "Price increases came from many of the usual culprits.\n",
    "\n",
    "Food rose 1% for the month and 8.8% over the year, as prices for goods such as rice, ground beef, citrus fruits and fresh vegetables all posted gains of more than 2% in March. Energy prices were up 11% and 32%, respectively, as gasoline prices popped 18.3% for the month, boosted by the war in Ukraine and the pressure it is exerting on supply.\n",
    "\n",
    "One sector that has been a major driver in the inflation burst subsided in March. Used car and truck prices declined 3.8% for the month, though they are still up 35.3% on the year. Also, commodity prices excluding food and energy fell by 0.4%.\n",
    "\n",
    "Those declines, however, were offset by gains in clothing, services excluding energy and medical care, each of which increased 0.6% for the month. Transportation services also rose 2%, bringing its 12-month gain to 7.7%.\n",
    "\n",
    "In a sign of economic recovery from a sector hard-hit during the Covid pandemic, airline fares jumped by 10.7% in the month and were up 23.6% from a year ago.\n",
    "\n",
    "\"\"\""
   ]
  },
  {
   "cell_type": "markdown",
   "id": "ccd647f4",
   "metadata": {
    "ExecuteTime": {
     "end_time": "2022-04-18T11:36:47.693514Z",
     "start_time": "2022-04-18T11:36:47.687530Z"
    }
   },
   "source": [
    "### stock market"
   ]
  },
  {
   "cell_type": "code",
   "execution_count": 20,
   "id": "8788bb53",
   "metadata": {
    "ExecuteTime": {
     "end_time": "2022-04-20T02:57:26.523657Z",
     "start_time": "2022-04-20T02:57:26.505705Z"
    }
   },
   "outputs": [],
   "source": [
    "title_sm = \"Why DiDi Stock Crashed 20% Today\"\n",
    "docs_sm = \"\"\" \n",
    "Shares of DiDi Global (NYSE:DIDI) are down more than 20% today after the Chinese ride-sharing company announced it has scheduled an extraordinary general meeting (EGM) on May 23 to vote on the delisting of its American Depositary Shares from the New York Stock Exchange (NYSE).\n",
    "\n",
    "The Chinese ride-hailing company said it will not list its shares on another stock exchange until it completes delisting in the US. In the meantime, DiDi said it will explore different strategies including considering other stock exchanges for potential new listing plans in the future.\n",
    "\n",
    "China's authorities said on Saturday that DiDi itself made a decision to delist from the NYSE. According to the China Securities Regulatory Commission (CSRC), DiDi’s decision to delist is not associated with other US-listed Chinese stocks or negotiations with the United States to resolve an audit issue.\n",
    "\n",
    "The company announced its plan to delist its US shares in December, saying it wants to list in Hong Kong after coming into conflict with Chinese regulators by completing its $4.4 billion US IPO in 2021.\n",
    "\n",
    "Regulators in China ordered Didi to suspend its listing until a cybersecurity investigation of its data practices was completed.\n",
    "\n",
    "Several days after the IPO, the Chinese cyberspace regulator has instructed app stores to remove 25 mobile apps managed by DiDi and ordered the ride-hailing giant to halt the registration of new users.\n",
    "\n",
    "Following DiDi’s shareholder meeting announcement, a Chinese securities watchdog issued a statement saying that DiDi’s decision was not related to the other US-listed Chinese companies.\n",
    "\n",
    "DiDi stock price is down over 20% today.\n",
    "\n",
    "By Senad Karaahmetovic\n",
    "\"\"\""
   ]
  },
  {
   "cell_type": "code",
   "execution_count": 22,
   "id": "da7bc74f",
   "metadata": {
    "ExecuteTime": {
     "end_time": "2022-04-20T02:57:33.495010Z",
     "start_time": "2022-04-20T02:57:33.482045Z"
    }
   },
   "outputs": [
    {
     "data": {
      "text/plain": [
       "['share',\n",
       " 'didi',\n",
       " 'global',\n",
       " 'nyse',\n",
       " 'didi',\n",
       " 'today',\n",
       " 'chines',\n",
       " 'ride',\n",
       " 'share',\n",
       " 'compani',\n",
       " 'announc',\n",
       " 'ha',\n",
       " 'schedul',\n",
       " 'extraordinari',\n",
       " 'gener',\n",
       " 'meet',\n",
       " 'egm',\n",
       " 'may',\n",
       " 'vote',\n",
       " 'delist',\n",
       " 'american',\n",
       " 'depositari',\n",
       " 'share',\n",
       " 'new',\n",
       " 'york',\n",
       " 'stock',\n",
       " 'exchang',\n",
       " 'nyse',\n",
       " 'chines',\n",
       " 'ride',\n",
       " 'hail',\n",
       " 'compani',\n",
       " 'said',\n",
       " 'list',\n",
       " 'share',\n",
       " 'anoth',\n",
       " 'stock',\n",
       " 'exchang',\n",
       " 'complet',\n",
       " 'delist',\n",
       " 'us',\n",
       " 'meantim',\n",
       " 'didi',\n",
       " 'said',\n",
       " 'explor',\n",
       " 'differ',\n",
       " 'strategi',\n",
       " 'includ',\n",
       " 'consid',\n",
       " 'stock',\n",
       " 'exchang',\n",
       " 'potenti',\n",
       " 'new',\n",
       " 'list',\n",
       " 'plan',\n",
       " 'futur',\n",
       " 'china',\n",
       " 'author',\n",
       " 'said',\n",
       " 'saturday',\n",
       " 'didi',\n",
       " 'made',\n",
       " 'decis',\n",
       " 'delist',\n",
       " 'nyse',\n",
       " 'accord',\n",
       " 'china',\n",
       " 'secur',\n",
       " 'regulatori',\n",
       " 'commiss',\n",
       " 'csrc',\n",
       " 'didi',\n",
       " 'decis',\n",
       " 'delist',\n",
       " 'associ',\n",
       " 'us',\n",
       " 'list',\n",
       " 'chines',\n",
       " 'stock',\n",
       " 'negoti',\n",
       " 'unit',\n",
       " 'state',\n",
       " 'resolv',\n",
       " 'audit',\n",
       " 'issu',\n",
       " 'compani',\n",
       " 'announc',\n",
       " 'plan',\n",
       " 'delist',\n",
       " 'us',\n",
       " 'share',\n",
       " 'decemb',\n",
       " 'say',\n",
       " 'want',\n",
       " 'list',\n",
       " 'hong',\n",
       " 'kong',\n",
       " 'come',\n",
       " 'conflict',\n",
       " 'chines',\n",
       " 'regul',\n",
       " 'complet',\n",
       " 'billion',\n",
       " 'us',\n",
       " 'ipo',\n",
       " 'regul',\n",
       " 'china',\n",
       " 'order',\n",
       " 'didi',\n",
       " 'suspend',\n",
       " 'list',\n",
       " 'cybersecur',\n",
       " 'investig',\n",
       " 'data',\n",
       " 'practic',\n",
       " 'wa',\n",
       " 'complet',\n",
       " 'sever',\n",
       " 'day',\n",
       " 'ipo',\n",
       " 'chines',\n",
       " 'cyberspac',\n",
       " 'regul',\n",
       " 'ha',\n",
       " 'instruct',\n",
       " 'app',\n",
       " 'store',\n",
       " 'remov',\n",
       " 'mobil',\n",
       " 'app',\n",
       " 'manag',\n",
       " 'didi',\n",
       " 'order',\n",
       " 'ride',\n",
       " 'hail',\n",
       " 'giant',\n",
       " 'halt',\n",
       " 'registr',\n",
       " 'new',\n",
       " 'user',\n",
       " 'follow',\n",
       " 'didi',\n",
       " 'sharehold',\n",
       " 'meet',\n",
       " 'announc',\n",
       " 'chines',\n",
       " 'secur',\n",
       " 'watchdog',\n",
       " 'issu',\n",
       " 'statement',\n",
       " 'say',\n",
       " 'didi',\n",
       " 'decis',\n",
       " 'wa',\n",
       " 'relat',\n",
       " 'us',\n",
       " 'list',\n",
       " 'chines',\n",
       " 'compani',\n",
       " 'didi',\n",
       " 'stock',\n",
       " 'price',\n",
       " 'today',\n",
       " 'senad',\n",
       " 'karaahmetov',\n",
       " ' ']"
      ]
     },
     "execution_count": 22,
     "metadata": {},
     "output_type": "execute_result"
    }
   ],
   "source": [
    "docs_sm_p = preprocessing(docs_sm)\n",
    "docs_sm_p"
   ]
  },
  {
   "cell_type": "markdown",
   "id": "09dbc012",
   "metadata": {
    "ExecuteTime": {
     "end_time": "2022-04-18T11:36:47.867081Z",
     "start_time": "2022-04-18T11:36:47.863060Z"
    }
   },
   "source": [
    "### commmodities"
   ]
  },
  {
   "cell_type": "code",
   "execution_count": 21,
   "id": "2be1b0bc",
   "metadata": {
    "ExecuteTime": {
     "end_time": "2022-04-18T15:55:46.931237Z",
     "start_time": "2022-04-18T15:55:46.924255Z"
    }
   },
   "outputs": [],
   "source": [
    "title_c = \"Lawmaker Raskin sees hope for U.S. climate legislation this year\"\n",
    "docs_c = \"\"\" \n",
    "WASHINGTON (Reuters) - U.S. Democrats in Congress squabbling over how best to invest in the fight against climate change will forge a compromise in coming months that could be signed into law by President Joe Biden, Democratic Representative Jamie Raskin predicts.\n",
    "\n",
    "Significantly, Raskin signaled that he and other liberals should be willing to compromise on the shape of such a package, although he gave no details on what those compromises might be.\n",
    "\n",
    "\"We should cut the deals that need to be cut,\" Raskin said, while \"trying to build as large a coalition as possible.\"\n",
    "\n",
    "A leading liberal in the House of Representatives, Raskin spoke on Thursday in an interview with Reuters, National Public Radio and The Guardian newspaper.\n",
    "\n",
    "Work on a $1.75 trillion federal investment bill that included half a trillion dollars toward cutting fossil fuel emissions fell apart late last year, when conservative Democratic Senator Joe Manchin declared his opposition.\n",
    "\n",
    "But signs are emerging of a slimmed-down \"Build Back Better\" bill, as Biden's Democrats seek to score legislative victories including on climate action ahead of congressional elections in November.\n",
    "\n",
    "\"We're disappointed that 'Build Back Better' as originally advanced in its entirety won't be going, but we're convinced that major chunks of it, including the $550 billion investment in renewable and safe energy, will find its way onto the floor of the House (of Representatives) and the floor of the Senate,\" Raskin said.\n",
    "\n",
    "The original \"Build Back Better\" package included provisions to reduce emissions from the U.S. power and transportation sectors that together account for about half the U.S. greenhouse gases. Those provisions could include incentives for adopting renewable energy, electric vehicles or carbon capture technologies.\n",
    "\n",
    "Passing even a slimmed-down version likely would require support from every Democrat in the Senate, which is evenly split between the Republican and Democratic parties, with Vice President Kamala Harris, a Democrat, holding the power to cast tie-breaking votes to secure victories for her party.\n",
    "\n",
    "Despite Raskin's optimism, nothing is certain and negotiations could still fall short. To date, no Republican members have backed the legislation, making Manchin the best hope for passing any bill.\n",
    "\n",
    "Congressional leaders will be keeping a close eye also on another conservative Democrat, Senator Kyrsten Sinema, who has raised objections in the past to parts of Biden’s domestic investment initiative.\n",
    "\n",
    "In recent weeks, Manchin has indicated he could go along with a plan that makes climate change investments, paid for by raising tax revenues and lowering costs of prescription drugs covered by Medicare.\n",
    "\n",
    "Aides to some Democratic lawmakers lately have also expressed confidence that lawmakers may be coalescing around a revised climate change bill.\n",
    "\n",
    "Raskin's remarks were part of a broader conversation with reporters on U.S. climate policy and the democratic process – two topics in focus as Biden struggles to make good on pledges to cut planet-warming emissions.\n",
    "\"\"\""
   ]
  },
  {
   "cell_type": "markdown",
   "id": "c2bbb505",
   "metadata": {
    "ExecuteTime": {
     "end_time": "2022-04-18T11:36:48.039619Z",
     "start_time": "2022-04-18T11:36:48.022633Z"
    }
   },
   "source": [
    "### forex"
   ]
  },
  {
   "cell_type": "code",
   "execution_count": 52,
   "id": "abc82d5e",
   "metadata": {
    "ExecuteTime": {
     "end_time": "2022-04-18T16:11:21.721476Z",
     "start_time": "2022-04-18T16:11:21.714495Z"
    }
   },
   "outputs": [],
   "source": [
    "title_f = \"Indian bond yields off session highs on short-covering; rupee near 1-month low\"\n",
    "docs_f = \"\"\"\n",
    "MUMBAI (Reuters) - The Indian rupee dropped on Monday to its lowest in nearly a month against the dollar, tracking losses in the stock market and weighed by sharp gains in global crude oil prices, while bond yields pulled back from session highs on short-covering.\n",
    "\n",
    "Oil prices climbed to their highest in nearly three weeks as fears over tight global supply grew, with the deepening crisis in Ukraine raising the prospect of heavier sanctions by the West on top exporter Russia. [O/R]\n",
    "\n",
    "India imports more than two-thirds of its oil requirements and rising prices tend to push up imported inflation and widen the country's trade and current account deficits.\n",
    "\n",
    "The partially convertible rupee was trading at 76.28/29 per dollar versus its close of 76.1750 on Wednesday. Earlier in the session, it touched a low of 76.43, its weakest since March 22.\n",
    "\n",
    "Indian financial markets were closed on Thursday and Friday for holidays.\n",
    "\n",
    "The benchmark 10-year bond yield was trading down 3 basis point at 7.18% by 0828 GMT, after earlier rising to a high of 7.26%.\n",
    "\n",
    "\"Stocks are also down quite a bit, so we saw some consolidation in bonds after the weak open. But with weekly supply, yields don't have much downside from here unless the RBI (Reserve Bank of India) does something,\" said a senior trader with a foreign bank.\n",
    "\n",
    "Indian shares touched three-week lows, hit by losses in IT stocks after Infosys (NYSE:INFY) crashed 9% on missing quarterly profit estimates, while inflation concerns also weighed on sentiment. (BO)\n",
    "\n",
    "India's annual wholesale inflation rate accelerated to 14.55% in March, data showed, completing a year in double-digit territory as firms grapple with rising input costs and pass on higher prices to consumers.\n",
    "\n",
    "\"Supply shortages and price increases in a number of input goods due to the Russia-Ukraine conflict will keep domestic inflation high in the coming months, setting the stage for front-loaded monetary policy tightening by the central bank,\" said Rahul Bajoria, chief economist at Barclays (LON:BARC).\n",
    "\"\"\""
   ]
  },
  {
   "cell_type": "markdown",
   "id": "44a91e35",
   "metadata": {
    "ExecuteTime": {
     "end_time": "2022-04-18T11:36:48.212126Z",
     "start_time": "2022-04-18T11:36:48.201156Z"
    }
   },
   "source": [
    "### economy"
   ]
  },
  {
   "cell_type": "code",
   "execution_count": 65,
   "id": "4709b4b6",
   "metadata": {
    "ExecuteTime": {
     "end_time": "2022-04-18T16:22:10.352712Z",
     "start_time": "2022-04-18T16:22:10.347728Z"
    }
   },
   "outputs": [],
   "source": [
    "title_e = \"Sri Lankan president digs in heels, expands cabinet ahead of IMF talks\"\n",
    "docs_e = \"\"\"\n",
    "COLOMBO (Reuters) -Sri Lanka's President Gotabaya Rajapaksa announced 17 new ministerial appointments on Monday - but notably left out some members of his own family in the wake of protests over the government's handling of a devastating economic crisis.\n",
    "\n",
    "The president and his elder brother, Prime Minister Mahinda Rajapaksa, will stay on despite demands from protesters and the opposition for them to quit. Rajapaksa has governed the South Asian island nation since 2019 with numerous other family members in top government positions.\n",
    "\n",
    "The island nation of 22 million is experiencing prolonged power cuts and fuel and medicines shortages triggered by a tumble in its foreign exchange reserves that has stalled imports of essentials, leading to daily protests in the commercial capital Colombo.\n",
    "\n",
    "The government is set to begin talks with the International Monetary Fund (IMF) on Monday for a loan programme, and analysts have flagged political instability as a risk to Sri Lanka finding a way out of its financial turmoil.\n",
    "\n",
    "In a speech to his new cabinet, President Rajapaksa said he would seek solutions to Sri Lanka's problems including via possible constitutional changes, according to a statement issued by his office.\n",
    "\n",
    "\"I stand ready to support parliament on constitutional changes that should be made,\" he said.\n",
    "\n",
    "Thousands of Sri Lankans have been protesting outside the president's office in Colombo for over a week, demanding that the Rajapaksas resign.\n",
    "\n",
    "Faced with growing popular unrest Rajapaksa dissolved his previous cabinet earlier this month and invited all parties in parliament to form a unity government, but opposition groups and members of the ruling alliance rejected the idea.\n",
    "\n",
    "On Monday only five members of the previous cabinet were sworn in again, while most other portfolios were allocated to members of the ruling Sri Lanka Podujana Peramuna party.\n",
    "\n",
    "Among those not re-appointed from the previous cabinet were two more of the president's brothers, Basil and Chamal, and the prime minister's son Namal.\n",
    "\n",
    "\"It is the government's responsibility to put the economy on the right path and build a country that can achieve the aspirations of the younger generation,\" the president said.\n",
    "\n",
    "Economic mismanagement by successive governments weakened Sri Lanka's public finances, but the situation was exacerbated by deep tax cuts enacted by the Rajapaksa administration soon after it took office in 2019.\n",
    "\n",
    "Key sectors of the economy, particularly tourism, were then battered by the COVID-19 pandemic, while the government dragged its feet on approaching the IMF for help.\n",
    "\n",
    "Last week, the country's central bank said it was unilaterally suspending external debt payments, instead using the paltry foreign reserves of around $1.93 billion for importing essential goods.\n",
    "\"\"\""
   ]
  },
  {
   "cell_type": "markdown",
   "id": "e3c5068b",
   "metadata": {
    "ExecuteTime": {
     "end_time": "2022-04-18T11:36:48.384665Z",
     "start_time": "2022-04-18T11:36:48.374692Z"
    }
   },
   "source": [
    "### economic_indicator"
   ]
  },
  {
   "cell_type": "code",
   "execution_count": 76,
   "id": "0a8fc667",
   "metadata": {
    "ExecuteTime": {
     "end_time": "2022-04-18T17:00:42.011822Z",
     "start_time": "2022-04-18T17:00:42.000850Z"
    }
   },
   "outputs": [],
   "source": [
    "title_ei = \"Home prices seen rising, renters see purchase prospects fade: NY Fed survey\"\n",
    "docs_ei = \"\"\"\n",
    "(Reuters) - U.S. households expect home prices and rents to rise sharply this year, and while growth in both are then seen slowing, renters see their chances of ever owning a home fading fast, according to a new survey by the Federal Reserve Bank of New York.\n",
    "\n",
    "Home prices are expected to increase 7% in the next year, but 2.2% annually on average over the next five years as mortgage rates are seen accelerating, the survey published Monday shows.\n",
    "\n",
    "Meanwhile rents are expected to rise even faster, jumping 11.5% over the next 12 months and increasing 5.2% on average each year for the next five.\n",
    "\n",
    "Last year respondents to the same survey had expected a 5.7% rise in home prices and a 6.6% rise in rents in the year ahead.\n",
    "\n",
    "The bottom line for renters was stark: they reported seeing just a 43.3% likelihood of ever owning a home, down from 51.6% in 2021 and the lowest reading since the survey began in 2014.\n",
    "\n",
    "The Federal Reserve is raising interest rates to cool inflation that is at a 40-year high. Mortgage rates already have risen in anticipation, with the average 30-year fixed rate to 5% last week, up nearly two percentage points since late last year.\n",
    "\n",
    "An industry survey released earlier Monday showed confidence among U.S. single-family homebuilders falling to a seven-month low in April as rising home-borrowing costs and snarled supply chains boosted housing costs and kept some first-time buyers out of the market.\n",
    "\"\"\""
   ]
  },
  {
   "cell_type": "markdown",
   "id": "08b9f758",
   "metadata": {
    "ExecuteTime": {
     "end_time": "2022-04-18T11:36:48.542244Z",
     "start_time": "2022-04-18T11:36:48.534265Z"
    }
   },
   "source": [
    "### politics"
   ]
  },
  {
   "cell_type": "code",
   "execution_count": 84,
   "id": "a145dbfd",
   "metadata": {
    "ExecuteTime": {
     "end_time": "2022-04-18T17:06:47.219379Z",
     "start_time": "2022-04-18T17:06:47.203437Z"
    }
   },
   "outputs": [],
   "source": [
    "title_p = \"Biden, first lady report making over $600,000 in 2021 tax filing\"\n",
    "docs_p = \"\"\"\n",
    "WASHINGTON (Reuters) -President Joe Biden and his wife Jill released their federal tax returns on Friday, showing the couple earned more than $600,000 last year and paid an effective federal income tax rate of 24.6%.\n",
    "\n",
    "The Bidens also donated roughly 2.8% of their income, or $17,384, to charities, including $5,000 to the Beau Biden Foundation, which works to prevent child abuse. Beau Biden, the president's son, died of cancer in 2015.\n",
    "\n",
    "The tradition of presidents making their federal tax returns public was broken by Biden's predecessor, former President Donald Trump. Trump said he was not able to do so while being audited by the Internal Revenue Service, even as the agency claimed he was free to release them.\n",
    "\n",
    "The Bidens reported federal adjusted gross income of $610,702 and paid $150,439 in federal income tax. The previous year, when Biden was running for president, they reported $607,336 in income.\n",
    "\n",
    "Biden earned $378,333 with his presidential salary, slightly below what would normally be $400,000 in pay because he entered office on Jan. 20. Jill Biden earned $67,116 from her job teaching at Northern Virginia Community College.\n",
    "\n",
    "The couple earned $103,258 in taxable interest, pensions, annuities, IRA distributions, and Social Security benefits as well as $61,995 in book royalties.\n",
    "\n",
    "\"With this release, the president has shared a total of 24 years of tax returns with the American public, once again demonstrating his commitment to being transparent with the American people about the finances of the commander in chief,\" the White House said in a statement.\n",
    "\n",
    "Vice President Kamala Harris and her husband, Doug Emhoff, reported federal adjusted gross income of $1,655,563, the White House said, paying $523,371 in federal income tax for an effective federal income tax rate of 31.6%.\n",
    "\n",
    "Emhoff stepped down from his law firm in 2021 and the firm is paying back his partnership stake over a number of years, a White House spokesperson said.\n",
    "\n",
    "Last year he received $582,543 from his law firms DLA Piper, which he left last year, and Venable, which he left in 2017.\n",
    "\n",
    "Harris' book sales increased in 2021 and she made a net profit of $386,713 on those.\n",
    "\n",
    "Emhoff, who teaches at Georgetown Law, and Harris made $380,288 in combined wages and roughly $319,000 in a gain on the sale of their house in San Francisco.\n",
    "\n",
    "They contributed roughly 1.3% of their income, or $22,100, to charity, according to the information from the White House.\n",
    "\"\"\""
   ]
  },
  {
   "cell_type": "markdown",
   "id": "c147e5c2",
   "metadata": {
    "ExecuteTime": {
     "end_time": "2022-04-18T11:36:48.744702Z",
     "start_time": "2022-04-18T11:36:48.726750Z"
    }
   },
   "source": [
    "### world news"
   ]
  },
  {
   "cell_type": "code",
   "execution_count": 92,
   "id": "afd3fd07",
   "metadata": {
    "ExecuteTime": {
     "end_time": "2022-04-18T17:21:41.430936Z",
     "start_time": "2022-04-18T17:21:41.420932Z"
    }
   },
   "outputs": [],
   "source": [
    "title_w = \"U.S. envoy vows 'strongest possible deterrent' over N.Korea weapons tests\"\n",
    "docs_w = \"\"\"\n",
    "SEOUL (Reuters) -The United States and South Korea would maintain the \"strongest possible joint deterrent\" over North Korea's \"escalatory actions\", the U.S. envoy on North Korea said on Monday, amid concerns that Pyongyang was preparing to resume nuclear testing.\n",
    "\n",
    "U.S. Special Representative Sung Kim and his deputy, Jung Pak, met South Korean officials, including nuclear envoy Noh Kyu-duk, after arriving in Seoul early on Monday for a five-day visit.\n",
    "\n",
    "\"It is extremely important for the United Nations Security Council to send a clear signal to the DPRK that we will not accept its escalatory tests as normal,\" Kim told reporters after his talks with Noh.\n",
    "\n",
    "Kim was referring to North Korea by its official name, the Democratic People's Republic of Korea.\n",
    "\n",
    "\"We agreed on the need to maintain the strongest possible joint deterrent capability on the peninsula,\" he said.\n",
    "\n",
    "Kim also said the allies would \"respond responsibly and decisively to provocative behaviour,\" while underlining his willingness to engage with North Korea \"anywhere without any conditions.\"\n",
    "\n",
    "Kim's arrival coincided with the start of a nine-day annual joint military drill by U.S. and South Korean troops.\n",
    "\n",
    "The exercise consists of \"defensive command post training using computer simulation\" and will not involve field manoeuvres by troops, South Korea's Joint Chiefs of Staff said on Sunday.\n",
    "\n",
    "North Korea has condemned the joint drills as rehearsals for war, and they have been scaled back in recent years amid efforts to engage Pyongyang in diplomacy, and because of COVID-19 restrictions.\n",
    "\n",
    "On Saturday, North Korea test fired what state media said were missiles involved in delivering tactical nuclear weapons.\n",
    "\n",
    "The U.S. envoy has repeatedly offered to re-engage with North Korea, but Pyongyang has so far rebuffed those overtures, accusing Washington of maintaining hostile policies such as sanctions and the military drills.\n",
    "\n",
    "Kim was also expected to meet with the transition team for President-elect Yoon Suk-yeol, who takes office in May.\n",
    "\n",
    "A spokesperson for the team said there was no meeting confirmed between Yoon and Kim, but Yoon's foreign minister nominee, Park Jin, said he planned to meet Kim.\n",
    "\n",
    "Kim also said at his talks with Noh that Washington looks forward to working closely with Yoon's team.\n",
    "\"\"\""
   ]
  },
  {
   "cell_type": "code",
   "execution_count": null,
   "id": "f494995d",
   "metadata": {},
   "outputs": [],
   "source": [
    "# title9 = \"\"\n",
    "# docs9 = \"\"\"\n",
    "\n",
    "# \"\"\""
   ]
  },
  {
   "cell_type": "code",
   "execution_count": null,
   "id": "96ce2f5d",
   "metadata": {},
   "outputs": [],
   "source": [
    "# title10 = \"\"\n",
    "# docs10 = \"\"\"\n",
    "\n",
    "# \"\"\""
   ]
  },
  {
   "cell_type": "code",
   "execution_count": null,
   "id": "8f3604f0",
   "metadata": {},
   "outputs": [],
   "source": []
  },
  {
   "cell_type": "code",
   "execution_count": null,
   "id": "dfd5e524",
   "metadata": {},
   "outputs": [],
   "source": []
  },
  {
   "cell_type": "markdown",
   "id": "803f7d3d",
   "metadata": {
    "ExecuteTime": {
     "end_time": "2022-04-16T14:40:07.649392Z",
     "start_time": "2022-04-16T14:40:07.641407Z"
    }
   },
   "source": [
    "## KeyBert"
   ]
  },
  {
   "cell_type": "markdown",
   "id": "28d42ee0",
   "metadata": {},
   "source": [
    "KeyBERT is a basic and easy-to-use keyword extraction technique that generates the most similar keywords and keyphrases \n",
    "to a given document using BERT embeddings. It uses BERT-embeddings and basic cosine similarity to locate the sub-documents\n",
    "in a document that are the most similar to the document itself.\n",
    "\n",
    "* BERT 임베딩을 사용하여 가장 비슷한 키워드들 찾아내는 방법 \n",
    "* 코사인 유사도를 통해 키워드 추출"
   ]
  },
  {
   "cell_type": "markdown",
   "id": "39ba5c12",
   "metadata": {},
   "source": [
    "### KeyBERT 사용법"
   ]
  },
  {
   "cell_type": "code",
   "execution_count": 1,
   "id": "01c155f5",
   "metadata": {
    "ExecuteTime": {
     "end_time": "2022-04-18T10:39:29.602573Z",
     "start_time": "2022-04-18T10:39:24.202046Z"
    },
    "scrolled": true
   },
   "outputs": [
    {
     "name": "stdout",
     "output_type": "stream",
     "text": [
      "Collecting keybert\n",
      "  Downloading keybert-0.5.1.tar.gz (19 kB)\n",
      "  Preparing metadata (setup.py): started\n",
      "  Preparing metadata (setup.py): finished with status 'done'\n",
      "Requirement already satisfied: sentence-transformers>=0.3.8 in c:\\users\\bitcamp\\anaconda3\\lib\\site-packages (from keybert) (2.2.0)\n",
      "Requirement already satisfied: scikit-learn>=0.22.2 in c:\\users\\bitcamp\\anaconda3\\lib\\site-packages (from keybert) (1.0.2)\n",
      "Requirement already satisfied: numpy>=1.18.5 in c:\\users\\bitcamp\\anaconda3\\lib\\site-packages (from keybert) (1.20.3)\n",
      "Collecting rich>=10.4.0\n",
      "  Downloading rich-12.2.0-py3-none-any.whl (229 kB)\n",
      "     ------------------------------------- 229.8/229.8 KB 14.6 MB/s eta 0:00:00\n",
      "Requirement already satisfied: pygments<3.0.0,>=2.6.0 in c:\\users\\bitcamp\\anaconda3\\lib\\site-packages (from rich>=10.4.0->keybert) (2.10.0)\n",
      "Collecting commonmark<0.10.0,>=0.9.0\n",
      "  Downloading commonmark-0.9.1-py2.py3-none-any.whl (51 kB)\n",
      "     ---------------------------------------- 51.1/51.1 KB 2.7 MB/s eta 0:00:00\n",
      "Requirement already satisfied: threadpoolctl>=2.0.0 in c:\\users\\bitcamp\\anaconda3\\lib\\site-packages (from scikit-learn>=0.22.2->keybert) (2.2.0)\n",
      "Requirement already satisfied: joblib>=0.11 in c:\\users\\bitcamp\\anaconda3\\lib\\site-packages (from scikit-learn>=0.22.2->keybert) (1.0.1)\n",
      "Requirement already satisfied: scipy>=1.1.0 in c:\\users\\bitcamp\\anaconda3\\lib\\site-packages (from scikit-learn>=0.22.2->keybert) (1.7.1)\n",
      "Requirement already satisfied: sentencepiece in c:\\users\\bitcamp\\anaconda3\\lib\\site-packages (from sentence-transformers>=0.3.8->keybert) (0.1.96)\n",
      "Requirement already satisfied: transformers<5.0.0,>=4.6.0 in c:\\users\\bitcamp\\anaconda3\\lib\\site-packages (from sentence-transformers>=0.3.8->keybert) (4.18.0)\n",
      "Requirement already satisfied: torch>=1.6.0 in c:\\users\\bitcamp\\anaconda3\\lib\\site-packages (from sentence-transformers>=0.3.8->keybert) (1.11.0)\n",
      "Requirement already satisfied: huggingface-hub in c:\\users\\bitcamp\\anaconda3\\lib\\site-packages (from sentence-transformers>=0.3.8->keybert) (0.5.1)\n",
      "Requirement already satisfied: tqdm in c:\\users\\bitcamp\\anaconda3\\lib\\site-packages (from sentence-transformers>=0.3.8->keybert) (4.62.3)\n",
      "Requirement already satisfied: nltk in c:\\users\\bitcamp\\anaconda3\\lib\\site-packages (from sentence-transformers>=0.3.8->keybert) (3.6.5)\n",
      "Requirement already satisfied: torchvision in c:\\users\\bitcamp\\anaconda3\\lib\\site-packages (from sentence-transformers>=0.3.8->keybert) (0.12.0)\n",
      "Requirement already satisfied: typing-extensions in c:\\users\\bitcamp\\anaconda3\\lib\\site-packages (from torch>=1.6.0->sentence-transformers>=0.3.8->keybert) (3.10.0.2)\n",
      "Requirement already satisfied: regex!=2019.12.17 in c:\\users\\bitcamp\\anaconda3\\lib\\site-packages (from transformers<5.0.0,>=4.6.0->sentence-transformers>=0.3.8->keybert) (2021.8.3)\n",
      "Requirement already satisfied: packaging>=20.0 in c:\\users\\bitcamp\\anaconda3\\lib\\site-packages (from transformers<5.0.0,>=4.6.0->sentence-transformers>=0.3.8->keybert) (21.0)\n",
      "Requirement already satisfied: tokenizers!=0.11.3,<0.13,>=0.11.1 in c:\\users\\bitcamp\\anaconda3\\lib\\site-packages (from transformers<5.0.0,>=4.6.0->sentence-transformers>=0.3.8->keybert) (0.12.1)\n",
      "Requirement already satisfied: sacremoses in c:\\users\\bitcamp\\anaconda3\\lib\\site-packages (from transformers<5.0.0,>=4.6.0->sentence-transformers>=0.3.8->keybert) (0.0.49)\n",
      "Requirement already satisfied: pyyaml>=5.1 in c:\\users\\bitcamp\\anaconda3\\lib\\site-packages (from transformers<5.0.0,>=4.6.0->sentence-transformers>=0.3.8->keybert) (6.0)\n",
      "Requirement already satisfied: requests in c:\\users\\bitcamp\\anaconda3\\lib\\site-packages (from transformers<5.0.0,>=4.6.0->sentence-transformers>=0.3.8->keybert) (2.26.0)\n",
      "Requirement already satisfied: filelock in c:\\users\\bitcamp\\anaconda3\\lib\\site-packages (from transformers<5.0.0,>=4.6.0->sentence-transformers>=0.3.8->keybert) (3.3.1)\n",
      "Requirement already satisfied: colorama in c:\\users\\bitcamp\\anaconda3\\lib\\site-packages (from tqdm->sentence-transformers>=0.3.8->keybert) (0.4.4)\n",
      "Requirement already satisfied: click in c:\\users\\bitcamp\\anaconda3\\lib\\site-packages (from nltk->sentence-transformers>=0.3.8->keybert) (8.0.3)\n",
      "Requirement already satisfied: pillow!=8.3.*,>=5.3.0 in c:\\users\\bitcamp\\anaconda3\\lib\\site-packages (from torchvision->sentence-transformers>=0.3.8->keybert) (8.4.0)\n",
      "Requirement already satisfied: pyparsing>=2.0.2 in c:\\users\\bitcamp\\anaconda3\\lib\\site-packages (from packaging>=20.0->transformers<5.0.0,>=4.6.0->sentence-transformers>=0.3.8->keybert) (3.0.4)\n",
      "Requirement already satisfied: certifi>=2017.4.17 in c:\\users\\bitcamp\\anaconda3\\lib\\site-packages (from requests->transformers<5.0.0,>=4.6.0->sentence-transformers>=0.3.8->keybert) (2021.10.8)\n",
      "Requirement already satisfied: charset-normalizer~=2.0.0 in c:\\users\\bitcamp\\anaconda3\\lib\\site-packages (from requests->transformers<5.0.0,>=4.6.0->sentence-transformers>=0.3.8->keybert) (2.0.4)\n",
      "Requirement already satisfied: idna<4,>=2.5 in c:\\users\\bitcamp\\anaconda3\\lib\\site-packages (from requests->transformers<5.0.0,>=4.6.0->sentence-transformers>=0.3.8->keybert) (3.2)\n",
      "Requirement already satisfied: urllib3<1.27,>=1.21.1 in c:\\users\\bitcamp\\anaconda3\\lib\\site-packages (from requests->transformers<5.0.0,>=4.6.0->sentence-transformers>=0.3.8->keybert) (1.26.7)\n",
      "Requirement already satisfied: six in c:\\users\\bitcamp\\anaconda3\\lib\\site-packages (from sacremoses->transformers<5.0.0,>=4.6.0->sentence-transformers>=0.3.8->keybert) (1.16.0)\n",
      "Building wheels for collected packages: keybert\n",
      "  Building wheel for keybert (setup.py): started\n",
      "  Building wheel for keybert (setup.py): finished with status 'done'\n",
      "  Created wheel for keybert: filename=keybert-0.5.1-py3-none-any.whl size=21333 sha256=50ef4fd51aa23f108923ead62a6de628ade046ac78de093c5973f643da1d2703\n",
      "  Stored in directory: c:\\users\\bitcamp\\appdata\\local\\pip\\cache\\wheels\\94\\18\\2a\\f26bbcd25924aab452bb4bcc2345a55c07160823d196a264c7\n",
      "Successfully built keybert\n",
      "Installing collected packages: commonmark, rich, keybert\n",
      "Successfully installed commonmark-0.9.1 keybert-0.5.1 rich-12.2.0\n"
     ]
    }
   ],
   "source": [
    "# !pip install keybert"
   ]
  },
  {
   "cell_type": "code",
   "execution_count": null,
   "id": "aad7d37c",
   "metadata": {},
   "outputs": [],
   "source": [
    "# ECONOMY\n",
    "# Consumer prices rose 8.5% in March, slightly hotter than expected and the highest since 1981"
   ]
  },
  {
   "cell_type": "markdown",
   "id": "c8bab575",
   "metadata": {
    "ExecuteTime": {
     "start_time": "2022-04-18T10:39:41.385Z"
    },
    "scrolled": true
   },
   "source": [
    "#### 1번째 방법: keyBERT 모듈사용"
   ]
  },
  {
   "cell_type": "code",
   "execution_count": 30,
   "id": "387309c4",
   "metadata": {
    "ExecuteTime": {
     "end_time": "2022-04-20T03:33:16.147151Z",
     "start_time": "2022-04-20T03:33:03.849045Z"
    },
    "scrolled": true
   },
   "outputs": [
    {
     "name": "stdout",
     "output_type": "stream",
     "text": [
      "[('nyse', 0.4832), ('didi', 0.3638), ('delisting', 0.2592), ('chinese', 0.2544), ('announced', 0.2125), ('shares', 0.3304), ('ipo', 0.2599), ('regulatory', 0.1959), ('global', 0.1669), ('exchanges', 0.2995), ('united', 0.1764), ('securities', 0.3136), ('price', 0.1364), ('billion', 0.1104), ('stock', 0.3543), ('watchdog', 0.0602), ('csrc', 0.0732), ('explore', 0.0934), ('different', 0.1004), ('december', 0.0855), ('cybersecurity', 0.1423), ('shareholder', 0.3227), ('hong', 0.2748), ('listing', 0.1499), ('authorities', 0.1311), ('plans', 0.1158), ('halt', 0.0854), ('issued', 0.1242), ('apps', 0.0544), ('managed', 0.1543), ('audit', 0.1274), ('associated', 0.12), ('said', 0.1055), ('york', 0.1965), ('commission', 0.1349), ('egm', 0.0855), ('extraordinary', 0.0593), ('issue', 0.1004), ('senad', 0.0175), ('meantime', 0.0525), ('remove', 0.1328), ('companies', 0.2153), ('including', 0.0675), ('23', 0.0709), ('depositary', 0.0707), ('general', 0.099), ('ride', 0.0737), ('china', 0.2491), ('stores', 0.0771), ('instructed', 0.0729)]\n"
     ]
    }
   ],
   "source": [
    "from keybert import KeyBERT\n",
    "\n",
    "#docs 뉴스내용 맨위에 있음\n",
    "# topics = ['stock-market-news', 'commodities-news', 'forex-news', 'economy', 'economic-indicators','politics','world-news']\n",
    "kw_model = KeyBERT()\n",
    "keywords_list = kw_model.extract_keywords(docs_sm, keyphrase_ngram_range=(1,1), use_mmr=True,diversity=0.4, nr_candidates=50, top_n=50)\n",
    "print(keywords_list)"
   ]
  },
  {
   "cell_type": "code",
   "execution_count": 32,
   "id": "bccb1063",
   "metadata": {
    "ExecuteTime": {
     "end_time": "2022-04-20T03:33:37.982748Z",
     "start_time": "2022-04-20T03:33:37.976764Z"
    },
    "scrolled": true
   },
   "outputs": [
    {
     "data": {
      "text/plain": [
       "[('nyse', 0.4832),\n",
       " ('didi', 0.3638),\n",
       " ('stock', 0.3543),\n",
       " ('shares', 0.3304),\n",
       " ('shareholder', 0.3227),\n",
       " ('securities', 0.3136),\n",
       " ('exchanges', 0.2995),\n",
       " ('hong', 0.2748),\n",
       " ('ipo', 0.2599),\n",
       " ('delisting', 0.2592),\n",
       " ('chinese', 0.2544),\n",
       " ('china', 0.2491),\n",
       " ('companies', 0.2153),\n",
       " ('announced', 0.2125),\n",
       " ('york', 0.1965),\n",
       " ('regulatory', 0.1959),\n",
       " ('united', 0.1764),\n",
       " ('global', 0.1669),\n",
       " ('managed', 0.1543),\n",
       " ('listing', 0.1499),\n",
       " ('cybersecurity', 0.1423),\n",
       " ('price', 0.1364),\n",
       " ('commission', 0.1349),\n",
       " ('remove', 0.1328),\n",
       " ('authorities', 0.1311),\n",
       " ('audit', 0.1274),\n",
       " ('issued', 0.1242),\n",
       " ('associated', 0.12),\n",
       " ('plans', 0.1158),\n",
       " ('billion', 0.1104),\n",
       " ('said', 0.1055),\n",
       " ('different', 0.1004),\n",
       " ('issue', 0.1004),\n",
       " ('general', 0.099),\n",
       " ('explore', 0.0934),\n",
       " ('december', 0.0855),\n",
       " ('egm', 0.0855),\n",
       " ('halt', 0.0854),\n",
       " ('stores', 0.0771),\n",
       " ('ride', 0.0737),\n",
       " ('csrc', 0.0732),\n",
       " ('instructed', 0.0729),\n",
       " ('23', 0.0709),\n",
       " ('depositary', 0.0707),\n",
       " ('including', 0.0675),\n",
       " ('watchdog', 0.0602),\n",
       " ('extraordinary', 0.0593),\n",
       " ('apps', 0.0544),\n",
       " ('meantime', 0.0525),\n",
       " ('senad', 0.0175)]"
      ]
     },
     "execution_count": 32,
     "metadata": {},
     "output_type": "execute_result"
    }
   ],
   "source": [
    "keyword_sorted = sorted(keywords_list, key= lambda keywords_list: keywords_list[1], reverse=True)\n",
    "keyword_sorted"
   ]
  },
  {
   "cell_type": "code",
   "execution_count": 35,
   "id": "6ecaf2e9",
   "metadata": {
    "ExecuteTime": {
     "end_time": "2022-04-20T03:35:13.956050Z",
     "start_time": "2022-04-20T03:35:01.400633Z"
    }
   },
   "outputs": [
    {
     "name": "stderr",
     "output_type": "stream",
     "text": [
      "C:\\Users\\bitcamp\\anaconda3\\lib\\site-packages\\keybert\\_model.py:130: UserWarning: Although extracting keywords for multiple documents is faster than iterating over single documents, it requires significantly more memory to hold all word embeddings. Use this at your own discretion!\n",
      "  warnings.warn(\n",
      "166it [00:00, 2412.25it/s]"
     ]
    },
    {
     "name": "stdout",
     "output_type": "stream",
     "text": [
      "[[('share', 1.0)], [('didi', 1.0)], [('global', 1.0)], [('nyse', 1.0)], [('didi', 1.0)], [('today', 1.0)], [('chines', 1.0)], [('ride', 1.0)], [('share', 1.0)], [('compani', 1.0)], [('announc', 1.0)], [('ha', 1.0)], [('schedul', 1.0)], [('extraordinari', 1.0)], [('gener', 1.0)], [('meet', 1.0)], [('egm', 1.0)], ['None Found'], [('vote', 1.0)], [('delist', 1.0)], [('american', 1.0)], [('depositari', 1.0)], [('share', 1.0)], [('new', 1.0)], [('york', 1.0)], [('stock', 1.0)], [('exchang', 1.0)], [('nyse', 1.0)], [('chines', 1.0)], [('ride', 1.0)], [('hail', 1.0)], [('compani', 1.0)], [('said', 1.0)], [('list', 1.0)], [('share', 1.0)], [('anoth', 1.0)], [('stock', 1.0)], [('exchang', 1.0)], [('complet', 1.0)], [('delist', 1.0)], ['None Found'], [('meantim', 1.0)], [('didi', 1.0)], [('said', 1.0)], [('explor', 1.0)], [('differ', 1.0)], [('strategi', 1.0)], [('includ', 1.0)], [('consid', 1.0)], [('stock', 1.0)], [('exchang', 1.0)], [('potenti', 1.0)], [('new', 1.0)], [('list', 1.0)], [('plan', 1.0)], [('futur', 1.0)], [('china', 1.0)], [('author', 1.0)], [('said', 1.0)], [('saturday', 1.0)], [('didi', 1.0)], ['None Found'], [('decis', 1.0)], [('delist', 1.0)], [('nyse', 1.0)], [('accord', 1.0)], [('china', 1.0)], [('secur', 1.0)], [('regulatori', 1.0)], [('commiss', 1.0)], [('csrc', 1.0)], [('didi', 1.0)], [('decis', 1.0)], [('delist', 1.0)], [('associ', 1.0)], ['None Found'], [('list', 1.0)], [('chines', 1.0)], [('stock', 1.0)], [('negoti', 1.0)], [('unit', 1.0)], [('state', 1.0)], [('resolv', 1.0)], [('audit', 1.0)], [('issu', 1.0)], [('compani', 1.0)], [('announc', 1.0)], [('plan', 1.0)], [('delist', 1.0)], ['None Found'], [('share', 1.0)], [('decemb', 1.0)], [('say', 1.0)], [('want', 1.0)], [('list', 1.0)], [('hong', 1.0)], [('kong', 1.0)], [('come', 1.0)], [('conflict', 1.0)], [('chines', 1.0)], [('regul', 1.0)], [('complet', 1.0)], [('billion', 1.0)], ['None Found'], [('ipo', 1.0)], [('regul', 1.0)], [('china', 1.0)], [('order', 1.0)], [('didi', 1.0)], [('suspend', 1.0)], [('list', 1.0)], [('cybersecur', 1.0)], [('investig', 1.0)], [('data', 1.0)], [('practic', 1.0)], [('wa', 1.0)], [('complet', 1.0)], [('sever', 1.0)], [('day', 1.0)], [('ipo', 1.0)], [('chines', 1.0)], [('cyberspac', 1.0)], [('regul', 1.0)], [('ha', 1.0)], [('instruct', 1.0)], [('app', 1.0)], [('store', 1.0)], [('remov', 1.0)], [('mobil', 1.0)], [('app', 1.0)], [('manag', 1.0)], [('didi', 1.0)], [('order', 1.0)], [('ride', 1.0)], [('hail', 1.0)], [('giant', 1.0)], [('halt', 1.0)], [('registr', 1.0)], [('new', 1.0)], [('user', 1.0)], [('follow', 1.0)], [('didi', 1.0)], [('sharehold', 1.0)], [('meet', 1.0)], [('announc', 1.0)], [('chines', 1.0)], [('secur', 1.0)], [('watchdog', 1.0)], [('issu', 1.0)], [('statement', 1.0)], [('say', 1.0)], [('didi', 1.0)], [('decis', 1.0)], [('wa', 1.0)], [('relat', 1.0)], ['None Found'], [('list', 1.0)], [('chines', 1.0)], [('compani', 1.0)], [('didi', 1.0)], [('stock', 1.0)], [('price', 1.0)], [('today', 1.0)], [('senad', 1.0)], [('karaahmetov', 1.0)], ['None Found']]\n"
     ]
    },
    {
     "name": "stderr",
     "output_type": "stream",
     "text": [
      "\n"
     ]
    }
   ],
   "source": [
    "#전처리해서 함수 넣으면 안됨\n",
    "\n",
    "from keybert import KeyBERT\n",
    "\n",
    "#docs 뉴스내용 맨위에 있음\n",
    "# topics = ['stock-market-news', 'commodities-news', 'forex-news', 'economy', 'economic-indicators','politics','world-news']\n",
    "kw_model = KeyBERT()\n",
    "keywords_list = kw_model.extract_keywords(docs_sm_p, keyphrase_ngram_range=(1,1), use_mmr=True,diversity=0.5, nr_candidates=10, top_n=10)\n",
    "print(keywords_list)"
   ]
  },
  {
   "cell_type": "code",
   "execution_count": 102,
   "id": "fe6d2159",
   "metadata": {
    "ExecuteTime": {
     "end_time": "2022-04-18T17:26:50.051474Z",
     "start_time": "2022-04-18T17:26:50.038508Z"
    }
   },
   "outputs": [
    {
     "data": {
      "text/plain": [
       "'Why DiDi Stock Crashed 20% Today'"
      ]
     },
     "execution_count": 102,
     "metadata": {},
     "output_type": "execute_result"
    }
   ],
   "source": [
    "title_sm"
   ]
  },
  {
   "cell_type": "code",
   "execution_count": null,
   "id": "4a13122c",
   "metadata": {},
   "outputs": [],
   "source": []
  },
  {
   "cell_type": "code",
   "execution_count": 12,
   "id": "53620125",
   "metadata": {
    "ExecuteTime": {
     "end_time": "2022-04-19T07:21:58.462170Z",
     "start_time": "2022-04-19T07:21:58.457153Z"
    }
   },
   "outputs": [
    {
     "data": {
      "text/plain": [
       "['news_politics_00001.csv',\n",
       " 'news_politics_00002.csv',\n",
       " 'news_politics_00003.csv',\n",
       " 'news_politics_00004.csv',\n",
       " 'news_politics_00005.csv',\n",
       " 'news_politics_00006.csv',\n",
       " 'news_politics_00007.csv',\n",
       " 'news_politics_00008.csv',\n",
       " 'news_politics_00009.csv',\n",
       " 'news_politics_00010.csv',\n",
       " 'news_politics_00011.csv',\n",
       " 'news_politics_00012.csv',\n",
       " 'news_politics_00013.csv',\n",
       " 'news_politics_00014.csv',\n",
       " 'news_politics_00015.csv']"
      ]
     },
     "execution_count": 12,
     "metadata": {},
     "output_type": "execute_result"
    }
   ],
   "source": [
    "import pandas as pd\n",
    "import numpy as np\n",
    "import os\n",
    "from keybert import KeyBERT\n",
    "\n",
    "topics = ['stock-market-news', 'commodities-news', 'forex-news', 'economy', 'economic-indicators','politics','world-news']\n",
    "path =\"../../학원/investing_crawl/\"\n",
    "path_topics = os.path.join(path,topics[5])\n",
    "file_list = os.listdir(path_topics)\n",
    "file_list"
   ]
  },
  {
   "cell_type": "code",
   "execution_count": 13,
   "id": "5e6549c0",
   "metadata": {
    "ExecuteTime": {
     "end_time": "2022-04-19T07:22:43.213445Z",
     "start_time": "2022-04-19T07:22:43.208459Z"
    }
   },
   "outputs": [
    {
     "data": {
      "text/plain": [
       "15"
      ]
     },
     "execution_count": 13,
     "metadata": {},
     "output_type": "execute_result"
    }
   ],
   "source": [
    "#크롤링 파일개수\n",
    "file_num = len(os.listdir(path_topics))\n",
    "file_num"
   ]
  },
  {
   "cell_type": "code",
   "execution_count": 18,
   "id": "d65579fb",
   "metadata": {
    "ExecuteTime": {
     "end_time": "2022-04-19T07:53:05.069627Z",
     "start_time": "2022-04-19T07:53:04.999813Z"
    }
   },
   "outputs": [
    {
     "data": {
      "text/html": [
       "<div>\n",
       "<style scoped>\n",
       "    .dataframe tbody tr th:only-of-type {\n",
       "        vertical-align: middle;\n",
       "    }\n",
       "\n",
       "    .dataframe tbody tr th {\n",
       "        vertical-align: top;\n",
       "    }\n",
       "\n",
       "    .dataframe thead th {\n",
       "        text-align: right;\n",
       "    }\n",
       "</style>\n",
       "<table border=\"1\" class=\"dataframe\">\n",
       "  <thead>\n",
       "    <tr style=\"text-align: right;\">\n",
       "      <th></th>\n",
       "      <th>Unnamed: 0</th>\n",
       "      <th>company</th>\n",
       "      <th>date</th>\n",
       "      <th>title</th>\n",
       "      <th>content</th>\n",
       "    </tr>\n",
       "  </thead>\n",
       "  <tbody>\n",
       "    <tr>\n",
       "      <th>0</th>\n",
       "      <td>0</td>\n",
       "      <td>By Reuters</td>\n",
       "      <td>&lt;span&gt;Apr 15, 2022 05:55PM ET&lt;/span&gt;</td>\n",
       "      <td>Trump endorses Vance in Ohio's Republican Sena...</td>\n",
       "      <td>(Reuters) - Donald Trump on Friday endorsed au...</td>\n",
       "    </tr>\n",
       "    <tr>\n",
       "      <th>1</th>\n",
       "      <td>1</td>\n",
       "      <td>By Reuters</td>\n",
       "      <td>&lt;span&gt;Apr 15, 2022 05:45PM ET&lt;/span&gt;</td>\n",
       "      <td>Texas governor strikes deal with Mexican state...</td>\n",
       "      <td>By Ted Hesson\\n(Reuters) -Texas will halt enha...</td>\n",
       "    </tr>\n",
       "    <tr>\n",
       "      <th>2</th>\n",
       "      <td>2</td>\n",
       "      <td>By Reuters</td>\n",
       "      <td>&lt;span&gt;Apr 15, 2022 05:36PM ET&lt;/span&gt;</td>\n",
       "      <td>Biden, first lady report making over $600,000 ...</td>\n",
       "      <td>By Jeff Mason\\nWASHINGTON (Reuters) -President...</td>\n",
       "    </tr>\n",
       "    <tr>\n",
       "      <th>3</th>\n",
       "      <td>3</td>\n",
       "      <td>By Reuters</td>\n",
       "      <td>&lt;span&gt;Apr 15, 2022 03:00AM ET&lt;/span&gt;</td>\n",
       "      <td>China holds drills around Taiwan as U.S. lawma...</td>\n",
       "      <td>By Ben Blanchard and Yew Lun Tian\\nTAIPEI/BEIJ...</td>\n",
       "    </tr>\n",
       "    <tr>\n",
       "      <th>4</th>\n",
       "      <td>4</td>\n",
       "      <td>By Reuters</td>\n",
       "      <td>&lt;span&gt;Apr 14, 2022 09:20PM ET&lt;/span&gt;</td>\n",
       "      <td>Prominent Democratic Party activist gets 30 ye...</td>\n",
       "      <td>LOS ANGELES (Reuters) - A wealthy former Democ...</td>\n",
       "    </tr>\n",
       "    <tr>\n",
       "      <th>...</th>\n",
       "      <td>...</td>\n",
       "      <td>...</td>\n",
       "      <td>...</td>\n",
       "      <td>...</td>\n",
       "      <td>...</td>\n",
       "    </tr>\n",
       "    <tr>\n",
       "      <th>1712</th>\n",
       "      <td>1712</td>\n",
       "      <td>By Reuters</td>\n",
       "      <td>&lt;span&gt;Mar 26, 2021 01:15PM ET&lt;/span&gt;</td>\n",
       "      <td>Biden selects former Obama Justice aide as U.S...</td>\n",
       "      <td>WASHINGTON (Reuters) - President Joe Biden on ...</td>\n",
       "    </tr>\n",
       "    <tr>\n",
       "      <th>1713</th>\n",
       "      <td>1713</td>\n",
       "      <td>By Reuters</td>\n",
       "      <td>&lt;span&gt;Mar 26, 2021 11:21AM ET&lt;/span&gt;</td>\n",
       "      <td>Conservative news outlets, accused of election...</td>\n",
       "      <td>By Helen Coster and Jan Wolfe\\n(Reuters) -Busi...</td>\n",
       "    </tr>\n",
       "    <tr>\n",
       "      <th>1714</th>\n",
       "      <td>1714</td>\n",
       "      <td>By Reuters</td>\n",
       "      <td>&lt;span&gt;Mar 25, 2021 09:47PM ET&lt;/span&gt;</td>\n",
       "      <td>Biden compares Xi to Putin, Republican voting ...</td>\n",
       "      <td>By Jarrett Renshaw and Steve Holland\\nWASHINGT...</td>\n",
       "    </tr>\n",
       "    <tr>\n",
       "      <th>1715</th>\n",
       "      <td>1715</td>\n",
       "      <td>By Reuters</td>\n",
       "      <td>&lt;span&gt;Mar 25, 2021 09:10PM ET&lt;/span&gt;</td>\n",
       "      <td>Bid to take back 'forever war' authority advan...</td>\n",
       "      <td>By Patricia Zengerle\\nWASHINGTON (Reuters) - A...</td>\n",
       "    </tr>\n",
       "    <tr>\n",
       "      <th>1716</th>\n",
       "      <td>1716</td>\n",
       "      <td>By Reuters</td>\n",
       "      <td>&lt;span&gt;Mar 25, 2021 08:21PM ET&lt;/span&gt;</td>\n",
       "      <td>'Still a mess': Trauma haunts U.S. mass shooti...</td>\n",
       "      <td>By Brad Brooks and Sharon Bernstein\\n(Reuters)...</td>\n",
       "    </tr>\n",
       "  </tbody>\n",
       "</table>\n",
       "<p>1717 rows × 5 columns</p>\n",
       "</div>"
      ],
      "text/plain": [
       "      Unnamed: 0  ...                                            content\n",
       "0              0  ...  (Reuters) - Donald Trump on Friday endorsed au...\n",
       "1              1  ...  By Ted Hesson\\n(Reuters) -Texas will halt enha...\n",
       "2              2  ...  By Jeff Mason\\nWASHINGTON (Reuters) -President...\n",
       "3              3  ...  By Ben Blanchard and Yew Lun Tian\\nTAIPEI/BEIJ...\n",
       "4              4  ...  LOS ANGELES (Reuters) - A wealthy former Democ...\n",
       "...          ...  ...                                                ...\n",
       "1712        1712  ...  WASHINGTON (Reuters) - President Joe Biden on ...\n",
       "1713        1713  ...  By Helen Coster and Jan Wolfe\\n(Reuters) -Busi...\n",
       "1714        1714  ...  By Jarrett Renshaw and Steve Holland\\nWASHINGT...\n",
       "1715        1715  ...  By Patricia Zengerle\\nWASHINGTON (Reuters) - A...\n",
       "1716        1716  ...  By Brad Brooks and Sharon Bernstein\\n(Reuters)...\n",
       "\n",
       "[1717 rows x 5 columns]"
      ]
     },
     "execution_count": 18,
     "metadata": {},
     "output_type": "execute_result"
    }
   ],
   "source": [
    "i=0\n",
    "df = pd.read_csv(path_topics+'/'+file_list[i])\n",
    "df['content'][0]\n",
    "df"
   ]
  },
  {
   "cell_type": "code",
   "execution_count": null,
   "id": "e52d61b1",
   "metadata": {},
   "outputs": [],
   "source": [
    "# 작동코드\n",
    "\n",
    "import pandas as pd\n",
    "import numpy as np\n",
    "import os\n",
    "from keybert import KeyBERT\n",
    "\n",
    "topics = ['stock-market-news', 'commodities-news', 'forex-news', 'economy', 'economic-indicators','politics','world-news']\n",
    "path =\"../../학원/investing_crawl/\"\n",
    "for topic in topics[5:6]:\n",
    "    path_topics = os.path.join(path,topic)\n",
    "    file_list = os.listdir(path_topics)\n",
    "    file_num = len(os.listdir(path_topics))\n",
    "    \n",
    "    topic_kw_list = []\n",
    "    date_list = []\n",
    "    for i in range(file_num):  #file_num\n",
    "        df = pd.read_csv(path_topics+ '/' + file_list[i])\n",
    "        date_list.append(df.date)\n",
    "        \n",
    "        kw_model = KeyBERT()\n",
    "        \n",
    "        kw_list = []\n",
    "        for n in range(len(df.content)):\n",
    "            keywords = kw_model.extract_keywords(df['content'][n], keyphrase_ngram_range=(10,10),\n",
    "                                             use_mmr=True,diversity=0.5, nr_candidates=20, top_n=5)\n",
    "            kw_list.append(keywords)\n",
    "        topic_kw_list.append(kw_list)\n",
    "        \n",
    "    df_kw = pd.DataFrame({'Date':date_list, 'keywords': topic_kw_list})\n",
    "#     df_kw.to_csv(path + 'keyword/' + topic) 저장"
   ]
  },
  {
   "cell_type": "code",
   "execution_count": null,
   "id": "dd8223b5",
   "metadata": {},
   "outputs": [],
   "source": []
  },
  {
   "cell_type": "markdown",
   "id": "42acffe7",
   "metadata": {
    "ExecuteTime": {
     "end_time": "2022-04-17T09:07:04.068444Z",
     "start_time": "2022-04-17T09:07:04.054060Z"
    }
   },
   "source": [
    "#### keyBERT 모듈 사용x"
   ]
  },
  {
   "cell_type": "code",
   "execution_count": 103,
   "id": "1e73fee6",
   "metadata": {
    "ExecuteTime": {
     "end_time": "2022-04-18T17:27:11.544780Z",
     "start_time": "2022-04-18T17:26:58.046943Z"
    }
   },
   "outputs": [],
   "source": [
    "from sklearn.feature_extraction.text import CountVectorizer\n",
    "\n",
    "# 3개의 단어 묶음인 단어구 추출\n",
    "n_gram_range = (5, 5)\n",
    "stop_words = \"english\"\n",
    "\n",
    "count = CountVectorizer(ngram_range=n_gram_range, stop_words=stop_words).fit([docs_sm])\n",
    "# ((3,3)사이즈 + 불용어제거)한 키워드 후보\n",
    "candidates = count.get_feature_names_out()\n",
    "\n",
    "# 수치화\n",
    "# pre-trained model 사용\n",
    "# https://www.sbert.net/docs/pretrained_models.html\n",
    "from sentence_transformers import SentenceTransformer\n",
    "model = SentenceTransformer('all-MiniLM-L6-v2') \n",
    "\n",
    "# 전체문서(doc), 키워드(candidate) 숫자 인코딩\n",
    "doc_embedding = model.encode([docs_sm])\n",
    "candidate_embeddings = model.encode(candidates)"
   ]
  },
  {
   "cell_type": "markdown",
   "id": "12866c01",
   "metadata": {},
   "source": [
    "#### keyBERT : 모듈사용x 문서와 가장 유사한 단어 추출"
   ]
  },
  {
   "cell_type": "code",
   "execution_count": 104,
   "id": "109519d3",
   "metadata": {
    "ExecuteTime": {
     "end_time": "2022-04-18T17:27:11.607612Z",
     "start_time": "2022-04-18T17:27:11.593649Z"
    }
   },
   "outputs": [
    {
     "name": "stdout",
     "output_type": "stream",
     "text": [
      "['shares didi global nyse didi', 'listed chinese companies didi stock', 'nyse according china securities regulatory', 'decision delist nyse according china', 'delist nyse according china securities']\n"
     ]
    }
   ],
   "source": [
    "from sklearn.metrics.pairwise import cosine_similarity\n",
    "top_n = 5\n",
    "distances = cosine_similarity(doc_embedding, candidate_embeddings)\n",
    "keywords = [candidates[index] for index in distances.argsort()[0][-top_n:]] # argsort(): array 오름차순정렬\n",
    "print(keywords)"
   ]
  },
  {
   "cell_type": "code",
   "execution_count": null,
   "id": "1feb9130",
   "metadata": {
    "ExecuteTime": {
     "end_time": "2022-04-18T14:50:27.001580Z",
     "start_time": "2022-04-18T14:50:13.565712Z"
    },
    "scrolled": true
   },
   "outputs": [],
   "source": []
  },
  {
   "cell_type": "markdown",
   "id": "97fbf304",
   "metadata": {},
   "source": [
    "### 다양한 키워드 찾기1: Max Sum Similarity<br>\n",
    "데이터 쌍 사이의 최대 합 거리는 데이터 쌍 간의 거리가 최대화되는 데이터 쌍으로 정의<br>\n",
    "키워드 후보 간의 유사성을 최소화하면서 문서와의 후보 유사성을 극대화"
   ]
  },
  {
   "cell_type": "code",
   "execution_count": 56,
   "id": "e84195b2",
   "metadata": {
    "ExecuteTime": {
     "end_time": "2022-04-18T16:13:18.213613Z",
     "start_time": "2022-04-18T16:13:18.201679Z"
    }
   },
   "outputs": [],
   "source": [
    "import itertools\n",
    "\n",
    "def max_sum_sim(doc_embedding, candidate_embeddings, words, top_n, nr_candidates): #상위 10개의 키워드를 선택,서로 가장 유사성이 낮은 5개를 선택\n",
    "    # 문서와 각 키워드들 간의 유사도\n",
    "    distances = cosine_similarity(doc_embedding, candidate_embeddings)\n",
    "\n",
    "    # 각 키워드들 간의 유사도\n",
    "    distances_candidates = cosine_similarity(candidate_embeddings, \n",
    "                                            candidate_embeddings)\n",
    "\n",
    "    # 코사인 유사도에 기반하여 키워드들 중 상위 top_n개의 단어를 pick.\n",
    "    words_idx = list(distances.argsort()[0][-nr_candidates:])\n",
    "    words_vals = [candidates[index] for index in words_idx]\n",
    "    distances_candidates = distances_candidates[np.ix_(words_idx, words_idx)]\n",
    "\n",
    "    # 각 키워드들 중에서 가장 덜 유사한 키워드들간의 조합을 계산\n",
    "    min_sim = np.inf\n",
    "    candidate = None\n",
    "    for combination in itertools.combinations(range(len(words_idx)), top_n):\n",
    "        sim = sum([distances_candidates[i][j] for i in combination for j in combination if i != j])\n",
    "        if sim < min_sim:\n",
    "            candidate = combination\n",
    "            min_sim = sim\n",
    "\n",
    "    return [words_vals[idx] for idx in candidate]"
   ]
  },
  {
   "cell_type": "markdown",
   "id": "6a1da5dd",
   "metadata": {
    "ExecuteTime": {
     "end_time": "2022-04-18T15:33:54.956413Z",
     "start_time": "2022-04-18T15:33:54.930175Z"
    }
   },
   "source": [
    "#### Max_sum_similarity 사용"
   ]
  },
  {
   "cell_type": "code",
   "execution_count": 105,
   "id": "868b8e73",
   "metadata": {
    "ExecuteTime": {
     "end_time": "2022-04-18T17:28:08.897530Z",
     "start_time": "2022-04-18T17:28:08.883566Z"
    }
   },
   "outputs": [
    {
     "data": {
      "text/plain": [
       "['saturday didi decision delist nyse',\n",
       " 'chinese companies didi stock price',\n",
       " 'didi decision delist nyse according',\n",
       " 'didi shareholder meeting announcement chinese',\n",
       " 'nyse according china securities regulatory']"
      ]
     },
     "execution_count": 105,
     "metadata": {},
     "output_type": "execute_result"
    }
   ],
   "source": [
    "max_sum_sim(doc_embedding, candidate_embeddings, candidates, top_n=5, nr_candidates=10)"
   ]
  },
  {
   "cell_type": "code",
   "execution_count": 58,
   "id": "384b2074",
   "metadata": {
    "ExecuteTime": {
     "end_time": "2022-04-18T16:13:22.067454Z",
     "start_time": "2022-04-18T16:13:22.062472Z"
    }
   },
   "outputs": [],
   "source": [
    "# 이해안가는 코드 \n",
    "# 같은 embeddings끼리 벡터 연산을 하면 의미가 있나?\n",
    "# distances_candidates = cosine_similarity(candidate_embeddings, candidate_embeddings)\n",
    "\n",
    "# words_idx = list(distances.argsort()[0][-nr_candidates:])"
   ]
  },
  {
   "cell_type": "code",
   "execution_count": 59,
   "id": "efcdfe7d",
   "metadata": {
    "ExecuteTime": {
     "end_time": "2022-04-18T16:13:23.188739Z",
     "start_time": "2022-04-18T16:13:23.170336Z"
    }
   },
   "outputs": [
    {
     "data": {
      "text/plain": [
       "array([[ 0.99999994,  0.15703136,  0.388516  , ...,  0.23958978,\n",
       "         0.09337087,  0.36269343],\n",
       "       [ 0.15703136,  0.9999999 ,  0.07729384, ...,  0.530735  ,\n",
       "         0.43158656,  0.33751905],\n",
       "       [ 0.388516  ,  0.07729384,  0.9999999 , ...,  0.22402874,\n",
       "        -0.03885652,  0.18670163],\n",
       "       ...,\n",
       "       [ 0.23958978,  0.530735  ,  0.22402874, ...,  1.0000001 ,\n",
       "         0.3838532 ,  0.33628905],\n",
       "       [ 0.09337087,  0.43158656, -0.03885652, ...,  0.3838532 ,\n",
       "         0.99999994,  0.42163062],\n",
       "       [ 0.36269343,  0.33751905,  0.18670163, ...,  0.33628905,\n",
       "         0.42163062,  1.0000001 ]], dtype=float32)"
      ]
     },
     "execution_count": 59,
     "metadata": {},
     "output_type": "execute_result"
    }
   ],
   "source": [
    "cosine_similarity(candidate_embeddings,candidate_embeddings)"
   ]
  },
  {
   "cell_type": "markdown",
   "id": "05727528",
   "metadata": {},
   "source": [
    "### 다양한 키워드 찾기2: Maximal Marginal Relevance<br>\n",
    "중복을 최소화하고 결과의 다양성을 극대화하기 위해 노력"
   ]
  },
  {
   "cell_type": "code",
   "execution_count": 60,
   "id": "f64d2406",
   "metadata": {
    "ExecuteTime": {
     "end_time": "2022-04-18T16:13:28.245644Z",
     "start_time": "2022-04-18T16:13:28.226770Z"
    }
   },
   "outputs": [],
   "source": [
    "def mmr(doc_embedding, candidate_embeddings, words, top_n, diversity):\n",
    "\n",
    "    # 문서와 각 키워드들 간의 유사도가 적혀있는 리스트\n",
    "    word_doc_similarity = cosine_similarity(candidate_embeddings, doc_embedding)\n",
    "\n",
    "    # 각 키워드들 간의 유사도\n",
    "    word_similarity = cosine_similarity(candidate_embeddings)\n",
    "\n",
    "    # 문서와 가장 높은 유사도를 가진 키워드의 인덱스를 추출.\n",
    "    # 만약, 2번 문서가 가장 유사도가 높았다면\n",
    "    # keywords_idx = [2]\n",
    "    keywords_idx = [np.argmax(word_doc_similarity)]\n",
    "\n",
    "    # 가장 높은 유사도를 가진 키워드의 인덱스를 제외한 문서의 인덱스들\n",
    "    # 만약, 2번 문서가 가장 유사도가 높았다면\n",
    "    # ==> candidates_idx = [0, 1, 3, 4, 5, 6, 7, 8, 9, 10 ... 중략 ...]\n",
    "    candidates_idx = [i for i in range(len(words)) if i != keywords_idx[0]]\n",
    "\n",
    "    # 최고의 키워드는 이미 추출했으므로 top_n-1번만큼 아래를 반복.\n",
    "    # ex) top_n = 5라면, 아래의 loop는 4번 반복됨.\n",
    "    for _ in range(top_n - 1):\n",
    "        candidate_similarities = word_doc_similarity[candidates_idx, :]\n",
    "        target_similarities = np.max(word_similarity[candidates_idx][:, keywords_idx], axis=1)\n",
    "\n",
    "        # MMR을 계산\n",
    "        mmr = (1-diversity) * candidate_similarities - diversity * target_similarities.reshape(-1, 1)\n",
    "        mmr_idx = candidates_idx[np.argmax(mmr)]\n",
    "\n",
    "        # keywords & candidates를 업데이트\n",
    "        keywords_idx.append(mmr_idx)\n",
    "        candidates_idx.remove(mmr_idx)\n",
    "\n",
    "    return [words[idx] for idx in keywords_idx]"
   ]
  },
  {
   "cell_type": "markdown",
   "id": "9edda5cc",
   "metadata": {
    "ExecuteTime": {
     "end_time": "2022-04-18T15:38:39.203130Z",
     "start_time": "2022-04-18T15:38:39.186438Z"
    }
   },
   "source": [
    "#### Maximal Marginal relevance 사용"
   ]
  },
  {
   "cell_type": "code",
   "execution_count": 106,
   "id": "8466f506",
   "metadata": {
    "ExecuteTime": {
     "end_time": "2022-04-18T17:28:39.174563Z",
     "start_time": "2022-04-18T17:28:39.162597Z"
    }
   },
   "outputs": [
    {
     "data": {
      "text/plain": [
       "['delist nyse according china securities',\n",
       " 'didi shareholder meeting announcement chinese',\n",
       " 'shares didi global nyse didi',\n",
       " 'exchange completes delisting meantime didi',\n",
       " 'didi decision delist nyse according']"
      ]
     },
     "execution_count": 106,
     "metadata": {},
     "output_type": "execute_result"
    }
   ],
   "source": [
    "mmr(doc_embedding, candidate_embeddings, candidates, top_n=5, diversity=0.3)"
   ]
  },
  {
   "cell_type": "code",
   "execution_count": null,
   "id": "81c278ad",
   "metadata": {},
   "outputs": [],
   "source": []
  },
  {
   "cell_type": "code",
   "execution_count": null,
   "id": "350a552d",
   "metadata": {},
   "outputs": [],
   "source": []
  },
  {
   "cell_type": "code",
   "execution_count": null,
   "id": "089ed858",
   "metadata": {},
   "outputs": [],
   "source": []
  },
  {
   "cell_type": "markdown",
   "id": "7aaa7b47",
   "metadata": {
    "ExecuteTime": {
     "end_time": "2022-04-16T14:40:10.813818Z",
     "start_time": "2022-04-16T14:40:10.795865Z"
    }
   },
   "source": [
    "## Yake(Yet Another Keyword Extractor)"
   ]
  },
  {
   "cell_type": "markdown",
   "id": "099679e5",
   "metadata": {},
   "source": [
    "YAKE is a basic unsupervised automatic keyword extraction method that identifies the most relevant keywords \n",
    "in a text by using text statistical data from single texts.This technique does not rely on dictionaries, external corpora, \n",
    "text size, language, or domain, and it does not require training on a specific set of documents\n",
    "\n",
    "* Unsupervised approach(비지도 학습 접근법)\n",
    "* Corpus-Independent\n",
    "* Domain and Language Independent (문서내용, 사이즈  등에 상관없음)\n",
    "* Single-Document(?)\n"
   ]
  },
  {
   "cell_type": "markdown",
   "id": "64eda1ae",
   "metadata": {},
   "source": [
    "### Yake 사용법"
   ]
  },
  {
   "cell_type": "code",
   "execution_count": 14,
   "id": "8ae3d4fa",
   "metadata": {
    "ExecuteTime": {
     "end_time": "2022-04-17T05:57:29.913735Z",
     "start_time": "2022-04-17T05:57:25.155320Z"
    },
    "scrolled": true
   },
   "outputs": [
    {
     "name": "stdout",
     "output_type": "stream",
     "text": [
      "Collecting yake\n",
      "  Downloading yake-0.4.8-py2.py3-none-any.whl (60 kB)\n",
      "     ---------------------------------------- 60.2/60.2 KB 3.3 MB/s eta 0:00:00\n",
      "Requirement already satisfied: click>=6.0 in c:\\users\\21ckw\\anaconda3\\lib\\site-packages (from yake) (8.0.3)\n",
      "Requirement already satisfied: networkx in c:\\users\\21ckw\\anaconda3\\lib\\site-packages (from yake) (2.6.3)\n",
      "Collecting tabulate\n",
      "  Downloading tabulate-0.8.9-py3-none-any.whl (25 kB)\n",
      "Collecting jellyfish\n",
      "  Downloading jellyfish-0.9.0-cp39-cp39-win_amd64.whl (26 kB)\n",
      "Collecting segtok\n",
      "  Downloading segtok-1.5.11-py3-none-any.whl (24 kB)\n",
      "Requirement already satisfied: numpy in c:\\users\\21ckw\\anaconda3\\lib\\site-packages (from yake) (1.20.3)\n",
      "Requirement already satisfied: colorama in c:\\users\\21ckw\\appdata\\roaming\\python\\python39\\site-packages (from click>=6.0->yake) (0.4.4)\n",
      "Requirement already satisfied: regex in c:\\users\\21ckw\\anaconda3\\lib\\site-packages (from segtok->yake) (2021.8.3)\n",
      "Installing collected packages: tabulate, segtok, jellyfish, yake\n",
      "Successfully installed jellyfish-0.9.0 segtok-1.5.11 tabulate-0.8.9 yake-0.4.8\n"
     ]
    }
   ],
   "source": [
    "# !pip install yake"
   ]
  },
  {
   "cell_type": "code",
   "execution_count": 17,
   "id": "495d8b15",
   "metadata": {
    "ExecuteTime": {
     "end_time": "2022-04-17T05:59:05.667326Z",
     "start_time": "2022-04-17T05:59:05.259418Z"
    }
   },
   "outputs": [],
   "source": [
    "import yake"
   ]
  },
  {
   "cell_type": "code",
   "execution_count": 18,
   "id": "c479ff3b",
   "metadata": {
    "ExecuteTime": {
     "end_time": "2022-04-17T05:59:07.591149Z",
     "start_time": "2022-04-17T05:59:07.419610Z"
    }
   },
   "outputs": [
    {
     "name": "stdout",
     "output_type": "stream",
     "text": [
      "('data released Tuesday', 0.009428058051207406)\n",
      "('Department data released', 0.0096234876313734)\n",
      "('everyday items surged', 0.012462717013554392)\n",
      "('Reagan administration', 0.014818631568493707)\n",
      "('released Tuesday', 0.014917608852455437)\n",
      "('Labor Department data', 0.01516161268816772)\n",
      "('Dow Jones estimate', 0.02147471627112143)\n",
      "('Labor Department', 0.02254836536627868)\n",
      "('inflation', 0.023716550782715107)\n",
      "('March', 0.024271860360091033)\n",
      "('elevated Dow Jones', 0.025174206418134455)\n",
      "('Prices', 0.029962904876262086)\n",
      "('core inflation', 0.03724745085229474)\n",
      "('Department data', 0.03804939066847838)\n",
      "('month', 0.04095325379825359)\n",
      "('Dow Jones', 0.04218739741688678)\n",
      "('core', 0.046571555082663835)\n",
      "('core CPI', 0.05084221065090602)\n",
      "('pay for everyday', 0.05169130201458279)\n",
      "('everyday items', 0.05169130201458279)\n"
     ]
    }
   ],
   "source": [
    "kw_extractor = yake.KeywordExtractor()\n",
    "keywords =  kw_extractor.extract_keywords(doc)\n",
    "for kw in keywords:\n",
    "    print(kw)"
   ]
  },
  {
   "cell_type": "code",
   "execution_count": 62,
   "id": "b2fb48c1",
   "metadata": {
    "ExecuteTime": {
     "end_time": "2022-04-17T09:37:47.088070Z",
     "start_time": "2022-04-17T09:37:47.079164Z"
    }
   },
   "outputs": [
    {
     "data": {
      "text/plain": [
       "0.05169130201458279"
      ]
     },
     "execution_count": 62,
     "metadata": {},
     "output_type": "execute_result"
    }
   ],
   "source": [
    "kw[1]"
   ]
  },
  {
   "cell_type": "code",
   "execution_count": null,
   "id": "55e59036",
   "metadata": {},
   "outputs": [],
   "source": []
  },
  {
   "cell_type": "markdown",
   "id": "822c60ce",
   "metadata": {
    "ExecuteTime": {
     "end_time": "2022-04-16T14:40:12.041822Z",
     "start_time": "2022-04-16T14:40:12.033842Z"
    }
   },
   "source": [
    "## MonkeyLearn API"
   ]
  },
  {
   "cell_type": "markdown",
   "id": "d2e4d47f",
   "metadata": {},
   "source": [
    "Advantages of keyword extraction automation\n",
    "\n",
    "* Product descriptions, customer feedback, and other sources can all be used to extract keywords.\n",
    "* Determine which terms are most frequently used by customers.\n",
    "* Monitoring of brand, product, and service references in real-time\n",
    "* It is possible to automate and speed up data extraction and entry.\n"
   ]
  },
  {
   "cell_type": "markdown",
   "id": "1f33f7f7",
   "metadata": {},
   "source": [
    "### MonkeyLearn API 사용법"
   ]
  },
  {
   "cell_type": "code",
   "execution_count": 19,
   "id": "fe23cc5e",
   "metadata": {
    "ExecuteTime": {
     "end_time": "2022-04-17T06:00:25.136039Z",
     "start_time": "2022-04-17T06:00:21.011266Z"
    }
   },
   "outputs": [
    {
     "name": "stdout",
     "output_type": "stream",
     "text": [
      "Collecting monkeylearn\n",
      "  Downloading monkeylearn-3.6.0-py3-none-any.whl (17 kB)\n",
      "Requirement already satisfied: requests>=2.8.1 in c:\\users\\21ckw\\anaconda3\\lib\\site-packages (from monkeylearn) (2.26.0)\n",
      "Requirement already satisfied: six>=1.10.0 in c:\\users\\21ckw\\appdata\\roaming\\python\\python39\\site-packages (from monkeylearn) (1.16.0)\n",
      "Requirement already satisfied: urllib3<1.27,>=1.21.1 in c:\\users\\21ckw\\anaconda3\\lib\\site-packages (from requests>=2.8.1->monkeylearn) (1.26.7)\n",
      "Requirement already satisfied: charset-normalizer~=2.0.0 in c:\\users\\21ckw\\anaconda3\\lib\\site-packages (from requests>=2.8.1->monkeylearn) (2.0.4)\n",
      "Requirement already satisfied: certifi>=2017.4.17 in c:\\users\\21ckw\\anaconda3\\lib\\site-packages (from requests>=2.8.1->monkeylearn) (2021.10.8)\n",
      "Requirement already satisfied: idna<4,>=2.5 in c:\\users\\21ckw\\anaconda3\\lib\\site-packages (from requests>=2.8.1->monkeylearn) (3.2)\n",
      "Installing collected packages: monkeylearn\n",
      "Successfully installed monkeylearn-3.6.0\n"
     ]
    }
   ],
   "source": [
    "!pip install monkeylearn"
   ]
  },
  {
   "cell_type": "code",
   "execution_count": 99,
   "id": "70433f1f",
   "metadata": {
    "ExecuteTime": {
     "end_time": "2022-04-18T17:24:49.768965Z",
     "start_time": "2022-04-18T17:24:49.444874Z"
    }
   },
   "outputs": [
    {
     "name": "stdout",
     "output_type": "stream",
     "text": [
      "단어이름:  north korea / 연관성:  0.992\n",
      "단어이름:  kim / 연관성:  0.661\n",
      "단어이름:  possible joint deterrent / 연관성:  0.496\n",
      "단어이름:  u.s. envoy / 연관성:  0.331\n",
      "단어이름:  command post training / 연관성:  0.248\n"
     ]
    }
   ],
   "source": [
    "from monkeylearn import MonkeyLearn\n",
    "\n",
    "ml = MonkeyLearn('ba02694bb0686d4e9dfefb9f26723346ce53a278')\n",
    "\n",
    "data = [docs_w]\n",
    "model_id = 'ex_YCya9nrn'\n",
    "result = ml.extractors.extract(model_id, data)\n",
    "dataDict = result.body\n",
    "for item in dataDict[0]['extractions'][:5]:\n",
    "    print(\"단어이름: \", item['parsed_value'],\"/ 연관성: \", item['relevance'])"
   ]
  },
  {
   "cell_type": "code",
   "execution_count": 25,
   "id": "70313879",
   "metadata": {
    "ExecuteTime": {
     "end_time": "2022-04-17T06:22:08.976771Z",
     "start_time": "2022-04-17T06:22:08.971784Z"
    }
   },
   "outputs": [
    {
     "data": {
      "text/plain": [
       "dict_keys(['text', 'external_id', 'error', 'extractions'])"
      ]
     },
     "execution_count": 25,
     "metadata": {},
     "output_type": "execute_result"
    }
   ],
   "source": [
    "dataDict[0].keys()"
   ]
  },
  {
   "cell_type": "code",
   "execution_count": 27,
   "id": "2acca47a",
   "metadata": {
    "ExecuteTime": {
     "end_time": "2022-04-17T06:22:37.441089Z",
     "start_time": "2022-04-17T06:22:37.420143Z"
    },
    "scrolled": true
   },
   "outputs": [
    {
     "data": {
      "text/plain": [
       "[{'tag_name': 'KEYWORD',\n",
       "  'parsed_value': 'inflation',\n",
       "  'count': 13,\n",
       "  'relevance': '0.980',\n",
       "  'positions_in_text': [539,\n",
       "   673,\n",
       "   1067,\n",
       "   1291,\n",
       "   1616,\n",
       "   1682,\n",
       "   1994,\n",
       "   2096,\n",
       "   2219,\n",
       "   2351,\n",
       "   2650,\n",
       "   2933,\n",
       "   3905]},\n",
       " {'tag_name': 'KEYWORD',\n",
       "  'parsed_value': 'inflation pressure',\n",
       "  'count': 2,\n",
       "  'relevance': '0.782',\n",
       "  'positions_in_text': [1994, 2219]},\n",
       " {'tag_name': 'KEYWORD',\n",
       "  'parsed_value': 'chief economist',\n",
       "  'count': 2,\n",
       "  'relevance': '0.782',\n",
       "  'positions_in_text': [2283, 3337]},\n",
       " {'tag_name': 'KEYWORD',\n",
       "  'parsed_value': 'energy price',\n",
       "  'count': 2,\n",
       "  'relevance': '0.782',\n",
       "  'positions_in_text': [1135, 3688]},\n",
       " {'tag_name': 'KEYWORD',\n",
       "  'parsed_value': 'month',\n",
       "  'count': 12,\n",
       "  'relevance': '0.600',\n",
       "  'positions_in_text': [460,\n",
       "   601,\n",
       "   1373,\n",
       "   1869,\n",
       "   2562,\n",
       "   2583,\n",
       "   3533,\n",
       "   3777,\n",
       "   3988,\n",
       "   4243,\n",
       "   4304,\n",
       "   4443]},\n",
       " {'tag_name': 'KEYWORD',\n",
       "  'parsed_value': 'dow jones estimates',\n",
       "  'count': 1,\n",
       "  'relevance': '0.587',\n",
       "  'positions_in_text': [361]},\n",
       " {'tag_name': 'KEYWORD',\n",
       "  'parsed_value': 'used vehicle price',\n",
       "  'count': 1,\n",
       "  'relevance': '0.587',\n",
       "  'positions_in_text': [3244]},\n",
       " {'tag_name': 'KEYWORD',\n",
       "  'parsed_value': 'government bond yield',\n",
       "  'count': 1,\n",
       "  'relevance': '0.587',\n",
       "  'positions_in_text': [804]},\n",
       " {'tag_name': 'KEYWORD',\n",
       "  'parsed_value': 'federal reserve wage',\n",
       "  'count': 1,\n",
       "  'relevance': '0.587',\n",
       "  'positions_in_text': [2125]},\n",
       " {'tag_name': 'KEYWORD',\n",
       "  'parsed_value': 'core price pressure',\n",
       "  'count': 1,\n",
       "  'relevance': '0.587',\n",
       "  'positions_in_text': [881]}]"
      ]
     },
     "execution_count": 27,
     "metadata": {},
     "output_type": "execute_result"
    }
   ],
   "source": [
    "dataDict[0]['extractions']"
   ]
  },
  {
   "cell_type": "markdown",
   "id": "4fc9c282",
   "metadata": {
    "ExecuteTime": {
     "end_time": "2022-04-16T14:40:13.238882Z",
     "start_time": "2022-04-16T14:40:13.227812Z"
    }
   },
   "source": [
    "## Textrazor API"
   ]
  },
  {
   "cell_type": "markdown",
   "id": "ef6fb082",
   "metadata": {},
   "source": [
    "Textrazor is a good choice for developers that need speedy extraction tools with comprehensive customization options\n",
    "\n",
    "url을 넣어야 함<br>\n",
    "무료버전 500 requests per day"
   ]
  },
  {
   "cell_type": "code",
   "execution_count": null,
   "id": "790acf79",
   "metadata": {},
   "outputs": [],
   "source": []
  },
  {
   "cell_type": "markdown",
   "id": "679bd964",
   "metadata": {},
   "source": [
    "### Textrazor API 사용법"
   ]
  },
  {
   "cell_type": "code",
   "execution_count": 30,
   "id": "0659fb50",
   "metadata": {
    "ExecuteTime": {
     "end_time": "2022-04-17T06:40:47.994156Z",
     "start_time": "2022-04-17T06:40:41.784135Z"
    },
    "scrolled": true
   },
   "outputs": [
    {
     "name": "stdout",
     "output_type": "stream",
     "text": [
      "Collecting textrazor\n",
      "  Downloading textrazor-1.4.0.tar.gz (16 kB)\n",
      "  Preparing metadata (setup.py): started\n",
      "  Preparing metadata (setup.py): finished with status 'done'\n",
      "Building wheels for collected packages: textrazor\n",
      "  Building wheel for textrazor (setup.py): started\n",
      "  Building wheel for textrazor (setup.py): finished with status 'done'\n",
      "  Created wheel for textrazor: filename=textrazor-1.4.0-py3-none-any.whl size=17021 sha256=1db148439c0d832a8387b4fdc780d45ad98bb3c642430051ff7b650874450583\n",
      "  Stored in directory: c:\\users\\21ckw\\appdata\\local\\pip\\cache\\wheels\\f6\\20\\72\\0f25f865cb1ced565b5fd2e828136cd9775357f67a986029e8\n",
      "Successfully built textrazor\n",
      "Installing collected packages: textrazor\n",
      "Successfully installed textrazor-1.4.0\n"
     ]
    }
   ],
   "source": [
    "# !pip install textrazor"
   ]
  },
  {
   "cell_type": "code",
   "execution_count": 34,
   "id": "0b5498d1",
   "metadata": {
    "ExecuteTime": {
     "end_time": "2022-04-17T06:48:40.863679Z",
     "start_time": "2022-04-17T06:48:38.566417Z"
    }
   },
   "outputs": [
    {
     "name": "stdout",
     "output_type": "stream",
     "text": [
      "Cost 0.2703 2.33\n",
      "United States 0.3843 24.46\n",
      "Economics 0.5174 18.84\n",
      "Wage 0.2983 2.763\n",
      "Economics 0.5058 18.84\n",
      "Stagflation 0.6904 13.13\n",
      "1970s 0.3816 1.493\n",
      "Inflation 0.9164 18.67\n",
      "Cost 0.1943 1.883\n",
      "Cost of living 0.4552 2.815\n",
      "News 0.3461 1.506\n",
      "Pressure 0.1722 1.149\n",
      "Food 0.2683 5.453\n",
      "Consumer 0.1031 5.149\n",
      "Price 0.469 3.884\n",
      "Consumer price index 0.6144 17.72\n",
      "Price index 0.4941 2.975\n",
      "Index (economics) 0.7378 2.295\n",
      "Basket 0.0254 1.646\n",
      "Inflation 0.9164 17.83\n",
      "Wall Street 0.4894 7.004\n",
      "The Wall Street Journal 0.4902 37.83\n",
      "Data 0.1183 0.963\n",
      "Lael Brainard 0.2864 2.401\n",
      "Government bond 0.4045 4.07\n",
      "Bond (finance) 0.4625 1.293\n",
      "Hope 0.184 0.9824\n",
      "Bureau of Labor Statistics 0.09554 16.11\n",
      "Statistics 0.2427 1.573\n",
      "Jim Cramer 0.3229 5.534\n",
      "Atlanta 0.2686 9.267\n",
      "Wage 0.2983 3.58\n",
      "Signs and symptoms 0.1746 1.783\n",
      "Chief economist 0.06688 1.333\n",
      "Economics 0.495 18.84\n",
      "Fitch Ratings 0.09905 5.477\n",
      "Inflation 0.9164 18.43\n",
      "Acceleration 0.1222 2.255\n",
      "Goods 0.3258 1.317\n",
      "Goods and services 0.1581 1.431\n",
      "Federal Reserve 0.4816 11.58\n",
      "Consumer price index 0.698 6.042\n",
      "Federal Reserve 0.5247 1.217\n",
      "Interest 0.4474 2.309\n",
      "Interest rate 0.4638 12.06\n",
      "Economy 0.26 1.629\n",
      "Recession 0.6805 9.496\n",
      "Economics 0.495 18.84\n",
      "Wall Street 0.392 6.486\n",
      "Probability 0.1771 3.665\n",
      "Recession 0.7921 6.891\n",
      "Vehicle 0.1895 1.135\n",
      "Ian Shepherdson 0.2422 1.613\n",
      "Economics 0.495 18.84\n",
      "Pantheon Macroeconomics 0.1852 2.28\n",
      "Macroeconomics 0.6394 12.32\n",
      "Energy 0.1854 7.348\n",
      "Speed 0.08237 0.9716\n",
      "Price 0.3789 4.113\n",
      "Food 0.3953 5.428\n",
      "Goods 0.3515 1.4\n",
      "Used car 0.2632 1.021\n",
      "Car 0.2492 8.88\n",
      "Truck 0.2311 4.398\n",
      "Commodity 0.3862 5.991\n",
      "Commodity market 0.4576 1.892\n",
      "Price 0.3789 1.289\n",
      "Food 0.3953 5.697\n",
      "Clothing 0.2179 2.564\n",
      "Transport 0.3541 5.83\n",
      "Economic recovery 0.427 1.56\n",
      "COVID-19 pandemic 0.3931 55.74\n",
      "Pandemic 0.1612 1.081\n",
      "Airline 0.2981 1.03\n",
      "Data 0.1124 1.022\n",
      "News 0.3863 1.825\n",
      "CNBC 0.3667 6.981\n",
      "Data 0.1124 1.061\n",
      "News 0.3863 1.69\n",
      "Stock 0.3072 1.255\n",
      "Market data 0.4004 1.739\n",
      "Data 0.1124 2.165\n",
      "Energy 0.1854 7.348\n",
      "Cost of living 0.4552 2.815\n",
      "Energy 0.1854 7.348\n",
      "Energy 0.1854 7.348\n",
      "Energy 0.1854 7.348\n",
      "Energy 0.1854 7.348\n",
      "Wage 0.2983 2.763\n",
      "Lael Brainard 0.2864 2.401\n",
      "Federal Reserve 0.4816 11.58\n",
      "Consumer price index 0.698 6.042\n",
      "Consumer price index 0.698 6.042\n",
      "Consumer price index 0.698 6.042\n",
      "Recession 0.6805 9.496\n",
      "Federal Reserve 0.5247 1.217\n",
      "Chief economist 0.06688 1.333\n",
      "2022-04-12T00:00:00.000+00:00 0 0.5\n",
      "2023-03-01T00:00:00.000+00:00 0 0.5\n",
      "2022-04-19T00:00:00.000+00:00 0 0.5\n",
      "12 0 0.5\n",
      "2023-03-01T00:00:00.000+00:00 0 0.5\n",
      "8.49999999999999999913 0 0.5\n",
      "2022-04-12T00:00:00.000+00:00 0 0.5\n",
      "2023-03-01T00:00:00.000+00:00 0 0.5\n",
      "2023-03-01T00:00:00.000+00:00 0 0.5\n",
      "2023-03-01T00:00:00.000+00:00 0 0.5\n",
      "2023-03-01T00:00:00.000+00:00 0 0.5\n",
      "0.799999999999999999902 0 0.5\n",
      "12 0 0.5\n",
      "6 0 0.5\n",
      "5 0 0.5\n",
      "2023-01-01T00:00:00.000+00:00 0 0.5\n",
      "20 0 0.5\n",
      "11 0 0.5\n",
      "12 0 0.5\n",
      "0.499999999999999999946 0 0.5\n",
      "2023-03-01T00:00:00.000+00:00 0 0.5\n",
      "2023-03-01T00:00:00.000+00:00 0 0.5\n",
      "2023-03-01T00:00:00.000+00:00 0 0.5\n",
      "2023-03-01T00:00:00.000+00:00 0 0.5\n",
      "2023-03-01T00:00:00.000+00:00 0 0.5\n",
      "Andrew Hunter 0 0.5\n",
      "32 0 0.5\n",
      "15 0 0.5\n",
      "Brian Coulton 0 0.5\n",
      "2021-04-01T00:00:00.000+00:00 0 0.5\n",
      "2021-04-01T00:00:00.000+00:00 0 0.5\n",
      "2021-04-01T00:00:00.000+00:00 0 0.5\n",
      "8.49999999999999999913 0 0.5\n",
      "Rice 0.353 10.51\n",
      "Ground beef 0.1955 2.888\n",
      "Beef 0.2886 5.783\n",
      "Citrus 0.1827 3.473\n",
      "Fruit 0.2519 9.9\n",
      "Vegetable 0.3893 7.423\n",
      "Percentage 0.2216 1.993\n",
      "Percentage point 0.07691 1.486\n",
      "Food 0.2683 5.426\n",
      "Gasoline 0.3552 6.305\n",
      "Price 0.469 3.668\n",
      "Consumer 0.1031 1.382\n",
      "War 0.1991 1.226\n",
      "Ukraine 0.2891 10.86\n",
      "Pressure 0.1352 4.865\n",
      "Dow Jones & Company 0.3243 10.46\n",
      "Core inflation 0.6662 4.036\n",
      "Inflation 0.7226 17.43\n",
      "Ronald Reagan 0.3646 9.843\n",
      "Inflation 0.9164 18.67\n",
      "Inflation 0.9164 18.67\n",
      "Inflation 0.9164 18.67\n",
      "Inflation 0.9164 18.67\n",
      "Inflation 0.9164 18.67\n",
      "Inflation 0.9164 18.67\n",
      "1991 0 0.5\n",
      "8.79999999999999999931 0 0.5\n",
      "18.2999999999999999976 0 0.5\n",
      "3.79999999999999999952 0 0.5\n",
      "35.2999999999999999958 0 0.5\n",
      "0.399999999999999999951 0 0.5\n",
      "0.599999999999999999913 0 0.5\n",
      "7.69999999999999999896 0 0.5\n",
      "10.699999999999999999 0 0.5\n",
      "23.5999999999999999969 0 0.5\n",
      "Inflation 0.9164 18.67\n",
      "Inflation 0.9164 18.67\n",
      "Inflation 0.9164 18.67\n",
      "Inflation 0.9164 18.67\n",
      "Inflation 0.9164 18.67\n",
      "Price 0.469 3.668\n",
      "Price 0.469 3.668\n",
      "Price 0.469 3.668\n",
      "Price 0.469 3.668\n",
      "Price 0.469 3.668\n",
      "Price 0.469 3.668\n",
      "Price 0.469 3.668\n",
      "Price 0.469 3.668\n",
      "Price 0.469 3.668\n",
      "Core inflation 0.6662 4.036\n",
      "Core inflation 0.6662 4.036\n",
      "Price 0.3789 4.113\n",
      "Price 0.3789 4.113\n",
      "Pressure 0.1722 1.149\n",
      "Pressure 0.1722 1.149\n",
      "United States 0.3843 24.46\n",
      "8.49999999999999999913 0 0.5\n",
      "1981 0 0.5\n",
      "0.799999999999999999902 0 0.5\n",
      "1981 0 0.5\n",
      "8.39999999999999999879 0 0.5\n",
      "6.49999999999999999913 0 0.5\n",
      "0.299999999999999999957 0 0.5\n",
      "0.499999999999999999946 0 0.5\n",
      "1981 0 0.5\n",
      "1982 0 0.5\n",
      "5.59999999999999999948 0 0.5\n",
      "Andrew Hunter 0 0.5\n",
      "Capital Economics 0 0.5\n",
      "Komal Sri-Kumar 0 0.5\n",
      "Labor Department 0 0.5\n",
      "Brian Coulton 0 0.5\n",
      "CNBC Newsletters 0 0.5\n",
      "Data 0 0.5\n",
      "1 0 0.5\n",
      "2 0 0.5\n",
      "2 0 0.5\n",
      "2021-04-01T00:00:00.000+00:00 0 0.5\n"
     ]
    }
   ],
   "source": [
    "import textrazor\n",
    "textrazor.api_key = '36ca83664d76dbac7629b52bc825052e00416a283515071f6248be98'\n",
    "client = textrazor.TextRazor(extractors=[\"entities\", \"topics\"])\n",
    "response = client.analyze_url(\"https://www.cnbc.com/2022/04/12/consumer-prices-rose-8point5percent-in-march-slightly-hotter-than-expected.html\")\n",
    "for entity in response.entities():\n",
    "    print(entity.id, entity.relevance_score, entity.confidence_score)"
   ]
  },
  {
   "cell_type": "code",
   "execution_count": null,
   "id": "c8e7a1ab",
   "metadata": {},
   "outputs": [],
   "source": []
  },
  {
   "cell_type": "code",
   "execution_count": null,
   "id": "e47f8821",
   "metadata": {},
   "outputs": [],
   "source": [
    "키워드 2500개 뉴스 다 읽을 수 없으니 -> 요약한 걸 제공하자 ->\n",
    "키워드 추출 빈도수 -> 키워드제공 -> 요약은 힘듬 \n",
    "-> 2500개 축약 기사의 title만 제공 + 키워드에 맞는 핵심문장 추출해서 제공\n",
    "\n",
    "* 현 상황 문제점\n",
    "1. 뉴스크롤링(forex) 기사본문 안긁어짐(지혜누나꺼 1700개중 70개만 본문 긁어짐)\n",
    "2. 정확히 어떤 것을 구현할지 애매함\n",
    "1) KeyWord만 추출할 시 따로 딥러닝 필요없고\n",
    "2) finBERT는 Keyword가 아닌 문장의 점수를 반환\n",
    "\n",
    "-> finBERT로 Keyword 점수를 뽑는법을 찾거나, 문장단위로 뭘하거나 추가 회의필요\n"
   ]
  },
  {
   "cell_type": "code",
   "execution_count": null,
   "id": "74433e8d",
   "metadata": {},
   "outputs": [],
   "source": []
  },
  {
   "cell_type": "code",
   "execution_count": null,
   "id": "fb5a643d",
   "metadata": {},
   "outputs": [],
   "source": []
  },
  {
   "cell_type": "code",
   "execution_count": null,
   "id": "8459bbdd",
   "metadata": {},
   "outputs": [],
   "source": []
  }
 ],
 "metadata": {
  "kernelspec": {
   "display_name": "Python 3 (ipykernel)",
   "language": "python",
   "name": "python3"
  },
  "language_info": {
   "codemirror_mode": {
    "name": "ipython",
    "version": 3
   },
   "file_extension": ".py",
   "mimetype": "text/x-python",
   "name": "python",
   "nbconvert_exporter": "python",
   "pygments_lexer": "ipython3",
   "version": "3.9.7"
  },
  "toc": {
   "base_numbering": 1,
   "nav_menu": {},
   "number_sections": true,
   "sideBar": true,
   "skip_h1_title": false,
   "title_cell": "Table of Contents",
   "title_sidebar": "Contents",
   "toc_cell": false,
   "toc_position": {
    "height": "calc(100% - 180px)",
    "left": "10px",
    "top": "150px",
    "width": "304.469px"
   },
   "toc_section_display": true,
   "toc_window_display": true
  },
  "varInspector": {
   "cols": {
    "lenName": 16,
    "lenType": 16,
    "lenVar": 40
   },
   "kernels_config": {
    "python": {
     "delete_cmd_postfix": "",
     "delete_cmd_prefix": "del ",
     "library": "var_list.py",
     "varRefreshCmd": "print(var_dic_list())"
    },
    "r": {
     "delete_cmd_postfix": ") ",
     "delete_cmd_prefix": "rm(",
     "library": "var_list.r",
     "varRefreshCmd": "cat(var_dic_list()) "
    }
   },
   "types_to_exclude": [
    "module",
    "function",
    "builtin_function_or_method",
    "instance",
    "_Feature"
   ],
   "window_display": false
  }
 },
 "nbformat": 4,
 "nbformat_minor": 5
}
