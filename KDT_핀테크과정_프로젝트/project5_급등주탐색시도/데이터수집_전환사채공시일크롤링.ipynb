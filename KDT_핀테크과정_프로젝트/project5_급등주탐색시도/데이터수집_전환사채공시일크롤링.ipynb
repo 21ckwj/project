{
 "cells": [
  {
   "cell_type": "code",
   "execution_count": 1,
   "id": "33101582",
   "metadata": {
    "ExecuteTime": {
     "end_time": "2022-05-14T07:53:43.734826Z",
     "start_time": "2022-05-14T07:53:42.805169Z"
    }
   },
   "outputs": [],
   "source": [
    "import pandas as pd\n",
    "import numpy as np\n",
    "import matplotlib.pyplot as plt\n",
    "import seaborn as sns"
   ]
  },
  {
   "cell_type": "code",
   "execution_count": 55,
   "id": "a4411619",
   "metadata": {
    "ExecuteTime": {
     "end_time": "2022-05-14T08:53:29.504338Z",
     "start_time": "2022-05-14T08:53:29.497360Z"
    }
   },
   "outputs": [],
   "source": [
    "import requests\n",
    "from bs4 import BeautifulSoup\n",
    "from selenium import webdriver\n",
    "from selenium.webdriver.common.keys import Keys\n",
    "\n",
    "from datetime import timedelta\n",
    "import time"
   ]
  },
  {
   "cell_type": "code",
   "execution_count": 83,
   "id": "d26ab6b0",
   "metadata": {
    "ExecuteTime": {
     "end_time": "2022-05-14T11:50:22.899243Z",
     "start_time": "2022-05-14T11:50:22.882316Z"
    }
   },
   "outputs": [],
   "source": [
    "url = 'https://dart.fss.or.kr/dsab007/main.do?option=corp'"
   ]
  },
  {
   "cell_type": "code",
   "execution_count": 84,
   "id": "ff41f8dc",
   "metadata": {
    "ExecuteTime": {
     "end_time": "2022-05-14T11:50:24.875801Z",
     "start_time": "2022-05-14T11:50:23.101786Z"
    }
   },
   "outputs": [],
   "source": [
    "driver = webdriver.Chrome()\n",
    "driver.get(url)\n",
    "driver.set_window_position(0, 0)\n",
    "driver.set_window_size(1500, 1500)"
   ]
  },
  {
   "cell_type": "code",
   "execution_count": 85,
   "id": "18072466",
   "metadata": {
    "ExecuteTime": {
     "end_time": "2022-05-14T11:50:25.673524Z",
     "start_time": "2022-05-14T11:50:25.426040Z"
    }
   },
   "outputs": [
    {
     "name": "stderr",
     "output_type": "stream",
     "text": [
      "C:\\Users\\bitcamp\\AppData\\Local\\Temp/ipykernel_2112/3962673974.py:7: DeprecationWarning: find_element_by_* commands are deprecated. Please use find_element() instead\n",
      "  driver.find_element_by_css_selector('#textCrpNm').send_keys(corp_name)\n",
      "C:\\Users\\bitcamp\\AppData\\Local\\Temp/ipykernel_2112/3962673974.py:9: DeprecationWarning: find_element_by_* commands are deprecated. Please use find_element() instead\n",
      "  driver.find_element_by_css_selector('#date6').click()\n",
      "C:\\Users\\bitcamp\\AppData\\Local\\Temp/ipykernel_2112/3962673974.py:12: DeprecationWarning: find_element_by_* commands are deprecated. Please use find_element() instead\n",
      "  driver.find_element_by_css_selector('#btnPlus').click()\n",
      "C:\\Users\\bitcamp\\AppData\\Local\\Temp/ipykernel_2112/3962673974.py:15: DeprecationWarning: find_element_by_* commands are deprecated. Please use find_element() instead\n",
      "  driver.find_element_by_css_selector('#reportName2').send_keys(reprt_name)\n",
      "C:\\Users\\bitcamp\\AppData\\Local\\Temp/ipykernel_2112/3962673974.py:18: DeprecationWarning: find_element_by_* commands are deprecated. Please use find_element() instead\n",
      "  driver.find_element_by_css_selector('#searchForm > div.subSearchWrap > div.btnArea > a.btnSearch').click()\n"
     ]
    }
   ],
   "source": [
    "# 클릭 검색\n",
    "corp_name = '시티랩스'\n",
    "# reprt_name = '전환사채권발행결정'\n",
    "reprt_name = '전환가액의조정'\n",
    "\n",
    "# 회사검색\n",
    "driver.find_element_by_css_selector('#textCrpNm').send_keys(corp_name)\n",
    "# 5년\n",
    "driver.find_element_by_css_selector('#date6').click()\n",
    "\n",
    "# 상세조건열기\n",
    "driver.find_element_by_css_selector('#btnPlus').click()\n",
    "\n",
    "# 보고서명\n",
    "driver.find_element_by_css_selector('#reportName2').send_keys(reprt_name)\n",
    "\n",
    "#검색 클릭\n",
    "driver.find_element_by_css_selector('#searchForm > div.subSearchWrap > div.btnArea > a.btnSearch').click()\n",
    "\n",
    "html = driver.page_source\n"
   ]
  },
  {
   "cell_type": "code",
   "execution_count": 86,
   "id": "317bd1d2",
   "metadata": {
    "ExecuteTime": {
     "end_time": "2022-05-14T11:50:30.397691Z",
     "start_time": "2022-05-14T11:50:30.369591Z"
    }
   },
   "outputs": [
    {
     "name": "stderr",
     "output_type": "stream",
     "text": [
      "C:\\Users\\bitcamp\\AppData\\Local\\Temp/ipykernel_2112/4099968109.py:2: DeprecationWarning: find_elements_by_* commands are deprecated. Please use find_elements() instead\n",
      "  page_bar = driver.find_elements_by_css_selector('#psWrap > div.pageSkip > ul > li > a')\n"
     ]
    },
    {
     "data": {
      "text/plain": [
       "1"
      ]
     },
     "execution_count": 86,
     "metadata": {},
     "output_type": "execute_result"
    }
   ],
   "source": [
    "# page bar\n",
    "page_bar = driver.find_elements_by_css_selector('#psWrap > div.pageSkip > ul > li > a')\n",
    "len(page_bar)"
   ]
  },
  {
   "cell_type": "code",
   "execution_count": 87,
   "id": "193c8e6e",
   "metadata": {
    "ExecuteTime": {
     "end_time": "2022-05-14T11:50:34.216543Z",
     "start_time": "2022-05-14T11:50:31.078990Z"
    }
   },
   "outputs": [
    {
     "name": "stderr",
     "output_type": "stream",
     "text": [
      "C:\\Users\\bitcamp\\AppData\\Local\\Temp/ipykernel_2112/3439644063.py:5: DeprecationWarning: find_elements_by_* commands are deprecated. Please use find_elements() instead\n",
      "  page_bar = driver.find_elements_by_css_selector('#psWrap > div.pageSkip > ul > li > a')\n"
     ]
    },
    {
     "name": "stdout",
     "output_type": "stream",
     "text": [
      "1\n"
     ]
    },
    {
     "data": {
      "text/html": [
       "<div>\n",
       "<style scoped>\n",
       "    .dataframe tbody tr th:only-of-type {\n",
       "        vertical-align: middle;\n",
       "    }\n",
       "\n",
       "    .dataframe tbody tr th {\n",
       "        vertical-align: top;\n",
       "    }\n",
       "\n",
       "    .dataframe thead th {\n",
       "        text-align: right;\n",
       "    }\n",
       "</style>\n",
       "<table border=\"1\" class=\"dataframe\">\n",
       "  <thead>\n",
       "    <tr style=\"text-align: right;\">\n",
       "      <th></th>\n",
       "      <th>번호</th>\n",
       "      <th>공시대상회사</th>\n",
       "      <th>보고서명</th>\n",
       "      <th>제출인</th>\n",
       "      <th>접수일자</th>\n",
       "      <th>비고</th>\n",
       "    </tr>\n",
       "  </thead>\n",
       "  <tbody>\n",
       "    <tr>\n",
       "      <th>0</th>\n",
       "      <td>1</td>\n",
       "      <td>코  시티랩스</td>\n",
       "      <td>전환가액의조정 (제8회차)</td>\n",
       "      <td>시티랩스</td>\n",
       "      <td>2021.09.29</td>\n",
       "      <td>코</td>\n",
       "    </tr>\n",
       "    <tr>\n",
       "      <th>1</th>\n",
       "      <td>2</td>\n",
       "      <td>코  시티랩스</td>\n",
       "      <td>전환가액의조정 (제9회차)</td>\n",
       "      <td>시티랩스</td>\n",
       "      <td>2021.08.31</td>\n",
       "      <td>코</td>\n",
       "    </tr>\n",
       "    <tr>\n",
       "      <th>2</th>\n",
       "      <td>3</td>\n",
       "      <td>코  시티랩스</td>\n",
       "      <td>전환가액의조정 (제8회차)</td>\n",
       "      <td>시티랩스</td>\n",
       "      <td>2021.06.29</td>\n",
       "      <td>코</td>\n",
       "    </tr>\n",
       "    <tr>\n",
       "      <th>3</th>\n",
       "      <td>4</td>\n",
       "      <td>코  시티랩스</td>\n",
       "      <td>전환가액의조정 (제7회차)</td>\n",
       "      <td>시티랩스</td>\n",
       "      <td>2020.08.31</td>\n",
       "      <td>코</td>\n",
       "    </tr>\n",
       "    <tr>\n",
       "      <th>4</th>\n",
       "      <td>5</td>\n",
       "      <td>코  시티랩스</td>\n",
       "      <td>전환가액의조정 (제5회차)</td>\n",
       "      <td>시티랩스</td>\n",
       "      <td>2020.08.25</td>\n",
       "      <td>코</td>\n",
       "    </tr>\n",
       "    <tr>\n",
       "      <th>5</th>\n",
       "      <td>6</td>\n",
       "      <td>코  시티랩스</td>\n",
       "      <td>전환가액의조정 (제4회차)</td>\n",
       "      <td>시티랩스</td>\n",
       "      <td>2019.09.30</td>\n",
       "      <td>코</td>\n",
       "    </tr>\n",
       "    <tr>\n",
       "      <th>6</th>\n",
       "      <td>7</td>\n",
       "      <td>코  시티랩스</td>\n",
       "      <td>전환가액의조정</td>\n",
       "      <td>시티랩스</td>\n",
       "      <td>2019.07.01</td>\n",
       "      <td>코</td>\n",
       "    </tr>\n",
       "  </tbody>\n",
       "</table>\n",
       "</div>"
      ],
      "text/plain": [
       "   번호   공시대상회사            보고서명   제출인        접수일자 비고\n",
       "0   1  코  시티랩스  전환가액의조정 (제8회차)  시티랩스  2021.09.29  코\n",
       "1   2  코  시티랩스  전환가액의조정 (제9회차)  시티랩스  2021.08.31  코\n",
       "2   3  코  시티랩스  전환가액의조정 (제8회차)  시티랩스  2021.06.29  코\n",
       "3   4  코  시티랩스  전환가액의조정 (제7회차)  시티랩스  2020.08.31  코\n",
       "4   5  코  시티랩스  전환가액의조정 (제5회차)  시티랩스  2020.08.25  코\n",
       "5   6  코  시티랩스  전환가액의조정 (제4회차)  시티랩스  2019.09.30  코\n",
       "6   7  코  시티랩스         전환가액의조정  시티랩스  2019.07.01  코"
      ]
     },
     "execution_count": 87,
     "metadata": {},
     "output_type": "execute_result"
    }
   ],
   "source": [
    "df = pd.DataFrame()\n",
    "\n",
    "pages = len(page_bar)\n",
    "for page in range(1,pages+1):\n",
    "    page_bar = driver.find_elements_by_css_selector('#psWrap > div.pageSkip > ul > li > a')\n",
    "    for button in page_bar:\n",
    "        print(button.text)\n",
    "        if button.text == str(page):\n",
    "            button.click()\n",
    "            time.sleep(1)\n",
    "            break\n",
    "    html = driver.page_source\n",
    "    df1 = pd.read_html(html)[0]\n",
    "    df = pd.concat([df,df1])\n",
    "df"
   ]
  },
  {
   "cell_type": "code",
   "execution_count": 88,
   "id": "ac9df58b",
   "metadata": {
    "ExecuteTime": {
     "end_time": "2022-05-14T11:52:41.673640Z",
     "start_time": "2022-05-14T11:52:41.660677Z"
    }
   },
   "outputs": [],
   "source": [
    "df.to_csv('./data/시티랩스_전환가액의조정.csv')"
   ]
  },
  {
   "cell_type": "code",
   "execution_count": null,
   "id": "7156714b",
   "metadata": {},
   "outputs": [],
   "source": []
  },
  {
   "cell_type": "code",
   "execution_count": null,
   "id": "1965d1b7",
   "metadata": {},
   "outputs": [],
   "source": []
  }
 ],
 "metadata": {
  "kernelspec": {
   "display_name": "Python 3 (ipykernel)",
   "language": "python",
   "name": "python3"
  },
  "language_info": {
   "codemirror_mode": {
    "name": "ipython",
    "version": 3
   },
   "file_extension": ".py",
   "mimetype": "text/x-python",
   "name": "python",
   "nbconvert_exporter": "python",
   "pygments_lexer": "ipython3",
   "version": "3.9.7"
  },
  "toc": {
   "base_numbering": 1,
   "nav_menu": {},
   "number_sections": true,
   "sideBar": true,
   "skip_h1_title": false,
   "title_cell": "Table of Contents",
   "title_sidebar": "Contents",
   "toc_cell": false,
   "toc_position": {},
   "toc_section_display": true,
   "toc_window_display": false
  },
  "varInspector": {
   "cols": {
    "lenName": 16,
    "lenType": 16,
    "lenVar": 40
   },
   "kernels_config": {
    "python": {
     "delete_cmd_postfix": "",
     "delete_cmd_prefix": "del ",
     "library": "var_list.py",
     "varRefreshCmd": "print(var_dic_list())"
    },
    "r": {
     "delete_cmd_postfix": ") ",
     "delete_cmd_prefix": "rm(",
     "library": "var_list.r",
     "varRefreshCmd": "cat(var_dic_list()) "
    }
   },
   "types_to_exclude": [
    "module",
    "function",
    "builtin_function_or_method",
    "instance",
    "_Feature"
   ],
   "window_display": false
  }
 },
 "nbformat": 4,
 "nbformat_minor": 5
}
