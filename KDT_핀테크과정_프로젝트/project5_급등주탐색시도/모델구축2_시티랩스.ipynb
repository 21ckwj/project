{
 "cells": [
  {
   "cell_type": "code",
   "execution_count": 53,
   "id": "fe2731f0",
   "metadata": {
    "ExecuteTime": {
     "end_time": "2022-05-15T15:05:57.424533Z",
     "start_time": "2022-05-15T15:05:57.397393Z"
    }
   },
   "outputs": [],
   "source": [
    "import pandas as pd\n",
    "import numpy as np\n",
    "import matplotlib.pyplot as plt\n",
    "import seaborn as sns"
   ]
  },
  {
   "cell_type": "code",
   "execution_count": 54,
   "id": "163b2bac",
   "metadata": {
    "ExecuteTime": {
     "end_time": "2022-05-15T15:06:51.780580Z",
     "start_time": "2022-05-15T15:06:51.768611Z"
    }
   },
   "outputs": [],
   "source": [
    "from datetime import timedelta"
   ]
  },
  {
   "cell_type": "code",
   "execution_count": 55,
   "id": "5e847187",
   "metadata": {
    "ExecuteTime": {
     "end_time": "2022-05-15T15:07:46.085931Z",
     "start_time": "2022-05-15T15:07:46.072944Z"
    }
   },
   "outputs": [],
   "source": [
    "import tensorflow as tf\n",
    "import keras\n",
    "from tensorflow.keras.models import Sequential\n",
    "from tensorflow.keras.layers import Dense, LSTM, Conv1D"
   ]
  },
  {
   "cell_type": "code",
   "execution_count": 56,
   "id": "e8975d56",
   "metadata": {
    "ExecuteTime": {
     "end_time": "2022-05-15T15:08:40.705983Z",
     "start_time": "2022-05-15T15:08:40.645057Z"
    }
   },
   "outputs": [
    {
     "data": {
      "text/html": [
       "<div>\n",
       "<style scoped>\n",
       "    .dataframe tbody tr th:only-of-type {\n",
       "        vertical-align: middle;\n",
       "    }\n",
       "\n",
       "    .dataframe tbody tr th {\n",
       "        vertical-align: top;\n",
       "    }\n",
       "\n",
       "    .dataframe thead th {\n",
       "        text-align: right;\n",
       "    }\n",
       "</style>\n",
       "<table border=\"1\" class=\"dataframe\">\n",
       "  <thead>\n",
       "    <tr style=\"text-align: right;\">\n",
       "      <th></th>\n",
       "      <th>일자</th>\n",
       "      <th>종가</th>\n",
       "      <th>등락률</th>\n",
       "      <th>거래대금</th>\n",
       "      <th>매출액(억원)</th>\n",
       "      <th>영업이익(억원)</th>\n",
       "      <th>당기순이익(억원)</th>\n",
       "      <th>지배주주순이익(억원)</th>\n",
       "      <th>자산총계(억원)</th>\n",
       "      <th>부채총계(억원)</th>\n",
       "      <th>...</th>\n",
       "      <th>EPS(원)</th>\n",
       "      <th>BPS(원)</th>\n",
       "      <th>PBR(배)</th>\n",
       "      <th>고가-종가</th>\n",
       "      <th>고가-시가</th>\n",
       "      <th>고가-저가</th>\n",
       "      <th>종가-시가</th>\n",
       "      <th>종가-저가</th>\n",
       "      <th>시가-저가</th>\n",
       "      <th>전환사채전환총액</th>\n",
       "    </tr>\n",
       "  </thead>\n",
       "  <tbody>\n",
       "    <tr>\n",
       "      <th>1</th>\n",
       "      <td>2016-01-05</td>\n",
       "      <td>3020</td>\n",
       "      <td>0.00</td>\n",
       "      <td>-0.452066</td>\n",
       "      <td>-0.229885</td>\n",
       "      <td>0.666667</td>\n",
       "      <td>4.5</td>\n",
       "      <td>4.5</td>\n",
       "      <td>-0.022624</td>\n",
       "      <td>-0.283582</td>\n",
       "      <td>...</td>\n",
       "      <td>3.357143</td>\n",
       "      <td>0.00627</td>\n",
       "      <td>1.88</td>\n",
       "      <td>-0.913043</td>\n",
       "      <td>-0.176471</td>\n",
       "      <td>-0.200000</td>\n",
       "      <td>-3.000000</td>\n",
       "      <td>8.000000</td>\n",
       "      <td>-0.250000</td>\n",
       "      <td>-0.8</td>\n",
       "    </tr>\n",
       "    <tr>\n",
       "      <th>2</th>\n",
       "      <td>2016-01-06</td>\n",
       "      <td>2895</td>\n",
       "      <td>-4.14</td>\n",
       "      <td>0.292444</td>\n",
       "      <td>-0.229885</td>\n",
       "      <td>0.666667</td>\n",
       "      <td>4.5</td>\n",
       "      <td>4.5</td>\n",
       "      <td>-0.022624</td>\n",
       "      <td>-0.283582</td>\n",
       "      <td>...</td>\n",
       "      <td>3.357143</td>\n",
       "      <td>0.00627</td>\n",
       "      <td>1.88</td>\n",
       "      <td>16.000000</td>\n",
       "      <td>-0.071429</td>\n",
       "      <td>1.250000</td>\n",
       "      <td>-2.750000</td>\n",
       "      <td>-0.388889</td>\n",
       "      <td>4.333333</td>\n",
       "      <td>-0.8</td>\n",
       "    </tr>\n",
       "    <tr>\n",
       "      <th>3</th>\n",
       "      <td>2016-01-07</td>\n",
       "      <td>2945</td>\n",
       "      <td>1.73</td>\n",
       "      <td>0.843234</td>\n",
       "      <td>-0.229885</td>\n",
       "      <td>0.666667</td>\n",
       "      <td>4.5</td>\n",
       "      <td>4.5</td>\n",
       "      <td>-0.022624</td>\n",
       "      <td>-0.283582</td>\n",
       "      <td>...</td>\n",
       "      <td>3.357143</td>\n",
       "      <td>0.00627</td>\n",
       "      <td>1.88</td>\n",
       "      <td>-0.088235</td>\n",
       "      <td>2.615385</td>\n",
       "      <td>0.155556</td>\n",
       "      <td>-1.761905</td>\n",
       "      <td>0.909091</td>\n",
       "      <td>-0.843750</td>\n",
       "      <td>-0.8</td>\n",
       "    </tr>\n",
       "    <tr>\n",
       "      <th>4</th>\n",
       "      <td>2016-01-08</td>\n",
       "      <td>2920</td>\n",
       "      <td>-0.85</td>\n",
       "      <td>-0.546023</td>\n",
       "      <td>-0.229885</td>\n",
       "      <td>0.666667</td>\n",
       "      <td>4.5</td>\n",
       "      <td>4.5</td>\n",
       "      <td>-0.022624</td>\n",
       "      <td>-0.283582</td>\n",
       "      <td>...</td>\n",
       "      <td>3.357143</td>\n",
       "      <td>0.00627</td>\n",
       "      <td>1.88</td>\n",
       "      <td>-0.870968</td>\n",
       "      <td>-0.829787</td>\n",
       "      <td>-0.288462</td>\n",
       "      <td>-0.750000</td>\n",
       "      <td>0.571429</td>\n",
       "      <td>4.800000</td>\n",
       "      <td>-0.8</td>\n",
       "    </tr>\n",
       "    <tr>\n",
       "      <th>5</th>\n",
       "      <td>2016-01-11</td>\n",
       "      <td>2810</td>\n",
       "      <td>-3.77</td>\n",
       "      <td>-0.349444</td>\n",
       "      <td>-0.229885</td>\n",
       "      <td>0.666667</td>\n",
       "      <td>4.5</td>\n",
       "      <td>4.5</td>\n",
       "      <td>-0.022624</td>\n",
       "      <td>-0.283582</td>\n",
       "      <td>...</td>\n",
       "      <td>3.357143</td>\n",
       "      <td>0.00627</td>\n",
       "      <td>1.88</td>\n",
       "      <td>5.250000</td>\n",
       "      <td>-0.375000</td>\n",
       "      <td>-0.270270</td>\n",
       "      <td>-6.000000</td>\n",
       "      <td>-0.939394</td>\n",
       "      <td>-0.241379</td>\n",
       "      <td>-0.8</td>\n",
       "    </tr>\n",
       "  </tbody>\n",
       "</table>\n",
       "<p>5 rows × 27 columns</p>\n",
       "</div>"
      ],
      "text/plain": [
       "           일자    종가   등락률      거래대금   매출액(억원)  영업이익(억원)  당기순이익(억원)  \\\n",
       "1  2016-01-05  3020  0.00 -0.452066 -0.229885  0.666667        4.5   \n",
       "2  2016-01-06  2895 -4.14  0.292444 -0.229885  0.666667        4.5   \n",
       "3  2016-01-07  2945  1.73  0.843234 -0.229885  0.666667        4.5   \n",
       "4  2016-01-08  2920 -0.85 -0.546023 -0.229885  0.666667        4.5   \n",
       "5  2016-01-11  2810 -3.77 -0.349444 -0.229885  0.666667        4.5   \n",
       "\n",
       "   지배주주순이익(억원)  자산총계(억원)  부채총계(억원)  ...    EPS(원)   BPS(원)  PBR(배)      고가-종가  \\\n",
       "1          4.5 -0.022624 -0.283582  ...  3.357143  0.00627    1.88  -0.913043   \n",
       "2          4.5 -0.022624 -0.283582  ...  3.357143  0.00627    1.88  16.000000   \n",
       "3          4.5 -0.022624 -0.283582  ...  3.357143  0.00627    1.88  -0.088235   \n",
       "4          4.5 -0.022624 -0.283582  ...  3.357143  0.00627    1.88  -0.870968   \n",
       "5          4.5 -0.022624 -0.283582  ...  3.357143  0.00627    1.88   5.250000   \n",
       "\n",
       "      고가-시가     고가-저가     종가-시가     종가-저가     시가-저가  전환사채전환총액  \n",
       "1 -0.176471 -0.200000 -3.000000  8.000000 -0.250000      -0.8  \n",
       "2 -0.071429  1.250000 -2.750000 -0.388889  4.333333      -0.8  \n",
       "3  2.615385  0.155556 -1.761905  0.909091 -0.843750      -0.8  \n",
       "4 -0.829787 -0.288462 -0.750000  0.571429  4.800000      -0.8  \n",
       "5 -0.375000 -0.270270 -6.000000 -0.939394 -0.241379      -0.8  \n",
       "\n",
       "[5 rows x 27 columns]"
      ]
     },
     "execution_count": 56,
     "metadata": {},
     "output_type": "execute_result"
    }
   ],
   "source": [
    "df_ct = pd.read_csv('./data/시티랩스_모델데이터1.csv',index_col=0)\n",
    "df_ct.head()"
   ]
  },
  {
   "cell_type": "code",
   "execution_count": 57,
   "id": "3d912274",
   "metadata": {
    "ExecuteTime": {
     "end_time": "2022-05-15T15:09:35.652039Z",
     "start_time": "2022-05-15T15:09:35.637330Z"
    }
   },
   "outputs": [
    {
     "data": {
      "text/plain": [
       "Index(['일자', '종가', '등락률', '거래대금', '매출액(억원)', '영업이익(억원)', '당기순이익(억원)',\n",
       "       '지배주주순이익(억원)', '자산총계(억원)', '부채총계(억원)', '자본총계(억원)', '자본금(억원)', '부채비율(%)',\n",
       "       '영업이익률(%)', '지배주주순이익률(%)', 'ROA(%)', 'ROE(%)', 'EPS(원)', 'BPS(원)',\n",
       "       'PBR(배)', '고가-종가', '고가-시가', '고가-저가', '종가-시가', '종가-저가', '시가-저가',\n",
       "       '전환사채전환총액'],\n",
       "      dtype='object')"
      ]
     },
     "execution_count": 57,
     "metadata": {},
     "output_type": "execute_result"
    }
   ],
   "source": [
    " df_ct.columns"
   ]
  },
  {
   "cell_type": "code",
   "execution_count": 58,
   "id": "9527e9e3",
   "metadata": {
    "ExecuteTime": {
     "end_time": "2022-05-15T15:10:30.483462Z",
     "start_time": "2022-05-15T15:10:30.468621Z"
    }
   },
   "outputs": [],
   "source": [
    "df_ct1 = df_ct[['등락률', '거래대금', '부채비율(%)','영업이익률(%)', '지배주주순이익률(%)', 'ROA(%)',\n",
    "                'ROE(%)','PBR(배)', '고가-종가', '고가-시가', '고가-저가', '종가-시가', '종가-저가', '시가-저가','전환사채전환총액']]"
   ]
  },
  {
   "cell_type": "code",
   "execution_count": 59,
   "id": "b62cb899",
   "metadata": {
    "ExecuteTime": {
     "end_time": "2022-05-15T15:11:25.119870Z",
     "start_time": "2022-05-15T15:11:25.103942Z"
    }
   },
   "outputs": [
    {
     "data": {
      "text/html": [
       "<div>\n",
       "<style scoped>\n",
       "    .dataframe tbody tr th:only-of-type {\n",
       "        vertical-align: middle;\n",
       "    }\n",
       "\n",
       "    .dataframe tbody tr th {\n",
       "        vertical-align: top;\n",
       "    }\n",
       "\n",
       "    .dataframe thead th {\n",
       "        text-align: right;\n",
       "    }\n",
       "</style>\n",
       "<table border=\"1\" class=\"dataframe\">\n",
       "  <thead>\n",
       "    <tr style=\"text-align: right;\">\n",
       "      <th></th>\n",
       "      <th>등락률</th>\n",
       "      <th>거래대금</th>\n",
       "      <th>부채비율(%)</th>\n",
       "      <th>영업이익률(%)</th>\n",
       "      <th>지배주주순이익률(%)</th>\n",
       "      <th>ROA(%)</th>\n",
       "      <th>ROE(%)</th>\n",
       "      <th>PBR(배)</th>\n",
       "      <th>고가-종가</th>\n",
       "      <th>고가-시가</th>\n",
       "      <th>고가-저가</th>\n",
       "      <th>종가-시가</th>\n",
       "      <th>종가-저가</th>\n",
       "      <th>시가-저가</th>\n",
       "      <th>전환사채전환총액</th>\n",
       "    </tr>\n",
       "  </thead>\n",
       "  <tbody>\n",
       "    <tr>\n",
       "      <th>1</th>\n",
       "      <td>0.00</td>\n",
       "      <td>-0.452066</td>\n",
       "      <td>83.63</td>\n",
       "      <td>-3.57</td>\n",
       "      <td>-2.51</td>\n",
       "      <td>-2.0</td>\n",
       "      <td>-3.59</td>\n",
       "      <td>1.88</td>\n",
       "      <td>-0.913043</td>\n",
       "      <td>-0.176471</td>\n",
       "      <td>-0.200000</td>\n",
       "      <td>-3.000000</td>\n",
       "      <td>8.000000</td>\n",
       "      <td>-0.250000</td>\n",
       "      <td>-0.8</td>\n",
       "    </tr>\n",
       "    <tr>\n",
       "      <th>2</th>\n",
       "      <td>-4.14</td>\n",
       "      <td>0.292444</td>\n",
       "      <td>83.63</td>\n",
       "      <td>-3.57</td>\n",
       "      <td>-2.51</td>\n",
       "      <td>-2.0</td>\n",
       "      <td>-3.59</td>\n",
       "      <td>1.88</td>\n",
       "      <td>16.000000</td>\n",
       "      <td>-0.071429</td>\n",
       "      <td>1.250000</td>\n",
       "      <td>-2.750000</td>\n",
       "      <td>-0.388889</td>\n",
       "      <td>4.333333</td>\n",
       "      <td>-0.8</td>\n",
       "    </tr>\n",
       "    <tr>\n",
       "      <th>3</th>\n",
       "      <td>1.73</td>\n",
       "      <td>0.843234</td>\n",
       "      <td>83.63</td>\n",
       "      <td>-3.57</td>\n",
       "      <td>-2.51</td>\n",
       "      <td>-2.0</td>\n",
       "      <td>-3.59</td>\n",
       "      <td>1.88</td>\n",
       "      <td>-0.088235</td>\n",
       "      <td>2.615385</td>\n",
       "      <td>0.155556</td>\n",
       "      <td>-1.761905</td>\n",
       "      <td>0.909091</td>\n",
       "      <td>-0.843750</td>\n",
       "      <td>-0.8</td>\n",
       "    </tr>\n",
       "  </tbody>\n",
       "</table>\n",
       "</div>"
      ],
      "text/plain": [
       "    등락률      거래대금  부채비율(%)  영업이익률(%)  지배주주순이익률(%)  ROA(%)  ROE(%)  PBR(배)  \\\n",
       "1  0.00 -0.452066    83.63     -3.57        -2.51    -2.0   -3.59    1.88   \n",
       "2 -4.14  0.292444    83.63     -3.57        -2.51    -2.0   -3.59    1.88   \n",
       "3  1.73  0.843234    83.63     -3.57        -2.51    -2.0   -3.59    1.88   \n",
       "\n",
       "       고가-종가     고가-시가     고가-저가     종가-시가     종가-저가     시가-저가  전환사채전환총액  \n",
       "1  -0.913043 -0.176471 -0.200000 -3.000000  8.000000 -0.250000      -0.8  \n",
       "2  16.000000 -0.071429  1.250000 -2.750000 -0.388889  4.333333      -0.8  \n",
       "3  -0.088235  2.615385  0.155556 -1.761905  0.909091 -0.843750      -0.8  "
      ]
     },
     "execution_count": 59,
     "metadata": {},
     "output_type": "execute_result"
    }
   ],
   "source": [
    "df_ct1.head(3)"
   ]
  },
  {
   "cell_type": "code",
   "execution_count": 60,
   "id": "8fa0e552",
   "metadata": {
    "ExecuteTime": {
     "end_time": "2022-05-15T15:12:19.817573Z",
     "start_time": "2022-05-15T15:12:19.803610Z"
    }
   },
   "outputs": [
    {
     "name": "stdout",
     "output_type": "stream",
     "text": [
      "없음\n",
      "1\n",
      "없음\n",
      "없음\n",
      "없음\n",
      "없음\n",
      "없음\n",
      "없음\n",
      "없음\n",
      "없음\n",
      "없음\n",
      "없음\n",
      "없음\n",
      "없음\n",
      "없음\n"
     ]
    }
   ],
   "source": [
    "for i in range(len(df_ct1.columns)):\n",
    "    \n",
    "    if np.inf in df_ct1.iloc[:,i].unique():\n",
    "        print(i)  \n",
    "        \n",
    "    else:\n",
    "        print('없음')"
   ]
  },
  {
   "cell_type": "code",
   "execution_count": 61,
   "id": "9f81c013",
   "metadata": {
    "ExecuteTime": {
     "end_time": "2022-05-15T15:13:14.648264Z",
     "start_time": "2022-05-15T15:13:14.619351Z"
    }
   },
   "outputs": [
    {
     "data": {
      "text/html": [
       "<div>\n",
       "<style scoped>\n",
       "    .dataframe tbody tr th:only-of-type {\n",
       "        vertical-align: middle;\n",
       "    }\n",
       "\n",
       "    .dataframe tbody tr th {\n",
       "        vertical-align: top;\n",
       "    }\n",
       "\n",
       "    .dataframe thead th {\n",
       "        text-align: right;\n",
       "    }\n",
       "</style>\n",
       "<table border=\"1\" class=\"dataframe\">\n",
       "  <thead>\n",
       "    <tr style=\"text-align: right;\">\n",
       "      <th></th>\n",
       "      <th>등락률</th>\n",
       "      <th>거래대금</th>\n",
       "      <th>부채비율(%)</th>\n",
       "      <th>영업이익률(%)</th>\n",
       "      <th>지배주주순이익률(%)</th>\n",
       "      <th>ROA(%)</th>\n",
       "      <th>ROE(%)</th>\n",
       "      <th>PBR(배)</th>\n",
       "      <th>고가-종가</th>\n",
       "      <th>고가-시가</th>\n",
       "      <th>고가-저가</th>\n",
       "      <th>종가-시가</th>\n",
       "      <th>종가-저가</th>\n",
       "      <th>시가-저가</th>\n",
       "      <th>전환사채전환총액</th>\n",
       "    </tr>\n",
       "  </thead>\n",
       "  <tbody>\n",
       "    <tr>\n",
       "      <th>275</th>\n",
       "      <td>-11.63</td>\n",
       "      <td>inf</td>\n",
       "      <td>40.97</td>\n",
       "      <td>1.21</td>\n",
       "      <td>3.12</td>\n",
       "      <td>3.40</td>\n",
       "      <td>5.12</td>\n",
       "      <td>1.82</td>\n",
       "      <td>-1.090116</td>\n",
       "      <td>39.0</td>\n",
       "      <td>324.0</td>\n",
       "      <td>-1.078488</td>\n",
       "      <td>-0.995640</td>\n",
       "      <td>284.0</td>\n",
       "      <td>-0.360168</td>\n",
       "    </tr>\n",
       "    <tr>\n",
       "      <th>281</th>\n",
       "      <td>-7.62</td>\n",
       "      <td>inf</td>\n",
       "      <td>40.97</td>\n",
       "      <td>1.21</td>\n",
       "      <td>3.12</td>\n",
       "      <td>3.40</td>\n",
       "      <td>5.12</td>\n",
       "      <td>1.82</td>\n",
       "      <td>-1.068254</td>\n",
       "      <td>99.0</td>\n",
       "      <td>214.0</td>\n",
       "      <td>-1.036508</td>\n",
       "      <td>-0.999683</td>\n",
       "      <td>114.0</td>\n",
       "      <td>-0.360168</td>\n",
       "    </tr>\n",
       "    <tr>\n",
       "      <th>501</th>\n",
       "      <td>-2.35</td>\n",
       "      <td>inf</td>\n",
       "      <td>140.52</td>\n",
       "      <td>-12.65</td>\n",
       "      <td>-12.21</td>\n",
       "      <td>-4.42</td>\n",
       "      <td>-9.40</td>\n",
       "      <td>3.12</td>\n",
       "      <td>-1.239216</td>\n",
       "      <td>359.0</td>\n",
       "      <td>1339.0</td>\n",
       "      <td>-1.168627</td>\n",
       "      <td>-0.976471</td>\n",
       "      <td>979.0</td>\n",
       "      <td>-0.360168</td>\n",
       "    </tr>\n",
       "    <tr>\n",
       "      <th>1100</th>\n",
       "      <td>-8.92</td>\n",
       "      <td>inf</td>\n",
       "      <td>93.59</td>\n",
       "      <td>6.01</td>\n",
       "      <td>-4.47</td>\n",
       "      <td>0.50</td>\n",
       "      <td>-25.01</td>\n",
       "      <td>1.52</td>\n",
       "      <td>-1.069231</td>\n",
       "      <td>22.0</td>\n",
       "      <td>45.0</td>\n",
       "      <td>-1.033846</td>\n",
       "      <td>-0.998462</td>\n",
       "      <td>22.0</td>\n",
       "      <td>-0.540676</td>\n",
       "    </tr>\n",
       "  </tbody>\n",
       "</table>\n",
       "</div>"
      ],
      "text/plain": [
       "        등락률  거래대금  부채비율(%)  영업이익률(%)  지배주주순이익률(%)  ROA(%)  ROE(%)  PBR(배)  \\\n",
       "275  -11.63   inf    40.97      1.21         3.12    3.40    5.12    1.82   \n",
       "281   -7.62   inf    40.97      1.21         3.12    3.40    5.12    1.82   \n",
       "501   -2.35   inf   140.52    -12.65       -12.21   -4.42   -9.40    3.12   \n",
       "1100  -8.92   inf    93.59      6.01        -4.47    0.50  -25.01    1.52   \n",
       "\n",
       "         고가-종가  고가-시가   고가-저가     종가-시가     종가-저가  시가-저가  전환사채전환총액  \n",
       "275  -1.090116   39.0   324.0 -1.078488 -0.995640  284.0 -0.360168  \n",
       "281  -1.068254   99.0   214.0 -1.036508 -0.999683  114.0 -0.360168  \n",
       "501  -1.239216  359.0  1339.0 -1.168627 -0.976471  979.0 -0.360168  \n",
       "1100 -1.069231   22.0    45.0 -1.033846 -0.998462   22.0 -0.540676  "
      ]
     },
     "execution_count": 61,
     "metadata": {},
     "output_type": "execute_result"
    }
   ],
   "source": [
    "df_ct1[df_ct1.거래대금 == np.inf]"
   ]
  },
  {
   "cell_type": "code",
   "execution_count": 62,
   "id": "5c4d5708",
   "metadata": {
    "ExecuteTime": {
     "end_time": "2022-05-15T15:14:09.769217Z",
     "start_time": "2022-05-15T15:14:09.754266Z"
    }
   },
   "outputs": [
    {
     "data": {
      "text/html": [
       "<div>\n",
       "<style scoped>\n",
       "    .dataframe tbody tr th:only-of-type {\n",
       "        vertical-align: middle;\n",
       "    }\n",
       "\n",
       "    .dataframe tbody tr th {\n",
       "        vertical-align: top;\n",
       "    }\n",
       "\n",
       "    .dataframe thead th {\n",
       "        text-align: right;\n",
       "    }\n",
       "</style>\n",
       "<table border=\"1\" class=\"dataframe\">\n",
       "  <thead>\n",
       "    <tr style=\"text-align: right;\">\n",
       "      <th></th>\n",
       "      <th>등락률</th>\n",
       "      <th>거래대금</th>\n",
       "      <th>부채비율(%)</th>\n",
       "      <th>영업이익률(%)</th>\n",
       "      <th>지배주주순이익률(%)</th>\n",
       "      <th>ROA(%)</th>\n",
       "      <th>ROE(%)</th>\n",
       "      <th>PBR(배)</th>\n",
       "      <th>고가-종가</th>\n",
       "      <th>고가-시가</th>\n",
       "      <th>고가-저가</th>\n",
       "      <th>종가-시가</th>\n",
       "      <th>종가-저가</th>\n",
       "      <th>시가-저가</th>\n",
       "      <th>전환사채전환총액</th>\n",
       "    </tr>\n",
       "  </thead>\n",
       "  <tbody>\n",
       "    <tr>\n",
       "      <th>1</th>\n",
       "      <td>0.00</td>\n",
       "      <td>-0.452066</td>\n",
       "      <td>83.63</td>\n",
       "      <td>-3.57</td>\n",
       "      <td>-2.51</td>\n",
       "      <td>-2.0</td>\n",
       "      <td>-3.59</td>\n",
       "      <td>1.88</td>\n",
       "      <td>-0.913043</td>\n",
       "      <td>-0.176471</td>\n",
       "      <td>-0.200000</td>\n",
       "      <td>-3.000000</td>\n",
       "      <td>8.000000</td>\n",
       "      <td>-0.250000</td>\n",
       "      <td>-0.8</td>\n",
       "    </tr>\n",
       "    <tr>\n",
       "      <th>2</th>\n",
       "      <td>-4.14</td>\n",
       "      <td>0.292444</td>\n",
       "      <td>83.63</td>\n",
       "      <td>-3.57</td>\n",
       "      <td>-2.51</td>\n",
       "      <td>-2.0</td>\n",
       "      <td>-3.59</td>\n",
       "      <td>1.88</td>\n",
       "      <td>16.000000</td>\n",
       "      <td>-0.071429</td>\n",
       "      <td>1.250000</td>\n",
       "      <td>-2.750000</td>\n",
       "      <td>-0.388889</td>\n",
       "      <td>4.333333</td>\n",
       "      <td>-0.8</td>\n",
       "    </tr>\n",
       "    <tr>\n",
       "      <th>3</th>\n",
       "      <td>1.73</td>\n",
       "      <td>0.843234</td>\n",
       "      <td>83.63</td>\n",
       "      <td>-3.57</td>\n",
       "      <td>-2.51</td>\n",
       "      <td>-2.0</td>\n",
       "      <td>-3.59</td>\n",
       "      <td>1.88</td>\n",
       "      <td>-0.088235</td>\n",
       "      <td>2.615385</td>\n",
       "      <td>0.155556</td>\n",
       "      <td>-1.761905</td>\n",
       "      <td>0.909091</td>\n",
       "      <td>-0.843750</td>\n",
       "      <td>-0.8</td>\n",
       "    </tr>\n",
       "    <tr>\n",
       "      <th>4</th>\n",
       "      <td>-0.85</td>\n",
       "      <td>-0.546023</td>\n",
       "      <td>83.63</td>\n",
       "      <td>-3.57</td>\n",
       "      <td>-2.51</td>\n",
       "      <td>-2.0</td>\n",
       "      <td>-3.59</td>\n",
       "      <td>1.88</td>\n",
       "      <td>-0.870968</td>\n",
       "      <td>-0.829787</td>\n",
       "      <td>-0.288462</td>\n",
       "      <td>-0.750000</td>\n",
       "      <td>0.571429</td>\n",
       "      <td>4.800000</td>\n",
       "      <td>-0.8</td>\n",
       "    </tr>\n",
       "    <tr>\n",
       "      <th>5</th>\n",
       "      <td>-3.77</td>\n",
       "      <td>-0.349444</td>\n",
       "      <td>83.63</td>\n",
       "      <td>-3.57</td>\n",
       "      <td>-2.51</td>\n",
       "      <td>-2.0</td>\n",
       "      <td>-3.59</td>\n",
       "      <td>1.88</td>\n",
       "      <td>5.250000</td>\n",
       "      <td>-0.375000</td>\n",
       "      <td>-0.270270</td>\n",
       "      <td>-6.000000</td>\n",
       "      <td>-0.939394</td>\n",
       "      <td>-0.241379</td>\n",
       "      <td>-0.8</td>\n",
       "    </tr>\n",
       "  </tbody>\n",
       "</table>\n",
       "</div>"
      ],
      "text/plain": [
       "    등락률      거래대금  부채비율(%)  영업이익률(%)  지배주주순이익률(%)  ROA(%)  ROE(%)  PBR(배)  \\\n",
       "1  0.00 -0.452066    83.63     -3.57        -2.51    -2.0   -3.59    1.88   \n",
       "2 -4.14  0.292444    83.63     -3.57        -2.51    -2.0   -3.59    1.88   \n",
       "3  1.73  0.843234    83.63     -3.57        -2.51    -2.0   -3.59    1.88   \n",
       "4 -0.85 -0.546023    83.63     -3.57        -2.51    -2.0   -3.59    1.88   \n",
       "5 -3.77 -0.349444    83.63     -3.57        -2.51    -2.0   -3.59    1.88   \n",
       "\n",
       "       고가-종가     고가-시가     고가-저가     종가-시가     종가-저가     시가-저가  전환사채전환총액  \n",
       "1  -0.913043 -0.176471 -0.200000 -3.000000  8.000000 -0.250000      -0.8  \n",
       "2  16.000000 -0.071429  1.250000 -2.750000 -0.388889  4.333333      -0.8  \n",
       "3  -0.088235  2.615385  0.155556 -1.761905  0.909091 -0.843750      -0.8  \n",
       "4  -0.870968 -0.829787 -0.288462 -0.750000  0.571429  4.800000      -0.8  \n",
       "5   5.250000 -0.375000 -0.270270 -6.000000 -0.939394 -0.241379      -0.8  "
      ]
     },
     "execution_count": 62,
     "metadata": {},
     "output_type": "execute_result"
    }
   ],
   "source": [
    "df_ct2 = df_ct1[df_ct1.거래대금 != np.inf]\n",
    "df_ct2.head()"
   ]
  },
  {
   "cell_type": "code",
   "execution_count": 63,
   "id": "b5544990",
   "metadata": {
    "ExecuteTime": {
     "end_time": "2022-05-15T15:15:04.534077Z",
     "start_time": "2022-05-15T15:15:04.518354Z"
    }
   },
   "outputs": [
    {
     "data": {
      "text/plain": [
       "(1470, 15)"
      ]
     },
     "execution_count": 63,
     "metadata": {},
     "output_type": "execute_result"
    }
   ],
   "source": [
    "df_ct2.shape"
   ]
  },
  {
   "cell_type": "code",
   "execution_count": null,
   "id": "8f18983b",
   "metadata": {},
   "outputs": [],
   "source": []
  },
  {
   "cell_type": "markdown",
   "id": "935e8930",
   "metadata": {},
   "source": [
    "## model1: 30일 10일 "
   ]
  },
  {
   "cell_type": "code",
   "execution_count": 86,
   "id": "b86508ea",
   "metadata": {
    "ExecuteTime": {
     "end_time": "2022-05-15T15:57:37.238342Z",
     "start_time": "2022-05-15T15:57:33.071684Z"
    }
   },
   "outputs": [],
   "source": [
    "window_size = 30\n",
    "target_period = 10\n",
    "\n",
    "X = []\n",
    "Y = []\n",
    "\n",
    "\n",
    "for i in range(len(df_ct2) - window_size-target_period): \n",
    "    \n",
    "    # 피쳐값 \n",
    "    X.append([df_ct2.iloc[i+j,1:] for j in range(window_size)]) # j= 0부터 29 -> 30일치 데이터\n",
    "\n",
    "    # 등락률 \n",
    "    Y.append([df_ct2.iloc[window_size+i+j,0] for j in range(target_period)])\n",
    "    \n",
    "Y1 = []\n",
    "for y in Y:\n",
    "    toggle = 0\n",
    "    for i in y:\n",
    "\n",
    "        if i >= 7:\n",
    "            Y1.append(1)\n",
    "            toggle = 1\n",
    "            break\n",
    "    if toggle != 1:\n",
    "        Y1.append(0)\n"
   ]
  },
  {
   "cell_type": "code",
   "execution_count": 87,
   "id": "2510ad19",
   "metadata": {
    "ExecuteTime": {
     "end_time": "2022-05-15T15:58:09.711266Z",
     "start_time": "2022-05-15T15:58:09.560289Z"
    }
   },
   "outputs": [],
   "source": [
    "X_ary = np.array(X).astype(float)\n",
    "Y1_ary = np.array(Y1).astype(float)"
   ]
  },
  {
   "cell_type": "code",
   "execution_count": 88,
   "id": "4832d630",
   "metadata": {
    "ExecuteTime": {
     "end_time": "2022-05-15T15:58:42.303828Z",
     "start_time": "2022-05-15T15:58:42.291876Z"
    }
   },
   "outputs": [
    {
     "data": {
      "text/plain": [
       "(1100, 20, 14)"
      ]
     },
     "execution_count": 88,
     "metadata": {},
     "output_type": "execute_result"
    }
   ],
   "source": [
    "x_train.shape"
   ]
  },
  {
   "cell_type": "code",
   "execution_count": 89,
   "id": "947a478e",
   "metadata": {
    "ExecuteTime": {
     "end_time": "2022-05-15T15:59:15.064972Z",
     "start_time": "2022-05-15T15:59:14.925345Z"
    }
   },
   "outputs": [],
   "source": [
    "X_ary = np.array(X).astype(float)\n",
    "Y1_ary = np.array(Y1).astype(float)\n",
    "train_test_split = 1100\n",
    "\n",
    "x_train = X_ary[:1100]\n",
    "y_train = Y1_ary[:1100]\n",
    "\n",
    "x_test = X_ary[1100:]\n",
    "y_test = Y1_ary[1100:]"
   ]
  },
  {
   "cell_type": "code",
   "execution_count": 90,
   "id": "78f97e33",
   "metadata": {
    "ExecuteTime": {
     "end_time": "2022-05-15T15:59:48.082690Z",
     "start_time": "2022-05-15T15:59:47.885000Z"
    }
   },
   "outputs": [
    {
     "name": "stdout",
     "output_type": "stream",
     "text": [
      "Model: \"sequential_7\"\n",
      "_________________________________________________________________\n",
      " Layer (type)                Output Shape              Param #   \n",
      "=================================================================\n",
      " lstm_7 (LSTM)               (None, 100)               46000     \n",
      "                                                                 \n",
      " dense_7 (Dense)             (None, 1)                 101       \n",
      "                                                                 \n",
      "=================================================================\n",
      "Total params: 46,101\n",
      "Trainable params: 46,101\n",
      "Non-trainable params: 0\n",
      "_________________________________________________________________\n"
     ]
    }
   ],
   "source": [
    "with tf.device('/GPU:0'):\n",
    "    model = Sequential()\n",
    "    model.add(LSTM(100, input_shape=(30,14)))\n",
    "    model.add(Dense(1,activation='sigmoid'))\n",
    "    model.summary()"
   ]
  },
  {
   "cell_type": "code",
   "execution_count": 91,
   "id": "3000b25f",
   "metadata": {
    "ExecuteTime": {
     "end_time": "2022-05-15T16:00:20.975275Z",
     "start_time": "2022-05-15T16:00:20.959704Z"
    }
   },
   "outputs": [],
   "source": [
    "# learning rate 설정\n",
    "Adam = tf.keras.optimizers.Adam(learning_rate=0.0001)"
   ]
  },
  {
   "cell_type": "code",
   "execution_count": 92,
   "id": "2a532a86",
   "metadata": {
    "ExecuteTime": {
     "end_time": "2022-05-15T16:00:53.590418Z",
     "start_time": "2022-05-15T16:00:53.559976Z"
    }
   },
   "outputs": [],
   "source": [
    "model.compile(loss='binary_crossentropy', metrics ='accuracy', optimizer=Adam)"
   ]
  },
  {
   "cell_type": "code",
   "execution_count": 93,
   "id": "d46f88b0",
   "metadata": {
    "ExecuteTime": {
     "end_time": "2022-05-15T16:01:56.282682Z",
     "start_time": "2022-05-15T16:01:26.183842Z"
    },
    "scrolled": true
   },
   "outputs": [
    {
     "name": "stdout",
     "output_type": "stream",
     "text": [
      "Epoch 1/50\n",
      "110/110 [==============================] - 2s 8ms/step - loss: 0.6339 - accuracy: 0.6600 - val_loss: 0.6247 - val_accuracy: 0.7091\n",
      "Epoch 2/50\n",
      "110/110 [==============================] - 1s 6ms/step - loss: 0.5769 - accuracy: 0.7091 - val_loss: 0.6020 - val_accuracy: 0.7212\n",
      "Epoch 3/50\n",
      "110/110 [==============================] - 1s 5ms/step - loss: 0.5502 - accuracy: 0.7164 - val_loss: 0.5892 - val_accuracy: 0.7212\n",
      "Epoch 4/50\n",
      "110/110 [==============================] - 1s 6ms/step - loss: 0.5301 - accuracy: 0.7282 - val_loss: 0.5787 - val_accuracy: 0.7273\n",
      "Epoch 5/50\n",
      "110/110 [==============================] - 1s 5ms/step - loss: 0.5115 - accuracy: 0.7473 - val_loss: 0.5710 - val_accuracy: 0.7273\n",
      "Epoch 6/50\n",
      "110/110 [==============================] - 1s 5ms/step - loss: 0.4943 - accuracy: 0.7564 - val_loss: 0.5662 - val_accuracy: 0.7273\n",
      "Epoch 7/50\n",
      "110/110 [==============================] - 1s 5ms/step - loss: 0.4788 - accuracy: 0.7627 - val_loss: 0.5632 - val_accuracy: 0.7273\n",
      "Epoch 8/50\n",
      "110/110 [==============================] - 1s 5ms/step - loss: 0.4615 - accuracy: 0.7691 - val_loss: 0.5590 - val_accuracy: 0.7303\n",
      "Epoch 9/50\n",
      "110/110 [==============================] - 1s 5ms/step - loss: 0.4429 - accuracy: 0.7800 - val_loss: 0.5528 - val_accuracy: 0.7242\n",
      "Epoch 10/50\n",
      "110/110 [==============================] - 1s 5ms/step - loss: 0.4259 - accuracy: 0.7864 - val_loss: 0.5496 - val_accuracy: 0.7394\n",
      "Epoch 11/50\n",
      "110/110 [==============================] - 1s 5ms/step - loss: 0.4094 - accuracy: 0.7964 - val_loss: 0.5449 - val_accuracy: 0.7394\n",
      "Epoch 12/50\n",
      "110/110 [==============================] - 1s 5ms/step - loss: 0.3918 - accuracy: 0.8091 - val_loss: 0.5376 - val_accuracy: 0.7394\n",
      "Epoch 13/50\n",
      "110/110 [==============================] - 1s 5ms/step - loss: 0.3738 - accuracy: 0.8136 - val_loss: 0.5409 - val_accuracy: 0.7424\n",
      "Epoch 14/50\n",
      "110/110 [==============================] - 1s 5ms/step - loss: 0.3564 - accuracy: 0.8336 - val_loss: 0.5325 - val_accuracy: 0.7394\n",
      "Epoch 15/50\n",
      "110/110 [==============================] - 1s 5ms/step - loss: 0.3426 - accuracy: 0.8491 - val_loss: 0.5295 - val_accuracy: 0.7485\n",
      "Epoch 16/50\n",
      "110/110 [==============================] - 1s 5ms/step - loss: 0.3265 - accuracy: 0.8527 - val_loss: 0.5268 - val_accuracy: 0.7455\n",
      "Epoch 17/50\n",
      "110/110 [==============================] - 1s 5ms/step - loss: 0.3106 - accuracy: 0.8745 - val_loss: 0.5245 - val_accuracy: 0.7455\n",
      "Epoch 18/50\n",
      "110/110 [==============================] - 1s 5ms/step - loss: 0.2969 - accuracy: 0.8891 - val_loss: 0.5249 - val_accuracy: 0.7576\n",
      "Epoch 19/50\n",
      "110/110 [==============================] - 1s 5ms/step - loss: 0.2826 - accuracy: 0.9018 - val_loss: 0.5225 - val_accuracy: 0.7606\n",
      "Epoch 20/50\n",
      "110/110 [==============================] - 1s 5ms/step - loss: 0.2696 - accuracy: 0.9082 - val_loss: 0.5177 - val_accuracy: 0.7606\n",
      "Epoch 21/50\n",
      "110/110 [==============================] - 1s 5ms/step - loss: 0.2591 - accuracy: 0.9136 - val_loss: 0.5273 - val_accuracy: 0.7485\n",
      "Epoch 22/50\n",
      "110/110 [==============================] - 1s 5ms/step - loss: 0.2489 - accuracy: 0.9200 - val_loss: 0.5243 - val_accuracy: 0.7576\n",
      "Epoch 23/50\n",
      "110/110 [==============================] - 1s 5ms/step - loss: 0.2379 - accuracy: 0.9318 - val_loss: 0.5248 - val_accuracy: 0.7576\n",
      "Epoch 24/50\n",
      "110/110 [==============================] - 1s 5ms/step - loss: 0.2291 - accuracy: 0.9255 - val_loss: 0.5315 - val_accuracy: 0.7394\n",
      "Epoch 25/50\n",
      "110/110 [==============================] - 1s 5ms/step - loss: 0.2216 - accuracy: 0.9300 - val_loss: 0.5320 - val_accuracy: 0.7485\n",
      "Epoch 26/50\n",
      "110/110 [==============================] - 1s 5ms/step - loss: 0.2104 - accuracy: 0.9291 - val_loss: 0.5310 - val_accuracy: 0.7455\n",
      "Epoch 27/50\n",
      "110/110 [==============================] - 1s 5ms/step - loss: 0.2019 - accuracy: 0.9409 - val_loss: 0.5340 - val_accuracy: 0.7455\n",
      "Epoch 28/50\n",
      "110/110 [==============================] - 1s 5ms/step - loss: 0.1931 - accuracy: 0.9418 - val_loss: 0.5396 - val_accuracy: 0.7576\n",
      "Epoch 29/50\n",
      "110/110 [==============================] - 1s 5ms/step - loss: 0.1895 - accuracy: 0.9464 - val_loss: 0.5478 - val_accuracy: 0.7424\n",
      "Epoch 30/50\n",
      "110/110 [==============================] - 1s 5ms/step - loss: 0.1829 - accuracy: 0.9509 - val_loss: 0.5551 - val_accuracy: 0.7424\n",
      "Epoch 31/50\n",
      "110/110 [==============================] - 1s 5ms/step - loss: 0.1751 - accuracy: 0.9509 - val_loss: 0.5587 - val_accuracy: 0.7364\n",
      "Epoch 32/50\n",
      "110/110 [==============================] - 1s 5ms/step - loss: 0.1661 - accuracy: 0.9536 - val_loss: 0.5616 - val_accuracy: 0.7394\n",
      "Epoch 33/50\n",
      "110/110 [==============================] - 1s 5ms/step - loss: 0.1583 - accuracy: 0.9564 - val_loss: 0.5723 - val_accuracy: 0.7273\n",
      "Epoch 34/50\n",
      "110/110 [==============================] - 1s 5ms/step - loss: 0.1575 - accuracy: 0.9518 - val_loss: 0.5765 - val_accuracy: 0.7394\n",
      "Epoch 35/50\n",
      "110/110 [==============================] - 1s 5ms/step - loss: 0.1525 - accuracy: 0.9627 - val_loss: 0.6018 - val_accuracy: 0.7424\n",
      "Epoch 36/50\n",
      "110/110 [==============================] - 1s 5ms/step - loss: 0.1436 - accuracy: 0.9618 - val_loss: 0.5841 - val_accuracy: 0.7485\n",
      "Epoch 37/50\n",
      "110/110 [==============================] - 1s 5ms/step - loss: 0.1392 - accuracy: 0.9673 - val_loss: 0.5988 - val_accuracy: 0.7455\n",
      "Epoch 38/50\n",
      "110/110 [==============================] - 1s 5ms/step - loss: 0.1345 - accuracy: 0.9627 - val_loss: 0.6038 - val_accuracy: 0.7515\n",
      "Epoch 39/50\n",
      "110/110 [==============================] - 1s 5ms/step - loss: 0.1331 - accuracy: 0.9655 - val_loss: 0.6260 - val_accuracy: 0.7424\n",
      "Epoch 40/50\n",
      "110/110 [==============================] - 1s 5ms/step - loss: 0.1238 - accuracy: 0.9727 - val_loss: 0.6314 - val_accuracy: 0.7455\n",
      "Epoch 41/50\n",
      "110/110 [==============================] - 1s 5ms/step - loss: 0.1205 - accuracy: 0.9764 - val_loss: 0.6297 - val_accuracy: 0.7364\n",
      "Epoch 42/50\n",
      "110/110 [==============================] - 1s 5ms/step - loss: 0.1207 - accuracy: 0.9673 - val_loss: 0.6545 - val_accuracy: 0.7455\n",
      "Epoch 43/50\n",
      "110/110 [==============================] - 1s 5ms/step - loss: 0.1135 - accuracy: 0.9727 - val_loss: 0.6414 - val_accuracy: 0.7333\n",
      "Epoch 44/50\n",
      "110/110 [==============================] - 1s 5ms/step - loss: 0.1134 - accuracy: 0.9718 - val_loss: 0.6692 - val_accuracy: 0.7455\n",
      "Epoch 45/50\n",
      "110/110 [==============================] - 1s 5ms/step - loss: 0.1032 - accuracy: 0.9782 - val_loss: 0.6614 - val_accuracy: 0.7394\n",
      "Epoch 46/50\n",
      "110/110 [==============================] - 1s 5ms/step - loss: 0.1003 - accuracy: 0.9782 - val_loss: 0.7222 - val_accuracy: 0.7455\n",
      "Epoch 47/50\n",
      "110/110 [==============================] - 1s 5ms/step - loss: 0.1043 - accuracy: 0.9745 - val_loss: 0.7650 - val_accuracy: 0.7455\n",
      "Epoch 48/50\n",
      "110/110 [==============================] - 1s 5ms/step - loss: 0.0972 - accuracy: 0.9764 - val_loss: 0.6965 - val_accuracy: 0.7424\n",
      "Epoch 49/50\n",
      "110/110 [==============================] - 1s 5ms/step - loss: 0.0959 - accuracy: 0.9745 - val_loss: 0.7408 - val_accuracy: 0.7485\n",
      "Epoch 50/50\n",
      "110/110 [==============================] - 1s 5ms/step - loss: 0.0938 - accuracy: 0.9773 - val_loss: 0.7609 - val_accuracy: 0.7485\n"
     ]
    }
   ],
   "source": [
    "hist = model.fit(x_train, y_train, epochs=50, batch_size= 10, validation_data= (x_test,y_test))"
   ]
  },
  {
   "cell_type": "code",
   "execution_count": 94,
   "id": "758b15ed",
   "metadata": {
    "ExecuteTime": {
     "end_time": "2022-05-15T16:02:29.351391Z",
     "start_time": "2022-05-15T16:02:29.259426Z"
    }
   },
   "outputs": [
    {
     "data": {
      "text/plain": [
       "[<matplotlib.lines.Line2D at 0x21fff88baf0>]"
      ]
     },
     "execution_count": 94,
     "metadata": {},
     "output_type": "execute_result"
    },
    {
     "data": {
      "image/png": "[encoded data removed]",
      "text/plain": [
       "<Figure size 432x288 with 1 Axes>"
      ]
     },
     "metadata": {
      "needs_background": "light"
     },
     "output_type": "display_data"
    }
   ],
   "source": [
    "plt.plot(hist.history['loss'])\n",
    "plt.plot(hist.history['val_loss'])"
   ]
  },
  {
   "cell_type": "code",
   "execution_count": 95,
   "id": "afee9d22",
   "metadata": {
    "ExecuteTime": {
     "end_time": "2022-05-15T16:03:02.734348Z",
     "start_time": "2022-05-15T16:03:02.641597Z"
    }
   },
   "outputs": [
    {
     "data": {
      "text/plain": [
       "[<matplotlib.lines.Line2D at 0x2214171fc40>]"
      ]
     },
     "execution_count": 95,
     "metadata": {},
     "output_type": "execute_result"
    },
    {
     "data": {
      "image/png": "[encoded data removed]",
      "text/plain": [
       "<Figure size 432x288 with 1 Axes>"
      ]
     },
     "metadata": {
      "needs_background": "light"
     },
     "output_type": "display_data"
    }
   ],
   "source": [
    "plt.plot(hist.history['accuracy'])\n",
    "plt.plot(hist.history['val_accuracy'])"
   ]
  },
  {
   "cell_type": "code",
   "execution_count": 96,
   "id": "566d2c1c",
   "metadata": {
    "ExecuteTime": {
     "end_time": "2022-05-15T16:03:36.386748Z",
     "start_time": "2022-05-15T16:03:36.032139Z"
    }
   },
   "outputs": [
    {
     "name": "stdout",
     "output_type": "stream",
     "text": [
      "11/11 [==============================] - 0s 3ms/step - loss: 0.7609 - accuracy: 0.7485\n"
     ]
    },
    {
     "data": {
      "text/plain": [
       "[0.7609223127365112, 0.7484848499298096]"
      ]
     },
     "execution_count": 96,
     "metadata": {},
     "output_type": "execute_result"
    }
   ],
   "source": [
    "model.evaluate(x_test,y_test)"
   ]
  },
  {
   "cell_type": "code",
   "execution_count": null,
   "id": "419fa3fd",
   "metadata": {},
   "outputs": [],
   "source": []
  },
  {
   "cell_type": "code",
   "execution_count": null,
   "id": "d96b069d",
   "metadata": {},
   "outputs": [],
   "source": []
  },
  {
   "cell_type": "code",
   "execution_count": 25,
   "id": "3acb4a95",
   "metadata": {
    "ExecuteTime": {
     "end_time": "2022-05-14T13:48:59.874852Z",
     "start_time": "2022-05-14T13:48:59.551271Z"
    }
   },
   "outputs": [
    {
     "data": {
      "text/plain": [
       "340"
      ]
     },
     "execution_count": 25,
     "metadata": {},
     "output_type": "execute_result"
    }
   ],
   "source": [
    "pred = model.predict(x_test)\n",
    "len(pred)"
   ]
  },
  {
   "cell_type": "code",
   "execution_count": 26,
   "id": "9cdf2c9e",
   "metadata": {
    "ExecuteTime": {
     "end_time": "2022-05-14T13:49:33.252223Z",
     "start_time": "2022-05-14T13:49:33.238262Z"
    }
   },
   "outputs": [
    {
     "data": {
      "text/plain": [
       "array([[0.07074302],\n",
       "       [0.05716972],\n",
       "       [0.05653619],\n",
       "       [0.21051925],\n",
       "       [0.22089422],\n",
       "       [0.3055144 ],\n",
       "       [0.43639383],\n",
       "       [0.33585423],\n",
       "       [0.3493175 ],\n",
       "       [0.2683469 ],\n",
       "       [0.39342633],\n",
       "       [0.35436454],\n",
       "       [0.31625697],\n",
       "       [0.27236426],\n",
       "       [0.26417443],\n",
       "       [0.25536698],\n",
       "       [0.27417424],\n",
       "       [0.261223  ],\n",
       "       [0.23732476],\n",
       "       [0.46910927],\n",
       "       [0.31575093],\n",
       "       [0.29762203],\n",
       "       [0.5004267 ],\n",
       "       [0.42605877],\n",
       "       [0.3481179 ],\n",
       "       [0.33690247],\n",
       "       [0.3112758 ],\n",
       "       [0.28546563],\n",
       "       [0.28070602],\n",
       "       [0.22355118],\n",
       "       [0.14140403],\n",
       "       [0.12801506],\n",
       "       [0.3502805 ],\n",
       "       [0.48031437],\n",
       "       [0.477077  ],\n",
       "       [0.6073591 ],\n",
       "       [0.7152999 ],\n",
       "       [0.79735905],\n",
       "       [0.7471494 ],\n",
       "       [0.7932021 ],\n",
       "       [0.8190497 ],\n",
       "       [0.83938926],\n",
       "       [0.8390756 ],\n",
       "       [0.8021671 ],\n",
       "       [0.8282277 ],\n",
       "       [0.84161997],\n",
       "       [0.5887556 ],\n",
       "       [0.62648994],\n",
       "       [0.5583642 ],\n",
       "       [0.48028335],\n",
       "       [0.48887408],\n",
       "       [0.5116155 ],\n",
       "       [0.6102336 ],\n",
       "       [0.72530437],\n",
       "       [0.75729513],\n",
       "       [0.6461447 ],\n",
       "       [0.6710939 ],\n",
       "       [0.72521704],\n",
       "       [0.6854622 ],\n",
       "       [0.75532436],\n",
       "       [0.80201995],\n",
       "       [0.8375663 ],\n",
       "       [0.7957871 ],\n",
       "       [0.831922  ],\n",
       "       [0.8821746 ],\n",
       "       [0.8615266 ],\n",
       "       [0.8786439 ],\n",
       "       [0.877419  ],\n",
       "       [0.86715376],\n",
       "       [0.8739193 ],\n",
       "       [0.8777842 ],\n",
       "       [0.87020093],\n",
       "       [0.8675683 ],\n",
       "       [0.87101513],\n",
       "       [0.87342036],\n",
       "       [0.90191007],\n",
       "       [0.87797827],\n",
       "       [0.8813871 ],\n",
       "       [0.8808947 ],\n",
       "       [0.8917658 ],\n",
       "       [0.7911521 ],\n",
       "       [0.7862298 ],\n",
       "       [0.8082226 ],\n",
       "       [0.803045  ],\n",
       "       [0.79756165],\n",
       "       [0.87268114],\n",
       "       [0.8664471 ],\n",
       "       [0.79340494],\n",
       "       [0.8590457 ],\n",
       "       [0.8757831 ],\n",
       "       [0.9238425 ],\n",
       "       [0.88478357],\n",
       "       [0.8874439 ],\n",
       "       [0.89481795],\n",
       "       [0.8452514 ],\n",
       "       [0.6647904 ],\n",
       "       [0.7114657 ],\n",
       "       [0.50287074],\n",
       "       [0.39617628],\n",
       "       [0.33920065],\n",
       "       [0.2984364 ],\n",
       "       [0.4040096 ],\n",
       "       [0.27412674],\n",
       "       [0.29163516],\n",
       "       [0.11629245],\n",
       "       [0.12893957],\n",
       "       [0.10998879],\n",
       "       [0.12160694],\n",
       "       [0.18385477],\n",
       "       [0.22766098],\n",
       "       [0.22109169],\n",
       "       [0.12464537],\n",
       "       [0.10448775],\n",
       "       [0.08605962],\n",
       "       [0.13513751],\n",
       "       [0.14397706],\n",
       "       [0.2143161 ],\n",
       "       [0.08771323],\n",
       "       [0.09398541],\n",
       "       [0.09556136],\n",
       "       [0.06349132],\n",
       "       [0.05747353],\n",
       "       [0.04452291],\n",
       "       [0.07567955],\n",
       "       [0.07825131],\n",
       "       [0.07935301],\n",
       "       [0.07628889],\n",
       "       [0.03397229],\n",
       "       [0.02203886],\n",
       "       [0.01382144],\n",
       "       [0.0128819 ],\n",
       "       [0.08124984],\n",
       "       [0.06899346],\n",
       "       [0.05056713],\n",
       "       [0.04058518],\n",
       "       [0.03007089],\n",
       "       [0.04461579],\n",
       "       [0.07893169],\n",
       "       [0.07754794],\n",
       "       [0.04639191],\n",
       "       [0.04703142],\n",
       "       [0.04931037],\n",
       "       [0.03943967],\n",
       "       [0.02009828],\n",
       "       [0.01882661],\n",
       "       [0.02396596],\n",
       "       [0.02193965],\n",
       "       [0.02865527],\n",
       "       [0.02216499],\n",
       "       [0.06766126],\n",
       "       [0.05917301],\n",
       "       [0.0499341 ],\n",
       "       [0.14688604],\n",
       "       [0.16395777],\n",
       "       [0.18506527],\n",
       "       [0.3413968 ],\n",
       "       [0.39318043],\n",
       "       [0.4123999 ],\n",
       "       [0.6722635 ],\n",
       "       [0.81220025],\n",
       "       [0.86535287],\n",
       "       [0.92228466],\n",
       "       [0.9023416 ],\n",
       "       [0.8744893 ],\n",
       "       [0.9066416 ],\n",
       "       [0.90316653],\n",
       "       [0.8736891 ],\n",
       "       [0.8957583 ],\n",
       "       [0.8743973 ],\n",
       "       [0.6964412 ],\n",
       "       [0.7065942 ],\n",
       "       [0.7822697 ],\n",
       "       [0.8225873 ],\n",
       "       [0.84584445],\n",
       "       [0.84908015],\n",
       "       [0.847813  ],\n",
       "       [0.65532595],\n",
       "       [0.74946874],\n",
       "       [0.8021366 ],\n",
       "       [0.7722721 ],\n",
       "       [0.82080996],\n",
       "       [0.8674096 ],\n",
       "       [0.729108  ],\n",
       "       [0.79630995],\n",
       "       [0.8395505 ],\n",
       "       [0.85002226],\n",
       "       [0.83366233],\n",
       "       [0.81906945],\n",
       "       [0.80321944],\n",
       "       [0.79355544],\n",
       "       [0.7710699 ],\n",
       "       [0.79468566],\n",
       "       [0.7864039 ],\n",
       "       [0.81800973],\n",
       "       [0.72472227],\n",
       "       [0.76362914],\n",
       "       [0.7249719 ],\n",
       "       [0.68677735],\n",
       "       [0.74942076],\n",
       "       [0.78862286],\n",
       "       [0.78980535],\n",
       "       [0.70831126],\n",
       "       [0.81343156],\n",
       "       [0.68458205],\n",
       "       [0.72696275],\n",
       "       [0.7185244 ],\n",
       "       [0.784458  ],\n",
       "       [0.7147612 ],\n",
       "       [0.77520925],\n",
       "       [0.79956156],\n",
       "       [0.8080433 ],\n",
       "       [0.8301686 ],\n",
       "       [0.7512427 ],\n",
       "       [0.7680652 ],\n",
       "       [0.82581687],\n",
       "       [0.85113364],\n",
       "       [0.6121315 ],\n",
       "       [0.45038384],\n",
       "       [0.30390456],\n",
       "       [0.11841913],\n",
       "       [0.08532902],\n",
       "       [0.06875527],\n",
       "       [0.05660104],\n",
       "       [0.01961287],\n",
       "       [0.01476696],\n",
       "       [0.02026903],\n",
       "       [0.01675088],\n",
       "       [0.01289792],\n",
       "       [0.01278371],\n",
       "       [0.0120819 ],\n",
       "       [0.01184052],\n",
       "       [0.01509327],\n",
       "       [0.01222027],\n",
       "       [0.01266963],\n",
       "       [0.01290847],\n",
       "       [0.01510863],\n",
       "       [0.01375833],\n",
       "       [0.00770893],\n",
       "       [0.00887214],\n",
       "       [0.00688012],\n",
       "       [0.00479319],\n",
       "       [0.00601807],\n",
       "       [0.00725176],\n",
       "       [0.00668714],\n",
       "       [0.00670479],\n",
       "       [0.01046635],\n",
       "       [0.00670114],\n",
       "       [0.00858707],\n",
       "       [0.00838536],\n",
       "       [0.00567843],\n",
       "       [0.00927888],\n",
       "       [0.0137053 ],\n",
       "       [0.00834712],\n",
       "       [0.0090367 ],\n",
       "       [0.00886084],\n",
       "       [0.00730108],\n",
       "       [0.00850631],\n",
       "       [0.00699859],\n",
       "       [0.00832018],\n",
       "       [0.00737654],\n",
       "       [0.01125493],\n",
       "       [0.00794755],\n",
       "       [0.00811811],\n",
       "       [0.00845557],\n",
       "       [0.00716968],\n",
       "       [0.00792364],\n",
       "       [0.00912914],\n",
       "       [0.01043635],\n",
       "       [0.00725903],\n",
       "       [0.00984811],\n",
       "       [0.0102594 ],\n",
       "       [0.00897994],\n",
       "       [0.00935423],\n",
       "       [0.00660181],\n",
       "       [0.00851546],\n",
       "       [0.00815199],\n",
       "       [0.00868437],\n",
       "       [0.0092427 ],\n",
       "       [0.02929398],\n",
       "       [0.1458817 ],\n",
       "       [0.1906211 ],\n",
       "       [0.12832817],\n",
       "       [0.26420382],\n",
       "       [0.31199977],\n",
       "       [0.34528756],\n",
       "       [0.3615057 ],\n",
       "       [0.42655933],\n",
       "       [0.52290046],\n",
       "       [0.5455407 ],\n",
       "       [0.54151934],\n",
       "       [0.46566027],\n",
       "       [0.4955852 ],\n",
       "       [0.511449  ],\n",
       "       [0.47296706],\n",
       "       [0.45346984],\n",
       "       [0.4621742 ],\n",
       "       [0.45051602],\n",
       "       [0.33488205],\n",
       "       [0.5564863 ],\n",
       "       [0.5640524 ],\n",
       "       [0.5434518 ],\n",
       "       [0.42305237],\n",
       "       [0.35987985],\n",
       "       [0.6246933 ],\n",
       "       [0.60695046],\n",
       "       [0.6339006 ],\n",
       "       [0.63468033],\n",
       "       [0.6311688 ],\n",
       "       [0.6224764 ],\n",
       "       [0.4792282 ],\n",
       "       [0.47311762],\n",
       "       [0.5780837 ],\n",
       "       [0.5905742 ],\n",
       "       [0.60383886],\n",
       "       [0.6299992 ],\n",
       "       [0.44946018],\n",
       "       [0.40542334],\n",
       "       [0.46980163],\n",
       "       [0.49066883],\n",
       "       [0.23116566],\n",
       "       [0.5664707 ],\n",
       "       [0.51958907],\n",
       "       [0.56119436],\n",
       "       [0.5546164 ],\n",
       "       [0.54821056],\n",
       "       [0.5387627 ],\n",
       "       [0.41227284],\n",
       "       [0.47070035],\n",
       "       [0.37534744],\n",
       "       [0.45507047],\n",
       "       [0.41602668],\n",
       "       [0.45458698],\n",
       "       [0.43850693],\n",
       "       [0.41048503],\n",
       "       [0.48502105],\n",
       "       [0.49230838],\n",
       "       [0.48777816],\n",
       "       [0.48124397],\n",
       "       [0.47276127],\n",
       "       [0.41242632]], dtype=float32)"
      ]
     },
     "execution_count": 26,
     "metadata": {},
     "output_type": "execute_result"
    }
   ],
   "source": [
    "pred"
   ]
  },
  {
   "cell_type": "code",
   "execution_count": 27,
   "id": "d193cfe1",
   "metadata": {
    "ExecuteTime": {
     "end_time": "2022-05-14T13:50:06.505926Z",
     "start_time": "2022-05-14T13:50:06.491964Z"
    }
   },
   "outputs": [],
   "source": [
    "ans = []\n",
    "for i in pred:\n",
    "    ans.append(round(i[0]))"
   ]
  },
  {
   "cell_type": "code",
   "execution_count": 28,
   "id": "d2f5df05",
   "metadata": {
    "ExecuteTime": {
     "end_time": "2022-05-14T13:50:39.756908Z",
     "start_time": "2022-05-14T13:50:39.744856Z"
    }
   },
   "outputs": [
    {
     "data": {
      "text/plain": [
       "Counter({0: 196, 1: 144})"
      ]
     },
     "execution_count": 28,
     "metadata": {},
     "output_type": "execute_result"
    }
   ],
   "source": [
    "from collections import Counter\n",
    "Counter(ans)"
   ]
  },
  {
   "cell_type": "code",
   "execution_count": 29,
   "id": "c0d75943",
   "metadata": {
    "ExecuteTime": {
     "end_time": "2022-05-14T13:51:12.996767Z",
     "start_time": "2022-05-14T13:51:12.983773Z"
    }
   },
   "outputs": [
    {
     "data": {
      "text/plain": [
       "Counter({0.0: 242, 1.0: 98})"
      ]
     },
     "execution_count": 29,
     "metadata": {},
     "output_type": "execute_result"
    }
   ],
   "source": [
    "Counter(y_test)"
   ]
  },
  {
   "cell_type": "code",
   "execution_count": null,
   "id": "e858c091",
   "metadata": {},
   "outputs": [],
   "source": []
  },
  {
   "cell_type": "markdown",
   "id": "83c5e097",
   "metadata": {},
   "source": [
    "## model2 :10일 10일"
   ]
  },
  {
   "cell_type": "code",
   "execution_count": 97,
   "id": "25bf8b39",
   "metadata": {
    "ExecuteTime": {
     "end_time": "2022-05-15T16:05:48.802292Z",
     "start_time": "2022-05-15T16:05:47.168351Z"
    }
   },
   "outputs": [],
   "source": [
    "window_size = 10\n",
    "target_period = 10\n",
    "\n",
    "X = []\n",
    "Y = []\n",
    "\n",
    "\n",
    "for i in range(len(df_ct2) - window_size-target_period): \n",
    "    \n",
    "    # 피쳐값 \n",
    "    X.append([df_ct2.iloc[i+j,1:] for j in range(window_size)]) # j= 0부터 29 -> 30일치 데이터\n",
    "\n",
    "    # 등락률 \n",
    "    Y.append([df_ct2.iloc[window_size+i+j,0] for j in range(target_period)])\n",
    "    \n",
    "Y1 = []\n",
    "for y in Y:\n",
    "    toggle = 0\n",
    "    for i in y:\n",
    "\n",
    "        if i >= 7:\n",
    "            Y1.append(1)\n",
    "            toggle = 1\n",
    "            break\n",
    "    if toggle != 1:\n",
    "        Y1.append(0)"
   ]
  },
  {
   "cell_type": "code",
   "execution_count": 98,
   "id": "101e5cce",
   "metadata": {
    "ExecuteTime": {
     "end_time": "2022-05-15T16:06:00.154267Z",
     "start_time": "2022-05-15T16:06:00.082009Z"
    }
   },
   "outputs": [],
   "source": [
    "X_ary = np.array(X).astype(float)\n",
    "Y1_ary = np.array(Y1).astype(float)\n",
    "train_test_split = 1100\n",
    "\n",
    "x_train = X_ary[:1100]\n",
    "y_train = Y1_ary[:1100]\n",
    "\n",
    "x_test = X_ary[1100:]\n",
    "y_test = Y1_ary[1100:]"
   ]
  },
  {
   "cell_type": "code",
   "execution_count": 99,
   "id": "5dc185a0",
   "metadata": {
    "ExecuteTime": {
     "end_time": "2022-05-15T16:06:11.418417Z",
     "start_time": "2022-05-15T16:06:11.405459Z"
    }
   },
   "outputs": [
    {
     "data": {
      "text/plain": [
       "(1100, 10, 14)"
      ]
     },
     "execution_count": 99,
     "metadata": {},
     "output_type": "execute_result"
    }
   ],
   "source": [
    "x_train.shape"
   ]
  },
  {
   "cell_type": "code",
   "execution_count": 100,
   "id": "620d3dd0",
   "metadata": {
    "ExecuteTime": {
     "end_time": "2022-05-15T16:06:22.671506Z",
     "start_time": "2022-05-15T16:06:22.611432Z"
    }
   },
   "outputs": [],
   "source": [
    "X_ary = np.array(X).astype(float)\n",
    "Y1_ary = np.array(Y1).astype(float)\n",
    "train_test_split = 1100\n",
    "\n",
    "x_train = X_ary[:1100]\n",
    "y_train = Y1_ary[:1100]\n",
    "\n",
    "x_test = X_ary[1100:]\n",
    "y_test = Y1_ary[1100:]"
   ]
  },
  {
   "cell_type": "code",
   "execution_count": 101,
   "id": "24d57077",
   "metadata": {
    "ExecuteTime": {
     "end_time": "2022-05-15T16:06:33.986301Z",
     "start_time": "2022-05-15T16:06:33.798502Z"
    }
   },
   "outputs": [
    {
     "name": "stdout",
     "output_type": "stream",
     "text": [
      "Model: \"sequential_8\"\n",
      "_________________________________________________________________\n",
      " Layer (type)                Output Shape              Param #   \n",
      "=================================================================\n",
      " lstm_8 (LSTM)               (None, 100)               46000     \n",
      "                                                                 \n",
      " dense_8 (Dense)             (None, 1)                 101       \n",
      "                                                                 \n",
      "=================================================================\n",
      "Total params: 46,101\n",
      "Trainable params: 46,101\n",
      "Non-trainable params: 0\n",
      "_________________________________________________________________\n"
     ]
    }
   ],
   "source": [
    "with tf.device('/GPU:0'):\n",
    "    model2 = Sequential()\n",
    "    model2.add(LSTM(100, input_shape=(10,14)))\n",
    "    model2.add(Dense(1,activation='sigmoid'))\n",
    "    model2.summary()"
   ]
  },
  {
   "cell_type": "code",
   "execution_count": 102,
   "id": "e2d7d44f",
   "metadata": {
    "ExecuteTime": {
     "end_time": "2022-05-15T16:06:45.159493Z",
     "start_time": "2022-05-15T16:06:45.148529Z"
    }
   },
   "outputs": [],
   "source": [
    "# learning rate 설정\n",
    "Adam = tf.keras.optimizers.Adam(learning_rate=0.0001)"
   ]
  },
  {
   "cell_type": "code",
   "execution_count": 103,
   "id": "a749d2c9",
   "metadata": {
    "ExecuteTime": {
     "end_time": "2022-05-15T16:06:56.375731Z",
     "start_time": "2022-05-15T16:06:56.331734Z"
    }
   },
   "outputs": [],
   "source": [
    "model2.compile(loss='binary_crossentropy', metrics ='accuracy', optimizer=Adam)"
   ]
  },
  {
   "cell_type": "code",
   "execution_count": 104,
   "id": "79e7e27d",
   "metadata": {
    "ExecuteTime": {
     "end_time": "2022-05-15T16:07:35.430673Z",
     "start_time": "2022-05-15T16:07:07.627565Z"
    }
   },
   "outputs": [
    {
     "name": "stdout",
     "output_type": "stream",
     "text": [
      "Epoch 1/50\n",
      "110/110 [==============================] - 2s 8ms/step - loss: 0.7128 - accuracy: 0.4900 - val_loss: 0.6484 - val_accuracy: 0.6886\n",
      "Epoch 2/50\n",
      "110/110 [==============================] - 1s 5ms/step - loss: 0.6118 - accuracy: 0.6773 - val_loss: 0.6046 - val_accuracy: 0.7029\n",
      "Epoch 3/50\n",
      "110/110 [==============================] - 1s 5ms/step - loss: 0.5819 - accuracy: 0.7118 - val_loss: 0.5965 - val_accuracy: 0.6971\n",
      "Epoch 4/50\n",
      "110/110 [==============================] - 1s 5ms/step - loss: 0.5634 - accuracy: 0.7109 - val_loss: 0.5843 - val_accuracy: 0.6829\n",
      "Epoch 5/50\n",
      "110/110 [==============================] - 1s 5ms/step - loss: 0.5450 - accuracy: 0.7282 - val_loss: 0.5819 - val_accuracy: 0.6943\n",
      "Epoch 6/50\n",
      "110/110 [==============================] - 1s 5ms/step - loss: 0.5278 - accuracy: 0.7345 - val_loss: 0.5809 - val_accuracy: 0.7057\n",
      "Epoch 7/50\n",
      "110/110 [==============================] - 1s 5ms/step - loss: 0.5128 - accuracy: 0.7436 - val_loss: 0.5784 - val_accuracy: 0.7229\n",
      "Epoch 8/50\n",
      "110/110 [==============================] - 1s 5ms/step - loss: 0.4989 - accuracy: 0.7500 - val_loss: 0.5738 - val_accuracy: 0.7400\n",
      "Epoch 9/50\n",
      "110/110 [==============================] - 1s 5ms/step - loss: 0.4833 - accuracy: 0.7673 - val_loss: 0.5709 - val_accuracy: 0.7429\n",
      "Epoch 10/50\n",
      "110/110 [==============================] - 1s 5ms/step - loss: 0.4691 - accuracy: 0.7818 - val_loss: 0.5689 - val_accuracy: 0.7486\n",
      "Epoch 11/50\n",
      "110/110 [==============================] - 1s 5ms/step - loss: 0.4528 - accuracy: 0.7918 - val_loss: 0.5689 - val_accuracy: 0.7571\n",
      "Epoch 12/50\n",
      "110/110 [==============================] - 1s 5ms/step - loss: 0.4348 - accuracy: 0.8009 - val_loss: 0.5694 - val_accuracy: 0.7629\n",
      "Epoch 13/50\n",
      "110/110 [==============================] - 1s 5ms/step - loss: 0.4180 - accuracy: 0.8209 - val_loss: 0.5667 - val_accuracy: 0.7486\n",
      "Epoch 14/50\n",
      "110/110 [==============================] - 1s 5ms/step - loss: 0.4036 - accuracy: 0.8245 - val_loss: 0.5726 - val_accuracy: 0.7571\n",
      "Epoch 15/50\n",
      "110/110 [==============================] - 1s 5ms/step - loss: 0.3912 - accuracy: 0.8400 - val_loss: 0.5711 - val_accuracy: 0.7343\n",
      "Epoch 16/50\n",
      "110/110 [==============================] - 1s 5ms/step - loss: 0.3751 - accuracy: 0.8509 - val_loss: 0.5681 - val_accuracy: 0.7286\n",
      "Epoch 17/50\n",
      "110/110 [==============================] - 1s 5ms/step - loss: 0.3600 - accuracy: 0.8527 - val_loss: 0.5746 - val_accuracy: 0.7314\n",
      "Epoch 18/50\n",
      "110/110 [==============================] - 1s 5ms/step - loss: 0.3438 - accuracy: 0.8627 - val_loss: 0.5828 - val_accuracy: 0.7257\n",
      "Epoch 19/50\n",
      "110/110 [==============================] - 1s 5ms/step - loss: 0.3293 - accuracy: 0.8709 - val_loss: 0.5805 - val_accuracy: 0.7371\n",
      "Epoch 20/50\n",
      "110/110 [==============================] - 1s 5ms/step - loss: 0.3149 - accuracy: 0.8782 - val_loss: 0.5853 - val_accuracy: 0.7543\n",
      "Epoch 21/50\n",
      "110/110 [==============================] - 1s 5ms/step - loss: 0.3030 - accuracy: 0.8882 - val_loss: 0.6039 - val_accuracy: 0.7457\n",
      "Epoch 22/50\n",
      "110/110 [==============================] - 1s 5ms/step - loss: 0.2892 - accuracy: 0.8918 - val_loss: 0.6021 - val_accuracy: 0.7429\n",
      "Epoch 23/50\n",
      "110/110 [==============================] - 1s 5ms/step - loss: 0.2758 - accuracy: 0.8991 - val_loss: 0.6147 - val_accuracy: 0.7486\n",
      "Epoch 24/50\n",
      "110/110 [==============================] - 1s 5ms/step - loss: 0.2667 - accuracy: 0.9064 - val_loss: 0.6425 - val_accuracy: 0.7343\n",
      "Epoch 25/50\n",
      "110/110 [==============================] - 1s 5ms/step - loss: 0.2544 - accuracy: 0.9155 - val_loss: 0.6550 - val_accuracy: 0.7314\n",
      "Epoch 26/50\n",
      "110/110 [==============================] - 1s 5ms/step - loss: 0.2433 - accuracy: 0.9273 - val_loss: 0.6632 - val_accuracy: 0.7314\n",
      "Epoch 27/50\n",
      "110/110 [==============================] - 1s 5ms/step - loss: 0.2347 - accuracy: 0.9291 - val_loss: 0.6558 - val_accuracy: 0.7200\n",
      "Epoch 28/50\n",
      "110/110 [==============================] - 1s 5ms/step - loss: 0.2224 - accuracy: 0.9273 - val_loss: 0.7322 - val_accuracy: 0.7286\n",
      "Epoch 29/50\n",
      "110/110 [==============================] - 1s 5ms/step - loss: 0.2147 - accuracy: 0.9391 - val_loss: 0.6964 - val_accuracy: 0.7029\n",
      "Epoch 30/50\n",
      "110/110 [==============================] - 1s 5ms/step - loss: 0.2067 - accuracy: 0.9391 - val_loss: 0.7149 - val_accuracy: 0.7143\n",
      "Epoch 31/50\n",
      "110/110 [==============================] - 1s 5ms/step - loss: 0.2022 - accuracy: 0.9364 - val_loss: 0.7236 - val_accuracy: 0.7143\n",
      "Epoch 32/50\n",
      "110/110 [==============================] - 1s 5ms/step - loss: 0.1921 - accuracy: 0.9400 - val_loss: 0.7600 - val_accuracy: 0.7086\n",
      "Epoch 33/50\n",
      "110/110 [==============================] - 1s 5ms/step - loss: 0.1860 - accuracy: 0.9427 - val_loss: 0.7692 - val_accuracy: 0.7057\n",
      "Epoch 34/50\n",
      "110/110 [==============================] - 1s 5ms/step - loss: 0.1798 - accuracy: 0.9409 - val_loss: 0.7841 - val_accuracy: 0.7029\n",
      "Epoch 35/50\n",
      "110/110 [==============================] - 1s 5ms/step - loss: 0.1723 - accuracy: 0.9409 - val_loss: 0.7851 - val_accuracy: 0.7029\n",
      "Epoch 36/50\n",
      "110/110 [==============================] - 1s 5ms/step - loss: 0.1727 - accuracy: 0.9482 - val_loss: 0.7927 - val_accuracy: 0.7029\n",
      "Epoch 37/50\n",
      "110/110 [==============================] - 1s 5ms/step - loss: 0.1610 - accuracy: 0.9573 - val_loss: 0.8676 - val_accuracy: 0.7143\n",
      "Epoch 38/50\n",
      "110/110 [==============================] - 1s 5ms/step - loss: 0.1562 - accuracy: 0.9473 - val_loss: 0.8563 - val_accuracy: 0.7029\n",
      "Epoch 39/50\n",
      "110/110 [==============================] - 1s 5ms/step - loss: 0.1530 - accuracy: 0.9536 - val_loss: 0.8775 - val_accuracy: 0.7029\n",
      "Epoch 40/50\n",
      "110/110 [==============================] - 1s 5ms/step - loss: 0.1459 - accuracy: 0.9636 - val_loss: 0.8932 - val_accuracy: 0.7029\n",
      "Epoch 41/50\n",
      "110/110 [==============================] - 1s 5ms/step - loss: 0.1441 - accuracy: 0.9582 - val_loss: 0.8876 - val_accuracy: 0.7029\n",
      "Epoch 42/50\n",
      "110/110 [==============================] - 1s 5ms/step - loss: 0.1361 - accuracy: 0.9591 - val_loss: 0.9097 - val_accuracy: 0.7057\n",
      "Epoch 43/50\n",
      "110/110 [==============================] - 1s 5ms/step - loss: 0.1403 - accuracy: 0.9564 - val_loss: 0.9192 - val_accuracy: 0.7029\n",
      "Epoch 44/50\n",
      "110/110 [==============================] - 1s 5ms/step - loss: 0.1285 - accuracy: 0.9600 - val_loss: 0.9443 - val_accuracy: 0.7057\n",
      "Epoch 45/50\n",
      "110/110 [==============================] - 1s 5ms/step - loss: 0.1238 - accuracy: 0.9655 - val_loss: 0.9423 - val_accuracy: 0.7029\n",
      "Epoch 46/50\n",
      "110/110 [==============================] - 1s 5ms/step - loss: 0.1188 - accuracy: 0.9718 - val_loss: 1.0083 - val_accuracy: 0.7029\n",
      "Epoch 47/50\n",
      "110/110 [==============================] - 1s 5ms/step - loss: 0.1163 - accuracy: 0.9655 - val_loss: 0.9819 - val_accuracy: 0.7029\n",
      "Epoch 48/50\n",
      "110/110 [==============================] - 1s 5ms/step - loss: 0.1151 - accuracy: 0.9655 - val_loss: 1.0199 - val_accuracy: 0.7029\n",
      "Epoch 49/50\n",
      "110/110 [==============================] - 1s 5ms/step - loss: 0.1113 - accuracy: 0.9700 - val_loss: 0.9865 - val_accuracy: 0.7000\n",
      "Epoch 50/50\n",
      "110/110 [==============================] - 1s 5ms/step - loss: 0.1072 - accuracy: 0.9673 - val_loss: 0.9974 - val_accuracy: 0.7000\n"
     ]
    }
   ],
   "source": [
    "hist2 = model2.fit(x_train, y_train, epochs=50, batch_size= 10, validation_data= (x_test,y_test))"
   ]
  },
  {
   "cell_type": "code",
   "execution_count": 105,
   "id": "814048ce",
   "metadata": {
    "ExecuteTime": {
     "end_time": "2022-05-15T16:07:46.809795Z",
     "start_time": "2022-05-15T16:07:46.732075Z"
    }
   },
   "outputs": [
    {
     "data": {
      "text/plain": [
       "[<matplotlib.lines.Line2D at 0x21fce867b80>]"
      ]
     },
     "execution_count": 105,
     "metadata": {},
     "output_type": "execute_result"
    },
    {
     "data": {
      "image/png": "[encoded data removed]",
      "text/plain": [
       "<Figure size 432x288 with 1 Axes>"
      ]
     },
     "metadata": {
      "needs_background": "light"
     },
     "output_type": "display_data"
    }
   ],
   "source": [
    "plt.plot(hist2.history['loss'])\n",
    "plt.plot(hist2.history['val_loss'])"
   ]
  },
  {
   "cell_type": "code",
   "execution_count": 106,
   "id": "f11de153",
   "metadata": {
    "ExecuteTime": {
     "end_time": "2022-05-15T16:07:58.237843Z",
     "start_time": "2022-05-15T16:07:58.152108Z"
    }
   },
   "outputs": [
    {
     "data": {
      "text/plain": [
       "[<matplotlib.lines.Line2D at 0x21fcf1c7100>]"
      ]
     },
     "execution_count": 106,
     "metadata": {},
     "output_type": "execute_result"
    },
    {
     "data": {
      "image/png": "[encoded data removed]",
      "text/plain": [
       "<Figure size 432x288 with 1 Axes>"
      ]
     },
     "metadata": {
      "needs_background": "light"
     },
     "output_type": "display_data"
    }
   ],
   "source": [
    "plt.plot(hist2.history['accuracy'])\n",
    "plt.plot(hist2.history['val_accuracy'])"
   ]
  },
  {
   "cell_type": "code",
   "execution_count": 107,
   "id": "78ad445a",
   "metadata": {
    "ExecuteTime": {
     "end_time": "2022-05-15T16:08:47.604738Z",
     "start_time": "2022-05-15T16:08:47.255166Z"
    }
   },
   "outputs": [
    {
     "name": "stdout",
     "output_type": "stream",
     "text": [
      "11/11 [==============================] - 0s 3ms/step - loss: 0.9974 - accuracy: 0.7000\n"
     ]
    },
    {
     "data": {
      "text/plain": [
       "[0.9974156022071838, 0.699999988079071]"
      ]
     },
     "execution_count": 107,
     "metadata": {},
     "output_type": "execute_result"
    }
   ],
   "source": [
    "model2.evaluate(x_test, y_test)"
   ]
  },
  {
   "cell_type": "code",
   "execution_count": null,
   "id": "4977ca42",
   "metadata": {},
   "outputs": [],
   "source": []
  },
  {
   "cell_type": "markdown",
   "id": "46063749",
   "metadata": {},
   "source": [
    "## model3 : 10일 5일"
   ]
  },
  {
   "cell_type": "code",
   "execution_count": 116,
   "id": "f3d18a90",
   "metadata": {
    "ExecuteTime": {
     "end_time": "2022-05-15T16:15:24.865016Z",
     "start_time": "2022-05-15T16:15:23.530338Z"
    }
   },
   "outputs": [],
   "source": [
    "window_size = 10\n",
    "target_period = 5\n",
    "\n",
    "X = []\n",
    "Y = []\n",
    "\n",
    "\n",
    "for i in range(len(df_ct2) - window_size-target_period): \n",
    "    \n",
    "    # 피쳐값 \n",
    "    X.append([df_ct2.iloc[i+j,1:] for j in range(window_size)]) # j= 0부터 29 -> 30일치 데이터\n",
    "\n",
    "    # 등락률 \n",
    "    Y.append([df_ct2.iloc[window_size+i+j,0] for j in range(target_period)])\n",
    "    \n",
    "Y1 = []\n",
    "for y in Y:\n",
    "    toggle = 0\n",
    "    for i in y:\n",
    "\n",
    "        if i >= 7:\n",
    "            Y1.append(1)\n",
    "            toggle = 1\n",
    "            break\n",
    "    if toggle != 1:\n",
    "        Y1.append(0)"
   ]
  },
  {
   "cell_type": "code",
   "execution_count": 117,
   "id": "fba7c6af",
   "metadata": {
    "ExecuteTime": {
     "end_time": "2022-05-15T16:15:36.187965Z",
     "start_time": "2022-05-15T16:15:36.112681Z"
    }
   },
   "outputs": [
    {
     "data": {
      "text/plain": [
       "(1100, 10, 14)"
      ]
     },
     "execution_count": 117,
     "metadata": {},
     "output_type": "execute_result"
    }
   ],
   "source": [
    "X_ary = np.array(X).astype(float)\n",
    "Y1_ary = np.array(Y1).astype(float)\n",
    "train_test_split = 1100\n",
    "\n",
    "x_train = X_ary[:1100]\n",
    "y_train = Y1_ary[:1100]\n",
    "\n",
    "x_test = X_ary[1100:]\n",
    "y_test = Y1_ary[1100:]\n",
    "\n",
    "x_train.shape"
   ]
  },
  {
   "cell_type": "code",
   "execution_count": 118,
   "id": "49b6d78b",
   "metadata": {
    "ExecuteTime": {
     "end_time": "2022-05-15T16:15:47.734953Z",
     "start_time": "2022-05-15T16:15:47.550487Z"
    },
    "scrolled": true
   },
   "outputs": [
    {
     "name": "stdout",
     "output_type": "stream",
     "text": [
      "Model: \"sequential_10\"\n",
      "_________________________________________________________________\n",
      " Layer (type)                Output Shape              Param #   \n",
      "=================================================================\n",
      " lstm_10 (LSTM)              (None, 100)               46000     \n",
      "                                                                 \n",
      " dense_10 (Dense)            (None, 1)                 101       \n",
      "                                                                 \n",
      "=================================================================\n",
      "Total params: 46,101\n",
      "Trainable params: 46,101\n",
      "Non-trainable params: 0\n",
      "_________________________________________________________________\n"
     ]
    }
   ],
   "source": [
    "with tf.device('/GPU:0'):\n",
    "    model3 = Sequential()\n",
    "    model3.add(LSTM(100, input_shape=(10,14)))\n",
    "    model3.add(Dense(1,activation='sigmoid'))\n",
    "    model3.summary()"
   ]
  },
  {
   "cell_type": "code",
   "execution_count": 119,
   "id": "75b14dd7",
   "metadata": {
    "ExecuteTime": {
     "end_time": "2022-05-15T16:15:59.090722Z",
     "start_time": "2022-05-15T16:15:59.065796Z"
    }
   },
   "outputs": [],
   "source": [
    "# learning rate 설정\n",
    "Adam = tf.keras.optimizers.Adam(learning_rate=0.0001)\n",
    "model3.compile(loss='binary_crossentropy', metrics ='accuracy', optimizer=Adam)"
   ]
  },
  {
   "cell_type": "code",
   "execution_count": 120,
   "id": "fc21fc7b",
   "metadata": {
    "ExecuteTime": {
     "end_time": "2022-05-15T16:16:39.172662Z",
     "start_time": "2022-05-15T16:16:10.430258Z"
    }
   },
   "outputs": [
    {
     "name": "stdout",
     "output_type": "stream",
     "text": [
      "Epoch 1/50\n",
      "110/110 [==============================] - 2s 8ms/step - loss: 0.7480 - accuracy: 0.4764 - val_loss: 0.6324 - val_accuracy: 0.6113\n",
      "Epoch 2/50\n",
      "110/110 [==============================] - 1s 5ms/step - loss: 0.5059 - accuracy: 0.8000 - val_loss: 0.5136 - val_accuracy: 0.8282\n",
      "Epoch 3/50\n",
      "110/110 [==============================] - 1s 5ms/step - loss: 0.4504 - accuracy: 0.8136 - val_loss: 0.4880 - val_accuracy: 0.8197\n",
      "Epoch 4/50\n",
      "110/110 [==============================] - 1s 5ms/step - loss: 0.4345 - accuracy: 0.8209 - val_loss: 0.4802 - val_accuracy: 0.8197\n",
      "Epoch 5/50\n",
      "110/110 [==============================] - 1s 5ms/step - loss: 0.4240 - accuracy: 0.8227 - val_loss: 0.4777 - val_accuracy: 0.8197\n",
      "Epoch 6/50\n",
      "110/110 [==============================] - 1s 5ms/step - loss: 0.4148 - accuracy: 0.8227 - val_loss: 0.4755 - val_accuracy: 0.8197\n",
      "Epoch 7/50\n",
      "110/110 [==============================] - 1s 5ms/step - loss: 0.4065 - accuracy: 0.8318 - val_loss: 0.4770 - val_accuracy: 0.8197\n",
      "Epoch 8/50\n",
      "110/110 [==============================] - 1s 5ms/step - loss: 0.4001 - accuracy: 0.8309 - val_loss: 0.4762 - val_accuracy: 0.8197\n",
      "Epoch 9/50\n",
      "110/110 [==============================] - 1s 5ms/step - loss: 0.3919 - accuracy: 0.8300 - val_loss: 0.4771 - val_accuracy: 0.8197\n",
      "Epoch 10/50\n",
      "110/110 [==============================] - 1s 5ms/step - loss: 0.3848 - accuracy: 0.8345 - val_loss: 0.4775 - val_accuracy: 0.8197\n",
      "Epoch 11/50\n",
      "110/110 [==============================] - 1s 5ms/step - loss: 0.3775 - accuracy: 0.8373 - val_loss: 0.4810 - val_accuracy: 0.8197\n",
      "Epoch 12/50\n",
      "110/110 [==============================] - 1s 5ms/step - loss: 0.3709 - accuracy: 0.8427 - val_loss: 0.4818 - val_accuracy: 0.8197\n",
      "Epoch 13/50\n",
      "110/110 [==============================] - 1s 5ms/step - loss: 0.3647 - accuracy: 0.8464 - val_loss: 0.4820 - val_accuracy: 0.8197\n",
      "Epoch 14/50\n",
      "110/110 [==============================] - 1s 5ms/step - loss: 0.3578 - accuracy: 0.8464 - val_loss: 0.4841 - val_accuracy: 0.8197\n",
      "Epoch 15/50\n",
      "110/110 [==============================] - 1s 5ms/step - loss: 0.3514 - accuracy: 0.8545 - val_loss: 0.4845 - val_accuracy: 0.8197\n",
      "Epoch 16/50\n",
      "110/110 [==============================] - 1s 5ms/step - loss: 0.3432 - accuracy: 0.8518 - val_loss: 0.4868 - val_accuracy: 0.8197\n",
      "Epoch 17/50\n",
      "110/110 [==============================] - 1s 5ms/step - loss: 0.3348 - accuracy: 0.8545 - val_loss: 0.4904 - val_accuracy: 0.8169\n",
      "Epoch 18/50\n",
      "110/110 [==============================] - 1s 5ms/step - loss: 0.3262 - accuracy: 0.8618 - val_loss: 0.4924 - val_accuracy: 0.8282\n",
      "Epoch 19/50\n",
      "110/110 [==============================] - 1s 5ms/step - loss: 0.3198 - accuracy: 0.8618 - val_loss: 0.5005 - val_accuracy: 0.8225\n",
      "Epoch 20/50\n",
      "110/110 [==============================] - 1s 5ms/step - loss: 0.3125 - accuracy: 0.8691 - val_loss: 0.5085 - val_accuracy: 0.8056\n",
      "Epoch 21/50\n",
      "110/110 [==============================] - 1s 5ms/step - loss: 0.3055 - accuracy: 0.8718 - val_loss: 0.5130 - val_accuracy: 0.8028\n",
      "Epoch 22/50\n",
      "110/110 [==============================] - 1s 5ms/step - loss: 0.2985 - accuracy: 0.8745 - val_loss: 0.5138 - val_accuracy: 0.8113\n",
      "Epoch 23/50\n",
      "110/110 [==============================] - 1s 5ms/step - loss: 0.2927 - accuracy: 0.8745 - val_loss: 0.5319 - val_accuracy: 0.7887\n",
      "Epoch 24/50\n",
      "110/110 [==============================] - 1s 5ms/step - loss: 0.2854 - accuracy: 0.8827 - val_loss: 0.5260 - val_accuracy: 0.8085\n",
      "Epoch 25/50\n",
      "110/110 [==============================] - 1s 5ms/step - loss: 0.2803 - accuracy: 0.8855 - val_loss: 0.5374 - val_accuracy: 0.8113\n",
      "Epoch 26/50\n",
      "110/110 [==============================] - 1s 5ms/step - loss: 0.2720 - accuracy: 0.8909 - val_loss: 0.5454 - val_accuracy: 0.7944\n",
      "Epoch 27/50\n",
      "110/110 [==============================] - 1s 5ms/step - loss: 0.2659 - accuracy: 0.8973 - val_loss: 0.5483 - val_accuracy: 0.8085\n",
      "Epoch 28/50\n",
      "110/110 [==============================] - 1s 5ms/step - loss: 0.2597 - accuracy: 0.9018 - val_loss: 0.5711 - val_accuracy: 0.7549\n",
      "Epoch 29/50\n",
      "110/110 [==============================] - 1s 5ms/step - loss: 0.2535 - accuracy: 0.9082 - val_loss: 0.5737 - val_accuracy: 0.7634\n",
      "Epoch 30/50\n",
      "110/110 [==============================] - 1s 5ms/step - loss: 0.2473 - accuracy: 0.9118 - val_loss: 0.5783 - val_accuracy: 0.8000\n",
      "Epoch 31/50\n",
      "110/110 [==============================] - 1s 5ms/step - loss: 0.2425 - accuracy: 0.9064 - val_loss: 0.5926 - val_accuracy: 0.7268\n",
      "Epoch 32/50\n",
      "110/110 [==============================] - 1s 5ms/step - loss: 0.2354 - accuracy: 0.9191 - val_loss: 0.6057 - val_accuracy: 0.7408\n",
      "Epoch 33/50\n",
      "110/110 [==============================] - 1s 5ms/step - loss: 0.2328 - accuracy: 0.9127 - val_loss: 0.6108 - val_accuracy: 0.7521\n",
      "Epoch 34/50\n",
      "110/110 [==============================] - 1s 5ms/step - loss: 0.2261 - accuracy: 0.9182 - val_loss: 0.6174 - val_accuracy: 0.7380\n",
      "Epoch 35/50\n",
      "110/110 [==============================] - 1s 5ms/step - loss: 0.2202 - accuracy: 0.9200 - val_loss: 0.6179 - val_accuracy: 0.7493\n",
      "Epoch 36/50\n",
      "110/110 [==============================] - 1s 5ms/step - loss: 0.2152 - accuracy: 0.9236 - val_loss: 0.6385 - val_accuracy: 0.7437\n",
      "Epoch 37/50\n",
      "110/110 [==============================] - 1s 5ms/step - loss: 0.2106 - accuracy: 0.9209 - val_loss: 0.6607 - val_accuracy: 0.7324\n",
      "Epoch 38/50\n",
      "110/110 [==============================] - 1s 5ms/step - loss: 0.2064 - accuracy: 0.9200 - val_loss: 0.6742 - val_accuracy: 0.7239\n",
      "Epoch 39/50\n",
      "110/110 [==============================] - 1s 5ms/step - loss: 0.2028 - accuracy: 0.9255 - val_loss: 0.6715 - val_accuracy: 0.7268\n",
      "Epoch 40/50\n",
      "110/110 [==============================] - 1s 5ms/step - loss: 0.1989 - accuracy: 0.9218 - val_loss: 0.6977 - val_accuracy: 0.7070\n",
      "Epoch 41/50\n",
      "110/110 [==============================] - 1s 5ms/step - loss: 0.1952 - accuracy: 0.9273 - val_loss: 0.7193 - val_accuracy: 0.6901\n",
      "Epoch 42/50\n",
      "110/110 [==============================] - 1s 5ms/step - loss: 0.1883 - accuracy: 0.9318 - val_loss: 0.7256 - val_accuracy: 0.7042\n",
      "Epoch 43/50\n",
      "110/110 [==============================] - 1s 5ms/step - loss: 0.1852 - accuracy: 0.9300 - val_loss: 0.7401 - val_accuracy: 0.7183\n",
      "Epoch 44/50\n",
      "110/110 [==============================] - 1s 5ms/step - loss: 0.1797 - accuracy: 0.9364 - val_loss: 0.7532 - val_accuracy: 0.7155\n",
      "Epoch 45/50\n",
      "110/110 [==============================] - 1s 5ms/step - loss: 0.1768 - accuracy: 0.9409 - val_loss: 0.7573 - val_accuracy: 0.7268\n",
      "Epoch 46/50\n",
      "110/110 [==============================] - 1s 5ms/step - loss: 0.1712 - accuracy: 0.9400 - val_loss: 0.7763 - val_accuracy: 0.7183\n",
      "Epoch 47/50\n",
      "110/110 [==============================] - 1s 5ms/step - loss: 0.1690 - accuracy: 0.9409 - val_loss: 0.7924 - val_accuracy: 0.7239\n",
      "Epoch 48/50\n",
      "110/110 [==============================] - 1s 5ms/step - loss: 0.1650 - accuracy: 0.9445 - val_loss: 0.8134 - val_accuracy: 0.6986\n",
      "Epoch 49/50\n",
      "110/110 [==============================] - 1s 5ms/step - loss: 0.1611 - accuracy: 0.9464 - val_loss: 0.8082 - val_accuracy: 0.7183\n",
      "Epoch 50/50\n",
      "110/110 [==============================] - 1s 5ms/step - loss: 0.1594 - accuracy: 0.9436 - val_loss: 0.8345 - val_accuracy: 0.7127\n"
     ]
    }
   ],
   "source": [
    "hist3 = model3.fit(x_train, y_train, epochs=50, batch_size= 10, validation_data= (x_test,y_test))"
   ]
  },
  {
   "cell_type": "code",
   "execution_count": 121,
   "id": "c9094bb8",
   "metadata": {
    "ExecuteTime": {
     "end_time": "2022-05-15T16:16:50.726841Z",
     "start_time": "2022-05-15T16:16:50.635086Z"
    }
   },
   "outputs": [
    {
     "data": {
      "text/plain": [
       "[<matplotlib.lines.Line2D at 0x21fe428d520>]"
      ]
     },
     "execution_count": 121,
     "metadata": {},
     "output_type": "execute_result"
    },
    {
     "data": {
      "image/png": "[encoded data removed]",
      "text/plain": [
       "<Figure size 432x288 with 1 Axes>"
      ]
     },
     "metadata": {
      "needs_background": "light"
     },
     "output_type": "display_data"
    }
   ],
   "source": [
    "plt.plot(hist3.history['loss'])\n",
    "plt.plot(hist3.history['val_loss'])"
   ]
  },
  {
   "cell_type": "code",
   "execution_count": 122,
   "id": "97f78780",
   "metadata": {
    "ExecuteTime": {
     "end_time": "2022-05-15T16:17:02.232139Z",
     "start_time": "2022-05-15T16:17:02.141263Z"
    }
   },
   "outputs": [
    {
     "data": {
      "text/plain": [
       "[<matplotlib.lines.Line2D at 0x21fd089dfa0>]"
      ]
     },
     "execution_count": 122,
     "metadata": {},
     "output_type": "execute_result"
    },
    {
     "data": {
      "image/png": "[encoded data removed]",
      "text/plain": [
       "<Figure size 432x288 with 1 Axes>"
      ]
     },
     "metadata": {
      "needs_background": "light"
     },
     "output_type": "display_data"
    }
   ],
   "source": [
    "plt.plot(hist3.history['accuracy'])\n",
    "plt.plot(hist3.history['val_accuracy'])"
   ]
  },
  {
   "cell_type": "code",
   "execution_count": 123,
   "id": "75f2c8af",
   "metadata": {
    "ExecuteTime": {
     "end_time": "2022-05-15T16:19:44.643439Z",
     "start_time": "2022-05-15T16:19:44.553060Z"
    }
   },
   "outputs": [
    {
     "name": "stdout",
     "output_type": "stream",
     "text": [
      "12/12 [==============================] - 0s 3ms/step - loss: 0.8345 - accuracy: 0.7127\n"
     ]
    },
    {
     "data": {
      "text/plain": [
       "[0.8344676494598389, 0.7126760482788086]"
      ]
     },
     "execution_count": 123,
     "metadata": {},
     "output_type": "execute_result"
    }
   ],
   "source": [
    "model3.evaluate(x_test, y_test)"
   ]
  },
  {
   "cell_type": "code",
   "execution_count": null,
   "id": "1242faef",
   "metadata": {},
   "outputs": [],
   "source": []
  },
  {
   "cell_type": "code",
   "execution_count": null,
   "id": "554540db",
   "metadata": {},
   "outputs": [],
   "source": []
  },
  {
   "cell_type": "code",
   "execution_count": null,
   "id": "327a4b79",
   "metadata": {},
   "outputs": [],
   "source": []
  },
  {
   "cell_type": "code",
   "execution_count": null,
   "id": "8d9c17c1",
   "metadata": {},
   "outputs": [],
   "source": []
  },
  {
   "cell_type": "code",
   "execution_count": null,
   "id": "259b91a8",
   "metadata": {},
   "outputs": [],
   "source": []
  },
  {
   "cell_type": "code",
   "execution_count": null,
   "id": "83a68324",
   "metadata": {},
   "outputs": [],
   "source": []
  },
  {
   "cell_type": "code",
   "execution_count": null,
   "id": "8970504a",
   "metadata": {},
   "outputs": [],
   "source": []
  },
  {
   "cell_type": "code",
   "execution_count": null,
   "id": "bf4b66f7",
   "metadata": {},
   "outputs": [],
   "source": []
  },
  {
   "cell_type": "code",
   "execution_count": null,
   "id": "48101af2",
   "metadata": {},
   "outputs": [],
   "source": []
  },
  {
   "cell_type": "code",
   "execution_count": null,
   "id": "7cd3fd29",
   "metadata": {},
   "outputs": [],
   "source": []
  }
 ],
 "metadata": {
  "kernelspec": {
   "display_name": "Python 3 (ipykernel)",
   "language": "python",
   "name": "python3"
  },
  "language_info": {
   "codemirror_mode": {
    "name": "ipython",
    "version": 3
   },
   "file_extension": ".py",
   "mimetype": "text/x-python",
   "name": "python",
   "nbconvert_exporter": "python",
   "pygments_lexer": "ipython3",
   "version": "3.9.7"
  },
  "toc": {
   "base_numbering": 1,
   "nav_menu": {},
   "number_sections": true,
   "sideBar": true,
   "skip_h1_title": false,
   "title_cell": "Table of Contents",
   "title_sidebar": "Contents",
   "toc_cell": false,
   "toc_position": {},
   "toc_section_display": true,
   "toc_window_display": true
  },
  "varInspector": {
   "cols": {
    "lenName": 16,
    "lenType": 16,
    "lenVar": 40
   },
   "kernels_config": {
    "python": {
     "delete_cmd_postfix": "",
     "delete_cmd_prefix": "del ",
     "library": "var_list.py",
     "varRefreshCmd": "print(var_dic_list())"
    },
    "r": {
     "delete_cmd_postfix": ") ",
     "delete_cmd_prefix": "rm(",
     "library": "var_list.r",
     "varRefreshCmd": "cat(var_dic_list()) "
    }
   },
   "types_to_exclude": [
    "module",
    "function",
    "builtin_function_or_method",
    "instance",
    "_Feature"
   ],
   "window_display": false
  }
 },
 "nbformat": 4,
 "nbformat_minor": 5
}
