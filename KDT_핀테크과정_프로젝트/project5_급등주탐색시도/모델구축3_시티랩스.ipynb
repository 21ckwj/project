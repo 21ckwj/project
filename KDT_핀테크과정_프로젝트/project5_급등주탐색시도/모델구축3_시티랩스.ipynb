{
 "cells": [
  {
   "cell_type": "code",
   "execution_count": 29,
   "id": "fe2731f0",
   "metadata": {
    "ExecuteTime": {
     "end_time": "2022-05-15T16:40:12.446861Z",
     "start_time": "2022-05-15T16:40:12.426914Z"
    }
   },
   "outputs": [],
   "source": [
    "import pandas as pd\n",
    "import numpy as np\n",
    "import matplotlib.pyplot as plt\n",
    "import seaborn as sns"
   ]
  },
  {
   "cell_type": "code",
   "execution_count": 30,
   "id": "163b2bac",
   "metadata": {
    "ExecuteTime": {
     "end_time": "2022-05-15T16:40:40.194486Z",
     "start_time": "2022-05-15T16:40:40.182526Z"
    }
   },
   "outputs": [],
   "source": [
    "from datetime import timedelta"
   ]
  },
  {
   "cell_type": "code",
   "execution_count": 31,
   "id": "5e847187",
   "metadata": {
    "ExecuteTime": {
     "end_time": "2022-05-15T16:41:07.517868Z",
     "start_time": "2022-05-15T16:41:07.505941Z"
    }
   },
   "outputs": [],
   "source": [
    "import tensorflow as tf\n",
    "import keras\n",
    "from tensorflow.keras.models import Sequential\n",
    "from tensorflow.keras.layers import Dense, LSTM, Conv1D"
   ]
  },
  {
   "cell_type": "code",
   "execution_count": 32,
   "id": "e8975d56",
   "metadata": {
    "ExecuteTime": {
     "end_time": "2022-05-15T16:41:34.765173Z",
     "start_time": "2022-05-15T16:41:34.706306Z"
    }
   },
   "outputs": [
    {
     "data": {
      "text/html": [
       "<div>\n",
       "<style scoped>\n",
       "    .dataframe tbody tr th:only-of-type {\n",
       "        vertical-align: middle;\n",
       "    }\n",
       "\n",
       "    .dataframe tbody tr th {\n",
       "        vertical-align: top;\n",
       "    }\n",
       "\n",
       "    .dataframe thead th {\n",
       "        text-align: right;\n",
       "    }\n",
       "</style>\n",
       "<table border=\"1\" class=\"dataframe\">\n",
       "  <thead>\n",
       "    <tr style=\"text-align: right;\">\n",
       "      <th></th>\n",
       "      <th>일자</th>\n",
       "      <th>종가</th>\n",
       "      <th>등락률</th>\n",
       "      <th>거래대금</th>\n",
       "      <th>매출액(억원)</th>\n",
       "      <th>영업이익(억원)</th>\n",
       "      <th>당기순이익(억원)</th>\n",
       "      <th>지배주주순이익(억원)</th>\n",
       "      <th>자산총계(억원)</th>\n",
       "      <th>부채총계(억원)</th>\n",
       "      <th>...</th>\n",
       "      <th>EPS(원)</th>\n",
       "      <th>BPS(원)</th>\n",
       "      <th>PBR(배)</th>\n",
       "      <th>고가-종가</th>\n",
       "      <th>고가-시가</th>\n",
       "      <th>고가-저가</th>\n",
       "      <th>종가-시가</th>\n",
       "      <th>종가-저가</th>\n",
       "      <th>시가-저가</th>\n",
       "      <th>전환사채전환총액</th>\n",
       "    </tr>\n",
       "  </thead>\n",
       "  <tbody>\n",
       "    <tr>\n",
       "      <th>1</th>\n",
       "      <td>2016-01-05</td>\n",
       "      <td>3020</td>\n",
       "      <td>0.00</td>\n",
       "      <td>-0.452066</td>\n",
       "      <td>-0.229885</td>\n",
       "      <td>0.666667</td>\n",
       "      <td>4.5</td>\n",
       "      <td>4.5</td>\n",
       "      <td>-0.022624</td>\n",
       "      <td>-0.283582</td>\n",
       "      <td>...</td>\n",
       "      <td>3.357143</td>\n",
       "      <td>0.00627</td>\n",
       "      <td>1.88</td>\n",
       "      <td>-0.913043</td>\n",
       "      <td>-0.176471</td>\n",
       "      <td>-0.200000</td>\n",
       "      <td>-3.000000</td>\n",
       "      <td>8.000000</td>\n",
       "      <td>-0.250000</td>\n",
       "      <td>-0.8</td>\n",
       "    </tr>\n",
       "    <tr>\n",
       "      <th>2</th>\n",
       "      <td>2016-01-06</td>\n",
       "      <td>2895</td>\n",
       "      <td>-4.14</td>\n",
       "      <td>0.292444</td>\n",
       "      <td>-0.229885</td>\n",
       "      <td>0.666667</td>\n",
       "      <td>4.5</td>\n",
       "      <td>4.5</td>\n",
       "      <td>-0.022624</td>\n",
       "      <td>-0.283582</td>\n",
       "      <td>...</td>\n",
       "      <td>3.357143</td>\n",
       "      <td>0.00627</td>\n",
       "      <td>1.88</td>\n",
       "      <td>16.000000</td>\n",
       "      <td>-0.071429</td>\n",
       "      <td>1.250000</td>\n",
       "      <td>-2.750000</td>\n",
       "      <td>-0.388889</td>\n",
       "      <td>4.333333</td>\n",
       "      <td>-0.8</td>\n",
       "    </tr>\n",
       "    <tr>\n",
       "      <th>3</th>\n",
       "      <td>2016-01-07</td>\n",
       "      <td>2945</td>\n",
       "      <td>1.73</td>\n",
       "      <td>0.843234</td>\n",
       "      <td>-0.229885</td>\n",
       "      <td>0.666667</td>\n",
       "      <td>4.5</td>\n",
       "      <td>4.5</td>\n",
       "      <td>-0.022624</td>\n",
       "      <td>-0.283582</td>\n",
       "      <td>...</td>\n",
       "      <td>3.357143</td>\n",
       "      <td>0.00627</td>\n",
       "      <td>1.88</td>\n",
       "      <td>-0.088235</td>\n",
       "      <td>2.615385</td>\n",
       "      <td>0.155556</td>\n",
       "      <td>-1.761905</td>\n",
       "      <td>0.909091</td>\n",
       "      <td>-0.843750</td>\n",
       "      <td>-0.8</td>\n",
       "    </tr>\n",
       "    <tr>\n",
       "      <th>4</th>\n",
       "      <td>2016-01-08</td>\n",
       "      <td>2920</td>\n",
       "      <td>-0.85</td>\n",
       "      <td>-0.546023</td>\n",
       "      <td>-0.229885</td>\n",
       "      <td>0.666667</td>\n",
       "      <td>4.5</td>\n",
       "      <td>4.5</td>\n",
       "      <td>-0.022624</td>\n",
       "      <td>-0.283582</td>\n",
       "      <td>...</td>\n",
       "      <td>3.357143</td>\n",
       "      <td>0.00627</td>\n",
       "      <td>1.88</td>\n",
       "      <td>-0.870968</td>\n",
       "      <td>-0.829787</td>\n",
       "      <td>-0.288462</td>\n",
       "      <td>-0.750000</td>\n",
       "      <td>0.571429</td>\n",
       "      <td>4.800000</td>\n",
       "      <td>-0.8</td>\n",
       "    </tr>\n",
       "    <tr>\n",
       "      <th>5</th>\n",
       "      <td>2016-01-11</td>\n",
       "      <td>2810</td>\n",
       "      <td>-3.77</td>\n",
       "      <td>-0.349444</td>\n",
       "      <td>-0.229885</td>\n",
       "      <td>0.666667</td>\n",
       "      <td>4.5</td>\n",
       "      <td>4.5</td>\n",
       "      <td>-0.022624</td>\n",
       "      <td>-0.283582</td>\n",
       "      <td>...</td>\n",
       "      <td>3.357143</td>\n",
       "      <td>0.00627</td>\n",
       "      <td>1.88</td>\n",
       "      <td>5.250000</td>\n",
       "      <td>-0.375000</td>\n",
       "      <td>-0.270270</td>\n",
       "      <td>-6.000000</td>\n",
       "      <td>-0.939394</td>\n",
       "      <td>-0.241379</td>\n",
       "      <td>-0.8</td>\n",
       "    </tr>\n",
       "  </tbody>\n",
       "</table>\n",
       "<p>5 rows × 27 columns</p>\n",
       "</div>"
      ],
      "text/plain": [
       "           일자    종가   등락률      거래대금   매출액(억원)  영업이익(억원)  당기순이익(억원)  \\\n",
       "1  2016-01-05  3020  0.00 -0.452066 -0.229885  0.666667        4.5   \n",
       "2  2016-01-06  2895 -4.14  0.292444 -0.229885  0.666667        4.5   \n",
       "3  2016-01-07  2945  1.73  0.843234 -0.229885  0.666667        4.5   \n",
       "4  2016-01-08  2920 -0.85 -0.546023 -0.229885  0.666667        4.5   \n",
       "5  2016-01-11  2810 -3.77 -0.349444 -0.229885  0.666667        4.5   \n",
       "\n",
       "   지배주주순이익(억원)  자산총계(억원)  부채총계(억원)  ...    EPS(원)   BPS(원)  PBR(배)      고가-종가  \\\n",
       "1          4.5 -0.022624 -0.283582  ...  3.357143  0.00627    1.88  -0.913043   \n",
       "2          4.5 -0.022624 -0.283582  ...  3.357143  0.00627    1.88  16.000000   \n",
       "3          4.5 -0.022624 -0.283582  ...  3.357143  0.00627    1.88  -0.088235   \n",
       "4          4.5 -0.022624 -0.283582  ...  3.357143  0.00627    1.88  -0.870968   \n",
       "5          4.5 -0.022624 -0.283582  ...  3.357143  0.00627    1.88   5.250000   \n",
       "\n",
       "      고가-시가     고가-저가     종가-시가     종가-저가     시가-저가  전환사채전환총액  \n",
       "1 -0.176471 -0.200000 -3.000000  8.000000 -0.250000      -0.8  \n",
       "2 -0.071429  1.250000 -2.750000 -0.388889  4.333333      -0.8  \n",
       "3  2.615385  0.155556 -1.761905  0.909091 -0.843750      -0.8  \n",
       "4 -0.829787 -0.288462 -0.750000  0.571429  4.800000      -0.8  \n",
       "5 -0.375000 -0.270270 -6.000000 -0.939394 -0.241379      -0.8  \n",
       "\n",
       "[5 rows x 27 columns]"
      ]
     },
     "execution_count": 32,
     "metadata": {},
     "output_type": "execute_result"
    }
   ],
   "source": [
    "df_ct = pd.read_csv('./data/시티랩스_모델데이터1.csv',index_col=0)\n",
    "df_ct.head()"
   ]
  },
  {
   "cell_type": "code",
   "execution_count": 33,
   "id": "3d912274",
   "metadata": {
    "ExecuteTime": {
     "end_time": "2022-05-15T16:42:01.958848Z",
     "start_time": "2022-05-15T16:42:01.943888Z"
    }
   },
   "outputs": [
    {
     "data": {
      "text/plain": [
       "Index(['일자', '종가', '등락률', '거래대금', '매출액(억원)', '영업이익(억원)', '당기순이익(억원)',\n",
       "       '지배주주순이익(억원)', '자산총계(억원)', '부채총계(억원)', '자본총계(억원)', '자본금(억원)', '부채비율(%)',\n",
       "       '영업이익률(%)', '지배주주순이익률(%)', 'ROA(%)', 'ROE(%)', 'EPS(원)', 'BPS(원)',\n",
       "       'PBR(배)', '고가-종가', '고가-시가', '고가-저가', '종가-시가', '종가-저가', '시가-저가',\n",
       "       '전환사채전환총액'],\n",
       "      dtype='object')"
      ]
     },
     "execution_count": 33,
     "metadata": {},
     "output_type": "execute_result"
    }
   ],
   "source": [
    " df_ct.columns"
   ]
  },
  {
   "cell_type": "code",
   "execution_count": 34,
   "id": "9527e9e3",
   "metadata": {
    "ExecuteTime": {
     "end_time": "2022-05-15T16:42:29.387572Z",
     "start_time": "2022-05-15T16:42:29.373644Z"
    }
   },
   "outputs": [],
   "source": [
    "df_ct1 = df_ct[['등락률', '거래대금','고가-종가', '고가-시가', '고가-저가', '종가-시가', '종가-저가', '시가-저가']]"
   ]
  },
  {
   "cell_type": "code",
   "execution_count": 35,
   "id": "b62cb899",
   "metadata": {
    "ExecuteTime": {
     "end_time": "2022-05-15T16:42:56.996643Z",
     "start_time": "2022-05-15T16:42:56.967312Z"
    }
   },
   "outputs": [
    {
     "data": {
      "text/html": [
       "<div>\n",
       "<style scoped>\n",
       "    .dataframe tbody tr th:only-of-type {\n",
       "        vertical-align: middle;\n",
       "    }\n",
       "\n",
       "    .dataframe tbody tr th {\n",
       "        vertical-align: top;\n",
       "    }\n",
       "\n",
       "    .dataframe thead th {\n",
       "        text-align: right;\n",
       "    }\n",
       "</style>\n",
       "<table border=\"1\" class=\"dataframe\">\n",
       "  <thead>\n",
       "    <tr style=\"text-align: right;\">\n",
       "      <th></th>\n",
       "      <th>등락률</th>\n",
       "      <th>거래대금</th>\n",
       "      <th>고가-종가</th>\n",
       "      <th>고가-시가</th>\n",
       "      <th>고가-저가</th>\n",
       "      <th>종가-시가</th>\n",
       "      <th>종가-저가</th>\n",
       "      <th>시가-저가</th>\n",
       "    </tr>\n",
       "  </thead>\n",
       "  <tbody>\n",
       "    <tr>\n",
       "      <th>1</th>\n",
       "      <td>0.00</td>\n",
       "      <td>-0.452066</td>\n",
       "      <td>-0.913043</td>\n",
       "      <td>-0.176471</td>\n",
       "      <td>-0.200000</td>\n",
       "      <td>-3.000000</td>\n",
       "      <td>8.000000</td>\n",
       "      <td>-0.250000</td>\n",
       "    </tr>\n",
       "    <tr>\n",
       "      <th>2</th>\n",
       "      <td>-4.14</td>\n",
       "      <td>0.292444</td>\n",
       "      <td>16.000000</td>\n",
       "      <td>-0.071429</td>\n",
       "      <td>1.250000</td>\n",
       "      <td>-2.750000</td>\n",
       "      <td>-0.388889</td>\n",
       "      <td>4.333333</td>\n",
       "    </tr>\n",
       "    <tr>\n",
       "      <th>3</th>\n",
       "      <td>1.73</td>\n",
       "      <td>0.843234</td>\n",
       "      <td>-0.088235</td>\n",
       "      <td>2.615385</td>\n",
       "      <td>0.155556</td>\n",
       "      <td>-1.761905</td>\n",
       "      <td>0.909091</td>\n",
       "      <td>-0.843750</td>\n",
       "    </tr>\n",
       "  </tbody>\n",
       "</table>\n",
       "</div>"
      ],
      "text/plain": [
       "    등락률      거래대금      고가-종가     고가-시가     고가-저가     종가-시가     종가-저가     시가-저가\n",
       "1  0.00 -0.452066  -0.913043 -0.176471 -0.200000 -3.000000  8.000000 -0.250000\n",
       "2 -4.14  0.292444  16.000000 -0.071429  1.250000 -2.750000 -0.388889  4.333333\n",
       "3  1.73  0.843234  -0.088235  2.615385  0.155556 -1.761905  0.909091 -0.843750"
      ]
     },
     "execution_count": 35,
     "metadata": {},
     "output_type": "execute_result"
    }
   ],
   "source": [
    "df_ct1.head(3)"
   ]
  },
  {
   "cell_type": "code",
   "execution_count": 36,
   "id": "8fa0e552",
   "metadata": {
    "ExecuteTime": {
     "end_time": "2022-05-15T16:43:24.542047Z",
     "start_time": "2022-05-15T16:43:24.530091Z"
    }
   },
   "outputs": [
    {
     "name": "stdout",
     "output_type": "stream",
     "text": [
      "없음\n",
      "1\n",
      "없음\n",
      "없음\n",
      "없음\n",
      "없음\n",
      "없음\n",
      "없음\n"
     ]
    }
   ],
   "source": [
    "for i in range(len(df_ct1.columns)):\n",
    "    \n",
    "    if np.inf in df_ct1.iloc[:,i].unique():\n",
    "        print(i)  \n",
    "        \n",
    "    else:\n",
    "        print('없음')"
   ]
  },
  {
   "cell_type": "code",
   "execution_count": 37,
   "id": "9f81c013",
   "metadata": {
    "ExecuteTime": {
     "end_time": "2022-05-15T16:43:52.250163Z",
     "start_time": "2022-05-15T16:43:52.222241Z"
    }
   },
   "outputs": [
    {
     "data": {
      "text/html": [
       "<div>\n",
       "<style scoped>\n",
       "    .dataframe tbody tr th:only-of-type {\n",
       "        vertical-align: middle;\n",
       "    }\n",
       "\n",
       "    .dataframe tbody tr th {\n",
       "        vertical-align: top;\n",
       "    }\n",
       "\n",
       "    .dataframe thead th {\n",
       "        text-align: right;\n",
       "    }\n",
       "</style>\n",
       "<table border=\"1\" class=\"dataframe\">\n",
       "  <thead>\n",
       "    <tr style=\"text-align: right;\">\n",
       "      <th></th>\n",
       "      <th>등락률</th>\n",
       "      <th>거래대금</th>\n",
       "      <th>고가-종가</th>\n",
       "      <th>고가-시가</th>\n",
       "      <th>고가-저가</th>\n",
       "      <th>종가-시가</th>\n",
       "      <th>종가-저가</th>\n",
       "      <th>시가-저가</th>\n",
       "    </tr>\n",
       "  </thead>\n",
       "  <tbody>\n",
       "    <tr>\n",
       "      <th>275</th>\n",
       "      <td>-11.63</td>\n",
       "      <td>inf</td>\n",
       "      <td>-1.090116</td>\n",
       "      <td>39.0</td>\n",
       "      <td>324.0</td>\n",
       "      <td>-1.078488</td>\n",
       "      <td>-0.995640</td>\n",
       "      <td>284.0</td>\n",
       "    </tr>\n",
       "    <tr>\n",
       "      <th>281</th>\n",
       "      <td>-7.62</td>\n",
       "      <td>inf</td>\n",
       "      <td>-1.068254</td>\n",
       "      <td>99.0</td>\n",
       "      <td>214.0</td>\n",
       "      <td>-1.036508</td>\n",
       "      <td>-0.999683</td>\n",
       "      <td>114.0</td>\n",
       "    </tr>\n",
       "    <tr>\n",
       "      <th>501</th>\n",
       "      <td>-2.35</td>\n",
       "      <td>inf</td>\n",
       "      <td>-1.239216</td>\n",
       "      <td>359.0</td>\n",
       "      <td>1339.0</td>\n",
       "      <td>-1.168627</td>\n",
       "      <td>-0.976471</td>\n",
       "      <td>979.0</td>\n",
       "    </tr>\n",
       "    <tr>\n",
       "      <th>1100</th>\n",
       "      <td>-8.92</td>\n",
       "      <td>inf</td>\n",
       "      <td>-1.069231</td>\n",
       "      <td>22.0</td>\n",
       "      <td>45.0</td>\n",
       "      <td>-1.033846</td>\n",
       "      <td>-0.998462</td>\n",
       "      <td>22.0</td>\n",
       "    </tr>\n",
       "  </tbody>\n",
       "</table>\n",
       "</div>"
      ],
      "text/plain": [
       "        등락률  거래대금     고가-종가  고가-시가   고가-저가     종가-시가     종가-저가  시가-저가\n",
       "275  -11.63   inf -1.090116   39.0   324.0 -1.078488 -0.995640  284.0\n",
       "281   -7.62   inf -1.068254   99.0   214.0 -1.036508 -0.999683  114.0\n",
       "501   -2.35   inf -1.239216  359.0  1339.0 -1.168627 -0.976471  979.0\n",
       "1100  -8.92   inf -1.069231   22.0    45.0 -1.033846 -0.998462   22.0"
      ]
     },
     "execution_count": 37,
     "metadata": {},
     "output_type": "execute_result"
    }
   ],
   "source": [
    "df_ct1[df_ct1.거래대금 == np.inf]"
   ]
  },
  {
   "cell_type": "code",
   "execution_count": 38,
   "id": "5c4d5708",
   "metadata": {
    "ExecuteTime": {
     "end_time": "2022-05-15T16:44:19.847930Z",
     "start_time": "2022-05-15T16:44:19.833898Z"
    }
   },
   "outputs": [
    {
     "data": {
      "text/html": [
       "<div>\n",
       "<style scoped>\n",
       "    .dataframe tbody tr th:only-of-type {\n",
       "        vertical-align: middle;\n",
       "    }\n",
       "\n",
       "    .dataframe tbody tr th {\n",
       "        vertical-align: top;\n",
       "    }\n",
       "\n",
       "    .dataframe thead th {\n",
       "        text-align: right;\n",
       "    }\n",
       "</style>\n",
       "<table border=\"1\" class=\"dataframe\">\n",
       "  <thead>\n",
       "    <tr style=\"text-align: right;\">\n",
       "      <th></th>\n",
       "      <th>등락률</th>\n",
       "      <th>거래대금</th>\n",
       "      <th>고가-종가</th>\n",
       "      <th>고가-시가</th>\n",
       "      <th>고가-저가</th>\n",
       "      <th>종가-시가</th>\n",
       "      <th>종가-저가</th>\n",
       "      <th>시가-저가</th>\n",
       "    </tr>\n",
       "  </thead>\n",
       "  <tbody>\n",
       "    <tr>\n",
       "      <th>1</th>\n",
       "      <td>0.00</td>\n",
       "      <td>-0.452066</td>\n",
       "      <td>-0.913043</td>\n",
       "      <td>-0.176471</td>\n",
       "      <td>-0.200000</td>\n",
       "      <td>-3.000000</td>\n",
       "      <td>8.000000</td>\n",
       "      <td>-0.250000</td>\n",
       "    </tr>\n",
       "    <tr>\n",
       "      <th>2</th>\n",
       "      <td>-4.14</td>\n",
       "      <td>0.292444</td>\n",
       "      <td>16.000000</td>\n",
       "      <td>-0.071429</td>\n",
       "      <td>1.250000</td>\n",
       "      <td>-2.750000</td>\n",
       "      <td>-0.388889</td>\n",
       "      <td>4.333333</td>\n",
       "    </tr>\n",
       "    <tr>\n",
       "      <th>3</th>\n",
       "      <td>1.73</td>\n",
       "      <td>0.843234</td>\n",
       "      <td>-0.088235</td>\n",
       "      <td>2.615385</td>\n",
       "      <td>0.155556</td>\n",
       "      <td>-1.761905</td>\n",
       "      <td>0.909091</td>\n",
       "      <td>-0.843750</td>\n",
       "    </tr>\n",
       "    <tr>\n",
       "      <th>4</th>\n",
       "      <td>-0.85</td>\n",
       "      <td>-0.546023</td>\n",
       "      <td>-0.870968</td>\n",
       "      <td>-0.829787</td>\n",
       "      <td>-0.288462</td>\n",
       "      <td>-0.750000</td>\n",
       "      <td>0.571429</td>\n",
       "      <td>4.800000</td>\n",
       "    </tr>\n",
       "    <tr>\n",
       "      <th>5</th>\n",
       "      <td>-3.77</td>\n",
       "      <td>-0.349444</td>\n",
       "      <td>5.250000</td>\n",
       "      <td>-0.375000</td>\n",
       "      <td>-0.270270</td>\n",
       "      <td>-6.000000</td>\n",
       "      <td>-0.939394</td>\n",
       "      <td>-0.241379</td>\n",
       "    </tr>\n",
       "  </tbody>\n",
       "</table>\n",
       "</div>"
      ],
      "text/plain": [
       "    등락률      거래대금      고가-종가     고가-시가     고가-저가     종가-시가     종가-저가     시가-저가\n",
       "1  0.00 -0.452066  -0.913043 -0.176471 -0.200000 -3.000000  8.000000 -0.250000\n",
       "2 -4.14  0.292444  16.000000 -0.071429  1.250000 -2.750000 -0.388889  4.333333\n",
       "3  1.73  0.843234  -0.088235  2.615385  0.155556 -1.761905  0.909091 -0.843750\n",
       "4 -0.85 -0.546023  -0.870968 -0.829787 -0.288462 -0.750000  0.571429  4.800000\n",
       "5 -3.77 -0.349444   5.250000 -0.375000 -0.270270 -6.000000 -0.939394 -0.241379"
      ]
     },
     "execution_count": 38,
     "metadata": {},
     "output_type": "execute_result"
    }
   ],
   "source": [
    "df_ct2 = df_ct1[df_ct1.거래대금 != np.inf]\n",
    "df_ct2.head()"
   ]
  },
  {
   "cell_type": "code",
   "execution_count": 39,
   "id": "b5544990",
   "metadata": {
    "ExecuteTime": {
     "end_time": "2022-05-15T16:44:47.525879Z",
     "start_time": "2022-05-15T16:44:47.511920Z"
    }
   },
   "outputs": [
    {
     "data": {
      "text/plain": [
       "(1470, 8)"
      ]
     },
     "execution_count": 39,
     "metadata": {},
     "output_type": "execute_result"
    }
   ],
   "source": [
    "df_ct2.shape"
   ]
  },
  {
   "cell_type": "code",
   "execution_count": null,
   "id": "8f18983b",
   "metadata": {},
   "outputs": [],
   "source": []
  },
  {
   "cell_type": "code",
   "execution_count": null,
   "id": "a3ac85ca",
   "metadata": {},
   "outputs": [],
   "source": []
  },
  {
   "cell_type": "code",
   "execution_count": 51,
   "id": "b86508ea",
   "metadata": {
    "ExecuteTime": {
     "end_time": "2022-05-15T16:57:19.019370Z",
     "start_time": "2022-05-15T16:57:17.351189Z"
    }
   },
   "outputs": [],
   "source": [
    "window_size = 10\n",
    "target_period = 10\n",
    "\n",
    "X = []\n",
    "Y = []\n",
    "\n",
    "\n",
    "for i in range(len(df_ct2) - window_size-target_period): \n",
    "    \n",
    "    # 피쳐값 \n",
    "    X.append([df_ct2.iloc[i+j,1:] for j in range(window_size)]) # j= 0부터 29 -> 30일치 데이터\n",
    "\n",
    "    # 등락률 \n",
    "    Y.append([df_ct2.iloc[window_size+i+j,0] for j in range(target_period)])\n",
    "    \n",
    "Y1 = []\n",
    "for y in Y:\n",
    "    toggle = 0\n",
    "    for i in y:\n",
    "\n",
    "        if i >= 7:\n",
    "            Y1.append(1)\n",
    "            toggle = 1\n",
    "            break\n",
    "    if toggle != 1:\n",
    "        Y1.append(0)\n"
   ]
  },
  {
   "cell_type": "code",
   "execution_count": 52,
   "id": "2510ad19",
   "metadata": {
    "ExecuteTime": {
     "end_time": "2022-05-15T16:57:28.296132Z",
     "start_time": "2022-05-15T16:57:28.234988Z"
    }
   },
   "outputs": [],
   "source": [
    "X_ary = np.array(X).astype(float)\n",
    "Y1_ary = np.array(Y1).astype(float)"
   ]
  },
  {
   "cell_type": "code",
   "execution_count": 53,
   "id": "9bf3b8da",
   "metadata": {
    "ExecuteTime": {
     "end_time": "2022-05-15T16:57:37.443851Z",
     "start_time": "2022-05-15T16:57:37.428970Z"
    }
   },
   "outputs": [],
   "source": [
    "train_test_split = 1100\n",
    "\n",
    "x_train = X_ary[:1100]\n",
    "y_train = Y1_ary[:1100]\n",
    "\n",
    "x_test = X_ary[1100:]\n",
    "y_test = Y1_ary[1100:]"
   ]
  },
  {
   "cell_type": "code",
   "execution_count": 54,
   "id": "4832d630",
   "metadata": {
    "ExecuteTime": {
     "end_time": "2022-05-15T16:57:46.571233Z",
     "start_time": "2022-05-15T16:57:46.559266Z"
    }
   },
   "outputs": [
    {
     "data": {
      "text/plain": [
       "(1100, 10, 7)"
      ]
     },
     "execution_count": 54,
     "metadata": {},
     "output_type": "execute_result"
    }
   ],
   "source": [
    "x_train.shape"
   ]
  },
  {
   "cell_type": "code",
   "execution_count": 55,
   "id": "78f97e33",
   "metadata": {
    "ExecuteTime": {
     "end_time": "2022-05-15T16:57:55.938065Z",
     "start_time": "2022-05-15T16:57:55.736374Z"
    }
   },
   "outputs": [
    {
     "name": "stdout",
     "output_type": "stream",
     "text": [
      "Model: \"sequential_2\"\n",
      "_________________________________________________________________\n",
      " Layer (type)                Output Shape              Param #   \n",
      "=================================================================\n",
      " lstm_2 (LSTM)               (None, 100)               43200     \n",
      "                                                                 \n",
      " dense_2 (Dense)             (None, 1)                 101       \n",
      "                                                                 \n",
      "=================================================================\n",
      "Total params: 43,301\n",
      "Trainable params: 43,301\n",
      "Non-trainable params: 0\n",
      "_________________________________________________________________\n"
     ]
    }
   ],
   "source": [
    "with tf.device('/GPU:0'):\n",
    "    model = Sequential()\n",
    "    model.add(LSTM(100, input_shape=(10,7)))\n",
    "    model.add(Dense(1,activation='sigmoid'))\n",
    "    model.summary()"
   ]
  },
  {
   "cell_type": "code",
   "execution_count": 56,
   "id": "3000b25f",
   "metadata": {
    "ExecuteTime": {
     "end_time": "2022-05-15T16:58:05.070724Z",
     "start_time": "2022-05-15T16:58:05.056765Z"
    }
   },
   "outputs": [],
   "source": [
    "# learning rate 설정\n",
    "Adam = tf.keras.optimizers.Adam(learning_rate=0.0001)"
   ]
  },
  {
   "cell_type": "code",
   "execution_count": 57,
   "id": "2a532a86",
   "metadata": {
    "ExecuteTime": {
     "end_time": "2022-05-15T16:58:14.159917Z",
     "start_time": "2022-05-15T16:58:14.130041Z"
    }
   },
   "outputs": [],
   "source": [
    "model.compile(loss='binary_crossentropy', metrics ='accuracy', optimizer=Adam)"
   ]
  },
  {
   "cell_type": "code",
   "execution_count": 58,
   "id": "d46f88b0",
   "metadata": {
    "ExecuteTime": {
     "end_time": "2022-05-15T16:58:51.136017Z",
     "start_time": "2022-05-15T16:58:23.281152Z"
    },
    "scrolled": true
   },
   "outputs": [
    {
     "name": "stdout",
     "output_type": "stream",
     "text": [
      "Epoch 1/50\n",
      "110/110 [==============================] - 2s 7ms/step - loss: 0.6340 - accuracy: 0.6755 - val_loss: 0.6351 - val_accuracy: 0.7143\n",
      "Epoch 2/50\n",
      "110/110 [==============================] - 1s 5ms/step - loss: 0.6016 - accuracy: 0.6891 - val_loss: 0.6232 - val_accuracy: 0.7229\n",
      "Epoch 3/50\n",
      "110/110 [==============================] - 1s 5ms/step - loss: 0.5877 - accuracy: 0.6955 - val_loss: 0.6205 - val_accuracy: 0.7229\n",
      "Epoch 4/50\n",
      "110/110 [==============================] - 1s 5ms/step - loss: 0.5746 - accuracy: 0.7009 - val_loss: 0.6205 - val_accuracy: 0.7314\n",
      "Epoch 5/50\n",
      "110/110 [==============================] - 1s 5ms/step - loss: 0.5612 - accuracy: 0.7027 - val_loss: 0.6247 - val_accuracy: 0.7343\n",
      "Epoch 6/50\n",
      "110/110 [==============================] - 1s 5ms/step - loss: 0.5466 - accuracy: 0.7245 - val_loss: 0.6298 - val_accuracy: 0.7343\n",
      "Epoch 7/50\n",
      "110/110 [==============================] - 1s 5ms/step - loss: 0.5284 - accuracy: 0.7282 - val_loss: 0.6401 - val_accuracy: 0.7371\n",
      "Epoch 8/50\n",
      "110/110 [==============================] - 1s 5ms/step - loss: 0.5056 - accuracy: 0.7482 - val_loss: 0.6631 - val_accuracy: 0.7286\n",
      "Epoch 9/50\n",
      "110/110 [==============================] - 1s 5ms/step - loss: 0.4752 - accuracy: 0.7809 - val_loss: 0.6821 - val_accuracy: 0.7229\n",
      "Epoch 10/50\n",
      "110/110 [==============================] - 1s 5ms/step - loss: 0.4388 - accuracy: 0.8136 - val_loss: 0.7310 - val_accuracy: 0.6457\n",
      "Epoch 11/50\n",
      "110/110 [==============================] - 1s 5ms/step - loss: 0.4008 - accuracy: 0.8418 - val_loss: 0.8048 - val_accuracy: 0.5943\n",
      "Epoch 12/50\n",
      "110/110 [==============================] - 1s 5ms/step - loss: 0.3653 - accuracy: 0.8600 - val_loss: 0.8507 - val_accuracy: 0.6057\n",
      "Epoch 13/50\n",
      "110/110 [==============================] - 1s 5ms/step - loss: 0.3320 - accuracy: 0.8791 - val_loss: 0.9337 - val_accuracy: 0.5400\n",
      "Epoch 14/50\n",
      "110/110 [==============================] - 1s 5ms/step - loss: 0.3043 - accuracy: 0.8973 - val_loss: 0.9706 - val_accuracy: 0.5429\n",
      "Epoch 15/50\n",
      "110/110 [==============================] - 1s 5ms/step - loss: 0.2803 - accuracy: 0.8982 - val_loss: 1.0224 - val_accuracy: 0.5429\n",
      "Epoch 16/50\n",
      "110/110 [==============================] - 1s 5ms/step - loss: 0.2551 - accuracy: 0.9136 - val_loss: 1.0709 - val_accuracy: 0.5514\n",
      "Epoch 17/50\n",
      "110/110 [==============================] - 1s 5ms/step - loss: 0.2397 - accuracy: 0.9100 - val_loss: 1.1269 - val_accuracy: 0.5171\n",
      "Epoch 18/50\n",
      "110/110 [==============================] - 1s 5ms/step - loss: 0.2214 - accuracy: 0.9300 - val_loss: 1.1583 - val_accuracy: 0.5571\n",
      "Epoch 19/50\n",
      "110/110 [==============================] - 1s 5ms/step - loss: 0.2037 - accuracy: 0.9336 - val_loss: 1.2344 - val_accuracy: 0.5314\n",
      "Epoch 20/50\n",
      "110/110 [==============================] - 1s 5ms/step - loss: 0.1881 - accuracy: 0.9418 - val_loss: 1.2611 - val_accuracy: 0.5771\n",
      "Epoch 21/50\n",
      "110/110 [==============================] - 1s 5ms/step - loss: 0.1758 - accuracy: 0.9400 - val_loss: 1.3574 - val_accuracy: 0.5114\n",
      "Epoch 22/50\n",
      "110/110 [==============================] - 1s 5ms/step - loss: 0.1666 - accuracy: 0.9482 - val_loss: 1.3577 - val_accuracy: 0.5543\n",
      "Epoch 23/50\n",
      "110/110 [==============================] - 1s 5ms/step - loss: 0.1600 - accuracy: 0.9473 - val_loss: 1.4164 - val_accuracy: 0.5429\n",
      "Epoch 24/50\n",
      "110/110 [==============================] - 1s 5ms/step - loss: 0.1471 - accuracy: 0.9582 - val_loss: 1.4143 - val_accuracy: 0.5600\n",
      "Epoch 25/50\n",
      "110/110 [==============================] - 1s 5ms/step - loss: 0.1370 - accuracy: 0.9618 - val_loss: 1.4554 - val_accuracy: 0.5686\n",
      "Epoch 26/50\n",
      "110/110 [==============================] - 1s 5ms/step - loss: 0.1388 - accuracy: 0.9618 - val_loss: 1.4401 - val_accuracy: 0.5629\n",
      "Epoch 27/50\n",
      "110/110 [==============================] - 1s 5ms/step - loss: 0.1265 - accuracy: 0.9600 - val_loss: 1.4774 - val_accuracy: 0.5829\n",
      "Epoch 28/50\n",
      "110/110 [==============================] - 1s 5ms/step - loss: 0.1125 - accuracy: 0.9664 - val_loss: 1.6061 - val_accuracy: 0.5543\n",
      "Epoch 29/50\n",
      "110/110 [==============================] - 1s 5ms/step - loss: 0.1131 - accuracy: 0.9664 - val_loss: 1.5917 - val_accuracy: 0.5686\n",
      "Epoch 30/50\n",
      "110/110 [==============================] - 1s 5ms/step - loss: 0.1018 - accuracy: 0.9727 - val_loss: 1.6459 - val_accuracy: 0.5600\n",
      "Epoch 31/50\n",
      "110/110 [==============================] - 1s 5ms/step - loss: 0.0952 - accuracy: 0.9736 - val_loss: 1.7253 - val_accuracy: 0.5600\n",
      "Epoch 32/50\n",
      "110/110 [==============================] - 1s 5ms/step - loss: 0.0917 - accuracy: 0.9736 - val_loss: 1.7592 - val_accuracy: 0.5457\n",
      "Epoch 33/50\n",
      "110/110 [==============================] - 1s 5ms/step - loss: 0.0933 - accuracy: 0.9727 - val_loss: 1.7512 - val_accuracy: 0.5686\n",
      "Epoch 34/50\n",
      "110/110 [==============================] - 1s 5ms/step - loss: 0.0872 - accuracy: 0.9736 - val_loss: 1.7593 - val_accuracy: 0.5914\n",
      "Epoch 35/50\n",
      "110/110 [==============================] - 1s 5ms/step - loss: 0.0842 - accuracy: 0.9773 - val_loss: 1.7466 - val_accuracy: 0.6029\n",
      "Epoch 36/50\n",
      "110/110 [==============================] - 1s 5ms/step - loss: 0.0741 - accuracy: 0.9864 - val_loss: 1.9061 - val_accuracy: 0.5400\n",
      "Epoch 37/50\n",
      "110/110 [==============================] - 1s 5ms/step - loss: 0.0693 - accuracy: 0.9818 - val_loss: 1.8708 - val_accuracy: 0.5771\n",
      "Epoch 38/50\n",
      "110/110 [==============================] - 1s 5ms/step - loss: 0.0665 - accuracy: 0.9864 - val_loss: 2.0086 - val_accuracy: 0.5629\n",
      "Epoch 39/50\n",
      "110/110 [==============================] - 1s 5ms/step - loss: 0.0642 - accuracy: 0.9855 - val_loss: 2.0692 - val_accuracy: 0.5429\n",
      "Epoch 40/50\n",
      "110/110 [==============================] - 1s 5ms/step - loss: 0.0622 - accuracy: 0.9882 - val_loss: 2.1230 - val_accuracy: 0.5457\n",
      "Epoch 41/50\n",
      "110/110 [==============================] - 1s 5ms/step - loss: 0.0593 - accuracy: 0.9845 - val_loss: 2.0905 - val_accuracy: 0.5686\n",
      "Epoch 42/50\n",
      "110/110 [==============================] - 1s 5ms/step - loss: 0.0544 - accuracy: 0.9900 - val_loss: 2.1390 - val_accuracy: 0.5886\n",
      "Epoch 43/50\n",
      "110/110 [==============================] - 1s 5ms/step - loss: 0.0637 - accuracy: 0.9818 - val_loss: 2.1367 - val_accuracy: 0.6000\n",
      "Epoch 44/50\n",
      "110/110 [==============================] - 1s 5ms/step - loss: 0.0542 - accuracy: 0.9845 - val_loss: 2.1404 - val_accuracy: 0.5943\n",
      "Epoch 45/50\n",
      "110/110 [==============================] - 1s 5ms/step - loss: 0.0502 - accuracy: 0.9891 - val_loss: 2.1606 - val_accuracy: 0.6171\n",
      "Epoch 46/50\n",
      "110/110 [==============================] - 1s 5ms/step - loss: 0.0461 - accuracy: 0.9891 - val_loss: 2.1969 - val_accuracy: 0.5914\n",
      "Epoch 47/50\n",
      "110/110 [==============================] - 1s 5ms/step - loss: 0.0444 - accuracy: 0.9900 - val_loss: 2.3223 - val_accuracy: 0.5714\n",
      "Epoch 48/50\n",
      "110/110 [==============================] - 1s 5ms/step - loss: 0.0581 - accuracy: 0.9873 - val_loss: 2.2475 - val_accuracy: 0.6114\n",
      "Epoch 49/50\n",
      "110/110 [==============================] - 1s 5ms/step - loss: 0.0426 - accuracy: 0.9909 - val_loss: 2.3409 - val_accuracy: 0.5800\n",
      "Epoch 50/50\n",
      "110/110 [==============================] - 1s 5ms/step - loss: 0.0407 - accuracy: 0.9945 - val_loss: 2.3606 - val_accuracy: 0.5800\n"
     ]
    }
   ],
   "source": [
    "hist = model.fit(x_train, y_train, epochs=50, batch_size= 10, validation_data= (x_test,y_test))"
   ]
  },
  {
   "cell_type": "code",
   "execution_count": 61,
   "id": "758b15ed",
   "metadata": {
    "ExecuteTime": {
     "end_time": "2022-05-15T16:59:45.925479Z",
     "start_time": "2022-05-15T16:59:45.838466Z"
    }
   },
   "outputs": [
    {
     "data": {
      "text/plain": [
       "[<matplotlib.lines.Line2D at 0x1ddb443cf40>]"
      ]
     },
     "execution_count": 61,
     "metadata": {},
     "output_type": "execute_result"
    },
    {
     "data": {
      "image/png": "[encoded data removed]",
      "text/plain": [
       "<Figure size 432x288 with 1 Axes>"
      ]
     },
     "metadata": {
      "needs_background": "light"
     },
     "output_type": "display_data"
    }
   ],
   "source": [
    "plt.plot(hist.history['loss'])\n",
    "plt.plot(hist.history['val_loss'])"
   ]
  },
  {
   "cell_type": "code",
   "execution_count": 62,
   "id": "afee9d22",
   "metadata": {
    "ExecuteTime": {
     "end_time": "2022-05-15T16:59:55.306778Z",
     "start_time": "2022-05-15T16:59:55.216024Z"
    }
   },
   "outputs": [
    {
     "data": {
      "text/plain": [
       "[<matplotlib.lines.Line2D at 0x1ddb44a96d0>]"
      ]
     },
     "execution_count": 62,
     "metadata": {},
     "output_type": "execute_result"
    },
    {
     "data": {
      "image/png": "[encoded data removed]",
      "text/plain": [
       "<Figure size 432x288 with 1 Axes>"
      ]
     },
     "metadata": {
      "needs_background": "light"
     },
     "output_type": "display_data"
    }
   ],
   "source": [
    "plt.plot(hist.history['accuracy'])\n",
    "plt.plot(hist.history['val_accuracy'])"
   ]
  },
  {
   "cell_type": "code",
   "execution_count": 63,
   "id": "566d2c1c",
   "metadata": {
    "ExecuteTime": {
     "end_time": "2022-05-15T17:00:05.050015Z",
     "start_time": "2022-05-15T17:00:04.691134Z"
    }
   },
   "outputs": [
    {
     "name": "stdout",
     "output_type": "stream",
     "text": [
      "11/11 [==============================] - 0s 3ms/step - loss: 2.3606 - accuracy: 0.5800\n"
     ]
    },
    {
     "data": {
      "text/plain": [
       "[2.3606090545654297, 0.5799999833106995]"
      ]
     },
     "execution_count": 63,
     "metadata": {},
     "output_type": "execute_result"
    }
   ],
   "source": [
    "model.evaluate(x_test,y_test)"
   ]
  },
  {
   "cell_type": "code",
   "execution_count": null,
   "id": "3eb1d1e2",
   "metadata": {},
   "outputs": [],
   "source": []
  },
  {
   "cell_type": "code",
   "execution_count": null,
   "id": "8088ca77",
   "metadata": {},
   "outputs": [],
   "source": []
  },
  {
   "cell_type": "code",
   "execution_count": 22,
   "id": "3acb4a95",
   "metadata": {
    "ExecuteTime": {
     "end_time": "2022-05-14T13:44:18.020786Z",
     "start_time": "2022-05-14T13:44:17.698313Z"
    }
   },
   "outputs": [
    {
     "data": {
      "text/plain": [
       "340"
      ]
     },
     "execution_count": 22,
     "metadata": {},
     "output_type": "execute_result"
    }
   ],
   "source": [
    "pred = model.predict(x_test)\n",
    "len(pred)"
   ]
  },
  {
   "cell_type": "code",
   "execution_count": 23,
   "id": "9cdf2c9e",
   "metadata": {
    "ExecuteTime": {
     "end_time": "2022-05-14T13:44:45.807500Z",
     "start_time": "2022-05-14T13:44:45.792542Z"
    }
   },
   "outputs": [
    {
     "data": {
      "text/plain": [
       "array([[3.84225947e-04],\n",
       "       [1.09614521e-04],\n",
       "       [1.16252428e-04],\n",
       "       [3.47803556e-03],\n",
       "       [8.07909202e-03],\n",
       "       [7.63557712e-03],\n",
       "       [1.88666843e-02],\n",
       "       [1.87168666e-03],\n",
       "       [4.34510177e-04],\n",
       "       [1.19438220e-04],\n",
       "       [4.13860434e-05],\n",
       "       [2.81013490e-05],\n",
       "       [3.02313492e-05],\n",
       "       [8.72145174e-05],\n",
       "       [4.95317800e-05],\n",
       "       [5.05676471e-05],\n",
       "       [4.50252264e-05],\n",
       "       [5.71652963e-05],\n",
       "       [1.80976829e-04],\n",
       "       [4.59768297e-03],\n",
       "       [1.13763206e-03],\n",
       "       [1.10148778e-03],\n",
       "       [8.95405747e-03],\n",
       "       [6.98244050e-02],\n",
       "       [2.73335934e-01],\n",
       "       [9.98107314e-01],\n",
       "       [9.99278009e-01],\n",
       "       [9.99485731e-01],\n",
       "       [9.99578297e-01],\n",
       "       [9.99462664e-01],\n",
       "       [9.99584973e-01],\n",
       "       [9.99713004e-01],\n",
       "       [9.99753654e-01],\n",
       "       [9.97108519e-01],\n",
       "       [1.65593368e-03],\n",
       "       [1.83848839e-03],\n",
       "       [1.51322616e-04],\n",
       "       [8.09156190e-05],\n",
       "       [4.60072006e-05],\n",
       "       [2.09340680e-04],\n",
       "       [5.80136257e-04],\n",
       "       [4.61140226e-05],\n",
       "       [3.82033832e-05],\n",
       "       [1.16198808e-05],\n",
       "       [1.25145079e-05],\n",
       "       [1.43473517e-05],\n",
       "       [1.99315924e-04],\n",
       "       [4.65937737e-05],\n",
       "       [1.20213714e-04],\n",
       "       [5.25773503e-04],\n",
       "       [4.14261641e-03],\n",
       "       [1.49635051e-03],\n",
       "       [5.83880581e-04],\n",
       "       [6.58996636e-04],\n",
       "       [2.34661013e-04],\n",
       "       [2.21695360e-02],\n",
       "       [3.10225729e-02],\n",
       "       [2.23925244e-02],\n",
       "       [7.01206131e-03],\n",
       "       [1.38742253e-02],\n",
       "       [5.64556150e-03],\n",
       "       [5.44614624e-03],\n",
       "       [1.47155672e-03],\n",
       "       [3.03360375e-05],\n",
       "       [2.99863386e-05],\n",
       "       [2.64800110e-05],\n",
       "       [1.55157286e-05],\n",
       "       [1.07169817e-05],\n",
       "       [1.59310275e-05],\n",
       "       [1.33069980e-05],\n",
       "       [1.70147814e-05],\n",
       "       [1.38367523e-05],\n",
       "       [9.94252423e-06],\n",
       "       [1.15772064e-05],\n",
       "       [1.23038280e-05],\n",
       "       [8.85662030e-06],\n",
       "       [1.15239463e-05],\n",
       "       [1.18844582e-05],\n",
       "       [1.18301241e-05],\n",
       "       [1.17502932e-05],\n",
       "       [1.54183763e-05],\n",
       "       [1.28796819e-05],\n",
       "       [1.07849783e-05],\n",
       "       [1.46454695e-05],\n",
       "       [1.34574248e-05],\n",
       "       [1.89593811e-05],\n",
       "       [1.96484780e-05],\n",
       "       [2.83230165e-05],\n",
       "       [8.50360002e-03],\n",
       "       [2.30050972e-03],\n",
       "       [4.99944901e-03],\n",
       "       [5.64607941e-02],\n",
       "       [9.89624066e-04],\n",
       "       [3.11145232e-05],\n",
       "       [2.70205055e-05],\n",
       "       [9.02641041e-04],\n",
       "       [6.18089281e-04],\n",
       "       [6.73543778e-04],\n",
       "       [1.47884144e-04],\n",
       "       [8.63302266e-05],\n",
       "       [7.63639691e-05],\n",
       "       [1.06833664e-04],\n",
       "       [6.05462228e-05],\n",
       "       [4.20398719e-05],\n",
       "       [8.38576598e-05],\n",
       "       [3.05610156e-05],\n",
       "       [3.79493984e-04],\n",
       "       [2.78157153e-04],\n",
       "       [6.26875990e-05],\n",
       "       [2.65778654e-05],\n",
       "       [2.54556235e-05],\n",
       "       [5.17042572e-05],\n",
       "       [2.22757553e-05],\n",
       "       [1.66497539e-05],\n",
       "       [1.23110703e-05],\n",
       "       [1.80623756e-05],\n",
       "       [2.08902529e-05],\n",
       "       [2.45731277e-03],\n",
       "       [1.30636878e-02],\n",
       "       [7.86598213e-03],\n",
       "       [9.86893892e-01],\n",
       "       [9.97257531e-01],\n",
       "       [9.97953892e-01],\n",
       "       [9.95762289e-01],\n",
       "       [9.99106586e-01],\n",
       "       [9.99408364e-01],\n",
       "       [9.99509215e-01],\n",
       "       [2.16319735e-04],\n",
       "       [2.66746560e-04],\n",
       "       [1.07143802e-04],\n",
       "       [1.15776398e-04],\n",
       "       [2.60616071e-03],\n",
       "       [1.42900285e-03],\n",
       "       [2.21516145e-03],\n",
       "       [5.43800241e-04],\n",
       "       [2.89684336e-04],\n",
       "       [1.94484077e-04],\n",
       "       [1.88986203e-04],\n",
       "       [1.42236822e-04],\n",
       "       [7.27451406e-05],\n",
       "       [5.30652615e-05],\n",
       "       [1.00324753e-04],\n",
       "       [1.09629880e-04],\n",
       "       [1.75174064e-04],\n",
       "       [3.33208554e-05],\n",
       "       [2.82828241e-05],\n",
       "       [2.27569635e-05],\n",
       "       [1.14371915e-05],\n",
       "       [1.57031573e-05],\n",
       "       [1.33288151e-04],\n",
       "       [7.10716340e-05],\n",
       "       [3.53354517e-05],\n",
       "       [2.44630246e-05],\n",
       "       [1.02677775e-04],\n",
       "       [5.08216945e-05],\n",
       "       [2.33239807e-05],\n",
       "       [1.30460050e-03],\n",
       "       [1.33830035e-04],\n",
       "       [3.88039371e-05],\n",
       "       [3.14646823e-05],\n",
       "       [2.24541018e-05],\n",
       "       [2.15092005e-05],\n",
       "       [3.84638806e-05],\n",
       "       [1.20896431e-04],\n",
       "       [1.94408974e-04],\n",
       "       [5.76374703e-04],\n",
       "       [7.17304065e-04],\n",
       "       [1.32694347e-02],\n",
       "       [1.89542528e-02],\n",
       "       [9.47610068e-04],\n",
       "       [1.75323349e-03],\n",
       "       [1.16999008e-01],\n",
       "       [8.33005607e-01],\n",
       "       [9.95275736e-01],\n",
       "       [9.94335234e-01],\n",
       "       [9.87897158e-01],\n",
       "       [9.60148513e-01],\n",
       "       [9.75749373e-01],\n",
       "       [9.80926394e-01],\n",
       "       [9.59356368e-01],\n",
       "       [9.91174221e-01],\n",
       "       [9.90109205e-01],\n",
       "       [8.41996372e-01],\n",
       "       [5.59846520e-01],\n",
       "       [8.18858802e-01],\n",
       "       [9.01152134e-01],\n",
       "       [4.11855654e-05],\n",
       "       [3.28830865e-05],\n",
       "       [5.43810238e-05],\n",
       "       [5.23389426e-05],\n",
       "       [6.80455996e-05],\n",
       "       [8.51633304e-05],\n",
       "       [1.21838952e-04],\n",
       "       [1.43571733e-03],\n",
       "       [8.49537086e-03],\n",
       "       [8.09638500e-02],\n",
       "       [2.11432241e-02],\n",
       "       [2.94166617e-02],\n",
       "       [1.31215751e-02],\n",
       "       [7.07389057e-01],\n",
       "       [9.32466328e-01],\n",
       "       [9.60585535e-01],\n",
       "       [9.72979724e-01],\n",
       "       [8.29457581e-01],\n",
       "       [3.81117934e-05],\n",
       "       [2.70489927e-05],\n",
       "       [1.73528788e-05],\n",
       "       [3.56620985e-05],\n",
       "       [3.12913980e-05],\n",
       "       [2.68754320e-05],\n",
       "       [2.61487894e-05],\n",
       "       [2.80200566e-05],\n",
       "       [3.08458024e-04],\n",
       "       [1.72647749e-04],\n",
       "       [2.69480952e-04],\n",
       "       [2.13859603e-04],\n",
       "       [2.97228718e-04],\n",
       "       [7.06212819e-01],\n",
       "       [9.91930425e-01],\n",
       "       [9.74130630e-01],\n",
       "       [9.97238994e-01],\n",
       "       [9.99321818e-01],\n",
       "       [9.98713017e-01],\n",
       "       [1.20940362e-03],\n",
       "       [9.95710611e-01],\n",
       "       [9.95121181e-01],\n",
       "       [1.75125751e-05],\n",
       "       [5.60963599e-05],\n",
       "       [2.75610419e-05],\n",
       "       [2.60121469e-05],\n",
       "       [2.72066736e-05],\n",
       "       [2.78894531e-05],\n",
       "       [1.74806555e-05],\n",
       "       [2.89072759e-05],\n",
       "       [7.57880916e-05],\n",
       "       [2.37037912e-05],\n",
       "       [1.96225228e-05],\n",
       "       [1.98413691e-05],\n",
       "       [1.60113723e-05],\n",
       "       [5.12302358e-05],\n",
       "       [4.73474283e-05],\n",
       "       [2.48594861e-05],\n",
       "       [2.32752554e-05],\n",
       "       [2.94489691e-05],\n",
       "       [2.07073372e-05],\n",
       "       [2.38196990e-05],\n",
       "       [1.97149220e-05],\n",
       "       [2.05321903e-05],\n",
       "       [1.83720058e-05],\n",
       "       [4.69650149e-05],\n",
       "       [2.12808864e-05],\n",
       "       [2.42530114e-05],\n",
       "       [2.46566942e-05],\n",
       "       [1.71904394e-05],\n",
       "       [1.88987615e-05],\n",
       "       [2.01601433e-05],\n",
       "       [1.75174191e-05],\n",
       "       [1.12558710e-05],\n",
       "       [1.48538993e-05],\n",
       "       [1.46924749e-05],\n",
       "       [1.02090708e-05],\n",
       "       [1.08805698e-05],\n",
       "       [2.09472291e-05],\n",
       "       [1.62196611e-05],\n",
       "       [1.18291991e-05],\n",
       "       [1.89656366e-05],\n",
       "       [2.24455616e-05],\n",
       "       [2.17866382e-05],\n",
       "       [1.66008576e-05],\n",
       "       [1.06256957e-05],\n",
       "       [2.10080652e-05],\n",
       "       [2.01332277e-05],\n",
       "       [1.81274827e-05],\n",
       "       [1.51506183e-05],\n",
       "       [1.72744676e-05],\n",
       "       [6.19008497e-05],\n",
       "       [5.57085914e-05],\n",
       "       [6.43223611e-05],\n",
       "       [7.48969906e-05],\n",
       "       [6.53718715e-04],\n",
       "       [1.39732822e-03],\n",
       "       [1.12875190e-03],\n",
       "       [1.01983163e-03],\n",
       "       [9.71928006e-04],\n",
       "       [3.90715810e-04],\n",
       "       [4.94146836e-04],\n",
       "       [6.27313624e-04],\n",
       "       [2.46897427e-04],\n",
       "       [1.02174841e-03],\n",
       "       [2.22979696e-03],\n",
       "       [6.65111293e-04],\n",
       "       [5.22024755e-04],\n",
       "       [9.08729970e-04],\n",
       "       [7.03735976e-04],\n",
       "       [5.99399034e-04],\n",
       "       [8.67475348e-04],\n",
       "       [1.81507703e-03],\n",
       "       [2.39273137e-03],\n",
       "       [4.26432176e-04],\n",
       "       [2.54089769e-04],\n",
       "       [1.14594004e-03],\n",
       "       [1.39816860e-02],\n",
       "       [2.66729500e-02],\n",
       "       [2.74058199e-03],\n",
       "       [2.21188623e-03],\n",
       "       [1.08063221e-03],\n",
       "       [8.49796052e-04],\n",
       "       [9.02708853e-04],\n",
       "       [7.31924898e-04],\n",
       "       [1.49493618e-03],\n",
       "       [2.66637478e-04],\n",
       "       [7.24744576e-04],\n",
       "       [5.82622550e-02],\n",
       "       [5.98343015e-02],\n",
       "       [8.38737071e-01],\n",
       "       [9.70630467e-01],\n",
       "       [9.45780873e-01],\n",
       "       [9.88999307e-01],\n",
       "       [9.98433530e-01],\n",
       "       [9.97698963e-01],\n",
       "       [9.99572098e-01],\n",
       "       [9.99648213e-01],\n",
       "       [9.99811232e-01],\n",
       "       [9.99813616e-01],\n",
       "       [9.99834776e-01],\n",
       "       [9.99762714e-01],\n",
       "       [9.99288678e-01],\n",
       "       [9.94740307e-01],\n",
       "       [9.91417229e-01],\n",
       "       [9.97117043e-01],\n",
       "       [3.59570804e-05],\n",
       "       [3.14706522e-05],\n",
       "       [4.92629653e-04],\n",
       "       [1.96679917e-04],\n",
       "       [4.33197856e-05],\n",
       "       [3.21430380e-05],\n",
       "       [3.48597096e-05],\n",
       "       [2.93929115e-05],\n",
       "       [3.21031839e-05],\n",
       "       [1.32178247e-03]], dtype=float32)"
      ]
     },
     "execution_count": 23,
     "metadata": {},
     "output_type": "execute_result"
    }
   ],
   "source": [
    "pred"
   ]
  },
  {
   "cell_type": "code",
   "execution_count": 24,
   "id": "d193cfe1",
   "metadata": {
    "ExecuteTime": {
     "end_time": "2022-05-14T13:45:13.394314Z",
     "start_time": "2022-05-14T13:45:13.382346Z"
    }
   },
   "outputs": [],
   "source": [
    "ans = []\n",
    "for i in pred:\n",
    "    ans.append(round(i[0]))"
   ]
  },
  {
   "cell_type": "code",
   "execution_count": 26,
   "id": "d2f5df05",
   "metadata": {
    "ExecuteTime": {
     "end_time": "2022-05-14T13:46:00.620718Z",
     "start_time": "2022-05-14T13:46:00.601802Z"
    }
   },
   "outputs": [
    {
     "data": {
      "text/plain": [
       "Counter({0: 281, 1: 59})"
      ]
     },
     "execution_count": 26,
     "metadata": {},
     "output_type": "execute_result"
    }
   ],
   "source": [
    "from collections import Counter\n",
    "Counter(ans)"
   ]
  },
  {
   "cell_type": "code",
   "execution_count": 27,
   "id": "c0d75943",
   "metadata": {
    "ExecuteTime": {
     "end_time": "2022-05-14T13:46:28.341471Z",
     "start_time": "2022-05-14T13:46:28.327508Z"
    }
   },
   "outputs": [
    {
     "data": {
      "text/plain": [
       "Counter({0.0: 242, 1.0: 98})"
      ]
     },
     "execution_count": 27,
     "metadata": {},
     "output_type": "execute_result"
    }
   ],
   "source": [
    "Counter(y_test)"
   ]
  },
  {
   "cell_type": "code",
   "execution_count": 28,
   "id": "6c533a92",
   "metadata": {
    "ExecuteTime": {
     "end_time": "2022-05-14T13:46:55.930684Z",
     "start_time": "2022-05-14T13:46:55.918696Z"
    }
   },
   "outputs": [
    {
     "data": {
      "text/plain": [
       "340"
      ]
     },
     "execution_count": 28,
     "metadata": {},
     "output_type": "execute_result"
    }
   ],
   "source": [
    "len(y_test)"
   ]
  },
  {
   "cell_type": "code",
   "execution_count": null,
   "id": "e858c091",
   "metadata": {},
   "outputs": [],
   "source": []
  },
  {
   "cell_type": "code",
   "execution_count": null,
   "id": "c3f436de",
   "metadata": {},
   "outputs": [],
   "source": []
  },
  {
   "cell_type": "code",
   "execution_count": null,
   "id": "2981c728",
   "metadata": {},
   "outputs": [],
   "source": []
  },
  {
   "cell_type": "code",
   "execution_count": null,
   "id": "7e445a9b",
   "metadata": {},
   "outputs": [],
   "source": []
  },
  {
   "cell_type": "code",
   "execution_count": null,
   "id": "1f662b96",
   "metadata": {},
   "outputs": [],
   "source": []
  },
  {
   "cell_type": "code",
   "execution_count": null,
   "id": "75dec0c0",
   "metadata": {},
   "outputs": [],
   "source": []
  },
  {
   "cell_type": "code",
   "execution_count": null,
   "id": "d02026d9",
   "metadata": {},
   "outputs": [],
   "source": []
  },
  {
   "cell_type": "code",
   "execution_count": null,
   "id": "aa202674",
   "metadata": {},
   "outputs": [],
   "source": []
  },
  {
   "cell_type": "code",
   "execution_count": null,
   "id": "74da3e5f",
   "metadata": {},
   "outputs": [],
   "source": []
  },
  {
   "cell_type": "code",
   "execution_count": null,
   "id": "271eb412",
   "metadata": {},
   "outputs": [],
   "source": []
  },
  {
   "cell_type": "code",
   "execution_count": null,
   "id": "f5e5bdcd",
   "metadata": {},
   "outputs": [],
   "source": []
  },
  {
   "cell_type": "code",
   "execution_count": null,
   "id": "10a8f67b",
   "metadata": {},
   "outputs": [],
   "source": []
  },
  {
   "cell_type": "code",
   "execution_count": null,
   "id": "86c1f3d8",
   "metadata": {},
   "outputs": [],
   "source": []
  },
  {
   "cell_type": "code",
   "execution_count": null,
   "id": "c05402f1",
   "metadata": {},
   "outputs": [],
   "source": []
  },
  {
   "cell_type": "code",
   "execution_count": null,
   "id": "baaea826",
   "metadata": {},
   "outputs": [],
   "source": []
  },
  {
   "cell_type": "code",
   "execution_count": null,
   "id": "613a2541",
   "metadata": {},
   "outputs": [],
   "source": []
  }
 ],
 "metadata": {
  "kernelspec": {
   "display_name": "Python 3 (ipykernel)",
   "language": "python",
   "name": "python3"
  },
  "language_info": {
   "codemirror_mode": {
    "name": "ipython",
    "version": 3
   },
   "file_extension": ".py",
   "mimetype": "text/x-python",
   "name": "python",
   "nbconvert_exporter": "python",
   "pygments_lexer": "ipython3",
   "version": "3.9.7"
  },
  "toc": {
   "base_numbering": 1,
   "nav_menu": {},
   "number_sections": true,
   "sideBar": true,
   "skip_h1_title": false,
   "title_cell": "Table of Contents",
   "title_sidebar": "Contents",
   "toc_cell": false,
   "toc_position": {},
   "toc_section_display": true,
   "toc_window_display": false
  },
  "varInspector": {
   "cols": {
    "lenName": 16,
    "lenType": 16,
    "lenVar": 40
   },
   "kernels_config": {
    "python": {
     "delete_cmd_postfix": "",
     "delete_cmd_prefix": "del ",
     "library": "var_list.py",
     "varRefreshCmd": "print(var_dic_list())"
    },
    "r": {
     "delete_cmd_postfix": ") ",
     "delete_cmd_prefix": "rm(",
     "library": "var_list.r",
     "varRefreshCmd": "cat(var_dic_list()) "
    }
   },
   "types_to_exclude": [
    "module",
    "function",
    "builtin_function_or_method",
    "instance",
    "_Feature"
   ],
   "window_display": false
  }
 },
 "nbformat": 4,
 "nbformat_minor": 5
}
