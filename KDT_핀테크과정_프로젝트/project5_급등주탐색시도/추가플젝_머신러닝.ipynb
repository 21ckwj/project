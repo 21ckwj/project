{
 "cells": [
  {
   "cell_type": "code",
   "execution_count": 1,
   "id": "784bfd34",
   "metadata": {
    "ExecuteTime": {
     "end_time": "2022-05-21T14:49:24.525214Z",
     "start_time": "2022-05-21T14:49:23.586040Z"
    }
   },
   "outputs": [],
   "source": [
    "import pandas as pd\n",
    "import numpy as np\n",
    "import matplotlib.pyplot as plt\n",
    "import seaborn as sns"
   ]
  },
  {
   "cell_type": "code",
   "execution_count": 4,
   "id": "a303e590",
   "metadata": {
    "ExecuteTime": {
     "end_time": "2022-05-22T03:07:02.163923Z",
     "start_time": "2022-05-22T03:07:02.153948Z"
    }
   },
   "outputs": [],
   "source": [
    "from sklearn.linear_model import LogisticRegression\n",
    "from sklearn.neighbors import KNeighborsClassifier\n",
    "from sklearn.ensemble import RandomForestClassifier\n",
    "from xgboost import XGBClassifier\n",
    "from lightgbm import LGBMClassifier\n",
    "\n",
    "from sklearn.metrics import classification_report, f1_score, roc_auc_score"
   ]
  },
  {
   "cell_type": "code",
   "execution_count": 67,
   "id": "f847fe50",
   "metadata": {
    "ExecuteTime": {
     "end_time": "2022-05-22T10:57:20.622263Z",
     "start_time": "2022-05-22T10:57:20.612290Z"
    }
   },
   "outputs": [],
   "source": [
    "# 한글 폰트 사용을 위해서 세팅\n",
    "from matplotlib import font_manager, rc\n",
    "font_path = \"C:/Windows/Fonts/malgun.TTF\"\n",
    "font = font_manager.FontProperties(fname=font_path).get_name()\n",
    "rc('font', family=font)"
   ]
  },
  {
   "cell_type": "code",
   "execution_count": 66,
   "id": "136321e1",
   "metadata": {
    "ExecuteTime": {
     "end_time": "2022-05-22T10:41:48.718045Z",
     "start_time": "2022-05-22T10:41:48.702126Z"
    }
   },
   "outputs": [],
   "source": [
    "log = LogisticRegression()\n",
    "knn = KNeighborsClassifier()\n",
    "rfc = RandomForestClassifier()\n",
    "xgb = XGBClassifier()\n",
    "lgbm = LGBMClassifier()"
   ]
  },
  {
   "cell_type": "code",
   "execution_count": 52,
   "id": "66863023",
   "metadata": {
    "ExecuteTime": {
     "end_time": "2022-05-22T08:00:24.911157Z",
     "start_time": "2022-05-22T08:00:24.869276Z"
    }
   },
   "outputs": [
    {
     "data": {
      "text/html": [
       "<div>\n",
       "<style scoped>\n",
       "    .dataframe tbody tr th:only-of-type {\n",
       "        vertical-align: middle;\n",
       "    }\n",
       "\n",
       "    .dataframe tbody tr th {\n",
       "        vertical-align: top;\n",
       "    }\n",
       "\n",
       "    .dataframe thead th {\n",
       "        text-align: right;\n",
       "    }\n",
       "</style>\n",
       "<table border=\"1\" class=\"dataframe\">\n",
       "  <thead>\n",
       "    <tr style=\"text-align: right;\">\n",
       "      <th></th>\n",
       "      <th>Date</th>\n",
       "      <th>Close</th>\n",
       "      <th>Volume</th>\n",
       "      <th>Change</th>\n",
       "      <th>MACD</th>\n",
       "      <th>MACD_Signal</th>\n",
       "      <th>MACD_Oscilator</th>\n",
       "      <th>%K</th>\n",
       "      <th>%D</th>\n",
       "      <th>upper_b</th>\n",
       "      <th>...</th>\n",
       "      <th>bar_length</th>\n",
       "      <th>High-Close</th>\n",
       "      <th>High-Open</th>\n",
       "      <th>High-Low</th>\n",
       "      <th>Close-Open</th>\n",
       "      <th>Close-Low</th>\n",
       "      <th>Open-Low</th>\n",
       "      <th>KQ_Change</th>\n",
       "      <th>ND_Change</th>\n",
       "      <th>SP_Change</th>\n",
       "    </tr>\n",
       "  </thead>\n",
       "  <tbody>\n",
       "    <tr>\n",
       "      <th>0</th>\n",
       "      <td>2014-01-29</td>\n",
       "      <td>2090</td>\n",
       "      <td>114002</td>\n",
       "      <td>0.017032</td>\n",
       "      <td>0.293096</td>\n",
       "      <td>0.353843</td>\n",
       "      <td>0.288118</td>\n",
       "      <td>0.156033</td>\n",
       "      <td>0.053030</td>\n",
       "      <td>0.256457</td>\n",
       "      <td>...</td>\n",
       "      <td>0.003193</td>\n",
       "      <td>0.028290</td>\n",
       "      <td>0.028024</td>\n",
       "      <td>0.031501</td>\n",
       "      <td>0.381057</td>\n",
       "      <td>0.013004</td>\n",
       "      <td>0.014803</td>\n",
       "      <td>0.615495</td>\n",
       "      <td>0.515921</td>\n",
       "      <td>0.589419</td>\n",
       "    </tr>\n",
       "    <tr>\n",
       "      <th>1</th>\n",
       "      <td>2014-02-03</td>\n",
       "      <td>2080</td>\n",
       "      <td>141833</td>\n",
       "      <td>-0.004785</td>\n",
       "      <td>0.289862</td>\n",
       "      <td>0.352221</td>\n",
       "      <td>0.283582</td>\n",
       "      <td>0.158240</td>\n",
       "      <td>0.106794</td>\n",
       "      <td>0.257742</td>\n",
       "      <td>...</td>\n",
       "      <td>0.000177</td>\n",
       "      <td>0.040590</td>\n",
       "      <td>0.035119</td>\n",
       "      <td>0.034853</td>\n",
       "      <td>0.246696</td>\n",
       "      <td>0.006335</td>\n",
       "      <td>0.009699</td>\n",
       "      <td>0.545194</td>\n",
       "      <td>0.515921</td>\n",
       "      <td>0.589419</td>\n",
       "    </tr>\n",
       "    <tr>\n",
       "      <th>2</th>\n",
       "      <td>2014-02-04</td>\n",
       "      <td>2115</td>\n",
       "      <td>541546</td>\n",
       "      <td>0.016827</td>\n",
       "      <td>0.288092</td>\n",
       "      <td>0.350579</td>\n",
       "      <td>0.282578</td>\n",
       "      <td>1.000000</td>\n",
       "      <td>0.440127</td>\n",
       "      <td>0.258248</td>\n",
       "      <td>...</td>\n",
       "      <td>0.038666</td>\n",
       "      <td>0.056991</td>\n",
       "      <td>0.088329</td>\n",
       "      <td>0.108579</td>\n",
       "      <td>0.403084</td>\n",
       "      <td>0.066355</td>\n",
       "      <td>0.045431</td>\n",
       "      <td>0.503587</td>\n",
       "      <td>0.448085</td>\n",
       "      <td>0.530431</td>\n",
       "    </tr>\n",
       "    <tr>\n",
       "      <th>3</th>\n",
       "      <td>2014-02-05</td>\n",
       "      <td>2090</td>\n",
       "      <td>174541</td>\n",
       "      <td>-0.011820</td>\n",
       "      <td>0.285940</td>\n",
       "      <td>0.348877</td>\n",
       "      <td>0.280780</td>\n",
       "      <td>0.581818</td>\n",
       "      <td>0.581541</td>\n",
       "      <td>0.258806</td>\n",
       "      <td>...</td>\n",
       "      <td>0.031571</td>\n",
       "      <td>0.044690</td>\n",
       "      <td>0.006740</td>\n",
       "      <td>0.034853</td>\n",
       "      <td>0.359031</td>\n",
       "      <td>0.003001</td>\n",
       "      <td>0.050536</td>\n",
       "      <td>0.541846</td>\n",
       "      <td>0.608214</td>\n",
       "      <td>0.454120</td>\n",
       "    </tr>\n",
       "    <tr>\n",
       "      <th>4</th>\n",
       "      <td>2014-02-06</td>\n",
       "      <td>2065</td>\n",
       "      <td>139022</td>\n",
       "      <td>-0.011962</td>\n",
       "      <td>0.283467</td>\n",
       "      <td>0.347086</td>\n",
       "      <td>0.278391</td>\n",
       "      <td>0.001818</td>\n",
       "      <td>0.527778</td>\n",
       "      <td>0.259419</td>\n",
       "      <td>...</td>\n",
       "      <td>0.017382</td>\n",
       "      <td>0.032390</td>\n",
       "      <td>0.010287</td>\n",
       "      <td>0.021448</td>\n",
       "      <td>0.367841</td>\n",
       "      <td>0.000167</td>\n",
       "      <td>0.025013</td>\n",
       "      <td>0.600191</td>\n",
       "      <td>0.545455</td>\n",
       "      <td>0.596442</td>\n",
       "    </tr>\n",
       "  </tbody>\n",
       "</table>\n",
       "<p>5 rows × 26 columns</p>\n",
       "</div>"
      ],
      "text/plain": [
       "         Date  Close  Volume    Change      MACD  MACD_Signal  MACD_Oscilator  \\\n",
       "0  2014-01-29   2090  114002  0.017032  0.293096     0.353843        0.288118   \n",
       "1  2014-02-03   2080  141833 -0.004785  0.289862     0.352221        0.283582   \n",
       "2  2014-02-04   2115  541546  0.016827  0.288092     0.350579        0.282578   \n",
       "3  2014-02-05   2090  174541 -0.011820  0.285940     0.348877        0.280780   \n",
       "4  2014-02-06   2065  139022 -0.011962  0.283467     0.347086        0.278391   \n",
       "\n",
       "         %K        %D   upper_b  ...  bar_length  High-Close  High-Open  \\\n",
       "0  0.156033  0.053030  0.256457  ...    0.003193    0.028290   0.028024   \n",
       "1  0.158240  0.106794  0.257742  ...    0.000177    0.040590   0.035119   \n",
       "2  1.000000  0.440127  0.258248  ...    0.038666    0.056991   0.088329   \n",
       "3  0.581818  0.581541  0.258806  ...    0.031571    0.044690   0.006740   \n",
       "4  0.001818  0.527778  0.259419  ...    0.017382    0.032390   0.010287   \n",
       "\n",
       "   High-Low  Close-Open  Close-Low  Open-Low  KQ_Change  ND_Change  SP_Change  \n",
       "0  0.031501    0.381057   0.013004  0.014803   0.615495   0.515921   0.589419  \n",
       "1  0.034853    0.246696   0.006335  0.009699   0.545194   0.515921   0.589419  \n",
       "2  0.108579    0.403084   0.066355  0.045431   0.503587   0.448085   0.530431  \n",
       "3  0.034853    0.359031   0.003001  0.050536   0.541846   0.608214   0.454120  \n",
       "4  0.021448    0.367841   0.000167  0.025013   0.600191   0.545455   0.596442  \n",
       "\n",
       "[5 rows x 26 columns]"
      ]
     },
     "execution_count": 52,
     "metadata": {},
     "output_type": "execute_result"
    }
   ],
   "source": [
    "df = pd.read_csv('./data/적자기업모델데이터/시티랩스_모델데이터_scaler.csv',index_col=0)\n",
    "df.head()"
   ]
  },
  {
   "cell_type": "markdown",
   "id": "8ae981e4",
   "metadata": {},
   "source": [
    "# 함수화 : add_target(df,target_size,rapid_rate)"
   ]
  },
  {
   "cell_type": "code",
   "execution_count": 56,
   "id": "897e08e1",
   "metadata": {
    "ExecuteTime": {
     "end_time": "2022-05-22T08:01:21.641791Z",
     "start_time": "2022-05-22T08:01:21.621725Z"
    }
   },
   "outputs": [],
   "source": [
    "def add_target(df,target_size, rapid_rate):  # df index_col=0 해줘야함\n",
    "\n",
    "    Y = []\n",
    "\n",
    "    for i in range(len(df)-target_size):\n",
    "\n",
    "        # Change\n",
    "        Y.append([df.iloc[i+j,3] for j in range(target_size)])\n",
    "\n",
    "    \n",
    "    Y1 = []\n",
    "    # rapid_rate% 이상 상승일시\n",
    "    for y in Y:\n",
    "        toggle = 0\n",
    "\n",
    "        for i in y:\n",
    "            if i >= rapid_rate:\n",
    "                Y1.append(1)\n",
    "                toggle = 1\n",
    "                break\n",
    "\n",
    "\n",
    "        if toggle!=1:\n",
    "            Y1.append(0)\n",
    "\n",
    "    df1 = df.iloc[:-target_size,:]\n",
    "    df1['target'] = Y1\n",
    "    \n",
    "    return df1"
   ]
  },
  {
   "cell_type": "code",
   "execution_count": null,
   "id": "9570a45f",
   "metadata": {},
   "outputs": [],
   "source": []
  },
  {
   "cell_type": "markdown",
   "id": "da0afc5b",
   "metadata": {},
   "source": [
    "# 시티랩스 "
   ]
  },
  {
   "cell_type": "code",
   "execution_count": 59,
   "id": "57401997",
   "metadata": {
    "ExecuteTime": {
     "end_time": "2022-05-22T10:19:26.585931Z",
     "start_time": "2022-05-22T10:19:26.546436Z"
    }
   },
   "outputs": [
    {
     "data": {
      "text/html": [
       "<div>\n",
       "<style scoped>\n",
       "    .dataframe tbody tr th:only-of-type {\n",
       "        vertical-align: middle;\n",
       "    }\n",
       "\n",
       "    .dataframe tbody tr th {\n",
       "        vertical-align: top;\n",
       "    }\n",
       "\n",
       "    .dataframe thead th {\n",
       "        text-align: right;\n",
       "    }\n",
       "</style>\n",
       "<table border=\"1\" class=\"dataframe\">\n",
       "  <thead>\n",
       "    <tr style=\"text-align: right;\">\n",
       "      <th></th>\n",
       "      <th>Date</th>\n",
       "      <th>Close</th>\n",
       "      <th>Volume</th>\n",
       "      <th>Change</th>\n",
       "      <th>MACD</th>\n",
       "      <th>MACD_Signal</th>\n",
       "      <th>MACD_Oscilator</th>\n",
       "      <th>%K</th>\n",
       "      <th>%D</th>\n",
       "      <th>upper_b</th>\n",
       "      <th>...</th>\n",
       "      <th>bar_length</th>\n",
       "      <th>High-Close</th>\n",
       "      <th>High-Open</th>\n",
       "      <th>High-Low</th>\n",
       "      <th>Close-Open</th>\n",
       "      <th>Close-Low</th>\n",
       "      <th>Open-Low</th>\n",
       "      <th>KQ_Change</th>\n",
       "      <th>ND_Change</th>\n",
       "      <th>SP_Change</th>\n",
       "    </tr>\n",
       "  </thead>\n",
       "  <tbody>\n",
       "    <tr>\n",
       "      <th>0</th>\n",
       "      <td>2014-01-29</td>\n",
       "      <td>2090</td>\n",
       "      <td>114002</td>\n",
       "      <td>0.017032</td>\n",
       "      <td>0.293096</td>\n",
       "      <td>0.353843</td>\n",
       "      <td>0.288118</td>\n",
       "      <td>0.156033</td>\n",
       "      <td>0.053030</td>\n",
       "      <td>0.256457</td>\n",
       "      <td>...</td>\n",
       "      <td>0.003193</td>\n",
       "      <td>0.028290</td>\n",
       "      <td>0.028024</td>\n",
       "      <td>0.031501</td>\n",
       "      <td>0.381057</td>\n",
       "      <td>0.013004</td>\n",
       "      <td>0.014803</td>\n",
       "      <td>0.615495</td>\n",
       "      <td>0.515921</td>\n",
       "      <td>0.589419</td>\n",
       "    </tr>\n",
       "    <tr>\n",
       "      <th>1</th>\n",
       "      <td>2014-02-03</td>\n",
       "      <td>2080</td>\n",
       "      <td>141833</td>\n",
       "      <td>-0.004785</td>\n",
       "      <td>0.289862</td>\n",
       "      <td>0.352221</td>\n",
       "      <td>0.283582</td>\n",
       "      <td>0.158240</td>\n",
       "      <td>0.106794</td>\n",
       "      <td>0.257742</td>\n",
       "      <td>...</td>\n",
       "      <td>0.000177</td>\n",
       "      <td>0.040590</td>\n",
       "      <td>0.035119</td>\n",
       "      <td>0.034853</td>\n",
       "      <td>0.246696</td>\n",
       "      <td>0.006335</td>\n",
       "      <td>0.009699</td>\n",
       "      <td>0.545194</td>\n",
       "      <td>0.515921</td>\n",
       "      <td>0.589419</td>\n",
       "    </tr>\n",
       "    <tr>\n",
       "      <th>2</th>\n",
       "      <td>2014-02-04</td>\n",
       "      <td>2115</td>\n",
       "      <td>541546</td>\n",
       "      <td>0.016827</td>\n",
       "      <td>0.288092</td>\n",
       "      <td>0.350579</td>\n",
       "      <td>0.282578</td>\n",
       "      <td>1.000000</td>\n",
       "      <td>0.440127</td>\n",
       "      <td>0.258248</td>\n",
       "      <td>...</td>\n",
       "      <td>0.038666</td>\n",
       "      <td>0.056991</td>\n",
       "      <td>0.088329</td>\n",
       "      <td>0.108579</td>\n",
       "      <td>0.403084</td>\n",
       "      <td>0.066355</td>\n",
       "      <td>0.045431</td>\n",
       "      <td>0.503587</td>\n",
       "      <td>0.448085</td>\n",
       "      <td>0.530431</td>\n",
       "    </tr>\n",
       "    <tr>\n",
       "      <th>3</th>\n",
       "      <td>2014-02-05</td>\n",
       "      <td>2090</td>\n",
       "      <td>174541</td>\n",
       "      <td>-0.011820</td>\n",
       "      <td>0.285940</td>\n",
       "      <td>0.348877</td>\n",
       "      <td>0.280780</td>\n",
       "      <td>0.581818</td>\n",
       "      <td>0.581541</td>\n",
       "      <td>0.258806</td>\n",
       "      <td>...</td>\n",
       "      <td>0.031571</td>\n",
       "      <td>0.044690</td>\n",
       "      <td>0.006740</td>\n",
       "      <td>0.034853</td>\n",
       "      <td>0.359031</td>\n",
       "      <td>0.003001</td>\n",
       "      <td>0.050536</td>\n",
       "      <td>0.541846</td>\n",
       "      <td>0.608214</td>\n",
       "      <td>0.454120</td>\n",
       "    </tr>\n",
       "    <tr>\n",
       "      <th>4</th>\n",
       "      <td>2014-02-06</td>\n",
       "      <td>2065</td>\n",
       "      <td>139022</td>\n",
       "      <td>-0.011962</td>\n",
       "      <td>0.283467</td>\n",
       "      <td>0.347086</td>\n",
       "      <td>0.278391</td>\n",
       "      <td>0.001818</td>\n",
       "      <td>0.527778</td>\n",
       "      <td>0.259419</td>\n",
       "      <td>...</td>\n",
       "      <td>0.017382</td>\n",
       "      <td>0.032390</td>\n",
       "      <td>0.010287</td>\n",
       "      <td>0.021448</td>\n",
       "      <td>0.367841</td>\n",
       "      <td>0.000167</td>\n",
       "      <td>0.025013</td>\n",
       "      <td>0.600191</td>\n",
       "      <td>0.545455</td>\n",
       "      <td>0.596442</td>\n",
       "    </tr>\n",
       "  </tbody>\n",
       "</table>\n",
       "<p>5 rows × 26 columns</p>\n",
       "</div>"
      ],
      "text/plain": [
       "         Date  Close  Volume    Change      MACD  MACD_Signal  MACD_Oscilator  \\\n",
       "0  2014-01-29   2090  114002  0.017032  0.293096     0.353843        0.288118   \n",
       "1  2014-02-03   2080  141833 -0.004785  0.289862     0.352221        0.283582   \n",
       "2  2014-02-04   2115  541546  0.016827  0.288092     0.350579        0.282578   \n",
       "3  2014-02-05   2090  174541 -0.011820  0.285940     0.348877        0.280780   \n",
       "4  2014-02-06   2065  139022 -0.011962  0.283467     0.347086        0.278391   \n",
       "\n",
       "         %K        %D   upper_b  ...  bar_length  High-Close  High-Open  \\\n",
       "0  0.156033  0.053030  0.256457  ...    0.003193    0.028290   0.028024   \n",
       "1  0.158240  0.106794  0.257742  ...    0.000177    0.040590   0.035119   \n",
       "2  1.000000  0.440127  0.258248  ...    0.038666    0.056991   0.088329   \n",
       "3  0.581818  0.581541  0.258806  ...    0.031571    0.044690   0.006740   \n",
       "4  0.001818  0.527778  0.259419  ...    0.017382    0.032390   0.010287   \n",
       "\n",
       "   High-Low  Close-Open  Close-Low  Open-Low  KQ_Change  ND_Change  SP_Change  \n",
       "0  0.031501    0.381057   0.013004  0.014803   0.615495   0.515921   0.589419  \n",
       "1  0.034853    0.246696   0.006335  0.009699   0.545194   0.515921   0.589419  \n",
       "2  0.108579    0.403084   0.066355  0.045431   0.503587   0.448085   0.530431  \n",
       "3  0.034853    0.359031   0.003001  0.050536   0.541846   0.608214   0.454120  \n",
       "4  0.021448    0.367841   0.000167  0.025013   0.600191   0.545455   0.596442  \n",
       "\n",
       "[5 rows x 26 columns]"
      ]
     },
     "execution_count": 59,
     "metadata": {},
     "output_type": "execute_result"
    }
   ],
   "source": [
    "df = pd.read_csv('./data/적자기업모델데이터/시티랩스_모델데이터_scaler.csv',index_col=0)\n",
    "df.head()"
   ]
  },
  {
   "cell_type": "markdown",
   "id": "2c522f5a",
   "metadata": {},
   "source": [
    "## 날짜로부터 30일 안에 급등(10%) 있을시 1 "
   ]
  },
  {
   "cell_type": "code",
   "execution_count": 60,
   "id": "58b06313",
   "metadata": {
    "ExecuteTime": {
     "end_time": "2022-05-22T10:19:43.978514Z",
     "start_time": "2022-05-22T10:19:42.900327Z"
    }
   },
   "outputs": [
    {
     "name": "stderr",
     "output_type": "stream",
     "text": [
      "C:\\Users\\bitcamp\\AppData\\Local\\Temp/ipykernel_7944/2812861201.py:27: SettingWithCopyWarning: \n",
      "A value is trying to be set on a copy of a slice from a DataFrame.\n",
      "Try using .loc[row_indexer,col_indexer] = value instead\n",
      "\n",
      "See the caveats in the documentation: https://pandas.pydata.org/pandas-docs/stable/user_guide/indexing.html#returning-a-view-versus-a-copy\n",
      "  df1['target'] = Y1\n"
     ]
    },
    {
     "data": {
      "text/html": [
       "<div>\n",
       "<style scoped>\n",
       "    .dataframe tbody tr th:only-of-type {\n",
       "        vertical-align: middle;\n",
       "    }\n",
       "\n",
       "    .dataframe tbody tr th {\n",
       "        vertical-align: top;\n",
       "    }\n",
       "\n",
       "    .dataframe thead th {\n",
       "        text-align: right;\n",
       "    }\n",
       "</style>\n",
       "<table border=\"1\" class=\"dataframe\">\n",
       "  <thead>\n",
       "    <tr style=\"text-align: right;\">\n",
       "      <th></th>\n",
       "      <th>Date</th>\n",
       "      <th>Close</th>\n",
       "      <th>Volume</th>\n",
       "      <th>Change</th>\n",
       "      <th>MACD</th>\n",
       "      <th>MACD_Signal</th>\n",
       "      <th>MACD_Oscilator</th>\n",
       "      <th>%K</th>\n",
       "      <th>%D</th>\n",
       "      <th>upper_b</th>\n",
       "      <th>...</th>\n",
       "      <th>High-Close</th>\n",
       "      <th>High-Open</th>\n",
       "      <th>High-Low</th>\n",
       "      <th>Close-Open</th>\n",
       "      <th>Close-Low</th>\n",
       "      <th>Open-Low</th>\n",
       "      <th>KQ_Change</th>\n",
       "      <th>ND_Change</th>\n",
       "      <th>SP_Change</th>\n",
       "      <th>target</th>\n",
       "    </tr>\n",
       "  </thead>\n",
       "  <tbody>\n",
       "    <tr>\n",
       "      <th>0</th>\n",
       "      <td>2014-01-29</td>\n",
       "      <td>2090</td>\n",
       "      <td>114002</td>\n",
       "      <td>0.017032</td>\n",
       "      <td>0.293096</td>\n",
       "      <td>0.353843</td>\n",
       "      <td>0.288118</td>\n",
       "      <td>0.156033</td>\n",
       "      <td>0.053030</td>\n",
       "      <td>0.256457</td>\n",
       "      <td>...</td>\n",
       "      <td>0.028290</td>\n",
       "      <td>0.028024</td>\n",
       "      <td>0.031501</td>\n",
       "      <td>0.381057</td>\n",
       "      <td>0.013004</td>\n",
       "      <td>0.014803</td>\n",
       "      <td>0.615495</td>\n",
       "      <td>0.515921</td>\n",
       "      <td>0.589419</td>\n",
       "      <td>0</td>\n",
       "    </tr>\n",
       "    <tr>\n",
       "      <th>1</th>\n",
       "      <td>2014-02-03</td>\n",
       "      <td>2080</td>\n",
       "      <td>141833</td>\n",
       "      <td>-0.004785</td>\n",
       "      <td>0.289862</td>\n",
       "      <td>0.352221</td>\n",
       "      <td>0.283582</td>\n",
       "      <td>0.158240</td>\n",
       "      <td>0.106794</td>\n",
       "      <td>0.257742</td>\n",
       "      <td>...</td>\n",
       "      <td>0.040590</td>\n",
       "      <td>0.035119</td>\n",
       "      <td>0.034853</td>\n",
       "      <td>0.246696</td>\n",
       "      <td>0.006335</td>\n",
       "      <td>0.009699</td>\n",
       "      <td>0.545194</td>\n",
       "      <td>0.515921</td>\n",
       "      <td>0.589419</td>\n",
       "      <td>0</td>\n",
       "    </tr>\n",
       "    <tr>\n",
       "      <th>2</th>\n",
       "      <td>2014-02-04</td>\n",
       "      <td>2115</td>\n",
       "      <td>541546</td>\n",
       "      <td>0.016827</td>\n",
       "      <td>0.288092</td>\n",
       "      <td>0.350579</td>\n",
       "      <td>0.282578</td>\n",
       "      <td>1.000000</td>\n",
       "      <td>0.440127</td>\n",
       "      <td>0.258248</td>\n",
       "      <td>...</td>\n",
       "      <td>0.056991</td>\n",
       "      <td>0.088329</td>\n",
       "      <td>0.108579</td>\n",
       "      <td>0.403084</td>\n",
       "      <td>0.066355</td>\n",
       "      <td>0.045431</td>\n",
       "      <td>0.503587</td>\n",
       "      <td>0.448085</td>\n",
       "      <td>0.530431</td>\n",
       "      <td>0</td>\n",
       "    </tr>\n",
       "    <tr>\n",
       "      <th>3</th>\n",
       "      <td>2014-02-05</td>\n",
       "      <td>2090</td>\n",
       "      <td>174541</td>\n",
       "      <td>-0.011820</td>\n",
       "      <td>0.285940</td>\n",
       "      <td>0.348877</td>\n",
       "      <td>0.280780</td>\n",
       "      <td>0.581818</td>\n",
       "      <td>0.581541</td>\n",
       "      <td>0.258806</td>\n",
       "      <td>...</td>\n",
       "      <td>0.044690</td>\n",
       "      <td>0.006740</td>\n",
       "      <td>0.034853</td>\n",
       "      <td>0.359031</td>\n",
       "      <td>0.003001</td>\n",
       "      <td>0.050536</td>\n",
       "      <td>0.541846</td>\n",
       "      <td>0.608214</td>\n",
       "      <td>0.454120</td>\n",
       "      <td>0</td>\n",
       "    </tr>\n",
       "    <tr>\n",
       "      <th>4</th>\n",
       "      <td>2014-02-06</td>\n",
       "      <td>2065</td>\n",
       "      <td>139022</td>\n",
       "      <td>-0.011962</td>\n",
       "      <td>0.283467</td>\n",
       "      <td>0.347086</td>\n",
       "      <td>0.278391</td>\n",
       "      <td>0.001818</td>\n",
       "      <td>0.527778</td>\n",
       "      <td>0.259419</td>\n",
       "      <td>...</td>\n",
       "      <td>0.032390</td>\n",
       "      <td>0.010287</td>\n",
       "      <td>0.021448</td>\n",
       "      <td>0.367841</td>\n",
       "      <td>0.000167</td>\n",
       "      <td>0.025013</td>\n",
       "      <td>0.600191</td>\n",
       "      <td>0.545455</td>\n",
       "      <td>0.596442</td>\n",
       "      <td>0</td>\n",
       "    </tr>\n",
       "  </tbody>\n",
       "</table>\n",
       "<p>5 rows × 27 columns</p>\n",
       "</div>"
      ],
      "text/plain": [
       "         Date  Close  Volume    Change      MACD  MACD_Signal  MACD_Oscilator  \\\n",
       "0  2014-01-29   2090  114002  0.017032  0.293096     0.353843        0.288118   \n",
       "1  2014-02-03   2080  141833 -0.004785  0.289862     0.352221        0.283582   \n",
       "2  2014-02-04   2115  541546  0.016827  0.288092     0.350579        0.282578   \n",
       "3  2014-02-05   2090  174541 -0.011820  0.285940     0.348877        0.280780   \n",
       "4  2014-02-06   2065  139022 -0.011962  0.283467     0.347086        0.278391   \n",
       "\n",
       "         %K        %D   upper_b  ...  High-Close  High-Open  High-Low  \\\n",
       "0  0.156033  0.053030  0.256457  ...    0.028290   0.028024  0.031501   \n",
       "1  0.158240  0.106794  0.257742  ...    0.040590   0.035119  0.034853   \n",
       "2  1.000000  0.440127  0.258248  ...    0.056991   0.088329  0.108579   \n",
       "3  0.581818  0.581541  0.258806  ...    0.044690   0.006740  0.034853   \n",
       "4  0.001818  0.527778  0.259419  ...    0.032390   0.010287  0.021448   \n",
       "\n",
       "   Close-Open  Close-Low  Open-Low  KQ_Change  ND_Change  SP_Change  target  \n",
       "0    0.381057   0.013004  0.014803   0.615495   0.515921   0.589419       0  \n",
       "1    0.246696   0.006335  0.009699   0.545194   0.515921   0.589419       0  \n",
       "2    0.403084   0.066355  0.045431   0.503587   0.448085   0.530431       0  \n",
       "3    0.359031   0.003001  0.050536   0.541846   0.608214   0.454120       0  \n",
       "4    0.367841   0.000167  0.025013   0.600191   0.545455   0.596442       0  \n",
       "\n",
       "[5 rows x 27 columns]"
      ]
     },
     "execution_count": 60,
     "metadata": {},
     "output_type": "execute_result"
    }
   ],
   "source": [
    "df1 = add_target(df,target_size=30, rapid_rate=0.1)\n",
    "df1.head()"
   ]
  },
  {
   "cell_type": "code",
   "execution_count": 62,
   "id": "8171081e",
   "metadata": {
    "ExecuteTime": {
     "end_time": "2022-05-22T10:20:23.849506Z",
     "start_time": "2022-05-22T10:20:23.828539Z"
    }
   },
   "outputs": [],
   "source": [
    "x = df1.iloc[:,4:-1]\n",
    "y = df1['target']"
   ]
  },
  {
   "cell_type": "code",
   "execution_count": 64,
   "id": "80c7de5f",
   "metadata": {
    "ExecuteTime": {
     "end_time": "2022-05-22T10:24:36.083774Z",
     "start_time": "2022-05-22T10:24:36.074798Z"
    }
   },
   "outputs": [
    {
     "data": {
      "text/plain": [
       "(1913, 23)"
      ]
     },
     "execution_count": 64,
     "metadata": {},
     "output_type": "execute_result"
    }
   ],
   "source": [
    "x.shape"
   ]
  },
  {
   "cell_type": "code",
   "execution_count": 73,
   "id": "842d68b9",
   "metadata": {
    "ExecuteTime": {
     "end_time": "2022-05-22T11:59:29.012644Z",
     "start_time": "2022-05-22T11:59:29.006631Z"
    }
   },
   "outputs": [
    {
     "data": {
      "text/plain": [
       "Counter({0: 1187, 1: 726})"
      ]
     },
     "execution_count": 73,
     "metadata": {},
     "output_type": "execute_result"
    }
   ],
   "source": [
    "from collections import Counter\n",
    "Counter(y)"
   ]
  },
  {
   "cell_type": "code",
   "execution_count": 79,
   "id": "cce6620a",
   "metadata": {
    "ExecuteTime": {
     "end_time": "2022-05-22T12:02:09.975423Z",
     "start_time": "2022-05-22T12:02:09.962426Z"
    }
   },
   "outputs": [],
   "source": [
    "train_test_split = 1500\n",
    "\n",
    "x_train = x.iloc[:1500,4:]\n",
    "y_train = y.iloc[:1500]\n",
    "\n",
    "x_test = x.iloc[1500:,4:]\n",
    "y_test = y.iloc[1500:]"
   ]
  },
  {
   "cell_type": "code",
   "execution_count": 80,
   "id": "12f212fa",
   "metadata": {
    "ExecuteTime": {
     "end_time": "2022-05-22T12:02:13.684499Z",
     "start_time": "2022-05-22T12:02:13.673535Z"
    }
   },
   "outputs": [
    {
     "data": {
      "text/plain": [
       "0       0\n",
       "1       0\n",
       "2       0\n",
       "3       0\n",
       "4       0\n",
       "       ..\n",
       "1495    1\n",
       "1496    1\n",
       "1497    1\n",
       "1498    1\n",
       "1499    1\n",
       "Name: target, Length: 1500, dtype: int64"
      ]
     },
     "execution_count": 80,
     "metadata": {},
     "output_type": "execute_result"
    }
   ],
   "source": [
    "y_train"
   ]
  },
  {
   "cell_type": "code",
   "execution_count": 84,
   "id": "1efb5530",
   "metadata": {
    "ExecuteTime": {
     "end_time": "2022-05-22T12:03:56.883070Z",
     "start_time": "2022-05-22T12:03:56.283699Z"
    },
    "scrolled": true
   },
   "outputs": [
    {
     "name": "stdout",
     "output_type": "stream",
     "text": [
      "train_score : 0.6806666666666666\n",
      "test_score : 0.4721549636803874\n",
      "LogisticRegression\n",
      "              precision    recall  f1-score   support\n",
      "\n",
      "           0       0.58      0.16      0.25       228\n",
      "           1       0.45      0.86      0.59       185\n",
      "\n",
      "    accuracy                           0.47       413\n",
      "   macro avg       0.52      0.51      0.42       413\n",
      "weighted avg       0.52      0.47      0.40       413\n",
      "\n",
      "roc_auc_score : 0.5686107159791371\n",
      "--------------------------------------------------\n",
      "train_score : 0.8033333333333333\n",
      "test_score : 0.46973365617433416\n",
      "KNeighborsClassifier\n",
      "              precision    recall  f1-score   support\n",
      "\n",
      "           0       0.91      0.04      0.08       228\n",
      "           1       0.46      0.99      0.63       185\n",
      "\n",
      "    accuracy                           0.47       413\n",
      "   macro avg       0.68      0.52      0.36       413\n",
      "weighted avg       0.71      0.47      0.33       413\n",
      "\n",
      "roc_auc_score : 0.4862612612612612\n",
      "--------------------------------------------------\n",
      "train_score : 1.0\n",
      "test_score : 0.46246973365617433\n",
      "RandomForestClassifier\n",
      "              precision    recall  f1-score   support\n",
      "\n",
      "           0       0.88      0.03      0.06       228\n",
      "           1       0.45      0.99      0.62       185\n",
      "\n",
      "    accuracy                           0.46       413\n",
      "   macro avg       0.66      0.51      0.34       413\n",
      "weighted avg       0.69      0.46      0.31       413\n",
      "\n",
      "roc_auc_score : 0.5445471787577051\n",
      "--------------------------------------------------\n",
      "[21:03:56] WARNING: C:/Users/Administrator/workspace/xgboost-win64_release_1.5.1/src/learner.cc:1115: Starting in XGBoost 1.3.0, the default evaluation metric used with the objective 'binary:logistic' was changed from 'error' to 'logloss'. Explicitly set eval_metric if you'd like to restore the old behavior.\n",
      "train_score : 1.0\n",
      "test_score : 0.44794188861985473\n",
      "XGBClassifier\n",
      "              precision    recall  f1-score   support\n",
      "\n",
      "           0       0.00      0.00      0.00       228\n",
      "           1       0.45      1.00      0.62       185\n",
      "\n",
      "    accuracy                           0.45       413\n",
      "   macro avg       0.22      0.50      0.31       413\n",
      "weighted avg       0.20      0.45      0.28       413\n",
      "\n",
      "roc_auc_score : 0.5671763869132291\n",
      "--------------------------------------------------\n",
      "train_score : 1.0\n",
      "test_score : 0.44794188861985473\n",
      "LGBMClassifier\n",
      "              precision    recall  f1-score   support\n",
      "\n",
      "           0       0.00      0.00      0.00       228\n",
      "           1       0.45      1.00      0.62       185\n",
      "\n",
      "    accuracy                           0.45       413\n",
      "   macro avg       0.22      0.50      0.31       413\n",
      "weighted avg       0.20      0.45      0.28       413\n",
      "\n",
      "roc_auc_score : 0.6014461830251304\n",
      "--------------------------------------------------\n"
     ]
    },
    {
     "name": "stderr",
     "output_type": "stream",
     "text": [
      "C:\\Users\\bitcamp\\anaconda3\\lib\\site-packages\\xgboost\\sklearn.py:1224: UserWarning: The use of label encoder in XGBClassifier is deprecated and will be removed in a future release. To remove this warning, do the following: 1) Pass option use_label_encoder=False when constructing XGBClassifier object; and 2) Encode your labels (y) as integers starting with 0, i.e. 0, 1, 2, ..., [num_class - 1].\n",
      "  warnings.warn(label_encoder_deprecation_msg, UserWarning)\n",
      "C:\\Users\\bitcamp\\anaconda3\\lib\\site-packages\\sklearn\\metrics\\_classification.py:1318: UndefinedMetricWarning: Precision and F-score are ill-defined and being set to 0.0 in labels with no predicted samples. Use `zero_division` parameter to control this behavior.\n",
      "  _warn_prf(average, modifier, msg_start, len(result))\n",
      "C:\\Users\\bitcamp\\anaconda3\\lib\\site-packages\\sklearn\\metrics\\_classification.py:1318: UndefinedMetricWarning: Precision and F-score are ill-defined and being set to 0.0 in labels with no predicted samples. Use `zero_division` parameter to control this behavior.\n",
      "  _warn_prf(average, modifier, msg_start, len(result))\n",
      "C:\\Users\\bitcamp\\anaconda3\\lib\\site-packages\\sklearn\\metrics\\_classification.py:1318: UndefinedMetricWarning: Precision and F-score are ill-defined and being set to 0.0 in labels with no predicted samples. Use `zero_division` parameter to control this behavior.\n",
      "  _warn_prf(average, modifier, msg_start, len(result))\n",
      "C:\\Users\\bitcamp\\anaconda3\\lib\\site-packages\\sklearn\\metrics\\_classification.py:1318: UndefinedMetricWarning: Precision and F-score are ill-defined and being set to 0.0 in labels with no predicted samples. Use `zero_division` parameter to control this behavior.\n",
      "  _warn_prf(average, modifier, msg_start, len(result))\n",
      "C:\\Users\\bitcamp\\anaconda3\\lib\\site-packages\\sklearn\\metrics\\_classification.py:1318: UndefinedMetricWarning: Precision and F-score are ill-defined and being set to 0.0 in labels with no predicted samples. Use `zero_division` parameter to control this behavior.\n",
      "  _warn_prf(average, modifier, msg_start, len(result))\n",
      "C:\\Users\\bitcamp\\anaconda3\\lib\\site-packages\\sklearn\\metrics\\_classification.py:1318: UndefinedMetricWarning: Precision and F-score are ill-defined and being set to 0.0 in labels with no predicted samples. Use `zero_division` parameter to control this behavior.\n",
      "  _warn_prf(average, modifier, msg_start, len(result))\n"
     ]
    }
   ],
   "source": [
    "models = [log,knn,rfc,xgb,lgbm]\n",
    "\n",
    "for m in models:\n",
    "    m.fit(x_train,y_train)\n",
    "    \n",
    "    preds = m.predict(x_test)\n",
    "    \n",
    "    train_score = m.score(x_train,y_train)\n",
    "    test_score = m.score(x_test,y_test)\n",
    "    print('train_score :',train_score) \n",
    "    print('test_score :',test_score)\n",
    "    \n",
    "    \n",
    "    proba = m.predict_proba(x_test)[:,1]\n",
    "    \n",
    "    print(m.__class__.__name__)\n",
    "    print(classification_report(y_test,preds))\n",
    "    print('roc_auc_score :', roc_auc_score(y_test, proba))\n",
    "    print('-'*50)\n",
    "    "
   ]
  },
  {
   "cell_type": "code",
   "execution_count": 85,
   "id": "8427fd79",
   "metadata": {
    "ExecuteTime": {
     "end_time": "2022-05-22T12:04:28.847629Z",
     "start_time": "2022-05-22T12:04:28.609174Z"
    }
   },
   "outputs": [
    {
     "name": "stderr",
     "output_type": "stream",
     "text": [
      "C:\\Users\\bitcamp\\anaconda3\\lib\\site-packages\\xgboost\\sklearn.py:1224: UserWarning: The use of label encoder in XGBClassifier is deprecated and will be removed in a future release. To remove this warning, do the following: 1) Pass option use_label_encoder=False when constructing XGBClassifier object; and 2) Encode your labels (y) as integers starting with 0, i.e. 0, 1, 2, ..., [num_class - 1].\n",
      "  warnings.warn(label_encoder_deprecation_msg, UserWarning)\n"
     ]
    },
    {
     "name": "stdout",
     "output_type": "stream",
     "text": [
      "[21:04:28] WARNING: C:/Users/Administrator/workspace/xgboost-win64_release_1.5.1/src/learner.cc:1115: Starting in XGBoost 1.3.0, the default evaluation metric used with the objective 'binary:logistic' was changed from 'error' to 'logloss'. Explicitly set eval_metric if you'd like to restore the old behavior.\n"
     ]
    },
    {
     "data": {
      "image/png": "[encoded data removed]",
      "text/plain": [
       "<Figure size 576x432 with 1 Axes>"
      ]
     },
     "metadata": {
      "needs_background": "light"
     },
     "output_type": "display_data"
    }
   ],
   "source": [
    "# xgb feature importance 상위 20개\n",
    "from xgboost import plot_importance\n",
    "\n",
    "xgb.fit(x_train, y_train)\n",
    "\n",
    "# 배열형태로 반환\n",
    "ft_importance_values = xgb.feature_importances_\n",
    "\n",
    "# 정렬과 시각화를 쉽게 하기 위해 series 전환\n",
    "ft_series = pd.Series(ft_importance_values, index = x_train.columns)\n",
    "ft_top20 = ft_series.sort_values(ascending=False)[:20]\n",
    "\n",
    "# 시각화\n",
    "plt.figure(figsize=(8,6))\n",
    "plt.title('Feature Importance Top 20')\n",
    "sns.barplot(x=ft_top20, y=ft_top20.index)\n",
    "plt.show()"
   ]
  },
  {
   "cell_type": "code",
   "execution_count": null,
   "id": "c4cfeab4",
   "metadata": {},
   "outputs": [],
   "source": []
  },
  {
   "cell_type": "markdown",
   "id": "d2e785c9",
   "metadata": {},
   "source": [
    "## 20일"
   ]
  },
  {
   "cell_type": "code",
   "execution_count": 86,
   "id": "729f7488",
   "metadata": {
    "ExecuteTime": {
     "end_time": "2022-05-22T12:07:13.851866Z",
     "start_time": "2022-05-22T12:07:13.108468Z"
    }
   },
   "outputs": [
    {
     "name": "stderr",
     "output_type": "stream",
     "text": [
      "C:\\Users\\bitcamp\\AppData\\Local\\Temp/ipykernel_7944/2812861201.py:27: SettingWithCopyWarning: \n",
      "A value is trying to be set on a copy of a slice from a DataFrame.\n",
      "Try using .loc[row_indexer,col_indexer] = value instead\n",
      "\n",
      "See the caveats in the documentation: https://pandas.pydata.org/pandas-docs/stable/user_guide/indexing.html#returning-a-view-versus-a-copy\n",
      "  df1['target'] = Y1\n"
     ]
    },
    {
     "data": {
      "text/html": [
       "<div>\n",
       "<style scoped>\n",
       "    .dataframe tbody tr th:only-of-type {\n",
       "        vertical-align: middle;\n",
       "    }\n",
       "\n",
       "    .dataframe tbody tr th {\n",
       "        vertical-align: top;\n",
       "    }\n",
       "\n",
       "    .dataframe thead th {\n",
       "        text-align: right;\n",
       "    }\n",
       "</style>\n",
       "<table border=\"1\" class=\"dataframe\">\n",
       "  <thead>\n",
       "    <tr style=\"text-align: right;\">\n",
       "      <th></th>\n",
       "      <th>Date</th>\n",
       "      <th>Close</th>\n",
       "      <th>Volume</th>\n",
       "      <th>Change</th>\n",
       "      <th>MACD</th>\n",
       "      <th>MACD_Signal</th>\n",
       "      <th>MACD_Oscilator</th>\n",
       "      <th>%K</th>\n",
       "      <th>%D</th>\n",
       "      <th>upper_b</th>\n",
       "      <th>...</th>\n",
       "      <th>High-Close</th>\n",
       "      <th>High-Open</th>\n",
       "      <th>High-Low</th>\n",
       "      <th>Close-Open</th>\n",
       "      <th>Close-Low</th>\n",
       "      <th>Open-Low</th>\n",
       "      <th>KQ_Change</th>\n",
       "      <th>ND_Change</th>\n",
       "      <th>SP_Change</th>\n",
       "      <th>target</th>\n",
       "    </tr>\n",
       "  </thead>\n",
       "  <tbody>\n",
       "    <tr>\n",
       "      <th>0</th>\n",
       "      <td>2014-01-29</td>\n",
       "      <td>2090</td>\n",
       "      <td>114002</td>\n",
       "      <td>0.017032</td>\n",
       "      <td>0.293096</td>\n",
       "      <td>0.353843</td>\n",
       "      <td>0.288118</td>\n",
       "      <td>0.156033</td>\n",
       "      <td>0.053030</td>\n",
       "      <td>0.256457</td>\n",
       "      <td>...</td>\n",
       "      <td>0.028290</td>\n",
       "      <td>0.028024</td>\n",
       "      <td>0.031501</td>\n",
       "      <td>0.381057</td>\n",
       "      <td>0.013004</td>\n",
       "      <td>0.014803</td>\n",
       "      <td>0.615495</td>\n",
       "      <td>0.515921</td>\n",
       "      <td>0.589419</td>\n",
       "      <td>0</td>\n",
       "    </tr>\n",
       "    <tr>\n",
       "      <th>1</th>\n",
       "      <td>2014-02-03</td>\n",
       "      <td>2080</td>\n",
       "      <td>141833</td>\n",
       "      <td>-0.004785</td>\n",
       "      <td>0.289862</td>\n",
       "      <td>0.352221</td>\n",
       "      <td>0.283582</td>\n",
       "      <td>0.158240</td>\n",
       "      <td>0.106794</td>\n",
       "      <td>0.257742</td>\n",
       "      <td>...</td>\n",
       "      <td>0.040590</td>\n",
       "      <td>0.035119</td>\n",
       "      <td>0.034853</td>\n",
       "      <td>0.246696</td>\n",
       "      <td>0.006335</td>\n",
       "      <td>0.009699</td>\n",
       "      <td>0.545194</td>\n",
       "      <td>0.515921</td>\n",
       "      <td>0.589419</td>\n",
       "      <td>0</td>\n",
       "    </tr>\n",
       "    <tr>\n",
       "      <th>2</th>\n",
       "      <td>2014-02-04</td>\n",
       "      <td>2115</td>\n",
       "      <td>541546</td>\n",
       "      <td>0.016827</td>\n",
       "      <td>0.288092</td>\n",
       "      <td>0.350579</td>\n",
       "      <td>0.282578</td>\n",
       "      <td>1.000000</td>\n",
       "      <td>0.440127</td>\n",
       "      <td>0.258248</td>\n",
       "      <td>...</td>\n",
       "      <td>0.056991</td>\n",
       "      <td>0.088329</td>\n",
       "      <td>0.108579</td>\n",
       "      <td>0.403084</td>\n",
       "      <td>0.066355</td>\n",
       "      <td>0.045431</td>\n",
       "      <td>0.503587</td>\n",
       "      <td>0.448085</td>\n",
       "      <td>0.530431</td>\n",
       "      <td>0</td>\n",
       "    </tr>\n",
       "    <tr>\n",
       "      <th>3</th>\n",
       "      <td>2014-02-05</td>\n",
       "      <td>2090</td>\n",
       "      <td>174541</td>\n",
       "      <td>-0.011820</td>\n",
       "      <td>0.285940</td>\n",
       "      <td>0.348877</td>\n",
       "      <td>0.280780</td>\n",
       "      <td>0.581818</td>\n",
       "      <td>0.581541</td>\n",
       "      <td>0.258806</td>\n",
       "      <td>...</td>\n",
       "      <td>0.044690</td>\n",
       "      <td>0.006740</td>\n",
       "      <td>0.034853</td>\n",
       "      <td>0.359031</td>\n",
       "      <td>0.003001</td>\n",
       "      <td>0.050536</td>\n",
       "      <td>0.541846</td>\n",
       "      <td>0.608214</td>\n",
       "      <td>0.454120</td>\n",
       "      <td>0</td>\n",
       "    </tr>\n",
       "    <tr>\n",
       "      <th>4</th>\n",
       "      <td>2014-02-06</td>\n",
       "      <td>2065</td>\n",
       "      <td>139022</td>\n",
       "      <td>-0.011962</td>\n",
       "      <td>0.283467</td>\n",
       "      <td>0.347086</td>\n",
       "      <td>0.278391</td>\n",
       "      <td>0.001818</td>\n",
       "      <td>0.527778</td>\n",
       "      <td>0.259419</td>\n",
       "      <td>...</td>\n",
       "      <td>0.032390</td>\n",
       "      <td>0.010287</td>\n",
       "      <td>0.021448</td>\n",
       "      <td>0.367841</td>\n",
       "      <td>0.000167</td>\n",
       "      <td>0.025013</td>\n",
       "      <td>0.600191</td>\n",
       "      <td>0.545455</td>\n",
       "      <td>0.596442</td>\n",
       "      <td>0</td>\n",
       "    </tr>\n",
       "  </tbody>\n",
       "</table>\n",
       "<p>5 rows × 27 columns</p>\n",
       "</div>"
      ],
      "text/plain": [
       "         Date  Close  Volume    Change      MACD  MACD_Signal  MACD_Oscilator  \\\n",
       "0  2014-01-29   2090  114002  0.017032  0.293096     0.353843        0.288118   \n",
       "1  2014-02-03   2080  141833 -0.004785  0.289862     0.352221        0.283582   \n",
       "2  2014-02-04   2115  541546  0.016827  0.288092     0.350579        0.282578   \n",
       "3  2014-02-05   2090  174541 -0.011820  0.285940     0.348877        0.280780   \n",
       "4  2014-02-06   2065  139022 -0.011962  0.283467     0.347086        0.278391   \n",
       "\n",
       "         %K        %D   upper_b  ...  High-Close  High-Open  High-Low  \\\n",
       "0  0.156033  0.053030  0.256457  ...    0.028290   0.028024  0.031501   \n",
       "1  0.158240  0.106794  0.257742  ...    0.040590   0.035119  0.034853   \n",
       "2  1.000000  0.440127  0.258248  ...    0.056991   0.088329  0.108579   \n",
       "3  0.581818  0.581541  0.258806  ...    0.044690   0.006740  0.034853   \n",
       "4  0.001818  0.527778  0.259419  ...    0.032390   0.010287  0.021448   \n",
       "\n",
       "   Close-Open  Close-Low  Open-Low  KQ_Change  ND_Change  SP_Change  target  \n",
       "0    0.381057   0.013004  0.014803   0.615495   0.515921   0.589419       0  \n",
       "1    0.246696   0.006335  0.009699   0.545194   0.515921   0.589419       0  \n",
       "2    0.403084   0.066355  0.045431   0.503587   0.448085   0.530431       0  \n",
       "3    0.359031   0.003001  0.050536   0.541846   0.608214   0.454120       0  \n",
       "4    0.367841   0.000167  0.025013   0.600191   0.545455   0.596442       0  \n",
       "\n",
       "[5 rows x 27 columns]"
      ]
     },
     "execution_count": 86,
     "metadata": {},
     "output_type": "execute_result"
    }
   ],
   "source": [
    "df1 = add_target(df,target_size=20, rapid_rate=0.1)\n",
    "df1.head()"
   ]
  },
  {
   "cell_type": "code",
   "execution_count": 88,
   "id": "e7a24f63",
   "metadata": {
    "ExecuteTime": {
     "end_time": "2022-05-22T12:12:10.211108Z",
     "start_time": "2022-05-22T12:12:10.197145Z"
    }
   },
   "outputs": [],
   "source": [
    "x = df1.iloc[:,4:-1]\n",
    "y = df1['target']\n",
    "\n",
    "train_test_split = 1500\n",
    "\n",
    "x_train = x.iloc[:1500,4:]\n",
    "y_train = y.iloc[:1500]\n",
    "\n",
    "x_test = x.iloc[1500:,4:]\n",
    "y_test = y.iloc[1500:]"
   ]
  },
  {
   "cell_type": "code",
   "execution_count": 89,
   "id": "03660c12",
   "metadata": {
    "ExecuteTime": {
     "end_time": "2022-05-22T12:12:11.039890Z",
     "start_time": "2022-05-22T12:12:10.414564Z"
    }
   },
   "outputs": [
    {
     "name": "stdout",
     "output_type": "stream",
     "text": [
      "train_score : 0.7633333333333333\n",
      "test_score : 0.6737588652482269\n",
      "LogisticRegression\n",
      "              precision    recall  f1-score   support\n",
      "\n",
      "           0       0.67      0.99      0.80       278\n",
      "           1       0.82      0.06      0.12       145\n",
      "\n",
      "    accuracy                           0.67       423\n",
      "   macro avg       0.74      0.53      0.46       423\n",
      "weighted avg       0.72      0.67      0.57       423\n",
      "\n",
      "roc_auc_score : 0.6188786901513272\n",
      "--------------------------------------------------\n",
      "train_score : 0.8353333333333334\n",
      "test_score : 0.43498817966903075\n",
      "KNeighborsClassifier\n",
      "              precision    recall  f1-score   support\n",
      "\n",
      "           0       0.59      0.47      0.52       278\n",
      "           1       0.27      0.37      0.31       145\n",
      "\n",
      "    accuracy                           0.43       423\n",
      "   macro avg       0.43      0.42      0.42       423\n",
      "weighted avg       0.48      0.43      0.45       423\n",
      "\n",
      "roc_auc_score : 0.4249565864549739\n",
      "--------------------------------------------------\n",
      "train_score : 1.0\n",
      "test_score : 0.6690307328605201\n",
      "RandomForestClassifier\n",
      "              precision    recall  f1-score   support\n",
      "\n",
      "           0       0.72      0.82      0.77       278\n",
      "           1       0.52      0.38      0.44       145\n",
      "\n",
      "    accuracy                           0.67       423\n",
      "   macro avg       0.62      0.60      0.60       423\n",
      "weighted avg       0.65      0.67      0.65       423\n",
      "\n",
      "roc_auc_score : 0.6425328702555198\n",
      "--------------------------------------------------\n",
      "[21:12:10] WARNING: C:/Users/Administrator/workspace/xgboost-win64_release_1.5.1/src/learner.cc:1115: Starting in XGBoost 1.3.0, the default evaluation metric used with the objective 'binary:logistic' was changed from 'error' to 'logloss'. Explicitly set eval_metric if you'd like to restore the old behavior.\n",
      "train_score : 1.0\n",
      "test_score : 0.7186761229314421\n",
      "XGBClassifier\n",
      "              precision    recall  f1-score   support\n",
      "\n",
      "           0       0.79      0.77      0.78       278\n",
      "           1       0.59      0.61      0.60       145\n",
      "\n",
      "    accuracy                           0.72       423\n",
      "   macro avg       0.69      0.69      0.69       423\n",
      "weighted avg       0.72      0.72      0.72       423\n",
      "\n",
      "roc_auc_score : 0.7414289258248574\n",
      "--------------------------------------------------\n",
      "train_score : 1.0\n",
      "test_score : 0.6666666666666666\n",
      "LGBMClassifier\n",
      "              precision    recall  f1-score   support\n",
      "\n",
      "           0       0.69      0.91      0.78       278\n",
      "           1       0.54      0.21      0.30       145\n",
      "\n",
      "    accuracy                           0.67       423\n",
      "   macro avg       0.61      0.56      0.54       423\n",
      "weighted avg       0.63      0.67      0.62       423\n",
      "\n",
      "roc_auc_score : 0.7702555197221533\n",
      "--------------------------------------------------\n"
     ]
    },
    {
     "name": "stderr",
     "output_type": "stream",
     "text": [
      "C:\\Users\\bitcamp\\anaconda3\\lib\\site-packages\\xgboost\\sklearn.py:1224: UserWarning: The use of label encoder in XGBClassifier is deprecated and will be removed in a future release. To remove this warning, do the following: 1) Pass option use_label_encoder=False when constructing XGBClassifier object; and 2) Encode your labels (y) as integers starting with 0, i.e. 0, 1, 2, ..., [num_class - 1].\n",
      "  warnings.warn(label_encoder_deprecation_msg, UserWarning)\n"
     ]
    }
   ],
   "source": [
    "models = [log,knn,rfc,xgb,lgbm]\n",
    "\n",
    "for m in models:\n",
    "    m.fit(x_train,y_train)\n",
    "    \n",
    "    preds = m.predict(x_test)\n",
    "    \n",
    "    train_score = m.score(x_train,y_train)\n",
    "    test_score = m.score(x_test,y_test)\n",
    "    print('train_score :',train_score) \n",
    "    print('test_score :',test_score)\n",
    "    \n",
    "    \n",
    "    proba = m.predict_proba(x_test)[:,1]\n",
    "    \n",
    "    print(m.__class__.__name__)\n",
    "    print(classification_report(y_test,preds))\n",
    "    print('roc_auc_score :', roc_auc_score(y_test, proba))\n",
    "    print('-'*50)\n",
    "    "
   ]
  },
  {
   "cell_type": "code",
   "execution_count": 94,
   "id": "4129a6cc",
   "metadata": {
    "ExecuteTime": {
     "end_time": "2022-05-22T12:17:47.294493Z",
     "start_time": "2022-05-22T12:17:47.054141Z"
    }
   },
   "outputs": [
    {
     "name": "stderr",
     "output_type": "stream",
     "text": [
      "C:\\Users\\bitcamp\\anaconda3\\lib\\site-packages\\xgboost\\sklearn.py:1224: UserWarning: The use of label encoder in XGBClassifier is deprecated and will be removed in a future release. To remove this warning, do the following: 1) Pass option use_label_encoder=False when constructing XGBClassifier object; and 2) Encode your labels (y) as integers starting with 0, i.e. 0, 1, 2, ..., [num_class - 1].\n",
      "  warnings.warn(label_encoder_deprecation_msg, UserWarning)\n"
     ]
    },
    {
     "name": "stdout",
     "output_type": "stream",
     "text": [
      "[21:17:47] WARNING: C:/Users/Administrator/workspace/xgboost-win64_release_1.5.1/src/learner.cc:1115: Starting in XGBoost 1.3.0, the default evaluation metric used with the objective 'binary:logistic' was changed from 'error' to 'logloss'. Explicitly set eval_metric if you'd like to restore the old behavior.\n"
     ]
    },
    {
     "data": {
      "image/png": "[encoded data removed]",
      "text/plain": [
       "<Figure size 576x432 with 1 Axes>"
      ]
     },
     "metadata": {
      "needs_background": "light"
     },
     "output_type": "display_data"
    }
   ],
   "source": [
    "# xgb feature importance 상위 20개\n",
    "from xgboost import plot_importance\n",
    "\n",
    "xgb.fit(x_train, y_train)\n",
    "\n",
    "# 배열형태로 반환\n",
    "ft_importance_values = xgb.feature_importances_\n",
    "\n",
    "# 정렬과 시각화를 쉽게 하기 위해 series 전환\n",
    "ft_series = pd.Series(ft_importance_values, index = x_train.columns)\n",
    "ft_top20 = ft_series.sort_values(ascending=False)[:20]\n",
    "\n",
    "# 시각화\n",
    "plt.figure(figsize=(8,6))\n",
    "plt.title('Feature Importance Top 20')\n",
    "sns.barplot(x=ft_top20, y=ft_top20.index)\n",
    "plt.show()"
   ]
  },
  {
   "cell_type": "code",
   "execution_count": 92,
   "id": "e3d30127",
   "metadata": {
    "ExecuteTime": {
     "end_time": "2022-05-22T12:16:08.392385Z",
     "start_time": "2022-05-22T12:16:08.384406Z"
    }
   },
   "outputs": [
    {
     "data": {
      "text/plain": [
       "array([0.04081232, 0.12482509, 0.12676443, 0.12249476, 0.12449162,\n",
       "       0.11861022, 0.01296185, 0.02369663, 0.0300265 , 0.00697911,\n",
       "       0.02682755, 0.03762015, 0.10332044, 0.04792736, 0.01793052,\n",
       "       0.00870799, 0.01317749, 0.01282599], dtype=float32)"
      ]
     },
     "execution_count": 92,
     "metadata": {},
     "output_type": "execute_result"
    }
   ],
   "source": [
    "xgb.feature_importances_"
   ]
  },
  {
   "cell_type": "code",
   "execution_count": null,
   "id": "977a652b",
   "metadata": {},
   "outputs": [],
   "source": []
  },
  {
   "cell_type": "markdown",
   "id": "fb0e08b7",
   "metadata": {},
   "source": [
    "## 10일"
   ]
  },
  {
   "cell_type": "code",
   "execution_count": 95,
   "id": "4291f2c0",
   "metadata": {
    "ExecuteTime": {
     "end_time": "2022-05-22T12:18:02.041330Z",
     "start_time": "2022-05-22T12:18:01.650396Z"
    }
   },
   "outputs": [
    {
     "name": "stderr",
     "output_type": "stream",
     "text": [
      "C:\\Users\\bitcamp\\AppData\\Local\\Temp/ipykernel_7944/2812861201.py:27: SettingWithCopyWarning: \n",
      "A value is trying to be set on a copy of a slice from a DataFrame.\n",
      "Try using .loc[row_indexer,col_indexer] = value instead\n",
      "\n",
      "See the caveats in the documentation: https://pandas.pydata.org/pandas-docs/stable/user_guide/indexing.html#returning-a-view-versus-a-copy\n",
      "  df1['target'] = Y1\n"
     ]
    },
    {
     "data": {
      "text/html": [
       "<div>\n",
       "<style scoped>\n",
       "    .dataframe tbody tr th:only-of-type {\n",
       "        vertical-align: middle;\n",
       "    }\n",
       "\n",
       "    .dataframe tbody tr th {\n",
       "        vertical-align: top;\n",
       "    }\n",
       "\n",
       "    .dataframe thead th {\n",
       "        text-align: right;\n",
       "    }\n",
       "</style>\n",
       "<table border=\"1\" class=\"dataframe\">\n",
       "  <thead>\n",
       "    <tr style=\"text-align: right;\">\n",
       "      <th></th>\n",
       "      <th>Date</th>\n",
       "      <th>Close</th>\n",
       "      <th>Volume</th>\n",
       "      <th>Change</th>\n",
       "      <th>MACD</th>\n",
       "      <th>MACD_Signal</th>\n",
       "      <th>MACD_Oscilator</th>\n",
       "      <th>%K</th>\n",
       "      <th>%D</th>\n",
       "      <th>upper_b</th>\n",
       "      <th>...</th>\n",
       "      <th>High-Close</th>\n",
       "      <th>High-Open</th>\n",
       "      <th>High-Low</th>\n",
       "      <th>Close-Open</th>\n",
       "      <th>Close-Low</th>\n",
       "      <th>Open-Low</th>\n",
       "      <th>KQ_Change</th>\n",
       "      <th>ND_Change</th>\n",
       "      <th>SP_Change</th>\n",
       "      <th>target</th>\n",
       "    </tr>\n",
       "  </thead>\n",
       "  <tbody>\n",
       "    <tr>\n",
       "      <th>0</th>\n",
       "      <td>2014-01-29</td>\n",
       "      <td>2090</td>\n",
       "      <td>114002</td>\n",
       "      <td>0.017032</td>\n",
       "      <td>0.293096</td>\n",
       "      <td>0.353843</td>\n",
       "      <td>0.288118</td>\n",
       "      <td>0.156033</td>\n",
       "      <td>0.053030</td>\n",
       "      <td>0.256457</td>\n",
       "      <td>...</td>\n",
       "      <td>0.028290</td>\n",
       "      <td>0.028024</td>\n",
       "      <td>0.031501</td>\n",
       "      <td>0.381057</td>\n",
       "      <td>0.013004</td>\n",
       "      <td>0.014803</td>\n",
       "      <td>0.615495</td>\n",
       "      <td>0.515921</td>\n",
       "      <td>0.589419</td>\n",
       "      <td>0</td>\n",
       "    </tr>\n",
       "    <tr>\n",
       "      <th>1</th>\n",
       "      <td>2014-02-03</td>\n",
       "      <td>2080</td>\n",
       "      <td>141833</td>\n",
       "      <td>-0.004785</td>\n",
       "      <td>0.289862</td>\n",
       "      <td>0.352221</td>\n",
       "      <td>0.283582</td>\n",
       "      <td>0.158240</td>\n",
       "      <td>0.106794</td>\n",
       "      <td>0.257742</td>\n",
       "      <td>...</td>\n",
       "      <td>0.040590</td>\n",
       "      <td>0.035119</td>\n",
       "      <td>0.034853</td>\n",
       "      <td>0.246696</td>\n",
       "      <td>0.006335</td>\n",
       "      <td>0.009699</td>\n",
       "      <td>0.545194</td>\n",
       "      <td>0.515921</td>\n",
       "      <td>0.589419</td>\n",
       "      <td>0</td>\n",
       "    </tr>\n",
       "    <tr>\n",
       "      <th>2</th>\n",
       "      <td>2014-02-04</td>\n",
       "      <td>2115</td>\n",
       "      <td>541546</td>\n",
       "      <td>0.016827</td>\n",
       "      <td>0.288092</td>\n",
       "      <td>0.350579</td>\n",
       "      <td>0.282578</td>\n",
       "      <td>1.000000</td>\n",
       "      <td>0.440127</td>\n",
       "      <td>0.258248</td>\n",
       "      <td>...</td>\n",
       "      <td>0.056991</td>\n",
       "      <td>0.088329</td>\n",
       "      <td>0.108579</td>\n",
       "      <td>0.403084</td>\n",
       "      <td>0.066355</td>\n",
       "      <td>0.045431</td>\n",
       "      <td>0.503587</td>\n",
       "      <td>0.448085</td>\n",
       "      <td>0.530431</td>\n",
       "      <td>0</td>\n",
       "    </tr>\n",
       "    <tr>\n",
       "      <th>3</th>\n",
       "      <td>2014-02-05</td>\n",
       "      <td>2090</td>\n",
       "      <td>174541</td>\n",
       "      <td>-0.011820</td>\n",
       "      <td>0.285940</td>\n",
       "      <td>0.348877</td>\n",
       "      <td>0.280780</td>\n",
       "      <td>0.581818</td>\n",
       "      <td>0.581541</td>\n",
       "      <td>0.258806</td>\n",
       "      <td>...</td>\n",
       "      <td>0.044690</td>\n",
       "      <td>0.006740</td>\n",
       "      <td>0.034853</td>\n",
       "      <td>0.359031</td>\n",
       "      <td>0.003001</td>\n",
       "      <td>0.050536</td>\n",
       "      <td>0.541846</td>\n",
       "      <td>0.608214</td>\n",
       "      <td>0.454120</td>\n",
       "      <td>0</td>\n",
       "    </tr>\n",
       "    <tr>\n",
       "      <th>4</th>\n",
       "      <td>2014-02-06</td>\n",
       "      <td>2065</td>\n",
       "      <td>139022</td>\n",
       "      <td>-0.011962</td>\n",
       "      <td>0.283467</td>\n",
       "      <td>0.347086</td>\n",
       "      <td>0.278391</td>\n",
       "      <td>0.001818</td>\n",
       "      <td>0.527778</td>\n",
       "      <td>0.259419</td>\n",
       "      <td>...</td>\n",
       "      <td>0.032390</td>\n",
       "      <td>0.010287</td>\n",
       "      <td>0.021448</td>\n",
       "      <td>0.367841</td>\n",
       "      <td>0.000167</td>\n",
       "      <td>0.025013</td>\n",
       "      <td>0.600191</td>\n",
       "      <td>0.545455</td>\n",
       "      <td>0.596442</td>\n",
       "      <td>0</td>\n",
       "    </tr>\n",
       "  </tbody>\n",
       "</table>\n",
       "<p>5 rows × 27 columns</p>\n",
       "</div>"
      ],
      "text/plain": [
       "         Date  Close  Volume    Change      MACD  MACD_Signal  MACD_Oscilator  \\\n",
       "0  2014-01-29   2090  114002  0.017032  0.293096     0.353843        0.288118   \n",
       "1  2014-02-03   2080  141833 -0.004785  0.289862     0.352221        0.283582   \n",
       "2  2014-02-04   2115  541546  0.016827  0.288092     0.350579        0.282578   \n",
       "3  2014-02-05   2090  174541 -0.011820  0.285940     0.348877        0.280780   \n",
       "4  2014-02-06   2065  139022 -0.011962  0.283467     0.347086        0.278391   \n",
       "\n",
       "         %K        %D   upper_b  ...  High-Close  High-Open  High-Low  \\\n",
       "0  0.156033  0.053030  0.256457  ...    0.028290   0.028024  0.031501   \n",
       "1  0.158240  0.106794  0.257742  ...    0.040590   0.035119  0.034853   \n",
       "2  1.000000  0.440127  0.258248  ...    0.056991   0.088329  0.108579   \n",
       "3  0.581818  0.581541  0.258806  ...    0.044690   0.006740  0.034853   \n",
       "4  0.001818  0.527778  0.259419  ...    0.032390   0.010287  0.021448   \n",
       "\n",
       "   Close-Open  Close-Low  Open-Low  KQ_Change  ND_Change  SP_Change  target  \n",
       "0    0.381057   0.013004  0.014803   0.615495   0.515921   0.589419       0  \n",
       "1    0.246696   0.006335  0.009699   0.545194   0.515921   0.589419       0  \n",
       "2    0.403084   0.066355  0.045431   0.503587   0.448085   0.530431       0  \n",
       "3    0.359031   0.003001  0.050536   0.541846   0.608214   0.454120       0  \n",
       "4    0.367841   0.000167  0.025013   0.600191   0.545455   0.596442       0  \n",
       "\n",
       "[5 rows x 27 columns]"
      ]
     },
     "execution_count": 95,
     "metadata": {},
     "output_type": "execute_result"
    }
   ],
   "source": [
    "df1 = add_target(df,target_size=10, rapid_rate=0.1)\n",
    "df1.head()"
   ]
  },
  {
   "cell_type": "code",
   "execution_count": 96,
   "id": "fbbbe3a9",
   "metadata": {
    "ExecuteTime": {
     "end_time": "2022-05-22T12:18:02.245556Z",
     "start_time": "2022-05-22T12:18:02.231011Z"
    }
   },
   "outputs": [],
   "source": [
    "x = df1.iloc[:,4:-1]\n",
    "y = df1['target']\n",
    "\n",
    "train_test_split = 1500\n",
    "\n",
    "x_train = x.iloc[:1500,4:]\n",
    "y_train = y.iloc[:1500]\n",
    "\n",
    "x_test = x.iloc[1500:,4:]\n",
    "y_test = y.iloc[1500:]"
   ]
  },
  {
   "cell_type": "code",
   "execution_count": 97,
   "id": "70dfc4bc",
   "metadata": {
    "ExecuteTime": {
     "end_time": "2022-05-22T12:18:03.095023Z",
     "start_time": "2022-05-22T12:18:02.450777Z"
    }
   },
   "outputs": [
    {
     "name": "stdout",
     "output_type": "stream",
     "text": [
      "train_score : 0.864\n",
      "test_score : 0.7875288683602771\n",
      "LogisticRegression\n",
      "              precision    recall  f1-score   support\n",
      "\n",
      "           0       0.79      1.00      0.88       338\n",
      "           1       1.00      0.03      0.06        95\n",
      "\n",
      "    accuracy                           0.79       433\n",
      "   macro avg       0.89      0.52      0.47       433\n",
      "weighted avg       0.83      0.79      0.70       433\n",
      "\n",
      "roc_auc_score : 0.6217377763936468\n",
      "--------------------------------------------------\n",
      "train_score : 0.8873333333333333\n",
      "test_score : 0.6558891454965358\n",
      "KNeighborsClassifier\n",
      "              precision    recall  f1-score   support\n",
      "\n",
      "           0       0.76      0.81      0.79       338\n",
      "           1       0.12      0.09      0.11        95\n",
      "\n",
      "    accuracy                           0.66       433\n",
      "   macro avg       0.44      0.45      0.45       433\n",
      "weighted avg       0.62      0.66      0.64       433\n",
      "\n",
      "roc_auc_score : 0.4774213640610401\n",
      "--------------------------------------------------\n",
      "train_score : 1.0\n",
      "test_score : 0.7875288683602771\n",
      "RandomForestClassifier\n",
      "              precision    recall  f1-score   support\n",
      "\n",
      "           0       0.79      0.99      0.88       338\n",
      "           1       0.71      0.05      0.10        95\n",
      "\n",
      "    accuracy                           0.79       433\n",
      "   macro avg       0.75      0.52      0.49       433\n",
      "weighted avg       0.77      0.79      0.71       433\n",
      "\n",
      "roc_auc_score : 0.7879476798505138\n",
      "--------------------------------------------------\n",
      "[21:18:02] WARNING: C:/Users/Administrator/workspace/xgboost-win64_release_1.5.1/src/learner.cc:1115: Starting in XGBoost 1.3.0, the default evaluation metric used with the objective 'binary:logistic' was changed from 'error' to 'logloss'. Explicitly set eval_metric if you'd like to restore the old behavior.\n",
      "train_score : 1.0\n",
      "test_score : 0.7782909930715936\n",
      "XGBClassifier\n",
      "              precision    recall  f1-score   support\n",
      "\n",
      "           0       0.79      0.97      0.87       338\n",
      "           1       0.47      0.09      0.16        95\n",
      "\n",
      "    accuracy                           0.78       433\n",
      "   macro avg       0.63      0.53      0.52       433\n",
      "weighted avg       0.72      0.78      0.72       433\n",
      "\n",
      "roc_auc_score : 0.7316412332606665\n",
      "--------------------------------------------------\n",
      "train_score : 1.0\n",
      "test_score : 0.7806004618937644\n",
      "LGBMClassifier\n",
      "              precision    recall  f1-score   support\n",
      "\n",
      "           0       0.78      1.00      0.88       338\n",
      "           1       0.50      0.01      0.02        95\n",
      "\n",
      "    accuracy                           0.78       433\n",
      "   macro avg       0.64      0.50      0.45       433\n",
      "weighted avg       0.72      0.78      0.69       433\n",
      "\n",
      "roc_auc_score : 0.7636561818748053\n",
      "--------------------------------------------------\n"
     ]
    },
    {
     "name": "stderr",
     "output_type": "stream",
     "text": [
      "C:\\Users\\bitcamp\\anaconda3\\lib\\site-packages\\xgboost\\sklearn.py:1224: UserWarning: The use of label encoder in XGBClassifier is deprecated and will be removed in a future release. To remove this warning, do the following: 1) Pass option use_label_encoder=False when constructing XGBClassifier object; and 2) Encode your labels (y) as integers starting with 0, i.e. 0, 1, 2, ..., [num_class - 1].\n",
      "  warnings.warn(label_encoder_deprecation_msg, UserWarning)\n"
     ]
    }
   ],
   "source": [
    "models = [log,knn,rfc,xgb,lgbm]\n",
    "\n",
    "for m in models:\n",
    "    m.fit(x_train,y_train)\n",
    "    \n",
    "    preds = m.predict(x_test)\n",
    "    \n",
    "    train_score = m.score(x_train,y_train)\n",
    "    test_score = m.score(x_test,y_test)\n",
    "    print('train_score :',train_score) \n",
    "    print('test_score :',test_score)\n",
    "    \n",
    "    \n",
    "    proba = m.predict_proba(x_test)[:,1]\n",
    "    \n",
    "    print(m.__class__.__name__)\n",
    "    print(classification_report(y_test,preds))\n",
    "    print('roc_auc_score :', roc_auc_score(y_test, proba))\n",
    "    print('-'*50)\n",
    "    "
   ]
  },
  {
   "cell_type": "markdown",
   "id": "27ce8b76",
   "metadata": {},
   "source": [
    "## 10일 15%"
   ]
  },
  {
   "cell_type": "code",
   "execution_count": 111,
   "id": "5543f3a5",
   "metadata": {
    "ExecuteTime": {
     "end_time": "2022-05-23T11:44:23.266546Z",
     "start_time": "2022-05-23T11:44:22.886518Z"
    }
   },
   "outputs": [
    {
     "name": "stderr",
     "output_type": "stream",
     "text": [
      "C:\\Users\\bitcamp\\AppData\\Local\\Temp/ipykernel_7944/2812861201.py:27: SettingWithCopyWarning: \n",
      "A value is trying to be set on a copy of a slice from a DataFrame.\n",
      "Try using .loc[row_indexer,col_indexer] = value instead\n",
      "\n",
      "See the caveats in the documentation: https://pandas.pydata.org/pandas-docs/stable/user_guide/indexing.html#returning-a-view-versus-a-copy\n",
      "  df1['target'] = Y1\n"
     ]
    }
   ],
   "source": [
    "df11 = add_target(df,target_size=10, rapid_rate=0.15)"
   ]
  },
  {
   "cell_type": "code",
   "execution_count": 112,
   "id": "6027a8aa",
   "metadata": {
    "ExecuteTime": {
     "end_time": "2022-05-23T11:44:34.276586Z",
     "start_time": "2022-05-23T11:44:34.261630Z"
    }
   },
   "outputs": [],
   "source": [
    "x = df11.iloc[:,4:-1]\n",
    "y = df11['target']\n",
    "\n",
    "train_test_split = 1500\n",
    "\n",
    "x_train = x.iloc[:1500,4:]\n",
    "y_train = y.iloc[:1500]\n",
    "\n",
    "x_test = x.iloc[1500:,4:]\n",
    "y_test = y.iloc[1500:]"
   ]
  },
  {
   "cell_type": "code",
   "execution_count": 113,
   "id": "7ca0927d",
   "metadata": {
    "ExecuteTime": {
     "end_time": "2022-05-23T11:44:44.596994Z",
     "start_time": "2022-05-23T11:44:44.038518Z"
    }
   },
   "outputs": [
    {
     "name": "stdout",
     "output_type": "stream",
     "text": [
      "train_score : 0.9286666666666666\n",
      "test_score : 0.8960739030023095\n",
      "LogisticRegression\n",
      "              precision    recall  f1-score   support\n",
      "\n",
      "           0       0.90      1.00      0.95       387\n",
      "           1       1.00      0.02      0.04        46\n",
      "\n",
      "    accuracy                           0.90       433\n",
      "   macro avg       0.95      0.51      0.49       433\n",
      "weighted avg       0.91      0.90      0.85       433\n",
      "\n",
      "roc_auc_score : 0.5417368834962364\n",
      "--------------------------------------------------\n",
      "train_score : 0.94\n",
      "test_score : 0.8937644341801386\n",
      "KNeighborsClassifier\n",
      "              precision    recall  f1-score   support\n",
      "\n",
      "           0       0.89      1.00      0.94       387\n",
      "           1       0.00      0.00      0.00        46\n",
      "\n",
      "    accuracy                           0.89       433\n",
      "   macro avg       0.45      0.50      0.47       433\n",
      "weighted avg       0.80      0.89      0.84       433\n",
      "\n",
      "roc_auc_score : 0.5082855858892259\n",
      "--------------------------------------------------\n"
     ]
    },
    {
     "name": "stderr",
     "output_type": "stream",
     "text": [
      "C:\\Users\\bitcamp\\anaconda3\\lib\\site-packages\\sklearn\\metrics\\_classification.py:1318: UndefinedMetricWarning: Precision and F-score are ill-defined and being set to 0.0 in labels with no predicted samples. Use `zero_division` parameter to control this behavior.\n",
      "  _warn_prf(average, modifier, msg_start, len(result))\n",
      "C:\\Users\\bitcamp\\anaconda3\\lib\\site-packages\\sklearn\\metrics\\_classification.py:1318: UndefinedMetricWarning: Precision and F-score are ill-defined and being set to 0.0 in labels with no predicted samples. Use `zero_division` parameter to control this behavior.\n",
      "  _warn_prf(average, modifier, msg_start, len(result))\n",
      "C:\\Users\\bitcamp\\anaconda3\\lib\\site-packages\\sklearn\\metrics\\_classification.py:1318: UndefinedMetricWarning: Precision and F-score are ill-defined and being set to 0.0 in labels with no predicted samples. Use `zero_division` parameter to control this behavior.\n",
      "  _warn_prf(average, modifier, msg_start, len(result))\n"
     ]
    },
    {
     "name": "stdout",
     "output_type": "stream",
     "text": [
      "train_score : 1.0\n",
      "test_score : 0.8406466512702079\n",
      "RandomForestClassifier\n",
      "              precision    recall  f1-score   support\n",
      "\n",
      "           0       0.92      0.90      0.91       387\n",
      "           1       0.30      0.37      0.33        46\n",
      "\n",
      "    accuracy                           0.84       433\n",
      "   macro avg       0.61      0.63      0.62       433\n",
      "weighted avg       0.86      0.84      0.85       433\n",
      "\n",
      "roc_auc_score : 0.797157622739018\n",
      "--------------------------------------------------\n",
      "[20:44:44] WARNING: C:/Users/Administrator/workspace/xgboost-win64_release_1.5.1/src/learner.cc:1115: Starting in XGBoost 1.3.0, the default evaluation metric used with the objective 'binary:logistic' was changed from 'error' to 'logloss'. Explicitly set eval_metric if you'd like to restore the old behavior.\n",
      "train_score : 1.0\n",
      "test_score : 0.8221709006928406\n",
      "XGBClassifier\n",
      "              precision    recall  f1-score   support\n",
      "\n",
      "           0       0.91      0.89      0.90       387\n",
      "           1       0.21      0.24      0.22        46\n",
      "\n",
      "    accuracy                           0.82       433\n",
      "   macro avg       0.56      0.57      0.56       433\n",
      "weighted avg       0.83      0.82      0.83       433\n",
      "\n",
      "roc_auc_score : 0.7919334906190315\n",
      "--------------------------------------------------\n",
      "train_score : 1.0\n",
      "test_score : 0.8267898383371824\n",
      "LGBMClassifier\n",
      "              precision    recall  f1-score   support\n",
      "\n",
      "           0       0.91      0.90      0.90       387\n",
      "           1       0.22      0.24      0.23        46\n",
      "\n",
      "    accuracy                           0.83       433\n",
      "   macro avg       0.56      0.57      0.56       433\n",
      "weighted avg       0.83      0.83      0.83       433\n",
      "\n",
      "roc_auc_score : 0.7835074710706661\n",
      "--------------------------------------------------\n"
     ]
    },
    {
     "name": "stderr",
     "output_type": "stream",
     "text": [
      "C:\\Users\\bitcamp\\anaconda3\\lib\\site-packages\\xgboost\\sklearn.py:1224: UserWarning: The use of label encoder in XGBClassifier is deprecated and will be removed in a future release. To remove this warning, do the following: 1) Pass option use_label_encoder=False when constructing XGBClassifier object; and 2) Encode your labels (y) as integers starting with 0, i.e. 0, 1, 2, ..., [num_class - 1].\n",
      "  warnings.warn(label_encoder_deprecation_msg, UserWarning)\n"
     ]
    }
   ],
   "source": [
    "models = [log,knn,rfc,xgb,lgbm]\n",
    "\n",
    "for m in models:\n",
    "    m.fit(x_train,y_train)\n",
    "    \n",
    "    preds = m.predict(x_test)\n",
    "    \n",
    "    train_score = m.score(x_train,y_train)\n",
    "    test_score = m.score(x_test,y_test)\n",
    "    print('train_score :',train_score) \n",
    "    print('test_score :',test_score)\n",
    "    \n",
    "    \n",
    "    proba = m.predict_proba(x_test)[:,1]\n",
    "    \n",
    "    print(m.__class__.__name__)\n",
    "    print(classification_report(y_test,preds))\n",
    "    print('roc_auc_score :', roc_auc_score(y_test, proba))\n",
    "    print('-'*50)"
   ]
  },
  {
   "cell_type": "code",
   "execution_count": null,
   "id": "ab065405",
   "metadata": {},
   "outputs": [],
   "source": []
  },
  {
   "cell_type": "code",
   "execution_count": null,
   "id": "c6ad3cee",
   "metadata": {},
   "outputs": [],
   "source": []
  },
  {
   "cell_type": "markdown",
   "id": "20ca9571",
   "metadata": {},
   "source": [
    "# 중앙디앤엠"
   ]
  },
  {
   "cell_type": "code",
   "execution_count": 98,
   "id": "b24ddc39",
   "metadata": {
    "ExecuteTime": {
     "end_time": "2022-05-23T11:24:51.835482Z",
     "start_time": "2022-05-23T11:24:51.799580Z"
    }
   },
   "outputs": [
    {
     "data": {
      "text/html": [
       "<div>\n",
       "<style scoped>\n",
       "    .dataframe tbody tr th:only-of-type {\n",
       "        vertical-align: middle;\n",
       "    }\n",
       "\n",
       "    .dataframe tbody tr th {\n",
       "        vertical-align: top;\n",
       "    }\n",
       "\n",
       "    .dataframe thead th {\n",
       "        text-align: right;\n",
       "    }\n",
       "</style>\n",
       "<table border=\"1\" class=\"dataframe\">\n",
       "  <thead>\n",
       "    <tr style=\"text-align: right;\">\n",
       "      <th></th>\n",
       "      <th>Date</th>\n",
       "      <th>Close</th>\n",
       "      <th>Volume</th>\n",
       "      <th>Change</th>\n",
       "      <th>MACD</th>\n",
       "      <th>MACD_Signal</th>\n",
       "      <th>MACD_Oscilator</th>\n",
       "      <th>%K</th>\n",
       "      <th>%D</th>\n",
       "      <th>upper_b</th>\n",
       "      <th>...</th>\n",
       "      <th>bar_length</th>\n",
       "      <th>High-Close</th>\n",
       "      <th>High-Open</th>\n",
       "      <th>High-Low</th>\n",
       "      <th>Close-Open</th>\n",
       "      <th>Close-Low</th>\n",
       "      <th>Open-Low</th>\n",
       "      <th>KQ_Change</th>\n",
       "      <th>ND_Change</th>\n",
       "      <th>SP_Change</th>\n",
       "    </tr>\n",
       "  </thead>\n",
       "  <tbody>\n",
       "    <tr>\n",
       "      <th>0</th>\n",
       "      <td>2014-01-29</td>\n",
       "      <td>5024</td>\n",
       "      <td>17148</td>\n",
       "      <td>-0.146503</td>\n",
       "      <td>0.139969</td>\n",
       "      <td>0.155127</td>\n",
       "      <td>0.385789</td>\n",
       "      <td>0.496400</td>\n",
       "      <td>0.331797</td>\n",
       "      <td>0.114979</td>\n",
       "      <td>...</td>\n",
       "      <td>0.012498</td>\n",
       "      <td>0.014509</td>\n",
       "      <td>0.021143</td>\n",
       "      <td>0.022798</td>\n",
       "      <td>0.514824</td>\n",
       "      <td>0.027767</td>\n",
       "      <td>0.010900</td>\n",
       "      <td>0.615495</td>\n",
       "      <td>0.515921</td>\n",
       "      <td>0.589419</td>\n",
       "    </tr>\n",
       "    <tr>\n",
       "      <th>1</th>\n",
       "      <td>2014-02-03</td>\n",
       "      <td>5009</td>\n",
       "      <td>3689</td>\n",
       "      <td>-0.002986</td>\n",
       "      <td>0.139527</td>\n",
       "      <td>0.154822</td>\n",
       "      <td>0.385317</td>\n",
       "      <td>0.668211</td>\n",
       "      <td>0.554819</td>\n",
       "      <td>0.114979</td>\n",
       "      <td>...</td>\n",
       "      <td>0.016799</td>\n",
       "      <td>0.014279</td>\n",
       "      <td>0.024093</td>\n",
       "      <td>0.015144</td>\n",
       "      <td>0.517011</td>\n",
       "      <td>0.015995</td>\n",
       "      <td>0.000135</td>\n",
       "      <td>0.545194</td>\n",
       "      <td>0.515921</td>\n",
       "      <td>0.589419</td>\n",
       "    </tr>\n",
       "    <tr>\n",
       "      <th>2</th>\n",
       "      <td>2014-02-04</td>\n",
       "      <td>5009</td>\n",
       "      <td>3744</td>\n",
       "      <td>-0.146503</td>\n",
       "      <td>0.139157</td>\n",
       "      <td>0.154512</td>\n",
       "      <td>0.385058</td>\n",
       "      <td>0.860753</td>\n",
       "      <td>0.675957</td>\n",
       "      <td>0.115062</td>\n",
       "      <td>...</td>\n",
       "      <td>0.004166</td>\n",
       "      <td>0.000115</td>\n",
       "      <td>0.002655</td>\n",
       "      <td>0.015144</td>\n",
       "      <td>0.510589</td>\n",
       "      <td>0.031862</td>\n",
       "      <td>0.019368</td>\n",
       "      <td>0.503587</td>\n",
       "      <td>0.448085</td>\n",
       "      <td>0.530431</td>\n",
       "    </tr>\n",
       "    <tr>\n",
       "      <th>3</th>\n",
       "      <td>2014-02-05</td>\n",
       "      <td>5024</td>\n",
       "      <td>2925</td>\n",
       "      <td>0.002995</td>\n",
       "      <td>0.138940</td>\n",
       "      <td>0.154214</td>\n",
       "      <td>0.385203</td>\n",
       "      <td>1.000000</td>\n",
       "      <td>0.843392</td>\n",
       "      <td>0.114803</td>\n",
       "      <td>...</td>\n",
       "      <td>0.008198</td>\n",
       "      <td>0.010825</td>\n",
       "      <td>0.014849</td>\n",
       "      <td>0.012539</td>\n",
       "      <td>0.512638</td>\n",
       "      <td>0.015739</td>\n",
       "      <td>0.005315</td>\n",
       "      <td>0.541846</td>\n",
       "      <td>0.608214</td>\n",
       "      <td>0.454120</td>\n",
       "    </tr>\n",
       "    <tr>\n",
       "      <th>4</th>\n",
       "      <td>2014-02-06</td>\n",
       "      <td>5024</td>\n",
       "      <td>1871</td>\n",
       "      <td>-0.146503</td>\n",
       "      <td>0.138758</td>\n",
       "      <td>0.153929</td>\n",
       "      <td>0.385414</td>\n",
       "      <td>1.000000</td>\n",
       "      <td>0.953704</td>\n",
       "      <td>0.114489</td>\n",
       "      <td>...</td>\n",
       "      <td>0.016530</td>\n",
       "      <td>0.003685</td>\n",
       "      <td>0.014849</td>\n",
       "      <td>0.007491</td>\n",
       "      <td>0.516874</td>\n",
       "      <td>0.015739</td>\n",
       "      <td>0.000135</td>\n",
       "      <td>0.600191</td>\n",
       "      <td>0.545455</td>\n",
       "      <td>0.596442</td>\n",
       "    </tr>\n",
       "  </tbody>\n",
       "</table>\n",
       "<p>5 rows × 26 columns</p>\n",
       "</div>"
      ],
      "text/plain": [
       "         Date  Close  Volume    Change      MACD  MACD_Signal  MACD_Oscilator  \\\n",
       "0  2014-01-29   5024   17148 -0.146503  0.139969     0.155127        0.385789   \n",
       "1  2014-02-03   5009    3689 -0.002986  0.139527     0.154822        0.385317   \n",
       "2  2014-02-04   5009    3744 -0.146503  0.139157     0.154512        0.385058   \n",
       "3  2014-02-05   5024    2925  0.002995  0.138940     0.154214        0.385203   \n",
       "4  2014-02-06   5024    1871 -0.146503  0.138758     0.153929        0.385414   \n",
       "\n",
       "         %K        %D   upper_b  ...  bar_length  High-Close  High-Open  \\\n",
       "0  0.496400  0.331797  0.114979  ...    0.012498    0.014509   0.021143   \n",
       "1  0.668211  0.554819  0.114979  ...    0.016799    0.014279   0.024093   \n",
       "2  0.860753  0.675957  0.115062  ...    0.004166    0.000115   0.002655   \n",
       "3  1.000000  0.843392  0.114803  ...    0.008198    0.010825   0.014849   \n",
       "4  1.000000  0.953704  0.114489  ...    0.016530    0.003685   0.014849   \n",
       "\n",
       "   High-Low  Close-Open  Close-Low  Open-Low  KQ_Change  ND_Change  SP_Change  \n",
       "0  0.022798    0.514824   0.027767  0.010900   0.615495   0.515921   0.589419  \n",
       "1  0.015144    0.517011   0.015995  0.000135   0.545194   0.515921   0.589419  \n",
       "2  0.015144    0.510589   0.031862  0.019368   0.503587   0.448085   0.530431  \n",
       "3  0.012539    0.512638   0.015739  0.005315   0.541846   0.608214   0.454120  \n",
       "4  0.007491    0.516874   0.015739  0.000135   0.600191   0.545455   0.596442  \n",
       "\n",
       "[5 rows x 26 columns]"
      ]
     },
     "execution_count": 98,
     "metadata": {},
     "output_type": "execute_result"
    }
   ],
   "source": [
    "df2 = pd.read_csv('./data/적자기업모델데이터/중앙디앤엠_모델데이터_scaler.csv',index_col=0)\n",
    "df2.head()"
   ]
  },
  {
   "cell_type": "markdown",
   "id": "1057f9b3",
   "metadata": {},
   "source": [
    "## 10일 10%"
   ]
  },
  {
   "cell_type": "code",
   "execution_count": 99,
   "id": "c00055aa",
   "metadata": {
    "ExecuteTime": {
     "end_time": "2022-05-23T11:32:48.260729Z",
     "start_time": "2022-05-23T11:32:47.878758Z"
    }
   },
   "outputs": [
    {
     "name": "stderr",
     "output_type": "stream",
     "text": [
      "C:\\Users\\bitcamp\\AppData\\Local\\Temp/ipykernel_7944/2812861201.py:27: SettingWithCopyWarning: \n",
      "A value is trying to be set on a copy of a slice from a DataFrame.\n",
      "Try using .loc[row_indexer,col_indexer] = value instead\n",
      "\n",
      "See the caveats in the documentation: https://pandas.pydata.org/pandas-docs/stable/user_guide/indexing.html#returning-a-view-versus-a-copy\n",
      "  df1['target'] = Y1\n"
     ]
    }
   ],
   "source": [
    "df2 = add_target(df2,target_size=10,rapid_rate=0.1)"
   ]
  },
  {
   "cell_type": "code",
   "execution_count": 100,
   "id": "affe9741",
   "metadata": {
    "ExecuteTime": {
     "end_time": "2022-05-23T11:32:58.792685Z",
     "start_time": "2022-05-23T11:32:58.774733Z"
    }
   },
   "outputs": [],
   "source": [
    "x = df2.iloc[:,4:-1]\n",
    "y = df2['target']\n",
    "\n",
    "train_test_split = 1500\n",
    "\n",
    "x_train = x.iloc[:1500,4:]\n",
    "y_train = y.iloc[:1500]\n",
    "\n",
    "x_test = x.iloc[1500:,4:]\n",
    "y_test = y.iloc[1500:]"
   ]
  },
  {
   "cell_type": "code",
   "execution_count": 103,
   "id": "56f7ef3d",
   "metadata": {
    "ExecuteTime": {
     "end_time": "2022-05-23T11:34:08.581603Z",
     "start_time": "2022-05-23T11:34:08.566648Z"
    }
   },
   "outputs": [
    {
     "data": {
      "text/plain": [
       "Counter({0: 258, 1: 179})"
      ]
     },
     "execution_count": 103,
     "metadata": {},
     "output_type": "execute_result"
    }
   ],
   "source": [
    "from collections import Counter\n",
    "Counter(y_test)"
   ]
  },
  {
   "cell_type": "code",
   "execution_count": 101,
   "id": "cfc30383",
   "metadata": {
    "ExecuteTime": {
     "end_time": "2022-05-23T11:33:27.450291Z",
     "start_time": "2022-05-23T11:33:26.789060Z"
    }
   },
   "outputs": [
    {
     "name": "stdout",
     "output_type": "stream",
     "text": [
      "train_score : 0.726\n",
      "test_score : 0.6247139588100686\n",
      "LogisticRegression\n",
      "              precision    recall  f1-score   support\n",
      "\n",
      "           0       0.61      0.98      0.76       258\n",
      "           1       0.80      0.11      0.20       179\n",
      "\n",
      "    accuracy                           0.62       437\n",
      "   macro avg       0.71      0.55      0.48       437\n",
      "weighted avg       0.69      0.62      0.53       437\n",
      "\n",
      "roc_auc_score : 0.5622103849984842\n",
      "--------------------------------------------------\n",
      "train_score : 0.8\n",
      "test_score : 0.6109839816933639\n",
      "KNeighborsClassifier\n",
      "              precision    recall  f1-score   support\n",
      "\n",
      "           0       0.61      0.96      0.74       258\n",
      "           1       0.66      0.11      0.18       179\n",
      "\n",
      "    accuracy                           0.61       437\n",
      "   macro avg       0.63      0.53      0.46       437\n",
      "weighted avg       0.63      0.61      0.51       437\n",
      "\n",
      "roc_auc_score : 0.5630981767788317\n",
      "--------------------------------------------------\n",
      "train_score : 1.0\n",
      "test_score : 0.6407322654462243\n",
      "RandomForestClassifier\n",
      "              precision    recall  f1-score   support\n",
      "\n",
      "           0       0.64      0.91      0.75       258\n",
      "           1       0.67      0.25      0.36       179\n",
      "\n",
      "    accuracy                           0.64       437\n",
      "   macro avg       0.65      0.58      0.55       437\n",
      "weighted avg       0.65      0.64      0.59       437\n",
      "\n",
      "roc_auc_score : 0.55995842536053\n",
      "--------------------------------------------------\n",
      "[20:33:27] WARNING: C:/Users/Administrator/workspace/xgboost-win64_release_1.5.1/src/learner.cc:1115: Starting in XGBoost 1.3.0, the default evaluation metric used with the objective 'binary:logistic' was changed from 'error' to 'logloss'. Explicitly set eval_metric if you'd like to restore the old behavior.\n",
      "train_score : 1.0\n",
      "test_score : 0.6361556064073226\n",
      "XGBClassifier\n",
      "              precision    recall  f1-score   support\n",
      "\n",
      "           0       0.62      0.97      0.76       258\n",
      "           1       0.76      0.16      0.27       179\n",
      "\n",
      "    accuracy                           0.64       437\n",
      "   macro avg       0.69      0.56      0.51       437\n",
      "weighted avg       0.68      0.64      0.56       437\n",
      "\n",
      "roc_auc_score : 0.5419427482568966\n",
      "--------------------------------------------------\n",
      "train_score : 1.0\n",
      "test_score : 0.6430205949656751\n",
      "LGBMClassifier\n",
      "              precision    recall  f1-score   support\n",
      "\n",
      "           0       0.63      0.97      0.76       258\n",
      "           1       0.81      0.17      0.28       179\n",
      "\n",
      "    accuracy                           0.64       437\n",
      "   macro avg       0.72      0.57      0.52       437\n",
      "weighted avg       0.70      0.64      0.56       437\n",
      "\n",
      "roc_auc_score : 0.5446494305140531\n",
      "--------------------------------------------------\n"
     ]
    },
    {
     "name": "stderr",
     "output_type": "stream",
     "text": [
      "C:\\Users\\bitcamp\\anaconda3\\lib\\site-packages\\xgboost\\sklearn.py:1224: UserWarning: The use of label encoder in XGBClassifier is deprecated and will be removed in a future release. To remove this warning, do the following: 1) Pass option use_label_encoder=False when constructing XGBClassifier object; and 2) Encode your labels (y) as integers starting with 0, i.e. 0, 1, 2, ..., [num_class - 1].\n",
      "  warnings.warn(label_encoder_deprecation_msg, UserWarning)\n"
     ]
    }
   ],
   "source": [
    "models = [log,knn,rfc,xgb,lgbm]\n",
    "\n",
    "for m in models:\n",
    "    m.fit(x_train,y_train)\n",
    "    \n",
    "    preds = m.predict(x_test)\n",
    "    \n",
    "    train_score = m.score(x_train,y_train)\n",
    "    test_score = m.score(x_test,y_test)\n",
    "    print('train_score :',train_score) \n",
    "    print('test_score :',test_score)\n",
    "    \n",
    "    \n",
    "    proba = m.predict_proba(x_test)[:,1]\n",
    "    \n",
    "    print(m.__class__.__name__)\n",
    "    print(classification_report(y_test,preds))\n",
    "    print('roc_auc_score :', roc_auc_score(y_test, proba))\n",
    "    print('-'*50)\n",
    "    "
   ]
  },
  {
   "cell_type": "code",
   "execution_count": null,
   "id": "c8b1e283",
   "metadata": {},
   "outputs": [],
   "source": []
  },
  {
   "cell_type": "markdown",
   "id": "20caaf86",
   "metadata": {},
   "source": [
    "## 10일 15%"
   ]
  },
  {
   "cell_type": "code",
   "execution_count": 107,
   "id": "c6dc15d2",
   "metadata": {
    "ExecuteTime": {
     "end_time": "2022-05-23T11:36:03.427337Z",
     "start_time": "2022-05-23T11:36:03.061330Z"
    }
   },
   "outputs": [
    {
     "name": "stderr",
     "output_type": "stream",
     "text": [
      "C:\\Users\\bitcamp\\AppData\\Local\\Temp/ipykernel_7944/2812861201.py:27: SettingWithCopyWarning: \n",
      "A value is trying to be set on a copy of a slice from a DataFrame.\n",
      "Try using .loc[row_indexer,col_indexer] = value instead\n",
      "\n",
      "See the caveats in the documentation: https://pandas.pydata.org/pandas-docs/stable/user_guide/indexing.html#returning-a-view-versus-a-copy\n",
      "  df1['target'] = Y1\n"
     ]
    }
   ],
   "source": [
    "df22 = add_target(df2,target_size=10,rapid_rate=0.15)"
   ]
  },
  {
   "cell_type": "code",
   "execution_count": 108,
   "id": "cf02ca39",
   "metadata": {
    "ExecuteTime": {
     "end_time": "2022-05-23T11:36:03.631590Z",
     "start_time": "2022-05-23T11:36:03.617841Z"
    }
   },
   "outputs": [],
   "source": [
    "x = df22.iloc[:,4:-1]\n",
    "y = df22['target']\n",
    "\n",
    "train_test_split = 1500\n",
    "\n",
    "x_train = x.iloc[:1500,4:]\n",
    "y_train = y.iloc[:1500]\n",
    "\n",
    "x_test = x.iloc[1500:,4:]\n",
    "y_test = y.iloc[1500:]"
   ]
  },
  {
   "cell_type": "code",
   "execution_count": 109,
   "id": "6795cef6",
   "metadata": {
    "ExecuteTime": {
     "end_time": "2022-05-23T11:36:05.056670Z",
     "start_time": "2022-05-23T11:36:05.045699Z"
    }
   },
   "outputs": [
    {
     "data": {
      "text/plain": [
       "Counter({0: 336, 1: 91})"
      ]
     },
     "execution_count": 109,
     "metadata": {},
     "output_type": "execute_result"
    }
   ],
   "source": [
    "from collections import Counter\n",
    "Counter(y_test)"
   ]
  },
  {
   "cell_type": "code",
   "execution_count": 110,
   "id": "23fd50fd",
   "metadata": {
    "ExecuteTime": {
     "end_time": "2022-05-23T11:36:23.520721Z",
     "start_time": "2022-05-23T11:36:22.902377Z"
    }
   },
   "outputs": [
    {
     "name": "stdout",
     "output_type": "stream",
     "text": [
      "train_score : 0.866\n",
      "test_score : 0.7915690866510539\n",
      "LogisticRegression\n",
      "              precision    recall  f1-score   support\n",
      "\n",
      "           0       0.79      0.99      0.88       336\n",
      "           1       0.67      0.04      0.08        91\n",
      "\n",
      "    accuracy                           0.79       427\n",
      "   macro avg       0.73      0.52      0.48       427\n",
      "weighted avg       0.77      0.79      0.71       427\n",
      "\n",
      "roc_auc_score : 0.5104003139717426\n",
      "--------------------------------------------------\n",
      "train_score : 0.896\n",
      "test_score : 0.7798594847775175\n",
      "KNeighborsClassifier\n",
      "              precision    recall  f1-score   support\n",
      "\n",
      "           0       0.79      0.99      0.88       336\n",
      "           1       0.00      0.00      0.00        91\n",
      "\n",
      "    accuracy                           0.78       427\n",
      "   macro avg       0.39      0.50      0.44       427\n",
      "weighted avg       0.62      0.78      0.69       427\n",
      "\n",
      "roc_auc_score : 0.5687957875457875\n",
      "--------------------------------------------------\n",
      "train_score : 1.0\n",
      "test_score : 0.8079625292740047\n",
      "RandomForestClassifier\n",
      "              precision    recall  f1-score   support\n",
      "\n",
      "           0       0.81      1.00      0.89       336\n",
      "           1       0.91      0.11      0.20        91\n",
      "\n",
      "    accuracy                           0.81       427\n",
      "   macro avg       0.86      0.55      0.54       427\n",
      "weighted avg       0.83      0.81      0.74       427\n",
      "\n",
      "roc_auc_score : 0.5924744897959182\n",
      "--------------------------------------------------\n",
      "[20:36:23] WARNING: C:/Users/Administrator/workspace/xgboost-win64_release_1.5.1/src/learner.cc:1115: Starting in XGBoost 1.3.0, the default evaluation metric used with the objective 'binary:logistic' was changed from 'error' to 'logloss'. Explicitly set eval_metric if you'd like to restore the old behavior.\n",
      "train_score : 1.0\n",
      "test_score : 0.8079625292740047\n",
      "XGBClassifier\n",
      "              precision    recall  f1-score   support\n",
      "\n",
      "           0       0.81      0.98      0.89       336\n",
      "           1       0.71      0.16      0.27        91\n",
      "\n",
      "    accuracy                           0.81       427\n",
      "   macro avg       0.76      0.57      0.58       427\n",
      "weighted avg       0.79      0.81      0.76       427\n",
      "\n",
      "roc_auc_score : 0.5970695970695971\n",
      "--------------------------------------------------\n",
      "train_score : 1.0\n",
      "test_score : 0.8126463700234192\n",
      "LGBMClassifier\n",
      "              precision    recall  f1-score   support\n",
      "\n",
      "           0       0.81      0.99      0.89       336\n",
      "           1       0.82      0.15      0.26        91\n",
      "\n",
      "    accuracy                           0.81       427\n",
      "   macro avg       0.82      0.57      0.58       427\n",
      "weighted avg       0.81      0.81      0.76       427\n",
      "\n",
      "roc_auc_score : 0.5734563055991627\n",
      "--------------------------------------------------\n"
     ]
    },
    {
     "name": "stderr",
     "output_type": "stream",
     "text": [
      "C:\\Users\\bitcamp\\anaconda3\\lib\\site-packages\\xgboost\\sklearn.py:1224: UserWarning: The use of label encoder in XGBClassifier is deprecated and will be removed in a future release. To remove this warning, do the following: 1) Pass option use_label_encoder=False when constructing XGBClassifier object; and 2) Encode your labels (y) as integers starting with 0, i.e. 0, 1, 2, ..., [num_class - 1].\n",
      "  warnings.warn(label_encoder_deprecation_msg, UserWarning)\n"
     ]
    }
   ],
   "source": [
    "models = [log,knn,rfc,xgb,lgbm]\n",
    "\n",
    "for m in models:\n",
    "    m.fit(x_train,y_train)\n",
    "    \n",
    "    preds = m.predict(x_test)\n",
    "    \n",
    "    train_score = m.score(x_train,y_train)\n",
    "    test_score = m.score(x_test,y_test)\n",
    "    print('train_score :',train_score) \n",
    "    print('test_score :',test_score)\n",
    "    \n",
    "    \n",
    "    proba = m.predict_proba(x_test)[:,1]\n",
    "    \n",
    "    print(m.__class__.__name__)\n",
    "    print(classification_report(y_test,preds))\n",
    "    print('roc_auc_score :', roc_auc_score(y_test, proba))\n",
    "    print('-'*50)\n",
    "    "
   ]
  },
  {
   "cell_type": "code",
   "execution_count": null,
   "id": "36206dd1",
   "metadata": {},
   "outputs": [],
   "source": []
  },
  {
   "cell_type": "code",
   "execution_count": null,
   "id": "6211b9d9",
   "metadata": {},
   "outputs": [],
   "source": []
  },
  {
   "cell_type": "code",
   "execution_count": null,
   "id": "036ebcbc",
   "metadata": {},
   "outputs": [],
   "source": []
  },
  {
   "cell_type": "code",
   "execution_count": null,
   "id": "438bf566",
   "metadata": {},
   "outputs": [],
   "source": []
  },
  {
   "cell_type": "code",
   "execution_count": null,
   "id": "d991a1ef",
   "metadata": {},
   "outputs": [],
   "source": []
  },
  {
   "cell_type": "code",
   "execution_count": null,
   "id": "10b7ddcb",
   "metadata": {},
   "outputs": [],
   "source": []
  },
  {
   "cell_type": "code",
   "execution_count": null,
   "id": "f91d5b1d",
   "metadata": {},
   "outputs": [],
   "source": []
  },
  {
   "cell_type": "code",
   "execution_count": null,
   "id": "7063871d",
   "metadata": {},
   "outputs": [],
   "source": []
  },
  {
   "cell_type": "code",
   "execution_count": null,
   "id": "dc3f5f92",
   "metadata": {},
   "outputs": [],
   "source": []
  },
  {
   "cell_type": "markdown",
   "id": "6e77aca1",
   "metadata": {},
   "source": [
    "# 노블엠앤비"
   ]
  },
  {
   "cell_type": "code",
   "execution_count": 114,
   "id": "6962ebf9",
   "metadata": {
    "ExecuteTime": {
     "end_time": "2022-05-23T11:54:55.401854Z",
     "start_time": "2022-05-23T11:54:55.363955Z"
    }
   },
   "outputs": [
    {
     "data": {
      "text/html": [
       "<div>\n",
       "<style scoped>\n",
       "    .dataframe tbody tr th:only-of-type {\n",
       "        vertical-align: middle;\n",
       "    }\n",
       "\n",
       "    .dataframe tbody tr th {\n",
       "        vertical-align: top;\n",
       "    }\n",
       "\n",
       "    .dataframe thead th {\n",
       "        text-align: right;\n",
       "    }\n",
       "</style>\n",
       "<table border=\"1\" class=\"dataframe\">\n",
       "  <thead>\n",
       "    <tr style=\"text-align: right;\">\n",
       "      <th></th>\n",
       "      <th>Date</th>\n",
       "      <th>Close</th>\n",
       "      <th>Volume</th>\n",
       "      <th>Change</th>\n",
       "      <th>MACD</th>\n",
       "      <th>MACD_Signal</th>\n",
       "      <th>MACD_Oscilator</th>\n",
       "      <th>%K</th>\n",
       "      <th>%D</th>\n",
       "      <th>upper_b</th>\n",
       "      <th>...</th>\n",
       "      <th>bar_length</th>\n",
       "      <th>High-Close</th>\n",
       "      <th>High-Open</th>\n",
       "      <th>High-Low</th>\n",
       "      <th>Close-Open</th>\n",
       "      <th>Close-Low</th>\n",
       "      <th>Open-Low</th>\n",
       "      <th>KQ_Change</th>\n",
       "      <th>ND_Change</th>\n",
       "      <th>SP_Change</th>\n",
       "    </tr>\n",
       "  </thead>\n",
       "  <tbody>\n",
       "    <tr>\n",
       "      <th>0</th>\n",
       "      <td>2014-01-29</td>\n",
       "      <td>115459</td>\n",
       "      <td>91319</td>\n",
       "      <td>0.026841</td>\n",
       "      <td>0.378839</td>\n",
       "      <td>0.397158</td>\n",
       "      <td>0.556185</td>\n",
       "      <td>1.000000</td>\n",
       "      <td>0.486918</td>\n",
       "      <td>0.341007</td>\n",
       "      <td>...</td>\n",
       "      <td>0.020143</td>\n",
       "      <td>0.007919</td>\n",
       "      <td>0.035877</td>\n",
       "      <td>0.037237</td>\n",
       "      <td>0.586128</td>\n",
       "      <td>0.054305</td>\n",
       "      <td>0.019511</td>\n",
       "      <td>0.615495</td>\n",
       "      <td>0.515921</td>\n",
       "      <td>0.589419</td>\n",
       "    </tr>\n",
       "    <tr>\n",
       "      <th>1</th>\n",
       "      <td>2014-02-03</td>\n",
       "      <td>115086</td>\n",
       "      <td>53798</td>\n",
       "      <td>-0.003231</td>\n",
       "      <td>0.380362</td>\n",
       "      <td>0.398433</td>\n",
       "      <td>0.557153</td>\n",
       "      <td>0.929143</td>\n",
       "      <td>0.796695</td>\n",
       "      <td>0.342532</td>\n",
       "      <td>...</td>\n",
       "      <td>0.020209</td>\n",
       "      <td>0.003985</td>\n",
       "      <td>0.029878</td>\n",
       "      <td>0.029571</td>\n",
       "      <td>0.586166</td>\n",
       "      <td>0.047556</td>\n",
       "      <td>0.014572</td>\n",
       "      <td>0.545194</td>\n",
       "      <td>0.515921</td>\n",
       "      <td>0.589419</td>\n",
       "    </tr>\n",
       "    <tr>\n",
       "      <th>2</th>\n",
       "      <td>2014-02-04</td>\n",
       "      <td>112068</td>\n",
       "      <td>50564</td>\n",
       "      <td>-0.026224</td>\n",
       "      <td>0.379982</td>\n",
       "      <td>0.399531</td>\n",
       "      <td>0.553273</td>\n",
       "      <td>0.355827</td>\n",
       "      <td>0.762284</td>\n",
       "      <td>0.342493</td>\n",
       "      <td>...</td>\n",
       "      <td>0.004766</td>\n",
       "      <td>0.023245</td>\n",
       "      <td>0.029719</td>\n",
       "      <td>0.037065</td>\n",
       "      <td>0.571809</td>\n",
       "      <td>0.027291</td>\n",
       "      <td>0.024308</td>\n",
       "      <td>0.503587</td>\n",
       "      <td>0.448085</td>\n",
       "      <td>0.530431</td>\n",
       "    </tr>\n",
       "    <tr>\n",
       "      <th>3</th>\n",
       "      <td>2014-02-05</td>\n",
       "      <td>110554</td>\n",
       "      <td>66695</td>\n",
       "      <td>-0.013510</td>\n",
       "      <td>0.378836</td>\n",
       "      <td>0.400402</td>\n",
       "      <td>0.547843</td>\n",
       "      <td>0.001319</td>\n",
       "      <td>0.428950</td>\n",
       "      <td>0.342471</td>\n",
       "      <td>...</td>\n",
       "      <td>0.034764</td>\n",
       "      <td>0.027230</td>\n",
       "      <td>0.000020</td>\n",
       "      <td>0.044791</td>\n",
       "      <td>0.554574</td>\n",
       "      <td>0.034058</td>\n",
       "      <td>0.058455</td>\n",
       "      <td>0.541846</td>\n",
       "      <td>0.608214</td>\n",
       "      <td>0.454120</td>\n",
       "    </tr>\n",
       "    <tr>\n",
       "      <th>4</th>\n",
       "      <td>2014-02-06</td>\n",
       "      <td>110554</td>\n",
       "      <td>61102</td>\n",
       "      <td>-0.149371</td>\n",
       "      <td>0.377874</td>\n",
       "      <td>0.401092</td>\n",
       "      <td>0.543390</td>\n",
       "      <td>0.001319</td>\n",
       "      <td>0.119174</td>\n",
       "      <td>0.342201</td>\n",
       "      <td>...</td>\n",
       "      <td>0.000007</td>\n",
       "      <td>0.023461</td>\n",
       "      <td>0.035782</td>\n",
       "      <td>0.033313</td>\n",
       "      <td>0.574559</td>\n",
       "      <td>0.020256</td>\n",
       "      <td>0.014559</td>\n",
       "      <td>0.600191</td>\n",
       "      <td>0.545455</td>\n",
       "      <td>0.596442</td>\n",
       "    </tr>\n",
       "  </tbody>\n",
       "</table>\n",
       "<p>5 rows × 26 columns</p>\n",
       "</div>"
      ],
      "text/plain": [
       "         Date   Close  Volume    Change      MACD  MACD_Signal  \\\n",
       "0  2014-01-29  115459   91319  0.026841  0.378839     0.397158   \n",
       "1  2014-02-03  115086   53798 -0.003231  0.380362     0.398433   \n",
       "2  2014-02-04  112068   50564 -0.026224  0.379982     0.399531   \n",
       "3  2014-02-05  110554   66695 -0.013510  0.378836     0.400402   \n",
       "4  2014-02-06  110554   61102 -0.149371  0.377874     0.401092   \n",
       "\n",
       "   MACD_Oscilator        %K        %D   upper_b  ...  bar_length  High-Close  \\\n",
       "0        0.556185  1.000000  0.486918  0.341007  ...    0.020143    0.007919   \n",
       "1        0.557153  0.929143  0.796695  0.342532  ...    0.020209    0.003985   \n",
       "2        0.553273  0.355827  0.762284  0.342493  ...    0.004766    0.023245   \n",
       "3        0.547843  0.001319  0.428950  0.342471  ...    0.034764    0.027230   \n",
       "4        0.543390  0.001319  0.119174  0.342201  ...    0.000007    0.023461   \n",
       "\n",
       "   High-Open  High-Low  Close-Open  Close-Low  Open-Low  KQ_Change  ND_Change  \\\n",
       "0   0.035877  0.037237    0.586128   0.054305  0.019511   0.615495   0.515921   \n",
       "1   0.029878  0.029571    0.586166   0.047556  0.014572   0.545194   0.515921   \n",
       "2   0.029719  0.037065    0.571809   0.027291  0.024308   0.503587   0.448085   \n",
       "3   0.000020  0.044791    0.554574   0.034058  0.058455   0.541846   0.608214   \n",
       "4   0.035782  0.033313    0.574559   0.020256  0.014559   0.600191   0.545455   \n",
       "\n",
       "   SP_Change  \n",
       "0   0.589419  \n",
       "1   0.589419  \n",
       "2   0.530431  \n",
       "3   0.454120  \n",
       "4   0.596442  \n",
       "\n",
       "[5 rows x 26 columns]"
      ]
     },
     "execution_count": 114,
     "metadata": {},
     "output_type": "execute_result"
    }
   ],
   "source": [
    "df3 = pd.read_csv('./data/적자기업모델데이터/노블엠앤비_모델데이터_scaler.csv',index_col=0)\n",
    "df3.head()"
   ]
  },
  {
   "cell_type": "markdown",
   "id": "86d2d3c6",
   "metadata": {},
   "source": [
    "## 10일 10%"
   ]
  },
  {
   "cell_type": "code",
   "execution_count": 116,
   "id": "ede4f636",
   "metadata": {
    "ExecuteTime": {
     "end_time": "2022-05-23T11:55:28.323500Z",
     "start_time": "2022-05-23T11:55:27.957483Z"
    }
   },
   "outputs": [
    {
     "name": "stderr",
     "output_type": "stream",
     "text": [
      "C:\\Users\\bitcamp\\AppData\\Local\\Temp/ipykernel_7944/2812861201.py:27: SettingWithCopyWarning: \n",
      "A value is trying to be set on a copy of a slice from a DataFrame.\n",
      "Try using .loc[row_indexer,col_indexer] = value instead\n",
      "\n",
      "See the caveats in the documentation: https://pandas.pydata.org/pandas-docs/stable/user_guide/indexing.html#returning-a-view-versus-a-copy\n",
      "  df1['target'] = Y1\n"
     ]
    }
   ],
   "source": [
    "df33 = add_target(df3,target_size=10, rapid_rate=0.1)"
   ]
  },
  {
   "cell_type": "code",
   "execution_count": null,
   "id": "fc31e2b8",
   "metadata": {},
   "outputs": [],
   "source": []
  },
  {
   "cell_type": "code",
   "execution_count": null,
   "id": "3c01ee81",
   "metadata": {},
   "outputs": [],
   "source": []
  },
  {
   "cell_type": "code",
   "execution_count": null,
   "id": "48cd513e",
   "metadata": {},
   "outputs": [],
   "source": []
  },
  {
   "cell_type": "code",
   "execution_count": null,
   "id": "f61a600f",
   "metadata": {},
   "outputs": [],
   "source": []
  },
  {
   "cell_type": "code",
   "execution_count": null,
   "id": "9b9d6e7d",
   "metadata": {},
   "outputs": [],
   "source": []
  },
  {
   "cell_type": "markdown",
   "id": "e7aed65c",
   "metadata": {},
   "source": [
    "## 10일 15%"
   ]
  },
  {
   "cell_type": "code",
   "execution_count": null,
   "id": "175eeb02",
   "metadata": {},
   "outputs": [],
   "source": []
  },
  {
   "cell_type": "code",
   "execution_count": null,
   "id": "6dd06771",
   "metadata": {},
   "outputs": [],
   "source": []
  },
  {
   "cell_type": "code",
   "execution_count": null,
   "id": "23150810",
   "metadata": {},
   "outputs": [],
   "source": []
  },
  {
   "cell_type": "code",
   "execution_count": null,
   "id": "c2a551f2",
   "metadata": {},
   "outputs": [],
   "source": []
  },
  {
   "cell_type": "code",
   "execution_count": null,
   "id": "5c216009",
   "metadata": {},
   "outputs": [],
   "source": []
  },
  {
   "cell_type": "code",
   "execution_count": null,
   "id": "59e5e928",
   "metadata": {},
   "outputs": [],
   "source": []
  },
  {
   "cell_type": "code",
   "execution_count": null,
   "id": "1058c8a6",
   "metadata": {},
   "outputs": [],
   "source": []
  },
  {
   "cell_type": "markdown",
   "id": "9492408f",
   "metadata": {},
   "source": [
    "# KH전자"
   ]
  },
  {
   "cell_type": "markdown",
   "id": "caca08a9",
   "metadata": {},
   "source": [
    "## 10일 10%"
   ]
  },
  {
   "cell_type": "markdown",
   "id": "9ea12a3c",
   "metadata": {},
   "source": [
    "## 10일 15%"
   ]
  },
  {
   "cell_type": "code",
   "execution_count": null,
   "id": "011406ce",
   "metadata": {},
   "outputs": [],
   "source": []
  },
  {
   "cell_type": "code",
   "execution_count": null,
   "id": "a8410117",
   "metadata": {},
   "outputs": [],
   "source": []
  },
  {
   "cell_type": "code",
   "execution_count": null,
   "id": "41d5360b",
   "metadata": {},
   "outputs": [],
   "source": []
  },
  {
   "cell_type": "code",
   "execution_count": null,
   "id": "6ddcff09",
   "metadata": {},
   "outputs": [],
   "source": []
  },
  {
   "cell_type": "code",
   "execution_count": null,
   "id": "5e579aca",
   "metadata": {},
   "outputs": [],
   "source": []
  },
  {
   "cell_type": "code",
   "execution_count": null,
   "id": "7950d5bf",
   "metadata": {},
   "outputs": [],
   "source": []
  },
  {
   "cell_type": "code",
   "execution_count": null,
   "id": "4c0ca377",
   "metadata": {},
   "outputs": [],
   "source": []
  },
  {
   "cell_type": "code",
   "execution_count": null,
   "id": "377ffe12",
   "metadata": {},
   "outputs": [],
   "source": []
  },
  {
   "cell_type": "code",
   "execution_count": null,
   "id": "922f0645",
   "metadata": {},
   "outputs": [],
   "source": []
  },
  {
   "cell_type": "code",
   "execution_count": null,
   "id": "2d80a787",
   "metadata": {},
   "outputs": [],
   "source": []
  },
  {
   "cell_type": "code",
   "execution_count": null,
   "id": "5bf92b00",
   "metadata": {},
   "outputs": [],
   "source": []
  },
  {
   "cell_type": "code",
   "execution_count": null,
   "id": "4513e809",
   "metadata": {},
   "outputs": [],
   "source": []
  }
 ],
 "metadata": {
  "kernelspec": {
   "display_name": "Python 3 (ipykernel)",
   "language": "python",
   "name": "python3"
  },
  "language_info": {
   "codemirror_mode": {
    "name": "ipython",
    "version": 3
   },
   "file_extension": ".py",
   "mimetype": "text/x-python",
   "name": "python",
   "nbconvert_exporter": "python",
   "pygments_lexer": "ipython3",
   "version": "3.9.7"
  },
  "toc": {
   "base_numbering": 1,
   "nav_menu": {},
   "number_sections": true,
   "sideBar": true,
   "skip_h1_title": false,
   "title_cell": "Table of Contents",
   "title_sidebar": "Contents",
   "toc_cell": false,
   "toc_position": {
    "height": "calc(100% - 180px)",
    "left": "10px",
    "top": "150px",
    "width": "426.667px"
   },
   "toc_section_display": true,
   "toc_window_display": true
  },
  "varInspector": {
   "cols": {
    "lenName": 16,
    "lenType": 16,
    "lenVar": 40
   },
   "kernels_config": {
    "python": {
     "delete_cmd_postfix": "",
     "delete_cmd_prefix": "del ",
     "library": "var_list.py",
     "varRefreshCmd": "print(var_dic_list())"
    },
    "r": {
     "delete_cmd_postfix": ") ",
     "delete_cmd_prefix": "rm(",
     "library": "var_list.r",
     "varRefreshCmd": "cat(var_dic_list()) "
    }
   },
   "types_to_exclude": [
    "module",
    "function",
    "builtin_function_or_method",
    "instance",
    "_Feature"
   ],
   "window_display": false
  }
 },
 "nbformat": 4,
 "nbformat_minor": 5
}
