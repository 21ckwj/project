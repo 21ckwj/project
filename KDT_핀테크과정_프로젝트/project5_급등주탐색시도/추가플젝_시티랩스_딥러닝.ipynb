{
 "cells": [
  {
   "cell_type": "code",
   "execution_count": 2,
   "id": "b1edab55",
   "metadata": {
    "ExecuteTime": {
     "end_time": "2022-05-20T07:06:06.504929Z",
     "start_time": "2022-05-20T07:06:06.486579Z"
    }
   },
   "outputs": [],
   "source": [
    "import pandas as pd\n",
    "import numpy as np\n",
    "import matplotlib.pyplot as plt\n",
    "import seaborn as sns\n",
    "\n",
    "import os\n",
    "import re\n",
    "import time\n",
    "import FinanceDataReader as fdr"
   ]
  },
  {
   "cell_type": "code",
   "execution_count": 23,
   "id": "7a2ea189",
   "metadata": {
    "ExecuteTime": {
     "end_time": "2022-05-20T07:49:47.824789Z",
     "start_time": "2022-05-20T07:49:44.993234Z"
    }
   },
   "outputs": [],
   "source": [
    "import tensorflow as tf\n",
    "import keras\n",
    "from tensorflow.keras.models import Sequential\n",
    "from tensorflow.keras.layers import Dense, LSTM, Conv1D"
   ]
  },
  {
   "cell_type": "code",
   "execution_count": 4,
   "id": "43be0654",
   "metadata": {
    "ExecuteTime": {
     "end_time": "2022-05-20T07:10:31.026139Z",
     "start_time": "2022-05-20T07:10:30.989036Z"
    }
   },
   "outputs": [
    {
     "data": {
      "text/html": [
       "<div>\n",
       "<style scoped>\n",
       "    .dataframe tbody tr th:only-of-type {\n",
       "        vertical-align: middle;\n",
       "    }\n",
       "\n",
       "    .dataframe tbody tr th {\n",
       "        vertical-align: top;\n",
       "    }\n",
       "\n",
       "    .dataframe thead th {\n",
       "        text-align: right;\n",
       "    }\n",
       "</style>\n",
       "<table border=\"1\" class=\"dataframe\">\n",
       "  <thead>\n",
       "    <tr style=\"text-align: right;\">\n",
       "      <th></th>\n",
       "      <th>Date</th>\n",
       "      <th>Close</th>\n",
       "      <th>Volume</th>\n",
       "      <th>Change</th>\n",
       "      <th>MACD</th>\n",
       "      <th>MACD_Signal</th>\n",
       "      <th>MACD_Oscilator</th>\n",
       "      <th>%K</th>\n",
       "      <th>%D</th>\n",
       "      <th>upper_b</th>\n",
       "      <th>...</th>\n",
       "      <th>bar_length</th>\n",
       "      <th>High-Close</th>\n",
       "      <th>High-Open</th>\n",
       "      <th>High-Low</th>\n",
       "      <th>Close-Open</th>\n",
       "      <th>Close-Low</th>\n",
       "      <th>Open-Low</th>\n",
       "      <th>KQ_Change</th>\n",
       "      <th>ND_Change</th>\n",
       "      <th>SP_Change</th>\n",
       "    </tr>\n",
       "  </thead>\n",
       "  <tbody>\n",
       "    <tr>\n",
       "      <th>0</th>\n",
       "      <td>2014-01-29</td>\n",
       "      <td>7004</td>\n",
       "      <td>376760</td>\n",
       "      <td>0.001144</td>\n",
       "      <td>6987.929331</td>\n",
       "      <td>6982.637707</td>\n",
       "      <td>5.291624</td>\n",
       "      <td>24.242424</td>\n",
       "      <td>15.584416</td>\n",
       "      <td>7469.612922</td>\n",
       "      <td>...</td>\n",
       "      <td>59.0</td>\n",
       "      <td>163.0</td>\n",
       "      <td>104.0</td>\n",
       "      <td>164</td>\n",
       "      <td>-59.0</td>\n",
       "      <td>1.0</td>\n",
       "      <td>60.0</td>\n",
       "      <td>0.0116</td>\n",
       "      <td>-0.0114</td>\n",
       "      <td>0.0061</td>\n",
       "    </tr>\n",
       "    <tr>\n",
       "      <th>1</th>\n",
       "      <td>2014-02-03</td>\n",
       "      <td>6966</td>\n",
       "      <td>282414</td>\n",
       "      <td>-0.005425</td>\n",
       "      <td>6984.451415</td>\n",
       "      <td>6982.805361</td>\n",
       "      <td>1.646054</td>\n",
       "      <td>24.832215</td>\n",
       "      <td>23.861821</td>\n",
       "      <td>7452.879467</td>\n",
       "      <td>...</td>\n",
       "      <td>45.0</td>\n",
       "      <td>179.0</td>\n",
       "      <td>224.0</td>\n",
       "      <td>246</td>\n",
       "      <td>45.0</td>\n",
       "      <td>67.0</td>\n",
       "      <td>22.0</td>\n",
       "      <td>-0.0031</td>\n",
       "      <td>-0.0114</td>\n",
       "      <td>0.0061</td>\n",
       "    </tr>\n",
       "    <tr>\n",
       "      <th>2</th>\n",
       "      <td>2014-02-04</td>\n",
       "      <td>6788</td>\n",
       "      <td>489413</td>\n",
       "      <td>-0.025553</td>\n",
       "      <td>6953.442205</td>\n",
       "      <td>6980.140055</td>\n",
       "      <td>-26.697850</td>\n",
       "      <td>0.490196</td>\n",
       "      <td>16.358213</td>\n",
       "      <td>7430.813515</td>\n",
       "      <td>...</td>\n",
       "      <td>16.0</td>\n",
       "      <td>74.0</td>\n",
       "      <td>90.0</td>\n",
       "      <td>120</td>\n",
       "      <td>16.0</td>\n",
       "      <td>46.0</td>\n",
       "      <td>30.0</td>\n",
       "      <td>-0.0118</td>\n",
       "      <td>-0.0261</td>\n",
       "      <td>-0.0065</td>\n",
       "    </tr>\n",
       "    <tr>\n",
       "      <th>3</th>\n",
       "      <td>2014-02-05</td>\n",
       "      <td>6795</td>\n",
       "      <td>288790</td>\n",
       "      <td>0.001031</td>\n",
       "      <td>6928.532277</td>\n",
       "      <td>6975.532523</td>\n",
       "      <td>-47.000247</td>\n",
       "      <td>3.240741</td>\n",
       "      <td>9.357652</td>\n",
       "      <td>7407.573488</td>\n",
       "      <td>...</td>\n",
       "      <td>52.0</td>\n",
       "      <td>134.0</td>\n",
       "      <td>82.0</td>\n",
       "      <td>157</td>\n",
       "      <td>-52.0</td>\n",
       "      <td>23.0</td>\n",
       "      <td>75.0</td>\n",
       "      <td>-0.0038</td>\n",
       "      <td>0.0086</td>\n",
       "      <td>-0.0228</td>\n",
       "    </tr>\n",
       "    <tr>\n",
       "      <th>4</th>\n",
       "      <td>2014-02-06</td>\n",
       "      <td>6869</td>\n",
       "      <td>417029</td>\n",
       "      <td>0.010890</td>\n",
       "      <td>6919.204196</td>\n",
       "      <td>6970.578866</td>\n",
       "      <td>-51.374670</td>\n",
       "      <td>37.500000</td>\n",
       "      <td>13.580247</td>\n",
       "      <td>7379.493057</td>\n",
       "      <td>...</td>\n",
       "      <td>67.0</td>\n",
       "      <td>67.0</td>\n",
       "      <td>134.0</td>\n",
       "      <td>142</td>\n",
       "      <td>67.0</td>\n",
       "      <td>75.0</td>\n",
       "      <td>8.0</td>\n",
       "      <td>0.0084</td>\n",
       "      <td>-0.0050</td>\n",
       "      <td>0.0076</td>\n",
       "    </tr>\n",
       "  </tbody>\n",
       "</table>\n",
       "<p>5 rows × 26 columns</p>\n",
       "</div>"
      ],
      "text/plain": [
       "         Date  Close  Volume    Change         MACD  MACD_Signal  \\\n",
       "0  2014-01-29   7004  376760  0.001144  6987.929331  6982.637707   \n",
       "1  2014-02-03   6966  282414 -0.005425  6984.451415  6982.805361   \n",
       "2  2014-02-04   6788  489413 -0.025553  6953.442205  6980.140055   \n",
       "3  2014-02-05   6795  288790  0.001031  6928.532277  6975.532523   \n",
       "4  2014-02-06   6869  417029  0.010890  6919.204196  6970.578866   \n",
       "\n",
       "   MACD_Oscilator         %K         %D      upper_b  ...  bar_length  \\\n",
       "0        5.291624  24.242424  15.584416  7469.612922  ...        59.0   \n",
       "1        1.646054  24.832215  23.861821  7452.879467  ...        45.0   \n",
       "2      -26.697850   0.490196  16.358213  7430.813515  ...        16.0   \n",
       "3      -47.000247   3.240741   9.357652  7407.573488  ...        52.0   \n",
       "4      -51.374670  37.500000  13.580247  7379.493057  ...        67.0   \n",
       "\n",
       "   High-Close  High-Open  High-Low  Close-Open  Close-Low  Open-Low  \\\n",
       "0       163.0      104.0       164       -59.0        1.0      60.0   \n",
       "1       179.0      224.0       246        45.0       67.0      22.0   \n",
       "2        74.0       90.0       120        16.0       46.0      30.0   \n",
       "3       134.0       82.0       157       -52.0       23.0      75.0   \n",
       "4        67.0      134.0       142        67.0       75.0       8.0   \n",
       "\n",
       "   KQ_Change  ND_Change  SP_Change  \n",
       "0     0.0116    -0.0114     0.0061  \n",
       "1    -0.0031    -0.0114     0.0061  \n",
       "2    -0.0118    -0.0261    -0.0065  \n",
       "3    -0.0038     0.0086    -0.0228  \n",
       "4     0.0084    -0.0050     0.0076  \n",
       "\n",
       "[5 rows x 26 columns]"
      ]
     },
     "execution_count": 4,
     "metadata": {},
     "output_type": "execute_result"
    }
   ],
   "source": [
    "pd.read_csv('./data/적자기업모델데이터/APS홀딩스_모델데이터.csv',index_col=0).head()"
   ]
  },
  {
   "cell_type": "markdown",
   "id": "530302ba",
   "metadata": {
    "ExecuteTime": {
     "end_time": "2022-05-21T03:30:29.225484Z",
     "start_time": "2022-05-21T03:30:29.221470Z"
    }
   },
   "source": [
    "# 함수화"
   ]
  },
  {
   "cell_type": "markdown",
   "id": "98e7acba",
   "metadata": {},
   "source": [
    "## 모델 함수화: model_xy"
   ]
  },
  {
   "cell_type": "code",
   "execution_count": 88,
   "id": "390a35d9",
   "metadata": {
    "ExecuteTime": {
     "end_time": "2022-05-21T03:24:22.489292Z",
     "start_time": "2022-05-21T03:24:22.482343Z"
    }
   },
   "outputs": [],
   "source": [
    "def model_xy(df, window_size, target_size, rapid_rate):  # df index_col=0 해줘야함\n",
    "    X = []\n",
    "    Y = []\n",
    "\n",
    "    for i in range(len(df)-window_size-target_size):\n",
    "        # feature\n",
    "        X.append([df.iloc[i+j,4:] for j in range(window_size)])\n",
    "\n",
    "        # Change\n",
    "        Y.append([df.iloc[window_size+i+j,3] for j in range(target_size)])\n",
    "\n",
    "    Y1 = []\n",
    "\n",
    "    # 7%이상 상승일시\n",
    "    for y in Y:\n",
    "        toggle = 0\n",
    "\n",
    "        for i in y:\n",
    "            if i >= rapid_rate:\n",
    "                Y1.append(1)\n",
    "                toggle = 1\n",
    "                break\n",
    "\n",
    "\n",
    "        if toggle!=1:\n",
    "            Y1.append(0)\n",
    "\n",
    "    X = np.array(X).astype(float)\n",
    "    Y1 = np.array(Y1).astype(float)\n",
    "    \n",
    "    return X, Y1\n",
    "\n"
   ]
  },
  {
   "cell_type": "markdown",
   "id": "73db8674",
   "metadata": {
    "ExecuteTime": {
     "end_time": "2022-05-21T03:30:17.690355Z",
     "start_time": "2022-05-21T03:30:17.679415Z"
    }
   },
   "source": [
    "## 결과 그래프함수화"
   ]
  },
  {
   "cell_type": "code",
   "execution_count": 105,
   "id": "bc71798b",
   "metadata": {
    "ExecuteTime": {
     "end_time": "2022-05-21T03:35:51.671916Z",
     "start_time": "2022-05-21T03:35:51.661941Z"
    }
   },
   "outputs": [],
   "source": [
    "def result_loss(hist):\n",
    "    plt.plot(hist.history['loss'],label='loss')\n",
    "    plt.plot(hist.history['val_loss'],label='val_loss')\n",
    "    plt.legend(loc = 'upper left')\n",
    "    \n",
    "def result_acc(hist):\n",
    "    plt.plot(hist.history['accuracy'],label='accuracy')\n",
    "    plt.plot(hist.history['val_accuracy'],label='val_accuracy')\n",
    "    plt.legend(loc = 'upper left')"
   ]
  },
  {
   "cell_type": "code",
   "execution_count": 106,
   "id": "64e4e279",
   "metadata": {
    "ExecuteTime": {
     "end_time": "2022-05-21T03:36:00.829597Z",
     "start_time": "2022-05-21T03:36:00.719925Z"
    }
   },
   "outputs": [
    {
     "data": {
      "image/png": "[encoded data removed]",
      "text/plain": [
       "<Figure size 432x288 with 1 Axes>"
      ]
     },
     "metadata": {
      "needs_background": "light"
     },
     "output_type": "display_data"
    }
   ],
   "source": [
    "result_loss(hist2)"
   ]
  },
  {
   "cell_type": "code",
   "execution_count": 107,
   "id": "d4d5b01b",
   "metadata": {
    "ExecuteTime": {
     "end_time": "2022-05-21T03:36:08.407802Z",
     "start_time": "2022-05-21T03:36:08.307938Z"
    }
   },
   "outputs": [
    {
     "data": {
      "image/png": "[encoded data removed]",
      "text/plain": [
       "<Figure size 432x288 with 1 Axes>"
      ]
     },
     "metadata": {
      "needs_background": "light"
     },
     "output_type": "display_data"
    }
   ],
   "source": [
    "result_acc(hist2)"
   ]
  },
  {
   "cell_type": "markdown",
   "id": "f65885ec",
   "metadata": {},
   "source": [
    "# 모델 돌리기"
   ]
  },
  {
   "cell_type": "markdown",
   "id": "08d56f66",
   "metadata": {},
   "source": [
    "## 딥러닝1"
   ]
  },
  {
   "cell_type": "code",
   "execution_count": 7,
   "id": "98bd562f",
   "metadata": {
    "ExecuteTime": {
     "end_time": "2022-05-20T07:26:57.581880Z",
     "start_time": "2022-05-20T07:26:57.563618Z"
    }
   },
   "outputs": [],
   "source": [
    "file_list = os.listdir('./data/적자기업모델데이터/')"
   ]
  },
  {
   "cell_type": "code",
   "execution_count": 9,
   "id": "ad79aff6",
   "metadata": {
    "ExecuteTime": {
     "end_time": "2022-05-20T07:27:02.519082Z",
     "start_time": "2022-05-20T07:27:02.499968Z"
    }
   },
   "outputs": [
    {
     "data": {
      "text/plain": [
       "'APS홀딩스_모델데이터.csv'"
      ]
     },
     "execution_count": 9,
     "metadata": {},
     "output_type": "execute_result"
    }
   ],
   "source": [
    "file_list[0]"
   ]
  },
  {
   "cell_type": "code",
   "execution_count": 50,
   "id": "ebeca716",
   "metadata": {
    "ExecuteTime": {
     "end_time": "2022-05-20T08:11:05.221060Z",
     "start_time": "2022-05-20T08:10:08.799708Z"
    },
    "scrolled": true
   },
   "outputs": [],
   "source": [
    "df = pd.read_csv('./data/적자기업모델데이터/시티랩스_모델데이터.csv',index_col=0)\n",
    "\n",
    "window_size = 250\n",
    "target_size = 30\n",
    "\n",
    "X = []\n",
    "Y = []\n",
    "\n",
    "for i in range(len(df)-window_size-target_size):\n",
    "    # feature\n",
    "    X.append([df.iloc[i+j,4:] for j in range(window_size)])\n",
    "\n",
    "    # Change\n",
    "    Y.append([df.iloc[window_size+i+j,3] for j in range(target_size)])\n",
    "\n",
    "Y1 = []\n",
    "\n",
    "# 7%이상 상승일시\n",
    "for y in Y:\n",
    "    toggle = 0\n",
    "\n",
    "    for i in y:\n",
    "        if i >= 0.1:\n",
    "            Y1.append(1)\n",
    "            toggle = 1\n",
    "            break\n",
    "    \n",
    "\n",
    "    if toggle!=1:\n",
    "        Y1.append(0)\n",
    "\n",
    "X = np.array(X).astype(float)\n",
    "Y1 = np.array(Y1).astype(float)\n",
    "    "
   ]
  },
  {
   "cell_type": "code",
   "execution_count": 51,
   "id": "d231ba0a",
   "metadata": {
    "ExecuteTime": {
     "end_time": "2022-05-20T08:11:05.362506Z",
     "start_time": "2022-05-20T08:11:05.349010Z"
    }
   },
   "outputs": [
    {
     "data": {
      "text/plain": [
       "(1663, 250, 22)"
      ]
     },
     "execution_count": 51,
     "metadata": {},
     "output_type": "execute_result"
    }
   ],
   "source": [
    "X.shape"
   ]
  },
  {
   "cell_type": "code",
   "execution_count": 52,
   "id": "d47fe8eb",
   "metadata": {
    "ExecuteTime": {
     "end_time": "2022-05-20T08:11:05.504483Z",
     "start_time": "2022-05-20T08:11:05.489110Z"
    }
   },
   "outputs": [
    {
     "data": {
      "text/plain": [
       "(1663,)"
      ]
     },
     "execution_count": 52,
     "metadata": {},
     "output_type": "execute_result"
    }
   ],
   "source": [
    "Y1.shape"
   ]
  },
  {
   "cell_type": "code",
   "execution_count": 53,
   "id": "5c3c3986",
   "metadata": {
    "ExecuteTime": {
     "end_time": "2022-05-20T08:11:05.645646Z",
     "start_time": "2022-05-20T08:11:05.634650Z"
    }
   },
   "outputs": [],
   "source": [
    "train_test_split = 1300\n",
    "\n",
    "x_train = X[:1300]\n",
    "y_train = Y1[:1300]\n",
    "\n",
    "x_test = X[1300:]\n",
    "y_test = Y1[1300:]"
   ]
  },
  {
   "cell_type": "code",
   "execution_count": 54,
   "id": "b3b48a99",
   "metadata": {
    "ExecuteTime": {
     "end_time": "2022-05-20T08:11:05.978105Z",
     "start_time": "2022-05-20T08:11:05.791611Z"
    }
   },
   "outputs": [
    {
     "name": "stdout",
     "output_type": "stream",
     "text": [
      "Model: \"sequential_4\"\n",
      "_________________________________________________________________\n",
      " Layer (type)                Output Shape              Param #   \n",
      "=================================================================\n",
      " lstm_4 (LSTM)               (None, 100)               49200     \n",
      "                                                                 \n",
      " dense_4 (Dense)             (None, 1)                 101       \n",
      "                                                                 \n",
      "=================================================================\n",
      "Total params: 49,301\n",
      "Trainable params: 49,301\n",
      "Non-trainable params: 0\n",
      "_________________________________________________________________\n"
     ]
    }
   ],
   "source": [
    "with tf.device('/GPU:0'):\n",
    "    model = Sequential()\n",
    "    model.add(LSTM(50, input_shape=(250,22)))\n",
    "    model.add(Dense(1,activation='sigmoid'))\n",
    "    model.summary()"
   ]
  },
  {
   "cell_type": "code",
   "execution_count": 55,
   "id": "817b5a3b",
   "metadata": {
    "ExecuteTime": {
     "end_time": "2022-05-20T08:11:06.119628Z",
     "start_time": "2022-05-20T08:11:06.106656Z"
    }
   },
   "outputs": [],
   "source": [
    "# learning rate 설정\n",
    "Adam = tf.keras.optimizers.Adam(learning_rate=0.001)\n",
    "model.compile(loss='binary_crossentropy', metrics ='accuracy', optimizer=Adam)"
   ]
  },
  {
   "cell_type": "code",
   "execution_count": 56,
   "id": "eabcc5d4",
   "metadata": {
    "ExecuteTime": {
     "end_time": "2022-05-20T08:13:32.124096Z",
     "start_time": "2022-05-20T08:11:06.247442Z"
    }
   },
   "outputs": [
    {
     "name": "stdout",
     "output_type": "stream",
     "text": [
      "Epoch 1/100\n",
      "130/130 [==============================] - 3s 13ms/step - loss: 0.7416 - accuracy: 0.5131 - val_loss: 0.7009 - val_accuracy: 0.5730\n",
      "Epoch 2/100\n",
      "130/130 [==============================] - 1s 11ms/step - loss: 0.6731 - accuracy: 0.6292 - val_loss: 0.6764 - val_accuracy: 0.5730\n",
      "Epoch 3/100\n",
      "130/130 [==============================] - 1s 11ms/step - loss: 0.6611 - accuracy: 0.6292 - val_loss: 0.6732 - val_accuracy: 0.5730\n",
      "Epoch 4/100\n",
      "130/130 [==============================] - 1s 11ms/step - loss: 0.6523 - accuracy: 0.6292 - val_loss: 0.6555 - val_accuracy: 0.5730\n",
      "Epoch 5/100\n",
      "130/130 [==============================] - 1s 11ms/step - loss: 0.6461 - accuracy: 0.6292 - val_loss: 0.6590 - val_accuracy: 0.5730\n",
      "Epoch 6/100\n",
      "130/130 [==============================] - 1s 11ms/step - loss: 0.6404 - accuracy: 0.6292 - val_loss: 0.6495 - val_accuracy: 0.5730\n",
      "Epoch 7/100\n",
      "130/130 [==============================] - 1s 11ms/step - loss: 0.6352 - accuracy: 0.6292 - val_loss: 0.6561 - val_accuracy: 0.5730\n",
      "Epoch 8/100\n",
      "130/130 [==============================] - 1s 11ms/step - loss: 0.6336 - accuracy: 0.6300 - val_loss: 0.6483 - val_accuracy: 0.5730\n",
      "Epoch 9/100\n",
      "130/130 [==============================] - 1s 11ms/step - loss: 0.6290 - accuracy: 0.6377 - val_loss: 0.6413 - val_accuracy: 0.6556\n",
      "Epoch 10/100\n",
      "130/130 [==============================] - 1s 11ms/step - loss: 0.6270 - accuracy: 0.6608 - val_loss: 0.6390 - val_accuracy: 0.6556\n",
      "Epoch 11/100\n",
      "130/130 [==============================] - 1s 11ms/step - loss: 0.6251 - accuracy: 0.6646 - val_loss: 0.6417 - val_accuracy: 0.6584\n",
      "Epoch 12/100\n",
      "130/130 [==============================] - 1s 11ms/step - loss: 0.6203 - accuracy: 0.6600 - val_loss: 0.6307 - val_accuracy: 0.6749\n",
      "Epoch 13/100\n",
      "130/130 [==============================] - 1s 11ms/step - loss: 0.6213 - accuracy: 0.6669 - val_loss: 0.6299 - val_accuracy: 0.6556\n",
      "Epoch 14/100\n",
      "130/130 [==============================] - 1s 11ms/step - loss: 0.6182 - accuracy: 0.6746 - val_loss: 0.6292 - val_accuracy: 0.6556\n",
      "Epoch 15/100\n",
      "130/130 [==============================] - 1s 11ms/step - loss: 0.6160 - accuracy: 0.6754 - val_loss: 0.6297 - val_accuracy: 0.6556\n",
      "Epoch 16/100\n",
      "130/130 [==============================] - 1s 11ms/step - loss: 0.6140 - accuracy: 0.6800 - val_loss: 0.6330 - val_accuracy: 0.6556\n",
      "Epoch 17/100\n",
      "130/130 [==============================] - 1s 11ms/step - loss: 0.6122 - accuracy: 0.6777 - val_loss: 0.6277 - val_accuracy: 0.6556\n",
      "Epoch 18/100\n",
      "130/130 [==============================] - 1s 11ms/step - loss: 0.6101 - accuracy: 0.6831 - val_loss: 0.6243 - val_accuracy: 0.6556\n",
      "Epoch 19/100\n",
      "130/130 [==============================] - 1s 11ms/step - loss: 0.6087 - accuracy: 0.6831 - val_loss: 0.6251 - val_accuracy: 0.6556\n",
      "Epoch 20/100\n",
      "130/130 [==============================] - 1s 11ms/step - loss: 0.6069 - accuracy: 0.6823 - val_loss: 0.6242 - val_accuracy: 0.6556\n",
      "Epoch 21/100\n",
      "130/130 [==============================] - 1s 11ms/step - loss: 0.6050 - accuracy: 0.6831 - val_loss: 0.6258 - val_accuracy: 0.6556\n",
      "Epoch 22/100\n",
      "130/130 [==============================] - 1s 11ms/step - loss: 0.6033 - accuracy: 0.6838 - val_loss: 0.6186 - val_accuracy: 0.6556\n",
      "Epoch 23/100\n",
      "130/130 [==============================] - 1s 11ms/step - loss: 0.6019 - accuracy: 0.6815 - val_loss: 0.6320 - val_accuracy: 0.6556\n",
      "Epoch 24/100\n",
      "130/130 [==============================] - 1s 11ms/step - loss: 0.6008 - accuracy: 0.6815 - val_loss: 0.6282 - val_accuracy: 0.6556\n",
      "Epoch 25/100\n",
      "130/130 [==============================] - 1s 11ms/step - loss: 0.5990 - accuracy: 0.6854 - val_loss: 0.6173 - val_accuracy: 0.6667\n",
      "Epoch 26/100\n",
      "130/130 [==============================] - 1s 11ms/step - loss: 0.5978 - accuracy: 0.6846 - val_loss: 0.6225 - val_accuracy: 0.6556\n",
      "Epoch 27/100\n",
      "130/130 [==============================] - 1s 11ms/step - loss: 0.5977 - accuracy: 0.6954 - val_loss: 0.6337 - val_accuracy: 0.6556\n",
      "Epoch 28/100\n",
      "130/130 [==============================] - 1s 11ms/step - loss: 0.5966 - accuracy: 0.6831 - val_loss: 0.6169 - val_accuracy: 0.6667\n",
      "Epoch 29/100\n",
      "130/130 [==============================] - 1s 11ms/step - loss: 0.5953 - accuracy: 0.6892 - val_loss: 0.6265 - val_accuracy: 0.6556\n",
      "Epoch 30/100\n",
      "130/130 [==============================] - 1s 11ms/step - loss: 0.5940 - accuracy: 0.6885 - val_loss: 0.6297 - val_accuracy: 0.6556\n",
      "Epoch 31/100\n",
      "130/130 [==============================] - 1s 11ms/step - loss: 0.5924 - accuracy: 0.6908 - val_loss: 0.6280 - val_accuracy: 0.6556\n",
      "Epoch 32/100\n",
      "130/130 [==============================] - 1s 11ms/step - loss: 0.5908 - accuracy: 0.6877 - val_loss: 0.6237 - val_accuracy: 0.6667\n",
      "Epoch 33/100\n",
      "130/130 [==============================] - 1s 11ms/step - loss: 0.5900 - accuracy: 0.6923 - val_loss: 0.6305 - val_accuracy: 0.6556\n",
      "Epoch 34/100\n",
      "130/130 [==============================] - 1s 11ms/step - loss: 0.5891 - accuracy: 0.6908 - val_loss: 0.6368 - val_accuracy: 0.6556\n",
      "Epoch 35/100\n",
      "130/130 [==============================] - 1s 11ms/step - loss: 0.5898 - accuracy: 0.6869 - val_loss: 0.6267 - val_accuracy: 0.6667\n",
      "Epoch 36/100\n",
      "130/130 [==============================] - 1s 11ms/step - loss: 0.5867 - accuracy: 0.6931 - val_loss: 0.6323 - val_accuracy: 0.6667\n",
      "Epoch 37/100\n",
      "130/130 [==============================] - 1s 11ms/step - loss: 0.5878 - accuracy: 0.6938 - val_loss: 0.6359 - val_accuracy: 0.6667\n",
      "Epoch 38/100\n",
      "130/130 [==============================] - 1s 11ms/step - loss: 0.5852 - accuracy: 0.6923 - val_loss: 0.6422 - val_accuracy: 0.6667\n",
      "Epoch 39/100\n",
      "130/130 [==============================] - 1s 11ms/step - loss: 0.5841 - accuracy: 0.6931 - val_loss: 0.6528 - val_accuracy: 0.6556\n",
      "Epoch 40/100\n",
      "130/130 [==============================] - 1s 11ms/step - loss: 0.5839 - accuracy: 0.6938 - val_loss: 0.6427 - val_accuracy: 0.6667\n",
      "Epoch 41/100\n",
      "130/130 [==============================] - 1s 11ms/step - loss: 0.5830 - accuracy: 0.6900 - val_loss: 0.6515 - val_accuracy: 0.6556\n",
      "Epoch 42/100\n",
      "130/130 [==============================] - 1s 11ms/step - loss: 0.5824 - accuracy: 0.6938 - val_loss: 0.6550 - val_accuracy: 0.6556\n",
      "Epoch 43/100\n",
      "130/130 [==============================] - 1s 11ms/step - loss: 0.5811 - accuracy: 0.6900 - val_loss: 0.6443 - val_accuracy: 0.6667\n",
      "Epoch 44/100\n",
      "130/130 [==============================] - 1s 11ms/step - loss: 0.5815 - accuracy: 0.6946 - val_loss: 0.6424 - val_accuracy: 0.6667\n",
      "Epoch 45/100\n",
      "130/130 [==============================] - 1s 11ms/step - loss: 0.5800 - accuracy: 0.6869 - val_loss: 0.6604 - val_accuracy: 0.6667\n",
      "Epoch 46/100\n",
      "130/130 [==============================] - 1s 11ms/step - loss: 0.5795 - accuracy: 0.6985 - val_loss: 0.6514 - val_accuracy: 0.6667\n",
      "Epoch 47/100\n",
      "130/130 [==============================] - 1s 11ms/step - loss: 0.5781 - accuracy: 0.6977 - val_loss: 0.6424 - val_accuracy: 0.6860\n",
      "Epoch 48/100\n",
      "130/130 [==============================] - 1s 11ms/step - loss: 0.5791 - accuracy: 0.6923 - val_loss: 0.6575 - val_accuracy: 0.6667\n",
      "Epoch 49/100\n",
      "130/130 [==============================] - 1s 11ms/step - loss: 0.5781 - accuracy: 0.6831 - val_loss: 0.6624 - val_accuracy: 0.6667\n",
      "Epoch 50/100\n",
      "130/130 [==============================] - 1s 11ms/step - loss: 0.5773 - accuracy: 0.7031 - val_loss: 0.6750 - val_accuracy: 0.6667\n",
      "Epoch 51/100\n",
      "130/130 [==============================] - 1s 11ms/step - loss: 0.5760 - accuracy: 0.6992 - val_loss: 0.6718 - val_accuracy: 0.6667\n",
      "Epoch 52/100\n",
      "130/130 [==============================] - 1s 11ms/step - loss: 0.5762 - accuracy: 0.7008 - val_loss: 0.6778 - val_accuracy: 0.6667\n",
      "Epoch 53/100\n",
      "130/130 [==============================] - 1s 11ms/step - loss: 0.5751 - accuracy: 0.6969 - val_loss: 0.6915 - val_accuracy: 0.6667\n",
      "Epoch 54/100\n",
      "130/130 [==============================] - 1s 11ms/step - loss: 0.5750 - accuracy: 0.6969 - val_loss: 0.6848 - val_accuracy: 0.6667\n",
      "Epoch 55/100\n",
      "130/130 [==============================] - 1s 11ms/step - loss: 0.5747 - accuracy: 0.6900 - val_loss: 0.6914 - val_accuracy: 0.6667\n",
      "Epoch 56/100\n",
      "130/130 [==============================] - 1s 11ms/step - loss: 0.5732 - accuracy: 0.6923 - val_loss: 0.6740 - val_accuracy: 0.6667\n",
      "Epoch 57/100\n",
      "130/130 [==============================] - 1s 11ms/step - loss: 0.5742 - accuracy: 0.6823 - val_loss: 0.6940 - val_accuracy: 0.6667\n",
      "Epoch 58/100\n",
      "130/130 [==============================] - 1s 11ms/step - loss: 0.5723 - accuracy: 0.6892 - val_loss: 0.7025 - val_accuracy: 0.6667\n",
      "Epoch 59/100\n",
      "130/130 [==============================] - 1s 11ms/step - loss: 0.5722 - accuracy: 0.6923 - val_loss: 0.7034 - val_accuracy: 0.6667\n",
      "Epoch 60/100\n",
      "130/130 [==============================] - 1s 11ms/step - loss: 0.5722 - accuracy: 0.6931 - val_loss: 0.7056 - val_accuracy: 0.6667\n",
      "Epoch 61/100\n",
      "130/130 [==============================] - 1s 11ms/step - loss: 0.5707 - accuracy: 0.6938 - val_loss: 0.7276 - val_accuracy: 0.6556\n",
      "Epoch 62/100\n",
      "130/130 [==============================] - 1s 11ms/step - loss: 0.5709 - accuracy: 0.6923 - val_loss: 0.7105 - val_accuracy: 0.6667\n",
      "Epoch 63/100\n",
      "130/130 [==============================] - 1s 11ms/step - loss: 0.5701 - accuracy: 0.6923 - val_loss: 0.7161 - val_accuracy: 0.6667\n",
      "Epoch 64/100\n",
      "130/130 [==============================] - 1s 11ms/step - loss: 0.5702 - accuracy: 0.6938 - val_loss: 0.7265 - val_accuracy: 0.6667\n",
      "Epoch 65/100\n",
      "130/130 [==============================] - 1s 11ms/step - loss: 0.5695 - accuracy: 0.6923 - val_loss: 0.7396 - val_accuracy: 0.6556\n",
      "Epoch 66/100\n",
      "130/130 [==============================] - 1s 11ms/step - loss: 0.5698 - accuracy: 0.6900 - val_loss: 0.7223 - val_accuracy: 0.6667\n",
      "Epoch 67/100\n",
      "130/130 [==============================] - 1s 11ms/step - loss: 0.5687 - accuracy: 0.6900 - val_loss: 0.7308 - val_accuracy: 0.6667\n",
      "Epoch 68/100\n",
      "130/130 [==============================] - 1s 11ms/step - loss: 0.5682 - accuracy: 0.6938 - val_loss: 0.7265 - val_accuracy: 0.6667\n",
      "Epoch 69/100\n",
      "130/130 [==============================] - 1s 11ms/step - loss: 0.5688 - accuracy: 0.7092 - val_loss: 0.7441 - val_accuracy: 0.6667\n",
      "Epoch 70/100\n",
      "130/130 [==============================] - 1s 11ms/step - loss: 0.5675 - accuracy: 0.6846 - val_loss: 0.7709 - val_accuracy: 0.6556\n",
      "Epoch 71/100\n",
      "130/130 [==============================] - 1s 11ms/step - loss: 0.5682 - accuracy: 0.6985 - val_loss: 0.7518 - val_accuracy: 0.6667\n",
      "Epoch 72/100\n",
      "130/130 [==============================] - 1s 11ms/step - loss: 0.5667 - accuracy: 0.7046 - val_loss: 0.7376 - val_accuracy: 0.6667\n",
      "Epoch 73/100\n",
      "130/130 [==============================] - 1s 11ms/step - loss: 0.5668 - accuracy: 0.7108 - val_loss: 0.7614 - val_accuracy: 0.6667\n",
      "Epoch 74/100\n",
      "130/130 [==============================] - 1s 11ms/step - loss: 0.5671 - accuracy: 0.6977 - val_loss: 0.7552 - val_accuracy: 0.6667\n",
      "Epoch 75/100\n",
      "130/130 [==============================] - 1s 11ms/step - loss: 0.5662 - accuracy: 0.7069 - val_loss: 0.7828 - val_accuracy: 0.6556\n",
      "Epoch 76/100\n",
      "130/130 [==============================] - 1s 11ms/step - loss: 0.5664 - accuracy: 0.7023 - val_loss: 0.7662 - val_accuracy: 0.6667\n",
      "Epoch 77/100\n",
      "130/130 [==============================] - 1s 11ms/step - loss: 0.5664 - accuracy: 0.7008 - val_loss: 0.7631 - val_accuracy: 0.6667\n",
      "Epoch 78/100\n",
      "130/130 [==============================] - 1s 11ms/step - loss: 0.5652 - accuracy: 0.7085 - val_loss: 0.7460 - val_accuracy: 0.6860\n",
      "Epoch 79/100\n",
      "130/130 [==============================] - 1s 11ms/step - loss: 0.5653 - accuracy: 0.7085 - val_loss: 0.7806 - val_accuracy: 0.6667\n",
      "Epoch 80/100\n",
      "130/130 [==============================] - 1s 11ms/step - loss: 0.5651 - accuracy: 0.6954 - val_loss: 0.7978 - val_accuracy: 0.6667\n",
      "Epoch 81/100\n",
      "130/130 [==============================] - 1s 11ms/step - loss: 0.5638 - accuracy: 0.6985 - val_loss: 0.7509 - val_accuracy: 0.6860\n",
      "Epoch 82/100\n",
      "130/130 [==============================] - 1s 11ms/step - loss: 0.5659 - accuracy: 0.7031 - val_loss: 0.7880 - val_accuracy: 0.6667\n",
      "Epoch 83/100\n",
      "130/130 [==============================] - 1s 11ms/step - loss: 0.5643 - accuracy: 0.7077 - val_loss: 0.7858 - val_accuracy: 0.6667\n",
      "Epoch 84/100\n",
      "130/130 [==============================] - 1s 11ms/step - loss: 0.5651 - accuracy: 0.7085 - val_loss: 0.7951 - val_accuracy: 0.6667\n",
      "Epoch 85/100\n",
      "130/130 [==============================] - 1s 11ms/step - loss: 0.5638 - accuracy: 0.7054 - val_loss: 0.7981 - val_accuracy: 0.6667\n",
      "Epoch 86/100\n",
      "130/130 [==============================] - 1s 11ms/step - loss: 0.5633 - accuracy: 0.7085 - val_loss: 0.7916 - val_accuracy: 0.6667\n",
      "Epoch 87/100\n",
      "130/130 [==============================] - 1s 11ms/step - loss: 0.5637 - accuracy: 0.7069 - val_loss: 0.8001 - val_accuracy: 0.6667\n",
      "Epoch 88/100\n",
      "130/130 [==============================] - 1s 11ms/step - loss: 0.5635 - accuracy: 0.7108 - val_loss: 0.8221 - val_accuracy: 0.6667\n",
      "Epoch 89/100\n",
      "130/130 [==============================] - 1s 11ms/step - loss: 0.5636 - accuracy: 0.7077 - val_loss: 0.8111 - val_accuracy: 0.6667\n",
      "Epoch 90/100\n",
      "130/130 [==============================] - 1s 11ms/step - loss: 0.5633 - accuracy: 0.7062 - val_loss: 0.8167 - val_accuracy: 0.6667\n",
      "Epoch 91/100\n",
      "130/130 [==============================] - 1s 11ms/step - loss: 0.5631 - accuracy: 0.7123 - val_loss: 0.8175 - val_accuracy: 0.6667\n",
      "Epoch 92/100\n",
      "130/130 [==============================] - 1s 11ms/step - loss: 0.5627 - accuracy: 0.7162 - val_loss: 0.8393 - val_accuracy: 0.6667\n",
      "Epoch 93/100\n",
      "130/130 [==============================] - 1s 11ms/step - loss: 0.5622 - accuracy: 0.7138 - val_loss: 0.8522 - val_accuracy: 0.6667\n",
      "Epoch 94/100\n",
      "130/130 [==============================] - 1s 11ms/step - loss: 0.5627 - accuracy: 0.7092 - val_loss: 0.8451 - val_accuracy: 0.6667\n",
      "Epoch 95/100\n",
      "130/130 [==============================] - 1s 11ms/step - loss: 0.5620 - accuracy: 0.7123 - val_loss: 0.8358 - val_accuracy: 0.6667\n",
      "Epoch 96/100\n",
      "130/130 [==============================] - 1s 11ms/step - loss: 0.5624 - accuracy: 0.7077 - val_loss: 0.8183 - val_accuracy: 0.6860\n",
      "Epoch 97/100\n",
      "130/130 [==============================] - 1s 11ms/step - loss: 0.5616 - accuracy: 0.7031 - val_loss: 0.8532 - val_accuracy: 0.6667\n",
      "Epoch 98/100\n",
      "130/130 [==============================] - 1s 11ms/step - loss: 0.5608 - accuracy: 0.7146 - val_loss: 0.8364 - val_accuracy: 0.6667\n",
      "Epoch 99/100\n",
      "130/130 [==============================] - 1s 11ms/step - loss: 0.5610 - accuracy: 0.7154 - val_loss: 0.8622 - val_accuracy: 0.6667\n",
      "Epoch 100/100\n",
      "130/130 [==============================] - 1s 11ms/step - loss: 0.5614 - accuracy: 0.7031 - val_loss: 0.8688 - val_accuracy: 0.6667\n"
     ]
    }
   ],
   "source": [
    "hist = model.fit(x_train, y_train, epochs=100, batch_size= 10, validation_data= (x_test,y_test))"
   ]
  },
  {
   "cell_type": "code",
   "execution_count": 57,
   "id": "52ae6ddd",
   "metadata": {
    "ExecuteTime": {
     "end_time": "2022-05-20T08:13:34.407405Z",
     "start_time": "2022-05-20T08:13:34.399430Z"
    }
   },
   "outputs": [
    {
     "data": {
      "text/plain": [
       "array([0., 0., 0., 0., 0., 0., 0., 0., 0., 0., 0., 0., 0., 0., 0., 0., 0.,\n",
       "       0., 0., 0., 0., 0., 0., 0., 0., 0., 1., 1., 1., 1., 1., 1., 1., 1.,\n",
       "       1., 1., 1., 1., 1., 1., 1., 1., 1., 1., 1., 1., 1., 1., 1., 1., 1.,\n",
       "       1., 1., 1., 1., 1., 1., 1., 1., 1., 1., 1., 1., 1., 1., 1., 1., 0.,\n",
       "       0., 0., 0., 0., 1., 1., 1., 1., 1., 1., 1., 1., 1., 1., 1., 1., 1.,\n",
       "       1., 1., 1., 1., 1., 1., 1., 1., 1., 1., 1., 1., 1., 1., 1., 1., 1.,\n",
       "       1., 1., 1., 1., 1., 1., 1., 1., 1., 1., 1., 1., 1., 1., 1., 0., 0.,\n",
       "       0., 0., 0., 0., 0., 0., 0., 0., 0., 0., 0., 0., 0., 0., 0., 0., 0.,\n",
       "       0., 0., 0., 0., 0., 0., 0., 0., 0., 0., 0., 0., 0., 0., 0., 0., 0.,\n",
       "       0., 0., 0., 0., 0., 0., 0., 0., 0., 0., 0., 0., 0., 0., 0., 0., 0.,\n",
       "       0., 0., 0., 0., 0., 0., 0., 0., 0., 1., 1., 1., 1., 1., 1., 1., 1.,\n",
       "       1., 1., 1., 1., 1., 1., 1., 1., 1., 1., 1., 1., 1., 1., 1., 1., 1.,\n",
       "       1., 1., 1., 1., 1., 0., 0., 0., 0., 0., 0., 0., 0., 0., 0., 0., 0.,\n",
       "       0., 0., 0., 0., 0., 0., 0., 0., 0., 0., 0., 0., 0., 0., 0., 0., 0.,\n",
       "       0., 0., 0., 0., 0., 0., 0., 0., 0., 0., 0., 0., 0., 0., 0., 0., 0.,\n",
       "       0., 0., 0., 0., 0., 0., 0., 0., 0., 0., 0., 0., 0., 0., 0., 0., 0.,\n",
       "       0., 0., 0., 0., 0., 0., 0., 0., 0., 0., 0., 0., 0., 0., 0., 0., 0.,\n",
       "       0., 0., 0., 0., 0., 0., 0., 0., 0., 0., 0., 0., 0., 0., 0., 0., 0.,\n",
       "       0., 0., 0., 0., 0., 0., 0., 0., 0., 0., 0., 0., 0., 0., 0., 0., 0.,\n",
       "       1., 1., 1., 1., 1., 1., 1., 1., 1., 1., 1., 1., 1., 1., 1., 1., 1.,\n",
       "       1., 1., 1., 1., 1., 1., 1., 1., 1., 1., 1., 1., 1., 1., 1., 1., 1.,\n",
       "       1., 1., 1., 1., 1., 0.])"
      ]
     },
     "execution_count": 57,
     "metadata": {},
     "output_type": "execute_result"
    }
   ],
   "source": [
    "y_test"
   ]
  },
  {
   "cell_type": "code",
   "execution_count": 58,
   "id": "684c3dc5",
   "metadata": {
    "ExecuteTime": {
     "end_time": "2022-05-20T08:13:37.613689Z",
     "start_time": "2022-05-20T08:13:37.438445Z"
    }
   },
   "outputs": [
    {
     "data": {
      "text/plain": [
       "[<matplotlib.lines.Line2D at 0x1f5682ad0d0>]"
      ]
     },
     "execution_count": 58,
     "metadata": {},
     "output_type": "execute_result"
    },
    {
     "data": {
      "image/png": "[encoded data removed]",
      "text/plain": [
       "<Figure size 432x288 with 1 Axes>"
      ]
     },
     "metadata": {
      "needs_background": "light"
     },
     "output_type": "display_data"
    }
   ],
   "source": [
    "plt.plot(hist.history['loss'])\n",
    "plt.plot(hist.history['val_loss'])"
   ]
  },
  {
   "cell_type": "code",
   "execution_count": 59,
   "id": "868f2149",
   "metadata": {
    "ExecuteTime": {
     "end_time": "2022-05-20T08:13:39.685988Z",
     "start_time": "2022-05-20T08:13:39.582920Z"
    }
   },
   "outputs": [
    {
     "data": {
      "text/plain": [
       "[<matplotlib.lines.Line2D at 0x1f569319460>]"
      ]
     },
     "execution_count": 59,
     "metadata": {},
     "output_type": "execute_result"
    },
    {
     "data": {
      "image/png": "[encoded data removed]",
      "text/plain": [
       "<Figure size 432x288 with 1 Axes>"
      ]
     },
     "metadata": {
      "needs_background": "light"
     },
     "output_type": "display_data"
    }
   ],
   "source": [
    "plt.plot(hist.history['accuracy'])\n",
    "plt.plot(hist.history['val_accuracy'])"
   ]
  },
  {
   "cell_type": "code",
   "execution_count": null,
   "id": "66c1f9c6",
   "metadata": {},
   "outputs": [],
   "source": []
  },
  {
   "cell_type": "markdown",
   "id": "07395e85",
   "metadata": {
    "ExecuteTime": {
     "end_time": "2022-05-21T00:36:30.337745Z",
     "start_time": "2022-05-21T00:36:30.321789Z"
    }
   },
   "source": [
    "##  시티랩스 250 30 10%"
   ]
  },
  {
   "cell_type": "code",
   "execution_count": 61,
   "id": "f1fe5ef6",
   "metadata": {
    "ExecuteTime": {
     "end_time": "2022-05-21T00:39:15.506647Z",
     "start_time": "2022-05-21T00:38:20.615142Z"
    }
   },
   "outputs": [],
   "source": [
    "df = pd.read_csv('./data/적자기업모델데이터/시티랩스_모델데이터_scaler.csv',index_col=0)\n",
    "\n",
    "window_size = 250\n",
    "target_size = 30\n",
    "\n",
    "X = []\n",
    "Y = []\n",
    "\n",
    "for i in range(len(df)-window_size-target_size):\n",
    "    # feature\n",
    "    X.append([df.iloc[i+j,4:] for j in range(window_size)])\n",
    "\n",
    "    # Change\n",
    "    Y.append([df.iloc[window_size+i+j,3] for j in range(target_size)])\n",
    "\n",
    "Y1 = []\n",
    "\n",
    "# 7%이상 상승일시\n",
    "for y in Y:\n",
    "    toggle = 0\n",
    "\n",
    "    for i in y:\n",
    "        if i >= 0.1:\n",
    "            Y1.append(1)\n",
    "            toggle = 1\n",
    "            break\n",
    "    \n",
    "\n",
    "    if toggle!=1:\n",
    "        Y1.append(0)\n",
    "\n",
    "X = np.array(X).astype(float)\n",
    "Y1 = np.array(Y1).astype(float)\n",
    "    "
   ]
  },
  {
   "cell_type": "code",
   "execution_count": 62,
   "id": "2e505fc3",
   "metadata": {
    "ExecuteTime": {
     "end_time": "2022-05-21T00:39:15.633010Z",
     "start_time": "2022-05-21T00:39:15.618049Z"
    }
   },
   "outputs": [
    {
     "data": {
      "text/plain": [
       "(1663, 250, 22)"
      ]
     },
     "execution_count": 62,
     "metadata": {},
     "output_type": "execute_result"
    }
   ],
   "source": [
    "X.shape"
   ]
  },
  {
   "cell_type": "code",
   "execution_count": 63,
   "id": "dd24e0ae",
   "metadata": {
    "ExecuteTime": {
     "end_time": "2022-05-21T00:39:15.775332Z",
     "start_time": "2022-05-21T00:39:15.760357Z"
    }
   },
   "outputs": [],
   "source": [
    "train_test_split = 1300\n",
    "\n",
    "x_train = X[:1300]\n",
    "y_train = Y1[:1300]\n",
    "\n",
    "x_test = X[1300:]\n",
    "y_test = Y1[1300:]"
   ]
  },
  {
   "cell_type": "code",
   "execution_count": 64,
   "id": "e15e65b0",
   "metadata": {
    "ExecuteTime": {
     "end_time": "2022-05-21T00:39:20.237444Z",
     "start_time": "2022-05-21T00:39:20.043949Z"
    }
   },
   "outputs": [
    {
     "name": "stdout",
     "output_type": "stream",
     "text": [
      "Model: \"sequential_5\"\n",
      "_________________________________________________________________\n",
      " Layer (type)                Output Shape              Param #   \n",
      "=================================================================\n",
      " lstm_5 (LSTM)               (None, 50)                14600     \n",
      "                                                                 \n",
      " dense_5 (Dense)             (None, 1)                 51        \n",
      "                                                                 \n",
      "=================================================================\n",
      "Total params: 14,651\n",
      "Trainable params: 14,651\n",
      "Non-trainable params: 0\n",
      "_________________________________________________________________\n"
     ]
    }
   ],
   "source": [
    "with tf.device('/GPU:0'):\n",
    "    model = Sequential()\n",
    "    model.add(LSTM(50, input_shape=(250,22)))\n",
    "    model.add(Dense(1,activation='sigmoid'))\n",
    "    model.summary()"
   ]
  },
  {
   "cell_type": "code",
   "execution_count": 67,
   "id": "1956e424",
   "metadata": {
    "ExecuteTime": {
     "end_time": "2022-05-21T00:39:44.143410Z",
     "start_time": "2022-05-21T00:39:44.110369Z"
    }
   },
   "outputs": [],
   "source": [
    "# learning rate 설정\n",
    "Adam = tf.keras.optimizers.Adam(learning_rate=0.001)\n",
    "model.compile(loss='binary_crossentropy', metrics ='accuracy', optimizer=Adam)"
   ]
  },
  {
   "cell_type": "code",
   "execution_count": 68,
   "id": "124ceddb",
   "metadata": {
    "ExecuteTime": {
     "end_time": "2022-05-21T00:41:50.262637Z",
     "start_time": "2022-05-21T00:39:44.267687Z"
    }
   },
   "outputs": [
    {
     "name": "stdout",
     "output_type": "stream",
     "text": [
      "Epoch 1/100\n",
      "130/130 [==============================] - 3s 12ms/step - loss: 0.6366 - accuracy: 0.6331 - val_loss: 0.7191 - val_accuracy: 0.4601\n",
      "Epoch 2/100\n",
      "130/130 [==============================] - 1s 9ms/step - loss: 0.5690 - accuracy: 0.7262 - val_loss: 0.7238 - val_accuracy: 0.5069\n",
      "Epoch 3/100\n",
      "130/130 [==============================] - 1s 10ms/step - loss: 0.5459 - accuracy: 0.7346 - val_loss: 0.6920 - val_accuracy: 0.5730\n",
      "Epoch 4/100\n",
      "130/130 [==============================] - 1s 10ms/step - loss: 0.5623 - accuracy: 0.7085 - val_loss: 0.8873 - val_accuracy: 0.4270\n",
      "Epoch 5/100\n",
      "130/130 [==============================] - 1s 10ms/step - loss: 0.5055 - accuracy: 0.7500 - val_loss: 0.9543 - val_accuracy: 0.5041\n",
      "Epoch 6/100\n",
      "130/130 [==============================] - 1s 9ms/step - loss: 0.5018 - accuracy: 0.7277 - val_loss: 0.7869 - val_accuracy: 0.4270\n",
      "Epoch 7/100\n",
      "130/130 [==============================] - 1s 10ms/step - loss: 0.4615 - accuracy: 0.7700 - val_loss: 0.8290 - val_accuracy: 0.4270\n",
      "Epoch 8/100\n",
      "130/130 [==============================] - 1s 10ms/step - loss: 0.4840 - accuracy: 0.7608 - val_loss: 1.3665 - val_accuracy: 0.4270\n",
      "Epoch 9/100\n",
      "130/130 [==============================] - 1s 10ms/step - loss: 0.4790 - accuracy: 0.7531 - val_loss: 1.0984 - val_accuracy: 0.4270\n",
      "Epoch 10/100\n",
      "130/130 [==============================] - 1s 9ms/step - loss: 0.4755 - accuracy: 0.7615 - val_loss: 0.7368 - val_accuracy: 0.4408\n",
      "Epoch 11/100\n",
      "130/130 [==============================] - 1s 10ms/step - loss: 0.4868 - accuracy: 0.7523 - val_loss: 0.7154 - val_accuracy: 0.5014\n",
      "Epoch 12/100\n",
      "130/130 [==============================] - 1s 9ms/step - loss: 0.4737 - accuracy: 0.7785 - val_loss: 0.6284 - val_accuracy: 0.6253\n",
      "Epoch 13/100\n",
      "130/130 [==============================] - 1s 10ms/step - loss: 0.3976 - accuracy: 0.8108 - val_loss: 0.7615 - val_accuracy: 0.5344\n",
      "Epoch 14/100\n",
      "130/130 [==============================] - 1s 10ms/step - loss: 0.3902 - accuracy: 0.8169 - val_loss: 0.8650 - val_accuracy: 0.4022\n",
      "Epoch 15/100\n",
      "130/130 [==============================] - 1s 10ms/step - loss: 0.3918 - accuracy: 0.8092 - val_loss: 1.0648 - val_accuracy: 0.4380\n",
      "Epoch 16/100\n",
      "130/130 [==============================] - 1s 10ms/step - loss: 0.3364 - accuracy: 0.8454 - val_loss: 0.9757 - val_accuracy: 0.5317\n",
      "Epoch 17/100\n",
      "130/130 [==============================] - 1s 10ms/step - loss: 0.3167 - accuracy: 0.8677 - val_loss: 0.5647 - val_accuracy: 0.7245\n",
      "Epoch 18/100\n",
      "130/130 [==============================] - 1s 9ms/step - loss: 0.3626 - accuracy: 0.8338 - val_loss: 1.2929 - val_accuracy: 0.3829\n",
      "Epoch 19/100\n",
      "130/130 [==============================] - 1s 10ms/step - loss: 0.4047 - accuracy: 0.8054 - val_loss: 0.6127 - val_accuracy: 0.6667\n",
      "Epoch 20/100\n",
      "130/130 [==============================] - 1s 10ms/step - loss: 0.4674 - accuracy: 0.7777 - val_loss: 1.2723 - val_accuracy: 0.3939\n",
      "Epoch 21/100\n",
      "130/130 [==============================] - 1s 9ms/step - loss: 0.3422 - accuracy: 0.8515 - val_loss: 1.6083 - val_accuracy: 0.5069\n",
      "Epoch 22/100\n",
      "130/130 [==============================] - 1s 10ms/step - loss: 0.5197 - accuracy: 0.7446 - val_loss: 1.2308 - val_accuracy: 0.4821\n",
      "Epoch 23/100\n",
      "130/130 [==============================] - 1s 9ms/step - loss: 0.4699 - accuracy: 0.7585 - val_loss: 0.9858 - val_accuracy: 0.5069\n",
      "Epoch 24/100\n",
      "130/130 [==============================] - 1s 10ms/step - loss: 0.4234 - accuracy: 0.7815 - val_loss: 1.5032 - val_accuracy: 0.4601\n",
      "Epoch 25/100\n",
      "130/130 [==============================] - 1s 9ms/step - loss: 0.4264 - accuracy: 0.7769 - val_loss: 1.4512 - val_accuracy: 0.4187\n",
      "Epoch 26/100\n",
      "130/130 [==============================] - 1s 10ms/step - loss: 0.3273 - accuracy: 0.8331 - val_loss: 2.0070 - val_accuracy: 0.4959\n",
      "Epoch 27/100\n",
      "130/130 [==============================] - 1s 10ms/step - loss: 0.3092 - accuracy: 0.8754 - val_loss: 2.1075 - val_accuracy: 0.3333\n",
      "Epoch 28/100\n",
      "130/130 [==============================] - 1s 9ms/step - loss: 0.2831 - accuracy: 0.8738 - val_loss: 1.7861 - val_accuracy: 0.4628\n",
      "Epoch 29/100\n",
      "130/130 [==============================] - 1s 9ms/step - loss: 0.3558 - accuracy: 0.8362 - val_loss: 1.3291 - val_accuracy: 0.5207\n",
      "Epoch 30/100\n",
      "130/130 [==============================] - 1s 9ms/step - loss: 0.2452 - accuracy: 0.8831 - val_loss: 1.8478 - val_accuracy: 0.4463\n",
      "Epoch 31/100\n",
      "130/130 [==============================] - 1s 10ms/step - loss: 0.2660 - accuracy: 0.8962 - val_loss: 1.6016 - val_accuracy: 0.4573\n",
      "Epoch 32/100\n",
      "130/130 [==============================] - 1s 9ms/step - loss: 0.2338 - accuracy: 0.9085 - val_loss: 1.8182 - val_accuracy: 0.4242\n",
      "Epoch 33/100\n",
      "130/130 [==============================] - 1s 10ms/step - loss: 0.1832 - accuracy: 0.9323 - val_loss: 1.7473 - val_accuracy: 0.4353\n",
      "Epoch 34/100\n",
      "130/130 [==============================] - 1s 10ms/step - loss: 0.1733 - accuracy: 0.9262 - val_loss: 1.7850 - val_accuracy: 0.4160\n",
      "Epoch 35/100\n",
      "130/130 [==============================] - 1s 10ms/step - loss: 0.3084 - accuracy: 0.9031 - val_loss: 1.7459 - val_accuracy: 0.5510\n",
      "Epoch 36/100\n",
      "130/130 [==============================] - 1s 9ms/step - loss: 0.6853 - accuracy: 0.6908 - val_loss: 0.6807 - val_accuracy: 0.5620\n",
      "Epoch 37/100\n",
      "130/130 [==============================] - 1s 9ms/step - loss: 0.5379 - accuracy: 0.7485 - val_loss: 0.6751 - val_accuracy: 0.5427\n",
      "Epoch 38/100\n",
      "130/130 [==============================] - 1s 10ms/step - loss: 0.4475 - accuracy: 0.7846 - val_loss: 0.9292 - val_accuracy: 0.4298\n",
      "Epoch 39/100\n",
      "130/130 [==============================] - 1s 10ms/step - loss: 0.4233 - accuracy: 0.8023 - val_loss: 0.9024 - val_accuracy: 0.4353\n",
      "Epoch 40/100\n",
      "130/130 [==============================] - 1s 10ms/step - loss: 0.5742 - accuracy: 0.7269 - val_loss: 0.6857 - val_accuracy: 0.5950\n",
      "Epoch 41/100\n",
      "130/130 [==============================] - 1s 10ms/step - loss: 0.5109 - accuracy: 0.7431 - val_loss: 0.9323 - val_accuracy: 0.4325\n",
      "Epoch 42/100\n",
      "130/130 [==============================] - 1s 10ms/step - loss: 0.4480 - accuracy: 0.8015 - val_loss: 0.8518 - val_accuracy: 0.5207\n",
      "Epoch 43/100\n",
      "130/130 [==============================] - 1s 10ms/step - loss: 0.4306 - accuracy: 0.8100 - val_loss: 0.7485 - val_accuracy: 0.6033\n",
      "Epoch 44/100\n",
      "130/130 [==============================] - 1s 10ms/step - loss: 0.5007 - accuracy: 0.7646 - val_loss: 0.7530 - val_accuracy: 0.5978\n",
      "Epoch 45/100\n",
      "130/130 [==============================] - 1s 10ms/step - loss: 0.3984 - accuracy: 0.8308 - val_loss: 0.5675 - val_accuracy: 0.7080\n",
      "Epoch 46/100\n",
      "130/130 [==============================] - 1s 10ms/step - loss: 0.3436 - accuracy: 0.8569 - val_loss: 0.8153 - val_accuracy: 0.6226\n",
      "Epoch 47/100\n",
      "130/130 [==============================] - 1s 10ms/step - loss: 0.3803 - accuracy: 0.8477 - val_loss: 0.6146 - val_accuracy: 0.6915\n",
      "Epoch 48/100\n",
      "130/130 [==============================] - 1s 10ms/step - loss: 0.3407 - accuracy: 0.8638 - val_loss: 0.6330 - val_accuracy: 0.6970\n",
      "Epoch 49/100\n",
      "130/130 [==============================] - 1s 9ms/step - loss: 0.2542 - accuracy: 0.8938 - val_loss: 0.8919 - val_accuracy: 0.6061\n",
      "Epoch 50/100\n",
      "130/130 [==============================] - 1s 10ms/step - loss: 0.4677 - accuracy: 0.7969 - val_loss: 0.6581 - val_accuracy: 0.6226\n",
      "Epoch 51/100\n",
      "130/130 [==============================] - 1s 10ms/step - loss: 0.3018 - accuracy: 0.8885 - val_loss: 0.8646 - val_accuracy: 0.6639\n",
      "Epoch 52/100\n",
      "130/130 [==============================] - 1s 10ms/step - loss: 0.5610 - accuracy: 0.7485 - val_loss: 1.0701 - val_accuracy: 0.5041\n",
      "Epoch 53/100\n",
      "130/130 [==============================] - 1s 10ms/step - loss: 0.4865 - accuracy: 0.7946 - val_loss: 1.2841 - val_accuracy: 0.5152\n",
      "Epoch 54/100\n",
      "130/130 [==============================] - 1s 10ms/step - loss: 0.3719 - accuracy: 0.8492 - val_loss: 1.2988 - val_accuracy: 0.4187\n",
      "Epoch 55/100\n",
      "130/130 [==============================] - 1s 10ms/step - loss: 0.4098 - accuracy: 0.8308 - val_loss: 1.1247 - val_accuracy: 0.5537\n",
      "Epoch 56/100\n",
      "130/130 [==============================] - 1s 10ms/step - loss: 0.4559 - accuracy: 0.7977 - val_loss: 0.9103 - val_accuracy: 0.6309\n",
      "Epoch 57/100\n",
      "130/130 [==============================] - 1s 9ms/step - loss: 0.3269 - accuracy: 0.8669 - val_loss: 0.9249 - val_accuracy: 0.6612\n",
      "Epoch 58/100\n",
      "130/130 [==============================] - 1s 10ms/step - loss: 0.3437 - accuracy: 0.8569 - val_loss: 0.7415 - val_accuracy: 0.6474\n",
      "Epoch 59/100\n",
      "130/130 [==============================] - 1s 9ms/step - loss: 0.2709 - accuracy: 0.8946 - val_loss: 0.8269 - val_accuracy: 0.5923\n",
      "Epoch 60/100\n",
      "130/130 [==============================] - 1s 9ms/step - loss: 0.6115 - accuracy: 0.6746 - val_loss: 0.6449 - val_accuracy: 0.6088\n",
      "Epoch 61/100\n",
      "130/130 [==============================] - 1s 10ms/step - loss: 0.5042 - accuracy: 0.7331 - val_loss: 0.6223 - val_accuracy: 0.6309\n",
      "Epoch 62/100\n",
      "130/130 [==============================] - 1s 9ms/step - loss: 0.3607 - accuracy: 0.8100 - val_loss: 0.6348 - val_accuracy: 0.6474\n",
      "Epoch 63/100\n",
      "130/130 [==============================] - 1s 10ms/step - loss: 0.2655 - accuracy: 0.8746 - val_loss: 0.6508 - val_accuracy: 0.6501\n",
      "Epoch 64/100\n",
      "130/130 [==============================] - 1s 10ms/step - loss: 0.3905 - accuracy: 0.8162 - val_loss: 0.6042 - val_accuracy: 0.6777\n",
      "Epoch 65/100\n",
      "130/130 [==============================] - 1s 10ms/step - loss: 0.3747 - accuracy: 0.8354 - val_loss: 0.6727 - val_accuracy: 0.5455\n",
      "Epoch 66/100\n",
      "130/130 [==============================] - 1s 9ms/step - loss: 0.4492 - accuracy: 0.7831 - val_loss: 0.6238 - val_accuracy: 0.6171\n",
      "Epoch 67/100\n",
      "130/130 [==============================] - 1s 10ms/step - loss: 0.4035 - accuracy: 0.8238 - val_loss: 0.9779 - val_accuracy: 0.5399\n",
      "Epoch 68/100\n",
      "130/130 [==============================] - 1s 9ms/step - loss: 0.3587 - accuracy: 0.8485 - val_loss: 0.8986 - val_accuracy: 0.5289\n",
      "Epoch 69/100\n",
      "130/130 [==============================] - 1s 10ms/step - loss: 0.5680 - accuracy: 0.7438 - val_loss: 0.6704 - val_accuracy: 0.5730\n",
      "Epoch 70/100\n",
      "130/130 [==============================] - 1s 10ms/step - loss: 0.5920 - accuracy: 0.6723 - val_loss: 0.6822 - val_accuracy: 0.6281\n",
      "Epoch 71/100\n",
      "130/130 [==============================] - 1s 9ms/step - loss: 0.5818 - accuracy: 0.7038 - val_loss: 0.7445 - val_accuracy: 0.4270\n",
      "Epoch 72/100\n",
      "130/130 [==============================] - 1s 9ms/step - loss: 0.5654 - accuracy: 0.7115 - val_loss: 0.6821 - val_accuracy: 0.5455\n",
      "Epoch 73/100\n",
      "130/130 [==============================] - 1s 10ms/step - loss: 0.5487 - accuracy: 0.7300 - val_loss: 0.7337 - val_accuracy: 0.4986\n",
      "Epoch 74/100\n",
      "130/130 [==============================] - 1s 10ms/step - loss: 0.5270 - accuracy: 0.7185 - val_loss: 0.6735 - val_accuracy: 0.6198\n",
      "Epoch 75/100\n",
      "130/130 [==============================] - 1s 10ms/step - loss: 0.5114 - accuracy: 0.7438 - val_loss: 0.6682 - val_accuracy: 0.6116\n",
      "Epoch 76/100\n",
      "130/130 [==============================] - 1s 9ms/step - loss: 0.4893 - accuracy: 0.7646 - val_loss: 0.7237 - val_accuracy: 0.5758\n",
      "Epoch 77/100\n",
      "130/130 [==============================] - 1s 9ms/step - loss: 0.4513 - accuracy: 0.7969 - val_loss: 0.7232 - val_accuracy: 0.6088\n",
      "Epoch 78/100\n",
      "130/130 [==============================] - 1s 10ms/step - loss: 0.4816 - accuracy: 0.7838 - val_loss: 0.8614 - val_accuracy: 0.4545\n",
      "Epoch 79/100\n",
      "130/130 [==============================] - 1s 10ms/step - loss: 0.4134 - accuracy: 0.8200 - val_loss: 0.9000 - val_accuracy: 0.4545\n",
      "Epoch 80/100\n",
      "130/130 [==============================] - 1s 9ms/step - loss: 0.3721 - accuracy: 0.8554 - val_loss: 0.9611 - val_accuracy: 0.4187\n",
      "Epoch 81/100\n",
      "130/130 [==============================] - 1s 10ms/step - loss: 0.3712 - accuracy: 0.8438 - val_loss: 0.7936 - val_accuracy: 0.4601\n",
      "Epoch 82/100\n",
      "130/130 [==============================] - 1s 9ms/step - loss: 0.4534 - accuracy: 0.7646 - val_loss: 0.6262 - val_accuracy: 0.6694\n",
      "Epoch 83/100\n",
      "130/130 [==============================] - 1s 10ms/step - loss: 0.4645 - accuracy: 0.7754 - val_loss: 0.7130 - val_accuracy: 0.5785\n",
      "Epoch 84/100\n",
      "130/130 [==============================] - 1s 10ms/step - loss: 0.4492 - accuracy: 0.7931 - val_loss: 0.6498 - val_accuracy: 0.6556\n",
      "Epoch 85/100\n",
      "130/130 [==============================] - 1s 9ms/step - loss: 0.4141 - accuracy: 0.8231 - val_loss: 0.6330 - val_accuracy: 0.7300\n",
      "Epoch 86/100\n",
      "130/130 [==============================] - 1s 10ms/step - loss: 0.3217 - accuracy: 0.8700 - val_loss: 0.6285 - val_accuracy: 0.7163\n",
      "Epoch 87/100\n",
      "130/130 [==============================] - 1s 10ms/step - loss: 0.3412 - accuracy: 0.8569 - val_loss: 0.6632 - val_accuracy: 0.6253\n",
      "Epoch 88/100\n",
      "130/130 [==============================] - 1s 9ms/step - loss: 0.2774 - accuracy: 0.8938 - val_loss: 0.6881 - val_accuracy: 0.6446\n",
      "Epoch 89/100\n",
      "130/130 [==============================] - 1s 10ms/step - loss: 0.2480 - accuracy: 0.8938 - val_loss: 0.6426 - val_accuracy: 0.6887\n",
      "Epoch 90/100\n",
      "130/130 [==============================] - 1s 10ms/step - loss: 0.3497 - accuracy: 0.8592 - val_loss: 0.6124 - val_accuracy: 0.7245\n",
      "Epoch 91/100\n",
      "130/130 [==============================] - 1s 9ms/step - loss: 0.2910 - accuracy: 0.8754 - val_loss: 0.6113 - val_accuracy: 0.7576\n",
      "Epoch 92/100\n",
      "130/130 [==============================] - 1s 9ms/step - loss: 0.3343 - accuracy: 0.8492 - val_loss: 0.6344 - val_accuracy: 0.7383\n",
      "Epoch 93/100\n",
      "130/130 [==============================] - 1s 10ms/step - loss: 0.2163 - accuracy: 0.9085 - val_loss: 0.8776 - val_accuracy: 0.6419\n",
      "Epoch 94/100\n",
      "130/130 [==============================] - 1s 10ms/step - loss: 0.1934 - accuracy: 0.9238 - val_loss: 0.8124 - val_accuracy: 0.6556\n",
      "Epoch 95/100\n",
      "130/130 [==============================] - 1s 9ms/step - loss: 0.1840 - accuracy: 0.9231 - val_loss: 0.8084 - val_accuracy: 0.6804\n",
      "Epoch 96/100\n",
      "130/130 [==============================] - 1s 9ms/step - loss: 0.1673 - accuracy: 0.9285 - val_loss: 0.7804 - val_accuracy: 0.6832\n",
      "Epoch 97/100\n",
      "130/130 [==============================] - 1s 9ms/step - loss: 0.2247 - accuracy: 0.9131 - val_loss: 0.7827 - val_accuracy: 0.7383\n",
      "Epoch 98/100\n",
      "130/130 [==============================] - 1s 10ms/step - loss: 0.2223 - accuracy: 0.9108 - val_loss: 0.8220 - val_accuracy: 0.7107\n",
      "Epoch 99/100\n",
      "130/130 [==============================] - 1s 10ms/step - loss: 0.2616 - accuracy: 0.8900 - val_loss: 0.8670 - val_accuracy: 0.6667\n",
      "Epoch 100/100\n",
      "130/130 [==============================] - 1s 10ms/step - loss: 0.1764 - accuracy: 0.9346 - val_loss: 0.9152 - val_accuracy: 0.7080\n"
     ]
    }
   ],
   "source": [
    "hist = model.fit(x_train, y_train, epochs=100, batch_size= 10, validation_data= (x_test,y_test))"
   ]
  },
  {
   "cell_type": "code",
   "execution_count": 69,
   "id": "9497c5c7",
   "metadata": {
    "ExecuteTime": {
     "end_time": "2022-05-21T00:43:47.167467Z",
     "start_time": "2022-05-21T00:43:47.076740Z"
    }
   },
   "outputs": [
    {
     "data": {
      "text/plain": [
       "[<matplotlib.lines.Line2D at 0x1f326b11130>]"
      ]
     },
     "execution_count": 69,
     "metadata": {},
     "output_type": "execute_result"
    },
    {
     "data": {
      "image/png": "[encoded data removed]",
      "text/plain": [
       "<Figure size 432x288 with 1 Axes>"
      ]
     },
     "metadata": {
      "needs_background": "light"
     },
     "output_type": "display_data"
    }
   ],
   "source": [
    "plt.plot(hist.history['accuracy'])\n",
    "plt.plot(hist.history['val_accuracy'])"
   ]
  },
  {
   "cell_type": "code",
   "execution_count": 70,
   "id": "904ba01a",
   "metadata": {
    "ExecuteTime": {
     "end_time": "2022-05-21T00:44:19.551164Z",
     "start_time": "2022-05-21T00:44:19.449228Z"
    }
   },
   "outputs": [
    {
     "data": {
      "text/plain": [
       "[<matplotlib.lines.Line2D at 0x1f5697c6f10>]"
      ]
     },
     "execution_count": 70,
     "metadata": {},
     "output_type": "execute_result"
    },
    {
     "data": {
      "image/png": "[encoded data removed]",
      "text/plain": [
       "<Figure size 432x288 with 1 Axes>"
      ]
     },
     "metadata": {
      "needs_background": "light"
     },
     "output_type": "display_data"
    }
   ],
   "source": [
    "plt.plot(hist.history['loss'])\n",
    "plt.plot(hist.history['val_loss'])"
   ]
  },
  {
   "cell_type": "markdown",
   "id": "f150bd73",
   "metadata": {},
   "source": [
    "## 시티랩스 250 30일 20%"
   ]
  },
  {
   "cell_type": "code",
   "execution_count": 117,
   "id": "6a9c0df9",
   "metadata": {
    "ExecuteTime": {
     "end_time": "2022-05-21T03:53:14.820563Z",
     "start_time": "2022-05-21T03:52:21.304581Z"
    }
   },
   "outputs": [],
   "source": [
    "df = pd.read_csv('./data/적자기업모델데이터/시티랩스_모델데이터_scaler.csv',index_col=0)\n",
    "\n",
    "X, Y = model_xy(df,window_size=250, target_size=30, rapid_rate=0.15)"
   ]
  },
  {
   "cell_type": "code",
   "execution_count": 118,
   "id": "16737637",
   "metadata": {
    "ExecuteTime": {
     "end_time": "2022-05-21T03:53:14.899435Z",
     "start_time": "2022-05-21T03:53:14.884451Z"
    }
   },
   "outputs": [
    {
     "data": {
      "text/plain": [
       "(1663, 250, 22)"
      ]
     },
     "execution_count": 118,
     "metadata": {},
     "output_type": "execute_result"
    }
   ],
   "source": [
    "X.shape"
   ]
  },
  {
   "cell_type": "code",
   "execution_count": 119,
   "id": "55986c7e",
   "metadata": {
    "ExecuteTime": {
     "end_time": "2022-05-21T03:53:14.977229Z",
     "start_time": "2022-05-21T03:53:14.962242Z"
    }
   },
   "outputs": [],
   "source": [
    "train_test_split = 1300\n",
    "\n",
    "x_train = X[:1300]\n",
    "y_train = Y[:1300]\n",
    "\n",
    "x_test = X[1300:]\n",
    "y_test = Y[1300:]"
   ]
  },
  {
   "cell_type": "code",
   "execution_count": 120,
   "id": "6022f208",
   "metadata": {
    "ExecuteTime": {
     "end_time": "2022-05-21T03:53:15.228530Z",
     "start_time": "2022-05-21T03:53:15.042029Z"
    }
   },
   "outputs": [
    {
     "name": "stdout",
     "output_type": "stream",
     "text": [
      "Model: \"sequential_8\"\n",
      "_________________________________________________________________\n",
      " Layer (type)                Output Shape              Param #   \n",
      "=================================================================\n",
      " lstm_8 (LSTM)               (None, 50)                14600     \n",
      "                                                                 \n",
      " dense_8 (Dense)             (None, 1)                 51        \n",
      "                                                                 \n",
      "=================================================================\n",
      "Total params: 14,651\n",
      "Trainable params: 14,651\n",
      "Non-trainable params: 0\n",
      "_________________________________________________________________\n"
     ]
    }
   ],
   "source": [
    "with tf.device('/GPU:0'):\n",
    "    model2 = Sequential()\n",
    "    model2.add(LSTM(50, input_shape=(250,22)))\n",
    "    model2.add(Dense(1,activation='sigmoid'))\n",
    "    model2.summary()"
   ]
  },
  {
   "cell_type": "code",
   "execution_count": 121,
   "id": "dc2b4405",
   "metadata": {
    "ExecuteTime": {
     "end_time": "2022-05-21T03:55:22.956480Z",
     "start_time": "2022-05-21T03:53:15.294786Z"
    }
   },
   "outputs": [
    {
     "name": "stdout",
     "output_type": "stream",
     "text": [
      "Epoch 1/100\n",
      "130/130 [==============================] - 2s 12ms/step - loss: 0.4775 - accuracy: 0.7946 - val_loss: 0.6135 - val_accuracy: 0.7080\n",
      "Epoch 2/100\n",
      "130/130 [==============================] - 1s 10ms/step - loss: 0.4867 - accuracy: 0.8008 - val_loss: 0.6675 - val_accuracy: 0.7080\n",
      "Epoch 3/100\n",
      "130/130 [==============================] - 1s 10ms/step - loss: 0.4868 - accuracy: 0.8000 - val_loss: 0.7161 - val_accuracy: 0.7080\n",
      "Epoch 4/100\n",
      "130/130 [==============================] - 1s 9ms/step - loss: 0.4678 - accuracy: 0.8023 - val_loss: 0.5861 - val_accuracy: 0.7080\n",
      "Epoch 5/100\n",
      "130/130 [==============================] - 1s 10ms/step - loss: 0.4458 - accuracy: 0.8115 - val_loss: 0.7106 - val_accuracy: 0.7080\n",
      "Epoch 6/100\n",
      "130/130 [==============================] - 1s 10ms/step - loss: 0.4383 - accuracy: 0.8085 - val_loss: 0.7215 - val_accuracy: 0.7080\n",
      "Epoch 7/100\n",
      "130/130 [==============================] - 1s 10ms/step - loss: 0.4315 - accuracy: 0.8115 - val_loss: 0.6561 - val_accuracy: 0.7080\n",
      "Epoch 8/100\n",
      "130/130 [==============================] - 1s 10ms/step - loss: 0.4329 - accuracy: 0.8185 - val_loss: 0.6529 - val_accuracy: 0.7080\n",
      "Epoch 9/100\n",
      "130/130 [==============================] - 1s 10ms/step - loss: 0.4133 - accuracy: 0.8138 - val_loss: 0.7879 - val_accuracy: 0.7080\n",
      "Epoch 10/100\n",
      "130/130 [==============================] - 1s 10ms/step - loss: 0.4114 - accuracy: 0.8185 - val_loss: 0.6915 - val_accuracy: 0.7080\n",
      "Epoch 11/100\n",
      "130/130 [==============================] - 1s 10ms/step - loss: 0.4027 - accuracy: 0.8308 - val_loss: 0.7402 - val_accuracy: 0.7080\n",
      "Epoch 12/100\n",
      "130/130 [==============================] - 1s 10ms/step - loss: 0.4058 - accuracy: 0.8346 - val_loss: 0.5299 - val_accuracy: 0.7548\n",
      "Epoch 13/100\n",
      "130/130 [==============================] - 1s 10ms/step - loss: 0.4041 - accuracy: 0.8208 - val_loss: 0.8690 - val_accuracy: 0.7080\n",
      "Epoch 14/100\n",
      "130/130 [==============================] - 1s 10ms/step - loss: 0.3862 - accuracy: 0.8400 - val_loss: 0.9204 - val_accuracy: 0.7080\n",
      "Epoch 15/100\n",
      "130/130 [==============================] - 1s 10ms/step - loss: 0.3572 - accuracy: 0.8600 - val_loss: 0.9541 - val_accuracy: 0.7080\n",
      "Epoch 16/100\n",
      "130/130 [==============================] - 1s 10ms/step - loss: 0.2975 - accuracy: 0.8800 - val_loss: 1.1768 - val_accuracy: 0.7080\n",
      "Epoch 17/100\n",
      "130/130 [==============================] - 1s 10ms/step - loss: 0.4530 - accuracy: 0.8246 - val_loss: 0.7796 - val_accuracy: 0.7080\n",
      "Epoch 18/100\n",
      "130/130 [==============================] - 1s 10ms/step - loss: 0.4251 - accuracy: 0.8131 - val_loss: 0.8744 - val_accuracy: 0.7080\n",
      "Epoch 19/100\n",
      "130/130 [==============================] - 1s 10ms/step - loss: 0.4071 - accuracy: 0.8308 - val_loss: 0.8810 - val_accuracy: 0.7080\n",
      "Epoch 20/100\n",
      "130/130 [==============================] - 1s 10ms/step - loss: 0.4226 - accuracy: 0.8262 - val_loss: 1.2051 - val_accuracy: 0.7080\n",
      "Epoch 21/100\n",
      "130/130 [==============================] - 1s 10ms/step - loss: 0.4230 - accuracy: 0.8215 - val_loss: 1.0539 - val_accuracy: 0.7080\n",
      "Epoch 22/100\n",
      "130/130 [==============================] - 1s 10ms/step - loss: 0.3310 - accuracy: 0.8438 - val_loss: 1.1348 - val_accuracy: 0.7080\n",
      "Epoch 23/100\n",
      "130/130 [==============================] - 1s 10ms/step - loss: 0.3673 - accuracy: 0.8623 - val_loss: 0.9073 - val_accuracy: 0.7080\n",
      "Epoch 24/100\n",
      "130/130 [==============================] - 1s 10ms/step - loss: 0.3477 - accuracy: 0.8646 - val_loss: 1.1767 - val_accuracy: 0.7080\n",
      "Epoch 25/100\n",
      "130/130 [==============================] - 1s 9ms/step - loss: 0.3095 - accuracy: 0.8785 - val_loss: 1.4158 - val_accuracy: 0.7080\n",
      "Epoch 26/100\n",
      "130/130 [==============================] - 1s 10ms/step - loss: 0.4399 - accuracy: 0.8308 - val_loss: 0.8741 - val_accuracy: 0.7080\n",
      "Epoch 27/100\n",
      "130/130 [==============================] - 1s 10ms/step - loss: 0.3870 - accuracy: 0.8292 - val_loss: 1.2690 - val_accuracy: 0.7080\n",
      "Epoch 28/100\n",
      "130/130 [==============================] - 1s 10ms/step - loss: 0.4419 - accuracy: 0.8246 - val_loss: 0.7528 - val_accuracy: 0.7080\n",
      "Epoch 29/100\n",
      "130/130 [==============================] - 1s 10ms/step - loss: 0.3718 - accuracy: 0.8423 - val_loss: 1.2109 - val_accuracy: 0.7080\n",
      "Epoch 30/100\n",
      "130/130 [==============================] - 1s 10ms/step - loss: 0.3006 - accuracy: 0.8754 - val_loss: 1.2472 - val_accuracy: 0.7080\n",
      "Epoch 31/100\n",
      "130/130 [==============================] - 1s 10ms/step - loss: 0.3977 - accuracy: 0.8423 - val_loss: 1.2834 - val_accuracy: 0.7080\n",
      "Epoch 32/100\n",
      "130/130 [==============================] - 1s 10ms/step - loss: 0.3135 - accuracy: 0.8831 - val_loss: 1.4578 - val_accuracy: 0.7080\n",
      "Epoch 33/100\n",
      "130/130 [==============================] - 1s 10ms/step - loss: 0.2832 - accuracy: 0.8846 - val_loss: 1.5350 - val_accuracy: 0.7080\n",
      "Epoch 34/100\n",
      "130/130 [==============================] - 1s 10ms/step - loss: 0.2417 - accuracy: 0.9200 - val_loss: 1.6983 - val_accuracy: 0.7080\n",
      "Epoch 35/100\n",
      "130/130 [==============================] - 1s 10ms/step - loss: 0.2473 - accuracy: 0.9085 - val_loss: 1.7150 - val_accuracy: 0.7080\n",
      "Epoch 36/100\n",
      "130/130 [==============================] - 1s 10ms/step - loss: 0.2130 - accuracy: 0.9269 - val_loss: 1.7800 - val_accuracy: 0.7080\n",
      "Epoch 37/100\n",
      "130/130 [==============================] - 1s 10ms/step - loss: 0.2284 - accuracy: 0.9200 - val_loss: 1.7997 - val_accuracy: 0.7080\n",
      "Epoch 38/100\n",
      "130/130 [==============================] - 1s 10ms/step - loss: 0.1930 - accuracy: 0.9331 - val_loss: 1.7019 - val_accuracy: 0.7080\n",
      "Epoch 39/100\n",
      "130/130 [==============================] - 1s 10ms/step - loss: 0.1786 - accuracy: 0.9369 - val_loss: 1.9780 - val_accuracy: 0.7080\n",
      "Epoch 40/100\n",
      "130/130 [==============================] - 1s 10ms/step - loss: 0.1783 - accuracy: 0.9323 - val_loss: 2.0598 - val_accuracy: 0.7080\n",
      "Epoch 41/100\n",
      "130/130 [==============================] - 1s 10ms/step - loss: 0.2953 - accuracy: 0.8923 - val_loss: 1.4551 - val_accuracy: 0.7080\n",
      "Epoch 42/100\n",
      "130/130 [==============================] - 1s 10ms/step - loss: 0.4857 - accuracy: 0.8046 - val_loss: 0.8507 - val_accuracy: 0.7080\n",
      "Epoch 43/100\n",
      "130/130 [==============================] - 1s 10ms/step - loss: 0.4060 - accuracy: 0.8231 - val_loss: 1.1327 - val_accuracy: 0.7080\n",
      "Epoch 44/100\n",
      "130/130 [==============================] - 1s 10ms/step - loss: 0.2896 - accuracy: 0.8885 - val_loss: 1.4270 - val_accuracy: 0.7080\n",
      "Epoch 45/100\n",
      "130/130 [==============================] - 1s 10ms/step - loss: 0.2038 - accuracy: 0.9269 - val_loss: 1.5801 - val_accuracy: 0.7080\n",
      "Epoch 46/100\n",
      "130/130 [==============================] - 1s 10ms/step - loss: 0.1920 - accuracy: 0.9285 - val_loss: 1.6481 - val_accuracy: 0.7080\n",
      "Epoch 47/100\n",
      "130/130 [==============================] - 1s 10ms/step - loss: 0.4466 - accuracy: 0.8269 - val_loss: 1.0069 - val_accuracy: 0.7080\n",
      "Epoch 48/100\n",
      "130/130 [==============================] - 1s 10ms/step - loss: 0.3336 - accuracy: 0.8608 - val_loss: 1.3056 - val_accuracy: 0.7080\n",
      "Epoch 49/100\n",
      "130/130 [==============================] - 1s 10ms/step - loss: 0.2927 - accuracy: 0.8923 - val_loss: 1.3548 - val_accuracy: 0.7080\n",
      "Epoch 50/100\n",
      "130/130 [==============================] - 1s 10ms/step - loss: 0.2124 - accuracy: 0.9185 - val_loss: 1.4575 - val_accuracy: 0.7080\n",
      "Epoch 51/100\n",
      "130/130 [==============================] - 1s 10ms/step - loss: 0.1726 - accuracy: 0.9346 - val_loss: 1.6095 - val_accuracy: 0.7080\n",
      "Epoch 52/100\n",
      "130/130 [==============================] - 1s 10ms/step - loss: 0.1557 - accuracy: 0.9438 - val_loss: 1.6351 - val_accuracy: 0.7080\n",
      "Epoch 53/100\n",
      "130/130 [==============================] - 1s 10ms/step - loss: 0.2537 - accuracy: 0.9131 - val_loss: 1.5719 - val_accuracy: 0.7080\n",
      "Epoch 54/100\n",
      "130/130 [==============================] - 1s 10ms/step - loss: 0.1660 - accuracy: 0.9331 - val_loss: 1.6120 - val_accuracy: 0.7080\n",
      "Epoch 55/100\n",
      "130/130 [==============================] - 1s 10ms/step - loss: 0.1524 - accuracy: 0.9500 - val_loss: 1.7689 - val_accuracy: 0.7080\n",
      "Epoch 56/100\n",
      "130/130 [==============================] - 1s 10ms/step - loss: 0.5786 - accuracy: 0.8000 - val_loss: 1.1358 - val_accuracy: 0.7080\n",
      "Epoch 57/100\n",
      "130/130 [==============================] - 1s 10ms/step - loss: 0.4389 - accuracy: 0.8069 - val_loss: 1.4139 - val_accuracy: 0.7080\n",
      "Epoch 58/100\n",
      "130/130 [==============================] - 1s 10ms/step - loss: 0.4142 - accuracy: 0.8215 - val_loss: 1.5005 - val_accuracy: 0.7080\n",
      "Epoch 59/100\n",
      "130/130 [==============================] - 1s 10ms/step - loss: 0.4089 - accuracy: 0.8331 - val_loss: 1.4046 - val_accuracy: 0.7080\n",
      "Epoch 60/100\n",
      "130/130 [==============================] - 1s 10ms/step - loss: 0.4006 - accuracy: 0.8400 - val_loss: 1.4069 - val_accuracy: 0.7080\n",
      "Epoch 61/100\n",
      "130/130 [==============================] - 1s 10ms/step - loss: 0.3873 - accuracy: 0.8446 - val_loss: 1.4005 - val_accuracy: 0.7080\n",
      "Epoch 62/100\n",
      "130/130 [==============================] - 1s 10ms/step - loss: 0.3522 - accuracy: 0.8608 - val_loss: 1.4650 - val_accuracy: 0.7080\n",
      "Epoch 63/100\n",
      "130/130 [==============================] - 1s 10ms/step - loss: 0.2520 - accuracy: 0.8992 - val_loss: 1.5387 - val_accuracy: 0.7080\n",
      "Epoch 64/100\n",
      "130/130 [==============================] - 1s 10ms/step - loss: 0.2066 - accuracy: 0.9169 - val_loss: 1.5751 - val_accuracy: 0.7080\n",
      "Epoch 65/100\n",
      "130/130 [==============================] - 1s 10ms/step - loss: 0.5151 - accuracy: 0.7985 - val_loss: 1.0294 - val_accuracy: 0.7080\n",
      "Epoch 66/100\n",
      "130/130 [==============================] - 1s 10ms/step - loss: 0.4193 - accuracy: 0.8215 - val_loss: 1.1549 - val_accuracy: 0.7080\n",
      "Epoch 67/100\n",
      "130/130 [==============================] - 1s 10ms/step - loss: 0.3912 - accuracy: 0.8377 - val_loss: 1.2748 - val_accuracy: 0.7080\n",
      "Epoch 68/100\n",
      "130/130 [==============================] - 1s 10ms/step - loss: 0.3632 - accuracy: 0.8500 - val_loss: 1.3651 - val_accuracy: 0.7080\n",
      "Epoch 69/100\n",
      "130/130 [==============================] - 1s 10ms/step - loss: 0.2958 - accuracy: 0.8715 - val_loss: 1.4693 - val_accuracy: 0.7080\n",
      "Epoch 70/100\n",
      "130/130 [==============================] - 1s 10ms/step - loss: 0.2719 - accuracy: 0.8792 - val_loss: 1.4789 - val_accuracy: 0.7080\n",
      "Epoch 71/100\n",
      "130/130 [==============================] - 1s 10ms/step - loss: 0.2029 - accuracy: 0.9262 - val_loss: 1.5441 - val_accuracy: 0.7080\n",
      "Epoch 72/100\n",
      "130/130 [==============================] - 1s 10ms/step - loss: 0.1808 - accuracy: 0.9208 - val_loss: 1.5624 - val_accuracy: 0.7080\n",
      "Epoch 73/100\n",
      "130/130 [==============================] - 1s 10ms/step - loss: 0.1375 - accuracy: 0.9462 - val_loss: 1.5814 - val_accuracy: 0.7080\n",
      "Epoch 74/100\n",
      "130/130 [==============================] - 1s 10ms/step - loss: 0.1123 - accuracy: 0.9615 - val_loss: 1.5492 - val_accuracy: 0.7080\n",
      "Epoch 75/100\n",
      "130/130 [==============================] - 1s 9ms/step - loss: 0.0854 - accuracy: 0.9692 - val_loss: 1.6735 - val_accuracy: 0.7080\n",
      "Epoch 76/100\n",
      "130/130 [==============================] - 1s 10ms/step - loss: 0.1160 - accuracy: 0.9631 - val_loss: 1.7143 - val_accuracy: 0.7080\n",
      "Epoch 77/100\n",
      "130/130 [==============================] - 1s 10ms/step - loss: 0.3364 - accuracy: 0.8800 - val_loss: 1.3788 - val_accuracy: 0.7080\n",
      "Epoch 78/100\n",
      "130/130 [==============================] - 1s 10ms/step - loss: 0.1053 - accuracy: 0.9631 - val_loss: 1.6313 - val_accuracy: 0.7080\n",
      "Epoch 79/100\n",
      "130/130 [==============================] - 1s 10ms/step - loss: 0.0697 - accuracy: 0.9777 - val_loss: 1.7827 - val_accuracy: 0.7080\n",
      "Epoch 80/100\n",
      "130/130 [==============================] - 1s 10ms/step - loss: 0.0988 - accuracy: 0.9623 - val_loss: 1.8592 - val_accuracy: 0.7080\n",
      "Epoch 81/100\n",
      "130/130 [==============================] - 1s 10ms/step - loss: 0.1371 - accuracy: 0.9477 - val_loss: 1.6173 - val_accuracy: 0.6915\n",
      "Epoch 82/100\n",
      "130/130 [==============================] - 1s 10ms/step - loss: 0.0540 - accuracy: 0.9800 - val_loss: 1.7986 - val_accuracy: 0.7080\n",
      "Epoch 83/100\n",
      "130/130 [==============================] - 1s 9ms/step - loss: 0.1929 - accuracy: 0.9285 - val_loss: 1.8077 - val_accuracy: 0.7080\n",
      "Epoch 84/100\n",
      "130/130 [==============================] - 1s 10ms/step - loss: 0.3416 - accuracy: 0.8800 - val_loss: 0.8474 - val_accuracy: 0.7906\n",
      "Epoch 85/100\n",
      "130/130 [==============================] - 1s 10ms/step - loss: 0.1770 - accuracy: 0.9362 - val_loss: 1.2159 - val_accuracy: 0.7631\n",
      "Epoch 86/100\n",
      "130/130 [==============================] - 1s 10ms/step - loss: 0.1449 - accuracy: 0.9408 - val_loss: 1.3160 - val_accuracy: 0.7741\n",
      "Epoch 87/100\n",
      "130/130 [==============================] - 1s 10ms/step - loss: 0.0841 - accuracy: 0.9738 - val_loss: 1.4359 - val_accuracy: 0.7631\n",
      "Epoch 88/100\n",
      "130/130 [==============================] - 1s 9ms/step - loss: 0.1356 - accuracy: 0.9500 - val_loss: 1.4881 - val_accuracy: 0.7576\n",
      "Epoch 89/100\n",
      "130/130 [==============================] - 1s 9ms/step - loss: 0.1045 - accuracy: 0.9654 - val_loss: 1.6275 - val_accuracy: 0.7410\n",
      "Epoch 90/100\n",
      "130/130 [==============================] - 1s 10ms/step - loss: 0.0875 - accuracy: 0.9708 - val_loss: 1.8667 - val_accuracy: 0.6970\n",
      "Epoch 91/100\n",
      "130/130 [==============================] - 1s 9ms/step - loss: 0.0964 - accuracy: 0.9638 - val_loss: 1.3046 - val_accuracy: 0.7163\n",
      "Epoch 92/100\n",
      "130/130 [==============================] - 1s 10ms/step - loss: 0.0594 - accuracy: 0.9800 - val_loss: 1.4105 - val_accuracy: 0.7631\n",
      "Epoch 93/100\n",
      "130/130 [==============================] - 1s 10ms/step - loss: 0.0637 - accuracy: 0.9762 - val_loss: 1.5740 - val_accuracy: 0.7521\n",
      "Epoch 94/100\n",
      "130/130 [==============================] - 1s 10ms/step - loss: 0.0428 - accuracy: 0.9831 - val_loss: 1.5412 - val_accuracy: 0.7686\n",
      "Epoch 95/100\n",
      "130/130 [==============================] - 1s 10ms/step - loss: 0.0373 - accuracy: 0.9877 - val_loss: 2.0631 - val_accuracy: 0.6777\n",
      "Epoch 96/100\n",
      "130/130 [==============================] - 1s 10ms/step - loss: 0.0585 - accuracy: 0.9785 - val_loss: 1.5003 - val_accuracy: 0.7135\n",
      "Epoch 97/100\n",
      "130/130 [==============================] - 1s 10ms/step - loss: 0.3326 - accuracy: 0.8877 - val_loss: 1.6579 - val_accuracy: 0.6915\n",
      "Epoch 98/100\n",
      "130/130 [==============================] - 1s 10ms/step - loss: 0.1088 - accuracy: 0.9631 - val_loss: 1.3771 - val_accuracy: 0.7466\n",
      "Epoch 99/100\n",
      "130/130 [==============================] - 1s 10ms/step - loss: 0.0560 - accuracy: 0.9808 - val_loss: 1.4914 - val_accuracy: 0.7080\n",
      "Epoch 100/100\n",
      "130/130 [==============================] - 1s 9ms/step - loss: 0.0438 - accuracy: 0.9862 - val_loss: 1.6783 - val_accuracy: 0.6942\n"
     ]
    }
   ],
   "source": [
    "# learning rate 설정\n",
    "Adam = tf.keras.optimizers.Adam(learning_rate=0.001)\n",
    "model2.compile(loss='binary_crossentropy', metrics ='accuracy', optimizer=Adam)\n",
    "hist2 = model2.fit(x_train, y_train, epochs=100, batch_size= 10, validation_data= (x_test,y_test))"
   ]
  },
  {
   "cell_type": "code",
   "execution_count": 122,
   "id": "c64a6808",
   "metadata": {
    "ExecuteTime": {
     "end_time": "2022-05-21T03:55:23.111878Z",
     "start_time": "2022-05-21T03:55:23.018458Z"
    }
   },
   "outputs": [
    {
     "data": {
      "image/png": "[encoded data removed]",
      "text/plain": [
       "<Figure size 432x288 with 1 Axes>"
      ]
     },
     "metadata": {
      "needs_background": "light"
     },
     "output_type": "display_data"
    }
   ],
   "source": [
    "result_acc(hist2)"
   ]
  },
  {
   "cell_type": "code",
   "execution_count": 123,
   "id": "05ed659f",
   "metadata": {
    "ExecuteTime": {
     "end_time": "2022-05-21T03:55:23.482152Z",
     "start_time": "2022-05-21T03:55:23.373900Z"
    }
   },
   "outputs": [
    {
     "data": {
      "image/png": "[encoded data removed]",
      "text/plain": [
       "<Figure size 432x288 with 1 Axes>"
      ]
     },
     "metadata": {
      "needs_background": "light"
     },
     "output_type": "display_data"
    }
   ],
   "source": [
    "result_loss(hist2)"
   ]
  },
  {
   "cell_type": "code",
   "execution_count": 124,
   "id": "f03e854b",
   "metadata": {
    "ExecuteTime": {
     "end_time": "2022-05-21T03:55:23.560645Z",
     "start_time": "2022-05-21T03:55:23.546657Z"
    }
   },
   "outputs": [
    {
     "data": {
      "text/plain": [
       "array([0., 0., 0., 0., 0., 0., 0., 0., 0., 0., 0., 0., 0., 0., 0., 0., 0.,\n",
       "       0., 0., 0., 0., 0., 0., 0., 0., 0., 1., 1., 1., 1., 1., 1., 1., 1.,\n",
       "       1., 1., 1., 1., 1., 1., 1., 1., 1., 1., 1., 1., 1., 1., 1., 1., 1.,\n",
       "       1., 1., 1., 1., 1., 1., 1., 1., 1., 1., 1., 1., 1., 1., 1., 1., 0.,\n",
       "       0., 0., 0., 0., 1., 1., 1., 1., 1., 1., 1., 1., 1., 1., 1., 1., 1.,\n",
       "       1., 1., 1., 1., 1., 1., 1., 1., 1., 1., 1., 1., 1., 1., 1., 1., 1.,\n",
       "       1., 0., 0., 0., 0., 0., 0., 0., 0., 0., 0., 0., 0., 0., 0., 0., 0.,\n",
       "       0., 0., 0., 0., 0., 0., 0., 0., 0., 0., 0., 0., 0., 0., 0., 0., 0.,\n",
       "       0., 0., 0., 0., 0., 0., 0., 0., 0., 0., 0., 0., 0., 0., 0., 0., 0.,\n",
       "       0., 0., 0., 0., 0., 0., 0., 0., 0., 0., 0., 0., 0., 0., 0., 0., 0.,\n",
       "       0., 0., 0., 0., 0., 0., 0., 0., 0., 0., 0., 0., 0., 0., 0., 0., 0.,\n",
       "       0., 0., 0., 0., 0., 0., 0., 0., 0., 0., 0., 0., 0., 0., 0., 0., 0.,\n",
       "       0., 0., 0., 0., 0., 0., 0., 0., 0., 0., 0., 0., 0., 0., 0., 0., 0.,\n",
       "       0., 0., 0., 0., 0., 0., 0., 0., 0., 0., 0., 0., 0., 0., 0., 0., 0.,\n",
       "       0., 0., 0., 0., 0., 0., 0., 0., 0., 0., 0., 0., 0., 0., 0., 0., 0.,\n",
       "       0., 0., 0., 0., 0., 0., 0., 0., 0., 0., 0., 0., 0., 0., 0., 0., 0.,\n",
       "       0., 0., 0., 0., 0., 0., 0., 0., 0., 0., 0., 0., 0., 0., 0., 0., 0.,\n",
       "       0., 0., 0., 0., 0., 0., 0., 0., 0., 0., 0., 0., 0., 0., 0., 0., 0.,\n",
       "       0., 0., 0., 0., 0., 0., 0., 0., 0., 0., 0., 0., 0., 0., 0., 0., 0.,\n",
       "       1., 1., 1., 1., 1., 1., 1., 1., 1., 1., 1., 1., 1., 1., 1., 1., 1.,\n",
       "       1., 1., 1., 1., 1., 1., 1., 1., 1., 1., 1., 1., 1., 1., 1., 1., 1.,\n",
       "       0., 0., 0., 0., 0., 0.])"
      ]
     },
     "execution_count": 124,
     "metadata": {},
     "output_type": "execute_result"
    }
   ],
   "source": [
    "y_test"
   ]
  },
  {
   "cell_type": "code",
   "execution_count": null,
   "id": "ebb57faa",
   "metadata": {},
   "outputs": [],
   "source": []
  },
  {
   "cell_type": "code",
   "execution_count": null,
   "id": "4c1a05c3",
   "metadata": {},
   "outputs": [],
   "source": []
  },
  {
   "cell_type": "markdown",
   "id": "8af2abce",
   "metadata": {},
   "source": [
    "## 시티랩스 500 10일 10%"
   ]
  },
  {
   "cell_type": "code",
   "execution_count": 125,
   "id": "ace74e22",
   "metadata": {
    "ExecuteTime": {
     "end_time": "2022-05-21T14:27:56.119963Z",
     "start_time": "2022-05-21T14:26:22.159828Z"
    }
   },
   "outputs": [],
   "source": [
    "df = pd.read_csv('./data/적자기업모델데이터/시티랩스_모델데이터_scaler.csv',index_col=0)\n",
    "\n",
    "X, Y = model_xy(df,window_size=500, target_size=10, rapid_rate=0.1)"
   ]
  },
  {
   "cell_type": "code",
   "execution_count": 126,
   "id": "5d715d2c",
   "metadata": {
    "ExecuteTime": {
     "end_time": "2022-05-21T14:27:56.198856Z",
     "start_time": "2022-05-21T14:27:56.184063Z"
    }
   },
   "outputs": [
    {
     "data": {
      "text/plain": [
       "(1433, 500, 22)"
      ]
     },
     "execution_count": 126,
     "metadata": {},
     "output_type": "execute_result"
    }
   ],
   "source": [
    "X.shape"
   ]
  },
  {
   "cell_type": "code",
   "execution_count": 127,
   "id": "95866032",
   "metadata": {
    "ExecuteTime": {
     "end_time": "2022-05-21T14:28:38.794731Z",
     "start_time": "2022-05-21T14:28:38.622195Z"
    }
   },
   "outputs": [
    {
     "name": "stdout",
     "output_type": "stream",
     "text": [
      "Model: \"sequential_9\"\n",
      "_________________________________________________________________\n",
      " Layer (type)                Output Shape              Param #   \n",
      "=================================================================\n",
      " lstm_9 (LSTM)               (None, 50)                14600     \n",
      "                                                                 \n",
      " dense_9 (Dense)             (None, 1)                 51        \n",
      "                                                                 \n",
      "=================================================================\n",
      "Total params: 14,651\n",
      "Trainable params: 14,651\n",
      "Non-trainable params: 0\n",
      "_________________________________________________________________\n"
     ]
    }
   ],
   "source": [
    "train_test_split = 1300\n",
    "\n",
    "x_train = X[:1300]\n",
    "y_train = Y[:1300]\n",
    "\n",
    "x_test = X[1300:]\n",
    "y_test = Y[1300:]\n",
    "\n",
    "with tf.device('/GPU:0'):\n",
    "    model3 = Sequential()\n",
    "    model3.add(LSTM(50, input_shape=(500,22)))\n",
    "    model3.add(Dense(1,activation='sigmoid'))\n",
    "    model3.summary()"
   ]
  },
  {
   "cell_type": "code",
   "execution_count": 128,
   "id": "eac65e49",
   "metadata": {
    "ExecuteTime": {
     "end_time": "2022-05-21T14:31:45.149632Z",
     "start_time": "2022-05-21T14:28:38.857837Z"
    },
    "scrolled": true
   },
   "outputs": [
    {
     "name": "stdout",
     "output_type": "stream",
     "text": [
      "Epoch 1/100\n",
      "130/130 [==============================] - 3s 17ms/step - loss: 0.4757 - accuracy: 0.8085 - val_loss: 0.4340 - val_accuracy: 0.8571\n",
      "Epoch 2/100\n",
      "130/130 [==============================] - 2s 14ms/step - loss: 0.4555 - accuracy: 0.8169 - val_loss: 0.4063 - val_accuracy: 0.8571\n",
      "Epoch 3/100\n",
      "130/130 [==============================] - 2s 14ms/step - loss: 0.4508 - accuracy: 0.8177 - val_loss: 0.3868 - val_accuracy: 0.8571\n",
      "Epoch 4/100\n",
      "130/130 [==============================] - 2s 14ms/step - loss: 0.4293 - accuracy: 0.8208 - val_loss: 0.4440 - val_accuracy: 0.8571\n",
      "Epoch 5/100\n",
      "130/130 [==============================] - 2s 14ms/step - loss: 0.4301 - accuracy: 0.8238 - val_loss: 0.3921 - val_accuracy: 0.8571\n",
      "Epoch 6/100\n",
      "130/130 [==============================] - 2s 14ms/step - loss: 0.3941 - accuracy: 0.8285 - val_loss: 0.5761 - val_accuracy: 0.8571\n",
      "Epoch 7/100\n",
      "130/130 [==============================] - 2s 14ms/step - loss: 0.3914 - accuracy: 0.8392 - val_loss: 0.5717 - val_accuracy: 0.8195\n",
      "Epoch 8/100\n",
      "130/130 [==============================] - 2s 14ms/step - loss: 0.3412 - accuracy: 0.8438 - val_loss: 0.7279 - val_accuracy: 0.8271\n",
      "Epoch 9/100\n",
      "130/130 [==============================] - 2s 14ms/step - loss: 0.3692 - accuracy: 0.8415 - val_loss: 0.4001 - val_accuracy: 0.8571\n",
      "Epoch 10/100\n",
      "130/130 [==============================] - 2s 14ms/step - loss: 0.4089 - accuracy: 0.8254 - val_loss: 0.3829 - val_accuracy: 0.8571\n",
      "Epoch 11/100\n",
      "130/130 [==============================] - 2s 14ms/step - loss: 0.3872 - accuracy: 0.8308 - val_loss: 0.4255 - val_accuracy: 0.8647\n",
      "Epoch 12/100\n",
      "130/130 [==============================] - 2s 14ms/step - loss: 0.3330 - accuracy: 0.8485 - val_loss: 0.3507 - val_accuracy: 0.8647\n",
      "Epoch 13/100\n",
      "130/130 [==============================] - 2s 14ms/step - loss: 0.3093 - accuracy: 0.8646 - val_loss: 0.4359 - val_accuracy: 0.8571\n",
      "Epoch 14/100\n",
      "130/130 [==============================] - 2s 14ms/step - loss: 0.3616 - accuracy: 0.8477 - val_loss: 0.4492 - val_accuracy: 0.8571\n",
      "Epoch 15/100\n",
      "130/130 [==============================] - 2s 14ms/step - loss: 0.2772 - accuracy: 0.8846 - val_loss: 0.5965 - val_accuracy: 0.7293\n",
      "Epoch 16/100\n",
      "130/130 [==============================] - 2s 14ms/step - loss: 0.2631 - accuracy: 0.8854 - val_loss: 0.4363 - val_accuracy: 0.7820\n",
      "Epoch 17/100\n",
      "130/130 [==============================] - 2s 14ms/step - loss: 0.2681 - accuracy: 0.8777 - val_loss: 0.5779 - val_accuracy: 0.8120\n",
      "Epoch 18/100\n",
      "130/130 [==============================] - 2s 14ms/step - loss: 0.2658 - accuracy: 0.8854 - val_loss: 0.5776 - val_accuracy: 0.8571\n",
      "Epoch 19/100\n",
      "130/130 [==============================] - 2s 14ms/step - loss: 0.2280 - accuracy: 0.9015 - val_loss: 0.7348 - val_accuracy: 0.6992\n",
      "Epoch 20/100\n",
      "130/130 [==============================] - 2s 14ms/step - loss: 0.2172 - accuracy: 0.9192 - val_loss: 0.6034 - val_accuracy: 0.7143\n",
      "Epoch 21/100\n",
      "130/130 [==============================] - 2s 14ms/step - loss: 0.1969 - accuracy: 0.9292 - val_loss: 0.8784 - val_accuracy: 0.6617\n",
      "Epoch 22/100\n",
      "130/130 [==============================] - 2s 14ms/step - loss: 0.1674 - accuracy: 0.9408 - val_loss: 0.8068 - val_accuracy: 0.6466\n",
      "Epoch 23/100\n",
      "130/130 [==============================] - 2s 14ms/step - loss: 0.1697 - accuracy: 0.9315 - val_loss: 0.8094 - val_accuracy: 0.6391\n",
      "Epoch 24/100\n",
      "130/130 [==============================] - 2s 14ms/step - loss: 0.1867 - accuracy: 0.9262 - val_loss: 0.8573 - val_accuracy: 0.6316\n",
      "Epoch 25/100\n",
      "130/130 [==============================] - 2s 14ms/step - loss: 0.1608 - accuracy: 0.9385 - val_loss: 0.7044 - val_accuracy: 0.7895\n",
      "Epoch 26/100\n",
      "130/130 [==============================] - 2s 14ms/step - loss: 0.1970 - accuracy: 0.9292 - val_loss: 0.7376 - val_accuracy: 0.7143\n",
      "Epoch 27/100\n",
      "130/130 [==============================] - 2s 14ms/step - loss: 0.1432 - accuracy: 0.9469 - val_loss: 0.9978 - val_accuracy: 0.6617\n",
      "Epoch 28/100\n",
      "130/130 [==============================] - 2s 14ms/step - loss: 0.1627 - accuracy: 0.9323 - val_loss: 0.8047 - val_accuracy: 0.6692\n",
      "Epoch 29/100\n",
      "130/130 [==============================] - 2s 15ms/step - loss: 0.1105 - accuracy: 0.9615 - val_loss: 1.1065 - val_accuracy: 0.5789\n",
      "Epoch 30/100\n",
      "130/130 [==============================] - 2s 14ms/step - loss: 0.1307 - accuracy: 0.9531 - val_loss: 1.0070 - val_accuracy: 0.6617\n",
      "Epoch 31/100\n",
      "130/130 [==============================] - 2s 14ms/step - loss: 0.1222 - accuracy: 0.9615 - val_loss: 1.0277 - val_accuracy: 0.6617\n",
      "Epoch 32/100\n",
      "130/130 [==============================] - 2s 14ms/step - loss: 0.1040 - accuracy: 0.9623 - val_loss: 0.8455 - val_accuracy: 0.7293\n",
      "Epoch 33/100\n",
      "130/130 [==============================] - 2s 14ms/step - loss: 0.1080 - accuracy: 0.9562 - val_loss: 1.2038 - val_accuracy: 0.6015\n",
      "Epoch 34/100\n",
      "130/130 [==============================] - 2s 14ms/step - loss: 0.1014 - accuracy: 0.9592 - val_loss: 1.0399 - val_accuracy: 0.6917\n",
      "Epoch 35/100\n",
      "130/130 [==============================] - 2s 14ms/step - loss: 0.1081 - accuracy: 0.9554 - val_loss: 0.9013 - val_accuracy: 0.7143\n",
      "Epoch 36/100\n",
      "130/130 [==============================] - 2s 14ms/step - loss: 0.1201 - accuracy: 0.9592 - val_loss: 1.0713 - val_accuracy: 0.6692\n",
      "Epoch 37/100\n",
      "130/130 [==============================] - 2s 14ms/step - loss: 0.1143 - accuracy: 0.9546 - val_loss: 0.9644 - val_accuracy: 0.7293\n",
      "Epoch 38/100\n",
      "130/130 [==============================] - 2s 14ms/step - loss: 0.0753 - accuracy: 0.9738 - val_loss: 1.0396 - val_accuracy: 0.6917\n",
      "Epoch 39/100\n",
      "130/130 [==============================] - 2s 14ms/step - loss: 0.0861 - accuracy: 0.9631 - val_loss: 0.8665 - val_accuracy: 0.7444\n",
      "Epoch 40/100\n",
      "130/130 [==============================] - 2s 14ms/step - loss: 0.0926 - accuracy: 0.9669 - val_loss: 0.9366 - val_accuracy: 0.7368\n",
      "Epoch 41/100\n",
      "130/130 [==============================] - 2s 14ms/step - loss: 0.1157 - accuracy: 0.9608 - val_loss: 0.9780 - val_accuracy: 0.6692\n",
      "Epoch 42/100\n",
      "130/130 [==============================] - 2s 14ms/step - loss: 0.1100 - accuracy: 0.9585 - val_loss: 0.8395 - val_accuracy: 0.7293\n",
      "Epoch 43/100\n",
      "130/130 [==============================] - 2s 14ms/step - loss: 0.0748 - accuracy: 0.9692 - val_loss: 1.0535 - val_accuracy: 0.6917\n",
      "Epoch 44/100\n",
      "130/130 [==============================] - 2s 14ms/step - loss: 0.0659 - accuracy: 0.9777 - val_loss: 0.8336 - val_accuracy: 0.7218\n",
      "Epoch 45/100\n",
      "130/130 [==============================] - 2s 14ms/step - loss: 0.1411 - accuracy: 0.9469 - val_loss: 0.4310 - val_accuracy: 0.8346\n",
      "Epoch 46/100\n",
      "130/130 [==============================] - 2s 14ms/step - loss: 0.1457 - accuracy: 0.9438 - val_loss: 0.5468 - val_accuracy: 0.7970\n",
      "Epoch 47/100\n",
      "130/130 [==============================] - 2s 14ms/step - loss: 0.0836 - accuracy: 0.9692 - val_loss: 0.6475 - val_accuracy: 0.7820\n",
      "Epoch 48/100\n",
      "130/130 [==============================] - 2s 14ms/step - loss: 0.0754 - accuracy: 0.9738 - val_loss: 0.5384 - val_accuracy: 0.7970\n",
      "Epoch 49/100\n",
      "130/130 [==============================] - 2s 14ms/step - loss: 0.1157 - accuracy: 0.9638 - val_loss: 1.0269 - val_accuracy: 0.6992\n",
      "Epoch 50/100\n",
      "130/130 [==============================] - 2s 14ms/step - loss: 0.0696 - accuracy: 0.9746 - val_loss: 1.0815 - val_accuracy: 0.7143\n",
      "Epoch 51/100\n",
      "130/130 [==============================] - 2s 14ms/step - loss: 0.0567 - accuracy: 0.9823 - val_loss: 1.1518 - val_accuracy: 0.7143\n",
      "Epoch 52/100\n",
      "130/130 [==============================] - 2s 14ms/step - loss: 0.0554 - accuracy: 0.9762 - val_loss: 1.1070 - val_accuracy: 0.7068\n",
      "Epoch 53/100\n",
      "130/130 [==============================] - 2s 14ms/step - loss: 0.0617 - accuracy: 0.9769 - val_loss: 1.2275 - val_accuracy: 0.6541\n",
      "Epoch 54/100\n",
      "130/130 [==============================] - 2s 15ms/step - loss: 0.0643 - accuracy: 0.9723 - val_loss: 1.1003 - val_accuracy: 0.7368\n",
      "Epoch 55/100\n",
      "130/130 [==============================] - 2s 14ms/step - loss: 0.0547 - accuracy: 0.9815 - val_loss: 1.0709 - val_accuracy: 0.7444\n",
      "Epoch 56/100\n",
      "130/130 [==============================] - 2s 14ms/step - loss: 0.1412 - accuracy: 0.9454 - val_loss: 0.9815 - val_accuracy: 0.6842\n",
      "Epoch 57/100\n",
      "130/130 [==============================] - 2s 14ms/step - loss: 0.0908 - accuracy: 0.9708 - val_loss: 0.8594 - val_accuracy: 0.7594\n",
      "Epoch 58/100\n",
      "130/130 [==============================] - 2s 14ms/step - loss: 0.0638 - accuracy: 0.9746 - val_loss: 1.2683 - val_accuracy: 0.6466\n",
      "Epoch 59/100\n",
      "130/130 [==============================] - 2s 14ms/step - loss: 0.0475 - accuracy: 0.9831 - val_loss: 1.1197 - val_accuracy: 0.7143\n",
      "Epoch 60/100\n",
      "130/130 [==============================] - 2s 14ms/step - loss: 0.0430 - accuracy: 0.9846 - val_loss: 1.3436 - val_accuracy: 0.6692\n",
      "Epoch 61/100\n",
      "130/130 [==============================] - 2s 14ms/step - loss: 0.0499 - accuracy: 0.9792 - val_loss: 1.2316 - val_accuracy: 0.6767\n",
      "Epoch 62/100\n",
      "130/130 [==============================] - 2s 14ms/step - loss: 0.0470 - accuracy: 0.9808 - val_loss: 1.4389 - val_accuracy: 0.6241\n",
      "Epoch 63/100\n",
      "130/130 [==============================] - 2s 14ms/step - loss: 0.0491 - accuracy: 0.9800 - val_loss: 1.0125 - val_accuracy: 0.7368\n",
      "Epoch 64/100\n",
      "130/130 [==============================] - 2s 14ms/step - loss: 0.0636 - accuracy: 0.9746 - val_loss: 1.4129 - val_accuracy: 0.5714\n",
      "Epoch 65/100\n",
      "130/130 [==============================] - 2s 14ms/step - loss: 0.0468 - accuracy: 0.9800 - val_loss: 1.1744 - val_accuracy: 0.6541\n",
      "Epoch 66/100\n",
      "130/130 [==============================] - 2s 14ms/step - loss: 0.0366 - accuracy: 0.9846 - val_loss: 1.1875 - val_accuracy: 0.7068\n",
      "Epoch 67/100\n",
      "130/130 [==============================] - 2s 14ms/step - loss: 0.4012 - accuracy: 0.8431 - val_loss: 0.4665 - val_accuracy: 0.8571\n",
      "Epoch 68/100\n",
      "130/130 [==============================] - 2s 14ms/step - loss: 0.4490 - accuracy: 0.8146 - val_loss: 0.4257 - val_accuracy: 0.8647\n",
      "Epoch 69/100\n",
      "130/130 [==============================] - 2s 14ms/step - loss: 0.4201 - accuracy: 0.8377 - val_loss: 0.4655 - val_accuracy: 0.8120\n",
      "Epoch 70/100\n",
      "130/130 [==============================] - 2s 14ms/step - loss: 0.4198 - accuracy: 0.8354 - val_loss: 0.4828 - val_accuracy: 0.8496\n",
      "Epoch 71/100\n",
      "130/130 [==============================] - 2s 14ms/step - loss: 0.4115 - accuracy: 0.8408 - val_loss: 0.3719 - val_accuracy: 0.8571\n",
      "Epoch 72/100\n",
      "130/130 [==============================] - 2s 15ms/step - loss: 0.4113 - accuracy: 0.8400 - val_loss: 0.3745 - val_accuracy: 0.8571\n",
      "Epoch 73/100\n",
      "130/130 [==============================] - 2s 14ms/step - loss: 0.3981 - accuracy: 0.8415 - val_loss: 0.3878 - val_accuracy: 0.8571\n",
      "Epoch 74/100\n",
      "130/130 [==============================] - 2s 14ms/step - loss: 0.3966 - accuracy: 0.8423 - val_loss: 0.3737 - val_accuracy: 0.8571\n",
      "Epoch 75/100\n",
      "130/130 [==============================] - 2s 14ms/step - loss: 0.3873 - accuracy: 0.8308 - val_loss: 0.3694 - val_accuracy: 0.8797\n",
      "Epoch 76/100\n",
      "130/130 [==============================] - 2s 14ms/step - loss: 0.3706 - accuracy: 0.8515 - val_loss: 0.3686 - val_accuracy: 0.8647\n",
      "Epoch 77/100\n",
      "130/130 [==============================] - 2s 14ms/step - loss: 0.3635 - accuracy: 0.8562 - val_loss: 0.3897 - val_accuracy: 0.8797\n",
      "Epoch 78/100\n",
      "130/130 [==============================] - 2s 14ms/step - loss: 0.3642 - accuracy: 0.8515 - val_loss: 0.4244 - val_accuracy: 0.8872\n",
      "Epoch 79/100\n",
      "130/130 [==============================] - 2s 14ms/step - loss: 0.3512 - accuracy: 0.8585 - val_loss: 0.3943 - val_accuracy: 0.8722\n",
      "Epoch 80/100\n",
      "130/130 [==============================] - 2s 14ms/step - loss: 0.3367 - accuracy: 0.8600 - val_loss: 0.3635 - val_accuracy: 0.8571\n",
      "Epoch 81/100\n",
      "130/130 [==============================] - 2s 14ms/step - loss: 0.3254 - accuracy: 0.8646 - val_loss: 0.3788 - val_accuracy: 0.8421\n",
      "Epoch 82/100\n",
      "130/130 [==============================] - 2s 14ms/step - loss: 0.3049 - accuracy: 0.8677 - val_loss: 0.3913 - val_accuracy: 0.8722\n",
      "Epoch 83/100\n",
      "130/130 [==============================] - 2s 14ms/step - loss: 0.2951 - accuracy: 0.8708 - val_loss: 0.4422 - val_accuracy: 0.8722\n",
      "Epoch 84/100\n",
      "130/130 [==============================] - 2s 14ms/step - loss: 0.2801 - accuracy: 0.8831 - val_loss: 0.4851 - val_accuracy: 0.7068\n",
      "Epoch 85/100\n",
      "130/130 [==============================] - 2s 14ms/step - loss: 0.2585 - accuracy: 0.8900 - val_loss: 0.4077 - val_accuracy: 0.8195\n",
      "Epoch 86/100\n",
      "130/130 [==============================] - 2s 14ms/step - loss: 0.2468 - accuracy: 0.8954 - val_loss: 0.5205 - val_accuracy: 0.7895\n",
      "Epoch 87/100\n",
      "130/130 [==============================] - 2s 14ms/step - loss: 0.2182 - accuracy: 0.9131 - val_loss: 0.5559 - val_accuracy: 0.8120\n",
      "Epoch 88/100\n",
      "130/130 [==============================] - 2s 14ms/step - loss: 0.2393 - accuracy: 0.8992 - val_loss: 0.5489 - val_accuracy: 0.6992\n",
      "Epoch 89/100\n",
      "130/130 [==============================] - 2s 14ms/step - loss: 0.2857 - accuracy: 0.8777 - val_loss: 1.0348 - val_accuracy: 0.6241\n",
      "Epoch 90/100\n",
      "130/130 [==============================] - 2s 14ms/step - loss: 0.2090 - accuracy: 0.9192 - val_loss: 0.8005 - val_accuracy: 0.6617\n",
      "Epoch 91/100\n",
      "130/130 [==============================] - 2s 14ms/step - loss: 0.1988 - accuracy: 0.9162 - val_loss: 0.6991 - val_accuracy: 0.6992\n",
      "Epoch 92/100\n",
      "130/130 [==============================] - 2s 14ms/step - loss: 0.1765 - accuracy: 0.9200 - val_loss: 0.6671 - val_accuracy: 0.6767\n",
      "Epoch 93/100\n",
      "130/130 [==============================] - 2s 14ms/step - loss: 0.1642 - accuracy: 0.9362 - val_loss: 0.9468 - val_accuracy: 0.6917\n",
      "Epoch 94/100\n",
      "130/130 [==============================] - 2s 14ms/step - loss: 0.1963 - accuracy: 0.9154 - val_loss: 0.8871 - val_accuracy: 0.6541\n",
      "Epoch 95/100\n",
      "130/130 [==============================] - 2s 14ms/step - loss: 0.1877 - accuracy: 0.9269 - val_loss: 0.5740 - val_accuracy: 0.6767\n",
      "Epoch 96/100\n",
      "130/130 [==============================] - 2s 14ms/step - loss: 0.1400 - accuracy: 0.9485 - val_loss: 0.5618 - val_accuracy: 0.6917\n",
      "Epoch 97/100\n",
      "130/130 [==============================] - 2s 14ms/step - loss: 0.1292 - accuracy: 0.9485 - val_loss: 0.7816 - val_accuracy: 0.6692\n",
      "Epoch 98/100\n",
      "130/130 [==============================] - 2s 14ms/step - loss: 0.1168 - accuracy: 0.9554 - val_loss: 1.0413 - val_accuracy: 0.6466\n",
      "Epoch 99/100\n",
      "130/130 [==============================] - 2s 14ms/step - loss: 0.1410 - accuracy: 0.9377 - val_loss: 0.7666 - val_accuracy: 0.7143\n",
      "Epoch 100/100\n",
      "130/130 [==============================] - 2s 14ms/step - loss: 0.1567 - accuracy: 0.9400 - val_loss: 0.6180 - val_accuracy: 0.6617\n"
     ]
    }
   ],
   "source": [
    "# learning rate 설정\n",
    "Adam = tf.keras.optimizers.Adam(learning_rate=0.001)\n",
    "model3.compile(loss='binary_crossentropy', metrics ='accuracy', optimizer=Adam)\n",
    "hist3 = model3.fit(x_train, y_train, epochs=100, batch_size= 10, validation_data= (x_test,y_test))"
   ]
  },
  {
   "cell_type": "code",
   "execution_count": 129,
   "id": "e0936349",
   "metadata": {
    "ExecuteTime": {
     "end_time": "2022-05-21T14:31:58.783002Z",
     "start_time": "2022-05-21T14:31:58.676937Z"
    }
   },
   "outputs": [
    {
     "data": {
      "image/png": "[encoded data removed]",
      "text/plain": [
       "<Figure size 432x288 with 1 Axes>"
      ]
     },
     "metadata": {
      "needs_background": "light"
     },
     "output_type": "display_data"
    }
   ],
   "source": [
    "result_acc(hist3)"
   ]
  },
  {
   "cell_type": "code",
   "execution_count": 130,
   "id": "381db970",
   "metadata": {
    "ExecuteTime": {
     "end_time": "2022-05-21T14:32:12.825886Z",
     "start_time": "2022-05-21T14:32:12.723858Z"
    }
   },
   "outputs": [
    {
     "data": {
      "image/png": "[encoded data removed]",
      "text/plain": [
       "<Figure size 432x288 with 1 Axes>"
      ]
     },
     "metadata": {
      "needs_background": "light"
     },
     "output_type": "display_data"
    }
   ],
   "source": [
    "result_loss(hist3)"
   ]
  },
  {
   "cell_type": "code",
   "execution_count": null,
   "id": "bf318e3b",
   "metadata": {},
   "outputs": [],
   "source": []
  },
  {
   "cell_type": "markdown",
   "id": "7e381321",
   "metadata": {},
   "source": [
    "## 시티랩스 500 20일 10%"
   ]
  },
  {
   "cell_type": "code",
   "execution_count": 131,
   "id": "d52b100b",
   "metadata": {
    "ExecuteTime": {
     "end_time": "2022-05-21T14:37:58.356426Z",
     "start_time": "2022-05-21T14:36:22.173367Z"
    }
   },
   "outputs": [],
   "source": [
    "df = pd.read_csv('./data/적자기업모델데이터/시티랩스_모델데이터_scaler.csv',index_col=0)\n",
    "\n",
    "X, Y = model_xy(df,window_size=500, target_size=20, rapid_rate=0.1)"
   ]
  },
  {
   "cell_type": "code",
   "execution_count": 132,
   "id": "7b1f15e8",
   "metadata": {
    "ExecuteTime": {
     "end_time": "2022-05-21T14:37:58.434563Z",
     "start_time": "2022-05-21T14:37:58.420682Z"
    }
   },
   "outputs": [
    {
     "data": {
      "text/plain": [
       "(1423, 500, 22)"
      ]
     },
     "execution_count": 132,
     "metadata": {},
     "output_type": "execute_result"
    }
   ],
   "source": [
    "X.shape"
   ]
  },
  {
   "cell_type": "code",
   "execution_count": 133,
   "id": "eb9db1f5",
   "metadata": {
    "ExecuteTime": {
     "end_time": "2022-05-21T14:38:06.645882Z",
     "start_time": "2022-05-21T14:38:06.460406Z"
    }
   },
   "outputs": [
    {
     "name": "stdout",
     "output_type": "stream",
     "text": [
      "Model: \"sequential_10\"\n",
      "_________________________________________________________________\n",
      " Layer (type)                Output Shape              Param #   \n",
      "=================================================================\n",
      " lstm_10 (LSTM)              (None, 50)                14600     \n",
      "                                                                 \n",
      " dense_10 (Dense)            (None, 1)                 51        \n",
      "                                                                 \n",
      "=================================================================\n",
      "Total params: 14,651\n",
      "Trainable params: 14,651\n",
      "Non-trainable params: 0\n",
      "_________________________________________________________________\n"
     ]
    }
   ],
   "source": [
    "train_test_split = 1300\n",
    "\n",
    "x_train = X[:1300]\n",
    "y_train = Y[:1300]\n",
    "\n",
    "x_test = X[1300:]\n",
    "y_test = Y[1300:]\n",
    "\n",
    "with tf.device('/GPU:0'):\n",
    "    model4 = Sequential()\n",
    "    model4.add(LSTM(50, input_shape=(500,22)))\n",
    "    model4.add(Dense(1,activation='sigmoid'))\n",
    "    model4.summary()"
   ]
  },
  {
   "cell_type": "code",
   "execution_count": 134,
   "id": "d2c64768",
   "metadata": {
    "ExecuteTime": {
     "end_time": "2022-05-21T14:41:12.217886Z",
     "start_time": "2022-05-21T14:38:06.842464Z"
    },
    "scrolled": true
   },
   "outputs": [
    {
     "name": "stdout",
     "output_type": "stream",
     "text": [
      "Epoch 1/100\n",
      "130/130 [==============================] - 3s 17ms/step - loss: 0.5924 - accuracy: 0.7015 - val_loss: 0.5760 - val_accuracy: 0.7642\n",
      "Epoch 2/100\n",
      "130/130 [==============================] - 2s 14ms/step - loss: 0.5517 - accuracy: 0.6985 - val_loss: 0.6111 - val_accuracy: 0.7642\n",
      "Epoch 3/100\n",
      "130/130 [==============================] - 2s 14ms/step - loss: 0.5454 - accuracy: 0.7023 - val_loss: 0.5734 - val_accuracy: 0.7642\n",
      "Epoch 4/100\n",
      "130/130 [==============================] - 2s 14ms/step - loss: 0.4870 - accuracy: 0.7254 - val_loss: 0.5867 - val_accuracy: 0.6098\n",
      "Epoch 5/100\n",
      "130/130 [==============================] - 2s 14ms/step - loss: 0.4707 - accuracy: 0.7438 - val_loss: 0.5234 - val_accuracy: 0.7642\n",
      "Epoch 6/100\n",
      "130/130 [==============================] - 2s 14ms/step - loss: 0.4462 - accuracy: 0.7746 - val_loss: 0.5371 - val_accuracy: 0.7642\n",
      "Epoch 7/100\n",
      "130/130 [==============================] - 2s 14ms/step - loss: 0.4103 - accuracy: 0.7946 - val_loss: 0.5557 - val_accuracy: 0.6829\n",
      "Epoch 8/100\n",
      "130/130 [==============================] - 2s 14ms/step - loss: 0.3922 - accuracy: 0.8000 - val_loss: 0.6885 - val_accuracy: 0.5041\n",
      "Epoch 9/100\n",
      "130/130 [==============================] - 2s 14ms/step - loss: 0.3388 - accuracy: 0.8438 - val_loss: 0.6212 - val_accuracy: 0.5122\n",
      "Epoch 10/100\n",
      "130/130 [==============================] - 2s 14ms/step - loss: 0.3519 - accuracy: 0.8315 - val_loss: 0.5862 - val_accuracy: 0.7317\n",
      "Epoch 11/100\n",
      "130/130 [==============================] - 2s 14ms/step - loss: 0.3254 - accuracy: 0.8546 - val_loss: 0.5974 - val_accuracy: 0.6098\n",
      "Epoch 12/100\n",
      "130/130 [==============================] - 2s 14ms/step - loss: 0.3612 - accuracy: 0.8446 - val_loss: 0.5808 - val_accuracy: 0.6585\n",
      "Epoch 13/100\n",
      "130/130 [==============================] - 2s 14ms/step - loss: 0.3449 - accuracy: 0.8415 - val_loss: 0.5315 - val_accuracy: 0.7724\n",
      "Epoch 14/100\n",
      "130/130 [==============================] - 2s 14ms/step - loss: 0.2684 - accuracy: 0.8831 - val_loss: 0.7414 - val_accuracy: 0.5447\n",
      "Epoch 15/100\n",
      "130/130 [==============================] - 2s 15ms/step - loss: 0.3007 - accuracy: 0.8515 - val_loss: 0.6865 - val_accuracy: 0.6341\n",
      "Epoch 16/100\n",
      "130/130 [==============================] - 2s 14ms/step - loss: 0.2714 - accuracy: 0.8708 - val_loss: 0.6035 - val_accuracy: 0.6748\n",
      "Epoch 17/100\n",
      "130/130 [==============================] - 2s 14ms/step - loss: 0.2996 - accuracy: 0.8631 - val_loss: 0.6335 - val_accuracy: 0.5935\n",
      "Epoch 18/100\n",
      "130/130 [==============================] - 2s 14ms/step - loss: 0.5661 - accuracy: 0.7046 - val_loss: 0.5719 - val_accuracy: 0.7561\n",
      "Epoch 19/100\n",
      "130/130 [==============================] - 2s 14ms/step - loss: 0.5232 - accuracy: 0.7231 - val_loss: 0.5585 - val_accuracy: 0.8130\n",
      "Epoch 20/100\n",
      "130/130 [==============================] - 2s 14ms/step - loss: 0.5004 - accuracy: 0.7292 - val_loss: 0.5508 - val_accuracy: 0.8537\n",
      "Epoch 21/100\n",
      "130/130 [==============================] - 2s 14ms/step - loss: 0.4852 - accuracy: 0.7415 - val_loss: 0.5487 - val_accuracy: 0.8537\n",
      "Epoch 22/100\n",
      "130/130 [==============================] - 2s 14ms/step - loss: 0.4649 - accuracy: 0.7531 - val_loss: 0.6256 - val_accuracy: 0.5854\n",
      "Epoch 23/100\n",
      "130/130 [==============================] - 2s 14ms/step - loss: 0.4391 - accuracy: 0.7831 - val_loss: 0.6467 - val_accuracy: 0.5447\n",
      "Epoch 24/100\n",
      "130/130 [==============================] - 2s 14ms/step - loss: 0.4155 - accuracy: 0.7938 - val_loss: 0.6940 - val_accuracy: 0.5691\n",
      "Epoch 25/100\n",
      "130/130 [==============================] - 2s 14ms/step - loss: 0.3863 - accuracy: 0.8108 - val_loss: 0.7730 - val_accuracy: 0.5691\n",
      "Epoch 26/100\n",
      "130/130 [==============================] - 2s 14ms/step - loss: 0.4557 - accuracy: 0.7746 - val_loss: 0.5713 - val_accuracy: 0.8130\n",
      "Epoch 27/100\n",
      "130/130 [==============================] - 2s 14ms/step - loss: 0.4136 - accuracy: 0.8038 - val_loss: 0.5556 - val_accuracy: 0.7480\n",
      "Epoch 28/100\n",
      "130/130 [==============================] - 2s 14ms/step - loss: 0.3450 - accuracy: 0.8369 - val_loss: 0.5941 - val_accuracy: 0.6016\n",
      "Epoch 29/100\n",
      "130/130 [==============================] - 2s 14ms/step - loss: 0.3105 - accuracy: 0.8577 - val_loss: 1.0327 - val_accuracy: 0.5447\n",
      "Epoch 30/100\n",
      "130/130 [==============================] - 2s 14ms/step - loss: 0.3185 - accuracy: 0.8538 - val_loss: 0.6212 - val_accuracy: 0.5854\n",
      "Epoch 31/100\n",
      "130/130 [==============================] - 2s 14ms/step - loss: 0.4577 - accuracy: 0.8031 - val_loss: 0.4814 - val_accuracy: 0.7480\n",
      "Epoch 32/100\n",
      "130/130 [==============================] - 2s 14ms/step - loss: 0.3001 - accuracy: 0.8669 - val_loss: 0.5331 - val_accuracy: 0.6667\n",
      "Epoch 33/100\n",
      "130/130 [==============================] - 2s 14ms/step - loss: 0.3032 - accuracy: 0.8623 - val_loss: 0.6297 - val_accuracy: 0.6179\n",
      "Epoch 34/100\n",
      "130/130 [==============================] - 2s 14ms/step - loss: 0.3078 - accuracy: 0.8669 - val_loss: 0.7539 - val_accuracy: 0.4715\n",
      "Epoch 35/100\n",
      "130/130 [==============================] - 2s 14ms/step - loss: 0.2942 - accuracy: 0.8846 - val_loss: 0.7206 - val_accuracy: 0.5528\n",
      "Epoch 36/100\n",
      "130/130 [==============================] - 2s 14ms/step - loss: 0.2474 - accuracy: 0.9023 - val_loss: 1.3453 - val_accuracy: 0.4878\n",
      "Epoch 37/100\n",
      "130/130 [==============================] - 2s 14ms/step - loss: 0.6670 - accuracy: 0.7154 - val_loss: 0.6098 - val_accuracy: 0.8049\n",
      "Epoch 38/100\n",
      "130/130 [==============================] - 2s 14ms/step - loss: 0.4823 - accuracy: 0.7638 - val_loss: 0.6271 - val_accuracy: 0.5854\n",
      "Epoch 39/100\n",
      "130/130 [==============================] - 2s 14ms/step - loss: 0.3411 - accuracy: 0.8515 - val_loss: 0.6836 - val_accuracy: 0.6260\n",
      "Epoch 40/100\n",
      "130/130 [==============================] - 2s 14ms/step - loss: 0.2842 - accuracy: 0.8754 - val_loss: 1.1137 - val_accuracy: 0.5041\n",
      "Epoch 41/100\n",
      "130/130 [==============================] - 2s 14ms/step - loss: 0.3196 - accuracy: 0.8662 - val_loss: 1.1289 - val_accuracy: 0.5447\n",
      "Epoch 42/100\n",
      "130/130 [==============================] - 2s 14ms/step - loss: 0.3174 - accuracy: 0.8662 - val_loss: 0.6471 - val_accuracy: 0.5935\n",
      "Epoch 43/100\n",
      "130/130 [==============================] - 2s 14ms/step - loss: 0.2043 - accuracy: 0.9185 - val_loss: 1.1432 - val_accuracy: 0.4309\n",
      "Epoch 44/100\n",
      "130/130 [==============================] - 2s 14ms/step - loss: 0.1777 - accuracy: 0.9231 - val_loss: 0.7633 - val_accuracy: 0.7236\n",
      "Epoch 45/100\n",
      "130/130 [==============================] - 2s 14ms/step - loss: 0.1515 - accuracy: 0.9369 - val_loss: 0.9923 - val_accuracy: 0.4309\n",
      "Epoch 46/100\n",
      "130/130 [==============================] - 2s 14ms/step - loss: 0.1343 - accuracy: 0.9423 - val_loss: 1.1435 - val_accuracy: 0.4390\n",
      "Epoch 47/100\n",
      "130/130 [==============================] - 2s 14ms/step - loss: 0.1405 - accuracy: 0.9385 - val_loss: 0.8887 - val_accuracy: 0.5366\n",
      "Epoch 48/100\n",
      "130/130 [==============================] - 2s 14ms/step - loss: 0.1162 - accuracy: 0.9600 - val_loss: 1.2896 - val_accuracy: 0.5366\n",
      "Epoch 49/100\n",
      "130/130 [==============================] - 2s 14ms/step - loss: 0.0987 - accuracy: 0.9608 - val_loss: 1.2995 - val_accuracy: 0.5122\n",
      "Epoch 50/100\n",
      "130/130 [==============================] - 2s 14ms/step - loss: 0.1291 - accuracy: 0.9485 - val_loss: 0.8079 - val_accuracy: 0.6504\n",
      "Epoch 51/100\n",
      "130/130 [==============================] - 2s 14ms/step - loss: 0.1507 - accuracy: 0.9392 - val_loss: 1.3674 - val_accuracy: 0.4472\n",
      "Epoch 52/100\n",
      "130/130 [==============================] - 2s 14ms/step - loss: 0.0838 - accuracy: 0.9677 - val_loss: 1.3037 - val_accuracy: 0.5041\n",
      "Epoch 53/100\n",
      "130/130 [==============================] - 2s 14ms/step - loss: 0.0745 - accuracy: 0.9731 - val_loss: 1.6333 - val_accuracy: 0.5935\n",
      "Epoch 54/100\n",
      "130/130 [==============================] - 2s 14ms/step - loss: 0.0925 - accuracy: 0.9646 - val_loss: 1.5637 - val_accuracy: 0.5772\n",
      "Epoch 55/100\n",
      "130/130 [==============================] - 2s 14ms/step - loss: 0.1599 - accuracy: 0.9354 - val_loss: 1.7554 - val_accuracy: 0.4878\n",
      "Epoch 56/100\n",
      "130/130 [==============================] - 2s 14ms/step - loss: 0.0760 - accuracy: 0.9731 - val_loss: 1.4690 - val_accuracy: 0.5122\n",
      "Epoch 57/100\n",
      "130/130 [==============================] - 2s 14ms/step - loss: 0.0606 - accuracy: 0.9785 - val_loss: 1.4536 - val_accuracy: 0.4797\n",
      "Epoch 58/100\n",
      "130/130 [==============================] - 2s 14ms/step - loss: 0.1107 - accuracy: 0.9585 - val_loss: 1.6670 - val_accuracy: 0.4715\n",
      "Epoch 59/100\n",
      "130/130 [==============================] - 2s 14ms/step - loss: 0.1448 - accuracy: 0.9469 - val_loss: 1.5972 - val_accuracy: 0.5041\n",
      "Epoch 60/100\n",
      "130/130 [==============================] - 2s 14ms/step - loss: 0.0601 - accuracy: 0.9769 - val_loss: 1.7918 - val_accuracy: 0.4634\n",
      "Epoch 61/100\n",
      "130/130 [==============================] - 2s 14ms/step - loss: 0.0632 - accuracy: 0.9754 - val_loss: 1.9707 - val_accuracy: 0.4228\n",
      "Epoch 62/100\n",
      "130/130 [==============================] - 2s 14ms/step - loss: 0.0567 - accuracy: 0.9792 - val_loss: 2.8159 - val_accuracy: 0.3577\n",
      "Epoch 63/100\n",
      "130/130 [==============================] - 2s 14ms/step - loss: 0.1423 - accuracy: 0.9515 - val_loss: 1.6986 - val_accuracy: 0.4634\n",
      "Epoch 64/100\n",
      "130/130 [==============================] - 2s 14ms/step - loss: 0.0533 - accuracy: 0.9838 - val_loss: 1.6732 - val_accuracy: 0.4959\n",
      "Epoch 65/100\n",
      "130/130 [==============================] - 2s 14ms/step - loss: 0.0578 - accuracy: 0.9785 - val_loss: 1.6090 - val_accuracy: 0.5366\n",
      "Epoch 66/100\n",
      "130/130 [==============================] - 2s 14ms/step - loss: 0.0779 - accuracy: 0.9685 - val_loss: 1.5509 - val_accuracy: 0.5610\n",
      "Epoch 67/100\n",
      "130/130 [==============================] - 2s 14ms/step - loss: 0.0561 - accuracy: 0.9800 - val_loss: 1.7769 - val_accuracy: 0.6098\n",
      "Epoch 68/100\n",
      "130/130 [==============================] - 2s 14ms/step - loss: 0.0461 - accuracy: 0.9800 - val_loss: 1.7044 - val_accuracy: 0.5447\n",
      "Epoch 69/100\n",
      "130/130 [==============================] - 2s 14ms/step - loss: 0.1499 - accuracy: 0.9515 - val_loss: 1.4961 - val_accuracy: 0.5203\n",
      "Epoch 70/100\n",
      "130/130 [==============================] - 2s 14ms/step - loss: 0.0611 - accuracy: 0.9792 - val_loss: 1.5638 - val_accuracy: 0.6667\n",
      "Epoch 71/100\n",
      "130/130 [==============================] - 2s 14ms/step - loss: 0.0459 - accuracy: 0.9862 - val_loss: 1.6838 - val_accuracy: 0.6016\n",
      "Epoch 72/100\n",
      "130/130 [==============================] - 2s 14ms/step - loss: 0.0405 - accuracy: 0.9869 - val_loss: 1.8097 - val_accuracy: 0.5528\n",
      "Epoch 73/100\n",
      "130/130 [==============================] - 2s 14ms/step - loss: 0.0324 - accuracy: 0.9915 - val_loss: 1.7742 - val_accuracy: 0.6504\n",
      "Epoch 74/100\n",
      "130/130 [==============================] - 2s 14ms/step - loss: 0.0522 - accuracy: 0.9800 - val_loss: 1.6420 - val_accuracy: 0.6179\n",
      "Epoch 75/100\n",
      "130/130 [==============================] - 2s 14ms/step - loss: 0.0426 - accuracy: 0.9838 - val_loss: 2.0041 - val_accuracy: 0.5041\n",
      "Epoch 76/100\n",
      "130/130 [==============================] - 2s 14ms/step - loss: 0.0333 - accuracy: 0.9862 - val_loss: 1.7713 - val_accuracy: 0.6260\n",
      "Epoch 77/100\n",
      "130/130 [==============================] - 2s 14ms/step - loss: 0.0450 - accuracy: 0.9823 - val_loss: 2.0002 - val_accuracy: 0.5528\n",
      "Epoch 78/100\n",
      "130/130 [==============================] - 2s 14ms/step - loss: 0.0340 - accuracy: 0.9908 - val_loss: 2.1524 - val_accuracy: 0.5366\n",
      "Epoch 79/100\n",
      "130/130 [==============================] - 2s 14ms/step - loss: 0.3522 - accuracy: 0.8777 - val_loss: 1.7800 - val_accuracy: 0.5528\n",
      "Epoch 80/100\n",
      "130/130 [==============================] - 2s 14ms/step - loss: 0.4115 - accuracy: 0.8231 - val_loss: 1.4296 - val_accuracy: 0.6341\n",
      "Epoch 81/100\n",
      "130/130 [==============================] - 2s 14ms/step - loss: 0.3292 - accuracy: 0.8492 - val_loss: 1.7683 - val_accuracy: 0.5203\n",
      "Epoch 82/100\n",
      "130/130 [==============================] - 2s 14ms/step - loss: 0.2740 - accuracy: 0.8900 - val_loss: 2.0120 - val_accuracy: 0.5366\n",
      "Epoch 83/100\n",
      "130/130 [==============================] - 2s 14ms/step - loss: 0.2011 - accuracy: 0.9231 - val_loss: 1.9042 - val_accuracy: 0.5854\n",
      "Epoch 84/100\n",
      "130/130 [==============================] - 2s 14ms/step - loss: 0.1205 - accuracy: 0.9577 - val_loss: 2.1718 - val_accuracy: 0.5610\n",
      "Epoch 85/100\n",
      "130/130 [==============================] - 2s 14ms/step - loss: 0.0986 - accuracy: 0.9669 - val_loss: 2.3668 - val_accuracy: 0.5528\n",
      "Epoch 86/100\n",
      "130/130 [==============================] - 2s 14ms/step - loss: 0.0834 - accuracy: 0.9700 - val_loss: 1.5582 - val_accuracy: 0.6179\n",
      "Epoch 87/100\n",
      "130/130 [==============================] - 2s 14ms/step - loss: 0.0666 - accuracy: 0.9838 - val_loss: 1.7931 - val_accuracy: 0.6423\n",
      "Epoch 88/100\n",
      "130/130 [==============================] - 2s 14ms/step - loss: 0.0567 - accuracy: 0.9800 - val_loss: 1.7444 - val_accuracy: 0.6504\n",
      "Epoch 89/100\n",
      "130/130 [==============================] - 2s 14ms/step - loss: 0.2764 - accuracy: 0.9154 - val_loss: 1.3811 - val_accuracy: 0.6016\n",
      "Epoch 90/100\n",
      "130/130 [==============================] - 2s 14ms/step - loss: 0.5519 - accuracy: 0.7869 - val_loss: 0.9692 - val_accuracy: 0.6585\n",
      "Epoch 91/100\n",
      "130/130 [==============================] - 2s 14ms/step - loss: 0.2486 - accuracy: 0.8962 - val_loss: 1.1312 - val_accuracy: 0.4959\n",
      "Epoch 92/100\n",
      "130/130 [==============================] - 2s 14ms/step - loss: 0.1761 - accuracy: 0.9285 - val_loss: 1.1559 - val_accuracy: 0.5854\n",
      "Epoch 93/100\n",
      "130/130 [==============================] - 2s 14ms/step - loss: 0.1227 - accuracy: 0.9569 - val_loss: 1.1757 - val_accuracy: 0.6504\n",
      "Epoch 94/100\n",
      "130/130 [==============================] - 2s 14ms/step - loss: 0.1216 - accuracy: 0.9531 - val_loss: 1.3968 - val_accuracy: 0.6179\n",
      "Epoch 95/100\n",
      "130/130 [==============================] - 2s 14ms/step - loss: 0.0814 - accuracy: 0.9746 - val_loss: 1.2964 - val_accuracy: 0.6179\n",
      "Epoch 96/100\n",
      "130/130 [==============================] - 2s 14ms/step - loss: 0.0643 - accuracy: 0.9815 - val_loss: 1.7309 - val_accuracy: 0.5854\n",
      "Epoch 97/100\n",
      "130/130 [==============================] - 2s 14ms/step - loss: 0.0603 - accuracy: 0.9769 - val_loss: 1.5452 - val_accuracy: 0.5935\n",
      "Epoch 98/100\n",
      "130/130 [==============================] - 2s 14ms/step - loss: 0.0664 - accuracy: 0.9762 - val_loss: 1.6431 - val_accuracy: 0.6016\n",
      "Epoch 99/100\n",
      "130/130 [==============================] - 2s 14ms/step - loss: 0.0557 - accuracy: 0.9792 - val_loss: 2.0099 - val_accuracy: 0.5528\n",
      "Epoch 100/100\n",
      "130/130 [==============================] - 2s 14ms/step - loss: 0.0740 - accuracy: 0.9708 - val_loss: 2.4027 - val_accuracy: 0.5041\n"
     ]
    }
   ],
   "source": [
    "# learning rate 설정\n",
    "Adam = tf.keras.optimizers.Adam(learning_rate=0.001)\n",
    "model4.compile(loss='binary_crossentropy', metrics ='accuracy', optimizer=Adam)\n",
    "hist4 = model4.fit(x_train, y_train, epochs=100, batch_size= 10, validation_data= (x_test,y_test))"
   ]
  },
  {
   "cell_type": "code",
   "execution_count": 135,
   "id": "705e2e4b",
   "metadata": {
    "ExecuteTime": {
     "end_time": "2022-05-21T14:41:29.895420Z",
     "start_time": "2022-05-21T14:41:29.797693Z"
    }
   },
   "outputs": [
    {
     "data": {
      "image/png": "[encoded data removed]",
      "text/plain": [
       "<Figure size 432x288 with 1 Axes>"
      ]
     },
     "metadata": {
      "needs_background": "light"
     },
     "output_type": "display_data"
    }
   ],
   "source": [
    "result_loss(hist4)"
   ]
  },
  {
   "cell_type": "code",
   "execution_count": 136,
   "id": "d9a41fbd",
   "metadata": {
    "ExecuteTime": {
     "end_time": "2022-05-21T14:41:30.064556Z",
     "start_time": "2022-05-21T14:41:29.960515Z"
    }
   },
   "outputs": [
    {
     "data": {
      "image/png": "[encoded data removed]",
      "text/plain": [
       "<Figure size 432x288 with 1 Axes>"
      ]
     },
     "metadata": {
      "needs_background": "light"
     },
     "output_type": "display_data"
    }
   ],
   "source": [
    "result_acc(hist4)"
   ]
  },
  {
   "cell_type": "code",
   "execution_count": null,
   "id": "89e05fc6",
   "metadata": {},
   "outputs": [],
   "source": []
  }
 ],
 "metadata": {
  "kernelspec": {
   "display_name": "Python 3 (ipykernel)",
   "language": "python",
   "name": "python3"
  },
  "language_info": {
   "codemirror_mode": {
    "name": "ipython",
    "version": 3
   },
   "file_extension": ".py",
   "mimetype": "text/x-python",
   "name": "python",
   "nbconvert_exporter": "python",
   "pygments_lexer": "ipython3",
   "version": "3.9.7"
  },
  "toc": {
   "base_numbering": 1,
   "nav_menu": {},
   "number_sections": true,
   "sideBar": true,
   "skip_h1_title": false,
   "title_cell": "Table of Contents",
   "title_sidebar": "Contents",
   "toc_cell": false,
   "toc_position": {
    "height": "calc(100% - 180px)",
    "left": "10px",
    "top": "150px",
    "width": "426.667px"
   },
   "toc_section_display": true,
   "toc_window_display": true
  },
  "varInspector": {
   "cols": {
    "lenName": 16,
    "lenType": 16,
    "lenVar": 40
   },
   "kernels_config": {
    "python": {
     "delete_cmd_postfix": "",
     "delete_cmd_prefix": "del ",
     "library": "var_list.py",
     "varRefreshCmd": "print(var_dic_list())"
    },
    "r": {
     "delete_cmd_postfix": ") ",
     "delete_cmd_prefix": "rm(",
     "library": "var_list.r",
     "varRefreshCmd": "cat(var_dic_list()) "
    }
   },
   "types_to_exclude": [
    "module",
    "function",
    "builtin_function_or_method",
    "instance",
    "_Feature"
   ],
   "window_display": false
  }
 },
 "nbformat": 4,
 "nbformat_minor": 5
}
