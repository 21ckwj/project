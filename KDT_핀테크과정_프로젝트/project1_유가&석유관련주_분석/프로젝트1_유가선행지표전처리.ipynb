{
 "cells": [
  {
   "cell_type": "code",
   "execution_count": 1,
   "id": "c28e973b",
   "metadata": {},
   "outputs": [],
   "source": [
    "import pandas as pd\n",
    "import numpy as np"
   ]
  },
  {
   "cell_type": "code",
   "execution_count": 2,
   "id": "a627af0c",
   "metadata": {},
   "outputs": [],
   "source": [
    "import plotly.express as px\n",
    "import matplotlib.pyplot as plt\n",
    "import seaborn as sns\n",
    "import plotly.graph_objects as go"
   ]
  },
  {
   "cell_type": "code",
   "execution_count": 3,
   "id": "03260dc2",
   "metadata": {},
   "outputs": [],
   "source": [
    "from datetime import datetime, timedelta"
   ]
  },
  {
   "cell_type": "code",
   "execution_count": null,
   "id": "fdebc16b",
   "metadata": {},
   "outputs": [],
   "source": []
  },
  {
   "cell_type": "markdown",
   "id": "e89d0dd3",
   "metadata": {},
   "source": [
    "## 유가 데이터"
   ]
  },
  {
   "cell_type": "code",
   "execution_count": 4,
   "id": "488637e1",
   "metadata": {},
   "outputs": [
    {
     "name": "stderr",
     "output_type": "stream",
     "text": [
      "C:\\Users\\bitcamp\\AppData\\Local\\Temp/ipykernel_11228/3005368904.py:3: SettingWithCopyWarning: \n",
      "A value is trying to be set on a copy of a slice from a DataFrame.\n",
      "Try using .loc[row_indexer,col_indexer] = value instead\n",
      "\n",
      "See the caveats in the documentation: https://pandas.pydata.org/pandas-docs/stable/user_guide/indexing.html#returning-a-view-versus-a-copy\n",
      "  df_dubai['date'] = pd.to_datetime(df_dubai['date'])\n"
     ]
    },
    {
     "data": {
      "text/html": [
       "<div>\n",
       "<style scoped>\n",
       "    .dataframe tbody tr th:only-of-type {\n",
       "        vertical-align: middle;\n",
       "    }\n",
       "\n",
       "    .dataframe tbody tr th {\n",
       "        vertical-align: top;\n",
       "    }\n",
       "\n",
       "    .dataframe thead th {\n",
       "        text-align: right;\n",
       "    }\n",
       "</style>\n",
       "<table border=\"1\" class=\"dataframe\">\n",
       "  <thead>\n",
       "    <tr style=\"text-align: right;\">\n",
       "      <th></th>\n",
       "      <th>날짜</th>\n",
       "      <th>두바이유(선물)종가</th>\n",
       "    </tr>\n",
       "  </thead>\n",
       "  <tbody>\n",
       "    <tr>\n",
       "      <th>0</th>\n",
       "      <td>2017-02-06</td>\n",
       "      <td>54.030</td>\n",
       "    </tr>\n",
       "    <tr>\n",
       "      <th>1</th>\n",
       "      <td>2017-02-13</td>\n",
       "      <td>54.220</td>\n",
       "    </tr>\n",
       "    <tr>\n",
       "      <th>2</th>\n",
       "      <td>2017-02-20</td>\n",
       "      <td>54.430</td>\n",
       "    </tr>\n",
       "    <tr>\n",
       "      <th>3</th>\n",
       "      <td>2017-02-27</td>\n",
       "      <td>54.320</td>\n",
       "    </tr>\n",
       "    <tr>\n",
       "      <th>4</th>\n",
       "      <td>2017-03-06</td>\n",
       "      <td>51.360</td>\n",
       "    </tr>\n",
       "    <tr>\n",
       "      <th>...</th>\n",
       "      <td>...</td>\n",
       "      <td>...</td>\n",
       "    </tr>\n",
       "    <tr>\n",
       "      <th>257</th>\n",
       "      <td>2022-01-10</td>\n",
       "      <td>82.269</td>\n",
       "    </tr>\n",
       "    <tr>\n",
       "      <th>258</th>\n",
       "      <td>2022-01-17</td>\n",
       "      <td>82.868</td>\n",
       "    </tr>\n",
       "    <tr>\n",
       "      <th>259</th>\n",
       "      <td>2022-01-24</td>\n",
       "      <td>83.455</td>\n",
       "    </tr>\n",
       "    <tr>\n",
       "      <th>260</th>\n",
       "      <td>2022-01-31</td>\n",
       "      <td>90.757</td>\n",
       "    </tr>\n",
       "    <tr>\n",
       "      <th>261</th>\n",
       "      <td>2022-02-07</td>\n",
       "      <td>89.883</td>\n",
       "    </tr>\n",
       "  </tbody>\n",
       "</table>\n",
       "<p>262 rows × 2 columns</p>\n",
       "</div>"
      ],
      "text/plain": [
       "            날짜  두바이유(선물)종가\n",
       "0   2017-02-06      54.030\n",
       "1   2017-02-13      54.220\n",
       "2   2017-02-20      54.430\n",
       "3   2017-02-27      54.320\n",
       "4   2017-03-06      51.360\n",
       "..         ...         ...\n",
       "257 2022-01-10      82.269\n",
       "258 2022-01-17      82.868\n",
       "259 2022-01-24      83.455\n",
       "260 2022-01-31      90.757\n",
       "261 2022-02-07      89.883\n",
       "\n",
       "[262 rows x 2 columns]"
      ]
     },
     "execution_count": 4,
     "metadata": {},
     "output_type": "execute_result"
    }
   ],
   "source": [
    "df = pd.read_csv('./data/daum_oil.csv')\n",
    "df_dubai = df[df['company'] == '두바이유선물']\n",
    "df_dubai['date'] = pd.to_datetime(df_dubai['date'])\n",
    "df_d = df_dubai.set_index('date').loc['2017-2-10':'2022-02-10'].resample('W-MON',label = 'left', closed='right')['종가'].last()\n",
    "df_d = df_d.reset_index()\n",
    "df_d = df_d.rename(columns={'date':'날짜', '종가': '두바이유(선물)종가'})\n",
    "df_d"
   ]
  },
  {
   "cell_type": "code",
   "execution_count": 5,
   "id": "4b7eae31",
   "metadata": {},
   "outputs": [],
   "source": [
    "# 10년물 국채금리, 미 원유재고, 미 원유시추수 "
   ]
  },
  {
   "cell_type": "markdown",
   "id": "c21bf363",
   "metadata": {},
   "source": [
    "## 미 10년물 국채 금리"
   ]
  },
  {
   "cell_type": "code",
   "execution_count": 6,
   "id": "6cec8508",
   "metadata": {},
   "outputs": [
    {
     "data": {
      "text/html": [
       "<div>\n",
       "<style scoped>\n",
       "    .dataframe tbody tr th:only-of-type {\n",
       "        vertical-align: middle;\n",
       "    }\n",
       "\n",
       "    .dataframe tbody tr th {\n",
       "        vertical-align: top;\n",
       "    }\n",
       "\n",
       "    .dataframe thead th {\n",
       "        text-align: right;\n",
       "    }\n",
       "</style>\n",
       "<table border=\"1\" class=\"dataframe\">\n",
       "  <thead>\n",
       "    <tr style=\"text-align: right;\">\n",
       "      <th></th>\n",
       "      <th>날짜</th>\n",
       "      <th>종가</th>\n",
       "      <th>오픈</th>\n",
       "      <th>고가</th>\n",
       "      <th>저가</th>\n",
       "      <th>변동 %</th>\n",
       "    </tr>\n",
       "  </thead>\n",
       "  <tbody>\n",
       "    <tr>\n",
       "      <th>0</th>\n",
       "      <td>2022년 02월 10일</td>\n",
       "      <td>2.043</td>\n",
       "      <td>1.939</td>\n",
       "      <td>2.056</td>\n",
       "      <td>1.923</td>\n",
       "      <td>5.04%</td>\n",
       "    </tr>\n",
       "    <tr>\n",
       "      <th>1</th>\n",
       "      <td>2022년 02월 09일</td>\n",
       "      <td>1.945</td>\n",
       "      <td>1.954</td>\n",
       "      <td>1.958</td>\n",
       "      <td>1.909</td>\n",
       "      <td>-1.01%</td>\n",
       "    </tr>\n",
       "    <tr>\n",
       "      <th>2</th>\n",
       "      <td>2022년 02월 08일</td>\n",
       "      <td>1.965</td>\n",
       "      <td>1.921</td>\n",
       "      <td>1.970</td>\n",
       "      <td>1.921</td>\n",
       "      <td>2.37%</td>\n",
       "    </tr>\n",
       "    <tr>\n",
       "      <th>3</th>\n",
       "      <td>2022년 02월 07일</td>\n",
       "      <td>1.919</td>\n",
       "      <td>1.908</td>\n",
       "      <td>1.939</td>\n",
       "      <td>1.896</td>\n",
       "      <td>0.48%</td>\n",
       "    </tr>\n",
       "    <tr>\n",
       "      <th>4</th>\n",
       "      <td>2022년 02월 06일</td>\n",
       "      <td>1.910</td>\n",
       "      <td>1.918</td>\n",
       "      <td>1.918</td>\n",
       "      <td>1.910</td>\n",
       "      <td>-0.28%</td>\n",
       "    </tr>\n",
       "    <tr>\n",
       "      <th>...</th>\n",
       "      <td>...</td>\n",
       "      <td>...</td>\n",
       "      <td>...</td>\n",
       "      <td>...</td>\n",
       "      <td>...</td>\n",
       "      <td>...</td>\n",
       "    </tr>\n",
       "    <tr>\n",
       "      <th>1518</th>\n",
       "      <td>2017년 02월 15일</td>\n",
       "      <td>2.497</td>\n",
       "      <td>2.479</td>\n",
       "      <td>2.524</td>\n",
       "      <td>2.466</td>\n",
       "      <td>1.02%</td>\n",
       "    </tr>\n",
       "    <tr>\n",
       "      <th>1519</th>\n",
       "      <td>2017년 02월 14일</td>\n",
       "      <td>2.472</td>\n",
       "      <td>2.436</td>\n",
       "      <td>2.502</td>\n",
       "      <td>2.427</td>\n",
       "      <td>1.47%</td>\n",
       "    </tr>\n",
       "    <tr>\n",
       "      <th>1520</th>\n",
       "      <td>2017년 02월 13일</td>\n",
       "      <td>2.436</td>\n",
       "      <td>2.423</td>\n",
       "      <td>2.452</td>\n",
       "      <td>2.416</td>\n",
       "      <td>0.44%</td>\n",
       "    </tr>\n",
       "    <tr>\n",
       "      <th>1521</th>\n",
       "      <td>2017년 02월 12일</td>\n",
       "      <td>2.425</td>\n",
       "      <td>2.409</td>\n",
       "      <td>2.429</td>\n",
       "      <td>2.409</td>\n",
       "      <td>0.66%</td>\n",
       "    </tr>\n",
       "    <tr>\n",
       "      <th>1522</th>\n",
       "      <td>2017년 02월 10일</td>\n",
       "      <td>2.409</td>\n",
       "      <td>2.400</td>\n",
       "      <td>2.434</td>\n",
       "      <td>2.397</td>\n",
       "      <td>0.52%</td>\n",
       "    </tr>\n",
       "  </tbody>\n",
       "</table>\n",
       "<p>1523 rows × 6 columns</p>\n",
       "</div>"
      ],
      "text/plain": [
       "                 날짜     종가     오픈     고가     저가    변동 %\n",
       "0     2022년 02월 10일  2.043  1.939  2.056  1.923   5.04%\n",
       "1     2022년 02월 09일  1.945  1.954  1.958  1.909  -1.01%\n",
       "2     2022년 02월 08일  1.965  1.921  1.970  1.921   2.37%\n",
       "3     2022년 02월 07일  1.919  1.908  1.939  1.896   0.48%\n",
       "4     2022년 02월 06일  1.910  1.918  1.918  1.910  -0.28%\n",
       "...             ...    ...    ...    ...    ...     ...\n",
       "1518  2017년 02월 15일  2.497  2.479  2.524  2.466   1.02%\n",
       "1519  2017년 02월 14일  2.472  2.436  2.502  2.427   1.47%\n",
       "1520  2017년 02월 13일  2.436  2.423  2.452  2.416   0.44%\n",
       "1521  2017년 02월 12일  2.425  2.409  2.429  2.409   0.66%\n",
       "1522  2017년 02월 10일  2.409  2.400  2.434  2.397   0.52%\n",
       "\n",
       "[1523 rows x 6 columns]"
      ]
     },
     "execution_count": 6,
     "metadata": {},
     "output_type": "execute_result"
    }
   ],
   "source": [
    "df = pd.read_csv('./data/미10년물 국채 금리.csv')\n",
    "df"
   ]
  },
  {
   "cell_type": "code",
   "execution_count": 7,
   "id": "e70d7047",
   "metadata": {},
   "outputs": [
    {
     "name": "stdout",
     "output_type": "stream",
     "text": [
      "<class 'pandas.core.frame.DataFrame'>\n",
      "RangeIndex: 1523 entries, 0 to 1522\n",
      "Data columns (total 6 columns):\n",
      " #   Column  Non-Null Count  Dtype  \n",
      "---  ------  --------------  -----  \n",
      " 0   날짜      1523 non-null   object \n",
      " 1   종가      1523 non-null   float64\n",
      " 2   오픈      1523 non-null   float64\n",
      " 3   고가      1523 non-null   float64\n",
      " 4   저가      1523 non-null   float64\n",
      " 5   변동 %    1523 non-null   object \n",
      "dtypes: float64(4), object(2)\n",
      "memory usage: 71.5+ KB\n"
     ]
    }
   ],
   "source": [
    "df.info()"
   ]
  },
  {
   "cell_type": "code",
   "execution_count": 8,
   "id": "76bc2158",
   "metadata": {},
   "outputs": [
    {
     "data": {
      "text/plain": [
       "0       2022-02-10\n",
       "1       2022-02-09\n",
       "2       2022-02-08\n",
       "3       2022-02-07\n",
       "4       2022-02-06\n",
       "           ...    \n",
       "1518    2017-02-15\n",
       "1519    2017-02-14\n",
       "1520    2017-02-13\n",
       "1521    2017-02-12\n",
       "1522    2017-02-10\n",
       "Name: 날짜, Length: 1523, dtype: object"
      ]
     },
     "execution_count": 8,
     "metadata": {},
     "output_type": "execute_result"
    }
   ],
   "source": [
    "df['날짜'] = df['날짜'].str.replace('년','-')\n",
    "df['날짜'] = df['날짜'].str.replace('월','-')\n",
    "df['날짜'] = df['날짜'].str.replace('일','')\n",
    "df['날짜'] = df['날짜'].str.replace(' ','')\n",
    "df['날짜']"
   ]
  },
  {
   "cell_type": "code",
   "execution_count": 9,
   "id": "6825336f",
   "metadata": {},
   "outputs": [],
   "source": [
    "df['날짜']= pd.to_datetime(df['날짜'])"
   ]
  },
  {
   "cell_type": "code",
   "execution_count": 10,
   "id": "a57ee6b7",
   "metadata": {},
   "outputs": [],
   "source": [
    "df_10= df.set_index('날짜').loc['2017-2-10':'2022-02-10'].resample('W-MON',label = 'left', closed='right')['종가'].last()\n",
    "df_10b = df_10.reset_index()\n",
    "df_10b.columns = ['날짜','미국채10년물금리']"
   ]
  },
  {
   "cell_type": "code",
   "execution_count": 11,
   "id": "0a302175",
   "metadata": {},
   "outputs": [
    {
     "data": {
      "text/html": [
       "<div>\n",
       "<style scoped>\n",
       "    .dataframe tbody tr th:only-of-type {\n",
       "        vertical-align: middle;\n",
       "    }\n",
       "\n",
       "    .dataframe tbody tr th {\n",
       "        vertical-align: top;\n",
       "    }\n",
       "\n",
       "    .dataframe thead th {\n",
       "        text-align: right;\n",
       "    }\n",
       "</style>\n",
       "<table border=\"1\" class=\"dataframe\">\n",
       "  <thead>\n",
       "    <tr style=\"text-align: right;\">\n",
       "      <th></th>\n",
       "      <th>날짜</th>\n",
       "      <th>미국채10년물금리</th>\n",
       "    </tr>\n",
       "  </thead>\n",
       "  <tbody>\n",
       "    <tr>\n",
       "      <th>0</th>\n",
       "      <td>2017-02-06</td>\n",
       "      <td>2.436</td>\n",
       "    </tr>\n",
       "    <tr>\n",
       "      <th>1</th>\n",
       "      <td>2017-02-13</td>\n",
       "      <td>2.436</td>\n",
       "    </tr>\n",
       "    <tr>\n",
       "      <th>2</th>\n",
       "      <td>2017-02-20</td>\n",
       "      <td>2.367</td>\n",
       "    </tr>\n",
       "    <tr>\n",
       "      <th>3</th>\n",
       "      <td>2017-02-27</td>\n",
       "      <td>2.494</td>\n",
       "    </tr>\n",
       "    <tr>\n",
       "      <th>4</th>\n",
       "      <td>2017-03-06</td>\n",
       "      <td>2.626</td>\n",
       "    </tr>\n",
       "    <tr>\n",
       "      <th>...</th>\n",
       "      <td>...</td>\n",
       "      <td>...</td>\n",
       "    </tr>\n",
       "    <tr>\n",
       "      <th>257</th>\n",
       "      <td>2022-01-10</td>\n",
       "      <td>1.809</td>\n",
       "    </tr>\n",
       "    <tr>\n",
       "      <th>258</th>\n",
       "      <td>2022-01-17</td>\n",
       "      <td>1.776</td>\n",
       "    </tr>\n",
       "    <tr>\n",
       "      <th>259</th>\n",
       "      <td>2022-01-24</td>\n",
       "      <td>1.784</td>\n",
       "    </tr>\n",
       "    <tr>\n",
       "      <th>260</th>\n",
       "      <td>2022-01-31</td>\n",
       "      <td>1.919</td>\n",
       "    </tr>\n",
       "    <tr>\n",
       "      <th>261</th>\n",
       "      <td>2022-02-07</td>\n",
       "      <td>2.043</td>\n",
       "    </tr>\n",
       "  </tbody>\n",
       "</table>\n",
       "<p>262 rows × 2 columns</p>\n",
       "</div>"
      ],
      "text/plain": [
       "            날짜  미국채10년물금리\n",
       "0   2017-02-06      2.436\n",
       "1   2017-02-13      2.436\n",
       "2   2017-02-20      2.367\n",
       "3   2017-02-27      2.494\n",
       "4   2017-03-06      2.626\n",
       "..         ...        ...\n",
       "257 2022-01-10      1.809\n",
       "258 2022-01-17      1.776\n",
       "259 2022-01-24      1.784\n",
       "260 2022-01-31      1.919\n",
       "261 2022-02-07      2.043\n",
       "\n",
       "[262 rows x 2 columns]"
      ]
     },
     "execution_count": 11,
     "metadata": {},
     "output_type": "execute_result"
    }
   ],
   "source": [
    "df_10b"
   ]
  },
  {
   "cell_type": "code",
   "execution_count": 12,
   "id": "5ef21ba8",
   "metadata": {},
   "outputs": [
    {
     "data": {
      "text/html": [
       "<div>\n",
       "<style scoped>\n",
       "    .dataframe tbody tr th:only-of-type {\n",
       "        vertical-align: middle;\n",
       "    }\n",
       "\n",
       "    .dataframe tbody tr th {\n",
       "        vertical-align: top;\n",
       "    }\n",
       "\n",
       "    .dataframe thead th {\n",
       "        text-align: right;\n",
       "    }\n",
       "</style>\n",
       "<table border=\"1\" class=\"dataframe\">\n",
       "  <thead>\n",
       "    <tr style=\"text-align: right;\">\n",
       "      <th></th>\n",
       "      <th>날짜</th>\n",
       "      <th>미국채10년물금리</th>\n",
       "      <th>두바이유(선물)종가</th>\n",
       "    </tr>\n",
       "  </thead>\n",
       "  <tbody>\n",
       "    <tr>\n",
       "      <th>0</th>\n",
       "      <td>2017-02-06</td>\n",
       "      <td>2.436</td>\n",
       "      <td>54.03</td>\n",
       "    </tr>\n",
       "    <tr>\n",
       "      <th>1</th>\n",
       "      <td>2017-02-13</td>\n",
       "      <td>2.436</td>\n",
       "      <td>54.22</td>\n",
       "    </tr>\n",
       "    <tr>\n",
       "      <th>2</th>\n",
       "      <td>2017-02-20</td>\n",
       "      <td>2.367</td>\n",
       "      <td>54.43</td>\n",
       "    </tr>\n",
       "  </tbody>\n",
       "</table>\n",
       "</div>"
      ],
      "text/plain": [
       "          날짜  미국채10년물금리  두바이유(선물)종가\n",
       "0 2017-02-06      2.436       54.03\n",
       "1 2017-02-13      2.436       54.22\n",
       "2 2017-02-20      2.367       54.43"
      ]
     },
     "execution_count": 12,
     "metadata": {},
     "output_type": "execute_result"
    }
   ],
   "source": [
    "# 유가데이터와 합치기\n",
    "df_du10b = pd.merge(df_10b, df_d)\n",
    "df_du10b.head(3)"
   ]
  },
  {
   "cell_type": "code",
   "execution_count": 13,
   "id": "e2bc9744",
   "metadata": {},
   "outputs": [
    {
     "name": "stdout",
     "output_type": "stream",
     "text": [
      "            미국채10년물금리  두바이유(선물)종가\n",
      "미국채10년물금리    1.000000    0.528771\n",
      "두바이유(선물)종가   0.528771    1.000000\n"
     ]
    }
   ],
   "source": [
    "corr = df_du10b.corr()\n",
    "print(corr)"
   ]
  },
  {
   "cell_type": "code",
   "execution_count": null,
   "id": "349b35be",
   "metadata": {},
   "outputs": [],
   "source": []
  },
  {
   "cell_type": "code",
   "execution_count": null,
   "id": "4ad1bfef",
   "metadata": {},
   "outputs": [],
   "source": []
  },
  {
   "cell_type": "markdown",
   "id": "f952a5be",
   "metadata": {},
   "source": [
    "## 원유재고"
   ]
  },
  {
   "cell_type": "code",
   "execution_count": 14,
   "id": "0a9b7fbf",
   "metadata": {},
   "outputs": [
    {
     "data": {
      "text/html": [
       "<div>\n",
       "<style scoped>\n",
       "    .dataframe tbody tr th:only-of-type {\n",
       "        vertical-align: middle;\n",
       "    }\n",
       "\n",
       "    .dataframe tbody tr th {\n",
       "        vertical-align: top;\n",
       "    }\n",
       "\n",
       "    .dataframe thead th {\n",
       "        text-align: right;\n",
       "    }\n",
       "</style>\n",
       "<table border=\"1\" class=\"dataframe\">\n",
       "  <thead>\n",
       "    <tr style=\"text-align: right;\">\n",
       "      <th></th>\n",
       "      <th>발표일</th>\n",
       "      <th>시간</th>\n",
       "      <th>발표</th>\n",
       "      <th>예측</th>\n",
       "      <th>이전</th>\n",
       "      <th>Unnamed: 5</th>\n",
       "    </tr>\n",
       "  </thead>\n",
       "  <tbody>\n",
       "    <tr>\n",
       "      <th>0</th>\n",
       "      <td>2022년 02월 17일</td>\n",
       "      <td>00:30</td>\n",
       "      <td>1.121M</td>\n",
       "      <td>-1.572M</td>\n",
       "      <td>-4.756M</td>\n",
       "      <td>NaN</td>\n",
       "    </tr>\n",
       "    <tr>\n",
       "      <th>1</th>\n",
       "      <td>2022년 02월 10일</td>\n",
       "      <td>00:30</td>\n",
       "      <td>-4.756M</td>\n",
       "      <td>0.369M</td>\n",
       "      <td>-1.046M</td>\n",
       "      <td>NaN</td>\n",
       "    </tr>\n",
       "    <tr>\n",
       "      <th>2</th>\n",
       "      <td>2022년 02월 03일</td>\n",
       "      <td>00:30</td>\n",
       "      <td>-1.046M</td>\n",
       "      <td>1.525M</td>\n",
       "      <td>2.377M</td>\n",
       "      <td>NaN</td>\n",
       "    </tr>\n",
       "  </tbody>\n",
       "</table>\n",
       "</div>"
      ],
      "text/plain": [
       "             발표일     시간       발표       예측       이전  Unnamed: 5\n",
       "0  2022년 02월 17일  00:30   1.121M  -1.572M  -4.756M         NaN\n",
       "1  2022년 02월 10일  00:30  -4.756M   0.369M  -1.046M         NaN\n",
       "2  2022년 02월 03일  00:30  -1.046M   1.525M   2.377M         NaN"
      ]
     },
     "execution_count": 14,
     "metadata": {},
     "output_type": "execute_result"
    }
   ],
   "source": [
    "df1 = pd.read_csv('./data/미국원유재고1.csv',delimiter='\\t')\n",
    "df1.head(3)"
   ]
  },
  {
   "cell_type": "code",
   "execution_count": 15,
   "id": "f706719b",
   "metadata": {},
   "outputs": [
    {
     "data": {
      "text/plain": [
       "0     2022-02-17\n",
       "1     2022-02-10\n",
       "2     2022-02-03\n",
       "3     2022-01-27\n",
       "4     2022-01-21\n",
       "         ...    \n",
       "259   2017-03-02\n",
       "260   2017-02-24\n",
       "261   2017-02-16\n",
       "262   2017-02-09\n",
       "263   2017-02-02\n",
       "Name: 발표일, Length: 264, dtype: datetime64[ns]"
      ]
     },
     "execution_count": 15,
     "metadata": {},
     "output_type": "execute_result"
    }
   ],
   "source": [
    "df1['발표일'] = df1['발표일'].str.replace('년','-')\n",
    "df1['발표일'] = df1['발표일'].str.replace('월','-')\n",
    "df1['발표일'] = df1['발표일'].str.replace('일','')\n",
    "df1['발표일'] = df1['발표일'].str.replace(' ','')\n",
    "df1['발표일'] = pd.to_datetime(df1['발표일'])\n",
    "df1['발표일']"
   ]
  },
  {
   "cell_type": "code",
   "execution_count": 16,
   "id": "65b6f8b5",
   "metadata": {},
   "outputs": [
    {
     "data": {
      "text/html": [
       "<div>\n",
       "<style scoped>\n",
       "    .dataframe tbody tr th:only-of-type {\n",
       "        vertical-align: middle;\n",
       "    }\n",
       "\n",
       "    .dataframe tbody tr th {\n",
       "        vertical-align: top;\n",
       "    }\n",
       "\n",
       "    .dataframe thead th {\n",
       "        text-align: right;\n",
       "    }\n",
       "</style>\n",
       "<table border=\"1\" class=\"dataframe\">\n",
       "  <thead>\n",
       "    <tr style=\"text-align: right;\">\n",
       "      <th></th>\n",
       "      <th>날짜</th>\n",
       "      <th>미국원유재고량</th>\n",
       "    </tr>\n",
       "  </thead>\n",
       "  <tbody>\n",
       "    <tr>\n",
       "      <th>0</th>\n",
       "      <td>2022-02-17</td>\n",
       "      <td>1.121M</td>\n",
       "    </tr>\n",
       "    <tr>\n",
       "      <th>1</th>\n",
       "      <td>2022-02-10</td>\n",
       "      <td>-4.756M</td>\n",
       "    </tr>\n",
       "    <tr>\n",
       "      <th>2</th>\n",
       "      <td>2022-02-03</td>\n",
       "      <td>-1.046M</td>\n",
       "    </tr>\n",
       "  </tbody>\n",
       "</table>\n",
       "</div>"
      ],
      "text/plain": [
       "          날짜  미국원유재고량\n",
       "0 2022-02-17   1.121M\n",
       "1 2022-02-10  -4.756M\n",
       "2 2022-02-03  -1.046M"
      ]
     },
     "execution_count": 16,
     "metadata": {},
     "output_type": "execute_result"
    }
   ],
   "source": [
    "df1 = df1.rename(columns= {'발표일':'날짜','발표':'미국원유재고량'})\n",
    "df1 = df1.drop(columns = ['시간','예측','이전','Unnamed: 5'])\n",
    "df1.head(3)"
   ]
  },
  {
   "cell_type": "code",
   "execution_count": 17,
   "id": "05e0075e",
   "metadata": {},
   "outputs": [
    {
     "data": {
      "text/html": [
       "<div>\n",
       "<style scoped>\n",
       "    .dataframe tbody tr th:only-of-type {\n",
       "        vertical-align: middle;\n",
       "    }\n",
       "\n",
       "    .dataframe tbody tr th {\n",
       "        vertical-align: top;\n",
       "    }\n",
       "\n",
       "    .dataframe thead th {\n",
       "        text-align: right;\n",
       "    }\n",
       "</style>\n",
       "<table border=\"1\" class=\"dataframe\">\n",
       "  <thead>\n",
       "    <tr style=\"text-align: right;\">\n",
       "      <th></th>\n",
       "      <th>날짜</th>\n",
       "      <th>미국원유재고량</th>\n",
       "    </tr>\n",
       "  </thead>\n",
       "  <tbody>\n",
       "    <tr>\n",
       "      <th>0</th>\n",
       "      <td>2022-02-17</td>\n",
       "      <td>1.121M</td>\n",
       "    </tr>\n",
       "    <tr>\n",
       "      <th>1</th>\n",
       "      <td>2022-02-10</td>\n",
       "      <td>-4.756M</td>\n",
       "    </tr>\n",
       "    <tr>\n",
       "      <th>2</th>\n",
       "      <td>2022-02-03</td>\n",
       "      <td>-1.046M</td>\n",
       "    </tr>\n",
       "    <tr>\n",
       "      <th>3</th>\n",
       "      <td>2022-01-27</td>\n",
       "      <td>2.377M</td>\n",
       "    </tr>\n",
       "    <tr>\n",
       "      <th>4</th>\n",
       "      <td>2022-01-21</td>\n",
       "      <td>0.515M</td>\n",
       "    </tr>\n",
       "  </tbody>\n",
       "</table>\n",
       "</div>"
      ],
      "text/plain": [
       "          날짜  미국원유재고량\n",
       "0 2022-02-17   1.121M\n",
       "1 2022-02-10  -4.756M\n",
       "2 2022-02-03  -1.046M\n",
       "3 2022-01-27   2.377M\n",
       "4 2022-01-21   0.515M"
      ]
     },
     "execution_count": 17,
     "metadata": {},
     "output_type": "execute_result"
    }
   ],
   "source": [
    "df1.head()"
   ]
  },
  {
   "cell_type": "code",
   "execution_count": 18,
   "id": "c6c5117c",
   "metadata": {},
   "outputs": [
    {
     "data": {
      "text/html": [
       "<div>\n",
       "<style scoped>\n",
       "    .dataframe tbody tr th:only-of-type {\n",
       "        vertical-align: middle;\n",
       "    }\n",
       "\n",
       "    .dataframe tbody tr th {\n",
       "        vertical-align: top;\n",
       "    }\n",
       "\n",
       "    .dataframe thead th {\n",
       "        text-align: right;\n",
       "    }\n",
       "</style>\n",
       "<table border=\"1\" class=\"dataframe\">\n",
       "  <thead>\n",
       "    <tr style=\"text-align: right;\">\n",
       "      <th></th>\n",
       "      <th>날짜</th>\n",
       "      <th>미국원유재고량</th>\n",
       "    </tr>\n",
       "  </thead>\n",
       "  <tbody>\n",
       "    <tr>\n",
       "      <th>0</th>\n",
       "      <td>2017-02-13</td>\n",
       "      <td>9.527M</td>\n",
       "    </tr>\n",
       "    <tr>\n",
       "      <th>1</th>\n",
       "      <td>2017-02-20</td>\n",
       "      <td>0.564M</td>\n",
       "    </tr>\n",
       "    <tr>\n",
       "      <th>2</th>\n",
       "      <td>2017-02-27</td>\n",
       "      <td>1.501M</td>\n",
       "    </tr>\n",
       "    <tr>\n",
       "      <th>3</th>\n",
       "      <td>2017-03-06</td>\n",
       "      <td>8.209M</td>\n",
       "    </tr>\n",
       "    <tr>\n",
       "      <th>4</th>\n",
       "      <td>2017-03-13</td>\n",
       "      <td>-0.237M</td>\n",
       "    </tr>\n",
       "    <tr>\n",
       "      <th>...</th>\n",
       "      <td>...</td>\n",
       "      <td>...</td>\n",
       "    </tr>\n",
       "    <tr>\n",
       "      <th>256</th>\n",
       "      <td>2022-01-10</td>\n",
       "      <td>-4.553M</td>\n",
       "    </tr>\n",
       "    <tr>\n",
       "      <th>257</th>\n",
       "      <td>2022-01-17</td>\n",
       "      <td>0.515M</td>\n",
       "    </tr>\n",
       "    <tr>\n",
       "      <th>258</th>\n",
       "      <td>2022-01-24</td>\n",
       "      <td>2.377M</td>\n",
       "    </tr>\n",
       "    <tr>\n",
       "      <th>259</th>\n",
       "      <td>2022-01-31</td>\n",
       "      <td>-1.046M</td>\n",
       "    </tr>\n",
       "    <tr>\n",
       "      <th>260</th>\n",
       "      <td>2022-02-07</td>\n",
       "      <td>-4.756M</td>\n",
       "    </tr>\n",
       "  </tbody>\n",
       "</table>\n",
       "<p>261 rows × 2 columns</p>\n",
       "</div>"
      ],
      "text/plain": [
       "            날짜  미국원유재고량\n",
       "0   2017-02-13   9.527M\n",
       "1   2017-02-20   0.564M\n",
       "2   2017-02-27   1.501M\n",
       "3   2017-03-06   8.209M\n",
       "4   2017-03-13  -0.237M\n",
       "..         ...      ...\n",
       "256 2022-01-10  -4.553M\n",
       "257 2022-01-17   0.515M\n",
       "258 2022-01-24   2.377M\n",
       "259 2022-01-31  -1.046M\n",
       "260 2022-02-07  -4.756M\n",
       "\n",
       "[261 rows x 2 columns]"
      ]
     },
     "execution_count": 18,
     "metadata": {},
     "output_type": "execute_result"
    }
   ],
   "source": [
    "df_oilstock= df1.set_index('날짜').loc['2017-2-10':'2022-02-10'].resample('W-MON',label = 'left', closed='right')['미국원유재고량'].last()\n",
    "df_oilstock = df_oilstock.reset_index()\n",
    "df_oilstock"
   ]
  },
  {
   "cell_type": "code",
   "execution_count": 19,
   "id": "e753d458",
   "metadata": {},
   "outputs": [
    {
     "name": "stdout",
     "output_type": "stream",
     "text": [
      "<class 'pandas.core.frame.DataFrame'>\n",
      "RangeIndex: 261 entries, 0 to 260\n",
      "Data columns (total 2 columns):\n",
      " #   Column   Non-Null Count  Dtype         \n",
      "---  ------   --------------  -----         \n",
      " 0   날짜       261 non-null    datetime64[ns]\n",
      " 1   미국원유재고량  261 non-null    object        \n",
      "dtypes: datetime64[ns](1), object(1)\n",
      "memory usage: 4.2+ KB\n"
     ]
    }
   ],
   "source": [
    "df_oilstock.info()"
   ]
  },
  {
   "cell_type": "code",
   "execution_count": 20,
   "id": "bea99b87",
   "metadata": {},
   "outputs": [],
   "source": [
    "# 원유재고량 float으로 바꾸기\n",
    "df_oilstock['미국원유재고량'] = df_oilstock['미국원유재고량'].apply(lambda x : x.replace('M',''))\n",
    "df_oilstock['미국원유재고량'] = df_oilstock['미국원유재고량'].astype(float)"
   ]
  },
  {
   "cell_type": "code",
   "execution_count": 21,
   "id": "9c6cea8e",
   "metadata": {},
   "outputs": [
    {
     "data": {
      "text/html": [
       "<div>\n",
       "<style scoped>\n",
       "    .dataframe tbody tr th:only-of-type {\n",
       "        vertical-align: middle;\n",
       "    }\n",
       "\n",
       "    .dataframe tbody tr th {\n",
       "        vertical-align: top;\n",
       "    }\n",
       "\n",
       "    .dataframe thead th {\n",
       "        text-align: right;\n",
       "    }\n",
       "</style>\n",
       "<table border=\"1\" class=\"dataframe\">\n",
       "  <thead>\n",
       "    <tr style=\"text-align: right;\">\n",
       "      <th></th>\n",
       "      <th>날짜</th>\n",
       "      <th>미국원유재고량</th>\n",
       "      <th>두바이유(선물)종가</th>\n",
       "    </tr>\n",
       "  </thead>\n",
       "  <tbody>\n",
       "    <tr>\n",
       "      <th>0</th>\n",
       "      <td>2017-02-13</td>\n",
       "      <td>9.527</td>\n",
       "      <td>54.22</td>\n",
       "    </tr>\n",
       "    <tr>\n",
       "      <th>1</th>\n",
       "      <td>2017-02-20</td>\n",
       "      <td>0.564</td>\n",
       "      <td>54.43</td>\n",
       "    </tr>\n",
       "    <tr>\n",
       "      <th>2</th>\n",
       "      <td>2017-02-27</td>\n",
       "      <td>1.501</td>\n",
       "      <td>54.32</td>\n",
       "    </tr>\n",
       "    <tr>\n",
       "      <th>3</th>\n",
       "      <td>2017-03-06</td>\n",
       "      <td>8.209</td>\n",
       "      <td>51.36</td>\n",
       "    </tr>\n",
       "    <tr>\n",
       "      <th>4</th>\n",
       "      <td>2017-03-13</td>\n",
       "      <td>-0.237</td>\n",
       "      <td>51.32</td>\n",
       "    </tr>\n",
       "  </tbody>\n",
       "</table>\n",
       "</div>"
      ],
      "text/plain": [
       "          날짜  미국원유재고량  두바이유(선물)종가\n",
       "0 2017-02-13    9.527       54.22\n",
       "1 2017-02-20    0.564       54.43\n",
       "2 2017-02-27    1.501       54.32\n",
       "3 2017-03-06    8.209       51.36\n",
       "4 2017-03-13   -0.237       51.32"
      ]
     },
     "execution_count": 21,
     "metadata": {},
     "output_type": "execute_result"
    }
   ],
   "source": [
    "# 합치기(dubai + oilstock duos)\n",
    "df_duos = pd.merge(df_oilstock, df_d)\n",
    "df_duos.head()"
   ]
  },
  {
   "cell_type": "code",
   "execution_count": 22,
   "id": "88299987",
   "metadata": {},
   "outputs": [
    {
     "name": "stdout",
     "output_type": "stream",
     "text": [
      "             미국원유재고량  두바이유(선물)종가\n",
      "미국원유재고량     1.000000   -0.101909\n",
      "두바이유(선물)종가 -0.101909    1.000000\n"
     ]
    }
   ],
   "source": [
    "corr = df_duos.corr()\n",
    "print(corr)  # 반비례는 맞지만 상관관계가 적다"
   ]
  },
  {
   "cell_type": "code",
   "execution_count": null,
   "id": "fcdbe26b",
   "metadata": {},
   "outputs": [],
   "source": []
  },
  {
   "cell_type": "code",
   "execution_count": null,
   "id": "cc2ae5f5",
   "metadata": {},
   "outputs": [],
   "source": []
  },
  {
   "cell_type": "code",
   "execution_count": null,
   "id": "3f1700e0",
   "metadata": {},
   "outputs": [],
   "source": []
  },
  {
   "cell_type": "markdown",
   "id": "20843f5a",
   "metadata": {},
   "source": [
    "## 미국 베이커휴즈 총 원유시추수"
   ]
  },
  {
   "cell_type": "code",
   "execution_count": 24,
   "id": "52080b16",
   "metadata": {},
   "outputs": [
    {
     "data": {
      "text/plain": [
       "'C:\\\\KDT4\\\\fintech\\\\프로젝트1\\\\final코드'"
      ]
     },
     "execution_count": 24,
     "metadata": {},
     "output_type": "execute_result"
    }
   ],
   "source": [
    "pwd"
   ]
  },
  {
   "cell_type": "code",
   "execution_count": 26,
   "id": "852d9ac1",
   "metadata": {},
   "outputs": [
    {
     "data": {
      "text/html": [
       "<div>\n",
       "<style scoped>\n",
       "    .dataframe tbody tr th:only-of-type {\n",
       "        vertical-align: middle;\n",
       "    }\n",
       "\n",
       "    .dataframe tbody tr th {\n",
       "        vertical-align: top;\n",
       "    }\n",
       "\n",
       "    .dataframe thead th {\n",
       "        text-align: right;\n",
       "    }\n",
       "</style>\n",
       "<table border=\"1\" class=\"dataframe\">\n",
       "  <thead>\n",
       "    <tr style=\"text-align: right;\">\n",
       "      <th></th>\n",
       "      <th>발표일</th>\n",
       "      <th>시간</th>\n",
       "      <th>발표</th>\n",
       "      <th>예측</th>\n",
       "      <th>이전</th>\n",
       "      <th>Unnamed: 5</th>\n",
       "    </tr>\n",
       "  </thead>\n",
       "  <tbody>\n",
       "    <tr>\n",
       "      <th>0</th>\n",
       "      <td>2022년 02월 19일</td>\n",
       "      <td>03:00</td>\n",
       "      <td></td>\n",
       "      <td></td>\n",
       "      <td>613</td>\n",
       "      <td>NaN</td>\n",
       "    </tr>\n",
       "    <tr>\n",
       "      <th>1</th>\n",
       "      <td>2022년 02월 12일</td>\n",
       "      <td>03:00</td>\n",
       "      <td>635</td>\n",
       "      <td></td>\n",
       "      <td>613</td>\n",
       "      <td>NaN</td>\n",
       "    </tr>\n",
       "    <tr>\n",
       "      <th>2</th>\n",
       "      <td>2022년 02월 05일</td>\n",
       "      <td>03:00</td>\n",
       "      <td>613</td>\n",
       "      <td></td>\n",
       "      <td>610</td>\n",
       "      <td>NaN</td>\n",
       "    </tr>\n",
       "  </tbody>\n",
       "</table>\n",
       "</div>"
      ],
      "text/plain": [
       "             발표일     시간   발표 예측   이전  Unnamed: 5\n",
       "0  2022년 02월 19일  03:00          613         NaN\n",
       "1  2022년 02월 12일  03:00  635     613         NaN\n",
       "2  2022년 02월 05일  03:00  613     610         NaN"
      ]
     },
     "execution_count": 26,
     "metadata": {},
     "output_type": "execute_result"
    }
   ],
   "source": [
    "df2 = pd.read_csv('./data/미국베이커휴즈원유시추수.csv',sep='\\t')  # 2018년 1월 6일 ~ 2022년 2월 \n",
    "df2.head(3)"
   ]
  },
  {
   "cell_type": "code",
   "execution_count": 27,
   "id": "5e389ef4",
   "metadata": {},
   "outputs": [
    {
     "data": {
      "text/html": [
       "<div>\n",
       "<style scoped>\n",
       "    .dataframe tbody tr th:only-of-type {\n",
       "        vertical-align: middle;\n",
       "    }\n",
       "\n",
       "    .dataframe tbody tr th {\n",
       "        vertical-align: top;\n",
       "    }\n",
       "\n",
       "    .dataframe thead th {\n",
       "        text-align: right;\n",
       "    }\n",
       "</style>\n",
       "<table border=\"1\" class=\"dataframe\">\n",
       "  <thead>\n",
       "    <tr style=\"text-align: right;\">\n",
       "      <th></th>\n",
       "      <th>발표일</th>\n",
       "      <th>시간</th>\n",
       "      <th>발표</th>\n",
       "      <th>예측</th>\n",
       "      <th>이전</th>\n",
       "      <th>Unnamed: 5</th>\n",
       "    </tr>\n",
       "  </thead>\n",
       "  <tbody>\n",
       "    <tr>\n",
       "      <th>211</th>\n",
       "      <td>2018년 01월 20일</td>\n",
       "      <td>03:00</td>\n",
       "      <td>936.0</td>\n",
       "      <td></td>\n",
       "      <td>939.0</td>\n",
       "      <td>NaN</td>\n",
       "    </tr>\n",
       "    <tr>\n",
       "      <th>212</th>\n",
       "      <td>2018년 01월 13일</td>\n",
       "      <td>03:00</td>\n",
       "      <td>939.0</td>\n",
       "      <td></td>\n",
       "      <td>924.0</td>\n",
       "      <td>NaN</td>\n",
       "    </tr>\n",
       "    <tr>\n",
       "      <th>213</th>\n",
       "      <td>2018년 01월 06일</td>\n",
       "      <td>03:00</td>\n",
       "      <td>924.0</td>\n",
       "      <td></td>\n",
       "      <td>929.0</td>\n",
       "      <td>NaN</td>\n",
       "    </tr>\n",
       "  </tbody>\n",
       "</table>\n",
       "</div>"
      ],
      "text/plain": [
       "               발표일     시간     발표 예측     이전  Unnamed: 5\n",
       "211  2018년 01월 20일  03:00  936.0     939.0         NaN\n",
       "212  2018년 01월 13일  03:00  939.0     924.0         NaN\n",
       "213  2018년 01월 06일  03:00  924.0     929.0         NaN"
      ]
     },
     "execution_count": 27,
     "metadata": {},
     "output_type": "execute_result"
    }
   ],
   "source": [
    "df2.tail(3)"
   ]
  },
  {
   "cell_type": "code",
   "execution_count": 28,
   "id": "a2d63937",
   "metadata": {},
   "outputs": [
    {
     "data": {
      "text/html": [
       "<div>\n",
       "<style scoped>\n",
       "    .dataframe tbody tr th:only-of-type {\n",
       "        vertical-align: middle;\n",
       "    }\n",
       "\n",
       "    .dataframe tbody tr th {\n",
       "        vertical-align: top;\n",
       "    }\n",
       "\n",
       "    .dataframe thead th {\n",
       "        text-align: right;\n",
       "    }\n",
       "</style>\n",
       "<table border=\"1\" class=\"dataframe\">\n",
       "  <thead>\n",
       "    <tr style=\"text-align: right;\">\n",
       "      <th></th>\n",
       "      <th>발표일</th>\n",
       "      <th>발표</th>\n",
       "    </tr>\n",
       "  </thead>\n",
       "  <tbody>\n",
       "    <tr>\n",
       "      <th>0</th>\n",
       "      <td>2022년 02월 19일</td>\n",
       "      <td></td>\n",
       "    </tr>\n",
       "    <tr>\n",
       "      <th>1</th>\n",
       "      <td>2022년 02월 12일</td>\n",
       "      <td>635</td>\n",
       "    </tr>\n",
       "    <tr>\n",
       "      <th>2</th>\n",
       "      <td>2022년 02월 05일</td>\n",
       "      <td>613</td>\n",
       "    </tr>\n",
       "  </tbody>\n",
       "</table>\n",
       "</div>"
      ],
      "text/plain": [
       "             발표일   발표\n",
       "0  2022년 02월 19일     \n",
       "1  2022년 02월 12일  635\n",
       "2  2022년 02월 05일  613"
      ]
     },
     "execution_count": 28,
     "metadata": {},
     "output_type": "execute_result"
    }
   ],
   "source": [
    "df2.drop(columns=['시간','예측','이전','Unnamed: 5'], inplace= True)\n",
    "df2.head(3)"
   ]
  },
  {
   "cell_type": "code",
   "execution_count": 29,
   "id": "dabd742d",
   "metadata": {},
   "outputs": [
    {
     "data": {
      "text/plain": [
       "발표일    0\n",
       "발표     0\n",
       "dtype: int64"
      ]
     },
     "execution_count": 29,
     "metadata": {},
     "output_type": "execute_result"
    }
   ],
   "source": [
    "# 결측치 확인\n",
    "df2.isnull().sum()"
   ]
  },
  {
   "cell_type": "code",
   "execution_count": 30,
   "id": "b76d3030",
   "metadata": {},
   "outputs": [
    {
     "data": {
      "text/html": [
       "<div>\n",
       "<style scoped>\n",
       "    .dataframe tbody tr th:only-of-type {\n",
       "        vertical-align: middle;\n",
       "    }\n",
       "\n",
       "    .dataframe tbody tr th {\n",
       "        vertical-align: top;\n",
       "    }\n",
       "\n",
       "    .dataframe thead th {\n",
       "        text-align: right;\n",
       "    }\n",
       "</style>\n",
       "<table border=\"1\" class=\"dataframe\">\n",
       "  <thead>\n",
       "    <tr style=\"text-align: right;\">\n",
       "      <th></th>\n",
       "      <th>발표일</th>\n",
       "      <th>발표</th>\n",
       "    </tr>\n",
       "  </thead>\n",
       "  <tbody>\n",
       "    <tr>\n",
       "      <th>2</th>\n",
       "      <td>2022년 02월 05일</td>\n",
       "      <td>613</td>\n",
       "    </tr>\n",
       "    <tr>\n",
       "      <th>3</th>\n",
       "      <td>2022년 01월 29일</td>\n",
       "      <td>610</td>\n",
       "    </tr>\n",
       "  </tbody>\n",
       "</table>\n",
       "</div>"
      ],
      "text/plain": [
       "             발표일   발표\n",
       "2  2022년 02월 05일  613\n",
       "3  2022년 01월 29일  610"
      ]
     },
     "execution_count": 30,
     "metadata": {},
     "output_type": "execute_result"
    }
   ],
   "source": [
    "# 0행 1행 삭제 (유가데이터 2월 7일까지이므로)\n",
    "df2 = df2.drop(index=[0,1])\n",
    "df2.head(2)"
   ]
  },
  {
   "cell_type": "code",
   "execution_count": 31,
   "id": "36923ecb",
   "metadata": {},
   "outputs": [],
   "source": [
    "df2['발표일'] = df2['발표일'].str.replace('년','-')\n",
    "df2['발표일'] = df2['발표일'].str.replace('월','-')\n",
    "df2['발표일'] = df2['발표일'].str.replace('일','')\n",
    "df2['발표일'] = df2['발표일'].str.replace(' ','')\n",
    "df2['발표일'] = pd.to_datetime(df2['발표일'])"
   ]
  },
  {
   "cell_type": "code",
   "execution_count": 32,
   "id": "a3e5025e",
   "metadata": {},
   "outputs": [
    {
     "data": {
      "text/html": [
       "<div>\n",
       "<style scoped>\n",
       "    .dataframe tbody tr th:only-of-type {\n",
       "        vertical-align: middle;\n",
       "    }\n",
       "\n",
       "    .dataframe tbody tr th {\n",
       "        vertical-align: top;\n",
       "    }\n",
       "\n",
       "    .dataframe thead th {\n",
       "        text-align: right;\n",
       "    }\n",
       "</style>\n",
       "<table border=\"1\" class=\"dataframe\">\n",
       "  <thead>\n",
       "    <tr style=\"text-align: right;\">\n",
       "      <th></th>\n",
       "      <th>발표일</th>\n",
       "      <th>발표</th>\n",
       "    </tr>\n",
       "  </thead>\n",
       "  <tbody>\n",
       "    <tr>\n",
       "      <th>2</th>\n",
       "      <td>2022-02-05</td>\n",
       "      <td>613</td>\n",
       "    </tr>\n",
       "    <tr>\n",
       "      <th>3</th>\n",
       "      <td>2022-01-29</td>\n",
       "      <td>610</td>\n",
       "    </tr>\n",
       "    <tr>\n",
       "      <th>4</th>\n",
       "      <td>2022-01-22</td>\n",
       "      <td>604</td>\n",
       "    </tr>\n",
       "  </tbody>\n",
       "</table>\n",
       "</div>"
      ],
      "text/plain": [
       "         발표일   발표\n",
       "2 2022-02-05  613\n",
       "3 2022-01-29  610\n",
       "4 2022-01-22  604"
      ]
     },
     "execution_count": 32,
     "metadata": {},
     "output_type": "execute_result"
    }
   ],
   "source": [
    "df2.head(3)"
   ]
  },
  {
   "cell_type": "code",
   "execution_count": 33,
   "id": "f949ec68",
   "metadata": {},
   "outputs": [
    {
     "data": {
      "text/html": [
       "<div>\n",
       "<style scoped>\n",
       "    .dataframe tbody tr th:only-of-type {\n",
       "        vertical-align: middle;\n",
       "    }\n",
       "\n",
       "    .dataframe tbody tr th {\n",
       "        vertical-align: top;\n",
       "    }\n",
       "\n",
       "    .dataframe thead th {\n",
       "        text-align: right;\n",
       "    }\n",
       "</style>\n",
       "<table border=\"1\" class=\"dataframe\">\n",
       "  <thead>\n",
       "    <tr style=\"text-align: right;\">\n",
       "      <th></th>\n",
       "      <th>날짜</th>\n",
       "      <th>원유시추수</th>\n",
       "    </tr>\n",
       "  </thead>\n",
       "  <tbody>\n",
       "    <tr>\n",
       "      <th>2</th>\n",
       "      <td>2022-02-05</td>\n",
       "      <td>613</td>\n",
       "    </tr>\n",
       "    <tr>\n",
       "      <th>3</th>\n",
       "      <td>2022-01-29</td>\n",
       "      <td>610</td>\n",
       "    </tr>\n",
       "    <tr>\n",
       "      <th>4</th>\n",
       "      <td>2022-01-22</td>\n",
       "      <td>604</td>\n",
       "    </tr>\n",
       "  </tbody>\n",
       "</table>\n",
       "</div>"
      ],
      "text/plain": [
       "          날짜 원유시추수\n",
       "2 2022-02-05   613\n",
       "3 2022-01-29   610\n",
       "4 2022-01-22   604"
      ]
     },
     "execution_count": 33,
     "metadata": {},
     "output_type": "execute_result"
    }
   ],
   "source": [
    "df2.columns = ['날짜', '원유시추수']\n",
    "df2.head(3)"
   ]
  },
  {
   "cell_type": "code",
   "execution_count": 34,
   "id": "c16699f6",
   "metadata": {},
   "outputs": [
    {
     "data": {
      "text/plain": [
       "2     2022-02-07\n",
       "3     2022-01-31\n",
       "4     2022-01-24\n",
       "5     2022-01-17\n",
       "6     2022-01-10\n",
       "         ...    \n",
       "209   2018-02-05\n",
       "210   2018-01-29\n",
       "211   2018-01-22\n",
       "212   2018-01-15\n",
       "213   2018-01-08\n",
       "Name: 날짜, Length: 212, dtype: datetime64[ns]"
      ]
     },
     "execution_count": 34,
     "metadata": {},
     "output_type": "execute_result"
    }
   ],
   "source": [
    "df2['날짜'] = df2['날짜'] + timedelta(days =2)\n",
    "df2['날짜']"
   ]
  },
  {
   "cell_type": "code",
   "execution_count": 35,
   "id": "2b59d6e4",
   "metadata": {},
   "outputs": [
    {
     "data": {
      "text/html": [
       "<div>\n",
       "<style scoped>\n",
       "    .dataframe tbody tr th:only-of-type {\n",
       "        vertical-align: middle;\n",
       "    }\n",
       "\n",
       "    .dataframe tbody tr th {\n",
       "        vertical-align: top;\n",
       "    }\n",
       "\n",
       "    .dataframe thead th {\n",
       "        text-align: right;\n",
       "    }\n",
       "</style>\n",
       "<table border=\"1\" class=\"dataframe\">\n",
       "  <thead>\n",
       "    <tr style=\"text-align: right;\">\n",
       "      <th></th>\n",
       "      <th>날짜</th>\n",
       "      <th>두바이유(선물)종가</th>\n",
       "    </tr>\n",
       "  </thead>\n",
       "  <tbody>\n",
       "    <tr>\n",
       "      <th>0</th>\n",
       "      <td>2018-01-08</td>\n",
       "      <td>66.360</td>\n",
       "    </tr>\n",
       "    <tr>\n",
       "      <th>1</th>\n",
       "      <td>2018-01-15</td>\n",
       "      <td>65.970</td>\n",
       "    </tr>\n",
       "    <tr>\n",
       "      <th>2</th>\n",
       "      <td>2018-01-22</td>\n",
       "      <td>66.230</td>\n",
       "    </tr>\n",
       "    <tr>\n",
       "      <th>3</th>\n",
       "      <td>2018-01-29</td>\n",
       "      <td>64.990</td>\n",
       "    </tr>\n",
       "    <tr>\n",
       "      <th>4</th>\n",
       "      <td>2018-02-05</td>\n",
       "      <td>61.160</td>\n",
       "    </tr>\n",
       "    <tr>\n",
       "      <th>...</th>\n",
       "      <td>...</td>\n",
       "      <td>...</td>\n",
       "    </tr>\n",
       "    <tr>\n",
       "      <th>209</th>\n",
       "      <td>2022-01-10</td>\n",
       "      <td>82.269</td>\n",
       "    </tr>\n",
       "    <tr>\n",
       "      <th>210</th>\n",
       "      <td>2022-01-17</td>\n",
       "      <td>82.868</td>\n",
       "    </tr>\n",
       "    <tr>\n",
       "      <th>211</th>\n",
       "      <td>2022-01-24</td>\n",
       "      <td>83.455</td>\n",
       "    </tr>\n",
       "    <tr>\n",
       "      <th>212</th>\n",
       "      <td>2022-01-31</td>\n",
       "      <td>90.757</td>\n",
       "    </tr>\n",
       "    <tr>\n",
       "      <th>213</th>\n",
       "      <td>2022-02-07</td>\n",
       "      <td>89.883</td>\n",
       "    </tr>\n",
       "  </tbody>\n",
       "</table>\n",
       "<p>214 rows × 2 columns</p>\n",
       "</div>"
      ],
      "text/plain": [
       "            날짜  두바이유(선물)종가\n",
       "0   2018-01-08      66.360\n",
       "1   2018-01-15      65.970\n",
       "2   2018-01-22      66.230\n",
       "3   2018-01-29      64.990\n",
       "4   2018-02-05      61.160\n",
       "..         ...         ...\n",
       "209 2022-01-10      82.269\n",
       "210 2022-01-17      82.868\n",
       "211 2022-01-24      83.455\n",
       "212 2022-01-31      90.757\n",
       "213 2022-02-07      89.883\n",
       "\n",
       "[214 rows x 2 columns]"
      ]
     },
     "execution_count": 35,
     "metadata": {},
     "output_type": "execute_result"
    }
   ],
   "source": [
    "# 유가데이터 맞춰주기\n",
    "\n",
    "df_db = df_d.set_index('날짜').loc['2018-01-06':]\n",
    "df_db = df_db.reset_index()\n",
    "df_db\n"
   ]
  },
  {
   "cell_type": "code",
   "execution_count": 36,
   "id": "32c9a2d7",
   "metadata": {},
   "outputs": [
    {
     "data": {
      "text/html": [
       "<div>\n",
       "<style scoped>\n",
       "    .dataframe tbody tr th:only-of-type {\n",
       "        vertical-align: middle;\n",
       "    }\n",
       "\n",
       "    .dataframe tbody tr th {\n",
       "        vertical-align: top;\n",
       "    }\n",
       "\n",
       "    .dataframe thead th {\n",
       "        text-align: right;\n",
       "    }\n",
       "</style>\n",
       "<table border=\"1\" class=\"dataframe\">\n",
       "  <thead>\n",
       "    <tr style=\"text-align: right;\">\n",
       "      <th></th>\n",
       "      <th>날짜</th>\n",
       "      <th>원유시추수</th>\n",
       "      <th>두바이유(선물)종가</th>\n",
       "    </tr>\n",
       "  </thead>\n",
       "  <tbody>\n",
       "    <tr>\n",
       "      <th>0</th>\n",
       "      <td>2022-02-07</td>\n",
       "      <td>613</td>\n",
       "      <td>89.883</td>\n",
       "    </tr>\n",
       "    <tr>\n",
       "      <th>1</th>\n",
       "      <td>2022-01-31</td>\n",
       "      <td>610</td>\n",
       "      <td>90.757</td>\n",
       "    </tr>\n",
       "    <tr>\n",
       "      <th>2</th>\n",
       "      <td>2022-01-24</td>\n",
       "      <td>604</td>\n",
       "      <td>83.455</td>\n",
       "    </tr>\n",
       "    <tr>\n",
       "      <th>3</th>\n",
       "      <td>2022-01-17</td>\n",
       "      <td>601</td>\n",
       "      <td>82.868</td>\n",
       "    </tr>\n",
       "    <tr>\n",
       "      <th>4</th>\n",
       "      <td>2022-01-10</td>\n",
       "      <td>588</td>\n",
       "      <td>82.269</td>\n",
       "    </tr>\n",
       "    <tr>\n",
       "      <th>...</th>\n",
       "      <td>...</td>\n",
       "      <td>...</td>\n",
       "      <td>...</td>\n",
       "    </tr>\n",
       "    <tr>\n",
       "      <th>194</th>\n",
       "      <td>2018-02-05</td>\n",
       "      <td>946.0</td>\n",
       "      <td>61.160</td>\n",
       "    </tr>\n",
       "    <tr>\n",
       "      <th>195</th>\n",
       "      <td>2018-01-29</td>\n",
       "      <td>947.0</td>\n",
       "      <td>64.990</td>\n",
       "    </tr>\n",
       "    <tr>\n",
       "      <th>196</th>\n",
       "      <td>2018-01-22</td>\n",
       "      <td>936.0</td>\n",
       "      <td>66.230</td>\n",
       "    </tr>\n",
       "    <tr>\n",
       "      <th>197</th>\n",
       "      <td>2018-01-15</td>\n",
       "      <td>939.0</td>\n",
       "      <td>65.970</td>\n",
       "    </tr>\n",
       "    <tr>\n",
       "      <th>198</th>\n",
       "      <td>2018-01-08</td>\n",
       "      <td>924.0</td>\n",
       "      <td>66.360</td>\n",
       "    </tr>\n",
       "  </tbody>\n",
       "</table>\n",
       "<p>199 rows × 3 columns</p>\n",
       "</div>"
      ],
      "text/plain": [
       "            날짜  원유시추수  두바이유(선물)종가\n",
       "0   2022-02-07    613      89.883\n",
       "1   2022-01-31    610      90.757\n",
       "2   2022-01-24    604      83.455\n",
       "3   2022-01-17    601      82.868\n",
       "4   2022-01-10    588      82.269\n",
       "..         ...    ...         ...\n",
       "194 2018-02-05  946.0      61.160\n",
       "195 2018-01-29  947.0      64.990\n",
       "196 2018-01-22  936.0      66.230\n",
       "197 2018-01-15  939.0      65.970\n",
       "198 2018-01-08  924.0      66.360\n",
       "\n",
       "[199 rows x 3 columns]"
      ]
     },
     "execution_count": 36,
     "metadata": {},
     "output_type": "execute_result"
    }
   ],
   "source": [
    "# 유가데이터 원유시추 합치기\n",
    "\n",
    "df_dubh = pd.merge(df2, df_db, on='날짜')\n",
    "df_dubh"
   ]
  },
  {
   "cell_type": "code",
   "execution_count": 37,
   "id": "e003f92d",
   "metadata": {},
   "outputs": [
    {
     "name": "stdout",
     "output_type": "stream",
     "text": [
      "<class 'pandas.core.frame.DataFrame'>\n",
      "Int64Index: 199 entries, 0 to 198\n",
      "Data columns (total 3 columns):\n",
      " #   Column      Non-Null Count  Dtype         \n",
      "---  ------      --------------  -----         \n",
      " 0   날짜          199 non-null    datetime64[ns]\n",
      " 1   원유시추수       199 non-null    object        \n",
      " 2   두바이유(선물)종가  193 non-null    float64       \n",
      "dtypes: datetime64[ns](1), float64(1), object(1)\n",
      "memory usage: 6.2+ KB\n"
     ]
    }
   ],
   "source": [
    "df_dubh.info()"
   ]
  },
  {
   "cell_type": "code",
   "execution_count": 38,
   "id": "45c1b63a",
   "metadata": {},
   "outputs": [],
   "source": [
    "df_dubh['원유시추수'] = df_dubh['원유시추수'].apply(lambda x :x.replace(',',''))"
   ]
  },
  {
   "cell_type": "code",
   "execution_count": 39,
   "id": "108a48d8",
   "metadata": {},
   "outputs": [],
   "source": [
    "df_dubh['원유시추수'] = df_dubh['원유시추수'].astype(float)"
   ]
  },
  {
   "cell_type": "code",
   "execution_count": 40,
   "id": "b2d98fa2",
   "metadata": {},
   "outputs": [
    {
     "data": {
      "text/html": [
       "<div>\n",
       "<style scoped>\n",
       "    .dataframe tbody tr th:only-of-type {\n",
       "        vertical-align: middle;\n",
       "    }\n",
       "\n",
       "    .dataframe tbody tr th {\n",
       "        vertical-align: top;\n",
       "    }\n",
       "\n",
       "    .dataframe thead th {\n",
       "        text-align: right;\n",
       "    }\n",
       "</style>\n",
       "<table border=\"1\" class=\"dataframe\">\n",
       "  <thead>\n",
       "    <tr style=\"text-align: right;\">\n",
       "      <th></th>\n",
       "      <th>날짜</th>\n",
       "      <th>원유시추수</th>\n",
       "      <th>두바이유(선물)종가</th>\n",
       "    </tr>\n",
       "  </thead>\n",
       "  <tbody>\n",
       "    <tr>\n",
       "      <th>0</th>\n",
       "      <td>2022-02-07</td>\n",
       "      <td>613.0</td>\n",
       "      <td>89.883</td>\n",
       "    </tr>\n",
       "    <tr>\n",
       "      <th>1</th>\n",
       "      <td>2022-01-31</td>\n",
       "      <td>610.0</td>\n",
       "      <td>90.757</td>\n",
       "    </tr>\n",
       "    <tr>\n",
       "      <th>2</th>\n",
       "      <td>2022-01-24</td>\n",
       "      <td>604.0</td>\n",
       "      <td>83.455</td>\n",
       "    </tr>\n",
       "    <tr>\n",
       "      <th>3</th>\n",
       "      <td>2022-01-17</td>\n",
       "      <td>601.0</td>\n",
       "      <td>82.868</td>\n",
       "    </tr>\n",
       "    <tr>\n",
       "      <th>4</th>\n",
       "      <td>2022-01-10</td>\n",
       "      <td>588.0</td>\n",
       "      <td>82.269</td>\n",
       "    </tr>\n",
       "    <tr>\n",
       "      <th>...</th>\n",
       "      <td>...</td>\n",
       "      <td>...</td>\n",
       "      <td>...</td>\n",
       "    </tr>\n",
       "    <tr>\n",
       "      <th>194</th>\n",
       "      <td>2018-02-05</td>\n",
       "      <td>946.0</td>\n",
       "      <td>61.160</td>\n",
       "    </tr>\n",
       "    <tr>\n",
       "      <th>195</th>\n",
       "      <td>2018-01-29</td>\n",
       "      <td>947.0</td>\n",
       "      <td>64.990</td>\n",
       "    </tr>\n",
       "    <tr>\n",
       "      <th>196</th>\n",
       "      <td>2018-01-22</td>\n",
       "      <td>936.0</td>\n",
       "      <td>66.230</td>\n",
       "    </tr>\n",
       "    <tr>\n",
       "      <th>197</th>\n",
       "      <td>2018-01-15</td>\n",
       "      <td>939.0</td>\n",
       "      <td>65.970</td>\n",
       "    </tr>\n",
       "    <tr>\n",
       "      <th>198</th>\n",
       "      <td>2018-01-08</td>\n",
       "      <td>924.0</td>\n",
       "      <td>66.360</td>\n",
       "    </tr>\n",
       "  </tbody>\n",
       "</table>\n",
       "<p>199 rows × 3 columns</p>\n",
       "</div>"
      ],
      "text/plain": [
       "            날짜  원유시추수  두바이유(선물)종가\n",
       "0   2022-02-07  613.0      89.883\n",
       "1   2022-01-31  610.0      90.757\n",
       "2   2022-01-24  604.0      83.455\n",
       "3   2022-01-17  601.0      82.868\n",
       "4   2022-01-10  588.0      82.269\n",
       "..         ...    ...         ...\n",
       "194 2018-02-05  946.0      61.160\n",
       "195 2018-01-29  947.0      64.990\n",
       "196 2018-01-22  936.0      66.230\n",
       "197 2018-01-15  939.0      65.970\n",
       "198 2018-01-08  924.0      66.360\n",
       "\n",
       "[199 rows x 3 columns]"
      ]
     },
     "execution_count": 40,
     "metadata": {},
     "output_type": "execute_result"
    }
   ],
   "source": [
    "df_dubh"
   ]
  },
  {
   "cell_type": "code",
   "execution_count": 41,
   "id": "7b22bbda",
   "metadata": {},
   "outputs": [
    {
     "name": "stdout",
     "output_type": "stream",
     "text": [
      "               원유시추수  두바이유(선물)종가\n",
      "원유시추수       1.000000    0.411272\n",
      "두바이유(선물)종가  0.411272    1.000000\n"
     ]
    }
   ],
   "source": [
    "corr = df_dubh.corr()\n",
    "print(corr)"
   ]
  },
  {
   "cell_type": "code",
   "execution_count": 55,
   "id": "ba7352f8",
   "metadata": {},
   "outputs": [
    {
     "name": "stdout",
     "output_type": "stream",
     "text": [
      "<class 'pandas.core.frame.DataFrame'>\n",
      "Int64Index: 199 entries, 0 to 198\n",
      "Data columns (total 3 columns):\n",
      " #   Column      Non-Null Count  Dtype         \n",
      "---  ------      --------------  -----         \n",
      " 0   날짜          199 non-null    datetime64[ns]\n",
      " 1   원유시추수       199 non-null    float64       \n",
      " 2   두바이유(선물)종가  193 non-null    float64       \n",
      "dtypes: datetime64[ns](1), float64(2)\n",
      "memory usage: 6.2 KB\n"
     ]
    }
   ],
   "source": [
    "df_dubh.info()"
   ]
  },
  {
   "cell_type": "code",
   "execution_count": 64,
   "id": "3c35fda7",
   "metadata": {},
   "outputs": [
    {
     "data": {
      "text/html": [
       "<div>\n",
       "<style scoped>\n",
       "    .dataframe tbody tr th:only-of-type {\n",
       "        vertical-align: middle;\n",
       "    }\n",
       "\n",
       "    .dataframe tbody tr th {\n",
       "        vertical-align: top;\n",
       "    }\n",
       "\n",
       "    .dataframe thead th {\n",
       "        text-align: right;\n",
       "    }\n",
       "</style>\n",
       "<table border=\"1\" class=\"dataframe\">\n",
       "  <thead>\n",
       "    <tr style=\"text-align: right;\">\n",
       "      <th></th>\n",
       "      <th>원유시추수</th>\n",
       "      <th>두바이유(선물)종가</th>\n",
       "    </tr>\n",
       "  </thead>\n",
       "  <tbody>\n",
       "    <tr>\n",
       "      <th>0</th>\n",
       "      <td>0.439809</td>\n",
       "      <td>0.987582</td>\n",
       "    </tr>\n",
       "    <tr>\n",
       "      <th>1</th>\n",
       "      <td>0.436234</td>\n",
       "      <td>1.000000</td>\n",
       "    </tr>\n",
       "    <tr>\n",
       "      <th>2</th>\n",
       "      <td>0.429082</td>\n",
       "      <td>0.896253</td>\n",
       "    </tr>\n",
       "    <tr>\n",
       "      <th>3</th>\n",
       "      <td>0.425507</td>\n",
       "      <td>0.887913</td>\n",
       "    </tr>\n",
       "    <tr>\n",
       "      <th>4</th>\n",
       "      <td>0.410012</td>\n",
       "      <td>0.879403</td>\n",
       "    </tr>\n",
       "    <tr>\n",
       "      <th>...</th>\n",
       "      <td>...</td>\n",
       "      <td>...</td>\n",
       "    </tr>\n",
       "    <tr>\n",
       "      <th>194</th>\n",
       "      <td>0.836710</td>\n",
       "      <td>0.579487</td>\n",
       "    </tr>\n",
       "    <tr>\n",
       "      <th>195</th>\n",
       "      <td>0.837902</td>\n",
       "      <td>0.633903</td>\n",
       "    </tr>\n",
       "    <tr>\n",
       "      <th>196</th>\n",
       "      <td>0.824791</td>\n",
       "      <td>0.651521</td>\n",
       "    </tr>\n",
       "    <tr>\n",
       "      <th>197</th>\n",
       "      <td>0.828367</td>\n",
       "      <td>0.647827</td>\n",
       "    </tr>\n",
       "    <tr>\n",
       "      <th>198</th>\n",
       "      <td>0.810489</td>\n",
       "      <td>0.653368</td>\n",
       "    </tr>\n",
       "  </tbody>\n",
       "</table>\n",
       "<p>199 rows × 2 columns</p>\n",
       "</div>"
      ],
      "text/plain": [
       "        원유시추수  두바이유(선물)종가\n",
       "0    0.439809    0.987582\n",
       "1    0.436234    1.000000\n",
       "2    0.429082    0.896253\n",
       "3    0.425507    0.887913\n",
       "4    0.410012    0.879403\n",
       "..        ...         ...\n",
       "194  0.836710    0.579487\n",
       "195  0.837902    0.633903\n",
       "196  0.824791    0.651521\n",
       "197  0.828367    0.647827\n",
       "198  0.810489    0.653368\n",
       "\n",
       "[199 rows x 2 columns]"
      ]
     },
     "execution_count": 64,
     "metadata": {},
     "output_type": "execute_result"
    }
   ],
   "source": [
    "df_dubh\n",
    "from sklearn.preprocessing import MinMaxScaler\n",
    "scaler = MinMaxScaler()\n",
    "df = pd.DataFrame(scaler.fit_transform(df_dubh.set_index('날짜')), columns = ['원유시추수', '두바이유(선물)종가'])\n",
    "df"
   ]
  },
  {
   "cell_type": "code",
   "execution_count": 63,
   "id": "f0c816ec",
   "metadata": {},
   "outputs": [
    {
     "data": {
      "application/vnd.plotly.v1+json": {
       "config": {
        "plotlyServerURL": "https://plot.ly"
       },
       "data": [
        {
         "hovertemplate": "variable=원유시추수<br>index=%{x}<br>value=%{y}<extra></extra>",
         "legendgroup": "원유시추수",
         "line": {
          "color": "#636efa",
          "dash": "solid"
         },
         "marker": {
          "symbol": "circle"
         },
         "mode": "lines",
         "name": "원유시추수",
         "orientation": "v",
         "showlegend": true,
         "type": "scatter",
         "x": [
          0,
          1,
          2,
          3,
          4,
          5,
          6,
          7,
          8,
          9,
          10,
          11,
          12,
          13,
          14,
          15,
          16,
          17,
          18,
          19,
          20,
          21,
          22,
          23,
          24,
          25,
          26,
          27,
          28,
          29,
          30,
          31,
          32,
          33,
          34,
          35,
          36,
          37,
          38,
          39,
          40,
          41,
          42,
          43,
          44,
          45,
          46,
          47,
          48,
          49,
          50,
          51,
          52,
          53,
          54,
          55,
          56,
          57,
          58,
          59,
          60,
          61,
          62,
          63,
          64,
          65,
          66,
          67,
          68,
          69,
          70,
          71,
          72,
          73,
          74,
          75,
          76,
          77,
          78,
          79,
          80,
          81,
          82,
          83,
          84,
          85,
          86,
          87,
          88,
          89,
          90,
          91,
          92,
          93,
          94,
          95,
          96,
          97,
          98,
          99,
          100,
          101,
          102,
          103,
          104,
          105,
          106,
          107,
          108,
          109,
          110,
          111,
          112,
          113,
          114,
          115,
          116,
          117,
          118,
          119,
          120,
          121,
          122,
          123,
          124,
          125,
          126,
          127,
          128,
          129,
          130,
          131,
          132,
          133,
          134,
          135,
          136,
          137,
          138,
          139,
          140,
          141,
          142,
          143,
          144,
          145,
          146,
          147,
          148,
          149,
          150,
          151,
          152,
          153,
          154,
          155,
          156,
          157,
          158,
          159,
          160,
          161,
          162,
          163,
          164,
          165,
          166,
          167,
          168,
          169,
          170,
          171,
          172,
          173,
          174,
          175,
          176,
          177,
          178,
          179,
          180,
          181,
          182,
          183,
          184,
          185,
          186,
          187,
          188,
          189,
          190,
          191,
          192,
          193,
          194,
          195,
          196,
          197,
          198
         ],
         "xaxis": "x",
         "y": [
          0.4398092967818832,
          0.4362336114421931,
          0.42908224076281287,
          0.42550655542312277,
          0.4100119189511323,
          0.40762812872467225,
          0.399284862932062,
          0.3957091775923718,
          0.38736591179976154,
          0.38021454112038133,
          0.3718712753277711,
          0.3647199046483909,
          0.35756853396901067,
          0.3551847437425506,
          0.35637663885578064,
          0.3444576877234803,
          0.3384982121573301,
          0.33015494636471987,
          0.31942789034564956,
          0.30870083432657924,
          0.30154946364719903,
          0.3146603098927294,
          0.30870083432657924,
          0.30512514898688914,
          0.2943980929678188,
          0.2908224076281287,
          0.2943980929678188,
          0.2860548271752086,
          0.2800953516090584,
          0.27532777115613827,
          0.2693682955899881,
          0.2693682955899881,
          0.2586412395709178,
          0.2526817640047676,
          0.25387365911799764,
          0.25148986889153757,
          0.2491060786650775,
          0.24314660309892733,
          0.23361144219308694,
          0.23122765196662687,
          0.2324195470798569,
          0.22407628128724666,
          0.2061978545887962,
          0.19904648390941593,
          0.18831942789034561,
          0.18951132300357565,
          0.18831942789034561,
          0.18235995232419544,
          0.18235995232419544,
          0.17640047675804527,
          0.166865315852205,
          0.15971394517282478,
          0.1537544696066746,
          0.13825983313468415,
          0.12157330154946361,
          0.11203814064362333,
          0.09415971394517281,
          0.07866507747318235,
          0.08104886769964242,
          0.066746126340882,
          0.06197854588796187,
          0.0512514898688915,
          0.045292014302741324,
          0.02979737783075087,
          0.026221692491060766,
          0.020262216924910592,
          0.013110846245530383,
          0.011918951132300348,
          0.014302741358760418,
          0.011918951132300348,
          0.011918951132300348,
          0,
          0.0035756853396901045,
          0.008343265792610244,
          0.008343265792610244,
          0.010727056019070313,
          0.016686531585220488,
          0.02502979737783073,
          0.026221692491060766,
          0.04171632896305122,
          0.04767580452920139,
          0.06793802145411204,
          0.08820023837902263,
          0.11323003575685336,
          0.15494636471990464,
          0.19547079856972582,
          0.2634088200238379,
          0.33969010727056015,
          0.500595947556615,
          0.5768772348033373,
          0.6293206197854588,
          0.6531585220500595,
          0.6543504171632896,
          0.6507747318235995,
          0.6519666269368295,
          0.6507747318235995,
          0.6507747318235995,
          0.6507747318235995,
          0.6555423122765196,
          0.6579261025029797,
          0.6400476758045291,
          0.6579261025029797,
          0.66865315852205,
          0.6781883194278903,
          0.6615017878426698,
          0.6615017878426698,
          0.6662693682955899,
          0.66984505363528,
          0.6829558998808104,
          0.6889153754469606,
          0.6984505363528009,
          0.7234803337306317,
          0.7294398092967818,
          0.7282479141835518,
          0.7342073897497019,
          0.7437425506555422,
          0.7651966626936828,
          0.7794994040524434,
          0.7866507747318237,
          0.8009535160905841,
          0.8235995232419546,
          0.8224076281287247,
          0.831942789034565,
          0.8367103694874851,
          0.8462455303933254,
          0.8510131108462455,
          0.8617401668653157,
          0.8617401668653157,
          0.8641239570917758,
          0.871275327771156,
          0.8820023837902264,
          0.8808104886769963,
          0.8855780691299164,
          0.8867699642431466,
          0.8891537544696066,
          0.8903456495828366,
          0.9272943980929678,
          0.930870083432658,
          0.9082240762812872,
          0.9201430274135876,
          0.9320619785458879,
          0.933253873659118,
          0.9463647199046483,
          0.9570917759237187,
          0.9618593563766389,
          0.9594755661501788,
          0.9547079856972587,
          0.9713945172824792,
          0.9606674612634087,
          0.9904648390941597,
          0.9904648390941597,
          1,
          0.9964243146603098,
          0.9856972586412396,
          0.9904648390941597,
          0.9916567342073896,
          0.9988081048867699,
          0.9976162097735399,
          0.9809296781883194,
          0.9821215733015494,
          0.9809296781883194,
          0.9630512514898688,
          0.9630512514898688,
          0.964243146603099,
          0.966626936829559,
          0.9582836710369487,
          0.9582836710369487,
          0.9535160905840285,
          0.9690107270560191,
          0.9690107270560191,
          0.9582836710369487,
          0.9558998808104886,
          0.9654350417163289,
          0.9630512514898688,
          0.9570917759237187,
          0.9630512514898688,
          0.9713945172824792,
          0.9749702026221692,
          0.9725864123957091,
          0.9713945172824792,
          0.9558998808104886,
          0.9547079856972587,
          0.9392133492252681,
          0.9261025029797376,
          0.9165673420738973,
          0.9106078665077473,
          0.904648390941597,
          0.8951132300357567,
          0.8891537544696066,
          0.8820023837902264,
          0.8784266984505362,
          0.8748510131108462,
          0.871275327771156,
          0.871275327771156,
          0.8367103694874851,
          0.837902264600715,
          0.8247914183551848,
          0.8283671036948748,
          0.8104886769964244
         ],
         "yaxis": "y"
        },
        {
         "hovertemplate": "variable=두바이유(선물)종가<br>index=%{x}<br>value=%{y}<extra></extra>",
         "legendgroup": "두바이유(선물)종가",
         "line": {
          "color": "#EF553B",
          "dash": "solid"
         },
         "marker": {
          "symbol": "circle"
         },
         "mode": "lines",
         "name": "두바이유(선물)종가",
         "orientation": "v",
         "showlegend": true,
         "type": "scatter",
         "x": [
          0,
          1,
          2,
          3,
          4,
          5,
          6,
          7,
          8,
          9,
          10,
          11,
          12,
          13,
          14,
          15,
          16,
          17,
          18,
          19,
          20,
          21,
          22,
          23,
          24,
          25,
          26,
          27,
          28,
          29,
          30,
          31,
          32,
          33,
          34,
          35,
          36,
          37,
          38,
          39,
          40,
          41,
          42,
          43,
          44,
          45,
          46,
          47,
          48,
          49,
          50,
          51,
          52,
          53,
          54,
          55,
          56,
          57,
          58,
          59,
          60,
          61,
          62,
          63,
          64,
          65,
          66,
          67,
          68,
          69,
          70,
          71,
          72,
          73,
          74,
          75,
          76,
          77,
          78,
          79,
          80,
          81,
          82,
          83,
          84,
          85,
          86,
          87,
          88,
          89,
          90,
          91,
          92,
          93,
          94,
          95,
          96,
          97,
          98,
          99,
          100,
          101,
          102,
          103,
          104,
          105,
          106,
          107,
          108,
          109,
          110,
          111,
          112,
          113,
          114,
          115,
          116,
          117,
          118,
          119,
          120,
          121,
          122,
          123,
          124,
          125,
          126,
          127,
          128,
          129,
          130,
          131,
          132,
          133,
          134,
          135,
          136,
          137,
          138,
          139,
          140,
          141,
          142,
          143,
          144,
          145,
          146,
          147,
          148,
          149,
          150,
          151,
          152,
          153,
          154,
          155,
          156,
          157,
          158,
          159,
          160,
          161,
          162,
          163,
          164,
          165,
          166,
          167,
          168,
          169,
          170,
          171,
          172,
          173,
          174,
          175,
          176,
          177,
          178,
          179,
          180,
          181,
          182,
          183,
          184,
          185,
          186,
          187,
          188,
          189,
          190,
          191,
          192,
          193,
          194,
          195,
          196,
          197,
          198
         ],
         "xaxis": "x",
         "y": [
          0.9875822286631712,
          1,
          0.8962533566344144,
          0.8879132745123111,
          0.8794026966739126,
          0.8313513206314023,
          0.7475668840487049,
          0.7285992356108719,
          0.7435602347157693,
          0.8514982311069434,
          0.8549507693619196,
          0.8672122529588109,
          0.8701248881121861,
          0.8696844408450901,
          0.8717730133697057,
          0.8657914553230184,
          0.8568120142648081,
          0.7421394370799765,
          0.7421820610090504,
          0.7243794666325676,
          0.7208700964721595,
          0.7141923475839336,
          0.697483767387011,
          0.6874671440546722,
          0.6983646619212025,
          0.6836878223434635,
          0.7463307901055651,
          0.7452936078314365,
          0.7193924669309351,
          0.7553670630692069,
          0.7274341815495218,
          0.7269084864242785,
          0.7261270477245925,
          0.7161672562976855,
          0.7027975505448758,
          0.6521603228052228,
          0.6520040350652855,
          0.6599747098020828,
          0.6511373485074521,
          0.6041231547390704,
          0.6028018129377832,
          0.6123779890030262,
          0.62571927880312,
          0.6260176463066365,
          0.6298822158759926,
          0.6535811204410155,
          0.6459230211840926,
          0.5751530909452566,
          0.5718142165011436,
          0.5662162738161203,
          0.5539263742665131,
          0.4887259707599846,
          0.4885412670673316,
          0.48531605643408193,
          0.41770029694670585,
          0.42581305144708237,
          0.41326740832303244,
          0.32885782078058623,
          0.3225494792776664,
          0.3147066763280906,
          0.2988079507835699,
          0.28823721637327193,
          0.295071253001435,
          0.29835329554011614,
          0.2898853416307915,
          0.2848130940710115,
          0.30159271414972366,
          0.2988647826890015,
          0.28103377235980287,
          0.31595697824758817,
          0.3354929457397383,
          0.3344415554892516,
          0.3325518946336473,
          0.33253768665728944,
          0.3254194905019677,
          0.3261867212252959,
          0.32223690379779213,
          0.31990679567509195,
          0.29015529318159217,
          0.2947586775215606,
          0.2717701717744342,
          0.28872028756944146,
          0.1434011053805606,
          0.14161090035946183,
          0.14453774348919485,
          0.09793558103519318,
          0.00018470369265310982,
          0,
          0.08216472727789381,
          0.10052143273233599,
          0.19138144154128128,
          0.1942514527655826,
          0.2357103277780146,
          0.22576474432746552,
          0.48086895983405076,
          0.48743304491141315,
          0.4968245172840031,
          0.4635352286773795,
          0.6239006578293053,
          0.6250799198670133,
          0.6446300953355213,
          0.6443033118792889,
          0.6805762755210775,
          0.6318713325661024,
          0.6290865691999488,
          0.62256510805166,
          0.5910518164897772,
          0.5905687452936077,
          0.5851270903485216,
          0.5785630052711591,
          0.5540400380773766,
          0.5552335080914425,
          0.5468934259693391,
          0.5478737763380361,
          0.5377576971711918,
          0.5788471647983178,
          0.5862637284571558,
          0.607334157395962,
          0.5638293337879885,
          0.5503033402952417,
          0.5468792179929812,
          0.5478027364562464,
          0.5395621101686486,
          0.5468081781111915,
          0.6079308924029949,
          0.5998181379026185,
          0.6001307133824928,
          0.6083571316937327,
          0.5863063523862295,
          0.5621385846013951,
          0.5713169373286162,
          0.5687452936078314,
          0.6969296563090518,
          0.7179858772715002,
          0.6999843712260062,
          0.7129846695935096,
          0.7195487546708721,
          0.7025986388758648,
          0.7064063765397894,
          0.6831621272182201,
          0.660912436241706,
          0.6627594731682366,
          0.6566216273816119,
          0.6426978105508431,
          0.6270122046516913,
          0.6294843925379707,
          0.586420016197093,
          0.5992214028955855,
          0.5476322407399513,
          0.5561854425074236,
          0.5294176150490886,
          0.5008453745932966,
          0.5248994785672676,
          0.5193867837403918,
          0.5507864114914112,
          0.5489393745648806,
          0.6429961780543596,
          0.6721225295881108,
          0.702385519230496,
          0.7317960302914055,
          0.8387820922665983,
          0.8527059090973672,
          0.883821377321228,
          0.8872312916471305,
          0.804825028771152,
          0.7911853714675419,
          0.784081383288578,
          0.784081383288578,
          0.7398945768154241,
          0.7218504468408564,
          0.7384737791796312,
          0.7498401602659732,
          0.7430203316141681,
          null,
          null,
          null,
          null,
          null,
          null,
          0.7498401602659732,
          0.7683105295312789,
          0.7731412414929741,
          0.76220109969737,
          0.7452936078314365,
          0.7281019564383444,
          0.6824943523293976,
          0.6660130997542019,
          0.6286461219328531,
          0.6023613656706874,
          0.5894321071849735,
          0.5817597999516928,
          0.5905687452936077,
          0.6020772061435289,
          0.5953994572553031,
          0.5794865237344243,
          0.633903073185286,
          0.6515209638691161,
          0.6478268900160549,
          0.6533680007956466
         ],
         "yaxis": "y"
        }
       ],
       "layout": {
        "legend": {
         "title": {
          "text": "variable"
         },
         "tracegroupgap": 0
        },
        "margin": {
         "t": 60
        },
        "template": {
         "data": {
          "bar": [
           {
            "error_x": {
             "color": "#2a3f5f"
            },
            "error_y": {
             "color": "#2a3f5f"
            },
            "marker": {
             "line": {
              "color": "#E5ECF6",
              "width": 0.5
             },
             "pattern": {
              "fillmode": "overlay",
              "size": 10,
              "solidity": 0.2
             }
            },
            "type": "bar"
           }
          ],
          "barpolar": [
           {
            "marker": {
             "line": {
              "color": "#E5ECF6",
              "width": 0.5
             },
             "pattern": {
              "fillmode": "overlay",
              "size": 10,
              "solidity": 0.2
             }
            },
            "type": "barpolar"
           }
          ],
          "carpet": [
           {
            "aaxis": {
             "endlinecolor": "#2a3f5f",
             "gridcolor": "white",
             "linecolor": "white",
             "minorgridcolor": "white",
             "startlinecolor": "#2a3f5f"
            },
            "baxis": {
             "endlinecolor": "#2a3f5f",
             "gridcolor": "white",
             "linecolor": "white",
             "minorgridcolor": "white",
             "startlinecolor": "#2a3f5f"
            },
            "type": "carpet"
           }
          ],
          "choropleth": [
           {
            "colorbar": {
             "outlinewidth": 0,
             "ticks": ""
            },
            "type": "choropleth"
           }
          ],
          "contour": [
           {
            "colorbar": {
             "outlinewidth": 0,
             "ticks": ""
            },
            "colorscale": [
             [
              0,
              "#0d0887"
             ],
             [
              0.1111111111111111,
              "#46039f"
             ],
             [
              0.2222222222222222,
              "#7201a8"
             ],
             [
              0.3333333333333333,
              "#9c179e"
             ],
             [
              0.4444444444444444,
              "#bd3786"
             ],
             [
              0.5555555555555556,
              "#d8576b"
             ],
             [
              0.6666666666666666,
              "#ed7953"
             ],
             [
              0.7777777777777778,
              "#fb9f3a"
             ],
             [
              0.8888888888888888,
              "#fdca26"
             ],
             [
              1,
              "#f0f921"
             ]
            ],
            "type": "contour"
           }
          ],
          "contourcarpet": [
           {
            "colorbar": {
             "outlinewidth": 0,
             "ticks": ""
            },
            "type": "contourcarpet"
           }
          ],
          "heatmap": [
           {
            "colorbar": {
             "outlinewidth": 0,
             "ticks": ""
            },
            "colorscale": [
             [
              0,
              "#0d0887"
             ],
             [
              0.1111111111111111,
              "#46039f"
             ],
             [
              0.2222222222222222,
              "#7201a8"
             ],
             [
              0.3333333333333333,
              "#9c179e"
             ],
             [
              0.4444444444444444,
              "#bd3786"
             ],
             [
              0.5555555555555556,
              "#d8576b"
             ],
             [
              0.6666666666666666,
              "#ed7953"
             ],
             [
              0.7777777777777778,
              "#fb9f3a"
             ],
             [
              0.8888888888888888,
              "#fdca26"
             ],
             [
              1,
              "#f0f921"
             ]
            ],
            "type": "heatmap"
           }
          ],
          "heatmapgl": [
           {
            "colorbar": {
             "outlinewidth": 0,
             "ticks": ""
            },
            "colorscale": [
             [
              0,
              "#0d0887"
             ],
             [
              0.1111111111111111,
              "#46039f"
             ],
             [
              0.2222222222222222,
              "#7201a8"
             ],
             [
              0.3333333333333333,
              "#9c179e"
             ],
             [
              0.4444444444444444,
              "#bd3786"
             ],
             [
              0.5555555555555556,
              "#d8576b"
             ],
             [
              0.6666666666666666,
              "#ed7953"
             ],
             [
              0.7777777777777778,
              "#fb9f3a"
             ],
             [
              0.8888888888888888,
              "#fdca26"
             ],
             [
              1,
              "#f0f921"
             ]
            ],
            "type": "heatmapgl"
           }
          ],
          "histogram": [
           {
            "marker": {
             "pattern": {
              "fillmode": "overlay",
              "size": 10,
              "solidity": 0.2
             }
            },
            "type": "histogram"
           }
          ],
          "histogram2d": [
           {
            "colorbar": {
             "outlinewidth": 0,
             "ticks": ""
            },
            "colorscale": [
             [
              0,
              "#0d0887"
             ],
             [
              0.1111111111111111,
              "#46039f"
             ],
             [
              0.2222222222222222,
              "#7201a8"
             ],
             [
              0.3333333333333333,
              "#9c179e"
             ],
             [
              0.4444444444444444,
              "#bd3786"
             ],
             [
              0.5555555555555556,
              "#d8576b"
             ],
             [
              0.6666666666666666,
              "#ed7953"
             ],
             [
              0.7777777777777778,
              "#fb9f3a"
             ],
             [
              0.8888888888888888,
              "#fdca26"
             ],
             [
              1,
              "#f0f921"
             ]
            ],
            "type": "histogram2d"
           }
          ],
          "histogram2dcontour": [
           {
            "colorbar": {
             "outlinewidth": 0,
             "ticks": ""
            },
            "colorscale": [
             [
              0,
              "#0d0887"
             ],
             [
              0.1111111111111111,
              "#46039f"
             ],
             [
              0.2222222222222222,
              "#7201a8"
             ],
             [
              0.3333333333333333,
              "#9c179e"
             ],
             [
              0.4444444444444444,
              "#bd3786"
             ],
             [
              0.5555555555555556,
              "#d8576b"
             ],
             [
              0.6666666666666666,
              "#ed7953"
             ],
             [
              0.7777777777777778,
              "#fb9f3a"
             ],
             [
              0.8888888888888888,
              "#fdca26"
             ],
             [
              1,
              "#f0f921"
             ]
            ],
            "type": "histogram2dcontour"
           }
          ],
          "mesh3d": [
           {
            "colorbar": {
             "outlinewidth": 0,
             "ticks": ""
            },
            "type": "mesh3d"
           }
          ],
          "parcoords": [
           {
            "line": {
             "colorbar": {
              "outlinewidth": 0,
              "ticks": ""
             }
            },
            "type": "parcoords"
           }
          ],
          "pie": [
           {
            "automargin": true,
            "type": "pie"
           }
          ],
          "scatter": [
           {
            "marker": {
             "colorbar": {
              "outlinewidth": 0,
              "ticks": ""
             }
            },
            "type": "scatter"
           }
          ],
          "scatter3d": [
           {
            "line": {
             "colorbar": {
              "outlinewidth": 0,
              "ticks": ""
             }
            },
            "marker": {
             "colorbar": {
              "outlinewidth": 0,
              "ticks": ""
             }
            },
            "type": "scatter3d"
           }
          ],
          "scattercarpet": [
           {
            "marker": {
             "colorbar": {
              "outlinewidth": 0,
              "ticks": ""
             }
            },
            "type": "scattercarpet"
           }
          ],
          "scattergeo": [
           {
            "marker": {
             "colorbar": {
              "outlinewidth": 0,
              "ticks": ""
             }
            },
            "type": "scattergeo"
           }
          ],
          "scattergl": [
           {
            "marker": {
             "colorbar": {
              "outlinewidth": 0,
              "ticks": ""
             }
            },
            "type": "scattergl"
           }
          ],
          "scattermapbox": [
           {
            "marker": {
             "colorbar": {
              "outlinewidth": 0,
              "ticks": ""
             }
            },
            "type": "scattermapbox"
           }
          ],
          "scatterpolar": [
           {
            "marker": {
             "colorbar": {
              "outlinewidth": 0,
              "ticks": ""
             }
            },
            "type": "scatterpolar"
           }
          ],
          "scatterpolargl": [
           {
            "marker": {
             "colorbar": {
              "outlinewidth": 0,
              "ticks": ""
             }
            },
            "type": "scatterpolargl"
           }
          ],
          "scatterternary": [
           {
            "marker": {
             "colorbar": {
              "outlinewidth": 0,
              "ticks": ""
             }
            },
            "type": "scatterternary"
           }
          ],
          "surface": [
           {
            "colorbar": {
             "outlinewidth": 0,
             "ticks": ""
            },
            "colorscale": [
             [
              0,
              "#0d0887"
             ],
             [
              0.1111111111111111,
              "#46039f"
             ],
             [
              0.2222222222222222,
              "#7201a8"
             ],
             [
              0.3333333333333333,
              "#9c179e"
             ],
             [
              0.4444444444444444,
              "#bd3786"
             ],
             [
              0.5555555555555556,
              "#d8576b"
             ],
             [
              0.6666666666666666,
              "#ed7953"
             ],
             [
              0.7777777777777778,
              "#fb9f3a"
             ],
             [
              0.8888888888888888,
              "#fdca26"
             ],
             [
              1,
              "#f0f921"
             ]
            ],
            "type": "surface"
           }
          ],
          "table": [
           {
            "cells": {
             "fill": {
              "color": "#EBF0F8"
             },
             "line": {
              "color": "white"
             }
            },
            "header": {
             "fill": {
              "color": "#C8D4E3"
             },
             "line": {
              "color": "white"
             }
            },
            "type": "table"
           }
          ]
         },
         "layout": {
          "annotationdefaults": {
           "arrowcolor": "#2a3f5f",
           "arrowhead": 0,
           "arrowwidth": 1
          },
          "autotypenumbers": "strict",
          "coloraxis": {
           "colorbar": {
            "outlinewidth": 0,
            "ticks": ""
           }
          },
          "colorscale": {
           "diverging": [
            [
             0,
             "#8e0152"
            ],
            [
             0.1,
             "#c51b7d"
            ],
            [
             0.2,
             "#de77ae"
            ],
            [
             0.3,
             "#f1b6da"
            ],
            [
             0.4,
             "#fde0ef"
            ],
            [
             0.5,
             "#f7f7f7"
            ],
            [
             0.6,
             "#e6f5d0"
            ],
            [
             0.7,
             "#b8e186"
            ],
            [
             0.8,
             "#7fbc41"
            ],
            [
             0.9,
             "#4d9221"
            ],
            [
             1,
             "#276419"
            ]
           ],
           "sequential": [
            [
             0,
             "#0d0887"
            ],
            [
             0.1111111111111111,
             "#46039f"
            ],
            [
             0.2222222222222222,
             "#7201a8"
            ],
            [
             0.3333333333333333,
             "#9c179e"
            ],
            [
             0.4444444444444444,
             "#bd3786"
            ],
            [
             0.5555555555555556,
             "#d8576b"
            ],
            [
             0.6666666666666666,
             "#ed7953"
            ],
            [
             0.7777777777777778,
             "#fb9f3a"
            ],
            [
             0.8888888888888888,
             "#fdca26"
            ],
            [
             1,
             "#f0f921"
            ]
           ],
           "sequentialminus": [
            [
             0,
             "#0d0887"
            ],
            [
             0.1111111111111111,
             "#46039f"
            ],
            [
             0.2222222222222222,
             "#7201a8"
            ],
            [
             0.3333333333333333,
             "#9c179e"
            ],
            [
             0.4444444444444444,
             "#bd3786"
            ],
            [
             0.5555555555555556,
             "#d8576b"
            ],
            [
             0.6666666666666666,
             "#ed7953"
            ],
            [
             0.7777777777777778,
             "#fb9f3a"
            ],
            [
             0.8888888888888888,
             "#fdca26"
            ],
            [
             1,
             "#f0f921"
            ]
           ]
          },
          "colorway": [
           "#636efa",
           "#EF553B",
           "#00cc96",
           "#ab63fa",
           "#FFA15A",
           "#19d3f3",
           "#FF6692",
           "#B6E880",
           "#FF97FF",
           "#FECB52"
          ],
          "font": {
           "color": "#2a3f5f"
          },
          "geo": {
           "bgcolor": "white",
           "lakecolor": "white",
           "landcolor": "#E5ECF6",
           "showlakes": true,
           "showland": true,
           "subunitcolor": "white"
          },
          "hoverlabel": {
           "align": "left"
          },
          "hovermode": "closest",
          "mapbox": {
           "style": "light"
          },
          "paper_bgcolor": "white",
          "plot_bgcolor": "#E5ECF6",
          "polar": {
           "angularaxis": {
            "gridcolor": "white",
            "linecolor": "white",
            "ticks": ""
           },
           "bgcolor": "#E5ECF6",
           "radialaxis": {
            "gridcolor": "white",
            "linecolor": "white",
            "ticks": ""
           }
          },
          "scene": {
           "xaxis": {
            "backgroundcolor": "#E5ECF6",
            "gridcolor": "white",
            "gridwidth": 2,
            "linecolor": "white",
            "showbackground": true,
            "ticks": "",
            "zerolinecolor": "white"
           },
           "yaxis": {
            "backgroundcolor": "#E5ECF6",
            "gridcolor": "white",
            "gridwidth": 2,
            "linecolor": "white",
            "showbackground": true,
            "ticks": "",
            "zerolinecolor": "white"
           },
           "zaxis": {
            "backgroundcolor": "#E5ECF6",
            "gridcolor": "white",
            "gridwidth": 2,
            "linecolor": "white",
            "showbackground": true,
            "ticks": "",
            "zerolinecolor": "white"
           }
          },
          "shapedefaults": {
           "line": {
            "color": "#2a3f5f"
           }
          },
          "ternary": {
           "aaxis": {
            "gridcolor": "white",
            "linecolor": "white",
            "ticks": ""
           },
           "baxis": {
            "gridcolor": "white",
            "linecolor": "white",
            "ticks": ""
           },
           "bgcolor": "#E5ECF6",
           "caxis": {
            "gridcolor": "white",
            "linecolor": "white",
            "ticks": ""
           }
          },
          "title": {
           "x": 0.05
          },
          "xaxis": {
           "automargin": true,
           "gridcolor": "white",
           "linecolor": "white",
           "ticks": "",
           "title": {
            "standoff": 15
           },
           "zerolinecolor": "white",
           "zerolinewidth": 2
          },
          "yaxis": {
           "automargin": true,
           "gridcolor": "white",
           "linecolor": "white",
           "ticks": "",
           "title": {
            "standoff": 15
           },
           "zerolinecolor": "white",
           "zerolinewidth": 2
          }
         }
        },
        "xaxis": {
         "anchor": "y",
         "domain": [
          0,
          1
         ],
         "title": {
          "text": "index"
         }
        },
        "yaxis": {
         "anchor": "x",
         "domain": [
          0,
          1
         ],
         "title": {
          "text": "value"
         }
        }
       }
      },
      "text/html": [
       "<div>                            <div id=\"2e478798-9c88-4af5-8d07-e6e2d99bcfc5\" class=\"plotly-graph-div\" style=\"height:525px; width:100%;\"></div>            <script type=\"text/javascript\">                require([\"plotly\"], function(Plotly) {                    window.PLOTLYENV=window.PLOTLYENV || {};                                    if (document.getElementById(\"2e478798-9c88-4af5-8d07-e6e2d99bcfc5\")) {                    Plotly.newPlot(                        \"2e478798-9c88-4af5-8d07-e6e2d99bcfc5\",                        [{\"hovertemplate\":\"variable=\\uc6d0\\uc720\\uc2dc\\ucd94\\uc218<br>index=%{x}<br>value=%{y}<extra></extra>\",\"legendgroup\":\"\\uc6d0\\uc720\\uc2dc\\ucd94\\uc218\",\"line\":{\"color\":\"#636efa\",\"dash\":\"solid\"},\"marker\":{\"symbol\":\"circle\"},\"mode\":\"lines\",\"name\":\"\\uc6d0\\uc720\\uc2dc\\ucd94\\uc218\",\"orientation\":\"v\",\"showlegend\":true,\"x\":[0,1,2,3,4,5,6,7,8,9,10,11,12,13,14,15,16,17,18,19,20,21,22,23,24,25,26,27,28,29,30,31,32,33,34,35,36,37,38,39,40,41,42,43,44,45,46,47,48,49,50,51,52,53,54,55,56,57,58,59,60,61,62,63,64,65,66,67,68,69,70,71,72,73,74,75,76,77,78,79,80,81,82,83,84,85,86,87,88,89,90,91,92,93,94,95,96,97,98,99,100,101,102,103,104,105,106,107,108,109,110,111,112,113,114,115,116,117,118,119,120,121,122,123,124,125,126,127,128,129,130,131,132,133,134,135,136,137,138,139,140,141,142,143,144,145,146,147,148,149,150,151,152,153,154,155,156,157,158,159,160,161,162,163,164,165,166,167,168,169,170,171,172,173,174,175,176,177,178,179,180,181,182,183,184,185,186,187,188,189,190,191,192,193,194,195,196,197,198],\"xaxis\":\"x\",\"y\":[0.4398092967818832,0.4362336114421931,0.42908224076281287,0.42550655542312277,0.4100119189511323,0.40762812872467225,0.399284862932062,0.3957091775923718,0.38736591179976154,0.38021454112038133,0.3718712753277711,0.3647199046483909,0.35756853396901067,0.3551847437425506,0.35637663885578064,0.3444576877234803,0.3384982121573301,0.33015494636471987,0.31942789034564956,0.30870083432657924,0.30154946364719903,0.3146603098927294,0.30870083432657924,0.30512514898688914,0.2943980929678188,0.2908224076281287,0.2943980929678188,0.2860548271752086,0.2800953516090584,0.27532777115613827,0.2693682955899881,0.2693682955899881,0.2586412395709178,0.2526817640047676,0.25387365911799764,0.25148986889153757,0.2491060786650775,0.24314660309892733,0.23361144219308694,0.23122765196662687,0.2324195470798569,0.22407628128724666,0.2061978545887962,0.19904648390941593,0.18831942789034561,0.18951132300357565,0.18831942789034561,0.18235995232419544,0.18235995232419544,0.17640047675804527,0.166865315852205,0.15971394517282478,0.1537544696066746,0.13825983313468415,0.12157330154946361,0.11203814064362333,0.09415971394517281,0.07866507747318235,0.08104886769964242,0.066746126340882,0.06197854588796187,0.0512514898688915,0.045292014302741324,0.02979737783075087,0.026221692491060766,0.020262216924910592,0.013110846245530383,0.011918951132300348,0.014302741358760418,0.011918951132300348,0.011918951132300348,0.0,0.0035756853396901045,0.008343265792610244,0.008343265792610244,0.010727056019070313,0.016686531585220488,0.02502979737783073,0.026221692491060766,0.04171632896305122,0.04767580452920139,0.06793802145411204,0.08820023837902263,0.11323003575685336,0.15494636471990464,0.19547079856972582,0.2634088200238379,0.33969010727056015,0.500595947556615,0.5768772348033373,0.6293206197854588,0.6531585220500595,0.6543504171632896,0.6507747318235995,0.6519666269368295,0.6507747318235995,0.6507747318235995,0.6507747318235995,0.6555423122765196,0.6579261025029797,0.6400476758045291,0.6579261025029797,0.66865315852205,0.6781883194278903,0.6615017878426698,0.6615017878426698,0.6662693682955899,0.66984505363528,0.6829558998808104,0.6889153754469606,0.6984505363528009,0.7234803337306317,0.7294398092967818,0.7282479141835518,0.7342073897497019,0.7437425506555422,0.7651966626936828,0.7794994040524434,0.7866507747318237,0.8009535160905841,0.8235995232419546,0.8224076281287247,0.831942789034565,0.8367103694874851,0.8462455303933254,0.8510131108462455,0.8617401668653157,0.8617401668653157,0.8641239570917758,0.871275327771156,0.8820023837902264,0.8808104886769963,0.8855780691299164,0.8867699642431466,0.8891537544696066,0.8903456495828366,0.9272943980929678,0.930870083432658,0.9082240762812872,0.9201430274135876,0.9320619785458879,0.933253873659118,0.9463647199046483,0.9570917759237187,0.9618593563766389,0.9594755661501788,0.9547079856972587,0.9713945172824792,0.9606674612634087,0.9904648390941597,0.9904648390941597,1.0,0.9964243146603098,0.9856972586412396,0.9904648390941597,0.9916567342073896,0.9988081048867699,0.9976162097735399,0.9809296781883194,0.9821215733015494,0.9809296781883194,0.9630512514898688,0.9630512514898688,0.964243146603099,0.966626936829559,0.9582836710369487,0.9582836710369487,0.9535160905840285,0.9690107270560191,0.9690107270560191,0.9582836710369487,0.9558998808104886,0.9654350417163289,0.9630512514898688,0.9570917759237187,0.9630512514898688,0.9713945172824792,0.9749702026221692,0.9725864123957091,0.9713945172824792,0.9558998808104886,0.9547079856972587,0.9392133492252681,0.9261025029797376,0.9165673420738973,0.9106078665077473,0.904648390941597,0.8951132300357567,0.8891537544696066,0.8820023837902264,0.8784266984505362,0.8748510131108462,0.871275327771156,0.871275327771156,0.8367103694874851,0.837902264600715,0.8247914183551848,0.8283671036948748,0.8104886769964244],\"yaxis\":\"y\",\"type\":\"scatter\"},{\"hovertemplate\":\"variable=\\ub450\\ubc14\\uc774\\uc720(\\uc120\\ubb3c)\\uc885\\uac00<br>index=%{x}<br>value=%{y}<extra></extra>\",\"legendgroup\":\"\\ub450\\ubc14\\uc774\\uc720(\\uc120\\ubb3c)\\uc885\\uac00\",\"line\":{\"color\":\"#EF553B\",\"dash\":\"solid\"},\"marker\":{\"symbol\":\"circle\"},\"mode\":\"lines\",\"name\":\"\\ub450\\ubc14\\uc774\\uc720(\\uc120\\ubb3c)\\uc885\\uac00\",\"orientation\":\"v\",\"showlegend\":true,\"x\":[0,1,2,3,4,5,6,7,8,9,10,11,12,13,14,15,16,17,18,19,20,21,22,23,24,25,26,27,28,29,30,31,32,33,34,35,36,37,38,39,40,41,42,43,44,45,46,47,48,49,50,51,52,53,54,55,56,57,58,59,60,61,62,63,64,65,66,67,68,69,70,71,72,73,74,75,76,77,78,79,80,81,82,83,84,85,86,87,88,89,90,91,92,93,94,95,96,97,98,99,100,101,102,103,104,105,106,107,108,109,110,111,112,113,114,115,116,117,118,119,120,121,122,123,124,125,126,127,128,129,130,131,132,133,134,135,136,137,138,139,140,141,142,143,144,145,146,147,148,149,150,151,152,153,154,155,156,157,158,159,160,161,162,163,164,165,166,167,168,169,170,171,172,173,174,175,176,177,178,179,180,181,182,183,184,185,186,187,188,189,190,191,192,193,194,195,196,197,198],\"xaxis\":\"x\",\"y\":[0.9875822286631712,1.0,0.8962533566344144,0.8879132745123111,0.8794026966739126,0.8313513206314023,0.7475668840487049,0.7285992356108719,0.7435602347157693,0.8514982311069434,0.8549507693619196,0.8672122529588109,0.8701248881121861,0.8696844408450901,0.8717730133697057,0.8657914553230184,0.8568120142648081,0.7421394370799765,0.7421820610090504,0.7243794666325676,0.7208700964721595,0.7141923475839336,0.697483767387011,0.6874671440546722,0.6983646619212025,0.6836878223434635,0.7463307901055651,0.7452936078314365,0.7193924669309351,0.7553670630692069,0.7274341815495218,0.7269084864242785,0.7261270477245925,0.7161672562976855,0.7027975505448758,0.6521603228052228,0.6520040350652855,0.6599747098020828,0.6511373485074521,0.6041231547390704,0.6028018129377832,0.6123779890030262,0.62571927880312,0.6260176463066365,0.6298822158759926,0.6535811204410155,0.6459230211840926,0.5751530909452566,0.5718142165011436,0.5662162738161203,0.5539263742665131,0.4887259707599846,0.4885412670673316,0.48531605643408193,0.41770029694670585,0.42581305144708237,0.41326740832303244,0.32885782078058623,0.3225494792776664,0.3147066763280906,0.2988079507835699,0.28823721637327193,0.295071253001435,0.29835329554011614,0.2898853416307915,0.2848130940710115,0.30159271414972366,0.2988647826890015,0.28103377235980287,0.31595697824758817,0.3354929457397383,0.3344415554892516,0.3325518946336473,0.33253768665728944,0.3254194905019677,0.3261867212252959,0.32223690379779213,0.31990679567509195,0.29015529318159217,0.2947586775215606,0.2717701717744342,0.28872028756944146,0.1434011053805606,0.14161090035946183,0.14453774348919485,0.09793558103519318,0.00018470369265310982,0.0,0.08216472727789381,0.10052143273233599,0.19138144154128128,0.1942514527655826,0.2357103277780146,0.22576474432746552,0.48086895983405076,0.48743304491141315,0.4968245172840031,0.4635352286773795,0.6239006578293053,0.6250799198670133,0.6446300953355213,0.6443033118792889,0.6805762755210775,0.6318713325661024,0.6290865691999488,0.62256510805166,0.5910518164897772,0.5905687452936077,0.5851270903485216,0.5785630052711591,0.5540400380773766,0.5552335080914425,0.5468934259693391,0.5478737763380361,0.5377576971711918,0.5788471647983178,0.5862637284571558,0.607334157395962,0.5638293337879885,0.5503033402952417,0.5468792179929812,0.5478027364562464,0.5395621101686486,0.5468081781111915,0.6079308924029949,0.5998181379026185,0.6001307133824928,0.6083571316937327,0.5863063523862295,0.5621385846013951,0.5713169373286162,0.5687452936078314,0.6969296563090518,0.7179858772715002,0.6999843712260062,0.7129846695935096,0.7195487546708721,0.7025986388758648,0.7064063765397894,0.6831621272182201,0.660912436241706,0.6627594731682366,0.6566216273816119,0.6426978105508431,0.6270122046516913,0.6294843925379707,0.586420016197093,0.5992214028955855,0.5476322407399513,0.5561854425074236,0.5294176150490886,0.5008453745932966,0.5248994785672676,0.5193867837403918,0.5507864114914112,0.5489393745648806,0.6429961780543596,0.6721225295881108,0.702385519230496,0.7317960302914055,0.8387820922665983,0.8527059090973672,0.883821377321228,0.8872312916471305,0.804825028771152,0.7911853714675419,0.784081383288578,0.784081383288578,0.7398945768154241,0.7218504468408564,0.7384737791796312,0.7498401602659732,0.7430203316141681,null,null,null,null,null,null,0.7498401602659732,0.7683105295312789,0.7731412414929741,0.76220109969737,0.7452936078314365,0.7281019564383444,0.6824943523293976,0.6660130997542019,0.6286461219328531,0.6023613656706874,0.5894321071849735,0.5817597999516928,0.5905687452936077,0.6020772061435289,0.5953994572553031,0.5794865237344243,0.633903073185286,0.6515209638691161,0.6478268900160549,0.6533680007956466],\"yaxis\":\"y\",\"type\":\"scatter\"}],                        {\"template\":{\"data\":{\"bar\":[{\"error_x\":{\"color\":\"#2a3f5f\"},\"error_y\":{\"color\":\"#2a3f5f\"},\"marker\":{\"line\":{\"color\":\"#E5ECF6\",\"width\":0.5},\"pattern\":{\"fillmode\":\"overlay\",\"size\":10,\"solidity\":0.2}},\"type\":\"bar\"}],\"barpolar\":[{\"marker\":{\"line\":{\"color\":\"#E5ECF6\",\"width\":0.5},\"pattern\":{\"fillmode\":\"overlay\",\"size\":10,\"solidity\":0.2}},\"type\":\"barpolar\"}],\"carpet\":[{\"aaxis\":{\"endlinecolor\":\"#2a3f5f\",\"gridcolor\":\"white\",\"linecolor\":\"white\",\"minorgridcolor\":\"white\",\"startlinecolor\":\"#2a3f5f\"},\"baxis\":{\"endlinecolor\":\"#2a3f5f\",\"gridcolor\":\"white\",\"linecolor\":\"white\",\"minorgridcolor\":\"white\",\"startlinecolor\":\"#2a3f5f\"},\"type\":\"carpet\"}],\"choropleth\":[{\"colorbar\":{\"outlinewidth\":0,\"ticks\":\"\"},\"type\":\"choropleth\"}],\"contour\":[{\"colorbar\":{\"outlinewidth\":0,\"ticks\":\"\"},\"colorscale\":[[0.0,\"#0d0887\"],[0.1111111111111111,\"#46039f\"],[0.2222222222222222,\"#7201a8\"],[0.3333333333333333,\"#9c179e\"],[0.4444444444444444,\"#bd3786\"],[0.5555555555555556,\"#d8576b\"],[0.6666666666666666,\"#ed7953\"],[0.7777777777777778,\"#fb9f3a\"],[0.8888888888888888,\"#fdca26\"],[1.0,\"#f0f921\"]],\"type\":\"contour\"}],\"contourcarpet\":[{\"colorbar\":{\"outlinewidth\":0,\"ticks\":\"\"},\"type\":\"contourcarpet\"}],\"heatmap\":[{\"colorbar\":{\"outlinewidth\":0,\"ticks\":\"\"},\"colorscale\":[[0.0,\"#0d0887\"],[0.1111111111111111,\"#46039f\"],[0.2222222222222222,\"#7201a8\"],[0.3333333333333333,\"#9c179e\"],[0.4444444444444444,\"#bd3786\"],[0.5555555555555556,\"#d8576b\"],[0.6666666666666666,\"#ed7953\"],[0.7777777777777778,\"#fb9f3a\"],[0.8888888888888888,\"#fdca26\"],[1.0,\"#f0f921\"]],\"type\":\"heatmap\"}],\"heatmapgl\":[{\"colorbar\":{\"outlinewidth\":0,\"ticks\":\"\"},\"colorscale\":[[0.0,\"#0d0887\"],[0.1111111111111111,\"#46039f\"],[0.2222222222222222,\"#7201a8\"],[0.3333333333333333,\"#9c179e\"],[0.4444444444444444,\"#bd3786\"],[0.5555555555555556,\"#d8576b\"],[0.6666666666666666,\"#ed7953\"],[0.7777777777777778,\"#fb9f3a\"],[0.8888888888888888,\"#fdca26\"],[1.0,\"#f0f921\"]],\"type\":\"heatmapgl\"}],\"histogram\":[{\"marker\":{\"pattern\":{\"fillmode\":\"overlay\",\"size\":10,\"solidity\":0.2}},\"type\":\"histogram\"}],\"histogram2d\":[{\"colorbar\":{\"outlinewidth\":0,\"ticks\":\"\"},\"colorscale\":[[0.0,\"#0d0887\"],[0.1111111111111111,\"#46039f\"],[0.2222222222222222,\"#7201a8\"],[0.3333333333333333,\"#9c179e\"],[0.4444444444444444,\"#bd3786\"],[0.5555555555555556,\"#d8576b\"],[0.6666666666666666,\"#ed7953\"],[0.7777777777777778,\"#fb9f3a\"],[0.8888888888888888,\"#fdca26\"],[1.0,\"#f0f921\"]],\"type\":\"histogram2d\"}],\"histogram2dcontour\":[{\"colorbar\":{\"outlinewidth\":0,\"ticks\":\"\"},\"colorscale\":[[0.0,\"#0d0887\"],[0.1111111111111111,\"#46039f\"],[0.2222222222222222,\"#7201a8\"],[0.3333333333333333,\"#9c179e\"],[0.4444444444444444,\"#bd3786\"],[0.5555555555555556,\"#d8576b\"],[0.6666666666666666,\"#ed7953\"],[0.7777777777777778,\"#fb9f3a\"],[0.8888888888888888,\"#fdca26\"],[1.0,\"#f0f921\"]],\"type\":\"histogram2dcontour\"}],\"mesh3d\":[{\"colorbar\":{\"outlinewidth\":0,\"ticks\":\"\"},\"type\":\"mesh3d\"}],\"parcoords\":[{\"line\":{\"colorbar\":{\"outlinewidth\":0,\"ticks\":\"\"}},\"type\":\"parcoords\"}],\"pie\":[{\"automargin\":true,\"type\":\"pie\"}],\"scatter\":[{\"marker\":{\"colorbar\":{\"outlinewidth\":0,\"ticks\":\"\"}},\"type\":\"scatter\"}],\"scatter3d\":[{\"line\":{\"colorbar\":{\"outlinewidth\":0,\"ticks\":\"\"}},\"marker\":{\"colorbar\":{\"outlinewidth\":0,\"ticks\":\"\"}},\"type\":\"scatter3d\"}],\"scattercarpet\":[{\"marker\":{\"colorbar\":{\"outlinewidth\":0,\"ticks\":\"\"}},\"type\":\"scattercarpet\"}],\"scattergeo\":[{\"marker\":{\"colorbar\":{\"outlinewidth\":0,\"ticks\":\"\"}},\"type\":\"scattergeo\"}],\"scattergl\":[{\"marker\":{\"colorbar\":{\"outlinewidth\":0,\"ticks\":\"\"}},\"type\":\"scattergl\"}],\"scattermapbox\":[{\"marker\":{\"colorbar\":{\"outlinewidth\":0,\"ticks\":\"\"}},\"type\":\"scattermapbox\"}],\"scatterpolar\":[{\"marker\":{\"colorbar\":{\"outlinewidth\":0,\"ticks\":\"\"}},\"type\":\"scatterpolar\"}],\"scatterpolargl\":[{\"marker\":{\"colorbar\":{\"outlinewidth\":0,\"ticks\":\"\"}},\"type\":\"scatterpolargl\"}],\"scatterternary\":[{\"marker\":{\"colorbar\":{\"outlinewidth\":0,\"ticks\":\"\"}},\"type\":\"scatterternary\"}],\"surface\":[{\"colorbar\":{\"outlinewidth\":0,\"ticks\":\"\"},\"colorscale\":[[0.0,\"#0d0887\"],[0.1111111111111111,\"#46039f\"],[0.2222222222222222,\"#7201a8\"],[0.3333333333333333,\"#9c179e\"],[0.4444444444444444,\"#bd3786\"],[0.5555555555555556,\"#d8576b\"],[0.6666666666666666,\"#ed7953\"],[0.7777777777777778,\"#fb9f3a\"],[0.8888888888888888,\"#fdca26\"],[1.0,\"#f0f921\"]],\"type\":\"surface\"}],\"table\":[{\"cells\":{\"fill\":{\"color\":\"#EBF0F8\"},\"line\":{\"color\":\"white\"}},\"header\":{\"fill\":{\"color\":\"#C8D4E3\"},\"line\":{\"color\":\"white\"}},\"type\":\"table\"}]},\"layout\":{\"annotationdefaults\":{\"arrowcolor\":\"#2a3f5f\",\"arrowhead\":0,\"arrowwidth\":1},\"autotypenumbers\":\"strict\",\"coloraxis\":{\"colorbar\":{\"outlinewidth\":0,\"ticks\":\"\"}},\"colorscale\":{\"diverging\":[[0,\"#8e0152\"],[0.1,\"#c51b7d\"],[0.2,\"#de77ae\"],[0.3,\"#f1b6da\"],[0.4,\"#fde0ef\"],[0.5,\"#f7f7f7\"],[0.6,\"#e6f5d0\"],[0.7,\"#b8e186\"],[0.8,\"#7fbc41\"],[0.9,\"#4d9221\"],[1,\"#276419\"]],\"sequential\":[[0.0,\"#0d0887\"],[0.1111111111111111,\"#46039f\"],[0.2222222222222222,\"#7201a8\"],[0.3333333333333333,\"#9c179e\"],[0.4444444444444444,\"#bd3786\"],[0.5555555555555556,\"#d8576b\"],[0.6666666666666666,\"#ed7953\"],[0.7777777777777778,\"#fb9f3a\"],[0.8888888888888888,\"#fdca26\"],[1.0,\"#f0f921\"]],\"sequentialminus\":[[0.0,\"#0d0887\"],[0.1111111111111111,\"#46039f\"],[0.2222222222222222,\"#7201a8\"],[0.3333333333333333,\"#9c179e\"],[0.4444444444444444,\"#bd3786\"],[0.5555555555555556,\"#d8576b\"],[0.6666666666666666,\"#ed7953\"],[0.7777777777777778,\"#fb9f3a\"],[0.8888888888888888,\"#fdca26\"],[1.0,\"#f0f921\"]]},\"colorway\":[\"#636efa\",\"#EF553B\",\"#00cc96\",\"#ab63fa\",\"#FFA15A\",\"#19d3f3\",\"#FF6692\",\"#B6E880\",\"#FF97FF\",\"#FECB52\"],\"font\":{\"color\":\"#2a3f5f\"},\"geo\":{\"bgcolor\":\"white\",\"lakecolor\":\"white\",\"landcolor\":\"#E5ECF6\",\"showlakes\":true,\"showland\":true,\"subunitcolor\":\"white\"},\"hoverlabel\":{\"align\":\"left\"},\"hovermode\":\"closest\",\"mapbox\":{\"style\":\"light\"},\"paper_bgcolor\":\"white\",\"plot_bgcolor\":\"#E5ECF6\",\"polar\":{\"angularaxis\":{\"gridcolor\":\"white\",\"linecolor\":\"white\",\"ticks\":\"\"},\"bgcolor\":\"#E5ECF6\",\"radialaxis\":{\"gridcolor\":\"white\",\"linecolor\":\"white\",\"ticks\":\"\"}},\"scene\":{\"xaxis\":{\"backgroundcolor\":\"#E5ECF6\",\"gridcolor\":\"white\",\"gridwidth\":2,\"linecolor\":\"white\",\"showbackground\":true,\"ticks\":\"\",\"zerolinecolor\":\"white\"},\"yaxis\":{\"backgroundcolor\":\"#E5ECF6\",\"gridcolor\":\"white\",\"gridwidth\":2,\"linecolor\":\"white\",\"showbackground\":true,\"ticks\":\"\",\"zerolinecolor\":\"white\"},\"zaxis\":{\"backgroundcolor\":\"#E5ECF6\",\"gridcolor\":\"white\",\"gridwidth\":2,\"linecolor\":\"white\",\"showbackground\":true,\"ticks\":\"\",\"zerolinecolor\":\"white\"}},\"shapedefaults\":{\"line\":{\"color\":\"#2a3f5f\"}},\"ternary\":{\"aaxis\":{\"gridcolor\":\"white\",\"linecolor\":\"white\",\"ticks\":\"\"},\"baxis\":{\"gridcolor\":\"white\",\"linecolor\":\"white\",\"ticks\":\"\"},\"bgcolor\":\"#E5ECF6\",\"caxis\":{\"gridcolor\":\"white\",\"linecolor\":\"white\",\"ticks\":\"\"}},\"title\":{\"x\":0.05},\"xaxis\":{\"automargin\":true,\"gridcolor\":\"white\",\"linecolor\":\"white\",\"ticks\":\"\",\"title\":{\"standoff\":15},\"zerolinecolor\":\"white\",\"zerolinewidth\":2},\"yaxis\":{\"automargin\":true,\"gridcolor\":\"white\",\"linecolor\":\"white\",\"ticks\":\"\",\"title\":{\"standoff\":15},\"zerolinecolor\":\"white\",\"zerolinewidth\":2}}},\"xaxis\":{\"anchor\":\"y\",\"domain\":[0.0,1.0],\"title\":{\"text\":\"index\"}},\"yaxis\":{\"anchor\":\"x\",\"domain\":[0.0,1.0],\"title\":{\"text\":\"value\"}},\"legend\":{\"title\":{\"text\":\"variable\"},\"tracegroupgap\":0},\"margin\":{\"t\":60}},                        {\"responsive\": true}                    ).then(function(){\n",
       "                            \n",
       "var gd = document.getElementById('2e478798-9c88-4af5-8d07-e6e2d99bcfc5');\n",
       "var x = new MutationObserver(function (mutations, observer) {{\n",
       "        var display = window.getComputedStyle(gd).display;\n",
       "        if (!display || display === 'none') {{\n",
       "            console.log([gd, 'removed!']);\n",
       "            Plotly.purge(gd);\n",
       "            observer.disconnect();\n",
       "        }}\n",
       "}});\n",
       "\n",
       "// Listen for the removal of the full notebook cells\n",
       "var notebookContainer = gd.closest('#notebook-container');\n",
       "if (notebookContainer) {{\n",
       "    x.observe(notebookContainer, {childList: true});\n",
       "}}\n",
       "\n",
       "// Listen for the clearing of the current output cell\n",
       "var outputEl = gd.closest('.output');\n",
       "if (outputEl) {{\n",
       "    x.observe(outputEl, {childList: true});\n",
       "}}\n",
       "\n",
       "                        })                };                });            </script>        </div>"
      ]
     },
     "metadata": {},
     "output_type": "display_data"
    }
   ],
   "source": [
    "#시각화\n",
    "\n",
    "df_dubh\n",
    "px.line(df.reset_index(), x= 'index', y=['원유시추수', '두바이유(선물)종가'])"
   ]
  },
  {
   "cell_type": "code",
   "execution_count": null,
   "id": "2310d3c4",
   "metadata": {},
   "outputs": [],
   "source": []
  },
  {
   "cell_type": "code",
   "execution_count": null,
   "id": "d986287a",
   "metadata": {},
   "outputs": [],
   "source": []
  },
  {
   "cell_type": "markdown",
   "id": "8a543fb4",
   "metadata": {},
   "source": [
    "### opec원유생산량"
   ]
  },
  {
   "cell_type": "code",
   "execution_count": 74,
   "id": "9f8ad99a",
   "metadata": {},
   "outputs": [
    {
     "data": {
      "text/html": [
       "<div>\n",
       "<style scoped>\n",
       "    .dataframe tbody tr th:only-of-type {\n",
       "        vertical-align: middle;\n",
       "    }\n",
       "\n",
       "    .dataframe tbody tr th {\n",
       "        vertical-align: top;\n",
       "    }\n",
       "\n",
       "    .dataframe thead th {\n",
       "        text-align: right;\n",
       "    }\n",
       "</style>\n",
       "<table border=\"1\" class=\"dataframe\">\n",
       "  <thead>\n",
       "    <tr style=\"text-align: right;\">\n",
       "      <th></th>\n",
       "      <th>날짜</th>\n",
       "      <th>사우디원유생산량</th>\n",
       "    </tr>\n",
       "  </thead>\n",
       "  <tbody>\n",
       "    <tr>\n",
       "      <th>0</th>\n",
       "      <td>2022-02-01</td>\n",
       "      <td>9.93</td>\n",
       "    </tr>\n",
       "    <tr>\n",
       "      <th>1</th>\n",
       "      <td>2021-12-31</td>\n",
       "      <td>9.87</td>\n",
       "    </tr>\n",
       "    <tr>\n",
       "      <th>2</th>\n",
       "      <td>2021-12-01</td>\n",
       "      <td>9.76</td>\n",
       "    </tr>\n",
       "    <tr>\n",
       "      <th>3</th>\n",
       "      <td>2021-10-30</td>\n",
       "      <td>9.68</td>\n",
       "    </tr>\n",
       "    <tr>\n",
       "      <th>4</th>\n",
       "      <td>2021-10-01</td>\n",
       "      <td>9.49</td>\n",
       "    </tr>\n",
       "  </tbody>\n",
       "</table>\n",
       "</div>"
      ],
      "text/plain": [
       "          날짜  사우디원유생산량\n",
       "0 2022-02-01      9.93\n",
       "1 2021-12-31      9.87\n",
       "2 2021-12-01      9.76\n",
       "3 2021-10-30      9.68\n",
       "4 2021-10-01      9.49"
      ]
     },
     "execution_count": 74,
     "metadata": {},
     "output_type": "execute_result"
    }
   ],
   "source": [
    "# 사우디\n",
    "df_s = pd.read_csv('./data/사우디원유생산량.csv',delimiter='\\t',usecols=['발표일','발표'])\n",
    "df_s.columns = ['날짜', '사우디원유생산량']\n",
    "df_s['날짜'] = df_s['날짜'].str.replace('년','-')\n",
    "df_s['날짜'] = df_s['날짜'].str.replace('월','-')\n",
    "df_s['날짜'] = df_s['날짜'].str.replace('일','')\n",
    "df_s['날짜'] = df_s['날짜'].str.replace(' ','')\n",
    "df_s['날짜'] = pd.to_datetime(df_s['날짜'])\n",
    "df_s['사우디원유생산량'] = df_s['사우디원유생산량'].apply(lambda x : x.replace('M',''))\n",
    "df_s['사우디원유생산량'] = df_s['사우디원유생산량'].astype(float)\n",
    "df_s.head()\n",
    "\n"
   ]
  },
  {
   "cell_type": "code",
   "execution_count": 75,
   "id": "aba6a581",
   "metadata": {},
   "outputs": [
    {
     "data": {
      "text/html": [
       "<div>\n",
       "<style scoped>\n",
       "    .dataframe tbody tr th:only-of-type {\n",
       "        vertical-align: middle;\n",
       "    }\n",
       "\n",
       "    .dataframe tbody tr th {\n",
       "        vertical-align: top;\n",
       "    }\n",
       "\n",
       "    .dataframe thead th {\n",
       "        text-align: right;\n",
       "    }\n",
       "</style>\n",
       "<table border=\"1\" class=\"dataframe\">\n",
       "  <thead>\n",
       "    <tr style=\"text-align: right;\">\n",
       "      <th></th>\n",
       "      <th>날짜</th>\n",
       "      <th>이라크원유생산량</th>\n",
       "    </tr>\n",
       "  </thead>\n",
       "  <tbody>\n",
       "    <tr>\n",
       "      <th>0</th>\n",
       "      <td>2022-02-01</td>\n",
       "      <td>4.27</td>\n",
       "    </tr>\n",
       "    <tr>\n",
       "      <th>1</th>\n",
       "      <td>2021-12-31</td>\n",
       "      <td>4.24</td>\n",
       "    </tr>\n",
       "    <tr>\n",
       "      <th>2</th>\n",
       "      <td>2021-12-01</td>\n",
       "      <td>4.15</td>\n",
       "    </tr>\n",
       "    <tr>\n",
       "      <th>3</th>\n",
       "      <td>2021-10-30</td>\n",
       "      <td>4.14</td>\n",
       "    </tr>\n",
       "    <tr>\n",
       "      <th>4</th>\n",
       "      <td>2021-10-01</td>\n",
       "      <td>4.06</td>\n",
       "    </tr>\n",
       "  </tbody>\n",
       "</table>\n",
       "</div>"
      ],
      "text/plain": [
       "          날짜  이라크원유생산량\n",
       "0 2022-02-01      4.27\n",
       "1 2021-12-31      4.24\n",
       "2 2021-12-01      4.15\n",
       "3 2021-10-30      4.14\n",
       "4 2021-10-01      4.06"
      ]
     },
     "execution_count": 75,
     "metadata": {},
     "output_type": "execute_result"
    }
   ],
   "source": [
    "# 이라크\n",
    "df_i = pd.read_csv('./data/이라크원유생산량.csv',delimiter='\\t',usecols=['발표일','발표'])\n",
    "df_i.columns = ['날짜', '이라크원유생산량']\n",
    "df_i['날짜'] = df_i['날짜'].str.replace('년','-')\n",
    "df_i['날짜'] = df_i['날짜'].str.replace('월','-')\n",
    "df_i['날짜'] = df_i['날짜'].str.replace('일','')\n",
    "df_i['날짜'] = df_i['날짜'].str.replace(' ','')\n",
    "df_i['날짜'] = pd.to_datetime(df_i['날짜'])\n",
    "df_i['이라크원유생산량'] = df_i['이라크원유생산량'].apply(lambda x : x.replace('M',''))\n",
    "df_i['이라크원유생산량'] = df_i['이라크원유생산량'].astype(float)\n",
    "df_i.head()"
   ]
  },
  {
   "cell_type": "code",
   "execution_count": 89,
   "id": "d2778ac9",
   "metadata": {
    "scrolled": true
   },
   "outputs": [
    {
     "name": "stderr",
     "output_type": "stream",
     "text": [
      "C:\\Users\\bitcamp\\AppData\\Local\\Temp/ipykernel_11228/2559541683.py:12: SettingWithCopyWarning:\n",
      "\n",
      "\n",
      "A value is trying to be set on a copy of a slice from a DataFrame\n",
      "\n",
      "See the caveats in the documentation: https://pandas.pydata.org/pandas-docs/stable/user_guide/indexing.html#returning-a-view-versus-a-copy\n",
      "\n"
     ]
    },
    {
     "data": {
      "text/html": [
       "<div>\n",
       "<style scoped>\n",
       "    .dataframe tbody tr th:only-of-type {\n",
       "        vertical-align: middle;\n",
       "    }\n",
       "\n",
       "    .dataframe tbody tr th {\n",
       "        vertical-align: top;\n",
       "    }\n",
       "\n",
       "    .dataframe thead th {\n",
       "        text-align: right;\n",
       "    }\n",
       "</style>\n",
       "<table border=\"1\" class=\"dataframe\">\n",
       "  <thead>\n",
       "    <tr style=\"text-align: right;\">\n",
       "      <th></th>\n",
       "      <th>날짜</th>\n",
       "      <th>아랍에미리트원유생산량</th>\n",
       "    </tr>\n",
       "  </thead>\n",
       "  <tbody>\n",
       "    <tr>\n",
       "      <th>0</th>\n",
       "      <td>2022-02-01</td>\n",
       "      <td>2.88</td>\n",
       "    </tr>\n",
       "    <tr>\n",
       "      <th>1</th>\n",
       "      <td>2021-12-31</td>\n",
       "      <td>2.85</td>\n",
       "    </tr>\n",
       "    <tr>\n",
       "      <th>2</th>\n",
       "      <td>2021-12-01</td>\n",
       "      <td>2.83</td>\n",
       "    </tr>\n",
       "    <tr>\n",
       "      <th>3</th>\n",
       "      <td>2021-10-30</td>\n",
       "      <td>2.79</td>\n",
       "    </tr>\n",
       "    <tr>\n",
       "      <th>4</th>\n",
       "      <td>2021-10-01</td>\n",
       "      <td>2.78</td>\n",
       "    </tr>\n",
       "    <tr>\n",
       "      <th>5</th>\n",
       "      <td>2021-09-01</td>\n",
       "      <td>2.72</td>\n",
       "    </tr>\n",
       "    <tr>\n",
       "      <th>6</th>\n",
       "      <td>2021-07-31</td>\n",
       "      <td>2.68</td>\n",
       "    </tr>\n",
       "    <tr>\n",
       "      <th>7</th>\n",
       "      <td>2021-07-01</td>\n",
       "      <td>2.64</td>\n",
       "    </tr>\n",
       "    <tr>\n",
       "      <th>8</th>\n",
       "      <td>2021-06-01</td>\n",
       "      <td>2.61</td>\n",
       "    </tr>\n",
       "    <tr>\n",
       "      <th>9</th>\n",
       "      <td>2021-05-01</td>\n",
       "      <td>2.61</td>\n",
       "    </tr>\n",
       "    <tr>\n",
       "      <th>10</th>\n",
       "      <td>2021-04-01</td>\n",
       "      <td>2.61</td>\n",
       "    </tr>\n",
       "    <tr>\n",
       "      <th>11</th>\n",
       "      <td>2021-02-27</td>\n",
       "      <td>2.61</td>\n",
       "    </tr>\n",
       "    <tr>\n",
       "      <th>12</th>\n",
       "      <td>2021-01-30</td>\n",
       "      <td>2.58</td>\n",
       "    </tr>\n",
       "    <tr>\n",
       "      <th>13</th>\n",
       "      <td>2021-01-01</td>\n",
       "      <td>2.52</td>\n",
       "    </tr>\n",
       "    <tr>\n",
       "      <th>14</th>\n",
       "      <td>2020-12-01</td>\n",
       "      <td>2.44</td>\n",
       "    </tr>\n",
       "    <tr>\n",
       "      <th>15</th>\n",
       "      <td>2020-10-31</td>\n",
       "      <td>2.53</td>\n",
       "    </tr>\n",
       "    <tr>\n",
       "      <th>16</th>\n",
       "      <td>2020-10-01</td>\n",
       "      <td>2.71</td>\n",
       "    </tr>\n",
       "    <tr>\n",
       "      <th>17</th>\n",
       "      <td>2020-09-01</td>\n",
       "      <td>2.43</td>\n",
       "    </tr>\n",
       "    <tr>\n",
       "      <th>18</th>\n",
       "      <td>2020-08-01</td>\n",
       "      <td>2.35</td>\n",
       "    </tr>\n",
       "    <tr>\n",
       "      <th>19</th>\n",
       "      <td>2020-07-01</td>\n",
       "      <td>2.48</td>\n",
       "    </tr>\n",
       "    <tr>\n",
       "      <th>20</th>\n",
       "      <td>2020-05-30</td>\n",
       "      <td>3.84</td>\n",
       "    </tr>\n",
       "    <tr>\n",
       "      <th>21</th>\n",
       "      <td>2020-05-01</td>\n",
       "      <td>3.51</td>\n",
       "    </tr>\n",
       "    <tr>\n",
       "      <th>22</th>\n",
       "      <td>2020-04-01</td>\n",
       "      <td>3.04</td>\n",
       "    </tr>\n",
       "    <tr>\n",
       "      <th>23</th>\n",
       "      <td>2020-02-01</td>\n",
       "      <td>2.99</td>\n",
       "    </tr>\n",
       "    <tr>\n",
       "      <th>24</th>\n",
       "      <td>2019-11-30</td>\n",
       "      <td>3.03</td>\n",
       "    </tr>\n",
       "    <tr>\n",
       "      <th>25</th>\n",
       "      <td>2019-11-01</td>\n",
       "      <td>3.07</td>\n",
       "    </tr>\n",
       "    <tr>\n",
       "      <th>26</th>\n",
       "      <td>2019-10-01</td>\n",
       "      <td>3.07</td>\n",
       "    </tr>\n",
       "    <tr>\n",
       "      <th>27</th>\n",
       "      <td>2019-09-01</td>\n",
       "      <td>3.07</td>\n",
       "    </tr>\n",
       "  </tbody>\n",
       "</table>\n",
       "</div>"
      ],
      "text/plain": [
       "           날짜  아랍에미리트원유생산량\n",
       "0  2022-02-01         2.88\n",
       "1  2021-12-31         2.85\n",
       "2  2021-12-01         2.83\n",
       "3  2021-10-30         2.79\n",
       "4  2021-10-01         2.78\n",
       "5  2021-09-01         2.72\n",
       "6  2021-07-31         2.68\n",
       "7  2021-07-01         2.64\n",
       "8  2021-06-01         2.61\n",
       "9  2021-05-01         2.61\n",
       "10 2021-04-01         2.61\n",
       "11 2021-02-27         2.61\n",
       "12 2021-01-30         2.58\n",
       "13 2021-01-01         2.52\n",
       "14 2020-12-01         2.44\n",
       "15 2020-10-31         2.53\n",
       "16 2020-10-01         2.71\n",
       "17 2020-09-01         2.43\n",
       "18 2020-08-01         2.35\n",
       "19 2020-07-01         2.48\n",
       "20 2020-05-30         3.84\n",
       "21 2020-05-01         3.51\n",
       "22 2020-04-01         3.04\n",
       "23 2020-02-01         2.99\n",
       "24 2019-11-30         3.03\n",
       "25 2019-11-01         3.07\n",
       "26 2019-10-01         3.07\n",
       "27 2019-09-01         3.07"
      ]
     },
     "execution_count": 89,
     "metadata": {},
     "output_type": "execute_result"
    }
   ],
   "source": [
    "# 아랍에미리트\n",
    "df_a = pd.read_csv('./data/아랍에미리트원유생산량.csv',delimiter='\\t',usecols=['발표일','발표'])\n",
    "df_a.columns = ['날짜', '아랍에미리트원유생산량']\n",
    "df_a['날짜'] = df_a['날짜'].str.replace('년','-')\n",
    "df_a['날짜'] = df_a['날짜'].str.replace('월','-')\n",
    "df_a['날짜'] = df_a['날짜'].str.replace('일','')\n",
    "df_a['날짜'] = df_a['날짜'].str.replace(' ','')\n",
    "df_a['날짜'] = pd.to_datetime(df_a['날짜'])\n",
    "# df_a['아랍에미리트원유생산량']\n",
    "df_a['아랍에미리트원유생산량'] = df_a['아랍에미리트원유생산량'].apply(lambda x : x.replace('M',''))\n",
    "# 빈값 처리\n",
    "df_a['아랍에미리트원유생산량'][24] = np.nan\n",
    "\n",
    "df_a['아랍에미리트원유생산량'] = df_a['아랍에미리트원유생산량'].astype(float)\n",
    "\n",
    "#결측치 평균값으로 처리\n",
    "df_a['아랍에미리트원유생산량'] = df_a['아랍에미리트원유생산량'].interpolate()\n",
    "df_a"
   ]
  },
  {
   "cell_type": "code",
   "execution_count": 93,
   "id": "8efedf91",
   "metadata": {},
   "outputs": [
    {
     "name": "stderr",
     "output_type": "stream",
     "text": [
      "C:\\Users\\bitcamp\\AppData\\Local\\Temp/ipykernel_11228/48815423.py:5: FutureWarning:\n",
      "\n",
      "Dropping of nuisance columns in DataFrame reductions (with 'numeric_only=None') is deprecated; in a future version this will raise TypeError.  Select only valid columns before calling the reduction.\n",
      "\n"
     ]
    },
    {
     "data": {
      "text/html": [
       "<div>\n",
       "<style scoped>\n",
       "    .dataframe tbody tr th:only-of-type {\n",
       "        vertical-align: middle;\n",
       "    }\n",
       "\n",
       "    .dataframe tbody tr th {\n",
       "        vertical-align: top;\n",
       "    }\n",
       "\n",
       "    .dataframe thead th {\n",
       "        text-align: right;\n",
       "    }\n",
       "</style>\n",
       "<table border=\"1\" class=\"dataframe\">\n",
       "  <thead>\n",
       "    <tr style=\"text-align: right;\">\n",
       "      <th></th>\n",
       "      <th>날짜</th>\n",
       "      <th>사우디원유생산량</th>\n",
       "      <th>이라크원유생산량</th>\n",
       "      <th>아랍에미리트원유생산량</th>\n",
       "      <th>opec3개국생산량</th>\n",
       "    </tr>\n",
       "  </thead>\n",
       "  <tbody>\n",
       "    <tr>\n",
       "      <th>0</th>\n",
       "      <td>2022-02-01</td>\n",
       "      <td>9.93</td>\n",
       "      <td>4.27</td>\n",
       "      <td>2.88</td>\n",
       "      <td>17.08</td>\n",
       "    </tr>\n",
       "    <tr>\n",
       "      <th>1</th>\n",
       "      <td>2021-12-31</td>\n",
       "      <td>9.87</td>\n",
       "      <td>4.24</td>\n",
       "      <td>2.85</td>\n",
       "      <td>16.96</td>\n",
       "    </tr>\n",
       "    <tr>\n",
       "      <th>2</th>\n",
       "      <td>2021-12-01</td>\n",
       "      <td>9.76</td>\n",
       "      <td>4.15</td>\n",
       "      <td>2.83</td>\n",
       "      <td>16.74</td>\n",
       "    </tr>\n",
       "    <tr>\n",
       "      <th>3</th>\n",
       "      <td>2021-10-30</td>\n",
       "      <td>9.68</td>\n",
       "      <td>4.14</td>\n",
       "      <td>2.79</td>\n",
       "      <td>16.61</td>\n",
       "    </tr>\n",
       "    <tr>\n",
       "      <th>4</th>\n",
       "      <td>2021-10-01</td>\n",
       "      <td>9.49</td>\n",
       "      <td>4.06</td>\n",
       "      <td>2.78</td>\n",
       "      <td>16.33</td>\n",
       "    </tr>\n",
       "    <tr>\n",
       "      <th>5</th>\n",
       "      <td>2021-09-01</td>\n",
       "      <td>9.40</td>\n",
       "      <td>3.98</td>\n",
       "      <td>2.72</td>\n",
       "      <td>16.10</td>\n",
       "    </tr>\n",
       "    <tr>\n",
       "      <th>6</th>\n",
       "      <td>2021-07-31</td>\n",
       "      <td>8.91</td>\n",
       "      <td>3.94</td>\n",
       "      <td>2.68</td>\n",
       "      <td>15.53</td>\n",
       "    </tr>\n",
       "    <tr>\n",
       "      <th>7</th>\n",
       "      <td>2021-07-01</td>\n",
       "      <td>8.47</td>\n",
       "      <td>3.97</td>\n",
       "      <td>2.64</td>\n",
       "      <td>15.08</td>\n",
       "    </tr>\n",
       "    <tr>\n",
       "      <th>8</th>\n",
       "      <td>2021-06-01</td>\n",
       "      <td>8.13</td>\n",
       "      <td>3.92</td>\n",
       "      <td>2.61</td>\n",
       "      <td>14.66</td>\n",
       "    </tr>\n",
       "    <tr>\n",
       "      <th>9</th>\n",
       "      <td>2021-05-01</td>\n",
       "      <td>8.09</td>\n",
       "      <td>3.91</td>\n",
       "      <td>2.61</td>\n",
       "      <td>14.61</td>\n",
       "    </tr>\n",
       "    <tr>\n",
       "      <th>10</th>\n",
       "      <td>2021-04-01</td>\n",
       "      <td>8.12</td>\n",
       "      <td>3.89</td>\n",
       "      <td>2.61</td>\n",
       "      <td>14.62</td>\n",
       "    </tr>\n",
       "    <tr>\n",
       "      <th>11</th>\n",
       "      <td>2021-02-27</td>\n",
       "      <td>9.05</td>\n",
       "      <td>3.84</td>\n",
       "      <td>2.61</td>\n",
       "      <td>15.50</td>\n",
       "    </tr>\n",
       "    <tr>\n",
       "      <th>12</th>\n",
       "      <td>2021-01-30</td>\n",
       "      <td>8.96</td>\n",
       "      <td>3.85</td>\n",
       "      <td>2.58</td>\n",
       "      <td>15.39</td>\n",
       "    </tr>\n",
       "    <tr>\n",
       "      <th>13</th>\n",
       "      <td>2021-01-01</td>\n",
       "      <td>8.97</td>\n",
       "      <td>3.77</td>\n",
       "      <td>2.52</td>\n",
       "      <td>15.26</td>\n",
       "    </tr>\n",
       "    <tr>\n",
       "      <th>14</th>\n",
       "      <td>2020-12-01</td>\n",
       "      <td>8.96</td>\n",
       "      <td>3.84</td>\n",
       "      <td>2.44</td>\n",
       "      <td>15.24</td>\n",
       "    </tr>\n",
       "    <tr>\n",
       "      <th>15</th>\n",
       "      <td>2020-10-31</td>\n",
       "      <td>8.96</td>\n",
       "      <td>3.69</td>\n",
       "      <td>2.53</td>\n",
       "      <td>15.18</td>\n",
       "    </tr>\n",
       "    <tr>\n",
       "      <th>16</th>\n",
       "      <td>2020-10-01</td>\n",
       "      <td>8.89</td>\n",
       "      <td>3.65</td>\n",
       "      <td>2.71</td>\n",
       "      <td>15.25</td>\n",
       "    </tr>\n",
       "    <tr>\n",
       "      <th>17</th>\n",
       "      <td>2020-09-01</td>\n",
       "      <td>8.41</td>\n",
       "      <td>3.75</td>\n",
       "      <td>2.43</td>\n",
       "      <td>14.59</td>\n",
       "    </tr>\n",
       "    <tr>\n",
       "      <th>18</th>\n",
       "      <td>2020-08-01</td>\n",
       "      <td>7.56</td>\n",
       "      <td>3.72</td>\n",
       "      <td>2.35</td>\n",
       "      <td>13.63</td>\n",
       "    </tr>\n",
       "    <tr>\n",
       "      <th>19</th>\n",
       "      <td>2020-07-01</td>\n",
       "      <td>8.48</td>\n",
       "      <td>4.17</td>\n",
       "      <td>2.48</td>\n",
       "      <td>15.13</td>\n",
       "    </tr>\n",
       "    <tr>\n",
       "      <th>20</th>\n",
       "      <td>2020-05-30</td>\n",
       "      <td>11.55</td>\n",
       "      <td>4.52</td>\n",
       "      <td>3.84</td>\n",
       "      <td>19.91</td>\n",
       "    </tr>\n",
       "    <tr>\n",
       "      <th>21</th>\n",
       "      <td>2020-05-01</td>\n",
       "      <td>10.00</td>\n",
       "      <td>4.57</td>\n",
       "      <td>3.51</td>\n",
       "      <td>18.08</td>\n",
       "    </tr>\n",
       "    <tr>\n",
       "      <th>22</th>\n",
       "      <td>2020-04-01</td>\n",
       "      <td>9.68</td>\n",
       "      <td>4.59</td>\n",
       "      <td>3.04</td>\n",
       "      <td>17.31</td>\n",
       "    </tr>\n",
       "    <tr>\n",
       "      <th>23</th>\n",
       "      <td>2020-02-01</td>\n",
       "      <td>9.72</td>\n",
       "      <td>4.54</td>\n",
       "      <td>2.99</td>\n",
       "      <td>17.25</td>\n",
       "    </tr>\n",
       "    <tr>\n",
       "      <th>24</th>\n",
       "      <td>2019-11-30</td>\n",
       "      <td>9.85</td>\n",
       "      <td>4.62</td>\n",
       "      <td>3.03</td>\n",
       "      <td>17.50</td>\n",
       "    </tr>\n",
       "    <tr>\n",
       "      <th>25</th>\n",
       "      <td>2019-11-01</td>\n",
       "      <td>9.90</td>\n",
       "      <td>4.65</td>\n",
       "      <td>3.07</td>\n",
       "      <td>17.62</td>\n",
       "    </tr>\n",
       "    <tr>\n",
       "      <th>26</th>\n",
       "      <td>2019-10-01</td>\n",
       "      <td>9.05</td>\n",
       "      <td>4.67</td>\n",
       "      <td>3.07</td>\n",
       "      <td>16.79</td>\n",
       "    </tr>\n",
       "    <tr>\n",
       "      <th>27</th>\n",
       "      <td>2019-09-01</td>\n",
       "      <td>9.63</td>\n",
       "      <td>4.76</td>\n",
       "      <td>3.07</td>\n",
       "      <td>17.46</td>\n",
       "    </tr>\n",
       "  </tbody>\n",
       "</table>\n",
       "</div>"
      ],
      "text/plain": [
       "           날짜  사우디원유생산량  이라크원유생산량  아랍에미리트원유생산량  opec3개국생산량\n",
       "0  2022-02-01      9.93      4.27         2.88       17.08\n",
       "1  2021-12-31      9.87      4.24         2.85       16.96\n",
       "2  2021-12-01      9.76      4.15         2.83       16.74\n",
       "3  2021-10-30      9.68      4.14         2.79       16.61\n",
       "4  2021-10-01      9.49      4.06         2.78       16.33\n",
       "5  2021-09-01      9.40      3.98         2.72       16.10\n",
       "6  2021-07-31      8.91      3.94         2.68       15.53\n",
       "7  2021-07-01      8.47      3.97         2.64       15.08\n",
       "8  2021-06-01      8.13      3.92         2.61       14.66\n",
       "9  2021-05-01      8.09      3.91         2.61       14.61\n",
       "10 2021-04-01      8.12      3.89         2.61       14.62\n",
       "11 2021-02-27      9.05      3.84         2.61       15.50\n",
       "12 2021-01-30      8.96      3.85         2.58       15.39\n",
       "13 2021-01-01      8.97      3.77         2.52       15.26\n",
       "14 2020-12-01      8.96      3.84         2.44       15.24\n",
       "15 2020-10-31      8.96      3.69         2.53       15.18\n",
       "16 2020-10-01      8.89      3.65         2.71       15.25\n",
       "17 2020-09-01      8.41      3.75         2.43       14.59\n",
       "18 2020-08-01      7.56      3.72         2.35       13.63\n",
       "19 2020-07-01      8.48      4.17         2.48       15.13\n",
       "20 2020-05-30     11.55      4.52         3.84       19.91\n",
       "21 2020-05-01     10.00      4.57         3.51       18.08\n",
       "22 2020-04-01      9.68      4.59         3.04       17.31\n",
       "23 2020-02-01      9.72      4.54         2.99       17.25\n",
       "24 2019-11-30      9.85      4.62         3.03       17.50\n",
       "25 2019-11-01      9.90      4.65         3.07       17.62\n",
       "26 2019-10-01      9.05      4.67         3.07       16.79\n",
       "27 2019-09-01      9.63      4.76         3.07       17.46"
      ]
     },
     "execution_count": 93,
     "metadata": {},
     "output_type": "execute_result"
    }
   ],
   "source": [
    "# opec 상위3개국가 생산량 합\n",
    "\n",
    "df_merge = pd.merge(df_s,df_i)\n",
    "df_opec = pd.merge(df_merge,df_a)\n",
    "df_opec['opec3개국생산량'] = df_opec.sum(axis=1)\n",
    "df_opec"
   ]
  },
  {
   "cell_type": "code",
   "execution_count": null,
   "id": "e2198c29",
   "metadata": {},
   "outputs": [],
   "source": []
  },
  {
   "cell_type": "code",
   "execution_count": null,
   "id": "b83ab4a7",
   "metadata": {},
   "outputs": [],
   "source": []
  },
  {
   "cell_type": "code",
   "execution_count": null,
   "id": "39520ad1",
   "metadata": {},
   "outputs": [],
   "source": []
  },
  {
   "cell_type": "code",
   "execution_count": null,
   "id": "df7e1199",
   "metadata": {},
   "outputs": [],
   "source": []
  },
  {
   "cell_type": "code",
   "execution_count": null,
   "id": "12ae03ba",
   "metadata": {},
   "outputs": [],
   "source": []
  },
  {
   "cell_type": "code",
   "execution_count": null,
   "id": "3b01f40f",
   "metadata": {},
   "outputs": [],
   "source": []
  },
  {
   "cell_type": "code",
   "execution_count": 94,
   "id": "d292a766",
   "metadata": {},
   "outputs": [],
   "source": [
    "# 유가데이터 날짜 맞춰주기"
   ]
  },
  {
   "cell_type": "code",
   "execution_count": 104,
   "id": "449a2986",
   "metadata": {},
   "outputs": [
    {
     "name": "stderr",
     "output_type": "stream",
     "text": [
      "C:\\Users\\bitcamp\\AppData\\Local\\Temp/ipykernel_11228/3595781068.py:3: SettingWithCopyWarning:\n",
      "\n",
      "\n",
      "A value is trying to be set on a copy of a slice from a DataFrame.\n",
      "Try using .loc[row_indexer,col_indexer] = value instead\n",
      "\n",
      "See the caveats in the documentation: https://pandas.pydata.org/pandas-docs/stable/user_guide/indexing.html#returning-a-view-versus-a-copy\n",
      "\n"
     ]
    },
    {
     "data": {
      "text/html": [
       "<div>\n",
       "<style scoped>\n",
       "    .dataframe tbody tr th:only-of-type {\n",
       "        vertical-align: middle;\n",
       "    }\n",
       "\n",
       "    .dataframe tbody tr th {\n",
       "        vertical-align: top;\n",
       "    }\n",
       "\n",
       "    .dataframe thead th {\n",
       "        text-align: right;\n",
       "    }\n",
       "</style>\n",
       "<table border=\"1\" class=\"dataframe\">\n",
       "  <thead>\n",
       "    <tr style=\"text-align: right;\">\n",
       "      <th></th>\n",
       "      <th>날짜</th>\n",
       "      <th>사우디원유생산량</th>\n",
       "      <th>이라크원유생산량</th>\n",
       "      <th>아랍에미리트원유생산량</th>\n",
       "      <th>opec3개국생산량</th>\n",
       "      <th>company</th>\n",
       "      <th>date</th>\n",
       "      <th>종가</th>\n",
       "      <th>전일비</th>\n",
       "      <th>등락률</th>\n",
       "    </tr>\n",
       "  </thead>\n",
       "  <tbody>\n",
       "    <tr>\n",
       "      <th>0</th>\n",
       "      <td>2022-02-01</td>\n",
       "      <td>9.93</td>\n",
       "      <td>4.27</td>\n",
       "      <td>2.88</td>\n",
       "      <td>17.08</td>\n",
       "      <td>두바이유선물</td>\n",
       "      <td>2022-02-01</td>\n",
       "      <td>83.455</td>\n",
       "      <td>0.000</td>\n",
       "      <td>0.00</td>\n",
       "    </tr>\n",
       "    <tr>\n",
       "      <th>1</th>\n",
       "      <td>2021-12-31</td>\n",
       "      <td>9.87</td>\n",
       "      <td>4.24</td>\n",
       "      <td>2.85</td>\n",
       "      <td>16.96</td>\n",
       "      <td>두바이유선물</td>\n",
       "      <td>2021-12-31</td>\n",
       "      <td>73.185</td>\n",
       "      <td>-0.020</td>\n",
       "      <td>-0.03</td>\n",
       "    </tr>\n",
       "    <tr>\n",
       "      <th>2</th>\n",
       "      <td>2021-12-01</td>\n",
       "      <td>9.76</td>\n",
       "      <td>4.15</td>\n",
       "      <td>2.83</td>\n",
       "      <td>16.74</td>\n",
       "      <td>두바이유선물</td>\n",
       "      <td>2021-12-01</td>\n",
       "      <td>80.276</td>\n",
       "      <td>0.000</td>\n",
       "      <td>0.00</td>\n",
       "    </tr>\n",
       "    <tr>\n",
       "      <th>3</th>\n",
       "      <td>2021-10-01</td>\n",
       "      <td>9.49</td>\n",
       "      <td>4.06</td>\n",
       "      <td>2.78</td>\n",
       "      <td>16.33</td>\n",
       "      <td>두바이유선물</td>\n",
       "      <td>2021-10-01</td>\n",
       "      <td>72.608</td>\n",
       "      <td>0.000</td>\n",
       "      <td>0.00</td>\n",
       "    </tr>\n",
       "    <tr>\n",
       "      <th>4</th>\n",
       "      <td>2021-09-01</td>\n",
       "      <td>9.40</td>\n",
       "      <td>3.98</td>\n",
       "      <td>2.72</td>\n",
       "      <td>16.10</td>\n",
       "      <td>두바이유선물</td>\n",
       "      <td>2021-09-01</td>\n",
       "      <td>69.485</td>\n",
       "      <td>0.000</td>\n",
       "      <td>0.00</td>\n",
       "    </tr>\n",
       "    <tr>\n",
       "      <th>5</th>\n",
       "      <td>2021-07-01</td>\n",
       "      <td>8.47</td>\n",
       "      <td>3.97</td>\n",
       "      <td>2.64</td>\n",
       "      <td>15.08</td>\n",
       "      <td>두바이유선물</td>\n",
       "      <td>2021-07-01</td>\n",
       "      <td>71.573</td>\n",
       "      <td>0.000</td>\n",
       "      <td>0.00</td>\n",
       "    </tr>\n",
       "    <tr>\n",
       "      <th>6</th>\n",
       "      <td>2021-06-01</td>\n",
       "      <td>8.13</td>\n",
       "      <td>3.92</td>\n",
       "      <td>2.61</td>\n",
       "      <td>14.66</td>\n",
       "      <td>두바이유선물</td>\n",
       "      <td>2021-06-01</td>\n",
       "      <td>66.275</td>\n",
       "      <td>0.000</td>\n",
       "      <td>0.00</td>\n",
       "    </tr>\n",
       "    <tr>\n",
       "      <th>7</th>\n",
       "      <td>2021-04-01</td>\n",
       "      <td>8.12</td>\n",
       "      <td>3.89</td>\n",
       "      <td>2.61</td>\n",
       "      <td>14.62</td>\n",
       "      <td>두바이유선물</td>\n",
       "      <td>2021-04-01</td>\n",
       "      <td>64.414</td>\n",
       "      <td>0.000</td>\n",
       "      <td>0.00</td>\n",
       "    </tr>\n",
       "    <tr>\n",
       "      <th>8</th>\n",
       "      <td>2020-12-01</td>\n",
       "      <td>8.96</td>\n",
       "      <td>3.84</td>\n",
       "      <td>2.44</td>\n",
       "      <td>15.24</td>\n",
       "      <td>두바이유선물</td>\n",
       "      <td>2020-12-01</td>\n",
       "      <td>43.394</td>\n",
       "      <td>-0.126</td>\n",
       "      <td>-0.29</td>\n",
       "    </tr>\n",
       "    <tr>\n",
       "      <th>9</th>\n",
       "      <td>2020-10-01</td>\n",
       "      <td>8.89</td>\n",
       "      <td>3.65</td>\n",
       "      <td>2.71</td>\n",
       "      <td>15.25</td>\n",
       "      <td>두바이유선물</td>\n",
       "      <td>2020-10-01</td>\n",
       "      <td>41.495</td>\n",
       "      <td>0.000</td>\n",
       "      <td>0.00</td>\n",
       "    </tr>\n",
       "    <tr>\n",
       "      <th>10</th>\n",
       "      <td>2020-09-01</td>\n",
       "      <td>8.41</td>\n",
       "      <td>3.75</td>\n",
       "      <td>2.43</td>\n",
       "      <td>14.59</td>\n",
       "      <td>두바이유선물</td>\n",
       "      <td>2020-09-01</td>\n",
       "      <td>43.987</td>\n",
       "      <td>0.000</td>\n",
       "      <td>0.00</td>\n",
       "    </tr>\n",
       "    <tr>\n",
       "      <th>11</th>\n",
       "      <td>2020-07-01</td>\n",
       "      <td>8.48</td>\n",
       "      <td>4.17</td>\n",
       "      <td>2.48</td>\n",
       "      <td>15.13</td>\n",
       "      <td>두바이유선물</td>\n",
       "      <td>2020-07-01</td>\n",
       "      <td>40.791</td>\n",
       "      <td>0.000</td>\n",
       "      <td>0.00</td>\n",
       "    </tr>\n",
       "    <tr>\n",
       "      <th>12</th>\n",
       "      <td>2020-05-01</td>\n",
       "      <td>10.00</td>\n",
       "      <td>4.57</td>\n",
       "      <td>3.51</td>\n",
       "      <td>18.08</td>\n",
       "      <td>두바이유선물</td>\n",
       "      <td>2020-05-01</td>\n",
       "      <td>20.387</td>\n",
       "      <td>0.000</td>\n",
       "      <td>0.00</td>\n",
       "    </tr>\n",
       "    <tr>\n",
       "      <th>13</th>\n",
       "      <td>2020-04-01</td>\n",
       "      <td>9.68</td>\n",
       "      <td>4.59</td>\n",
       "      <td>3.04</td>\n",
       "      <td>17.31</td>\n",
       "      <td>두바이유선물</td>\n",
       "      <td>2020-04-01</td>\n",
       "      <td>33.700</td>\n",
       "      <td>0.000</td>\n",
       "      <td>0.00</td>\n",
       "    </tr>\n",
       "    <tr>\n",
       "      <th>14</th>\n",
       "      <td>2019-11-01</td>\n",
       "      <td>9.90</td>\n",
       "      <td>4.65</td>\n",
       "      <td>3.07</td>\n",
       "      <td>17.62</td>\n",
       "      <td>두바이유선물</td>\n",
       "      <td>2019-11-01</td>\n",
       "      <td>59.369</td>\n",
       "      <td>0.000</td>\n",
       "      <td>0.00</td>\n",
       "    </tr>\n",
       "    <tr>\n",
       "      <th>15</th>\n",
       "      <td>2019-10-01</td>\n",
       "      <td>9.05</td>\n",
       "      <td>4.67</td>\n",
       "      <td>3.07</td>\n",
       "      <td>16.79</td>\n",
       "      <td>두바이유선물</td>\n",
       "      <td>2019-10-01</td>\n",
       "      <td>61.115</td>\n",
       "      <td>0.000</td>\n",
       "      <td>0.00</td>\n",
       "    </tr>\n",
       "  </tbody>\n",
       "</table>\n",
       "</div>"
      ],
      "text/plain": [
       "           날짜  사우디원유생산량  이라크원유생산량  아랍에미리트원유생산량  opec3개국생산량 company       date  \\\n",
       "0  2022-02-01      9.93      4.27         2.88       17.08  두바이유선물 2022-02-01   \n",
       "1  2021-12-31      9.87      4.24         2.85       16.96  두바이유선물 2021-12-31   \n",
       "2  2021-12-01      9.76      4.15         2.83       16.74  두바이유선물 2021-12-01   \n",
       "3  2021-10-01      9.49      4.06         2.78       16.33  두바이유선물 2021-10-01   \n",
       "4  2021-09-01      9.40      3.98         2.72       16.10  두바이유선물 2021-09-01   \n",
       "5  2021-07-01      8.47      3.97         2.64       15.08  두바이유선물 2021-07-01   \n",
       "6  2021-06-01      8.13      3.92         2.61       14.66  두바이유선물 2021-06-01   \n",
       "7  2021-04-01      8.12      3.89         2.61       14.62  두바이유선물 2021-04-01   \n",
       "8  2020-12-01      8.96      3.84         2.44       15.24  두바이유선물 2020-12-01   \n",
       "9  2020-10-01      8.89      3.65         2.71       15.25  두바이유선물 2020-10-01   \n",
       "10 2020-09-01      8.41      3.75         2.43       14.59  두바이유선물 2020-09-01   \n",
       "11 2020-07-01      8.48      4.17         2.48       15.13  두바이유선물 2020-07-01   \n",
       "12 2020-05-01     10.00      4.57         3.51       18.08  두바이유선물 2020-05-01   \n",
       "13 2020-04-01      9.68      4.59         3.04       17.31  두바이유선물 2020-04-01   \n",
       "14 2019-11-01      9.90      4.65         3.07       17.62  두바이유선물 2019-11-01   \n",
       "15 2019-10-01      9.05      4.67         3.07       16.79  두바이유선물 2019-10-01   \n",
       "\n",
       "        종가    전일비   등락률  \n",
       "0   83.455  0.000  0.00  \n",
       "1   73.185 -0.020 -0.03  \n",
       "2   80.276  0.000  0.00  \n",
       "3   72.608  0.000  0.00  \n",
       "4   69.485  0.000  0.00  \n",
       "5   71.573  0.000  0.00  \n",
       "6   66.275  0.000  0.00  \n",
       "7   64.414  0.000  0.00  \n",
       "8   43.394 -0.126 -0.29  \n",
       "9   41.495  0.000  0.00  \n",
       "10  43.987  0.000  0.00  \n",
       "11  40.791  0.000  0.00  \n",
       "12  20.387  0.000  0.00  \n",
       "13  33.700  0.000  0.00  \n",
       "14  59.369  0.000  0.00  \n",
       "15  61.115  0.000  0.00  "
      ]
     },
     "execution_count": 104,
     "metadata": {},
     "output_type": "execute_result"
    }
   ],
   "source": [
    "df = pd.read_csv('./data/daum_oil.csv')\n",
    "df_dubai = df[df['company'] == '두바이유선물']\n",
    "df_dubai['date'] = pd.to_datetime(df_dubai['date'])\n",
    "df_d1 = df_dubai.set_index('date').loc['2019-9':'2022-02'].resample('M',label = 'left', closed='right')['종가'].last()\n",
    "# df_d1 = df_d1.reset_index()\n",
    "# df_d1 = df_d1.rename(columns={'date':'날짜', '종가': '두바이유(선물)종가'})\n",
    "# df_d1\n",
    "df_total = pd.merge(left= df_opec ,right=df_dubai, how='inner', left_on = '날짜', right_on = 'date')\n",
    "df_total"
   ]
  },
  {
   "cell_type": "code",
   "execution_count": null,
   "id": "934eb02b",
   "metadata": {},
   "outputs": [],
   "source": []
  }
 ],
 "metadata": {
  "kernelspec": {
   "display_name": "Python 3 (ipykernel)",
   "language": "python",
   "name": "python3"
  },
  "language_info": {
   "codemirror_mode": {
    "name": "ipython",
    "version": 3
   },
   "file_extension": ".py",
   "mimetype": "text/x-python",
   "name": "python",
   "nbconvert_exporter": "python",
   "pygments_lexer": "ipython3",
   "version": "3.9.7"
  },
  "varInspector": {
   "cols": {
    "lenName": 16,
    "lenType": 16,
    "lenVar": 40
   },
   "kernels_config": {
    "python": {
     "delete_cmd_postfix": "",
     "delete_cmd_prefix": "del ",
     "library": "var_list.py",
     "varRefreshCmd": "print(var_dic_list())"
    },
    "r": {
     "delete_cmd_postfix": ") ",
     "delete_cmd_prefix": "rm(",
     "library": "var_list.r",
     "varRefreshCmd": "cat(var_dic_list()) "
    }
   },
   "types_to_exclude": [
    "module",
    "function",
    "builtin_function_or_method",
    "instance",
    "_Feature"
   ],
   "window_display": false
  }
 },
 "nbformat": 4,
 "nbformat_minor": 5
}
