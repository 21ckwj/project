{
 "cells": [
  {
   "cell_type": "code",
   "execution_count": 1,
   "id": "1bafa019",
   "metadata": {},
   "outputs": [],
   "source": [
    "import FinanceDataReader as fdr\n",
    "import pandas as pd\n",
    "import numpy as np"
   ]
  },
  {
   "cell_type": "code",
   "execution_count": 5,
   "id": "4b6b4227",
   "metadata": {},
   "outputs": [],
   "source": [
    "import plotly.express as px\n",
    "import matplotlib.pyplot as plt\n",
    "import seaborn as sns\n",
    "import plotly.graph_objects as go"
   ]
  },
  {
   "cell_type": "code",
   "execution_count": 6,
   "id": "c36c8d64",
   "metadata": {},
   "outputs": [],
   "source": [
    "from datetime import datetime, timedelta"
   ]
  },
  {
   "cell_type": "code",
   "execution_count": 7,
   "id": "7ffe6f4e",
   "metadata": {},
   "outputs": [
    {
     "data": {
      "text/html": [
       "<div>\n",
       "<style scoped>\n",
       "    .dataframe tbody tr th:only-of-type {\n",
       "        vertical-align: middle;\n",
       "    }\n",
       "\n",
       "    .dataframe tbody tr th {\n",
       "        vertical-align: top;\n",
       "    }\n",
       "\n",
       "    .dataframe thead th {\n",
       "        text-align: right;\n",
       "    }\n",
       "</style>\n",
       "<table border=\"1\" class=\"dataframe\">\n",
       "  <thead>\n",
       "    <tr style=\"text-align: right;\">\n",
       "      <th></th>\n",
       "      <th>company</th>\n",
       "      <th>date</th>\n",
       "      <th>종가</th>\n",
       "      <th>전일비</th>\n",
       "      <th>등락률</th>\n",
       "    </tr>\n",
       "  </thead>\n",
       "  <tbody>\n",
       "    <tr>\n",
       "      <th>5390</th>\n",
       "      <td>WTI원유선물</td>\n",
       "      <td>2000.09.06</td>\n",
       "      <td>34.90</td>\n",
       "      <td>1.07</td>\n",
       "      <td>3.16</td>\n",
       "    </tr>\n",
       "    <tr>\n",
       "      <th>17505</th>\n",
       "      <td>브렌트원유선물</td>\n",
       "      <td>2000.10.30</td>\n",
       "      <td>31.14</td>\n",
       "      <td>0.19</td>\n",
       "      <td>0.61</td>\n",
       "    </tr>\n",
       "    <tr>\n",
       "      <th>3397</th>\n",
       "      <td>WTI원유선물</td>\n",
       "      <td>2008.08.27</td>\n",
       "      <td>118.15</td>\n",
       "      <td>1.88</td>\n",
       "      <td>1.62</td>\n",
       "    </tr>\n",
       "    <tr>\n",
       "      <th>19565</th>\n",
       "      <td>브렌트원유선물</td>\n",
       "      <td>1992.09.07</td>\n",
       "      <td>20.26</td>\n",
       "      <td>0.07</td>\n",
       "      <td>0.35</td>\n",
       "    </tr>\n",
       "    <tr>\n",
       "      <th>2187</th>\n",
       "      <td>WTI원유선물</td>\n",
       "      <td>2013.06.12</td>\n",
       "      <td>95.88</td>\n",
       "      <td>0.50</td>\n",
       "      <td>0.52</td>\n",
       "    </tr>\n",
       "    <tr>\n",
       "      <th>1917</th>\n",
       "      <td>WTI원유선물</td>\n",
       "      <td>2014.07.07</td>\n",
       "      <td>103.53</td>\n",
       "      <td>-0.53</td>\n",
       "      <td>-0.51</td>\n",
       "    </tr>\n",
       "    <tr>\n",
       "      <th>15341</th>\n",
       "      <td>브렌트원유선물</td>\n",
       "      <td>2009.04.30</td>\n",
       "      <td>50.80</td>\n",
       "      <td>0.02</td>\n",
       "      <td>0.04</td>\n",
       "    </tr>\n",
       "    <tr>\n",
       "      <th>12159</th>\n",
       "      <td>브렌트원유선물</td>\n",
       "      <td>2021.08.26</td>\n",
       "      <td>71.07</td>\n",
       "      <td>-1.18</td>\n",
       "      <td>-1.63</td>\n",
       "    </tr>\n",
       "    <tr>\n",
       "      <th>4046</th>\n",
       "      <td>WTI원유선물</td>\n",
       "      <td>2006.01.27</td>\n",
       "      <td>67.76</td>\n",
       "      <td>1.50</td>\n",
       "      <td>2.26</td>\n",
       "    </tr>\n",
       "    <tr>\n",
       "      <th>13587</th>\n",
       "      <td>브렌트원유선물</td>\n",
       "      <td>2016.02.15</td>\n",
       "      <td>33.39</td>\n",
       "      <td>0.03</td>\n",
       "      <td>0.09</td>\n",
       "    </tr>\n",
       "  </tbody>\n",
       "</table>\n",
       "</div>"
      ],
      "text/plain": [
       "       company        date      종가   전일비   등락률\n",
       "5390   WTI원유선물  2000.09.06   34.90  1.07  3.16\n",
       "17505  브렌트원유선물  2000.10.30   31.14  0.19  0.61\n",
       "3397   WTI원유선물  2008.08.27  118.15  1.88  1.62\n",
       "19565  브렌트원유선물  1992.09.07   20.26  0.07  0.35\n",
       "2187   WTI원유선물  2013.06.12   95.88  0.50  0.52\n",
       "1917   WTI원유선물  2014.07.07  103.53 -0.53 -0.51\n",
       "15341  브렌트원유선물  2009.04.30   50.80  0.02  0.04\n",
       "12159  브렌트원유선물  2021.08.26   71.07 -1.18 -1.63\n",
       "4046   WTI원유선물  2006.01.27   67.76  1.50  2.26\n",
       "13587  브렌트원유선물  2016.02.15   33.39  0.03  0.09"
      ]
     },
     "execution_count": 7,
     "metadata": {},
     "output_type": "execute_result"
    }
   ],
   "source": [
    "df = pd.read_csv('./data/daum_oil.csv')\n",
    "df.sample(10)"
   ]
  },
  {
   "cell_type": "code",
   "execution_count": 8,
   "id": "65c2787a",
   "metadata": {},
   "outputs": [],
   "source": [
    "# 두바이유"
   ]
  },
  {
   "cell_type": "code",
   "execution_count": 9,
   "id": "d44b283c",
   "metadata": {},
   "outputs": [
    {
     "name": "stderr",
     "output_type": "stream",
     "text": [
      "C:\\Users\\21ckw\\AppData\\Local\\Temp/ipykernel_24900/401426179.py:3: SettingWithCopyWarning: \n",
      "A value is trying to be set on a copy of a slice from a DataFrame.\n",
      "Try using .loc[row_indexer,col_indexer] = value instead\n",
      "\n",
      "See the caveats in the documentation: https://pandas.pydata.org/pandas-docs/stable/user_guide/indexing.html#returning-a-view-versus-a-copy\n",
      "  df_dubai['date'] = pd.to_datetime(df_dubai['date'])\n"
     ]
    },
    {
     "data": {
      "text/html": [
       "<div>\n",
       "<style scoped>\n",
       "    .dataframe tbody tr th:only-of-type {\n",
       "        vertical-align: middle;\n",
       "    }\n",
       "\n",
       "    .dataframe tbody tr th {\n",
       "        vertical-align: top;\n",
       "    }\n",
       "\n",
       "    .dataframe thead th {\n",
       "        text-align: right;\n",
       "    }\n",
       "</style>\n",
       "<table border=\"1\" class=\"dataframe\">\n",
       "  <thead>\n",
       "    <tr style=\"text-align: right;\">\n",
       "      <th></th>\n",
       "      <th>날짜</th>\n",
       "      <th>고가</th>\n",
       "      <th>저가</th>\n",
       "      <th>시가</th>\n",
       "      <th>두바이유(선물)종가</th>\n",
       "    </tr>\n",
       "  </thead>\n",
       "  <tbody>\n",
       "    <tr>\n",
       "      <th>0</th>\n",
       "      <td>2017-02-06</td>\n",
       "      <td>54.590</td>\n",
       "      <td>54.030</td>\n",
       "      <td>54.590</td>\n",
       "      <td>54.030</td>\n",
       "    </tr>\n",
       "    <tr>\n",
       "      <th>1</th>\n",
       "      <td>2017-02-13</td>\n",
       "      <td>54.270</td>\n",
       "      <td>54.120</td>\n",
       "      <td>54.270</td>\n",
       "      <td>54.220</td>\n",
       "    </tr>\n",
       "    <tr>\n",
       "      <th>2</th>\n",
       "      <td>2017-02-20</td>\n",
       "      <td>54.430</td>\n",
       "      <td>54.270</td>\n",
       "      <td>54.420</td>\n",
       "      <td>54.430</td>\n",
       "    </tr>\n",
       "    <tr>\n",
       "      <th>3</th>\n",
       "      <td>2017-02-27</td>\n",
       "      <td>54.950</td>\n",
       "      <td>53.860</td>\n",
       "      <td>54.860</td>\n",
       "      <td>54.320</td>\n",
       "    </tr>\n",
       "    <tr>\n",
       "      <th>4</th>\n",
       "      <td>2017-03-06</td>\n",
       "      <td>54.310</td>\n",
       "      <td>51.360</td>\n",
       "      <td>54.310</td>\n",
       "      <td>51.360</td>\n",
       "    </tr>\n",
       "    <tr>\n",
       "      <th>...</th>\n",
       "      <td>...</td>\n",
       "      <td>...</td>\n",
       "      <td>...</td>\n",
       "      <td>...</td>\n",
       "      <td>...</td>\n",
       "    </tr>\n",
       "    <tr>\n",
       "      <th>257</th>\n",
       "      <td>2022-01-10</td>\n",
       "      <td>82.269</td>\n",
       "      <td>80.789</td>\n",
       "      <td>80.789</td>\n",
       "      <td>82.269</td>\n",
       "    </tr>\n",
       "    <tr>\n",
       "      <th>258</th>\n",
       "      <td>2022-01-17</td>\n",
       "      <td>83.559</td>\n",
       "      <td>82.868</td>\n",
       "      <td>83.221</td>\n",
       "      <td>82.868</td>\n",
       "    </tr>\n",
       "    <tr>\n",
       "      <th>259</th>\n",
       "      <td>2022-01-24</td>\n",
       "      <td>83.455</td>\n",
       "      <td>83.213</td>\n",
       "      <td>83.213</td>\n",
       "      <td>83.455</td>\n",
       "    </tr>\n",
       "    <tr>\n",
       "      <th>260</th>\n",
       "      <td>2022-01-31</td>\n",
       "      <td>91.056</td>\n",
       "      <td>83.455</td>\n",
       "      <td>83.455</td>\n",
       "      <td>90.757</td>\n",
       "    </tr>\n",
       "    <tr>\n",
       "      <th>261</th>\n",
       "      <td>2022-02-07</td>\n",
       "      <td>89.883</td>\n",
       "      <td>89.282</td>\n",
       "      <td>89.282</td>\n",
       "      <td>89.883</td>\n",
       "    </tr>\n",
       "  </tbody>\n",
       "</table>\n",
       "<p>262 rows × 5 columns</p>\n",
       "</div>"
      ],
      "text/plain": [
       "            날짜      고가      저가      시가  두바이유(선물)종가\n",
       "0   2017-02-06  54.590  54.030  54.590      54.030\n",
       "1   2017-02-13  54.270  54.120  54.270      54.220\n",
       "2   2017-02-20  54.430  54.270  54.420      54.430\n",
       "3   2017-02-27  54.950  53.860  54.860      54.320\n",
       "4   2017-03-06  54.310  51.360  54.310      51.360\n",
       "..         ...     ...     ...     ...         ...\n",
       "257 2022-01-10  82.269  80.789  80.789      82.269\n",
       "258 2022-01-17  83.559  82.868  83.221      82.868\n",
       "259 2022-01-24  83.455  83.213  83.213      83.455\n",
       "260 2022-01-31  91.056  83.455  83.455      90.757\n",
       "261 2022-02-07  89.883  89.282  89.282      89.883\n",
       "\n",
       "[262 rows x 5 columns]"
      ]
     },
     "execution_count": 9,
     "metadata": {},
     "output_type": "execute_result"
    }
   ],
   "source": [
    "df = pd.read_csv('./data/daum_oil.csv')\n",
    "df_dubai = df[df['company'] == '두바이유선물']\n",
    "df_dubai['date'] = pd.to_datetime(df_dubai['date'])\n",
    "df_d = df_dubai.set_index('date').loc['2017-2-10':'2022-02-10'].resample('W-MON',label = 'left', closed='right')['종가'].agg(['max','min','first','last'])\n",
    "df_d = df_d.reset_index()\n",
    "df_d = df_d.rename(columns={'date':'날짜','max':'고가', 'min':'저가', 'first':'시가', 'last': '두바이유(선물)종가'})\n",
    "df_d"
   ]
  },
  {
   "cell_type": "code",
   "execution_count": 10,
   "id": "e459f88c",
   "metadata": {},
   "outputs": [],
   "source": [
    "# WTI원유선물"
   ]
  },
  {
   "cell_type": "code",
   "execution_count": 11,
   "id": "3307300d",
   "metadata": {},
   "outputs": [
    {
     "name": "stderr",
     "output_type": "stream",
     "text": [
      "C:\\Users\\21ckw\\AppData\\Local\\Temp/ipykernel_24900/373851177.py:3: SettingWithCopyWarning: \n",
      "A value is trying to be set on a copy of a slice from a DataFrame.\n",
      "Try using .loc[row_indexer,col_indexer] = value instead\n",
      "\n",
      "See the caveats in the documentation: https://pandas.pydata.org/pandas-docs/stable/user_guide/indexing.html#returning-a-view-versus-a-copy\n",
      "  df_wti['date'] = pd.to_datetime(df_wti['date'])\n"
     ]
    },
    {
     "data": {
      "text/html": [
       "<div>\n",
       "<style scoped>\n",
       "    .dataframe tbody tr th:only-of-type {\n",
       "        vertical-align: middle;\n",
       "    }\n",
       "\n",
       "    .dataframe tbody tr th {\n",
       "        vertical-align: top;\n",
       "    }\n",
       "\n",
       "    .dataframe thead th {\n",
       "        text-align: right;\n",
       "    }\n",
       "</style>\n",
       "<table border=\"1\" class=\"dataframe\">\n",
       "  <thead>\n",
       "    <tr style=\"text-align: right;\">\n",
       "      <th></th>\n",
       "      <th>날짜</th>\n",
       "      <th>고가</th>\n",
       "      <th>저가</th>\n",
       "      <th>시가</th>\n",
       "      <th>wti종가</th>\n",
       "    </tr>\n",
       "  </thead>\n",
       "  <tbody>\n",
       "    <tr>\n",
       "      <th>0</th>\n",
       "      <td>2017-02-06</td>\n",
       "      <td>53.86</td>\n",
       "      <td>52.93</td>\n",
       "      <td>53.86</td>\n",
       "      <td>52.93</td>\n",
       "    </tr>\n",
       "    <tr>\n",
       "      <th>1</th>\n",
       "      <td>2017-02-13</td>\n",
       "      <td>53.40</td>\n",
       "      <td>53.11</td>\n",
       "      <td>53.20</td>\n",
       "      <td>53.40</td>\n",
       "    </tr>\n",
       "    <tr>\n",
       "      <th>2</th>\n",
       "      <td>2017-02-20</td>\n",
       "      <td>54.45</td>\n",
       "      <td>53.59</td>\n",
       "      <td>54.33</td>\n",
       "      <td>54.05</td>\n",
       "    </tr>\n",
       "    <tr>\n",
       "      <th>3</th>\n",
       "      <td>2017-02-27</td>\n",
       "      <td>54.01</td>\n",
       "      <td>52.61</td>\n",
       "      <td>54.01</td>\n",
       "      <td>53.20</td>\n",
       "    </tr>\n",
       "    <tr>\n",
       "      <th>4</th>\n",
       "      <td>2017-03-06</td>\n",
       "      <td>53.14</td>\n",
       "      <td>48.40</td>\n",
       "      <td>53.14</td>\n",
       "      <td>48.40</td>\n",
       "    </tr>\n",
       "    <tr>\n",
       "      <th>...</th>\n",
       "      <td>...</td>\n",
       "      <td>...</td>\n",
       "      <td>...</td>\n",
       "      <td>...</td>\n",
       "      <td>...</td>\n",
       "    </tr>\n",
       "    <tr>\n",
       "      <th>257</th>\n",
       "      <td>2022-01-10</td>\n",
       "      <td>83.82</td>\n",
       "      <td>81.22</td>\n",
       "      <td>81.22</td>\n",
       "      <td>83.82</td>\n",
       "    </tr>\n",
       "    <tr>\n",
       "      <th>258</th>\n",
       "      <td>2022-01-17</td>\n",
       "      <td>86.96</td>\n",
       "      <td>83.31</td>\n",
       "      <td>85.43</td>\n",
       "      <td>83.31</td>\n",
       "    </tr>\n",
       "    <tr>\n",
       "      <th>259</th>\n",
       "      <td>2022-01-24</td>\n",
       "      <td>88.15</td>\n",
       "      <td>85.60</td>\n",
       "      <td>85.60</td>\n",
       "      <td>88.15</td>\n",
       "    </tr>\n",
       "    <tr>\n",
       "      <th>260</th>\n",
       "      <td>2022-01-31</td>\n",
       "      <td>92.31</td>\n",
       "      <td>88.20</td>\n",
       "      <td>88.20</td>\n",
       "      <td>91.32</td>\n",
       "    </tr>\n",
       "    <tr>\n",
       "      <th>261</th>\n",
       "      <td>2022-02-07</td>\n",
       "      <td>89.66</td>\n",
       "      <td>89.36</td>\n",
       "      <td>89.36</td>\n",
       "      <td>89.66</td>\n",
       "    </tr>\n",
       "  </tbody>\n",
       "</table>\n",
       "<p>262 rows × 5 columns</p>\n",
       "</div>"
      ],
      "text/plain": [
       "            날짜     고가     저가     시가  wti종가\n",
       "0   2017-02-06  53.86  52.93  53.86  52.93\n",
       "1   2017-02-13  53.40  53.11  53.20  53.40\n",
       "2   2017-02-20  54.45  53.59  54.33  54.05\n",
       "3   2017-02-27  54.01  52.61  54.01  53.20\n",
       "4   2017-03-06  53.14  48.40  53.14  48.40\n",
       "..         ...    ...    ...    ...    ...\n",
       "257 2022-01-10  83.82  81.22  81.22  83.82\n",
       "258 2022-01-17  86.96  83.31  85.43  83.31\n",
       "259 2022-01-24  88.15  85.60  85.60  88.15\n",
       "260 2022-01-31  92.31  88.20  88.20  91.32\n",
       "261 2022-02-07  89.66  89.36  89.36  89.66\n",
       "\n",
       "[262 rows x 5 columns]"
      ]
     },
     "execution_count": 11,
     "metadata": {},
     "output_type": "execute_result"
    }
   ],
   "source": [
    "df = pd.read_csv('./data/daum_oil.csv')\n",
    "df_wti = df[df['company'] == 'WTI원유선물']\n",
    "df_wti['date'] = pd.to_datetime(df_wti['date'])\n",
    "df_w = df_wti.set_index('date').loc['2017-2-10':'2022-02-10'].resample('W-MON',label = 'left', closed='right')['종가'].agg(['max','min','first','last'])\n",
    "df_w = df_w.reset_index()\n",
    "df_w = df_w.rename(columns={'date':'날짜','max':'고가', 'min':'저가', 'first':'시가', 'last': 'wti종가'})\n",
    "df_w"
   ]
  },
  {
   "cell_type": "code",
   "execution_count": 12,
   "id": "500808c8",
   "metadata": {},
   "outputs": [],
   "source": [
    "# 브렌트유 브렌트원유선물"
   ]
  },
  {
   "cell_type": "code",
   "execution_count": 13,
   "id": "6fe772e2",
   "metadata": {},
   "outputs": [
    {
     "name": "stderr",
     "output_type": "stream",
     "text": [
      "C:\\Users\\21ckw\\AppData\\Local\\Temp/ipykernel_24900/4175560624.py:3: SettingWithCopyWarning: \n",
      "A value is trying to be set on a copy of a slice from a DataFrame.\n",
      "Try using .loc[row_indexer,col_indexer] = value instead\n",
      "\n",
      "See the caveats in the documentation: https://pandas.pydata.org/pandas-docs/stable/user_guide/indexing.html#returning-a-view-versus-a-copy\n",
      "  df_brant['date'] = pd.to_datetime(df_brant['date'])\n"
     ]
    },
    {
     "data": {
      "text/html": [
       "<div>\n",
       "<style scoped>\n",
       "    .dataframe tbody tr th:only-of-type {\n",
       "        vertical-align: middle;\n",
       "    }\n",
       "\n",
       "    .dataframe tbody tr th {\n",
       "        vertical-align: top;\n",
       "    }\n",
       "\n",
       "    .dataframe thead th {\n",
       "        text-align: right;\n",
       "    }\n",
       "</style>\n",
       "<table border=\"1\" class=\"dataframe\">\n",
       "  <thead>\n",
       "    <tr style=\"text-align: right;\">\n",
       "      <th></th>\n",
       "      <th>날짜</th>\n",
       "      <th>고가</th>\n",
       "      <th>저가</th>\n",
       "      <th>시가</th>\n",
       "      <th>브랜트유종가</th>\n",
       "    </tr>\n",
       "  </thead>\n",
       "  <tbody>\n",
       "    <tr>\n",
       "      <th>0</th>\n",
       "      <td>2017-02-06</td>\n",
       "      <td>56.70</td>\n",
       "      <td>55.59</td>\n",
       "      <td>56.70</td>\n",
       "      <td>55.59</td>\n",
       "    </tr>\n",
       "    <tr>\n",
       "      <th>1</th>\n",
       "      <td>2017-02-13</td>\n",
       "      <td>56.18</td>\n",
       "      <td>55.65</td>\n",
       "      <td>55.97</td>\n",
       "      <td>56.18</td>\n",
       "    </tr>\n",
       "    <tr>\n",
       "      <th>2</th>\n",
       "      <td>2017-02-20</td>\n",
       "      <td>56.66</td>\n",
       "      <td>55.84</td>\n",
       "      <td>56.66</td>\n",
       "      <td>55.93</td>\n",
       "    </tr>\n",
       "    <tr>\n",
       "      <th>3</th>\n",
       "      <td>2017-02-27</td>\n",
       "      <td>56.36</td>\n",
       "      <td>55.08</td>\n",
       "      <td>55.59</td>\n",
       "      <td>56.01</td>\n",
       "    </tr>\n",
       "    <tr>\n",
       "      <th>4</th>\n",
       "      <td>2017-03-06</td>\n",
       "      <td>55.92</td>\n",
       "      <td>51.35</td>\n",
       "      <td>55.92</td>\n",
       "      <td>51.35</td>\n",
       "    </tr>\n",
       "    <tr>\n",
       "      <th>...</th>\n",
       "      <td>...</td>\n",
       "      <td>...</td>\n",
       "      <td>...</td>\n",
       "      <td>...</td>\n",
       "      <td>...</td>\n",
       "    </tr>\n",
       "    <tr>\n",
       "      <th>257</th>\n",
       "      <td>2022-01-10</td>\n",
       "      <td>86.48</td>\n",
       "      <td>83.72</td>\n",
       "      <td>83.72</td>\n",
       "      <td>86.48</td>\n",
       "    </tr>\n",
       "    <tr>\n",
       "      <th>258</th>\n",
       "      <td>2022-01-17</td>\n",
       "      <td>88.44</td>\n",
       "      <td>86.27</td>\n",
       "      <td>87.51</td>\n",
       "      <td>86.27</td>\n",
       "    </tr>\n",
       "    <tr>\n",
       "      <th>259</th>\n",
       "      <td>2022-01-24</td>\n",
       "      <td>91.21</td>\n",
       "      <td>88.20</td>\n",
       "      <td>88.20</td>\n",
       "      <td>91.21</td>\n",
       "    </tr>\n",
       "    <tr>\n",
       "      <th>260</th>\n",
       "      <td>2022-01-31</td>\n",
       "      <td>93.27</td>\n",
       "      <td>89.16</td>\n",
       "      <td>89.16</td>\n",
       "      <td>92.69</td>\n",
       "    </tr>\n",
       "    <tr>\n",
       "      <th>261</th>\n",
       "      <td>2022-02-07</td>\n",
       "      <td>91.55</td>\n",
       "      <td>90.78</td>\n",
       "      <td>90.78</td>\n",
       "      <td>91.55</td>\n",
       "    </tr>\n",
       "  </tbody>\n",
       "</table>\n",
       "<p>262 rows × 5 columns</p>\n",
       "</div>"
      ],
      "text/plain": [
       "            날짜     고가     저가     시가  브랜트유종가\n",
       "0   2017-02-06  56.70  55.59  56.70   55.59\n",
       "1   2017-02-13  56.18  55.65  55.97   56.18\n",
       "2   2017-02-20  56.66  55.84  56.66   55.93\n",
       "3   2017-02-27  56.36  55.08  55.59   56.01\n",
       "4   2017-03-06  55.92  51.35  55.92   51.35\n",
       "..         ...    ...    ...    ...     ...\n",
       "257 2022-01-10  86.48  83.72  83.72   86.48\n",
       "258 2022-01-17  88.44  86.27  87.51   86.27\n",
       "259 2022-01-24  91.21  88.20  88.20   91.21\n",
       "260 2022-01-31  93.27  89.16  89.16   92.69\n",
       "261 2022-02-07  91.55  90.78  90.78   91.55\n",
       "\n",
       "[262 rows x 5 columns]"
      ]
     },
     "execution_count": 13,
     "metadata": {},
     "output_type": "execute_result"
    }
   ],
   "source": [
    "df = pd.read_csv('./data/daum_oil.csv')\n",
    "df_brant = df[df['company'] == '브렌트원유선물']\n",
    "df_brant['date'] = pd.to_datetime(df_brant['date'])\n",
    "df_b = df_brant.set_index('date').loc['2017-2-10':'2022-02-10'].resample('W-MON',label = 'left', closed='right')['종가'].agg(['max','min','first','last'])\n",
    "df_b = df_b.reset_index()\n",
    "df_b = df_b.rename(columns={'date':'날짜','max':'고가', 'min':'저가', 'first':'시가', 'last': '브랜트유종가'})\n",
    "df_b"
   ]
  },
  {
   "cell_type": "code",
   "execution_count": null,
   "id": "211d10c5",
   "metadata": {},
   "outputs": [],
   "source": []
  },
  {
   "cell_type": "code",
   "execution_count": 14,
   "id": "e54e132e",
   "metadata": {},
   "outputs": [],
   "source": [
    "# 두바이유 vs wti유, 두바이유 vs 브렌트유 상관관계 보기"
   ]
  },
  {
   "cell_type": "code",
   "execution_count": 15,
   "id": "049f42b1",
   "metadata": {},
   "outputs": [],
   "source": [
    "#두바이유 vs wti유 "
   ]
  },
  {
   "cell_type": "code",
   "execution_count": 16,
   "id": "8e150d63",
   "metadata": {
    "scrolled": false
   },
   "outputs": [
    {
     "data": {
      "image/png": "[encoded data removed]",
      "text/plain": [
       "<Figure size 432x288 with 2 Axes>"
      ]
     },
     "metadata": {
      "needs_background": "light"
     },
     "output_type": "display_data"
    }
   ],
   "source": [
    "import numpy as np\n",
    "import matplotlib.pyplot as plt\n",
    "\n",
    "# 한글 폰트 사용을 위해서 세팅\n",
    "from matplotlib import font_manager, rc\n",
    "font_path = \"C:/Windows/Fonts/malgun.ttf\" # 맑은고딕체\n",
    "font = font_manager.FontProperties(fname=font_path).get_name()\n",
    "rc('font', family=font)\n",
    "\n",
    "x1 = df_b['날짜']\n",
    "x2 = df_w['날짜']\n",
    "\n",
    "y1 = df_d['두바이유(선물)종가']\n",
    "y2 = df_w['wti종가']\n",
    "\n",
    "plt.subplot(2, 1, 1)                # nrows=2, ncols=1, index=1\n",
    "plt.plot(x1, y1, 'o-')\n",
    "plt.title('유가간 상관관계 비교')\n",
    "plt.ylabel('두바이유 종가')\n",
    "\n",
    "plt.subplot(2, 1, 2)                # nrows=2, ncols=1, index=2\n",
    "plt.plot(x2, y2, '.-')\n",
    "# plt.title('')\n",
    "plt.xlabel('date(weeks)')\n",
    "plt.ylabel('wti 종가')\n",
    "\n",
    "plt.tight_layout()\n",
    "plt.show()"
   ]
  },
  {
   "cell_type": "code",
   "execution_count": 17,
   "id": "5ba41735",
   "metadata": {},
   "outputs": [],
   "source": [
    "# 하나의 그래프 plt.plot()"
   ]
  },
  {
   "cell_type": "code",
   "execution_count": 18,
   "id": "2533b729",
   "metadata": {},
   "outputs": [
    {
     "name": "stderr",
     "output_type": "stream",
     "text": [
      "C:\\Users\\21ckw\\anaconda3\\lib\\site-packages\\matplotlib\\backends\\backend_agg.py:240: RuntimeWarning: Glyph 8722 missing from current font.\n",
      "  font.set_text(s, 0.0, flags=flags)\n",
      "C:\\Users\\21ckw\\anaconda3\\lib\\site-packages\\matplotlib\\backends\\backend_agg.py:203: RuntimeWarning: Glyph 8722 missing from current font.\n",
      "  font.set_text(s, 0, flags=flags)\n"
     ]
    },
    {
     "data": {
      "image/png": "[encoded data removed]",
      "text/plain": [
       "<Figure size 432x288 with 1 Axes>"
      ]
     },
     "metadata": {
      "needs_background": "light"
     },
     "output_type": "display_data"
    }
   ],
   "source": [
    "x1 = df_b['날짜']\n",
    "y1 = df_d['두바이유(선물)종가']\n",
    "\n",
    "x2 = df_w['날짜']\n",
    "y2 = df_w['wti종가']\n",
    "\n",
    "plt.plot(x1,y1, color='r')\n",
    "plt.plot(x2,y2, color='b')\n",
    "\n",
    "plt.show()"
   ]
  },
  {
   "cell_type": "code",
   "execution_count": 31,
   "id": "0050745e",
   "metadata": {},
   "outputs": [
    {
     "data": {
      "text/html": [
       "<div>\n",
       "<style scoped>\n",
       "    .dataframe tbody tr th:only-of-type {\n",
       "        vertical-align: middle;\n",
       "    }\n",
       "\n",
       "    .dataframe tbody tr th {\n",
       "        vertical-align: top;\n",
       "    }\n",
       "\n",
       "    .dataframe thead th {\n",
       "        text-align: right;\n",
       "    }\n",
       "</style>\n",
       "<table border=\"1\" class=\"dataframe\">\n",
       "  <thead>\n",
       "    <tr style=\"text-align: right;\">\n",
       "      <th></th>\n",
       "      <th>날짜</th>\n",
       "      <th>고가_x</th>\n",
       "      <th>저가_x</th>\n",
       "      <th>시가_x</th>\n",
       "      <th>두바이유(선물)종가</th>\n",
       "      <th>고가_y</th>\n",
       "      <th>저가_y</th>\n",
       "      <th>시가_y</th>\n",
       "      <th>wti종가</th>\n",
       "    </tr>\n",
       "  </thead>\n",
       "  <tbody>\n",
       "    <tr>\n",
       "      <th>0</th>\n",
       "      <td>2017-02-06</td>\n",
       "      <td>54.59</td>\n",
       "      <td>54.03</td>\n",
       "      <td>54.59</td>\n",
       "      <td>54.03</td>\n",
       "      <td>53.86</td>\n",
       "      <td>52.93</td>\n",
       "      <td>53.86</td>\n",
       "      <td>52.93</td>\n",
       "    </tr>\n",
       "    <tr>\n",
       "      <th>1</th>\n",
       "      <td>2017-02-13</td>\n",
       "      <td>54.27</td>\n",
       "      <td>54.12</td>\n",
       "      <td>54.27</td>\n",
       "      <td>54.22</td>\n",
       "      <td>53.40</td>\n",
       "      <td>53.11</td>\n",
       "      <td>53.20</td>\n",
       "      <td>53.40</td>\n",
       "    </tr>\n",
       "    <tr>\n",
       "      <th>2</th>\n",
       "      <td>2017-02-20</td>\n",
       "      <td>54.43</td>\n",
       "      <td>54.27</td>\n",
       "      <td>54.42</td>\n",
       "      <td>54.43</td>\n",
       "      <td>54.45</td>\n",
       "      <td>53.59</td>\n",
       "      <td>54.33</td>\n",
       "      <td>54.05</td>\n",
       "    </tr>\n",
       "  </tbody>\n",
       "</table>\n",
       "</div>"
      ],
      "text/plain": [
       "          날짜   고가_x   저가_x   시가_x  두바이유(선물)종가   고가_y   저가_y   시가_y  wti종가\n",
       "0 2017-02-06  54.59  54.03  54.59       54.03  53.86  52.93  53.86  52.93\n",
       "1 2017-02-13  54.27  54.12  54.27       54.22  53.40  53.11  53.20  53.40\n",
       "2 2017-02-20  54.43  54.27  54.42       54.43  54.45  53.59  54.33  54.05"
      ]
     },
     "execution_count": 31,
     "metadata": {},
     "output_type": "execute_result"
    }
   ],
   "source": [
    "# plotly\n",
    "df_plot1 = pd.merge(df_d,df_w, on='날짜')\n",
    "df_plot1.head(3)"
   ]
  },
  {
   "cell_type": "code",
   "execution_count": 32,
   "id": "27076cb2",
   "metadata": {},
   "outputs": [
    {
     "data": {
      "application/vnd.plotly.v1+json": {
       "config": {
        "plotlyServerURL": "https://plot.ly"
       },
       "data": [
        {
         "hovertemplate": "variable=두바이유(선물)종가<br>날짜=%{x}<br>value=%{y}<extra></extra>",
         "legendgroup": "두바이유(선물)종가",
         "line": {
          "color": "#636efa",
          "dash": "solid"
         },
         "marker": {
          "symbol": "circle"
         },
         "mode": "lines",
         "name": "두바이유(선물)종가",
         "orientation": "v",
         "showlegend": true,
         "type": "scatter",
         "x": [
          "2017-02-06T00:00:00",
          "2017-02-13T00:00:00",
          "2017-02-20T00:00:00",
          "2017-02-27T00:00:00",
          "2017-03-06T00:00:00",
          "2017-03-13T00:00:00",
          "2017-03-20T00:00:00",
          "2017-03-27T00:00:00",
          "2017-04-03T00:00:00",
          "2017-04-10T00:00:00",
          "2017-04-17T00:00:00",
          "2017-04-24T00:00:00",
          "2017-05-01T00:00:00",
          "2017-05-08T00:00:00",
          "2017-05-15T00:00:00",
          "2017-05-22T00:00:00",
          "2017-05-29T00:00:00",
          "2017-06-05T00:00:00",
          "2017-06-12T00:00:00",
          "2017-06-19T00:00:00",
          "2017-06-26T00:00:00",
          "2017-07-03T00:00:00",
          "2017-07-10T00:00:00",
          "2017-07-17T00:00:00",
          "2017-07-24T00:00:00",
          "2017-07-31T00:00:00",
          "2017-08-07T00:00:00",
          "2017-08-14T00:00:00",
          "2017-08-21T00:00:00",
          "2017-08-28T00:00:00",
          "2017-09-04T00:00:00",
          "2017-09-11T00:00:00",
          "2017-09-18T00:00:00",
          "2017-09-25T00:00:00",
          "2017-10-02T00:00:00",
          "2017-10-09T00:00:00",
          "2017-10-16T00:00:00",
          "2017-10-23T00:00:00",
          "2017-10-30T00:00:00",
          "2017-11-06T00:00:00",
          "2017-11-13T00:00:00",
          "2017-11-20T00:00:00",
          "2017-11-27T00:00:00",
          "2017-12-04T00:00:00",
          "2017-12-11T00:00:00",
          "2017-12-18T00:00:00",
          "2017-12-25T00:00:00",
          "2018-01-01T00:00:00",
          "2018-01-08T00:00:00",
          "2018-01-15T00:00:00",
          "2018-01-22T00:00:00",
          "2018-01-29T00:00:00",
          "2018-02-05T00:00:00",
          "2018-02-12T00:00:00",
          "2018-02-19T00:00:00",
          "2018-02-26T00:00:00",
          "2018-03-05T00:00:00",
          "2018-03-12T00:00:00",
          "2018-03-19T00:00:00",
          "2018-03-26T00:00:00",
          "2018-04-02T00:00:00",
          "2018-04-09T00:00:00",
          "2018-04-16T00:00:00",
          "2018-04-23T00:00:00",
          "2018-04-30T00:00:00",
          "2018-05-07T00:00:00",
          "2018-05-14T00:00:00",
          "2018-05-21T00:00:00",
          "2018-05-28T00:00:00",
          "2018-06-04T00:00:00",
          "2018-06-11T00:00:00",
          "2018-06-18T00:00:00",
          "2018-06-25T00:00:00",
          "2018-07-02T00:00:00",
          "2018-07-09T00:00:00",
          "2018-07-16T00:00:00",
          "2018-07-23T00:00:00",
          "2018-07-30T00:00:00",
          "2018-08-06T00:00:00",
          "2018-08-13T00:00:00",
          "2018-08-20T00:00:00",
          "2018-08-27T00:00:00",
          "2018-09-03T00:00:00",
          "2018-09-10T00:00:00",
          "2018-09-17T00:00:00",
          "2018-09-24T00:00:00",
          "2018-10-01T00:00:00",
          "2018-10-08T00:00:00",
          "2018-10-15T00:00:00",
          "2018-10-22T00:00:00",
          "2018-10-29T00:00:00",
          "2018-11-05T00:00:00",
          "2018-11-12T00:00:00",
          "2018-11-19T00:00:00",
          "2018-11-26T00:00:00",
          "2018-12-03T00:00:00",
          "2018-12-10T00:00:00",
          "2018-12-17T00:00:00",
          "2018-12-24T00:00:00",
          "2018-12-31T00:00:00",
          "2019-01-07T00:00:00",
          "2019-01-14T00:00:00",
          "2019-01-21T00:00:00",
          "2019-01-28T00:00:00",
          "2019-02-04T00:00:00",
          "2019-02-11T00:00:00",
          "2019-02-18T00:00:00",
          "2019-02-25T00:00:00",
          "2019-03-04T00:00:00",
          "2019-03-11T00:00:00",
          "2019-03-18T00:00:00",
          "2019-03-25T00:00:00",
          "2019-04-01T00:00:00",
          "2019-04-08T00:00:00",
          "2019-04-15T00:00:00",
          "2019-04-22T00:00:00",
          "2019-04-29T00:00:00",
          "2019-05-06T00:00:00",
          "2019-05-13T00:00:00",
          "2019-05-20T00:00:00",
          "2019-05-27T00:00:00",
          "2019-06-03T00:00:00",
          "2019-06-10T00:00:00",
          "2019-06-17T00:00:00",
          "2019-06-24T00:00:00",
          "2019-07-01T00:00:00",
          "2019-07-08T00:00:00",
          "2019-07-15T00:00:00",
          "2019-07-22T00:00:00",
          "2019-07-29T00:00:00",
          "2019-08-05T00:00:00",
          "2019-08-12T00:00:00",
          "2019-08-19T00:00:00",
          "2019-08-26T00:00:00",
          "2019-09-02T00:00:00",
          "2019-09-09T00:00:00",
          "2019-09-16T00:00:00",
          "2019-09-23T00:00:00",
          "2019-09-30T00:00:00",
          "2019-10-07T00:00:00",
          "2019-10-14T00:00:00",
          "2019-10-21T00:00:00",
          "2019-10-28T00:00:00",
          "2019-11-04T00:00:00",
          "2019-11-11T00:00:00",
          "2019-11-18T00:00:00",
          "2019-11-25T00:00:00",
          "2019-12-02T00:00:00",
          "2019-12-09T00:00:00",
          "2019-12-16T00:00:00",
          "2019-12-23T00:00:00",
          "2019-12-30T00:00:00",
          "2020-01-06T00:00:00",
          "2020-01-13T00:00:00",
          "2020-01-20T00:00:00",
          "2020-01-27T00:00:00",
          "2020-02-03T00:00:00",
          "2020-02-10T00:00:00",
          "2020-02-17T00:00:00",
          "2020-02-24T00:00:00",
          "2020-03-02T00:00:00",
          "2020-03-09T00:00:00",
          "2020-03-16T00:00:00",
          "2020-03-23T00:00:00",
          "2020-03-30T00:00:00",
          "2020-04-06T00:00:00",
          "2020-04-13T00:00:00",
          "2020-04-20T00:00:00",
          "2020-04-27T00:00:00",
          "2020-05-04T00:00:00",
          "2020-05-11T00:00:00",
          "2020-05-18T00:00:00",
          "2020-05-25T00:00:00",
          "2020-06-01T00:00:00",
          "2020-06-08T00:00:00",
          "2020-06-15T00:00:00",
          "2020-06-22T00:00:00",
          "2020-06-29T00:00:00",
          "2020-07-06T00:00:00",
          "2020-07-13T00:00:00",
          "2020-07-20T00:00:00",
          "2020-07-27T00:00:00",
          "2020-08-03T00:00:00",
          "2020-08-10T00:00:00",
          "2020-08-17T00:00:00",
          "2020-08-24T00:00:00",
          "2020-08-31T00:00:00",
          "2020-09-07T00:00:00",
          "2020-09-14T00:00:00",
          "2020-09-21T00:00:00",
          "2020-09-28T00:00:00",
          "2020-10-05T00:00:00",
          "2020-10-12T00:00:00",
          "2020-10-19T00:00:00",
          "2020-10-26T00:00:00",
          "2020-11-02T00:00:00",
          "2020-11-09T00:00:00",
          "2020-11-16T00:00:00",
          "2020-11-23T00:00:00",
          "2020-11-30T00:00:00",
          "2020-12-07T00:00:00",
          "2020-12-14T00:00:00",
          "2020-12-21T00:00:00",
          "2020-12-28T00:00:00",
          "2021-01-04T00:00:00",
          "2021-01-11T00:00:00",
          "2021-01-18T00:00:00",
          "2021-01-25T00:00:00",
          "2021-02-01T00:00:00",
          "2021-02-08T00:00:00",
          "2021-02-15T00:00:00",
          "2021-02-22T00:00:00",
          "2021-03-01T00:00:00",
          "2021-03-08T00:00:00",
          "2021-03-15T00:00:00",
          "2021-03-22T00:00:00",
          "2021-03-29T00:00:00",
          "2021-04-05T00:00:00",
          "2021-04-12T00:00:00",
          "2021-04-19T00:00:00",
          "2021-04-26T00:00:00",
          "2021-05-03T00:00:00",
          "2021-05-10T00:00:00",
          "2021-05-17T00:00:00",
          "2021-05-24T00:00:00",
          "2021-05-31T00:00:00",
          "2021-06-07T00:00:00",
          "2021-06-14T00:00:00",
          "2021-06-21T00:00:00",
          "2021-06-28T00:00:00",
          "2021-07-05T00:00:00",
          "2021-07-12T00:00:00",
          "2021-07-19T00:00:00",
          "2021-07-26T00:00:00",
          "2021-08-02T00:00:00",
          "2021-08-09T00:00:00",
          "2021-08-16T00:00:00",
          "2021-08-23T00:00:00",
          "2021-08-30T00:00:00",
          "2021-09-06T00:00:00",
          "2021-09-13T00:00:00",
          "2021-09-20T00:00:00",
          "2021-09-27T00:00:00",
          "2021-10-04T00:00:00",
          "2021-10-11T00:00:00",
          "2021-10-18T00:00:00",
          "2021-10-25T00:00:00",
          "2021-11-01T00:00:00",
          "2021-11-08T00:00:00",
          "2021-11-15T00:00:00",
          "2021-11-22T00:00:00",
          "2021-11-29T00:00:00",
          "2021-12-06T00:00:00",
          "2021-12-13T00:00:00",
          "2021-12-20T00:00:00",
          "2021-12-27T00:00:00",
          "2022-01-03T00:00:00",
          "2022-01-10T00:00:00",
          "2022-01-17T00:00:00",
          "2022-01-24T00:00:00",
          "2022-01-31T00:00:00",
          "2022-02-07T00:00:00"
         ],
         "xaxis": "x",
         "y": [
          54.03,
          54.22,
          54.43,
          54.32,
          51.36,
          51.32,
          51.01,
          51.35,
          53.83,
          53.43,
          52.31,
          50.69,
          48.54,
          50.04,
          50.93,
          50.59,
          48.25,
          47.48,
          46.56,
          46.25,
          48.54,
          46.03,
          46.98,
          47.11,
          51.27,
          51,
          49.85,
          50.09,
          50.24,
          51.49,
          52.35,
          53.25,
          53.92,
          54.72,
          54.1,
          55.34,
          55.14,
          55.54,
          61.83,
          61.18,
          60.55,
          60.89,
          60.02,
          61.62,
          60.8,
          61.15,
          64.3,
          65.09,
          66.36,
          65.97,
          66.23,
          64.99,
          61.16,
          62.28,
          62.75,
          61.94,
          61.32,
          61.86,
          62.77,
          64.62,
          65.83,
          67.25,
          68.41,
          71.62,
          72.83,
          74.02,
          74.79,
          74.45,
          73.15,
          null,
          null,
          null,
          null,
          null,
          null,
          72.67,
          73.15,
          72.35,
          71.52,
          71.18,
          72.45,
          75.56,
          75.56,
          76.06,
          77.02,
          82.82,
          82.58,
          80.39,
          80.19,
          79.41,
          71.88,
          69.81,
          67.68,
          65.63,
          60.52,
          59.01,
          59.14,
          56.93,
          57.318,
          55.625,
          57.636,
          59.52,
          58.918,
          62.549,
          61.648,
          64.679,
          64.505,
          65.609,
          66.589,
          67.021,
          66.891,
          68.457,
          70.093,
          69.825,
          71.018,
          70.93,
          70.556,
          69.641,
          70.908,
          69.426,
          60.404,
          60.585,
          59.939,
          61.64,
          63.192,
          62.613,
          64.306,
          62.591,
          63.162,
          58.86,
          58.35,
          58.93,
          58.865,
          59.106,
          60.058,
          63.12,
          61.637,
          61.115,
          58.223,
          58.935,
          58.866,
          59.453,
          59.369,
          61.095,
          61.557,
          61.94,
          61.974,
          63.34,
          64.192,
          64.651,
          64.847,
          68.275,
          65.722,
          65.745,
          64.369,
          64.286,
          52.999,
          55.342,
          54.681,
          54.219,
          36.264,
          36.964,
          34.046,
          33.844,
          27.449,
          26.157,
          22.235,
          20.374,
          20.387,
          27.267,
          30.547,
          30.341,
          30.467,
          40.695,
          39.502,
          41.12,
          40.796,
          42.89,
          43.097,
          43.054,
          43.332,
          43.278,
          43.779,
          43.78,
          43.913,
          43.987,
          42.612,
          40.154,
          41.409,
          41.601,
          40.42,
          40.777,
          41.373,
          41.142,
          40.661,
          41.405,
          42.524,
          43.076,
          43.52,
          48.227,
          49.461,
          50.344,
          49.773,
          49.815,
          55.059,
          54.532,
          54.759,
          54.772,
          59.361,
          60.226,
          60.62,
          60.855,
          65.836,
          66.375,
          64.707,
          64.435,
          64.414,
          61.302,
          63.475,
          62.801,
          62.894,
          66.203,
          66.825,
          66.264,
          66.275,
          69.839,
          70.78,
          71.481,
          71.536,
          71.573,
          73.539,
          71.007,
          72.83,
          72.903,
          68.494,
          69.527,
          68.76,
          69.465,
          70.641,
          71.111,
          71.358,
          72.611,
          72.608,
          80.679,
          81.311,
          81.732,
          81.585,
          81.616,
          81.411,
          80.548,
          80.305,
          71.654,
          72.708,
          71.655,
          72.99,
          73.185,
          78.887,
          82.269,
          82.868,
          83.455,
          90.757,
          89.883
         ],
         "yaxis": "y"
        },
        {
         "hovertemplate": "variable=wti종가<br>날짜=%{x}<br>value=%{y}<extra></extra>",
         "legendgroup": "wti종가",
         "line": {
          "color": "#EF553B",
          "dash": "solid"
         },
         "marker": {
          "symbol": "circle"
         },
         "mode": "lines",
         "name": "wti종가",
         "orientation": "v",
         "showlegend": true,
         "type": "scatter",
         "x": [
          "2017-02-06T00:00:00",
          "2017-02-13T00:00:00",
          "2017-02-20T00:00:00",
          "2017-02-27T00:00:00",
          "2017-03-06T00:00:00",
          "2017-03-13T00:00:00",
          "2017-03-20T00:00:00",
          "2017-03-27T00:00:00",
          "2017-04-03T00:00:00",
          "2017-04-10T00:00:00",
          "2017-04-17T00:00:00",
          "2017-04-24T00:00:00",
          "2017-05-01T00:00:00",
          "2017-05-08T00:00:00",
          "2017-05-15T00:00:00",
          "2017-05-22T00:00:00",
          "2017-05-29T00:00:00",
          "2017-06-05T00:00:00",
          "2017-06-12T00:00:00",
          "2017-06-19T00:00:00",
          "2017-06-26T00:00:00",
          "2017-07-03T00:00:00",
          "2017-07-10T00:00:00",
          "2017-07-17T00:00:00",
          "2017-07-24T00:00:00",
          "2017-07-31T00:00:00",
          "2017-08-07T00:00:00",
          "2017-08-14T00:00:00",
          "2017-08-21T00:00:00",
          "2017-08-28T00:00:00",
          "2017-09-04T00:00:00",
          "2017-09-11T00:00:00",
          "2017-09-18T00:00:00",
          "2017-09-25T00:00:00",
          "2017-10-02T00:00:00",
          "2017-10-09T00:00:00",
          "2017-10-16T00:00:00",
          "2017-10-23T00:00:00",
          "2017-10-30T00:00:00",
          "2017-11-06T00:00:00",
          "2017-11-13T00:00:00",
          "2017-11-20T00:00:00",
          "2017-11-27T00:00:00",
          "2017-12-04T00:00:00",
          "2017-12-11T00:00:00",
          "2017-12-18T00:00:00",
          "2017-12-25T00:00:00",
          "2018-01-01T00:00:00",
          "2018-01-08T00:00:00",
          "2018-01-15T00:00:00",
          "2018-01-22T00:00:00",
          "2018-01-29T00:00:00",
          "2018-02-05T00:00:00",
          "2018-02-12T00:00:00",
          "2018-02-19T00:00:00",
          "2018-02-26T00:00:00",
          "2018-03-05T00:00:00",
          "2018-03-12T00:00:00",
          "2018-03-19T00:00:00",
          "2018-03-26T00:00:00",
          "2018-04-02T00:00:00",
          "2018-04-09T00:00:00",
          "2018-04-16T00:00:00",
          "2018-04-23T00:00:00",
          "2018-04-30T00:00:00",
          "2018-05-07T00:00:00",
          "2018-05-14T00:00:00",
          "2018-05-21T00:00:00",
          "2018-05-28T00:00:00",
          "2018-06-04T00:00:00",
          "2018-06-11T00:00:00",
          "2018-06-18T00:00:00",
          "2018-06-25T00:00:00",
          "2018-07-02T00:00:00",
          "2018-07-09T00:00:00",
          "2018-07-16T00:00:00",
          "2018-07-23T00:00:00",
          "2018-07-30T00:00:00",
          "2018-08-06T00:00:00",
          "2018-08-13T00:00:00",
          "2018-08-20T00:00:00",
          "2018-08-27T00:00:00",
          "2018-09-03T00:00:00",
          "2018-09-10T00:00:00",
          "2018-09-17T00:00:00",
          "2018-09-24T00:00:00",
          "2018-10-01T00:00:00",
          "2018-10-08T00:00:00",
          "2018-10-15T00:00:00",
          "2018-10-22T00:00:00",
          "2018-10-29T00:00:00",
          "2018-11-05T00:00:00",
          "2018-11-12T00:00:00",
          "2018-11-19T00:00:00",
          "2018-11-26T00:00:00",
          "2018-12-03T00:00:00",
          "2018-12-10T00:00:00",
          "2018-12-17T00:00:00",
          "2018-12-24T00:00:00",
          "2018-12-31T00:00:00",
          "2019-01-07T00:00:00",
          "2019-01-14T00:00:00",
          "2019-01-21T00:00:00",
          "2019-01-28T00:00:00",
          "2019-02-04T00:00:00",
          "2019-02-11T00:00:00",
          "2019-02-18T00:00:00",
          "2019-02-25T00:00:00",
          "2019-03-04T00:00:00",
          "2019-03-11T00:00:00",
          "2019-03-18T00:00:00",
          "2019-03-25T00:00:00",
          "2019-04-01T00:00:00",
          "2019-04-08T00:00:00",
          "2019-04-15T00:00:00",
          "2019-04-22T00:00:00",
          "2019-04-29T00:00:00",
          "2019-05-06T00:00:00",
          "2019-05-13T00:00:00",
          "2019-05-20T00:00:00",
          "2019-05-27T00:00:00",
          "2019-06-03T00:00:00",
          "2019-06-10T00:00:00",
          "2019-06-17T00:00:00",
          "2019-06-24T00:00:00",
          "2019-07-01T00:00:00",
          "2019-07-08T00:00:00",
          "2019-07-15T00:00:00",
          "2019-07-22T00:00:00",
          "2019-07-29T00:00:00",
          "2019-08-05T00:00:00",
          "2019-08-12T00:00:00",
          "2019-08-19T00:00:00",
          "2019-08-26T00:00:00",
          "2019-09-02T00:00:00",
          "2019-09-09T00:00:00",
          "2019-09-16T00:00:00",
          "2019-09-23T00:00:00",
          "2019-09-30T00:00:00",
          "2019-10-07T00:00:00",
          "2019-10-14T00:00:00",
          "2019-10-21T00:00:00",
          "2019-10-28T00:00:00",
          "2019-11-04T00:00:00",
          "2019-11-11T00:00:00",
          "2019-11-18T00:00:00",
          "2019-11-25T00:00:00",
          "2019-12-02T00:00:00",
          "2019-12-09T00:00:00",
          "2019-12-16T00:00:00",
          "2019-12-23T00:00:00",
          "2019-12-30T00:00:00",
          "2020-01-06T00:00:00",
          "2020-01-13T00:00:00",
          "2020-01-20T00:00:00",
          "2020-01-27T00:00:00",
          "2020-02-03T00:00:00",
          "2020-02-10T00:00:00",
          "2020-02-17T00:00:00",
          "2020-02-24T00:00:00",
          "2020-03-02T00:00:00",
          "2020-03-09T00:00:00",
          "2020-03-16T00:00:00",
          "2020-03-23T00:00:00",
          "2020-03-30T00:00:00",
          "2020-04-06T00:00:00",
          "2020-04-13T00:00:00",
          "2020-04-20T00:00:00",
          "2020-04-27T00:00:00",
          "2020-05-04T00:00:00",
          "2020-05-11T00:00:00",
          "2020-05-18T00:00:00",
          "2020-05-25T00:00:00",
          "2020-06-01T00:00:00",
          "2020-06-08T00:00:00",
          "2020-06-15T00:00:00",
          "2020-06-22T00:00:00",
          "2020-06-29T00:00:00",
          "2020-07-06T00:00:00",
          "2020-07-13T00:00:00",
          "2020-07-20T00:00:00",
          "2020-07-27T00:00:00",
          "2020-08-03T00:00:00",
          "2020-08-10T00:00:00",
          "2020-08-17T00:00:00",
          "2020-08-24T00:00:00",
          "2020-08-31T00:00:00",
          "2020-09-07T00:00:00",
          "2020-09-14T00:00:00",
          "2020-09-21T00:00:00",
          "2020-09-28T00:00:00",
          "2020-10-05T00:00:00",
          "2020-10-12T00:00:00",
          "2020-10-19T00:00:00",
          "2020-10-26T00:00:00",
          "2020-11-02T00:00:00",
          "2020-11-09T00:00:00",
          "2020-11-16T00:00:00",
          "2020-11-23T00:00:00",
          "2020-11-30T00:00:00",
          "2020-12-07T00:00:00",
          "2020-12-14T00:00:00",
          "2020-12-21T00:00:00",
          "2020-12-28T00:00:00",
          "2021-01-04T00:00:00",
          "2021-01-11T00:00:00",
          "2021-01-18T00:00:00",
          "2021-01-25T00:00:00",
          "2021-02-01T00:00:00",
          "2021-02-08T00:00:00",
          "2021-02-15T00:00:00",
          "2021-02-22T00:00:00",
          "2021-03-01T00:00:00",
          "2021-03-08T00:00:00",
          "2021-03-15T00:00:00",
          "2021-03-22T00:00:00",
          "2021-03-29T00:00:00",
          "2021-04-05T00:00:00",
          "2021-04-12T00:00:00",
          "2021-04-19T00:00:00",
          "2021-04-26T00:00:00",
          "2021-05-03T00:00:00",
          "2021-05-10T00:00:00",
          "2021-05-17T00:00:00",
          "2021-05-24T00:00:00",
          "2021-05-31T00:00:00",
          "2021-06-07T00:00:00",
          "2021-06-14T00:00:00",
          "2021-06-21T00:00:00",
          "2021-06-28T00:00:00",
          "2021-07-05T00:00:00",
          "2021-07-12T00:00:00",
          "2021-07-19T00:00:00",
          "2021-07-26T00:00:00",
          "2021-08-02T00:00:00",
          "2021-08-09T00:00:00",
          "2021-08-16T00:00:00",
          "2021-08-23T00:00:00",
          "2021-08-30T00:00:00",
          "2021-09-06T00:00:00",
          "2021-09-13T00:00:00",
          "2021-09-20T00:00:00",
          "2021-09-27T00:00:00",
          "2021-10-04T00:00:00",
          "2021-10-11T00:00:00",
          "2021-10-18T00:00:00",
          "2021-10-25T00:00:00",
          "2021-11-01T00:00:00",
          "2021-11-08T00:00:00",
          "2021-11-15T00:00:00",
          "2021-11-22T00:00:00",
          "2021-11-29T00:00:00",
          "2021-12-06T00:00:00",
          "2021-12-13T00:00:00",
          "2021-12-20T00:00:00",
          "2021-12-27T00:00:00",
          "2022-01-03T00:00:00",
          "2022-01-10T00:00:00",
          "2022-01-17T00:00:00",
          "2022-01-24T00:00:00",
          "2022-01-31T00:00:00",
          "2022-02-07T00:00:00"
         ],
         "xaxis": "x",
         "y": [
          52.93,
          53.4,
          54.05,
          53.2,
          48.4,
          48.22,
          47.73,
          50.24,
          53.08,
          52.65,
          49.23,
          48.84,
          46.43,
          48.85,
          51.13,
          49.8,
          47.4,
          46.08,
          44.2,
          43.38,
          47.07,
          44.4,
          46.02,
          46.34,
          50.17,
          49.39,
          47.59,
          47.37,
          46.57,
          47.29,
          48.07,
          49.91,
          52.22,
          50.58,
          49.58,
          51.87,
          51.9,
          54.15,
          57.35,
          56.76,
          56.42,
          58.11,
          57.47,
          57.99,
          57.16,
          58.47,
          60.42,
          61.73,
          64.3,
          63.57,
          65.56,
          64.15,
          59.29,
          61.68,
          63.91,
          62.57,
          61.36,
          62.06,
          65.55,
          63.01,
          63.42,
          66.22,
          68.64,
          68.57,
          70.73,
          70.96,
          72.24,
          67.88,
          64.75,
          66.1,
          65.85,
          68.08,
          73.94,
          73.85,
          68.06,
          67.89,
          70.13,
          69.01,
          67.2,
          66.43,
          68.87,
          69.8,
          67.54,
          68.91,
          72.08,
          75.3,
          74.29,
          71.78,
          69.36,
          67.04,
          63.1,
          59.93,
          57.2,
          51.63,
          52.95,
          51,
          49.88,
          42.53,
          45.41,
          48.52,
          50.51,
          53.8,
          51.99,
          54.56,
          52.41,
          55.59,
          55.48,
          56.59,
          56.79,
          59.09,
          58.82,
          61.59,
          64.4,
          63.4,
          65.7,
          63.5,
          62.25,
          61.04,
          63.1,
          58.63,
          53.25,
          53.26,
          51.93,
          57.9,
          59.09,
          57.66,
          59.58,
          56.22,
          56.87,
          54.69,
          54.93,
          56.21,
          53.64,
          55.1,
          57.85,
          62.9,
          58.64,
          54.07,
          52.75,
          53.59,
          53.31,
          55.81,
          56.54,
          56.86,
          57.05,
          58.01,
          55.96,
          59.02,
          60.21,
          60.52,
          61.68,
          63.27,
          58.08,
          58.54,
          53.14,
          50.11,
          49.57,
          52.05,
          51.43,
          46.75,
          31.13,
          28.7,
          23.36,
          20.09,
          26.08,
          22.41,
          -37.63,
          12.78,
          20.39,
          24.14,
          31.82,
          33.25,
          35.44,
          38.19,
          37.12,
          40.46,
          39.7,
          40.63,
          40.1,
          40.81,
          41.6,
          41.01,
          41.94,
          42.89,
          42.62,
          42.61,
          39.77,
          37.26,
          39.31,
          40.6,
          39.22,
          39.43,
          40.83,
          38.56,
          36.81,
          40.29,
          41.34,
          43.06,
          45.34,
          45.76,
          46.99,
          47.74,
          47.62,
          47.62,
          52.25,
          52.36,
          52.77,
          53.55,
          57.97,
          59.47,
          61.49,
          60.64,
          65.05,
          65.39,
          61.55,
          61.56,
          58.65,
          59.7,
          63.38,
          61.91,
          64.49,
          64.92,
          66.27,
          66.05,
          66.32,
          69.23,
          70.88,
          73.66,
          72.91,
          75.16,
          74.1,
          66.42,
          71.91,
          71.26,
          66.48,
          67.29,
          65.64,
          69.21,
          69.29,
          70.45,
          70.29,
          75.45,
          77.62,
          80.52,
          82.44,
          83.76,
          84.05,
          81.93,
          80.88,
          76.75,
          69.95,
          69.49,
          71.29,
          68.23,
          75.57,
          76.08,
          78.23,
          83.82,
          83.31,
          88.15,
          91.32,
          89.66
         ],
         "yaxis": "y"
        }
       ],
       "layout": {
        "legend": {
         "title": {
          "text": "variable"
         },
         "tracegroupgap": 0
        },
        "margin": {
         "t": 60
        },
        "template": {
         "data": {
          "bar": [
           {
            "error_x": {
             "color": "#2a3f5f"
            },
            "error_y": {
             "color": "#2a3f5f"
            },
            "marker": {
             "line": {
              "color": "#E5ECF6",
              "width": 0.5
             },
             "pattern": {
              "fillmode": "overlay",
              "size": 10,
              "solidity": 0.2
             }
            },
            "type": "bar"
           }
          ],
          "barpolar": [
           {
            "marker": {
             "line": {
              "color": "#E5ECF6",
              "width": 0.5
             },
             "pattern": {
              "fillmode": "overlay",
              "size": 10,
              "solidity": 0.2
             }
            },
            "type": "barpolar"
           }
          ],
          "carpet": [
           {
            "aaxis": {
             "endlinecolor": "#2a3f5f",
             "gridcolor": "white",
             "linecolor": "white",
             "minorgridcolor": "white",
             "startlinecolor": "#2a3f5f"
            },
            "baxis": {
             "endlinecolor": "#2a3f5f",
             "gridcolor": "white",
             "linecolor": "white",
             "minorgridcolor": "white",
             "startlinecolor": "#2a3f5f"
            },
            "type": "carpet"
           }
          ],
          "choropleth": [
           {
            "colorbar": {
             "outlinewidth": 0,
             "ticks": ""
            },
            "type": "choropleth"
           }
          ],
          "contour": [
           {
            "colorbar": {
             "outlinewidth": 0,
             "ticks": ""
            },
            "colorscale": [
             [
              0,
              "#0d0887"
             ],
             [
              0.1111111111111111,
              "#46039f"
             ],
             [
              0.2222222222222222,
              "#7201a8"
             ],
             [
              0.3333333333333333,
              "#9c179e"
             ],
             [
              0.4444444444444444,
              "#bd3786"
             ],
             [
              0.5555555555555556,
              "#d8576b"
             ],
             [
              0.6666666666666666,
              "#ed7953"
             ],
             [
              0.7777777777777778,
              "#fb9f3a"
             ],
             [
              0.8888888888888888,
              "#fdca26"
             ],
             [
              1,
              "#f0f921"
             ]
            ],
            "type": "contour"
           }
          ],
          "contourcarpet": [
           {
            "colorbar": {
             "outlinewidth": 0,
             "ticks": ""
            },
            "type": "contourcarpet"
           }
          ],
          "heatmap": [
           {
            "colorbar": {
             "outlinewidth": 0,
             "ticks": ""
            },
            "colorscale": [
             [
              0,
              "#0d0887"
             ],
             [
              0.1111111111111111,
              "#46039f"
             ],
             [
              0.2222222222222222,
              "#7201a8"
             ],
             [
              0.3333333333333333,
              "#9c179e"
             ],
             [
              0.4444444444444444,
              "#bd3786"
             ],
             [
              0.5555555555555556,
              "#d8576b"
             ],
             [
              0.6666666666666666,
              "#ed7953"
             ],
             [
              0.7777777777777778,
              "#fb9f3a"
             ],
             [
              0.8888888888888888,
              "#fdca26"
             ],
             [
              1,
              "#f0f921"
             ]
            ],
            "type": "heatmap"
           }
          ],
          "heatmapgl": [
           {
            "colorbar": {
             "outlinewidth": 0,
             "ticks": ""
            },
            "colorscale": [
             [
              0,
              "#0d0887"
             ],
             [
              0.1111111111111111,
              "#46039f"
             ],
             [
              0.2222222222222222,
              "#7201a8"
             ],
             [
              0.3333333333333333,
              "#9c179e"
             ],
             [
              0.4444444444444444,
              "#bd3786"
             ],
             [
              0.5555555555555556,
              "#d8576b"
             ],
             [
              0.6666666666666666,
              "#ed7953"
             ],
             [
              0.7777777777777778,
              "#fb9f3a"
             ],
             [
              0.8888888888888888,
              "#fdca26"
             ],
             [
              1,
              "#f0f921"
             ]
            ],
            "type": "heatmapgl"
           }
          ],
          "histogram": [
           {
            "marker": {
             "pattern": {
              "fillmode": "overlay",
              "size": 10,
              "solidity": 0.2
             }
            },
            "type": "histogram"
           }
          ],
          "histogram2d": [
           {
            "colorbar": {
             "outlinewidth": 0,
             "ticks": ""
            },
            "colorscale": [
             [
              0,
              "#0d0887"
             ],
             [
              0.1111111111111111,
              "#46039f"
             ],
             [
              0.2222222222222222,
              "#7201a8"
             ],
             [
              0.3333333333333333,
              "#9c179e"
             ],
             [
              0.4444444444444444,
              "#bd3786"
             ],
             [
              0.5555555555555556,
              "#d8576b"
             ],
             [
              0.6666666666666666,
              "#ed7953"
             ],
             [
              0.7777777777777778,
              "#fb9f3a"
             ],
             [
              0.8888888888888888,
              "#fdca26"
             ],
             [
              1,
              "#f0f921"
             ]
            ],
            "type": "histogram2d"
           }
          ],
          "histogram2dcontour": [
           {
            "colorbar": {
             "outlinewidth": 0,
             "ticks": ""
            },
            "colorscale": [
             [
              0,
              "#0d0887"
             ],
             [
              0.1111111111111111,
              "#46039f"
             ],
             [
              0.2222222222222222,
              "#7201a8"
             ],
             [
              0.3333333333333333,
              "#9c179e"
             ],
             [
              0.4444444444444444,
              "#bd3786"
             ],
             [
              0.5555555555555556,
              "#d8576b"
             ],
             [
              0.6666666666666666,
              "#ed7953"
             ],
             [
              0.7777777777777778,
              "#fb9f3a"
             ],
             [
              0.8888888888888888,
              "#fdca26"
             ],
             [
              1,
              "#f0f921"
             ]
            ],
            "type": "histogram2dcontour"
           }
          ],
          "mesh3d": [
           {
            "colorbar": {
             "outlinewidth": 0,
             "ticks": ""
            },
            "type": "mesh3d"
           }
          ],
          "parcoords": [
           {
            "line": {
             "colorbar": {
              "outlinewidth": 0,
              "ticks": ""
             }
            },
            "type": "parcoords"
           }
          ],
          "pie": [
           {
            "automargin": true,
            "type": "pie"
           }
          ],
          "scatter": [
           {
            "marker": {
             "colorbar": {
              "outlinewidth": 0,
              "ticks": ""
             }
            },
            "type": "scatter"
           }
          ],
          "scatter3d": [
           {
            "line": {
             "colorbar": {
              "outlinewidth": 0,
              "ticks": ""
             }
            },
            "marker": {
             "colorbar": {
              "outlinewidth": 0,
              "ticks": ""
             }
            },
            "type": "scatter3d"
           }
          ],
          "scattercarpet": [
           {
            "marker": {
             "colorbar": {
              "outlinewidth": 0,
              "ticks": ""
             }
            },
            "type": "scattercarpet"
           }
          ],
          "scattergeo": [
           {
            "marker": {
             "colorbar": {
              "outlinewidth": 0,
              "ticks": ""
             }
            },
            "type": "scattergeo"
           }
          ],
          "scattergl": [
           {
            "marker": {
             "colorbar": {
              "outlinewidth": 0,
              "ticks": ""
             }
            },
            "type": "scattergl"
           }
          ],
          "scattermapbox": [
           {
            "marker": {
             "colorbar": {
              "outlinewidth": 0,
              "ticks": ""
             }
            },
            "type": "scattermapbox"
           }
          ],
          "scatterpolar": [
           {
            "marker": {
             "colorbar": {
              "outlinewidth": 0,
              "ticks": ""
             }
            },
            "type": "scatterpolar"
           }
          ],
          "scatterpolargl": [
           {
            "marker": {
             "colorbar": {
              "outlinewidth": 0,
              "ticks": ""
             }
            },
            "type": "scatterpolargl"
           }
          ],
          "scatterternary": [
           {
            "marker": {
             "colorbar": {
              "outlinewidth": 0,
              "ticks": ""
             }
            },
            "type": "scatterternary"
           }
          ],
          "surface": [
           {
            "colorbar": {
             "outlinewidth": 0,
             "ticks": ""
            },
            "colorscale": [
             [
              0,
              "#0d0887"
             ],
             [
              0.1111111111111111,
              "#46039f"
             ],
             [
              0.2222222222222222,
              "#7201a8"
             ],
             [
              0.3333333333333333,
              "#9c179e"
             ],
             [
              0.4444444444444444,
              "#bd3786"
             ],
             [
              0.5555555555555556,
              "#d8576b"
             ],
             [
              0.6666666666666666,
              "#ed7953"
             ],
             [
              0.7777777777777778,
              "#fb9f3a"
             ],
             [
              0.8888888888888888,
              "#fdca26"
             ],
             [
              1,
              "#f0f921"
             ]
            ],
            "type": "surface"
           }
          ],
          "table": [
           {
            "cells": {
             "fill": {
              "color": "#EBF0F8"
             },
             "line": {
              "color": "white"
             }
            },
            "header": {
             "fill": {
              "color": "#C8D4E3"
             },
             "line": {
              "color": "white"
             }
            },
            "type": "table"
           }
          ]
         },
         "layout": {
          "annotationdefaults": {
           "arrowcolor": "#2a3f5f",
           "arrowhead": 0,
           "arrowwidth": 1
          },
          "autotypenumbers": "strict",
          "coloraxis": {
           "colorbar": {
            "outlinewidth": 0,
            "ticks": ""
           }
          },
          "colorscale": {
           "diverging": [
            [
             0,
             "#8e0152"
            ],
            [
             0.1,
             "#c51b7d"
            ],
            [
             0.2,
             "#de77ae"
            ],
            [
             0.3,
             "#f1b6da"
            ],
            [
             0.4,
             "#fde0ef"
            ],
            [
             0.5,
             "#f7f7f7"
            ],
            [
             0.6,
             "#e6f5d0"
            ],
            [
             0.7,
             "#b8e186"
            ],
            [
             0.8,
             "#7fbc41"
            ],
            [
             0.9,
             "#4d9221"
            ],
            [
             1,
             "#276419"
            ]
           ],
           "sequential": [
            [
             0,
             "#0d0887"
            ],
            [
             0.1111111111111111,
             "#46039f"
            ],
            [
             0.2222222222222222,
             "#7201a8"
            ],
            [
             0.3333333333333333,
             "#9c179e"
            ],
            [
             0.4444444444444444,
             "#bd3786"
            ],
            [
             0.5555555555555556,
             "#d8576b"
            ],
            [
             0.6666666666666666,
             "#ed7953"
            ],
            [
             0.7777777777777778,
             "#fb9f3a"
            ],
            [
             0.8888888888888888,
             "#fdca26"
            ],
            [
             1,
             "#f0f921"
            ]
           ],
           "sequentialminus": [
            [
             0,
             "#0d0887"
            ],
            [
             0.1111111111111111,
             "#46039f"
            ],
            [
             0.2222222222222222,
             "#7201a8"
            ],
            [
             0.3333333333333333,
             "#9c179e"
            ],
            [
             0.4444444444444444,
             "#bd3786"
            ],
            [
             0.5555555555555556,
             "#d8576b"
            ],
            [
             0.6666666666666666,
             "#ed7953"
            ],
            [
             0.7777777777777778,
             "#fb9f3a"
            ],
            [
             0.8888888888888888,
             "#fdca26"
            ],
            [
             1,
             "#f0f921"
            ]
           ]
          },
          "colorway": [
           "#636efa",
           "#EF553B",
           "#00cc96",
           "#ab63fa",
           "#FFA15A",
           "#19d3f3",
           "#FF6692",
           "#B6E880",
           "#FF97FF",
           "#FECB52"
          ],
          "font": {
           "color": "#2a3f5f"
          },
          "geo": {
           "bgcolor": "white",
           "lakecolor": "white",
           "landcolor": "#E5ECF6",
           "showlakes": true,
           "showland": true,
           "subunitcolor": "white"
          },
          "hoverlabel": {
           "align": "left"
          },
          "hovermode": "closest",
          "mapbox": {
           "style": "light"
          },
          "paper_bgcolor": "white",
          "plot_bgcolor": "#E5ECF6",
          "polar": {
           "angularaxis": {
            "gridcolor": "white",
            "linecolor": "white",
            "ticks": ""
           },
           "bgcolor": "#E5ECF6",
           "radialaxis": {
            "gridcolor": "white",
            "linecolor": "white",
            "ticks": ""
           }
          },
          "scene": {
           "xaxis": {
            "backgroundcolor": "#E5ECF6",
            "gridcolor": "white",
            "gridwidth": 2,
            "linecolor": "white",
            "showbackground": true,
            "ticks": "",
            "zerolinecolor": "white"
           },
           "yaxis": {
            "backgroundcolor": "#E5ECF6",
            "gridcolor": "white",
            "gridwidth": 2,
            "linecolor": "white",
            "showbackground": true,
            "ticks": "",
            "zerolinecolor": "white"
           },
           "zaxis": {
            "backgroundcolor": "#E5ECF6",
            "gridcolor": "white",
            "gridwidth": 2,
            "linecolor": "white",
            "showbackground": true,
            "ticks": "",
            "zerolinecolor": "white"
           }
          },
          "shapedefaults": {
           "line": {
            "color": "#2a3f5f"
           }
          },
          "ternary": {
           "aaxis": {
            "gridcolor": "white",
            "linecolor": "white",
            "ticks": ""
           },
           "baxis": {
            "gridcolor": "white",
            "linecolor": "white",
            "ticks": ""
           },
           "bgcolor": "#E5ECF6",
           "caxis": {
            "gridcolor": "white",
            "linecolor": "white",
            "ticks": ""
           }
          },
          "title": {
           "x": 0.05
          },
          "xaxis": {
           "automargin": true,
           "gridcolor": "white",
           "linecolor": "white",
           "ticks": "",
           "title": {
            "standoff": 15
           },
           "zerolinecolor": "white",
           "zerolinewidth": 2
          },
          "yaxis": {
           "automargin": true,
           "gridcolor": "white",
           "linecolor": "white",
           "ticks": "",
           "title": {
            "standoff": 15
           },
           "zerolinecolor": "white",
           "zerolinewidth": 2
          }
         }
        },
        "xaxis": {
         "anchor": "y",
         "domain": [
          0,
          1
         ],
         "title": {
          "text": "날짜"
         }
        },
        "yaxis": {
         "anchor": "x",
         "domain": [
          0,
          1
         ],
         "title": {
          "text": "value"
         }
        }
       }
      },
      "text/html": [
       "<div>                            <div id=\"0641e960-48de-47e2-ad12-6ec0045cc047\" class=\"plotly-graph-div\" style=\"height:525px; width:100%;\"></div>            <script type=\"text/javascript\">                require([\"plotly\"], function(Plotly) {                    window.PLOTLYENV=window.PLOTLYENV || {};                                    if (document.getElementById(\"0641e960-48de-47e2-ad12-6ec0045cc047\")) {                    Plotly.newPlot(                        \"0641e960-48de-47e2-ad12-6ec0045cc047\",                        [{\"hovertemplate\":\"variable=\\ub450\\ubc14\\uc774\\uc720(\\uc120\\ubb3c)\\uc885\\uac00<br>\\ub0a0\\uc9dc=%{x}<br>value=%{y}<extra></extra>\",\"legendgroup\":\"\\ub450\\ubc14\\uc774\\uc720(\\uc120\\ubb3c)\\uc885\\uac00\",\"line\":{\"color\":\"#636efa\",\"dash\":\"solid\"},\"marker\":{\"symbol\":\"circle\"},\"mode\":\"lines\",\"name\":\"\\ub450\\ubc14\\uc774\\uc720(\\uc120\\ubb3c)\\uc885\\uac00\",\"orientation\":\"v\",\"showlegend\":true,\"x\":[\"2017-02-06T00:00:00\",\"2017-02-13T00:00:00\",\"2017-02-20T00:00:00\",\"2017-02-27T00:00:00\",\"2017-03-06T00:00:00\",\"2017-03-13T00:00:00\",\"2017-03-20T00:00:00\",\"2017-03-27T00:00:00\",\"2017-04-03T00:00:00\",\"2017-04-10T00:00:00\",\"2017-04-17T00:00:00\",\"2017-04-24T00:00:00\",\"2017-05-01T00:00:00\",\"2017-05-08T00:00:00\",\"2017-05-15T00:00:00\",\"2017-05-22T00:00:00\",\"2017-05-29T00:00:00\",\"2017-06-05T00:00:00\",\"2017-06-12T00:00:00\",\"2017-06-19T00:00:00\",\"2017-06-26T00:00:00\",\"2017-07-03T00:00:00\",\"2017-07-10T00:00:00\",\"2017-07-17T00:00:00\",\"2017-07-24T00:00:00\",\"2017-07-31T00:00:00\",\"2017-08-07T00:00:00\",\"2017-08-14T00:00:00\",\"2017-08-21T00:00:00\",\"2017-08-28T00:00:00\",\"2017-09-04T00:00:00\",\"2017-09-11T00:00:00\",\"2017-09-18T00:00:00\",\"2017-09-25T00:00:00\",\"2017-10-02T00:00:00\",\"2017-10-09T00:00:00\",\"2017-10-16T00:00:00\",\"2017-10-23T00:00:00\",\"2017-10-30T00:00:00\",\"2017-11-06T00:00:00\",\"2017-11-13T00:00:00\",\"2017-11-20T00:00:00\",\"2017-11-27T00:00:00\",\"2017-12-04T00:00:00\",\"2017-12-11T00:00:00\",\"2017-12-18T00:00:00\",\"2017-12-25T00:00:00\",\"2018-01-01T00:00:00\",\"2018-01-08T00:00:00\",\"2018-01-15T00:00:00\",\"2018-01-22T00:00:00\",\"2018-01-29T00:00:00\",\"2018-02-05T00:00:00\",\"2018-02-12T00:00:00\",\"2018-02-19T00:00:00\",\"2018-02-26T00:00:00\",\"2018-03-05T00:00:00\",\"2018-03-12T00:00:00\",\"2018-03-19T00:00:00\",\"2018-03-26T00:00:00\",\"2018-04-02T00:00:00\",\"2018-04-09T00:00:00\",\"2018-04-16T00:00:00\",\"2018-04-23T00:00:00\",\"2018-04-30T00:00:00\",\"2018-05-07T00:00:00\",\"2018-05-14T00:00:00\",\"2018-05-21T00:00:00\",\"2018-05-28T00:00:00\",\"2018-06-04T00:00:00\",\"2018-06-11T00:00:00\",\"2018-06-18T00:00:00\",\"2018-06-25T00:00:00\",\"2018-07-02T00:00:00\",\"2018-07-09T00:00:00\",\"2018-07-16T00:00:00\",\"2018-07-23T00:00:00\",\"2018-07-30T00:00:00\",\"2018-08-06T00:00:00\",\"2018-08-13T00:00:00\",\"2018-08-20T00:00:00\",\"2018-08-27T00:00:00\",\"2018-09-03T00:00:00\",\"2018-09-10T00:00:00\",\"2018-09-17T00:00:00\",\"2018-09-24T00:00:00\",\"2018-10-01T00:00:00\",\"2018-10-08T00:00:00\",\"2018-10-15T00:00:00\",\"2018-10-22T00:00:00\",\"2018-10-29T00:00:00\",\"2018-11-05T00:00:00\",\"2018-11-12T00:00:00\",\"2018-11-19T00:00:00\",\"2018-11-26T00:00:00\",\"2018-12-03T00:00:00\",\"2018-12-10T00:00:00\",\"2018-12-17T00:00:00\",\"2018-12-24T00:00:00\",\"2018-12-31T00:00:00\",\"2019-01-07T00:00:00\",\"2019-01-14T00:00:00\",\"2019-01-21T00:00:00\",\"2019-01-28T00:00:00\",\"2019-02-04T00:00:00\",\"2019-02-11T00:00:00\",\"2019-02-18T00:00:00\",\"2019-02-25T00:00:00\",\"2019-03-04T00:00:00\",\"2019-03-11T00:00:00\",\"2019-03-18T00:00:00\",\"2019-03-25T00:00:00\",\"2019-04-01T00:00:00\",\"2019-04-08T00:00:00\",\"2019-04-15T00:00:00\",\"2019-04-22T00:00:00\",\"2019-04-29T00:00:00\",\"2019-05-06T00:00:00\",\"2019-05-13T00:00:00\",\"2019-05-20T00:00:00\",\"2019-05-27T00:00:00\",\"2019-06-03T00:00:00\",\"2019-06-10T00:00:00\",\"2019-06-17T00:00:00\",\"2019-06-24T00:00:00\",\"2019-07-01T00:00:00\",\"2019-07-08T00:00:00\",\"2019-07-15T00:00:00\",\"2019-07-22T00:00:00\",\"2019-07-29T00:00:00\",\"2019-08-05T00:00:00\",\"2019-08-12T00:00:00\",\"2019-08-19T00:00:00\",\"2019-08-26T00:00:00\",\"2019-09-02T00:00:00\",\"2019-09-09T00:00:00\",\"2019-09-16T00:00:00\",\"2019-09-23T00:00:00\",\"2019-09-30T00:00:00\",\"2019-10-07T00:00:00\",\"2019-10-14T00:00:00\",\"2019-10-21T00:00:00\",\"2019-10-28T00:00:00\",\"2019-11-04T00:00:00\",\"2019-11-11T00:00:00\",\"2019-11-18T00:00:00\",\"2019-11-25T00:00:00\",\"2019-12-02T00:00:00\",\"2019-12-09T00:00:00\",\"2019-12-16T00:00:00\",\"2019-12-23T00:00:00\",\"2019-12-30T00:00:00\",\"2020-01-06T00:00:00\",\"2020-01-13T00:00:00\",\"2020-01-20T00:00:00\",\"2020-01-27T00:00:00\",\"2020-02-03T00:00:00\",\"2020-02-10T00:00:00\",\"2020-02-17T00:00:00\",\"2020-02-24T00:00:00\",\"2020-03-02T00:00:00\",\"2020-03-09T00:00:00\",\"2020-03-16T00:00:00\",\"2020-03-23T00:00:00\",\"2020-03-30T00:00:00\",\"2020-04-06T00:00:00\",\"2020-04-13T00:00:00\",\"2020-04-20T00:00:00\",\"2020-04-27T00:00:00\",\"2020-05-04T00:00:00\",\"2020-05-11T00:00:00\",\"2020-05-18T00:00:00\",\"2020-05-25T00:00:00\",\"2020-06-01T00:00:00\",\"2020-06-08T00:00:00\",\"2020-06-15T00:00:00\",\"2020-06-22T00:00:00\",\"2020-06-29T00:00:00\",\"2020-07-06T00:00:00\",\"2020-07-13T00:00:00\",\"2020-07-20T00:00:00\",\"2020-07-27T00:00:00\",\"2020-08-03T00:00:00\",\"2020-08-10T00:00:00\",\"2020-08-17T00:00:00\",\"2020-08-24T00:00:00\",\"2020-08-31T00:00:00\",\"2020-09-07T00:00:00\",\"2020-09-14T00:00:00\",\"2020-09-21T00:00:00\",\"2020-09-28T00:00:00\",\"2020-10-05T00:00:00\",\"2020-10-12T00:00:00\",\"2020-10-19T00:00:00\",\"2020-10-26T00:00:00\",\"2020-11-02T00:00:00\",\"2020-11-09T00:00:00\",\"2020-11-16T00:00:00\",\"2020-11-23T00:00:00\",\"2020-11-30T00:00:00\",\"2020-12-07T00:00:00\",\"2020-12-14T00:00:00\",\"2020-12-21T00:00:00\",\"2020-12-28T00:00:00\",\"2021-01-04T00:00:00\",\"2021-01-11T00:00:00\",\"2021-01-18T00:00:00\",\"2021-01-25T00:00:00\",\"2021-02-01T00:00:00\",\"2021-02-08T00:00:00\",\"2021-02-15T00:00:00\",\"2021-02-22T00:00:00\",\"2021-03-01T00:00:00\",\"2021-03-08T00:00:00\",\"2021-03-15T00:00:00\",\"2021-03-22T00:00:00\",\"2021-03-29T00:00:00\",\"2021-04-05T00:00:00\",\"2021-04-12T00:00:00\",\"2021-04-19T00:00:00\",\"2021-04-26T00:00:00\",\"2021-05-03T00:00:00\",\"2021-05-10T00:00:00\",\"2021-05-17T00:00:00\",\"2021-05-24T00:00:00\",\"2021-05-31T00:00:00\",\"2021-06-07T00:00:00\",\"2021-06-14T00:00:00\",\"2021-06-21T00:00:00\",\"2021-06-28T00:00:00\",\"2021-07-05T00:00:00\",\"2021-07-12T00:00:00\",\"2021-07-19T00:00:00\",\"2021-07-26T00:00:00\",\"2021-08-02T00:00:00\",\"2021-08-09T00:00:00\",\"2021-08-16T00:00:00\",\"2021-08-23T00:00:00\",\"2021-08-30T00:00:00\",\"2021-09-06T00:00:00\",\"2021-09-13T00:00:00\",\"2021-09-20T00:00:00\",\"2021-09-27T00:00:00\",\"2021-10-04T00:00:00\",\"2021-10-11T00:00:00\",\"2021-10-18T00:00:00\",\"2021-10-25T00:00:00\",\"2021-11-01T00:00:00\",\"2021-11-08T00:00:00\",\"2021-11-15T00:00:00\",\"2021-11-22T00:00:00\",\"2021-11-29T00:00:00\",\"2021-12-06T00:00:00\",\"2021-12-13T00:00:00\",\"2021-12-20T00:00:00\",\"2021-12-27T00:00:00\",\"2022-01-03T00:00:00\",\"2022-01-10T00:00:00\",\"2022-01-17T00:00:00\",\"2022-01-24T00:00:00\",\"2022-01-31T00:00:00\",\"2022-02-07T00:00:00\"],\"xaxis\":\"x\",\"y\":[54.03,54.22,54.43,54.32,51.36,51.32,51.01,51.35,53.83,53.43,52.31,50.69,48.54,50.04,50.93,50.59,48.25,47.48,46.56,46.25,48.54,46.03,46.98,47.11,51.27,51.0,49.85,50.09,50.24,51.49,52.35,53.25,53.92,54.72,54.1,55.34,55.14,55.54,61.83,61.18,60.55,60.89,60.02,61.62,60.8,61.15,64.3,65.09,66.36,65.97,66.23,64.99,61.16,62.28,62.75,61.94,61.32,61.86,62.77,64.62,65.83,67.25,68.41,71.62,72.83,74.02,74.79,74.45,73.15,null,null,null,null,null,null,72.67,73.15,72.35,71.52,71.18,72.45,75.56,75.56,76.06,77.02,82.82,82.58,80.39,80.19,79.41,71.88,69.81,67.68,65.63,60.52,59.01,59.14,56.93,57.318,55.625,57.636,59.52,58.918,62.549,61.648,64.679,64.505,65.609,66.589,67.021,66.891,68.457,70.093,69.825,71.018,70.93,70.556,69.641,70.908,69.426,60.404,60.585,59.939,61.64,63.192,62.613,64.306,62.591,63.162,58.86,58.35,58.93,58.865,59.106,60.058,63.12,61.637,61.115,58.223,58.935,58.866,59.453,59.369,61.095,61.557,61.94,61.974,63.34,64.192,64.651,64.847,68.275,65.722,65.745,64.369,64.286,52.999,55.342,54.681,54.219,36.264,36.964,34.046,33.844,27.449,26.157,22.235,20.374,20.387,27.267,30.547,30.341,30.467,40.695,39.502,41.12,40.796,42.89,43.097,43.054,43.332,43.278,43.779,43.78,43.913,43.987,42.612,40.154,41.409,41.601,40.42,40.777,41.373,41.142,40.661,41.405,42.524,43.076,43.52,48.227,49.461,50.344,49.773,49.815,55.059,54.532,54.759,54.772,59.361,60.226,60.62,60.855,65.836,66.375,64.707,64.435,64.414,61.302,63.475,62.801,62.894,66.203,66.825,66.264,66.275,69.839,70.78,71.481,71.536,71.573,73.539,71.007,72.83,72.903,68.494,69.527,68.76,69.465,70.641,71.111,71.358,72.611,72.608,80.679,81.311,81.732,81.585,81.616,81.411,80.548,80.305,71.654,72.708,71.655,72.99,73.185,78.887,82.269,82.868,83.455,90.757,89.883],\"yaxis\":\"y\",\"type\":\"scatter\"},{\"hovertemplate\":\"variable=wti\\uc885\\uac00<br>\\ub0a0\\uc9dc=%{x}<br>value=%{y}<extra></extra>\",\"legendgroup\":\"wti\\uc885\\uac00\",\"line\":{\"color\":\"#EF553B\",\"dash\":\"solid\"},\"marker\":{\"symbol\":\"circle\"},\"mode\":\"lines\",\"name\":\"wti\\uc885\\uac00\",\"orientation\":\"v\",\"showlegend\":true,\"x\":[\"2017-02-06T00:00:00\",\"2017-02-13T00:00:00\",\"2017-02-20T00:00:00\",\"2017-02-27T00:00:00\",\"2017-03-06T00:00:00\",\"2017-03-13T00:00:00\",\"2017-03-20T00:00:00\",\"2017-03-27T00:00:00\",\"2017-04-03T00:00:00\",\"2017-04-10T00:00:00\",\"2017-04-17T00:00:00\",\"2017-04-24T00:00:00\",\"2017-05-01T00:00:00\",\"2017-05-08T00:00:00\",\"2017-05-15T00:00:00\",\"2017-05-22T00:00:00\",\"2017-05-29T00:00:00\",\"2017-06-05T00:00:00\",\"2017-06-12T00:00:00\",\"2017-06-19T00:00:00\",\"2017-06-26T00:00:00\",\"2017-07-03T00:00:00\",\"2017-07-10T00:00:00\",\"2017-07-17T00:00:00\",\"2017-07-24T00:00:00\",\"2017-07-31T00:00:00\",\"2017-08-07T00:00:00\",\"2017-08-14T00:00:00\",\"2017-08-21T00:00:00\",\"2017-08-28T00:00:00\",\"2017-09-04T00:00:00\",\"2017-09-11T00:00:00\",\"2017-09-18T00:00:00\",\"2017-09-25T00:00:00\",\"2017-10-02T00:00:00\",\"2017-10-09T00:00:00\",\"2017-10-16T00:00:00\",\"2017-10-23T00:00:00\",\"2017-10-30T00:00:00\",\"2017-11-06T00:00:00\",\"2017-11-13T00:00:00\",\"2017-11-20T00:00:00\",\"2017-11-27T00:00:00\",\"2017-12-04T00:00:00\",\"2017-12-11T00:00:00\",\"2017-12-18T00:00:00\",\"2017-12-25T00:00:00\",\"2018-01-01T00:00:00\",\"2018-01-08T00:00:00\",\"2018-01-15T00:00:00\",\"2018-01-22T00:00:00\",\"2018-01-29T00:00:00\",\"2018-02-05T00:00:00\",\"2018-02-12T00:00:00\",\"2018-02-19T00:00:00\",\"2018-02-26T00:00:00\",\"2018-03-05T00:00:00\",\"2018-03-12T00:00:00\",\"2018-03-19T00:00:00\",\"2018-03-26T00:00:00\",\"2018-04-02T00:00:00\",\"2018-04-09T00:00:00\",\"2018-04-16T00:00:00\",\"2018-04-23T00:00:00\",\"2018-04-30T00:00:00\",\"2018-05-07T00:00:00\",\"2018-05-14T00:00:00\",\"2018-05-21T00:00:00\",\"2018-05-28T00:00:00\",\"2018-06-04T00:00:00\",\"2018-06-11T00:00:00\",\"2018-06-18T00:00:00\",\"2018-06-25T00:00:00\",\"2018-07-02T00:00:00\",\"2018-07-09T00:00:00\",\"2018-07-16T00:00:00\",\"2018-07-23T00:00:00\",\"2018-07-30T00:00:00\",\"2018-08-06T00:00:00\",\"2018-08-13T00:00:00\",\"2018-08-20T00:00:00\",\"2018-08-27T00:00:00\",\"2018-09-03T00:00:00\",\"2018-09-10T00:00:00\",\"2018-09-17T00:00:00\",\"2018-09-24T00:00:00\",\"2018-10-01T00:00:00\",\"2018-10-08T00:00:00\",\"2018-10-15T00:00:00\",\"2018-10-22T00:00:00\",\"2018-10-29T00:00:00\",\"2018-11-05T00:00:00\",\"2018-11-12T00:00:00\",\"2018-11-19T00:00:00\",\"2018-11-26T00:00:00\",\"2018-12-03T00:00:00\",\"2018-12-10T00:00:00\",\"2018-12-17T00:00:00\",\"2018-12-24T00:00:00\",\"2018-12-31T00:00:00\",\"2019-01-07T00:00:00\",\"2019-01-14T00:00:00\",\"2019-01-21T00:00:00\",\"2019-01-28T00:00:00\",\"2019-02-04T00:00:00\",\"2019-02-11T00:00:00\",\"2019-02-18T00:00:00\",\"2019-02-25T00:00:00\",\"2019-03-04T00:00:00\",\"2019-03-11T00:00:00\",\"2019-03-18T00:00:00\",\"2019-03-25T00:00:00\",\"2019-04-01T00:00:00\",\"2019-04-08T00:00:00\",\"2019-04-15T00:00:00\",\"2019-04-22T00:00:00\",\"2019-04-29T00:00:00\",\"2019-05-06T00:00:00\",\"2019-05-13T00:00:00\",\"2019-05-20T00:00:00\",\"2019-05-27T00:00:00\",\"2019-06-03T00:00:00\",\"2019-06-10T00:00:00\",\"2019-06-17T00:00:00\",\"2019-06-24T00:00:00\",\"2019-07-01T00:00:00\",\"2019-07-08T00:00:00\",\"2019-07-15T00:00:00\",\"2019-07-22T00:00:00\",\"2019-07-29T00:00:00\",\"2019-08-05T00:00:00\",\"2019-08-12T00:00:00\",\"2019-08-19T00:00:00\",\"2019-08-26T00:00:00\",\"2019-09-02T00:00:00\",\"2019-09-09T00:00:00\",\"2019-09-16T00:00:00\",\"2019-09-23T00:00:00\",\"2019-09-30T00:00:00\",\"2019-10-07T00:00:00\",\"2019-10-14T00:00:00\",\"2019-10-21T00:00:00\",\"2019-10-28T00:00:00\",\"2019-11-04T00:00:00\",\"2019-11-11T00:00:00\",\"2019-11-18T00:00:00\",\"2019-11-25T00:00:00\",\"2019-12-02T00:00:00\",\"2019-12-09T00:00:00\",\"2019-12-16T00:00:00\",\"2019-12-23T00:00:00\",\"2019-12-30T00:00:00\",\"2020-01-06T00:00:00\",\"2020-01-13T00:00:00\",\"2020-01-20T00:00:00\",\"2020-01-27T00:00:00\",\"2020-02-03T00:00:00\",\"2020-02-10T00:00:00\",\"2020-02-17T00:00:00\",\"2020-02-24T00:00:00\",\"2020-03-02T00:00:00\",\"2020-03-09T00:00:00\",\"2020-03-16T00:00:00\",\"2020-03-23T00:00:00\",\"2020-03-30T00:00:00\",\"2020-04-06T00:00:00\",\"2020-04-13T00:00:00\",\"2020-04-20T00:00:00\",\"2020-04-27T00:00:00\",\"2020-05-04T00:00:00\",\"2020-05-11T00:00:00\",\"2020-05-18T00:00:00\",\"2020-05-25T00:00:00\",\"2020-06-01T00:00:00\",\"2020-06-08T00:00:00\",\"2020-06-15T00:00:00\",\"2020-06-22T00:00:00\",\"2020-06-29T00:00:00\",\"2020-07-06T00:00:00\",\"2020-07-13T00:00:00\",\"2020-07-20T00:00:00\",\"2020-07-27T00:00:00\",\"2020-08-03T00:00:00\",\"2020-08-10T00:00:00\",\"2020-08-17T00:00:00\",\"2020-08-24T00:00:00\",\"2020-08-31T00:00:00\",\"2020-09-07T00:00:00\",\"2020-09-14T00:00:00\",\"2020-09-21T00:00:00\",\"2020-09-28T00:00:00\",\"2020-10-05T00:00:00\",\"2020-10-12T00:00:00\",\"2020-10-19T00:00:00\",\"2020-10-26T00:00:00\",\"2020-11-02T00:00:00\",\"2020-11-09T00:00:00\",\"2020-11-16T00:00:00\",\"2020-11-23T00:00:00\",\"2020-11-30T00:00:00\",\"2020-12-07T00:00:00\",\"2020-12-14T00:00:00\",\"2020-12-21T00:00:00\",\"2020-12-28T00:00:00\",\"2021-01-04T00:00:00\",\"2021-01-11T00:00:00\",\"2021-01-18T00:00:00\",\"2021-01-25T00:00:00\",\"2021-02-01T00:00:00\",\"2021-02-08T00:00:00\",\"2021-02-15T00:00:00\",\"2021-02-22T00:00:00\",\"2021-03-01T00:00:00\",\"2021-03-08T00:00:00\",\"2021-03-15T00:00:00\",\"2021-03-22T00:00:00\",\"2021-03-29T00:00:00\",\"2021-04-05T00:00:00\",\"2021-04-12T00:00:00\",\"2021-04-19T00:00:00\",\"2021-04-26T00:00:00\",\"2021-05-03T00:00:00\",\"2021-05-10T00:00:00\",\"2021-05-17T00:00:00\",\"2021-05-24T00:00:00\",\"2021-05-31T00:00:00\",\"2021-06-07T00:00:00\",\"2021-06-14T00:00:00\",\"2021-06-21T00:00:00\",\"2021-06-28T00:00:00\",\"2021-07-05T00:00:00\",\"2021-07-12T00:00:00\",\"2021-07-19T00:00:00\",\"2021-07-26T00:00:00\",\"2021-08-02T00:00:00\",\"2021-08-09T00:00:00\",\"2021-08-16T00:00:00\",\"2021-08-23T00:00:00\",\"2021-08-30T00:00:00\",\"2021-09-06T00:00:00\",\"2021-09-13T00:00:00\",\"2021-09-20T00:00:00\",\"2021-09-27T00:00:00\",\"2021-10-04T00:00:00\",\"2021-10-11T00:00:00\",\"2021-10-18T00:00:00\",\"2021-10-25T00:00:00\",\"2021-11-01T00:00:00\",\"2021-11-08T00:00:00\",\"2021-11-15T00:00:00\",\"2021-11-22T00:00:00\",\"2021-11-29T00:00:00\",\"2021-12-06T00:00:00\",\"2021-12-13T00:00:00\",\"2021-12-20T00:00:00\",\"2021-12-27T00:00:00\",\"2022-01-03T00:00:00\",\"2022-01-10T00:00:00\",\"2022-01-17T00:00:00\",\"2022-01-24T00:00:00\",\"2022-01-31T00:00:00\",\"2022-02-07T00:00:00\"],\"xaxis\":\"x\",\"y\":[52.93,53.4,54.05,53.2,48.4,48.22,47.73,50.24,53.08,52.65,49.23,48.84,46.43,48.85,51.13,49.8,47.4,46.08,44.2,43.38,47.07,44.4,46.02,46.34,50.17,49.39,47.59,47.37,46.57,47.29,48.07,49.91,52.22,50.58,49.58,51.87,51.9,54.15,57.35,56.76,56.42,58.11,57.47,57.99,57.16,58.47,60.42,61.73,64.3,63.57,65.56,64.15,59.29,61.68,63.91,62.57,61.36,62.06,65.55,63.01,63.42,66.22,68.64,68.57,70.73,70.96,72.24,67.88,64.75,66.1,65.85,68.08,73.94,73.85,68.06,67.89,70.13,69.01,67.2,66.43,68.87,69.8,67.54,68.91,72.08,75.3,74.29,71.78,69.36,67.04,63.1,59.93,57.2,51.63,52.95,51.0,49.88,42.53,45.41,48.52,50.51,53.8,51.99,54.56,52.41,55.59,55.48,56.59,56.79,59.09,58.82,61.59,64.4,63.4,65.7,63.5,62.25,61.04,63.1,58.63,53.25,53.26,51.93,57.9,59.09,57.66,59.58,56.22,56.87,54.69,54.93,56.21,53.64,55.1,57.85,62.9,58.64,54.07,52.75,53.59,53.31,55.81,56.54,56.86,57.05,58.01,55.96,59.02,60.21,60.52,61.68,63.27,58.08,58.54,53.14,50.11,49.57,52.05,51.43,46.75,31.13,28.7,23.36,20.09,26.08,22.41,-37.63,12.78,20.39,24.14,31.82,33.25,35.44,38.19,37.12,40.46,39.7,40.63,40.1,40.81,41.6,41.01,41.94,42.89,42.62,42.61,39.77,37.26,39.31,40.6,39.22,39.43,40.83,38.56,36.81,40.29,41.34,43.06,45.34,45.76,46.99,47.74,47.62,47.62,52.25,52.36,52.77,53.55,57.97,59.47,61.49,60.64,65.05,65.39,61.55,61.56,58.65,59.7,63.38,61.91,64.49,64.92,66.27,66.05,66.32,69.23,70.88,73.66,72.91,75.16,74.1,66.42,71.91,71.26,66.48,67.29,65.64,69.21,69.29,70.45,70.29,75.45,77.62,80.52,82.44,83.76,84.05,81.93,80.88,76.75,69.95,69.49,71.29,68.23,75.57,76.08,78.23,83.82,83.31,88.15,91.32,89.66],\"yaxis\":\"y\",\"type\":\"scatter\"}],                        {\"template\":{\"data\":{\"bar\":[{\"error_x\":{\"color\":\"#2a3f5f\"},\"error_y\":{\"color\":\"#2a3f5f\"},\"marker\":{\"line\":{\"color\":\"#E5ECF6\",\"width\":0.5},\"pattern\":{\"fillmode\":\"overlay\",\"size\":10,\"solidity\":0.2}},\"type\":\"bar\"}],\"barpolar\":[{\"marker\":{\"line\":{\"color\":\"#E5ECF6\",\"width\":0.5},\"pattern\":{\"fillmode\":\"overlay\",\"size\":10,\"solidity\":0.2}},\"type\":\"barpolar\"}],\"carpet\":[{\"aaxis\":{\"endlinecolor\":\"#2a3f5f\",\"gridcolor\":\"white\",\"linecolor\":\"white\",\"minorgridcolor\":\"white\",\"startlinecolor\":\"#2a3f5f\"},\"baxis\":{\"endlinecolor\":\"#2a3f5f\",\"gridcolor\":\"white\",\"linecolor\":\"white\",\"minorgridcolor\":\"white\",\"startlinecolor\":\"#2a3f5f\"},\"type\":\"carpet\"}],\"choropleth\":[{\"colorbar\":{\"outlinewidth\":0,\"ticks\":\"\"},\"type\":\"choropleth\"}],\"contour\":[{\"colorbar\":{\"outlinewidth\":0,\"ticks\":\"\"},\"colorscale\":[[0.0,\"#0d0887\"],[0.1111111111111111,\"#46039f\"],[0.2222222222222222,\"#7201a8\"],[0.3333333333333333,\"#9c179e\"],[0.4444444444444444,\"#bd3786\"],[0.5555555555555556,\"#d8576b\"],[0.6666666666666666,\"#ed7953\"],[0.7777777777777778,\"#fb9f3a\"],[0.8888888888888888,\"#fdca26\"],[1.0,\"#f0f921\"]],\"type\":\"contour\"}],\"contourcarpet\":[{\"colorbar\":{\"outlinewidth\":0,\"ticks\":\"\"},\"type\":\"contourcarpet\"}],\"heatmap\":[{\"colorbar\":{\"outlinewidth\":0,\"ticks\":\"\"},\"colorscale\":[[0.0,\"#0d0887\"],[0.1111111111111111,\"#46039f\"],[0.2222222222222222,\"#7201a8\"],[0.3333333333333333,\"#9c179e\"],[0.4444444444444444,\"#bd3786\"],[0.5555555555555556,\"#d8576b\"],[0.6666666666666666,\"#ed7953\"],[0.7777777777777778,\"#fb9f3a\"],[0.8888888888888888,\"#fdca26\"],[1.0,\"#f0f921\"]],\"type\":\"heatmap\"}],\"heatmapgl\":[{\"colorbar\":{\"outlinewidth\":0,\"ticks\":\"\"},\"colorscale\":[[0.0,\"#0d0887\"],[0.1111111111111111,\"#46039f\"],[0.2222222222222222,\"#7201a8\"],[0.3333333333333333,\"#9c179e\"],[0.4444444444444444,\"#bd3786\"],[0.5555555555555556,\"#d8576b\"],[0.6666666666666666,\"#ed7953\"],[0.7777777777777778,\"#fb9f3a\"],[0.8888888888888888,\"#fdca26\"],[1.0,\"#f0f921\"]],\"type\":\"heatmapgl\"}],\"histogram\":[{\"marker\":{\"pattern\":{\"fillmode\":\"overlay\",\"size\":10,\"solidity\":0.2}},\"type\":\"histogram\"}],\"histogram2d\":[{\"colorbar\":{\"outlinewidth\":0,\"ticks\":\"\"},\"colorscale\":[[0.0,\"#0d0887\"],[0.1111111111111111,\"#46039f\"],[0.2222222222222222,\"#7201a8\"],[0.3333333333333333,\"#9c179e\"],[0.4444444444444444,\"#bd3786\"],[0.5555555555555556,\"#d8576b\"],[0.6666666666666666,\"#ed7953\"],[0.7777777777777778,\"#fb9f3a\"],[0.8888888888888888,\"#fdca26\"],[1.0,\"#f0f921\"]],\"type\":\"histogram2d\"}],\"histogram2dcontour\":[{\"colorbar\":{\"outlinewidth\":0,\"ticks\":\"\"},\"colorscale\":[[0.0,\"#0d0887\"],[0.1111111111111111,\"#46039f\"],[0.2222222222222222,\"#7201a8\"],[0.3333333333333333,\"#9c179e\"],[0.4444444444444444,\"#bd3786\"],[0.5555555555555556,\"#d8576b\"],[0.6666666666666666,\"#ed7953\"],[0.7777777777777778,\"#fb9f3a\"],[0.8888888888888888,\"#fdca26\"],[1.0,\"#f0f921\"]],\"type\":\"histogram2dcontour\"}],\"mesh3d\":[{\"colorbar\":{\"outlinewidth\":0,\"ticks\":\"\"},\"type\":\"mesh3d\"}],\"parcoords\":[{\"line\":{\"colorbar\":{\"outlinewidth\":0,\"ticks\":\"\"}},\"type\":\"parcoords\"}],\"pie\":[{\"automargin\":true,\"type\":\"pie\"}],\"scatter\":[{\"marker\":{\"colorbar\":{\"outlinewidth\":0,\"ticks\":\"\"}},\"type\":\"scatter\"}],\"scatter3d\":[{\"line\":{\"colorbar\":{\"outlinewidth\":0,\"ticks\":\"\"}},\"marker\":{\"colorbar\":{\"outlinewidth\":0,\"ticks\":\"\"}},\"type\":\"scatter3d\"}],\"scattercarpet\":[{\"marker\":{\"colorbar\":{\"outlinewidth\":0,\"ticks\":\"\"}},\"type\":\"scattercarpet\"}],\"scattergeo\":[{\"marker\":{\"colorbar\":{\"outlinewidth\":0,\"ticks\":\"\"}},\"type\":\"scattergeo\"}],\"scattergl\":[{\"marker\":{\"colorbar\":{\"outlinewidth\":0,\"ticks\":\"\"}},\"type\":\"scattergl\"}],\"scattermapbox\":[{\"marker\":{\"colorbar\":{\"outlinewidth\":0,\"ticks\":\"\"}},\"type\":\"scattermapbox\"}],\"scatterpolar\":[{\"marker\":{\"colorbar\":{\"outlinewidth\":0,\"ticks\":\"\"}},\"type\":\"scatterpolar\"}],\"scatterpolargl\":[{\"marker\":{\"colorbar\":{\"outlinewidth\":0,\"ticks\":\"\"}},\"type\":\"scatterpolargl\"}],\"scatterternary\":[{\"marker\":{\"colorbar\":{\"outlinewidth\":0,\"ticks\":\"\"}},\"type\":\"scatterternary\"}],\"surface\":[{\"colorbar\":{\"outlinewidth\":0,\"ticks\":\"\"},\"colorscale\":[[0.0,\"#0d0887\"],[0.1111111111111111,\"#46039f\"],[0.2222222222222222,\"#7201a8\"],[0.3333333333333333,\"#9c179e\"],[0.4444444444444444,\"#bd3786\"],[0.5555555555555556,\"#d8576b\"],[0.6666666666666666,\"#ed7953\"],[0.7777777777777778,\"#fb9f3a\"],[0.8888888888888888,\"#fdca26\"],[1.0,\"#f0f921\"]],\"type\":\"surface\"}],\"table\":[{\"cells\":{\"fill\":{\"color\":\"#EBF0F8\"},\"line\":{\"color\":\"white\"}},\"header\":{\"fill\":{\"color\":\"#C8D4E3\"},\"line\":{\"color\":\"white\"}},\"type\":\"table\"}]},\"layout\":{\"annotationdefaults\":{\"arrowcolor\":\"#2a3f5f\",\"arrowhead\":0,\"arrowwidth\":1},\"autotypenumbers\":\"strict\",\"coloraxis\":{\"colorbar\":{\"outlinewidth\":0,\"ticks\":\"\"}},\"colorscale\":{\"diverging\":[[0,\"#8e0152\"],[0.1,\"#c51b7d\"],[0.2,\"#de77ae\"],[0.3,\"#f1b6da\"],[0.4,\"#fde0ef\"],[0.5,\"#f7f7f7\"],[0.6,\"#e6f5d0\"],[0.7,\"#b8e186\"],[0.8,\"#7fbc41\"],[0.9,\"#4d9221\"],[1,\"#276419\"]],\"sequential\":[[0.0,\"#0d0887\"],[0.1111111111111111,\"#46039f\"],[0.2222222222222222,\"#7201a8\"],[0.3333333333333333,\"#9c179e\"],[0.4444444444444444,\"#bd3786\"],[0.5555555555555556,\"#d8576b\"],[0.6666666666666666,\"#ed7953\"],[0.7777777777777778,\"#fb9f3a\"],[0.8888888888888888,\"#fdca26\"],[1.0,\"#f0f921\"]],\"sequentialminus\":[[0.0,\"#0d0887\"],[0.1111111111111111,\"#46039f\"],[0.2222222222222222,\"#7201a8\"],[0.3333333333333333,\"#9c179e\"],[0.4444444444444444,\"#bd3786\"],[0.5555555555555556,\"#d8576b\"],[0.6666666666666666,\"#ed7953\"],[0.7777777777777778,\"#fb9f3a\"],[0.8888888888888888,\"#fdca26\"],[1.0,\"#f0f921\"]]},\"colorway\":[\"#636efa\",\"#EF553B\",\"#00cc96\",\"#ab63fa\",\"#FFA15A\",\"#19d3f3\",\"#FF6692\",\"#B6E880\",\"#FF97FF\",\"#FECB52\"],\"font\":{\"color\":\"#2a3f5f\"},\"geo\":{\"bgcolor\":\"white\",\"lakecolor\":\"white\",\"landcolor\":\"#E5ECF6\",\"showlakes\":true,\"showland\":true,\"subunitcolor\":\"white\"},\"hoverlabel\":{\"align\":\"left\"},\"hovermode\":\"closest\",\"mapbox\":{\"style\":\"light\"},\"paper_bgcolor\":\"white\",\"plot_bgcolor\":\"#E5ECF6\",\"polar\":{\"angularaxis\":{\"gridcolor\":\"white\",\"linecolor\":\"white\",\"ticks\":\"\"},\"bgcolor\":\"#E5ECF6\",\"radialaxis\":{\"gridcolor\":\"white\",\"linecolor\":\"white\",\"ticks\":\"\"}},\"scene\":{\"xaxis\":{\"backgroundcolor\":\"#E5ECF6\",\"gridcolor\":\"white\",\"gridwidth\":2,\"linecolor\":\"white\",\"showbackground\":true,\"ticks\":\"\",\"zerolinecolor\":\"white\"},\"yaxis\":{\"backgroundcolor\":\"#E5ECF6\",\"gridcolor\":\"white\",\"gridwidth\":2,\"linecolor\":\"white\",\"showbackground\":true,\"ticks\":\"\",\"zerolinecolor\":\"white\"},\"zaxis\":{\"backgroundcolor\":\"#E5ECF6\",\"gridcolor\":\"white\",\"gridwidth\":2,\"linecolor\":\"white\",\"showbackground\":true,\"ticks\":\"\",\"zerolinecolor\":\"white\"}},\"shapedefaults\":{\"line\":{\"color\":\"#2a3f5f\"}},\"ternary\":{\"aaxis\":{\"gridcolor\":\"white\",\"linecolor\":\"white\",\"ticks\":\"\"},\"baxis\":{\"gridcolor\":\"white\",\"linecolor\":\"white\",\"ticks\":\"\"},\"bgcolor\":\"#E5ECF6\",\"caxis\":{\"gridcolor\":\"white\",\"linecolor\":\"white\",\"ticks\":\"\"}},\"title\":{\"x\":0.05},\"xaxis\":{\"automargin\":true,\"gridcolor\":\"white\",\"linecolor\":\"white\",\"ticks\":\"\",\"title\":{\"standoff\":15},\"zerolinecolor\":\"white\",\"zerolinewidth\":2},\"yaxis\":{\"automargin\":true,\"gridcolor\":\"white\",\"linecolor\":\"white\",\"ticks\":\"\",\"title\":{\"standoff\":15},\"zerolinecolor\":\"white\",\"zerolinewidth\":2}}},\"xaxis\":{\"anchor\":\"y\",\"domain\":[0.0,1.0],\"title\":{\"text\":\"\\ub0a0\\uc9dc\"}},\"yaxis\":{\"anchor\":\"x\",\"domain\":[0.0,1.0],\"title\":{\"text\":\"value\"}},\"legend\":{\"title\":{\"text\":\"variable\"},\"tracegroupgap\":0},\"margin\":{\"t\":60}},                        {\"responsive\": true}                    ).then(function(){\n",
       "                            \n",
       "var gd = document.getElementById('0641e960-48de-47e2-ad12-6ec0045cc047');\n",
       "var x = new MutationObserver(function (mutations, observer) {{\n",
       "        var display = window.getComputedStyle(gd).display;\n",
       "        if (!display || display === 'none') {{\n",
       "            console.log([gd, 'removed!']);\n",
       "            Plotly.purge(gd);\n",
       "            observer.disconnect();\n",
       "        }}\n",
       "}});\n",
       "\n",
       "// Listen for the removal of the full notebook cells\n",
       "var notebookContainer = gd.closest('#notebook-container');\n",
       "if (notebookContainer) {{\n",
       "    x.observe(notebookContainer, {childList: true});\n",
       "}}\n",
       "\n",
       "// Listen for the clearing of the current output cell\n",
       "var outputEl = gd.closest('.output');\n",
       "if (outputEl) {{\n",
       "    x.observe(outputEl, {childList: true});\n",
       "}}\n",
       "\n",
       "                        })                };                });            </script>        </div>"
      ]
     },
     "metadata": {},
     "output_type": "display_data"
    }
   ],
   "source": [
    "px.line(df_plot1, x='날짜', y= ['두바이유(선물)종가','wti종가'] )"
   ]
  },
  {
   "cell_type": "code",
   "execution_count": 33,
   "id": "a9fd7670",
   "metadata": {},
   "outputs": [
    {
     "data": {
      "text/plain": [
       "array([[nan, nan],\n",
       "       [nan,  1.]])"
      ]
     },
     "execution_count": 33,
     "metadata": {},
     "output_type": "execute_result"
    }
   ],
   "source": [
    "# 상관관계\n",
    "np.corrcoef(df_plot1['두바이유(선물)종가'],df_plot1['wti종가'])"
   ]
  },
  {
   "cell_type": "code",
   "execution_count": 34,
   "id": "d33580cd",
   "metadata": {},
   "outputs": [
    {
     "name": "stdout",
     "output_type": "stream",
     "text": [
      "            두바이유(선물)종가     wti종가\n",
      "두바이유(선물)종가    1.000000  0.937567\n",
      "wti종가         0.937567  1.000000\n"
     ]
    }
   ],
   "source": [
    "df_corr1 = df_plot1.drop(columns=['고가_x','저가_x','시가_x','고가_y','저가_y','시가_y'])\n",
    "corr1 = df_corr1.corr(method = 'pearson')\n",
    "print(corr1)"
   ]
  },
  {
   "cell_type": "code",
   "execution_count": null,
   "id": "6a30a65b",
   "metadata": {},
   "outputs": [],
   "source": []
  },
  {
   "cell_type": "code",
   "execution_count": 23,
   "id": "cf98aa38",
   "metadata": {},
   "outputs": [],
   "source": [
    "# 두바이유 vs 브랜트유"
   ]
  },
  {
   "cell_type": "code",
   "execution_count": 35,
   "id": "3cc689eb",
   "metadata": {},
   "outputs": [
    {
     "data": {
      "text/html": [
       "<div>\n",
       "<style scoped>\n",
       "    .dataframe tbody tr th:only-of-type {\n",
       "        vertical-align: middle;\n",
       "    }\n",
       "\n",
       "    .dataframe tbody tr th {\n",
       "        vertical-align: top;\n",
       "    }\n",
       "\n",
       "    .dataframe thead th {\n",
       "        text-align: right;\n",
       "    }\n",
       "</style>\n",
       "<table border=\"1\" class=\"dataframe\">\n",
       "  <thead>\n",
       "    <tr style=\"text-align: right;\">\n",
       "      <th></th>\n",
       "      <th>날짜</th>\n",
       "      <th>고가_x</th>\n",
       "      <th>저가_x</th>\n",
       "      <th>시가_x</th>\n",
       "      <th>두바이유(선물)종가</th>\n",
       "      <th>고가_y</th>\n",
       "      <th>저가_y</th>\n",
       "      <th>시가_y</th>\n",
       "      <th>브랜트유종가</th>\n",
       "    </tr>\n",
       "  </thead>\n",
       "  <tbody>\n",
       "    <tr>\n",
       "      <th>0</th>\n",
       "      <td>2017-02-06</td>\n",
       "      <td>54.59</td>\n",
       "      <td>54.03</td>\n",
       "      <td>54.59</td>\n",
       "      <td>54.03</td>\n",
       "      <td>56.70</td>\n",
       "      <td>55.59</td>\n",
       "      <td>56.70</td>\n",
       "      <td>55.59</td>\n",
       "    </tr>\n",
       "    <tr>\n",
       "      <th>1</th>\n",
       "      <td>2017-02-13</td>\n",
       "      <td>54.27</td>\n",
       "      <td>54.12</td>\n",
       "      <td>54.27</td>\n",
       "      <td>54.22</td>\n",
       "      <td>56.18</td>\n",
       "      <td>55.65</td>\n",
       "      <td>55.97</td>\n",
       "      <td>56.18</td>\n",
       "    </tr>\n",
       "    <tr>\n",
       "      <th>2</th>\n",
       "      <td>2017-02-20</td>\n",
       "      <td>54.43</td>\n",
       "      <td>54.27</td>\n",
       "      <td>54.42</td>\n",
       "      <td>54.43</td>\n",
       "      <td>56.66</td>\n",
       "      <td>55.84</td>\n",
       "      <td>56.66</td>\n",
       "      <td>55.93</td>\n",
       "    </tr>\n",
       "  </tbody>\n",
       "</table>\n",
       "</div>"
      ],
      "text/plain": [
       "          날짜   고가_x   저가_x   시가_x  두바이유(선물)종가   고가_y   저가_y   시가_y  브랜트유종가\n",
       "0 2017-02-06  54.59  54.03  54.59       54.03  56.70  55.59  56.70   55.59\n",
       "1 2017-02-13  54.27  54.12  54.27       54.22  56.18  55.65  55.97   56.18\n",
       "2 2017-02-20  54.43  54.27  54.42       54.43  56.66  55.84  56.66   55.93"
      ]
     },
     "execution_count": 35,
     "metadata": {},
     "output_type": "execute_result"
    }
   ],
   "source": [
    "df_plot2 = pd.merge(df_d,df_b, on='날짜')\n",
    "df_plot2.head(3)"
   ]
  },
  {
   "cell_type": "code",
   "execution_count": 36,
   "id": "dd5ac08d",
   "metadata": {},
   "outputs": [
    {
     "data": {
      "application/vnd.plotly.v1+json": {
       "config": {
        "plotlyServerURL": "https://plot.ly"
       },
       "data": [
        {
         "hovertemplate": "variable=두바이유(선물)종가<br>날짜=%{x}<br>value=%{y}<extra></extra>",
         "legendgroup": "두바이유(선물)종가",
         "line": {
          "color": "#636efa",
          "dash": "solid"
         },
         "marker": {
          "symbol": "circle"
         },
         "mode": "lines",
         "name": "두바이유(선물)종가",
         "orientation": "v",
         "showlegend": true,
         "type": "scatter",
         "x": [
          "2017-02-06T00:00:00",
          "2017-02-13T00:00:00",
          "2017-02-20T00:00:00",
          "2017-02-27T00:00:00",
          "2017-03-06T00:00:00",
          "2017-03-13T00:00:00",
          "2017-03-20T00:00:00",
          "2017-03-27T00:00:00",
          "2017-04-03T00:00:00",
          "2017-04-10T00:00:00",
          "2017-04-17T00:00:00",
          "2017-04-24T00:00:00",
          "2017-05-01T00:00:00",
          "2017-05-08T00:00:00",
          "2017-05-15T00:00:00",
          "2017-05-22T00:00:00",
          "2017-05-29T00:00:00",
          "2017-06-05T00:00:00",
          "2017-06-12T00:00:00",
          "2017-06-19T00:00:00",
          "2017-06-26T00:00:00",
          "2017-07-03T00:00:00",
          "2017-07-10T00:00:00",
          "2017-07-17T00:00:00",
          "2017-07-24T00:00:00",
          "2017-07-31T00:00:00",
          "2017-08-07T00:00:00",
          "2017-08-14T00:00:00",
          "2017-08-21T00:00:00",
          "2017-08-28T00:00:00",
          "2017-09-04T00:00:00",
          "2017-09-11T00:00:00",
          "2017-09-18T00:00:00",
          "2017-09-25T00:00:00",
          "2017-10-02T00:00:00",
          "2017-10-09T00:00:00",
          "2017-10-16T00:00:00",
          "2017-10-23T00:00:00",
          "2017-10-30T00:00:00",
          "2017-11-06T00:00:00",
          "2017-11-13T00:00:00",
          "2017-11-20T00:00:00",
          "2017-11-27T00:00:00",
          "2017-12-04T00:00:00",
          "2017-12-11T00:00:00",
          "2017-12-18T00:00:00",
          "2017-12-25T00:00:00",
          "2018-01-01T00:00:00",
          "2018-01-08T00:00:00",
          "2018-01-15T00:00:00",
          "2018-01-22T00:00:00",
          "2018-01-29T00:00:00",
          "2018-02-05T00:00:00",
          "2018-02-12T00:00:00",
          "2018-02-19T00:00:00",
          "2018-02-26T00:00:00",
          "2018-03-05T00:00:00",
          "2018-03-12T00:00:00",
          "2018-03-19T00:00:00",
          "2018-03-26T00:00:00",
          "2018-04-02T00:00:00",
          "2018-04-09T00:00:00",
          "2018-04-16T00:00:00",
          "2018-04-23T00:00:00",
          "2018-04-30T00:00:00",
          "2018-05-07T00:00:00",
          "2018-05-14T00:00:00",
          "2018-05-21T00:00:00",
          "2018-05-28T00:00:00",
          "2018-06-04T00:00:00",
          "2018-06-11T00:00:00",
          "2018-06-18T00:00:00",
          "2018-06-25T00:00:00",
          "2018-07-02T00:00:00",
          "2018-07-09T00:00:00",
          "2018-07-16T00:00:00",
          "2018-07-23T00:00:00",
          "2018-07-30T00:00:00",
          "2018-08-06T00:00:00",
          "2018-08-13T00:00:00",
          "2018-08-20T00:00:00",
          "2018-08-27T00:00:00",
          "2018-09-03T00:00:00",
          "2018-09-10T00:00:00",
          "2018-09-17T00:00:00",
          "2018-09-24T00:00:00",
          "2018-10-01T00:00:00",
          "2018-10-08T00:00:00",
          "2018-10-15T00:00:00",
          "2018-10-22T00:00:00",
          "2018-10-29T00:00:00",
          "2018-11-05T00:00:00",
          "2018-11-12T00:00:00",
          "2018-11-19T00:00:00",
          "2018-11-26T00:00:00",
          "2018-12-03T00:00:00",
          "2018-12-10T00:00:00",
          "2018-12-17T00:00:00",
          "2018-12-24T00:00:00",
          "2018-12-31T00:00:00",
          "2019-01-07T00:00:00",
          "2019-01-14T00:00:00",
          "2019-01-21T00:00:00",
          "2019-01-28T00:00:00",
          "2019-02-04T00:00:00",
          "2019-02-11T00:00:00",
          "2019-02-18T00:00:00",
          "2019-02-25T00:00:00",
          "2019-03-04T00:00:00",
          "2019-03-11T00:00:00",
          "2019-03-18T00:00:00",
          "2019-03-25T00:00:00",
          "2019-04-01T00:00:00",
          "2019-04-08T00:00:00",
          "2019-04-15T00:00:00",
          "2019-04-22T00:00:00",
          "2019-04-29T00:00:00",
          "2019-05-06T00:00:00",
          "2019-05-13T00:00:00",
          "2019-05-20T00:00:00",
          "2019-05-27T00:00:00",
          "2019-06-03T00:00:00",
          "2019-06-10T00:00:00",
          "2019-06-17T00:00:00",
          "2019-06-24T00:00:00",
          "2019-07-01T00:00:00",
          "2019-07-08T00:00:00",
          "2019-07-15T00:00:00",
          "2019-07-22T00:00:00",
          "2019-07-29T00:00:00",
          "2019-08-05T00:00:00",
          "2019-08-12T00:00:00",
          "2019-08-19T00:00:00",
          "2019-08-26T00:00:00",
          "2019-09-02T00:00:00",
          "2019-09-09T00:00:00",
          "2019-09-16T00:00:00",
          "2019-09-23T00:00:00",
          "2019-09-30T00:00:00",
          "2019-10-07T00:00:00",
          "2019-10-14T00:00:00",
          "2019-10-21T00:00:00",
          "2019-10-28T00:00:00",
          "2019-11-04T00:00:00",
          "2019-11-11T00:00:00",
          "2019-11-18T00:00:00",
          "2019-11-25T00:00:00",
          "2019-12-02T00:00:00",
          "2019-12-09T00:00:00",
          "2019-12-16T00:00:00",
          "2019-12-23T00:00:00",
          "2019-12-30T00:00:00",
          "2020-01-06T00:00:00",
          "2020-01-13T00:00:00",
          "2020-01-20T00:00:00",
          "2020-01-27T00:00:00",
          "2020-02-03T00:00:00",
          "2020-02-10T00:00:00",
          "2020-02-17T00:00:00",
          "2020-02-24T00:00:00",
          "2020-03-02T00:00:00",
          "2020-03-09T00:00:00",
          "2020-03-16T00:00:00",
          "2020-03-23T00:00:00",
          "2020-03-30T00:00:00",
          "2020-04-06T00:00:00",
          "2020-04-13T00:00:00",
          "2020-04-20T00:00:00",
          "2020-04-27T00:00:00",
          "2020-05-04T00:00:00",
          "2020-05-11T00:00:00",
          "2020-05-18T00:00:00",
          "2020-05-25T00:00:00",
          "2020-06-01T00:00:00",
          "2020-06-08T00:00:00",
          "2020-06-15T00:00:00",
          "2020-06-22T00:00:00",
          "2020-06-29T00:00:00",
          "2020-07-06T00:00:00",
          "2020-07-13T00:00:00",
          "2020-07-20T00:00:00",
          "2020-07-27T00:00:00",
          "2020-08-03T00:00:00",
          "2020-08-10T00:00:00",
          "2020-08-17T00:00:00",
          "2020-08-24T00:00:00",
          "2020-08-31T00:00:00",
          "2020-09-07T00:00:00",
          "2020-09-14T00:00:00",
          "2020-09-21T00:00:00",
          "2020-09-28T00:00:00",
          "2020-10-05T00:00:00",
          "2020-10-12T00:00:00",
          "2020-10-19T00:00:00",
          "2020-10-26T00:00:00",
          "2020-11-02T00:00:00",
          "2020-11-09T00:00:00",
          "2020-11-16T00:00:00",
          "2020-11-23T00:00:00",
          "2020-11-30T00:00:00",
          "2020-12-07T00:00:00",
          "2020-12-14T00:00:00",
          "2020-12-21T00:00:00",
          "2020-12-28T00:00:00",
          "2021-01-04T00:00:00",
          "2021-01-11T00:00:00",
          "2021-01-18T00:00:00",
          "2021-01-25T00:00:00",
          "2021-02-01T00:00:00",
          "2021-02-08T00:00:00",
          "2021-02-15T00:00:00",
          "2021-02-22T00:00:00",
          "2021-03-01T00:00:00",
          "2021-03-08T00:00:00",
          "2021-03-15T00:00:00",
          "2021-03-22T00:00:00",
          "2021-03-29T00:00:00",
          "2021-04-05T00:00:00",
          "2021-04-12T00:00:00",
          "2021-04-19T00:00:00",
          "2021-04-26T00:00:00",
          "2021-05-03T00:00:00",
          "2021-05-10T00:00:00",
          "2021-05-17T00:00:00",
          "2021-05-24T00:00:00",
          "2021-05-31T00:00:00",
          "2021-06-07T00:00:00",
          "2021-06-14T00:00:00",
          "2021-06-21T00:00:00",
          "2021-06-28T00:00:00",
          "2021-07-05T00:00:00",
          "2021-07-12T00:00:00",
          "2021-07-19T00:00:00",
          "2021-07-26T00:00:00",
          "2021-08-02T00:00:00",
          "2021-08-09T00:00:00",
          "2021-08-16T00:00:00",
          "2021-08-23T00:00:00",
          "2021-08-30T00:00:00",
          "2021-09-06T00:00:00",
          "2021-09-13T00:00:00",
          "2021-09-20T00:00:00",
          "2021-09-27T00:00:00",
          "2021-10-04T00:00:00",
          "2021-10-11T00:00:00",
          "2021-10-18T00:00:00",
          "2021-10-25T00:00:00",
          "2021-11-01T00:00:00",
          "2021-11-08T00:00:00",
          "2021-11-15T00:00:00",
          "2021-11-22T00:00:00",
          "2021-11-29T00:00:00",
          "2021-12-06T00:00:00",
          "2021-12-13T00:00:00",
          "2021-12-20T00:00:00",
          "2021-12-27T00:00:00",
          "2022-01-03T00:00:00",
          "2022-01-10T00:00:00",
          "2022-01-17T00:00:00",
          "2022-01-24T00:00:00",
          "2022-01-31T00:00:00",
          "2022-02-07T00:00:00"
         ],
         "xaxis": "x",
         "y": [
          54.03,
          54.22,
          54.43,
          54.32,
          51.36,
          51.32,
          51.01,
          51.35,
          53.83,
          53.43,
          52.31,
          50.69,
          48.54,
          50.04,
          50.93,
          50.59,
          48.25,
          47.48,
          46.56,
          46.25,
          48.54,
          46.03,
          46.98,
          47.11,
          51.27,
          51,
          49.85,
          50.09,
          50.24,
          51.49,
          52.35,
          53.25,
          53.92,
          54.72,
          54.1,
          55.34,
          55.14,
          55.54,
          61.83,
          61.18,
          60.55,
          60.89,
          60.02,
          61.62,
          60.8,
          61.15,
          64.3,
          65.09,
          66.36,
          65.97,
          66.23,
          64.99,
          61.16,
          62.28,
          62.75,
          61.94,
          61.32,
          61.86,
          62.77,
          64.62,
          65.83,
          67.25,
          68.41,
          71.62,
          72.83,
          74.02,
          74.79,
          74.45,
          73.15,
          null,
          null,
          null,
          null,
          null,
          null,
          72.67,
          73.15,
          72.35,
          71.52,
          71.18,
          72.45,
          75.56,
          75.56,
          76.06,
          77.02,
          82.82,
          82.58,
          80.39,
          80.19,
          79.41,
          71.88,
          69.81,
          67.68,
          65.63,
          60.52,
          59.01,
          59.14,
          56.93,
          57.318,
          55.625,
          57.636,
          59.52,
          58.918,
          62.549,
          61.648,
          64.679,
          64.505,
          65.609,
          66.589,
          67.021,
          66.891,
          68.457,
          70.093,
          69.825,
          71.018,
          70.93,
          70.556,
          69.641,
          70.908,
          69.426,
          60.404,
          60.585,
          59.939,
          61.64,
          63.192,
          62.613,
          64.306,
          62.591,
          63.162,
          58.86,
          58.35,
          58.93,
          58.865,
          59.106,
          60.058,
          63.12,
          61.637,
          61.115,
          58.223,
          58.935,
          58.866,
          59.453,
          59.369,
          61.095,
          61.557,
          61.94,
          61.974,
          63.34,
          64.192,
          64.651,
          64.847,
          68.275,
          65.722,
          65.745,
          64.369,
          64.286,
          52.999,
          55.342,
          54.681,
          54.219,
          36.264,
          36.964,
          34.046,
          33.844,
          27.449,
          26.157,
          22.235,
          20.374,
          20.387,
          27.267,
          30.547,
          30.341,
          30.467,
          40.695,
          39.502,
          41.12,
          40.796,
          42.89,
          43.097,
          43.054,
          43.332,
          43.278,
          43.779,
          43.78,
          43.913,
          43.987,
          42.612,
          40.154,
          41.409,
          41.601,
          40.42,
          40.777,
          41.373,
          41.142,
          40.661,
          41.405,
          42.524,
          43.076,
          43.52,
          48.227,
          49.461,
          50.344,
          49.773,
          49.815,
          55.059,
          54.532,
          54.759,
          54.772,
          59.361,
          60.226,
          60.62,
          60.855,
          65.836,
          66.375,
          64.707,
          64.435,
          64.414,
          61.302,
          63.475,
          62.801,
          62.894,
          66.203,
          66.825,
          66.264,
          66.275,
          69.839,
          70.78,
          71.481,
          71.536,
          71.573,
          73.539,
          71.007,
          72.83,
          72.903,
          68.494,
          69.527,
          68.76,
          69.465,
          70.641,
          71.111,
          71.358,
          72.611,
          72.608,
          80.679,
          81.311,
          81.732,
          81.585,
          81.616,
          81.411,
          80.548,
          80.305,
          71.654,
          72.708,
          71.655,
          72.99,
          73.185,
          78.887,
          82.269,
          82.868,
          83.455,
          90.757,
          89.883
         ],
         "yaxis": "y"
        },
        {
         "hovertemplate": "variable=브랜트유종가<br>날짜=%{x}<br>value=%{y}<extra></extra>",
         "legendgroup": "브랜트유종가",
         "line": {
          "color": "#EF553B",
          "dash": "solid"
         },
         "marker": {
          "symbol": "circle"
         },
         "mode": "lines",
         "name": "브랜트유종가",
         "orientation": "v",
         "showlegend": true,
         "type": "scatter",
         "x": [
          "2017-02-06T00:00:00",
          "2017-02-13T00:00:00",
          "2017-02-20T00:00:00",
          "2017-02-27T00:00:00",
          "2017-03-06T00:00:00",
          "2017-03-13T00:00:00",
          "2017-03-20T00:00:00",
          "2017-03-27T00:00:00",
          "2017-04-03T00:00:00",
          "2017-04-10T00:00:00",
          "2017-04-17T00:00:00",
          "2017-04-24T00:00:00",
          "2017-05-01T00:00:00",
          "2017-05-08T00:00:00",
          "2017-05-15T00:00:00",
          "2017-05-22T00:00:00",
          "2017-05-29T00:00:00",
          "2017-06-05T00:00:00",
          "2017-06-12T00:00:00",
          "2017-06-19T00:00:00",
          "2017-06-26T00:00:00",
          "2017-07-03T00:00:00",
          "2017-07-10T00:00:00",
          "2017-07-17T00:00:00",
          "2017-07-24T00:00:00",
          "2017-07-31T00:00:00",
          "2017-08-07T00:00:00",
          "2017-08-14T00:00:00",
          "2017-08-21T00:00:00",
          "2017-08-28T00:00:00",
          "2017-09-04T00:00:00",
          "2017-09-11T00:00:00",
          "2017-09-18T00:00:00",
          "2017-09-25T00:00:00",
          "2017-10-02T00:00:00",
          "2017-10-09T00:00:00",
          "2017-10-16T00:00:00",
          "2017-10-23T00:00:00",
          "2017-10-30T00:00:00",
          "2017-11-06T00:00:00",
          "2017-11-13T00:00:00",
          "2017-11-20T00:00:00",
          "2017-11-27T00:00:00",
          "2017-12-04T00:00:00",
          "2017-12-11T00:00:00",
          "2017-12-18T00:00:00",
          "2017-12-25T00:00:00",
          "2018-01-01T00:00:00",
          "2018-01-08T00:00:00",
          "2018-01-15T00:00:00",
          "2018-01-22T00:00:00",
          "2018-01-29T00:00:00",
          "2018-02-05T00:00:00",
          "2018-02-12T00:00:00",
          "2018-02-19T00:00:00",
          "2018-02-26T00:00:00",
          "2018-03-05T00:00:00",
          "2018-03-12T00:00:00",
          "2018-03-19T00:00:00",
          "2018-03-26T00:00:00",
          "2018-04-02T00:00:00",
          "2018-04-09T00:00:00",
          "2018-04-16T00:00:00",
          "2018-04-23T00:00:00",
          "2018-04-30T00:00:00",
          "2018-05-07T00:00:00",
          "2018-05-14T00:00:00",
          "2018-05-21T00:00:00",
          "2018-05-28T00:00:00",
          "2018-06-04T00:00:00",
          "2018-06-11T00:00:00",
          "2018-06-18T00:00:00",
          "2018-06-25T00:00:00",
          "2018-07-02T00:00:00",
          "2018-07-09T00:00:00",
          "2018-07-16T00:00:00",
          "2018-07-23T00:00:00",
          "2018-07-30T00:00:00",
          "2018-08-06T00:00:00",
          "2018-08-13T00:00:00",
          "2018-08-20T00:00:00",
          "2018-08-27T00:00:00",
          "2018-09-03T00:00:00",
          "2018-09-10T00:00:00",
          "2018-09-17T00:00:00",
          "2018-09-24T00:00:00",
          "2018-10-01T00:00:00",
          "2018-10-08T00:00:00",
          "2018-10-15T00:00:00",
          "2018-10-22T00:00:00",
          "2018-10-29T00:00:00",
          "2018-11-05T00:00:00",
          "2018-11-12T00:00:00",
          "2018-11-19T00:00:00",
          "2018-11-26T00:00:00",
          "2018-12-03T00:00:00",
          "2018-12-10T00:00:00",
          "2018-12-17T00:00:00",
          "2018-12-24T00:00:00",
          "2018-12-31T00:00:00",
          "2019-01-07T00:00:00",
          "2019-01-14T00:00:00",
          "2019-01-21T00:00:00",
          "2019-01-28T00:00:00",
          "2019-02-04T00:00:00",
          "2019-02-11T00:00:00",
          "2019-02-18T00:00:00",
          "2019-02-25T00:00:00",
          "2019-03-04T00:00:00",
          "2019-03-11T00:00:00",
          "2019-03-18T00:00:00",
          "2019-03-25T00:00:00",
          "2019-04-01T00:00:00",
          "2019-04-08T00:00:00",
          "2019-04-15T00:00:00",
          "2019-04-22T00:00:00",
          "2019-04-29T00:00:00",
          "2019-05-06T00:00:00",
          "2019-05-13T00:00:00",
          "2019-05-20T00:00:00",
          "2019-05-27T00:00:00",
          "2019-06-03T00:00:00",
          "2019-06-10T00:00:00",
          "2019-06-17T00:00:00",
          "2019-06-24T00:00:00",
          "2019-07-01T00:00:00",
          "2019-07-08T00:00:00",
          "2019-07-15T00:00:00",
          "2019-07-22T00:00:00",
          "2019-07-29T00:00:00",
          "2019-08-05T00:00:00",
          "2019-08-12T00:00:00",
          "2019-08-19T00:00:00",
          "2019-08-26T00:00:00",
          "2019-09-02T00:00:00",
          "2019-09-09T00:00:00",
          "2019-09-16T00:00:00",
          "2019-09-23T00:00:00",
          "2019-09-30T00:00:00",
          "2019-10-07T00:00:00",
          "2019-10-14T00:00:00",
          "2019-10-21T00:00:00",
          "2019-10-28T00:00:00",
          "2019-11-04T00:00:00",
          "2019-11-11T00:00:00",
          "2019-11-18T00:00:00",
          "2019-11-25T00:00:00",
          "2019-12-02T00:00:00",
          "2019-12-09T00:00:00",
          "2019-12-16T00:00:00",
          "2019-12-23T00:00:00",
          "2019-12-30T00:00:00",
          "2020-01-06T00:00:00",
          "2020-01-13T00:00:00",
          "2020-01-20T00:00:00",
          "2020-01-27T00:00:00",
          "2020-02-03T00:00:00",
          "2020-02-10T00:00:00",
          "2020-02-17T00:00:00",
          "2020-02-24T00:00:00",
          "2020-03-02T00:00:00",
          "2020-03-09T00:00:00",
          "2020-03-16T00:00:00",
          "2020-03-23T00:00:00",
          "2020-03-30T00:00:00",
          "2020-04-06T00:00:00",
          "2020-04-13T00:00:00",
          "2020-04-20T00:00:00",
          "2020-04-27T00:00:00",
          "2020-05-04T00:00:00",
          "2020-05-11T00:00:00",
          "2020-05-18T00:00:00",
          "2020-05-25T00:00:00",
          "2020-06-01T00:00:00",
          "2020-06-08T00:00:00",
          "2020-06-15T00:00:00",
          "2020-06-22T00:00:00",
          "2020-06-29T00:00:00",
          "2020-07-06T00:00:00",
          "2020-07-13T00:00:00",
          "2020-07-20T00:00:00",
          "2020-07-27T00:00:00",
          "2020-08-03T00:00:00",
          "2020-08-10T00:00:00",
          "2020-08-17T00:00:00",
          "2020-08-24T00:00:00",
          "2020-08-31T00:00:00",
          "2020-09-07T00:00:00",
          "2020-09-14T00:00:00",
          "2020-09-21T00:00:00",
          "2020-09-28T00:00:00",
          "2020-10-05T00:00:00",
          "2020-10-12T00:00:00",
          "2020-10-19T00:00:00",
          "2020-10-26T00:00:00",
          "2020-11-02T00:00:00",
          "2020-11-09T00:00:00",
          "2020-11-16T00:00:00",
          "2020-11-23T00:00:00",
          "2020-11-30T00:00:00",
          "2020-12-07T00:00:00",
          "2020-12-14T00:00:00",
          "2020-12-21T00:00:00",
          "2020-12-28T00:00:00",
          "2021-01-04T00:00:00",
          "2021-01-11T00:00:00",
          "2021-01-18T00:00:00",
          "2021-01-25T00:00:00",
          "2021-02-01T00:00:00",
          "2021-02-08T00:00:00",
          "2021-02-15T00:00:00",
          "2021-02-22T00:00:00",
          "2021-03-01T00:00:00",
          "2021-03-08T00:00:00",
          "2021-03-15T00:00:00",
          "2021-03-22T00:00:00",
          "2021-03-29T00:00:00",
          "2021-04-05T00:00:00",
          "2021-04-12T00:00:00",
          "2021-04-19T00:00:00",
          "2021-04-26T00:00:00",
          "2021-05-03T00:00:00",
          "2021-05-10T00:00:00",
          "2021-05-17T00:00:00",
          "2021-05-24T00:00:00",
          "2021-05-31T00:00:00",
          "2021-06-07T00:00:00",
          "2021-06-14T00:00:00",
          "2021-06-21T00:00:00",
          "2021-06-28T00:00:00",
          "2021-07-05T00:00:00",
          "2021-07-12T00:00:00",
          "2021-07-19T00:00:00",
          "2021-07-26T00:00:00",
          "2021-08-02T00:00:00",
          "2021-08-09T00:00:00",
          "2021-08-16T00:00:00",
          "2021-08-23T00:00:00",
          "2021-08-30T00:00:00",
          "2021-09-06T00:00:00",
          "2021-09-13T00:00:00",
          "2021-09-20T00:00:00",
          "2021-09-27T00:00:00",
          "2021-10-04T00:00:00",
          "2021-10-11T00:00:00",
          "2021-10-18T00:00:00",
          "2021-10-25T00:00:00",
          "2021-11-01T00:00:00",
          "2021-11-08T00:00:00",
          "2021-11-15T00:00:00",
          "2021-11-22T00:00:00",
          "2021-11-29T00:00:00",
          "2021-12-06T00:00:00",
          "2021-12-13T00:00:00",
          "2021-12-20T00:00:00",
          "2021-12-27T00:00:00",
          "2022-01-03T00:00:00",
          "2022-01-10T00:00:00",
          "2022-01-17T00:00:00",
          "2022-01-24T00:00:00",
          "2022-01-31T00:00:00",
          "2022-02-07T00:00:00"
         ],
         "xaxis": "x",
         "y": [
          55.59,
          56.18,
          55.93,
          56.01,
          51.35,
          51.62,
          50.75,
          53.12,
          55.98,
          55.36,
          51.6,
          51.52,
          49.34,
          51.82,
          53.87,
          52.29,
          49.47,
          48.29,
          46.91,
          45.83,
          49.68,
          46.88,
          48.42,
          48.6,
          52.72,
          52.37,
          50.73,
          51.66,
          51.89,
          52.34,
          53.84,
          55.48,
          59.02,
          56.12,
          55.79,
          57.82,
          57.37,
          60.9,
          64.27,
          63.16,
          62.22,
          63.84,
          62.45,
          64.69,
          63.41,
          65.25,
          66.87,
          67.78,
          70.26,
          69.03,
          69.46,
          67.62,
          62.59,
          65.67,
          67.5,
          65.54,
          64.95,
          66.05,
          70.12,
          67.64,
          68.65,
          71.42,
          74.71,
          74.69,
          76.17,
          78.23,
          79.22,
          75.3,
          75.29,
          76.46,
          75.34,
          74.73,
          77.3,
          78.07,
          71.84,
          73.06,
          74.97,
          73.75,
          72.61,
          72.21,
          76.21,
          78.15,
          77.37,
          78.05,
          81.2,
          84.98,
          83.91,
          80.78,
          79.83,
          77.34,
          73.17,
          70.12,
          66.79,
          60.48,
          61.69,
          59.97,
          59.61,
          50.47,
          53.8,
          57.33,
          58.99,
          62.74,
          59.93,
          62.51,
          61.51,
          66.5,
          64.76,
          65.67,
          66.58,
          67.54,
          67.21,
          69.01,
          71.1,
          71.18,
          74.04,
          72.04,
          71.24,
          70.23,
          71.97,
          70.11,
          61.28,
          62.29,
          60.94,
          64.86,
          65.06,
          64.11,
          66.48,
          63.26,
          63.71,
          59.81,
          58.57,
          59.74,
          58.7,
          58.66,
          62.59,
          69.02,
          64.77,
          60.78,
          58.35,
          59.35,
          58.96,
          61.57,
          62.13,
          62.18,
          62.44,
          63.65,
          60.92,
          64.25,
          65.34,
          66.39,
          68.44,
          68.91,
          64.2,
          65.2,
          59.32,
          54.45,
          53.27,
          57.67,
          56.3,
          51.9,
          34.36,
          30.05,
          27.03,
          22.76,
          33.05,
          31.74,
          25.57,
          19.99,
          27.2,
          29.63,
          34.81,
          35.53,
          38.32,
          40.8,
          39.72,
          43.08,
          41.71,
          43.1,
          42.72,
          43.28,
          43.41,
          44.15,
          44.99,
          45.37,
          45.13,
          45.28,
          42.01,
          39.61,
          41.44,
          42.43,
          41.29,
          41.72,
          42.62,
          40.46,
          38.97,
          42.4,
          43.82,
          46.06,
          47.59,
          48.79,
          50.29,
          50.91,
          50.86,
          51.09,
          55.66,
          54.75,
          55.88,
          56.35,
          60.56,
          63.3,
          65.24,
          63.69,
          68.24,
          68.88,
          64.62,
          64.98,
          62.15,
          63.28,
          67.05,
          65.65,
          67.56,
          68.32,
          69.46,
          68.46,
          69.32,
          71.49,
          72.86,
          74.9,
          74.68,
          77.16,
          75.16,
          68.62,
          74.5,
          72.89,
          69.04,
          69.51,
          68.75,
          73.41,
          72.22,
          73.51,
          73.92,
          79.53,
          81.26,
          83.65,
          84.33,
          85.99,
          84.71,
          83.43,
          82.05,
          79.7,
          73.44,
          73.08,
          74.39,
          71.52,
          78.6,
          78.98,
          80.87,
          86.48,
          86.27,
          91.21,
          92.69,
          91.55
         ],
         "yaxis": "y"
        }
       ],
       "layout": {
        "legend": {
         "title": {
          "text": "variable"
         },
         "tracegroupgap": 0
        },
        "margin": {
         "t": 60
        },
        "template": {
         "data": {
          "bar": [
           {
            "error_x": {
             "color": "#2a3f5f"
            },
            "error_y": {
             "color": "#2a3f5f"
            },
            "marker": {
             "line": {
              "color": "#E5ECF6",
              "width": 0.5
             },
             "pattern": {
              "fillmode": "overlay",
              "size": 10,
              "solidity": 0.2
             }
            },
            "type": "bar"
           }
          ],
          "barpolar": [
           {
            "marker": {
             "line": {
              "color": "#E5ECF6",
              "width": 0.5
             },
             "pattern": {
              "fillmode": "overlay",
              "size": 10,
              "solidity": 0.2
             }
            },
            "type": "barpolar"
           }
          ],
          "carpet": [
           {
            "aaxis": {
             "endlinecolor": "#2a3f5f",
             "gridcolor": "white",
             "linecolor": "white",
             "minorgridcolor": "white",
             "startlinecolor": "#2a3f5f"
            },
            "baxis": {
             "endlinecolor": "#2a3f5f",
             "gridcolor": "white",
             "linecolor": "white",
             "minorgridcolor": "white",
             "startlinecolor": "#2a3f5f"
            },
            "type": "carpet"
           }
          ],
          "choropleth": [
           {
            "colorbar": {
             "outlinewidth": 0,
             "ticks": ""
            },
            "type": "choropleth"
           }
          ],
          "contour": [
           {
            "colorbar": {
             "outlinewidth": 0,
             "ticks": ""
            },
            "colorscale": [
             [
              0,
              "#0d0887"
             ],
             [
              0.1111111111111111,
              "#46039f"
             ],
             [
              0.2222222222222222,
              "#7201a8"
             ],
             [
              0.3333333333333333,
              "#9c179e"
             ],
             [
              0.4444444444444444,
              "#bd3786"
             ],
             [
              0.5555555555555556,
              "#d8576b"
             ],
             [
              0.6666666666666666,
              "#ed7953"
             ],
             [
              0.7777777777777778,
              "#fb9f3a"
             ],
             [
              0.8888888888888888,
              "#fdca26"
             ],
             [
              1,
              "#f0f921"
             ]
            ],
            "type": "contour"
           }
          ],
          "contourcarpet": [
           {
            "colorbar": {
             "outlinewidth": 0,
             "ticks": ""
            },
            "type": "contourcarpet"
           }
          ],
          "heatmap": [
           {
            "colorbar": {
             "outlinewidth": 0,
             "ticks": ""
            },
            "colorscale": [
             [
              0,
              "#0d0887"
             ],
             [
              0.1111111111111111,
              "#46039f"
             ],
             [
              0.2222222222222222,
              "#7201a8"
             ],
             [
              0.3333333333333333,
              "#9c179e"
             ],
             [
              0.4444444444444444,
              "#bd3786"
             ],
             [
              0.5555555555555556,
              "#d8576b"
             ],
             [
              0.6666666666666666,
              "#ed7953"
             ],
             [
              0.7777777777777778,
              "#fb9f3a"
             ],
             [
              0.8888888888888888,
              "#fdca26"
             ],
             [
              1,
              "#f0f921"
             ]
            ],
            "type": "heatmap"
           }
          ],
          "heatmapgl": [
           {
            "colorbar": {
             "outlinewidth": 0,
             "ticks": ""
            },
            "colorscale": [
             [
              0,
              "#0d0887"
             ],
             [
              0.1111111111111111,
              "#46039f"
             ],
             [
              0.2222222222222222,
              "#7201a8"
             ],
             [
              0.3333333333333333,
              "#9c179e"
             ],
             [
              0.4444444444444444,
              "#bd3786"
             ],
             [
              0.5555555555555556,
              "#d8576b"
             ],
             [
              0.6666666666666666,
              "#ed7953"
             ],
             [
              0.7777777777777778,
              "#fb9f3a"
             ],
             [
              0.8888888888888888,
              "#fdca26"
             ],
             [
              1,
              "#f0f921"
             ]
            ],
            "type": "heatmapgl"
           }
          ],
          "histogram": [
           {
            "marker": {
             "pattern": {
              "fillmode": "overlay",
              "size": 10,
              "solidity": 0.2
             }
            },
            "type": "histogram"
           }
          ],
          "histogram2d": [
           {
            "colorbar": {
             "outlinewidth": 0,
             "ticks": ""
            },
            "colorscale": [
             [
              0,
              "#0d0887"
             ],
             [
              0.1111111111111111,
              "#46039f"
             ],
             [
              0.2222222222222222,
              "#7201a8"
             ],
             [
              0.3333333333333333,
              "#9c179e"
             ],
             [
              0.4444444444444444,
              "#bd3786"
             ],
             [
              0.5555555555555556,
              "#d8576b"
             ],
             [
              0.6666666666666666,
              "#ed7953"
             ],
             [
              0.7777777777777778,
              "#fb9f3a"
             ],
             [
              0.8888888888888888,
              "#fdca26"
             ],
             [
              1,
              "#f0f921"
             ]
            ],
            "type": "histogram2d"
           }
          ],
          "histogram2dcontour": [
           {
            "colorbar": {
             "outlinewidth": 0,
             "ticks": ""
            },
            "colorscale": [
             [
              0,
              "#0d0887"
             ],
             [
              0.1111111111111111,
              "#46039f"
             ],
             [
              0.2222222222222222,
              "#7201a8"
             ],
             [
              0.3333333333333333,
              "#9c179e"
             ],
             [
              0.4444444444444444,
              "#bd3786"
             ],
             [
              0.5555555555555556,
              "#d8576b"
             ],
             [
              0.6666666666666666,
              "#ed7953"
             ],
             [
              0.7777777777777778,
              "#fb9f3a"
             ],
             [
              0.8888888888888888,
              "#fdca26"
             ],
             [
              1,
              "#f0f921"
             ]
            ],
            "type": "histogram2dcontour"
           }
          ],
          "mesh3d": [
           {
            "colorbar": {
             "outlinewidth": 0,
             "ticks": ""
            },
            "type": "mesh3d"
           }
          ],
          "parcoords": [
           {
            "line": {
             "colorbar": {
              "outlinewidth": 0,
              "ticks": ""
             }
            },
            "type": "parcoords"
           }
          ],
          "pie": [
           {
            "automargin": true,
            "type": "pie"
           }
          ],
          "scatter": [
           {
            "marker": {
             "colorbar": {
              "outlinewidth": 0,
              "ticks": ""
             }
            },
            "type": "scatter"
           }
          ],
          "scatter3d": [
           {
            "line": {
             "colorbar": {
              "outlinewidth": 0,
              "ticks": ""
             }
            },
            "marker": {
             "colorbar": {
              "outlinewidth": 0,
              "ticks": ""
             }
            },
            "type": "scatter3d"
           }
          ],
          "scattercarpet": [
           {
            "marker": {
             "colorbar": {
              "outlinewidth": 0,
              "ticks": ""
             }
            },
            "type": "scattercarpet"
           }
          ],
          "scattergeo": [
           {
            "marker": {
             "colorbar": {
              "outlinewidth": 0,
              "ticks": ""
             }
            },
            "type": "scattergeo"
           }
          ],
          "scattergl": [
           {
            "marker": {
             "colorbar": {
              "outlinewidth": 0,
              "ticks": ""
             }
            },
            "type": "scattergl"
           }
          ],
          "scattermapbox": [
           {
            "marker": {
             "colorbar": {
              "outlinewidth": 0,
              "ticks": ""
             }
            },
            "type": "scattermapbox"
           }
          ],
          "scatterpolar": [
           {
            "marker": {
             "colorbar": {
              "outlinewidth": 0,
              "ticks": ""
             }
            },
            "type": "scatterpolar"
           }
          ],
          "scatterpolargl": [
           {
            "marker": {
             "colorbar": {
              "outlinewidth": 0,
              "ticks": ""
             }
            },
            "type": "scatterpolargl"
           }
          ],
          "scatterternary": [
           {
            "marker": {
             "colorbar": {
              "outlinewidth": 0,
              "ticks": ""
             }
            },
            "type": "scatterternary"
           }
          ],
          "surface": [
           {
            "colorbar": {
             "outlinewidth": 0,
             "ticks": ""
            },
            "colorscale": [
             [
              0,
              "#0d0887"
             ],
             [
              0.1111111111111111,
              "#46039f"
             ],
             [
              0.2222222222222222,
              "#7201a8"
             ],
             [
              0.3333333333333333,
              "#9c179e"
             ],
             [
              0.4444444444444444,
              "#bd3786"
             ],
             [
              0.5555555555555556,
              "#d8576b"
             ],
             [
              0.6666666666666666,
              "#ed7953"
             ],
             [
              0.7777777777777778,
              "#fb9f3a"
             ],
             [
              0.8888888888888888,
              "#fdca26"
             ],
             [
              1,
              "#f0f921"
             ]
            ],
            "type": "surface"
           }
          ],
          "table": [
           {
            "cells": {
             "fill": {
              "color": "#EBF0F8"
             },
             "line": {
              "color": "white"
             }
            },
            "header": {
             "fill": {
              "color": "#C8D4E3"
             },
             "line": {
              "color": "white"
             }
            },
            "type": "table"
           }
          ]
         },
         "layout": {
          "annotationdefaults": {
           "arrowcolor": "#2a3f5f",
           "arrowhead": 0,
           "arrowwidth": 1
          },
          "autotypenumbers": "strict",
          "coloraxis": {
           "colorbar": {
            "outlinewidth": 0,
            "ticks": ""
           }
          },
          "colorscale": {
           "diverging": [
            [
             0,
             "#8e0152"
            ],
            [
             0.1,
             "#c51b7d"
            ],
            [
             0.2,
             "#de77ae"
            ],
            [
             0.3,
             "#f1b6da"
            ],
            [
             0.4,
             "#fde0ef"
            ],
            [
             0.5,
             "#f7f7f7"
            ],
            [
             0.6,
             "#e6f5d0"
            ],
            [
             0.7,
             "#b8e186"
            ],
            [
             0.8,
             "#7fbc41"
            ],
            [
             0.9,
             "#4d9221"
            ],
            [
             1,
             "#276419"
            ]
           ],
           "sequential": [
            [
             0,
             "#0d0887"
            ],
            [
             0.1111111111111111,
             "#46039f"
            ],
            [
             0.2222222222222222,
             "#7201a8"
            ],
            [
             0.3333333333333333,
             "#9c179e"
            ],
            [
             0.4444444444444444,
             "#bd3786"
            ],
            [
             0.5555555555555556,
             "#d8576b"
            ],
            [
             0.6666666666666666,
             "#ed7953"
            ],
            [
             0.7777777777777778,
             "#fb9f3a"
            ],
            [
             0.8888888888888888,
             "#fdca26"
            ],
            [
             1,
             "#f0f921"
            ]
           ],
           "sequentialminus": [
            [
             0,
             "#0d0887"
            ],
            [
             0.1111111111111111,
             "#46039f"
            ],
            [
             0.2222222222222222,
             "#7201a8"
            ],
            [
             0.3333333333333333,
             "#9c179e"
            ],
            [
             0.4444444444444444,
             "#bd3786"
            ],
            [
             0.5555555555555556,
             "#d8576b"
            ],
            [
             0.6666666666666666,
             "#ed7953"
            ],
            [
             0.7777777777777778,
             "#fb9f3a"
            ],
            [
             0.8888888888888888,
             "#fdca26"
            ],
            [
             1,
             "#f0f921"
            ]
           ]
          },
          "colorway": [
           "#636efa",
           "#EF553B",
           "#00cc96",
           "#ab63fa",
           "#FFA15A",
           "#19d3f3",
           "#FF6692",
           "#B6E880",
           "#FF97FF",
           "#FECB52"
          ],
          "font": {
           "color": "#2a3f5f"
          },
          "geo": {
           "bgcolor": "white",
           "lakecolor": "white",
           "landcolor": "#E5ECF6",
           "showlakes": true,
           "showland": true,
           "subunitcolor": "white"
          },
          "hoverlabel": {
           "align": "left"
          },
          "hovermode": "closest",
          "mapbox": {
           "style": "light"
          },
          "paper_bgcolor": "white",
          "plot_bgcolor": "#E5ECF6",
          "polar": {
           "angularaxis": {
            "gridcolor": "white",
            "linecolor": "white",
            "ticks": ""
           },
           "bgcolor": "#E5ECF6",
           "radialaxis": {
            "gridcolor": "white",
            "linecolor": "white",
            "ticks": ""
           }
          },
          "scene": {
           "xaxis": {
            "backgroundcolor": "#E5ECF6",
            "gridcolor": "white",
            "gridwidth": 2,
            "linecolor": "white",
            "showbackground": true,
            "ticks": "",
            "zerolinecolor": "white"
           },
           "yaxis": {
            "backgroundcolor": "#E5ECF6",
            "gridcolor": "white",
            "gridwidth": 2,
            "linecolor": "white",
            "showbackground": true,
            "ticks": "",
            "zerolinecolor": "white"
           },
           "zaxis": {
            "backgroundcolor": "#E5ECF6",
            "gridcolor": "white",
            "gridwidth": 2,
            "linecolor": "white",
            "showbackground": true,
            "ticks": "",
            "zerolinecolor": "white"
           }
          },
          "shapedefaults": {
           "line": {
            "color": "#2a3f5f"
           }
          },
          "ternary": {
           "aaxis": {
            "gridcolor": "white",
            "linecolor": "white",
            "ticks": ""
           },
           "baxis": {
            "gridcolor": "white",
            "linecolor": "white",
            "ticks": ""
           },
           "bgcolor": "#E5ECF6",
           "caxis": {
            "gridcolor": "white",
            "linecolor": "white",
            "ticks": ""
           }
          },
          "title": {
           "x": 0.05
          },
          "xaxis": {
           "automargin": true,
           "gridcolor": "white",
           "linecolor": "white",
           "ticks": "",
           "title": {
            "standoff": 15
           },
           "zerolinecolor": "white",
           "zerolinewidth": 2
          },
          "yaxis": {
           "automargin": true,
           "gridcolor": "white",
           "linecolor": "white",
           "ticks": "",
           "title": {
            "standoff": 15
           },
           "zerolinecolor": "white",
           "zerolinewidth": 2
          }
         }
        },
        "xaxis": {
         "anchor": "y",
         "domain": [
          0,
          1
         ],
         "title": {
          "text": "날짜"
         }
        },
        "yaxis": {
         "anchor": "x",
         "domain": [
          0,
          1
         ],
         "title": {
          "text": "value"
         }
        }
       }
      },
      "text/html": [
       "<div>                            <div id=\"4d6d9c32-5135-4e3e-a117-8a37321f11da\" class=\"plotly-graph-div\" style=\"height:525px; width:100%;\"></div>            <script type=\"text/javascript\">                require([\"plotly\"], function(Plotly) {                    window.PLOTLYENV=window.PLOTLYENV || {};                                    if (document.getElementById(\"4d6d9c32-5135-4e3e-a117-8a37321f11da\")) {                    Plotly.newPlot(                        \"4d6d9c32-5135-4e3e-a117-8a37321f11da\",                        [{\"hovertemplate\":\"variable=\\ub450\\ubc14\\uc774\\uc720(\\uc120\\ubb3c)\\uc885\\uac00<br>\\ub0a0\\uc9dc=%{x}<br>value=%{y}<extra></extra>\",\"legendgroup\":\"\\ub450\\ubc14\\uc774\\uc720(\\uc120\\ubb3c)\\uc885\\uac00\",\"line\":{\"color\":\"#636efa\",\"dash\":\"solid\"},\"marker\":{\"symbol\":\"circle\"},\"mode\":\"lines\",\"name\":\"\\ub450\\ubc14\\uc774\\uc720(\\uc120\\ubb3c)\\uc885\\uac00\",\"orientation\":\"v\",\"showlegend\":true,\"x\":[\"2017-02-06T00:00:00\",\"2017-02-13T00:00:00\",\"2017-02-20T00:00:00\",\"2017-02-27T00:00:00\",\"2017-03-06T00:00:00\",\"2017-03-13T00:00:00\",\"2017-03-20T00:00:00\",\"2017-03-27T00:00:00\",\"2017-04-03T00:00:00\",\"2017-04-10T00:00:00\",\"2017-04-17T00:00:00\",\"2017-04-24T00:00:00\",\"2017-05-01T00:00:00\",\"2017-05-08T00:00:00\",\"2017-05-15T00:00:00\",\"2017-05-22T00:00:00\",\"2017-05-29T00:00:00\",\"2017-06-05T00:00:00\",\"2017-06-12T00:00:00\",\"2017-06-19T00:00:00\",\"2017-06-26T00:00:00\",\"2017-07-03T00:00:00\",\"2017-07-10T00:00:00\",\"2017-07-17T00:00:00\",\"2017-07-24T00:00:00\",\"2017-07-31T00:00:00\",\"2017-08-07T00:00:00\",\"2017-08-14T00:00:00\",\"2017-08-21T00:00:00\",\"2017-08-28T00:00:00\",\"2017-09-04T00:00:00\",\"2017-09-11T00:00:00\",\"2017-09-18T00:00:00\",\"2017-09-25T00:00:00\",\"2017-10-02T00:00:00\",\"2017-10-09T00:00:00\",\"2017-10-16T00:00:00\",\"2017-10-23T00:00:00\",\"2017-10-30T00:00:00\",\"2017-11-06T00:00:00\",\"2017-11-13T00:00:00\",\"2017-11-20T00:00:00\",\"2017-11-27T00:00:00\",\"2017-12-04T00:00:00\",\"2017-12-11T00:00:00\",\"2017-12-18T00:00:00\",\"2017-12-25T00:00:00\",\"2018-01-01T00:00:00\",\"2018-01-08T00:00:00\",\"2018-01-15T00:00:00\",\"2018-01-22T00:00:00\",\"2018-01-29T00:00:00\",\"2018-02-05T00:00:00\",\"2018-02-12T00:00:00\",\"2018-02-19T00:00:00\",\"2018-02-26T00:00:00\",\"2018-03-05T00:00:00\",\"2018-03-12T00:00:00\",\"2018-03-19T00:00:00\",\"2018-03-26T00:00:00\",\"2018-04-02T00:00:00\",\"2018-04-09T00:00:00\",\"2018-04-16T00:00:00\",\"2018-04-23T00:00:00\",\"2018-04-30T00:00:00\",\"2018-05-07T00:00:00\",\"2018-05-14T00:00:00\",\"2018-05-21T00:00:00\",\"2018-05-28T00:00:00\",\"2018-06-04T00:00:00\",\"2018-06-11T00:00:00\",\"2018-06-18T00:00:00\",\"2018-06-25T00:00:00\",\"2018-07-02T00:00:00\",\"2018-07-09T00:00:00\",\"2018-07-16T00:00:00\",\"2018-07-23T00:00:00\",\"2018-07-30T00:00:00\",\"2018-08-06T00:00:00\",\"2018-08-13T00:00:00\",\"2018-08-20T00:00:00\",\"2018-08-27T00:00:00\",\"2018-09-03T00:00:00\",\"2018-09-10T00:00:00\",\"2018-09-17T00:00:00\",\"2018-09-24T00:00:00\",\"2018-10-01T00:00:00\",\"2018-10-08T00:00:00\",\"2018-10-15T00:00:00\",\"2018-10-22T00:00:00\",\"2018-10-29T00:00:00\",\"2018-11-05T00:00:00\",\"2018-11-12T00:00:00\",\"2018-11-19T00:00:00\",\"2018-11-26T00:00:00\",\"2018-12-03T00:00:00\",\"2018-12-10T00:00:00\",\"2018-12-17T00:00:00\",\"2018-12-24T00:00:00\",\"2018-12-31T00:00:00\",\"2019-01-07T00:00:00\",\"2019-01-14T00:00:00\",\"2019-01-21T00:00:00\",\"2019-01-28T00:00:00\",\"2019-02-04T00:00:00\",\"2019-02-11T00:00:00\",\"2019-02-18T00:00:00\",\"2019-02-25T00:00:00\",\"2019-03-04T00:00:00\",\"2019-03-11T00:00:00\",\"2019-03-18T00:00:00\",\"2019-03-25T00:00:00\",\"2019-04-01T00:00:00\",\"2019-04-08T00:00:00\",\"2019-04-15T00:00:00\",\"2019-04-22T00:00:00\",\"2019-04-29T00:00:00\",\"2019-05-06T00:00:00\",\"2019-05-13T00:00:00\",\"2019-05-20T00:00:00\",\"2019-05-27T00:00:00\",\"2019-06-03T00:00:00\",\"2019-06-10T00:00:00\",\"2019-06-17T00:00:00\",\"2019-06-24T00:00:00\",\"2019-07-01T00:00:00\",\"2019-07-08T00:00:00\",\"2019-07-15T00:00:00\",\"2019-07-22T00:00:00\",\"2019-07-29T00:00:00\",\"2019-08-05T00:00:00\",\"2019-08-12T00:00:00\",\"2019-08-19T00:00:00\",\"2019-08-26T00:00:00\",\"2019-09-02T00:00:00\",\"2019-09-09T00:00:00\",\"2019-09-16T00:00:00\",\"2019-09-23T00:00:00\",\"2019-09-30T00:00:00\",\"2019-10-07T00:00:00\",\"2019-10-14T00:00:00\",\"2019-10-21T00:00:00\",\"2019-10-28T00:00:00\",\"2019-11-04T00:00:00\",\"2019-11-11T00:00:00\",\"2019-11-18T00:00:00\",\"2019-11-25T00:00:00\",\"2019-12-02T00:00:00\",\"2019-12-09T00:00:00\",\"2019-12-16T00:00:00\",\"2019-12-23T00:00:00\",\"2019-12-30T00:00:00\",\"2020-01-06T00:00:00\",\"2020-01-13T00:00:00\",\"2020-01-20T00:00:00\",\"2020-01-27T00:00:00\",\"2020-02-03T00:00:00\",\"2020-02-10T00:00:00\",\"2020-02-17T00:00:00\",\"2020-02-24T00:00:00\",\"2020-03-02T00:00:00\",\"2020-03-09T00:00:00\",\"2020-03-16T00:00:00\",\"2020-03-23T00:00:00\",\"2020-03-30T00:00:00\",\"2020-04-06T00:00:00\",\"2020-04-13T00:00:00\",\"2020-04-20T00:00:00\",\"2020-04-27T00:00:00\",\"2020-05-04T00:00:00\",\"2020-05-11T00:00:00\",\"2020-05-18T00:00:00\",\"2020-05-25T00:00:00\",\"2020-06-01T00:00:00\",\"2020-06-08T00:00:00\",\"2020-06-15T00:00:00\",\"2020-06-22T00:00:00\",\"2020-06-29T00:00:00\",\"2020-07-06T00:00:00\",\"2020-07-13T00:00:00\",\"2020-07-20T00:00:00\",\"2020-07-27T00:00:00\",\"2020-08-03T00:00:00\",\"2020-08-10T00:00:00\",\"2020-08-17T00:00:00\",\"2020-08-24T00:00:00\",\"2020-08-31T00:00:00\",\"2020-09-07T00:00:00\",\"2020-09-14T00:00:00\",\"2020-09-21T00:00:00\",\"2020-09-28T00:00:00\",\"2020-10-05T00:00:00\",\"2020-10-12T00:00:00\",\"2020-10-19T00:00:00\",\"2020-10-26T00:00:00\",\"2020-11-02T00:00:00\",\"2020-11-09T00:00:00\",\"2020-11-16T00:00:00\",\"2020-11-23T00:00:00\",\"2020-11-30T00:00:00\",\"2020-12-07T00:00:00\",\"2020-12-14T00:00:00\",\"2020-12-21T00:00:00\",\"2020-12-28T00:00:00\",\"2021-01-04T00:00:00\",\"2021-01-11T00:00:00\",\"2021-01-18T00:00:00\",\"2021-01-25T00:00:00\",\"2021-02-01T00:00:00\",\"2021-02-08T00:00:00\",\"2021-02-15T00:00:00\",\"2021-02-22T00:00:00\",\"2021-03-01T00:00:00\",\"2021-03-08T00:00:00\",\"2021-03-15T00:00:00\",\"2021-03-22T00:00:00\",\"2021-03-29T00:00:00\",\"2021-04-05T00:00:00\",\"2021-04-12T00:00:00\",\"2021-04-19T00:00:00\",\"2021-04-26T00:00:00\",\"2021-05-03T00:00:00\",\"2021-05-10T00:00:00\",\"2021-05-17T00:00:00\",\"2021-05-24T00:00:00\",\"2021-05-31T00:00:00\",\"2021-06-07T00:00:00\",\"2021-06-14T00:00:00\",\"2021-06-21T00:00:00\",\"2021-06-28T00:00:00\",\"2021-07-05T00:00:00\",\"2021-07-12T00:00:00\",\"2021-07-19T00:00:00\",\"2021-07-26T00:00:00\",\"2021-08-02T00:00:00\",\"2021-08-09T00:00:00\",\"2021-08-16T00:00:00\",\"2021-08-23T00:00:00\",\"2021-08-30T00:00:00\",\"2021-09-06T00:00:00\",\"2021-09-13T00:00:00\",\"2021-09-20T00:00:00\",\"2021-09-27T00:00:00\",\"2021-10-04T00:00:00\",\"2021-10-11T00:00:00\",\"2021-10-18T00:00:00\",\"2021-10-25T00:00:00\",\"2021-11-01T00:00:00\",\"2021-11-08T00:00:00\",\"2021-11-15T00:00:00\",\"2021-11-22T00:00:00\",\"2021-11-29T00:00:00\",\"2021-12-06T00:00:00\",\"2021-12-13T00:00:00\",\"2021-12-20T00:00:00\",\"2021-12-27T00:00:00\",\"2022-01-03T00:00:00\",\"2022-01-10T00:00:00\",\"2022-01-17T00:00:00\",\"2022-01-24T00:00:00\",\"2022-01-31T00:00:00\",\"2022-02-07T00:00:00\"],\"xaxis\":\"x\",\"y\":[54.03,54.22,54.43,54.32,51.36,51.32,51.01,51.35,53.83,53.43,52.31,50.69,48.54,50.04,50.93,50.59,48.25,47.48,46.56,46.25,48.54,46.03,46.98,47.11,51.27,51.0,49.85,50.09,50.24,51.49,52.35,53.25,53.92,54.72,54.1,55.34,55.14,55.54,61.83,61.18,60.55,60.89,60.02,61.62,60.8,61.15,64.3,65.09,66.36,65.97,66.23,64.99,61.16,62.28,62.75,61.94,61.32,61.86,62.77,64.62,65.83,67.25,68.41,71.62,72.83,74.02,74.79,74.45,73.15,null,null,null,null,null,null,72.67,73.15,72.35,71.52,71.18,72.45,75.56,75.56,76.06,77.02,82.82,82.58,80.39,80.19,79.41,71.88,69.81,67.68,65.63,60.52,59.01,59.14,56.93,57.318,55.625,57.636,59.52,58.918,62.549,61.648,64.679,64.505,65.609,66.589,67.021,66.891,68.457,70.093,69.825,71.018,70.93,70.556,69.641,70.908,69.426,60.404,60.585,59.939,61.64,63.192,62.613,64.306,62.591,63.162,58.86,58.35,58.93,58.865,59.106,60.058,63.12,61.637,61.115,58.223,58.935,58.866,59.453,59.369,61.095,61.557,61.94,61.974,63.34,64.192,64.651,64.847,68.275,65.722,65.745,64.369,64.286,52.999,55.342,54.681,54.219,36.264,36.964,34.046,33.844,27.449,26.157,22.235,20.374,20.387,27.267,30.547,30.341,30.467,40.695,39.502,41.12,40.796,42.89,43.097,43.054,43.332,43.278,43.779,43.78,43.913,43.987,42.612,40.154,41.409,41.601,40.42,40.777,41.373,41.142,40.661,41.405,42.524,43.076,43.52,48.227,49.461,50.344,49.773,49.815,55.059,54.532,54.759,54.772,59.361,60.226,60.62,60.855,65.836,66.375,64.707,64.435,64.414,61.302,63.475,62.801,62.894,66.203,66.825,66.264,66.275,69.839,70.78,71.481,71.536,71.573,73.539,71.007,72.83,72.903,68.494,69.527,68.76,69.465,70.641,71.111,71.358,72.611,72.608,80.679,81.311,81.732,81.585,81.616,81.411,80.548,80.305,71.654,72.708,71.655,72.99,73.185,78.887,82.269,82.868,83.455,90.757,89.883],\"yaxis\":\"y\",\"type\":\"scatter\"},{\"hovertemplate\":\"variable=\\ube0c\\ub79c\\ud2b8\\uc720\\uc885\\uac00<br>\\ub0a0\\uc9dc=%{x}<br>value=%{y}<extra></extra>\",\"legendgroup\":\"\\ube0c\\ub79c\\ud2b8\\uc720\\uc885\\uac00\",\"line\":{\"color\":\"#EF553B\",\"dash\":\"solid\"},\"marker\":{\"symbol\":\"circle\"},\"mode\":\"lines\",\"name\":\"\\ube0c\\ub79c\\ud2b8\\uc720\\uc885\\uac00\",\"orientation\":\"v\",\"showlegend\":true,\"x\":[\"2017-02-06T00:00:00\",\"2017-02-13T00:00:00\",\"2017-02-20T00:00:00\",\"2017-02-27T00:00:00\",\"2017-03-06T00:00:00\",\"2017-03-13T00:00:00\",\"2017-03-20T00:00:00\",\"2017-03-27T00:00:00\",\"2017-04-03T00:00:00\",\"2017-04-10T00:00:00\",\"2017-04-17T00:00:00\",\"2017-04-24T00:00:00\",\"2017-05-01T00:00:00\",\"2017-05-08T00:00:00\",\"2017-05-15T00:00:00\",\"2017-05-22T00:00:00\",\"2017-05-29T00:00:00\",\"2017-06-05T00:00:00\",\"2017-06-12T00:00:00\",\"2017-06-19T00:00:00\",\"2017-06-26T00:00:00\",\"2017-07-03T00:00:00\",\"2017-07-10T00:00:00\",\"2017-07-17T00:00:00\",\"2017-07-24T00:00:00\",\"2017-07-31T00:00:00\",\"2017-08-07T00:00:00\",\"2017-08-14T00:00:00\",\"2017-08-21T00:00:00\",\"2017-08-28T00:00:00\",\"2017-09-04T00:00:00\",\"2017-09-11T00:00:00\",\"2017-09-18T00:00:00\",\"2017-09-25T00:00:00\",\"2017-10-02T00:00:00\",\"2017-10-09T00:00:00\",\"2017-10-16T00:00:00\",\"2017-10-23T00:00:00\",\"2017-10-30T00:00:00\",\"2017-11-06T00:00:00\",\"2017-11-13T00:00:00\",\"2017-11-20T00:00:00\",\"2017-11-27T00:00:00\",\"2017-12-04T00:00:00\",\"2017-12-11T00:00:00\",\"2017-12-18T00:00:00\",\"2017-12-25T00:00:00\",\"2018-01-01T00:00:00\",\"2018-01-08T00:00:00\",\"2018-01-15T00:00:00\",\"2018-01-22T00:00:00\",\"2018-01-29T00:00:00\",\"2018-02-05T00:00:00\",\"2018-02-12T00:00:00\",\"2018-02-19T00:00:00\",\"2018-02-26T00:00:00\",\"2018-03-05T00:00:00\",\"2018-03-12T00:00:00\",\"2018-03-19T00:00:00\",\"2018-03-26T00:00:00\",\"2018-04-02T00:00:00\",\"2018-04-09T00:00:00\",\"2018-04-16T00:00:00\",\"2018-04-23T00:00:00\",\"2018-04-30T00:00:00\",\"2018-05-07T00:00:00\",\"2018-05-14T00:00:00\",\"2018-05-21T00:00:00\",\"2018-05-28T00:00:00\",\"2018-06-04T00:00:00\",\"2018-06-11T00:00:00\",\"2018-06-18T00:00:00\",\"2018-06-25T00:00:00\",\"2018-07-02T00:00:00\",\"2018-07-09T00:00:00\",\"2018-07-16T00:00:00\",\"2018-07-23T00:00:00\",\"2018-07-30T00:00:00\",\"2018-08-06T00:00:00\",\"2018-08-13T00:00:00\",\"2018-08-20T00:00:00\",\"2018-08-27T00:00:00\",\"2018-09-03T00:00:00\",\"2018-09-10T00:00:00\",\"2018-09-17T00:00:00\",\"2018-09-24T00:00:00\",\"2018-10-01T00:00:00\",\"2018-10-08T00:00:00\",\"2018-10-15T00:00:00\",\"2018-10-22T00:00:00\",\"2018-10-29T00:00:00\",\"2018-11-05T00:00:00\",\"2018-11-12T00:00:00\",\"2018-11-19T00:00:00\",\"2018-11-26T00:00:00\",\"2018-12-03T00:00:00\",\"2018-12-10T00:00:00\",\"2018-12-17T00:00:00\",\"2018-12-24T00:00:00\",\"2018-12-31T00:00:00\",\"2019-01-07T00:00:00\",\"2019-01-14T00:00:00\",\"2019-01-21T00:00:00\",\"2019-01-28T00:00:00\",\"2019-02-04T00:00:00\",\"2019-02-11T00:00:00\",\"2019-02-18T00:00:00\",\"2019-02-25T00:00:00\",\"2019-03-04T00:00:00\",\"2019-03-11T00:00:00\",\"2019-03-18T00:00:00\",\"2019-03-25T00:00:00\",\"2019-04-01T00:00:00\",\"2019-04-08T00:00:00\",\"2019-04-15T00:00:00\",\"2019-04-22T00:00:00\",\"2019-04-29T00:00:00\",\"2019-05-06T00:00:00\",\"2019-05-13T00:00:00\",\"2019-05-20T00:00:00\",\"2019-05-27T00:00:00\",\"2019-06-03T00:00:00\",\"2019-06-10T00:00:00\",\"2019-06-17T00:00:00\",\"2019-06-24T00:00:00\",\"2019-07-01T00:00:00\",\"2019-07-08T00:00:00\",\"2019-07-15T00:00:00\",\"2019-07-22T00:00:00\",\"2019-07-29T00:00:00\",\"2019-08-05T00:00:00\",\"2019-08-12T00:00:00\",\"2019-08-19T00:00:00\",\"2019-08-26T00:00:00\",\"2019-09-02T00:00:00\",\"2019-09-09T00:00:00\",\"2019-09-16T00:00:00\",\"2019-09-23T00:00:00\",\"2019-09-30T00:00:00\",\"2019-10-07T00:00:00\",\"2019-10-14T00:00:00\",\"2019-10-21T00:00:00\",\"2019-10-28T00:00:00\",\"2019-11-04T00:00:00\",\"2019-11-11T00:00:00\",\"2019-11-18T00:00:00\",\"2019-11-25T00:00:00\",\"2019-12-02T00:00:00\",\"2019-12-09T00:00:00\",\"2019-12-16T00:00:00\",\"2019-12-23T00:00:00\",\"2019-12-30T00:00:00\",\"2020-01-06T00:00:00\",\"2020-01-13T00:00:00\",\"2020-01-20T00:00:00\",\"2020-01-27T00:00:00\",\"2020-02-03T00:00:00\",\"2020-02-10T00:00:00\",\"2020-02-17T00:00:00\",\"2020-02-24T00:00:00\",\"2020-03-02T00:00:00\",\"2020-03-09T00:00:00\",\"2020-03-16T00:00:00\",\"2020-03-23T00:00:00\",\"2020-03-30T00:00:00\",\"2020-04-06T00:00:00\",\"2020-04-13T00:00:00\",\"2020-04-20T00:00:00\",\"2020-04-27T00:00:00\",\"2020-05-04T00:00:00\",\"2020-05-11T00:00:00\",\"2020-05-18T00:00:00\",\"2020-05-25T00:00:00\",\"2020-06-01T00:00:00\",\"2020-06-08T00:00:00\",\"2020-06-15T00:00:00\",\"2020-06-22T00:00:00\",\"2020-06-29T00:00:00\",\"2020-07-06T00:00:00\",\"2020-07-13T00:00:00\",\"2020-07-20T00:00:00\",\"2020-07-27T00:00:00\",\"2020-08-03T00:00:00\",\"2020-08-10T00:00:00\",\"2020-08-17T00:00:00\",\"2020-08-24T00:00:00\",\"2020-08-31T00:00:00\",\"2020-09-07T00:00:00\",\"2020-09-14T00:00:00\",\"2020-09-21T00:00:00\",\"2020-09-28T00:00:00\",\"2020-10-05T00:00:00\",\"2020-10-12T00:00:00\",\"2020-10-19T00:00:00\",\"2020-10-26T00:00:00\",\"2020-11-02T00:00:00\",\"2020-11-09T00:00:00\",\"2020-11-16T00:00:00\",\"2020-11-23T00:00:00\",\"2020-11-30T00:00:00\",\"2020-12-07T00:00:00\",\"2020-12-14T00:00:00\",\"2020-12-21T00:00:00\",\"2020-12-28T00:00:00\",\"2021-01-04T00:00:00\",\"2021-01-11T00:00:00\",\"2021-01-18T00:00:00\",\"2021-01-25T00:00:00\",\"2021-02-01T00:00:00\",\"2021-02-08T00:00:00\",\"2021-02-15T00:00:00\",\"2021-02-22T00:00:00\",\"2021-03-01T00:00:00\",\"2021-03-08T00:00:00\",\"2021-03-15T00:00:00\",\"2021-03-22T00:00:00\",\"2021-03-29T00:00:00\",\"2021-04-05T00:00:00\",\"2021-04-12T00:00:00\",\"2021-04-19T00:00:00\",\"2021-04-26T00:00:00\",\"2021-05-03T00:00:00\",\"2021-05-10T00:00:00\",\"2021-05-17T00:00:00\",\"2021-05-24T00:00:00\",\"2021-05-31T00:00:00\",\"2021-06-07T00:00:00\",\"2021-06-14T00:00:00\",\"2021-06-21T00:00:00\",\"2021-06-28T00:00:00\",\"2021-07-05T00:00:00\",\"2021-07-12T00:00:00\",\"2021-07-19T00:00:00\",\"2021-07-26T00:00:00\",\"2021-08-02T00:00:00\",\"2021-08-09T00:00:00\",\"2021-08-16T00:00:00\",\"2021-08-23T00:00:00\",\"2021-08-30T00:00:00\",\"2021-09-06T00:00:00\",\"2021-09-13T00:00:00\",\"2021-09-20T00:00:00\",\"2021-09-27T00:00:00\",\"2021-10-04T00:00:00\",\"2021-10-11T00:00:00\",\"2021-10-18T00:00:00\",\"2021-10-25T00:00:00\",\"2021-11-01T00:00:00\",\"2021-11-08T00:00:00\",\"2021-11-15T00:00:00\",\"2021-11-22T00:00:00\",\"2021-11-29T00:00:00\",\"2021-12-06T00:00:00\",\"2021-12-13T00:00:00\",\"2021-12-20T00:00:00\",\"2021-12-27T00:00:00\",\"2022-01-03T00:00:00\",\"2022-01-10T00:00:00\",\"2022-01-17T00:00:00\",\"2022-01-24T00:00:00\",\"2022-01-31T00:00:00\",\"2022-02-07T00:00:00\"],\"xaxis\":\"x\",\"y\":[55.59,56.18,55.93,56.01,51.35,51.62,50.75,53.12,55.98,55.36,51.6,51.52,49.34,51.82,53.87,52.29,49.47,48.29,46.91,45.83,49.68,46.88,48.42,48.6,52.72,52.37,50.73,51.66,51.89,52.34,53.84,55.48,59.02,56.12,55.79,57.82,57.37,60.9,64.27,63.16,62.22,63.84,62.45,64.69,63.41,65.25,66.87,67.78,70.26,69.03,69.46,67.62,62.59,65.67,67.5,65.54,64.95,66.05,70.12,67.64,68.65,71.42,74.71,74.69,76.17,78.23,79.22,75.3,75.29,76.46,75.34,74.73,77.3,78.07,71.84,73.06,74.97,73.75,72.61,72.21,76.21,78.15,77.37,78.05,81.2,84.98,83.91,80.78,79.83,77.34,73.17,70.12,66.79,60.48,61.69,59.97,59.61,50.47,53.8,57.33,58.99,62.74,59.93,62.51,61.51,66.5,64.76,65.67,66.58,67.54,67.21,69.01,71.1,71.18,74.04,72.04,71.24,70.23,71.97,70.11,61.28,62.29,60.94,64.86,65.06,64.11,66.48,63.26,63.71,59.81,58.57,59.74,58.7,58.66,62.59,69.02,64.77,60.78,58.35,59.35,58.96,61.57,62.13,62.18,62.44,63.65,60.92,64.25,65.34,66.39,68.44,68.91,64.2,65.2,59.32,54.45,53.27,57.67,56.3,51.9,34.36,30.05,27.03,22.76,33.05,31.74,25.57,19.99,27.2,29.63,34.81,35.53,38.32,40.8,39.72,43.08,41.71,43.1,42.72,43.28,43.41,44.15,44.99,45.37,45.13,45.28,42.01,39.61,41.44,42.43,41.29,41.72,42.62,40.46,38.97,42.4,43.82,46.06,47.59,48.79,50.29,50.91,50.86,51.09,55.66,54.75,55.88,56.35,60.56,63.3,65.24,63.69,68.24,68.88,64.62,64.98,62.15,63.28,67.05,65.65,67.56,68.32,69.46,68.46,69.32,71.49,72.86,74.9,74.68,77.16,75.16,68.62,74.5,72.89,69.04,69.51,68.75,73.41,72.22,73.51,73.92,79.53,81.26,83.65,84.33,85.99,84.71,83.43,82.05,79.7,73.44,73.08,74.39,71.52,78.6,78.98,80.87,86.48,86.27,91.21,92.69,91.55],\"yaxis\":\"y\",\"type\":\"scatter\"}],                        {\"template\":{\"data\":{\"bar\":[{\"error_x\":{\"color\":\"#2a3f5f\"},\"error_y\":{\"color\":\"#2a3f5f\"},\"marker\":{\"line\":{\"color\":\"#E5ECF6\",\"width\":0.5},\"pattern\":{\"fillmode\":\"overlay\",\"size\":10,\"solidity\":0.2}},\"type\":\"bar\"}],\"barpolar\":[{\"marker\":{\"line\":{\"color\":\"#E5ECF6\",\"width\":0.5},\"pattern\":{\"fillmode\":\"overlay\",\"size\":10,\"solidity\":0.2}},\"type\":\"barpolar\"}],\"carpet\":[{\"aaxis\":{\"endlinecolor\":\"#2a3f5f\",\"gridcolor\":\"white\",\"linecolor\":\"white\",\"minorgridcolor\":\"white\",\"startlinecolor\":\"#2a3f5f\"},\"baxis\":{\"endlinecolor\":\"#2a3f5f\",\"gridcolor\":\"white\",\"linecolor\":\"white\",\"minorgridcolor\":\"white\",\"startlinecolor\":\"#2a3f5f\"},\"type\":\"carpet\"}],\"choropleth\":[{\"colorbar\":{\"outlinewidth\":0,\"ticks\":\"\"},\"type\":\"choropleth\"}],\"contour\":[{\"colorbar\":{\"outlinewidth\":0,\"ticks\":\"\"},\"colorscale\":[[0.0,\"#0d0887\"],[0.1111111111111111,\"#46039f\"],[0.2222222222222222,\"#7201a8\"],[0.3333333333333333,\"#9c179e\"],[0.4444444444444444,\"#bd3786\"],[0.5555555555555556,\"#d8576b\"],[0.6666666666666666,\"#ed7953\"],[0.7777777777777778,\"#fb9f3a\"],[0.8888888888888888,\"#fdca26\"],[1.0,\"#f0f921\"]],\"type\":\"contour\"}],\"contourcarpet\":[{\"colorbar\":{\"outlinewidth\":0,\"ticks\":\"\"},\"type\":\"contourcarpet\"}],\"heatmap\":[{\"colorbar\":{\"outlinewidth\":0,\"ticks\":\"\"},\"colorscale\":[[0.0,\"#0d0887\"],[0.1111111111111111,\"#46039f\"],[0.2222222222222222,\"#7201a8\"],[0.3333333333333333,\"#9c179e\"],[0.4444444444444444,\"#bd3786\"],[0.5555555555555556,\"#d8576b\"],[0.6666666666666666,\"#ed7953\"],[0.7777777777777778,\"#fb9f3a\"],[0.8888888888888888,\"#fdca26\"],[1.0,\"#f0f921\"]],\"type\":\"heatmap\"}],\"heatmapgl\":[{\"colorbar\":{\"outlinewidth\":0,\"ticks\":\"\"},\"colorscale\":[[0.0,\"#0d0887\"],[0.1111111111111111,\"#46039f\"],[0.2222222222222222,\"#7201a8\"],[0.3333333333333333,\"#9c179e\"],[0.4444444444444444,\"#bd3786\"],[0.5555555555555556,\"#d8576b\"],[0.6666666666666666,\"#ed7953\"],[0.7777777777777778,\"#fb9f3a\"],[0.8888888888888888,\"#fdca26\"],[1.0,\"#f0f921\"]],\"type\":\"heatmapgl\"}],\"histogram\":[{\"marker\":{\"pattern\":{\"fillmode\":\"overlay\",\"size\":10,\"solidity\":0.2}},\"type\":\"histogram\"}],\"histogram2d\":[{\"colorbar\":{\"outlinewidth\":0,\"ticks\":\"\"},\"colorscale\":[[0.0,\"#0d0887\"],[0.1111111111111111,\"#46039f\"],[0.2222222222222222,\"#7201a8\"],[0.3333333333333333,\"#9c179e\"],[0.4444444444444444,\"#bd3786\"],[0.5555555555555556,\"#d8576b\"],[0.6666666666666666,\"#ed7953\"],[0.7777777777777778,\"#fb9f3a\"],[0.8888888888888888,\"#fdca26\"],[1.0,\"#f0f921\"]],\"type\":\"histogram2d\"}],\"histogram2dcontour\":[{\"colorbar\":{\"outlinewidth\":0,\"ticks\":\"\"},\"colorscale\":[[0.0,\"#0d0887\"],[0.1111111111111111,\"#46039f\"],[0.2222222222222222,\"#7201a8\"],[0.3333333333333333,\"#9c179e\"],[0.4444444444444444,\"#bd3786\"],[0.5555555555555556,\"#d8576b\"],[0.6666666666666666,\"#ed7953\"],[0.7777777777777778,\"#fb9f3a\"],[0.8888888888888888,\"#fdca26\"],[1.0,\"#f0f921\"]],\"type\":\"histogram2dcontour\"}],\"mesh3d\":[{\"colorbar\":{\"outlinewidth\":0,\"ticks\":\"\"},\"type\":\"mesh3d\"}],\"parcoords\":[{\"line\":{\"colorbar\":{\"outlinewidth\":0,\"ticks\":\"\"}},\"type\":\"parcoords\"}],\"pie\":[{\"automargin\":true,\"type\":\"pie\"}],\"scatter\":[{\"marker\":{\"colorbar\":{\"outlinewidth\":0,\"ticks\":\"\"}},\"type\":\"scatter\"}],\"scatter3d\":[{\"line\":{\"colorbar\":{\"outlinewidth\":0,\"ticks\":\"\"}},\"marker\":{\"colorbar\":{\"outlinewidth\":0,\"ticks\":\"\"}},\"type\":\"scatter3d\"}],\"scattercarpet\":[{\"marker\":{\"colorbar\":{\"outlinewidth\":0,\"ticks\":\"\"}},\"type\":\"scattercarpet\"}],\"scattergeo\":[{\"marker\":{\"colorbar\":{\"outlinewidth\":0,\"ticks\":\"\"}},\"type\":\"scattergeo\"}],\"scattergl\":[{\"marker\":{\"colorbar\":{\"outlinewidth\":0,\"ticks\":\"\"}},\"type\":\"scattergl\"}],\"scattermapbox\":[{\"marker\":{\"colorbar\":{\"outlinewidth\":0,\"ticks\":\"\"}},\"type\":\"scattermapbox\"}],\"scatterpolar\":[{\"marker\":{\"colorbar\":{\"outlinewidth\":0,\"ticks\":\"\"}},\"type\":\"scatterpolar\"}],\"scatterpolargl\":[{\"marker\":{\"colorbar\":{\"outlinewidth\":0,\"ticks\":\"\"}},\"type\":\"scatterpolargl\"}],\"scatterternary\":[{\"marker\":{\"colorbar\":{\"outlinewidth\":0,\"ticks\":\"\"}},\"type\":\"scatterternary\"}],\"surface\":[{\"colorbar\":{\"outlinewidth\":0,\"ticks\":\"\"},\"colorscale\":[[0.0,\"#0d0887\"],[0.1111111111111111,\"#46039f\"],[0.2222222222222222,\"#7201a8\"],[0.3333333333333333,\"#9c179e\"],[0.4444444444444444,\"#bd3786\"],[0.5555555555555556,\"#d8576b\"],[0.6666666666666666,\"#ed7953\"],[0.7777777777777778,\"#fb9f3a\"],[0.8888888888888888,\"#fdca26\"],[1.0,\"#f0f921\"]],\"type\":\"surface\"}],\"table\":[{\"cells\":{\"fill\":{\"color\":\"#EBF0F8\"},\"line\":{\"color\":\"white\"}},\"header\":{\"fill\":{\"color\":\"#C8D4E3\"},\"line\":{\"color\":\"white\"}},\"type\":\"table\"}]},\"layout\":{\"annotationdefaults\":{\"arrowcolor\":\"#2a3f5f\",\"arrowhead\":0,\"arrowwidth\":1},\"autotypenumbers\":\"strict\",\"coloraxis\":{\"colorbar\":{\"outlinewidth\":0,\"ticks\":\"\"}},\"colorscale\":{\"diverging\":[[0,\"#8e0152\"],[0.1,\"#c51b7d\"],[0.2,\"#de77ae\"],[0.3,\"#f1b6da\"],[0.4,\"#fde0ef\"],[0.5,\"#f7f7f7\"],[0.6,\"#e6f5d0\"],[0.7,\"#b8e186\"],[0.8,\"#7fbc41\"],[0.9,\"#4d9221\"],[1,\"#276419\"]],\"sequential\":[[0.0,\"#0d0887\"],[0.1111111111111111,\"#46039f\"],[0.2222222222222222,\"#7201a8\"],[0.3333333333333333,\"#9c179e\"],[0.4444444444444444,\"#bd3786\"],[0.5555555555555556,\"#d8576b\"],[0.6666666666666666,\"#ed7953\"],[0.7777777777777778,\"#fb9f3a\"],[0.8888888888888888,\"#fdca26\"],[1.0,\"#f0f921\"]],\"sequentialminus\":[[0.0,\"#0d0887\"],[0.1111111111111111,\"#46039f\"],[0.2222222222222222,\"#7201a8\"],[0.3333333333333333,\"#9c179e\"],[0.4444444444444444,\"#bd3786\"],[0.5555555555555556,\"#d8576b\"],[0.6666666666666666,\"#ed7953\"],[0.7777777777777778,\"#fb9f3a\"],[0.8888888888888888,\"#fdca26\"],[1.0,\"#f0f921\"]]},\"colorway\":[\"#636efa\",\"#EF553B\",\"#00cc96\",\"#ab63fa\",\"#FFA15A\",\"#19d3f3\",\"#FF6692\",\"#B6E880\",\"#FF97FF\",\"#FECB52\"],\"font\":{\"color\":\"#2a3f5f\"},\"geo\":{\"bgcolor\":\"white\",\"lakecolor\":\"white\",\"landcolor\":\"#E5ECF6\",\"showlakes\":true,\"showland\":true,\"subunitcolor\":\"white\"},\"hoverlabel\":{\"align\":\"left\"},\"hovermode\":\"closest\",\"mapbox\":{\"style\":\"light\"},\"paper_bgcolor\":\"white\",\"plot_bgcolor\":\"#E5ECF6\",\"polar\":{\"angularaxis\":{\"gridcolor\":\"white\",\"linecolor\":\"white\",\"ticks\":\"\"},\"bgcolor\":\"#E5ECF6\",\"radialaxis\":{\"gridcolor\":\"white\",\"linecolor\":\"white\",\"ticks\":\"\"}},\"scene\":{\"xaxis\":{\"backgroundcolor\":\"#E5ECF6\",\"gridcolor\":\"white\",\"gridwidth\":2,\"linecolor\":\"white\",\"showbackground\":true,\"ticks\":\"\",\"zerolinecolor\":\"white\"},\"yaxis\":{\"backgroundcolor\":\"#E5ECF6\",\"gridcolor\":\"white\",\"gridwidth\":2,\"linecolor\":\"white\",\"showbackground\":true,\"ticks\":\"\",\"zerolinecolor\":\"white\"},\"zaxis\":{\"backgroundcolor\":\"#E5ECF6\",\"gridcolor\":\"white\",\"gridwidth\":2,\"linecolor\":\"white\",\"showbackground\":true,\"ticks\":\"\",\"zerolinecolor\":\"white\"}},\"shapedefaults\":{\"line\":{\"color\":\"#2a3f5f\"}},\"ternary\":{\"aaxis\":{\"gridcolor\":\"white\",\"linecolor\":\"white\",\"ticks\":\"\"},\"baxis\":{\"gridcolor\":\"white\",\"linecolor\":\"white\",\"ticks\":\"\"},\"bgcolor\":\"#E5ECF6\",\"caxis\":{\"gridcolor\":\"white\",\"linecolor\":\"white\",\"ticks\":\"\"}},\"title\":{\"x\":0.05},\"xaxis\":{\"automargin\":true,\"gridcolor\":\"white\",\"linecolor\":\"white\",\"ticks\":\"\",\"title\":{\"standoff\":15},\"zerolinecolor\":\"white\",\"zerolinewidth\":2},\"yaxis\":{\"automargin\":true,\"gridcolor\":\"white\",\"linecolor\":\"white\",\"ticks\":\"\",\"title\":{\"standoff\":15},\"zerolinecolor\":\"white\",\"zerolinewidth\":2}}},\"xaxis\":{\"anchor\":\"y\",\"domain\":[0.0,1.0],\"title\":{\"text\":\"\\ub0a0\\uc9dc\"}},\"yaxis\":{\"anchor\":\"x\",\"domain\":[0.0,1.0],\"title\":{\"text\":\"value\"}},\"legend\":{\"title\":{\"text\":\"variable\"},\"tracegroupgap\":0},\"margin\":{\"t\":60}},                        {\"responsive\": true}                    ).then(function(){\n",
       "                            \n",
       "var gd = document.getElementById('4d6d9c32-5135-4e3e-a117-8a37321f11da');\n",
       "var x = new MutationObserver(function (mutations, observer) {{\n",
       "        var display = window.getComputedStyle(gd).display;\n",
       "        if (!display || display === 'none') {{\n",
       "            console.log([gd, 'removed!']);\n",
       "            Plotly.purge(gd);\n",
       "            observer.disconnect();\n",
       "        }}\n",
       "}});\n",
       "\n",
       "// Listen for the removal of the full notebook cells\n",
       "var notebookContainer = gd.closest('#notebook-container');\n",
       "if (notebookContainer) {{\n",
       "    x.observe(notebookContainer, {childList: true});\n",
       "}}\n",
       "\n",
       "// Listen for the clearing of the current output cell\n",
       "var outputEl = gd.closest('.output');\n",
       "if (outputEl) {{\n",
       "    x.observe(outputEl, {childList: true});\n",
       "}}\n",
       "\n",
       "                        })                };                });            </script>        </div>"
      ]
     },
     "metadata": {},
     "output_type": "display_data"
    }
   ],
   "source": [
    "px.line(df_plot2, x='날짜', y= ['두바이유(선물)종가','브랜트유종가'] )"
   ]
  },
  {
   "cell_type": "markdown",
   "id": "5513faea",
   "metadata": {},
   "source": [
    "## 상관관계 "
   ]
  },
  {
   "cell_type": "code",
   "execution_count": 38,
   "id": "84fd7aa1",
   "metadata": {},
   "outputs": [
    {
     "name": "stdout",
     "output_type": "stream",
     "text": [
      "            두바이유(선물)종가    브랜트유종가\n",
      "두바이유(선물)종가    1.000000  0.983912\n",
      "브랜트유종가        0.983912  1.000000\n"
     ]
    }
   ],
   "source": [
    "df_corr2 = df_plot2.drop(columns=['고가_x','저가_x','시가_x','고가_y','저가_y','시가_y'])\n",
    "corr2 = df_corr2.corr(method = 'pearson')\n",
    "print(corr2)"
   ]
  },
  {
   "cell_type": "code",
   "execution_count": null,
   "id": "45eb0129",
   "metadata": {},
   "outputs": [],
   "source": []
  },
  {
   "cell_type": "markdown",
   "id": "793ae56a",
   "metadata": {},
   "source": [
    "## 3개 모두 합친 그래프"
   ]
  },
  {
   "cell_type": "code",
   "execution_count": 41,
   "id": "b89675bb",
   "metadata": {},
   "outputs": [
    {
     "data": {
      "text/html": [
       "<div>\n",
       "<style scoped>\n",
       "    .dataframe tbody tr th:only-of-type {\n",
       "        vertical-align: middle;\n",
       "    }\n",
       "\n",
       "    .dataframe tbody tr th {\n",
       "        vertical-align: top;\n",
       "    }\n",
       "\n",
       "    .dataframe thead th {\n",
       "        text-align: right;\n",
       "    }\n",
       "</style>\n",
       "<table border=\"1\" class=\"dataframe\">\n",
       "  <thead>\n",
       "    <tr style=\"text-align: right;\">\n",
       "      <th></th>\n",
       "      <th>날짜</th>\n",
       "      <th>두바이유(선물)종가</th>\n",
       "      <th>wti종가</th>\n",
       "    </tr>\n",
       "  </thead>\n",
       "  <tbody>\n",
       "    <tr>\n",
       "      <th>0</th>\n",
       "      <td>2017-02-06</td>\n",
       "      <td>54.03</td>\n",
       "      <td>52.93</td>\n",
       "    </tr>\n",
       "    <tr>\n",
       "      <th>1</th>\n",
       "      <td>2017-02-13</td>\n",
       "      <td>54.22</td>\n",
       "      <td>53.40</td>\n",
       "    </tr>\n",
       "    <tr>\n",
       "      <th>2</th>\n",
       "      <td>2017-02-20</td>\n",
       "      <td>54.43</td>\n",
       "      <td>54.05</td>\n",
       "    </tr>\n",
       "    <tr>\n",
       "      <th>3</th>\n",
       "      <td>2017-02-27</td>\n",
       "      <td>54.32</td>\n",
       "      <td>53.20</td>\n",
       "    </tr>\n",
       "    <tr>\n",
       "      <th>4</th>\n",
       "      <td>2017-03-06</td>\n",
       "      <td>51.36</td>\n",
       "      <td>48.40</td>\n",
       "    </tr>\n",
       "  </tbody>\n",
       "</table>\n",
       "</div>"
      ],
      "text/plain": [
       "          날짜  두바이유(선물)종가  wti종가\n",
       "0 2017-02-06       54.03  52.93\n",
       "1 2017-02-13       54.22  53.40\n",
       "2 2017-02-20       54.43  54.05\n",
       "3 2017-02-27       54.32  53.20\n",
       "4 2017-03-06       51.36  48.40"
      ]
     },
     "execution_count": 41,
     "metadata": {},
     "output_type": "execute_result"
    }
   ],
   "source": [
    "df_corr1.head()"
   ]
  },
  {
   "cell_type": "code",
   "execution_count": 46,
   "id": "259237d8",
   "metadata": {},
   "outputs": [
    {
     "data": {
      "text/html": [
       "<div>\n",
       "<style scoped>\n",
       "    .dataframe tbody tr th:only-of-type {\n",
       "        vertical-align: middle;\n",
       "    }\n",
       "\n",
       "    .dataframe tbody tr th {\n",
       "        vertical-align: top;\n",
       "    }\n",
       "\n",
       "    .dataframe thead th {\n",
       "        text-align: right;\n",
       "    }\n",
       "</style>\n",
       "<table border=\"1\" class=\"dataframe\">\n",
       "  <thead>\n",
       "    <tr style=\"text-align: right;\">\n",
       "      <th></th>\n",
       "      <th>날짜</th>\n",
       "      <th>브랜트유종가</th>\n",
       "    </tr>\n",
       "  </thead>\n",
       "  <tbody>\n",
       "    <tr>\n",
       "      <th>0</th>\n",
       "      <td>2017-02-06</td>\n",
       "      <td>55.59</td>\n",
       "    </tr>\n",
       "    <tr>\n",
       "      <th>1</th>\n",
       "      <td>2017-02-13</td>\n",
       "      <td>56.18</td>\n",
       "    </tr>\n",
       "    <tr>\n",
       "      <th>2</th>\n",
       "      <td>2017-02-20</td>\n",
       "      <td>55.93</td>\n",
       "    </tr>\n",
       "    <tr>\n",
       "      <th>3</th>\n",
       "      <td>2017-02-27</td>\n",
       "      <td>56.01</td>\n",
       "    </tr>\n",
       "    <tr>\n",
       "      <th>4</th>\n",
       "      <td>2017-03-06</td>\n",
       "      <td>51.35</td>\n",
       "    </tr>\n",
       "    <tr>\n",
       "      <th>...</th>\n",
       "      <td>...</td>\n",
       "      <td>...</td>\n",
       "    </tr>\n",
       "    <tr>\n",
       "      <th>257</th>\n",
       "      <td>2022-01-10</td>\n",
       "      <td>86.48</td>\n",
       "    </tr>\n",
       "    <tr>\n",
       "      <th>258</th>\n",
       "      <td>2022-01-17</td>\n",
       "      <td>86.27</td>\n",
       "    </tr>\n",
       "    <tr>\n",
       "      <th>259</th>\n",
       "      <td>2022-01-24</td>\n",
       "      <td>91.21</td>\n",
       "    </tr>\n",
       "    <tr>\n",
       "      <th>260</th>\n",
       "      <td>2022-01-31</td>\n",
       "      <td>92.69</td>\n",
       "    </tr>\n",
       "    <tr>\n",
       "      <th>261</th>\n",
       "      <td>2022-02-07</td>\n",
       "      <td>91.55</td>\n",
       "    </tr>\n",
       "  </tbody>\n",
       "</table>\n",
       "<p>262 rows × 2 columns</p>\n",
       "</div>"
      ],
      "text/plain": [
       "            날짜  브랜트유종가\n",
       "0   2017-02-06   55.59\n",
       "1   2017-02-13   56.18\n",
       "2   2017-02-20   55.93\n",
       "3   2017-02-27   56.01\n",
       "4   2017-03-06   51.35\n",
       "..         ...     ...\n",
       "257 2022-01-10   86.48\n",
       "258 2022-01-17   86.27\n",
       "259 2022-01-24   91.21\n",
       "260 2022-01-31   92.69\n",
       "261 2022-02-07   91.55\n",
       "\n",
       "[262 rows x 2 columns]"
      ]
     },
     "execution_count": 46,
     "metadata": {},
     "output_type": "execute_result"
    }
   ],
   "source": [
    "df_corr2.head()\n",
    "df_corr22 = df_corr2.drop(columns = '두바이유(선물)종가')\n",
    "df_corr22"
   ]
  },
  {
   "cell_type": "code",
   "execution_count": 48,
   "id": "34197f88",
   "metadata": {},
   "outputs": [
    {
     "data": {
      "text/html": [
       "<div>\n",
       "<style scoped>\n",
       "    .dataframe tbody tr th:only-of-type {\n",
       "        vertical-align: middle;\n",
       "    }\n",
       "\n",
       "    .dataframe tbody tr th {\n",
       "        vertical-align: top;\n",
       "    }\n",
       "\n",
       "    .dataframe thead th {\n",
       "        text-align: right;\n",
       "    }\n",
       "</style>\n",
       "<table border=\"1\" class=\"dataframe\">\n",
       "  <thead>\n",
       "    <tr style=\"text-align: right;\">\n",
       "      <th></th>\n",
       "      <th>날짜</th>\n",
       "      <th>두바이유(선물)종가</th>\n",
       "      <th>wti종가</th>\n",
       "      <th>브랜트유종가</th>\n",
       "    </tr>\n",
       "  </thead>\n",
       "  <tbody>\n",
       "    <tr>\n",
       "      <th>0</th>\n",
       "      <td>2017-02-06</td>\n",
       "      <td>54.030</td>\n",
       "      <td>52.93</td>\n",
       "      <td>55.59</td>\n",
       "    </tr>\n",
       "    <tr>\n",
       "      <th>1</th>\n",
       "      <td>2017-02-13</td>\n",
       "      <td>54.220</td>\n",
       "      <td>53.40</td>\n",
       "      <td>56.18</td>\n",
       "    </tr>\n",
       "    <tr>\n",
       "      <th>2</th>\n",
       "      <td>2017-02-20</td>\n",
       "      <td>54.430</td>\n",
       "      <td>54.05</td>\n",
       "      <td>55.93</td>\n",
       "    </tr>\n",
       "    <tr>\n",
       "      <th>3</th>\n",
       "      <td>2017-02-27</td>\n",
       "      <td>54.320</td>\n",
       "      <td>53.20</td>\n",
       "      <td>56.01</td>\n",
       "    </tr>\n",
       "    <tr>\n",
       "      <th>4</th>\n",
       "      <td>2017-03-06</td>\n",
       "      <td>51.360</td>\n",
       "      <td>48.40</td>\n",
       "      <td>51.35</td>\n",
       "    </tr>\n",
       "    <tr>\n",
       "      <th>...</th>\n",
       "      <td>...</td>\n",
       "      <td>...</td>\n",
       "      <td>...</td>\n",
       "      <td>...</td>\n",
       "    </tr>\n",
       "    <tr>\n",
       "      <th>257</th>\n",
       "      <td>2022-01-10</td>\n",
       "      <td>82.269</td>\n",
       "      <td>83.82</td>\n",
       "      <td>86.48</td>\n",
       "    </tr>\n",
       "    <tr>\n",
       "      <th>258</th>\n",
       "      <td>2022-01-17</td>\n",
       "      <td>82.868</td>\n",
       "      <td>83.31</td>\n",
       "      <td>86.27</td>\n",
       "    </tr>\n",
       "    <tr>\n",
       "      <th>259</th>\n",
       "      <td>2022-01-24</td>\n",
       "      <td>83.455</td>\n",
       "      <td>88.15</td>\n",
       "      <td>91.21</td>\n",
       "    </tr>\n",
       "    <tr>\n",
       "      <th>260</th>\n",
       "      <td>2022-01-31</td>\n",
       "      <td>90.757</td>\n",
       "      <td>91.32</td>\n",
       "      <td>92.69</td>\n",
       "    </tr>\n",
       "    <tr>\n",
       "      <th>261</th>\n",
       "      <td>2022-02-07</td>\n",
       "      <td>89.883</td>\n",
       "      <td>89.66</td>\n",
       "      <td>91.55</td>\n",
       "    </tr>\n",
       "  </tbody>\n",
       "</table>\n",
       "<p>262 rows × 4 columns</p>\n",
       "</div>"
      ],
      "text/plain": [
       "            날짜  두바이유(선물)종가  wti종가  브랜트유종가\n",
       "0   2017-02-06      54.030  52.93   55.59\n",
       "1   2017-02-13      54.220  53.40   56.18\n",
       "2   2017-02-20      54.430  54.05   55.93\n",
       "3   2017-02-27      54.320  53.20   56.01\n",
       "4   2017-03-06      51.360  48.40   51.35\n",
       "..         ...         ...    ...     ...\n",
       "257 2022-01-10      82.269  83.82   86.48\n",
       "258 2022-01-17      82.868  83.31   86.27\n",
       "259 2022-01-24      83.455  88.15   91.21\n",
       "260 2022-01-31      90.757  91.32   92.69\n",
       "261 2022-02-07      89.883  89.66   91.55\n",
       "\n",
       "[262 rows x 4 columns]"
      ]
     },
     "execution_count": 48,
     "metadata": {},
     "output_type": "execute_result"
    }
   ],
   "source": [
    "df_total = pd.merge(df_corr1,df_corr22)\n",
    "df_total"
   ]
  },
  {
   "cell_type": "code",
   "execution_count": null,
   "id": "53666ba1",
   "metadata": {},
   "outputs": [],
   "source": [
    "## 두바이유 , wti유, 브랜트유 가격 그래프"
   ]
  },
  {
   "cell_type": "code",
   "execution_count": 49,
   "id": "ef5d5003",
   "metadata": {},
   "outputs": [
    {
     "data": {
      "application/vnd.plotly.v1+json": {
       "config": {
        "plotlyServerURL": "https://plot.ly"
       },
       "data": [
        {
         "hovertemplate": "variable=두바이유(선물)종가<br>날짜=%{x}<br>value=%{y}<extra></extra>",
         "legendgroup": "두바이유(선물)종가",
         "line": {
          "color": "#636efa",
          "dash": "solid"
         },
         "marker": {
          "symbol": "circle"
         },
         "mode": "lines",
         "name": "두바이유(선물)종가",
         "orientation": "v",
         "showlegend": true,
         "type": "scatter",
         "x": [
          "2017-02-06T00:00:00",
          "2017-02-13T00:00:00",
          "2017-02-20T00:00:00",
          "2017-02-27T00:00:00",
          "2017-03-06T00:00:00",
          "2017-03-13T00:00:00",
          "2017-03-20T00:00:00",
          "2017-03-27T00:00:00",
          "2017-04-03T00:00:00",
          "2017-04-10T00:00:00",
          "2017-04-17T00:00:00",
          "2017-04-24T00:00:00",
          "2017-05-01T00:00:00",
          "2017-05-08T00:00:00",
          "2017-05-15T00:00:00",
          "2017-05-22T00:00:00",
          "2017-05-29T00:00:00",
          "2017-06-05T00:00:00",
          "2017-06-12T00:00:00",
          "2017-06-19T00:00:00",
          "2017-06-26T00:00:00",
          "2017-07-03T00:00:00",
          "2017-07-10T00:00:00",
          "2017-07-17T00:00:00",
          "2017-07-24T00:00:00",
          "2017-07-31T00:00:00",
          "2017-08-07T00:00:00",
          "2017-08-14T00:00:00",
          "2017-08-21T00:00:00",
          "2017-08-28T00:00:00",
          "2017-09-04T00:00:00",
          "2017-09-11T00:00:00",
          "2017-09-18T00:00:00",
          "2017-09-25T00:00:00",
          "2017-10-02T00:00:00",
          "2017-10-09T00:00:00",
          "2017-10-16T00:00:00",
          "2017-10-23T00:00:00",
          "2017-10-30T00:00:00",
          "2017-11-06T00:00:00",
          "2017-11-13T00:00:00",
          "2017-11-20T00:00:00",
          "2017-11-27T00:00:00",
          "2017-12-04T00:00:00",
          "2017-12-11T00:00:00",
          "2017-12-18T00:00:00",
          "2017-12-25T00:00:00",
          "2018-01-01T00:00:00",
          "2018-01-08T00:00:00",
          "2018-01-15T00:00:00",
          "2018-01-22T00:00:00",
          "2018-01-29T00:00:00",
          "2018-02-05T00:00:00",
          "2018-02-12T00:00:00",
          "2018-02-19T00:00:00",
          "2018-02-26T00:00:00",
          "2018-03-05T00:00:00",
          "2018-03-12T00:00:00",
          "2018-03-19T00:00:00",
          "2018-03-26T00:00:00",
          "2018-04-02T00:00:00",
          "2018-04-09T00:00:00",
          "2018-04-16T00:00:00",
          "2018-04-23T00:00:00",
          "2018-04-30T00:00:00",
          "2018-05-07T00:00:00",
          "2018-05-14T00:00:00",
          "2018-05-21T00:00:00",
          "2018-05-28T00:00:00",
          "2018-06-04T00:00:00",
          "2018-06-11T00:00:00",
          "2018-06-18T00:00:00",
          "2018-06-25T00:00:00",
          "2018-07-02T00:00:00",
          "2018-07-09T00:00:00",
          "2018-07-16T00:00:00",
          "2018-07-23T00:00:00",
          "2018-07-30T00:00:00",
          "2018-08-06T00:00:00",
          "2018-08-13T00:00:00",
          "2018-08-20T00:00:00",
          "2018-08-27T00:00:00",
          "2018-09-03T00:00:00",
          "2018-09-10T00:00:00",
          "2018-09-17T00:00:00",
          "2018-09-24T00:00:00",
          "2018-10-01T00:00:00",
          "2018-10-08T00:00:00",
          "2018-10-15T00:00:00",
          "2018-10-22T00:00:00",
          "2018-10-29T00:00:00",
          "2018-11-05T00:00:00",
          "2018-11-12T00:00:00",
          "2018-11-19T00:00:00",
          "2018-11-26T00:00:00",
          "2018-12-03T00:00:00",
          "2018-12-10T00:00:00",
          "2018-12-17T00:00:00",
          "2018-12-24T00:00:00",
          "2018-12-31T00:00:00",
          "2019-01-07T00:00:00",
          "2019-01-14T00:00:00",
          "2019-01-21T00:00:00",
          "2019-01-28T00:00:00",
          "2019-02-04T00:00:00",
          "2019-02-11T00:00:00",
          "2019-02-18T00:00:00",
          "2019-02-25T00:00:00",
          "2019-03-04T00:00:00",
          "2019-03-11T00:00:00",
          "2019-03-18T00:00:00",
          "2019-03-25T00:00:00",
          "2019-04-01T00:00:00",
          "2019-04-08T00:00:00",
          "2019-04-15T00:00:00",
          "2019-04-22T00:00:00",
          "2019-04-29T00:00:00",
          "2019-05-06T00:00:00",
          "2019-05-13T00:00:00",
          "2019-05-20T00:00:00",
          "2019-05-27T00:00:00",
          "2019-06-03T00:00:00",
          "2019-06-10T00:00:00",
          "2019-06-17T00:00:00",
          "2019-06-24T00:00:00",
          "2019-07-01T00:00:00",
          "2019-07-08T00:00:00",
          "2019-07-15T00:00:00",
          "2019-07-22T00:00:00",
          "2019-07-29T00:00:00",
          "2019-08-05T00:00:00",
          "2019-08-12T00:00:00",
          "2019-08-19T00:00:00",
          "2019-08-26T00:00:00",
          "2019-09-02T00:00:00",
          "2019-09-09T00:00:00",
          "2019-09-16T00:00:00",
          "2019-09-23T00:00:00",
          "2019-09-30T00:00:00",
          "2019-10-07T00:00:00",
          "2019-10-14T00:00:00",
          "2019-10-21T00:00:00",
          "2019-10-28T00:00:00",
          "2019-11-04T00:00:00",
          "2019-11-11T00:00:00",
          "2019-11-18T00:00:00",
          "2019-11-25T00:00:00",
          "2019-12-02T00:00:00",
          "2019-12-09T00:00:00",
          "2019-12-16T00:00:00",
          "2019-12-23T00:00:00",
          "2019-12-30T00:00:00",
          "2020-01-06T00:00:00",
          "2020-01-13T00:00:00",
          "2020-01-20T00:00:00",
          "2020-01-27T00:00:00",
          "2020-02-03T00:00:00",
          "2020-02-10T00:00:00",
          "2020-02-17T00:00:00",
          "2020-02-24T00:00:00",
          "2020-03-02T00:00:00",
          "2020-03-09T00:00:00",
          "2020-03-16T00:00:00",
          "2020-03-23T00:00:00",
          "2020-03-30T00:00:00",
          "2020-04-06T00:00:00",
          "2020-04-13T00:00:00",
          "2020-04-20T00:00:00",
          "2020-04-27T00:00:00",
          "2020-05-04T00:00:00",
          "2020-05-11T00:00:00",
          "2020-05-18T00:00:00",
          "2020-05-25T00:00:00",
          "2020-06-01T00:00:00",
          "2020-06-08T00:00:00",
          "2020-06-15T00:00:00",
          "2020-06-22T00:00:00",
          "2020-06-29T00:00:00",
          "2020-07-06T00:00:00",
          "2020-07-13T00:00:00",
          "2020-07-20T00:00:00",
          "2020-07-27T00:00:00",
          "2020-08-03T00:00:00",
          "2020-08-10T00:00:00",
          "2020-08-17T00:00:00",
          "2020-08-24T00:00:00",
          "2020-08-31T00:00:00",
          "2020-09-07T00:00:00",
          "2020-09-14T00:00:00",
          "2020-09-21T00:00:00",
          "2020-09-28T00:00:00",
          "2020-10-05T00:00:00",
          "2020-10-12T00:00:00",
          "2020-10-19T00:00:00",
          "2020-10-26T00:00:00",
          "2020-11-02T00:00:00",
          "2020-11-09T00:00:00",
          "2020-11-16T00:00:00",
          "2020-11-23T00:00:00",
          "2020-11-30T00:00:00",
          "2020-12-07T00:00:00",
          "2020-12-14T00:00:00",
          "2020-12-21T00:00:00",
          "2020-12-28T00:00:00",
          "2021-01-04T00:00:00",
          "2021-01-11T00:00:00",
          "2021-01-18T00:00:00",
          "2021-01-25T00:00:00",
          "2021-02-01T00:00:00",
          "2021-02-08T00:00:00",
          "2021-02-15T00:00:00",
          "2021-02-22T00:00:00",
          "2021-03-01T00:00:00",
          "2021-03-08T00:00:00",
          "2021-03-15T00:00:00",
          "2021-03-22T00:00:00",
          "2021-03-29T00:00:00",
          "2021-04-05T00:00:00",
          "2021-04-12T00:00:00",
          "2021-04-19T00:00:00",
          "2021-04-26T00:00:00",
          "2021-05-03T00:00:00",
          "2021-05-10T00:00:00",
          "2021-05-17T00:00:00",
          "2021-05-24T00:00:00",
          "2021-05-31T00:00:00",
          "2021-06-07T00:00:00",
          "2021-06-14T00:00:00",
          "2021-06-21T00:00:00",
          "2021-06-28T00:00:00",
          "2021-07-05T00:00:00",
          "2021-07-12T00:00:00",
          "2021-07-19T00:00:00",
          "2021-07-26T00:00:00",
          "2021-08-02T00:00:00",
          "2021-08-09T00:00:00",
          "2021-08-16T00:00:00",
          "2021-08-23T00:00:00",
          "2021-08-30T00:00:00",
          "2021-09-06T00:00:00",
          "2021-09-13T00:00:00",
          "2021-09-20T00:00:00",
          "2021-09-27T00:00:00",
          "2021-10-04T00:00:00",
          "2021-10-11T00:00:00",
          "2021-10-18T00:00:00",
          "2021-10-25T00:00:00",
          "2021-11-01T00:00:00",
          "2021-11-08T00:00:00",
          "2021-11-15T00:00:00",
          "2021-11-22T00:00:00",
          "2021-11-29T00:00:00",
          "2021-12-06T00:00:00",
          "2021-12-13T00:00:00",
          "2021-12-20T00:00:00",
          "2021-12-27T00:00:00",
          "2022-01-03T00:00:00",
          "2022-01-10T00:00:00",
          "2022-01-17T00:00:00",
          "2022-01-24T00:00:00",
          "2022-01-31T00:00:00",
          "2022-02-07T00:00:00"
         ],
         "xaxis": "x",
         "y": [
          54.03,
          54.22,
          54.43,
          54.32,
          51.36,
          51.32,
          51.01,
          51.35,
          53.83,
          53.43,
          52.31,
          50.69,
          48.54,
          50.04,
          50.93,
          50.59,
          48.25,
          47.48,
          46.56,
          46.25,
          48.54,
          46.03,
          46.98,
          47.11,
          51.27,
          51,
          49.85,
          50.09,
          50.24,
          51.49,
          52.35,
          53.25,
          53.92,
          54.72,
          54.1,
          55.34,
          55.14,
          55.54,
          61.83,
          61.18,
          60.55,
          60.89,
          60.02,
          61.62,
          60.8,
          61.15,
          64.3,
          65.09,
          66.36,
          65.97,
          66.23,
          64.99,
          61.16,
          62.28,
          62.75,
          61.94,
          61.32,
          61.86,
          62.77,
          64.62,
          65.83,
          67.25,
          68.41,
          71.62,
          72.83,
          74.02,
          74.79,
          74.45,
          73.15,
          null,
          null,
          null,
          null,
          null,
          null,
          72.67,
          73.15,
          72.35,
          71.52,
          71.18,
          72.45,
          75.56,
          75.56,
          76.06,
          77.02,
          82.82,
          82.58,
          80.39,
          80.19,
          79.41,
          71.88,
          69.81,
          67.68,
          65.63,
          60.52,
          59.01,
          59.14,
          56.93,
          57.318,
          55.625,
          57.636,
          59.52,
          58.918,
          62.549,
          61.648,
          64.679,
          64.505,
          65.609,
          66.589,
          67.021,
          66.891,
          68.457,
          70.093,
          69.825,
          71.018,
          70.93,
          70.556,
          69.641,
          70.908,
          69.426,
          60.404,
          60.585,
          59.939,
          61.64,
          63.192,
          62.613,
          64.306,
          62.591,
          63.162,
          58.86,
          58.35,
          58.93,
          58.865,
          59.106,
          60.058,
          63.12,
          61.637,
          61.115,
          58.223,
          58.935,
          58.866,
          59.453,
          59.369,
          61.095,
          61.557,
          61.94,
          61.974,
          63.34,
          64.192,
          64.651,
          64.847,
          68.275,
          65.722,
          65.745,
          64.369,
          64.286,
          52.999,
          55.342,
          54.681,
          54.219,
          36.264,
          36.964,
          34.046,
          33.844,
          27.449,
          26.157,
          22.235,
          20.374,
          20.387,
          27.267,
          30.547,
          30.341,
          30.467,
          40.695,
          39.502,
          41.12,
          40.796,
          42.89,
          43.097,
          43.054,
          43.332,
          43.278,
          43.779,
          43.78,
          43.913,
          43.987,
          42.612,
          40.154,
          41.409,
          41.601,
          40.42,
          40.777,
          41.373,
          41.142,
          40.661,
          41.405,
          42.524,
          43.076,
          43.52,
          48.227,
          49.461,
          50.344,
          49.773,
          49.815,
          55.059,
          54.532,
          54.759,
          54.772,
          59.361,
          60.226,
          60.62,
          60.855,
          65.836,
          66.375,
          64.707,
          64.435,
          64.414,
          61.302,
          63.475,
          62.801,
          62.894,
          66.203,
          66.825,
          66.264,
          66.275,
          69.839,
          70.78,
          71.481,
          71.536,
          71.573,
          73.539,
          71.007,
          72.83,
          72.903,
          68.494,
          69.527,
          68.76,
          69.465,
          70.641,
          71.111,
          71.358,
          72.611,
          72.608,
          80.679,
          81.311,
          81.732,
          81.585,
          81.616,
          81.411,
          80.548,
          80.305,
          71.654,
          72.708,
          71.655,
          72.99,
          73.185,
          78.887,
          82.269,
          82.868,
          83.455,
          90.757,
          89.883
         ],
         "yaxis": "y"
        },
        {
         "hovertemplate": "variable=wti종가<br>날짜=%{x}<br>value=%{y}<extra></extra>",
         "legendgroup": "wti종가",
         "line": {
          "color": "#EF553B",
          "dash": "solid"
         },
         "marker": {
          "symbol": "circle"
         },
         "mode": "lines",
         "name": "wti종가",
         "orientation": "v",
         "showlegend": true,
         "type": "scatter",
         "x": [
          "2017-02-06T00:00:00",
          "2017-02-13T00:00:00",
          "2017-02-20T00:00:00",
          "2017-02-27T00:00:00",
          "2017-03-06T00:00:00",
          "2017-03-13T00:00:00",
          "2017-03-20T00:00:00",
          "2017-03-27T00:00:00",
          "2017-04-03T00:00:00",
          "2017-04-10T00:00:00",
          "2017-04-17T00:00:00",
          "2017-04-24T00:00:00",
          "2017-05-01T00:00:00",
          "2017-05-08T00:00:00",
          "2017-05-15T00:00:00",
          "2017-05-22T00:00:00",
          "2017-05-29T00:00:00",
          "2017-06-05T00:00:00",
          "2017-06-12T00:00:00",
          "2017-06-19T00:00:00",
          "2017-06-26T00:00:00",
          "2017-07-03T00:00:00",
          "2017-07-10T00:00:00",
          "2017-07-17T00:00:00",
          "2017-07-24T00:00:00",
          "2017-07-31T00:00:00",
          "2017-08-07T00:00:00",
          "2017-08-14T00:00:00",
          "2017-08-21T00:00:00",
          "2017-08-28T00:00:00",
          "2017-09-04T00:00:00",
          "2017-09-11T00:00:00",
          "2017-09-18T00:00:00",
          "2017-09-25T00:00:00",
          "2017-10-02T00:00:00",
          "2017-10-09T00:00:00",
          "2017-10-16T00:00:00",
          "2017-10-23T00:00:00",
          "2017-10-30T00:00:00",
          "2017-11-06T00:00:00",
          "2017-11-13T00:00:00",
          "2017-11-20T00:00:00",
          "2017-11-27T00:00:00",
          "2017-12-04T00:00:00",
          "2017-12-11T00:00:00",
          "2017-12-18T00:00:00",
          "2017-12-25T00:00:00",
          "2018-01-01T00:00:00",
          "2018-01-08T00:00:00",
          "2018-01-15T00:00:00",
          "2018-01-22T00:00:00",
          "2018-01-29T00:00:00",
          "2018-02-05T00:00:00",
          "2018-02-12T00:00:00",
          "2018-02-19T00:00:00",
          "2018-02-26T00:00:00",
          "2018-03-05T00:00:00",
          "2018-03-12T00:00:00",
          "2018-03-19T00:00:00",
          "2018-03-26T00:00:00",
          "2018-04-02T00:00:00",
          "2018-04-09T00:00:00",
          "2018-04-16T00:00:00",
          "2018-04-23T00:00:00",
          "2018-04-30T00:00:00",
          "2018-05-07T00:00:00",
          "2018-05-14T00:00:00",
          "2018-05-21T00:00:00",
          "2018-05-28T00:00:00",
          "2018-06-04T00:00:00",
          "2018-06-11T00:00:00",
          "2018-06-18T00:00:00",
          "2018-06-25T00:00:00",
          "2018-07-02T00:00:00",
          "2018-07-09T00:00:00",
          "2018-07-16T00:00:00",
          "2018-07-23T00:00:00",
          "2018-07-30T00:00:00",
          "2018-08-06T00:00:00",
          "2018-08-13T00:00:00",
          "2018-08-20T00:00:00",
          "2018-08-27T00:00:00",
          "2018-09-03T00:00:00",
          "2018-09-10T00:00:00",
          "2018-09-17T00:00:00",
          "2018-09-24T00:00:00",
          "2018-10-01T00:00:00",
          "2018-10-08T00:00:00",
          "2018-10-15T00:00:00",
          "2018-10-22T00:00:00",
          "2018-10-29T00:00:00",
          "2018-11-05T00:00:00",
          "2018-11-12T00:00:00",
          "2018-11-19T00:00:00",
          "2018-11-26T00:00:00",
          "2018-12-03T00:00:00",
          "2018-12-10T00:00:00",
          "2018-12-17T00:00:00",
          "2018-12-24T00:00:00",
          "2018-12-31T00:00:00",
          "2019-01-07T00:00:00",
          "2019-01-14T00:00:00",
          "2019-01-21T00:00:00",
          "2019-01-28T00:00:00",
          "2019-02-04T00:00:00",
          "2019-02-11T00:00:00",
          "2019-02-18T00:00:00",
          "2019-02-25T00:00:00",
          "2019-03-04T00:00:00",
          "2019-03-11T00:00:00",
          "2019-03-18T00:00:00",
          "2019-03-25T00:00:00",
          "2019-04-01T00:00:00",
          "2019-04-08T00:00:00",
          "2019-04-15T00:00:00",
          "2019-04-22T00:00:00",
          "2019-04-29T00:00:00",
          "2019-05-06T00:00:00",
          "2019-05-13T00:00:00",
          "2019-05-20T00:00:00",
          "2019-05-27T00:00:00",
          "2019-06-03T00:00:00",
          "2019-06-10T00:00:00",
          "2019-06-17T00:00:00",
          "2019-06-24T00:00:00",
          "2019-07-01T00:00:00",
          "2019-07-08T00:00:00",
          "2019-07-15T00:00:00",
          "2019-07-22T00:00:00",
          "2019-07-29T00:00:00",
          "2019-08-05T00:00:00",
          "2019-08-12T00:00:00",
          "2019-08-19T00:00:00",
          "2019-08-26T00:00:00",
          "2019-09-02T00:00:00",
          "2019-09-09T00:00:00",
          "2019-09-16T00:00:00",
          "2019-09-23T00:00:00",
          "2019-09-30T00:00:00",
          "2019-10-07T00:00:00",
          "2019-10-14T00:00:00",
          "2019-10-21T00:00:00",
          "2019-10-28T00:00:00",
          "2019-11-04T00:00:00",
          "2019-11-11T00:00:00",
          "2019-11-18T00:00:00",
          "2019-11-25T00:00:00",
          "2019-12-02T00:00:00",
          "2019-12-09T00:00:00",
          "2019-12-16T00:00:00",
          "2019-12-23T00:00:00",
          "2019-12-30T00:00:00",
          "2020-01-06T00:00:00",
          "2020-01-13T00:00:00",
          "2020-01-20T00:00:00",
          "2020-01-27T00:00:00",
          "2020-02-03T00:00:00",
          "2020-02-10T00:00:00",
          "2020-02-17T00:00:00",
          "2020-02-24T00:00:00",
          "2020-03-02T00:00:00",
          "2020-03-09T00:00:00",
          "2020-03-16T00:00:00",
          "2020-03-23T00:00:00",
          "2020-03-30T00:00:00",
          "2020-04-06T00:00:00",
          "2020-04-13T00:00:00",
          "2020-04-20T00:00:00",
          "2020-04-27T00:00:00",
          "2020-05-04T00:00:00",
          "2020-05-11T00:00:00",
          "2020-05-18T00:00:00",
          "2020-05-25T00:00:00",
          "2020-06-01T00:00:00",
          "2020-06-08T00:00:00",
          "2020-06-15T00:00:00",
          "2020-06-22T00:00:00",
          "2020-06-29T00:00:00",
          "2020-07-06T00:00:00",
          "2020-07-13T00:00:00",
          "2020-07-20T00:00:00",
          "2020-07-27T00:00:00",
          "2020-08-03T00:00:00",
          "2020-08-10T00:00:00",
          "2020-08-17T00:00:00",
          "2020-08-24T00:00:00",
          "2020-08-31T00:00:00",
          "2020-09-07T00:00:00",
          "2020-09-14T00:00:00",
          "2020-09-21T00:00:00",
          "2020-09-28T00:00:00",
          "2020-10-05T00:00:00",
          "2020-10-12T00:00:00",
          "2020-10-19T00:00:00",
          "2020-10-26T00:00:00",
          "2020-11-02T00:00:00",
          "2020-11-09T00:00:00",
          "2020-11-16T00:00:00",
          "2020-11-23T00:00:00",
          "2020-11-30T00:00:00",
          "2020-12-07T00:00:00",
          "2020-12-14T00:00:00",
          "2020-12-21T00:00:00",
          "2020-12-28T00:00:00",
          "2021-01-04T00:00:00",
          "2021-01-11T00:00:00",
          "2021-01-18T00:00:00",
          "2021-01-25T00:00:00",
          "2021-02-01T00:00:00",
          "2021-02-08T00:00:00",
          "2021-02-15T00:00:00",
          "2021-02-22T00:00:00",
          "2021-03-01T00:00:00",
          "2021-03-08T00:00:00",
          "2021-03-15T00:00:00",
          "2021-03-22T00:00:00",
          "2021-03-29T00:00:00",
          "2021-04-05T00:00:00",
          "2021-04-12T00:00:00",
          "2021-04-19T00:00:00",
          "2021-04-26T00:00:00",
          "2021-05-03T00:00:00",
          "2021-05-10T00:00:00",
          "2021-05-17T00:00:00",
          "2021-05-24T00:00:00",
          "2021-05-31T00:00:00",
          "2021-06-07T00:00:00",
          "2021-06-14T00:00:00",
          "2021-06-21T00:00:00",
          "2021-06-28T00:00:00",
          "2021-07-05T00:00:00",
          "2021-07-12T00:00:00",
          "2021-07-19T00:00:00",
          "2021-07-26T00:00:00",
          "2021-08-02T00:00:00",
          "2021-08-09T00:00:00",
          "2021-08-16T00:00:00",
          "2021-08-23T00:00:00",
          "2021-08-30T00:00:00",
          "2021-09-06T00:00:00",
          "2021-09-13T00:00:00",
          "2021-09-20T00:00:00",
          "2021-09-27T00:00:00",
          "2021-10-04T00:00:00",
          "2021-10-11T00:00:00",
          "2021-10-18T00:00:00",
          "2021-10-25T00:00:00",
          "2021-11-01T00:00:00",
          "2021-11-08T00:00:00",
          "2021-11-15T00:00:00",
          "2021-11-22T00:00:00",
          "2021-11-29T00:00:00",
          "2021-12-06T00:00:00",
          "2021-12-13T00:00:00",
          "2021-12-20T00:00:00",
          "2021-12-27T00:00:00",
          "2022-01-03T00:00:00",
          "2022-01-10T00:00:00",
          "2022-01-17T00:00:00",
          "2022-01-24T00:00:00",
          "2022-01-31T00:00:00",
          "2022-02-07T00:00:00"
         ],
         "xaxis": "x",
         "y": [
          52.93,
          53.4,
          54.05,
          53.2,
          48.4,
          48.22,
          47.73,
          50.24,
          53.08,
          52.65,
          49.23,
          48.84,
          46.43,
          48.85,
          51.13,
          49.8,
          47.4,
          46.08,
          44.2,
          43.38,
          47.07,
          44.4,
          46.02,
          46.34,
          50.17,
          49.39,
          47.59,
          47.37,
          46.57,
          47.29,
          48.07,
          49.91,
          52.22,
          50.58,
          49.58,
          51.87,
          51.9,
          54.15,
          57.35,
          56.76,
          56.42,
          58.11,
          57.47,
          57.99,
          57.16,
          58.47,
          60.42,
          61.73,
          64.3,
          63.57,
          65.56,
          64.15,
          59.29,
          61.68,
          63.91,
          62.57,
          61.36,
          62.06,
          65.55,
          63.01,
          63.42,
          66.22,
          68.64,
          68.57,
          70.73,
          70.96,
          72.24,
          67.88,
          64.75,
          66.1,
          65.85,
          68.08,
          73.94,
          73.85,
          68.06,
          67.89,
          70.13,
          69.01,
          67.2,
          66.43,
          68.87,
          69.8,
          67.54,
          68.91,
          72.08,
          75.3,
          74.29,
          71.78,
          69.36,
          67.04,
          63.1,
          59.93,
          57.2,
          51.63,
          52.95,
          51,
          49.88,
          42.53,
          45.41,
          48.52,
          50.51,
          53.8,
          51.99,
          54.56,
          52.41,
          55.59,
          55.48,
          56.59,
          56.79,
          59.09,
          58.82,
          61.59,
          64.4,
          63.4,
          65.7,
          63.5,
          62.25,
          61.04,
          63.1,
          58.63,
          53.25,
          53.26,
          51.93,
          57.9,
          59.09,
          57.66,
          59.58,
          56.22,
          56.87,
          54.69,
          54.93,
          56.21,
          53.64,
          55.1,
          57.85,
          62.9,
          58.64,
          54.07,
          52.75,
          53.59,
          53.31,
          55.81,
          56.54,
          56.86,
          57.05,
          58.01,
          55.96,
          59.02,
          60.21,
          60.52,
          61.68,
          63.27,
          58.08,
          58.54,
          53.14,
          50.11,
          49.57,
          52.05,
          51.43,
          46.75,
          31.13,
          28.7,
          23.36,
          20.09,
          26.08,
          22.41,
          -37.63,
          12.78,
          20.39,
          24.14,
          31.82,
          33.25,
          35.44,
          38.19,
          37.12,
          40.46,
          39.7,
          40.63,
          40.1,
          40.81,
          41.6,
          41.01,
          41.94,
          42.89,
          42.62,
          42.61,
          39.77,
          37.26,
          39.31,
          40.6,
          39.22,
          39.43,
          40.83,
          38.56,
          36.81,
          40.29,
          41.34,
          43.06,
          45.34,
          45.76,
          46.99,
          47.74,
          47.62,
          47.62,
          52.25,
          52.36,
          52.77,
          53.55,
          57.97,
          59.47,
          61.49,
          60.64,
          65.05,
          65.39,
          61.55,
          61.56,
          58.65,
          59.7,
          63.38,
          61.91,
          64.49,
          64.92,
          66.27,
          66.05,
          66.32,
          69.23,
          70.88,
          73.66,
          72.91,
          75.16,
          74.1,
          66.42,
          71.91,
          71.26,
          66.48,
          67.29,
          65.64,
          69.21,
          69.29,
          70.45,
          70.29,
          75.45,
          77.62,
          80.52,
          82.44,
          83.76,
          84.05,
          81.93,
          80.88,
          76.75,
          69.95,
          69.49,
          71.29,
          68.23,
          75.57,
          76.08,
          78.23,
          83.82,
          83.31,
          88.15,
          91.32,
          89.66
         ],
         "yaxis": "y"
        },
        {
         "hovertemplate": "variable=브랜트유종가<br>날짜=%{x}<br>value=%{y}<extra></extra>",
         "legendgroup": "브랜트유종가",
         "line": {
          "color": "#00cc96",
          "dash": "solid"
         },
         "marker": {
          "symbol": "circle"
         },
         "mode": "lines",
         "name": "브랜트유종가",
         "orientation": "v",
         "showlegend": true,
         "type": "scatter",
         "x": [
          "2017-02-06T00:00:00",
          "2017-02-13T00:00:00",
          "2017-02-20T00:00:00",
          "2017-02-27T00:00:00",
          "2017-03-06T00:00:00",
          "2017-03-13T00:00:00",
          "2017-03-20T00:00:00",
          "2017-03-27T00:00:00",
          "2017-04-03T00:00:00",
          "2017-04-10T00:00:00",
          "2017-04-17T00:00:00",
          "2017-04-24T00:00:00",
          "2017-05-01T00:00:00",
          "2017-05-08T00:00:00",
          "2017-05-15T00:00:00",
          "2017-05-22T00:00:00",
          "2017-05-29T00:00:00",
          "2017-06-05T00:00:00",
          "2017-06-12T00:00:00",
          "2017-06-19T00:00:00",
          "2017-06-26T00:00:00",
          "2017-07-03T00:00:00",
          "2017-07-10T00:00:00",
          "2017-07-17T00:00:00",
          "2017-07-24T00:00:00",
          "2017-07-31T00:00:00",
          "2017-08-07T00:00:00",
          "2017-08-14T00:00:00",
          "2017-08-21T00:00:00",
          "2017-08-28T00:00:00",
          "2017-09-04T00:00:00",
          "2017-09-11T00:00:00",
          "2017-09-18T00:00:00",
          "2017-09-25T00:00:00",
          "2017-10-02T00:00:00",
          "2017-10-09T00:00:00",
          "2017-10-16T00:00:00",
          "2017-10-23T00:00:00",
          "2017-10-30T00:00:00",
          "2017-11-06T00:00:00",
          "2017-11-13T00:00:00",
          "2017-11-20T00:00:00",
          "2017-11-27T00:00:00",
          "2017-12-04T00:00:00",
          "2017-12-11T00:00:00",
          "2017-12-18T00:00:00",
          "2017-12-25T00:00:00",
          "2018-01-01T00:00:00",
          "2018-01-08T00:00:00",
          "2018-01-15T00:00:00",
          "2018-01-22T00:00:00",
          "2018-01-29T00:00:00",
          "2018-02-05T00:00:00",
          "2018-02-12T00:00:00",
          "2018-02-19T00:00:00",
          "2018-02-26T00:00:00",
          "2018-03-05T00:00:00",
          "2018-03-12T00:00:00",
          "2018-03-19T00:00:00",
          "2018-03-26T00:00:00",
          "2018-04-02T00:00:00",
          "2018-04-09T00:00:00",
          "2018-04-16T00:00:00",
          "2018-04-23T00:00:00",
          "2018-04-30T00:00:00",
          "2018-05-07T00:00:00",
          "2018-05-14T00:00:00",
          "2018-05-21T00:00:00",
          "2018-05-28T00:00:00",
          "2018-06-04T00:00:00",
          "2018-06-11T00:00:00",
          "2018-06-18T00:00:00",
          "2018-06-25T00:00:00",
          "2018-07-02T00:00:00",
          "2018-07-09T00:00:00",
          "2018-07-16T00:00:00",
          "2018-07-23T00:00:00",
          "2018-07-30T00:00:00",
          "2018-08-06T00:00:00",
          "2018-08-13T00:00:00",
          "2018-08-20T00:00:00",
          "2018-08-27T00:00:00",
          "2018-09-03T00:00:00",
          "2018-09-10T00:00:00",
          "2018-09-17T00:00:00",
          "2018-09-24T00:00:00",
          "2018-10-01T00:00:00",
          "2018-10-08T00:00:00",
          "2018-10-15T00:00:00",
          "2018-10-22T00:00:00",
          "2018-10-29T00:00:00",
          "2018-11-05T00:00:00",
          "2018-11-12T00:00:00",
          "2018-11-19T00:00:00",
          "2018-11-26T00:00:00",
          "2018-12-03T00:00:00",
          "2018-12-10T00:00:00",
          "2018-12-17T00:00:00",
          "2018-12-24T00:00:00",
          "2018-12-31T00:00:00",
          "2019-01-07T00:00:00",
          "2019-01-14T00:00:00",
          "2019-01-21T00:00:00",
          "2019-01-28T00:00:00",
          "2019-02-04T00:00:00",
          "2019-02-11T00:00:00",
          "2019-02-18T00:00:00",
          "2019-02-25T00:00:00",
          "2019-03-04T00:00:00",
          "2019-03-11T00:00:00",
          "2019-03-18T00:00:00",
          "2019-03-25T00:00:00",
          "2019-04-01T00:00:00",
          "2019-04-08T00:00:00",
          "2019-04-15T00:00:00",
          "2019-04-22T00:00:00",
          "2019-04-29T00:00:00",
          "2019-05-06T00:00:00",
          "2019-05-13T00:00:00",
          "2019-05-20T00:00:00",
          "2019-05-27T00:00:00",
          "2019-06-03T00:00:00",
          "2019-06-10T00:00:00",
          "2019-06-17T00:00:00",
          "2019-06-24T00:00:00",
          "2019-07-01T00:00:00",
          "2019-07-08T00:00:00",
          "2019-07-15T00:00:00",
          "2019-07-22T00:00:00",
          "2019-07-29T00:00:00",
          "2019-08-05T00:00:00",
          "2019-08-12T00:00:00",
          "2019-08-19T00:00:00",
          "2019-08-26T00:00:00",
          "2019-09-02T00:00:00",
          "2019-09-09T00:00:00",
          "2019-09-16T00:00:00",
          "2019-09-23T00:00:00",
          "2019-09-30T00:00:00",
          "2019-10-07T00:00:00",
          "2019-10-14T00:00:00",
          "2019-10-21T00:00:00",
          "2019-10-28T00:00:00",
          "2019-11-04T00:00:00",
          "2019-11-11T00:00:00",
          "2019-11-18T00:00:00",
          "2019-11-25T00:00:00",
          "2019-12-02T00:00:00",
          "2019-12-09T00:00:00",
          "2019-12-16T00:00:00",
          "2019-12-23T00:00:00",
          "2019-12-30T00:00:00",
          "2020-01-06T00:00:00",
          "2020-01-13T00:00:00",
          "2020-01-20T00:00:00",
          "2020-01-27T00:00:00",
          "2020-02-03T00:00:00",
          "2020-02-10T00:00:00",
          "2020-02-17T00:00:00",
          "2020-02-24T00:00:00",
          "2020-03-02T00:00:00",
          "2020-03-09T00:00:00",
          "2020-03-16T00:00:00",
          "2020-03-23T00:00:00",
          "2020-03-30T00:00:00",
          "2020-04-06T00:00:00",
          "2020-04-13T00:00:00",
          "2020-04-20T00:00:00",
          "2020-04-27T00:00:00",
          "2020-05-04T00:00:00",
          "2020-05-11T00:00:00",
          "2020-05-18T00:00:00",
          "2020-05-25T00:00:00",
          "2020-06-01T00:00:00",
          "2020-06-08T00:00:00",
          "2020-06-15T00:00:00",
          "2020-06-22T00:00:00",
          "2020-06-29T00:00:00",
          "2020-07-06T00:00:00",
          "2020-07-13T00:00:00",
          "2020-07-20T00:00:00",
          "2020-07-27T00:00:00",
          "2020-08-03T00:00:00",
          "2020-08-10T00:00:00",
          "2020-08-17T00:00:00",
          "2020-08-24T00:00:00",
          "2020-08-31T00:00:00",
          "2020-09-07T00:00:00",
          "2020-09-14T00:00:00",
          "2020-09-21T00:00:00",
          "2020-09-28T00:00:00",
          "2020-10-05T00:00:00",
          "2020-10-12T00:00:00",
          "2020-10-19T00:00:00",
          "2020-10-26T00:00:00",
          "2020-11-02T00:00:00",
          "2020-11-09T00:00:00",
          "2020-11-16T00:00:00",
          "2020-11-23T00:00:00",
          "2020-11-30T00:00:00",
          "2020-12-07T00:00:00",
          "2020-12-14T00:00:00",
          "2020-12-21T00:00:00",
          "2020-12-28T00:00:00",
          "2021-01-04T00:00:00",
          "2021-01-11T00:00:00",
          "2021-01-18T00:00:00",
          "2021-01-25T00:00:00",
          "2021-02-01T00:00:00",
          "2021-02-08T00:00:00",
          "2021-02-15T00:00:00",
          "2021-02-22T00:00:00",
          "2021-03-01T00:00:00",
          "2021-03-08T00:00:00",
          "2021-03-15T00:00:00",
          "2021-03-22T00:00:00",
          "2021-03-29T00:00:00",
          "2021-04-05T00:00:00",
          "2021-04-12T00:00:00",
          "2021-04-19T00:00:00",
          "2021-04-26T00:00:00",
          "2021-05-03T00:00:00",
          "2021-05-10T00:00:00",
          "2021-05-17T00:00:00",
          "2021-05-24T00:00:00",
          "2021-05-31T00:00:00",
          "2021-06-07T00:00:00",
          "2021-06-14T00:00:00",
          "2021-06-21T00:00:00",
          "2021-06-28T00:00:00",
          "2021-07-05T00:00:00",
          "2021-07-12T00:00:00",
          "2021-07-19T00:00:00",
          "2021-07-26T00:00:00",
          "2021-08-02T00:00:00",
          "2021-08-09T00:00:00",
          "2021-08-16T00:00:00",
          "2021-08-23T00:00:00",
          "2021-08-30T00:00:00",
          "2021-09-06T00:00:00",
          "2021-09-13T00:00:00",
          "2021-09-20T00:00:00",
          "2021-09-27T00:00:00",
          "2021-10-04T00:00:00",
          "2021-10-11T00:00:00",
          "2021-10-18T00:00:00",
          "2021-10-25T00:00:00",
          "2021-11-01T00:00:00",
          "2021-11-08T00:00:00",
          "2021-11-15T00:00:00",
          "2021-11-22T00:00:00",
          "2021-11-29T00:00:00",
          "2021-12-06T00:00:00",
          "2021-12-13T00:00:00",
          "2021-12-20T00:00:00",
          "2021-12-27T00:00:00",
          "2022-01-03T00:00:00",
          "2022-01-10T00:00:00",
          "2022-01-17T00:00:00",
          "2022-01-24T00:00:00",
          "2022-01-31T00:00:00",
          "2022-02-07T00:00:00"
         ],
         "xaxis": "x",
         "y": [
          55.59,
          56.18,
          55.93,
          56.01,
          51.35,
          51.62,
          50.75,
          53.12,
          55.98,
          55.36,
          51.6,
          51.52,
          49.34,
          51.82,
          53.87,
          52.29,
          49.47,
          48.29,
          46.91,
          45.83,
          49.68,
          46.88,
          48.42,
          48.6,
          52.72,
          52.37,
          50.73,
          51.66,
          51.89,
          52.34,
          53.84,
          55.48,
          59.02,
          56.12,
          55.79,
          57.82,
          57.37,
          60.9,
          64.27,
          63.16,
          62.22,
          63.84,
          62.45,
          64.69,
          63.41,
          65.25,
          66.87,
          67.78,
          70.26,
          69.03,
          69.46,
          67.62,
          62.59,
          65.67,
          67.5,
          65.54,
          64.95,
          66.05,
          70.12,
          67.64,
          68.65,
          71.42,
          74.71,
          74.69,
          76.17,
          78.23,
          79.22,
          75.3,
          75.29,
          76.46,
          75.34,
          74.73,
          77.3,
          78.07,
          71.84,
          73.06,
          74.97,
          73.75,
          72.61,
          72.21,
          76.21,
          78.15,
          77.37,
          78.05,
          81.2,
          84.98,
          83.91,
          80.78,
          79.83,
          77.34,
          73.17,
          70.12,
          66.79,
          60.48,
          61.69,
          59.97,
          59.61,
          50.47,
          53.8,
          57.33,
          58.99,
          62.74,
          59.93,
          62.51,
          61.51,
          66.5,
          64.76,
          65.67,
          66.58,
          67.54,
          67.21,
          69.01,
          71.1,
          71.18,
          74.04,
          72.04,
          71.24,
          70.23,
          71.97,
          70.11,
          61.28,
          62.29,
          60.94,
          64.86,
          65.06,
          64.11,
          66.48,
          63.26,
          63.71,
          59.81,
          58.57,
          59.74,
          58.7,
          58.66,
          62.59,
          69.02,
          64.77,
          60.78,
          58.35,
          59.35,
          58.96,
          61.57,
          62.13,
          62.18,
          62.44,
          63.65,
          60.92,
          64.25,
          65.34,
          66.39,
          68.44,
          68.91,
          64.2,
          65.2,
          59.32,
          54.45,
          53.27,
          57.67,
          56.3,
          51.9,
          34.36,
          30.05,
          27.03,
          22.76,
          33.05,
          31.74,
          25.57,
          19.99,
          27.2,
          29.63,
          34.81,
          35.53,
          38.32,
          40.8,
          39.72,
          43.08,
          41.71,
          43.1,
          42.72,
          43.28,
          43.41,
          44.15,
          44.99,
          45.37,
          45.13,
          45.28,
          42.01,
          39.61,
          41.44,
          42.43,
          41.29,
          41.72,
          42.62,
          40.46,
          38.97,
          42.4,
          43.82,
          46.06,
          47.59,
          48.79,
          50.29,
          50.91,
          50.86,
          51.09,
          55.66,
          54.75,
          55.88,
          56.35,
          60.56,
          63.3,
          65.24,
          63.69,
          68.24,
          68.88,
          64.62,
          64.98,
          62.15,
          63.28,
          67.05,
          65.65,
          67.56,
          68.32,
          69.46,
          68.46,
          69.32,
          71.49,
          72.86,
          74.9,
          74.68,
          77.16,
          75.16,
          68.62,
          74.5,
          72.89,
          69.04,
          69.51,
          68.75,
          73.41,
          72.22,
          73.51,
          73.92,
          79.53,
          81.26,
          83.65,
          84.33,
          85.99,
          84.71,
          83.43,
          82.05,
          79.7,
          73.44,
          73.08,
          74.39,
          71.52,
          78.6,
          78.98,
          80.87,
          86.48,
          86.27,
          91.21,
          92.69,
          91.55
         ],
         "yaxis": "y"
        }
       ],
       "layout": {
        "legend": {
         "title": {
          "text": "variable"
         },
         "tracegroupgap": 0
        },
        "margin": {
         "t": 60
        },
        "template": {
         "data": {
          "bar": [
           {
            "error_x": {
             "color": "#2a3f5f"
            },
            "error_y": {
             "color": "#2a3f5f"
            },
            "marker": {
             "line": {
              "color": "#E5ECF6",
              "width": 0.5
             },
             "pattern": {
              "fillmode": "overlay",
              "size": 10,
              "solidity": 0.2
             }
            },
            "type": "bar"
           }
          ],
          "barpolar": [
           {
            "marker": {
             "line": {
              "color": "#E5ECF6",
              "width": 0.5
             },
             "pattern": {
              "fillmode": "overlay",
              "size": 10,
              "solidity": 0.2
             }
            },
            "type": "barpolar"
           }
          ],
          "carpet": [
           {
            "aaxis": {
             "endlinecolor": "#2a3f5f",
             "gridcolor": "white",
             "linecolor": "white",
             "minorgridcolor": "white",
             "startlinecolor": "#2a3f5f"
            },
            "baxis": {
             "endlinecolor": "#2a3f5f",
             "gridcolor": "white",
             "linecolor": "white",
             "minorgridcolor": "white",
             "startlinecolor": "#2a3f5f"
            },
            "type": "carpet"
           }
          ],
          "choropleth": [
           {
            "colorbar": {
             "outlinewidth": 0,
             "ticks": ""
            },
            "type": "choropleth"
           }
          ],
          "contour": [
           {
            "colorbar": {
             "outlinewidth": 0,
             "ticks": ""
            },
            "colorscale": [
             [
              0,
              "#0d0887"
             ],
             [
              0.1111111111111111,
              "#46039f"
             ],
             [
              0.2222222222222222,
              "#7201a8"
             ],
             [
              0.3333333333333333,
              "#9c179e"
             ],
             [
              0.4444444444444444,
              "#bd3786"
             ],
             [
              0.5555555555555556,
              "#d8576b"
             ],
             [
              0.6666666666666666,
              "#ed7953"
             ],
             [
              0.7777777777777778,
              "#fb9f3a"
             ],
             [
              0.8888888888888888,
              "#fdca26"
             ],
             [
              1,
              "#f0f921"
             ]
            ],
            "type": "contour"
           }
          ],
          "contourcarpet": [
           {
            "colorbar": {
             "outlinewidth": 0,
             "ticks": ""
            },
            "type": "contourcarpet"
           }
          ],
          "heatmap": [
           {
            "colorbar": {
             "outlinewidth": 0,
             "ticks": ""
            },
            "colorscale": [
             [
              0,
              "#0d0887"
             ],
             [
              0.1111111111111111,
              "#46039f"
             ],
             [
              0.2222222222222222,
              "#7201a8"
             ],
             [
              0.3333333333333333,
              "#9c179e"
             ],
             [
              0.4444444444444444,
              "#bd3786"
             ],
             [
              0.5555555555555556,
              "#d8576b"
             ],
             [
              0.6666666666666666,
              "#ed7953"
             ],
             [
              0.7777777777777778,
              "#fb9f3a"
             ],
             [
              0.8888888888888888,
              "#fdca26"
             ],
             [
              1,
              "#f0f921"
             ]
            ],
            "type": "heatmap"
           }
          ],
          "heatmapgl": [
           {
            "colorbar": {
             "outlinewidth": 0,
             "ticks": ""
            },
            "colorscale": [
             [
              0,
              "#0d0887"
             ],
             [
              0.1111111111111111,
              "#46039f"
             ],
             [
              0.2222222222222222,
              "#7201a8"
             ],
             [
              0.3333333333333333,
              "#9c179e"
             ],
             [
              0.4444444444444444,
              "#bd3786"
             ],
             [
              0.5555555555555556,
              "#d8576b"
             ],
             [
              0.6666666666666666,
              "#ed7953"
             ],
             [
              0.7777777777777778,
              "#fb9f3a"
             ],
             [
              0.8888888888888888,
              "#fdca26"
             ],
             [
              1,
              "#f0f921"
             ]
            ],
            "type": "heatmapgl"
           }
          ],
          "histogram": [
           {
            "marker": {
             "pattern": {
              "fillmode": "overlay",
              "size": 10,
              "solidity": 0.2
             }
            },
            "type": "histogram"
           }
          ],
          "histogram2d": [
           {
            "colorbar": {
             "outlinewidth": 0,
             "ticks": ""
            },
            "colorscale": [
             [
              0,
              "#0d0887"
             ],
             [
              0.1111111111111111,
              "#46039f"
             ],
             [
              0.2222222222222222,
              "#7201a8"
             ],
             [
              0.3333333333333333,
              "#9c179e"
             ],
             [
              0.4444444444444444,
              "#bd3786"
             ],
             [
              0.5555555555555556,
              "#d8576b"
             ],
             [
              0.6666666666666666,
              "#ed7953"
             ],
             [
              0.7777777777777778,
              "#fb9f3a"
             ],
             [
              0.8888888888888888,
              "#fdca26"
             ],
             [
              1,
              "#f0f921"
             ]
            ],
            "type": "histogram2d"
           }
          ],
          "histogram2dcontour": [
           {
            "colorbar": {
             "outlinewidth": 0,
             "ticks": ""
            },
            "colorscale": [
             [
              0,
              "#0d0887"
             ],
             [
              0.1111111111111111,
              "#46039f"
             ],
             [
              0.2222222222222222,
              "#7201a8"
             ],
             [
              0.3333333333333333,
              "#9c179e"
             ],
             [
              0.4444444444444444,
              "#bd3786"
             ],
             [
              0.5555555555555556,
              "#d8576b"
             ],
             [
              0.6666666666666666,
              "#ed7953"
             ],
             [
              0.7777777777777778,
              "#fb9f3a"
             ],
             [
              0.8888888888888888,
              "#fdca26"
             ],
             [
              1,
              "#f0f921"
             ]
            ],
            "type": "histogram2dcontour"
           }
          ],
          "mesh3d": [
           {
            "colorbar": {
             "outlinewidth": 0,
             "ticks": ""
            },
            "type": "mesh3d"
           }
          ],
          "parcoords": [
           {
            "line": {
             "colorbar": {
              "outlinewidth": 0,
              "ticks": ""
             }
            },
            "type": "parcoords"
           }
          ],
          "pie": [
           {
            "automargin": true,
            "type": "pie"
           }
          ],
          "scatter": [
           {
            "marker": {
             "colorbar": {
              "outlinewidth": 0,
              "ticks": ""
             }
            },
            "type": "scatter"
           }
          ],
          "scatter3d": [
           {
            "line": {
             "colorbar": {
              "outlinewidth": 0,
              "ticks": ""
             }
            },
            "marker": {
             "colorbar": {
              "outlinewidth": 0,
              "ticks": ""
             }
            },
            "type": "scatter3d"
           }
          ],
          "scattercarpet": [
           {
            "marker": {
             "colorbar": {
              "outlinewidth": 0,
              "ticks": ""
             }
            },
            "type": "scattercarpet"
           }
          ],
          "scattergeo": [
           {
            "marker": {
             "colorbar": {
              "outlinewidth": 0,
              "ticks": ""
             }
            },
            "type": "scattergeo"
           }
          ],
          "scattergl": [
           {
            "marker": {
             "colorbar": {
              "outlinewidth": 0,
              "ticks": ""
             }
            },
            "type": "scattergl"
           }
          ],
          "scattermapbox": [
           {
            "marker": {
             "colorbar": {
              "outlinewidth": 0,
              "ticks": ""
             }
            },
            "type": "scattermapbox"
           }
          ],
          "scatterpolar": [
           {
            "marker": {
             "colorbar": {
              "outlinewidth": 0,
              "ticks": ""
             }
            },
            "type": "scatterpolar"
           }
          ],
          "scatterpolargl": [
           {
            "marker": {
             "colorbar": {
              "outlinewidth": 0,
              "ticks": ""
             }
            },
            "type": "scatterpolargl"
           }
          ],
          "scatterternary": [
           {
            "marker": {
             "colorbar": {
              "outlinewidth": 0,
              "ticks": ""
             }
            },
            "type": "scatterternary"
           }
          ],
          "surface": [
           {
            "colorbar": {
             "outlinewidth": 0,
             "ticks": ""
            },
            "colorscale": [
             [
              0,
              "#0d0887"
             ],
             [
              0.1111111111111111,
              "#46039f"
             ],
             [
              0.2222222222222222,
              "#7201a8"
             ],
             [
              0.3333333333333333,
              "#9c179e"
             ],
             [
              0.4444444444444444,
              "#bd3786"
             ],
             [
              0.5555555555555556,
              "#d8576b"
             ],
             [
              0.6666666666666666,
              "#ed7953"
             ],
             [
              0.7777777777777778,
              "#fb9f3a"
             ],
             [
              0.8888888888888888,
              "#fdca26"
             ],
             [
              1,
              "#f0f921"
             ]
            ],
            "type": "surface"
           }
          ],
          "table": [
           {
            "cells": {
             "fill": {
              "color": "#EBF0F8"
             },
             "line": {
              "color": "white"
             }
            },
            "header": {
             "fill": {
              "color": "#C8D4E3"
             },
             "line": {
              "color": "white"
             }
            },
            "type": "table"
           }
          ]
         },
         "layout": {
          "annotationdefaults": {
           "arrowcolor": "#2a3f5f",
           "arrowhead": 0,
           "arrowwidth": 1
          },
          "autotypenumbers": "strict",
          "coloraxis": {
           "colorbar": {
            "outlinewidth": 0,
            "ticks": ""
           }
          },
          "colorscale": {
           "diverging": [
            [
             0,
             "#8e0152"
            ],
            [
             0.1,
             "#c51b7d"
            ],
            [
             0.2,
             "#de77ae"
            ],
            [
             0.3,
             "#f1b6da"
            ],
            [
             0.4,
             "#fde0ef"
            ],
            [
             0.5,
             "#f7f7f7"
            ],
            [
             0.6,
             "#e6f5d0"
            ],
            [
             0.7,
             "#b8e186"
            ],
            [
             0.8,
             "#7fbc41"
            ],
            [
             0.9,
             "#4d9221"
            ],
            [
             1,
             "#276419"
            ]
           ],
           "sequential": [
            [
             0,
             "#0d0887"
            ],
            [
             0.1111111111111111,
             "#46039f"
            ],
            [
             0.2222222222222222,
             "#7201a8"
            ],
            [
             0.3333333333333333,
             "#9c179e"
            ],
            [
             0.4444444444444444,
             "#bd3786"
            ],
            [
             0.5555555555555556,
             "#d8576b"
            ],
            [
             0.6666666666666666,
             "#ed7953"
            ],
            [
             0.7777777777777778,
             "#fb9f3a"
            ],
            [
             0.8888888888888888,
             "#fdca26"
            ],
            [
             1,
             "#f0f921"
            ]
           ],
           "sequentialminus": [
            [
             0,
             "#0d0887"
            ],
            [
             0.1111111111111111,
             "#46039f"
            ],
            [
             0.2222222222222222,
             "#7201a8"
            ],
            [
             0.3333333333333333,
             "#9c179e"
            ],
            [
             0.4444444444444444,
             "#bd3786"
            ],
            [
             0.5555555555555556,
             "#d8576b"
            ],
            [
             0.6666666666666666,
             "#ed7953"
            ],
            [
             0.7777777777777778,
             "#fb9f3a"
            ],
            [
             0.8888888888888888,
             "#fdca26"
            ],
            [
             1,
             "#f0f921"
            ]
           ]
          },
          "colorway": [
           "#636efa",
           "#EF553B",
           "#00cc96",
           "#ab63fa",
           "#FFA15A",
           "#19d3f3",
           "#FF6692",
           "#B6E880",
           "#FF97FF",
           "#FECB52"
          ],
          "font": {
           "color": "#2a3f5f"
          },
          "geo": {
           "bgcolor": "white",
           "lakecolor": "white",
           "landcolor": "#E5ECF6",
           "showlakes": true,
           "showland": true,
           "subunitcolor": "white"
          },
          "hoverlabel": {
           "align": "left"
          },
          "hovermode": "closest",
          "mapbox": {
           "style": "light"
          },
          "paper_bgcolor": "white",
          "plot_bgcolor": "#E5ECF6",
          "polar": {
           "angularaxis": {
            "gridcolor": "white",
            "linecolor": "white",
            "ticks": ""
           },
           "bgcolor": "#E5ECF6",
           "radialaxis": {
            "gridcolor": "white",
            "linecolor": "white",
            "ticks": ""
           }
          },
          "scene": {
           "xaxis": {
            "backgroundcolor": "#E5ECF6",
            "gridcolor": "white",
            "gridwidth": 2,
            "linecolor": "white",
            "showbackground": true,
            "ticks": "",
            "zerolinecolor": "white"
           },
           "yaxis": {
            "backgroundcolor": "#E5ECF6",
            "gridcolor": "white",
            "gridwidth": 2,
            "linecolor": "white",
            "showbackground": true,
            "ticks": "",
            "zerolinecolor": "white"
           },
           "zaxis": {
            "backgroundcolor": "#E5ECF6",
            "gridcolor": "white",
            "gridwidth": 2,
            "linecolor": "white",
            "showbackground": true,
            "ticks": "",
            "zerolinecolor": "white"
           }
          },
          "shapedefaults": {
           "line": {
            "color": "#2a3f5f"
           }
          },
          "ternary": {
           "aaxis": {
            "gridcolor": "white",
            "linecolor": "white",
            "ticks": ""
           },
           "baxis": {
            "gridcolor": "white",
            "linecolor": "white",
            "ticks": ""
           },
           "bgcolor": "#E5ECF6",
           "caxis": {
            "gridcolor": "white",
            "linecolor": "white",
            "ticks": ""
           }
          },
          "title": {
           "x": 0.05
          },
          "xaxis": {
           "automargin": true,
           "gridcolor": "white",
           "linecolor": "white",
           "ticks": "",
           "title": {
            "standoff": 15
           },
           "zerolinecolor": "white",
           "zerolinewidth": 2
          },
          "yaxis": {
           "automargin": true,
           "gridcolor": "white",
           "linecolor": "white",
           "ticks": "",
           "title": {
            "standoff": 15
           },
           "zerolinecolor": "white",
           "zerolinewidth": 2
          }
         }
        },
        "xaxis": {
         "anchor": "y",
         "domain": [
          0,
          1
         ],
         "title": {
          "text": "날짜"
         }
        },
        "yaxis": {
         "anchor": "x",
         "domain": [
          0,
          1
         ],
         "title": {
          "text": "value"
         }
        }
       }
      },
      "text/html": [
       "<div>                            <div id=\"ddacf830-9b44-4581-a01a-1eab8647f005\" class=\"plotly-graph-div\" style=\"height:525px; width:100%;\"></div>            <script type=\"text/javascript\">                require([\"plotly\"], function(Plotly) {                    window.PLOTLYENV=window.PLOTLYENV || {};                                    if (document.getElementById(\"ddacf830-9b44-4581-a01a-1eab8647f005\")) {                    Plotly.newPlot(                        \"ddacf830-9b44-4581-a01a-1eab8647f005\",                        [{\"hovertemplate\":\"variable=\\ub450\\ubc14\\uc774\\uc720(\\uc120\\ubb3c)\\uc885\\uac00<br>\\ub0a0\\uc9dc=%{x}<br>value=%{y}<extra></extra>\",\"legendgroup\":\"\\ub450\\ubc14\\uc774\\uc720(\\uc120\\ubb3c)\\uc885\\uac00\",\"line\":{\"color\":\"#636efa\",\"dash\":\"solid\"},\"marker\":{\"symbol\":\"circle\"},\"mode\":\"lines\",\"name\":\"\\ub450\\ubc14\\uc774\\uc720(\\uc120\\ubb3c)\\uc885\\uac00\",\"orientation\":\"v\",\"showlegend\":true,\"x\":[\"2017-02-06T00:00:00\",\"2017-02-13T00:00:00\",\"2017-02-20T00:00:00\",\"2017-02-27T00:00:00\",\"2017-03-06T00:00:00\",\"2017-03-13T00:00:00\",\"2017-03-20T00:00:00\",\"2017-03-27T00:00:00\",\"2017-04-03T00:00:00\",\"2017-04-10T00:00:00\",\"2017-04-17T00:00:00\",\"2017-04-24T00:00:00\",\"2017-05-01T00:00:00\",\"2017-05-08T00:00:00\",\"2017-05-15T00:00:00\",\"2017-05-22T00:00:00\",\"2017-05-29T00:00:00\",\"2017-06-05T00:00:00\",\"2017-06-12T00:00:00\",\"2017-06-19T00:00:00\",\"2017-06-26T00:00:00\",\"2017-07-03T00:00:00\",\"2017-07-10T00:00:00\",\"2017-07-17T00:00:00\",\"2017-07-24T00:00:00\",\"2017-07-31T00:00:00\",\"2017-08-07T00:00:00\",\"2017-08-14T00:00:00\",\"2017-08-21T00:00:00\",\"2017-08-28T00:00:00\",\"2017-09-04T00:00:00\",\"2017-09-11T00:00:00\",\"2017-09-18T00:00:00\",\"2017-09-25T00:00:00\",\"2017-10-02T00:00:00\",\"2017-10-09T00:00:00\",\"2017-10-16T00:00:00\",\"2017-10-23T00:00:00\",\"2017-10-30T00:00:00\",\"2017-11-06T00:00:00\",\"2017-11-13T00:00:00\",\"2017-11-20T00:00:00\",\"2017-11-27T00:00:00\",\"2017-12-04T00:00:00\",\"2017-12-11T00:00:00\",\"2017-12-18T00:00:00\",\"2017-12-25T00:00:00\",\"2018-01-01T00:00:00\",\"2018-01-08T00:00:00\",\"2018-01-15T00:00:00\",\"2018-01-22T00:00:00\",\"2018-01-29T00:00:00\",\"2018-02-05T00:00:00\",\"2018-02-12T00:00:00\",\"2018-02-19T00:00:00\",\"2018-02-26T00:00:00\",\"2018-03-05T00:00:00\",\"2018-03-12T00:00:00\",\"2018-03-19T00:00:00\",\"2018-03-26T00:00:00\",\"2018-04-02T00:00:00\",\"2018-04-09T00:00:00\",\"2018-04-16T00:00:00\",\"2018-04-23T00:00:00\",\"2018-04-30T00:00:00\",\"2018-05-07T00:00:00\",\"2018-05-14T00:00:00\",\"2018-05-21T00:00:00\",\"2018-05-28T00:00:00\",\"2018-06-04T00:00:00\",\"2018-06-11T00:00:00\",\"2018-06-18T00:00:00\",\"2018-06-25T00:00:00\",\"2018-07-02T00:00:00\",\"2018-07-09T00:00:00\",\"2018-07-16T00:00:00\",\"2018-07-23T00:00:00\",\"2018-07-30T00:00:00\",\"2018-08-06T00:00:00\",\"2018-08-13T00:00:00\",\"2018-08-20T00:00:00\",\"2018-08-27T00:00:00\",\"2018-09-03T00:00:00\",\"2018-09-10T00:00:00\",\"2018-09-17T00:00:00\",\"2018-09-24T00:00:00\",\"2018-10-01T00:00:00\",\"2018-10-08T00:00:00\",\"2018-10-15T00:00:00\",\"2018-10-22T00:00:00\",\"2018-10-29T00:00:00\",\"2018-11-05T00:00:00\",\"2018-11-12T00:00:00\",\"2018-11-19T00:00:00\",\"2018-11-26T00:00:00\",\"2018-12-03T00:00:00\",\"2018-12-10T00:00:00\",\"2018-12-17T00:00:00\",\"2018-12-24T00:00:00\",\"2018-12-31T00:00:00\",\"2019-01-07T00:00:00\",\"2019-01-14T00:00:00\",\"2019-01-21T00:00:00\",\"2019-01-28T00:00:00\",\"2019-02-04T00:00:00\",\"2019-02-11T00:00:00\",\"2019-02-18T00:00:00\",\"2019-02-25T00:00:00\",\"2019-03-04T00:00:00\",\"2019-03-11T00:00:00\",\"2019-03-18T00:00:00\",\"2019-03-25T00:00:00\",\"2019-04-01T00:00:00\",\"2019-04-08T00:00:00\",\"2019-04-15T00:00:00\",\"2019-04-22T00:00:00\",\"2019-04-29T00:00:00\",\"2019-05-06T00:00:00\",\"2019-05-13T00:00:00\",\"2019-05-20T00:00:00\",\"2019-05-27T00:00:00\",\"2019-06-03T00:00:00\",\"2019-06-10T00:00:00\",\"2019-06-17T00:00:00\",\"2019-06-24T00:00:00\",\"2019-07-01T00:00:00\",\"2019-07-08T00:00:00\",\"2019-07-15T00:00:00\",\"2019-07-22T00:00:00\",\"2019-07-29T00:00:00\",\"2019-08-05T00:00:00\",\"2019-08-12T00:00:00\",\"2019-08-19T00:00:00\",\"2019-08-26T00:00:00\",\"2019-09-02T00:00:00\",\"2019-09-09T00:00:00\",\"2019-09-16T00:00:00\",\"2019-09-23T00:00:00\",\"2019-09-30T00:00:00\",\"2019-10-07T00:00:00\",\"2019-10-14T00:00:00\",\"2019-10-21T00:00:00\",\"2019-10-28T00:00:00\",\"2019-11-04T00:00:00\",\"2019-11-11T00:00:00\",\"2019-11-18T00:00:00\",\"2019-11-25T00:00:00\",\"2019-12-02T00:00:00\",\"2019-12-09T00:00:00\",\"2019-12-16T00:00:00\",\"2019-12-23T00:00:00\",\"2019-12-30T00:00:00\",\"2020-01-06T00:00:00\",\"2020-01-13T00:00:00\",\"2020-01-20T00:00:00\",\"2020-01-27T00:00:00\",\"2020-02-03T00:00:00\",\"2020-02-10T00:00:00\",\"2020-02-17T00:00:00\",\"2020-02-24T00:00:00\",\"2020-03-02T00:00:00\",\"2020-03-09T00:00:00\",\"2020-03-16T00:00:00\",\"2020-03-23T00:00:00\",\"2020-03-30T00:00:00\",\"2020-04-06T00:00:00\",\"2020-04-13T00:00:00\",\"2020-04-20T00:00:00\",\"2020-04-27T00:00:00\",\"2020-05-04T00:00:00\",\"2020-05-11T00:00:00\",\"2020-05-18T00:00:00\",\"2020-05-25T00:00:00\",\"2020-06-01T00:00:00\",\"2020-06-08T00:00:00\",\"2020-06-15T00:00:00\",\"2020-06-22T00:00:00\",\"2020-06-29T00:00:00\",\"2020-07-06T00:00:00\",\"2020-07-13T00:00:00\",\"2020-07-20T00:00:00\",\"2020-07-27T00:00:00\",\"2020-08-03T00:00:00\",\"2020-08-10T00:00:00\",\"2020-08-17T00:00:00\",\"2020-08-24T00:00:00\",\"2020-08-31T00:00:00\",\"2020-09-07T00:00:00\",\"2020-09-14T00:00:00\",\"2020-09-21T00:00:00\",\"2020-09-28T00:00:00\",\"2020-10-05T00:00:00\",\"2020-10-12T00:00:00\",\"2020-10-19T00:00:00\",\"2020-10-26T00:00:00\",\"2020-11-02T00:00:00\",\"2020-11-09T00:00:00\",\"2020-11-16T00:00:00\",\"2020-11-23T00:00:00\",\"2020-11-30T00:00:00\",\"2020-12-07T00:00:00\",\"2020-12-14T00:00:00\",\"2020-12-21T00:00:00\",\"2020-12-28T00:00:00\",\"2021-01-04T00:00:00\",\"2021-01-11T00:00:00\",\"2021-01-18T00:00:00\",\"2021-01-25T00:00:00\",\"2021-02-01T00:00:00\",\"2021-02-08T00:00:00\",\"2021-02-15T00:00:00\",\"2021-02-22T00:00:00\",\"2021-03-01T00:00:00\",\"2021-03-08T00:00:00\",\"2021-03-15T00:00:00\",\"2021-03-22T00:00:00\",\"2021-03-29T00:00:00\",\"2021-04-05T00:00:00\",\"2021-04-12T00:00:00\",\"2021-04-19T00:00:00\",\"2021-04-26T00:00:00\",\"2021-05-03T00:00:00\",\"2021-05-10T00:00:00\",\"2021-05-17T00:00:00\",\"2021-05-24T00:00:00\",\"2021-05-31T00:00:00\",\"2021-06-07T00:00:00\",\"2021-06-14T00:00:00\",\"2021-06-21T00:00:00\",\"2021-06-28T00:00:00\",\"2021-07-05T00:00:00\",\"2021-07-12T00:00:00\",\"2021-07-19T00:00:00\",\"2021-07-26T00:00:00\",\"2021-08-02T00:00:00\",\"2021-08-09T00:00:00\",\"2021-08-16T00:00:00\",\"2021-08-23T00:00:00\",\"2021-08-30T00:00:00\",\"2021-09-06T00:00:00\",\"2021-09-13T00:00:00\",\"2021-09-20T00:00:00\",\"2021-09-27T00:00:00\",\"2021-10-04T00:00:00\",\"2021-10-11T00:00:00\",\"2021-10-18T00:00:00\",\"2021-10-25T00:00:00\",\"2021-11-01T00:00:00\",\"2021-11-08T00:00:00\",\"2021-11-15T00:00:00\",\"2021-11-22T00:00:00\",\"2021-11-29T00:00:00\",\"2021-12-06T00:00:00\",\"2021-12-13T00:00:00\",\"2021-12-20T00:00:00\",\"2021-12-27T00:00:00\",\"2022-01-03T00:00:00\",\"2022-01-10T00:00:00\",\"2022-01-17T00:00:00\",\"2022-01-24T00:00:00\",\"2022-01-31T00:00:00\",\"2022-02-07T00:00:00\"],\"xaxis\":\"x\",\"y\":[54.03,54.22,54.43,54.32,51.36,51.32,51.01,51.35,53.83,53.43,52.31,50.69,48.54,50.04,50.93,50.59,48.25,47.48,46.56,46.25,48.54,46.03,46.98,47.11,51.27,51.0,49.85,50.09,50.24,51.49,52.35,53.25,53.92,54.72,54.1,55.34,55.14,55.54,61.83,61.18,60.55,60.89,60.02,61.62,60.8,61.15,64.3,65.09,66.36,65.97,66.23,64.99,61.16,62.28,62.75,61.94,61.32,61.86,62.77,64.62,65.83,67.25,68.41,71.62,72.83,74.02,74.79,74.45,73.15,null,null,null,null,null,null,72.67,73.15,72.35,71.52,71.18,72.45,75.56,75.56,76.06,77.02,82.82,82.58,80.39,80.19,79.41,71.88,69.81,67.68,65.63,60.52,59.01,59.14,56.93,57.318,55.625,57.636,59.52,58.918,62.549,61.648,64.679,64.505,65.609,66.589,67.021,66.891,68.457,70.093,69.825,71.018,70.93,70.556,69.641,70.908,69.426,60.404,60.585,59.939,61.64,63.192,62.613,64.306,62.591,63.162,58.86,58.35,58.93,58.865,59.106,60.058,63.12,61.637,61.115,58.223,58.935,58.866,59.453,59.369,61.095,61.557,61.94,61.974,63.34,64.192,64.651,64.847,68.275,65.722,65.745,64.369,64.286,52.999,55.342,54.681,54.219,36.264,36.964,34.046,33.844,27.449,26.157,22.235,20.374,20.387,27.267,30.547,30.341,30.467,40.695,39.502,41.12,40.796,42.89,43.097,43.054,43.332,43.278,43.779,43.78,43.913,43.987,42.612,40.154,41.409,41.601,40.42,40.777,41.373,41.142,40.661,41.405,42.524,43.076,43.52,48.227,49.461,50.344,49.773,49.815,55.059,54.532,54.759,54.772,59.361,60.226,60.62,60.855,65.836,66.375,64.707,64.435,64.414,61.302,63.475,62.801,62.894,66.203,66.825,66.264,66.275,69.839,70.78,71.481,71.536,71.573,73.539,71.007,72.83,72.903,68.494,69.527,68.76,69.465,70.641,71.111,71.358,72.611,72.608,80.679,81.311,81.732,81.585,81.616,81.411,80.548,80.305,71.654,72.708,71.655,72.99,73.185,78.887,82.269,82.868,83.455,90.757,89.883],\"yaxis\":\"y\",\"type\":\"scatter\"},{\"hovertemplate\":\"variable=wti\\uc885\\uac00<br>\\ub0a0\\uc9dc=%{x}<br>value=%{y}<extra></extra>\",\"legendgroup\":\"wti\\uc885\\uac00\",\"line\":{\"color\":\"#EF553B\",\"dash\":\"solid\"},\"marker\":{\"symbol\":\"circle\"},\"mode\":\"lines\",\"name\":\"wti\\uc885\\uac00\",\"orientation\":\"v\",\"showlegend\":true,\"x\":[\"2017-02-06T00:00:00\",\"2017-02-13T00:00:00\",\"2017-02-20T00:00:00\",\"2017-02-27T00:00:00\",\"2017-03-06T00:00:00\",\"2017-03-13T00:00:00\",\"2017-03-20T00:00:00\",\"2017-03-27T00:00:00\",\"2017-04-03T00:00:00\",\"2017-04-10T00:00:00\",\"2017-04-17T00:00:00\",\"2017-04-24T00:00:00\",\"2017-05-01T00:00:00\",\"2017-05-08T00:00:00\",\"2017-05-15T00:00:00\",\"2017-05-22T00:00:00\",\"2017-05-29T00:00:00\",\"2017-06-05T00:00:00\",\"2017-06-12T00:00:00\",\"2017-06-19T00:00:00\",\"2017-06-26T00:00:00\",\"2017-07-03T00:00:00\",\"2017-07-10T00:00:00\",\"2017-07-17T00:00:00\",\"2017-07-24T00:00:00\",\"2017-07-31T00:00:00\",\"2017-08-07T00:00:00\",\"2017-08-14T00:00:00\",\"2017-08-21T00:00:00\",\"2017-08-28T00:00:00\",\"2017-09-04T00:00:00\",\"2017-09-11T00:00:00\",\"2017-09-18T00:00:00\",\"2017-09-25T00:00:00\",\"2017-10-02T00:00:00\",\"2017-10-09T00:00:00\",\"2017-10-16T00:00:00\",\"2017-10-23T00:00:00\",\"2017-10-30T00:00:00\",\"2017-11-06T00:00:00\",\"2017-11-13T00:00:00\",\"2017-11-20T00:00:00\",\"2017-11-27T00:00:00\",\"2017-12-04T00:00:00\",\"2017-12-11T00:00:00\",\"2017-12-18T00:00:00\",\"2017-12-25T00:00:00\",\"2018-01-01T00:00:00\",\"2018-01-08T00:00:00\",\"2018-01-15T00:00:00\",\"2018-01-22T00:00:00\",\"2018-01-29T00:00:00\",\"2018-02-05T00:00:00\",\"2018-02-12T00:00:00\",\"2018-02-19T00:00:00\",\"2018-02-26T00:00:00\",\"2018-03-05T00:00:00\",\"2018-03-12T00:00:00\",\"2018-03-19T00:00:00\",\"2018-03-26T00:00:00\",\"2018-04-02T00:00:00\",\"2018-04-09T00:00:00\",\"2018-04-16T00:00:00\",\"2018-04-23T00:00:00\",\"2018-04-30T00:00:00\",\"2018-05-07T00:00:00\",\"2018-05-14T00:00:00\",\"2018-05-21T00:00:00\",\"2018-05-28T00:00:00\",\"2018-06-04T00:00:00\",\"2018-06-11T00:00:00\",\"2018-06-18T00:00:00\",\"2018-06-25T00:00:00\",\"2018-07-02T00:00:00\",\"2018-07-09T00:00:00\",\"2018-07-16T00:00:00\",\"2018-07-23T00:00:00\",\"2018-07-30T00:00:00\",\"2018-08-06T00:00:00\",\"2018-08-13T00:00:00\",\"2018-08-20T00:00:00\",\"2018-08-27T00:00:00\",\"2018-09-03T00:00:00\",\"2018-09-10T00:00:00\",\"2018-09-17T00:00:00\",\"2018-09-24T00:00:00\",\"2018-10-01T00:00:00\",\"2018-10-08T00:00:00\",\"2018-10-15T00:00:00\",\"2018-10-22T00:00:00\",\"2018-10-29T00:00:00\",\"2018-11-05T00:00:00\",\"2018-11-12T00:00:00\",\"2018-11-19T00:00:00\",\"2018-11-26T00:00:00\",\"2018-12-03T00:00:00\",\"2018-12-10T00:00:00\",\"2018-12-17T00:00:00\",\"2018-12-24T00:00:00\",\"2018-12-31T00:00:00\",\"2019-01-07T00:00:00\",\"2019-01-14T00:00:00\",\"2019-01-21T00:00:00\",\"2019-01-28T00:00:00\",\"2019-02-04T00:00:00\",\"2019-02-11T00:00:00\",\"2019-02-18T00:00:00\",\"2019-02-25T00:00:00\",\"2019-03-04T00:00:00\",\"2019-03-11T00:00:00\",\"2019-03-18T00:00:00\",\"2019-03-25T00:00:00\",\"2019-04-01T00:00:00\",\"2019-04-08T00:00:00\",\"2019-04-15T00:00:00\",\"2019-04-22T00:00:00\",\"2019-04-29T00:00:00\",\"2019-05-06T00:00:00\",\"2019-05-13T00:00:00\",\"2019-05-20T00:00:00\",\"2019-05-27T00:00:00\",\"2019-06-03T00:00:00\",\"2019-06-10T00:00:00\",\"2019-06-17T00:00:00\",\"2019-06-24T00:00:00\",\"2019-07-01T00:00:00\",\"2019-07-08T00:00:00\",\"2019-07-15T00:00:00\",\"2019-07-22T00:00:00\",\"2019-07-29T00:00:00\",\"2019-08-05T00:00:00\",\"2019-08-12T00:00:00\",\"2019-08-19T00:00:00\",\"2019-08-26T00:00:00\",\"2019-09-02T00:00:00\",\"2019-09-09T00:00:00\",\"2019-09-16T00:00:00\",\"2019-09-23T00:00:00\",\"2019-09-30T00:00:00\",\"2019-10-07T00:00:00\",\"2019-10-14T00:00:00\",\"2019-10-21T00:00:00\",\"2019-10-28T00:00:00\",\"2019-11-04T00:00:00\",\"2019-11-11T00:00:00\",\"2019-11-18T00:00:00\",\"2019-11-25T00:00:00\",\"2019-12-02T00:00:00\",\"2019-12-09T00:00:00\",\"2019-12-16T00:00:00\",\"2019-12-23T00:00:00\",\"2019-12-30T00:00:00\",\"2020-01-06T00:00:00\",\"2020-01-13T00:00:00\",\"2020-01-20T00:00:00\",\"2020-01-27T00:00:00\",\"2020-02-03T00:00:00\",\"2020-02-10T00:00:00\",\"2020-02-17T00:00:00\",\"2020-02-24T00:00:00\",\"2020-03-02T00:00:00\",\"2020-03-09T00:00:00\",\"2020-03-16T00:00:00\",\"2020-03-23T00:00:00\",\"2020-03-30T00:00:00\",\"2020-04-06T00:00:00\",\"2020-04-13T00:00:00\",\"2020-04-20T00:00:00\",\"2020-04-27T00:00:00\",\"2020-05-04T00:00:00\",\"2020-05-11T00:00:00\",\"2020-05-18T00:00:00\",\"2020-05-25T00:00:00\",\"2020-06-01T00:00:00\",\"2020-06-08T00:00:00\",\"2020-06-15T00:00:00\",\"2020-06-22T00:00:00\",\"2020-06-29T00:00:00\",\"2020-07-06T00:00:00\",\"2020-07-13T00:00:00\",\"2020-07-20T00:00:00\",\"2020-07-27T00:00:00\",\"2020-08-03T00:00:00\",\"2020-08-10T00:00:00\",\"2020-08-17T00:00:00\",\"2020-08-24T00:00:00\",\"2020-08-31T00:00:00\",\"2020-09-07T00:00:00\",\"2020-09-14T00:00:00\",\"2020-09-21T00:00:00\",\"2020-09-28T00:00:00\",\"2020-10-05T00:00:00\",\"2020-10-12T00:00:00\",\"2020-10-19T00:00:00\",\"2020-10-26T00:00:00\",\"2020-11-02T00:00:00\",\"2020-11-09T00:00:00\",\"2020-11-16T00:00:00\",\"2020-11-23T00:00:00\",\"2020-11-30T00:00:00\",\"2020-12-07T00:00:00\",\"2020-12-14T00:00:00\",\"2020-12-21T00:00:00\",\"2020-12-28T00:00:00\",\"2021-01-04T00:00:00\",\"2021-01-11T00:00:00\",\"2021-01-18T00:00:00\",\"2021-01-25T00:00:00\",\"2021-02-01T00:00:00\",\"2021-02-08T00:00:00\",\"2021-02-15T00:00:00\",\"2021-02-22T00:00:00\",\"2021-03-01T00:00:00\",\"2021-03-08T00:00:00\",\"2021-03-15T00:00:00\",\"2021-03-22T00:00:00\",\"2021-03-29T00:00:00\",\"2021-04-05T00:00:00\",\"2021-04-12T00:00:00\",\"2021-04-19T00:00:00\",\"2021-04-26T00:00:00\",\"2021-05-03T00:00:00\",\"2021-05-10T00:00:00\",\"2021-05-17T00:00:00\",\"2021-05-24T00:00:00\",\"2021-05-31T00:00:00\",\"2021-06-07T00:00:00\",\"2021-06-14T00:00:00\",\"2021-06-21T00:00:00\",\"2021-06-28T00:00:00\",\"2021-07-05T00:00:00\",\"2021-07-12T00:00:00\",\"2021-07-19T00:00:00\",\"2021-07-26T00:00:00\",\"2021-08-02T00:00:00\",\"2021-08-09T00:00:00\",\"2021-08-16T00:00:00\",\"2021-08-23T00:00:00\",\"2021-08-30T00:00:00\",\"2021-09-06T00:00:00\",\"2021-09-13T00:00:00\",\"2021-09-20T00:00:00\",\"2021-09-27T00:00:00\",\"2021-10-04T00:00:00\",\"2021-10-11T00:00:00\",\"2021-10-18T00:00:00\",\"2021-10-25T00:00:00\",\"2021-11-01T00:00:00\",\"2021-11-08T00:00:00\",\"2021-11-15T00:00:00\",\"2021-11-22T00:00:00\",\"2021-11-29T00:00:00\",\"2021-12-06T00:00:00\",\"2021-12-13T00:00:00\",\"2021-12-20T00:00:00\",\"2021-12-27T00:00:00\",\"2022-01-03T00:00:00\",\"2022-01-10T00:00:00\",\"2022-01-17T00:00:00\",\"2022-01-24T00:00:00\",\"2022-01-31T00:00:00\",\"2022-02-07T00:00:00\"],\"xaxis\":\"x\",\"y\":[52.93,53.4,54.05,53.2,48.4,48.22,47.73,50.24,53.08,52.65,49.23,48.84,46.43,48.85,51.13,49.8,47.4,46.08,44.2,43.38,47.07,44.4,46.02,46.34,50.17,49.39,47.59,47.37,46.57,47.29,48.07,49.91,52.22,50.58,49.58,51.87,51.9,54.15,57.35,56.76,56.42,58.11,57.47,57.99,57.16,58.47,60.42,61.73,64.3,63.57,65.56,64.15,59.29,61.68,63.91,62.57,61.36,62.06,65.55,63.01,63.42,66.22,68.64,68.57,70.73,70.96,72.24,67.88,64.75,66.1,65.85,68.08,73.94,73.85,68.06,67.89,70.13,69.01,67.2,66.43,68.87,69.8,67.54,68.91,72.08,75.3,74.29,71.78,69.36,67.04,63.1,59.93,57.2,51.63,52.95,51.0,49.88,42.53,45.41,48.52,50.51,53.8,51.99,54.56,52.41,55.59,55.48,56.59,56.79,59.09,58.82,61.59,64.4,63.4,65.7,63.5,62.25,61.04,63.1,58.63,53.25,53.26,51.93,57.9,59.09,57.66,59.58,56.22,56.87,54.69,54.93,56.21,53.64,55.1,57.85,62.9,58.64,54.07,52.75,53.59,53.31,55.81,56.54,56.86,57.05,58.01,55.96,59.02,60.21,60.52,61.68,63.27,58.08,58.54,53.14,50.11,49.57,52.05,51.43,46.75,31.13,28.7,23.36,20.09,26.08,22.41,-37.63,12.78,20.39,24.14,31.82,33.25,35.44,38.19,37.12,40.46,39.7,40.63,40.1,40.81,41.6,41.01,41.94,42.89,42.62,42.61,39.77,37.26,39.31,40.6,39.22,39.43,40.83,38.56,36.81,40.29,41.34,43.06,45.34,45.76,46.99,47.74,47.62,47.62,52.25,52.36,52.77,53.55,57.97,59.47,61.49,60.64,65.05,65.39,61.55,61.56,58.65,59.7,63.38,61.91,64.49,64.92,66.27,66.05,66.32,69.23,70.88,73.66,72.91,75.16,74.1,66.42,71.91,71.26,66.48,67.29,65.64,69.21,69.29,70.45,70.29,75.45,77.62,80.52,82.44,83.76,84.05,81.93,80.88,76.75,69.95,69.49,71.29,68.23,75.57,76.08,78.23,83.82,83.31,88.15,91.32,89.66],\"yaxis\":\"y\",\"type\":\"scatter\"},{\"hovertemplate\":\"variable=\\ube0c\\ub79c\\ud2b8\\uc720\\uc885\\uac00<br>\\ub0a0\\uc9dc=%{x}<br>value=%{y}<extra></extra>\",\"legendgroup\":\"\\ube0c\\ub79c\\ud2b8\\uc720\\uc885\\uac00\",\"line\":{\"color\":\"#00cc96\",\"dash\":\"solid\"},\"marker\":{\"symbol\":\"circle\"},\"mode\":\"lines\",\"name\":\"\\ube0c\\ub79c\\ud2b8\\uc720\\uc885\\uac00\",\"orientation\":\"v\",\"showlegend\":true,\"x\":[\"2017-02-06T00:00:00\",\"2017-02-13T00:00:00\",\"2017-02-20T00:00:00\",\"2017-02-27T00:00:00\",\"2017-03-06T00:00:00\",\"2017-03-13T00:00:00\",\"2017-03-20T00:00:00\",\"2017-03-27T00:00:00\",\"2017-04-03T00:00:00\",\"2017-04-10T00:00:00\",\"2017-04-17T00:00:00\",\"2017-04-24T00:00:00\",\"2017-05-01T00:00:00\",\"2017-05-08T00:00:00\",\"2017-05-15T00:00:00\",\"2017-05-22T00:00:00\",\"2017-05-29T00:00:00\",\"2017-06-05T00:00:00\",\"2017-06-12T00:00:00\",\"2017-06-19T00:00:00\",\"2017-06-26T00:00:00\",\"2017-07-03T00:00:00\",\"2017-07-10T00:00:00\",\"2017-07-17T00:00:00\",\"2017-07-24T00:00:00\",\"2017-07-31T00:00:00\",\"2017-08-07T00:00:00\",\"2017-08-14T00:00:00\",\"2017-08-21T00:00:00\",\"2017-08-28T00:00:00\",\"2017-09-04T00:00:00\",\"2017-09-11T00:00:00\",\"2017-09-18T00:00:00\",\"2017-09-25T00:00:00\",\"2017-10-02T00:00:00\",\"2017-10-09T00:00:00\",\"2017-10-16T00:00:00\",\"2017-10-23T00:00:00\",\"2017-10-30T00:00:00\",\"2017-11-06T00:00:00\",\"2017-11-13T00:00:00\",\"2017-11-20T00:00:00\",\"2017-11-27T00:00:00\",\"2017-12-04T00:00:00\",\"2017-12-11T00:00:00\",\"2017-12-18T00:00:00\",\"2017-12-25T00:00:00\",\"2018-01-01T00:00:00\",\"2018-01-08T00:00:00\",\"2018-01-15T00:00:00\",\"2018-01-22T00:00:00\",\"2018-01-29T00:00:00\",\"2018-02-05T00:00:00\",\"2018-02-12T00:00:00\",\"2018-02-19T00:00:00\",\"2018-02-26T00:00:00\",\"2018-03-05T00:00:00\",\"2018-03-12T00:00:00\",\"2018-03-19T00:00:00\",\"2018-03-26T00:00:00\",\"2018-04-02T00:00:00\",\"2018-04-09T00:00:00\",\"2018-04-16T00:00:00\",\"2018-04-23T00:00:00\",\"2018-04-30T00:00:00\",\"2018-05-07T00:00:00\",\"2018-05-14T00:00:00\",\"2018-05-21T00:00:00\",\"2018-05-28T00:00:00\",\"2018-06-04T00:00:00\",\"2018-06-11T00:00:00\",\"2018-06-18T00:00:00\",\"2018-06-25T00:00:00\",\"2018-07-02T00:00:00\",\"2018-07-09T00:00:00\",\"2018-07-16T00:00:00\",\"2018-07-23T00:00:00\",\"2018-07-30T00:00:00\",\"2018-08-06T00:00:00\",\"2018-08-13T00:00:00\",\"2018-08-20T00:00:00\",\"2018-08-27T00:00:00\",\"2018-09-03T00:00:00\",\"2018-09-10T00:00:00\",\"2018-09-17T00:00:00\",\"2018-09-24T00:00:00\",\"2018-10-01T00:00:00\",\"2018-10-08T00:00:00\",\"2018-10-15T00:00:00\",\"2018-10-22T00:00:00\",\"2018-10-29T00:00:00\",\"2018-11-05T00:00:00\",\"2018-11-12T00:00:00\",\"2018-11-19T00:00:00\",\"2018-11-26T00:00:00\",\"2018-12-03T00:00:00\",\"2018-12-10T00:00:00\",\"2018-12-17T00:00:00\",\"2018-12-24T00:00:00\",\"2018-12-31T00:00:00\",\"2019-01-07T00:00:00\",\"2019-01-14T00:00:00\",\"2019-01-21T00:00:00\",\"2019-01-28T00:00:00\",\"2019-02-04T00:00:00\",\"2019-02-11T00:00:00\",\"2019-02-18T00:00:00\",\"2019-02-25T00:00:00\",\"2019-03-04T00:00:00\",\"2019-03-11T00:00:00\",\"2019-03-18T00:00:00\",\"2019-03-25T00:00:00\",\"2019-04-01T00:00:00\",\"2019-04-08T00:00:00\",\"2019-04-15T00:00:00\",\"2019-04-22T00:00:00\",\"2019-04-29T00:00:00\",\"2019-05-06T00:00:00\",\"2019-05-13T00:00:00\",\"2019-05-20T00:00:00\",\"2019-05-27T00:00:00\",\"2019-06-03T00:00:00\",\"2019-06-10T00:00:00\",\"2019-06-17T00:00:00\",\"2019-06-24T00:00:00\",\"2019-07-01T00:00:00\",\"2019-07-08T00:00:00\",\"2019-07-15T00:00:00\",\"2019-07-22T00:00:00\",\"2019-07-29T00:00:00\",\"2019-08-05T00:00:00\",\"2019-08-12T00:00:00\",\"2019-08-19T00:00:00\",\"2019-08-26T00:00:00\",\"2019-09-02T00:00:00\",\"2019-09-09T00:00:00\",\"2019-09-16T00:00:00\",\"2019-09-23T00:00:00\",\"2019-09-30T00:00:00\",\"2019-10-07T00:00:00\",\"2019-10-14T00:00:00\",\"2019-10-21T00:00:00\",\"2019-10-28T00:00:00\",\"2019-11-04T00:00:00\",\"2019-11-11T00:00:00\",\"2019-11-18T00:00:00\",\"2019-11-25T00:00:00\",\"2019-12-02T00:00:00\",\"2019-12-09T00:00:00\",\"2019-12-16T00:00:00\",\"2019-12-23T00:00:00\",\"2019-12-30T00:00:00\",\"2020-01-06T00:00:00\",\"2020-01-13T00:00:00\",\"2020-01-20T00:00:00\",\"2020-01-27T00:00:00\",\"2020-02-03T00:00:00\",\"2020-02-10T00:00:00\",\"2020-02-17T00:00:00\",\"2020-02-24T00:00:00\",\"2020-03-02T00:00:00\",\"2020-03-09T00:00:00\",\"2020-03-16T00:00:00\",\"2020-03-23T00:00:00\",\"2020-03-30T00:00:00\",\"2020-04-06T00:00:00\",\"2020-04-13T00:00:00\",\"2020-04-20T00:00:00\",\"2020-04-27T00:00:00\",\"2020-05-04T00:00:00\",\"2020-05-11T00:00:00\",\"2020-05-18T00:00:00\",\"2020-05-25T00:00:00\",\"2020-06-01T00:00:00\",\"2020-06-08T00:00:00\",\"2020-06-15T00:00:00\",\"2020-06-22T00:00:00\",\"2020-06-29T00:00:00\",\"2020-07-06T00:00:00\",\"2020-07-13T00:00:00\",\"2020-07-20T00:00:00\",\"2020-07-27T00:00:00\",\"2020-08-03T00:00:00\",\"2020-08-10T00:00:00\",\"2020-08-17T00:00:00\",\"2020-08-24T00:00:00\",\"2020-08-31T00:00:00\",\"2020-09-07T00:00:00\",\"2020-09-14T00:00:00\",\"2020-09-21T00:00:00\",\"2020-09-28T00:00:00\",\"2020-10-05T00:00:00\",\"2020-10-12T00:00:00\",\"2020-10-19T00:00:00\",\"2020-10-26T00:00:00\",\"2020-11-02T00:00:00\",\"2020-11-09T00:00:00\",\"2020-11-16T00:00:00\",\"2020-11-23T00:00:00\",\"2020-11-30T00:00:00\",\"2020-12-07T00:00:00\",\"2020-12-14T00:00:00\",\"2020-12-21T00:00:00\",\"2020-12-28T00:00:00\",\"2021-01-04T00:00:00\",\"2021-01-11T00:00:00\",\"2021-01-18T00:00:00\",\"2021-01-25T00:00:00\",\"2021-02-01T00:00:00\",\"2021-02-08T00:00:00\",\"2021-02-15T00:00:00\",\"2021-02-22T00:00:00\",\"2021-03-01T00:00:00\",\"2021-03-08T00:00:00\",\"2021-03-15T00:00:00\",\"2021-03-22T00:00:00\",\"2021-03-29T00:00:00\",\"2021-04-05T00:00:00\",\"2021-04-12T00:00:00\",\"2021-04-19T00:00:00\",\"2021-04-26T00:00:00\",\"2021-05-03T00:00:00\",\"2021-05-10T00:00:00\",\"2021-05-17T00:00:00\",\"2021-05-24T00:00:00\",\"2021-05-31T00:00:00\",\"2021-06-07T00:00:00\",\"2021-06-14T00:00:00\",\"2021-06-21T00:00:00\",\"2021-06-28T00:00:00\",\"2021-07-05T00:00:00\",\"2021-07-12T00:00:00\",\"2021-07-19T00:00:00\",\"2021-07-26T00:00:00\",\"2021-08-02T00:00:00\",\"2021-08-09T00:00:00\",\"2021-08-16T00:00:00\",\"2021-08-23T00:00:00\",\"2021-08-30T00:00:00\",\"2021-09-06T00:00:00\",\"2021-09-13T00:00:00\",\"2021-09-20T00:00:00\",\"2021-09-27T00:00:00\",\"2021-10-04T00:00:00\",\"2021-10-11T00:00:00\",\"2021-10-18T00:00:00\",\"2021-10-25T00:00:00\",\"2021-11-01T00:00:00\",\"2021-11-08T00:00:00\",\"2021-11-15T00:00:00\",\"2021-11-22T00:00:00\",\"2021-11-29T00:00:00\",\"2021-12-06T00:00:00\",\"2021-12-13T00:00:00\",\"2021-12-20T00:00:00\",\"2021-12-27T00:00:00\",\"2022-01-03T00:00:00\",\"2022-01-10T00:00:00\",\"2022-01-17T00:00:00\",\"2022-01-24T00:00:00\",\"2022-01-31T00:00:00\",\"2022-02-07T00:00:00\"],\"xaxis\":\"x\",\"y\":[55.59,56.18,55.93,56.01,51.35,51.62,50.75,53.12,55.98,55.36,51.6,51.52,49.34,51.82,53.87,52.29,49.47,48.29,46.91,45.83,49.68,46.88,48.42,48.6,52.72,52.37,50.73,51.66,51.89,52.34,53.84,55.48,59.02,56.12,55.79,57.82,57.37,60.9,64.27,63.16,62.22,63.84,62.45,64.69,63.41,65.25,66.87,67.78,70.26,69.03,69.46,67.62,62.59,65.67,67.5,65.54,64.95,66.05,70.12,67.64,68.65,71.42,74.71,74.69,76.17,78.23,79.22,75.3,75.29,76.46,75.34,74.73,77.3,78.07,71.84,73.06,74.97,73.75,72.61,72.21,76.21,78.15,77.37,78.05,81.2,84.98,83.91,80.78,79.83,77.34,73.17,70.12,66.79,60.48,61.69,59.97,59.61,50.47,53.8,57.33,58.99,62.74,59.93,62.51,61.51,66.5,64.76,65.67,66.58,67.54,67.21,69.01,71.1,71.18,74.04,72.04,71.24,70.23,71.97,70.11,61.28,62.29,60.94,64.86,65.06,64.11,66.48,63.26,63.71,59.81,58.57,59.74,58.7,58.66,62.59,69.02,64.77,60.78,58.35,59.35,58.96,61.57,62.13,62.18,62.44,63.65,60.92,64.25,65.34,66.39,68.44,68.91,64.2,65.2,59.32,54.45,53.27,57.67,56.3,51.9,34.36,30.05,27.03,22.76,33.05,31.74,25.57,19.99,27.2,29.63,34.81,35.53,38.32,40.8,39.72,43.08,41.71,43.1,42.72,43.28,43.41,44.15,44.99,45.37,45.13,45.28,42.01,39.61,41.44,42.43,41.29,41.72,42.62,40.46,38.97,42.4,43.82,46.06,47.59,48.79,50.29,50.91,50.86,51.09,55.66,54.75,55.88,56.35,60.56,63.3,65.24,63.69,68.24,68.88,64.62,64.98,62.15,63.28,67.05,65.65,67.56,68.32,69.46,68.46,69.32,71.49,72.86,74.9,74.68,77.16,75.16,68.62,74.5,72.89,69.04,69.51,68.75,73.41,72.22,73.51,73.92,79.53,81.26,83.65,84.33,85.99,84.71,83.43,82.05,79.7,73.44,73.08,74.39,71.52,78.6,78.98,80.87,86.48,86.27,91.21,92.69,91.55],\"yaxis\":\"y\",\"type\":\"scatter\"}],                        {\"template\":{\"data\":{\"bar\":[{\"error_x\":{\"color\":\"#2a3f5f\"},\"error_y\":{\"color\":\"#2a3f5f\"},\"marker\":{\"line\":{\"color\":\"#E5ECF6\",\"width\":0.5},\"pattern\":{\"fillmode\":\"overlay\",\"size\":10,\"solidity\":0.2}},\"type\":\"bar\"}],\"barpolar\":[{\"marker\":{\"line\":{\"color\":\"#E5ECF6\",\"width\":0.5},\"pattern\":{\"fillmode\":\"overlay\",\"size\":10,\"solidity\":0.2}},\"type\":\"barpolar\"}],\"carpet\":[{\"aaxis\":{\"endlinecolor\":\"#2a3f5f\",\"gridcolor\":\"white\",\"linecolor\":\"white\",\"minorgridcolor\":\"white\",\"startlinecolor\":\"#2a3f5f\"},\"baxis\":{\"endlinecolor\":\"#2a3f5f\",\"gridcolor\":\"white\",\"linecolor\":\"white\",\"minorgridcolor\":\"white\",\"startlinecolor\":\"#2a3f5f\"},\"type\":\"carpet\"}],\"choropleth\":[{\"colorbar\":{\"outlinewidth\":0,\"ticks\":\"\"},\"type\":\"choropleth\"}],\"contour\":[{\"colorbar\":{\"outlinewidth\":0,\"ticks\":\"\"},\"colorscale\":[[0.0,\"#0d0887\"],[0.1111111111111111,\"#46039f\"],[0.2222222222222222,\"#7201a8\"],[0.3333333333333333,\"#9c179e\"],[0.4444444444444444,\"#bd3786\"],[0.5555555555555556,\"#d8576b\"],[0.6666666666666666,\"#ed7953\"],[0.7777777777777778,\"#fb9f3a\"],[0.8888888888888888,\"#fdca26\"],[1.0,\"#f0f921\"]],\"type\":\"contour\"}],\"contourcarpet\":[{\"colorbar\":{\"outlinewidth\":0,\"ticks\":\"\"},\"type\":\"contourcarpet\"}],\"heatmap\":[{\"colorbar\":{\"outlinewidth\":0,\"ticks\":\"\"},\"colorscale\":[[0.0,\"#0d0887\"],[0.1111111111111111,\"#46039f\"],[0.2222222222222222,\"#7201a8\"],[0.3333333333333333,\"#9c179e\"],[0.4444444444444444,\"#bd3786\"],[0.5555555555555556,\"#d8576b\"],[0.6666666666666666,\"#ed7953\"],[0.7777777777777778,\"#fb9f3a\"],[0.8888888888888888,\"#fdca26\"],[1.0,\"#f0f921\"]],\"type\":\"heatmap\"}],\"heatmapgl\":[{\"colorbar\":{\"outlinewidth\":0,\"ticks\":\"\"},\"colorscale\":[[0.0,\"#0d0887\"],[0.1111111111111111,\"#46039f\"],[0.2222222222222222,\"#7201a8\"],[0.3333333333333333,\"#9c179e\"],[0.4444444444444444,\"#bd3786\"],[0.5555555555555556,\"#d8576b\"],[0.6666666666666666,\"#ed7953\"],[0.7777777777777778,\"#fb9f3a\"],[0.8888888888888888,\"#fdca26\"],[1.0,\"#f0f921\"]],\"type\":\"heatmapgl\"}],\"histogram\":[{\"marker\":{\"pattern\":{\"fillmode\":\"overlay\",\"size\":10,\"solidity\":0.2}},\"type\":\"histogram\"}],\"histogram2d\":[{\"colorbar\":{\"outlinewidth\":0,\"ticks\":\"\"},\"colorscale\":[[0.0,\"#0d0887\"],[0.1111111111111111,\"#46039f\"],[0.2222222222222222,\"#7201a8\"],[0.3333333333333333,\"#9c179e\"],[0.4444444444444444,\"#bd3786\"],[0.5555555555555556,\"#d8576b\"],[0.6666666666666666,\"#ed7953\"],[0.7777777777777778,\"#fb9f3a\"],[0.8888888888888888,\"#fdca26\"],[1.0,\"#f0f921\"]],\"type\":\"histogram2d\"}],\"histogram2dcontour\":[{\"colorbar\":{\"outlinewidth\":0,\"ticks\":\"\"},\"colorscale\":[[0.0,\"#0d0887\"],[0.1111111111111111,\"#46039f\"],[0.2222222222222222,\"#7201a8\"],[0.3333333333333333,\"#9c179e\"],[0.4444444444444444,\"#bd3786\"],[0.5555555555555556,\"#d8576b\"],[0.6666666666666666,\"#ed7953\"],[0.7777777777777778,\"#fb9f3a\"],[0.8888888888888888,\"#fdca26\"],[1.0,\"#f0f921\"]],\"type\":\"histogram2dcontour\"}],\"mesh3d\":[{\"colorbar\":{\"outlinewidth\":0,\"ticks\":\"\"},\"type\":\"mesh3d\"}],\"parcoords\":[{\"line\":{\"colorbar\":{\"outlinewidth\":0,\"ticks\":\"\"}},\"type\":\"parcoords\"}],\"pie\":[{\"automargin\":true,\"type\":\"pie\"}],\"scatter\":[{\"marker\":{\"colorbar\":{\"outlinewidth\":0,\"ticks\":\"\"}},\"type\":\"scatter\"}],\"scatter3d\":[{\"line\":{\"colorbar\":{\"outlinewidth\":0,\"ticks\":\"\"}},\"marker\":{\"colorbar\":{\"outlinewidth\":0,\"ticks\":\"\"}},\"type\":\"scatter3d\"}],\"scattercarpet\":[{\"marker\":{\"colorbar\":{\"outlinewidth\":0,\"ticks\":\"\"}},\"type\":\"scattercarpet\"}],\"scattergeo\":[{\"marker\":{\"colorbar\":{\"outlinewidth\":0,\"ticks\":\"\"}},\"type\":\"scattergeo\"}],\"scattergl\":[{\"marker\":{\"colorbar\":{\"outlinewidth\":0,\"ticks\":\"\"}},\"type\":\"scattergl\"}],\"scattermapbox\":[{\"marker\":{\"colorbar\":{\"outlinewidth\":0,\"ticks\":\"\"}},\"type\":\"scattermapbox\"}],\"scatterpolar\":[{\"marker\":{\"colorbar\":{\"outlinewidth\":0,\"ticks\":\"\"}},\"type\":\"scatterpolar\"}],\"scatterpolargl\":[{\"marker\":{\"colorbar\":{\"outlinewidth\":0,\"ticks\":\"\"}},\"type\":\"scatterpolargl\"}],\"scatterternary\":[{\"marker\":{\"colorbar\":{\"outlinewidth\":0,\"ticks\":\"\"}},\"type\":\"scatterternary\"}],\"surface\":[{\"colorbar\":{\"outlinewidth\":0,\"ticks\":\"\"},\"colorscale\":[[0.0,\"#0d0887\"],[0.1111111111111111,\"#46039f\"],[0.2222222222222222,\"#7201a8\"],[0.3333333333333333,\"#9c179e\"],[0.4444444444444444,\"#bd3786\"],[0.5555555555555556,\"#d8576b\"],[0.6666666666666666,\"#ed7953\"],[0.7777777777777778,\"#fb9f3a\"],[0.8888888888888888,\"#fdca26\"],[1.0,\"#f0f921\"]],\"type\":\"surface\"}],\"table\":[{\"cells\":{\"fill\":{\"color\":\"#EBF0F8\"},\"line\":{\"color\":\"white\"}},\"header\":{\"fill\":{\"color\":\"#C8D4E3\"},\"line\":{\"color\":\"white\"}},\"type\":\"table\"}]},\"layout\":{\"annotationdefaults\":{\"arrowcolor\":\"#2a3f5f\",\"arrowhead\":0,\"arrowwidth\":1},\"autotypenumbers\":\"strict\",\"coloraxis\":{\"colorbar\":{\"outlinewidth\":0,\"ticks\":\"\"}},\"colorscale\":{\"diverging\":[[0,\"#8e0152\"],[0.1,\"#c51b7d\"],[0.2,\"#de77ae\"],[0.3,\"#f1b6da\"],[0.4,\"#fde0ef\"],[0.5,\"#f7f7f7\"],[0.6,\"#e6f5d0\"],[0.7,\"#b8e186\"],[0.8,\"#7fbc41\"],[0.9,\"#4d9221\"],[1,\"#276419\"]],\"sequential\":[[0.0,\"#0d0887\"],[0.1111111111111111,\"#46039f\"],[0.2222222222222222,\"#7201a8\"],[0.3333333333333333,\"#9c179e\"],[0.4444444444444444,\"#bd3786\"],[0.5555555555555556,\"#d8576b\"],[0.6666666666666666,\"#ed7953\"],[0.7777777777777778,\"#fb9f3a\"],[0.8888888888888888,\"#fdca26\"],[1.0,\"#f0f921\"]],\"sequentialminus\":[[0.0,\"#0d0887\"],[0.1111111111111111,\"#46039f\"],[0.2222222222222222,\"#7201a8\"],[0.3333333333333333,\"#9c179e\"],[0.4444444444444444,\"#bd3786\"],[0.5555555555555556,\"#d8576b\"],[0.6666666666666666,\"#ed7953\"],[0.7777777777777778,\"#fb9f3a\"],[0.8888888888888888,\"#fdca26\"],[1.0,\"#f0f921\"]]},\"colorway\":[\"#636efa\",\"#EF553B\",\"#00cc96\",\"#ab63fa\",\"#FFA15A\",\"#19d3f3\",\"#FF6692\",\"#B6E880\",\"#FF97FF\",\"#FECB52\"],\"font\":{\"color\":\"#2a3f5f\"},\"geo\":{\"bgcolor\":\"white\",\"lakecolor\":\"white\",\"landcolor\":\"#E5ECF6\",\"showlakes\":true,\"showland\":true,\"subunitcolor\":\"white\"},\"hoverlabel\":{\"align\":\"left\"},\"hovermode\":\"closest\",\"mapbox\":{\"style\":\"light\"},\"paper_bgcolor\":\"white\",\"plot_bgcolor\":\"#E5ECF6\",\"polar\":{\"angularaxis\":{\"gridcolor\":\"white\",\"linecolor\":\"white\",\"ticks\":\"\"},\"bgcolor\":\"#E5ECF6\",\"radialaxis\":{\"gridcolor\":\"white\",\"linecolor\":\"white\",\"ticks\":\"\"}},\"scene\":{\"xaxis\":{\"backgroundcolor\":\"#E5ECF6\",\"gridcolor\":\"white\",\"gridwidth\":2,\"linecolor\":\"white\",\"showbackground\":true,\"ticks\":\"\",\"zerolinecolor\":\"white\"},\"yaxis\":{\"backgroundcolor\":\"#E5ECF6\",\"gridcolor\":\"white\",\"gridwidth\":2,\"linecolor\":\"white\",\"showbackground\":true,\"ticks\":\"\",\"zerolinecolor\":\"white\"},\"zaxis\":{\"backgroundcolor\":\"#E5ECF6\",\"gridcolor\":\"white\",\"gridwidth\":2,\"linecolor\":\"white\",\"showbackground\":true,\"ticks\":\"\",\"zerolinecolor\":\"white\"}},\"shapedefaults\":{\"line\":{\"color\":\"#2a3f5f\"}},\"ternary\":{\"aaxis\":{\"gridcolor\":\"white\",\"linecolor\":\"white\",\"ticks\":\"\"},\"baxis\":{\"gridcolor\":\"white\",\"linecolor\":\"white\",\"ticks\":\"\"},\"bgcolor\":\"#E5ECF6\",\"caxis\":{\"gridcolor\":\"white\",\"linecolor\":\"white\",\"ticks\":\"\"}},\"title\":{\"x\":0.05},\"xaxis\":{\"automargin\":true,\"gridcolor\":\"white\",\"linecolor\":\"white\",\"ticks\":\"\",\"title\":{\"standoff\":15},\"zerolinecolor\":\"white\",\"zerolinewidth\":2},\"yaxis\":{\"automargin\":true,\"gridcolor\":\"white\",\"linecolor\":\"white\",\"ticks\":\"\",\"title\":{\"standoff\":15},\"zerolinecolor\":\"white\",\"zerolinewidth\":2}}},\"xaxis\":{\"anchor\":\"y\",\"domain\":[0.0,1.0],\"title\":{\"text\":\"\\ub0a0\\uc9dc\"}},\"yaxis\":{\"anchor\":\"x\",\"domain\":[0.0,1.0],\"title\":{\"text\":\"value\"}},\"legend\":{\"title\":{\"text\":\"variable\"},\"tracegroupgap\":0},\"margin\":{\"t\":60}},                        {\"responsive\": true}                    ).then(function(){\n",
       "                            \n",
       "var gd = document.getElementById('ddacf830-9b44-4581-a01a-1eab8647f005');\n",
       "var x = new MutationObserver(function (mutations, observer) {{\n",
       "        var display = window.getComputedStyle(gd).display;\n",
       "        if (!display || display === 'none') {{\n",
       "            console.log([gd, 'removed!']);\n",
       "            Plotly.purge(gd);\n",
       "            observer.disconnect();\n",
       "        }}\n",
       "}});\n",
       "\n",
       "// Listen for the removal of the full notebook cells\n",
       "var notebookContainer = gd.closest('#notebook-container');\n",
       "if (notebookContainer) {{\n",
       "    x.observe(notebookContainer, {childList: true});\n",
       "}}\n",
       "\n",
       "// Listen for the clearing of the current output cell\n",
       "var outputEl = gd.closest('.output');\n",
       "if (outputEl) {{\n",
       "    x.observe(outputEl, {childList: true});\n",
       "}}\n",
       "\n",
       "                        })                };                });            </script>        </div>"
      ]
     },
     "metadata": {},
     "output_type": "display_data"
    }
   ],
   "source": [
    "px.line(df_total, x='날짜', y= ['두바이유(선물)종가','wti종가','브랜트유종가'] )"
   ]
  },
  {
   "cell_type": "code",
   "execution_count": 50,
   "id": "035fa14c",
   "metadata": {},
   "outputs": [
    {
     "name": "stdout",
     "output_type": "stream",
     "text": [
      "            두바이유(선물)종가     wti종가    브랜트유종가\n",
      "두바이유(선물)종가    1.000000  0.937567  0.983912\n",
      "wti종가         0.937567  1.000000  0.951526\n",
      "브랜트유종가        0.983912  0.951526  1.000000\n"
     ]
    }
   ],
   "source": [
    "## 3개 유가간 상관관계\n",
    "corr_opec = df_total.corr()\n",
    "print(corr_opec)"
   ]
  }
 ],
 "metadata": {
  "kernelspec": {
   "display_name": "Python 3 (ipykernel)",
   "language": "python",
   "name": "python3"
  },
  "language_info": {
   "codemirror_mode": {
    "name": "ipython",
    "version": 3
   },
   "file_extension": ".py",
   "mimetype": "text/x-python",
   "name": "python",
   "nbconvert_exporter": "python",
   "pygments_lexer": "ipython3",
   "version": "3.9.7"
  }
 },
 "nbformat": 4,
 "nbformat_minor": 5
}
